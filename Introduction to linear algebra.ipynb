{
 "cells": [
  {
   "cell_type": "markdown",
   "id": "8f51640b-ece3-42b6-ae72-beaf214f46de",
   "metadata": {},
   "source": [
    "### Week 9: Day 3 - Introduction To Linear Algebra"
   ]
  },
  {
   "cell_type": "markdown",
   "id": "91ed621b-b9fd-4b66-a9b8-aa0b18e00063",
   "metadata": {},
   "source": [
    "#### Introduction to linear Algebra"
   ]
  },
  {
   "cell_type": "markdown",
   "id": "2da16860-5aa6-4ce7-b8e7-1ec9fd3bd784",
   "metadata": {},
   "source": [
    "##### Mathematics with Iliya Valchanov"
   ]
  },
  {
   "cell_type": "markdown",
   "id": "4a48052f-2145-4554-90c6-d87b9947ea8d",
   "metadata": {},
   "source": [
    "Linear algebra is the branch of mathematics concerning linear equations\n",
    "\n",
    "such as: In three-dimensional Euclidean \n",
    "\n",
    "space, these three planes represent ...\n",
    "\n",
    "Identity element of scalar \n",
    "\n",
    "multiplication: 1v = v, ...\n",
    "\n",
    "Identity element of addition: There \n",
    "\n",
    "exists an el...\n",
    "\n",
    "Inverse elements of addition: For every\n",
    "\n",
    "v in V, t...\n",
    "\n",
    "Commutativity of addition: u + v = v + \n",
    "\n",
    "u\n",
    "‎Linear equation · ‎Multilinear algebra \n",
    "\n",
    "· ‎Numerical linear · ‎Outline"
   ]
  },
  {
   "cell_type": "markdown",
   "id": "81dceabd-0e7a-43c3-be21-abcd6f129b33",
   "metadata": {},
   "source": [
    "Linear algebra is a branch of mathematics that deals with linear \n",
    "\n",
    "equations and their representations in the vector space using matrices."
   ]
  },
  {
   "cell_type": "markdown",
   "id": "9880fe2c-ee04-4692-982e-a6057f99854a",
   "metadata": {},
   "source": [
    "Our linear algebra journey starts with matrix.\n",
    "\n",
    "A matrix is a collection of numbers ordered in  rows and columns "
   ]
  },
  {
   "cell_type": "raw",
   "id": "494e6299-a5ac-4255-931c-54fe507dd49b",
   "metadata": {},
   "source": [
    "Here is one \n",
    "\n",
    "\n",
    "                     [5 12 6]\n",
    "           element=>[-3 0 14] "
   ]
  },
  {
   "cell_type": "markdown",
   "id": "7857ac98-52ac-477f-a5c0-0bd0ec13be2f",
   "metadata": {},
   "source": [
    "Each of these values is an element of the matrix.\n",
    "\n",
    "Our matrix have a total of 6 elements.\n",
    "\n",
    "We are dealing with  a matrix and we put all the elements in bracket.\n",
    "\n",
    "We normally dente a matrix with a capital letter"
   ]
  },
  {
   "cell_type": "raw",
   "id": "331c2aa4-f195-474c-84b3-cb87c6772dfe",
   "metadata": {},
   "source": [
    " A =    [5 12 6]\n",
    "        [-3 0 14] "
   ]
  },
  {
   "cell_type": "markdown",
   "id": "90de66af-3d36-4b78-b722-2755d74d4e48",
   "metadata": {},
   "source": [
    "Our matrix A has 2 rows (horizontal)\n",
    "\n",
    "columns (vertical),\n",
    "\n",
    "In linear Algebra , rows and columns \n",
    "\n",
    "are the two dimension of the matrix\n",
    "\n",
    ".A has 2 rows and 3 columns \n",
    "\n",
    "A \n",
    "\n",
    "2x3 \n",
    "\n",
    "Hence, we say its dimensions are 2 by3 \n",
    "\n",
    "or better A is a 2-by-3 matrix.\n",
    "\n",
    "Normally, we take note on that and put \n",
    "\n",
    "it below the letter A"
   ]
  },
  {
   "cell_type": "markdown",
   "id": "984c5b67-fc15-4842-a851-0a81e179b015",
   "metadata": {},
   "source": [
    "Matrices seem similar to tables and spreadsheets at first.\n",
    "\n",
    "However,the purpose of matrices is not simply to store values .\n",
    "\n",
    "Matrices are main characters in the mathematical operations."
   ]
  },
  {
   "cell_type": "markdown",
   "id": "0429eee2-4afc-4e18-b524-9a6b5399735e",
   "metadata": {},
   "source": [
    "Two matrices can be added\n",
    "\n",
    ". Addition\n",
    "\n",
    ". Subtracted\n",
    "\n",
    ". Multiplication\n",
    "\n",
    ". Divided"
   ]
  },
  {
   "cell_type": "markdown",
   "id": "c1c49efc-767b-4602-bfb9-324dcf005f7e",
   "metadata": {},
   "source": [
    "Hence,linear Algebra is similar to algebra in the type of operation they \n",
    "\n",
    "are but differs in how and when these \n",
    "\n",
    "operations are implemented and if they are permited at all."
   ]
  },
  {
   "cell_type": "markdown",
   "id": "83692eca-de93-4613-86aa-50ef4f443f2a",
   "metadata": {},
   "source": [
    "A matrix can only contain Numbers, symbols, or expressions.\n",
    "\n",
    "The idea is that the later two are nothing more than a generalized representation of numbers ."
   ]
  },
  {
   "cell_type": "markdown",
   "id": "3a1ad12d-eb78-4304-8938-e52d3ddc3e0e",
   "metadata": {},
   "source": [
    "For instance , the collection of these two symbols"
   ]
  },
  {
   "cell_type": "raw",
   "id": "6dac50ea-0145-4bd2-8afe-17754e169c86",
   "metadata": {},
   "source": [
    "B =   [ a  b  c]\n",
    "2x3   [  d  e   f]\n",
    "    "
   ]
  },
  {
   "cell_type": "markdown",
   "id": "c0776895-0eb2-445c-b036-03b3cbcdcc18",
   "metadata": {},
   "source": [
    "This shows a diferent 2 by 3 matrics.\n",
    "a b"
   ]
  },
  {
   "cell_type": "raw",
   "id": "b4d2e580-f0de-4916-a8d1-41f89510f8f8",
   "metadata": {},
   "source": [
    "Another example\n",
    "\n",
    "C  =     [ a-x b+5]\n",
    "2x2      [d+e   e ]"
   ]
  },
  {
   "cell_type": "markdown",
   "id": "7d5b904e-3049-4276-b77b-a8acff67b80b",
   "metadata": {},
   "source": [
    "C have 4 elements and s a 2x2  matrics but is contents are not values but expression."
   ]
  },
  {
   "cell_type": "markdown",
   "id": "621c20dd-69af-404b-bbcb-f3c1358d7941",
   "metadata": {},
   "source": [
    "What about the size of a matrix ?\n",
    "\n",
    "Matrix can be of any size and in a genaral cas we are talking about mxn matrix."
   ]
  },
  {
   "cell_type": "raw",
   "id": "fcea7522-1b2c-4daf-82a6-ba363f11b382",
   "metadata": {},
   "source": [
    "A = [       ]} m rows\n",
    "mxn  n columns"
   ]
  },
  {
   "cell_type": "markdown",
   "id": "829688c5-cff7-4ce0-ad93-9628c4319624",
   "metadata": {},
   "source": [
    "Sometimes we need to refernce a \n",
    "\n",
    "particular element of A\n",
    "\n",
    "The element A are denoted with a lower \n",
    "\n",
    "case a and two numbers indicating the \n",
    "\n",
    "respective element position in terms of row and column"
   ]
  },
  {
   "cell_type": "markdown",
   "id": "f2b7cdf3-d7da-435f-9a9e-7ac14f77973d",
   "metadata": {},
   "source": [
    "For instance aij is the element and position ij\n",
    "\n",
    "Where i is the respective row and j is the respective column"
   ]
  },
  {
   "cell_type": "raw",
   "id": "f3e2e28d-cfec-4f5b-ab9f-daf62223cce3",
   "metadata": {},
   "source": [
    "A = [   aij    ]} i-th rows\n",
    "mxn  j-th columns"
   ]
  },
  {
   "cell_type": "markdown",
   "id": "20393c0e-f4bc-4fee-95ac-63105361ecaa",
   "metadata": {},
   "source": [
    "Hence, if we want to fill in the \n",
    "\n",
    "matrics, it will start from \n",
    "\n",
    "a11 a12 a13 .... a1n to finish the \n",
    "\n",
    "first row.\n",
    "\n",
    "similarly we got,\n",
    "a11\n",
    "\n",
    "a21\n",
    "\n",
    "a31\n",
    "\n",
    ".\n",
    ".\n",
    ".\n",
    "am1\n",
    "\n",
    " To complete the first column\n",
    "\n",
    "the last element of the matrix is amn\n",
    "\n",
    "And the total number of elements is mxn"
   ]
  },
  {
   "cell_type": "raw",
   "id": "99a2cab5-548a-47a0-9b5d-d87aa7860b73",
   "metadata": {},
   "source": [
    "A=[ a11 a12 a13 . . , a1n    ] i=th row\n",
    "mxn[a21 a22 a23 ... a2n      ]\n",
    "   [a31\n",
    "   .\n",
    "   .\n",
    " [  .                           ]\n",
    " [am1    am2  am3 ... amn        ]\n",
    " \n",
    "          j-th column"
   ]
  },
  {
   "cell_type": "markdown",
   "id": "c86d3428-e556-4906-806e-401ac00ce5d7",
   "metadata": {},
   "source": [
    "In conclusion,in most programming language ,how be it not in all of them,\n",
    "\n",
    "Arrays starts from 0 rather than 1.\n",
    "\n",
    "In python for instance, arrays starts from 0.\n",
    "\n",
    "Hence ,keep that in mind when coding."
   ]
  },
  {
   "cell_type": "markdown",
   "id": "182f3e7b-214d-4a40-b048-b9f55c39803b",
   "metadata": {},
   "source": [
    "#### Scalars and Vectors"
   ]
  },
  {
   "cell_type": "markdown",
   "id": "5715bd55-15c4-4bf2-801b-5bba070b7a2d",
   "metadata": {},
   "source": [
    "A scalar is a matrix with one row and one column."
   ]
  },
  {
   "cell_type": "markdown",
   "id": "75c59bd1-c771-48b4-a5d4-34409714a70d",
   "metadata": {},
   "source": [
    "    \n",
    "   [a11]} 1 row\n",
    "   1 column"
   ]
  },
  {
   "cell_type": "markdown",
   "id": "fc32be89-1453-4390-8c8b-6652dff94de2",
   "metadata": {},
   "source": [
    "All numbers we know from algebra are referred to as scalers in linear algebra.\n",
    "\n",
    "the numbers below are scalers"
   ]
  },
  {
   "cell_type": "code",
   "execution_count": null,
   "id": "1d30f9e3-e78d-4fcd-9f77-f2721d1f043a",
   "metadata": {},
   "outputs": [],
   "source": [
    "[15]; [1]; [2]; [-5]; ...[n] etc"
   ]
  },
  {
   "cell_type": "markdown",
   "id": "3ec82d2a-b4af-4d40-8860-6e3da04ff00f",
   "metadata": {},
   "source": [
    "Since scalars are objects with no dimensions.\n",
    "\n",
    "They have important properties."
   ]
  },
  {
   "cell_type": "markdown",
   "id": "6dd9ae94-9261-4323-b216-b3a53acd2da7",
   "metadata": {},
   "source": [
    "Vectors"
   ]
  },
  {
   "cell_type": "markdown",
   "id": "e8170be2-aed7-4861-8aed-8fa5d03b1f85",
   "metadata": {},
   "source": [
    "They are also very common objects in linear algebra.\n",
    "\n",
    "They sit somewhere between scalars and matrices as they have one dimension"
   ]
  },
  {
   "cell_type": "markdown",
   "id": "998b186c-477d-41cb-921f-6ea7bf5290cc",
   "metadata": {},
   "source": [
    "Example od vector with 3 elements\n",
    "\n",
    "{5]\n",
    "[-2]}  3 rows\n",
    "[4]\n",
    "3x1 matrix\n",
    "vector"
   ]
  },
  {
   "cell_type": "markdown",
   "id": "c48db225-46b8-40f4-bf0d-c852904f185d",
   "metadata": {},
   "source": [
    "Notice that this vector is nothing more than 3 x 1 matrix.\n",
    "\n",
    "Its single dimension is the number of rows it has."
   ]
  },
  {
   "cell_type": "markdown",
   "id": "a6eee139-9e63-4682-8016-8b3afd79d1de",
   "metadata": {},
   "source": [
    "Since a scalar is basically a number ,\n",
    "\n",
    "A vector is practically the simplest linear algebraic object."
   ]
  },
  {
   "cell_type": "markdown",
   "id": "55bbabf0-615a-4d4b-b3d5-19a322f002e6",
   "metadata": {},
   "source": [
    "Due to the many application of vectors , they have a special name and are \n",
    "\n",
    "often examined as a seperate object "
   ]
  },
  {
   "cell_type": "markdown",
   "id": "f74cacfa-7f56-456b-82ab-5c760ed16202",
   "metadata": {},
   "source": [
    "Moreover, it is more more common to view a matrix as a collection of \n",
    "\n",
    "vectors rather than a vector as a  special case of a matrix"
   ]
  },
  {
   "cell_type": "markdown",
   "id": "2ed3733e-300a-4412-810b-0dbca0393200",
   "metadata": {},
   "source": [
    "Generally ,there are two types of vectors:\n",
    "\n",
    "Row vectors\n",
    "\n",
    "Column vectors"
   ]
  },
  {
   "cell_type": "markdown",
   "id": "be2d8c8a-fa94-44b9-9911-1e1a3973f79a",
   "metadata": {},
   "source": [
    "We just explored a row vector but we can have a column vector as follows\n",
    "\n",
    "[3 4 5 8]\n",
    " column vector"
   ]
  },
  {
   "cell_type": "markdown",
   "id": "e8ede6cd-6b68-4e9d-a343-5b2fccd7f90b",
   "metadata": {},
   "source": [
    "In most cases, we are interested in a number of element a vector contains.\n",
    "\n",
    "We refer to that number as the lengh of the vector.\n",
    "\n",
    "The first vector we saw have a length of 3 and the second one have a length of 4 ."
   ]
  },
  {
   "cell_type": "markdown",
   "id": "3b52e2d2-08b2-439a-b7a8-022545385313",
   "metadata": {},
   "source": [
    "In the general case, a vectors length can be designated as m \n",
    "\n",
    "A column vector will have dimension m by 1.\n",
    "\n",
    "and the row vector 1 by m\n",
    "\n",
    "Regarding the notation, the element of a vector x will be x1,x2,...xn"
   ]
  },
  {
   "cell_type": "markdown",
   "id": "62cca42b-3d8e-47ad-9ab3-563f6ed11072",
   "metadata": {},
   "source": [
    "SUMMARY"
   ]
  },
  {
   "cell_type": "markdown",
   "id": "1084f7ec-8dfe-4493-8cef-f2fce09ce58d",
   "metadata": {},
   "source": [
    "We have matrixes that have 2 dimensions\n",
    "\n",
    "mxn\n",
    "\n",
    "Vectors that have a single dimension, mx1\n",
    "\n",
    "And scalars that have no dimension and are 1x1."
   ]
  },
  {
   "cell_type": "markdown",
   "id": "89c37bea-74e0-4658-ae5e-7e77e7ff822a",
   "metadata": {},
   "source": [
    "#### Linear algebra and Geometry "
   ]
  },
  {
   "cell_type": "markdown",
   "id": "bf23df7f-b24a-4a00-815e-fdd6c698f3ec",
   "metadata": {},
   "source": [
    "Mathematics works based on Analogies \n",
    "\n",
    "with linear algebra that's extremely relevant."
   ]
  },
  {
   "cell_type": "markdown",
   "id": "eb6ef13b-93ae-4178-aae4-daf088a67942",
   "metadata": {},
   "source": [
    "We said  a scatar has no dimension.\n",
    "\n",
    "Moreso, the geometry idea of a point do\n",
    "\n",
    "not have a dimension.\n",
    "\n",
    "A point is the simplest object in terms of geology.\n",
    "\n",
    "It has no direction and no asides.\n",
    "\n",
    "A scaler is like a point.\n",
    "\n",
    "\n",
    "We have vectors and a vector has one dimension.\n",
    "\n",
    "It is like a line but how ever it has a direction.\n",
    "\n",
    "It can be oriented in many ways\n",
    "\n",
    "WE can plot this in two dimensions but \n",
    "\n",
    "to get into 2D we need something else."
   ]
  },
  {
   "cell_type": "markdown",
   "id": "4cacc63b-591f-4282-b3b0-56d7f33150c2",
   "metadata": {},
   "source": [
    "The only way to get from a line to a \n",
    "\n",
    "plane is by crossing it with another line.\n",
    "\n",
    "Two dimensional space is defined by 2 lines.\n",
    "\n",
    "Why two lines means two vectors"
   ]
  },
  {
   "cell_type": "markdown",
   "id": "d566d5fb-9ba7-4e9b-9fd1-3febc754561f",
   "metadata": {},
   "source": [
    "In linear algebra, a matrix is a collection of vectors or any two \n",
    "\n",
    "dimentional plain can be represented by a matrix."
   ]
  },
  {
   "cell_type": "markdown",
   "id": "0181db2c-d147-44d1-ac91-d0a22c2344a8",
   "metadata": {},
   "source": [
    "This idea though simple is extremely powerful."
   ]
  },
  {
   "cell_type": "markdown",
   "id": "f284448f-4016-4d2d-a10e-babaf0f4bb6b",
   "metadata": {},
   "source": [
    "Lets explore the two dimensional plane"
   ]
  },
  {
   "cell_type": "markdown",
   "id": "b6aab71f-ea5c-442c-abf8-45210ae75db3",
   "metadata": {},
   "source": [
    "IF i want to represent a vector, for eg\n",
    "\n",
    "2,5 , it will be a line from the origin \n",
    "\n",
    "of the plane to the point position 2,5 \n",
    "\n",
    "The direction is always from the orign \n",
    "\n",
    "of the graph to the end point.\n",
    "\n",
    "The vector -2, -5 will be exactly the opposite of the first one.\n",
    "\n",
    "the vector -2,3 will appear same way and so on."
   ]
  },
  {
   "cell_type": "markdown",
   "id": "627c5486-75d7-433d-8db9-23b23980ad0f",
   "metadata": {},
   "source": [
    "Each of this vector has a direction \n",
    "\n",
    "determined by its values.\n",
    "\n",
    "This vector is 1,0 and the other one is 0,1."
   ]
  },
  {
   "cell_type": "markdown",
   "id": "43755b92-6d40-4b21-ab1e-438392cfcfb3",
   "metadata": {},
   "source": [
    "Taking this two vectors together we can create a matrix."
   ]
  },
  {
   "cell_type": "raw",
   "id": "c82274fe-5394-4e67-b6e4-5cd2bbc23736",
   "metadata": {},
   "source": [
    "[1 0]\n",
    "[0 1]"
   ]
  },
  {
   "cell_type": "markdown",
   "id": "1f34395a-d9e1-4b96-b0c0-8072b0da286c",
   "metadata": {},
   "source": [
    "This matrix is basically made up of \n",
    "\n",
    "small portions of two axis. x, y"
   ]
  },
  {
   "cell_type": "markdown",
   "id": "629095f5-a6fd-4e70-aa4b-5fb085f0e7cb",
   "metadata": {},
   "source": [
    "What is important though is that if i remove everything else from the graph ,\n",
    "\n",
    "this matrix will define the two dimensional planes we were just looking at."
   ]
  },
  {
   "cell_type": "markdown",
   "id": "cdd689f7-4332-4810-864d-faec16a6b29c",
   "metadata": {},
   "source": [
    "Every two vector we take will define \n",
    "\n",
    "the two 2d plane we are looking at."
   ]
  },
  {
   "cell_type": "markdown",
   "id": "6d505121-02c5-4842-99cd-c495884cbbf0",
   "metadata": {},
   "source": [
    "A nice free online tool to play with is the 3D vector plotter by Academo.org"
   ]
  },
  {
   "cell_type": "markdown",
   "id": "dff6daf7-49e8-48d9-864d-7b796d612795",
   "metadata": {},
   "source": [
    "You can spefify each vector of interest and fidle with the plot.\n",
    "\n",
    "This website allows you to create all kinds of matrics of the 3x3 and with \n",
    "\n",
    "this you can understand better the  geometry concept of  vectors and metrics."
   ]
  },
  {
   "cell_type": "markdown",
   "id": "353bef35-4646-4051-b65b-7c9d91bf36d2",
   "metadata": {},
   "source": [
    "#### Scalars, Vectors and Matrics as Python Arrays"
   ]
  },
  {
   "cell_type": "markdown",
   "id": "4fb7255d-a2a5-475d-acd8-e07f8b338c43",
   "metadata": {},
   "source": [
    "Data scientist uses linear Algebra"
   ]
  },
  {
   "cell_type": "markdown",
   "id": "299c7d83-b3e9-4e39-a700-a6f1cf895358",
   "metadata": {},
   "source": [
    "How to code a matrix ,vector and scaler"
   ]
  },
  {
   "cell_type": "markdown",
   "id": "50271659-1415-4d31-bf97-c3a4ab4081a6",
   "metadata": {},
   "source": [
    "The simplest and most flexible way to work with scalars,vectors and matrices is by using arrays. "
   ]
  },
  {
   "cell_type": "markdown",
   "id": "0af3fdd1-7ead-4489-82e9-00c2ccec929e",
   "metadata": {},
   "source": [
    "Moreover, we will use the numpy functionality aa the optimize for such operation."
   ]
  },
  {
   "cell_type": "markdown",
   "id": "d7c4240c-b277-4bd1-936f-02f7b055654a",
   "metadata": {},
   "source": [
    "Import the relevant libraries"
   ]
  },
  {
   "cell_type": "code",
   "execution_count": 1,
   "id": "1454ded7-045d-47c1-909c-5a7378e9e93c",
   "metadata": {},
   "outputs": [],
   "source": [
    "import numpy as np"
   ]
  },
  {
   "cell_type": "markdown",
   "id": "33fa77ff-8be0-41a7-b019-8cedb3138127",
   "metadata": {
    "tags": []
   },
   "source": [
    "#### Declaring scalars, vectors and matrices"
   ]
  },
  {
   "cell_type": "markdown",
   "id": "bc033a0b-3c88-400d-a389-ea75771c6338",
   "metadata": {},
   "source": [
    "##### Scalars"
   ]
  },
  {
   "cell_type": "markdown",
   "id": "150007e1-e31b-4c45-a338-6085bfcd382a",
   "metadata": {},
   "source": [
    "Lets start by declaring a scalar.\n",
    "\n",
    "In python and many other languages , an integer or float are doing the job.\n",
    "\n",
    "hence, s=5 will do"
   ]
  },
  {
   "cell_type": "code",
   "execution_count": 3,
   "id": "f88f2884-c2a8-497e-93e3-eb6f3d0ed3a4",
   "metadata": {},
   "outputs": [],
   "source": [
    "s=5"
   ]
  },
  {
   "cell_type": "code",
   "execution_count": 4,
   "id": "2e85f245-5d97-41d7-a535-e1e23de5ff5e",
   "metadata": {},
   "outputs": [
    {
     "data": {
      "text/plain": [
       "5"
      ]
     },
     "execution_count": 4,
     "metadata": {},
     "output_type": "execute_result"
    }
   ],
   "source": [
    "s"
   ]
  },
  {
   "cell_type": "markdown",
   "id": "653fa21f-6d7f-466b-8208-8d91d8909b2a",
   "metadata": {},
   "source": [
    "##### Vectors"
   ]
  },
  {
   "cell_type": "markdown",
   "id": "fd4e0960-1792-412f-9c77-a19026b0dd70",
   "metadata": {},
   "source": [
    "How would we declare a vector?\n",
    "\n",
    "say we are looking at the same vector as before."
   ]
  },
  {
   "cell_type": "raw",
   "id": "ff3124ef-379c-41f3-8f46-525aa6a28e4a",
   "metadata": {},
   "source": [
    "{5]\n",
    "[-2]}  3 rows\n",
    "[4]\n",
    "3x1 matrix\n",
    "vector"
   ]
  },
  {
   "cell_type": "markdown",
   "id": "87aca3d7-8c37-4f26-8510-7f40f5580fd1",
   "metadata": {},
   "source": [
    "Lets declare a new variable v = np. array([5,-2,4])\n",
    "\n",
    "Note, that there is round bracket for the np.array method and square bracket[] for the vector itself.\n",
    "\n",
    "Printing v, we will see that it contains 3 values we wanted."
   ]
  },
  {
   "cell_type": "code",
   "execution_count": 5,
   "id": "8c0a5486-ce0f-46c0-81fd-89830400c19b",
   "metadata": {},
   "outputs": [],
   "source": [
    "v = np.array([5, -2, 4])"
   ]
  },
  {
   "cell_type": "code",
   "execution_count": 6,
   "id": "8c77e596-4c7c-4e29-80ef-244fe69d08d6",
   "metadata": {},
   "outputs": [
    {
     "data": {
      "text/plain": [
       "array([ 5, -2,  4])"
      ]
     },
     "execution_count": 6,
     "metadata": {},
     "output_type": "execute_result"
    }
   ],
   "source": [
    "v"
   ]
  },
  {
   "cell_type": "code",
   "execution_count": null,
   "id": "74840229-1e06-4694-8fd6-d10c31d0c1a7",
   "metadata": {},
   "outputs": [],
   "source": [
    "We have created a vector ,\n",
    "\n",
    "By default, v is a row vector"
   ]
  },
  {
   "cell_type": "markdown",
   "id": "9ef258cf-2f2e-45c6-ad53-89bce06554b4",
   "metadata": {},
   "source": [
    "##### Matrices"
   ]
  },
  {
   "cell_type": "markdown",
   "id": "a88a276b-8474-4832-85d6-2a5e983ad09f",
   "metadata": {},
   "source": [
    "Lets create a matrix\n",
    "\n",
    "m = np.array() round brackets\n",
    "\n",
    "This matrix actually contains 2 vectors as seen below"
   ]
  },
  {
   "cell_type": "raw",
   "id": "aac51287-49bc-4612-b08e-3bdf105913f4",
   "metadata": {},
   "source": [
    "[5 12 6]\n",
    "[-3 0 14]"
   ]
  },
  {
   "cell_type": "code",
   "execution_count": 7,
   "id": "249bcdfc-3f75-491a-89dc-f311993b122c",
   "metadata": {},
   "outputs": [],
   "source": [
    "m = np.array([[5,12,6],[-3,0,14]])"
   ]
  },
  {
   "cell_type": "code",
   "execution_count": 8,
   "id": "6b0a33bd-765d-43c2-a966-4424fbc8dc75",
   "metadata": {},
   "outputs": [
    {
     "data": {
      "text/plain": [
       "array([[ 5, 12,  6],\n",
       "       [-3,  0, 14]])"
      ]
     },
     "execution_count": 8,
     "metadata": {},
     "output_type": "execute_result"
    }
   ],
   "source": [
    "m"
   ]
  },
  {
   "cell_type": "markdown",
   "id": "e3768e9d-7137-4146-a5c2-b0f08840e09d",
   "metadata": {},
   "source": [
    "As you can see we have a matrix.\n",
    "\n",
    "However, there are several programming and interations we need to make.\n",
    "\n",
    "We will focus on them now as they are paramount for coding."
   ]
  },
  {
   "cell_type": "markdown",
   "id": "e66f4dc5-2dec-469c-871a-afc678843791",
   "metadata": {},
   "source": [
    "##### Data types"
   ]
  },
  {
   "cell_type": "markdown",
   "id": "b14b4d9e-488c-4358-879c-2a44cab59268",
   "metadata": {},
   "source": [
    "If we write type() returns the data type of a given variable"
   ]
  },
  {
   "cell_type": "code",
   "execution_count": 9,
   "id": "db7bd62f-67f0-4d85-80f9-f7c4b6fc9d94",
   "metadata": {},
   "outputs": [
    {
     "data": {
      "text/plain": [
       "int"
      ]
     },
     "execution_count": 9,
     "metadata": {},
     "output_type": "execute_result"
    }
   ],
   "source": [
    "type(s)"
   ]
  },
  {
   "cell_type": "markdown",
   "id": "067d231e-1bfc-488b-ad60-84fe74d056e4",
   "metadata": {},
   "source": [
    "it means that s is an integer, then v and m are nd arrays.\n",
    "\n",
    "Nd arraya stands for n dimentional arrayas.\n",
    "\n",
    "Most especially the vector v is a 1- dimensional array and matrix m is a 2-dimensional array.\n",
    "\n",
    "In general, we can have n-dimensional arrays."
   ]
  },
  {
   "cell_type": "code",
   "execution_count": 10,
   "id": "ec36cd65-0afc-4c6a-b495-04a4c98a1449",
   "metadata": {},
   "outputs": [
    {
     "data": {
      "text/plain": [
       "numpy.ndarray"
      ]
     },
     "execution_count": 10,
     "metadata": {},
     "output_type": "execute_result"
    }
   ],
   "source": [
    "type(v)"
   ]
  },
  {
   "cell_type": "code",
   "execution_count": 11,
   "id": "5c23d640-8024-43e1-a626-fad4fcd63d98",
   "metadata": {},
   "outputs": [
    {
     "data": {
      "text/plain": [
       "numpy.ndarray"
      ]
     },
     "execution_count": 11,
     "metadata": {},
     "output_type": "execute_result"
    }
   ],
   "source": [
    "type(m)"
   ]
  },
  {
   "cell_type": "markdown",
   "id": "f436e9c4-0850-484a-bbd2-d5f8023d4c13",
   "metadata": {},
   "source": [
    "Finally, if i want s to be consistent with the others i can also declare it  as an array as well."
   ]
  },
  {
   "cell_type": "code",
   "execution_count": 14,
   "id": "13e6be7b-8d72-4612-8068-d849512a74ff",
   "metadata": {},
   "outputs": [
    {
     "data": {
      "text/plain": [
       "array(5)"
      ]
     },
     "execution_count": 14,
     "metadata": {},
     "output_type": "execute_result"
    }
   ],
   "source": [
    "s_array = np.array(5)\n",
    "\n",
    "s_array"
   ]
  },
  {
   "cell_type": "code",
   "execution_count": 15,
   "id": "d8f672e3-73a4-4502-b0aa-d5119699e69b",
   "metadata": {},
   "outputs": [
    {
     "data": {
      "text/plain": [
       "numpy.ndarray"
      ]
     },
     "execution_count": 15,
     "metadata": {},
     "output_type": "execute_result"
    }
   ],
   "source": [
    "type (s_array)"
   ]
  },
  {
   "cell_type": "markdown",
   "id": "79364af1-b4bc-4dab-8de5-201e4947affd",
   "metadata": {},
   "source": [
    "Hence, we can see it as an ndarray.\n",
    "\n",
    "and this is another way you can create a scalar in python."
   ]
  },
  {
   "cell_type": "markdown",
   "id": "3645860b-0c82-4b21-9665-20eb7a24228e",
   "metadata": {},
   "source": [
    "For pracical purposes,in python and within numpy,integers, floats and arrays with one element behaves in thesame way regarding linear algebraic operations."
   ]
  },
  {
   "cell_type": "markdown",
   "id": "1ec96b47-1537-4adc-93ad-9a710bc58b34",
   "metadata": {},
   "source": [
    "##### Data shapes"
   ]
  },
  {
   "cell_type": "markdown",
   "id": "c63dfb90-faf4-468c-8fbd-dd3a4f307719",
   "metadata": {},
   "source": [
    "There is a method called shape which we can apply to an object to check the dimensionality or shape\n",
    "\n",
    "Shape returns the shape (dimensions) of a variable."
   ]
  },
  {
   "cell_type": "code",
   "execution_count": 16,
   "id": "8f75ca9f-fdab-4273-b064-881935864bb8",
   "metadata": {},
   "outputs": [
    {
     "data": {
      "text/plain": [
       "(2, 3)"
      ]
     },
     "execution_count": 16,
     "metadata": {},
     "output_type": "execute_result"
    }
   ],
   "source": [
    "m.shape"
   ]
  },
  {
   "cell_type": "markdown",
   "id": "de0a2026-ca95-4d82-bea6-20500e7968e9",
   "metadata": {},
   "source": [
    "This returns 2x3. this is also the expected result. as you are dealing with a two by 3 matrix."
   ]
  },
  {
   "cell_type": "code",
   "execution_count": 17,
   "id": "f09b0f66-c27c-4cbf-b2a5-4a55f4752bb8",
   "metadata": {},
   "outputs": [
    {
     "data": {
      "text/plain": [
       "(3,)"
      ]
     },
     "execution_count": 17,
     "metadata": {},
     "output_type": "execute_result"
    }
   ],
   "source": [
    "v.shape"
   ]
  },
  {
   "cell_type": "markdown",
   "id": "e223caa8-f93e-442a-8be3-4fb9a809ccf2",
   "metadata": {},
   "source": [
    "This returns 3 comma\n",
    "\n",
    "this is something you will see in some programming languages and not all.\n",
    "\n",
    "It is basically indicating that in the memory of the computer the object has 3 elements whicha are stored in order."
   ]
  },
  {
   "cell_type": "code",
   "execution_count": null,
   "id": "a7ba1964-db69-4432-b28a-83bd868985f5",
   "metadata": {},
   "outputs": [],
   "source": [
    "We can check the shape of s"
   ]
  },
  {
   "cell_type": "markdown",
   "id": "5d4e7821-44c3-454e-a26a-5b7360e9a320",
   "metadata": {},
   "source": [
    "#s.shape"
   ]
  },
  {
   "cell_type": "markdown",
   "id": "0ac0e384-982e-4bcd-82bb-26641ac817b7",
   "metadata": {},
   "source": [
    "We will get an error because int objects dont have shape.\n",
    "\n",
    "If we try same method on s_array.shape we simply have parenthesis.\n",
    "\n",
    "This is because a scalar is a zero dimensional object because it has no shape"
   ]
  },
  {
   "cell_type": "code",
   "execution_count": 22,
   "id": "be4d4e05-a7a9-470a-ac89-136c72c0ce47",
   "metadata": {},
   "outputs": [
    {
     "data": {
      "text/plain": [
       "()"
      ]
     },
     "execution_count": 22,
     "metadata": {},
     "output_type": "execute_result"
    }
   ],
   "source": [
    "s_array.shape"
   ]
  },
  {
   "cell_type": "markdown",
   "id": "5d776994-836c-470b-bef1-d38922a7f047",
   "metadata": {},
   "source": [
    "##### Creating  a column vector"
   ]
  },
  {
   "cell_type": "markdown",
   "id": "d66ab8f7-5c24-4490-a8e7-c65818f94d19",
   "metadata": {},
   "source": [
    "Depending on our needs we can use the reshape method to create a row or  a column vector."
   ]
  },
  {
   "cell_type": "markdown",
   "id": "68f5946f-0c00-4b48-b84f-57bfc75ff1f2",
   "metadata": {},
   "source": [
    "reshape gives an array a new shape ,without changing its data."
   ]
  },
  {
   "cell_type": "markdown",
   "id": "4bb6ba0c-2e00-4c62-834f-1e51b63516b9",
   "metadata": {},
   "source": [
    "There aree two possibilities , a row vector or a column vector"
   ]
  },
  {
   "cell_type": "code",
   "execution_count": 18,
   "id": "319a8a32-fad3-45ac-96c9-342c6ad6b6e5",
   "metadata": {},
   "outputs": [
    {
     "data": {
      "text/plain": [
       "array([[ 5, -2,  4]])"
      ]
     },
     "execution_count": 18,
     "metadata": {},
     "output_type": "execute_result"
    }
   ],
   "source": [
    "v.reshape(1,3)"
   ]
  },
  {
   "cell_type": "code",
   "execution_count": 19,
   "id": "46c495b8-7698-47c5-a32b-eba92539d83c",
   "metadata": {},
   "outputs": [
    {
     "data": {
      "text/plain": [
       "array([[ 5],\n",
       "       [-2],\n",
       "       [ 4]])"
      ]
     },
     "execution_count": 19,
     "metadata": {},
     "output_type": "execute_result"
    }
   ],
   "source": [
    "v.reshape(3,1)"
   ]
  },
  {
   "cell_type": "markdown",
   "id": "de0528d0-154f-4961-a2c5-265ee20fc2b9",
   "metadata": {},
   "source": [
    "#### What is a Tensor"
   ]
  },
  {
   "cell_type": "markdown",
   "id": "455fe611-ff93-4598-bbb3-aaf821e5b5aa",
   "metadata": {},
   "source": [
    "In mathematics, a tensor is an algebraic object that describes a \n",
    "\n",
    "multilinear relationship between sets of algebraic objects related to a vector space."
   ]
  },
  {
   "cell_type": "markdown",
   "id": "831a1a17-1951-41f3-8c32-531b151ab4f8",
   "metadata": {},
   "source": [
    "Tensorflow is one the state of the act  deep learning framework developed by google. \n",
    "\n",
    "It works in a peculiar way but one of its main characteristics is that it works with Tensors."
   ]
  },
  {
   "cell_type": "markdown",
   "id": "dc75548b-04e5-4ff8-a884-dfe6042bf5f9",
   "metadata": {},
   "source": [
    "##### What is  a Tensor"
   ]
  },
  {
   "cell_type": "markdown",
   "id": "cc8ed71b-e9c0-46dd-9cda-e71662404e92",
   "metadata": {},
   "source": [
    "The mathematical concept of a tensor could be broadly explained in this way."
   ]
  },
  {
   "cell_type": "markdown",
   "id": "777fa055-ee5f-4f28-a127-fcb9bba9d17a",
   "metadata": {},
   "source": [
    "A scalar has the lowest dimensionality and is always one by one"
   ]
  },
  {
   "cell_type": "code",
   "execution_count": null,
   "id": "ec07dedb-6ae5-482f-9ce6-e6aedbe6a6fe",
   "metadata": {},
   "outputs": [],
   "source": [
    "[15]"
   ]
  },
  {
   "cell_type": "code",
   "execution_count": null,
   "id": "be3e565f-5b6c-475b-9560-cad284d0536c",
   "metadata": {},
   "outputs": [],
   "source": [
    "It can be thought of  \n",
    ". A vector of length 1 \n",
    "\n",
    ". or\n",
    "\n",
    ".A  1x1 matrix"
   ]
  },
  {
   "cell_type": "markdown",
   "id": "fcd13f49-28f1-4aba-84ad-be1adb36717f",
   "metadata": {},
   "source": [
    "It is followed by a vector,where each element of that vector is a scalar."
   ]
  },
  {
   "cell_type": "raw",
   "id": "3ebf1082-baa4-4784-98bb-23f85f2477e8",
   "metadata": {},
   "source": [
    "[x1]\n",
    "[x2]\n",
    ".\n",
    ".\n",
    ".\n",
    "[xm]"
   ]
  },
  {
   "cell_type": "markdown",
   "id": "d46065e3-1272-40a4-8c9a-a67ccaab98e8",
   "metadata": {},
   "source": [
    "The dimensions of a scalar are nothing but \n",
    "\n",
    ". m x 1 or 1 x m matrix\n",
    "\n"
   ]
  },
  {
   "cell_type": "markdown",
   "id": "e002186c-3359-4838-97f7-c3214ee0b4b5",
   "metadata": {},
   "source": [
    "Then we have matrices which are nothing \n",
    "\n",
    "more than a collection of vectors"
   ]
  },
  {
   "cell_type": "code",
   "execution_count": null,
   "id": "94287205-cd9e-461c-814c-5a72ce720105",
   "metadata": {},
   "outputs": [],
   "source": [
    "The direction of a matrix are m x n"
   ]
  },
  {
   "cell_type": "code",
   "execution_count": null,
   "id": "fbe709bc-f53b-469c-93fd-7af066ff1cf5",
   "metadata": {},
   "outputs": [],
   "source": [
    "[x1]\n",
    "[x2]\n",
    ".\n",
    ".\n",
    ".\n",
    "[xm]"
   ]
  },
  {
   "cell_type": "raw",
   "id": "07dd329f-6ace-46f3-b1b3-ac9c79510aba",
   "metadata": {},
   "source": [
    "[15]       [x1]    [ a11 a12 a13 ..a1n]\n",
    "\n",
    "           [x2]     [a21 a22 a23 ..a2n]\n",
    "                     \n",
    "           [.]  A = [a31 a32 a33 ..a3n]\n",
    "           \n",
    "           [.]       .           aij  .\n",
    "           .         .      .  .      .\n",
    "           \n",
    "           .         .     .   .     .\n",
    "           \n",
    "           am1     am2    am3  .  , amn\n",
    "           .\n",
    "           .\n",
    "           .\n",
    "           \n",
    "           [xm]\n",
    "              \n",
    "\n",
    "scalar    vector                Matrix\n",
    "         m x 1                   m x n\n",
    "         \n",
    "                        a collection of\n",
    "                         vectors\n",
    "RANK 0    RANK 1          RANK 2                         "
   ]
  },
  {
   "cell_type": "markdown",
   "id": "8e21106d-dd8f-4c11-a0e2-f1ec1231474f",
   "metadata": {},
   "source": [
    "Matrix is a collection of m vectors of dimensions m x 1.\n",
    "\n",
    "or n vectors of dimension n x 1"
   ]
  },
  {
   "cell_type": "markdown",
   "id": "69932b13-82ff-4be7-8845-244556762291",
   "metadata": {},
   "source": [
    "Furthermore, since scalars make up vectors .\n",
    "you can also think of a matric as a collection of scalars as well."
   ]
  },
  {
   "cell_type": "markdown",
   "id": "ea34faea-b601-4a08-81dc-4d04c5787b20",
   "metadata": {},
   "source": [
    "A tensor is the most general concept.\n",
    "\n",
    "Scalars, vectors and matrices are all tensors of Rank 0 1 2 respectively.\n",
    "\n",
    "Tensors are simply the generalization of the concepts we have seen so far."
   ]
  },
  {
   "cell_type": "markdown",
   "id": "e6db5a41-2860-4251-940c-f7f4b8961824",
   "metadata": {},
   "source": [
    "The one we are yet to see is  atensor of RANK 3.\n",
    "\n",
    "\n",
    "Its dimensions are k x m x n"
   ]
  },
  {
   "cell_type": "markdown",
   "id": "bcacd761-d824-4582-abfc-5fb46aa349d6",
   "metadata": {},
   "source": [
    "It can be thought of  as a collection of matrices.\n",
    "\n",
    "In terms of programming, a tensor is no different than an  ndarray.\n",
    "\n",
    "\n",
    "Tensors can be stored in ndarrays and that is how we often deal with the issue."
   ]
  },
  {
   "cell_type": "markdown",
   "id": "bf34fc3a-a874-4071-bcdd-d2dab41bd76e",
   "metadata": {},
   "source": [
    "##### Create a tensor out of two matrices"
   ]
  },
  {
   "cell_type": "markdown",
   "id": "39b26fdf-983d-4649-8313-a2518da457e4",
   "metadata": {},
   "source": [
    "Our first matrix m1 will be from the first example.\n",
    "\n",
    "The matrix m2 will be a different one \n",
    "\n",
    "with the element, [9,8 7], [1,3,-5]"
   ]
  },
  {
   "cell_type": "code",
   "execution_count": 23,
   "id": "45a63848-f0ab-4488-91be-38272d7aef37",
   "metadata": {},
   "outputs": [
    {
     "data": {
      "text/plain": [
       "array([[ 5, 12,  6],\n",
       "       [-3,  0, 14]])"
      ]
     },
     "execution_count": 23,
     "metadata": {},
     "output_type": "execute_result"
    }
   ],
   "source": [
    "m1 = np.array([[5,12,6],[-3,0,14]])\n",
    "m1"
   ]
  },
  {
   "cell_type": "code",
   "execution_count": 24,
   "id": "72cc0791-47f8-491d-be43-713cf7e7bd6d",
   "metadata": {},
   "outputs": [
    {
     "data": {
      "text/plain": [
       "array([[ 9,  8,  7],\n",
       "       [ 1,  3, -5]])"
      ]
     },
     "execution_count": 24,
     "metadata": {},
     "output_type": "execute_result"
    }
   ],
   "source": [
    "m2 = np.array([[9,8,7],[1,3,-5]])\n",
    "m2"
   ]
  },
  {
   "cell_type": "markdown",
   "id": "10d1d44d-4eae-47b5-9f5a-adc532f567b5",
   "metadata": {},
   "source": [
    "Now lets create an array t with two elements m1 and m2, after printing t we realise that it contains both matrices"
   ]
  },
  {
   "cell_type": "code",
   "execution_count": 25,
   "id": "1c520c97-fd73-4970-a368-ea942babf1ec",
   "metadata": {},
   "outputs": [],
   "source": [
    "t = np.array([m1,m2])"
   ]
  },
  {
   "cell_type": "code",
   "execution_count": 26,
   "id": "f2e43a8c-7cf8-4cea-ae3f-1d4a63433ae1",
   "metadata": {},
   "outputs": [
    {
     "data": {
      "text/plain": [
       "array([[[ 5, 12,  6],\n",
       "        [-3,  0, 14]],\n",
       "\n",
       "       [[ 9,  8,  7],\n",
       "        [ 1,  3, -5]]])"
      ]
     },
     "execution_count": 26,
     "metadata": {},
     "output_type": "execute_result"
    }
   ],
   "source": [
    "t"
   ]
  },
  {
   "cell_type": "markdown",
   "id": "700bca65-f970-4bb8-b536-92d8dabbbf85",
   "metadata": {},
   "source": [
    "#### checking its shape"
   ]
  },
  {
   "cell_type": "code",
   "execution_count": 27,
   "id": "74994945-fb2e-4342-aa5e-5eaae4626564",
   "metadata": {},
   "outputs": [
    {
     "data": {
      "text/plain": [
       "(2, 2, 3)"
      ]
     },
     "execution_count": 27,
     "metadata": {},
     "output_type": "execute_result"
    }
   ],
   "source": [
    "t.shape"
   ]
  },
  {
   "cell_type": "markdown",
   "id": "a6315cd6-d663-480c-a711-9ffc38937873",
   "metadata": {},
   "source": [
    "it is a 2 x 2 x 3 object.\n",
    "\n",
    "It contains 2 matrices of 2 x 3 each"
   ]
  },
  {
   "cell_type": "markdown",
   "id": "20c852d6-bbbe-4d62-a68a-0ffe298b64f3",
   "metadata": {},
   "source": [
    "##### Manually create a tensor"
   ]
  },
  {
   "cell_type": "markdown",
   "id": "8a6108dd-8775-4a42-ae9b-c00e6929b9e2",
   "metadata": {},
   "source": [
    "If we want to manually create  atensor, we will need to write this line of code."
   ]
  },
  {
   "cell_type": "markdown",
   "id": "8e46f569-9b63-4e6b-a7d3-e63c7d41f4cd",
   "metadata": {},
   "source": [
    "As you can imagine tensors with lots of \n",
    "\n",
    "elements are very hard to manually create.\n",
    "\n",
    "Not only because there are many \n",
    "\n",
    "elements but also because of those confusing brackets.\n",
    "\n",
    "Usually we will load, transform and pre-proess the data to get tensors.\n",
    "\n",
    "However, it is always good to have thr theoritical background."
   ]
  },
  {
   "cell_type": "code",
   "execution_count": 28,
   "id": "0b195eaf-a755-49bc-b89c-840df0727923",
   "metadata": {},
   "outputs": [],
   "source": [
    "t_manual = np.array([[[5,12, 0], [-3, 0, 14]], [[9, 8, 7], [1,3, -5]]])"
   ]
  },
  {
   "cell_type": "code",
   "execution_count": 29,
   "id": "0a0c1ccd-fbfb-42ea-bc95-210b42049b3f",
   "metadata": {},
   "outputs": [
    {
     "data": {
      "text/plain": [
       "array([[[ 5, 12,  0],\n",
       "        [-3,  0, 14]],\n",
       "\n",
       "       [[ 9,  8,  7],\n",
       "        [ 1,  3, -5]]])"
      ]
     },
     "execution_count": 29,
     "metadata": {},
     "output_type": "execute_result"
    }
   ],
   "source": [
    "t_manual"
   ]
  },
  {
   "cell_type": "markdown",
   "id": "106379a4-c984-4442-84d0-494dfa205a7e",
   "metadata": {},
   "source": [
    "#### Adding and Subtraction"
   ]
  },
  {
   "cell_type": "markdown",
   "id": "6cfbc600-3162-4c9f-b494-a1a97867efbf",
   "metadata": {},
   "source": [
    "We can add and subtract matrices"
   ]
  },
  {
   "cell_type": "code",
   "execution_count": null,
   "id": "45d2b4e0-64c2-4a7e-8abf-b6ef0d178de2",
   "metadata": {},
   "outputs": [],
   "source": [
    "ADDITION"
   ]
  },
  {
   "cell_type": "markdown",
   "id": "07569f8e-9897-4824-a502-60fa772721ec",
   "metadata": {},
   "source": [
    "Addition is very easy\n",
    "\n",
    "one important condition is tha the two \n",
    "\n",
    "matrices must have thesame dimension"
   ]
  },
  {
   "cell_type": "markdown",
   "id": "56f23379-20b0-4b33-9a2c-099652383d7c",
   "metadata": {},
   "source": [
    "Say we have the two matrices M1 and M2\n",
    "\n",
    "They are both 2x3 matrices.\n",
    "\n",
    "If we want to add the two, all we need \n",
    "\n",
    "to do is to add the corresponding enteries one to the other."
   ]
  },
  {
   "cell_type": "code",
   "execution_count": null,
   "id": "80ce0c9f-6800-4fa6-8a20-ba1f28cbc4a7",
   "metadata": {},
   "outputs": [],
   "source": [
    "M1 = [ 5 12 6]       M2 = [9 8 7]\n",
    "2x3  [-3  0 14]      2x3  [1 3 -5]"
   ]
  },
  {
   "cell_type": "markdown",
   "id": "c818f168-0420-4f37-a5f3-7104a591aa4d",
   "metadata": {},
   "source": [
    "The result is a new 2x3 method"
   ]
  },
  {
   "cell_type": "raw",
   "id": "40f25516-35c9-4a7e-9138-65bac07d6b7a",
   "metadata": {},
   "source": [
    "[5 12 6] + [9 8 7] = [ 5 + 9  12+8 6+7]\n",
    "\n",
    "[-3 0 14]+[1 3 -5]=[-3+1] 0 +3 14 -5]"
   ]
  },
  {
   "cell_type": "raw",
   "id": "d5bc5767-7fb7-4de8-a467-90639e7f23a4",
   "metadata": {},
   "source": [
    "M1 + M2 = X\n",
    "2x3  2x3  2x3"
   ]
  },
  {
   "cell_type": "markdown",
   "id": "2e2c2de9-33d3-4a73-8617-40efb163ad88",
   "metadata": {},
   "source": [
    "For the element at position 1 x 1 we have 5 + 9\n",
    "\n",
    "For the element at position 1x2 ,we have 12 + 8\n",
    "\n",
    "For the element at position ,1x3 we have 6 + 7\n",
    "\n",
    "We continue adding them until position , 2x3 where we have got  14 +-5\n"
   ]
  },
  {
   "cell_type": "markdown",
   "id": "047e0cb7-1ca8-4e21-93b0-a0d7f3849038",
   "metadata": {},
   "source": [
    "All we have to do is to make the simple\n",
    "\n",
    "calculation and reach the solution"
   ]
  },
  {
   "cell_type": "raw",
   "id": "4cab86e4-f715-4dc8-aed0-82776facb9fb",
   "metadata": {},
   "source": [
    "result  = [14  20 13]\n",
    "          [-2   3  9]"
   ]
  },
  {
   "cell_type": "markdown",
   "id": "afb73f58-1543-4f5d-85fb-b87effb69098",
   "metadata": {},
   "source": [
    "If we want to add the matrices in \n",
    "\n",
    "python, we need to declare them and then use the + sign"
   ]
  },
  {
   "cell_type": "markdown",
   "id": "dc3f9e27-948a-4162-a35b-71c243909f3c",
   "metadata": {},
   "source": [
    "Import the relevant libraries"
   ]
  },
  {
   "cell_type": "code",
   "execution_count": 1,
   "id": "c7ae5b0f-5b5d-45ad-a5d7-03a7623e5a54",
   "metadata": {},
   "outputs": [],
   "source": [
    "import numpy as np"
   ]
  },
  {
   "cell_type": "markdown",
   "id": "373c44f1-8bc9-4801-9c42-6bf8a75ca525",
   "metadata": {},
   "source": [
    "##### Addition"
   ]
  },
  {
   "cell_type": "code",
   "execution_count": 2,
   "id": "539e1795-6295-4a4d-9f19-b181b146aa9e",
   "metadata": {},
   "outputs": [
    {
     "data": {
      "text/plain": [
       "array([[ 5, 12,  6],\n",
       "       [-3,  0, 14]])"
      ]
     },
     "execution_count": 2,
     "metadata": {},
     "output_type": "execute_result"
    }
   ],
   "source": [
    "m1 = np.array([[5,12,6],[-3,0,14]])\n",
    "m1"
   ]
  },
  {
   "cell_type": "code",
   "execution_count": 5,
   "id": "1ec5e789-6a70-48ee-9d54-13260ab4c02b",
   "metadata": {},
   "outputs": [
    {
     "data": {
      "text/plain": [
       "array([[ 9,  8,  7],\n",
       "       [ 1,  3, -5]])"
      ]
     },
     "execution_count": 5,
     "metadata": {},
     "output_type": "execute_result"
    }
   ],
   "source": [
    "m2 = np.array([[9,8,7],[1,3,-5]])\n",
    "m2"
   ]
  },
  {
   "cell_type": "code",
   "execution_count": 6,
   "id": "61b9f5d8-9ed4-4e7d-af96-a843dc7fc76a",
   "metadata": {},
   "outputs": [
    {
     "data": {
      "text/plain": [
       "array([[14, 20, 13],\n",
       "       [-2,  3,  9]])"
      ]
     },
     "execution_count": 6,
     "metadata": {},
     "output_type": "execute_result"
    }
   ],
   "source": [
    "m1 + m2"
   ]
  },
  {
   "cell_type": "markdown",
   "id": "8455147c-997e-434f-831c-e852858cefe7",
   "metadata": {},
   "source": [
    "Subtraction is a type of addition so \n",
    "\n",
    "same rule applies there.\n",
    "\n",
    "lets have this two matrices.  \n",
    "\n",
    "M3 and M4"
   ]
  },
  {
   "cell_type": "raw",
   "id": "0c0269f2-8785-421b-90fd-0df16dc7f5e9",
   "metadata": {},
   "source": [
    "  [5 3] - [7 -5] =  [5-7     3+5]\n",
    "  [-2 4] - [3 8] = [-2 -3  4 -8]"
   ]
  },
  {
   "cell_type": "markdown",
   "id": "aa813af5-8360-4941-bab1-6f424bc19724",
   "metadata": {},
   "source": [
    "In other to find the difference between the two matrices.\n",
    "\n",
    "We just need to calculate the\n",
    "\n",
    "diffference between each two corresponding elements.\n",
    "\n",
    "Note, that the two matrices have the same dimension.\n",
    "\n",
    "This time 2x2.\n",
    "\n",
    "The final result is -2 8 on the first row and -5 -4 on the second row"
   ]
  },
  {
   "cell_type": "code",
   "execution_count": null,
   "id": "7e260017-1eeb-4925-aa07-8c53134b9833",
   "metadata": {},
   "outputs": [],
   "source": [
    "[-2 8]  \n",
    "[-5 -4]"
   ]
  },
  {
   "cell_type": "markdown",
   "id": "1a85bc62-3b3a-4961-9001-2e964bac94cf",
   "metadata": {},
   "source": [
    "In terms of coding, things are not \n",
    "\n",
    "different, we declare the 2 matrices and find their diffence"
   ]
  },
  {
   "cell_type": "markdown",
   "id": "9f7e6246-96bf-410f-a0b6-17ae3bed5303",
   "metadata": {},
   "source": [
    "##### Difference"
   ]
  },
  {
   "cell_type": "markdown",
   "id": "3dda23fb-fb9d-4bd7-a037-f9af2ac1319d",
   "metadata": {
    "tags": []
   },
   "source": [
    "##### Example 1"
   ]
  },
  {
   "cell_type": "code",
   "execution_count": 7,
   "id": "35bf4f7c-b643-41ea-9568-d11528e66f91",
   "metadata": {},
   "outputs": [],
   "source": [
    "m3 = np.array([[5,3],[-2,4]])\n",
    "m4 = np.array([[7,-5],[3,8]])"
   ]
  },
  {
   "cell_type": "code",
   "execution_count": 8,
   "id": "d9476852-23e5-4858-b91a-5469c3e67e37",
   "metadata": {},
   "outputs": [
    {
     "data": {
      "text/plain": [
       "array([[ 5,  3],\n",
       "       [-2,  4]])"
      ]
     },
     "execution_count": 8,
     "metadata": {},
     "output_type": "execute_result"
    }
   ],
   "source": [
    "m3"
   ]
  },
  {
   "cell_type": "code",
   "execution_count": 9,
   "id": "e3e108c6-645a-4c32-999b-e6c95e4814d8",
   "metadata": {},
   "outputs": [
    {
     "data": {
      "text/plain": [
       "array([[ 7, -5],\n",
       "       [ 3,  8]])"
      ]
     },
     "execution_count": 9,
     "metadata": {},
     "output_type": "execute_result"
    }
   ],
   "source": [
    "m4"
   ]
  },
  {
   "cell_type": "markdown",
   "id": "b776bb88-3c54-4732-8901-b626243c9fcd",
   "metadata": {},
   "source": [
    "SUBTRACTION WITH FLOAT"
   ]
  },
  {
   "cell_type": "markdown",
   "id": "14a989d9-051b-4663-b947-937b43113294",
   "metadata": {},
   "source": [
    "EXAMPLE"
   ]
  },
  {
   "cell_type": "raw",
   "id": "ea3dae5c-deb2-4ee5-a945-47a20d793472",
   "metadata": {},
   "source": [
    "[22.33 -4.73] -     [133.13  448.29]\n",
    "[-203.14 1200.02] -  [-340.21 1.06]   = \n",
    "[4.22 234.10]  -     [30.41   424.99]\n",
    "\n",
    "  3x2                    3x2 \n",
    "  \n",
    "  M5                     M6"
   ]
  },
  {
   "cell_type": "markdown",
   "id": "3176b404-3d05-43e8-85f8-7ac449723219",
   "metadata": {},
   "source": [
    "The 2 matrices are both 3 x 2 so they are compatible."
   ]
  },
  {
   "cell_type": "raw",
   "id": "96afef72-12ef-4c3c-a5b2-e413228c92c3",
   "metadata": {},
   "source": [
    "[-108.8       -453.02]\n",
    "[137.07       1198.96]\n",
    "[-26.18       -190.89]\n",
    "\n",
    "          3x2"
   ]
  },
  {
   "cell_type": "code",
   "execution_count": 10,
   "id": "fb14e929-a203-4983-bf17-0c10237deea1",
   "metadata": {},
   "outputs": [
    {
     "data": {
      "text/plain": [
       "array([[  22.33,   -4.73],\n",
       "       [-203.14, 1200.02]])"
      ]
     },
     "execution_count": 10,
     "metadata": {},
     "output_type": "execute_result"
    }
   ],
   "source": [
    "m5 = np.array([[22.33, -4.73], [-203.14,1200.02]])\n",
    "m5"
   ]
  },
  {
   "cell_type": "code",
   "execution_count": 15,
   "id": "cf43a9d3-4734-40df-955d-83da5f8afdc5",
   "metadata": {},
   "outputs": [
    {
     "data": {
      "text/plain": [
       "array([[ 131.13,  448.29],\n",
       "       [-340.21,    1.06],\n",
       "       [  30.41,  424.99]])"
      ]
     },
     "execution_count": 15,
     "metadata": {},
     "output_type": "execute_result"
    }
   ],
   "source": [
    "m6 = np.array([[131.13,448.29],[-340.21,1.06],[30.41,424.99]])\n",
    "m6"
   ]
  },
  {
   "cell_type": "code",
   "execution_count": 18,
   "id": "9c383581-6513-4c21-b3aa-023a5999ec28",
   "metadata": {},
   "outputs": [
    {
     "ename": "ValueError",
     "evalue": "operands could not be broadcast together with shapes (2,2) (3,2) ",
     "output_type": "error",
     "traceback": [
      "\u001b[1;31m---------------------------------------------------------------------------\u001b[0m",
      "\u001b[1;31mValueError\u001b[0m                                Traceback (most recent call last)",
      "\u001b[1;32m~\\AppData\\Local\\Temp/ipykernel_6540/49732963.py\u001b[0m in \u001b[0;36m<module>\u001b[1;34m\u001b[0m\n\u001b[1;32m----> 1\u001b[1;33m \u001b[0mm5\u001b[0m \u001b[1;33m-\u001b[0m \u001b[0mm6\u001b[0m\u001b[1;33m\u001b[0m\u001b[1;33m\u001b[0m\u001b[0m\n\u001b[0m",
      "\u001b[1;31mValueError\u001b[0m: operands could not be broadcast together with shapes (2,2) (3,2) "
     ]
    }
   ],
   "source": [
    "m5 - m6"
   ]
  },
  {
   "cell_type": "markdown",
   "id": "c211cf02-f6ed-42e3-b443-409793af8fdf",
   "metadata": {},
   "source": [
    "##### Adding vectors together"
   ]
  },
  {
   "cell_type": "markdown",
   "id": "7e3870e3-d5f0-4d45-8b24-746fce2e137a",
   "metadata": {},
   "source": [
    "What about  Vectors ?\n",
    "\n"
   ]
  },
  {
   "cell_type": "markdown",
   "id": "bc917f08-132c-4d25-926d-b030786ba650",
   "metadata": {},
   "source": [
    "Since vectors are nothing more than 1 \n",
    "\n",
    "dimensional matrices, same rules apply."
   ]
  },
  {
   "cell_type": "markdown",
   "id": "d6e69ee4-2218-455c-81f2-4960336bac59",
   "metadata": {},
   "source": [
    "Lets take the vector 1,2,3,4,5 and \n",
    "\n",
    "vector 5, 4 3, 2, 1 and add them together."
   ]
  },
  {
   "cell_type": "raw",
   "id": "97aa82cd-4638-45c9-ba47-ec5bd6b8b8cd",
   "metadata": {},
   "source": [
    "[1]  [5]    [6]\n",
    "[2]  [4]    [6]\n",
    "[3]  [3] =  [6]\n",
    "[4]  [2]    [6]\n",
    "[5]  [1]    [6]\n",
    "leength = 5  for all "
   ]
  },
  {
   "cell_type": "code",
   "execution_count": 21,
   "id": "24d15995-2fea-43ae-b920-91151a7399dc",
   "metadata": {},
   "outputs": [],
   "source": [
    "v1 = np.array([1,2,3,4,5])\n",
    "v2 = np.array([5,4,3,2,1])"
   ]
  },
  {
   "cell_type": "code",
   "execution_count": 22,
   "id": "62438666-8fcd-4f83-ae6f-f24c3686dec9",
   "metadata": {},
   "outputs": [
    {
     "data": {
      "text/plain": [
       "array([6, 6, 6, 6, 6])"
      ]
     },
     "execution_count": 22,
     "metadata": {},
     "output_type": "execute_result"
    }
   ],
   "source": [
    "v1 + v2"
   ]
  },
  {
   "cell_type": "markdown",
   "id": "e5d7bd21-d842-40b7-a7be-cc7b4a4fea1f",
   "metadata": {},
   "source": [
    "With vectors we only care about the length.\n",
    "\n",
    "the two vectors have thesame length, so they are compatible.\n",
    "\n",
    "There is only one way to add them up.\n",
    "\n",
    "first element with first element, second element with second and so  on."
   ]
  },
  {
   "cell_type": "markdown",
   "id": "994ed06a-4f1d-413a-a8e3-d8c86b7971a1",
   "metadata": {},
   "source": [
    "The result is a vector of length 5 where all nteries a 6 "
   ]
  },
  {
   "cell_type": "markdown",
   "id": "c47e9afe-471d-49ea-9d75-b4697043a112",
   "metadata": {},
   "source": [
    "What about the difference ?"
   ]
  },
  {
   "cell_type": "markdown",
   "id": "4534c905-91aa-4686-ba4c-e9cb5b2406fb",
   "metadata": {},
   "source": [
    "It is a vector of length 5 with \n",
    "\n",
    "elements of -4,-2, 0, 2, 4"
   ]
  },
  {
   "cell_type": "code",
   "execution_count": 23,
   "id": "cd8d6613-1fd2-4f24-9a8c-0f8e87c0e2b2",
   "metadata": {},
   "outputs": [
    {
     "data": {
      "text/plain": [
       "array([-4, -2,  0,  2,  4])"
      ]
     },
     "execution_count": 23,
     "metadata": {},
     "output_type": "execute_result"
    }
   ],
   "source": [
    "v1-v2"
   ]
  },
  {
   "cell_type": "raw",
   "id": "7802c4c4-1d9e-457b-96de-4a5fa7aea5db",
   "metadata": {},
   "source": [
    "[1]    [5]       [-4]\n",
    "[2]    [4]        [-2]\n",
    "[3] -  [3]   =    [0]\n",
    "[4]    [2]        [2]\n",
    "[5]    [1]        [4]"
   ]
  },
  {
   "cell_type": "markdown",
   "id": "362ea2a2-ef20-4102-aa0d-a5485886c5c8",
   "metadata": {},
   "source": [
    "#### Errors when Adding Matrices"
   ]
  },
  {
   "cell_type": "markdown",
   "id": "61c9ca87-0a21-4853-98c5-efd8b6c28da6",
   "metadata": {},
   "source": [
    "Lets talk a bit more about scalars .\n",
    "\n",
    "Scalars are more peculiar than high\n",
    "\n",
    "dimension objects because they are single numbers.\n",
    "\n",
    "we didnt talk about it , but i believe \n",
    "\n",
    "we know how to add two scalars together."
   ]
  },
  {
   "cell_type": "markdown",
   "id": "a024ace8-79a7-426a-a0fb-90fd845cb0d0",
   "metadata": {
    "tags": []
   },
   "source": [
    "##### Import the necessary libraries"
   ]
  },
  {
   "cell_type": "code",
   "execution_count": 24,
   "id": "dd617097-1e35-41c0-b206-5058ab0ba652",
   "metadata": {},
   "outputs": [],
   "source": [
    "import numpy as np"
   ]
  },
  {
   "cell_type": "markdown",
   "id": "49fc3d98-be4b-4dc9-b694-b00f954f758c",
   "metadata": {},
   "source": [
    "##### Addition"
   ]
  },
  {
   "cell_type": "markdown",
   "id": "0c47847c-9736-4276-b594-e555602effb5",
   "metadata": {
    "tags": []
   },
   "source": [
    "###### Addition of scalars"
   ]
  },
  {
   "cell_type": "code",
   "execution_count": 25,
   "id": "a10e2cfe-fa34-45e4-a543-a3c6b10a7489",
   "metadata": {},
   "outputs": [
    {
     "data": {
      "text/plain": [
       "10"
      ]
     },
     "execution_count": 25,
     "metadata": {},
     "output_type": "execute_result"
    }
   ],
   "source": [
    "5 + 5"
   ]
  },
  {
   "cell_type": "code",
   "execution_count": 27,
   "id": "c95dab10-b948-40b6-abaf-30cd6f6aaf84",
   "metadata": {},
   "outputs": [
    {
     "data": {
      "text/plain": [
       "6"
      ]
     },
     "execution_count": 27,
     "metadata": {},
     "output_type": "execute_result"
    }
   ],
   "source": [
    "10 - 4"
   ]
  },
  {
   "cell_type": "markdown",
   "id": "3f04af3e-ff37-4a42-8063-73b0da42cf94",
   "metadata": {},
   "source": [
    "We also know that in other to add \n",
    "\n",
    "vectors and matrices together their forms must match.\n",
    "\n",
    "We are not allowed to add vectors of \n",
    "\n",
    "different lenghts and matrices with different dimension."
   ]
  },
  {
   "cell_type": "markdown",
   "id": "59fad2b3-35bc-4702-a616-5f18c253004c",
   "metadata": {},
   "source": [
    "Such operations are not allowed in \n",
    "\n",
    "linear algebra and python knows that."
   ]
  },
  {
   "cell_type": "markdown",
   "id": "24574e17-2602-4b5e-beec-ff7ce36c4783",
   "metadata": {},
   "source": [
    "For instance, if i try to add 2x3 \n",
    "\n",
    "matrics , we will get error message\n",
    "\n",
    "\"operands could not be brought together \n",
    "\n",
    "with shape\" (2,3) (2,2)\n",
    "\n",
    "Showing you the shape in question."
   ]
  },
  {
   "cell_type": "markdown",
   "id": "17d1492b-abdf-4eaa-8dc5-49c13537c711",
   "metadata": {},
   "source": [
    "Similarly, if we try to add two vectors\n",
    "\n",
    "with different lengths we will receive thesame error"
   ]
  },
  {
   "cell_type": "markdown",
   "id": "2dd19d8d-481c-4b03-9d30-e95ae3bca2cf",
   "metadata": {},
   "source": [
    "Mathematically, these operations dont \n",
    "\n",
    "make sense, so it cant be executed."
   ]
  },
  {
   "cell_type": "markdown",
   "id": "3b9c2752-2c1f-4c8b-a8c5-16bd40928513",
   "metadata": {},
   "source": [
    "##### Exceptions (addition with a scalar)"
   ]
  },
  {
   "cell_type": "markdown",
   "id": "fd7ea921-95f1-4c12-ab14-8e9565ff44c2",
   "metadata": {},
   "source": [
    "However, there is one exception.\n",
    "\n",
    "Because of how arrays work in python \n",
    "\n",
    "and many other languages we can \n",
    "\n",
    "actually add scalars to matrices and vectors."
   ]
  },
  {
   "cell_type": "markdown",
   "id": "4d743124-57d4-4b16-a79a-01f7313d2022",
   "metadata": {},
   "source": [
    "For instance, if i add 1 to the matrix \n",
    "\n",
    "m1, you can see that one was adeded \n",
    "\n",
    "element wise.\n",
    "\n",
    "In other words , each element was increased by 1"
   ]
  },
  {
   "cell_type": "code",
   "execution_count": 28,
   "id": "b383d399-e54f-4742-8120-770bba44e9a6",
   "metadata": {},
   "outputs": [
    {
     "data": {
      "text/plain": [
       "array([[ 5, 12,  6],\n",
       "       [-3,  0, 14]])"
      ]
     },
     "execution_count": 28,
     "metadata": {},
     "output_type": "execute_result"
    }
   ],
   "source": [
    "m1"
   ]
  },
  {
   "cell_type": "code",
   "execution_count": 29,
   "id": "fdda5ad2-8d61-4760-8cbc-2b2678d85390",
   "metadata": {},
   "outputs": [
    {
     "data": {
      "text/plain": [
       "array([[ 6, 13,  7],\n",
       "       [-2,  1, 15]])"
      ]
     },
     "execution_count": 29,
     "metadata": {},
     "output_type": "execute_result"
    }
   ],
   "source": [
    "m1 + 1"
   ]
  },
  {
   "cell_type": "markdown",
   "id": "1805bc80-f797-43a8-8bf1-f219edd70027",
   "metadata": {},
   "source": [
    "Similarly, if i add 1 to the vector \n",
    "\n",
    "v1,it will be added element -wise"
   ]
  },
  {
   "cell_type": "code",
   "execution_count": 30,
   "id": "39d04cfc-a6f6-4f99-bafe-1b53b6245ca4",
   "metadata": {},
   "outputs": [
    {
     "data": {
      "text/plain": [
       "array([1, 2, 3, 4, 5])"
      ]
     },
     "execution_count": 30,
     "metadata": {},
     "output_type": "execute_result"
    }
   ],
   "source": [
    "v1"
   ]
  },
  {
   "cell_type": "code",
   "execution_count": 31,
   "id": "d5f869be-5f5d-472a-911a-0550a1c11ddd",
   "metadata": {},
   "outputs": [
    {
     "data": {
      "text/plain": [
       "array([2, 3, 4, 5, 6])"
      ]
     },
     "execution_count": 31,
     "metadata": {},
     "output_type": "execute_result"
    }
   ],
   "source": [
    "v1 + 1"
   ]
  },
  {
   "cell_type": "markdown",
   "id": "69242a28-2d88-42c7-903f-9cae081a3597",
   "metadata": {},
   "source": [
    "Mathematically, this operation is not\n",
    "\n",
    "allowed as their shape are different.\n",
    "\n",
    "But in programming , specifically , in python it works."
   ]
  },
  {
   "cell_type": "markdown",
   "id": "df3f545f-303a-4513-bace-bf1257cda946",
   "metadata": {},
   "source": [
    "It is important to be aware of this peculiarity."
   ]
  },
  {
   "cell_type": "markdown",
   "id": "c147dd7d-273d-43cd-8243-4147e9eba86c",
   "metadata": {},
   "source": [
    "The result has a meaaning in terms of arrays but not in terms of linear algebra"
   ]
  },
  {
   "cell_type": "markdown",
   "id": "2f9727ab-28e6-4d65-88dd-bebbc53dde62",
   "metadata": {},
   "source": [
    "And this is one of the big differences \n",
    "\n",
    "between the conceots of nd arrays and tensors"
   ]
  },
  {
   "cell_type": "code",
   "execution_count": 32,
   "id": "3dba76ac-168c-4cee-85c1-85bbdf8ac1a4",
   "metadata": {},
   "outputs": [
    {
     "data": {
      "text/plain": [
       "array([[ 6, 13,  7],\n",
       "       [-2,  1, 15]])"
      ]
     },
     "execution_count": 32,
     "metadata": {},
     "output_type": "execute_result"
    }
   ],
   "source": [
    "m1 + np.array([1])"
   ]
  },
  {
   "cell_type": "code",
   "execution_count": 33,
   "id": "1cd70e25-ea88-4a7e-9f5e-899f5baf95c1",
   "metadata": {},
   "outputs": [
    {
     "data": {
      "text/plain": [
       "array([2, 3, 4, 5, 6])"
      ]
     },
     "execution_count": 33,
     "metadata": {},
     "output_type": "execute_result"
    }
   ],
   "source": [
    "v1 + np.array([1])"
   ]
  },
  {
   "cell_type": "markdown",
   "id": "95bb8bc2-fe35-4945-aacc-c5bf8ba97eb7",
   "metadata": {},
   "source": [
    "#### Transpose of a Matrix"
   ]
  },
  {
   "cell_type": "markdown",
   "id": "94a850ad-3c44-4fd7-96cb-8ac2128ec8a2",
   "metadata": {},
   "source": [
    "Lets start from vectors.\n",
    "\n",
    "We already know that vectors are either rows or columns.\n",
    "\n",
    "Hence lets execute the column vector\n",
    "\n",
    "[1,2,3]"
   ]
  },
  {
   "cell_type": "raw",
   "id": "2310c8f3-00b8-4aea-b01a-ce2e90b3e8fb",
   "metadata": {},
   "source": [
    "[1]\n",
    "[2]\n",
    "[3]\n",
    "\n",
    "x\n",
    "colomn"
   ]
  },
  {
   "cell_type": "markdown",
   "id": "198c19bb-d21f-4853-88bd-975096618fdd",
   "metadata": {},
   "source": [
    "There is a special operation when it comes to row vector.\n",
    "\n",
    "We can transpose it ."
   ]
  },
  {
   "cell_type": "raw",
   "id": "bbf415d8-d81b-4d3c-8dc8-c7f7686bc019",
   "metadata": {},
   "source": [
    "[1 2 3]\n",
    "xT\n",
    "row"
   ]
  },
  {
   "cell_type": "markdown",
   "id": "92532de4-d82e-4140-bb92-cd6305732652",
   "metadata": {},
   "source": [
    "Transposing the column vector  123 will\n",
    "\n",
    "yield in a row vector 123"
   ]
  },
  {
   "cell_type": "raw",
   "id": "69ceaabd-3df1-4353-b99f-f0772cb3a9e7",
   "metadata": {},
   "source": [
    "[1] T\n",
    "[2]\n",
    "[3]      =    [1 2 3]\n",
    "\n",
    "x                  XT"
   ]
  },
  {
   "cell_type": "raw",
   "id": "9946dc17-8432-464e-aa93-6446ae323320",
   "metadata": {},
   "source": [
    "We denote this operation with a letter T as a supper script.\n",
    "\n",
    "Therefore, X Transpose (xT) or the \n",
    "\n",
    "column vector [1]\n",
    "              [2]\n",
    "              [3]\n",
    "Transpose = row vector [1 2 3]"
   ]
  },
  {
   "cell_type": "code",
   "execution_count": null,
   "id": "6430b4b8-a57f-4449-a421-d16fd9753733",
   "metadata": {},
   "outputs": [],
   "source": [
    "Another example:\n",
    "    \n",
    "The row vector [1 2 3] T \n",
    "                xT\n",
    "= colunm vector [1] \n",
    "                [2]\n",
    "                [3]\n",
    "                \n",
    "                (xT) = x"
   ]
  },
  {
   "cell_type": "markdown",
   "id": "5fe3653c-713b-4975-a339-2ff3e75a90e0",
   "metadata": {},
   "source": [
    "If we transpose x twicw , we get x ie \n",
    "\n",
    "(xT)^T = x"
   ]
  },
  {
   "cell_type": "markdown",
   "id": "9d0734c0-406f-432b-9b58-9d708fc1dfb0",
   "metadata": {},
   "source": [
    "Another Example:"
   ]
  },
  {
   "cell_type": "raw",
   "id": "d377f235-86bd-44c9-85a3-12bbb000bd4e",
   "metadata": {},
   "source": [
    "The row vector [2 -2 0 5]T  when\n",
    "\n",
    "transposed becomes the column vector [2]\n",
    "[-2]\n",
    "[0]\n",
    "[5]"
   ]
  },
  {
   "cell_type": "markdown",
   "id": "c6a9def8-6579-4beb-81e5-ad7bd1a81dbe",
   "metadata": {},
   "source": [
    "However, there are very important considerations.\n",
    "\n",
    ". 1 when we transpose a vector, we are not loosing any information\n",
    "\n",
    "The values are not changing or transforming, only thier positions is.\n",
    "\n",
    "2. Transposing the same vector twice yields the initial vector(object)\n",
    "\n",
    ".3 Our initial vector 1,2,3 has a length of 3, in other words it was a \n",
    "\n",
    "3x1 matrix and by transposing it , it remained the vector of lenght 3 but became a 1x3 matrix.\n",
    "\n",
    "A 3x1 matrix transposed is a 3x1 matrix"
   ]
  },
  {
   "cell_type": "markdown",
   "id": "6a135556-51dd-466b-8482-ff4da666a509",
   "metadata": {},
   "source": [
    "Transposing turns all the rows into column and vice versa.\n",
    "\n",
    "In terms of dimension, when transposed, mxn T matrix becomes nxm matrix."
   ]
  },
  {
   "cell_type": "markdown",
   "id": "20fbc3db-6a7b-4321-a980-a9120d108c4a",
   "metadata": {},
   "source": [
    "EXAMPlE"
   ]
  },
  {
   "cell_type": "raw",
   "id": "4fb70b4a-2b45-4ba2-a83e-7251b21c01dc",
   "metadata": {},
   "source": [
    "A =     [5 12 6]\n",
    "2x3     [-3 0 14]"
   ]
  },
  {
   "cell_type": "code",
   "execution_count": null,
   "id": "a0bdef53-8299-4e71-a3e2-41e7a0a79092",
   "metadata": {},
   "outputs": [],
   "source": [
    "A transposed gives"
   ]
  },
  {
   "cell_type": "raw",
   "id": "fbd7d737-8ca5-4ba3-bb62-5b00cd31c38b",
   "metadata": {},
   "source": [
    "A^T  =  [5 -3]\n",
    "3x2     [12 0]\n",
    "        [6 14]"
   ]
  },
  {
   "cell_type": "markdown",
   "id": "11338293-77d8-4f3a-afeb-a940fbb243cc",
   "metadata": {},
   "source": [
    "A is  a 2x3 matrix when transposed it becomes a 3x2 matrix.\n",
    "\n",
    "We can see that the first colunm of A became the first row A transposed.\n",
    "\n",
    "The second column of A became the second row A transposed.\n",
    "\n",
    "And the 3rd column became the 3rd row.\n",
    "\n",
    "This is how we transpose a matrix."
   ]
  },
  {
   "cell_type": "markdown",
   "id": "fc365d6b-fd9c-4303-8527-3c3a2fb929c5",
   "metadata": {},
   "source": [
    "THe initial matrix A is nothing more than a collection of two row vectors."
   ]
  },
  {
   "cell_type": "raw",
   "id": "16cc8c8b-28ea-4add-8e1f-f072e493603b",
   "metadata": {},
   "source": [
    "A =  [3 12 6]         A ^T  = [5 -5]\n",
    "2x3  [-3 0 14]        3x2     [12 0]\n",
    "                             [6 14]"
   ]
  },
  {
   "cell_type": "markdown",
   "id": "42d39ff9-8cf1-4c24-8bb3-8c8fc850041b",
   "metadata": {},
   "source": [
    "Transposing the matrix A is means transposing \n",
    "\n",
    "each of those vectors and putting them back together."
   ]
  },
  {
   "cell_type": "markdown",
   "id": "100214ba-75f5-4d1e-b6e1-3af504237470",
   "metadata": {},
   "source": [
    "So transposing matrices is nothing more\n",
    "\n",
    "than transposing a bunch of vectors."
   ]
  },
  {
   "cell_type": "markdown",
   "id": "7ec0b46d-2c7d-4bd3-aa59-302631c77090",
   "metadata": {},
   "source": [
    "##### Import the relevant libraries"
   ]
  },
  {
   "cell_type": "code",
   "execution_count": 34,
   "id": "630c359e-78f3-404d-a50f-b33a74262bd0",
   "metadata": {},
   "outputs": [],
   "source": [
    "import numpy as np"
   ]
  },
  {
   "cell_type": "markdown",
   "id": "6b0259dc-8e8a-48d5-a425-dbb17422ede5",
   "metadata": {},
   "source": [
    "##### Transposing matrices"
   ]
  },
  {
   "cell_type": "markdown",
   "id": "701548cc-ccf4-49a5-a008-29b464800b30",
   "metadata": {},
   "source": [
    "First we declare A as an np.array.\n",
    "\n",
    "array.T returns the transpose of an \n",
    "\n",
    "array(matrix)\n",
    "\n",
    "In order to get the transpose of A we \n",
    "\n",
    "simply write A.T ie A dot capital T. "
   ]
  },
  {
   "cell_type": "code",
   "execution_count": 35,
   "id": "8854a9a5-ba99-47e2-b314-4bbba3dffe5c",
   "metadata": {},
   "outputs": [
    {
     "data": {
      "text/plain": [
       "array([[ 5, 12,  6],\n",
       "       [-3,  0, 14]])"
      ]
     },
     "execution_count": 35,
     "metadata": {},
     "output_type": "execute_result"
    }
   ],
   "source": [
    "A = np.array([[5,12,6],[-3,0,14]])\n",
    "A"
   ]
  },
  {
   "cell_type": "code",
   "execution_count": 36,
   "id": "87bc6dc8-3207-4bba-a00e-bccebbe13a68",
   "metadata": {},
   "outputs": [
    {
     "data": {
      "text/plain": [
       "array([[ 5, -3],\n",
       "       [12,  0],\n",
       "       [ 6, 14]])"
      ]
     },
     "execution_count": 36,
     "metadata": {},
     "output_type": "execute_result"
    }
   ],
   "source": [
    "A.T"
   ]
  },
  {
   "cell_type": "code",
   "execution_count": null,
   "id": "a61c6dd9-c879-41e6-bf46-c8687a6ea274",
   "metadata": {},
   "outputs": [],
   "source": [
    "EXAMPLE 2:"
   ]
  },
  {
   "cell_type": "markdown",
   "id": "f75c238f-20a9-4533-8613-e175403b248a",
   "metadata": {},
   "source": [
    "Taking the 2x2 matrix containing 5,3 \n",
    "\n",
    "and -2, 4and transposing it , we get \n",
    "\n",
    "another 2x2 matrix."
   ]
  },
  {
   "cell_type": "code",
   "execution_count": 37,
   "id": "681fa39e-b0bc-4818-977c-40f705d01e7e",
   "metadata": {},
   "outputs": [
    {
     "data": {
      "text/plain": [
       "array([[ 5,  3],\n",
       "       [-2,  4]])"
      ]
     },
     "execution_count": 37,
     "metadata": {},
     "output_type": "execute_result"
    }
   ],
   "source": [
    "B = np.array([[5,3], [-2,4]])\n",
    "B"
   ]
  },
  {
   "cell_type": "code",
   "execution_count": 38,
   "id": "c1aca2af-6f75-423d-b5ad-be42255b793a",
   "metadata": {},
   "outputs": [
    {
     "data": {
      "text/plain": [
       "array([[ 5, -2],\n",
       "       [ 3,  4]])"
      ]
     },
     "execution_count": 38,
     "metadata": {},
     "output_type": "execute_result"
    }
   ],
   "source": [
    "B.T"
   ]
  },
  {
   "cell_type": "code",
   "execution_count": null,
   "id": "da00929b-db66-42e4-a29e-252b7c0e7fee",
   "metadata": {},
   "outputs": [],
   "source": [
    "EXAMPLE 3"
   ]
  },
  {
   "cell_type": "markdown",
   "id": "fa45c324-0574-419b-93ef-9f167b3a7924",
   "metadata": {},
   "source": [
    "We will be using a 4x3 matrix.\n",
    "\n",
    "When it is transposed the result below is what we will get.\n",
    "\n",
    "Observe that this operation is nothing more than transposing several vectors 1x1"
   ]
  },
  {
   "cell_type": "code",
   "execution_count": 39,
   "id": "9d8cc83b-400f-40cc-98cd-97bd8b320042",
   "metadata": {},
   "outputs": [
    {
     "data": {
      "text/plain": [
       "array([[ 4, -5],\n",
       "       [ 8, 12],\n",
       "       [-2, -3],\n",
       "       [19,  0]])"
      ]
     },
     "execution_count": 39,
     "metadata": {},
     "output_type": "execute_result"
    }
   ],
   "source": [
    "C = np.array([[4,-5],[8,12],[-2,-3],[19,0]])\n",
    "C"
   ]
  },
  {
   "cell_type": "code",
   "execution_count": 40,
   "id": "5738d922-4f86-4eb7-9faf-a88b1899d7a1",
   "metadata": {},
   "outputs": [
    {
     "data": {
      "text/plain": [
       "array([[ 4,  8, -2, 19],\n",
       "       [-5, 12, -3,  0]])"
      ]
     },
     "execution_count": 40,
     "metadata": {},
     "output_type": "execute_result"
    }
   ],
   "source": [
    "C.T"
   ]
  },
  {
   "cell_type": "markdown",
   "id": "34a00dc8-ea18-450c-b68f-ea9fc108f7b8",
   "metadata": {},
   "source": [
    "##### Transposing scalars"
   ]
  },
  {
   "cell_type": "markdown",
   "id": "6074aec7-3773-4f1a-8004-748432bd98da",
   "metadata": {},
   "source": [
    "Here are some further clarifications.\n",
    "\n",
    "Any scalar when transposed equals itself.\n",
    "\n",
    "They are not the most interesting concept\n"
   ]
  },
  {
   "cell_type": "code",
   "execution_count": 45,
   "id": "48bc3e38-bc44-4644-8e59-293365fe05c6",
   "metadata": {},
   "outputs": [],
   "source": [
    "s = np.array([5])\n"
   ]
  },
  {
   "cell_type": "code",
   "execution_count": 46,
   "id": "c634347c-7e6a-45ee-a3c2-a33ee3b42dde",
   "metadata": {},
   "outputs": [
    {
     "data": {
      "text/plain": [
       "array([5])"
      ]
     },
     "execution_count": 46,
     "metadata": {},
     "output_type": "execute_result"
    }
   ],
   "source": [
    "s.T"
   ]
  },
  {
   "cell_type": "markdown",
   "id": "956884a3-38c5-46d3-b5ea-1e846485edf6",
   "metadata": {},
   "source": [
    "##### Transposing vectors"
   ]
  },
  {
   "cell_type": "markdown",
   "id": "37fea0a5-10f6-41e5-a524-95809baa36c9",
   "metadata": {},
   "source": [
    "We have the vector x = 1, 2 3, \n",
    "\n",
    "transposing it will yield same result, \n",
    "\n",
    "this is because in python 1 dimensional \n",
    "\n",
    "arrays do not really get transposed( in the memory of the computer)"
   ]
  },
  {
   "cell_type": "code",
   "execution_count": 47,
   "id": "bb34396a-ee20-4612-9750-b391cb42c35b",
   "metadata": {},
   "outputs": [
    {
     "data": {
      "text/plain": [
       "array([1, 2, 3])"
      ]
     },
     "execution_count": 47,
     "metadata": {},
     "output_type": "execute_result"
    }
   ],
   "source": [
    "x = np.array([1,2,3])\n",
    "x"
   ]
  },
  {
   "cell_type": "code",
   "execution_count": 48,
   "id": "72f81f97-a9e6-4e2f-9471-f10dea58f7b6",
   "metadata": {},
   "outputs": [
    {
     "data": {
      "text/plain": [
       "array([1, 2, 3])"
      ]
     },
     "execution_count": 48,
     "metadata": {},
     "output_type": "execute_result"
    }
   ],
   "source": [
    "x.T"
   ]
  },
  {
   "cell_type": "markdown",
   "id": "1c51e46e-eea7-49e0-b329-ca24d5101dd2",
   "metadata": {},
   "source": [
    "Remember its shape  is 3,"
   ]
  },
  {
   "cell_type": "code",
   "execution_count": 49,
   "id": "55fc6b9b-7540-45df-b6c2-a38ce71fbf12",
   "metadata": {},
   "outputs": [
    {
     "data": {
      "text/plain": [
       "(3,)"
      ]
     },
     "execution_count": 49,
     "metadata": {},
     "output_type": "execute_result"
    }
   ],
   "source": [
    "x.shape"
   ]
  },
  {
   "cell_type": "markdown",
   "id": "07f8872e-eaec-48ee-8ce5-54de83a104f0",
   "metadata": {},
   "source": [
    "If we resahpe it into a 3x1 matrix or 2 \n",
    "\n",
    "dimensional array, we will be able to transpose it.\n",
    "\n",
    "This is another peculiarity you must \n",
    "\n",
    "consider when working with nd.arrays in python"
   ]
  },
  {
   "cell_type": "code",
   "execution_count": 50,
   "id": "2cf6effc-4882-4652-bc97-9ab5cd74d1a9",
   "metadata": {},
   "outputs": [
    {
     "data": {
      "text/plain": [
       "array([[1, 2, 3]])"
      ]
     },
     "execution_count": 50,
     "metadata": {},
     "output_type": "execute_result"
    }
   ],
   "source": [
    "x_reshaped = x.reshape(1,3)\n",
    "x_reshaped"
   ]
  },
  {
   "cell_type": "code",
   "execution_count": 52,
   "id": "221669f2-bfa7-4a8b-b76e-28659b77c1cc",
   "metadata": {},
   "outputs": [
    {
     "data": {
      "text/plain": [
       "array([[1],\n",
       "       [2],\n",
       "       [3]])"
      ]
     },
     "execution_count": 52,
     "metadata": {},
     "output_type": "execute_result"
    }
   ],
   "source": [
    "x_reshaped.T"
   ]
  },
  {
   "cell_type": "markdown",
   "id": "16a9c1bd-c98d-44c1-bd76-8cbf7ca919db",
   "metadata": {},
   "source": [
    "#### Dot Product"
   ]
  },
  {
   "cell_type": "markdown",
   "id": "80974e82-f49a-4f53-8f85-7d6cf3dc7a69",
   "metadata": {},
   "source": [
    "#### Multiplication"
   ]
  },
  {
   "cell_type": "markdown",
   "id": "e3debb3a-4615-4d78-b9ce-35cdf89b1667",
   "metadata": {},
   "source": [
    "Scalar Multiplication"
   ]
  },
  {
   "cell_type": "markdown",
   "id": "771de7da-4f06-4728-bf5d-71d8b9bc970c",
   "metadata": {},
   "source": [
    "Dot represents multiplication\n",
    "\n",
    "5 times 6 is 30"
   ]
  },
  {
   "cell_type": "code",
   "execution_count": null,
   "id": "d7a1a20a-3f07-4e66-b408-e4572a779bb5",
   "metadata": {},
   "outputs": [],
   "source": [
    "[6] .[5] = [30]\n",
    "\n",
    "[10] . [-2] = [-20]"
   ]
  },
  {
   "cell_type": "markdown",
   "id": "49a84091-a10e-4982-8be6-a2028e9274b5",
   "metadata": {},
   "source": [
    "VECTOR MULTIPLICATION"
   ]
  },
  {
   "cell_type": "markdown",
   "id": "661f7688-b09f-407c-9c07-02141f67e86e",
   "metadata": {},
   "source": [
    "It is much more interesting to investigate vector multiplication."
   ]
  },
  {
   "cell_type": "code",
   "execution_count": null,
   "id": "94131acc-205b-405f-b9f4-a7eb50eb861d",
   "metadata": {},
   "outputs": [],
   "source": [
    "[2]   X   [1]\n",
    "[8]       [-7]\n",
    "[-4]      [3]"
   ]
  },
  {
   "cell_type": "markdown",
   "id": "d7103cb2-3ff6-4798-9bc5-d664cfd68749",
   "metadata": {},
   "source": [
    "If we want to multiply them, the condition is that they must be \n",
    "\n",
    "compatible or in order words they must have thesame length.\n",
    "\n",
    "Condition : They must be of thesame length"
   ]
  },
  {
   "cell_type": "markdown",
   "id": "863fb1f6-e394-4e35-9a86-43f5b763aa1c",
   "metadata": {},
   "source": [
    "Ther are two types of products we can get\n",
    "\n",
    ".1 Dot or inner product\n",
    "\n",
    ".2 Tensor or outer product"
   ]
  },
  {
   "cell_type": "markdown",
   "id": "5d804226-4997-4c30-9534-df31611b20ab",
   "metadata": {},
   "source": [
    "Here we will not be needing the outer products."
   ]
  },
  {
   "cell_type": "markdown",
   "id": "5038c804-c898-4382-ba6c-66e65c8c3ad4",
   "metadata": {},
   "source": [
    "An outer product is a procedure in linear algebra that combines two vectors (Banchoff & Wermer, 1992).\n",
    "\n",
    "Let a be a column vector with x entries, and let b' be a row vector with y entries. The outer product of \n",
    "\n",
    "these two vectors is D = ab' where D will be a matrix that will have x rows and y columns."
   ]
  },
  {
   "cell_type": "markdown",
   "id": "70707589-b11b-4366-920e-692ba0cc08c8",
   "metadata": {},
   "source": [
    "Dot product is heavily used but we \n",
    "\n",
    "will talk about multiplying vectors and matrices and what they mean."
   ]
  },
  {
   "cell_type": "markdown",
   "id": "c967ad23-2d5a-4d55-8003-cf3cef69a349",
   "metadata": {},
   "source": [
    "Other popular names for the Dot product are inner or scalar.\n",
    "\n",
    "The Notation is  a . signifying that it is a dot product"
   ]
  },
  {
   "cell_type": "raw",
   "id": "fea0891a-31ff-47c1-8c9b-d19eaab69ea4",
   "metadata": {},
   "source": [
    "[2]      [1]\n",
    "[8]   .  [-7] = [2x1 + 8(-7)+(-4)x3]\n",
    "[-4]     [3]            = -66\n",
    "\n",
    "vector    vector           scalar"
   ]
  },
  {
   "cell_type": "markdown",
   "id": "b4e0659b-cf75-4ab6-a8a4-734f42a17e74",
   "metadata": {},
   "source": [
    "How it works?\n",
    "\n",
    "We multiply each 2 corresponding \n",
    "\n",
    "element and find a sum.\n",
    "\n",
    "In our case, 2x1 + x-7 + -4 x3 = -66"
   ]
  },
  {
   "cell_type": "markdown",
   "id": "53b3a9f3-fd18-47eb-a0ae-1c21b6c8e235",
   "metadata": {},
   "source": [
    "As you can see we multiplied 2 vectors and got a scalar product."
   ]
  },
  {
   "cell_type": "markdown",
   "id": "9fa938e6-e8b0-4db3-b93f-17f7ffdcd679",
   "metadata": {},
   "source": [
    "Furthermore  note that the dot product\n",
    "\n",
    "is nothing more than the 'sum of the \n",
    "\n",
    "products of the corressponding elements'."
   ]
  },
  {
   "cell_type": "markdown",
   "id": "1470d012-114c-4f9b-8f81-b4bf0f7fb5c2",
   "metadata": {},
   "source": [
    "In python, we wil need to declare the two vectors.\n",
    "\n",
    "We will use the method dot provided by numpy"
   ]
  },
  {
   "cell_type": "markdown",
   "id": "6ec4b1f9-c253-40b9-9b7b-c857655fef8c",
   "metadata": {},
   "source": [
    "##### Import relevant libraries"
   ]
  },
  {
   "cell_type": "code",
   "execution_count": 3,
   "id": "3f4d65d3-9a8b-48a3-b0d8-d196b35471b8",
   "metadata": {},
   "outputs": [],
   "source": [
    "import numpy as np"
   ]
  },
  {
   "cell_type": "markdown",
   "id": "08c552bc-32a5-40da-b340-e4dabbef0205",
   "metadata": {
    "tags": []
   },
   "source": [
    "###### Dot product"
   ]
  },
  {
   "cell_type": "code",
   "execution_count": 2,
   "id": "992f2eb2-4810-4bc3-aff2-4d25bff73f95",
   "metadata": {},
   "outputs": [],
   "source": [
    "x = np.array([2,8,-4])\n",
    "y = np.array([1,-7,3])"
   ]
  },
  {
   "cell_type": "code",
   "execution_count": 3,
   "id": "c012c35b-674c-4db6-892a-cc3409fe8fa2",
   "metadata": {},
   "outputs": [
    {
     "data": {
      "text/plain": [
       "-66"
      ]
     },
     "execution_count": 3,
     "metadata": {},
     "output_type": "execute_result"
    }
   ],
   "source": [
    "np.dot(x,y)"
   ]
  },
  {
   "cell_type": "markdown",
   "id": "a5f71b74-f265-40f0-b177-67fdc7607cf6",
   "metadata": {},
   "source": [
    "This gives us the dot product which is -66."
   ]
  },
  {
   "cell_type": "code",
   "execution_count": null,
   "id": "95862320-cc24-4cfc-893b-1e269f9c0ad9",
   "metadata": {},
   "outputs": [],
   "source": [
    "EXAMPLE 2:"
   ]
  },
  {
   "cell_type": "raw",
   "id": "b6df4584-dd11-4630-bc21-1e97b1351db8",
   "metadata": {},
   "source": [
    "the dot product u = [0 2 5 8]\n",
    "                v = [20,3,4,-1]\n",
    "    \n",
    "    0x(20) + (2x3) + (5x4) + 8 x (-1)"
   ]
  },
  {
   "cell_type": "code",
   "execution_count": 5,
   "id": "cf2f678e-f9d4-4c83-a4aa-48ec214e4005",
   "metadata": {},
   "outputs": [],
   "source": [
    "u = np.array([0, 2, 5, 8])\n",
    "v = np.array([20,3,4,-1])"
   ]
  },
  {
   "cell_type": "code",
   "execution_count": 6,
   "id": "7b311b7b-2813-48d8-8a7d-e0ab0e9f97f3",
   "metadata": {},
   "outputs": [
    {
     "data": {
      "text/plain": [
       "18"
      ]
     },
     "execution_count": 6,
     "metadata": {},
     "output_type": "execute_result"
    }
   ],
   "source": [
    "np.dot(u,v)"
   ]
  },
  {
   "cell_type": "markdown",
   "id": "c5aa578f-62a8-4ebf-92bf-a559365d975b",
   "metadata": {},
   "source": [
    "##### Scalar * Scalar"
   ]
  },
  {
   "cell_type": "markdown",
   "id": "cfcf4cbb-5711-4802-a4f7-a2c1dd231dc0",
   "metadata": {},
   "source": [
    "What about the operation at the beginning of the lecture.\n"
   ]
  },
  {
   "cell_type": "code",
   "execution_count": 8,
   "id": "b38051e6-2908-4696-852f-cf3b0daa9fd6",
   "metadata": {},
   "outputs": [
    {
     "data": {
      "text/plain": [
       "30"
      ]
     },
     "execution_count": 8,
     "metadata": {},
     "output_type": "execute_result"
    }
   ],
   "source": [
    "np.dot(5,6)"
   ]
  },
  {
   "cell_type": "markdown",
   "id": "eeadddf8-69fd-410d-a73f-2eaad7eea486",
   "metadata": {},
   "source": [
    "This was a scalar product of two scalar that resulted in another scalar"
   ]
  },
  {
   "cell_type": "code",
   "execution_count": 9,
   "id": "26c34157-86fd-4a1a-95fc-2c91a927f368",
   "metadata": {},
   "outputs": [
    {
     "data": {
      "text/plain": [
       "-20"
      ]
     },
     "execution_count": 9,
     "metadata": {},
     "output_type": "execute_result"
    }
   ],
   "source": [
    "np.dot(10,-2)"
   ]
  },
  {
   "cell_type": "markdown",
   "id": "75d87227-85b9-4a30-8519-0f3a3adbc74f",
   "metadata": {},
   "source": [
    "##### Scalar * Vector"
   ]
  },
  {
   "cell_type": "markdown",
   "id": "79067735-f612-4a3e-8baf-0326bca5e896",
   "metadata": {},
   "source": [
    "What about we multiply  a scalar by  a vector ?\n",
    "\n",
    "When we multiply a vector by a scalar, we get avector with thesame length.\n",
    "\n",
    "Its inconvent are multiplied by the scalar.\n",
    "\n",
    "For our case ,we will get 2x5 , 8x5, and -4x5 \n",
    "\n",
    "the result is  10, 40, -20"
   ]
  },
  {
   "cell_type": "code",
   "execution_count": 10,
   "id": "a584fe79-fe34-4b34-898b-97c5d781c251",
   "metadata": {},
   "outputs": [
    {
     "data": {
      "text/plain": [
       "array([ 2,  8, -4])"
      ]
     },
     "execution_count": 10,
     "metadata": {},
     "output_type": "execute_result"
    }
   ],
   "source": [
    "x"
   ]
  },
  {
   "cell_type": "code",
   "execution_count": 11,
   "id": "bc0016f7-1669-42cf-91c4-5d9378341e13",
   "metadata": {},
   "outputs": [
    {
     "data": {
      "text/plain": [
       "array([ 10,  40, -20])"
      ]
     },
     "execution_count": 11,
     "metadata": {},
     "output_type": "execute_result"
    }
   ],
   "source": [
    "5*x"
   ]
  },
  {
   "cell_type": "markdown",
   "id": "f4973689-e8b6-4692-9e29-654bccbd8399",
   "metadata": {},
   "source": [
    "What is interesting is that the \n",
    "\n",
    "initial vector has been scaled 5times(thus the name).\n",
    "\n",
    "So multiplication of a scalar does not change the shape but only the scale of the values."
   ]
  },
  {
   "cell_type": "markdown",
   "id": "675b431b-3c09-492c-943b-4caa7b0c05ce",
   "metadata": {
    "tags": []
   },
   "source": [
    "#### Dot Product of Matrices"
   ]
  },
  {
   "cell_type": "markdown",
   "id": "9a28546e-0d04-4aa5-ac95-9d5cdcfc8376",
   "metadata": {},
   "source": [
    "#### Matrix multiplication"
   ]
  },
  {
   "cell_type": "markdown",
   "id": "0b510d83-d9a4-42a6-a04f-53ecebc68fba",
   "metadata": {},
   "source": [
    "##### Scalar *Matrix"
   ]
  },
  {
   "cell_type": "code",
   "execution_count": 12,
   "id": "fa76baa0-4a68-4ca1-abca-42873e70edde",
   "metadata": {},
   "outputs": [
    {
     "data": {
      "text/plain": [
       "array([[ 5, 12,  6],\n",
       "       [-3,  9, 14]])"
      ]
     },
     "execution_count": 12,
     "metadata": {},
     "output_type": "execute_result"
    }
   ],
   "source": [
    "A = np.array([[5,12,6],[-3,9,14]])\n",
    "A"
   ]
  },
  {
   "cell_type": "code",
   "execution_count": 13,
   "id": "d4ef3d6a-2945-4ce9-9704-fbc5032edcc3",
   "metadata": {},
   "outputs": [
    {
     "data": {
      "text/plain": [
       "array([[15, 36, 18],\n",
       "       [-9, 27, 42]])"
      ]
     },
     "execution_count": 13,
     "metadata": {},
     "output_type": "execute_result"
    }
   ],
   "source": [
    "3*A"
   ]
  },
  {
   "cell_type": "markdown",
   "id": "1c79f064-9050-4b78-8ef4-0af369eee3ba",
   "metadata": {},
   "source": [
    "Similar to what we say in the last \n",
    "\n",
    "lesson, the shape of the matrix doesnt change,it just got scaled.\n",
    "\n",
    "We keep the shape and multiply each element by 3.\n",
    "\n",
    "The result is as seen above."
   ]
  },
  {
   "cell_type": "markdown",
   "id": "f7c9de95-64b3-48e6-a7ca-40108e972c7e",
   "metadata": {},
   "source": [
    "How do we multiply a matrix with another matrix."
   ]
  },
  {
   "cell_type": "markdown",
   "id": "e9983b71-03a9-4142-8bb1-1d5f86df2977",
   "metadata": {},
   "source": [
    "Using thesame concept the Dot product we can multiply two matrices.\n",
    "\n",
    "There is a compatibility measure here as well.\n",
    "\n",
    "Condition: we can only multiply an mxn\n",
    "written with the matrix and dimension n x k.\n",
    "\n",
    "Basically, the second dimension of the\n",
    "\n",
    "first matrix have to match the first dimension of the second matrix."
   ]
  },
  {
   "cell_type": "markdown",
   "id": "5c52a235-224c-4866-9fd9-64da44a46e38",
   "metadata": {},
   "source": [
    "Hence, we can multiply a 2x3 matix with a 3x1 matrix.\n",
    "\n",
    "Actually we can multiply it by 3x2, 3x3, 3x4 and until 3xk matrix.\n",
    "\n",
    "What is important is that those tress are matching."
   ]
  },
  {
   "cell_type": "markdown",
   "id": "e09f8551-b821-474b-b6fc-b61163899436",
   "metadata": {},
   "source": [
    "Similarly, if i want to multiply a\n",
    "\n",
    "5 x 7 matrix\n",
    "\n",
    "Compatible matrices for \n",
    "\n",
    "multiplications are 7 x 1, 7 x 2,\n",
    "\n",
    "7 x 7 and so on."
   ]
  },
  {
   "cell_type": "markdown",
   "id": "3aa83713-d553-4fe1-8e6d-d03c2cf94916",
   "metadata": {},
   "source": [
    "What about the dimension of the product ?"
   ]
  },
  {
   "cell_type": "markdown",
   "id": "f855e631-bef4-4a3b-afab-24de5c8b8b4c",
   "metadata": {},
   "source": [
    "Compatibility measures: \n",
    "\n",
    "they need to have matching forms."
   ]
  },
  {
   "cell_type": "markdown",
   "id": "9e6e3fd4-98db-47ce-a7b8-44b439d492d5",
   "metadata": {},
   "source": [
    "When multiplying an m x n matrix with \n",
    "\n",
    "an n x k matrix, the output is an\n",
    "\n",
    "m x k matrix."
   ]
  },
  {
   "cell_type": "markdown",
   "id": "3f081ff3-5f40-446b-9617-f3a82b821368",
   "metadata": {},
   "source": [
    "For instance, a 2 x 3 matrix times a\n",
    "\n",
    "3 x 6 matrix will give us a 2 x 6 matrix.\n",
    "\n",
    "A 3 x 4 matrix times a 4 x 2 matrix \n",
    "\n",
    "will give us a 3 x 2 matrix.\n",
    "\n",
    "A 100 x 300 matrix times 300 x 3 \n",
    "\n",
    "matrix will give us a 100 x 3 matrix"
   ]
  },
  {
   "cell_type": "markdown",
   "id": "2018791a-7d38-4cfd-b1d6-1c0b4cdc0131",
   "metadata": {},
   "source": [
    "Basically, which ever dimension is \n",
    "\n",
    "repeating will disapper in the \n",
    "\n",
    "resulting matrix."
   ]
  },
  {
   "cell_type": "markdown",
   "id": "400d2b81-a849-44ab-9786-f67e9e038c4c",
   "metadata": {},
   "source": [
    "How do we multiply matrices ?"
   ]
  },
  {
   "cell_type": "markdown",
   "id": "c66035f6-7e52-4b4f-802a-51f963486e29",
   "metadata": {},
   "source": [
    "Example using two matrices:\n",
    "    "
   ]
  },
  {
   "cell_type": "raw",
   "id": "fc7df993-126e-49a5-b34f-a7ccf810e5c4",
   "metadata": {},
   "source": [
    "Dot Product\n",
    "\n",
    "[2]      [1]\n",
    "[8]      [-7]\n",
    "[-4]     [3]"
   ]
  },
  {
   "cell_type": "markdown",
   "id": "19709e41-bf9b-4b5f-af8f-5b26ebb22c7b",
   "metadata": {},
   "source": [
    "These are 2 vectors or 3 x 1 matrices.\n",
    "\n",
    "In other to multiply them, they need to have matching forms.\n",
    "\n"
   ]
  },
  {
   "cell_type": "markdown",
   "id": "0b1aba88-14df-46e6-8d5e-08d64f5dd338",
   "metadata": {},
   "source": [
    "To find their dot product, we \n",
    "\n",
    "Transpose the first one and get a \n",
    "\n",
    "1 x 3 and a 3 x 1"
   ]
  },
  {
   "cell_type": "raw",
   "id": "f159773b-fc00-4b93-8232-156dc6274729",
   "metadata": {},
   "source": [
    "[2 8 -4]                 [1]\n",
    "                         [-7]  = [-66]\n",
    "1 x 3                    [3]\n",
    "                        3 x 1"
   ]
  },
  {
   "cell_type": "markdown",
   "id": "38934f2a-9e04-44ad-92e1-f6da0953d4b8",
   "metadata": {},
   "source": [
    "This is done because whe we have a dot\n",
    "\n",
    "product , we always multiply a row vector times a column vector.\n",
    "\n",
    "Always remember that!"
   ]
  },
  {
   "cell_type": "markdown",
   "id": "bc448874-0004-4b85-adfb-e47f5bf6bcff",
   "metadata": {},
   "source": [
    "The result of this multiplication is a\n",
    "\n",
    "1 x 1 form or scalar."
   ]
  },
  {
   "cell_type": "markdown",
   "id": "ec8e8857-7aa0-443f-a7d9-519c624ef969",
   "metadata": {},
   "source": [
    "We reach this calar by multiplying the\n",
    "\n",
    "corresponding elementand summuing everything up."
   ]
  },
  {
   "cell_type": "markdown",
   "id": "4cece067-bf4d-4bbb-9bbe-36e5c63aceaa",
   "metadata": {},
   "source": [
    "We already know that the concept is thesame."
   ]
  },
  {
   "cell_type": "markdown",
   "id": "afac2f85-5eff-4a07-a49f-5d975de82d9d",
   "metadata": {},
   "source": [
    "Then we take the two matrices and multiply them."
   ]
  },
  {
   "cell_type": "raw",
   "id": "c635b01c-c307-47fe-a12d-2f4397a3ac84",
   "metadata": {},
   "source": [
    "[5 12 6]\n",
    "\n",
    "[-3 0 14]\n",
    "\n",
    "2 x 3"
   ]
  },
  {
   "cell_type": "markdown",
   "id": "7b4a513a-25d4-4d9a-8c26-db60351ba0d1",
   "metadata": {},
   "source": [
    "The first is thesame one from the \n",
    "\n",
    "beginning of the example.\n",
    "\n",
    "The second will be a 3 x 2 matrix"
   ]
  },
  {
   "cell_type": "raw",
   "id": "25d509ad-1939-4325-bd86-d29233bb790a",
   "metadata": {},
   "source": [
    "[2 -1]\n",
    "[8 0]\n",
    "[3 0]\n",
    "\n",
    "3 x 2 "
   ]
  },
  {
   "cell_type": "markdown",
   "id": "f2a76c69-52b2-4839-a921-7aec861aefd0",
   "metadata": {},
   "source": [
    "The first thing we need to do is to \n",
    "\n",
    "check the compatibility.\n",
    "\n",
    "We have 2 x3 and 3 x2 .\n",
    "\n",
    "The forms match so we are good to go"
   ]
  },
  {
   "cell_type": "raw",
   "id": "6d4e543e-6063-40fd-89f7-e5dc8ae196f7",
   "metadata": {},
   "source": [
    "[5 12 6]     [2 -1] \n",
    "[-3 0 14]  . [8 -0]\n",
    "             [3 0]   =[     ]\n",
    "             \n",
    "2 x 3         3 x 2     2 x 2"
   ]
  },
  {
   "cell_type": "markdown",
   "id": "1d842edb-6603-4df0-891a-eaef590c9794",
   "metadata": {},
   "source": [
    "Next step is to find the shape of the output matrix.\n",
    "\n",
    "The matching dimension( 3 , 3) disappears, \n",
    "\n",
    "hence the resulting shape is 2 x 2. "
   ]
  },
  {
   "cell_type": "markdown",
   "id": "1a6fb638-dc9f-49f0-a735-bd1b51ead263",
   "metadata": {},
   "source": [
    "Finally, we need to do the multiplication.\n",
    "\n",
    "Two important things to note:\n",
    "\n",
    ".1 Matrices are nothing more tan a collection of vectors.\n",
    "\n",
    ".2 When we have a dot product ,we always multiply a row vector times a column vector."
   ]
  },
  {
   "cell_type": "raw",
   "id": "80cb5b50-d555-427f-948a-5aa76ac56c4a",
   "metadata": {},
   "source": [
    "In our case, the first matrix is made up of 2 row  vectors:\n",
    "\n",
    "[ 5, 12, 6]\n",
    "\n",
    "[-3, 0 , 14]"
   ]
  },
  {
   "cell_type": "raw",
   "id": "10a3f6aa-8025-477f-a868-ba70f6ea6590",
   "metadata": {},
   "source": [
    "The second matrix is made up of 2 column vectors:\n",
    "[2 -1]\n",
    "\n",
    "[8  0]\n",
    "\n",
    "[3   0]"
   ]
  },
  {
   "cell_type": "markdown",
   "id": "cc9dd025-5c97-47c5-830b-f0e0a91c98f3",
   "metadata": {},
   "source": [
    "In other to find the dot product of the 2 matrices,\n",
    "\n",
    "We need to find the dot product of the vectors they are made of"
   ]
  },
  {
   "cell_type": "raw",
   "id": "0eec865c-909a-4b3e-9f0c-4cef13226cba",
   "metadata": {},
   "source": [
    "First, we find the dot product of \n",
    "\n",
    "[5, 12 , 6]\n",
    "\n",
    "and\n",
    "\n",
    "[2]\n",
    "[8]  = 124\n",
    "[3]"
   ]
  },
  {
   "cell_type": "markdown",
   "id": "7e52920d-acde-4d07-819a-f96d09978e34",
   "metadata": {},
   "source": [
    "Which is 5 x 2 + 12 x 8 + 6 x 3 = 124"
   ]
  },
  {
   "cell_type": "markdown",
   "id": "7c720f0c-553a-43d6-80f0-07007a2f19fa",
   "metadata": {},
   "source": [
    "Hence , 124 is also the first element of the output matrix."
   ]
  },
  {
   "cell_type": "code",
   "execution_count": null,
   "id": "d34a1aba-a1b2-43a2-8be9-b0c132702c6a",
   "metadata": {},
   "outputs": [],
   "source": [
    "Next we find the dot produc of \n",
    "[5, 12 6]  with the second vector\n",
    "\n",
    "[-1]\n",
    "[0]          = -5\n",
    "[0]"
   ]
  },
  {
   "cell_type": "code",
   "execution_count": null,
   "id": "0e853c63-a138-4f7f-96b8-1e08d927f11b",
   "metadata": {},
   "outputs": [],
   "source": [
    "which is (5 x -1) +( 12 x 0) + (6 x 0)\n",
    " = -5"
   ]
  },
  {
   "cell_type": "markdown",
   "id": "72816555-ca83-4229-a64b-80d0c709a829",
   "metadata": {},
   "source": [
    "The result is -5 which is the second element of the output matrix ."
   ]
  },
  {
   "cell_type": "markdown",
   "id": "ba8a1444-bba0-4830-93b5-58dbe3ce0385",
   "metadata": {},
   "source": [
    "Now lets look at the second row of the initial matrix."
   ]
  },
  {
   "cell_type": "raw",
   "id": "5ad16ebe-3f1a-4983-a579-91b3fb693b13",
   "metadata": {},
   "source": [
    "We have \n",
    "\n",
    "[-3 0 14]  \n",
    "\n",
    "we will repeat thesame procedure. \n",
    "\n",
    "The dot product of the vector\n",
    "[2]\n",
    "[8]\n",
    "[3]\n",
    "minus  \n",
    "[-3 0 14]  = 36"
   ]
  },
  {
   "cell_type": "code",
   "execution_count": null,
   "id": "a8d6c3be-bba9-46c3-b16a-abb69b730324",
   "metadata": {},
   "outputs": [],
   "source": [
    "(-3 x 2) + (0 X 8) + (14 x 3) = 36"
   ]
  },
  {
   "cell_type": "markdown",
   "id": "b61dec13-b7d4-4042-8cde-bd36deba4fa7",
   "metadata": {},
   "source": [
    "This is the first value on the second row of the output matrix."
   ]
  },
  {
   "cell_type": "markdown",
   "id": "466e94df-776d-46a4-a450-8d2160d49198",
   "metadata": {},
   "source": [
    "Notice that the row vector from the first matrix determines the row and the output matrix.\n",
    "\n",
    "Thesame way the column vectors from the second matrix determine the column of the respective value."
   ]
  },
  {
   "cell_type": "markdown",
   "id": "9eca6d62-834b-44eb-b123-7e94a4222976",
   "metadata": {},
   "source": [
    "Finally ,let's find the last dot product.\n",
    "\n"
   ]
  },
  {
   "cell_type": "raw",
   "id": "d8ed935c-0313-4c64-8283-60a361c2af4a",
   "metadata": {},
   "source": [
    "We have [-3 0 14]  and \n",
    "\n",
    "[-1]\n",
    "[0]  =  3\n",
    "[0]\n"
   ]
  },
  {
   "cell_type": "markdown",
   "id": "1c1f1c2b-7d83-40a5-a2ec-87f31d8c093e",
   "metadata": {},
   "source": [
    "(-3 x -1) + (0 x 0) + (14 x 0)  = 3"
   ]
  },
  {
   "cell_type": "markdown",
   "id": "472b4538-93ac-46b1-856d-a16722b07c7b",
   "metadata": {},
   "source": [
    "This is the second value on the second row of the output."
   ]
  },
  {
   "cell_type": "code",
   "execution_count": null,
   "id": "dd5b8b00-2741-455e-bb8d-a71450debc62",
   "metadata": {},
   "outputs": [],
   "source": [
    "the product matrix is now\n",
    "\n",
    "[124  -5]\n",
    "[36   3]\n",
    "\n",
    "2 x2 matrices"
   ]
  },
  {
   "cell_type": "markdown",
   "id": "6aec5629-1b8a-4792-ab93-a224f1973c89",
   "metadata": {},
   "source": [
    "In teerms of code,it is very simple, we use the method np.dot and the two \n",
    "\n",
    "matrices and immediately get the result"
   ]
  },
  {
   "cell_type": "markdown",
   "id": "7c94426b-fa06-48ba-86ee-2a217737e568",
   "metadata": {},
   "source": [
    "##### Matrix * Matrix"
   ]
  },
  {
   "cell_type": "markdown",
   "id": "96de538e-b999-4578-99cf-92370bd086e2",
   "metadata": {},
   "source": [
    "##### Example 1"
   ]
  },
  {
   "cell_type": "code",
   "execution_count": 14,
   "id": "85ab8f49-a66f-43ee-8787-167c12cc9db5",
   "metadata": {},
   "outputs": [
    {
     "data": {
      "text/plain": [
       "array([[ 2, -1],\n",
       "       [ 8,  0],\n",
       "       [ 3,  0]])"
      ]
     },
     "execution_count": 14,
     "metadata": {},
     "output_type": "execute_result"
    }
   ],
   "source": [
    "B = np.array([[2,-1],[8,0],[3,0]])\n",
    "B"
   ]
  },
  {
   "cell_type": "code",
   "execution_count": 15,
   "id": "2377a1ee-762e-4eb4-990f-ade6238583b7",
   "metadata": {},
   "outputs": [
    {
     "data": {
      "text/plain": [
       "array([[124,  -5],\n",
       "       [108,   3]])"
      ]
     },
     "execution_count": 15,
     "metadata": {},
     "output_type": "execute_result"
    }
   ],
   "source": [
    "np.dot(A,B)"
   ]
  },
  {
   "cell_type": "markdown",
   "id": "04d38dba-e8ca-4745-82ad-020c8e94eb0a",
   "metadata": {
    "tags": []
   },
   "source": [
    "##### Example 2"
   ]
  },
  {
   "cell_type": "markdown",
   "id": "e17cfe1d-fa34-4179-aabb-07fbcdbabbf5",
   "metadata": {},
   "source": [
    "We will use two big matrices.\n",
    "\n",
    "The first matrix is 4 x 5 and the second matrix is 5 x 2."
   ]
  },
  {
   "cell_type": "markdown",
   "id": "82da7a13-5507-4fce-9a85-04df83a6b889",
   "metadata": {},
   "source": [
    "First thing , are the matrices compatible?\n",
    "\n",
    "Yes they are.\n",
    "\n",
    "We have ( 5 , 5)"
   ]
  },
  {
   "cell_type": "raw",
   "id": "a29e0943-f1eb-4d2b-a91e-8ef64ebd9b1d",
   "metadata": {},
   "source": [
    "Dot  product\n",
    "\n",
    "\n",
    "[-12 5 -5 1 6] .  [6 -1]\n",
    "[6 -2 0 0 -3]     [8 -4]  = [-71 -48]\n",
    "                             [38 29]\n",
    "[10 2 0 8 0]      [2 -2]     [132 14]\n",
    "                   [7  4]    [95  57]\n",
    "[9 -4 8 3 -6]     [-6 -9]\n",
    "                               4 X 2\n",
    "4 x 5 matrix      5 x 2 matrix"
   ]
  },
  {
   "cell_type": "markdown",
   "id": "d65b2cc0-1b13-471b-8c3f-90f962b72c54",
   "metadata": {},
   "source": [
    "Second is to find the shape of the output matrix , which is 4 x 2"
   ]
  },
  {
   "cell_type": "markdown",
   "id": "bbaf4938-4e27-4087-a117-d7d50052ccf9",
   "metadata": {},
   "source": [
    "Next we divide the fisrt matrix into row vectors and the second matrix into column vectors."
   ]
  },
  {
   "cell_type": "markdown",
   "id": "77dd9524-a933-4e53-96a7-92fa4ffe7ba2",
   "metadata": {},
   "source": [
    "We have a total of 4 rows vector and 2 column vector."
   ]
  },
  {
   "cell_type": "markdown",
   "id": "c1bccd1c-dd6f-4a16-ad72-1dfdf3fc3540",
   "metadata": {},
   "source": [
    "We need to find the dot product of the first row vector and the first column vector. the result is - 71"
   ]
  },
  {
   "cell_type": "markdown",
   "id": "5785d8bb-c5b6-4800-9bd5-43df81c26b1a",
   "metadata": {},
   "source": [
    "(-12 x 6) + (5 x 8) + (-5 x 2) +\n",
    "\n",
    "(1 X 7) +( 6 x -6)  = 71"
   ]
  },
  {
   "cell_type": "markdown",
   "id": "f99b0acb-a898-4299-aeae-2df74b342581",
   "metadata": {},
   "source": [
    "Next we multiply the first row vctor \n",
    "\n",
    "with the second column vector,\n",
    "We get -48"
   ]
  },
  {
   "cell_type": "markdown",
   "id": "03df407c-9e82-4f4d-b922-4b9e4dde0613",
   "metadata": {},
   "source": [
    "We continue in the known way until we fill the product matrix. "
   ]
  },
  {
   "cell_type": "code",
   "execution_count": 5,
   "id": "7eeade47-2672-40b9-b722-40d2908d6842",
   "metadata": {},
   "outputs": [
    {
     "data": {
      "text/plain": [
       "array([[-12,   5,  -5,   1,   6],\n",
       "       [  6,  -2,   0,   0,  -3],\n",
       "       [ 10,   2,   0,   8,   0],\n",
       "       [  0,  -4,   8,   3,  -6]])"
      ]
     },
     "execution_count": 5,
     "metadata": {},
     "output_type": "execute_result"
    }
   ],
   "source": [
    "C = np.array([[-12, 5, -5, 1, 6],[6, -2, 0, 0, -3],[10, 2, 0, 8, 0],[0, -4, 8, 3, -6]])\n",
    "C"
   ]
  },
  {
   "cell_type": "code",
   "execution_count": 7,
   "id": "64772fcf-937c-43c0-99e9-2820d470f309",
   "metadata": {},
   "outputs": [
    {
     "data": {
      "text/plain": [
       "array([[ 6, -1],\n",
       "       [ 8, -4],\n",
       "       [ 2, -2],\n",
       "       [ 7,  4],\n",
       "       [-6, -9]])"
      ]
     },
     "execution_count": 7,
     "metadata": {},
     "output_type": "execute_result"
    }
   ],
   "source": [
    "D = np.array([[6, -1],[8,-4],[2, -2],[7,4],[-6,-9]])\n",
    "D"
   ]
  },
  {
   "cell_type": "code",
   "execution_count": 8,
   "id": "b19a4213-5399-49ac-89a4-e6732612d2a9",
   "metadata": {},
   "outputs": [
    {
     "data": {
      "text/plain": [
       "array([[-71, -48],\n",
       "       [ 38,  29],\n",
       "       [132,  14],\n",
       "       [ 41,  66]])"
      ]
     },
     "execution_count": 8,
     "metadata": {},
     "output_type": "execute_result"
    }
   ],
   "source": [
    "np.dot(C,D)"
   ]
  },
  {
   "cell_type": "markdown",
   "id": "ba314507-9bdc-4b09-88cf-3cc8576f938c",
   "metadata": {},
   "source": [
    "##### Example 3"
   ]
  },
  {
   "cell_type": "markdown",
   "id": "64bdd142-a279-422d-bb0b-fbad10288035",
   "metadata": {},
   "source": [
    "A 3 x 4 matrix and  a 2 x 3 matrix\n",
    "\n",
    "What will the dimension of the output be ?"
   ]
  },
  {
   "cell_type": "markdown",
   "id": "99485553-fd44-4068-ba87-66c9ff3c54db",
   "metadata": {},
   "source": [
    "\n",
    "You may think is 3 x 3\n",
    "\n",
    "But it is not\n",
    "\n",
    "Hence , the dimension is nothing\n",
    "\n",
    "The two matrices are not compatible.\n"
   ]
  },
  {
   "cell_type": "markdown",
   "id": "f61c0a9b-d6e7-4adb-9c53-d4084e3b8736",
   "metadata": {},
   "source": [
    "It is important to note that more \n",
    "\n",
    "often than not ,you may not be able to multiply 2 matrices.\n",
    "\n",
    "So is important to take good note of the shapes."
   ]
  },
  {
   "cell_type": "markdown",
   "id": "59fb5603-6878-4e1a-b3be-231c7d2932b3",
   "metadata": {},
   "source": [
    "Linear Algebra doesnt seen that hard after all."
   ]
  },
  {
   "cell_type": "markdown",
   "id": "e3de1c92-f1b6-42b5-9940-da319a1f1617",
   "metadata": {},
   "source": [
    "##### Question"
   ]
  },
  {
   "cell_type": "markdown",
   "id": "50f515b1-e6ee-4507-b085-5670fe73aecb",
   "metadata": {},
   "source": [
    "5. Let A and B be 3×3 (square) \n",
    "\n",
    "matrices. Which of the following must \n",
    "\n",
    "necessarily hold true? Check all that apply."
   ]
  },
  {
   "cell_type": "markdown",
   "id": "2314f13a-8559-43c7-873b-9789ab3bcd2f",
   "metadata": {},
   "source": [
    "##### Answer"
   ]
  },
  {
   "cell_type": "markdown",
   "id": "271701e5-06dc-4805-9499-fda614061119",
   "metadata": {},
   "source": [
    "If A is the 3 x 3 identity matrix, \n",
    "\n",
    "then A x B X A = B X A"
   ]
  },
  {
   "cell_type": "markdown",
   "id": "243db236-9af3-41cb-be3b-bf4eb6bfdc00",
   "metadata": {
    "tags": []
   },
   "source": [
    "#### Why is linear Algebra Useful"
   ]
  },
  {
   "cell_type": "markdown",
   "id": "cbffb643-eba3-408d-aeb7-b5b031ee8eed",
   "metadata": {},
   "source": [
    "There are very many operations in linear Algebra.\n",
    "\n",
    "Applications in data science and there \n",
    "\n",
    "are sevaral ones of high importance \n",
    "\n",
    "which we will explore and use later on.\n",
    "\n",
    "Some are easy to grasp but others not yet."
   ]
  },
  {
   "cell_type": "markdown",
   "id": "c2156beb-12a1-4376-8f2c-41ccd1d0ef53",
   "metadata": {},
   "source": [
    "We will explore three namely:\n",
    "    \n",
    " . Vectorized code also known as array programming\n",
    "\n",
    ". Image recognition\n",
    "\n",
    ". Dimensionality reduction\n",
    "       "
   ]
  },
  {
   "cell_type": "markdown",
   "id": "a2c0ad14-50f8-469b-90d8-69c5b9e08a41",
   "metadata": {},
   "source": [
    "The simplest and most commonly used one is Vectorized code.\n",
    "\n",
    "We can certainly clain that the price of a house depends on its size.\n",
    "\n",
    "Suppose you know that the exact \n",
    "\n",
    "relationship for some neigbourhood is given by the equation."
   ]
  },
  {
   "cell_type": "markdown",
   "id": "c8a93421-31ed-46fa-bc29-fc242085d1a2",
   "metadata": {},
   "source": [
    "Price = 10,190 + 223 ^ size = $\n",
    "\n",
    "Moreover,you know the sizes of 5 houses\n",
    "\n",
    "10,190 + 223 *693 = 164729\n",
    "\n",
    "10,190 + 223 *656 = 156478\n",
    "\n",
    "10,190 + 223 *1060 = 246570\n",
    "\n",
    "10,190 + 223 *487 = 118791\n",
    "\n",
    "10,190 + 223  *1276 = 294515"
   ]
  },
  {
   "cell_type": "markdown",
   "id": "e9308caf-a8d3-4be1-9ea2-8bc408318a12",
   "metadata": {},
   "source": [
    "What you want to do is to plug in size\n",
    "\n",
    "in the  equation and find the price of each house"
   ]
  },
  {
   "cell_type": "markdown",
   "id": "85e07366-1014-4c57-8fa9-5096d76ac2fa",
   "metadata": {},
   "source": [
    "Doing this manually will be quite tedious.\n",
    "one way to deal with this problem will be to create a loop and and itirate  over the sizes and multiply each one of then by 223 * size[i] and adding 10,190 \n",
    "\n",
    "For i in range(100):\n",
    "print (10190 + 223 * size [i])\n",
    "\n",
    "but we are smarter than that since we know some linear Algebra already."
   ]
  },
  {
   "cell_type": "markdown",
   "id": "fd38b677-b68f-41ab-af5b-e37ac9ce42b4",
   "metadata": {},
   "source": [
    "A 5  by 2 matrix and a vector of line 2.\n",
    "\n",
    "The matrix contains a column of 1 and the other with the sizes of the houses."
   ]
  },
  {
   "cell_type": "raw",
   "id": "cd5cac5b-f3aa-4507-8526-2e0eead4501f",
   "metadata": {},
   "source": [
    "[1 693]            [1*10,190+223*693]\n",
    "[1 656]            1*10,190+223 *693]\n",
    "[1 1060] . [10190] [1*10,190+223 *693]  \n",
    "[1 487]  . [223]  [1*10,190 + 223*487]  \n",
    "[1 1275]           [1*10,190+223*1275] \n",
    "\n",
    "5 x 2       2 x 1         5 x 1\n",
    "\n",
    "inputs      weights      outputs\n",
    "matrix       matrix       matrix"
   ]
  },
  {
   "cell_type": "raw",
   "id": "b83469cc-00c9-40b6-a6ce-d6a5f94d0e30",
   "metadata": {},
   "source": [
    "[164729]\n",
    "[156478]\n",
    "[246570]\n",
    "[118791]\n",
    "[294515]\n",
    "\n",
    "5 x 1"
   ]
  },
  {
   "cell_type": "markdown",
   "id": "605afece-5469-48d2-9ced-4b2470a0ac75",
   "metadata": {},
   "source": [
    "The vector contains 10190 and 223\n",
    "\n",
    "The numbers from the equation\n",
    "\n",
    "If we go about multiplying them, we will et a vector of length 5 and the first element will be as explained above"
   ]
  },
  {
   "cell_type": "markdown",
   "id": "43118be1-f532-47fe-8e9e-479bcfa89317",
   "metadata": {},
   "source": [
    "By inspecting this expressing we quickly  realize that the resulting vector contains all the manual calculation we made earlier to find the prices"
   ]
  },
  {
   "cell_type": "markdown",
   "id": "f8a9331c-16cd-40b7-bd0f-547de11132e9",
   "metadata": {},
   "source": [
    "Inmachine learning and linear regressions in particular,this is exactly how algorithmns work"
   ]
  },
  {
   "cell_type": "markdown",
   "id": "7dc1b496-85a4-435a-99bd-dee416955a14",
   "metadata": {},
   "source": [
    "We have inputs matrice, weight and output matrix."
   ]
  },
  {
   "cell_type": "markdown",
   "id": "a40fb6bd-e922-4384-8d35-709553008558",
   "metadata": {},
   "source": [
    "Note, if you have 10,000 inputs, input matrix will be 10000 x 2\n",
    "\n",
    "Weight matrix will be 2 x 1 \n",
    "\n",
    "When we multiply them, the resulting outputs matrix will be 10,000 by 1"
   ]
  },
  {
   "cell_type": "markdown",
   "id": "082f65a5-1cb9-4f9e-a7ec-87756bd6e989",
   "metadata": {},
   "source": [
    "This shows us that no matter the number of outputs , we will get as many as output"
   ]
  },
  {
   "cell_type": "markdown",
   "id": "90f6a1aa-13e4-459f-bb11-eb0f0cd87314",
   "metadata": {},
   "source": [
    "Moreover, the equation does not change as it only contains the two coefficients.\n",
    "\n",
    "10190\n",
    "223"
   ]
  },
  {
   "cell_type": "markdown",
   "id": "976cf78b-58b8-49bb-bd37-e7e18a3eae8d",
   "metadata": {},
   "source": [
    "This concept will turn quite helpful in macine learning study."
   ]
  },
  {
   "cell_type": "markdown",
   "id": "c44c375d-3904-49b2-babd-1065878d5f00",
   "metadata": {},
   "source": [
    "Whenever we are using linear algebra to compute many values simultaneously, \n",
    "\n",
    "we call this array programming or vectorizing code.\n",
    "\n",
    "It is important to stress that array programming is much much faster."
   ]
  },
  {
   "cell_type": "markdown",
   "id": "e82f4b3b-6967-40fb-8546-6c52e3ae2303",
   "metadata": {},
   "source": [
    "We have libraries like numpy which are optimized to perform this kind of operations which greatly increases the computation proficiency of our code."
   ]
  },
  {
   "cell_type": "markdown",
   "id": "c992e2e9-2903-4342-ac6d-433bf79da659",
   "metadata": {
    "tags": []
   },
   "source": [
    "#### Image recognition"
   ]
  },
  {
   "cell_type": "markdown",
   "id": "d718be3d-fca1-4baa-9942-8cebe0c3e111",
   "metadata": {},
   "source": [
    "In the last few years \n",
    "\n",
    ". Deep learning \n",
    ".Deep neural networks \n",
    "\n",
    "in particular, calculate image recognition\n",
    "\n",
    "\n",
    "On the fore front are  convolutional neural networks(CNNS).\n",
    "\n",
    "What is the basic idea, you can take a photo ,feed it to the algorithmn and classify it.\n",
    "\n",
    "Famous examples are the MNST dataset where the task is to classify hand written digits,\n",
    "\n",
    "CIFAR 10 where the task is to classify animals and vehicles.\n",
    "\n",
    "CIFAR 100 where you have 100 different classes of images."
   ]
  },
  {
   "cell_type": "markdown",
   "id": "ea062a0f-06b1-4896-a0ef-68f91352dfdc",
   "metadata": {},
   "source": [
    "The problem is that we cannot just take a photo and give it to the computer.\n",
    "\n",
    "We must design a way to turn that photo into numbers in order to communicate the image to the computer.\n",
    "\n",
    "\n",
    "This is where linear algebra comes in"
   ]
  },
  {
   "cell_type": "markdown",
   "id": "a98e6680-9c07-4393-8677-52c69434dd33",
   "metadata": {},
   "source": [
    "Each photo has some dimensions.\n",
    "\n",
    "Say this photo is 400 by 400 \n",
    "\n",
    ">. Each pixel in a photo is basically a colour square\n",
    "(zoom in until we see pixels)\n",
    "\n",
    ">. giving enough pixel and given enough zoom out causes our brain to perceive this as an image rather than a collection of squares.\n",
    "(zoom out to reach the photo)"
   ]
  },
  {
   "cell_type": "code",
   "execution_count": null,
   "id": "d6eeec74-56a1-45f6-a8cb-8377094cb462",
   "metadata": {},
   "outputs": [],
   "source": [
    "EXAMPLE"
   ]
  },
  {
   "cell_type": "markdown",
   "id": "dd4dd4b1-4180-4e4d-8066-3e24b6b0e910",
   "metadata": {},
   "source": [
    "We have 256 shades of gray shade.\n",
    "\n",
    "0 is totally white\n",
    "\n",
    "255 is totally black or vice versa."
   ]
  },
  {
   "cell_type": "markdown",
   "id": "914cd9b7-5f29-41aa-a6d7-58efd49cc735",
   "metadata": {},
   "source": [
    "We can actually express this photo as a matrix."
   ]
  },
  {
   "cell_type": "markdown",
   "id": "af7c67c0-6818-4112-8319-45b1387db70f",
   "metadata": {},
   "source": [
    "If the photo is 400  x 400 then we have a 400 x 400 matrix..\n",
    "\n",
    "Each element of that matrix is a number from 255\n",
    "\n",
    "height = 400\n",
    "\n",
    "> it shows the intensity of the color grey in that pixel.\n",
    "\n",
    "That is how the computer sees a photo.\n",
    "\n"
   ]
  },
  {
   "cell_type": "markdown",
   "id": "dc93ce9c-64d8-48c0-aa0a-30a8a0e8490d",
   "metadata": {},
   "source": [
    " How to reprsent colour"
   ]
  },
  {
   "cell_type": "markdown",
   "id": "4eb8e996-ab26-45b1-9996-cb22e174b98e",
   "metadata": {},
   "source": [
    "So far we have two dimensions;\n",
    "weight and heights\n",
    "\n",
    "But the number inside corresponds to the intensity of colour."
   ]
  },
  {
   "cell_type": "markdown",
   "id": "2ceba450-232f-412c-a73f-ba353efdebb4",
   "metadata": {},
   "source": [
    "What if we want more colours ?"
   ]
  },
  {
   "cell_type": "markdown",
   "id": "4147cb50-e683-46b3-b25b-36879b97365e",
   "metadata": {},
   "source": [
    "We will use the R G B scale to solve it.\n",
    "\n",
    "R G b stands for red green and blue.\n",
    "\n",
    "the idea is tha any colour perceiveable\n",
    "\n",
    "by the human eyes can be decomposed into some combinations of red ,green and blue.\n",
    "\n",
    "But the intensity of each colour is from 0 - 255\n",
    "\n",
    "A total of 256 shades"
   ]
  },
  {
   "cell_type": "markdown",
   "id": "538bc77b-d8b0-4746-ba32-668a3d4b0402",
   "metadata": {},
   "source": [
    "In other to represent a colored photo in some linear algebraic form,\n",
    "\n",
    "We must take the example from before and add another dimension color"
   ]
  },
  {
   "cell_type": "markdown",
   "id": "7874405d-c12f-4fad-b466-7a7859334521",
   "metadata": {},
   "source": [
    "Instead of 400 by 400, we get a three dimension \n",
    "\n",
    "3 x 400 x 400 Tensors\n",
    "\n",
    "This Tensor contains 3 , 400 x 400 matrices\n",
    "\n",
    "one for each coluor, red ,green and blue \n",
    "\n",
    "And that is how deep neuro networks works with photos."
   ]
  },
  {
   "cell_type": "markdown",
   "id": "0047a975-35f4-484a-9113-2eaeb0ee5988",
   "metadata": {
    "tags": []
   },
   "source": [
    "##### Dimensionality Reduction"
   ]
  },
  {
   "cell_type": "markdown",
   "id": "21080cc8-1548-465f-bb22-dd50990ef398",
   "metadata": {},
   "source": [
    "Since we have not seen\n",
    ".> Eigenvalues\n",
    "\n",
    ".> Eigenvectors \n",
    "\n",
    "yet .\n",
    "\n",
    "There is not much to say here ,aside from developing some intuition."
   ]
  },
  {
   "cell_type": "markdown",
   "id": "143675b1-fef4-4f70-9362-7041a80b72bf",
   "metadata": {},
   "source": [
    "Imagine we have a dataset with 3 variables \n",
    "\n",
    "Vitually our data may look like a  scatter plot\n",
    "\n",
    "To be able to represent each of the point, we have used 3 values.\n",
    "\n",
    "One for each variable x, y ,z.\n",
    "\n",
    "(x y, 3)\n",
    "\n",
    "Hence, we are dealing with m x 3 matrix."
   ]
  },
  {
   "cell_type": "markdown",
   "id": "57d807fa-34a3-4e6a-a2b5-0b012af675b9",
   "metadata": {},
   "source": [
    "Therefore the point i corresponds to \n",
    "xi, yi and zi\n",
    "\n",
    "Note that those 3 variables  xi, yi,zi are the 3 axis of the plane"
   ]
  },
  {
   "cell_type": "markdown",
   "id": "339d5855-adc9-41bb-8c81-798c13897fd1",
   "metadata": {},
   "source": [
    "In some cases we can find the plane very close to the data.\n",
    "\n",
    "This plane is 2 dimentional nad is defined by 2 variables.\n",
    "\n",
    "For example \n",
    "\n",
    "u ,v \n",
    "\n",
    "Not all points lie on this plane but we can confidently say that they do."
   ]
  },
  {
   "cell_type": "markdown",
   "id": "2a83a064-625a-497a-bd6a-ceb529990913",
   "metadata": {},
   "source": [
    "Linear algebra provides us with fast and  efficient ways to transform our matric from m x 3 where the 3 variables are x,y,z into a new matrix which is m x 2 where the two variables are u, v."
   ]
  },
  {
   "cell_type": "markdown",
   "id": "a61c2b9a-a077-42bc-9d57-ab154e63f134",
   "metadata": {},
   "source": [
    "In this way, instead of having 3 variables , we reduced the problem to 2 variables"
   ]
  },
  {
   "cell_type": "markdown",
   "id": "86097c11-72e9-4908-8cc8-4d8692b29e42",
   "metadata": {},
   "source": [
    "Infact, if you have 50 variables, you can reuce them to 40 or 20 or even 10."
   ]
  },
  {
   "cell_type": "markdown",
   "id": "c6e75bca-ede9-4b99-aeaf-e3dfb6dae97c",
   "metadata": {},
   "source": [
    "How does this relate to the real world?"
   ]
  },
  {
   "cell_type": "markdown",
   "id": "35bfff35-580e-4318-b474-e28d8b845f74",
   "metadata": {},
   "source": [
    "Imagine a survey that have a total of 50 questions.\n",
    "\n",
    "Three of them are the following:\n",
    "\n",
    "Please rate from 1 to 5\n",
    "\n",
    ".1 i feel comfortable around people\n",
    "\n",
    ".2 I easily make friends\n",
    "\n",
    ".3 I like going out"
   ]
  },
  {
   "cell_type": "markdown",
   "id": "f209dcc6-15c5-4e1b-be22-5d83a67a5189",
   "metadata": {},
   "source": [
    "Thes questions may seem differnt but in the general case they are not.\n",
    "\n",
    "They all measure your level of extraversion.\n",
    "\n",
    "So it makes sense to combine them."
   ]
  },
  {
   "cell_type": "markdown",
   "id": "064fb2a0-2413-48fc-9e47-9c904f4332e8",
   "metadata": {},
   "source": [
    "This is where \n",
    "Dimensional reduction and linear algebra come in.\n"
   ]
  },
  {
   "cell_type": "markdown",
   "id": "4901fc2d-b99c-4d5d-bc75-a2ccd94ab42b",
   "metadata": {},
   "source": [
    "Very often we have too many variables that are not so different, so we would like to reduce the complexity of the problem by reducing the number of variables.\n",
    "\n"
   ]
  },
  {
   "cell_type": "code",
   "execution_count": null,
   "id": "78f630e2-7c9e-40ff-82ed-b95e133c3b71",
   "metadata": {},
   "outputs": [],
   "source": []
  }
 ],
 "metadata": {
  "kernelspec": {
   "display_name": "Python 3 (ipykernel)",
   "language": "python",
   "name": "python3"
  },
  "language_info": {
   "codemirror_mode": {
    "name": "ipython",
    "version": 3
   },
   "file_extension": ".py",
   "mimetype": "text/x-python",
   "name": "python",
   "nbconvert_exporter": "python",
   "pygments_lexer": "ipython3",
   "version": "3.9.7"
  }
 },
 "nbformat": 4,
 "nbformat_minor": 5
}
