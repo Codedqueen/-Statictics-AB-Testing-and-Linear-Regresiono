{
 "cells": [
  {
   "cell_type": "markdown",
   "id": "b2527bd5-3b29-4537-b6cd-fa9e858eebcf",
   "metadata": {},
   "source": [
    "## The Basics of Probability"
   ]
  },
  {
   "cell_type": "markdown",
   "id": "c1e4620e-1528-4fea-b62d-096ee2441c9b",
   "metadata": {},
   "source": [
    "### Introduction to probability"
   ]
  },
  {
   "cell_type": "markdown",
   "id": "4dba1c85-b49b-4de0-b7dd-1755bb6d28bb",
   "metadata": {},
   "source": [
    "We will be convering some of the Fundamental theories needed in order to proceed further and learn about fascinating topics like machine and deep learning .\n",
    "First ,we will start with the very basics:\n",
    "Different types of distribution and the building blocks of probability theory such as favourable outcome, sample space, expected values, frequency and compliments.\n",
    "We will build a solid foundation which will help us create our first probability frequency distribution and bit by bit we will go dipper.\n",
    "We will start unfolding the power of combinatorics,we will explore pemutations,how to compute them and apply them to real life scenarios.\n",
    "We will also explain the difference between Variations and pemutations which will be explained mathematically ,Graphically and through real life examples."
   ]
  },
  {
   "cell_type": "markdown",
   "id": "e93a1497-d40c-4d84-ad15-1f4a8170ffe7",
   "metadata": {},
   "source": [
    "We will continue by learning about Bayesian influence, using the power of animation you will grasp the central concept in no time.\n",
    "We will talk about sets, events, unions, conditional probability and baye,s theorem.\n",
    "The final theorotical block of the course will be about the different types of distribution you often encounter in mathematics,statistics and machine learning.\n",
    "These are mysteries and characterictics that define a dataset such as the binomial, normal and exponential distributions.\n"
   ]
  },
  {
   "cell_type": "markdown",
   "id": "bee449fc-e15e-4643-95cd-027bb54c5f05",
   "metadata": {},
   "source": [
    "Hence, you will not only be able to describe a set of data but will be able to analyze it and use it to extract important insights.\n",
    "We will also explain how probability plays an important role in other fields like finance and data science."
   ]
  },
  {
   "cell_type": "markdown",
   "id": "2d005eae-14a8-48ec-8fe2-0cd16fcbf828",
   "metadata": {},
   "source": [
    "### What is the probability formula"
   ]
  },
  {
   "cell_type": "markdown",
   "id": "050a184f-8b2e-4c48-8267-0630fdc20710",
   "metadata": {},
   "source": [
    "Life is filled with uncertain events and often we must consider the possible outcome before deciding, we ask ourselves questions like ,what is the chance of success and what is the probabilty that we failto determine whether the risk is worth taking.\n",
    "Many CEO,s need to make huge decision when investing in a reasearch and development department or comtemplating buyout to mergers.\n",
    "By using probability and statistical data they can predict how likely each outcome is and make the right decision for their firm.\n",
    "What is probability ?\n",
    "Probabilty is the chance of something happening, better put, it is the likelihood of an event occurring.\n",
    "The word 'event' has some specific meaning when talking about probability, simply put, an event is a specific outcome or a combination of several outcome.\n",
    "These outcomes can be anything such as getting a head when flipping a coin,rolling a 4 on a 6=sided dice or running a mile in under 6mins."
   ]
  },
  {
   "cell_type": "markdown",
   "id": "9010585d-90f9-40db-ba35-96a05063e7b1",
   "metadata": {},
   "source": [
    "Take flipping a coin for example , we dont have just one probability , this is because there are 2 possible outcomes,getting heads or getting tails. \n",
    "This means we have 2 possible events and we have to assign probabilities to each one.\n",
    "When dealing with uncertain events,we are seldon satisfied whether an event is  likely or unlikely.\n",
    "Idealy,we want to be able to measure and compare probability in other to know which event is relatively more likely ."
   ]
  },
  {
   "cell_type": "markdown",
   "id": "f4254af0-8cc0-4a9a-87eb-e41eb92ad58d",
   "metadata": {},
   "source": [
    "To achieve this,we express probability mathematically , even though we can express probabilities as percentages or fractions, conventionaly, we write them out using 0 and 1. so instead of using 20% or 1/5, we prefer 0.2"
   ]
  },
  {
   "cell_type": "markdown",
   "id": "a0b9ff45-42f4-44ae-acab-6e44827b1ffc",
   "metadata": {},
   "source": [
    "Interpreting probability values :\n",
    "Having a probability of 1 expresses absolute certainty of the event occurring and a probabiltity of 0 expreses absolute certainty of the event not occuring.\n",
    "Higher probability values indicates a higher likelihood, it is important to note that most events we will be interested in will have a probability other than 0 and 1, so values like 0.2 ,0.6, 0.66 are what we are expected to see.\n",
    "You can also tell that some events are more unlikely than others\n",
    "For instance, your chance of winning a lottery isnt as great as winning a coin tossed.\n",
    "reason is good we think of probabilty as a field,it is about quantifying how likely each event is on its own."
   ]
  },
  {
   "cell_type": "markdown",
   "id": "eeb7fed8-8517-40e8-b241-4ea5721cb502",
   "metadata": {},
   "source": [
    "Generally, the probabilty of an event A occuring denoted as \n",
    "P(A) = probability  \n",
    "P(A) = number of preffered outcome / all possible outcomes\n",
    "By preffered we mean ,outcomes we want to see happen, anothe term use for prefferd outcome is Favourable outcome, similarly , Sample space is a term used for all possible outcomes"
   ]
  },
  {
   "cell_type": "markdown",
   "id": "ac418916-dfe7-4e9d-9377-e09fc8b04440",
   "metadata": {},
   "source": [
    "Example :\n",
    "Say event A is flipping a coin and getting a head, in this case head is our only preffered outcome, assuming the coin somehow stays in the air indefinitely, there are only 2 possible outcomes, heads or tails, this means our probability will be a half, so we write the following\n",
    "P(A) = 1/2 = 0.5"
   ]
  },
  {
   "cell_type": "markdown",
   "id": "cc43ca51-5879-4698-8c11-25c274f51274",
   "metadata": {},
   "source": [
    "Imagine we had a standard 6 sided dice,and we want to roll a 4,once again we have a single preffered outcome (1) ,but this time we have a greater number of possible outcomes (6)\n",
    "Hence ,the probability will look as follows:\n",
    "P(A) = 1/6  ~ 0.167"
   ]
  },
  {
   "cell_type": "markdown",
   "id": "fac5b9a5-5007-4bfb-a1f8-87885bbf1b10",
   "metadata": {},
   "source": [
    "Events can be simple or complex, for example, if we want to roll a number divisible by 3, it means we need to get either a 3 or a 6, hence the number of preffered outcome becomes 2, however, the total number of possible out come is still same (6) since the dice still have 6 sides.\n",
    "Hence, the probability of rolling a number divisible by 2 equals\n",
    "P(A) = 2 / 6  ~ 0.33"
   ]
  },
  {
   "cell_type": "markdown",
   "id": "e96a2425-c3a3-48e8-b808-77a14cc8c917",
   "metadata": {},
   "source": [
    "Remember :\n",
    "The probability of two independent events occuring at the same time is equal to the product of all the probabilities of the individual event.\n",
    "P(A and B) = P(A) . P(B)\n",
    "For instance, the likelihood of getting an ACE of space is equal to the probability of getting an Ace multiplied by the probability of getting a spade.\n",
    "P(Ace) = P(Ace).P(Ace)"
   ]
  },
  {
   "cell_type": "markdown",
   "id": "a58d6b17-3c6b-44ab-ab6e-c8fcea2b385e",
   "metadata": {},
   "source": [
    "EXample: \n",
    "Probability of winning the US lottery, alythough it sounds like something that is completely different, it takes the same idea.\n",
    "The number of preffered outcome we have ,will be equal to the amount of different tickets we bought, the total number of possible outcome, we will learn how to calculate that in subsequent lessons , but for now let's assume we have 175 million outcomes for the US lottery, hence each individual ticket have the probability of winning:\n",
    "P(A) = 1 / 175,000,000 or approximately `~ 0.000 000 005 \n",
    "how ill your chances increase if you bought 2 or 5"
   ]
  },
  {
   "cell_type": "markdown",
   "id": "44b04b68-a379-4227-bcb4-1d141a611c12",
   "metadata": {},
   "source": [
    "### Expected Values"
   ]
  },
  {
   "cell_type": "markdown",
   "id": "f17aa686-b675-4bea-acf7-91c666d2c343",
   "metadata": {},
   "source": [
    "This represents the average outcome we expect if we run the an experiment many times. \n",
    "To fully grab the concept we must first explain what an experiment is.\n",
    "Imagine we dont know the probability of getting head when flipping a coin, we will need to estimate it ourselves, hence we will tos a coin several times and after doing one flip and recording the outcome we complete the trial . by completing multiple trials we are conducting an experiment.\n",
    "For example, if we toss a coin 20 times and record the 20 outcomes,that entire process is a single experiment with 20 trials.\n",
    "The probabilities we get after conducting experiments is called experimental probabilities whereas the ones we introduced earlier are theoretical(true) probabilities.\n",
    "Generally  when we are uncertain what the true probabilities are or how to compute them, we liken that to an experiment, the experiment or probabilities we get are not always equal to the thoeretical ones but are good approximations.\n",
    "For instance eithe r of 10 times i go to my local shop, i have to wait on the line, based on my experience 80% of the time , there will be a queue, and 20% of the time there will be no queue."
   ]
  },
  {
   "cell_type": "markdown",
   "id": "c994ee55-46fc-4f94-8228-35bf61c4ced3",
   "metadata": {},
   "source": [
    "I can try to calculate the true propabilities but it will inclue far too many factors, but the experimental probability(80%) is easy to compute and very useful. the formula we use to calculate experimental probability is similar to the one we used earlier in calculating the theoretical ones.\n",
    "P(A) = number of sucessful trials / total number of all trials.\n",
    "The Expected value of A denoted E(A) = the outcome we expect to occur when we run an experiment."
   ]
  },
  {
   "cell_type": "markdown",
   "id": "47e1f651-8565-4c2f-a985-e2047ec38494",
   "metadata": {},
   "source": [
    "Example :\n",
    "We want to know how many times we will get a spade if we draw a card 20 times, we will record the value of the card each time then return it to yhe deck before shuffling.\n",
    "For events with Categorical outcomes like suits, we calculate the expected values by multiplying the theoretical probabilities of the event by the number of trais we carried out.\n",
    "E(A) = P(A) X n = 1/4 x 20 = 0.25 x 20 = 5\n",
    "( here you apply the formula for theoritical to find the theoritical probability,note number of successful trials is 4, once you get the value, multiply it with the total number of trials which is 20 . this gives you the expected value.\n",
    "An expected value of 5 means we expext to have a spade 5 times if we run the experiment, howevr nothing guarantees us getting a spade 5 times,realistically we can get a spade 4 times,6 times or even 20 times."
   ]
  },
  {
   "cell_type": "markdown",
   "id": "8c08d535-5282-4171-bb92-1c3ca467b9e7",
   "metadata": {},
   "source": [
    "Numerical outcomes :\n",
    "For numerical outcome we use a slightly different formula, we take the value of every element in the sample space and multiply it by its probability, then we add all of them up to get the expected value."
   ]
  },
  {
   "cell_type": "raw",
   "id": "beac3487-51e5-4867-8e8c-75ab2c23a443",
   "metadata": {},
   "source": [
    "Sample space\n",
    "A B C\n",
    "A. P(A) + B. P(B)  +  C.P(C)"
   ]
  },
  {
   "cell_type": "raw",
   "id": "3f7e530e-ea54-4099-9f59-5fed6225c118",
   "metadata": {},
   "source": [
    "For instance you are trying to hit a target with a bow and arrow, the target has 3 layers, the outermost one \n",
    "Layer A = 10 points\n",
    "Layer B = 20 points\n",
    "layer c = 100 points"
   ]
  },
  {
   "cell_type": "markdown",
   "id": "c5c121ce-c24b-42cb-8598-df0eedcece12",
   "metadata": {},
   "source": [
    "You have practised enough to be able to hit the target but is not every time that you hit the centre\n",
    "The probabbilty of hitting each layer is as follows"
   ]
  },
  {
   "cell_type": "raw",
   "id": "652c7ba1-cdf4-41c3-a20f-959dcc023d09",
   "metadata": {},
   "source": [
    "A = 10;   P(A) = 0.5 \n",
    "B = 20;   P(B) = 0.4\n",
    "c = 100;   P(C)= 0.1\n",
    "The expected value :\n",
    "E(X) = 0.5. 10  +  0.4. 20 + 0.1 . 100 = \n",
    "        5       +      8  +      10     =\n",
    "  E(X)  =   23    "
   ]
  },
  {
   "cell_type": "markdown",
   "id": "73200e7f-24fa-4f86-b527-fabae21e839f",
   "metadata": {},
   "source": [
    "We can never get 23 points for a single shot, so why isit important to know what the expected value of an event is ?\n",
    "We can use expected value to make predictions about the future base on past years, we frequently make predictions using intervals instead of specific values due to the uncertainty the future bring.\n",
    "Mediolorogist often use this when forecasting the weather.they do not know how much rain, snow or wind is going to be, so they provide us with likely intervals instead , that's why we heear things like expect between 3ft to 5ft snow in the morning or temperature is rising up to 9 gegress on wednesday."
   ]
  },
  {
   "cell_type": "markdown",
   "id": "44bc7ea2-a6f2-47ab-ad6e-723c273c453d",
   "metadata": {},
   "source": [
    "### Probability Frequency Distribution"
   ]
  },
  {
   "cell_type": "markdown",
   "id": "698d56cc-4750-468f-9f97-3af03ef9c239",
   "metadata": {},
   "source": [
    "Expected value is used when trying to predict future event.Sometimes the result of the expected value is confusing and it deos not tell us much.\n",
    "Example :\n",
    "Throwing 2 standard 6 sided dice and adding up the numbers on top, we have 6 options for what the result of the first one could be, regardless of the number we roll ,we still have 6 different possibities for what we can roll on the second dice, this gives us a total of 6 x 6 = 36 different outcomes for the 2 rows. for clarity, we can write out the result in a 6 x 6 table"
   ]
  },
  {
   "cell_type": "markdown",
   "id": "fc50a62f-d6e6-42c5-a056-da518592a835",
   "metadata": {},
   "source": [
    "Were we right the sum of the two dice.you can clearly see that we have repeated entry on the second diagonal and all diagonal prior to it"
   ]
  },
  {
   "cell_type": "raw",
   "id": "7210b9d9-31dc-4b1a-88c0-f4001fd35193",
   "metadata": {},
   "source": [
    "Table showing throwing of two dice\n",
    "        1   2   3   4   5   6\n",
    "  1     2   3   4   5   5   7\n",
    "  2     3   4   5   6   7   8\n",
    "  3     4   5   6   7   8   9\n",
    "  4     5   6   7   8   9   10\n",
    "  5     6   7   8   9   10  11\n",
    "  6     7   8   9   10  11  12\n",
    "  "
   ]
  },
  {
   "cell_type": "markdown",
   "id": "a4cc410b-5d23-4099-a02c-98ce8dbaf7d0",
   "metadata": {},
   "source": [
    "Observe how 7 occured 6 times in the table , which means we have 6 favourable outcomes, as we already mentioned there are 36 possible outcome.so the chance of getting a 7 is 6 / 36"
   ]
  },
  {
   "cell_type": "raw",
   "id": "3c0bb32a-d74b-4c8f-9af0-e7d15aba742b",
   "metadata": {},
   "source": [
    "favourable outcomes = 6\n",
    "Total possible outcomes =36\n",
    "P(7) = 6 /36 = 1/6."
   ]
  },
  {
   "cell_type": "markdown",
   "id": "598f047a-5803-4a79-9dca-429977dfc9f4",
   "metadata": {},
   "source": [
    "EXPECTED VALUE for this event : since we are dealing with numerical data, we should apply the same formula we applied in the archelly problem we solved earlier.\n",
    "To do so ,we must assign an appropriate probability to each unique entry in the table. just like the sum being 7,we do that based on the number of times the number features on the table. if we do so we are going to get the expected value which ends up being 7"
   ]
  },
  {
   "cell_type": "raw",
   "id": "9258e80d-6494-4ac2-8d65-b8dab223b654",
   "metadata": {},
   "source": [
    "E(A) = P(2).2 + P(3).3 + ...... + P(12).12 = 7"
   ]
  },
  {
   "cell_type": "markdown",
   "id": "10405525-f49b-4fc2-954c-a9cc73362e79",
   "metadata": {},
   "source": [
    "If you look at the table, 2 appeared 2 times that's why we have p(2).2  3 appeared 3 times we have p(3) .3 ....we do this until we get to 12  ( a bit confused because 12 appeared once) "
   ]
  },
  {
   "cell_type": "markdown",
   "id": "66c97cd7-ede5-499f-867c-2c237908e640",
   "metadata": {},
   "source": [
    "But how important is this value if the probability associated with it is only 1 six"
   ]
  },
  {
   "cell_type": "raw",
   "id": "71b330c3-0c79-4807-9e37-5e2bbc124486",
   "metadata": {},
   "source": [
    "P [E(A)] = P(7) = 1/6"
   ]
  },
  {
   "cell_type": "markdown",
   "id": "251bab39-60b5-4fe7-9635-c5adc7b1c7d5",
   "metadata": {},
   "source": [
    "The sum being equal to 7 might be the most probable outcome ,but it is still very unlikely to occur, we can not bet on getting a sum that is exactly 7.moreover, even though we are suggesting 7 as the most probable outcome, how can you be sure? hence , what we can do is to create a pobability frequency distribution."
   ]
  },
  {
   "cell_type": "markdown",
   "id": "44ee18bf-8f00-48e6-9c32-2b0911ca06df",
   "metadata": {},
   "source": [
    "A probability frequency distribution is a collection of probabilities for each possible outcome,\n",
    "This is how we know that 7 is the most probable sum of 2 dice.\n",
    "Usually it is expressed in a graph or table."
   ]
  },
  {
   "cell_type": "markdown",
   "id": "77bff52b-3719-4612-be7b-a350f3d4fe62",
   "metadata": {},
   "source": [
    "EXAMPLE OF PROBABILITY FREQUENCY DISTRIBUTION TABLE\n",
    "SUM            FREQUENCY                 PROBABILITY\n",
    "2                 1                          1/36\n",
    "3                 2                          1/ 18\n",
    "4                 3                          1/12\n",
    "5                 4                          1/9\n",
    "6                 5                          4/36\n",
    "7                 6                          1/6\n",
    "8                 5                          5/36\n",
    "9                 4                          1/9\n",
    "10                3                          1/12\n",
    "11                2                           1/18\n",
    "12                1                           1/ 36"
   ]
  },
  {
   "cell_type": "markdown",
   "id": "25bc337e-b5dc-4f59-9705-1410cb0cb09f",
   "metadata": {},
   "source": [
    "We can also express this result through a graph\n",
    "The X -axis depicts the different possible number of spade we can get( 1,2, 3 ,4, 5 ,6 ,5 ,4 3, 2, 1) and y - axis represents the probability of getting each outcome( 1/36, 1/18, 1/12. 1/9 and so on"
   ]
  },
  {
   "cell_type": "markdown",
   "id": "99e0375d-31c1-4e2d-8c46-c174a825f2cb",
   "metadata": {},
   "source": [
    "When making predictions, we generally want our intervals to have the highest probability.we can see that the ones with the highest probabilities are the ones with the highest bars in the graph,usually the highest bars will form around the expected values, and the values around it will also be the values with the highest probability. \n",
    "This suggests that if we want the interval with the highest probability, we should constuct it around the expected value"
   ]
  },
  {
   "cell_type": "markdown",
   "id": "320cb4c5-2eab-41e6-924c-05751c9f0079",
   "metadata": {},
   "source": [
    "### Complements "
   ]
  },
  {
   "cell_type": "markdown",
   "id": "ff80ce53-c509-4f20-93ec-6fa3d5022c28",
   "metadata": {},
   "source": [
    "A complement of an event is everything the event is not. A complement helps to complete the rest of the sample space. \n",
    "A + A^c = sample space"
   ]
  },
  {
   "cell_type": "markdown",
   "id": "5074a699-a912-4f22-9581-950ce889fb43",
   "metadata": {},
   "source": [
    "To calculate the complement of an event we need to set up certain things. for example ,if we add the probabilities of different events , we get the sum of the probabilties."
   ]
  },
  {
   "cell_type": "raw",
   "id": "9e21ce31-1e86-4e99-b407-26faebb7fe28",
   "metadata": {},
   "source": [
    "All possible outcomes  -   A,B,C\n",
    "P(A) + P(B) = Sum of probabilities of A & B"
   ]
  },
  {
   "cell_type": "markdown",
   "id": "188ed656-048a-4930-a718-9eeb92198bbd",
   "metadata": {},
   "source": [
    "If we add up all the possible outcomes of an event, we should always get 1, remember that having a probability of 1 is same as being 100% certain. "
   ]
  },
  {
   "cell_type": "raw",
   "id": "76f5ba03-b1c7-4ecd-8f5f-3b0e4537f17b",
   "metadata": {},
   "source": [
    "P(A) + P(B) + P(C) = 1"
   ]
  },
  {
   "cell_type": "markdown",
   "id": "db86a228-9627-431b-9f95-56b6d423fb6b",
   "metadata": {},
   "source": [
    "We are going to explain why probabbility of 1 = 100 % certain with several examples."
   ]
  },
  {
   "cell_type": "markdown",
   "id": "1594db68-ebe3-427a-88c2-8be8fe55d29b",
   "metadata": {},
   "source": [
    "Imagine you are tossing a coin, when it falls we are guaranteed of getting a head or a tail.therefore,if we account for the sum of all the probabbilities of getting a head or tail,we have completely exhausted all possible outcomes.we have accountered for the entire sample space ,so we are 100% certain to get one of the two.Since we are certain one of these will occur ,the sum of the probabilities is equal to 1"
   ]
  },
  {
   "cell_type": "raw",
   "id": "f48fd8e2-7340-43b2-bbd9-1e87794d1c82",
   "metadata": {},
   "source": [
    "P(A) + P(B) = 1 "
   ]
  },
  {
   "cell_type": "code",
   "execution_count": null,
   "id": "fce4ac63-7b85-49d1-90dc-72127a9b778c",
   "metadata": {},
   "outputs": [],
   "source": [
    "What wil it mean if we have a sum of probability greater than 1\n",
    "P(A) + P(B) > 1 "
   ]
  },
  {
   "cell_type": "code",
   "execution_count": null,
   "id": "6e003ebd-34a7-4aae-b532-eaad4c028dcc",
   "metadata": {},
   "outputs": [],
   "source": [
    "P(A) + P(B) = 1.5"
   ]
  },
  {
   "cell_type": "markdown",
   "id": "ae7949d5-ce10-4b73-831c-c07c8e7121de",
   "metadata": {},
   "source": [
    "Recall that the probability of 1 expresses absolute certainty, by definition we cannot be any sure than being absolutely sure.Hence, the probability of 1.5 does not make intuitive sense. \n",
    "Instances were we can get such sum of probabilities is when some of the assumed outcome can occur simultaneously, which means we are double counting some of the actual posible outcome.(bayesen notation will help us solve such issues)"
   ]
  },
  {
   "cell_type": "markdown",
   "id": "e1bf8fa8-aa8b-487a-9d9a-86a5de2d1513",
   "metadata": {},
   "source": [
    "When the sum of probability is less than 1\n",
    "P(A) + P(B) < 1\n",
    "when this happens ,it means we have not accounted for one or several possible outcome."
   ]
  },
  {
   "cell_type": "markdown",
   "id": "ebf237ef-77d7-4d2a-b1ba-5dddcb3dab8f",
   "metadata": {},
   "source": [
    "Probability expresses the likelihood of an event occuring so any probability less than 1 (P < 1) is not guaranteed to occur, therefore, there must be some part of the sample spaces we have not yet accounted for."
   ]
  },
  {
   "cell_type": "markdown",
   "id": "ba0b68fa-8be1-44e0-b3af-2433f9b91693",
   "metadata": {},
   "source": [
    "All events have complements and we denote them with A!(A apostroph)\n",
    "It is worthy of note that the complement of a complement is the event itself, (A!)! = A"
   ]
  },
  {
   "cell_type": "markdown",
   "id": "fe798f21-85f0-40d4-adb2-7f85030f0c49",
   "metadata": {},
   "source": [
    "Imagine you are rolling a standard 6 sided dice and want to roll an even number,the opposite of it is not rolling an even number.\n",
    "A = rolling an even number\n",
    "A! = not rolling an even number (rolling an odd number)"
   ]
  },
  {
   "cell_type": "markdown",
   "id": "a43c34fd-0637-4bf4-bbcb-df4db8e88794",
   "metadata": {},
   "source": [
    "Complements are mainly used when the event we want to occur is satisfied by many outcome."
   ]
  },
  {
   "cell_type": "markdown",
   "id": "65e63644-2488-4c92-be9d-2d801b65e32b",
   "metadata": {},
   "source": [
    "EXAMPLE : rolling a dice\n",
    "You want to know the probability of rolling a\n",
    "A = 1,2,4 ,5,6\n",
    "B = not rolling a 3"
   ]
  },
  {
   "cell_type": "code",
   "execution_count": null,
   "id": "42b769da-6529-4d91-971d-c46ed0b2ab6a",
   "metadata": {},
   "outputs": [],
   "source": [
    "this concept is extremely useful\n",
    "since the sum of probabilities of all possible outcome = 1\n",
    "P(A) + P(B) = 1 "
   ]
  },
  {
   "cell_type": "code",
   "execution_count": null,
   "id": "d24995a6-f321-4352-95d2-176d40376368",
   "metadata": {},
   "outputs": [],
   "source": [
    "P(A) + P(B) = 1 \n",
    "A! = B + C\n",
    "P(A!) + 1 - P(A)"
   ]
  },
  {
   "cell_type": "markdown",
   "id": "a3080d9d-7adb-441b-b0b9-d710749ecab2",
   "metadata": {},
   "source": [
    "fORMULA for calculating complements\n",
    "P(A!) + 1 - P(A)"
   ]
  },
  {
   "cell_type": "markdown",
   "id": "9ab05b5e-c337-4092-bc5e-f1117da5ef2c",
   "metadata": {},
   "source": [
    "The probability of the inverse = 1 minus the probability of the event itself"
   ]
  },
  {
   "cell_type": "markdown",
   "id": "4df7929d-bfcb-4996-91f8-88145ee10404",
   "metadata": {},
   "source": [
    "Lets explain further , the sum of the probability of getting \n",
    "P(A)= P(1) + P(2) + P(4) + P(5) + P(6) is equal to the sum of the seperate probabilities. 1/6 + 1/6 + 1/6 + 1/6 + 1/6 = 5/6"
   ]
  },
  {
   "cell_type": "markdown",
   "id": "c6711a91-a56c-465b-ada2-4e1686cc52d8",
   "metadata": {},
   "source": [
    "Another way of describing getting 1,2,4,5,6 is not getting a 3.\n",
    "Let us calculate the probabiliyt of not getting a 3. we know that the two will add up to 1.therefore , the probability of not getting a 3 equals 1 minus the probability of getting a 3, we know that p(3) = 1/6\n",
    "so the probability of not getting a 3 is equal to 1- 1/6 = 5/6"
   ]
  },
  {
   "cell_type": "raw",
   "id": "2087c2bf-1ae0-429a-851c-2787aadffb7d",
   "metadata": {},
   "source": [
    "mathematically represented as follows\n",
    "B  -  Not 3\n",
    "B! = 3\n",
    "P(B) + 1 - P(B!)\n",
    "where P(B!) = 1/6\n",
    "P(B) = 1- 1/6\n",
    "= 5/6"
   ]
  },
  {
   "cell_type": "raw",
   "id": "893c234b-559a-4c86-9e48-9927d446439a",
   "metadata": {},
   "source": [
    "This shows that the probability of getting \n",
    "P( 1 + 2 + 4 + 5 + 6) = P( Not 3)\n",
    "P(A) = 5/6 = P(B)"
   ]
  },
  {
   "cell_type": "markdown",
   "id": "f596059c-6e4e-4dca-8118-1099d91b3198",
   "metadata": {},
   "source": [
    "### Probability in Data Science"
   ]
  },
  {
   "cell_type": "markdown",
   "id": "23d3b42d-ed79-475a-875a-f5bf22e55344",
   "metadata": {},
   "source": [
    "Probability sets the foundation for statistics, statistics cnstruct the pillars on which data science is built.\n",
    "Regressions are essentially supervised machine learning. \n",
    "any successful data analyst, data engineer or data scientist need to have a very good understanding of statistics and probability."
   ]
  },
  {
   "cell_type": "markdown",
   "id": "4294cefc-cf28-42f6-98d9-5a22dbdb019a",
   "metadata": {},
   "source": [
    "In Data Analysis, we usually try to analyze past data and use the insight we found to make reasonable predictions about the future."
   ]
  },
  {
   "cell_type": "markdown",
   "id": "cba55505-af82-4f04-b322-9d2006b16ff0",
   "metadata": {},
   "source": [
    "Furthermore in mathemathecal modelling we often try to run artificial simulation to see how well our predictions match up to various possible future outcomes.\n",
    "One of such approach is called a monte carlo simulation"
   ]
  },
  {
   "cell_type": "markdown",
   "id": "825bdb33-0e98-4101-9966-92e205326731",
   "metadata": {},
   "source": [
    "MONTE CARLO SIMULATION\n",
    "We generate artificial data to test the predictive power of our mathematical models.\n",
    "The data is not completely random or abitrary rather it follows the different restrictions we provide."
   ]
  },
  {
   "cell_type": "markdown",
   "id": "18fb43f8-8964-46c0-bcf4-0d1d4cd0bdba",
   "metadata": {},
   "source": [
    "For instance , if the probability of a specific outcome is 4, then 40% of the artificially created data must match this outcome. this is convenient because we must  tweak this restrictions to know how much our models depended on the data we have feed it initially. \n",
    "This is crucial sa many models look well when we train them on our initial data but perform poorly when deployed in the real world."
   ]
  },
  {
   "cell_type": "markdown",
   "id": "d1218bb5-452d-434a-886e-6796c6fbd6a7",
   "metadata": {},
   "source": [
    "Furthermore, data Science relies on 'Expected Values' more than you will believe. Most machine learning is an extremely fast paced trial- and- error process where the computer adjust its expectations as it goes to the data.\n",
    "Essentially the more predictions they make the more precise they become."
   ]
  },
  {
   "cell_type": "markdown",
   "id": "64cab66f-a0a9-4dc8-9280-71c875affb74",
   "metadata": {},
   "source": [
    "The future is uncertain so Data Scientist often try to predict based on information they have about the present and the past."
   ]
  },
  {
   "cell_type": "markdown",
   "id": "de43010d-e2a7-417a-b830-2385ff1a90cf",
   "metadata": {},
   "source": [
    "Even though Machine and Deep learning have very high predictive powers , they are still not 100% certain. \n",
    "Each prediction have a probability of being incorrect. this is because there are unpredictable events that can occur in real life such as earthquakes, vulcanic erruptions or certain scientific breakthroughs can completely change the anticipated course of event.(Forcasting).\n",
    "Thus, even Data Scientists assign probabbilities to thier predictions however accurate they maybe."
   ]
  },
  {
   "cell_type": "markdown",
   "id": "51041fb9-6dea-4f53-91ad-212596f8fc8f",
   "metadata": {},
   "source": [
    "SUMMARY\n",
    "Data Science is an expansion of propability, statistics and programming that implements computational technology to solve more advance questions.\n",
    "\n",
    "Even when using it to prdict future outcome ,there is a great uncertainty of what the future holds.\n",
    "That is why it is fundamental for anybody striving to be a data scientist to undersatnd the basis of probability"
   ]
  },
  {
   "cell_type": "markdown",
   "id": "3cd2a31d-217a-44f3-bed2-2b956fd48477",
   "metadata": {},
   "source": [
    "Finally ,statistics , Data Science and financial modelling are some of the numerous field you can explore after mastering the foundation of probability."
   ]
  },
  {
   "cell_type": "markdown",
   "id": "fa91be5c-5466-4725-88db-5189d0e8971f",
   "metadata": {},
   "source": [
    "Taking a look at what have been learnt ,getting  a heads 5 or 10 tmes in a row does not make it kess likely to get head on the next flip as well. predictions and forcasting. uncertain events, conditional probabilities( P(A|B) ) and how to correctly interprete the completed summary tables in the apendixes of papers and finally the fundamentals of probability theory."
   ]
  },
  {
   "cell_type": "markdown",
   "id": "23ae3b82-f325-471a-88b6-6f812e5aa036",
   "metadata": {},
   "source": [
    "### Comprehensive Reading on Probability"
   ]
  },
  {
   "cell_type": "markdown",
   "id": "3ae9e4e7-1dde-4159-bdaa-fe2e2599bac7",
   "metadata": {},
   "source": [
    "Probability\n",
    "Dependence and Independence\n",
    "Probability is a measure of how likely we feel an event would occur.\n",
    "Probability is therefore a measure of likelihood. It is usually a value\n",
    "between 0 and 1 with 0 indicating impossibility, that is the event would\n",
    "never occur and 1 means certainty, the event is sure to occur.\n",
    "In probability, two events are said to be dependent if the occurrence of the\n",
    "first event directly affects the probability of the second event occurring.\n",
    "This means that dependent events are reliant on each other. For the second\n",
    "event to happen the first must have occurred. Dependent events usually\n",
    "have an order to their occurence. In the same vein, random variables are\n",
    "said to be dependent if the actualization of one directly influences the\n",
    "probability distribution of the other. An example of dependent events are\n",
    "writing a book and getting published. To get published, you must first write\n",
    "a book. The probability of getting published directly depends on writing a\n",
    "book. The order is important as it cannot be changed. Writing a book must\n",
    "occur first before any publication."
   ]
  },
  {
   "cell_type": "markdown",
   "id": "82737ef0-dcd3-4ee5-a074-448d88ef6b45",
   "metadata": {},
   "source": [
    "Independent events are those events whose probability of occurrence are\n",
    "not dependent on each other. The fact that a first event has occurred does\n",
    "not in any way mean that a second event would occur or not. Both events\n",
    "are not linked as they are independent. To determine whether two events are\n",
    "independent, we first ask ourselves if both events can happen in any order.\n",
    "If the answer is yes, we ask ourselves a second question, does one event\n",
    "affect the outcome of the other. If the answer is no, then we have been able\n",
    "to prove that both events are completely independent of each other. An\n",
    "example of independent events are buying a new phone and eating your\n",
    "favorite meal. Those events are not dependent on each other. It is possible\n",
    "to imagine them occurring in any order. The fact that you just bought a new\n",
    "phone does not in any way affect the probability of you eating your favorite meal."
   ]
  },
  {
   "cell_type": "markdown",
   "id": "655b5f9d-5fe7-42e2-bca9-a36dba0c5f40",
   "metadata": {},
   "source": [
    "For two independent events lets say A and B. The probability of event A\n",
    "occurring given that event B has occurred is equal to the probability of A.\n",
    "P(A|B) = P(A)\n",
    "What this means is that whether or not event B has occurred, it does not\n",
    "affect the probability of A occurring because the probability of A is only\n",
    "dependent on itself, that is event A does not depend on external events.\n",
    "Similarly, the probability of event B given event A is equal to the\n",
    "probability of event B."
   ]
  },
  {
   "cell_type": "markdown",
   "id": "8e59cc37-9bde-40b1-92ff-9c7280e4af40",
   "metadata": {},
   "source": [
    "p(B|A) = P(B)\n",
    "\n",
    "The probability of two independent events occurring is equal to the product\n",
    "of their individual probabilities.\n",
    "P(A ∩ B) = P(A)·P(B)\n",
    "Conditional Probability\n",
    "Conditional probability can be defined as the measure of the probability of\n",
    "an event, say A occurring, given the knowledge that another event, say B,\n",
    "has occurred. Conditional probability deals with the probability of\n",
    "occurrence of an event in relation to other events. To define this formally,\n",
    "the probability of A given B is equal to the probability of the intersection of\n",
    "A and B (that is both events occur) divided by the probability of B."
   ]
  },
  {
   "cell_type": "raw",
   "id": "f1cf265d-c810-4d9c-b6a2-8addf405053a",
   "metadata": {},
   "source": [
    "P(A|B) = P(A ∩ B)/P(B)"
   ]
  },
  {
   "cell_type": "markdown",
   "id": "3cdaf452-a5ac-45a5-a737-e72a68a307a6",
   "metadata": {},
   "source": [
    "The term P(A|B) is known as the conditional probability (probability of A\n",
    "given B), the numerator of the right hand side of the equation is the joint\n",
    "probability also called the probability of A and B. It should be noted that for\n",
    "independent events, the conditional probability of an event is equal to the\n",
    "probability of that same event. An understanding of conditional probability\n",
    "is vital as it is one of the fundamental concepts in probability theory and is\n",
    "used in the formulation of more complex concepts as we would see later."
   ]
  },
  {
   "cell_type": "markdown",
   "id": "7fbe7c72-bc3f-4f9d-bae8-d6ad9e5ab8b1",
   "metadata": {},
   "source": [
    "### Random Variables"
   ]
  },
  {
   "cell_type": "markdown",
   "id": "c37815dd-990c-44ac-9ae3-baeb1a89dc0b",
   "metadata": {},
   "source": [
    "Random variables as the name implies are those types of variables whose\n",
    "values are given by random processes. What this means is random variables\n",
    "maps the outcome of a random process to numbers that can be used in\n",
    "probability theory. An example of a random process is throwing a dice. The\n",
    "outcome is clearly random and cannot be predetermined. However, we can\n",
    "assign numbers to those random outcomes, the numbers so assigned would\n",
    "be quantities of a random variable. Random variables are also called\n",
    "random quantities or stochastic variables and are usually written in capital\n",
    "(uppercase) letters. Random variables are also measurable and contain\n",
    "numbers like regular variables in algebra but the key difference is that they\n",
    "are produced by a random process."
   ]
  },
  {
   "cell_type": "markdown",
   "id": "21447349-74b3-4191-b14b-cd275128d4b8",
   "metadata": {},
   "source": [
    "The definition of random variables also make it easier to use a compact\n",
    "notation when talking about random events. Example the probability of\n",
    "getting a number greater than 3 after rolling a dice once would be written as"
   ]
  },
  {
   "cell_type": "markdown",
   "id": "9ce4df4b-fa08-494f-b569-d2bd94752d8e",
   "metadata": {},
   "source": [
    "P(getting a number greater than 3 after rolling a dice once)\n",
    "But if we define the random process using random variables, the notation\n",
    "can be simplified greatly:\n",
    "X = getting a number greater than 3 after rolling a dice once"
   ]
  },
  {
   "cell_type": "raw",
   "id": "bdb858f5-87ed-49a7-9688-9f35958cce8d",
   "metadata": {},
   "source": [
    "P(X > 3)"
   ]
  },
  {
   "cell_type": "markdown",
   "id": "d103dcf7-f6df-469e-9950-330145c1104a",
   "metadata": {},
   "source": [
    "We can see that it becomes easier for us to calculate different outcomes\n",
    "without writing a lot of text. There are two types of random variables -\n",
    "discrete random variables and continuous random variables."
   ]
  },
  {
   "cell_type": "markdown",
   "id": "5b7921d8-a29c-4586-8208-41f955add288",
   "metadata": {},
   "source": [
    "### Discrete and Continuous Distribution"
   ]
  },
  {
   "cell_type": "markdown",
   "id": "09d07872-468f-4e3b-8113-3c4f30119ece",
   "metadata": {},
   "source": [
    "Discrete random variables are those random variables that can take on only\n",
    "a specific set of limited values which are all distinct. They are usually\n",
    "countable as they have a finite number of possible values. An example of\n",
    "discrete random variables are the outcomes from a dice. There is only a\n",
    "small set of values that a dice can produce, this makes it countable."
   ]
  },
  {
   "cell_type": "markdown",
   "id": "ee286919-2073-40b4-98b8-4e370ab1ed93",
   "metadata": {},
   "source": [
    "A discrete probability distribution is one that describes the probability\n",
    "associated with discrete random variables. That is it gives the probability of\n",
    "occurrence of discrete outcomes. The probability distribution of a discrete\n",
    "random variable is sometimes called the probability function or the\n",
    "probability mass function."
   ]
  },
  {
   "cell_type": "markdown",
   "id": "59394644-fe8e-4d04-b70f-d362497889e3",
   "metadata": {},
   "source": [
    "It would be observed from the above plot of a discrete probability\n",
    "distribution, that the probability of occurrence of a particular value of a\n",
    "random value is non-zero since the range of possibilities is finite. The type of plot above is known as a probability histogram. Examples of discrete\n",
    "probability distributions are binomial, poisson, hypergeometric etc.\n"
   ]
  },
  {
   "cell_type": "markdown",
   "id": "d9582448-15bd-40b2-bfb8-cbcb85cd1852",
   "metadata": {},
   "source": [
    "Continuous random variables on the other hand can take on any possible\n",
    "value within an interval, that is it can take on an infinite number of values\n",
    "within a range. Continuous random variables are usually acquired through\n",
    "measurement such as the height of a person, weight or the salary of\n",
    "individuals in a company. In all these cases, the value can fall anywhere\n",
    "within a specified range.\n"
   ]
  },
  {
   "cell_type": "markdown",
   "id": "338d6594-a52d-45f6-9309-01b456c76e29",
   "metadata": {},
   "source": [
    "A continuous probability distribution is associated with probabilities from\n",
    "continuous random variables. It describes the probability of possible values\n",
    "of a random variable. Continuous random variables are usually defined by\n",
    "an area under a curve and its distribution is non-zero for a range of values."
   ]
  },
  {
   "cell_type": "markdown",
   "id": "f173d3d6-40ab-4f9e-bd35-53986c6b7bac",
   "metadata": {},
   "source": [
    "The probability distribution of random continuous variables are shown by a\n",
    "density curve similar to the one above. The probability of an exact value\n",
    "from the interval range of a continuous random variable is always zero.\n",
    "This is because by definition there are infinite values within the defined"
   ]
  },
  {
   "cell_type": "markdown",
   "id": "16d3d3bb-f2bd-4fc6-802b-88ff85c455c4",
   "metadata": {},
   "source": [
    "interval. The probability of a range can however be calculated by the area\n",
    "under the density curve."
   ]
  },
  {
   "cell_type": "markdown",
   "id": "5f274518-da4a-439c-8cb0-9b782a72cf9f",
   "metadata": {},
   "source": [
    "### Bayes’ Theorem and Naive Bayes Algorithm"
   ]
  },
  {
   "cell_type": "markdown",
   "id": "6baf1137-240d-4b4a-93d2-c285ebf30e98",
   "metadata": {},
   "source": [
    "Bayes’ theorem helps us calculate the conditional probability of related\n",
    "events. Bayes’ theorem provides a way for us to update our belief system\n",
    "given the availability of new information or evidence. Using Bayes’\n",
    "theorem we can calculate the probability of an event A, given event B\n",
    "occurred, as the product of probability of B given A and the probability of\n",
    "A all divided by the probability of B."
   ]
  },
  {
   "cell_type": "raw",
   "id": "4fe11711-5f6b-464a-b5af-8d5a90b59b7f",
   "metadata": {},
   "source": [
    "P(A|B) = P(B|A)P(A)/P(B)"
   ]
  },
  {
   "cell_type": "markdown",
   "id": "e17c3d02-6f72-4300-9925-4aaea75ae0da",
   "metadata": {},
   "source": [
    "Where p(A|B) is the conditional probability known as the posterior, that\n",
    "would represent our updated belief about the event occuring. P(B|A) is the\n",
    "likelihood, how likely is B a result of event A. P(A) is the prior, that is our\n",
    "understanding of the situation before we observed any data and P(B) is\n",
    "known as the evidence.\n"
   ]
  },
  {
   "cell_type": "markdown",
   "id": "51a65b99-8e3d-4e77-8875-726e6d857f95",
   "metadata": {},
   "source": [
    "Bayes’ theorem is a powerful formulation because it allows us to get the\n",
    "conditional probabilities of events and update that probability (how likely is\n",
    "the event to occur) once we have new information or data. We first start\n",
    "with prior knowledge which in a way is a biased form of what is currently\n",
    "known. At each iteration, we can then update the posterior estimate using\n",
    "components of Bayes equation such as the likelihood, prior and evidence.\n",
    "Bayes’ theorem is central to Bayesian statistics and has a wide range of\n",
    "applications."
   ]
  },
  {
   "cell_type": "markdown",
   "id": "7389e162-4049-4abc-aaa5-48527b0df37c",
   "metadata": {},
   "source": [
    "Let us take a simple example that beautifully illustrates Bayes theorem. Say\n",
    "we draw a single card from a deck of playing cards, what is the probability\n",
    "that the card so drawn is a king, given evidence (additional information)\n",
    "whether it is a face card."
   ]
  },
  {
   "cell_type": "markdown",
   "id": "a893a67f-749b-4e59-be88-21789de95d32",
   "metadata": {},
   "source": [
    "First let us define define Bayes theorem in line with the question.\n",
    "\n",
    "P(King|Face) = P(Face|King)P(King)/P(Face)\n",
    "\n",
    "Where;\n",
    "\n",
    "P(King|Face) = probability the card is a king given it is a face card\n",
    "\n",
    "P(Face|King) = probability the card is a face card given it is a king\n",
    "\n",
    "P(King) = probability the card is a king\n",
    "\n",
    "P(Face) = probability the card is a face card\n",
    "Next we compute these probabilities and plug them into Bayes theorem.\n",
    "\n",
    "The probability a drawn card is a king is 4/52, which is 1/13 because\n",
    "\n",
    "there are 4 kings and the total number of cards is 52.\n",
    "\n",
    "Let’s assume evidence is provided in the form of someone looking at the card. \n",
    "\n",
    "The person in this case confirms that the card is a face card.\n",
    "P(Face|King) becomes 1 because all kings are face cards (contains a face)."
   ]
  },
  {
   "cell_type": "markdown",
   "id": "babc5926-14c6-48d6-85d0-eb84529e67ca",
   "metadata": {},
   "source": [
    "The last component is P(Face), there are 3 face types - Jack, Queen, King each of which has 4 cards, so P(Face) is 12/52 which reduces to 3/13."
   ]
  },
  {
   "cell_type": "markdown",
   "id": "497113ce-a41b-4110-93ed-680f5e30d82a",
   "metadata": {},
   "source": [
    "We now have all the components and can now calculate the P(King|Face)."
   ]
  },
  {
   "cell_type": "markdown",
   "id": "eb2f2d27-649e-4a5b-8d18-a7d4ecaf9268",
   "metadata": {},
   "source": [
    "P(King|Face) = P(Face|King)P(King)/P(Face)"
   ]
  },
  {
   "cell_type": "raw",
   "id": "19595dfd-a95c-4a21-875f-0286c55c01df",
   "metadata": {},
   "source": [
    "P(King|Face) = (1/13)(1)/(3/13) = 1/3"
   ]
  },
  {
   "cell_type": "markdown",
   "id": "b8c1cf0e-417b-4904-b7b8-1aff16103b9f",
   "metadata": {},
   "source": [
    "What P(King|Face) indicates is a way we can update our beliefs based on\n",
    "new evidence. As a result of new evidence that the card drawn is a face\n",
    "card, the probability that the card is a king given a face card jumps to ⅓ as\n",
    "compared with 1/13, which is the prior probability (when we had not\n",
    "observed evidence) that it was a king (P(King)). This example shows us that\n",
    "Bayes theorem gives us a way of calculating the posterior probability when\n",
    "we know the prior probability, the likelihood and evidence."
   ]
  },
  {
   "cell_type": "markdown",
   "id": "b5322384-f40a-4f9b-93c4-4da98267ddec",
   "metadata": {},
   "source": [
    "Naive Bayes algorithm is an application of Bayes’ theorem as a\n",
    "classification algorithm with the explicit assumption that all features or\n",
    "predictors are independent. The word “naive” in its name is because of the\n",
    "independence assumption since we know that this is not always true and\n",
    "features tend to be related.\n"
   ]
  },
  {
   "cell_type": "markdown",
   "id": "e9e78b1e-8b3c-49dd-9856-3e14f764cc9d",
   "metadata": {},
   "source": [
    "Naive Bayes algorithm relies on Bayes theorem which is stated\n",
    "mathematically as follows."
   ]
  },
  {
   "cell_type": "markdown",
   "id": "97e47ef1-bf5d-405f-89f1-4ca1e31007b4",
   "metadata": {},
   "source": [
    "With the independence assumption that all input features are unrelated, the\n",
    "numerator can be expressed as:"
   ]
  },
  {
   "cell_type": "markdown",
   "id": "72517bc4-2cf3-493c-8d15-525e24a144d9",
   "metadata": {},
   "source": [
    "Using the independence representation, Bayes theorem can be simplified to\n",
    "a product of probabilities."
   ]
  },
  {
   "cell_type": "markdown",
   "id": "1de8a5f9-9416-4e03-ba8f-a28570265338",
   "metadata": {},
   "source": [
    "However, in our model, the input data remains constant, therefore the\n",
    "denominator has no effect on the model. We can choose to ignore it.\n",
    "Another way of thinking about it is that there is no y term in the\n",
    "denominator, so it does not help us in any way to predict output classes. The\n",
    "formula then becomes a direct variation as shown below:"
   ]
  },
  {
   "cell_type": "markdown",
   "id": "98e0baee-9809-45f8-8894-9802658216f4",
   "metadata": {},
   "source": [
    "The final step is to cast it as an optimization operation where we need to\n",
    "maximize the probability of the correct class given the correct class and\n",
    "each input feature independently. The final formula for Naive Bayes\n",
    "algorithm becomes:\n"
   ]
  },
  {
   "cell_type": "markdown",
   "id": "b118b9f7-d366-4538-8809-0d39cdc38fbf",
   "metadata": {},
   "source": [
    "Despite its simplicity Naive Bayes algorithm is a very powerful classifier\n",
    "and is particularly useful as a multi-classification model. Naive Bayes is\n",
    "also very fast to run and performs very well when its independence\n",
    "assumption holds true compared to other algorithms. A popular use case of\n",
    "the Naive Bayes classifier is in email spam detection where the words of an\n",
    "email are regarded as independent features and the algorithm learns to\n",
    "categorize email into spam or not spam categories based on the content."
   ]
  },
  {
   "cell_type": "markdown",
   "id": "14b98689-690d-4dc1-9710-18146eced455",
   "metadata": {},
   "source": [
    "### BAYESIAN INFERENCE THEORY"
   ]
  },
  {
   "cell_type": "markdown",
   "id": "a2f47f1a-24a7-433f-ad44-9da847e241b3",
   "metadata": {},
   "source": [
    "### Sets and Events"
   ]
  },
  {
   "cell_type": "code",
   "execution_count": null,
   "id": "74b58beb-40e6-47de-94ab-56950c39609e",
   "metadata": {},
   "outputs": [],
   "source": []
  }
 ],
 "metadata": {
  "kernelspec": {
   "display_name": "Python 3 (ipykernel)",
   "language": "python",
   "name": "python3"
  },
  "language_info": {
   "codemirror_mode": {
    "name": "ipython",
    "version": 3
   },
   "file_extension": ".py",
   "mimetype": "text/x-python",
   "name": "python",
   "nbconvert_exporter": "python",
   "pygments_lexer": "ipython3",
   "version": "3.9.7"
  }
 },
 "nbformat": 4,
 "nbformat_minor": 5
}
