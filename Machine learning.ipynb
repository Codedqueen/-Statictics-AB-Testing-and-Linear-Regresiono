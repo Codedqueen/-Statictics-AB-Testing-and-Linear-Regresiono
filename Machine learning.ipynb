{
 "cells": [
  {
   "cell_type": "markdown",
   "id": "8783823e-b7f4-49bc-95e0-9cb270d20102",
   "metadata": {},
   "source": [
    "### Machine learning - Module 3"
   ]
  },
  {
   "cell_type": "markdown",
   "id": "34c605c6-5f2b-490b-a7ef-268999021d17",
   "metadata": {},
   "source": [
    "What is Machine Learning\n",
    "\n",
    "Machine learning has recently been attracting attention in the media for\n",
    "several reasons, mainly because it has achieved impressive results in\n",
    "various cognitive tasks such as image classification, natural language\n",
    "understanding, customer churn prediction etc.\n",
    "\n",
    "\n",
    "However, it has been\n",
    "regarded as some sort of magic formula that is capable of predicting the\n",
    "future, but what really is machine learning. Machine learning at its simplest form is all about making computers learn from data by improving their\n",
    "form is all about making computers learn from data by improving their\n",
    "performance at a specific task through experience.\n",
    "\n",
    "\n",
    "Similar to the way\n",
    "humans learn by trying out new things and learning from the experience,\n",
    "machine learning algorithms improve their capability by learning patterns\n",
    "from lots of examples. The performance of these algorithms, generally\n",
    "improves as they are exposed to more data (experience). Machine learning\n",
    "is therefore a branch of artificial intelligence that aims to make machines\n",
    "\n",
    "capable of performing specific tasks without being explicitly programmed.\n",
    "What this means is that these algorithms are not rule-based, the entire\n",
    "learning process is constructed in such a way as to minimize or completely\n",
    "eliminate human intervention."
   ]
  },
  {
   "cell_type": "markdown",
   "id": "0ce6146b-49e0-489e-9961-cf51cc76ebd9",
   "metadata": {},
   "source": [
    "Machine learning algorithms are typically used for a wide range of learning\n",
    "problems such as classification, regression, clustering, similarity detection\n",
    "etc.\n",
    "Many applications used in the real world today are powered by machine\n",
    "learning. Applications such as personal assistants on mobile phones use\n",
    "machine learning algorithms to understand voice commands spoken in\n",
    "natural language, mobile keyboards predict the next word a user is typing\n",
    "based on previous words, email clients offer a smart reply feature whereby\n",
    "the content of an email is scanned and appropriate responses are generated,\n",
    "\n",
    "e-commerce applications offer recommendation to users based on previous\n",
    "purchases and spending habits etc. Nearly every industry would be\n",
    "impacted by machine learning as most processes can be automated given\n",
    "that there is enough training data available. Machine learning algorithms"
   ]
  },
  {
   "cell_type": "markdown",
   "id": "5c17a944-d300-4991-83ab-f5b6e87d7480",
   "metadata": {},
   "source": [
    "mostly excel in tasks where there is a clear relationship between a set of\n",
    "inputs and outputs which can be modelled by training data. Although\n",
    "machine learning is a rapidly improving field, there is as of now no notion\n",
    "\n",
    "of general intelligence of the form displayed by humans. This is because\n",
    "models trained on one task cannot generalize the knowledge gleaned to\n",
    "perform another task, that is machine learning algorithms learn narrow\n",
    "verticals of tasks.\n"
   ]
  },
  {
   "cell_type": "markdown",
   "id": "2a82ba45-8305-4c62-a7cb-75be359713e7",
   "metadata": {},
   "source": [
    "There are three main branches of machine learning namely - supervised\n",
    "learning, unsupervised learning and reinforcement learning.\n",
    "\n",
    "In some cases a\n",
    "fourth branch is mentioned - semi-supervised learning but this is really just\n",
    "a special instance of supervised learning as we would see in the\n",
    "explanations below.\n"
   ]
  },
  {
   "cell_type": "markdown",
   "id": "ed822359-5f0f-4c7f-80cc-f92e9c9c4219",
   "metadata": {},
   "source": [
    "#### Supervised Learning Algorithms"
   ]
  },
  {
   "cell_type": "markdown",
   "id": "872fd268-37ac-4318-bf3b-c181e7e3b70e",
   "metadata": {},
   "source": [
    "\n",
    "Supervised learning is by far the most common branch of machine learning.\n",
    "Most of the real world value currently in the field of machine learning can\n",
    "be attributed to supervised learning.\n",
    "\n",
    "Supervised learning algorithms are\n",
    "those machine learning algorithms which are trained with labelled\n",
    "examples. It would be remembered that we defined machine learning as\n",
    "making algorithms that learn from data (examples) without being explicitly\n",
    "programmed.\n",
    "\n",
    "The main intuition to understand when dealing with\n",
    "supervised learning algorithms is that, they learn through the use of\n",
    "examples that are clearly annotated to show them what they are supposed to\n",
    "learn. \n",
    "The algorithms therefore try to find a mapping representation from\n",
    "inputs to outputs using the labels as a guide. “Supervised” in the name of\n",
    "these types of algorithms, point to the fact that the labels or targets provide\n",
    "supervision throughout the learning process. \n",
    "\n",
    "It is therefore possible for the\n",
    "algorithm to check its prediction against actual values stored in the labels. It\n",
    "then uses this error information (how far off its prediction was from the\n",
    "actual label) to slowly improve its performance with each iteration. \n",
    "\n",
    "The targets in a supervised learning problem can be seen as a supervisor\n",
    "providing feedback to the algorithm on areas where it can improve its performance. The two main applications of supervised learning algorithms\n",
    "are classification and regression."
   ]
  },
  {
   "cell_type": "markdown",
   "id": "e33ccf41-27b1-498a-a594-338fdab76b49",
   "metadata": {},
   "source": [
    "Classification involves training a learning algorithm to correctly separate\n",
    "examples into predefined categories or classes. The classes are usually\n",
    "chosen ahead of time by a human expert with domain knowledge in the\n",
    "field where the learning problem is posed. The examples that are used to\n",
    "train the model are clearly labelled to indicate the category they belong to.\n",
    "\n",
    "During training, the supervised learning algorithm, uses the labels to guide\n",
    "\n",
    "its learning and at test time it is capable of correctly predicting the\n",
    "categories of new examples.\n",
    "A popular example of classification is spam\n",
    "detection where an email is correctly identified to belong to one of two\n",
    "classes - spam or not spam.\n",
    "\n",
    "Depending on what is predicted, appropriate\n",
    "action could be taken such as shifting spam emails to a spam folder while\n",
    "relevant emails are sent to a user’s inbox."
   ]
  },
  {
   "cell_type": "markdown",
   "id": "35f58be3-bd86-45d2-8e0e-e656b16b0a82",
   "metadata": {},
   "source": [
    "Regression is a learning problem where the algorithm is interested in\n",
    "predicting a single real value number. Regression is used where a single\n",
    "numeric entity is to be predicted. An example of regression would be\n",
    "predicting the age of a person given a profile picture or predicting the salary\n",
    "\n",
    "of an individual given information about the individual such as level of\n",
    "education, work experience, age, country of residence etc. It would be\n",
    "observed that in both cases the final prediction is a single number."
   ]
  },
  {
   "cell_type": "markdown",
   "id": "fd37d91b-70fd-4d0e-96b1-f6364c41588f",
   "metadata": {},
   "source": [
    "Supervised learning algorithms are easier to train when compared to\n",
    "unsupervised or reinforcement learning algorithms. This is because the\n",
    "presence of labels simplify the learning problem since there exist a clear\n",
    "way of determining performance during training.\n",
    "\n",
    "However, it should be\n",
    "noted that most supervised learning problems can also be modelled as\n",
    "unsupervised if we get rid of labels. Datasets for supervised learning are\n",
    "more expensive to acquire as it requires meticulous human annotation of\n",
    "examples. The fact that most data in the world today are in an unlabelled\n",
    "form makes the research of unsupervised learning algorithms particularly\n",
    "important."
   ]
  },
  {
   "cell_type": "markdown",
   "id": "ccc9d003-31a2-4211-97b9-927f254173b3",
   "metadata": {},
   "source": [
    "#### Unsupervised Learning Algorithms"
   ]
  },
  {
   "cell_type": "markdown",
   "id": "37c7dfe8-e39d-4625-8dac-130f4481f2ec",
   "metadata": {},
   "source": [
    "\n",
    "Unsupervised learning involves learning directly from raw data. This type\n",
    "of learning takes place without the presence of a supervisor in the training\n",
    "loop in form of labels.\n",
    "\n",
    "Unsupervised learning algorithms are free to explore\n",
    "the underlying data distribution and come up with patterns that best\n",
    "describe the entire dataset.\n",
    "\n",
    "The training process is not guided by humans\n",
    "through labelled examples and as such unsupervised learning algorithms are\n",
    "more powerful as they can discover patterns which domain experts may not\n",
    "have thought of. It is however still the job of domain experts to understand\n",
    "\n",
    "the patterns so discovered and explain them because unsupervised learning\n",
    "algorithms do not truly have the sense of reasoning which we would ascribe\n",
    "to humans. Unsupervised learning algorithms merely use the data\n",
    "distribution or its latent (hidden) representations to unearth insights which may be in the form clusters, groups or distributions.\n"
   ]
  },
  {
   "cell_type": "markdown",
   "id": "ff9ffe80-3d47-43c0-86df-b1c97de883b8",
   "metadata": {},
   "source": [
    "There are many applications of unsupervised learning algorithms such as\n",
    "clustering, dimensionality detection, generative models etc. Clustering is\n",
    "one of the popular implementations of unsupervised learning. It involves\n",
    "the automatic discovery of groups (clusters) of data points from raw data.\n",
    "Members of a group share similar features, that is they are alike. They can\n",
    "be thought of as belonging to the same type of entity whereas as a group\n",
    "they are dissimilar to other groups. Groups usually have semantic meaning\n",
    "which can be further explored to understand the dataset. An example of\n",
    "clustering would involve grouping customers of a tv streaming service into\n",
    "the type of shows that they watch. Users with similar interests would\n",
    "generally be found in the same group. This is a very powerful application as\n",
    "new tv shows could be recommended to users based on other users who share their interests, leading to greater engagement on the platform and\n",
    "increased revenues.\n"
   ]
  },
  {
   "cell_type": "markdown",
   "id": "72244c1a-a620-4981-b878-2a6a25a790f7",
   "metadata": {},
   "source": [
    "Dimensionality reduction is a machine learning technique that reduces the\n",
    "number of attributes (features) fed in a model to only the most relevant ones\n",
    "which drive predictions. \n",
    "\n",
    "It has been observed empirically, that models with\n",
    "greater number of features or dimensions perform worse on generalization."
   ]
  },
  {
   "cell_type": "markdown",
   "id": "c9b29d2c-647b-440a-8b19-56b8f6391874",
   "metadata": {},
   "source": [
    "That is to say that their performance suffers in the real world. By reducing\n",
    "the number of dimensions, a model can learn from informative features\n",
    "which enables it to develop valid representations about the data that aids\n",
    "prediction. \n",
    "\n",
    "Principal component Analysis (PCA) is probably the most\n",
    "popular dimensionality reduction technique and is an example of an\n",
    "unsupervised learning algorithm. \n",
    "\n",
    "PCA reduces the dimensions of data by\n",
    "identifying those axes that contain the most variability. What that means is\n",
    "that it discovers principal components which offer the most discriminative\n",
    "features.\n"
   ]
  },
  {
   "cell_type": "markdown",
   "id": "e5c1f04d-3910-4a36-baea-1482b980ff01",
   "metadata": {},
   "source": [
    "Generative models are another popular instance of unsupervised learning\n",
    "algorithms. They have made recent headlines because of their ability to\n",
    "artificially generate photographs and works of art that look realistic.\n",
    "\n",
    "Generative Adversarial Networks (GANs) currently produce state of the art\n",
    "results across many image generation benchmarks and are among the most\n",
    "popular examples of generative models."
   ]
  },
  {
   "cell_type": "markdown",
   "id": "5b35b66a-958b-4d84-a31b-7aac5886574d",
   "metadata": {},
   "source": [
    "#### Semi-supervised Learning Algorithms"
   ]
  },
  {
   "cell_type": "markdown",
   "id": "7104b9c5-a83a-44a0-a0f3-d81e13619142",
   "metadata": {},
   "source": [
    "Semi-supervised learning algorithms are a special case of supervised\n",
    "learning algorithms. In semi-supervised learning, while there isn’t an\n",
    "explicit label, there exist an implicit heuristic which serves as a supervisor\n",
    "in the training loop.\n",
    "\n",
    "Semi-supervised models do not contain any external\n",
    "source of labels but only rely on input features. However, the learning task\n",
    "is set up in such a way that supervision still takes place in the form of\n",
    "extraction of pseudo-labels from inputs through a heuristic algorithm.\n",
    "\n",
    "A\n",
    "popular example of semi-supervised learning algorithms are autoencoders.\n",
    "Let us look at an example to expand our understanding."
   ]
  },
  {
   "cell_type": "markdown",
   "id": "01ffd817-c7f5-4c04-becc-af35a25ecb86",
   "metadata": {},
   "source": [
    "#### AUTOENCODER DIAGRAM"
   ]
  },
  {
   "cell_type": "markdown",
   "id": "48dca260-d4ec-4e14-8ece-a8930f69cb79",
   "metadata": {},
   "source": [
    "In the autoencoder above, the learning task is to reduce the dimensions of\n",
    "the input into a smaller latent space representing the most important hidden\n",
    "features, then reconstruct the input from this lower dimensional space. So\n",
    "given an input, example an image, an autoencoder shrinks the image into a\n",
    "smaller latent representation that still contains most of the information\n",
    "about the image, then reconstructs the original input image from this low\n",
    "dimensional space.\n",
    "\n",
    "Even if there are no explicit labels, it would be observed\n",
    "that the input serves as the supervisor since the learning task is to\n",
    "reconstruct the input. \n",
    "\n",
    "Once such a model is trained to compress features\n",
    "into a smaller dimension, the compressed features can serve as the starting\n",
    "point of a supervised learning algorithm similar to dimensionality reduction\n",
    "using PCA. \n",
    "\n",
    "The first part of the network that reduces the dimensions of the\n",
    "input is called an encoder while the second part that scales the encoded\n",
    "features back to the full size input is called the decoder"
   ]
  },
  {
   "cell_type": "markdown",
   "id": "e6bb357f-8333-4ea3-a6d7-4f061fd680f9",
   "metadata": {},
   "source": [
    "#### Reinforcement Learning Algorithms"
   ]
  },
  {
   "cell_type": "markdown",
   "id": "65aa620d-f4a0-43df-b66a-2f2a47c0c4a4",
   "metadata": {},
   "source": [
    "\n",
    "In reinforcement learning there are three main components, an agent, an\n",
    "environment and actions. The goal of reinforcement learning is to train an\n",
    "intelligent agent that is capable of navigating its environment and\n",
    "performing actions that maximizes its chances of arriving at some end goal.\n",
    "Actions carried out by the agent change the state of the environment and\n",
    "rewards or punishment may be issued based on the actions taken by the"
   ]
  },
  {
   "cell_type": "markdown",
   "id": "23d0d656-69df-4a16-ac7a-29c811129d37",
   "metadata": {},
   "source": [
    "agent. The challenge is for the agent to maximize the accumulated rewards\n",
    "at the end of a specific period so that it can actualize an end goal\n",
    "(objective).\n"
   ]
  },
  {
   "cell_type": "markdown",
   "id": "bd5e4b01-7635-4bbf-8c8d-292525280929",
   "metadata": {},
   "source": [
    "#### In the schematic diagram of reinforcement learning"
   ]
  },
  {
   "cell_type": "markdown",
   "id": "ed4e2863-512c-4b46-9a7c-c02ca1e708b7",
   "metadata": {},
   "source": [
    "In the schematic diagram of reinforcement learning above, an agent (the\n",
    "reinforcement learning) interacts with the world (environment) through\n",
    "actions.\n",
    "\n",
    "The environment provides observations and rewards to the agent\n",
    "based on the kind of action taken by the agent. \n",
    "\n",
    "The agent uses this feedback\n",
    "to improve its decision making process by learning to carry out actions\n",
    "associated with positive outcomes."
   ]
  },
  {
   "cell_type": "markdown",
   "id": "adad5843-5055-4dd3-ac6b-68219a41144f",
   "metadata": {},
   "source": [
    "#### Overfitting and Underfitting"
   ]
  },
  {
   "cell_type": "markdown",
   "id": "bbafda1e-3e41-4cfc-bbea-537bd1a30cd2",
   "metadata": {},
   "source": [
    "\n",
    "Overfitting and underfitting jointly form the central problem of machine\n",
    "learning. When training a model we want to improve its optimization by\n",
    "attaining better performance on the training set.\n",
    "\n",
    "However, once the model is\n",
    "trained, what we care about is generalization. Generalization in a nutshell\n",
    "deals with how well a trained machine learning model would perform on\n",
    "new data which it has not seen, that is data it was not trained on. In other\n",
    "words, how well can a model generalize the patterns it learnt on the training\n",
    "set to suit real world examples, so that it can achieve similar or better\n",
    "performance. This is the crux of learning.\n",
    "\n",
    "A model should be able to actually learn useful representations from data that improves test time\n",
    "performance and not merely memorize features as memorization is not\n",
    "learning."
   ]
  },
  {
   "cell_type": "markdown",
   "id": "9a99ed6b-bb2c-4220-8761-543d4493627f",
   "metadata": {},
   "source": [
    "We say a model has overfit to a training set when it has failed to learn only\n",
    "useful representations in the data but has also adjusted itself to learn noise\n",
    "in order to get an artificially high training set accuracy.\n",
    "\n",
    "Underfitting means\n",
    "that the model has not used the information available to it but has only\n",
    "learnt a small subset of representations and has thrown away majority of\n",
    "useful information, thereby making it to make unfounded assumptions.\n",
    "\n",
    "The\n",
    "ideal situation is to find a model that neither underfitts nor overfitts but\n",
    "exhibits the right balance between optimization and generalization. This can\n",
    "be done by maintaining a third set of examples known as the validation set.\n",
    "The validation set is used to tune (improve) the performance of the model\n",
    "without overfitting the model to the training set. \n",
    "\n",
    "Other techniques for\n",
    "tackling overfitting includes applying regularization which punishes more\n",
    "complicated models and acquiring more training examples. Underfitting can\n",
    "be stymied by increasing the capacity of the learning algorithm so that it\n",
    "can take advantage of available features."
   ]
  },
  {
   "cell_type": "markdown",
   "id": "66c45271-3052-49d3-be60-3104c899ba66",
   "metadata": {},
   "source": [
    "The plots above show three simple line based classification models"
   ]
  },
  {
   "cell_type": "markdown",
   "id": "d8960317-2744-44ea-82a8-76f36321e508",
   "metadata": {},
   "source": [
    "The plots above show three simple line based classification models. The\n",
    "first plot separates classes by using a straight line. However, a straight line\n",
    "is an overly simplistic representation for the data distribution and as a result\n",
    "it misclassified many examples. \n",
    "\n",
    "The straight line model is clearly underfitting as it has failed to use majority of the information available to it\n",
    "to discover the inherent data distribution."
   ]
  },
  {
   "cell_type": "markdown",
   "id": "0ef6225f-d767-4262-8699-c5f5cbf0e995",
   "metadata": {},
   "source": [
    "The second plot shows an optimal case where the optimization objective\n",
    "has been balanced by generalization criterion. Even though the model\n",
    "misclassified some points in the training set, it was still able to capture a\n",
    "valid decision boundary between both classes. \n",
    "\n",
    "Such a classifier is likely to\n",
    "generalize well to examples which it was not trained on as it has learnt the\n",
    "discriminative features that drive prediction. The last plot illustrates a case\n",
    "of overfitting.\n",
    "\n",
    "The decision boundary is convoluted because the classifier is\n",
    "responding to noise by trying to correctly classify every data point in the\n",
    "training set.\n",
    "\n",
    "The accuracy of this classifier would be perfect on the training\n",
    "set but it would perform horribly on new examples because it optimized its\n",
    "performance only for the training set. The trick is to always choose the\n",
    "simplest model that achieves the greatest performance.\n"
   ]
  },
  {
   "cell_type": "markdown",
   "id": "d8dd7156-cda7-4f9c-80ef-9eca1e38c8d9",
   "metadata": {},
   "source": [
    "Correctness\n",
    "\n",
    "To evaluate a machine learning algorithm, we always specific measures of\n",
    "predictive performance. These metrics allow us to judge the performance of\n",
    "a model in an unbiased fashion.\n",
    "\n",
    "It should be noted that the evaluation\n",
    "metric chosen depends on the type of learning problem. Accuracy is a\n",
    "popular evaluation metric but it is not suitable for all learning problems.\n",
    "\n",
    "Other measures for evaluation include recall, precision, sensitivity,\n",
    "specificity, true positive rate, false positive rate etc. The evaluation used\n",
    "should be in line with the goals of the modelling problem."
   ]
  },
  {
   "cell_type": "markdown",
   "id": "f65e623a-f7a5-4fbb-ae04-a29a14acd0c8",
   "metadata": {},
   "source": [
    "To ensure fidelity of reported metrics, a rule of thumb is that models should\n",
    "never be trained on the entire dataset as any evaluation reported by metrics\n",
    "is likely skewed because the model’s performance when exposed to new\n",
    "data is unascertained. \n",
    "\n",
    "The dataset should be divided into train, validation\n",
    "and test splits. The model is trained on the training set, the validation set is\n",
    "reserved for hyperparameter tuning for best performing models and the test\n",
    "set is only used once at the conclusion of all experimentation."
   ]
  },
  {
   "cell_type": "markdown",
   "id": "18a42fc2-8f9c-4524-9809-d020881309f3",
   "metadata": {},
   "source": [
    "A confusion matrix is widely used as a simple visualization technique to\n",
    "access the performance of classifiers in a supervised learning task. It is a\n",
    "table where the rows represent the instances in the actual class (ground\n",
    "truth) while the columns represents predictions. \n",
    "\n",
    "The order may be reversed\n",
    "in some cases. It is called a confusion matrix because it makes it easy to see\n",
    "which classes the model is misclassifying for another, that is which classes\n",
    "confuse the model."
   ]
  },
  {
   "cell_type": "markdown",
   "id": "b7086b62-7a5c-489d-924d-f734c6edc41a",
   "metadata": {},
   "source": [
    "The examples which the model correctly classified are on the diagonal from\n",
    "the top left to bottom right. False negatives are positive classes which the\n",
    "classified wrongly predicted as negatives while false positives are negative\n",
    "instances which the classifier wrongly thought were positives.\n",
    "\n",
    "Several\n",
    "metrics like true positive rate, false positive rate, precision etc are derived\n",
    "from items in the confusion matrix.\n",
    "\n",
    "The Bias-Variance Trade-off\n",
    "\n",
    "The bias of a model is defined as the assumptions made by the model to\n",
    "simplify the learning task. A model with high bias makes assumptions\n",
    "which are not correlated by the data.\n",
    "\n",
    "This lead to errors because predictions\n",
    "are usually some way off from actuals. Variance on the other hand is how\n",
    "susceptible a model is to noise in the training data. \n",
    "\n",
    "How widely does the\n",
    "performance on the model vary based on the data it is evaluated on. A good\n",
    "machine learning algorithm should strive to achieve low bias and low\n",
    "variance. Bias and variance are related to overfitting and underfitting earlier\n",
    "encountered. \n",
    "\n",
    "A model with high bias is underfitting the training databecause it has made simplistic assumptions instead of learning from\n",
    "information available. \n",
    "\n",
    "Similarly, a model with high variance is overfitting,\n",
    "because it has modelled noise and as a result, its performance would vary\n",
    "widely across the training set, validation set and test set.\n",
    "Let us look use a dart analogy to further explain these concepts."
   ]
  },
  {
   "cell_type": "markdown",
   "id": "3905ef85-f9e2-448e-9bc7-8f851f2253af",
   "metadata": {},
   "source": [
    "The top left image represents a model that has low bias and low variance."
   ]
  },
  {
   "cell_type": "markdown",
   "id": "95e6ecce-ab43-4b48-94fc-7412ac1295fd",
   "metadata": {},
   "source": [
    "The top left image represents a model that has low bias and low variance.\n",
    "This is the ideal model as it has learnt to hit the target (produce correct\n",
    "classification) and usually hits the target most of the time (does not vary\n",
    "with each throw).\n",
    "\n",
    "The image at the top right shows a model that exhibits\n",
    "high variance and low bias. Even if it does not make a lot of assumptions,\n",
    "its predictions are spread all over the board which means its performance\n",
    "varies widely (high variance). \n",
    "\n",
    "The image on the bottom left depicts a model\n",
    "with high bias and low variance. The shots are not all over the board but in\n",
    "a specific location.\n",
    "\n",
    "This location is however far from the target meaning the\n",
    "model is biased because of simplistic assumptions. Finally, the image on the\n",
    "bottom right shows a model with high bias and high variance. The shots on\n",
    "the board vary widely and are far away from the target. This is the worst\n",
    "kind of model as it hasn’t learnt any useful representation."
   ]
  },
  {
   "cell_type": "markdown",
   "id": "8ffe35c0-c881-4923-bc2b-475b3c7f5d72",
   "metadata": {},
   "source": [
    "#### Feature Extraction and Selection"
   ]
  },
  {
   "cell_type": "markdown",
   "id": "b611c3c0-ef2a-4c98-a3ec-c5fcf08cd307",
   "metadata": {},
   "source": [
    "\n",
    "Feature extraction involves performing transformation on input features that\n",
    "produce other features that are more analyzable and informative. Feature\n",
    "extraction may occur by combining original features to create new features\n",
    "which are better suited for the modelling problem. \n",
    "\n",
    "This is similar to feature\n",
    "engineering where we create new features to fed into a model. An example\n",
    "of feature extraction is Principal Component Analysis (PCA).\n",
    "Feature selection is choosing a subset of features from the original input\n",
    "features.\n",
    "\n",
    "The features selected are those that show the most correlation with\n",
    "the target variable, that is those features that drive the predictive capability\n",
    "of the model. \n",
    "\n",
    "Both feature extraction and feature selection leads to\n",
    "dimensionality reduction. The main difference between them is that feature\n",
    "extraction is a transformation that creates new features whereas feature\n",
    "selection chooses only a subset of available features. Since feature selection\n",
    "removes certain features, it is always advisable to first do feature extraction on a dataset, then select the most important predictors via feature selection."
   ]
  },
  {
   "cell_type": "markdown",
   "id": "a768b8d8-ac4e-450a-9a16-a481b1d4cc81",
   "metadata": {},
   "source": [
    "#### Why Machine Learning is Popular"
   ]
  },
  {
   "cell_type": "markdown",
   "id": "32677ef0-f4dc-478a-aaf6-c3aeb9f2b9a3",
   "metadata": {},
   "source": [
    "\n",
    "The popularity of machine learning in the artificial intelligence community\n",
    "and society in general is mainly because machine learning techniques have\n",
    "proven to be highly successful in various niches providing business value\n",
    "for a slew of operations from fraud detection to speech recognition to\n",
    "recommender systems.\n",
    "\n",
    "It is embedded in products we use every day. When\n",
    "you buy a product from Amazon and you are given a list of suggestions of\n",
    "other products that go with it, that’s machine learning in action.\n",
    "\n",
    "When you\n",
    "open your mailbox and emails are automatically classified into folders\n",
    "based on their similarity, those are machine learning models doing the work\n",
    "behind the scenes.\n",
    "\n",
    "Even when you use your credit card online and your\n",
    "transaction is successful, a machine learning model approved your\n",
    "transaction as being normal and not fraudulent."
   ]
  },
  {
   "cell_type": "markdown",
   "id": "aab79aee-6f87-4a32-9300-ef65c43eeedb",
   "metadata": {},
   "source": [
    "In light of all these, companies and organizations have poured in more\n",
    "money into developing better performing models through research and\n",
    "collaboration between industry and academia.\n",
    "\n",
    "It wasn’t always the case that machine learning was the darling of the\n",
    "computer science community, however in recent years three factors have\n",
    "conspired to give it an exalted place.\n",
    "\n",
    "● With the dawn of the internet, more data was being collected and\n",
    "this lead to the age of big data.\n",
    "\n",
    "● Computational resources became faster and cheaper with the\n",
    "arrival of Graphics Processing Units (GPUs), which were\n",
    "originally developed by the gaming industry to render graphics\n",
    "but are well suited for parallel computation.\n",
    "\n",
    "● Better algorithms were developed which lead to better accuracy of\n",
    "models."
   ]
  }
 ],
 "metadata": {
  "kernelspec": {
   "display_name": "Python 3 (ipykernel)",
   "language": "python",
   "name": "python3"
  },
  "language_info": {
   "codemirror_mode": {
    "name": "ipython",
    "version": 3
   },
   "file_extension": ".py",
   "mimetype": "text/x-python",
   "name": "python",
   "nbconvert_exporter": "python",
   "pygments_lexer": "ipython3",
   "version": "3.9.7"
  }
 },
 "nbformat": 4,
 "nbformat_minor": 5
}
