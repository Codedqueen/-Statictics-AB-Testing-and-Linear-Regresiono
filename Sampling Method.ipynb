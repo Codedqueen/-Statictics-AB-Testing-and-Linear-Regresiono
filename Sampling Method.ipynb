{
 "cells": [
  {
   "cell_type": "markdown",
   "id": "cfdbba33-b2d7-42ff-8bf4-0c3a6cf5c46c",
   "metadata": {},
   "source": [
    "### Week 8 day 2   Sampling Method"
   ]
  },
  {
   "cell_type": "markdown",
   "id": "7b05ddd2-4820-4610-aa73-ae054ca968e0",
   "metadata": {},
   "source": [
    "#### Eight Sampling Techniques For Statistical and Data Science Modelling"
   ]
  },
  {
   "cell_type": "markdown",
   "id": "8c6f6107-f821-4597-808a-75991d9e0ea5",
   "metadata": {},
   "source": [
    "Sampling Techinues we can use in building predictive models"
   ]
  },
  {
   "cell_type": "code",
   "execution_count": null,
   "id": "a6497cb3-b82a-48e3-8714-75ab813437b5",
   "metadata": {},
   "outputs": [],
   "source": [
    "Sampling vs population - Inferential statistics"
   ]
  },
  {
   "cell_type": "markdown",
   "id": "6c03cd72-a47f-4576-a9eb-d450e5d40470",
   "metadata": {},
   "source": [
    "Why do we need sampling?\n",
    "\n",
    "In inferential Statistics we deal with sample and not with the entire population most of the time because of the following reasons.\n",
    "\n",
    "One major reason is that the population is too large to handle, hence we go with the sample data in making predictions or inferences for the population."
   ]
  },
  {
   "cell_type": "markdown",
   "id": "fc3af7e4-791d-4cc7-85e3-3ebc9d343872",
   "metadata": {},
   "source": [
    "Sample and Population"
   ]
  },
  {
   "cell_type": "markdown",
   "id": "13183989-bb59-4dd6-b6fa-0b12cc9e2d33",
   "metadata": {},
   "source": [
    "A population is a collection of an observation about which we would want to make an inference."
   ]
  },
  {
   "cell_type": "markdown",
   "id": "14f36633-02bb-487f-92f1-e35cdf83124b",
   "metadata": {},
   "source": [
    "Sampling unit are non overlapping collection of elements from the population.\n",
    "\n",
    "It is a subset of population that have non overlapping elements."
   ]
  },
  {
   "cell_type": "markdown",
   "id": "ff5b791f-e624-4667-85e1-1e5b225dc027",
   "metadata": {},
   "source": [
    "Sampling Error"
   ]
  },
  {
   "cell_type": "markdown",
   "id": "f2a5ed0e-bfe5-4d5b-bdd9-f8c316685989",
   "metadata": {},
   "source": [
    "The deviation betweeen the estimate of an ideal sample and the true population.\n",
    "\n",
    "Whenever we are building a predictive model,\n",
    "The objective would be to minimize sample error so that the model will be very good in deriving inferences.\n",
    "\n",
    "Min(sample error)"
   ]
  },
  {
   "cell_type": "markdown",
   "id": "badef947-5b7f-4b6e-99c8-428c375f2a3f",
   "metadata": {},
   "source": [
    "Sampling Types"
   ]
  },
  {
   "cell_type": "markdown",
   "id": "1d534698-32f7-4b9e-be97-36f65e89ae12",
   "metadata": {},
   "source": [
    "Probability Samples\n",
    "In this type of sample, each member of the sample have a non zero probability of getting selected in the sample.\n",
    "\n",
    "This means you choose an element of the population at random\n",
    "\n",
    "Example : Random sampling, Systematic sampling and stratified sampling\n",
    "\n",
    "Non probability samples\n",
    "\n",
    "In this case, Members are selected from the population in non random way.\n",
    "This means it is somehow biased because instead of selecting randomly ,you rather use your judgement to take your decision.\n",
    "\n",
    "Examples are Convenience sampling , Judgement sampling,Quota Sampling and Snowball sampling."
   ]
  },
  {
   "cell_type": "markdown",
   "id": "dd52c4ae-4917-4505-80d0-26c90f321eb7",
   "metadata": {},
   "source": [
    "Probablity Sampling Techniques"
   ]
  },
  {
   "cell_type": "markdown",
   "id": "b13f87d0-ff30-4a54-8784-c1d1767891b6",
   "metadata": {},
   "source": [
    "Random Sampling"
   ]
  },
  {
   "cell_type": "code",
   "execution_count": null,
   "id": "aa54dd56-b06d-4912-9ff1-bc85a16bc82a",
   "metadata": {},
   "outputs": [],
   "source": [
    "Each member has equal probability of getting selected."
   ]
  },
  {
   "cell_type": "raw",
   "id": "80587bf7-7413-432a-81ed-1d73c27fb835",
   "metadata": {},
   "source": [
    "For example if we have this as a population , lets say popuplation A\n",
    "it means in population A we have 10 elements, we can say this elements are customers we need to find out 4 sample customers from this population and we call that as B.\n",
    "\n",
    "Here if we select customer 1 is 1/10 because it is equally likely.\n",
    "Note ,we have 10 elements in this population and each element is equally likely to be selecte in sample B\n",
    "\n",
    "Why we call it random sampling is because we do not select by judement rather we do a random experiment to select element from this population.\n",
    "\n",
    "The probability that each one of these elements selected to be in sample will actually  vary, though we assumed here that it will be constant for all the elements but it will actually vary.\n",
    "\n",
    "1,2,3,4,5,6,7,8,9,10\n",
    "\n",
    "P(1) = 1 /10\n",
    "P(2) = 1 /10\n",
    "     .\n",
    "     .\n",
    "     .\n",
    "     .\n",
    "P(10) = 1 /10      "
   ]
  },
  {
   "cell_type": "markdown",
   "id": "6ebfff93-0488-4b04-b9df-2fc17c4f800c",
   "metadata": {},
   "source": [
    "We also have the Simple random sampling, which is the most popular technique used in building predictive models"
   ]
  },
  {
   "cell_type": "markdown",
   "id": "a4ef8585-d56e-45d1-a85c-0cf1281d4920",
   "metadata": {},
   "source": [
    "Systematic Sample"
   ]
  },
  {
   "cell_type": "markdown",
   "id": "46876c3e-62a2-49ef-9d60-c1f1f5cb5d9e",
   "metadata": {},
   "source": [
    "Every Nth record is selected in the sample\n",
    "\n",
    "N should be random and fixed interval should be there\n",
    "\n",
    "For example , we have a population of 12 customers and they are marked by 1 -12 and we want customers that their numbers are divisible by 4\n",
    "\n",
    "hence , we will select 4 , 8, 12 and this becomes our sample population.\n",
    "\n",
    "One thing you should remember here is that your N should be random .\n",
    "you can say divisible by 3, 2 or you can use some other completely different rule.\n",
    "\n",
    "The rule should be uniform , which means that there should be fixed imntervals between two consecutive element selected from the population in the sample.\n",
    "\n",
    "This is useful in cases where generating random numbers is difficult or expensive.\n",
    "\n",
    "This is because generating random numbers is computer study intensive.\n",
    "Incase you dont have access to high computative power and it is a large sample you can go on with systematic sampling."
   ]
  },
  {
   "cell_type": "raw",
   "id": "12193eb4-7889-4224-bd6e-2de888461f81",
   "metadata": {},
   "source": [
    "Population of customer      Sample Population\n",
    "1 2 3 4\n",
    "5 6 7 8        -          4 8 12\n",
    "9 10 11 12"
   ]
  },
  {
   "cell_type": "markdown",
   "id": "2c092d76-49d3-41f0-bfcf-3ff310369962",
   "metadata": {},
   "source": [
    "Stratified Sampling"
   ]
  },
  {
   "cell_type": "markdown",
   "id": "ff0c8f49-04f7-477d-a270-c89a41d96cd6",
   "metadata": {},
   "source": [
    "In Stratified sampling, two steps need to be followed:\n",
    "\n",
    "1.It identifies suitable stratum in the data.\n",
    "\n",
    "You can have multiple data, eg. data for male or female, data for demograph like califonia, washington,San franscisco,los Angeles etc\n",
    "\n",
    "You can have different straight out data in the population\n",
    "\n",
    "2.Random sampling is then used in each stratum within the population\n",
    "For example, we have elements for male and female in the 2 different stratum and we want random element to be selected from male as well as female"
   ]
  },
  {
   "cell_type": "raw",
   "id": "9f47c703-43c9-4f76-a5d9-b4b826230e46",
   "metadata": {},
   "source": [
    "Male  1 2 3 4 5          p(1) =  p(2) .... p(5) = 1/5\n",
    "\n",
    "Female  6 7 8 9 10        p(6)  = p(7) .... p(11) = 1/6"
   ]
  },
  {
   "cell_type": "markdown",
   "id": "67aa5bf4-edf5-40fa-a84f-17d793cc1577",
   "metadata": {},
   "source": [
    "In the first instance, we divide the population into two categories male and female\n",
    "\n",
    "In the swcond step ,we selected sample from each of this strater and each element we selected from each of them is equal likely.\n",
    "\n",
    "In the male strater , we have 5 elements so is 1/5 \n",
    "\n",
    "in the female strater we have 6 element so is 1/6"
   ]
  },
  {
   "cell_type": "markdown",
   "id": "96bc2ece-d487-4bf9-aee6-069d23328579",
   "metadata": {},
   "source": [
    "Straified sampling is very popular in predictive modelling, because in predictive modelling you want each of your stratum to have equal representation in your study .\n",
    "\n",
    "This is very important because sometimes you want data from each gender, atimes it may be from each city that you are doing the study and atimes you want equal representation from each category of data and in such cases Stratified Sampling is used an d it is very popular in predictive modelling or any data science modelling you are working on."
   ]
  },
  {
   "cell_type": "markdown",
   "id": "5b1c3308-84c1-4f04-a6c4-65a80174c8bd",
   "metadata": {},
   "source": [
    "Cluster Sampling"
   ]
  },
  {
   "cell_type": "markdown",
   "id": "beca0308-515e-47c8-a994-88c4d4e40a3f",
   "metadata": {},
   "source": [
    "This is done in two stage processess \n",
    "\n",
    "\n",
    "1. Select the clusters from a population by random\n",
    "\n",
    "2. Select elements from each cluster by random\n",
    "\n",
    "Cluster sampling is very popular in Market research."
   ]
  },
  {
   "cell_type": "markdown",
   "id": "7f199dba-da0c-43e3-a3e5-bd500598d9ef",
   "metadata": {},
   "source": [
    "In the population below we have 5 different categories or clusters.\n",
    "Represented with different figures , cluster 1 to cluster 5/\n",
    "\n",
    "We have 5 different clusters in our population and we will just select 2 clusters from these 5 clusters randomly.\n",
    "Hence, we will us the random sampling to select two clusters out of these clusters.\n",
    "\n",
    "hence, we selected cluster 1 and cluster 3 step 1\n",
    "\n",
    "then . we select elements from each one of these clusters, so from the cluster spreadwe selected the following ,\n",
    "1, 4, 5, 11 12.\n",
    "\n",
    "and each one of these clusters is equally likely to be chosen."
   ]
  },
  {
   "cell_type": "markdown",
   "id": "248f4c11-c71d-4ffc-94bd-2d181040d407",
   "metadata": {},
   "source": [
    " Population\n",
    " \n",
    " cluster 1 : 1 2 3 4 5\n",
    " cluster 2 :  6 7 8 9\n",
    " Cluster 3 : 10 11 12\n",
    " cluster 4 : 13 14 15 16 17\n",
    " Cluster 5:  18 19 20 21   \n",
    " \n",
    " \n",
    " Step 1  select 2 clusters randomly\n",
    " \n",
    " cluster 1: 1 2 3 4 5\n",
    " cluster 3 : 10 11 12\n",
    " \n",
    " Step 2 \n",
    " select random numbers from step 1\n",
    " \n",
    " 1 4 5 11 12"
   ]
  },
  {
   "cell_type": "markdown",
   "id": "0095738a-8f59-4709-a08e-3cb23e6b90fa",
   "metadata": {},
   "source": [
    "Non probability Samples"
   ]
  },
  {
   "cell_type": "code",
   "execution_count": null,
   "id": "793f4403-c363-4c59-aeae-b73d5ade3e75",
   "metadata": {},
   "outputs": [],
   "source": [
    "Convenience sampling"
   ]
  },
  {
   "cell_type": "markdown",
   "id": "0d7fe020-4844-4197-bbe4-b9f35b811230",
   "metadata": {},
   "source": [
    "In this type of sampling we use element from the population which are very convenient.\n",
    "\n",
    "A sample is selected because it is convenient to select from the population.\n",
    "Is important to note that not all element are convenient to select.\n",
    "It is useful in survey data analysis.\n",
    "\n",
    "Moreso, you can not actually reach out to every observation, element of your population it is difficult and expensive,hence , it is convenient to select a subset or sample of the population.\n",
    "\n",
    "Used in initial studies that will involve less cost\n",
    "\n",
    "It is used in when you want to do some study on the population which can be considered as an initial study, it may not be the final study but you just want to do a quick study which will be considered as an initial study and involves less cost\n",
    "Used in initial studies that will involve less cost\n",
    "\n",
    "Example: Facebook polls  and questions people ask.\n",
    "An example is facebook like status someone has done for Donald Trump and Hillary clinton, we observed tha Donald Trump has 10.1% likes while Clinton have 5.3% likes and this is done within a group, your friend,s circle in a facebook group or whatsapp group etc\n",
    "Or someone doing a survey on twitter."
   ]
  },
  {
   "cell_type": "markdown",
   "id": "330c91ad-28f7-4480-872a-ee6dccdac1b0",
   "metadata": {},
   "source": [
    "Judgement Sampling"
   ]
  },
  {
   "cell_type": "markdown",
   "id": "65e6c75b-3cbe-4b26-9560-f3eb884c3d0f",
   "metadata": {},
   "source": [
    "Sampling is selected through Judgements and there is no random experiment\n",
    "\n",
    "\n",
    "The researcher is sure of the sample being representative of the population - Expert Opinion.\n",
    "\n",
    "This is very popular in cases where you do not have access to the full population and the population is very large, thus you just have to go ahead with what the expert says and come up with a sample for your population"
   ]
  },
  {
   "cell_type": "markdown",
   "id": "3270e101-f630-4b47-a562-088003e2d4b9",
   "metadata": {},
   "source": [
    "Quota Sampling"
   ]
  },
  {
   "cell_type": "markdown",
   "id": "741c1674-45f9-4e74-af3f-c48ab9aeb4b6",
   "metadata": {},
   "source": [
    "Two steps are involved :\n",
    "\n",
    "1. Identify the stratum and their proportion\n",
    "You need to know the category of sratum you need to select\n",
    "secondly what is the proportion of data you need to select.\n",
    "\n",
    "2.Then use Convenience or Judgement Sampling\n",
    "\n",
    "Lets look at the example below, A marketing research need to be done in about four different cities and listed below are the cities selected"
   ]
  },
  {
   "cell_type": "markdown",
   "id": "e4b82a60-f814-4b44-a4dc-bd49a31b117a",
   "metadata": {},
   "source": [
    "first thing to do is to identify the four cities\n",
    "identify the proportion of the sample to be given to each selected city.\n",
    "\n",
    "Then select the element from each one of this category purely on judgement or convenience.\n",
    "\n",
    "you can just work up to someone and select him as part of your sample.\n",
    "It is very important in market Research especially in areas you know you are doing Surveys.\n",
    "\n",
    "This is very useful in social science and management results for scholars."
   ]
  },
  {
   "cell_type": "raw",
   "id": "5f26f18c-41b6-4060-bbf4-1a76d3a66530",
   "metadata": {},
   "source": [
    "MUNBAI     mumbai   - 35%\n",
    "DELHI      delhi    - 20%\n",
    "KOLKATA    kolkata  - 20%\n",
    "CHENNAI    chennai  - 25%"
   ]
  },
  {
   "cell_type": "markdown",
   "id": "e5983cb8-da66-4b82-a5ab-0664fcc31e9d",
   "metadata": {},
   "source": [
    "Snowball Sampling"
   ]
  },
  {
   "cell_type": "markdown",
   "id": "45edb0be-f09e-4102-871b-1420c2ab0fcc",
   "metadata": {},
   "source": [
    "Used when the elements are hard to locate. ie when is difficult to find out which element to pick.\n",
    "In such cases, you do not know your population very well\n",
    "\n",
    "Sample is rare to find\n",
    "\n",
    "Hence , you start with Initial elements selected in the sample and this will help in finding out elements with similar traits or those to be selected in future."
   ]
  },
  {
   "cell_type": "markdown",
   "id": "ffd16260-0887-4874-bedb-e8c77026c489",
   "metadata": {},
   "source": [
    "For instance, if in some tribal community ,you want to find out people with some particular type of diesase and you do not have such data in the tribal community because getting accsee to data in tribal community is very dificult.\n",
    "\n",
    "Lets go ahead with one particular person in a village and ask him if he has a particular disease, and if he says yes you select him and you find out from him if he know another person in the village that have same disease and you will select the second person and you can follow this same process "
   ]
  },
  {
   "cell_type": "markdown",
   "id": "e35b3724-e669-413c-9f8b-934ca08f3d30",
   "metadata": {
    "tags": []
   },
   "source": [
    "### Week 8 Day 2   Hypothesis Testing "
   ]
  },
  {
   "cell_type": "markdown",
   "id": "52caba33-b11b-4f48-af6a-1916df7950a3",
   "metadata": {},
   "source": [
    "#### Null vs Alternative"
   ]
  },
  {
   "cell_type": "markdown",
   "id": "18bafe18-0269-4a39-aedc-410fdfd70f94",
   "metadata": {},
   "source": [
    "Confidence interval provides us with an estimation on where the parameters are located'\n",
    "\n",
    "in X% of the cases, the true parameter will fall in the confidence interval.\n",
    "\n",
    "However, when you are making a decision you need a YES or No answer and the correct approach in this case is to use a Test.\n",
    "\n",
    "\n",
    "We will be learning one of the fundamental task in statistics\n",
    "\"HYPOTHESIS TESTING\""
   ]
  },
  {
   "cell_type": "markdown",
   "id": "73a6a62b-4ccf-420c-81d6-0ed451807088",
   "metadata": {},
   "source": [
    "#### Steps in Data- Driven Decision Making."
   ]
  },
  {
   "cell_type": "markdown",
   "id": "7a4efa9e-5096-4f1b-8ee5-993bb5a0fc2a",
   "metadata": {},
   "source": [
    "There are four Steps in Data- Driven Decision making."
   ]
  },
  {
   "cell_type": "markdown",
   "id": "eed1ab58-b359-4dc3-9c20-6e4adbb031f8",
   "metadata": {},
   "source": [
    "1. You must formulate hypothesis\n",
    "2. You need to find the right test for your hypothesis.\n",
    "3. Execute the test\n",
    "4. Make a decision"
   ]
  },
  {
   "cell_type": "markdown",
   "id": "6d563165-9b9e-4bd3-adc1-feb6a130d43e",
   "metadata": {},
   "source": [
    "A hypothesis is an idea that an be tested\n",
    "This is a layman's definition though but it conveys the message very well\n",
    "\n",
    "For example if i say that apples in Newyork are expensive, it is only an idea or statement, it is not testible until i have something to compare it with.\n",
    "\n",
    "for instance,if i define expensive as any price higher than $1.75 then i have a hypothesis .\n",
    "\n",
    "What of something that cannot be a hypothesis?\n",
    "An example is whether the USA do better or worse at the Clinton administration compared to current administration.\n",
    "Statistically speaking , this is an idea but there is no data to test it, hence itcannot be a hypthesis of a statistical test."
   ]
  },
  {
   "cell_type": "markdown",
   "id": "803b6a4f-0aff-4586-aab7-d0b36767a9f2",
   "metadata": {},
   "source": [
    "But we may compare past presidents that have already been completed.\n",
    "The Obama admistration and the Bush administration as we have data on both."
   ]
  },
  {
   "cell_type": "markdown",
   "id": "7fe88b56-0466-4d5b-9c9c-791f28761ac3",
   "metadata": {},
   "source": [
    "Glassdor is a website where current and former employee rate their employees and their C- level management.\n",
    "All data are self reported.\n",
    "\n",
    "According to Glassdor, mean data scientist salary in USA is $113,000 \n",
    "so we want to test if there estimate is correct"
   ]
  },
  {
   "cell_type": "markdown",
   "id": "2a6ed315-33bd-4684-af0a-ccc649a84670",
   "metadata": {},
   "source": [
    "There are two hypothesis that are made\n",
    "\n",
    "Null hypothesis denoted by H0\n",
    "\n",
    "Alternative hypothesis denoted by H1 or HA"
   ]
  },
  {
   "cell_type": "markdown",
   "id": "97022c39-5b9b-4dfb-85a8-3ddcb1eebe1d",
   "metadata": {},
   "source": [
    "The Null hypothsis is the one to be tested and the Alternative is evrything else"
   ]
  },
  {
   "cell_type": "markdown",
   "id": "cdc302bf-b9b5-4467-9475-98cce247c674",
   "metadata": {},
   "source": [
    "In our example , the Null Hypothesis wil be mean data scientist equals $113,000.\n",
    "H0 : μ0 = $113,000"
   ]
  },
  {
   "cell_type": "markdown",
   "id": "a531f169-85f0-4157-92b8-8964ff91c5b5",
   "metadata": {},
   "source": [
    "While, the Alternative, the mean data scientist salary is not equal to $113,000\n",
    "\n",
    "H1 : μ0 ≠ $113,000"
   ]
  },
  {
   "cell_type": "markdown",
   "id": "855ceda2-9a1e-4f7c-b3bd-b6567924bdf9",
   "metadata": {},
   "source": [
    "You will want to check if the $113,000 is close enough to the true mean predicted by our sample, incase it accept the Null hypothesis otherwise reject the Null hypothesis."
   ]
  },
  {
   "cell_type": "markdown",
   "id": "4b4dd144-509b-4967-a98d-0f160caf8743",
   "metadata": {},
   "source": [
    "Accept if: X̅ is close enough to the true mean\n",
    "\n",
    "Reject if: X̅  is too far from the true mean."
   ]
  },
  {
   "cell_type": "markdown",
   "id": "0c88b319-bf78-48e3-a9f7-5de2a7260b23",
   "metadata": {},
   "source": [
    "The concept of the Null hypothesis is similar to innocent until proven guilty.\n",
    "\n",
    "We assume that the mean salary is close to $113,000 and we try to prove otherwise.\n",
    "\n",
    "H0 : μ0 = $113,000\n",
    "\n",
    "The above is an example of a two-sided or two tail test.\n",
    "\n",
    "You can also form one-sided or one tail test."
   ]
  },
  {
   "cell_type": "markdown",
   "id": "3a60b23a-7aad-4047-b8a1-c6818a572d52",
   "metadata": {},
   "source": [
    "Say your friend Paul told you that he thinks data scientists make more than $125,000 per year."
   ]
  },
  {
   "cell_type": "markdown",
   "id": "388053ce-bcf8-4d2a-b570-520534e3ef67",
   "metadata": {},
   "source": [
    "You doubted him but decided to test so as to find out who is right"
   ]
  },
  {
   "cell_type": "markdown",
   "id": "e10e61dd-fe0e-4225-b746-6916219d6737",
   "metadata": {},
   "source": [
    "The Null hypothesis will be,the mean data scientist salary is more or equal to $125,000.\n",
    "\n",
    "H0 : μ0 ≥ $125,000 "
   ]
  },
  {
   "cell_type": "markdown",
   "id": "99bd5211-d141-4151-b269-5e1e21c8a7cc",
   "metadata": {},
   "source": [
    "The Alternative will cover everything else.\n",
    "The mean data scientist salary is less than $125,000\n",
    "H1 : μ0 < $ 125,000"
   ]
  },
  {
   "cell_type": "markdown",
   "id": "8bb1e469-6956-44d6-a317-bdcfe965ecc4",
   "metadata": {},
   "source": [
    "It is important to know that outcomes of test refers to the population parameter rather than the sample statistic so the result that we get is the population."
   ]
  },
  {
   "cell_type": "markdown",
   "id": "1087abed-3f50-41ac-8ca3-084e648d0f24",
   "metadata": {},
   "source": [
    "Another crucial consideration is that generally ,the researcher is trying to reject the Null hypothesis"
   ]
  },
  {
   "cell_type": "markdown",
   "id": "b6273277-3943-4ef1-a7a0-4d94e26c4860",
   "metadata": {},
   "source": [
    "Think about the Null hypothesis as the status que and the alternative as the change or innovation that challenges that status quo."
   ]
  },
  {
   "cell_type": "markdown",
   "id": "105d7f5a-30c9-4b9c-84d6-372cf473a615",
   "metadata": {},
   "source": [
    "In our example, Paul was representing the status quo (H0)that we are challenging.(H1)"
   ]
  },
  {
   "cell_type": "markdown",
   "id": "bf73ff2e-7411-4e9d-b1a8-8b400a992560",
   "metadata": {},
   "source": [
    "For emphasis,\n",
    "In statistics , the Null hypothesis is the statement we are trying to reject.\n",
    "\n",
    "Therefore ,the Null hypothesis is the present state of affairs while the Alternative is our personal opinion."
   ]
  },
  {
   "cell_type": "markdown",
   "id": "df40a6fa-83bf-41f7-bc98-71cbb0579358",
   "metadata": {},
   "source": [
    "It is counter intuitive in the beginning but later on when we start doing the exercise ,we will understand he mechanism"
   ]
  },
  {
   "cell_type": "markdown",
   "id": "a88a9d00-1239-4b5e-bbf1-d0f73717d865",
   "metadata": {},
   "source": [
    "### Required Reading on Null and Alternative Hypothesis"
   ]
  },
  {
   "cell_type": "markdown",
   "id": "9aa96bc5-f26b-48ff-92ae-daced1c2f762",
   "metadata": {},
   "source": [
    "Following a discussion in the Q&A, we have decided to include further clarifications regarding the previous lecture (Null vs Alternative).\n",
    "First, we'd like to note that, conventionally, we always include the equality sign in the null hypothesis.\n",
    "\n",
    "\n",
    "Student question:\n",
    "\"As per the above logic, in the video tutorial of the salary of the data scientist, the null hypothesis should have been: Data Scientists do not make an average of $113,000. Also in the second example, the null Hypothesis should have been: The average salary should be less than or equal to $125,000. Please explain further. Also please share some further documentation/reference material.\" \n",
    "Now note that the statement above is NOT true. This confusion motivated us to clarify further.\n",
    "\n",
    "\n",
    "Instructor's answer (with some adjustments as 2-3 answers were combined):\n",
    "I see why you would ask this question, as I asked the same one right after I was introduced to hypothesis testing. In statistics, the null hypothesis is the statement we are trying to reject. Think of it as the 'status-quo'. The alternative, therefore, is the change or innovation.\n",
    "\n",
    "\n",
    "Example 1: So, for the data scientist salary example, the null would be: the mean data scientist salary is $113,000. Then we will try to reject the null with a statistical test. So, usually, your personal opinion (e.g. data scientists don't earn exactly that much) is the alternative hypothesis."
   ]
  },
  {
   "cell_type": "markdown",
   "id": "0f9cd59e-cf99-4592-bf3d-a69b9f267e31",
   "metadata": {},
   "source": [
    "Example 2: Our friend Paul told us that the mean salary is >=$125,000 (status-quo, null). Our opinion is that he may be wrong, so we are testing that. Therefore, the alternative is: the mean data scientist salary is lower than $125,000.\n",
    "\n",
    "\n",
    "It surely is counter-intuitive in the beginning, but later on, when you start doing the exercises, you will understand the mechanics.\n",
    "\n",
    "\n",
    "We hope that clears some doubts you may have had. Please complete the quiz after this lecture, to reinforce what you've learned :)"
   ]
  },
  {
   "cell_type": "markdown",
   "id": "b76d3ab1-533a-44eb-94e5-7543944bd06d",
   "metadata": {},
   "source": [
    "### Rejection region and significance level"
   ]
  },
  {
   "cell_type": "markdown",
   "id": "0e57c41c-5949-4c0c-8bfb-e66381dc0758",
   "metadata": {},
   "source": [
    "we will understand the reason why hypothesis testing work by the end of this lesson.\n",
    "\n",
    "Significance level:\n",
    "Normally we need to reject the Null hypothesis if it is false however as with any test, there is a small chance that we may get it wrong and reject the null hypothesis that is true."
   ]
  },
  {
   "cell_type": "markdown",
   "id": "7b81c732-06bf-4009-b1ca-7ee53c16ddee",
   "metadata": {},
   "source": [
    "The significance level is denoted by alpha (The significance level is denoted by alpha (α) and it is the probability of rejecting the null hypothesis if it is true.( so the probability of making this error)\n",
    "\n",
    "Typical values for alpha are:0.01, 0.05. 0.1"
   ]
  },
  {
   "cell_type": "markdown",
   "id": "afe5dea8-9475-4a32-8790-7ad63ffb7bd4",
   "metadata": {},
   "source": [
    "it is a value you select based on the certainty you need.\n",
    "\n",
    "In most cse the choice of alpha is determined by the contest  you are operating in,but 0.05 is the most commonly used value ."
   ]
  },
  {
   "cell_type": "markdown",
   "id": "0231b9d1-54ef-4019-8d71-2db13db361a5",
   "metadata": {},
   "source": [
    "Example, you need to test if a machine is working properly. \n",
    "You would expectthe task to make little or no mistakes as you want to be very precise, you need to take low significance level such as 0.01"
   ]
  },
  {
   "cell_type": "markdown",
   "id": "80b5f768-e9f7-46f0-9f5f-ba7f6bed758e",
   "metadata": {},
   "source": [
    "The famous coca cola bottle is 12 ounces, if the machine pour 12.1 ounces some of the liquid will pour and the label will be spoilt.\n",
    "\n",
    "So in such a situation we need to be as accurate as possible\n",
    "However if we are inspecting human behavior or companies behaviorwe should expect more random or certain behaviour and hence a higher degree of error."
   ]
  },
  {
   "cell_type": "markdown",
   "id": "05d10740-4020-4f18-96be-b404f3169781",
   "metadata": {},
   "source": [
    "For instance, if we want to predict how much coca-cola consumers drink on average, the difference between 12 ounces and 12.1 ounces will not be that crucial.\n",
    "So we can choose a higher significant level like 0,05 or 0.1."
   ]
  },
  {
   "cell_type": "code",
   "execution_count": null,
   "id": "07cf4078-434c-4c5d-88f3-17fdb67aee9a",
   "metadata": {},
   "outputs": [],
   "source": [
    "Mechanics of hypothesis Testing"
   ]
  },
  {
   "cell_type": "markdown",
   "id": "ca2b42d6-3838-4177-8602-d11efbe0c986",
   "metadata": {},
   "source": [
    "Imagine you are consulting a university and want to carry out an analysis on how students are performing on average.\n",
    "\n",
    "The university dean believes that on average students have a GPA of 70%\n",
    "\n",
    "Population mean grade is 70%\n",
    "Being the data -driven data researcher that you are, you cant simply agree with his opinion so you start testing."
   ]
  },
  {
   "cell_type": "code",
   "execution_count": null,
   "id": "67d4e97a-8ffd-4171-b131-5ba889ae11c7",
   "metadata": {},
   "outputs": [],
   "source": [
    "H0 : the population mean grade is 70%\n",
    "\n",
    "This is a hypotesized value and we denote it with mui zero\n",
    "\n",
    "H0 : μ0 = 70%"
   ]
  },
  {
   "cell_type": "markdown",
   "id": "dcfb7f34-37e8-41f0-963f-9052386ddd9e",
   "metadata": {},
   "source": [
    "The alternative hypothesis is population mean grade is not 70% so we  say miu zero differs from 70%\n",
    "H1 : μ0 /= 70%"
   ]
  },
  {
   "cell_type": "markdown",
   "id": "0ec405cd-d411-4784-986a-189dba2f157a",
   "metadata": {},
   "source": [
    "Distribution of grades\n",
    "\n",
    "Assuming that the population of grade is normally distributed then we will have a  normal distribution graph."
   ]
  },
  {
   "cell_type": "code",
   "execution_count": null,
   "id": "b75ccc14-e88f-484a-ab31-5dc20b42ce28",
   "metadata": {},
   "outputs": [],
   "source": [
    "A Test we would normally perform is the Z-test"
   ]
  }
 ],
 "metadata": {
  "kernelspec": {
   "display_name": "Python 3 (ipykernel)",
   "language": "python",
   "name": "python3"
  },
  "language_info": {
   "codemirror_mode": {
    "name": "ipython",
    "version": 3
   },
   "file_extension": ".py",
   "mimetype": "text/x-python",
   "name": "python",
   "nbconvert_exporter": "python",
   "pygments_lexer": "ipython3",
   "version": "3.9.7"
  }
 },
 "nbformat": 4,
 "nbformat_minor": 5
}
