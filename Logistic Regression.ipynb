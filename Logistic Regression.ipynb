{
 "cells": [
  {
   "cell_type": "markdown",
   "id": "5824f52b-c573-42c1-9099-44da2efc53d4",
   "metadata": {},
   "source": [
    "### Week 9 day 4 : Logistic Regression"
   ]
  },
  {
   "cell_type": "markdown",
   "id": "a56bc072-9734-441f-a0eb-7d34df2e2aaf",
   "metadata": {},
   "source": [
    "#### Introduction to Logistic regression"
   ]
  },
  {
   "cell_type": "markdown",
   "id": "4ac78860-c245-4a81-ab75-86c99f5c275f",
   "metadata": {},
   "source": [
    "Sometimes linear regresssion is just a base we build on.\n",
    "\n",
    "Real world problems often requires more sophisticated non linear models.\n",
    "\n",
    "How non linear?\n",
    "\n",
    "They may be \n",
    "\n",
    ". quadratic\n",
    "\n",
    ". exponential \n",
    "\n",
    ". logistic\n",
    "\n",
    "As in this case."
   ]
  },
  {
   "cell_type": "markdown",
   "id": "edb9556f-1daf-4cf0-9162-187cfad9c097",
   "metadata": {},
   "source": [
    "A logistic regression implies that the possible outcome are not numerical but rather categorical."
   ]
  },
  {
   "cell_type": "markdown",
   "id": "01c1729d-dd19-4257-a6a7-afbef40e21e4",
   "metadata": {},
   "source": [
    "In thesame way we included categorical predictors into a linear regression through dummies."
   ]
  },
  {
   "cell_type": "markdown",
   "id": "c0b72ff7-639f-418f-9a98-9b0d944d57f9",
   "metadata": {},
   "source": [
    "y = x0 + b1x1 + b2dummy (category 1 , Category 2)"
   ]
  },
  {
   "cell_type": "markdown",
   "id": "9afba6ed-cea5-4c5e-acdd-2e115d25ed4f",
   "metadata": {},
   "source": [
    "We can predict a  categorical outcome through a logistic regression.\n",
    "\n",
    "For eg.\n",
    "\n",
    "yes/no\n",
    "\n",
    "will buy /won't buy\n",
    "\n",
    "0/1"
   ]
  },
  {
   "cell_type": "markdown",
   "id": "91c9c606-4101-4203-a344-f4de00ceb519",
   "metadata": {},
   "source": [
    "Infact, in a business context, decision making often boils down to a yes/no situation.\n",
    "\n",
    "Using linear regression ,we can make prediction about the price the customer will pay if she buys."
   ]
  },
  {
   "cell_type": "markdown",
   "id": "29f5a25a-d6c7-4fa1-9702-d20246096403",
   "metadata": {},
   "source": [
    "With the logistic regression we can make a much more fundamental forecast:\n",
    "\n",
    "Will the customer buy at all ?"
   ]
  },
  {
   "cell_type": "markdown",
   "id": "bfc5426f-296b-4260-8446-9c69758ec6ae",
   "metadata": {},
   "source": [
    "#### Course Notes:  Logistic regression"
   ]
  },
  {
   "cell_type": "markdown",
   "id": "a3cf9c79-ac56-4893-9b21-ac2969f9cee1",
   "metadata": {},
   "source": [
    "Logistic regression vs Linear \n",
    "regression\n",
    "\n",
    "Logistic regression implies that the possible outcomes are not numerical but\n",
    "rather categorical.\n",
    "\n",
    "Examples for categories are:\n",
    "\n",
    "• Yes / No\n",
    "\n",
    "• Will buy / Won’t Buy\n",
    "\n",
    "• 1 / 0\n",
    "\n",
    "Linear regression model: Y=β0\n",
    "+β1X1\n",
    "+…+βkXk+ε\n",
    "\n",
    "Logistic regression model: 𝑝(X) =\n",
    "𝑒\n",
    "(β0\n",
    " +β1X1\n",
    " +…+βkXk\n",
    ") \n",
    "\n",
    "/\n",
    "\n",
    "1+𝑒\n",
    "(β0\n",
    " +β1X1\n",
    " +…+βkXk\n",
    ")\n",
    "\n"
   ]
  },
  {
   "cell_type": "markdown",
   "id": "fd22446f-de64-485a-bef1-03160ea345f9",
   "metadata": {},
   "source": [
    "Logistic model"
   ]
  },
  {
   "cell_type": "markdown",
   "id": "92f945ac-e546-433d-ac76-9cca989cfadf",
   "metadata": {},
   "source": [
    "The logistic regression predicts the probability of an event occuring.\n",
    "\n",
    "\n",
    "   Input   =>  probability"
   ]
  },
  {
   "cell_type": "markdown",
   "id": "8d8d7d52-8502-469e-98e4-8f96a0972c57",
   "metadata": {},
   "source": [
    "Logistic regression model"
   ]
  },
  {
   "cell_type": "markdown",
   "id": "82407d80-f267-4370-8a49-a29ade9a39ff",
   "metadata": {},
   "source": [
    "Logistic regression model\n",
    "\n",
    "𝑝(X)\n",
    "/\n",
    "1 −𝑝(X)\n",
    "\n",
    "= 𝑒\n",
    "(β0\n",
    " +β1X1\n",
    " +…+βkXk\n",
    ")"
   ]
  },
  {
   "cell_type": "markdown",
   "id": "84f04541-e956-4334-b2ad-6ed8f8c81ec2",
   "metadata": {},
   "source": [
    "The logistic regression model is not very useful\n",
    "in itself. The right-hand side of the model is an\n",
    "exponent which is very computationally\n",
    "inefficient and generally hard to grasp."
   ]
  },
  {
   "cell_type": "markdown",
   "id": "6d70c1d4-8e92-4874-ba2c-7702742a106a",
   "metadata": {},
   "source": [
    "ODDS =\n",
    "\n",
    "𝑝(X) \n",
    "/\n",
    "1 −𝑝(X)\n",
    "\n",
    "Coin flip odds:\n",
    "    \n",
    "The odds of getting heads are 1:1 (or simply 1)\n",
    "\n",
    "Fair die odds:\n",
    "The odds of getting 4 are 1:5 (1 to 5)"
   ]
  },
  {
   "cell_type": "markdown",
   "id": "bfb0f679-1a6a-4e27-86cf-627a72a6a067",
   "metadata": {},
   "source": [
    "Logit regression model\n",
    "\n",
    "When we talk about a ‘logistic regression’ \n",
    "\n",
    "what we\n",
    "usually mean is ‘logit’ regression – a variation of the\n",
    "\n",
    "model where we have taken the log of both side"
   ]
  },
  {
   "cell_type": "markdown",
   "id": "b7cec53e-6b76-403a-b798-126b4dcdbd11",
   "metadata": {},
   "source": [
    "log ( 𝑝 (𝑋) /\n",
    "\n",
    "1−𝑝 (𝑋)\n",
    ") \n",
    "\n",
    "=log( 𝑒\n",
    "(β0+β1𝑥+⋯β𝑘𝑥𝑘)\n",
    ")\n",
    "\n",
    "\n",
    "log ( 𝑝 (𝑋) /\n",
    "\n",
    "1−𝑝 (𝑋)\n",
    ") \n",
    "\n",
    "= β0 + β1𝑥 + ⋯ β𝑘𝑥𝑘\n",
    "\n",
    "\n",
    "log (o𝐝𝐝𝐬) = 𝜷𝟎 + 𝜷𝟏𝒙 + ⋯ 𝜷𝒌𝒙k"
   ]
  },
  {
   "cell_type": "markdown",
   "id": "854cde91-566f-4c38-ab08-e25dc747ff54",
   "metadata": {},
   "source": [
    "The remaining on the notebook"
   ]
  },
  {
   "cell_type": "markdown",
   "id": "2270b248-68bb-4fcf-bb8c-0e780f5ecb91",
   "metadata": {},
   "source": [
    "#### A simple example in python"
   ]
  },
  {
   "cell_type": "markdown",
   "id": "f5c86c09-6a88-47fe-98a4-872037530f09",
   "metadata": {},
   "source": [
    "Similar to our SAT -> GPA example in\n",
    "\n",
    "our last session, we will explore an \n",
    "\n",
    "SAT -> ADMISSION problem,\n",
    "\n",
    "In this case ,we are not interesting \n",
    "\n",
    "in the GPA a student will obtain at \n",
    "\n",
    "graduation as they will not have a GPA \n",
    "\n",
    "if they dont get admitted."
   ]
  },
  {
   "cell_type": "markdown",
   "id": "59531798-2a8b-493e-b66d-5fd16cd29ec8",
   "metadata": {},
   "source": [
    "Instead our focus will be predicting \n",
    "\n",
    "whether a student will be admitted or not."
   ]
  },
  {
   "cell_type": "markdown",
   "id": "e19f06f3-547c-4eea-bd39-261c08a1a53f",
   "metadata": {},
   "source": [
    "Lets explore the data set in Jupiter notebook."
   ]
  },
  {
   "cell_type": "markdown",
   "id": "08b4e562-7277-41c5-a279-0ee90718d3d3",
   "metadata": {},
   "source": [
    "###### Basics of logistic regression"
   ]
  },
  {
   "cell_type": "markdown",
   "id": "5b28fe2c-17a2-4d99-8782-c3cf18dec0a1",
   "metadata": {},
   "source": [
    "###### Import the relevant libraries"
   ]
  },
  {
   "cell_type": "code",
   "execution_count": 12,
   "id": "7dcbcd51-807a-4200-aa7f-e5b91b004a79",
   "metadata": {},
   "outputs": [],
   "source": [
    "import numpy as np\n",
    "import pandas as pd\n",
    "import statsmodels.api as sm\n",
    "import matplotlib.pyplot as plt\n",
    "import seaborn as sns\n",
    "sns.set()\n"
   ]
  },
  {
   "cell_type": "markdown",
   "id": "6f524d16-186e-412c-9716-8c4055b0261a",
   "metadata": {},
   "source": [
    "##### Load the data"
   ]
  },
  {
   "cell_type": "markdown",
   "id": "24618ef1-8152-4f41-9fce-c214d985bcba",
   "metadata": {},
   "source": [
    "Lets load the information into a variable called raw data"
   ]
  },
  {
   "cell_type": "code",
   "execution_count": 13,
   "id": "f8ee2a80-1d67-4ae2-9fd9-bb52a9073e89",
   "metadata": {},
   "outputs": [
    {
     "data": {
      "text/html": [
       "<div>\n",
       "<style scoped>\n",
       "    .dataframe tbody tr th:only-of-type {\n",
       "        vertical-align: middle;\n",
       "    }\n",
       "\n",
       "    .dataframe tbody tr th {\n",
       "        vertical-align: top;\n",
       "    }\n",
       "\n",
       "    .dataframe thead th {\n",
       "        text-align: right;\n",
       "    }\n",
       "</style>\n",
       "<table border=\"1\" class=\"dataframe\">\n",
       "  <thead>\n",
       "    <tr style=\"text-align: right;\">\n",
       "      <th></th>\n",
       "      <th>SAT</th>\n",
       "      <th>Admitted</th>\n",
       "    </tr>\n",
       "  </thead>\n",
       "  <tbody>\n",
       "    <tr>\n",
       "      <th>0</th>\n",
       "      <td>1363</td>\n",
       "      <td>No</td>\n",
       "    </tr>\n",
       "    <tr>\n",
       "      <th>1</th>\n",
       "      <td>1792</td>\n",
       "      <td>Yes</td>\n",
       "    </tr>\n",
       "    <tr>\n",
       "      <th>2</th>\n",
       "      <td>1954</td>\n",
       "      <td>Yes</td>\n",
       "    </tr>\n",
       "    <tr>\n",
       "      <th>3</th>\n",
       "      <td>1653</td>\n",
       "      <td>No</td>\n",
       "    </tr>\n",
       "    <tr>\n",
       "      <th>4</th>\n",
       "      <td>1593</td>\n",
       "      <td>No</td>\n",
       "    </tr>\n",
       "    <tr>\n",
       "      <th>...</th>\n",
       "      <td>...</td>\n",
       "      <td>...</td>\n",
       "    </tr>\n",
       "    <tr>\n",
       "      <th>163</th>\n",
       "      <td>1722</td>\n",
       "      <td>Yes</td>\n",
       "    </tr>\n",
       "    <tr>\n",
       "      <th>164</th>\n",
       "      <td>1750</td>\n",
       "      <td>Yes</td>\n",
       "    </tr>\n",
       "    <tr>\n",
       "      <th>165</th>\n",
       "      <td>1555</td>\n",
       "      <td>No</td>\n",
       "    </tr>\n",
       "    <tr>\n",
       "      <th>166</th>\n",
       "      <td>1524</td>\n",
       "      <td>No</td>\n",
       "    </tr>\n",
       "    <tr>\n",
       "      <th>167</th>\n",
       "      <td>1461</td>\n",
       "      <td>No</td>\n",
       "    </tr>\n",
       "  </tbody>\n",
       "</table>\n",
       "<p>168 rows × 2 columns</p>\n",
       "</div>"
      ],
      "text/plain": [
       "      SAT Admitted\n",
       "0    1363       No\n",
       "1    1792      Yes\n",
       "2    1954      Yes\n",
       "3    1653       No\n",
       "4    1593       No\n",
       "..    ...      ...\n",
       "163  1722      Yes\n",
       "164  1750      Yes\n",
       "165  1555       No\n",
       "166  1524       No\n",
       "167  1461       No\n",
       "\n",
       "[168 rows x 2 columns]"
      ]
     },
     "execution_count": 13,
     "metadata": {},
     "output_type": "execute_result"
    }
   ],
   "source": [
    "raw_data = pd.read_csv(\"C:\\\\Users\\\\user\\\\Desktop\\\\python files - Copy\\\\2.01. Admittance.csv\")\n",
    "raw_data"
   ]
  },
  {
   "cell_type": "markdown",
   "id": "bd044651-d839-4adb-92da-ce8d80531734",
   "metadata": {},
   "source": [
    "Each row represents a different student.\n",
    "\n",
    "Like dummies we must convert the \n",
    "\n",
    "yes/no to 1 /0 to be able to use the \n",
    "\n",
    "data for quantitative analysis."
   ]
  },
  {
   "cell_type": "markdown",
   "id": "fcb21af0-7288-4dbf-84d8-50743199f6eb",
   "metadata": {},
   "source": [
    "let create a new data called data \n",
    "\n",
    "where all no entries from raw data will be mapped to 0 while yes enteries to 1."
   ]
  },
  {
   "cell_type": "code",
   "execution_count": 14,
   "id": "ffc38ffd-f2f2-499d-99ea-da505d608757",
   "metadata": {},
   "outputs": [
    {
     "data": {
      "text/html": [
       "<div>\n",
       "<style scoped>\n",
       "    .dataframe tbody tr th:only-of-type {\n",
       "        vertical-align: middle;\n",
       "    }\n",
       "\n",
       "    .dataframe tbody tr th {\n",
       "        vertical-align: top;\n",
       "    }\n",
       "\n",
       "    .dataframe thead th {\n",
       "        text-align: right;\n",
       "    }\n",
       "</style>\n",
       "<table border=\"1\" class=\"dataframe\">\n",
       "  <thead>\n",
       "    <tr style=\"text-align: right;\">\n",
       "      <th></th>\n",
       "      <th>SAT</th>\n",
       "      <th>Admitted</th>\n",
       "    </tr>\n",
       "  </thead>\n",
       "  <tbody>\n",
       "    <tr>\n",
       "      <th>0</th>\n",
       "      <td>1363</td>\n",
       "      <td>0.0</td>\n",
       "    </tr>\n",
       "    <tr>\n",
       "      <th>1</th>\n",
       "      <td>1792</td>\n",
       "      <td>NaN</td>\n",
       "    </tr>\n",
       "    <tr>\n",
       "      <th>2</th>\n",
       "      <td>1954</td>\n",
       "      <td>NaN</td>\n",
       "    </tr>\n",
       "    <tr>\n",
       "      <th>3</th>\n",
       "      <td>1653</td>\n",
       "      <td>0.0</td>\n",
       "    </tr>\n",
       "    <tr>\n",
       "      <th>4</th>\n",
       "      <td>1593</td>\n",
       "      <td>0.0</td>\n",
       "    </tr>\n",
       "    <tr>\n",
       "      <th>...</th>\n",
       "      <td>...</td>\n",
       "      <td>...</td>\n",
       "    </tr>\n",
       "    <tr>\n",
       "      <th>163</th>\n",
       "      <td>1722</td>\n",
       "      <td>NaN</td>\n",
       "    </tr>\n",
       "    <tr>\n",
       "      <th>164</th>\n",
       "      <td>1750</td>\n",
       "      <td>NaN</td>\n",
       "    </tr>\n",
       "    <tr>\n",
       "      <th>165</th>\n",
       "      <td>1555</td>\n",
       "      <td>0.0</td>\n",
       "    </tr>\n",
       "    <tr>\n",
       "      <th>166</th>\n",
       "      <td>1524</td>\n",
       "      <td>0.0</td>\n",
       "    </tr>\n",
       "    <tr>\n",
       "      <th>167</th>\n",
       "      <td>1461</td>\n",
       "      <td>0.0</td>\n",
       "    </tr>\n",
       "  </tbody>\n",
       "</table>\n",
       "<p>168 rows × 2 columns</p>\n",
       "</div>"
      ],
      "text/plain": [
       "      SAT  Admitted\n",
       "0    1363       0.0\n",
       "1    1792       NaN\n",
       "2    1954       NaN\n",
       "3    1653       0.0\n",
       "4    1593       0.0\n",
       "..    ...       ...\n",
       "163  1722       NaN\n",
       "164  1750       NaN\n",
       "165  1555       0.0\n",
       "166  1524       0.0\n",
       "167  1461       0.0\n",
       "\n",
       "[168 rows x 2 columns]"
      ]
     },
     "execution_count": 14,
     "metadata": {},
     "output_type": "execute_result"
    }
   ],
   "source": [
    "data = raw_data.copy()\n",
    "data['Admitted'] = data['Admitted'].map({'yes':1,'No':0})\n",
    "data"
   ]
  },
  {
   "cell_type": "markdown",
   "id": "a455f595-373c-4736-88f6-18f5ef670964",
   "metadata": {},
   "source": [
    "The above is our final dataframe."
   ]
  },
  {
   "cell_type": "markdown",
   "id": "3703a67d-7323-4106-813b-24ba8f5cd654",
   "metadata": {},
   "source": [
    "##### Variables"
   ]
  },
  {
   "cell_type": "markdown",
   "id": "78df8829-ff00-4ec3-8004-c677f84a422a",
   "metadata": {},
   "source": [
    "Lets visualize the data we have.\n",
    "\n",
    "We are predicting 'Admission' so the admitted column wil be our y variable \n",
    "\n",
    "while SAT score willl be our x variable"
   ]
  },
  {
   "cell_type": "code",
   "execution_count": 15,
   "id": "f57e9bb1-9323-48e9-a11b-75f77cc7df1a",
   "metadata": {},
   "outputs": [],
   "source": [
    "y = data['Admitted']\n",
    "x1 = data['SAT']"
   ]
  },
  {
   "cell_type": "markdown",
   "id": "44a1188b-822d-46cc-b26b-5864bc217d3a",
   "metadata": {},
   "source": [
    "Having done this, lets create a \n",
    "\n",
    "scatter plot in a familiar way"
   ]
  },
  {
   "cell_type": "markdown",
   "id": "2810d1c0-0c37-4af2-b0e3-84cf790801d5",
   "metadata": {},
   "source": [
    "##### Scatter plot"
   ]
  },
  {
   "cell_type": "code",
   "execution_count": 19,
   "id": "9bf59de3-5a63-417a-ae14-c810aef127e9",
   "metadata": {},
   "outputs": [
    {
     "data": {
      "image/png": "[encoded data removed]",
      "text/plain": [
       "<Figure size 432x288 with 1 Axes>"
      ]
     },
     "metadata": {},
     "output_type": "display_data"
    }
   ],
   "source": [
    "plt.scatter(x1,y,color='C0')\n",
    "plt.xlabel('SAT',fontsize=20)\n",
    "plt.ylabel('Admitted',fontsize=20)\n",
    "plt.show()"
   ]
  },
  {
   "cell_type": "markdown",
   "id": "0398c408-5036-4f7e-b86b-ebbdca32befb",
   "metadata": {},
   "source": [
    "This is a pretty strange scatter plot. this happens when we deal with categorical outcomes."
   ]
  },
  {
   "cell_type": "markdown",
   "id": "73b4c5f6-38f5-4b58-9708-0896c26c7ecc",
   "metadata": {},
   "source": [
    "But is we focus on the graph we will\n",
    "\n",
    "notice that the graph below ,the outcome was zero or they didnt get admitted"
   ]
  },
  {
   "cell_type": "markdown",
   "id": "0fe16c01-8135-43a4-b156-317e4d412e33",
   "metadata": {},
   "source": [
    "#### Logistic vs logit function"
   ]
  },
  {
   "cell_type": "markdown",
   "id": "ed5bd7b8-253c-40de-a7a1-99b1a193e8ee",
   "metadata": {},
   "source": [
    "What exactly is the logistic model ?"
   ]
  },
  {
   "cell_type": "markdown",
   "id": "59c67869-a44b-408d-b0af-7f297dfce5d4",
   "metadata": {},
   "source": [
    "Conversely, for the students above,\n",
    "\n",
    "the process was successful and they got admited."
   ]
  },
  {
   "cell_type": "markdown",
   "id": "7414af27-c25c-45cc-a19d-ba0d93d9d300",
   "metadata": {
    "tags": []
   },
   "source": [
    "##### Plot with a Regression line"
   ]
  },
  {
   "cell_type": "markdown",
   "id": "7282d181-e8f4-4f8f-832a-eb432bdc7ac8",
   "metadata": {},
   "source": [
    "Lets see if a linear regression will be a good fit.\n",
    "\n",
    "We will apply a linear regression line using thesame methodology like the one used on the last section."
   ]
  },
  {
   "cell_type": "code",
   "execution_count": 30,
   "id": "d89d2a72-810a-4951-b409-6741abf56662",
   "metadata": {},
   "outputs": [
    {
     "name": "stderr",
     "output_type": "stream",
     "text": [
      "C:\\Users\\user\\anaconda3\\lib\\site-packages\\statsmodels\\tsa\\tsatools.py:142: FutureWarning: In a future version of pandas all arguments of concat except for the argument 'objs' will be keyword-only\n",
      "  x = pd.concat(x[::order], 1)\n"
     ]
    },
    {
     "data": {
      "image/png": "[encoded data removed]",
      "text/plain": [
       "<Figure size 432x288 with 1 Axes>"
      ]
     },
     "metadata": {},
     "output_type": "display_data"
    }
   ],
   "source": [
    "x = sm.add_constant(x1)\n",
    "reg_lin = sm.OLS(y,x)\n",
    "results_lin = reg_lin.fit()\n",
    "\n",
    "plt.scatter(x1,y,color = 'C0')\n",
    "y_hat = x1*results_lin.params[1]+results_lin.params[0]\n",
    "\n",
    "plt.plot(x1,y_hat,lw=2.5,color='C8')\n",
    "plt.xlabel('SAT', fontsize = 20)\n",
    "plt.ylabel('Admitted', fontsize = 20)\n",
    "plt.show()"
   ]
  },
  {
   "cell_type": "markdown",
   "id": "5f5338db-d4de-4524-9585-085e588dc7f3",
   "metadata": {},
   "source": [
    "Do not focus on the code but rather on the insite our plots give us.\n",
    "\n",
    "Not only is the linear regression an \n",
    "\n",
    "awful fit but it also predicts values with 4 outside and natural domain of admission."
   ]
  },
  {
   "cell_type": "markdown",
   "id": "54de5512-30c6-4278-957e-61192d0e662a",
   "metadata": {},
   "source": [
    "This regression does not even know that our values are bounded between 0 and 1.\n",
    "\n",
    "Linear regression is a great \n",
    "\n",
    "predicting tecnique but simply not fit for this kind of analysis"
   ]
  },
  {
   "cell_type": "markdown",
   "id": "2ab485fc-bb31-471b-9715-e75ff7074182",
   "metadata": {},
   "source": [
    "The first assumption of the OLS is linearity and it is violated.\n",
    "\n",
    "Our data is non linear.\n",
    "\n",
    "Hence we must use non linear approaches."
   ]
  },
  {
   "cell_type": "markdown",
   "id": "077c32f7-1910-461e-8750-d40476f206ff",
   "metadata": {},
   "source": [
    "##### plot with a logistic regression curve"
   ]
  },
  {
   "cell_type": "code",
   "execution_count": 33,
   "id": "1b9d8426-dc77-46ac-abba-4fe41c5282f6",
   "metadata": {},
   "outputs": [
    {
     "ename": "SyntaxError",
     "evalue": "invalid syntax (Temp/ipykernel_13784/885840094.py, line 10)",
     "output_type": "error",
     "traceback": [
      "\u001b[1;36m  File \u001b[1;32m\"C:\\Users\\user\\AppData\\Local\\Temp/ipykernel_13784/885840094.py\"\u001b[1;36m, line \u001b[1;32m10\u001b[0m\n\u001b[1;33m    plt.scatter(x1,y,color='C0')\u001b[0m\n\u001b[1;37m    ^\u001b[0m\n\u001b[1;31mSyntaxError\u001b[0m\u001b[1;31m:\u001b[0m invalid syntax\n"
     ]
    }
   ],
   "source": [
    "reg_log = sm.logit(y,x)\n",
    "results_log = reg_log.fit()\n",
    "\n",
    "def f(x,b0,b1):\n",
    "    return np.array(np.exp(b0+x*b1) / (1 + np.exp(b0+x*b1)))\n",
    "\n",
    "f_sorted = np.sort(f(x1,results_log.params[0],results_log.params[1]))\n",
    "x_sorted = np.sort(np.sort(np.array(x1))\n",
    "                   \n",
    "plt.scatter(x1,y,color='C0')\n",
    "plt.xlabel('SAT', fontsize = 20)\n",
    "plt.ylabel('Admitted', fontsize = 20)\n",
    "plt.plot(x_sorted,f_sorted,color='C8')\n",
    "plt.show()    "
   ]
  },
  {
   "cell_type": "markdown",
   "id": "b4e2d93b-c7c7-4e70-b1d4-394bdfce61c3",
   "metadata": {},
   "source": [
    "It is bounded by the two outcome\n",
    "\n",
    "0 and 1."
   ]
  },
  {
   "cell_type": "markdown",
   "id": "70d00a0c-5b27-475f-901d-6aeff91d7889",
   "metadata": {},
   "source": [
    "Interpretation:\n",
    "    \n",
    "It shows the probability of admission given an SAT score .\n",
    "\n",
    "When the SAT score is relatively low, the probability of getting admitted is 0.\n",
    "\n",
    "When the SAT score is relatively high\n",
    "\n",
    ",the probabilty of getting admission is 1 or 100 %."
   ]
  },
  {
   "cell_type": "markdown",
   "id": "8e323115-5b90-4bab-9591-f93cc0ec3dc8",
   "metadata": {},
   "source": [
    "A score inbetween 1600 and 1750 is \n",
    "\n",
    "uncertain so there is a probability associated with it."
   ]
  },
  {
   "cell_type": "markdown",
   "id": "12fedf3c-25c7-4340-8319-14a0a26bfc88",
   "metadata": {},
   "source": [
    "For instance, if you score 1560, you \n",
    "\n",
    "have roughly 50% chance of getting in."
   ]
  },
  {
   "cell_type": "markdown",
   "id": "979cb536-bffe-4963-8067-23054e06e66e",
   "metadata": {},
   "source": [
    "With 17100 you have 0.8 or 80% \n",
    "\n",
    "probability of a successfull application."
   ]
  },
  {
   "cell_type": "markdown",
   "id": "a507bdbf-2e20-479e-8c96-854c3025fe2e",
   "metadata": {},
   "source": [
    "We will call the curve a logistic regression curve while the method of predicting is called Logistic regression. Welcome to binary prediction."
   ]
  },
  {
   "cell_type": "markdown",
   "id": "7da71334-ced3-42d1-a964-7519d2d147ce",
   "metadata": {},
   "source": [
    "### Logistic vs logit function"
   ]
  },
  {
   "cell_type": "markdown",
   "id": "30b6ddcc-0d66-4b18-9cee-43b7dec21337",
   "metadata": {},
   "source": [
    "Logistic regression assumptions are very \n",
    "\n",
    "close to that of linear regression.\n",
    "\n",
    "The mean difference is the linearity asumptions.\n",
    "\n",
    "Logistic regression are non linear by difinition'\n",
    "\n",
    "What exactly is the logistic model ?\n",
    "\n",
    "The logistic regression predicts the probabibility of an event occurring.\n",
    "\n",
    "We are asking the question, given input \n",
    "\n",
    "data what is the probability of a student \n",
    "\n",
    "being admitted ?\n",
    "\n",
    "​\n",
    "INPUT => PROBABILITY\n",
    "\n",
    "​\n",
    "What about the name ?\n",
    "\n",
    "​\n",
    "We call the regresion logistic as the \n",
    "\n",
    "curve we saw is defined by a logistic function.\n",
    "​"
   ]
  },
  {
   "cell_type": "markdown",
   "id": "94ea67c9-e52c-4db7-8315-c95fbf97d610",
   "metadata": {},
   "source": [
    ".1 It has an A shape and\n",
    "\n",
    ".2 It is bounded by 0 and 1.\n",
    "\n",
    "THese two properties are what we will see\n",
    "\n",
    "next and the reasons why this type of \n",
    "\n",
    "regression is so useful for binary prediction.\n"
   ]
  },
  {
   "cell_type": "markdown",
   "id": "797c2651-2682-45cd-9879-4e47351ffd2f",
   "metadata": {},
   "source": [
    "In algebraic terms , the linear regression \n",
    "\n",
    "model :looks like this :"
   ]
  },
  {
   "cell_type": "markdown",
   "id": "37515f94-423c-42d6-9593-e5ab6b4b17b6",
   "metadata": {},
   "source": [
    "y = β0 + β1𝑥1 + ⋯+ β𝑘𝑥𝑘 + Σ"
   ]
  },
  {
   "cell_type": "markdown",
   "id": "e82ca246-9452-4179-9686-fa0ec73bfaa7",
   "metadata": {},
   "source": [
    "The logistic regression model is quite \n",
    "\n",
    "different, it is difined by the following expression."
   ]
  },
  {
   "cell_type": "markdown",
   "id": "41cce425-2b81-4260-babf-e34dc8e52bcd",
   "metadata": {},
   "source": [
    "Linear regression model:"
   ]
  },
  {
   "cell_type": "markdown",
   "id": "a2433641-cb0f-42e0-aa43-5af4435da7b0",
   "metadata": {},
   "source": [
    " 𝑝(X) = 𝑒 (β0 +β1X1 +…+βkXk )\n",
    "\n",
    "/\n",
    "\n",
    "1+𝑒 (β0 +β1X1 +…+βkXk )"
   ]
  },
  {
   "cell_type": "markdown",
   "id": "71262c7f-b6e4-4752-8082-039935d8e659",
   "metadata": {},
   "source": [
    "It is explained thus:"
   ]
  },
  {
   "cell_type": "markdown",
   "id": "3a052066-d1ea-471b-9bee-0eb012f4e0ac",
   "metadata": {},
   "source": [
    "Exponential of the linear combination of \n",
    "\n",
    "the input in coeficient divided by 1 + thesame exponential"
   ]
  },
  {
   "cell_type": "markdown",
   "id": "3a343686-dce7-45f9-a96d-46821c954fbf",
   "metadata": {},
   "source": [
    "There is another formula called the logit formula:"
   ]
  },
  {
   "cell_type": "markdown",
   "id": "1b16f193-d515-442a-a35c-2bd9068942f0",
   "metadata": {},
   "source": [
    "If we transform this formula in a certain way . we will get the probability of the \n",
    "\n",
    "event occuring dividd by the probability of the event not occuring equals the exponential from above."
   ]
  },
  {
   "cell_type": "markdown",
   "id": "d8c91c45-ceba-48c7-beaf-83964f3e4ab6",
   "metadata": {},
   "source": [
    "p(X)  / 1 - p(X)  = 𝑒 (β0 +β1X1 +…+βkXk )"
   ]
  },
  {
   "cell_type": "markdown",
   "id": "8d3e8a8b-298c-4edf-8c00-5d537de61c47",
   "metadata": {},
   "source": [
    "The left hand side have a very intuitive intepretation.\n",
    "\n",
    "It is called ODDS [ p(X)  / 1 - p(X) ]"
   ]
  },
  {
   "cell_type": "markdown",
   "id": "22bb5164-ecf4-4bd0-b766-e2e9b89658be",
   "metadata": {},
   "source": [
    "For instance, if you throw a fair coin, there are two possibilities.\n",
    "\n",
    "HEADS \n",
    "\n",
    "Probability:50% \n",
    "\n",
    "\n",
    "TAILS\n",
    "\n",
    "Probability:50%\n",
    "\n"
   ]
  },
  {
   "cell_type": "markdown",
   "id": "31fa31d6-acb7-4f3a-9154-2e6a7a78be38",
   "metadata": {},
   "source": [
    "What is the probability of getting heads ? 50% \n",
    "\n",
    "But what is the odds of getting head ?."
   ]
  },
  {
   "cell_type": "markdown",
   "id": "6a3f7106-ff0e-491b-bde5-5afe5330bb05",
   "metadata": {},
   "source": [
    "Odds = p(heads) / p (tails)\n",
    "\n",
    "ie 50 % : 50 %  or  1 : 1"
   ]
  },
  {
   "cell_type": "markdown",
   "id": "e4f7917b-c251-45c5-beb4-2f29b0a45762",
   "metadata": {},
   "source": [
    "What about a fair dice ?"
   ]
  },
  {
   "cell_type": "markdown",
   "id": "5bac8282-78fd-4cd3-95c2-61a3758d7801",
   "metadata": {},
   "source": [
    "If we want to find the odds of getting a 6 \n",
    "\n",
    "= p(getting)  / p(not getting)\n",
    "\n",
    "=  1/6 / 5/6 \n",
    "\n",
    "= 1:5  (one fifth)\n",
    "\n",
    "Hence, the odds are 1 to 5"
   ]
  },
  {
   "cell_type": "markdown",
   "id": "5289c278-cd14-4aa9-ac13-cd9031bf6ed1",
   "metadata": {},
   "source": [
    "LOGIT MODEL"
   ]
  },
  {
   "cell_type": "markdown",
   "id": "3440ea18-edc3-409f-bf61-901425448914",
   "metadata": {},
   "source": [
    "The odds are equal to the exponential exprssion.\n",
    "\n",
    "We know that the log is the opposite of the exponential\n",
    "\n",
    "so we will take the log of both sides"
   ]
  },
  {
   "cell_type": "markdown",
   "id": "2ba1d3a3-9f82-413f-9792-067a29d6799a",
   "metadata": {},
   "source": [
    "p(X) / 1 - p(X) = 𝑒 (β0 +β1X1 +…+βkXk )"
   ]
  },
  {
   "cell_type": "markdown",
   "id": "e0d5b9fb-f2b2-48f9-9a58-5bcf920d8623",
   "metadata": {},
   "source": [
    "log(p(X) / 1 - p(X) =\n",
    "\n",
    "log (𝑒 (β0 +β1X1 +…+βkXk ))"
   ]
  },
  {
   "cell_type": "code",
   "execution_count": null,
   "id": "ca723f2f-4b96-443f-9ba3-32c9908f1b0a",
   "metadata": {},
   "outputs": [],
   "source": [
    "This results in a very elegant model"
   ]
  },
  {
   "cell_type": "code",
   "execution_count": null,
   "id": "dd9c16c0-073c-4e42-a298-68e4bf3bb2b1",
   "metadata": {},
   "outputs": [],
   "source": [
    "log(p(X) / 1 - p(X) = β0 +β1X1 +…+βkXk "
   ]
  },
  {
   "cell_type": "markdown",
   "id": "eba41721-009f-4637-b7fd-d438b5af33eb",
   "metadata": {},
   "source": [
    "The log of the odds is equal to a linear \n",
    "\n",
    "model and not any linear model but pricely \n",
    "\n",
    "thesame one we had in the linear regression.\n",
    "\n",
    "But no exclusive error term though"
   ]
  },
  {
   "cell_type": "markdown",
   "id": "c1a716c0-61e8-483b-8f8e-edfd3fa99eb1",
   "metadata": {},
   "source": [
    "log(odds) = β0 +β1X1 +…+βkXk "
   ]
  },
  {
   "cell_type": "markdown",
   "id": "09eaf139-c42e-4674-a72d-00495a644e76",
   "metadata": {},
   "source": [
    "linear regression model: \n",
    "    \n",
    "y = β0 + β1𝑥1 + ⋯+ β𝑘𝑥𝑘 + Σ    "
   ]
  },
  {
   "cell_type": "markdown",
   "id": "c9221443-1fab-44b4-9f37-cf431f7788bf",
   "metadata": {},
   "source": [
    "Another assumption of the linear model is \n",
    "\n",
    "that the expected value of the error term is 0\n",
    "\n",
    "E(Σ) = 0"
   ]
  },
  {
   "cell_type": "markdown",
   "id": "ece9797b-8c35-4ff0-b367-effd81b37914",
   "metadata": {},
   "source": [
    "For all practical purposes , the two \n",
    "\n",
    "models are equivalent."
   ]
  },
  {
   "cell_type": "markdown",
   "id": "a030c429-923f-4541-a8df-fcb7e54a8bb0",
   "metadata": {},
   "source": [
    "We can use either of them:\n",
    "    \n",
    " i. Logistic function  or model\n",
    "\n",
    "ii. Logit function or model"
   ]
  },
  {
   "cell_type": "markdown",
   "id": "68f8a5ee-bc67-476a-a22a-84d478006ad4",
   "metadata": {},
   "source": [
    "But it is much simpler to use the logit one"
   ]
  },
  {
   "cell_type": "markdown",
   "id": "7e413634-3ecd-4a7a-b61a-c287b84c1e8a",
   "metadata": {},
   "source": [
    "Linear Regression is the basis of logistic regression.\n",
    "\n",
    "Given that the model is not very different our main concern from now on is how to \n",
    "\n",
    "interpret the coefficient of a logistic regression."
   ]
  },
  {
   "cell_type": "markdown",
   "id": "9e07b81e-5ffc-4d8d-adfe-bc439cf43adb",
   "metadata": {},
   "source": [
    "#### Building a logistic regression"
   ]
  },
  {
   "cell_type": "markdown",
   "id": "0119c136-3703-4736-ae91-e1ddcc0ad053",
   "metadata": {},
   "source": [
    "How to build a logistic regression using the statsmodels library"
   ]
  },
  {
   "cell_type": "code",
   "execution_count": null,
   "id": "7bd0a141-a258-44f2-ad95-f74bcb19cf82",
   "metadata": {},
   "outputs": [],
   "source": [
    "Import all relevant libraries"
   ]
  },
  {
   "cell_type": "code",
   "execution_count": 2,
   "id": "624e1312-8ee0-4e18-8125-ce1a3dce0c1c",
   "metadata": {},
   "outputs": [],
   "source": [
    "import numpy as np\n",
    "import pandas as pd\n",
    "import statsmodels.api as sm\n",
    "import matplotlib.pyplot as plt\n",
    "import seaborn as sns\n",
    "sns.set()\n"
   ]
  },
  {
   "cell_type": "markdown",
   "id": "2ac0ba53-7253-4906-b054-96287c31d61c",
   "metadata": {},
   "source": [
    "Load the data"
   ]
  },
  {
   "cell_type": "code",
   "execution_count": 3,
   "id": "4d8b21f7-b9ab-4855-8ed0-55cd1e522686",
   "metadata": {},
   "outputs": [
    {
     "data": {
      "text/html": [
       "<div>\n",
       "<style scoped>\n",
       "    .dataframe tbody tr th:only-of-type {\n",
       "        vertical-align: middle;\n",
       "    }\n",
       "\n",
       "    .dataframe tbody tr th {\n",
       "        vertical-align: top;\n",
       "    }\n",
       "\n",
       "    .dataframe thead th {\n",
       "        text-align: right;\n",
       "    }\n",
       "</style>\n",
       "<table border=\"1\" class=\"dataframe\">\n",
       "  <thead>\n",
       "    <tr style=\"text-align: right;\">\n",
       "      <th></th>\n",
       "      <th>SAT</th>\n",
       "      <th>Admitted</th>\n",
       "    </tr>\n",
       "  </thead>\n",
       "  <tbody>\n",
       "    <tr>\n",
       "      <th>0</th>\n",
       "      <td>1363</td>\n",
       "      <td>No</td>\n",
       "    </tr>\n",
       "    <tr>\n",
       "      <th>1</th>\n",
       "      <td>1792</td>\n",
       "      <td>Yes</td>\n",
       "    </tr>\n",
       "    <tr>\n",
       "      <th>2</th>\n",
       "      <td>1954</td>\n",
       "      <td>Yes</td>\n",
       "    </tr>\n",
       "    <tr>\n",
       "      <th>3</th>\n",
       "      <td>1653</td>\n",
       "      <td>No</td>\n",
       "    </tr>\n",
       "    <tr>\n",
       "      <th>4</th>\n",
       "      <td>1593</td>\n",
       "      <td>No</td>\n",
       "    </tr>\n",
       "    <tr>\n",
       "      <th>...</th>\n",
       "      <td>...</td>\n",
       "      <td>...</td>\n",
       "    </tr>\n",
       "    <tr>\n",
       "      <th>163</th>\n",
       "      <td>1722</td>\n",
       "      <td>Yes</td>\n",
       "    </tr>\n",
       "    <tr>\n",
       "      <th>164</th>\n",
       "      <td>1750</td>\n",
       "      <td>Yes</td>\n",
       "    </tr>\n",
       "    <tr>\n",
       "      <th>165</th>\n",
       "      <td>1555</td>\n",
       "      <td>No</td>\n",
       "    </tr>\n",
       "    <tr>\n",
       "      <th>166</th>\n",
       "      <td>1524</td>\n",
       "      <td>No</td>\n",
       "    </tr>\n",
       "    <tr>\n",
       "      <th>167</th>\n",
       "      <td>1461</td>\n",
       "      <td>No</td>\n",
       "    </tr>\n",
       "  </tbody>\n",
       "</table>\n",
       "<p>168 rows × 2 columns</p>\n",
       "</div>"
      ],
      "text/plain": [
       "      SAT Admitted\n",
       "0    1363       No\n",
       "1    1792      Yes\n",
       "2    1954      Yes\n",
       "3    1653       No\n",
       "4    1593       No\n",
       "..    ...      ...\n",
       "163  1722      Yes\n",
       "164  1750      Yes\n",
       "165  1555       No\n",
       "166  1524       No\n",
       "167  1461       No\n",
       "\n",
       "[168 rows x 2 columns]"
      ]
     },
     "execution_count": 3,
     "metadata": {},
     "output_type": "execute_result"
    }
   ],
   "source": [
    "raw_data = pd.read_csv(\"C:\\\\Users\\\\user\\\\Desktop\\\\python files - Copy\\\\2.01. Admittance.csv\")\n",
    "raw_data"
   ]
  },
  {
   "cell_type": "code",
   "execution_count": 4,
   "id": "026426e0-833e-4e3a-94dc-b975acaddb65",
   "metadata": {},
   "outputs": [
    {
     "data": {
      "text/html": [
       "<div>\n",
       "<style scoped>\n",
       "    .dataframe tbody tr th:only-of-type {\n",
       "        vertical-align: middle;\n",
       "    }\n",
       "\n",
       "    .dataframe tbody tr th {\n",
       "        vertical-align: top;\n",
       "    }\n",
       "\n",
       "    .dataframe thead th {\n",
       "        text-align: right;\n",
       "    }\n",
       "</style>\n",
       "<table border=\"1\" class=\"dataframe\">\n",
       "  <thead>\n",
       "    <tr style=\"text-align: right;\">\n",
       "      <th></th>\n",
       "      <th>SAT</th>\n",
       "      <th>Admitted</th>\n",
       "    </tr>\n",
       "  </thead>\n",
       "  <tbody>\n",
       "    <tr>\n",
       "      <th>0</th>\n",
       "      <td>1363</td>\n",
       "      <td>0.0</td>\n",
       "    </tr>\n",
       "    <tr>\n",
       "      <th>1</th>\n",
       "      <td>1792</td>\n",
       "      <td>NaN</td>\n",
       "    </tr>\n",
       "    <tr>\n",
       "      <th>2</th>\n",
       "      <td>1954</td>\n",
       "      <td>NaN</td>\n",
       "    </tr>\n",
       "    <tr>\n",
       "      <th>3</th>\n",
       "      <td>1653</td>\n",
       "      <td>0.0</td>\n",
       "    </tr>\n",
       "    <tr>\n",
       "      <th>4</th>\n",
       "      <td>1593</td>\n",
       "      <td>0.0</td>\n",
       "    </tr>\n",
       "    <tr>\n",
       "      <th>...</th>\n",
       "      <td>...</td>\n",
       "      <td>...</td>\n",
       "    </tr>\n",
       "    <tr>\n",
       "      <th>163</th>\n",
       "      <td>1722</td>\n",
       "      <td>NaN</td>\n",
       "    </tr>\n",
       "    <tr>\n",
       "      <th>164</th>\n",
       "      <td>1750</td>\n",
       "      <td>NaN</td>\n",
       "    </tr>\n",
       "    <tr>\n",
       "      <th>165</th>\n",
       "      <td>1555</td>\n",
       "      <td>0.0</td>\n",
       "    </tr>\n",
       "    <tr>\n",
       "      <th>166</th>\n",
       "      <td>1524</td>\n",
       "      <td>0.0</td>\n",
       "    </tr>\n",
       "    <tr>\n",
       "      <th>167</th>\n",
       "      <td>1461</td>\n",
       "      <td>0.0</td>\n",
       "    </tr>\n",
       "  </tbody>\n",
       "</table>\n",
       "<p>168 rows × 2 columns</p>\n",
       "</div>"
      ],
      "text/plain": [
       "      SAT  Admitted\n",
       "0    1363       0.0\n",
       "1    1792       NaN\n",
       "2    1954       NaN\n",
       "3    1653       0.0\n",
       "4    1593       0.0\n",
       "..    ...       ...\n",
       "163  1722       NaN\n",
       "164  1750       NaN\n",
       "165  1555       0.0\n",
       "166  1524       0.0\n",
       "167  1461       0.0\n",
       "\n",
       "[168 rows x 2 columns]"
      ]
     },
     "execution_count": 4,
     "metadata": {},
     "output_type": "execute_result"
    }
   ],
   "source": [
    "data = raw_data.copy()\n",
    "data['Admitted'] = data['Admitted'].map({'yes':1,'No':0})\n",
    "data"
   ]
  },
  {
   "cell_type": "markdown",
   "id": "a0201cda-c555-4a23-a727-b48b9e80ff4e",
   "metadata": {},
   "source": [
    "Declare the dependent and the independent variables"
   ]
  },
  {
   "cell_type": "code",
   "execution_count": 5,
   "id": "4ad003ab-0fc1-4576-8cc4-5e38a1c3a42d",
   "metadata": {},
   "outputs": [],
   "source": [
    "y = data['Admitted']\n",
    "x1 = data['SAT']"
   ]
  },
  {
   "cell_type": "markdown",
   "id": "dcaa034d-342b-45dd-9af9-d2f241433ee3",
   "metadata": {},
   "source": [
    "Regression"
   ]
  },
  {
   "cell_type": "markdown",
   "id": "8be4d5b6-18ae-4b7b-a06a-363baf3c682b",
   "metadata": {},
   "source": [
    "First we must add a constant\n",
    "\n",
    "s = sn.add constant of x1"
   ]
  },
  {
   "cell_type": "markdown",
   "id": "69292630-0a09-4858-a992-a7a1391e58ce",
   "metadata": {},
   "source": [
    "We will create the regression in two steps.\n",
    "\n",
    "step 1 : we declare a regreesion variable called reg_log\n",
    "\n",
    "Then define a way to calculate the regression.\n",
    "\n",
    "Instead of OLS we must use a different method 'Logit'\n",
    "\n",
    "Logit takes as an argurment the dependent variable and independent variable.\n",
    "\n",
    "Just same as we had with the OLS\n",
    "\n",
    "Next, lets fit the regression \n",
    "\n",
    "lets declare a new variable result log\n",
    "\n",
    "result_log = reg-log.fit \n",
    "then we run the code"
   ]
  },
  {
   "cell_type": "code",
   "execution_count": 6,
   "id": "9d724673-e0e5-4a81-9d7c-a23b9c3fb9fe",
   "metadata": {},
   "outputs": [
    {
     "name": "stderr",
     "output_type": "stream",
     "text": [
      "C:\\Users\\user\\anaconda3\\lib\\site-packages\\statsmodels\\tsa\\tsatools.py:142: FutureWarning: In a future version of pandas all arguments of concat except for the argument 'objs' will be keyword-only\n",
      "  x = pd.concat(x[::order], 1)\n"
     ]
    },
    {
     "ename": "ValueError",
     "evalue": "endog must be in the unit interval.",
     "output_type": "error",
     "traceback": [
      "\u001b[1;31m---------------------------------------------------------------------------\u001b[0m",
      "\u001b[1;31mValueError\u001b[0m                                Traceback (most recent call last)",
      "\u001b[1;32m~\\AppData\\Local\\Temp/ipykernel_4988/2538707872.py\u001b[0m in \u001b[0;36m<module>\u001b[1;34m\u001b[0m\n\u001b[0;32m      1\u001b[0m \u001b[0mx\u001b[0m \u001b[1;33m=\u001b[0m \u001b[0msm\u001b[0m\u001b[1;33m.\u001b[0m\u001b[0madd_constant\u001b[0m\u001b[1;33m(\u001b[0m\u001b[0mx1\u001b[0m\u001b[1;33m)\u001b[0m\u001b[1;33m\u001b[0m\u001b[1;33m\u001b[0m\u001b[0m\n\u001b[1;32m----> 2\u001b[1;33m \u001b[0mreg_log\u001b[0m \u001b[1;33m=\u001b[0m \u001b[0msm\u001b[0m\u001b[1;33m.\u001b[0m\u001b[0mLogit\u001b[0m\u001b[1;33m(\u001b[0m\u001b[0my\u001b[0m\u001b[1;33m,\u001b[0m\u001b[0mx\u001b[0m\u001b[1;33m)\u001b[0m\u001b[1;33m\u001b[0m\u001b[1;33m\u001b[0m\u001b[0m\n\u001b[0m\u001b[0;32m      3\u001b[0m \u001b[0mresults_log\u001b[0m \u001b[1;33m=\u001b[0m \u001b[0mreg_log\u001b[0m\u001b[1;33m.\u001b[0m\u001b[0mfit\u001b[0m\u001b[1;33m(\u001b[0m\u001b[1;33m)\u001b[0m\u001b[1;33m\u001b[0m\u001b[1;33m\u001b[0m\u001b[0m\n",
      "\u001b[1;32m~\\anaconda3\\lib\\site-packages\\statsmodels\\discrete\\discrete_model.py\u001b[0m in \u001b[0;36m__init__\u001b[1;34m(self, endog, exog, check_rank, **kwargs)\u001b[0m\n\u001b[0;32m    459\u001b[0m         \u001b[1;32mif\u001b[0m \u001b[1;32mnot\u001b[0m \u001b[0missubclass\u001b[0m\u001b[1;33m(\u001b[0m\u001b[0mself\u001b[0m\u001b[1;33m.\u001b[0m\u001b[0m__class__\u001b[0m\u001b[1;33m,\u001b[0m \u001b[0mMultinomialModel\u001b[0m\u001b[1;33m)\u001b[0m\u001b[1;33m:\u001b[0m\u001b[1;33m\u001b[0m\u001b[1;33m\u001b[0m\u001b[0m\n\u001b[0;32m    460\u001b[0m             \u001b[1;32mif\u001b[0m \u001b[1;32mnot\u001b[0m \u001b[0mnp\u001b[0m\u001b[1;33m.\u001b[0m\u001b[0mall\u001b[0m\u001b[1;33m(\u001b[0m\u001b[1;33m(\u001b[0m\u001b[0mself\u001b[0m\u001b[1;33m.\u001b[0m\u001b[0mendog\u001b[0m \u001b[1;33m>=\u001b[0m \u001b[1;36m0\u001b[0m\u001b[1;33m)\u001b[0m \u001b[1;33m&\u001b[0m \u001b[1;33m(\u001b[0m\u001b[0mself\u001b[0m\u001b[1;33m.\u001b[0m\u001b[0mendog\u001b[0m \u001b[1;33m<=\u001b[0m \u001b[1;36m1\u001b[0m\u001b[1;33m)\u001b[0m\u001b[1;33m)\u001b[0m\u001b[1;33m:\u001b[0m\u001b[1;33m\u001b[0m\u001b[1;33m\u001b[0m\u001b[0m\n\u001b[1;32m--> 461\u001b[1;33m                 \u001b[1;32mraise\u001b[0m \u001b[0mValueError\u001b[0m\u001b[1;33m(\u001b[0m\u001b[1;34m\"endog must be in the unit interval.\"\u001b[0m\u001b[1;33m)\u001b[0m\u001b[1;33m\u001b[0m\u001b[1;33m\u001b[0m\u001b[0m\n\u001b[0m\u001b[0;32m    462\u001b[0m \u001b[1;33m\u001b[0m\u001b[0m\n\u001b[0;32m    463\u001b[0m             if (not self._continuous_ok and\n",
      "\u001b[1;31mValueError\u001b[0m: endog must be in the unit interval."
     ]
    }
   ],
   "source": [
    "x = sm.add_constant(x1)\n",
    "reg_log = sm.Logit(y,x)\n",
    "results_log = reg_log.fit()\n"
   ]
  },
  {
   "cell_type": "markdown",
   "id": "e0fba2b1-6f32-4e0c-af3f-5453c536ebec",
   "metadata": {},
   "source": [
    "The result we got is optimization terminated successfully\n",
    "\n",
    "current function value : 0.137766 \n",
    "iterations 10"
   ]
  },
  {
   "cell_type": "markdown",
   "id": "ca68f05d-1e69-4ff7-a439-bce18445e1e1",
   "metadata": {},
   "source": [
    "this means that we managed to fit the regression'\n",
    "\n",
    "It took 10 itinerations, the current function value in some numbers.\n",
    "\n",
    "This refers to the idea that stasmodels as most modern library use the machine learning algorithm to fit the regression.\n",
    "\n",
    "The function value (0.137766) shows the value of the objective function at the 10th "
   ]
  },
  {
   "cell_type": "markdown",
   "id": "805d0390-8449-4932-93f0-74691f8e2cf7",
   "metadata": {},
   "source": [
    "Why do we need such information\n",
    "\n",
    "There is always a possibility that \n",
    "\n",
    "afte ra certain number of itirations the model will not learn.\n",
    "\n",
    "Therefore, it cannot optimize the optimization function\n",
    "\n",
    "\n",
    "In statsmodels the maximum nunber of itirations is 35 and after that it will stop trying."
   ]
  },
  {
   "cell_type": "markdown",
   "id": "2449a675-4b50-467f-aa43-25349e17ccd4",
   "metadata": {},
   "source": [
    "and you will get a message\n",
    "\n",
    "Warning: maximum number of iterations has been exceeded.\n",
    "\n",
    "current function: value: 0.569530\n",
    "iterations:35"
   ]
  },
  {
   "cell_type": "markdown",
   "id": "f4184111-1fab-4025-ac22-131e317d9871",
   "metadata": {},
   "source": [
    "We have created our first logistic summary."
   ]
  },
  {
   "cell_type": "markdown",
   "id": "c68f1ab5-f8ac-4cc5-aa61-ebe6a2c70ecc",
   "metadata": {},
   "source": [
    "#### An invaluable coding tip"
   ]
  },
  {
   "cell_type": "markdown",
   "id": "5783677b-c32d-4565-a005-b1fb1db0fcac",
   "metadata": {},
   "source": [
    "###### Logistic regression summary"
   ]
  },
  {
   "cell_type": "markdown",
   "id": "8729a831-5ede-4a9e-850d-f923340425dc",
   "metadata": {},
   "source": [
    "Summary"
   ]
  },
  {
   "cell_type": "code",
   "execution_count": 7,
   "id": "23b515f6-72cb-4f94-b33d-82aaf212cbea",
   "metadata": {},
   "outputs": [
    {
     "ename": "NameError",
     "evalue": "name 'results_log' is not defined",
     "output_type": "error",
     "traceback": [
      "\u001b[1;31m---------------------------------------------------------------------------\u001b[0m",
      "\u001b[1;31mNameError\u001b[0m                                 Traceback (most recent call last)",
      "\u001b[1;32m~\\AppData\\Local\\Temp/ipykernel_4988/2081177437.py\u001b[0m in \u001b[0;36m<module>\u001b[1;34m\u001b[0m\n\u001b[1;32m----> 1\u001b[1;33m \u001b[0mresults_log\u001b[0m\u001b[1;33m.\u001b[0m\u001b[0msummary\u001b[0m\u001b[1;33m(\u001b[0m\u001b[1;33m)\u001b[0m\u001b[1;33m\u001b[0m\u001b[1;33m\u001b[0m\u001b[0m\n\u001b[0m",
      "\u001b[1;31mNameError\u001b[0m: name 'results_log' is not defined"
     ]
    }
   ],
   "source": [
    "results_log.summary()"
   ]
  },
  {
   "cell_type": "markdown",
   "id": "cc7ae823-2d62-4d82-a91f-79117fb0ec4a",
   "metadata": {},
   "source": [
    "We got an error mesage \n",
    "\n",
    "AttributeError: module 'scipy.stats' has no attribute 'chisqprob'"
   ]
  },
  {
   "cell_type": "markdown",
   "id": "d2e98ba1-104a-4544-a9a9-59ae8e5d90d8",
   "metadata": {},
   "source": [
    "Yoy can find a discussion about this on github"
   ]
  },
  {
   "cell_type": "markdown",
   "id": "521381b2-4b67-4283-827b-04bfa8bf5617",
   "metadata": {},
   "source": [
    "It seems that statsmodels was using a function from scipy but that function was \n",
    "\n",
    "changes or moved from scipy which caused \n",
    "\n",
    "some methods in stasmodels to stop working including this one."
   ]
  },
  {
   "cell_type": "markdown",
   "id": "a9afb0d9-1bb8-426b-a2ff-6c96e020b193",
   "metadata": {},
   "source": [
    "The fix is so easy that one of the \n",
    "\n",
    "developers of scipy basically said they will not bother until the next release.\n",
    "\n"
   ]
  },
  {
   "cell_type": "markdown",
   "id": "aad412dc-5436-41bd-a359-ed68cb8325ab",
   "metadata": {},
   "source": [
    "What is the work aruond?"
   ]
  },
  {
   "cell_type": "markdown",
   "id": "73eefec6-87fc-4996-8c7a-5c5882805187",
   "metadata": {},
   "source": [
    "We are basically filling in thesame function that is no longer there."
   ]
  },
  {
   "cell_type": "markdown",
   "id": "5426181f-4dc3-4fc3-85ca-d01e3fcc608e",
   "metadata": {},
   "source": [
    "How do i know all these ?"
   ]
  },
  {
   "cell_type": "markdown",
   "id": "f641e013-0256-4cdd-b73c-b1627ebb7d63",
   "metadata": {},
   "source": [
    "Google is your friend , google the error message when you encounter such."
   ]
  },
  {
   "cell_type": "markdown",
   "id": "ac1dac6a-8917-4b29-92fa-40f1d4ec415a",
   "metadata": {},
   "source": [
    "There are two take aways from this lecture\n",
    "\n",
    "1. Open-source projects like python and\n",
    "\n",
    "its libraries are not immaculate.\n",
    "\n",
    "2. Workarounds are out there waiting for you to find them"
   ]
  },
  {
   "cell_type": "markdown",
   "id": "00301966-1e83-4f89-99b7-f114c19b166e",
   "metadata": {},
   "source": [
    "Things break and they also get fixed .\n",
    "\n",
    "The internet is a big enough space for both mistakes and solutions . "
   ]
  },
  {
   "cell_type": "markdown",
   "id": "a11ad43f-bf9a-4079-99ec-5d72a853d812",
   "metadata": {},
   "source": [
    "#### Understanding the tables"
   ]
  },
  {
   "cell_type": "markdown",
   "id": "0881cfd3-5bd9-40c9-a74f-5e8b72a0fc50",
   "metadata": {},
   "source": [
    "####  Regression summary"
   ]
  },
  {
   "cell_type": "markdown",
   "id": "efdcf40b-3d3b-43bb-9dfa-8a2003f1e0c7",
   "metadata": {},
   "source": [
    "We will be looking at new vocabulary and its meaning.\n",
    "\n",
    "1. MLE : Maximum likelihood estimation\n",
    "\n",
    "lets look at the likelihood function on which it is based.\n",
    "\n",
    "A likelihood function is a function which estimates how likely it is that the model \n",
    "\n",
    "at hand describes the real underlying relationship of the variables.\n",
    "\n",
    "In simple words, the bigger the likelihod function , the higher the probability that our model is correct!"
   ]
  },
  {
   "cell_type": "markdown",
   "id": "c5f673c6-dda2-40e1-8d19-515eb4a6ebee",
   "metadata": {},
   "source": [
    " MLE ties to maximize the likelihood function.\n",
    " \n",
    " This is why it is called maximum likelihood estimation."
   ]
  },
  {
   "cell_type": "markdown",
   "id": "c635b4af-5de8-4de7-a642-9bf8c9acb399",
   "metadata": {},
   "source": [
    "Knowing this with the fact that iterations are in play\n",
    "\n",
    "we should already have an idea on what happens behind the scene."
   ]
  },
  {
   "cell_type": "markdown",
   "id": "92635fab-20c7-411a-81d2-ee6a8193ead6",
   "metadata": {},
   "source": [
    "The computer is going through different \n",
    "\n",
    "values until it finds a model for which the likelihood is the highest."
   ]
  },
  {
   "cell_type": "markdown",
   "id": "7dbe7186-8e8b-447d-9371-91018fbf9e4a",
   "metadata": {},
   "source": [
    "When it can nolonger improve it will just stop the optimization."
   ]
  },
  {
   "cell_type": "markdown",
   "id": "a622aba1-16bb-4676-b53c-b9ae73d79b35",
   "metadata": {},
   "source": [
    "That is also how a typical machine learning process goes."
   ]
  },
  {
   "cell_type": "markdown",
   "id": "10ee986a-e155-4485-9bd9-27cfac7b49e8",
   "metadata": {},
   "source": [
    "##### Log likelihood:"
   ]
  },
  {
   "cell_type": "markdown",
   "id": "87e3d5f6-c4de-400b-bb82-adeeed27ceb0",
   "metadata": {},
   "source": [
    "Log likelihood is mostly used when performing MLE.\n",
    "\n",
    "Because of its convenience, the log likelihood is the most popular matrix\n",
    "\n",
    "The value of the log likelihood is almost but not always negative and the bigger it, the better."
   ]
  },
  {
   "cell_type": "markdown",
   "id": "5be3c74a-a13d-49de-9320-0bafea6c76d5",
   "metadata": {},
   "source": [
    "##### LL-Null (log likelihood-null)"
   ]
  },
  {
   "cell_type": "markdown",
   "id": "ab02ceca-e1c4-4b75-97ca-e8a05718e312",
   "metadata": {},
   "source": [
    "LL-Null (log likelihood-null):  \n",
    "\n",
    "The ll-null is the log likellhood of a model which has no independent variables.\n",
    "\n",
    "Actually the same y is the dependent \n",
    "\n",
    "variable of that model but the sole independent variable is an array of ones.\n",
    "\n",
    "This array is the constant we are adding with the add constant method"
   ]
  },
  {
   "cell_type": "markdown",
   "id": "8676becd-50ff-4cd2-b3b9-dce6bd30de42",
   "metadata": {},
   "source": [
    "y = β0 * 1"
   ]
  },
  {
   "cell_type": "markdown",
   "id": "3c327479-69fe-4eaa-8142-117d30cc13e6",
   "metadata": {},
   "source": [
    "EXAMPLE"
   ]
  },
  {
   "cell_type": "markdown",
   "id": "8fd88287-2aaf-45d0-bb93-231946d437c8",
   "metadata": {},
   "source": [
    "Here is an array of ones only,\n",
    "If we create a logistic regression based \n",
    "\n",
    "on it, it will have a log likelihood equal to the l0 null of the previous model."
   ]
  },
  {
   "cell_type": "code",
   "execution_count": null,
   "id": "46e8bccb-be7d-400a-bf39-ee5c9fc47d4e",
   "metadata": {},
   "outputs": [],
   "source": [
    "x0 = np.ones(168)\n",
    "reg_log - sm.logit(y,x0)\n",
    "results_log = ref_log.fit()\n",
    "results_log.summary()"
   ]
  },
  {
   "cell_type": "markdown",
   "id": "4d4b5275-2bb0-4571-8ac0-900dbf9820e0",
   "metadata": {},
   "source": [
    "Why is it lke this?"
   ]
  },
  {
   "cell_type": "markdown",
   "id": "aee1dd51-0be3-4e18-9e19-011660dfbfd4",
   "metadata": {},
   "source": [
    "you may want to create the log likelihood \n",
    "\n",
    "of your model with the LL-null to see if your model has any explanatory power"
   ]
  },
  {
   "cell_type": "markdown",
   "id": "bffbd209-7c05-4d13-a69a-120ab1e1a831",
   "metadata": {},
   "source": [
    "Lets check if our model is significant.\n",
    "\n",
    "We have ths f-test result for the linear regression"
   ]
  },
  {
   "cell_type": "markdown",
   "id": "855e8672-cc19-4b6e-bb21-1584e7e282af",
   "metadata": {},
   "source": [
    "F -statistc : 27.76\n",
    "\n",
    "prob(F-statistic): 6.58e-10"
   ]
  },
  {
   "cell_type": "markdown",
   "id": "2ee876f7-b56a-4701-ad6b-3dc004e84b30",
   "metadata": {},
   "source": [
    "There must be one for logistic regression as well."
   ]
  },
  {
   "cell_type": "markdown",
   "id": "64e6d81f-ab75-490e-9a5f-03ca2404f61f",
   "metadata": {},
   "source": [
    "It is called the log likelihood ratio test"
   ]
  },
  {
   "cell_type": "markdown",
   "id": "0a7c8f0a-2a98-46d0-b530-97312222129b",
   "metadata": {},
   "source": [
    "LLR(Log likelihood ratio):\n",
    "    \n",
    "It is based on the log likelihood of the model and the ll- null"
   ]
  },
  {
   "cell_type": "markdown",
   "id": "2196dde0-ee26-4c77-9248-207fe0da8a46",
   "metadata": {},
   "source": [
    "It measures if our model is statistically \n",
    "\n",
    "different from LL-null ,a.k.a a useless model.\n",
    "\n",
    "\n",
    "Without telling you the exact way to \n",
    "\n",
    "perform it, we have its p-value and thats all we need.\n",
    "\n",
    "As we can see it is very low around -0.000"
   ]
  },
  {
   "cell_type": "markdown",
   "id": "c0896a4c-7730-4a0b-9bc4-d0f0f1583186",
   "metadata": {},
   "source": [
    "Our model is significant"
   ]
  },
  {
   "cell_type": "markdown",
   "id": "63106bcf-b313-4d04-ba32-261bc7b71e13",
   "metadata": {},
   "source": [
    "##### Pseudo R-squared"
   ]
  },
  {
   "cell_type": "markdown",
   "id": "1b3b063c-8c22-4f1c-97f3-c59d35602f87",
   "metadata": {},
   "source": [
    "Pseudo R-squared:\n",
    "    \n",
    "Unlike the linear one,there is no such \n",
    "\n",
    "thing as the clearly defined R-squared for the logistic regression.\n",
    "\n",
    "There are several proposition which have \n",
    "\n",
    "similar meaning to the R-sqaured but non is close to the real deal."
   ]
  },
  {
   "cell_type": "markdown",
   "id": "72ad2ad0-d680-4415-b666-45b54afac00d",
   "metadata": {},
   "source": [
    "We also have \n",
    "\n",
    "AIC\n",
    "\n",
    "BIC\n",
    "\n",
    "McFadden's R-squared"
   ]
  },
  {
   "cell_type": "markdown",
   "id": "50997ed0-cc2c-4c57-a4d1-f60c92bb5d68",
   "metadata": {},
   "source": [
    "McFadden's R-squared:\n",
    "\n",
    "According to McFadden himself, 'A good Pseudo R-squared is somewhere between 0.2 and 0.4.\n",
    "\n",
    "Moreover, this measure is very useful for comparing variations of the same model.\n",
    "\n",
    "Different models will have completely different and incomparable pseudo R-quared '"
   ]
  },
  {
   "cell_type": "markdown",
   "id": "758840a9-82c2-4f0c-a9a8-26292e1efcd5",
   "metadata": {},
   "source": [
    "What we have left is a coef. table that we \n",
    "\n",
    "can read perfectly but unfotunately we cant understand it .\n",
    "\n",
    "This will be explained in the next lesson"
   ]
  },
  {
   "cell_type": "markdown",
   "id": "f621e1cf-94bd-42c5-82ce-c0b9af0be38b",
   "metadata": {
    "tags": []
   },
   "source": [
    "#### What do the odds actually mean"
   ]
  },
  {
   "cell_type": "markdown",
   "id": "61ff1d3b-5d2d-4c3d-8f38-790ece95cceb",
   "metadata": {},
   "source": [
    "We will be looking at the coefficient and its intepretation.\n",
    "\n",
    "We will be using a bit of mathematical \n",
    "\n",
    "approach but it will not be too hard to follow no matter your background."
   ]
  },
  {
   "cell_type": "markdown",
   "id": "2093eaa1-b8f3-49be-a7b5-b79f6778b276",
   "metadata": {},
   "source": [
    "Logit model"
   ]
  },
  {
   "cell_type": "markdown",
   "id": "c55400cd-00f9-4e2c-aad3-234cce66fe75",
   "metadata": {},
   "source": [
    "What was the logit model for the Sat -\n",
    "\n",
    "Admittance regression we created?"
   ]
  },
  {
   "cell_type": "markdown",
   "id": "462e6147-e77e-445d-8f0b-f4068a4d471d",
   "metadata": {},
   "source": [
    "log(π / 1- π)  = -69.91 + 0.042 * SAT"
   ]
  },
  {
   "cell_type": "markdown",
   "id": "b7342676-97ec-4292-b454-021dede5f767",
   "metadata": {},
   "source": [
    "π refers to the probability of an event occuring\n",
    "\n",
    "1- π  refers to the probability of the event NOT occuring.\n",
    "\n",
    "\n",
    "The fraction of this 2 is  avery popular concept,( odds) as we explained earlier."
   ]
  },
  {
   "cell_type": "markdown",
   "id": "8a574ba7-c868-4b1c-908f-f75904ff8626",
   "metadata": {},
   "source": [
    "From the regression summary, it seems that our model is log of the odds is \n",
    "\n",
    "-69.91 + 0.042 * SAT"
   ]
  },
  {
   "cell_type": "markdown",
   "id": "b1b640eb-9bbd-4a37-a1e1-0e92ebec05a7",
   "metadata": {},
   "source": [
    "Result intepretation:\n",
    "\n",
    "Lets take two SAT scores\n",
    "\n",
    "SAT 1 and SAT 2\n",
    "\n",
    "if we plug them in ,we will get 2 equations. \n",
    "\n",
    "one for each of them."
   ]
  },
  {
   "cell_type": "markdown",
   "id": "9f5f9e60-0452-4673-9688-5f1996744ebd",
   "metadata": {},
   "source": [
    "log(odds2) = -69.91 + 0.042 * SAT2\n",
    "\n",
    "log(odds1) = -69.91 + 0.042 * SAT1"
   ]
  },
  {
   "cell_type": "markdown",
   "id": "7d502cee-3395-413b-9947-9fa17358abf3",
   "metadata": {},
   "source": [
    "Lets create their difference"
   ]
  },
  {
   "cell_type": "markdown",
   "id": "b3424c08-749f-4e7a-9e75-d98db215e72b",
   "metadata": {},
   "source": [
    "log(odds2) = -69.91 + 0.042 * SAT2\n",
    "\n",
    "-\n",
    "log(odds1) = -69.91 + 0.042 * SAT1\n",
    "\n",
    "\n",
    "=\n",
    "log(odds2)- log(odds1)  = 0.042(SAT2- SAT1)"
   ]
  },
  {
   "cell_type": "markdown",
   "id": "23434ea6-3090-4a8f-8185-ecb74a7be01d",
   "metadata": {},
   "source": [
    "The difference between the logs is\n",
    "\n",
    "the coefficient of their argument."
   ]
  },
  {
   "cell_type": "markdown",
   "id": "60ae1089-9131-4174-8922-b614490dd104",
   "metadata": {},
   "source": [
    "Difference of 1 unit of SAT"
   ]
  },
  {
   "cell_type": "markdown",
   "id": "2eda0194-c61e-4f9c-99d5-fc0d4c4295ea",
   "metadata": {},
   "source": [
    "Log(odds2 / odds1) = 0.042 * 1"
   ]
  },
  {
   "cell_type": "markdown",
   "id": "76f96460-d16c-4334-a817-acc7a624a18a",
   "metadata": {},
   "source": [
    "To solve this equation, we must take the \n",
    "\n",
    "exponential of the two sides as the expontial of log of x = x by definition"
   ]
  },
  {
   "cell_type": "markdown",
   "id": "1da6bcdd-28e7-4cce-b944-cfa05899b846",
   "metadata": {},
   "source": [
    "elogx = x"
   ]
  },
  {
   "cell_type": "markdown",
   "id": "6133113d-12c8-4f65-8948-4c260f254e56",
   "metadata": {},
   "source": [
    "In this way we will simplify the expression further.\n",
    "\n",
    "In the end we get"
   ]
  },
  {
   "cell_type": "markdown",
   "id": "1270efc7-02ec-43cb-97ac-5a0c11a66622",
   "metadata": {},
   "source": [
    "eLog(odds2 / odds1) = e0.042 * 1"
   ]
  },
  {
   "cell_type": "markdown",
   "id": "a6f4684c-e707-4306-978e-100ed41c1efc",
   "metadata": {},
   "source": [
    "odds2 / odd1)=  1.042"
   ]
  },
  {
   "cell_type": "markdown",
   "id": "559c49d9-f257-4545-a73e-36ccce9337e9",
   "metadata": {},
   "source": [
    "This can be re-arranged as well"
   ]
  },
  {
   "cell_type": "markdown",
   "id": "a76dac1a-5397-4503-a81d-570c5cac8a86",
   "metadata": {},
   "source": [
    "odds2 = 1.042* odds1 \n",
    "\n",
    "ie odds 2 is 4.2% higher than  odds1"
   ]
  },
  {
   "cell_type": "markdown",
   "id": "69346e3b-82c3-4573-bed0-c5fd38e65195",
   "metadata": {},
   "source": [
    "or odds2 = 104.2% * odds1\n",
    "\n",
    "Ie odds2 is 104.2% of odds one"
   ]
  },
  {
   "cell_type": "markdown",
   "id": "585d140f-38c6-4dc2-9e8a-e5c4630a3b4d",
   "metadata": {},
   "source": [
    "When the SAT score increases by 1 , \n",
    "\n",
    "the odds of admittance increases by 4.2%."
   ]
  },
  {
   "cell_type": "markdown",
   "id": "30c16efc-a6b4-4a7e-89ee-f1e9138885d7",
   "metadata": {},
   "source": [
    "This formula we just arrived is \n",
    "\n",
    "irrespective of the SAT score.\n",
    "\n",
    "Log(odds2 / odd1) = 0.042 (SAT2 - SAT1)\n",
    "\n",
    "It only takes into account the size of the difference.\n",
    "\n",
    "Therefore, we can derive the general rule"
   ]
  },
  {
   "cell_type": "markdown",
   "id": "6dc424d4-7198-455c-bcc0-448fd537db6f",
   "metadata": {},
   "source": [
    "For a unit to change in a variable, the\n",
    "\n",
    "change in the odds equals the exponential\n",
    "\n",
    "of the coefficient.\n",
    "\n",
    "This provides us with a way of intepreting the coefficient of  a regression."
   ]
  },
  {
   "cell_type": "markdown",
   "id": "f3e4ae2b-5bc9-4e71-8513-d7f66c3be20a",
   "metadata": {},
   "source": [
    "△odds = e^bk"
   ]
  },
  {
   "cell_type": "markdown",
   "id": "2bd2a907-d28c-4a69-a477-83180cc7d1c6",
   "metadata": {},
   "source": [
    "What about the difference in SAT scores of 10 points"
   ]
  },
  {
   "cell_type": "markdown",
   "id": "d6828244-835a-46e1-b99f-9efd0bf084a9",
   "metadata": {},
   "source": [
    "Difference of 10 units of SAT"
   ]
  },
  {
   "cell_type": "markdown",
   "id": "72d9c7b7-5613-471a-a3bd-f0539fec33b2",
   "metadata": {},
   "source": [
    "We can use thesame approach to find that"
   ]
  },
  {
   "cell_type": "markdown",
   "id": "97717f40-8665-43c6-ba13-455f99c8f550",
   "metadata": {},
   "source": [
    "Log(odds2 / odd1) = 0.042 * 10 = \n",
    "\n",
    " 0.42"
   ]
  },
  {
   "cell_type": "markdown",
   "id": "9c1cb91c-6c63-4f87-9dfd-535bf87920dd",
   "metadata": {},
   "source": [
    "odds2 = 152% * odds1"
   ]
  },
  {
   "cell_type": "markdown",
   "id": "ae2a2e63-a18d-463e-bbd2-406bd68ce078",
   "metadata": {},
   "source": [
    "What about getting 100 units of SAT scores"
   ]
  },
  {
   "cell_type": "markdown",
   "id": "b7c74219-ff17-4777-bc7c-102589e84409",
   "metadata": {},
   "source": [
    "Difference of 100 units of SAT"
   ]
  },
  {
   "cell_type": "markdown",
   "id": "3c64e38e-b383-474f-9671-4b2b74fa68e3",
   "metadata": {},
   "source": [
    "odds2 = 6669% * odds"
   ]
  },
  {
   "cell_type": "markdown",
   "id": "e4613943-f8cf-4988-a5e4-4a96f8124059",
   "metadata": {},
   "source": [
    "These are the bais of coefficient intepretation.\n",
    "\n",
    "They are not supper intuitive but thats how it works."
   ]
  },
  {
   "cell_type": "markdown",
   "id": "9099e7a9-460a-4f04-855f-bbbfcc6088cb",
   "metadata": {},
   "source": [
    "#### Binary predictors in a logistic regression"
   ]
  },
  {
   "cell_type": "markdown",
   "id": "fa4dfdab-05a5-4726-af5e-414bc1fe01e1",
   "metadata": {},
   "source": [
    "The same way we created dummies for a \n",
    "\n",
    "linear regression, we can use binary \n",
    "\n",
    "predictors in a logistic regression."
   ]
  },
  {
   "cell_type": "markdown",
   "id": "8bbb924c-c5c6-47a0-b12e-afafcc4930e1",
   "metadata": {},
   "source": [
    "##### load the relevant libraries"
   ]
  },
  {
   "cell_type": "code",
   "execution_count": 1,
   "id": "80e08c7c-6e41-4ddc-86c9-8d1f362a74b1",
   "metadata": {},
   "outputs": [],
   "source": [
    "import numpy as np\n",
    "import pandas as pd\n",
    "import statsmodels.api as sm\n",
    "import matplotlib.pyplot as plt\n",
    "import seaborn as sns\n",
    "sns.set()\n",
    "\n",
    "\n",
    "#Apply a fix to the stasmodels libraries\n",
    "from scipy import stats\n",
    "stats.chisqprob = lambda chisq, df: stats.chi2.sf(chisq, df)"
   ]
  },
  {
   "cell_type": "code",
   "execution_count": 2,
   "id": "09933b97-84ad-422a-a24d-58a9916d51ed",
   "metadata": {},
   "outputs": [
    {
     "data": {
      "text/html": [
       "<div>\n",
       "<style scoped>\n",
       "    .dataframe tbody tr th:only-of-type {\n",
       "        vertical-align: middle;\n",
       "    }\n",
       "\n",
       "    .dataframe tbody tr th {\n",
       "        vertical-align: top;\n",
       "    }\n",
       "\n",
       "    .dataframe thead th {\n",
       "        text-align: right;\n",
       "    }\n",
       "</style>\n",
       "<table border=\"1\" class=\"dataframe\">\n",
       "  <thead>\n",
       "    <tr style=\"text-align: right;\">\n",
       "      <th></th>\n",
       "      <th>SAT</th>\n",
       "      <th>Admitted</th>\n",
       "      <th>Gender</th>\n",
       "    </tr>\n",
       "  </thead>\n",
       "  <tbody>\n",
       "    <tr>\n",
       "      <th>0</th>\n",
       "      <td>1363</td>\n",
       "      <td>No</td>\n",
       "      <td>Male</td>\n",
       "    </tr>\n",
       "    <tr>\n",
       "      <th>1</th>\n",
       "      <td>1792</td>\n",
       "      <td>Yes</td>\n",
       "      <td>Female</td>\n",
       "    </tr>\n",
       "    <tr>\n",
       "      <th>2</th>\n",
       "      <td>1954</td>\n",
       "      <td>Yes</td>\n",
       "      <td>Female</td>\n",
       "    </tr>\n",
       "    <tr>\n",
       "      <th>3</th>\n",
       "      <td>1653</td>\n",
       "      <td>No</td>\n",
       "      <td>Male</td>\n",
       "    </tr>\n",
       "    <tr>\n",
       "      <th>4</th>\n",
       "      <td>1593</td>\n",
       "      <td>No</td>\n",
       "      <td>Male</td>\n",
       "    </tr>\n",
       "    <tr>\n",
       "      <th>...</th>\n",
       "      <td>...</td>\n",
       "      <td>...</td>\n",
       "      <td>...</td>\n",
       "    </tr>\n",
       "    <tr>\n",
       "      <th>163</th>\n",
       "      <td>1722</td>\n",
       "      <td>Yes</td>\n",
       "      <td>Female</td>\n",
       "    </tr>\n",
       "    <tr>\n",
       "      <th>164</th>\n",
       "      <td>1750</td>\n",
       "      <td>Yes</td>\n",
       "      <td>Male</td>\n",
       "    </tr>\n",
       "    <tr>\n",
       "      <th>165</th>\n",
       "      <td>1555</td>\n",
       "      <td>No</td>\n",
       "      <td>Male</td>\n",
       "    </tr>\n",
       "    <tr>\n",
       "      <th>166</th>\n",
       "      <td>1524</td>\n",
       "      <td>No</td>\n",
       "      <td>Male</td>\n",
       "    </tr>\n",
       "    <tr>\n",
       "      <th>167</th>\n",
       "      <td>1461</td>\n",
       "      <td>No</td>\n",
       "      <td>Male</td>\n",
       "    </tr>\n",
       "  </tbody>\n",
       "</table>\n",
       "<p>168 rows × 3 columns</p>\n",
       "</div>"
      ],
      "text/plain": [
       "      SAT Admitted  Gender\n",
       "0    1363       No    Male\n",
       "1    1792      Yes  Female\n",
       "2    1954      Yes  Female\n",
       "3    1653       No    Male\n",
       "4    1593       No    Male\n",
       "..    ...      ...     ...\n",
       "163  1722      Yes  Female\n",
       "164  1750      Yes    Male\n",
       "165  1555       No    Male\n",
       "166  1524       No    Male\n",
       "167  1461       No    Male\n",
       "\n",
       "[168 rows x 3 columns]"
      ]
     },
     "execution_count": 2,
     "metadata": {},
     "output_type": "execute_result"
    }
   ],
   "source": [
    "raw_data = pd.read_csv('C:\\\\Users\\\\user\\\\Desktop\\\\python files - Copy\\\\2.02. Binary predictors.csv')\n",
    "raw_data"
   ]
  },
  {
   "cell_type": "code",
   "execution_count": null,
   "id": "7a53cfe0-15f7-4f4a-a30b-d39120372f72",
   "metadata": {},
   "outputs": [],
   "source": [
    "There is a new piece of information' Gender'\n",
    "\n",
    "lets map the variable in a known way."
   ]
  },
  {
   "cell_type": "code",
   "execution_count": 3,
   "id": "13089068-a8a4-4bbb-b803-c981bbae8e1e",
   "metadata": {},
   "outputs": [
    {
     "data": {
      "text/html": [
       "<div>\n",
       "<style scoped>\n",
       "    .dataframe tbody tr th:only-of-type {\n",
       "        vertical-align: middle;\n",
       "    }\n",
       "\n",
       "    .dataframe tbody tr th {\n",
       "        vertical-align: top;\n",
       "    }\n",
       "\n",
       "    .dataframe thead th {\n",
       "        text-align: right;\n",
       "    }\n",
       "</style>\n",
       "<table border=\"1\" class=\"dataframe\">\n",
       "  <thead>\n",
       "    <tr style=\"text-align: right;\">\n",
       "      <th></th>\n",
       "      <th>SAT</th>\n",
       "      <th>Admitted</th>\n",
       "      <th>Gender</th>\n",
       "    </tr>\n",
       "  </thead>\n",
       "  <tbody>\n",
       "    <tr>\n",
       "      <th>0</th>\n",
       "      <td>1363</td>\n",
       "      <td>0.0</td>\n",
       "      <td>0</td>\n",
       "    </tr>\n",
       "    <tr>\n",
       "      <th>1</th>\n",
       "      <td>1792</td>\n",
       "      <td>NaN</td>\n",
       "      <td>1</td>\n",
       "    </tr>\n",
       "    <tr>\n",
       "      <th>2</th>\n",
       "      <td>1954</td>\n",
       "      <td>NaN</td>\n",
       "      <td>1</td>\n",
       "    </tr>\n",
       "    <tr>\n",
       "      <th>3</th>\n",
       "      <td>1653</td>\n",
       "      <td>0.0</td>\n",
       "      <td>0</td>\n",
       "    </tr>\n",
       "    <tr>\n",
       "      <th>4</th>\n",
       "      <td>1593</td>\n",
       "      <td>0.0</td>\n",
       "      <td>0</td>\n",
       "    </tr>\n",
       "    <tr>\n",
       "      <th>...</th>\n",
       "      <td>...</td>\n",
       "      <td>...</td>\n",
       "      <td>...</td>\n",
       "    </tr>\n",
       "    <tr>\n",
       "      <th>163</th>\n",
       "      <td>1722</td>\n",
       "      <td>NaN</td>\n",
       "      <td>1</td>\n",
       "    </tr>\n",
       "    <tr>\n",
       "      <th>164</th>\n",
       "      <td>1750</td>\n",
       "      <td>NaN</td>\n",
       "      <td>0</td>\n",
       "    </tr>\n",
       "    <tr>\n",
       "      <th>165</th>\n",
       "      <td>1555</td>\n",
       "      <td>0.0</td>\n",
       "      <td>0</td>\n",
       "    </tr>\n",
       "    <tr>\n",
       "      <th>166</th>\n",
       "      <td>1524</td>\n",
       "      <td>0.0</td>\n",
       "      <td>0</td>\n",
       "    </tr>\n",
       "    <tr>\n",
       "      <th>167</th>\n",
       "      <td>1461</td>\n",
       "      <td>0.0</td>\n",
       "      <td>0</td>\n",
       "    </tr>\n",
       "  </tbody>\n",
       "</table>\n",
       "<p>168 rows × 3 columns</p>\n",
       "</div>"
      ],
      "text/plain": [
       "      SAT  Admitted  Gender\n",
       "0    1363       0.0       0\n",
       "1    1792       NaN       1\n",
       "2    1954       NaN       1\n",
       "3    1653       0.0       0\n",
       "4    1593       0.0       0\n",
       "..    ...       ...     ...\n",
       "163  1722       NaN       1\n",
       "164  1750       NaN       0\n",
       "165  1555       0.0       0\n",
       "166  1524       0.0       0\n",
       "167  1461       0.0       0\n",
       "\n",
       "[168 rows x 3 columns]"
      ]
     },
     "execution_count": 3,
     "metadata": {},
     "output_type": "execute_result"
    }
   ],
   "source": [
    "data = raw_data.copy()\n",
    "data['Admitted'] = data['Admitted'].map({'yes' : 1, 'No' :0})\n",
    "data['Gender'] = data['Gender'].map({'Female' : 1, 'Male' : 0})\n",
    "data"
   ]
  },
  {
   "cell_type": "markdown",
   "id": "5299aa62-ef12-4451-ba42-9c4cf4c42adb",
   "metadata": {},
   "source": [
    "Lets create the regression and et the summary. Note that male is the base line"
   ]
  },
  {
   "cell_type": "markdown",
   "id": "15579418-06cd-40b1-bc13-8e2f8c272cd7",
   "metadata": {},
   "source": [
    "##### Declare the dependent and the independent variables"
   ]
  },
  {
   "cell_type": "code",
   "execution_count": 4,
   "id": "1a59184e-ab1b-4f0a-8cbc-40cf612eff34",
   "metadata": {},
   "outputs": [],
   "source": [
    "y = data['Admitted']\n",
    "x1 = data['Gender']"
   ]
  },
  {
   "cell_type": "markdown",
   "id": "02e8401c-f3c2-42b3-b7c8-6a12d5768909",
   "metadata": {},
   "source": [
    "##### Regression "
   ]
  },
  {
   "cell_type": "code",
   "execution_count": 6,
   "id": "c915e2c4-8687-4f76-8238-dacf67eb965a",
   "metadata": {},
   "outputs": [
    {
     "ename": "ValueError",
     "evalue": "endog must be in the unit interval.",
     "output_type": "error",
     "traceback": [
      "\u001b[1;31m---------------------------------------------------------------------------\u001b[0m",
      "\u001b[1;31mValueError\u001b[0m                                Traceback (most recent call last)",
      "\u001b[1;32m~\\AppData\\Local\\Temp/ipykernel_8976/1857930493.py\u001b[0m in \u001b[0;36m<module>\u001b[1;34m\u001b[0m\n\u001b[0;32m      1\u001b[0m \u001b[0mx\u001b[0m \u001b[1;33m=\u001b[0m \u001b[0msm\u001b[0m\u001b[1;33m.\u001b[0m\u001b[0madd_constant\u001b[0m\u001b[1;33m(\u001b[0m\u001b[0mx1\u001b[0m\u001b[1;33m)\u001b[0m\u001b[1;33m\u001b[0m\u001b[1;33m\u001b[0m\u001b[0m\n\u001b[1;32m----> 2\u001b[1;33m \u001b[0mreg_log\u001b[0m \u001b[1;33m=\u001b[0m \u001b[0msm\u001b[0m\u001b[1;33m.\u001b[0m\u001b[0mLogit\u001b[0m\u001b[1;33m(\u001b[0m\u001b[0my\u001b[0m\u001b[1;33m,\u001b[0m\u001b[0mx\u001b[0m\u001b[1;33m)\u001b[0m\u001b[1;33m\u001b[0m\u001b[1;33m\u001b[0m\u001b[0m\n\u001b[0m\u001b[0;32m      3\u001b[0m \u001b[0mresults_log\u001b[0m \u001b[1;33m=\u001b[0m \u001b[0mreg_log\u001b[0m\u001b[1;33m.\u001b[0m\u001b[0mfit\u001b[0m\u001b[1;33m(\u001b[0m\u001b[1;33m)\u001b[0m\u001b[1;33m\u001b[0m\u001b[1;33m\u001b[0m\u001b[0m\n\u001b[0;32m      4\u001b[0m \u001b[0mresults_log\u001b[0m\u001b[1;33m.\u001b[0m\u001b[0msummary\u001b[0m\u001b[1;33m(\u001b[0m\u001b[1;33m)\u001b[0m\u001b[1;33m\u001b[0m\u001b[1;33m\u001b[0m\u001b[0m\n",
      "\u001b[1;32m~\\anaconda3\\lib\\site-packages\\statsmodels\\discrete\\discrete_model.py\u001b[0m in \u001b[0;36m__init__\u001b[1;34m(self, endog, exog, check_rank, **kwargs)\u001b[0m\n\u001b[0;32m    459\u001b[0m         \u001b[1;32mif\u001b[0m \u001b[1;32mnot\u001b[0m \u001b[0missubclass\u001b[0m\u001b[1;33m(\u001b[0m\u001b[0mself\u001b[0m\u001b[1;33m.\u001b[0m\u001b[0m__class__\u001b[0m\u001b[1;33m,\u001b[0m \u001b[0mMultinomialModel\u001b[0m\u001b[1;33m)\u001b[0m\u001b[1;33m:\u001b[0m\u001b[1;33m\u001b[0m\u001b[1;33m\u001b[0m\u001b[0m\n\u001b[0;32m    460\u001b[0m             \u001b[1;32mif\u001b[0m \u001b[1;32mnot\u001b[0m \u001b[0mnp\u001b[0m\u001b[1;33m.\u001b[0m\u001b[0mall\u001b[0m\u001b[1;33m(\u001b[0m\u001b[1;33m(\u001b[0m\u001b[0mself\u001b[0m\u001b[1;33m.\u001b[0m\u001b[0mendog\u001b[0m \u001b[1;33m>=\u001b[0m \u001b[1;36m0\u001b[0m\u001b[1;33m)\u001b[0m \u001b[1;33m&\u001b[0m \u001b[1;33m(\u001b[0m\u001b[0mself\u001b[0m\u001b[1;33m.\u001b[0m\u001b[0mendog\u001b[0m \u001b[1;33m<=\u001b[0m \u001b[1;36m1\u001b[0m\u001b[1;33m)\u001b[0m\u001b[1;33m)\u001b[0m\u001b[1;33m:\u001b[0m\u001b[1;33m\u001b[0m\u001b[1;33m\u001b[0m\u001b[0m\n\u001b[1;32m--> 461\u001b[1;33m                 \u001b[1;32mraise\u001b[0m \u001b[0mValueError\u001b[0m\u001b[1;33m(\u001b[0m\u001b[1;34m\"endog must be in the unit interval.\"\u001b[0m\u001b[1;33m)\u001b[0m\u001b[1;33m\u001b[0m\u001b[1;33m\u001b[0m\u001b[0m\n\u001b[0m\u001b[0;32m    462\u001b[0m \u001b[1;33m\u001b[0m\u001b[0m\n\u001b[0;32m    463\u001b[0m             if (not self._continuous_ok and\n",
      "\u001b[1;31mValueError\u001b[0m: endog must be in the unit interval."
     ]
    }
   ],
   "source": [
    "x = sm.add_constant(x1)\n",
    "reg_log = sm.Logit(y,x)\n",
    "results_log = reg_log.fit()\n",
    "results_log.summary()"
   ]
  },
  {
   "cell_type": "markdown",
   "id": "79431365-82f5-48c3-b4b2-07ca1672fa77",
   "metadata": {},
   "source": [
    "##### Result intepretation"
   ]
  },
  {
   "cell_type": "markdown",
   "id": "13ae7530-85a0-4ffd-bff4-105afed2773d",
   "metadata": {},
   "source": [
    "Ll.Rp.value: 06.283e-10  is significant and the\n",
    "\n",
    "Gender  0.000 is also significant. \n",
    "\n",
    "The only thing left is to inteprete it. \n",
    "\n",
    "We can use same idea ad the last time."
   ]
  },
  {
   "cell_type": "markdown",
   "id": "9d4d7e58-f4a5-46aa-be5d-82d79b59726a",
   "metadata": {},
   "source": [
    "The model is \n",
    "\n",
    "log(odds) = -0.64 + 2.08 * Gender\n",
    "\n",
    "log(odds2) = -0.64 + 2.08 * Gender2\n",
    "\n",
    "log(odds2) = -0.64 + 2.08 * Gender1"
   ]
  },
  {
   "cell_type": "markdown",
   "id": "4d5458f6-0b56-4c31-86d7-19c6b88adee3",
   "metadata": {},
   "source": [
    "Then find the difference"
   ]
  },
  {
   "cell_type": "markdown",
   "id": "5e27a153-7629-431b-bc41-1d08249a22f5",
   "metadata": {},
   "source": [
    "log(odds2) = -0.64 + 2.08 * Gender2\n",
    "\n",
    "-\n",
    "log(odds2) = -0.64 + 2.08 * Gender1"
   ]
  },
  {
   "cell_type": "markdown",
   "id": "d3bc08d5-ea34-457e-91da-461e5b425d60",
   "metadata": {},
   "source": [
    "log(odds2 / odds1)   =  2.08 * (Gender2 - Gender1)"
   ]
  },
  {
   "cell_type": "markdown",
   "id": "c9289b74-dc05-462b-a855-d562dd8a33af",
   "metadata": {},
   "source": [
    "THere is only two possible values : 1 0\n",
    "\n",
    "Hence, there is only a unit change there.\n",
    "\n",
    "Hence, let Gender 2 be equal to 1 and gender 1 equal to 0."
   ]
  },
  {
   "cell_type": "markdown",
   "id": "07b0a69d-0a60-45da-9043-08676105a7d8",
   "metadata": {},
   "source": [
    "But by design 1 is female and 0 is male,\n",
    "\n",
    "so odds 2 is the odds of  a female to get \n",
    "\n",
    "Admitted and odds 1 is the odds of  a male to get admitted"
   ]
  },
  {
   "cell_type": "markdown",
   "id": "00cedce6-193d-4f73-905d-5f1e3cfde54b",
   "metadata": {},
   "source": [
    "log(odds2  females/ odds1 male)   =  2.08 * (1 - 0)"
   ]
  },
  {
   "cell_type": "markdown",
   "id": "ab866903-6fdb-438a-83ec-7c007f8b364a",
   "metadata": {},
   "source": [
    "Therefore the log of the odds of a female to get\n",
    "\n",
    "admitted divided by tje log of the odds of a man to get admitted equals 2.08"
   ]
  },
  {
   "cell_type": "markdown",
   "id": "4475aa92-6284-4bca-8ba4-3a65f0e34176",
   "metadata": {},
   "source": [
    "log(odds2  females/ odds1 male)   =  2.08"
   ]
  },
  {
   "cell_type": "markdown",
   "id": "b6ee5e0c-4f7d-4957-863d-87197b68af8e",
   "metadata": {},
   "source": [
    "If we take the exponential of both sides, we get\n",
    "\n",
    "that the odds of a female tp get addmitted are 7.99 times that of  a male "
   ]
  },
  {
   "cell_type": "code",
   "execution_count": null,
   "id": "b883a501-ff17-4de3-ae74-16ad280ff9b2",
   "metadata": {},
   "outputs": [],
   "source": [
    "odds female =7.99 * odds male"
   ]
  },
  {
   "cell_type": "markdown",
   "id": "6be1a404-f57d-4516-92fd-d82e8b23efc0",
   "metadata": {},
   "source": [
    "The above is the intepretation of binary predictors coefficient.\n",
    "\n",
    "It is like that of continuos predictors but actually impler."
   ]
  },
  {
   "cell_type": "markdown",
   "id": "44fead94-0d36-437c-bd95-5ce313adddc6",
   "metadata": {},
   "source": [
    "We know there is a strong relationship between SAT scores and Admittance.\n",
    "\n",
    "lets create a new regression that will include both predictors"
   ]
  },
  {
   "cell_type": "code",
   "execution_count": 8,
   "id": "af84ee8d-e9b3-4813-af71-b893fed57079",
   "metadata": {},
   "outputs": [
    {
     "ename": "KeyError",
     "evalue": "('SAT', 'Gender')",
     "output_type": "error",
     "traceback": [
      "\u001b[1;31m---------------------------------------------------------------------------\u001b[0m",
      "\u001b[1;31mKeyError\u001b[0m                                  Traceback (most recent call last)",
      "\u001b[1;32m~\\anaconda3\\lib\\site-packages\\pandas\\core\\indexes\\base.py\u001b[0m in \u001b[0;36mget_loc\u001b[1;34m(self, key, method, tolerance)\u001b[0m\n\u001b[0;32m   3360\u001b[0m             \u001b[1;32mtry\u001b[0m\u001b[1;33m:\u001b[0m\u001b[1;33m\u001b[0m\u001b[1;33m\u001b[0m\u001b[0m\n\u001b[1;32m-> 3361\u001b[1;33m                 \u001b[1;32mreturn\u001b[0m \u001b[0mself\u001b[0m\u001b[1;33m.\u001b[0m\u001b[0m_engine\u001b[0m\u001b[1;33m.\u001b[0m\u001b[0mget_loc\u001b[0m\u001b[1;33m(\u001b[0m\u001b[0mcasted_key\u001b[0m\u001b[1;33m)\u001b[0m\u001b[1;33m\u001b[0m\u001b[1;33m\u001b[0m\u001b[0m\n\u001b[0m\u001b[0;32m   3362\u001b[0m             \u001b[1;32mexcept\u001b[0m \u001b[0mKeyError\u001b[0m \u001b[1;32mas\u001b[0m \u001b[0merr\u001b[0m\u001b[1;33m:\u001b[0m\u001b[1;33m\u001b[0m\u001b[1;33m\u001b[0m\u001b[0m\n",
      "\u001b[1;32m~\\anaconda3\\lib\\site-packages\\pandas\\_libs\\index.pyx\u001b[0m in \u001b[0;36mpandas._libs.index.IndexEngine.get_loc\u001b[1;34m()\u001b[0m\n",
      "\u001b[1;32m~\\anaconda3\\lib\\site-packages\\pandas\\_libs\\index.pyx\u001b[0m in \u001b[0;36mpandas._libs.index.IndexEngine.get_loc\u001b[1;34m()\u001b[0m\n",
      "\u001b[1;32mpandas\\_libs\\hashtable_class_helper.pxi\u001b[0m in \u001b[0;36mpandas._libs.hashtable.PyObjectHashTable.get_item\u001b[1;34m()\u001b[0m\n",
      "\u001b[1;32mpandas\\_libs\\hashtable_class_helper.pxi\u001b[0m in \u001b[0;36mpandas._libs.hashtable.PyObjectHashTable.get_item\u001b[1;34m()\u001b[0m\n",
      "\u001b[1;31mKeyError\u001b[0m: ('SAT', 'Gender')",
      "\nThe above exception was the direct cause of the following exception:\n",
      "\u001b[1;31mKeyError\u001b[0m                                  Traceback (most recent call last)",
      "\u001b[1;32m~\\AppData\\Local\\Temp/ipykernel_7192/3965127546.py\u001b[0m in \u001b[0;36m<module>\u001b[1;34m\u001b[0m\n\u001b[0;32m      1\u001b[0m \u001b[0my\u001b[0m \u001b[1;33m=\u001b[0m \u001b[0mdata\u001b[0m\u001b[1;33m[\u001b[0m\u001b[1;34m'Admitted'\u001b[0m\u001b[1;33m]\u001b[0m\u001b[1;33m\u001b[0m\u001b[1;33m\u001b[0m\u001b[0m\n\u001b[1;32m----> 2\u001b[1;33m \u001b[0mx1\u001b[0m \u001b[1;33m=\u001b[0m \u001b[0mdata\u001b[0m\u001b[1;33m[\u001b[0m\u001b[1;34m'SAT'\u001b[0m\u001b[1;33m,\u001b[0m\u001b[1;34m'Gender'\u001b[0m\u001b[1;33m]\u001b[0m\u001b[1;33m\u001b[0m\u001b[1;33m\u001b[0m\u001b[0m\n\u001b[0m",
      "\u001b[1;32m~\\anaconda3\\lib\\site-packages\\pandas\\core\\frame.py\u001b[0m in \u001b[0;36m__getitem__\u001b[1;34m(self, key)\u001b[0m\n\u001b[0;32m   3456\u001b[0m             \u001b[1;32mif\u001b[0m \u001b[0mself\u001b[0m\u001b[1;33m.\u001b[0m\u001b[0mcolumns\u001b[0m\u001b[1;33m.\u001b[0m\u001b[0mnlevels\u001b[0m \u001b[1;33m>\u001b[0m \u001b[1;36m1\u001b[0m\u001b[1;33m:\u001b[0m\u001b[1;33m\u001b[0m\u001b[1;33m\u001b[0m\u001b[0m\n\u001b[0;32m   3457\u001b[0m                 \u001b[1;32mreturn\u001b[0m \u001b[0mself\u001b[0m\u001b[1;33m.\u001b[0m\u001b[0m_getitem_multilevel\u001b[0m\u001b[1;33m(\u001b[0m\u001b[0mkey\u001b[0m\u001b[1;33m)\u001b[0m\u001b[1;33m\u001b[0m\u001b[1;33m\u001b[0m\u001b[0m\n\u001b[1;32m-> 3458\u001b[1;33m             \u001b[0mindexer\u001b[0m \u001b[1;33m=\u001b[0m \u001b[0mself\u001b[0m\u001b[1;33m.\u001b[0m\u001b[0mcolumns\u001b[0m\u001b[1;33m.\u001b[0m\u001b[0mget_loc\u001b[0m\u001b[1;33m(\u001b[0m\u001b[0mkey\u001b[0m\u001b[1;33m)\u001b[0m\u001b[1;33m\u001b[0m\u001b[1;33m\u001b[0m\u001b[0m\n\u001b[0m\u001b[0;32m   3459\u001b[0m             \u001b[1;32mif\u001b[0m \u001b[0mis_integer\u001b[0m\u001b[1;33m(\u001b[0m\u001b[0mindexer\u001b[0m\u001b[1;33m)\u001b[0m\u001b[1;33m:\u001b[0m\u001b[1;33m\u001b[0m\u001b[1;33m\u001b[0m\u001b[0m\n\u001b[0;32m   3460\u001b[0m                 \u001b[0mindexer\u001b[0m \u001b[1;33m=\u001b[0m \u001b[1;33m[\u001b[0m\u001b[0mindexer\u001b[0m\u001b[1;33m]\u001b[0m\u001b[1;33m\u001b[0m\u001b[1;33m\u001b[0m\u001b[0m\n",
      "\u001b[1;32m~\\anaconda3\\lib\\site-packages\\pandas\\core\\indexes\\base.py\u001b[0m in \u001b[0;36mget_loc\u001b[1;34m(self, key, method, tolerance)\u001b[0m\n\u001b[0;32m   3361\u001b[0m                 \u001b[1;32mreturn\u001b[0m \u001b[0mself\u001b[0m\u001b[1;33m.\u001b[0m\u001b[0m_engine\u001b[0m\u001b[1;33m.\u001b[0m\u001b[0mget_loc\u001b[0m\u001b[1;33m(\u001b[0m\u001b[0mcasted_key\u001b[0m\u001b[1;33m)\u001b[0m\u001b[1;33m\u001b[0m\u001b[1;33m\u001b[0m\u001b[0m\n\u001b[0;32m   3362\u001b[0m             \u001b[1;32mexcept\u001b[0m \u001b[0mKeyError\u001b[0m \u001b[1;32mas\u001b[0m \u001b[0merr\u001b[0m\u001b[1;33m:\u001b[0m\u001b[1;33m\u001b[0m\u001b[1;33m\u001b[0m\u001b[0m\n\u001b[1;32m-> 3363\u001b[1;33m                 \u001b[1;32mraise\u001b[0m \u001b[0mKeyError\u001b[0m\u001b[1;33m(\u001b[0m\u001b[0mkey\u001b[0m\u001b[1;33m)\u001b[0m \u001b[1;32mfrom\u001b[0m \u001b[0merr\u001b[0m\u001b[1;33m\u001b[0m\u001b[1;33m\u001b[0m\u001b[0m\n\u001b[0m\u001b[0;32m   3364\u001b[0m \u001b[1;33m\u001b[0m\u001b[0m\n\u001b[0;32m   3365\u001b[0m         \u001b[1;32mif\u001b[0m \u001b[0mis_scalar\u001b[0m\u001b[1;33m(\u001b[0m\u001b[0mkey\u001b[0m\u001b[1;33m)\u001b[0m \u001b[1;32mand\u001b[0m \u001b[0misna\u001b[0m\u001b[1;33m(\u001b[0m\u001b[0mkey\u001b[0m\u001b[1;33m)\u001b[0m \u001b[1;32mand\u001b[0m \u001b[1;32mnot\u001b[0m \u001b[0mself\u001b[0m\u001b[1;33m.\u001b[0m\u001b[0mhasnans\u001b[0m\u001b[1;33m:\u001b[0m\u001b[1;33m\u001b[0m\u001b[1;33m\u001b[0m\u001b[0m\n",
      "\u001b[1;31mKeyError\u001b[0m: ('SAT', 'Gender')"
     ]
    }
   ],
   "source": [
    "y = data['Admitted']\n",
    "x1 = data['SAT','Gender']"
   ]
  },
  {
   "cell_type": "code",
   "execution_count": 9,
   "id": "09a582f6-138d-4b40-9e12-b4e82013f2bf",
   "metadata": {},
   "outputs": [
    {
     "ename": "NameError",
     "evalue": "name 'x1' is not defined",
     "output_type": "error",
     "traceback": [
      "\u001b[1;31m---------------------------------------------------------------------------\u001b[0m",
      "\u001b[1;31mNameError\u001b[0m                                 Traceback (most recent call last)",
      "\u001b[1;32m~\\AppData\\Local\\Temp/ipykernel_7192/185002701.py\u001b[0m in \u001b[0;36m<module>\u001b[1;34m\u001b[0m\n\u001b[1;32m----> 1\u001b[1;33m \u001b[0mx\u001b[0m \u001b[1;33m=\u001b[0m \u001b[0msm\u001b[0m\u001b[1;33m.\u001b[0m\u001b[0madd_constant\u001b[0m\u001b[1;33m(\u001b[0m\u001b[0mx1\u001b[0m\u001b[1;33m)\u001b[0m\u001b[1;33m\u001b[0m\u001b[1;33m\u001b[0m\u001b[0m\n\u001b[0m\u001b[0;32m      2\u001b[0m \u001b[0mreg_log\u001b[0m \u001b[1;33m=\u001b[0m \u001b[0msm\u001b[0m\u001b[1;33m.\u001b[0m\u001b[0mlogit\u001b[0m\u001b[1;33m(\u001b[0m\u001b[0my\u001b[0m\u001b[1;33m,\u001b[0m\u001b[0mx\u001b[0m\u001b[1;33m)\u001b[0m\u001b[1;33m\u001b[0m\u001b[1;33m\u001b[0m\u001b[0m\n\u001b[0;32m      3\u001b[0m \u001b[0mresults_log\u001b[0m \u001b[1;33m=\u001b[0m \u001b[0mreg_log\u001b[0m\u001b[1;33m.\u001b[0m\u001b[0mfit\u001b[0m\u001b[1;33m(\u001b[0m\u001b[1;33m)\u001b[0m\u001b[1;33m\u001b[0m\u001b[1;33m\u001b[0m\u001b[0m\n\u001b[0;32m      4\u001b[0m \u001b[0mresults_log\u001b[0m\u001b[1;33m.\u001b[0m\u001b[0msummary\u001b[0m\u001b[1;33m(\u001b[0m\u001b[1;33m)\u001b[0m\u001b[1;33m\u001b[0m\u001b[1;33m\u001b[0m\u001b[0m\n",
      "\u001b[1;31mNameError\u001b[0m: name 'x1' is not defined"
     ]
    }
   ],
   "source": [
    "x = sm.add_constant(x1)\n",
    "reg_log = sm.logit(y,x)\n",
    "results_log = reg_log.fit()\n",
    "results_log.summary()"
   ]
  },
  {
   "cell_type": "markdown",
   "id": "0e8ad613-a9ca-4d85-99a1-07c0b3a0fa5f",
   "metadata": {},
   "source": [
    "What we get is a regression which has a much \n",
    "\n",
    "higher log lilelihood than we had earlier.\n",
    "\n",
    "log-likelihood: -20.180\n",
    "\n",
    "Which means it isa better one.\n",
    "\n",
    "Previous likelihood with only Gender was \n",
    "\n",
    "'log-likelihood: -96.140\n",
    "\n",
    "This makes sense because SAT score was an \n",
    "\n",
    "outstanding predictor."
   ]
  },
  {
   "cell_type": "markdown",
   "id": "043ad189-ad26-4477-8924-5eede69b6ff5",
   "metadata": {},
   "source": [
    "Gender variable : we can see that the gender variable is significan  0.022 but we no longer have those 3 zeros we had earlier.\n",
    "\n",
    "The new coefficient of gender is 1.9449\n",
    "\n",
    "The exponential of 1.94 is around 7\n",
    "\n",
    "\n",
    "The intepretation is as follows:\n",
    "\n",
    "Given the same SAT score, a female is 7 times more likely to be admitted than a male"
   ]
  },
  {
   "cell_type": "code",
   "execution_count": null,
   "id": "84a370dd-36e3-4dd5-8960-5ef1e2eb530c",
   "metadata": {},
   "outputs": [],
   "source": [
    "np.exp(1.9449)"
   ]
  },
  {
   "cell_type": "markdown",
   "id": "c755525c-387d-46b7-879e-3ff4adba0e7f",
   "metadata": {},
   "source": [
    "We must always think about the information revealed to us through thees matrix.\n",
    "\n",
    "It seems that to to universities , ti is much easier for females to enter.\n",
    "\n",
    "In th real world this is an incredibly common situation."
   ]
  },
  {
   "cell_type": "markdown",
   "id": "afc87cb2-90b8-48d1-a7b8-5329609930c3",
   "metadata": {},
   "source": [
    "Universities place quotas on students as they are pursuing equality.\n",
    "\n",
    "However, professions on commmunications are predominantly female.\n",
    "\n",
    "While STEM is predominantly male.\n",
    "\n",
    "Therefore, if a male appyly for communications, its odds inventory may be 10 times higher than that of  a female.\n",
    "\n",
    "This means is much easier for males to enter .\n",
    "\n",
    "and vice versa, if a female applies for STEM, it will be much easier to enter than a male of the same SAT score"
   ]
  },
  {
   "cell_type": "markdown",
   "id": "bd6ff595-986e-4d9c-a9de-39273a838109",
   "metadata": {},
   "source": [
    "We may not have much conext in this example but we obviously do in real life cases."
   ]
  },
  {
   "cell_type": "markdown",
   "id": "6ba54829-384e-442b-9e31-002d2bf12cf0",
   "metadata": {},
   "source": [
    "Always inteprete the result considering the context, if they seem illogical ,\n",
    "\n",
    "it may be worth revisiting your model rather thn blindly following it."
   ]
  },
  {
   "cell_type": "markdown",
   "id": "a5f592cc-2010-47ca-870d-64c26824bc65",
   "metadata": {},
   "source": [
    "#### Calculating the accuracy of the model"
   ]
  },
  {
   "cell_type": "markdown",
   "id": "eb59c196-45c8-4621-92c9-7935278c58d2",
   "metadata": {},
   "source": [
    "We said that there is a pseudo R-squared that gives us a pseudo sense of how well our regression is doing .\n",
    "\n",
    "In practice though, there are better ideas on how to process the accuracy of the model."
   ]
  },
  {
   "cell_type": "markdown",
   "id": "5e189310-4d34-4561-8e90-0aaeebf598db",
   "metadata": {},
   "source": [
    "We have a model that prdicts values and we also have the actual values that we observed.\n",
    "\n",
    "We can check the accuracy .\n",
    "\n",
    "We already saw the method predict\n",
    "\n",
    "sm.LogitResults.predict()  returns the values predicted by our model.  (sm statsmodels statistics in python)"
   ]
  },
  {
   "cell_type": "markdown",
   "id": "26094dac-334d-43d6-ba15-e5a33d1dca2f",
   "metadata": {},
   "source": [
    "##### Accuracy"
   ]
  },
  {
   "cell_type": "code",
   "execution_count": 16,
   "id": "50317cfa-6232-4a0a-809f-41f2103d5f67",
   "metadata": {},
   "outputs": [
    {
     "ename": "NameError",
     "evalue": "name 'results_log' is not defined",
     "output_type": "error",
     "traceback": [
      "\u001b[1;31m---------------------------------------------------------------------------\u001b[0m",
      "\u001b[1;31mNameError\u001b[0m                                 Traceback (most recent call last)",
      "\u001b[1;32m~\\AppData\\Local\\Temp/ipykernel_11072/2524296440.py\u001b[0m in \u001b[0;36m<module>\u001b[1;34m\u001b[0m\n\u001b[1;32m----> 1\u001b[1;33m \u001b[0mresults_log\u001b[0m\u001b[1;33m.\u001b[0m\u001b[0mpredict\u001b[0m\u001b[1;33m(\u001b[0m\u001b[1;33m)\u001b[0m\u001b[1;33m\u001b[0m\u001b[1;33m\u001b[0m\u001b[0m\n\u001b[0m",
      "\u001b[1;31mNameError\u001b[0m: name 'results_log' is not defined"
     ]
    }
   ],
   "source": [
    "results_log.predict()"
   ]
  },
  {
   "cell_type": "code",
   "execution_count": null,
   "id": "252848d6-09e7-47c2-8028-a19f943bed14",
   "metadata": {},
   "outputs": [],
   "source": [
    "This gives us all the predicted values."
   ]
  },
  {
   "cell_type": "markdown",
   "id": "eb89600d-22b9-43a5-b90f-ffd2bf832126",
   "metadata": {},
   "source": [
    "We can apply some formatting to make it more legible"
   ]
  },
  {
   "cell_type": "code",
   "execution_count": 19,
   "id": "a0872aaf-b5a3-4b43-969d-97f3267c7a09",
   "metadata": {},
   "outputs": [
    {
     "ename": "NameError",
     "evalue": "name 'results_log' is not defined",
     "output_type": "error",
     "traceback": [
      "\u001b[1;31m---------------------------------------------------------------------------\u001b[0m",
      "\u001b[1;31mNameError\u001b[0m                                 Traceback (most recent call last)",
      "\u001b[1;32m~\\AppData\\Local\\Temp/ipykernel_11072/2941012269.py\u001b[0m in \u001b[0;36m<module>\u001b[1;34m\u001b[0m\n\u001b[0;32m      1\u001b[0m \u001b[0mnp\u001b[0m\u001b[1;33m.\u001b[0m\u001b[0mset_printoptions\u001b[0m\u001b[1;33m(\u001b[0m\u001b[0mformatter\u001b[0m\u001b[1;33m=\u001b[0m\u001b[1;33m{\u001b[0m\u001b[1;34m'float'\u001b[0m\u001b[1;33m:\u001b[0m \u001b[1;32mlambda\u001b[0m \u001b[0mx\u001b[0m\u001b[1;33m:\u001b[0m \u001b[1;34m\"{0:0.2f}\"\u001b[0m\u001b[1;33m.\u001b[0m\u001b[0mformat\u001b[0m\u001b[1;33m(\u001b[0m\u001b[0mx\u001b[0m\u001b[1;33m)\u001b[0m\u001b[1;33m}\u001b[0m\u001b[1;33m)\u001b[0m\u001b[1;33m\u001b[0m\u001b[1;33m\u001b[0m\u001b[0m\n\u001b[1;32m----> 2\u001b[1;33m \u001b[0mresults_log\u001b[0m\u001b[1;33m.\u001b[0m\u001b[0mpredict\u001b[0m\u001b[1;33m(\u001b[0m\u001b[1;33m)\u001b[0m\u001b[1;33m\u001b[0m\u001b[1;33m\u001b[0m\u001b[0m\n\u001b[0m",
      "\u001b[1;31mNameError\u001b[0m: name 'results_log' is not defined"
     ]
    }
   ],
   "source": [
    "np.set_printoptions(formatter={'float': lambda x: \"{0:0.2f}\".format(x)})\n",
    "results_log.predict()"
   ]
  },
  {
   "cell_type": "markdown",
   "id": "1449a99c-0ec2-4703-9ea0-b9da8c75482a",
   "metadata": {},
   "source": [
    "We can see that there are 000s, ones and some values inbetween.\n",
    "\n",
    "These are probabilities.\n",
    "\n",
    "In the model, in the model these are the values of pi( π ).\n",
    "\n",
    "The probability of being admitted."
   ]
  },
  {
   "cell_type": "markdown",
   "id": "b1fbeced-8bea-4cfa-b7a0-48c79a36b5a6",
   "metadata": {},
   "source": [
    "Altimately ,values below 0.5  means that there is less than 50% chance of admission.\n",
    "\n",
    "So we will run down"
   ]
  },
  {
   "cell_type": "markdown",
   "id": "7bbdd5f3-803f-4fc8-aaa4-89a26b8b42f6",
   "metadata": {},
   "source": [
    "Alternatively ,values above 0.5 will be rounded up"
   ]
  },
  {
   "cell_type": "markdown",
   "id": "ad6f318e-f3be-44c4-ad2e-041fded050cd",
   "metadata": {},
   "source": [
    "Using this simplification, what we can do is to compare the actual values we observed with the values the model predicted"
   ]
  },
  {
   "cell_type": "code",
   "execution_count": 3,
   "id": "3875595a-e35b-40ca-b3f0-a445a097b96e",
   "metadata": {},
   "outputs": [
    {
     "ename": "NameError",
     "evalue": "name 'data' is not defined",
     "output_type": "error",
     "traceback": [
      "\u001b[1;31m---------------------------------------------------------------------------\u001b[0m",
      "\u001b[1;31mNameError\u001b[0m                                 Traceback (most recent call last)",
      "\u001b[1;32m~\\AppData\\Local\\Temp/ipykernel_7192/1378652086.py\u001b[0m in \u001b[0;36m<module>\u001b[1;34m\u001b[0m\n\u001b[1;32m----> 1\u001b[1;33m \u001b[0mnp\u001b[0m\u001b[1;33m.\u001b[0m\u001b[0marray\u001b[0m\u001b[1;33m(\u001b[0m\u001b[0mdata\u001b[0m\u001b[1;33m[\u001b[0m\u001b[1;34m'Admitted'\u001b[0m\u001b[1;33m]\u001b[0m\u001b[1;33m)\u001b[0m\u001b[1;33m\u001b[0m\u001b[1;33m\u001b[0m\u001b[0m\n\u001b[0m",
      "\u001b[1;31mNameError\u001b[0m: name 'data' is not defined"
     ]
    }
   ],
   "source": [
    "np.array(data['Admitted'])"
   ]
  },
  {
   "cell_type": "markdown",
   "id": "4aa03ca7-9ae3-4504-b8b2-b55165174e70",
   "metadata": {},
   "source": [
    "If 80% of the predicted values coincide with the actual values we say the model have 80% accuracy."
   ]
  },
  {
   "cell_type": "markdown",
   "id": "07931aa3-b587-4e5c-891d-aa6e60bd79fb",
   "metadata": {},
   "source": [
    "There are alot of values to compare, \n",
    "\n",
    "we can summarize them in a table with this method pred.table available in stasmodels"
   ]
  },
  {
   "cell_type": "code",
   "execution_count": null,
   "id": "7f78e8b7-0bac-445a-9338-da8cfa6ea222",
   "metadata": {},
   "outputs": [],
   "source": [
    "results_log.pred_table()"
   ]
  },
  {
   "cell_type": "code",
   "execution_count": null,
   "id": "fc714049-33a0-443a-b00a-8e8e751726e3",
   "metadata": {},
   "outputs": [],
   "source": [
    "The result we get are 4 tables"
   ]
  },
  {
   "cell_type": "markdown",
   "id": "b7a60a6b-a4a5-42fe-b45d-1cfdcfc601ed",
   "metadata": {},
   "source": [
    "we will format the result and discuss it"
   ]
  },
  {
   "cell_type": "code",
   "execution_count": 21,
   "id": "0c0cb787-7afe-4f5f-90f2-deb3ca368a7b",
   "metadata": {},
   "outputs": [
    {
     "ename": "NameError",
     "evalue": "name 'results_log' is not defined",
     "output_type": "error",
     "traceback": [
      "\u001b[1;31m---------------------------------------------------------------------------\u001b[0m",
      "\u001b[1;31mNameError\u001b[0m                                 Traceback (most recent call last)",
      "\u001b[1;32m~\\AppData\\Local\\Temp/ipykernel_11072/4063560950.py\u001b[0m in \u001b[0;36m<module>\u001b[1;34m\u001b[0m\n\u001b[1;32m----> 1\u001b[1;33m \u001b[0mcm_df\u001b[0m \u001b[1;33m=\u001b[0m \u001b[0mpd\u001b[0m\u001b[1;33m.\u001b[0m\u001b[0mDataFrame\u001b[0m\u001b[1;33m(\u001b[0m\u001b[0mresults_log\u001b[0m\u001b[1;33m.\u001b[0m\u001b[0mpred_table\u001b[0m\u001b[1;33m(\u001b[0m\u001b[1;33m)\u001b[0m\u001b[1;33m)\u001b[0m\u001b[1;33m\u001b[0m\u001b[1;33m\u001b[0m\u001b[0m\n\u001b[0m\u001b[0;32m      2\u001b[0m \u001b[0mcm_df\u001b[0m\u001b[1;33m.\u001b[0m\u001b[0mcolumns\u001b[0m \u001b[1;33m=\u001b[0m \u001b[1;33m[\u001b[0m\u001b[1;34m'predicted 0'\u001b[0m\u001b[1;33m,\u001b[0m\u001b[1;34m'predicted 1'\u001b[0m\u001b[1;33m]\u001b[0m\u001b[1;33m\u001b[0m\u001b[1;33m\u001b[0m\u001b[0m\n\u001b[0;32m      3\u001b[0m \u001b[0mcm_df\u001b[0m \u001b[1;33m=\u001b[0m \u001b[0mcm_df\u001b[0m\u001b[1;33m.\u001b[0m\u001b[0mrename\u001b[0m\u001b[1;33m(\u001b[0m\u001b[0mindex\u001b[0m\u001b[1;33m=\u001b[0m\u001b[1;33m{\u001b[0m\u001b[1;36m0\u001b[0m\u001b[1;33m:\u001b[0m\u001b[1;34m'Actual 0'\u001b[0m\u001b[1;33m,\u001b[0m\u001b[1;36m1\u001b[0m\u001b[1;33m:\u001b[0m\u001b[1;34m'Actual 1'\u001b[0m\u001b[1;33m}\u001b[0m\u001b[1;33m)\u001b[0m\u001b[1;33m\u001b[0m\u001b[1;33m\u001b[0m\u001b[0m\n\u001b[0;32m      4\u001b[0m \u001b[0mcm_df\u001b[0m\u001b[1;33m\u001b[0m\u001b[1;33m\u001b[0m\u001b[0m\n",
      "\u001b[1;31mNameError\u001b[0m: name 'results_log' is not defined"
     ]
    }
   ],
   "source": [
    "cm_df = pd.DataFrame(results_log.pred_table())\n",
    "cm_df.columns = ['predicted 0','predicted 1']\n",
    "cm_df = cm_df.rename(index={0:'Actual 0',1:'Actual 1'})\n",
    "cm_df"
   ]
  },
  {
   "cell_type": "markdown",
   "id": "d30f42af-64d1-43b6-939c-3ef5c64efe40",
   "metadata": {},
   "source": [
    "The table is called 'CONFUSION MATRIX'"
   ]
  },
  {
   "cell_type": "markdown",
   "id": "bb9f9a51-40f1-4e73-925f-a8fba54d0934",
   "metadata": {},
   "source": [
    "It is called confusion as it shows how confused our model was.\n",
    "\n",
    "Although some people call it the confusing matrix"
   ]
  },
  {
   "cell_type": "markdown",
   "id": "c3ff8955-e04f-43e0-852f-13e142ebad27",
   "metadata": {},
   "source": [
    "For 69 observations the model predicted 0 when the true value is 0,\n",
    "\n",
    "For 90 observations the model predicted 1 and it actually was 1.\n",
    "\n",
    "These cells indicated how many case the model did its job well."
   ]
  },
  {
   "cell_type": "markdown",
   "id": "4a6d7fc9-300b-41ed-aa9e-9ca2ec90e7eb",
   "metadata": {},
   "source": [
    "How in 4 cases the model predicted 0 while the true value was 1."
   ]
  },
  {
   "cell_type": "markdown",
   "id": "293d6984-302f-4253-a50f-549057503801",
   "metadata": {},
   "source": [
    "For 5 observations the model predicted 1 and value was 0 , the true value was 0 "
   ]
  },
  {
   "cell_type": "markdown",
   "id": "6a61fac8-9eea-49d1-9077-e2318e982bc0",
   "metadata": {},
   "source": [
    "The model got confused in the last two cases."
   ]
  },
  {
   "cell_type": "markdown",
   "id": "0083480d-814c-45dd-affd-8483cee6899a",
   "metadata": {},
   "source": [
    "There are many different cases we can calculate ffrom this matrix, the most important one is the accuracy of the model."
   ]
  },
  {
   "cell_type": "markdown",
   "id": "6d036e0f-f79f-46f4-92ce-1db25c2e1711",
   "metadata": {},
   "source": [
    "In 69 plus 90 (159)of the cases the model was correct, in 4 plus 5 (9) of the cases the model was incorrect."
   ]
  },
  {
   "cell_type": "markdown",
   "id": "5c1671cf-046c-48b9-9729-1a74e5c75adc",
   "metadata": {},
   "source": [
    "Overall, the model made an accurate prediction of 159 out of 168 cases."
   ]
  },
  {
   "cell_type": "code",
   "execution_count": null,
   "id": "93406fa4-127b-4084-94ab-6acb53e39c63",
   "metadata": {},
   "outputs": [],
   "source": [
    "This gives us  a 159 /168  = 0.94 6 \n",
    "\n",
    "` 94.6 % accuracy\n",
    "\n",
    "Our model seems vrery good in classifying."
   ]
  },
  {
   "cell_type": "markdown",
   "id": "7ef55574-8eb7-40bc-a2e8-a4b4cf2d496b",
   "metadata": {},
   "source": [
    "Below is a short piece of code that will calculate the accuracy for you."
   ]
  },
  {
   "cell_type": "code",
   "execution_count": 10,
   "id": "ab5e2979-c4c3-45ad-ab62-5bdfd5525fdc",
   "metadata": {},
   "outputs": [
    {
     "ename": "NameError",
     "evalue": "name 'cm_df' is not defined",
     "output_type": "error",
     "traceback": [
      "\u001b[1;31m---------------------------------------------------------------------------\u001b[0m",
      "\u001b[1;31mNameError\u001b[0m                                 Traceback (most recent call last)",
      "\u001b[1;32m~\\AppData\\Local\\Temp/ipykernel_7192/2256213992.py\u001b[0m in \u001b[0;36m<module>\u001b[1;34m\u001b[0m\n\u001b[1;32m----> 1\u001b[1;33m \u001b[0mcm\u001b[0m \u001b[1;33m=\u001b[0m \u001b[0mnp\u001b[0m\u001b[1;33m.\u001b[0m\u001b[0marray\u001b[0m\u001b[1;33m(\u001b[0m\u001b[0mcm_df\u001b[0m\u001b[1;33m)\u001b[0m\u001b[1;33m\u001b[0m\u001b[1;33m\u001b[0m\u001b[0m\n\u001b[0m\u001b[0;32m      2\u001b[0m \u001b[0maccuracy_train\u001b[0m \u001b[1;33m=\u001b[0m \u001b[1;33m(\u001b[0m\u001b[0mcm\u001b[0m\u001b[1;33m[\u001b[0m\u001b[1;36m0\u001b[0m\u001b[1;33m,\u001b[0m\u001b[1;36m0\u001b[0m\u001b[1;33m]\u001b[0m\u001b[1;33m+\u001b[0m\u001b[0mcm\u001b[0m\u001b[1;33m[\u001b[0m\u001b[1;36m1\u001b[0m\u001b[1;33m,\u001b[0m\u001b[1;36m1\u001b[0m\u001b[1;33m]\u001b[0m\u001b[1;33m)\u001b[0m\u001b[1;33m/\u001b[0m\u001b[0mcm\u001b[0m\u001b[1;33m.\u001b[0m\u001b[0msum\u001b[0m\u001b[1;33m(\u001b[0m\u001b[1;33m)\u001b[0m\u001b[1;33m\u001b[0m\u001b[1;33m\u001b[0m\u001b[0m\n\u001b[0;32m      3\u001b[0m \u001b[0maccuracy_train\u001b[0m\u001b[1;33m\u001b[0m\u001b[1;33m\u001b[0m\u001b[0m\n",
      "\u001b[1;31mNameError\u001b[0m: name 'cm_df' is not defined"
     ]
    }
   ],
   "source": [
    "cm = np.array(cm_df)\n",
    "accuracy_train = (cm[0,0]+cm[1,1])/cm.sum()\n",
    "accuracy_train"
   ]
  },
  {
   "cell_type": "markdown",
   "id": "d13af62e-f6cc-4073-ba45-8549d8d9ac46",
   "metadata": {},
   "source": [
    "Homework\n",
    "\n",
    "\n",
    "Calculate the accuracy of all the work we have done in this session."
   ]
  },
  {
   "cell_type": "markdown",
   "id": "88c0efa1-7578-48a3-b58b-5fe25253c3ea",
   "metadata": {},
   "source": [
    "#### The concept of overfitting"
   ]
  },
  {
   "cell_type": "markdown",
   "id": "b5201ad0-862f-482e-b742-3519cadd5c29",
   "metadata": {},
   "source": [
    "One of the most common aspect of data sciene interviews is about  overfitting."
   ]
  },
  {
   "cell_type": "markdown",
   "id": "bc002518-6c9c-4144-af0b-3d1ad5415689",
   "metadata": {},
   "source": [
    "A  recruiter will suddenly bring up th topic and\n",
    "ask you . 'what is overfitting and how do we deal with it."
   ]
  },
  {
   "cell_type": "markdown",
   "id": "e9d1f75e-52a5-4005-8fe6-cc0f1f7c4cc1",
   "metadata": {},
   "source": [
    "There are two concept that are inter=related under fitting and over fitting.\n",
    "\n",
    "They go together and understanding one helps us to understand the other and vice versa."
   ]
  },
  {
   "cell_type": "markdown",
   "id": "d70dc5bd-39ab-4453-b4a8-82a80649494a",
   "metadata": {},
   "source": [
    "Over fitting means that our training has focused \n",
    "so much on a particular training set so much that it has missed the point."
   ]
  },
  {
   "cell_type": "markdown",
   "id": "0dbd3603-76ed-4dc4-b90d-ed2652bbd974",
   "metadata": {},
   "source": [
    "Random noise is captured inside an over fitting model"
   ]
  },
  {
   "cell_type": "markdown",
   "id": "e1b727f6-8947-4fe7-8aa1-bd84c553f71b",
   "metadata": {},
   "source": [
    "Underfitting means that our model has not captured the underlying logic of the data.\n",
    "\n",
    "It doesn't know what to do and therefore provides an answer that is far from correct."
   ]
  },
  {
   "cell_type": "markdown",
   "id": "83ddd306-27af-4868-b4c2-d523a751ef03",
   "metadata": {},
   "source": [
    "It doesn't have strong predictive power"
   ]
  },
  {
   "cell_type": "markdown",
   "id": "83cb47e2-fa31-4031-a3ba-0b093d0988d9",
   "metadata": {},
   "source": [
    "They are clumsy and have low accuracy"
   ]
  },
  {
   "cell_type": "markdown",
   "id": "c8e42381-d643-49db-ab1f-8da1cad68aa6",
   "metadata": {},
   "source": [
    "Over fitting and under fitting are problems encompassing predictive analysis asa whole ."
   ]
  },
  {
   "cell_type": "markdown",
   "id": "cbe710d2-aeed-44bc-ab93-ac449378aed9",
   "metadata": {},
   "source": [
    "Logistic Regression over-fitting problems"
   ]
  },
  {
   "cell_type": "markdown",
   "id": "269541de-cd6d-4880-94ec-c73d566daf16",
   "metadata": {},
   "source": [
    "Imagine we have an graph with an observation of 10 points.\n",
    "\n",
    "Then someone gave us one other 100 observations from thesame population.\n",
    "\n",
    "We quickly released that the relationship have nothing to do with what we have found. \n",
    "\n",
    "In real life, the case will not be as dramatic."
   ]
  },
  {
   "cell_type": "markdown",
   "id": "a11a7a70-32ba-45fd-bdbf-b0e4cf0c29a0",
   "metadata": {},
   "source": [
    "Our population data is likely to be distributed in another way. \n",
    "\n",
    "pls refer to note bok for the graph.\n",
    "\n",
    "We observed from the graph that some points are mis-classified because of the initial model.\n",
    "\n",
    "After a quick re -examination, we realised that the real relationship is quite similar but a bit to the left."
   ]
  },
  {
   "cell_type": "markdown",
   "id": "b78402b7-07e9-4e5f-911f-60499fb77562",
   "metadata": {},
   "source": [
    "Popular solution to over fitting is by splitting our data into 2\n",
    "\n",
    "1. Training \n",
    "\n",
    "2. Test"
   ]
  },
  {
   "cell_type": "markdown",
   "id": "3a8d7c59-7187-4d50-a3a5-83420afb6dfb",
   "metadata": {},
   "source": [
    "Splits like 90 % training and 10 percent test or 80% training and 20% test are common"
   ]
  },
  {
   "cell_type": "markdown",
   "id": "d3c1539f-e36f-4acd-ac7c-119496afa059",
   "metadata": {},
   "source": [
    "Steps\n",
    "\n",
    "i. create the regression on the training data.\n",
    "\n",
    "ii.After we hvae the co efficient, we test the model on the test data by creating a confusion matrix and accessing the accuracy.\n"
   ]
  },
  {
   "cell_type": "markdown",
   "id": "90211e92-c751-4861-a7aa-1ad068015207",
   "metadata": {},
   "source": [
    "The whole point is that the model have never seen the test data set so it cannot over firt on it."
   ]
  },
  {
   "cell_type": "markdown",
   "id": "86840b2e-ef43-4fe0-84b5-72028834f2fb",
   "metadata": {
    "tags": []
   },
   "source": [
    "#### Testing the model"
   ]
  },
  {
   "cell_type": "markdown",
   "id": "aeae54dc-7157-439e-86b4-9be99cae0d69",
   "metadata": {},
   "source": [
    "##### Testing the model and assessing the accuracy"
   ]
  },
  {
   "cell_type": "markdown",
   "id": "4bc0f950-f565-4402-9ff9-9f146a810a0e",
   "metadata": {},
   "source": [
    "We must test our model"
   ]
  },
  {
   "cell_type": "markdown",
   "id": "e6428346-db90-4516-9be5-def3b2b5ee19",
   "metadata": {},
   "source": [
    "Testing is done on a dataset our model has never seen before.\n",
    "\n",
    "I will load a new dataset"
   ]
  },
  {
   "cell_type": "code",
   "execution_count": 8,
   "id": "451b6dcd-c74b-4de0-a6ea-defad2208651",
   "metadata": {},
   "outputs": [
    {
     "data": {
      "text/html": [
       "<div>\n",
       "<style scoped>\n",
       "    .dataframe tbody tr th:only-of-type {\n",
       "        vertical-align: middle;\n",
       "    }\n",
       "\n",
       "    .dataframe tbody tr th {\n",
       "        vertical-align: top;\n",
       "    }\n",
       "\n",
       "    .dataframe thead th {\n",
       "        text-align: right;\n",
       "    }\n",
       "</style>\n",
       "<table border=\"1\" class=\"dataframe\">\n",
       "  <thead>\n",
       "    <tr style=\"text-align: right;\">\n",
       "      <th></th>\n",
       "      <th>SAT</th>\n",
       "      <th>Admitted</th>\n",
       "      <th>Gender</th>\n",
       "    </tr>\n",
       "  </thead>\n",
       "  <tbody>\n",
       "    <tr>\n",
       "      <th>0</th>\n",
       "      <td>1323</td>\n",
       "      <td>No</td>\n",
       "      <td>Male</td>\n",
       "    </tr>\n",
       "    <tr>\n",
       "      <th>1</th>\n",
       "      <td>1725</td>\n",
       "      <td>Yes</td>\n",
       "      <td>Female</td>\n",
       "    </tr>\n",
       "    <tr>\n",
       "      <th>2</th>\n",
       "      <td>1762</td>\n",
       "      <td>Yes</td>\n",
       "      <td>Female</td>\n",
       "    </tr>\n",
       "    <tr>\n",
       "      <th>3</th>\n",
       "      <td>1777</td>\n",
       "      <td>Yes</td>\n",
       "      <td>Male</td>\n",
       "    </tr>\n",
       "    <tr>\n",
       "      <th>4</th>\n",
       "      <td>1665</td>\n",
       "      <td>No</td>\n",
       "      <td>Male</td>\n",
       "    </tr>\n",
       "    <tr>\n",
       "      <th>5</th>\n",
       "      <td>1556</td>\n",
       "      <td>Yes</td>\n",
       "      <td>Female</td>\n",
       "    </tr>\n",
       "    <tr>\n",
       "      <th>6</th>\n",
       "      <td>1731</td>\n",
       "      <td>Yes</td>\n",
       "      <td>Female</td>\n",
       "    </tr>\n",
       "    <tr>\n",
       "      <th>7</th>\n",
       "      <td>1809</td>\n",
       "      <td>Yes</td>\n",
       "      <td>Female</td>\n",
       "    </tr>\n",
       "    <tr>\n",
       "      <th>8</th>\n",
       "      <td>1930</td>\n",
       "      <td>Yes</td>\n",
       "      <td>Female</td>\n",
       "    </tr>\n",
       "    <tr>\n",
       "      <th>9</th>\n",
       "      <td>1708</td>\n",
       "      <td>Yes</td>\n",
       "      <td>Male</td>\n",
       "    </tr>\n",
       "    <tr>\n",
       "      <th>10</th>\n",
       "      <td>1970</td>\n",
       "      <td>Yes</td>\n",
       "      <td>Female</td>\n",
       "    </tr>\n",
       "    <tr>\n",
       "      <th>11</th>\n",
       "      <td>2039</td>\n",
       "      <td>Yes</td>\n",
       "      <td>Female</td>\n",
       "    </tr>\n",
       "    <tr>\n",
       "      <th>12</th>\n",
       "      <td>1681</td>\n",
       "      <td>Yes</td>\n",
       "      <td>Female</td>\n",
       "    </tr>\n",
       "    <tr>\n",
       "      <th>13</th>\n",
       "      <td>1444</td>\n",
       "      <td>No</td>\n",
       "      <td>Male</td>\n",
       "    </tr>\n",
       "    <tr>\n",
       "      <th>14</th>\n",
       "      <td>1726</td>\n",
       "      <td>No</td>\n",
       "      <td>Male</td>\n",
       "    </tr>\n",
       "    <tr>\n",
       "      <th>15</th>\n",
       "      <td>1876</td>\n",
       "      <td>Yes</td>\n",
       "      <td>Female</td>\n",
       "    </tr>\n",
       "    <tr>\n",
       "      <th>16</th>\n",
       "      <td>1485</td>\n",
       "      <td>No</td>\n",
       "      <td>Male</td>\n",
       "    </tr>\n",
       "    <tr>\n",
       "      <th>17</th>\n",
       "      <td>1500</td>\n",
       "      <td>No</td>\n",
       "      <td>Female</td>\n",
       "    </tr>\n",
       "    <tr>\n",
       "      <th>18</th>\n",
       "      <td>1900</td>\n",
       "      <td>Yes</td>\n",
       "      <td>Male</td>\n",
       "    </tr>\n",
       "  </tbody>\n",
       "</table>\n",
       "</div>"
      ],
      "text/plain": [
       "     SAT Admitted  Gender\n",
       "0   1323       No    Male\n",
       "1   1725      Yes  Female\n",
       "2   1762      Yes  Female\n",
       "3   1777      Yes    Male\n",
       "4   1665       No    Male\n",
       "5   1556      Yes  Female\n",
       "6   1731      Yes  Female\n",
       "7   1809      Yes  Female\n",
       "8   1930      Yes  Female\n",
       "9   1708      Yes    Male\n",
       "10  1970      Yes  Female\n",
       "11  2039      Yes  Female\n",
       "12  1681      Yes  Female\n",
       "13  1444       No    Male\n",
       "14  1726       No    Male\n",
       "15  1876      Yes  Female\n",
       "16  1485       No    Male\n",
       "17  1500       No  Female\n",
       "18  1900      Yes    Male"
      ]
     },
     "execution_count": 8,
     "metadata": {},
     "output_type": "execute_result"
    }
   ],
   "source": [
    "test = pd.read_csv('C:\\\\Users\\\\user\\\\Desktop\\\\python files - Copy\\\\2.03. Test dataset.csv')\n",
    "\n",
    "test"
   ]
  },
  {
   "cell_type": "markdown",
   "id": "1aa4b098-7d71-4d31-ac50-ef085cf9af20",
   "metadata": {},
   "source": [
    "The regression was trained on the first dataset and we will test it now."
   ]
  },
  {
   "cell_type": "markdown",
   "id": "8b9c5834-618d-4e64-9e93-f9dcb6803e32",
   "metadata": {},
   "source": [
    "As we said earlier splitting the dataset is a common practice and an almost compulsory one."
   ]
  },
  {
   "cell_type": "markdown",
   "id": "f8f1d56f-b164-4d64-b7fc-9fa61deed737",
   "metadata": {},
   "source": [
    "Our split is 9010, which means there are 90 observations for the test."
   ]
  },
  {
   "cell_type": "code",
   "execution_count": null,
   "id": "4763533d-173a-4d68-aed9-1ae876527dde",
   "metadata": {},
   "outputs": [],
   "source": [
    "Next,we wil map our categorical data in a very well known way."
   ]
  },
  {
   "cell_type": "code",
   "execution_count": 12,
   "id": "b4d82035-9c54-4591-ae64-00ecd1e44f44",
   "metadata": {},
   "outputs": [
    {
     "data": {
      "text/html": [
       "<div>\n",
       "<style scoped>\n",
       "    .dataframe tbody tr th:only-of-type {\n",
       "        vertical-align: middle;\n",
       "    }\n",
       "\n",
       "    .dataframe tbody tr th {\n",
       "        vertical-align: top;\n",
       "    }\n",
       "\n",
       "    .dataframe thead th {\n",
       "        text-align: right;\n",
       "    }\n",
       "</style>\n",
       "<table border=\"1\" class=\"dataframe\">\n",
       "  <thead>\n",
       "    <tr style=\"text-align: right;\">\n",
       "      <th></th>\n",
       "      <th>SAT</th>\n",
       "      <th>Admitted</th>\n",
       "      <th>Gender</th>\n",
       "    </tr>\n",
       "  </thead>\n",
       "  <tbody>\n",
       "    <tr>\n",
       "      <th>0</th>\n",
       "      <td>1323</td>\n",
       "      <td>NaN</td>\n",
       "      <td>0</td>\n",
       "    </tr>\n",
       "    <tr>\n",
       "      <th>1</th>\n",
       "      <td>1725</td>\n",
       "      <td>NaN</td>\n",
       "      <td>1</td>\n",
       "    </tr>\n",
       "    <tr>\n",
       "      <th>2</th>\n",
       "      <td>1762</td>\n",
       "      <td>NaN</td>\n",
       "      <td>1</td>\n",
       "    </tr>\n",
       "    <tr>\n",
       "      <th>3</th>\n",
       "      <td>1777</td>\n",
       "      <td>NaN</td>\n",
       "      <td>0</td>\n",
       "    </tr>\n",
       "    <tr>\n",
       "      <th>4</th>\n",
       "      <td>1665</td>\n",
       "      <td>NaN</td>\n",
       "      <td>0</td>\n",
       "    </tr>\n",
       "    <tr>\n",
       "      <th>5</th>\n",
       "      <td>1556</td>\n",
       "      <td>NaN</td>\n",
       "      <td>1</td>\n",
       "    </tr>\n",
       "    <tr>\n",
       "      <th>6</th>\n",
       "      <td>1731</td>\n",
       "      <td>NaN</td>\n",
       "      <td>1</td>\n",
       "    </tr>\n",
       "    <tr>\n",
       "      <th>7</th>\n",
       "      <td>1809</td>\n",
       "      <td>NaN</td>\n",
       "      <td>1</td>\n",
       "    </tr>\n",
       "    <tr>\n",
       "      <th>8</th>\n",
       "      <td>1930</td>\n",
       "      <td>NaN</td>\n",
       "      <td>1</td>\n",
       "    </tr>\n",
       "    <tr>\n",
       "      <th>9</th>\n",
       "      <td>1708</td>\n",
       "      <td>NaN</td>\n",
       "      <td>0</td>\n",
       "    </tr>\n",
       "    <tr>\n",
       "      <th>10</th>\n",
       "      <td>1970</td>\n",
       "      <td>NaN</td>\n",
       "      <td>1</td>\n",
       "    </tr>\n",
       "    <tr>\n",
       "      <th>11</th>\n",
       "      <td>2039</td>\n",
       "      <td>NaN</td>\n",
       "      <td>1</td>\n",
       "    </tr>\n",
       "    <tr>\n",
       "      <th>12</th>\n",
       "      <td>1681</td>\n",
       "      <td>NaN</td>\n",
       "      <td>1</td>\n",
       "    </tr>\n",
       "    <tr>\n",
       "      <th>13</th>\n",
       "      <td>1444</td>\n",
       "      <td>NaN</td>\n",
       "      <td>0</td>\n",
       "    </tr>\n",
       "    <tr>\n",
       "      <th>14</th>\n",
       "      <td>1726</td>\n",
       "      <td>NaN</td>\n",
       "      <td>0</td>\n",
       "    </tr>\n",
       "    <tr>\n",
       "      <th>15</th>\n",
       "      <td>1876</td>\n",
       "      <td>NaN</td>\n",
       "      <td>1</td>\n",
       "    </tr>\n",
       "    <tr>\n",
       "      <th>16</th>\n",
       "      <td>1485</td>\n",
       "      <td>NaN</td>\n",
       "      <td>0</td>\n",
       "    </tr>\n",
       "    <tr>\n",
       "      <th>17</th>\n",
       "      <td>1500</td>\n",
       "      <td>NaN</td>\n",
       "      <td>1</td>\n",
       "    </tr>\n",
       "    <tr>\n",
       "      <th>18</th>\n",
       "      <td>1900</td>\n",
       "      <td>NaN</td>\n",
       "      <td>0</td>\n",
       "    </tr>\n",
       "  </tbody>\n",
       "</table>\n",
       "</div>"
      ],
      "text/plain": [
       "     SAT  Admitted  Gender\n",
       "0   1323       NaN       0\n",
       "1   1725       NaN       1\n",
       "2   1762       NaN       1\n",
       "3   1777       NaN       0\n",
       "4   1665       NaN       0\n",
       "5   1556       NaN       1\n",
       "6   1731       NaN       1\n",
       "7   1809       NaN       1\n",
       "8   1930       NaN       1\n",
       "9   1708       NaN       0\n",
       "10  1970       NaN       1\n",
       "11  2039       NaN       1\n",
       "12  1681       NaN       1\n",
       "13  1444       NaN       0\n",
       "14  1726       NaN       0\n",
       "15  1876       NaN       1\n",
       "16  1485       NaN       0\n",
       "17  1500       NaN       1\n",
       "18  1900       NaN       0"
      ]
     },
     "execution_count": 12,
     "metadata": {},
     "output_type": "execute_result"
    }
   ],
   "source": [
    "test['Admitted'] = test['Admitted'].map({'yes': 1, 'No': 0})\n",
    "test['Gender'] = test['Gender'].map({'Female': 1, 'Male': 0})\n",
    "test"
   ]
  },
  {
   "cell_type": "markdown",
   "id": "e73cb9fc-9ca4-4af0-b8c5-24c079fd4374",
   "metadata": {},
   "source": [
    "Our plan\n",
    "\n",
    "1. We will use our model to make predictions based on the test data.\n",
    "\n",
    "2. We will compare thse based on the actual outcome\n",
    "\n",
    "3. Calculate the accuracy.\n",
    "\n",
    "4. we will also create a confusion matrix on our own.\n"
   ]
  },
  {
   "cell_type": "markdown",
   "id": "1f7aa7b5-be0a-4b00-8766-5899668fb24f",
   "metadata": {},
   "source": [
    "In other to predict values using the statsmodels  method ,predict we used earlier.\n",
    "\n",
    "sm.logitResults.predict() returns the value predicted by our model.\n",
    "\n",
    "our test data should look thesame as the input data on which the regression was trained."
   ]
  },
  {
   "cell_type": "markdown",
   "id": "0a87e7e1-9b73-4136-a8b1-d63b8a36dca4",
   "metadata": {},
   "source": [
    "After printing the variable x we see that there are 3 columns\n",
    "\n",
    "constant , SAT and Gender in that order.\n",
    "\n",
    "Order is very important because the coefficient of the regression will expect it.\n",
    "If we fail to deliver the correct order, the prediction will be wrong."
   ]
  },
  {
   "cell_type": "code",
   "execution_count": 13,
   "id": "18d2ef87-b4b2-4d88-be7b-f65647686990",
   "metadata": {},
   "outputs": [
    {
     "ename": "NameError",
     "evalue": "name 'x' is not defined",
     "output_type": "error",
     "traceback": [
      "\u001b[1;31m---------------------------------------------------------------------------\u001b[0m",
      "\u001b[1;31mNameError\u001b[0m                                 Traceback (most recent call last)",
      "\u001b[1;32m~\\AppData\\Local\\Temp/ipykernel_9540/32546335.py\u001b[0m in \u001b[0;36m<module>\u001b[1;34m\u001b[0m\n\u001b[1;32m----> 1\u001b[1;33m \u001b[0mx\u001b[0m\u001b[1;33m\u001b[0m\u001b[1;33m\u001b[0m\u001b[0m\n\u001b[0m",
      "\u001b[1;31mNameError\u001b[0m: name 'x' is not defined"
     ]
    }
   ],
   "source": [
    "x"
   ]
  },
  {
   "cell_type": "markdown",
   "id": "24593e8a-5239-4f0a-a5e9-c38d100ffdcb",
   "metadata": {},
   "source": [
    "Lets cretae a new variable called test actual and input the admission information which are the actual outcomes we observed"
   ]
  },
  {
   "cell_type": "markdown",
   "id": "1eb72e82-35c4-47f5-a5c9-9a741de8f4fa",
   "metadata": {},
   "source": [
    "We will declare another variable called test data which will contain everything from test except for the admission information.\n",
    "\n",
    "This leaves us with SAT and Gender\n",
    "\n",
    "To ad a constant we can use the sm.add_constant(test_data) method"
   ]
  },
  {
   "cell_type": "code",
   "execution_count": 17,
   "id": "caf106b3-0ca0-4d9b-9937-c5188387b855",
   "metadata": {},
   "outputs": [
    {
     "name": "stderr",
     "output_type": "stream",
     "text": [
      "C:\\Users\\user\\anaconda3\\lib\\site-packages\\statsmodels\\tsa\\tsatools.py:142: FutureWarning: In a future version of pandas all arguments of concat except for the argument 'objs' will be keyword-only\n",
      "  x = pd.concat(x[::order], 1)\n"
     ]
    },
    {
     "data": {
      "text/html": [
       "<div>\n",
       "<style scoped>\n",
       "    .dataframe tbody tr th:only-of-type {\n",
       "        vertical-align: middle;\n",
       "    }\n",
       "\n",
       "    .dataframe tbody tr th {\n",
       "        vertical-align: top;\n",
       "    }\n",
       "\n",
       "    .dataframe thead th {\n",
       "        text-align: right;\n",
       "    }\n",
       "</style>\n",
       "<table border=\"1\" class=\"dataframe\">\n",
       "  <thead>\n",
       "    <tr style=\"text-align: right;\">\n",
       "      <th></th>\n",
       "      <th>const</th>\n",
       "      <th>SAT</th>\n",
       "      <th>Gender</th>\n",
       "    </tr>\n",
       "  </thead>\n",
       "  <tbody>\n",
       "    <tr>\n",
       "      <th>0</th>\n",
       "      <td>1.0</td>\n",
       "      <td>1323</td>\n",
       "      <td>0</td>\n",
       "    </tr>\n",
       "    <tr>\n",
       "      <th>1</th>\n",
       "      <td>1.0</td>\n",
       "      <td>1725</td>\n",
       "      <td>1</td>\n",
       "    </tr>\n",
       "    <tr>\n",
       "      <th>2</th>\n",
       "      <td>1.0</td>\n",
       "      <td>1762</td>\n",
       "      <td>1</td>\n",
       "    </tr>\n",
       "    <tr>\n",
       "      <th>3</th>\n",
       "      <td>1.0</td>\n",
       "      <td>1777</td>\n",
       "      <td>0</td>\n",
       "    </tr>\n",
       "    <tr>\n",
       "      <th>4</th>\n",
       "      <td>1.0</td>\n",
       "      <td>1665</td>\n",
       "      <td>0</td>\n",
       "    </tr>\n",
       "    <tr>\n",
       "      <th>5</th>\n",
       "      <td>1.0</td>\n",
       "      <td>1556</td>\n",
       "      <td>1</td>\n",
       "    </tr>\n",
       "    <tr>\n",
       "      <th>6</th>\n",
       "      <td>1.0</td>\n",
       "      <td>1731</td>\n",
       "      <td>1</td>\n",
       "    </tr>\n",
       "    <tr>\n",
       "      <th>7</th>\n",
       "      <td>1.0</td>\n",
       "      <td>1809</td>\n",
       "      <td>1</td>\n",
       "    </tr>\n",
       "    <tr>\n",
       "      <th>8</th>\n",
       "      <td>1.0</td>\n",
       "      <td>1930</td>\n",
       "      <td>1</td>\n",
       "    </tr>\n",
       "    <tr>\n",
       "      <th>9</th>\n",
       "      <td>1.0</td>\n",
       "      <td>1708</td>\n",
       "      <td>0</td>\n",
       "    </tr>\n",
       "    <tr>\n",
       "      <th>10</th>\n",
       "      <td>1.0</td>\n",
       "      <td>1970</td>\n",
       "      <td>1</td>\n",
       "    </tr>\n",
       "    <tr>\n",
       "      <th>11</th>\n",
       "      <td>1.0</td>\n",
       "      <td>2039</td>\n",
       "      <td>1</td>\n",
       "    </tr>\n",
       "    <tr>\n",
       "      <th>12</th>\n",
       "      <td>1.0</td>\n",
       "      <td>1681</td>\n",
       "      <td>1</td>\n",
       "    </tr>\n",
       "    <tr>\n",
       "      <th>13</th>\n",
       "      <td>1.0</td>\n",
       "      <td>1444</td>\n",
       "      <td>0</td>\n",
       "    </tr>\n",
       "    <tr>\n",
       "      <th>14</th>\n",
       "      <td>1.0</td>\n",
       "      <td>1726</td>\n",
       "      <td>0</td>\n",
       "    </tr>\n",
       "    <tr>\n",
       "      <th>15</th>\n",
       "      <td>1.0</td>\n",
       "      <td>1876</td>\n",
       "      <td>1</td>\n",
       "    </tr>\n",
       "    <tr>\n",
       "      <th>16</th>\n",
       "      <td>1.0</td>\n",
       "      <td>1485</td>\n",
       "      <td>0</td>\n",
       "    </tr>\n",
       "    <tr>\n",
       "      <th>17</th>\n",
       "      <td>1.0</td>\n",
       "      <td>1500</td>\n",
       "      <td>1</td>\n",
       "    </tr>\n",
       "    <tr>\n",
       "      <th>18</th>\n",
       "      <td>1.0</td>\n",
       "      <td>1900</td>\n",
       "      <td>0</td>\n",
       "    </tr>\n",
       "  </tbody>\n",
       "</table>\n",
       "</div>"
      ],
      "text/plain": [
       "    const   SAT  Gender\n",
       "0     1.0  1323       0\n",
       "1     1.0  1725       1\n",
       "2     1.0  1762       1\n",
       "3     1.0  1777       0\n",
       "4     1.0  1665       0\n",
       "5     1.0  1556       1\n",
       "6     1.0  1731       1\n",
       "7     1.0  1809       1\n",
       "8     1.0  1930       1\n",
       "9     1.0  1708       0\n",
       "10    1.0  1970       1\n",
       "11    1.0  2039       1\n",
       "12    1.0  1681       1\n",
       "13    1.0  1444       0\n",
       "14    1.0  1726       0\n",
       "15    1.0  1876       1\n",
       "16    1.0  1485       0\n",
       "17    1.0  1500       1\n",
       "18    1.0  1900       0"
      ]
     },
     "execution_count": 17,
     "metadata": {},
     "output_type": "execute_result"
    }
   ],
   "source": [
    "test_actual = test['Admitted']\n",
    "test_data = test.drop(['Admitted'],axis=1)\n",
    "test_data = sm.add_constant(test_data)\n",
    "test_data"
   ]
  },
  {
   "cell_type": "markdown",
   "id": "0f70e01a-32f9-4940-ae54-36ec9e2fe96f",
   "metadata": {},
   "source": [
    "Observe that te data looks exactly like the input data"
   ]
  },
  {
   "cell_type": "markdown",
   "id": "6237d600-c2e0-4c78-964e-e200bd50b83f",
   "metadata": {},
   "source": [
    "Note, that we are lucky here as the \n",
    "\n",
    "variables remained inthe same order\n",
    "\n",
    "Normally you will have to re=order the column to match those of x"
   ]
  },
  {
   "cell_type": "code",
   "execution_count": null,
   "id": "d0907ca3-09fb-4364-9e3a-be3eb031c177",
   "metadata": {},
   "outputs": [],
   "source": [
    "If you ever need to do it on your own, this is the code to use"
   ]
  },
  {
   "cell_type": "code",
   "execution_count": null,
   "id": "427d1dc2-e6a5-4293-928d-610d30d656ec",
   "metadata": {},
   "outputs": [],
   "source": [
    "#test_data = test_data[x.colums.values]\n",
    "#test_data"
   ]
  },
  {
   "cell_type": "markdown",
   "id": "aeededdc-36c5-4436-a9f6-08461b28cc84",
   "metadata": {},
   "source": [
    "The final step is to create the confusion\n",
    "matrix but unfortunately ststsmodels does not create this functionality unlike sciky learn ."
   ]
  },
  {
   "cell_type": "markdown",
   "id": "a29c90a2-ea3d-4ccc-9e23-4e7ad6da39da",
   "metadata": {},
   "source": [
    "We explained that the confusion matrix is \n",
    "\n",
    "simplty a place to summarize  all the available values."
   ]
  },
  {
   "cell_type": "markdown",
   "id": "6d245692-e4ac-4518-b86d-06487a797ba8",
   "metadata": {},
   "source": [
    "Lets manually create a function called confusion matrix."
   ]
  },
  {
   "cell_type": "code",
   "execution_count": 7,
   "id": "793a7d8f-d0bb-456d-bbad-70e697e3d16b",
   "metadata": {},
   "outputs": [],
   "source": [
    "def confusion_matrix(dat,actual_values,model):\n",
    "  \n",
    "    pred_values = model.predict(data)\n",
    "    bins=np.array([0,0.5,1])\n",
    "    cm = np.histogram2d(actual_values. pred_values, bins=bins)[0]\n",
    "    accuracy = (cm[0,0]+cm[1,1])/cm.sum()\n",
    "    return cm, accuracy"
   ]
  },
  {
   "cell_type": "code",
   "execution_count": null,
   "id": "d24abc7f-b044-4f93-a99c-bc1f6420ad4d",
   "metadata": {},
   "outputs": [],
   "source": [
    "There will be 3 arguement\n",
    "\n",
    "i. data\n",
    "\n",
    "ii. actual_values\n",
    "\n",
    "iii. model\n",
    "\n"
   ]
  },
  {
   "cell_type": "markdown",
   "id": "a889206e-5a41-4463-9817-e0ef7c1168a0",
   "metadata": {},
   "source": [
    "Our  function will use the already created regression model to make predictions based on the data.\n",
    "\n",
    "Then it will summarize the values on a table\n",
    "\n",
    "Finally, we will make it calculate the accuracy as well."
   ]
  },
  {
   "cell_type": "markdown",
   "id": "baa96236-36ed-4cc7-88f4-67e946296d78",
   "metadata": {},
   "source": [
    "Once used the function will return the confusion matrix and accuracy."
   ]
  },
  {
   "cell_type": "code",
   "execution_count": null,
   "id": "e72670c5-83a9-4c8a-b5ec-1374bac70bb7",
   "metadata": {},
   "outputs": [],
   "source": [
    "In the resousces you will find the code with detailed comments. \n",
    "\n",
    "#def confusion_matrix(dat,actual_values,model):\n",
    "   #confusion matrix\n",
    "   #parameters \n",
    "   #...........\n",
    "    #data: dat from or array\n",
    "    #data is a data from formatted in the same way as your input data(without the actual values)\n",
    "    #e.g const.var1, var2, ete Order is very important!\n",
    "#actual_values: data frame or array\n",
    "#These are the actual values from the test_data\n",
    "#In the case of a logistic regression,it should be a single column with 0s and 1s\n",
    "\n",
    "\n",
    "\n",
    "\n",
    "\n",
    "    #predict the values using the logit model\n",
    "    #pred_values = model.predict(data)\n",
    "    #Specify the bins\n",
    "    bins=np.array([0,0.5,1])\n",
    "    #Create a histogram,where if values are betwee 0 and 0.5 tell will be considered 0\n",
    "    #if they are between 0.5 and 1 ,they will be considered 1\n",
    "    cm = np.histogram2d(actual_values. pred_values, bins=bins)[0]\n",
    "    #Calculate accuracy\n",
    "    accuracy = (cm[0,0]+cm[1,1])/cm.sum()\n",
    "    return cm, acuracy\n",
    "    pred_values = model.predict(data)\n",
    "    bins=np.array([0,0.5,1])\n",
    "    cm = np.histogram2d(actual_values. pred_values, bins=bins)[0]\n",
    "    accuracy = (cm[0,0]+cm[1,1])/cm.sum()\n",
    "    #Return the confusion matrix and the accuracy\n",
    "    return cm, accuracy\n"
   ]
  },
  {
   "cell_type": "code",
   "execution_count": null,
   "id": "28a0af91-9a28-49ca-a42e-f334e459bf63",
   "metadata": {},
   "outputs": [],
   "source": [
    "Is now time to test the model"
   ]
  },
  {
   "cell_type": "code",
   "execution_count": 8,
   "id": "701f1e26-50cf-4990-8d9c-43d5ab10836c",
   "metadata": {},
   "outputs": [
    {
     "ename": "NameError",
     "evalue": "name 'test_data' is not defined",
     "output_type": "error",
     "traceback": [
      "\u001b[1;31m---------------------------------------------------------------------------\u001b[0m",
      "\u001b[1;31mNameError\u001b[0m                                 Traceback (most recent call last)",
      "\u001b[1;32m~\\AppData\\Local\\Temp/ipykernel_8976/3561333225.py\u001b[0m in \u001b[0;36m<module>\u001b[1;34m\u001b[0m\n\u001b[1;32m----> 1\u001b[1;33m \u001b[0mcm\u001b[0m \u001b[1;33m=\u001b[0m \u001b[0mconfusion_matrix\u001b[0m\u001b[1;33m(\u001b[0m\u001b[0mtest_data\u001b[0m\u001b[1;33m,\u001b[0m\u001b[0mtest_actual\u001b[0m\u001b[1;33m,\u001b[0m\u001b[0mresults_log\u001b[0m\u001b[1;33m)\u001b[0m\u001b[1;33m\u001b[0m\u001b[1;33m\u001b[0m\u001b[0m\n\u001b[0m\u001b[0;32m      2\u001b[0m \u001b[0mcm\u001b[0m\u001b[1;33m\u001b[0m\u001b[1;33m\u001b[0m\u001b[0m\n",
      "\u001b[1;31mNameError\u001b[0m: name 'test_data' is not defined"
     ]
    }
   ],
   "source": [
    "cm = confusion_matrix(test_data,test_actual,results_log)\n",
    "cm"
   ]
  },
  {
   "cell_type": "markdown",
   "id": "f7804a0f-3d45-4d39-bf51-7044f4a40297",
   "metadata": {},
   "source": [
    "From our result, the left part is the confusion matrix.while the right part is the accuracy."
   ]
  },
  {
   "cell_type": "markdown",
   "id": "4af9b495-06f3-481b-a92e-9096f48ea9ed",
   "metadata": {},
   "source": [
    "The accuracy of the model is actually 89.47% and this is also the figure we used to refer to the overall accuracty of the regression."
   ]
  },
  {
   "cell_type": "markdown",
   "id": "7617b5ae-a6af-46fb-bcda-c82c4fb13d87",
   "metadata": {},
   "source": [
    "Almost always the training accuracy is bigger than the test accuracy.\n",
    "\n",
    "That is because of the over-fitting we talked about"
   ]
  },
  {
   "cell_type": "markdown",
   "id": "678c4740-1654-4cfc-8547-633576b025a1",
   "metadata": {},
   "source": [
    "The regression fit in the training data as well as possible.\n",
    "\n",
    "But that doesnt mean that the prediction is true for all the values of the population."
   ]
  },
  {
   "cell_type": "markdown",
   "id": "e9156433-cd10-4f9a-8a22-0032739d29a5",
   "metadata": {},
   "source": [
    "That's why we test data the model have never seen and make our conclusions on that."
   ]
  },
  {
   "cell_type": "code",
   "execution_count": null,
   "id": "1800c6e0-55ea-4270-b5ef-00fc98f5a86e",
   "metadata": {},
   "outputs": [],
   "source": [
    "Formatting the confusion matrix"
   ]
  },
  {
   "cell_type": "code",
   "execution_count": null,
   "id": "68f2a129-7ce5-478b-9b80-9b84e9268703",
   "metadata": {},
   "outputs": [],
   "source": [
    "Finally we will format the confusion matrix\n",
    "\n",
    "should you want to examine further"
   ]
  },
  {
   "cell_type": "code",
   "execution_count": 10,
   "id": "40f603bc-90c2-468b-ba71-7b4371f22fe3",
   "metadata": {},
   "outputs": [
    {
     "ename": "SyntaxError",
     "evalue": "invalid syntax (Temp/ipykernel_8976/4039409596.py, line 3)",
     "output_type": "error",
     "traceback": [
      "\u001b[1;36m  File \u001b[1;32m\"C:\\Users\\user\\AppData\\Local\\Temp/ipykernel_8976/4039409596.py\"\u001b[1;36m, line \u001b[1;32m3\u001b[0m\n\u001b[1;33m    cm_df = cm_df.rename(index={0; 'Actual 0' ,1:'Actual 1'})\u001b[0m\n\u001b[1;37m                                 ^\u001b[0m\n\u001b[1;31mSyntaxError\u001b[0m\u001b[1;31m:\u001b[0m invalid syntax\n"
     ]
    }
   ],
   "source": [
    "cf_df = pd.DataFrame(cm[0])\n",
    "cm_df.columns = ['predicted 0', 'predicted 1']\n",
    "cm_df = cm_df.rename(index={0; 'Actual 0' ,1:'Actual 1'})\n",
    "cm_df"
   ]
  },
  {
   "cell_type": "markdown",
   "id": "fb0754ee-5c59-403c-97a1-242549838e9c",
   "metadata": {},
   "source": [
    "The opposite of accuracy is the 'Missclassification rate'\n",
    "\n",
    "Missclassification = #missclassified / #all elements\n"
   ]
  },
  {
   "cell_type": "code",
   "execution_count": null,
   "id": "be530f6a-c149-4c43-9f48-719dc68c9d77",
   "metadata": {},
   "outputs": [],
   "source": [
    "In this case it is 1 + 1 / 19 = 10.53%"
   ]
  },
  {
   "cell_type": "code",
   "execution_count": 12,
   "id": "a4508281-2f7f-43c7-b8a3-9ee2aace6399",
   "metadata": {},
   "outputs": [
    {
     "ename": "SyntaxError",
     "evalue": "unmatched ')' (Temp/ipykernel_8976/583650851.py, line 1)",
     "output_type": "error",
     "traceback": [
      "\u001b[1;36m  File \u001b[1;32m\"C:\\Users\\user\\AppData\\Local\\Temp/ipykernel_8976/583650851.py\"\u001b[1;36m, line \u001b[1;32m1\u001b[0m\n\u001b[1;33m    print ('Missclassification rate: '+str(1+1)/19))\u001b[0m\n\u001b[1;37m                                                   ^\u001b[0m\n\u001b[1;31mSyntaxError\u001b[0m\u001b[1;31m:\u001b[0m unmatched ')'\n"
     ]
    }
   ],
   "source": [
    "print ('Missclassification rate: '+str(1+1)/19))"
   ]
  },
  {
   "cell_type": "markdown",
   "id": "1128bec0-7693-4832-8d98-44822a31fefe",
   "metadata": {
    "tags": []
   },
   "source": [
    "#### Logistic Regression Quiz"
   ]
  },
  {
   "cell_type": "markdown",
   "id": "1cebc84a-6e41-4afd-8ea2-3a1f20322ca7",
   "metadata": {},
   "source": [
    "N0 1.\n",
    "\n",
    "Suppose that you have trained a logistic regression \n",
    "\n",
    "classifier, and it outputs on a new example a \n",
    "\n",
    "prediction h0(x) = 0.2. This means (check all that apply):"
   ]
  },
  {
   "cell_type": "markdown",
   "id": "ef228919-13d6-4050-b1f2-81aefc555596",
   "metadata": {},
   "source": [
    "Ans :our estimate for P(y = 0|x; θ) is 0.8. "
   ]
  },
  {
   "cell_type": "markdown",
   "id": "b36b3c8d-d0d3-448f-9b51-6affcc92d655",
   "metadata": {},
   "source": [
    "2. Suppose you have the following training\n",
    "\n",
    "set, and fit a logistic regression \n",
    "\n",
    "classifier\n",
    "\n",
    "h0(x) = g(0o + 01x1 + 02x2)"
   ]
  },
  {
   "cell_type": "markdown",
   "id": "74f0c1d4-118a-4a00-9984-045abe7688bc",
   "metadata": {},
   "source": [
    "Answer;"
   ]
  },
  {
   "cell_type": "markdown",
   "id": "17a9d52b-969d-420b-b53d-54fd6233df25",
   "metadata": {},
   "source": [
    "Adding polynomial features (e.g., instead using/) \n",
    "\n",
    "h0(x)= g(0o) + 01x1 + 02x2 + 03x^2 1 \n",
    "\n",
    "+ 04x1x2 + 05x^2 2)\n",
    "\n",
    "could increase how well we can fit the \n",
    "\n",
    "training data.\n",
    "\n",
    "\n",
    "At the optimal value of θ (e.g., found by \n",
    "\n",
    "fminunc), we will have J(θ) ≥ 0."
   ]
  },
  {
   "cell_type": "markdown",
   "id": "a38f6c03-ec53-44db-a181-1f5de4a80c11",
   "metadata": {},
   "source": [
    "3. For logistic regression, the gradient is\n",
    "\n",
    "given by  \n",
    "\n",
    "a / a0j(0) = 1/mΣ^m i=1(h0(x^(i)) -\n",
    "\n",
    "y^i)x^(i)j\n",
    "\n",
    ".  Which of these is a correct gradient \n",
    "\n",
    "descent update for logistic regression with\n",
    "\n",
    "a learning rate of ά?"
   ]
  },
  {
   "cell_type": "markdown",
   "id": "8ebec6ca-f904-47d1-940a-cb5180c7b811",
   "metadata": {},
   "source": [
    "Which of the following statements are true? Check all that apply."
   ]
  },
  {
   "cell_type": "markdown",
   "id": "9fae03a7-89b7-421c-9f5f-bf21136e21d4",
   "metadata": {},
   "source": [
    "Answer: "
   ]
  },
  {
   "cell_type": "markdown",
   "id": "cec9bdc4-1c4b-4cd1-b2d3-a1ce6f3d9e98",
   "metadata": {},
   "source": [
    "0j: = 0j -  ά1/m Σ ^m i-1(h0(x^(i)-y^1)xj^(i)\n",
    "\n",
    "(simultaneously update for all j).\n",
    "                         \n",
    "                         \n",
    "0j: = 0j -  ά1/m Σ ^m i-1( 1 / 1 + e^-0T x ^(i)  - y^(i)xj^(i)\n",
    "\n",
    "(simultaneously update for all j).\n",
    "                                                  "
   ]
  },
  {
   "cell_type": "markdown",
   "id": "4a94efbe-2965-4449-8556-a8fe1bb69251",
   "metadata": {},
   "source": [
    "N0 4 \n",
    "\n",
    " Which of the following statements are true? Check \n",
    " \n",
    " all that apply.\n"
   ]
  },
  {
   "cell_type": "code",
   "execution_count": null,
   "id": "a1aea42d-abbb-4eda-b177-ee8e0935ca00",
   "metadata": {},
   "outputs": [],
   "source": [
    "Answer "
   ]
  },
  {
   "cell_type": "markdown",
   "id": "4f56364b-021e-4bc6-a570-035d89fd21d8",
   "metadata": {},
   "source": [
    "The one-vs-all technique allows you to use logistic regression for problems in which each\n",
    "\n",
    "y^(i)\n",
    "comes from a fixed, discrete set of values."
   ]
  },
  {
   "cell_type": "markdown",
   "id": "5ce8b89e-cad8-48af-bcbe-db43a204c1d9",
   "metadata": {},
   "source": [
    "N0.5\n",
    "\n",
    "Suppose you train a logistic classifier\n",
    "\n",
    ".h0(x) = g(0o + 01x1 + 02x2) Suppose 0o =06,01=-1,02 = 0 . \n",
    "\n",
    "Which of the following figures represents the \n",
    "\n",
    "decision boundary found by your classifier?"
   ]
  },
  {
   "cell_type": "code",
   "execution_count": null,
   "id": "5a916613-b7f5-4f9f-a674-8bb5c47f05fd",
   "metadata": {},
   "outputs": [],
   "source": [
    "Ans in notebook"
   ]
  },
  {
   "cell_type": "markdown",
   "id": "5a47013d-a42f-46b7-be40-784dcc86de03",
   "metadata": {},
   "source": [
    "#### Regularized Regression"
   ]
  },
  {
   "cell_type": "markdown",
   "id": "ca1124f2-302c-4bfc-ab84-ea1794c58463",
   "metadata": {},
   "source": [
    "##### Regularization in Machine learning "
   ]
  },
  {
   "cell_type": "markdown",
   "id": "e639962a-5522-4709-acf0-dec3b9d3943c",
   "metadata": {},
   "source": [
    "Our focus is on the following.\n",
    "\n",
    ">. Fitting the Data\n",
    "\n",
    ">. Understanding linear Regression\n",
    "\n",
    ">. Bias and Variance \n",
    "\n",
    ">. What is Overfitting?\n",
    "\n",
    ">. What is Underfittting?\n",
    "\n",
    ">. What is Regularization?\n",
    "\n",
    ">. Hands on Demos\n"
   ]
  },
  {
   "cell_type": "markdown",
   "id": "1b276638-42c5-402d-ade0-dcaf22490a08",
   "metadata": {},
   "source": [
    "#### Fitting the Data"
   ]
  },
  {
   "cell_type": "markdown",
   "id": "5d5dcef2-07a4-4a18-a4a3-8790ac6a1caa",
   "metadata": {},
   "source": [
    "Data fitting is a process of plotting a series of data point and \n",
    "\n",
    "drawing the best fit line to understand the relationship between the variables."
   ]
  },
  {
   "cell_type": "markdown",
   "id": "a26cabfd-e577-45f3-8236-823074e03e76",
   "metadata": {},
   "source": [
    "Linear relationship"
   ]
  },
  {
   "cell_type": "markdown",
   "id": "00aae036-4c9e-4724-8f74-b31f30c723ca",
   "metadata": {},
   "source": [
    "Data fitting is also a linear relationship.\n",
    "\n",
    "And linear means line.\n",
    "\n",
    "The line used to represent the relationship is a straight line that passes through the data points and the variables have linear relationship.\n"
   ]
  },
  {
   "cell_type": "markdown",
   "id": "e50e4774-eba3-4e2e-ae91-dbce3482fa95",
   "metadata": {},
   "source": [
    "Linear Regression"
   ]
  },
  {
   "cell_type": "markdown",
   "id": "de0d2a96-6b84-417b-97e9-6d34224e5f0c",
   "metadata": {},
   "source": [
    "How linear Regression works?"
   ]
  },
  {
   "cell_type": "markdown",
   "id": "7a609f06-d0a6-41ac-8d56-697a315d24b8",
   "metadata": {},
   "source": [
    "Linear regression tries to find the line that best fits the deta \n",
    "\n",
    "point and gives a linear relationship between the two variables."
   ]
  },
  {
   "cell_type": "markdown",
   "id": "71530d11-4137-48a7-be3b-104e8b73056a",
   "metadata": {},
   "source": [
    "Example"
   ]
  },
  {
   "cell_type": "markdown",
   "id": "7207d039-f48d-4199-a55b-8f398e6160fb",
   "metadata": {},
   "source": [
    "Let's say that we want to find the relationship between the \n",
    "\n",
    "temperature outside vs the sales of ice cream."
   ]
  },
  {
   "cell_type": "markdown",
   "id": "5ee67b59-a8a6-4139-9eb5-b1917638574d",
   "metadata": {},
   "source": [
    "We wil be looking at \n",
    "\n",
    ">. how many ice cream cron we sold.\n",
    "\n",
    ">. how much we sold an ice cream.\n",
    "\n",
    ">. How warm is the weather outside which will also draw people into the ice cream store."
   ]
  },
  {
   "cell_type": "markdown",
   "id": "fefa3106-8024-4f20-8195-3e8f56518606",
   "metadata": {},
   "source": [
    "Suppose we have 2 lines, L1 and L2 which claim to describe the \n",
    "\n",
    "relationship between the variables.\n",
    "\n",
    "And we will check to see the one that is the best fit.\n",
    "\n",
    "and which best describes the variable."
   ]
  },
  {
   "cell_type": "markdown",
   "id": "a320b1b8-17c1-4a05-bf36-444b4ef48226",
   "metadata": {},
   "source": [
    "First find the square of distance between the line L1 and each \n",
    "\n",
    "data point,add them all and find the mean distance."
   ]
  },
  {
   "cell_type": "markdown",
   "id": "7ba325b5-a45c-4a40-adef-32056f76208d",
   "metadata": {},
   "source": [
    "When we square something whether negative or positive number ,it \n",
    "\n",
    "no longer matters because -2sqaured is 4.  and 2squaredd is 4."
   ]
  },
  {
   "cell_type": "markdown",
   "id": "a979a5fe-9a36-4dbb-bfd7-dd77f260e6fd",
   "metadata": {},
   "source": [
    "So by so doing we are removing which side of the line is on.\n",
    "\n",
    "we are just looking for the error and in this case the mean\n",
    "\n",
    "square of each of the little dotted line we see in our graph"
   ]
  },
  {
   "cell_type": "markdown",
   "id": "35ae9c55-bc57-4ec0-a6df-b960b589b888",
   "metadata": {},
   "source": [
    "This way of calculating the square of the distance , adding them \n",
    "\n",
    "and then taking mean is called Mean Squared Error or Loss \n",
    "\n",
    "Function"
   ]
  },
  {
   "cell_type": "markdown",
   "id": "1ccde7bf-e341-4340-99bc-c85ba4739588",
   "metadata": {},
   "source": [
    "When we talk about loss ,how far off are we . Thats what we are \n",
    "\n",
    "really talking about, what do we miss, we have positive and \n",
    "\n",
    "negative distance and because we have squared it,it now becomes a positive error."
   ]
  },
  {
   "cell_type": "markdown",
   "id": "94b79148-7d08-4297-8a45-ea04067656ca",
   "metadata": {},
   "source": [
    "Mean Squared error (Applyin the formula)\n",
    "\n",
    "= (2500 + 400 + 400 + 900 + 400 + 2500 + 1600 + 2500 + 400)/11\n",
    "\n",
    "=  112727"
   ]
  },
  {
   "cell_type": "markdown",
   "id": "f317fa0a-4f5d-4922-aa63-bed6adf65839",
   "metadata": {},
   "source": [
    "MSE for L1 = 1127.27"
   ]
  },
  {
   "cell_type": "markdown",
   "id": "e676c1ac-347e-418f-a799-e6fd113b4737",
   "metadata": {},
   "source": [
    "We take all the doted lines we calculate them together,then \n",
    "average it or find the means."
   ]
  },
  {
   "cell_type": "markdown",
   "id": "3d5e9186-f179-4efc-a0b8-947818874506",
   "metadata": {},
   "source": [
    "We will now find the loss function fro our L2 in a similar way\n",
    "\n",
    "We find loss function for the line L2 in similar fashion and we get the means squared error to be 6397.72."
   ]
  },
  {
   "cell_type": "markdown",
   "id": "ef68b4e3-f6e6-4d12-9e49-9a2606dbd358",
   "metadata": {},
   "source": [
    "By analyzing our result we found out that the loss function or mean squared error is less for L1 than L2\n",
    "\n",
    "Hence, L1 is the best fit line."
   ]
  },
  {
   "cell_type": "markdown",
   "id": "442aedb4-e13d-4981-8b7c-7e320097d52c",
   "metadata": {},
   "source": [
    "This process describes alot of machine learning processes\n",
    "\n",
    "There is a way we nedd to keep guessing until we find the right answer.\n",
    "But using mean square is the best way to find the best fit for our model and it is most commonly used."
   ]
  },
  {
   "cell_type": "markdown",
   "id": "b02e0692-641f-45bb-b7eb-b53847727dd9",
   "metadata": {},
   "source": [
    "#### Bias and Variance"
   ]
  },
  {
   "cell_type": "markdown",
   "id": "af29b289-3dd8-4c72-bfef-bcd03d5eda3f",
   "metadata": {},
   "source": [
    "They are very important tems to know in machine learning and linear regression."
   ]
  },
  {
   "cell_type": "markdown",
   "id": "60c64199-285c-46b4-b2c1-8f64905d573f",
   "metadata": {},
   "source": [
    "##### Bias"
   ]
  },
  {
   "cell_type": "markdown",
   "id": "fa7389b1-8829-4ad2-a5d0-8029135b5c8f",
   "metadata": {},
   "source": [
    "Bias occurs when an algorithm has limited flexibility to learn from data\n",
    "\n",
    "Bias is very generalized\n",
    "\n",
    "\n",
    "Such modela pay very lottle attention to the training data and \n",
    "\n",
    "oversimplify the model therefore the validation error or \n",
    "\n",
    "prediction error and training error follow similsr trends"
   ]
  },
  {
   "cell_type": "markdown",
   "id": "42259c2b-1ea8-44bf-aeed-e62e7f2c2723",
   "metadata": {},
   "source": [
    "With bias if you over simplify it so much, you will miss the real fit.\n",
    "\n",
    "You will just guess what the average is and that becomes your answer.\n",
    "\n"
   ]
  },
  {
   "cell_type": "markdown",
   "id": "002d3afb-67bb-461c-87cd-11ea7d655a98",
   "metadata": {},
   "source": [
    "Such error always leads to high errors on training and test data\n",
    "as of bias . "
   ]
  },
  {
   "cell_type": "markdown",
   "id": "5e6deb75-50e3-4d44-9c73-c0e4c5cc1a87",
   "metadata": {},
   "source": [
    "This is because we are just feeding in the average and we are not really feeding it close"
   ]
  },
  {
   "cell_type": "markdown",
   "id": "3a520b2f-de3e-4c96-b7ec-67a3ee105506",
   "metadata": {},
   "source": [
    "Example"
   ]
  },
  {
   "cell_type": "markdown",
   "id": "7e3ab497-b9ac-419e-9e30-1e069b8185f7",
   "metadata": {},
   "source": [
    "In a dart game , if all the darts fall  on a particular pointer,\n",
    "\n",
    "this can be considered as a 'biased throw', and the player aims for the particular score."
   ]
  },
  {
   "cell_type": "markdown",
   "id": "d9e3563a-ee63-4e94-8840-611b016384e0",
   "metadata": {},
   "source": [
    "The variance sums everything up in one point, averages it and \n",
    "\n",
    "looks for the individual predictions coming out."
   ]
  },
  {
   "cell_type": "markdown",
   "id": "efc51ad1-3860-4af1-bf93-b18f0f2a6891",
   "metadata": {},
   "source": [
    "##### Variance"
   ]
  },
  {
   "cell_type": "markdown",
   "id": "436edea5-05fc-4620-8f67-18d984bf1c2c",
   "metadata": {},
   "source": [
    "Variance  defines algorithmn s sensitivity to specific set of data\n",
    "\n",
    "Variance is very specific\n",
    "\n",
    "\n",
    "A model with a high variance pays a lot of attention to training \n",
    "\n",
    "data and does not generalize therefore the validation erroe or prediction error are far apart from each other. "
   ]
  },
  {
   "cell_type": "markdown",
   "id": "ffecd105-e124-4e1c-adba-86d1fa4c6bbd",
   "metadata": {},
   "source": [
    "Such models usually perform very well on training data but have \n",
    "\n",
    "high error rates on test data"
   ]
  },
  {
   "cell_type": "markdown",
   "id": "b55ae347-4393-4152-bb6c-cbe4c300772a",
   "metadata": {},
   "source": [
    "With variance we are fitting it so close that the test data is really good.\n",
    "\n",
    "If  we are doing categorical testing ,it specifies it  eg. this a car, truck, bicycle.\n",
    "\n",
    "If we look at the pictures form the light we can determine if it is a truck or bicyce  etc\n",
    "\n",
    "A truck had to have certain features and it might have to be red  because from the pictures we have so manty red pictures.\n",
    "\n",
    "andif it is  blue then it has to be a bicycle.\n",
    "\n",
    "That is the kind of variance we mean, it picks up on something  and it cannot get the right anwser unless it gives a very specific data."
   ]
  },
  {
   "cell_type": "markdown",
   "id": "b3152b88-c0cb-40dc-bb78-d97b304bf783",
   "metadata": {},
   "source": [
    "After you have seen that you test it in your model,program it and look for how it was trained and what is coming out.\n",
    "\n",
    "If it is not looking good for you to bias on , and is not looking good on the training and on the test data then it may be bias on your data."
   ]
  },
  {
   "cell_type": "markdown",
   "id": "9e601742-678f-48c4-93f2-6e516824316d",
   "metadata": {},
   "source": [
    "But if it looks good on the training data , it may be that \n",
    "\n",
    "variance over-fitted the data."
   ]
  },
  {
   "cell_type": "markdown",
   "id": "e824e24f-6557-482e-b9ed-c6353ecede9f",
   "metadata": {},
   "source": [
    "These are very important things to know when you are building \n",
    "\n",
    "your models in regression of any kind or any set up for predicting"
   ]
  },
  {
   "cell_type": "markdown",
   "id": "0ec5e215-b7f1-4e9f-9a4c-3b8a05c819fb",
   "metadata": {},
   "source": [
    "Example "
   ]
  },
  {
   "cell_type": "markdown",
   "id": "97522cae-55f4-4cfd-94b0-604ccf7f5925",
   "metadata": {},
   "source": [
    "If all the darts fall on different pointers and no two darts fall\n",
    "\n",
    "on the same pointer, then , this can be considered as a 'varied throw'\n",
    "\n",
    "and the players aimsfor various scores."
   ]
  },
  {
   "cell_type": "markdown",
   "id": "c6445371-75bc-401f-8105-7152acb0bc09",
   "metadata": {},
   "source": [
    "#### Overfitting"
   ]
  },
  {
   "cell_type": "markdown",
   "id": "a75eb460-7006-4945-abbc-f0ae281e6da9",
   "metadata": {},
   "source": [
    "This is a scenario where the machine learning model tries to \n",
    "\n",
    "learn from the details along with the noise in the data and tries to fit each data point on the curve. "
   ]
  },
  {
   "cell_type": "markdown",
   "id": "655d6814-bf5c-453d-8b6f-c5934c7e571b",
   "metadata": {},
   "source": [
    "As a model has very lesss flexibility ,it fails to predict new \n",
    "\n",
    "data points and thus the model rejects every new data point during prediction"
   ]
  },
  {
   "cell_type": "markdown",
   "id": "6abb740b-931b-45a1-8ca2-542b34eaa66c",
   "metadata": {},
   "source": [
    "##### reasons for overfitting"
   ]
  },
  {
   "cell_type": "markdown",
   "id": "50162f9d-07f2-4860-9648-562c7e79dd6e",
   "metadata": {},
   "source": [
    "1. Data used for training is not cleaned and contains noise \n",
    "(garbage values) in it.\n",
    "\n",
    "You can spend so much time cleaning your data and at some points\n",
    "\n",
    "if you have something wrong with the data coming in ,it needs to be addressed\n",
    "Whether is the source of the data, the measuring tools, the machine bill to know if the numbers are ming in wrong.\n",
    "\n",
    "2. The model has a high variance\n",
    "A good example is wind\n",
    "You may have a 100 test but because the wind is blowing , it is all over the place.\n",
    "\n",
    "3. Sise of training data used is not enough.\n",
    "If you use small amount of data ,it will also cause a problem.\n",
    "when you have a few point ,you will ty to plot everything.\n",
    "\n",
    "4. The model is too complex.\n",
    "This comes up alot.You put too many pieces together, how they interact cant even be tracked.\n",
    "\n",
    "Hence, you have to go back, break it up and find out what correlates and what doesn.t"
   ]
  },
  {
   "cell_type": "markdown",
   "id": "f8393a54-fcb9-4084-9586-f8d7e6d2ef5f",
   "metadata": {},
   "source": [
    "#### Underfitting"
   ]
  },
  {
   "cell_type": "markdown",
   "id": "49102e09-2931-4a49-8521-f7dfec0e6de6",
   "metadata": {},
   "source": [
    "A scenario where machine learning model can neither learn the\n",
    "\n",
    "relationship between variables in the data nor predict or \n",
    "\n",
    "classify a new datapoint."
   ]
  },
  {
   "cell_type": "markdown",
   "id": "65ca88bb-71ca-42e0-ae2c-408a8937473c",
   "metadata": {},
   "source": [
    "As the model doesn't fully learn the patterns.\n",
    "\n",
    "It accepts every new data point during the prediction"
   ]
  },
  {
   "cell_type": "markdown",
   "id": "e753e45c-6fc4-4658-94ed-fe2ddeb13e4c",
   "metadata": {},
   "source": [
    " 1. Data used for training is not cleaned and contains noise(garbage values) in it.\n",
    " \n",
    " You need to clean your data. same issue with overfitting and underfitting."
   ]
  },
  {
   "cell_type": "markdown",
   "id": "49f4ad09-1953-4477-8e04-deca142bb119",
   "metadata": {},
   "source": [
    "2. The model has a high bias:  example driving cars to facial identification.\n",
    "\n",
    "The model itself when you build  might have a bias towards one thing.\n",
    "\n",
    "Underfitting model has such  issue.\n",
    "\n",
    "For example if you have 5 people from india and 10 people from \n",
    "\n",
    "Africa and 20 people from the US, you have created  a bias.\n",
    "\n",
    "Because is looking at the 20 people and you only have a small amount of data to work with."
   ]
  },
  {
   "cell_type": "markdown",
   "id": "cf669227-26ca-4b48-9ef9-9f5f165fee48",
   "metadata": {},
   "source": [
    "3. The size of training data used is not enough"
   ]
  },
  {
   "cell_type": "markdown",
   "id": "e5632e7b-369c-4b89-843f-0ba52b09ab17",
   "metadata": {},
   "source": [
    "4. Model is too simple\n",
    "\n",
    "we have one straight line in all the data"
   ]
  },
  {
   "cell_type": "markdown",
   "id": "f781f35d-f854-4055-b246-9911bf1f90db",
   "metadata": {},
   "source": [
    "#### What is a Good fit?"
   ]
  },
  {
   "cell_type": "markdown",
   "id": "1da90cc7-868d-4be3-bcd8-a316f81a762a",
   "metadata": {},
   "source": [
    "A line or a curve that best fits the data is neither \n",
    "\n",
    "overfitting nor underfitting models but is just right."
   ]
  },
  {
   "cell_type": "markdown",
   "id": "9f7597ba-7bd3-4be8-894b-d56591695926",
   "metadata": {},
   "source": [
    "#### Regularization"
   ]
  },
  {
   "cell_type": "markdown",
   "id": "ac6ba317-fe3a-402c-aae7-53ff66660ae2",
   "metadata": {},
   "source": [
    "Regularization tecniques are used to calibrate the linear \n",
    "\n",
    "regession models in order to minimize the adjusted loss \n",
    "\n",
    "function and prevent overfitting or underfitting"
   ]
  },
  {
   "cell_type": "code",
   "execution_count": null,
   "id": "a925acdc-951b-415e-b749-752ac8ee9d38",
   "metadata": {},
   "outputs": [],
   "source": [
    "It simply means taking the guess work out"
   ]
  },
  {
   "cell_type": "raw",
   "id": "6b659287-6dc8-4884-8c0e-388feba860fc",
   "metadata": {},
   "source": [
    "                  Regularization\n",
    "    \n",
    "              |                  |\n",
    "        \n",
    "Ridge(L2)Regularization          Lasso (L1)Regularization\n"
   ]
  },
  {
   "cell_type": "markdown",
   "id": "6b530ff4-17a6-4a2a-91a3-17e963147c59",
   "metadata": {},
   "source": [
    "#### Ridge Regression"
   ]
  },
  {
   "cell_type": "markdown",
   "id": "0f1b7402-b8c7-4daf-9744-4a13fe170fd9",
   "metadata": {},
   "source": [
    "It modifies the overfitted or the underfitted models by adding \n",
    "\n",
    "the penalty quivalent to the sum of the squares of the magnitude of cofficients"
   ]
  },
  {
   "cell_type": "markdown",
   "id": "189771b6-702a-45cb-bdd6-f40f87caa2b6",
   "metadata": {},
   "source": [
    "We have :\n",
    "    \n",
    "Cost function  = Loss +  λ x Σ||w||^2\n",
    "\n",
    "Here,\n",
    "\n",
    "Loss = sum of the squared residuals\n",
    "\n",
    "λ = Penalty for the erors\n",
    "\n",
    "W = slope of the curve/line"
   ]
  },
  {
   "cell_type": "markdown",
   "id": "a1eed0a7-1fc1-4678-9ecd-a0dcb06d0403",
   "metadata": {},
   "source": [
    "Cost function = Loss + λ x Σ||w||^2\n",
    "\n",
    "For linear regression line, let's consider two points that are on the line.\n",
    "\n",
    "Loss = 0 (considering the two points on the line)\n",
    "\n",
    "λ = 1\n",
    "\n",
    "W = 1.4\n",
    "\n",
    "Then cost function = 0 + 1 x 1.4^2   = 1.96"
   ]
  },
  {
   "cell_type": "markdown",
   "id": "e2df0d57-ffd6-45a2-972b-8bb55020d3a6",
   "metadata": {},
   "source": [
    "For linear regression line ,lets consider 2 points sitting on the line.\n",
    "\n",
    "It has a Loss of 0\n",
    "\n",
    "considering the two pointas on the line , we will do\n",
    "\n",
    "lambda = 1\n",
    "\n",
    "W = 1.4 \n",
    "\n",
    "then you add up to get the cost function as done above."
   ]
  },
  {
   "cell_type": "markdown",
   "id": "d0b01794-8ccc-4667-8b87-466bc9648c0f",
   "metadata": {},
   "source": [
    "Now is time to plot it and do the calculation on the data."
   ]
  },
  {
   "cell_type": "markdown",
   "id": "b9f0c72d-ddb3-4f7c-8722-6d0f01b9c2f1",
   "metadata": {},
   "source": [
    "Cost function = Loss + λ x Σ||w||^2\n",
    "\n",
    "For Ridge Regression, let.s assume, \n",
    "\n",
    "Loss = 0.3^2 + 0.2^2 = 0.13\n",
    "\n",
    "λ = 1\n",
    "\n",
    "W = 0.7\n",
    "\n",
    "Then,\n",
    "\n",
    "Cost function = 0.13 + 1 x 0.7^2 = 0.62"
   ]
  },
  {
   "cell_type": "markdown",
   "id": "84ad8f43-e8c9-4fd7-9d43-7783ad9cc617",
   "metadata": {},
   "source": [
    "Comparing the two models with all the data points, we can see\n",
    "\n",
    "that the Ridge regression line fits the model more accurately \n",
    "\n",
    "than the linear regression line."
   ]
  },
  {
   "cell_type": "markdown",
   "id": "7628bbcc-1eb5-434f-b3de-cda4bc6c4043",
   "metadata": {},
   "source": [
    "#### lasso Regression"
   ]
  },
  {
   "cell_type": "markdown",
   "id": "086f2c75-133c-4679-97b5-d1c6bbb33190",
   "metadata": {},
   "source": [
    "It modifies the overfitted or underfitted models by adding the \n",
    "\n",
    "penalty equivalent to the sum of the absolute values of coefficients."
   ]
  },
  {
   "cell_type": "markdown",
   "id": "639709e9-d486-43b4-932b-c3f355baddb6",
   "metadata": {},
   "source": [
    "Cost function = Loss + λ x Σ||w||\n",
    "\n",
    "Here,\n",
    "\n",
    "Loss = sum of the squared residuals\n",
    "\n",
    "λ = Penalty for the erors\n",
    "\n",
    "W = slope of the curve/line\n"
   ]
  },
  {
   "cell_type": "markdown",
   "id": "d787d9d1-4b89-4f05-b0dc-1d3f35a4fd34",
   "metadata": {},
   "source": [
    "Observe we dont square the value here."
   ]
  },
  {
   "cell_type": "markdown",
   "id": "cafd5e4e-8dbb-42a5-a82c-51a9271f0556",
   "metadata": {},
   "source": [
    "Comparing the two models with all data points, we can see that\n",
    "\n",
    "the Lasso regression line fits the model more accurately than \n",
    "\n",
    "the linear regression line"
   ]
  },
  {
   "cell_type": "markdown",
   "id": "901a6666-1454-4002-8adf-3c3916d04490",
   "metadata": {},
   "source": [
    "#### Ridge vs Lasso Regression"
   ]
  },
  {
   "cell_type": "markdown",
   "id": "183725b3-bf97-4f1e-aa34-7472009ab511",
   "metadata": {},
   "source": [
    "Ridge(L2)Regularization         \n"
   ]
  },
  {
   "cell_type": "markdown",
   "id": "961ff455-a308-4f1f-90a5-337ef0447023",
   "metadata": {},
   "source": [
    "1. Ridge regularization is useful when we have many variables \n",
    "\n",
    "with relatively smaller data samples"
   ]
  },
  {
   "cell_type": "markdown",
   "id": "abd71d75-cc49-43d1-8b72-33e5964aa8d0",
   "metadata": {},
   "source": [
    "2. The model does not encourage convergence toward zero but is\n",
    "\n",
    "likely to make them closer to zero and prevents overfitting."
   ]
  },
  {
   "cell_type": "markdown",
   "id": "23770b6e-7201-49b6-b37e-5786f806c15b",
   "metadata": {},
   "source": [
    " Lasso (L1)Regularization\n"
   ]
  },
  {
   "cell_type": "markdown",
   "id": "643b50a7-e874-4bbd-a047-5d120cb5a53d",
   "metadata": {},
   "source": [
    "1. Lasso regularization is preferred when we are fitting a linear model with fewer variables.\n",
    "\n",
    "If you have small variables like 36 you can bring it into 4 variables and laso will do the job well for you\n",
    "\n",
    "2. It encourages the coefficients of the variables to go towards zero because of the shape of a constant which is an absolute  value."
   ]
  },
  {
   "cell_type": "markdown",
   "id": "e048d592-4242-47c6-a247-6975612dde40",
   "metadata": {},
   "source": [
    "#### Hands on Demo on Lasso and Ridge Regression"
   ]
  },
  {
   "cell_type": "markdown",
   "id": "01a9619c-770e-4236-9205-e74b5aabbca1",
   "metadata": {},
   "source": [
    "##### Import necessary libraries"
   ]
  },
  {
   "cell_type": "code",
   "execution_count": 33,
   "id": "818ae827-65a3-46ea-b9b6-7c3807d6fe7e",
   "metadata": {},
   "outputs": [],
   "source": [
    "import numpy as np\n",
    "import pandas as pd\n",
    "import matplotlib.pyplot as plt\n",
    "from sklearn import datasets\n",
    "from sklearn.model_selection import train_test_split\n",
    "from sklearn.linear_model import LinearRegression"
   ]
  },
  {
   "cell_type": "code",
   "execution_count": 29,
   "id": "a25d2c89-2736-4e5c-b767-7a99e550e045",
   "metadata": {},
   "outputs": [],
   "source": [
    "import colorama\n",
    "from colorama import Fore, Back, Style"
   ]
  },
  {
   "cell_type": "code",
   "execution_count": 5,
   "id": "2cfedad2-c27a-4fe6-9645-827a79542103",
   "metadata": {},
   "outputs": [],
   "source": [
    "#Loading pre-defined Boston Dataset\n",
    "boston_dataset = datasets.load_boston()"
   ]
  },
  {
   "cell_type": "code",
   "execution_count": 7,
   "id": "e377c7af-63d9-4b77-a4c8-ca453d9c6f27",
   "metadata": {},
   "outputs": [
    {
     "name": "stdout",
     "output_type": "stream",
     "text": [
      "      CRIM    ZN  INDUS  CHAS    NOX     RM   AGE     DIS  RAD    TAX  \\\n",
      "0  0.00632  18.0   2.31   0.0  0.538  6.575  65.2  4.0900  1.0  296.0   \n",
      "1  0.02731   0.0   7.07   0.0  0.469  6.421  78.9  4.9671  2.0  242.0   \n",
      "2  0.02729   0.0   7.07   0.0  0.469  7.185  61.1  4.9671  2.0  242.0   \n",
      "3  0.03237   0.0   2.18   0.0  0.458  6.998  45.8  6.0622  3.0  222.0   \n",
      "4  0.06905   0.0   2.18   0.0  0.458  7.147  54.2  6.0622  3.0  222.0   \n",
      "\n",
      "   PTRATIO       B  LSTAT  House Price  \n",
      "0     15.3  396.90   4.98         24.0  \n",
      "1     17.8  396.90   9.14         21.6  \n",
      "2     17.8  392.83   4.03         34.7  \n",
      "3     18.7  394.63   2.94         33.4  \n",
      "4     18.7  396.90   5.33         36.2  \n"
     ]
    }
   ],
   "source": [
    "# Load the dataset\n",
    "boston_pd = pd.DataFrame(boston_dataset.data)\n",
    "boston_pd.columns = boston_dataset.feature_names\n",
    "boston_pd_target = np.array(boston_dataset.target)\n",
    "boston_pd['House Price'] = pd.Series(boston_pd_target)\n",
    "\n",
    "#input\n",
    "X = boston_pd.iloc[:, :-1]\n",
    "\n",
    "#output\n",
    "Y = boston_pd.iloc[:, -1]\n",
    "\n",
    "print(boston_pd.head())"
   ]
  },
  {
   "cell_type": "code",
   "execution_count": 10,
   "id": "24cdd049-40fa-43b1-b529-0406dc6bc84f",
   "metadata": {},
   "outputs": [
    {
     "name": "stdout",
     "output_type": "stream",
     "text": [
      "Train data shape of X = (379, 13) and Y = (127,) : \n",
      "Train data shape of X = (127, 13) and Y = (127,) : \n"
     ]
    }
   ],
   "source": [
    "#Split the data\n",
    "x_train, x_test, y_train, y_test = train_test_split(\n",
    "boston_pd.iloc[:, :-1], boston_pd.iloc[:, -1],\n",
    "test_size = 0.25)\n",
    "\n",
    "print(\"Train data shape of X = %  s and Y = % s : \"%(\n",
    "x_train.shape, y_test.shape))\n",
    "\n",
    "print(\"Train data shape of X = %  s and Y = % s : \"%(\n",
    "x_test.shape, y_test.shape))"
   ]
  },
  {
   "cell_type": "raw",
   "id": "28414976-4a6e-4581-9ba2-6afc5a539b79",
   "metadata": {},
   "source": [
    "Use the train test split we inport to test 25% of the data.\n",
    "\n",
    "if the dataset does not match then something is wrong"
   ]
  },
  {
   "cell_type": "code",
   "execution_count": 27,
   "id": "1eb8cecc-1cd6-4606-a97c-85efc339a8b2",
   "metadata": {},
   "outputs": [
    {
     "name": "stdout",
     "output_type": "stream",
     "text": [
      "Mean squared Error on test set :  16.737079901908466\n",
      "    Columns  Coefficient Estimate\n",
      "0      CRIM             -0.107643\n",
      "1        ZN              0.045063\n",
      "2     INDUS              0.049451\n",
      "3      CHAS              2.265713\n",
      "4       NOX            -17.914659\n",
      "5        RM              3.552080\n",
      "6       AGE             -0.003468\n",
      "7       DIS             -1.460843\n",
      "8       RAD              0.328448\n",
      "9       TAX             -0.012268\n",
      "10  PTRATIO             -1.081089\n",
      "11        B              0.006377\n",
      "12    LSTAT             -0.583788\n"
     ]
    }
   ],
   "source": [
    "#Apply multiple linear regression\n",
    "\n",
    "lreg = LinearRegression()\n",
    "lreg.fit(x_train, y_train)\n",
    "\n",
    "#Generate Prediction on test set\n",
    "lreg_y_pred = lreg.predict(x_test)\n",
    "\n",
    "#calculating Mean Squared Error (mse)\n",
    "\n",
    " \n",
    "mean_squared_error = np.mean((lreg_y_pred - y_test)**2)\n",
    "print(\"Mean squared Error on test set : \", mean_squared_error)\n",
    "\n",
    "#putting together the coefficient and their corresponding variable names\n",
    "lreg_coefficient = pd.DataFrame()\n",
    "lreg_coefficient[\"Columns\"] = x_train.columns\n",
    "lreg_coefficient[\"Coefficient Estimate\"] = pd.Series(lreg.coef_)\n",
    "print(lreg_coefficient)"
   ]
  },
  {
   "cell_type": "markdown",
   "id": "805cb285-d820-42eb-8402-aa95f94ad9a7",
   "metadata": {},
   "source": [
    "from the result, we have our mean squared error on test set \"16.737\" \n",
    "\n",
    "At this point, unless you really know the data you are working with it will not mean a whole lot."
   ]
  },
  {
   "cell_type": "code",
   "execution_count": 30,
   "id": "38ffcf57-c08c-4578-8737-246dbbe59126",
   "metadata": {},
   "outputs": [
    {
     "ename": "NameError",
     "evalue": "name 'style' is not defined",
     "output_type": "error",
     "traceback": [
      "\u001b[1;31m---------------------------------------------------------------------------\u001b[0m",
      "\u001b[1;31mNameError\u001b[0m                                 Traceback (most recent call last)",
      "\u001b[1;32m~\\AppData\\Local\\Temp/ipykernel_10804/3473313323.py\u001b[0m in \u001b[0;36m<module>\u001b[1;34m\u001b[0m\n\u001b[0;32m     13\u001b[0m \u001b[0max\u001b[0m\u001b[1;33m.\u001b[0m\u001b[0mspines\u001b[0m\u001b[1;33m[\u001b[0m\u001b[1;34m'bottom'\u001b[0m\u001b[1;33m]\u001b[0m\u001b[1;33m.\u001b[0m\u001b[0mset_position\u001b[0m\u001b[1;33m(\u001b[0m\u001b[1;34m'zero'\u001b[0m\u001b[1;33m)\u001b[0m\u001b[1;33m\u001b[0m\u001b[1;33m\u001b[0m\u001b[0m\n\u001b[0;32m     14\u001b[0m \u001b[1;33m\u001b[0m\u001b[0m\n\u001b[1;32m---> 15\u001b[1;33m \u001b[0mplt\u001b[0m\u001b[1;33m,\u001b[0m\u001b[0mstyle\u001b[0m\u001b[1;33m.\u001b[0m\u001b[0muse\u001b[0m\u001b[1;33m(\u001b[0m\u001b[1;34m'ggplot'\u001b[0m\u001b[1;33m)\u001b[0m\u001b[1;33m\u001b[0m\u001b[1;33m\u001b[0m\u001b[0m\n\u001b[0m\u001b[0;32m     16\u001b[0m \u001b[0mplt\u001b[0m\u001b[1;33m.\u001b[0m\u001b[0mshow\u001b[0m\u001b[1;33m(\u001b[0m\u001b[1;33m)\u001b[0m\u001b[1;33m\u001b[0m\u001b[1;33m\u001b[0m\u001b[0m\n\u001b[0;32m     17\u001b[0m \u001b[1;33m\u001b[0m\u001b[0m\n",
      "\u001b[1;31mNameError\u001b[0m: name 'style' is not defined"
     ]
    },
    {
     "data": {
      "image/png": "[encoded data removed]",
      "text/plain": [
       "<Figure size 1440x720 with 1 Axes>"
      ]
     },
     "metadata": {
      "needs_background": "light"
     },
     "output_type": "display_data"
    }
   ],
   "source": [
    "#plotting the coefficient score\n",
    "fig, ax = plt.subplots(figsize =(20, 10))\n",
    "\n",
    "color = ['tab:gray', 'tab:blue','tab:orange',\n",
    "'tab:green','tab:red','tab:purple','tab:brown',         \n",
    "'tab:pink','tab:gray','tab:olive','tab:cyan',        \n",
    "'tab:orange','tab:green','tab:blue','tab:olive']\n",
    "\n",
    "ax.bar(lreg_coefficient[\"Columns\"],\n",
    "lreg_coefficient['Coefficient Estimate'],\n",
    "color = color)\n",
    "\n",
    "ax.spines['bottom'].set_position('zero')\n",
    "\n",
    "plt,style.use('ggplot')\n",
    "plt.show()\n",
    "                        \n",
    "         "
   ]
  },
  {
   "cell_type": "markdown",
   "id": "a5771958-222f-4fa8-a5af-d0b13702d871",
   "metadata": {},
   "source": [
    "This helps you to understand what is going on with your data and what you are looking for.\n",
    "\n",
    "But it depends so much on the domain you are working with\n",
    "\n",
    "\n",
    "Our motive is to reduce the coefficient score and bring it down as much as we can.\n",
    "\n",
    "To achievre that we need to work with the ridge regression."
   ]
  },
  {
   "cell_type": "markdown",
   "id": "2bc88b99-ab71-4a2d-b28b-ab900ad628b3",
   "metadata": {},
   "source": [
    "##### Ridge Regreesion"
   ]
  },
  {
   "cell_type": "code",
   "execution_count": 35,
   "id": "e7a2f692-e6a7-408d-b8d9-899a306b04d9",
   "metadata": {},
   "outputs": [
    {
     "name": "stdout",
     "output_type": "stream",
     "text": [
      "Mean_squared_error on test set 16.99080418550215\n",
      "    Columns  Coefficient Estimate\n",
      "0      CRIM             -0.102771\n",
      "1        ZN              0.047005\n",
      "2     INDUS              0.016645\n",
      "3      CHAS              2.073628\n",
      "4       NOX             -9.644395\n",
      "5        RM              3.595063\n",
      "6       AGE             -0.009466\n",
      "7       DIS             -1.340481\n",
      "8       RAD              0.304789\n",
      "9       TAX             -0.012815\n",
      "10  PTRATIO             -0.988450\n",
      "11        B              0.006687\n",
      "12    LSTAT             -0.599634\n"
     ]
    }
   ],
   "source": [
    "#import ridge regressiob from sklearn library\n",
    "from sklearn.linear_model import Ridge\n",
    "\n",
    "#Train the model\n",
    "ridgeR = Ridge(alpha = 1)\n",
    "ridgeR.fit(x_train, y_train)\n",
    "y_pred = ridgeR.predict(x_test)\n",
    "\n",
    "#calculate mean square error\n",
    "mean_squared_error_ridge = np.mean((y_pred - y_test)**2)\n",
    "print(\"Mean_squared_error on test set\",mean_squared_error_ridge)\n",
    "\n",
    "#Get ridge coefficient and print them\n",
    "ridge_coefficient = pd.DataFrame()\n",
    "ridge_coefficient[\"Columns\"]= x_train.columns\n",
    "ridge_coefficient['Coefficient Estimate'] = pd.Series(ridgeR.coef_)\n",
    "print(ridge_coefficient)"
   ]
  },
  {
   "cell_type": "code",
   "execution_count": 36,
   "id": "d30bafc7-7c55-46d5-b090-5047a05ea1d9",
   "metadata": {},
   "outputs": [
    {
     "ename": "NameError",
     "evalue": "name 'style' is not defined",
     "output_type": "error",
     "traceback": [
      "\u001b[1;31m---------------------------------------------------------------------------\u001b[0m",
      "\u001b[1;31mNameError\u001b[0m                                 Traceback (most recent call last)",
      "\u001b[1;32m~\\AppData\\Local\\Temp/ipykernel_10804/4051166558.py\u001b[0m in \u001b[0;36m<module>\u001b[1;34m\u001b[0m\n\u001b[0;32m     12\u001b[0m \u001b[0max\u001b[0m\u001b[1;33m.\u001b[0m\u001b[0mspines\u001b[0m\u001b[1;33m[\u001b[0m\u001b[1;34m'bottom'\u001b[0m\u001b[1;33m]\u001b[0m\u001b[1;33m.\u001b[0m\u001b[0mset_position\u001b[0m\u001b[1;33m(\u001b[0m\u001b[1;34m'zero'\u001b[0m\u001b[1;33m)\u001b[0m\u001b[1;33m\u001b[0m\u001b[1;33m\u001b[0m\u001b[0m\n\u001b[0;32m     13\u001b[0m \u001b[1;33m\u001b[0m\u001b[0m\n\u001b[1;32m---> 14\u001b[1;33m \u001b[0mplt\u001b[0m\u001b[1;33m,\u001b[0m\u001b[0mstyle\u001b[0m\u001b[1;33m.\u001b[0m\u001b[0muse\u001b[0m\u001b[1;33m(\u001b[0m\u001b[1;34m'ggplot'\u001b[0m\u001b[1;33m)\u001b[0m\u001b[1;33m\u001b[0m\u001b[1;33m\u001b[0m\u001b[0m\n\u001b[0m\u001b[0;32m     15\u001b[0m \u001b[0mplt\u001b[0m\u001b[1;33m.\u001b[0m\u001b[0mshow\u001b[0m\u001b[1;33m(\u001b[0m\u001b[1;33m)\u001b[0m\u001b[1;33m\u001b[0m\u001b[1;33m\u001b[0m\u001b[0m\n\u001b[0;32m     16\u001b[0m \u001b[1;33m\u001b[0m\u001b[0m\n",
      "\u001b[1;31mNameError\u001b[0m: name 'style' is not defined"
     ]
    },
    {
     "data": {
      "image/png": "[encoded data removed]",
      "text/plain": [
       "<Figure size 1440x720 with 1 Axes>"
      ]
     },
     "metadata": {
      "needs_background": "light"
     },
     "output_type": "display_data"
    }
   ],
   "source": [
    "fig, ax = plt.subplots(figsize =(20, 10))\n",
    "\n",
    "color = ['tab:gray', 'tab:blue','tab:orange',\n",
    "'tab:green','tab:red','tab:purple','tab:brown',         \n",
    "'tab:pink','tab:gray','tab:olive','tab:cyan',        \n",
    "'tab:orange','tab:green','tab:blue','tab:olive']\n",
    "\n",
    "ax.bar(lreg_coefficient[\"Columns\"],\n",
    "lreg_coefficient['Coefficient Estimate'],\n",
    "color = color)\n",
    "\n",
    "ax.spines['bottom'].set_position('zero')\n",
    "\n",
    "plt,style.use('ggplot')\n",
    "plt.show()\n",
    "                        "
   ]
  },
  {
   "cell_type": "raw",
   "id": "e75332e4-c4f7-43c8-84d4-72c56a0ae506",
   "metadata": {},
   "source": [
    "This graph might look thesame with the previous but is not same because is almost half the value of the previous\n",
    "\n",
    "Becaue the first is -18 and the later is -9\n",
    "\n",
    "Thesame thing with the values , they might look thesame but they are almost half with the first graph."
   ]
  },
  {
   "cell_type": "markdown",
   "id": "41947883-cb58-4849-9655-1e260b544c32",
   "metadata": {},
   "source": [
    "##### Lasso Regression"
   ]
  },
  {
   "cell_type": "markdown",
   "id": "52541695-a0a0-47ca-8323-99c6d085990b",
   "metadata": {},
   "source": [
    "We can do thesame thing for the lasso regression"
   ]
  },
  {
   "cell_type": "code",
   "execution_count": 39,
   "id": "f8f1dd08-84bd-4f6a-a252-ca3a066a00a1",
   "metadata": {},
   "outputs": [
    {
     "name": "stdout",
     "output_type": "stream",
     "text": [
      "Mean_squared_error on test set 21.973159793672423\n",
      "    Columns  Coefficient Estimate\n",
      "0      CRIM             -0.066764\n",
      "1        ZN              0.049514\n",
      "2     INDUS             -0.000000\n",
      "3      CHAS              0.000000\n",
      "4       NOX             -0.000000\n",
      "5        RM              0.808651\n",
      "6       AGE              0.015848\n",
      "7       DIS             -0.727448\n",
      "8       RAD              0.248642\n",
      "9       TAX             -0.013215\n",
      "10  PTRATIO             -0.837247\n",
      "11        B              0.005098\n",
      "12    LSTAT             -0.812822\n"
     ]
    }
   ],
   "source": [
    "#import Lasso regressiob from sklearn library\n",
    "from sklearn.linear_model import Lasso\n",
    "\n",
    "#Train the model\n",
    "lasso = Lasso(alpha = 1)\n",
    "lasso.fit(x_train, y_train)\n",
    "y_pred1 = lasso.predict(x_test)\n",
    "\n",
    "#calculate mean square error\n",
    "mean_squared_error = np.mean((y_pred1 - y_test)**2)\n",
    "print(\"Mean_squared_error on test set\",mean_squared_error)\n",
    "\n",
    "#Get lasso coefficient and print them\n",
    "lasso_coeff = pd.DataFrame()\n",
    "lasso_coeff[\"Columns\"]= x_train.columns\n",
    "lasso_coeff['Coefficient Estimate'] = pd.Series(lasso.coef_)\n",
    "\n",
    "print(lasso_coeff)"
   ]
  },
  {
   "cell_type": "markdown",
   "id": "ace34429-e286-43b5-8a99-2b3091b2ee1c",
   "metadata": {},
   "source": [
    "If you are working on this data , first is to compare the mean squared error for both Ridge and lasso regreesion and choose te one with the higher figure.\n",
    "\n",
    "Also lok at the coefficients that may make meaning to your model\n",
    "\n",
    "In summary fro the analysis, our first model did better than our last two model on mean square error and the test set."
   ]
  },
  {
   "cell_type": "markdown",
   "id": "02a7eccb-0744-469b-a634-dd1e4c598ecd",
   "metadata": {},
   "source": [
    "For more information visit www.simplilearn.com"
   ]
  },
  {
   "cell_type": "code",
   "execution_count": null,
   "id": "c0f7cf9e-47ac-4562-90f1-32995d1e1780",
   "metadata": {},
   "outputs": [],
   "source": []
  }
 ],
 "metadata": {
  "kernelspec": {
   "display_name": "Python 3 (ipykernel)",
   "language": "python",
   "name": "python3"
  },
  "language_info": {
   "codemirror_mode": {
    "name": "ipython",
    "version": 3
   },
   "file_extension": ".py",
   "mimetype": "text/x-python",
   "name": "python",
   "nbconvert_exporter": "python",
   "pygments_lexer": "ipython3",
   "version": "3.9.7"
  }
 },
 "nbformat": 4,
 "nbformat_minor": 5
}
