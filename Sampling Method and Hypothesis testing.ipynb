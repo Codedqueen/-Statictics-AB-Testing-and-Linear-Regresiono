{
 "cells": [
  {
   "cell_type": "markdown",
   "id": "a8d1f3f0-4f73-4df4-9bfc-178744cfa634",
   "metadata": {},
   "source": [
    "### Week 8 day 2   Sampling Method"
   ]
  },
  {
   "cell_type": "markdown",
   "id": "7b05ddd2-4820-4610-aa73-ae054ca968e0",
   "metadata": {},
   "source": [
    "#### Eight Sampling Techniques For Statistical and Data Science Modelling"
   ]
  },
  {
   "cell_type": "markdown",
   "id": "8c6f6107-f821-4597-808a-75991d9e0ea5",
   "metadata": {},
   "source": [
    "Sampling Techinues we can use in building predictive models"
   ]
  },
  {
   "cell_type": "markdown",
   "id": "e635bd73-6e43-483a-b62f-c206fe468c56",
   "metadata": {},
   "source": [
    "#### Sampling vs population - Inferential statistics"
   ]
  },
  {
   "cell_type": "markdown",
   "id": "6c03cd72-a47f-4576-a9eb-d450e5d40470",
   "metadata": {},
   "source": [
    "Why do we need sampling?\n",
    "\n",
    "In inferential Statistics we deal with sample and not with the entire population most of the time because of the following reasons.\n",
    "\n",
    "One major reason is that the population is too large to handle, hence we go with the sample data in making predictions or inferences for the population."
   ]
  },
  {
   "cell_type": "markdown",
   "id": "fc3af7e4-791d-4cc7-85e3-3ebc9d343872",
   "metadata": {},
   "source": [
    "Sample and Population"
   ]
  },
  {
   "cell_type": "markdown",
   "id": "13183989-bb59-4dd6-b6fa-0b12cc9e2d33",
   "metadata": {},
   "source": [
    "A population is a collection of an observation about which we would want to make an inference."
   ]
  },
  {
   "cell_type": "markdown",
   "id": "14f36633-02bb-487f-92f1-e35cdf83124b",
   "metadata": {},
   "source": [
    "Sampling unit are non overlapping collection of elements from the population.\n",
    "\n",
    "It is a subset of population that have non overlapping elements."
   ]
  },
  {
   "cell_type": "markdown",
   "id": "ff5b791f-e624-4667-85e1-1e5b225dc027",
   "metadata": {},
   "source": [
    "Sampling Error"
   ]
  },
  {
   "cell_type": "markdown",
   "id": "f2a5ed0e-bfe5-4d5b-bdd9-f8c316685989",
   "metadata": {},
   "source": [
    "The deviation betweeen the estimate of an ideal sample and the true population.\n",
    "\n",
    "Whenever we are building a predictive model,\n",
    "The objective would be to minimize sample error so that the model will be very good in deriving inferences.\n",
    "\n",
    "Min(sample error)"
   ]
  },
  {
   "cell_type": "markdown",
   "id": "badef947-5b7f-4b6e-99c8-428c375f2a3f",
   "metadata": {},
   "source": [
    "Sampling Types"
   ]
  },
  {
   "cell_type": "markdown",
   "id": "1d534698-32f7-4b9e-be97-36f65e89ae12",
   "metadata": {},
   "source": [
    "Probability Samples\n",
    "In this type of sample, each member of the sample have a non zero probability of getting selected in the sample.\n",
    "\n",
    "This means you choose an element of the population at random\n",
    "\n",
    "Example : Random sampling, Systematic sampling and stratified sampling\n",
    "\n",
    "Non probability samples\n",
    "\n",
    "In this case, Members are selected from the population in non random way.\n",
    "This means it is somehow biased because instead of selecting randomly ,you rather use your judgement to take your decision.\n",
    "\n",
    "Examples are Convenience sampling , Judgement sampling,Quota Sampling and Snowball sampling."
   ]
  },
  {
   "cell_type": "markdown",
   "id": "dd52c4ae-4917-4505-80d0-26c90f321eb7",
   "metadata": {},
   "source": [
    "Probablity Sampling Techniques"
   ]
  },
  {
   "cell_type": "markdown",
   "id": "b13f87d0-ff30-4a54-8784-c1d1767891b6",
   "metadata": {},
   "source": [
    "Random Sampling"
   ]
  },
  {
   "cell_type": "markdown",
   "id": "f200d44f-42b6-48e5-b4a8-da3933cc2a79",
   "metadata": {},
   "source": [
    "Each member has equal probability of getting selected."
   ]
  },
  {
   "cell_type": "markdown",
   "id": "9090bc2f-b51c-4cd1-b392-bb3e1923846e",
   "metadata": {},
   "source": [
    "For example if we have this as a population , lets say popuplation A\n",
    "it means in population A we have 10 elements, we can say this elements are customers we need to find out 4 sample customers from this population and we call that as B.\n",
    "\n",
    "Here if we select customer 1 is 1/10 because it is equally likely.\n",
    "Note ,we have 10 elements in this population and each element is equally likely to be selecte in sample B\n",
    "\n",
    "Why we call it random sampling is because we do not select by judement rather we do a random experiment to select element from this population.\n",
    "\n",
    "The probability that each one of these elements selected to be in sample will actually  vary, though we assumed here that it will be constant for all the elements but it will actually vary.\n",
    "\n",
    "1,2,3,4,5,6,7,8,9,10\n",
    "\n",
    "P(1) = 1 /10\n",
    "P(2) = 1 /10\n",
    "     .\n",
    "     .\n",
    "     .\n",
    "     .\n",
    "P(10) = 1 /10      "
   ]
  },
  {
   "cell_type": "markdown",
   "id": "6ebfff93-0488-4b04-b9df-2fc17c4f800c",
   "metadata": {},
   "source": [
    "We also have the Simple random sampling, which is the most popular technique used in building predictive models"
   ]
  },
  {
   "cell_type": "markdown",
   "id": "a4ef8585-d56e-45d1-a85c-0cf1281d4920",
   "metadata": {},
   "source": [
    "Systematic Sample"
   ]
  },
  {
   "cell_type": "markdown",
   "id": "46876c3e-62a2-49ef-9d60-c1f1f5cb5d9e",
   "metadata": {},
   "source": [
    "Every Nth record is selected in the sample\n",
    "\n",
    "N should be random and fixed interval should be there\n",
    "\n",
    "For example , we have a population of 12 customers and they are marked by 1 -12 and we want customers that their numbers are divisible by 4\n",
    "\n",
    "hence , we will select 4 , 8, 12 and this becomes our sample population.\n",
    "\n",
    "One thing you should remember here is that your N should be random .\n",
    "you can say divisible by 3, 2 or you can use some other completely different rule.\n",
    "\n",
    "The rule should be uniform , which means that there should be fixed imntervals between two consecutive element selected from the population in the sample.\n",
    "\n",
    "This is useful in cases where generating random numbers is difficult or expensive.\n",
    "\n",
    "This is because generating random numbers is computer study intensive.\n",
    "Incase you dont have access to high computative power and it is a large sample you can go on with systematic sampling."
   ]
  },
  {
   "cell_type": "raw",
   "id": "12193eb4-7889-4224-bd6e-2de888461f81",
   "metadata": {},
   "source": [
    "Population of customer      Sample Population\n",
    "1 2 3 4\n",
    "5 6 7 8        -          4 8 12\n",
    "9 10 11 12"
   ]
  },
  {
   "cell_type": "markdown",
   "id": "2c092d76-49d3-41f0-bfcf-3ff310369962",
   "metadata": {},
   "source": [
    "Stratified Sampling"
   ]
  },
  {
   "cell_type": "markdown",
   "id": "ff0c8f49-04f7-477d-a270-c89a41d96cd6",
   "metadata": {},
   "source": [
    "In Stratified sampling, two steps need to be followed:\n",
    "\n",
    "1.It identifies suitable stratum in the data.\n",
    "\n",
    "You can have multiple data, eg. data for male or female, data for demograph like califonia, washington,San franscisco,los Angeles etc\n",
    "\n",
    "You can have different straight out data in the population\n",
    "\n",
    "2.Random sampling is then used in each stratum within the population\n",
    "For example, we have elements for male and female in the 2 different stratum and we want random element to be selected from male as well as female"
   ]
  },
  {
   "cell_type": "raw",
   "id": "9f47c703-43c9-4f76-a5d9-b4b826230e46",
   "metadata": {},
   "source": [
    "Male  1 2 3 4 5          p(1) =  p(2) .... p(5) = 1/5\n",
    "\n",
    "Female  6 7 8 9 10        p(6)  = p(7) .... p(11) = 1/6"
   ]
  },
  {
   "cell_type": "markdown",
   "id": "67aa5bf4-edf5-40fa-a84f-17d793cc1577",
   "metadata": {},
   "source": [
    "In the first instance, we divide the population into two categories male and female\n",
    "\n",
    "In the swcond step ,we selected sample from each of this strater and each element we selected from each of them is equal likely.\n",
    "\n",
    "In the male strater , we have 5 elements so is 1/5 \n",
    "\n",
    "in the female strater we have 6 element so is 1/6"
   ]
  },
  {
   "cell_type": "markdown",
   "id": "96bc2ece-d487-4bf9-aee6-069d23328579",
   "metadata": {},
   "source": [
    "Straified sampling is very popular in predictive modelling, because in predictive modelling you want each of your stratum to have equal representation in your study .\n",
    "\n",
    "This is very important because sometimes you want data from each gender, atimes it may be from each city that you are doing the study and atimes you want equal representation from each category of data and in such cases Stratified Sampling is used an d it is very popular in predictive modelling or any data science modelling you are working on."
   ]
  },
  {
   "cell_type": "markdown",
   "id": "5b1c3308-84c1-4f04-a6c4-65a80174c8bd",
   "metadata": {},
   "source": [
    "Cluster Sampling"
   ]
  },
  {
   "cell_type": "markdown",
   "id": "beca0308-515e-47c8-a994-88c4d4e40a3f",
   "metadata": {},
   "source": [
    "This is done in two stage processess \n",
    "\n",
    "\n",
    "1. Select the clusters from a population by random\n",
    "\n",
    "2. Select elements from each cluster by random\n",
    "\n",
    "Cluster sampling is very popular in Market research."
   ]
  },
  {
   "cell_type": "markdown",
   "id": "7f199dba-da0c-43e3-a3e5-bd500598d9ef",
   "metadata": {},
   "source": [
    "In the population below we have 5 different categories or clusters.\n",
    "Represented with different figures , cluster 1 to cluster 5/\n",
    "\n",
    "We have 5 different clusters in our population and we will just select 2 clusters from these 5 clusters randomly.\n",
    "Hence, we will us the random sampling to select two clusters out of these clusters.\n",
    "\n",
    "hence, we selected cluster 1 and cluster 3 step 1\n",
    "\n",
    "then . we select elements from each one of these clusters, so from the cluster spreadwe selected the following ,\n",
    "1, 4, 5, 11 12.\n",
    "\n",
    "and each one of these clusters is equally likely to be chosen."
   ]
  },
  {
   "cell_type": "markdown",
   "id": "248f4c11-c71d-4ffc-94bd-2d181040d407",
   "metadata": {},
   "source": [
    " Population\n",
    " \n",
    " cluster 1 : 1 2 3 4 5\n",
    " cluster 2 :  6 7 8 9\n",
    " Cluster 3 : 10 11 12\n",
    " cluster 4 : 13 14 15 16 17\n",
    " Cluster 5:  18 19 20 21   \n",
    " \n",
    " \n",
    " Step 1  select 2 clusters randomly\n",
    " \n",
    " cluster 1: 1 2 3 4 5\n",
    " cluster 3 : 10 11 12\n",
    " \n",
    " Step 2 \n",
    " select random numbers from step 1\n",
    " \n",
    " 1 4 5 11 12"
   ]
  },
  {
   "cell_type": "markdown",
   "id": "0095738a-8f59-4709-a08e-3cb23e6b90fa",
   "metadata": {},
   "source": [
    "Non probability Samples"
   ]
  },
  {
   "cell_type": "code",
   "execution_count": null,
   "id": "793f4403-c363-4c59-aeae-b73d5ade3e75",
   "metadata": {},
   "outputs": [],
   "source": [
    "Convenience sampling"
   ]
  },
  {
   "cell_type": "markdown",
   "id": "0d7fe020-4844-4197-bbe4-b9f35b811230",
   "metadata": {},
   "source": [
    "In this type of sampling we use element from the population which are very convenient.\n",
    "\n",
    "A sample is selected because it is convenient to select from the population.\n",
    "Is important to note that not all element are convenient to select.\n",
    "It is useful in survey data analysis.\n",
    "\n",
    "Moreso, you can not actually reach out to every observation, element of your population it is difficult and expensive,hence , it is convenient to select a subset or sample of the population.\n",
    "\n",
    "Used in initial studies that will involve less cost\n",
    "\n",
    "It is used in when you want to do some study on the population which can be considered as an initial study, it may not be the final study but you just want to do a quick study which will be considered as an initial study and involves less cost\n",
    "Used in initial studies that will involve less cost\n",
    "\n",
    "Example: Facebook polls  and questions people ask.\n",
    "An example is facebook like status someone has done for Donald Trump and Hillary clinton, we observed tha Donald Trump has 10.1% likes while Clinton have 5.3% likes and this is done within a group, your friend,s circle in a facebook group or whatsapp group etc\n",
    "Or someone doing a survey on twitter."
   ]
  },
  {
   "cell_type": "markdown",
   "id": "330c91ad-28f7-4480-872a-ee6dccdac1b0",
   "metadata": {},
   "source": [
    "Judgement Sampling"
   ]
  },
  {
   "cell_type": "markdown",
   "id": "65e6c75b-3cbe-4b26-9560-f3eb884c3d0f",
   "metadata": {},
   "source": [
    "Sampling is selected through Judgements and there is no random experiment\n",
    "\n",
    "\n",
    "The researcher is sure of the sample being representative of the population - Expert Opinion.\n",
    "\n",
    "This is very popular in cases where you do not have access to the full population and the population is very large, thus you just have to go ahead with what the expert says and come up with a sample for your population"
   ]
  },
  {
   "cell_type": "markdown",
   "id": "3270e101-f630-4b47-a562-088003e2d4b9",
   "metadata": {},
   "source": [
    "Quota Sampling"
   ]
  },
  {
   "cell_type": "markdown",
   "id": "741c1674-45f9-4e74-af3f-c48ab9aeb4b6",
   "metadata": {},
   "source": [
    "Two steps are involved :\n",
    "\n",
    "1. Identify the stratum and their proportion\n",
    "You need to know the category of sratum you need to select\n",
    "secondly what is the proportion of data you need to select.\n",
    "\n",
    "2.Then use Convenience or Judgement Sampling\n",
    "\n",
    "Lets look at the example below, A marketing research need to be done in about four different cities and listed below are the cities selected"
   ]
  },
  {
   "cell_type": "markdown",
   "id": "e4b82a60-f814-4b44-a4dc-bd49a31b117a",
   "metadata": {},
   "source": [
    "first thing to do is to identify the four cities\n",
    "identify the proportion of the sample to be given to each selected city.\n",
    "\n",
    "Then select the element from each one of this category purely on judgement or convenience.\n",
    "\n",
    "you can just work up to someone and select him as part of your sample.\n",
    "It is very important in market Research especially in areas you know you are doing Surveys.\n",
    "\n",
    "This is very useful in social science and management results for scholars."
   ]
  },
  {
   "cell_type": "markdown",
   "id": "05a16bae-4ca3-488b-8da3-dc27f8630ed0",
   "metadata": {},
   "source": [
    "MUNBAI     mumbai   - 35%\n",
    "\n",
    "DELHI      delhi    - 20%\n",
    "\n",
    "KOLKATA    kolkata  - 20%\n",
    "\n",
    "CHENNAI    chennai  - 25%"
   ]
  },
  {
   "cell_type": "markdown",
   "id": "e5983cb8-da66-4b82-a5ab-0664fcc31e9d",
   "metadata": {},
   "source": [
    "Snowball Sampling"
   ]
  },
  {
   "cell_type": "markdown",
   "id": "45edb0be-f09e-4102-871b-1420c2ab0fcc",
   "metadata": {},
   "source": [
    "Used when the elements are hard to locate. ie when is difficult to find out which element to pick.\n",
    "In such cases, you do not know your population very well\n",
    "\n",
    "Sample is rare to find\n",
    "\n",
    "Hence , you start with Initial elements selected in the sample and this will help in finding out elements with similar traits or those to be selected in future."
   ]
  },
  {
   "cell_type": "markdown",
   "id": "ffd16260-0887-4874-bedb-e8c77026c489",
   "metadata": {},
   "source": [
    "For instance, if in some tribal community ,you want to find out people with some particular type of diesase and you do not have such data in the tribal community because getting accsee to data in tribal community is very dificult.\n",
    "\n",
    "Lets go ahead with one particular person in a village and ask him if he has a particular disease, and if he says yes you select him and you find out from him if he know another person in the village that have same disease and you will select the second person and you can follow this same process "
   ]
  },
  {
   "cell_type": "markdown",
   "id": "e35b3724-e669-413c-9f8b-934ca08f3d30",
   "metadata": {
    "tags": []
   },
   "source": [
    "### Week 8 Day 2   Hypothesis Testing "
   ]
  },
  {
   "cell_type": "markdown",
   "id": "52caba33-b11b-4f48-af6a-1916df7950a3",
   "metadata": {},
   "source": [
    "#### Null vs Alternative"
   ]
  },
  {
   "cell_type": "markdown",
   "id": "18bafe18-0269-4a39-aedc-410fdfd70f94",
   "metadata": {},
   "source": [
    "Confidence interval provides us with an estimation on where the parameters are located'\n",
    "\n",
    "in X% of the cases, the true parameter will fall in the confidence interval.\n",
    "\n",
    "However, when you are making a decision you need a YES or No answer and the correct approach in this case is to use a Test.\n",
    "\n",
    "\n",
    "We will be learning one of the fundamental task in statistics\n",
    "\"HYPOTHESIS TESTING\""
   ]
  },
  {
   "cell_type": "markdown",
   "id": "73a6a62b-4ccf-420c-81d6-0ed451807088",
   "metadata": {},
   "source": [
    "#### Steps in Data- Driven Decision Making."
   ]
  },
  {
   "cell_type": "markdown",
   "id": "7a4efa9e-5096-4f1b-8ee5-993bb5a0fc2a",
   "metadata": {},
   "source": [
    "There are four Steps in Data- Driven Decision making."
   ]
  },
  {
   "cell_type": "markdown",
   "id": "eed1ab58-b359-4dc3-9c20-6e4adbb031f8",
   "metadata": {},
   "source": [
    "1. You must formulate hypothesis\n",
    "2. You need to find the right test for your hypothesis.\n",
    "3. Execute the test\n",
    "4. Make a decision"
   ]
  },
  {
   "cell_type": "markdown",
   "id": "6d563165-9b9e-4bd3-adc1-feb6a130d43e",
   "metadata": {},
   "source": [
    "A hypothesis is an idea that an be tested\n",
    "This is a layman's definition though but it conveys the message very well\n",
    "\n",
    "For example if i say that apples in Newyork are expensive, it is only an idea or statement, it is not testible until i have something to compare it with.\n",
    "\n",
    "for instance,if i define expensive as any price higher than $1.75 then i have a hypothesis .\n",
    "\n",
    "What of something that cannot be a hypothesis?\n",
    "An example is whether the USA do better or worse at the Clinton administration compared to current administration.\n",
    "Statistically speaking , this is an idea but there is no data to test it, hence itcannot be a hypthesis of a statistical test."
   ]
  },
  {
   "cell_type": "markdown",
   "id": "803b6a4f-0aff-4586-aab7-d0b36767a9f2",
   "metadata": {},
   "source": [
    "But we may compare past presidents that have already been completed.\n",
    "The Obama admistration and the Bush administration as we have data on both."
   ]
  },
  {
   "cell_type": "markdown",
   "id": "7fe88b56-0466-4d5b-9c9c-791f28761ac3",
   "metadata": {},
   "source": [
    "Glassdor is a website where current and former employee rate their employees and their C- level management.\n",
    "All data are self reported.\n",
    "\n",
    "According to Glassdor, mean data scientist salary in USA is $113,000 \n",
    "so we want to test if there estimate is correct"
   ]
  },
  {
   "cell_type": "markdown",
   "id": "2a6ed315-33bd-4684-af0a-ccc649a84670",
   "metadata": {},
   "source": [
    "There are two hypothesis that are made\n",
    "\n",
    "Null hypothesis denoted by H0\n",
    "\n",
    "Alternative hypothesis denoted by H1 or HA"
   ]
  },
  {
   "cell_type": "markdown",
   "id": "97022c39-5b9b-4dfb-85a8-3ddcb1eebe1d",
   "metadata": {},
   "source": [
    "The Null hypothsis is the one to be tested and the Alternative is evrything else"
   ]
  },
  {
   "cell_type": "markdown",
   "id": "cdc302bf-b9b5-4467-9475-98cce247c674",
   "metadata": {},
   "source": [
    "In our example , the Null Hypothesis wil be mean data scientist equals $113,000.\n",
    "H0 : μ0 = $113,000"
   ]
  },
  {
   "cell_type": "markdown",
   "id": "a531f169-85f0-4157-92b8-8964ff91c5b5",
   "metadata": {},
   "source": [
    "While, the Alternative, the mean data scientist salary is not equal to $113,000\n",
    "\n",
    "H1 : μ0 ≠ $113,000"
   ]
  },
  {
   "cell_type": "markdown",
   "id": "855ceda2-9a1e-4f7c-b3bd-b6567924bdf9",
   "metadata": {},
   "source": [
    "You will want to check if the $113,000 is close enough to the true mean predicted by our sample, incase it accept the Null hypothesis otherwise reject the Null hypothesis."
   ]
  },
  {
   "cell_type": "markdown",
   "id": "4b4dd144-509b-4967-a98d-0f160caf8743",
   "metadata": {},
   "source": [
    "Accept if: X̅ is close enough to the true mean\n",
    "\n",
    "Reject if: X̅  is too far from the true mean."
   ]
  },
  {
   "cell_type": "markdown",
   "id": "0c88b319-bf78-48e3-a9f7-5de2a7260b23",
   "metadata": {},
   "source": [
    "The concept of the Null hypothesis is similar to innocent until proven guilty.\n",
    "\n",
    "We assume that the mean salary is close to $113,000 and we try to prove otherwise.\n",
    "\n",
    "H0 : μ0 = $113,000\n",
    "\n",
    "The above is an example of a two-sided or two tail test.\n",
    "\n",
    "You can also form one-sided or one tail test."
   ]
  },
  {
   "cell_type": "markdown",
   "id": "3a60b23a-7aad-4047-b8a1-c6818a572d52",
   "metadata": {},
   "source": [
    "Say your friend Paul told you that he thinks data scientists make more than $125,000 per year."
   ]
  },
  {
   "cell_type": "markdown",
   "id": "388053ce-bcf8-4d2a-b570-520534e3ef67",
   "metadata": {},
   "source": [
    "You doubted him but decided to test so as to find out who is right"
   ]
  },
  {
   "cell_type": "markdown",
   "id": "e10e61dd-fe0e-4225-b746-6916219d6737",
   "metadata": {},
   "source": [
    "The Null hypothesis will be,the mean data scientist salary is more or equal to $125,000.\n",
    "\n",
    "H0 : μ0 ≥ $125,000 "
   ]
  },
  {
   "cell_type": "markdown",
   "id": "99bd5211-d141-4151-b269-5e1e21c8a7cc",
   "metadata": {},
   "source": [
    "The Alternative will cover everything else.\n",
    "The mean data scientist salary is less than $125,000\n",
    "H1 : μ0 < $ 125,000"
   ]
  },
  {
   "cell_type": "markdown",
   "id": "8bb1e469-6956-44d6-a317-bdcfe965ecc4",
   "metadata": {},
   "source": [
    "It is important to know that outcomes of test refers to the population parameter rather than the sample statistic so the result that we get is the population."
   ]
  },
  {
   "cell_type": "markdown",
   "id": "1087abed-3f50-41ac-8ca3-084e648d0f24",
   "metadata": {},
   "source": [
    "Another crucial consideration is that generally ,the researcher is trying to reject the Null hypothesis"
   ]
  },
  {
   "cell_type": "markdown",
   "id": "b6273277-3943-4ef1-a7a0-4d94e26c4860",
   "metadata": {},
   "source": [
    "Think about the Null hypothesis as the status que and the alternative as the change or innovation that challenges that status quo."
   ]
  },
  {
   "cell_type": "markdown",
   "id": "105d7f5a-30c9-4b9c-84d6-372cf473a615",
   "metadata": {},
   "source": [
    "In our example, Paul was representing the status quo (H0)that we are challenging.(H1)"
   ]
  },
  {
   "cell_type": "markdown",
   "id": "bf73ff2e-7411-4e9d-b1a8-8b400a992560",
   "metadata": {},
   "source": [
    "For emphasis,\n",
    "In statistics , the Null hypothesis is the statement we are trying to reject.\n",
    "\n",
    "Therefore ,the Null hypothesis is the present state of affairs while the Alternative is our personal opinion."
   ]
  },
  {
   "cell_type": "markdown",
   "id": "df40a6fa-83bf-41f7-bc98-71cbb0579358",
   "metadata": {},
   "source": [
    "It is counter intuitive in the beginning but later on when we start doing the exercise ,we will understand he mechanism"
   ]
  },
  {
   "cell_type": "markdown",
   "id": "a88a9d00-1239-4b5e-bbf1-d0f73717d865",
   "metadata": {},
   "source": [
    "### Required Reading on Null and Alternative Hypothesis"
   ]
  },
  {
   "cell_type": "markdown",
   "id": "b112ce8b-f7b9-498f-8578-3df0dd3ff0ec",
   "metadata": {},
   "source": [
    "Following a discussion in the Q&A, we have decided to include further clarifications regarding the previous \n",
    "\n",
    "lecture (Null vs Alternative).\n",
    "\n",
    "First, we'd like to note that, conventionally, we always include the equality sign in the null hypothesis.\n",
    "\n",
    "\n",
    "Student question:\n",
    "\n",
    "\"As per the above logic, in the video tutorial of the salary of the data scientist, the null hypothesis should \n",
    "\n",
    "have been: Data Scientists do not make an average of $113,000. Also in the second example, the null Hypothesis \n",
    "\n",
    "should have been: The average salary should be less than or equal to $125,000. Please explain further. Also please\n",
    "\n",
    "share some further documentation/reference material.\" \n",
    "\n",
    "Now note that the statement above is NOT true. This confusion motivated us to clarify further.\n",
    "\n",
    "\n",
    "Instructor's answer (with some adjustments as 2-3 answers were combined):\n",
    "\n",
    "I see why you would ask this question, as I asked the same one right after I was introduced to hypothesis testing.\n",
    "\n",
    "In statistics, the null hypothesis is the statement we are trying to reject. Think of it as the 'status-quo'.\n",
    "\n",
    "The alternative, therefore, is the change or innovation.\n",
    "\n",
    "\n",
    "Example 1: \n",
    "\n",
    "So, for the data scientist salary example, the null would be: the mean data scientist salary is\n",
    "\n",
    "$113,000. Then we will try to reject the null with a statistical test. So, usually, your personal opinion (e.g.\n",
    "\n",
    "data scientists don't earn exactly that much) is the alternative hypothesis."
   ]
  },
  {
   "cell_type": "markdown",
   "id": "9bf4a9b6-1658-4e0f-8276-6f5edf7eec94",
   "metadata": {},
   "source": [
    "Example 2: \n",
    "\n",
    "Our friend Paul told us that the mean salary is >=$125,000 (status-quo, null). Our opinion is that he may be \n",
    "\n",
    "wrong, so we are testing that. Therefore, the alternative is: the mean data scientist salary is lower than \n",
    "\n",
    "$125,000.\n",
    "\n",
    "\n",
    "It surely is counter-intuitive in the beginning, but later on, when you start doing the exercises, you will \n",
    "\n",
    "understand the mechanics.\n",
    "\n",
    "\n",
    "We hope that clears some doubts you may have had. Please complete the quiz after this lecture, to reinforce what\n",
    "\n",
    "you've learned :)"
   ]
  },
  {
   "cell_type": "markdown",
   "id": "b76d3ab1-533a-44eb-94e5-7543944bd06d",
   "metadata": {},
   "source": [
    "### Rejection region and significance level"
   ]
  },
  {
   "cell_type": "markdown",
   "id": "0e57c41c-5949-4c0c-8bfb-e66381dc0758",
   "metadata": {},
   "source": [
    "we will understand the reason why hypothesis testing work by the end of this lesson.\n",
    "\n",
    "Significance level:\n",
    "Normally we need to reject the Null hypothesis if it is false however as with any test, there is a small chance that we may get it wrong and reject the null hypothesis that is true."
   ]
  },
  {
   "cell_type": "markdown",
   "id": "7b81c732-06bf-4009-b1ca-7ee53c16ddee",
   "metadata": {},
   "source": [
    "The significance level is denoted by alpha (The significance level is denoted by alpha (α) and it is the probability of rejecting the null hypothesis if it is true.( so the probability of making this error)\n",
    "\n",
    "Typical values for alpha are:0.01, 0.05. 0.1"
   ]
  },
  {
   "cell_type": "markdown",
   "id": "afe5dea8-9475-4a32-8790-7ad63ffb7bd4",
   "metadata": {},
   "source": [
    "it is a value you select based on the certainty you need.\n",
    "\n",
    "In most cse the choice of alpha is determined by the contest  you are operating in,but 0.05 is the most commonly used value ."
   ]
  },
  {
   "cell_type": "markdown",
   "id": "0231b9d1-54ef-4019-8d71-2db13db361a5",
   "metadata": {},
   "source": [
    "Example, you need to test if a machine is working properly. \n",
    "You would expectthe task to make little or no mistakes as you want to be very precise, you need to take low significance level such as 0.01"
   ]
  },
  {
   "cell_type": "markdown",
   "id": "80b5f768-e9f7-46f0-9f5f-ba7f6bed758e",
   "metadata": {},
   "source": [
    "The famous coca cola bottle is 12 ounces, if the machine pour 12.1 ounces some of the liquid will pour and the label will be spoilt.\n",
    "\n",
    "So in such a situation we need to be as accurate as possible\n",
    "However if we are inspecting human behavior or companies behaviorwe should expect more random or certain behaviour and hence a higher degree of error."
   ]
  },
  {
   "cell_type": "markdown",
   "id": "05d10740-4020-4f18-96be-b404f3169781",
   "metadata": {},
   "source": [
    "For instance, if we want to predict how much coca-cola consumers drink on average, the difference between 12 ounces and 12.1 ounces will not be that crucial.\n",
    "So we can choose a higher significant level like 0,05 or 0.1."
   ]
  },
  {
   "cell_type": "markdown",
   "id": "c4249b78-d0fa-4687-a2f3-a5a5da25333b",
   "metadata": {},
   "source": [
    "Mechanics of hypothesis Testing"
   ]
  },
  {
   "cell_type": "markdown",
   "id": "ca2b42d6-3838-4177-8602-d11efbe0c986",
   "metadata": {},
   "source": [
    "Imagine you are consulting a university and want to carry out an analysis on how students are performing on average.\n",
    "\n",
    "The university dean believes that on average students have a GPA of 70%\n",
    "\n",
    "Population mean grade is 70%\n",
    "Being the data -driven data researcher that you are, you cant simply agree with his opinion so you start testing."
   ]
  },
  {
   "cell_type": "markdown",
   "id": "9bf95c61-831b-4207-905c-896611b11778",
   "metadata": {},
   "source": [
    "H0 : the population mean grade is 70%\n",
    "\n",
    "This is a hypotesized value and we denote it with mui zero\n",
    "\n",
    "H0 : μ0 = 70%"
   ]
  },
  {
   "cell_type": "markdown",
   "id": "dcfb7f34-37e8-41f0-963f-9052386ddd9e",
   "metadata": {},
   "source": [
    "The alternative hypothesis is population mean grade is not 70% so we  say miu zero differs from 70%\n",
    "H1 : μ0 /= 70%"
   ]
  },
  {
   "cell_type": "markdown",
   "id": "0ec405cd-d411-4784-986a-189dba2f157a",
   "metadata": {},
   "source": [
    "Distribution of grades\n",
    "\n",
    "Assuming that the population of grade is normally distributed then we will have a  normal distribution graph."
   ]
  },
  {
   "cell_type": "markdown",
   "id": "5c7379d7-1054-4f6a-b03e-0c131d2a4c1f",
   "metadata": {},
   "source": [
    "A Test we would normally perform is the Z-test\n",
    "\n",
    "The idea is to standadize or scale the sample mean we got.\n",
    "If the sample mean is closer to the hypotesized mean ,then Z will be close to zero otherwise it will be far away from it."
   ]
  },
  {
   "cell_type": "markdown",
   "id": "f0f8f6af-ca73-43d8-ae7e-433492ab4475",
   "metadata": {},
   "source": [
    "Z-Test formula \n",
    "\n",
    "Z =  X̅ - μ / S / √n\n",
    "\n",
    "where \n",
    "\n",
    "X̅ = sample mean\n",
    "\n",
    "μ = hypothesized mean\n",
    "\n",
    "S / √n = standard Error"
   ]
  },
  {
   "cell_type": "markdown",
   "id": "c8a7198f-46e3-4fc2-b74e-5ba0502e6028",
   "metadata": {},
   "source": [
    "Naturally , if the sample mean is equal to the hypothesized mean,\n",
    "\n",
    "Z will be zero"
   ]
  },
  {
   "cell_type": "markdown",
   "id": "ef0b3865-c95f-4824-8cdd-a3e305a83368",
   "metadata": {},
   "source": [
    "if X̅  =  μ  ,\n",
    "\n",
    "then Z = 0"
   ]
  },
  {
   "cell_type": "markdown",
   "id": "83a0407e-a21c-4ca6-ab3e-d0d3ca927264",
   "metadata": {},
   "source": [
    "In all these these cases, we will accept the Null hypothesis"
   ]
  },
  {
   "cell_type": "markdown",
   "id": "a0d7fd7b-57b2-4221-b6f5-1456f6594e85",
   "metadata": {},
   "source": [
    "The question is , how big will Z be for us to reject the Null hypothesis?\n",
    "\n",
    "There is a cut off line,since we are conducting a two sided ,two tail test, there are two cut of line,one in each side.\n",
    "\n",
    "When we calculate Z we will get a value, if this value falls within the middle part, we cannot reject the Null but if it falls outside the middle part to the shaded region then we will reject the Null hypothesis.\n",
    "\n",
    "That is why the shaded part is called rejection region."
   ]
  },
  {
   "cell_type": "markdown",
   "id": "491bfc9a-969c-4bca-8c5f-442a279ad0bf",
   "metadata": {},
   "source": [
    "The area that is cut off depends on the signifance level.\n",
    "The level of significance alpha is 0.05, then we have alpha divided by 2 or 0.025 on the left side and 0.025 on the right side.\n",
    "\n",
    "These are values we can check from the Z- table, when alpha is 0.025, Z is 1.96\n",
    "So we have 1.96 on the right side and -1.96 on the left side.\n",
    "\n",
    "Therefore,if the value we get from Z from the test is lower than 1.96 or higher than 1.96 , we will reject the null hypothesis otherwise we will accept it."
   ]
  },
  {
   "cell_type": "markdown",
   "id": "f246b71c-4d42-4285-bcff-6de3cd8a6ada",
   "metadata": {},
   "source": [
    "How does Hypothsis testing work?\n",
    "\n",
    "calculate a statistic (e.g  X̅ )\n",
    "\n",
    "we scale the sample mean with respect to the hypothesized value \n",
    "(e.g Z =  X̅ - μ / S / √n)\n",
    "\n",
    "If Z is close to zero then we cannot reject the Null, but if it is far away from Null, then we will reject the null hypothesis."
   ]
  },
  {
   "cell_type": "markdown",
   "id": "ee8d20b6-a56b-4918-9062-2c68eb097464",
   "metadata": {},
   "source": [
    "One -Sided Test\n",
    "\n",
    "paul said Data Scientist earns more than $125,000 dollars"
   ]
  },
  {
   "cell_type": "markdown",
   "id": "168d2c32-62a6-4f36-80ae-409a13873913",
   "metadata": {},
   "source": [
    "H0 : μ0 ⩾  $120,000 (Null hypothesis)\n",
    "\n",
    "\n",
    "H1 : μ0 < $120,000 (Alternative Hypothesis)"
   ]
  },
  {
   "cell_type": "markdown",
   "id": "9af149c7-4cc8-467d-ba52-a7ced6f0c52a",
   "metadata": {},
   "source": [
    "This time the whole rejection region is on the left and the rejection region is alpha = 0.05.\n",
    "\n",
    "From the Z-table the alpha (0.05) corresponds to -1.645. \n",
    "It has a negative sign to it because it is on the left."
   ]
  },
  {
   "cell_type": "markdown",
   "id": "e554b657-ec42-4d17-a4c1-89dc1d778d3b",
   "metadata": {},
   "source": [
    "When calculating our test statistics Z, if we get a value lower than 0.645 we would reject the null hypothesis.\n",
    "\n",
    "If Z < -1.645, we reject the null hypothesis, as we have statistical evidence that the dat scientist salary is less than $125,000 otherwise, we would accept it ."
   ]
  },
  {
   "cell_type": "markdown",
   "id": "803e75ef-aee6-4722-9d17-1b3e90fca895",
   "metadata": {},
   "source": [
    "To exalt all possibilities , lets look at another one -tailed test"
   ]
  },
  {
   "cell_type": "markdown",
   "id": "fd9d8dd5-d670-4785-9b16-75c38b282b21",
   "metadata": {},
   "source": [
    "The university dean believes that on average students have a GPA of 70%\n",
    "\n",
    "H0 : the population mean grade is 70%\n",
    "\n",
    "This is a hypotesized value and we denote it with mui zero\n",
    "mui zero is lower than or equal to 70%\n",
    "\n",
    "H0 : μ0   ⩾ 70%"
   ]
  },
  {
   "cell_type": "markdown",
   "id": "828d8ac9-a013-4b14-9c77-743c1c36036a",
   "metadata": {},
   "source": [
    "The alternative hypothesis is population mean grade is not 70% so we  say miu zero differs from 70%\n",
    "\n",
    "H1 : μ0 < 70%"
   ]
  },
  {
   "cell_type": "markdown",
   "id": "ac3c75b2-f339-447c-b52f-f75d45d44300",
   "metadata": {},
   "source": [
    "In this situation the rejection region is on the right side.\n",
    "\n",
    "Hence, if the test statistics is bigger than the cut off Z-score ,we will reject the Null, otherwise we would not."
   ]
  },
  {
   "cell_type": "markdown",
   "id": "98adc192-ed86-425e-aef9-64ed3176da5b",
   "metadata": {
    "tags": []
   },
   "source": [
    "#### Type 1 Error vs Type 2 Error"
   ]
  },
  {
   "cell_type": "markdown",
   "id": "5d71e9b9-8133-4165-b6e5-2c73836a6c2e",
   "metadata": {},
   "source": [
    "Errors can be made in hypothesis testing .\n",
    "\n",
    "In general, we have two types of error.\n",
    "\n",
    "1. Type 1 Error \n",
    "\n",
    "2. Type 2 Error"
   ]
  },
  {
   "cell_type": "markdown",
   "id": "7e60125d-4271-4baf-b4e4-597621d29776",
   "metadata": {},
   "source": [
    "Type 1 Error \n",
    "\n",
    "This is when you reject the true Null hypothesis.\n",
    "It is also called a false positive\n",
    "The probability of making thid error is called alpha(α)\n",
    "(the level of significance)\n",
    "\n",
    "Since you the researcher choose the alpha, the responsibility of making this error lies solely on you."
   ]
  },
  {
   "cell_type": "markdown",
   "id": "d3c8e857-6ca6-4f13-bfa7-4f4687307984",
   "metadata": {},
   "source": [
    "Type 2 Error\n",
    "\n",
    "When you accept the false Null hypothesis\n",
    "\n",
    "It is also called a false negative\n",
    "The probability of making this error is denoted by \n",
    "Beta(β)\n",
    "\n",
    "Beta(β) depends mainly on sample size (n) and magnitude of the effect ( σ2 variance)"
   ]
  },
  {
   "cell_type": "markdown",
   "id": "6ee22ee1-f5ce-4172-b616-b6e45ef226f6",
   "metadata": {},
   "source": [
    "So if your topic is difficult due to hard sampling or the effect you are looking for is almost negligible it is more likely to make this kind of error.\n",
    "\n",
    "it is also worthy of note that the probabibility of \"rejecting a false null hypothesis  is equal to 1-beta.\n",
    "\n",
    "Probability = 1 -β\n",
    "\n",
    "The goal of hypothesis testing is to reject a false null hypothesis, therefore, 1-β is called the power of the test.\n",
    "\n",
    "Most often, researchers increases the power of the test by increasing the sample size"
   ]
  },
  {
   "cell_type": "markdown",
   "id": "9d39cd81-38c3-4bfe-b63a-f24b7508b829",
   "metadata": {},
   "source": [
    "For example , in college you are in love with this girl from the other class, but you are not sure if she likes you.\n",
    "\n",
    "The status quo in this situation is that she doesnt like you back(H0)\n",
    "\n",
    "Generally there are 4 possibilties that can be summarized in the same table.\n",
    "\n",
    "For you the status quo is that she doesnt like you and you are investigating what to do\n",
    "\n",
    "if you accept the null hypothesis, you accept the fact that she doesnt like you,\n",
    "Therefore, you do nothing.\n",
    "\n",
    "If you reject the nulll hypothesis, you reject the status quo, you go to her and invite her out."
   ]
  },
  {
   "cell_type": "markdown",
   "id": "d475ef6b-dd9a-4a18-9216-868ef841764e",
   "metadata": {},
   "source": [
    "The truth itself can be one of two options\n",
    "H0 is true ( she doesnt like you back)\n",
    "H0 is false ( she does like you back)"
   ]
  },
  {
   "cell_type": "markdown",
   "id": "726259f5-ff47-492b-95bc-9a9e3446395f",
   "metadata": {},
   "source": [
    "What happens if you accept the null when it is true( you do nothing)\n",
    "In reality the girl doesnt like you back.you save your self the embarrassment and is all good."
   ]
  },
  {
   "cell_type": "markdown",
   "id": "f28bb050-7897-4823-817f-2f7e77b8776c",
   "metadata": {},
   "source": [
    "Another possible situation is that the null is not true so she actually likes you.\n",
    "Your statistical test tells you to reject the null and you go and invite her out\n",
    "Obviously that is favourable for everyone so is all good."
   ]
  },
  {
   "cell_type": "markdown",
   "id": "1e36eb80-7628-453a-b04a-8d7680d2c518",
   "metadata": {},
   "source": [
    "However, there are two errors you can make, if she doesnt like you back and you invite her out , you are making Type 1 error and you will get a false positive.\n",
    "If you go ahead and invite her out ,she tells you she have someone older, smarter and better in statistics than you."
   ]
  },
  {
   "cell_type": "markdown",
   "id": "f243fe79-1e85-4382-b22d-e91be3932a1e",
   "metadata": {},
   "source": [
    "Imagine she actually likes you and you accepted the null and did nothing about it, hence you have committed a type 11 error(false Positive)"
   ]
  },
  {
   "cell_type": "markdown",
   "id": "19ecb939-6132-49c3-8f32-c107cfdda930",
   "metadata": {},
   "source": [
    "Hypohesis testing is the way it is , you dont really want to make any of the two errors but it happens sometimes.\n",
    "We should be aware that statistics is very useful but not perfect."
   ]
  },
  {
   "cell_type": "markdown",
   "id": "1cb3e522-fc7c-4788-bb65-2bb260c8d5fd",
   "metadata": {},
   "source": [
    "Below is a common table used by researchers to summarize the type of errors"
   ]
  },
  {
   "cell_type": "markdown",
   "id": "5cf49762-ce32-41e9-b4c6-018160ebb9fa",
   "metadata": {},
   "source": [
    "### Test For the mean. Population Variance known"
   ]
  },
  {
   "cell_type": "markdown",
   "id": "4fd0c2d7-91c6-4e22-bcb7-6b7d27b8dc69",
   "metadata": {},
   "source": [
    "We will be exploring two type of test\n",
    "\n",
    "1. Test drawn from a Single Population\n",
    "2. Test drawn from a Multiple population"
   ]
  },
  {
   "cell_type": "markdown",
   "id": "0a001930-0fa6-467f-a102-f508416c0d7b",
   "metadata": {},
   "source": [
    "This is very similar to confidence interval for a single population and confidence interval for two populations that we covered previously."
   ]
  },
  {
   "cell_type": "markdown",
   "id": "f80fbeb0-7846-47ff-b652-6291a5e8ffe5",
   "metadata": {},
   "source": [
    "We will run test for a single mean with both known variance and unknown variance"
   ]
  },
  {
   "cell_type": "markdown",
   "id": "c8109eac-201e-4510-8cd7-74deb5ba7d79",
   "metadata": {},
   "source": [
    "Test in which the variance is known\n",
    "\n",
    "We will be using the data scientist Salary example"
   ]
  },
  {
   "cell_type": "markdown",
   "id": "9cd2d27f-3331-45ed-9a41-41cccd4db3e2",
   "metadata": {},
   "source": [
    "Sample mean = $100,200\n",
    "\n",
    "Population varianc eis known \n",
    "\n",
    "Population std = $15,000\n",
    "\n",
    "Standard Error = $2739\n",
    "\n",
    "Sample size = 30\n",
    "\n",
    "According to glassdoor the mean data scientist salary is $113,000\n",
    "\n",
    "Sample Data on Glassdoor is usually self -reported numbers and we need to see if the values are correct."
   ]
  },
  {
   "cell_type": "markdown",
   "id": "2dc7d82d-b545-4fa8-abe3-3a56295e780d",
   "metadata": {},
   "source": [
    "Sample Data on Glassdoor is usually self -reported numbers and we need to see if the values are correct.\n",
    "We needed a two sided test as we are interested in knowing if both of the salary is significantly less than that\n",
    "Or significantly more than that"
   ]
  },
  {
   "cell_type": "markdown",
   "id": "d379b797-9013-4fb4-8ff1-6d1da2cf84ce",
   "metadata": {},
   "source": [
    "The population mean is the null hypothesis is more than $113,000 \n",
    "\n",
    "H0 : μ0 = $113,000\n",
    "\n",
    "The Alternative population mean salary is different than( ≠) $113,000\n",
    "\n",
    "H1 : μ0 ≠ $113,000"
   ]
  },
  {
   "cell_type": "markdown",
   "id": "a96a0c32-9d70-49ac-9c30-a6c2e510586d",
   "metadata": {},
   "source": [
    "Formula\n",
    "\n",
    "Testing is done by Standardizing the variable at hand and comparing it to the lower case z which follows a standard normal distribution.( you can watch the video on statdardization again to refresh your memory)"
   ]
  },
  {
   "cell_type": "markdown",
   "id": "c819e221-d353-494c-a7a3-33d717b001e7",
   "metadata": {},
   "source": [
    "We standardize a variable by subtracting the mean and dividing by the satndard deviation.\n",
    "\n",
    "Since , it is a sample we use standard error"
   ]
  },
  {
   "cell_type": "markdown",
   "id": "12437e56-e2ff-4f1a-8c95-c52fed83580b",
   "metadata": {},
   "source": [
    "The Fomula for Standard deviation now becomes \n",
    "Capita Z is equal to the sample mean minus the value of interest from the null hypothesis divided by the standard error.\n",
    "In this way we obtain a division with a mean of 0 and a std of 1"
   ]
  },
  {
   "cell_type": "markdown",
   "id": "dea534e6-b23b-434e-8219-433f105acc53",
   "metadata": {},
   "source": [
    "Formula for standardization\n",
    "\n",
    "Z =  X̅ - μ0 / 𝜎 / √n ~ N(0,1)\n",
    "\n",
    "Z = the standardized variable associated with the test called the Z-score\n",
    "\n",
    "X̅ = sample mean\n",
    "\n",
    "μ0 = value of interest from the null hypothesis\n",
    "\n",
    " 𝜎 / √n = Standard Error"
   ]
  },
  {
   "cell_type": "markdown",
   "id": "3620aab5-9724-4406-ab98-cd2e512ba2c4",
   "metadata": {},
   "source": [
    "This upper case Z should not be mistaken by lower case z\n",
    "\n",
    "The upper case Z is equal to the standardized variable associated with the test called the Z-score.\n",
    "\n",
    "The lower case -z is the one from the table that we have talked about before and hence forth should be referred to as the critical value."
   ]
  },
  {
   "cell_type": "raw",
   "id": "ebfef52c-c3fb-45bf-b339-ad2c2489bc18",
   "metadata": {},
   "source": [
    "How does testing work?\n",
    "\n",
    "The lower case -z is normally distributed with a mean and stardard deviation of 1\n",
    "\n",
    "N ~ (0,1)\n",
    "\n",
    "the upper case -Z is normally distributed with a mean of x bar minus mui zero and stardard deviation of 1\n",
    "\n",
    "Z ~ N(X̅ - μ0,1)"
   ]
  },
  {
   "cell_type": "markdown",
   "id": "ac90b966-14b3-49a1-bc67-c44216503a57",
   "metadata": {},
   "source": [
    "Standardization lets us compares the means,\n",
    "The closer the difference of X̅ and μ0 to 0 , the closer the z score itself itself to zero,\n",
    "This implies the higher chance to accept the Null hypothesis"
   ]
  },
  {
   "cell_type": "markdown",
   "id": "93e3c9c6-a9bc-4959-8a48-1a19bcc60221",
   "metadata": {},
   "source": [
    "Lets go back to our example, What is the value of our standardize variable, we plug in the numbers we have from the beginning of the lesson"
   ]
  },
  {
   "cell_type": "raw",
   "id": "f67d69e0-facb-46d3-b2f5-be26608b0e85",
   "metadata": {},
   "source": [
    "Z =  X̅ - μ0 / 𝜎 / √n = \n",
    "100,200 - 113,000 / 2739  = -4.67 ( a Z-score)"
   ]
  },
  {
   "cell_type": "markdown",
   "id": "7b01657a-1c79-433c-8863-b9212a55a3e7",
   "metadata": {},
   "source": [
    "Now we will compare the absolute value of -4.67 with the lower case z of alpha divided by 2,\n",
    "Where Alpa is the significance level.\n",
    "\n",
    "Note ,that we used the absolute value as it is much easier to always compare positive capital Z with positive lower case-z\n",
    "Moreover,some z tables dont include negative values, like the one we just used."
   ]
  },
  {
   "cell_type": "markdown",
   "id": "80be37e6-4b94-456a-a99e-29f783afe704",
   "metadata": {},
   "source": [
    "As the standard normal distribution is symmetrical around zero, the two statements are equivalent.\n",
    "\n",
    "-4.67 < -z <=> 4.67 > a positive Z"
   ]
  },
  {
   "cell_type": "markdown",
   "id": "2d6925fb-3644-47f9-88d2-1911c1dfddec",
   "metadata": {},
   "source": [
    "Hence, our Decision rule should be \n",
    "Absolute value of  the z score should be higher than the absolute value of the critical value of z-score"
   ]
  },
  {
   "cell_type": "markdown",
   "id": "984952c8-27da-4bb4-a0ff-d28898211802",
   "metadata": {},
   "source": [
    "Decision Rule:\n",
    "Reject if : absolute vale of -z score is > than positive critical value (z)  "
   ]
  },
  {
   "cell_type": "markdown",
   "id": "46a06e2e-ba32-447d-85b3-96cdc197c36c",
   "metadata": {},
   "source": [
    "Using 5% significance, our alpha is 0.05\n",
    "\n",
    "Since , it is a two sided test for zof 0.025\n",
    "\n",
    "5% significance\n",
    "\n",
    "  alpha = 0.025\n",
    "  \n",
    "ie Z0.025 = 1.96\n",
    "\n",
    "the corresponding value from the table is 1.96"
   ]
  },
  {
   "cell_type": "markdown",
   "id": "3ea6761f-f664-4625-81e8-71b17e1e4803",
   "metadata": {},
   "source": [
    "The last thing we need to do is compare our  standardized variable to the critical value\n",
    "\n",
    "If the Z-score is higher than 1.96, we will reject the null hypothesis,\n",
    "If it is lower we will accept it.\n",
    "\n",
    "Z 4.67 > z 1.96 ( Z 4.67 is higher than z  1.96 )\n",
    "\n",
    "Therefore, we reject the Null hypothesis"
   ]
  },
  {
   "cell_type": "markdown",
   "id": "eac2dd14-44d1-4cab-ba1c-bc5f1b8b3383",
   "metadata": {},
   "source": [
    "Hence, at the 5% significant level we have rejected the null hypothesis \n",
    "Or at 5% significance level there is no statistical evidence that the mean salary of a data scientist is $113,000"
   ]
  },
  {
   "cell_type": "markdown",
   "id": "b8da55cf-6aa2-418c-a1eb-1fd22f2436d3",
   "metadata": {},
   "source": [
    "There are many other ways to express this, \n",
    "\n",
    "What if we have another significance level\n",
    "\n",
    "usin 1% signicance, we have 0.01 = alpha, so z of alpha divided by 2 is 2.58\n",
    "z0.005 = 2.58\n",
    "\n",
    "once again ,our z-score of 4.67 is higher than 2.58.\n",
    "hence, we will reject the null hypothesis even at the 1% significance"
   ]
  },
  {
   "cell_type": "markdown",
   "id": "1d330ba0-a336-4d89-8df6-07b958b93aac",
   "metadata": {},
   "source": [
    "But how much further can we go before we cannnot reject the null hypothesis anymore. 0.5% , 0.1%?\n",
    "\n",
    "There is a special technique that allows us to see what the significance level is,at which we will not be able to reject the null hypothesis"
   ]
  },
  {
   "cell_type": "markdown",
   "id": "bbce86bd-54b0-491c-9fe0-6c32197f314a",
   "metadata": {
    "tags": []
   },
   "source": [
    "### P- Value"
   ]
  },
  {
   "cell_type": "markdown",
   "id": "4bc256e1-8bf9-4636-85a5-8377026cdab8",
   "metadata": {},
   "source": [
    "P-value is the smallest level of significance at which we can still reject the null hypothesis, given the  observed sample statistic.\n",
    "This is the most common way to test hypothesis"
   ]
  },
  {
   "cell_type": "markdown",
   "id": "dadb02be-38b3-4965-a3b2-8377ee7b26dd",
   "metadata": {},
   "source": [
    "Recall the example of data science salary we have \n",
    "standard error of 2739\n",
    "Known population std of 15000\n",
    "N~ (μ0,𝜎2) = normally distributed population\n",
    "\n",
    "Sample size  n = 30\n",
    "\n",
    "Corresponding Z-score = -4.67\n",
    "\n",
    "we rejected the null hypothesis at significance level of 0.05 and 0.01\n",
    "\n",
    "But we wanted to know how much lower we can go\n",
    "\n",
    "Hence, we can chech the Z- table for +4.67 which gives us thesame result as -4.67"
   ]
  },
  {
   "cell_type": "markdown",
   "id": "7e5d4746-39b5-4d6a-9feb-5de36e8717cd",
   "metadata": {},
   "source": [
    "In most Z- tables you will not even find this value as it is so large, so we round off to the closest value available and get 0.001.\n",
    "\n",
    "but how do we actually test the hypothesis"
   ]
  },
  {
   "cell_type": "markdown",
   "id": "1f913425-ef45-4471-bf42-950598f49ef6",
   "metadata": {},
   "source": [
    "p-value = 0.0001, Z = -4.67\n",
    "After choosing the significant level of alpha, you compare the p-value to it"
   ]
  },
  {
   "cell_type": "markdown",
   "id": "4a9ef35e-ed93-4809-8a87-190f44ebf60d",
   "metadata": {},
   "source": [
    "Rule : Reject the null hypothesis if the p=value is lower than the significance level alpha\n",
    "p-value < α (Reject hypothesis)"
   ]
  },
  {
   "cell_type": "markdown",
   "id": "699d9a98-2f28-4650-bd1c-f5df967a3f4c",
   "metadata": {},
   "source": [
    "Therefore we can say that such a result is extremely significant by any measure of significance."
   ]
  },
  {
   "cell_type": "raw",
   "id": "c9b50b38-d4b6-4cad-9c8e-fa874165da72",
   "metadata": {},
   "source": [
    "Test at 90% = 0.0001 < 0.1   -\n",
    "Test at 95% = 0.0001 < 0.05  => REJECT THE NULL HYPOTHESIS\n",
    "Test at 99% = 0.0001 < 0.01  -"
   ]
  },
  {
   "cell_type": "raw",
   "id": "e7d268dc-ef35-4b7c-b20d-4db83060b45e",
   "metadata": {},
   "source": [
    "Example 2:\n",
    "    \n",
    "    If our Z- score = 2.12\n",
    "    We will reject the null hypothesis at 5% but we will not reject it at 1% signicance\n",
    "    \n",
    "    \n",
    "    Test at 90% = 0.0001 < 0.1  => Reject\n",
    "Test at 95% = 0.0001 < 0.05  => REJECT THE NULL HYPOTHESIS\n",
    "\n",
    "Test at 99% = 0.0001 < 0.01 => Do not reject"
   ]
  },
  {
   "cell_type": "markdown",
   "id": "167a5413-64a7-4be8-9a5b-f3c07b720936",
   "metadata": {},
   "source": [
    "At this point we can actually look at the table and then find the p-value\n",
    "\n",
    "We look for the value that corresponds with 2.12 and find out if it is to 0.983"
   ]
  },
  {
   "cell_type": "markdown",
   "id": "2a1226f2-4efd-4761-a75e-952e94017f06",
   "metadata": {},
   "source": [
    "How to find the P-value manually"
   ]
  },
  {
   "cell_type": "markdown",
   "id": "e7e09e3d-8850-4f2b-81a1-1f820d099128",
   "metadata": {},
   "source": [
    "The p-value of one -sided test is 1- the number we see on the table\n",
    "\n",
    "Hence, the corresponding p-value is \n",
    "\n",
    "1-0.983  = 0.017"
   ]
  },
  {
   "cell_type": "markdown",
   "id": "60896a3f-ae51-4818-a5cb-a10334a6ebb0",
   "metadata": {},
   "source": [
    "The p-value of a two -sided test is equal to 1 minus the number we see on the table multiplied by 2\n",
    "\n",
    "Therefore the p-value will be (1-0.983 )x 2 = 0.034"
   ]
  },
  {
   "cell_type": "markdown",
   "id": "1a11ecde-caef-4db8-9b5e-ae88321000e1",
   "metadata": {},
   "source": [
    "Where and how are p-values used?"
   ]
  },
  {
   "cell_type": "markdown",
   "id": "70082f8e-963a-4155-b7e1-ff15df69a3da",
   "metadata": {},
   "source": [
    "Most statistical soft ware packages run test and they provide us with a series of result and one of them is p-value.\n",
    "\n",
    "It is then up to the researcher to decide whether the variable is statistically significant or not"
   ]
  },
  {
   "cell_type": "markdown",
   "id": "8ac61f36-6f57-4f93-a11e-8b1974205ed9",
   "metadata": {},
   "source": [
    "Genreally soft ware is designed to calcuate the p=value to the 3rd digit after the dot seperator (x.xxx)"
   ]
  },
  {
   "cell_type": "markdown",
   "id": "fbda3f25-640f-4d3d-b971-5f362a29722d",
   "metadata": {},
   "source": [
    "The point is when you start conducting your own research , you would love to be able to see the 3 zeros after the dot."
   ]
  },
  {
   "cell_type": "markdown",
   "id": "ca95331d-542c-4f86-89a8-3bd87a88b854",
   "metadata": {},
   "source": [
    "The closer the 0.000 your p=value is, the more significant is the result you have obtained."
   ]
  },
  {
   "cell_type": "markdown",
   "id": "9caee510-b03b-4857-bb55-a9e8f07d84bc",
   "metadata": {},
   "source": [
    "The final consideration is that P-value have an extremely powerful measure as it works for all distribution.\n",
    "\n",
    "Infact p-value is a universal concept that works with every distribution.\n",
    "\n",
    "Whether we are dealing with Normal, Student's T, Binomial or Uniform distribution.\n",
    "Whatever the test, the P-value rational holds."
   ]
  },
  {
   "cell_type": "markdown",
   "id": "d25ec87f-7522-453c-a54c-7ed2a49d3d9f",
   "metadata": {},
   "source": [
    "If the p-value is lower than the level of significance , we will reject the null hypothesis"
   ]
  },
  {
   "cell_type": "markdown",
   "id": "9d57894e-b69f-4fd5-b15b-8091808fb36c",
   "metadata": {},
   "source": [
    "You normally use the p-value with the presence of a digital median"
   ]
  },
  {
   "cell_type": "markdown",
   "id": "52ef4bb4-48d8-4792-ae8a-8bb631b3597c",
   "metadata": {},
   "source": [
    "It is recommended you use online p-values calculators to support your studies and double check your answers when doing exercises."
   ]
  },
  {
   "cell_type": "markdown",
   "id": "769a0ed5-7b79-4a97-9c1f-46eb732265bc",
   "metadata": {},
   "source": [
    "### Test For the mean. Population Variance unknown"
   ]
  },
  {
   "cell_type": "markdown",
   "id": "6798cbc2-b166-4ca7-8271-e23e05ad7a46",
   "metadata": {},
   "source": [
    "We will be discussing the most common cases when the population variance is unknown"
   ]
  },
  {
   "cell_type": "markdown",
   "id": "81d6eb97-3eae-4500-9041-2b0ff2821ec4",
   "metadata": {},
   "source": [
    "Example : You are the Marketing analyst of the company and you have been given a task to find out if our competitor has a higher open rate.\n",
    "\n",
    "Your company open rate is 40%\n",
    "\n",
    "Definition : An e mail open rate is a measure od how many people on the e mail list actually opened an e mail they have received."
   ]
  },
  {
   "cell_type": "markdown",
   "id": "e04157bd-37a6-4076-8ec9-01e5bf97bb20",
   "metadata": {},
   "source": [
    "At first you struggled on how to get the specific information about the company, then you see that an employee of that company posted a selfie on facebook saying hello, world , the e mail soft ware we are using drives me nut,\n",
    "\n",
    "You could also see the summary of the last 10 e mail campaign that was sent and there corresponding open rates.\n",
    "\n",
    "With your statistical skills ,that is all you need"
   ]
  },
  {
   "cell_type": "markdown",
   "id": "dbf5955c-c88d-41ad-b36b-25efa2f5521a",
   "metadata": {},
   "source": [
    "Hypothesis :\n",
    "    \n",
    "Null hypothesis : Mean open rate is lower or equal to 40%\n",
    "\n",
    "H0 :μOR or ⩽ 40%\n",
    "\n",
    "Alternative hypothesis: mean open rate is higher than 40%\n",
    "\n",
    "H1 :μOR > 40%"
   ]
  },
  {
   "cell_type": "markdown",
   "id": "e1beaa6d-6c1e-4b6e-bef5-2b91acb6c2e3",
   "metadata": {},
   "source": [
    "Note that in hypothesis testing, we are aiming to reject the null hypothesis"
   ]
  },
  {
   "cell_type": "markdown",
   "id": "0b64d518-651e-4092-bb37-a52c73005bf2",
   "metadata": {},
   "source": [
    "When we want to test if the open rate is higher than 40% the null hypothesis actually states the opposite statement."
   ]
  },
  {
   "cell_type": "markdown",
   "id": "76ccd4e1-e33c-4b00-9f5a-915af29c124e",
   "metadata": {},
   "source": [
    "take note osf the fact that we are dealing with a one-sided test\n",
    "\n",
    "Your boss told you that 0.05 is the adequate signifance level for this test\n",
    "\n",
    "so  α = 0.05"
   ]
  },
  {
   "cell_type": "raw",
   "id": "6c4ce464-5010-44b4-a408-b10ba685505c",
   "metadata": {},
   "source": [
    "Below is the data set for open rate\n",
    "\n",
    "20%                sample mean = 37.70%\n",
    "23%\n",
    "42%                 sample standard dev = 13.74%\n",
    "49%\n",
    "23%                 standard error = 4.34%\n",
    "59%\n",
    "29%\n",
    "29%                 Null hypothesis value = 4.34%\n",
    "57%                  Tscore = -0.53\n",
    "40%                     p-value = 0.304"
   ]
  },
  {
   "cell_type": "markdown",
   "id": "41fa3a7e-a81a-41d2-b475-41a043aac38a",
   "metadata": {},
   "source": [
    "Assume that open rate of the e mails are normally distributed"
   ]
  },
  {
   "cell_type": "markdown",
   "id": "f437ed0a-3800-48ef-b7c8-4f8bcf5ccd65",
   "metadata": {},
   "source": [
    "Like confidence interval with variance unknown and a small sample,the correct statistics to us is the T-statistics."
   ]
  },
  {
   "cell_type": "markdown",
   "id": "8d994076-7148-4362-9793-d42d955b13c4",
   "metadata": {},
   "source": [
    "Remember you do not know the variance and the sample is not big enough, this means that the variable follows the students T distribution and you must employ the T-statistics."
   ]
  },
  {
   "cell_type": "markdown",
   "id": "f542abfb-6352-4dc4-ab88-678ca66d3aba",
   "metadata": {},
   "source": [
    "Note, we calculate the T-score, thesame way like the z-score\n",
    "\n",
    "T-score is equal to the sample mean minus the hypothesized value divided by the standard error."
   ]
  },
  {
   "cell_type": "raw",
   "id": "c5aa9da7-bf6a-47f8-8a82-4caf46c94d73",
   "metadata": {},
   "source": [
    "T =  X̅ - μ0 / S / √n = \n",
    "\n",
    "37.70% -40% / 4.34%   = -0.53"
   ]
  },
  {
   "cell_type": "markdown",
   "id": "5e9a5614-d5cb-4ddb-a6d3-dadb5c692495",
   "metadata": {},
   "source": [
    "Like we stated before, it is easier to work with positive numbers, so compare the absolute value of -0.53 with the \n",
    "\n",
    "appropriate t of n-1 degrees of freedom\n",
    "\n",
    "df = n- 1 = 9\n",
    "\n",
    "0.05 one-sided significance"
   ]
  },
  {
   "cell_type": "markdown",
   "id": "5a0c5e2a-174b-495b-97f4-39a1a1313f30",
   "metadata": {},
   "source": [
    "We quickly navigate to the table and get 1.833 at 5% signifance critical value."
   ]
  },
  {
   "cell_type": "markdown",
   "id": "315dd9d7-c7c1-40bf-ac80-b538911cd34d",
   "metadata": {},
   "source": [
    "T = 0.53 < t = 1.83 => we accept he null hypothesis."
   ]
  },
  {
   "cell_type": "markdown",
   "id": "6e9829d0-9f85-40c0-88d1-f53a0d2bcab4",
   "metadata": {},
   "source": [
    "Remember the Decision rule : If the absolute value of the T-score is lower than the statistics from the table .\n",
    "\n",
    "we cannot reject the null hypothesis."
   ]
  },
  {
   "cell_type": "markdown",
   "id": "3ba22d1a-c831-40ce-9b4f-5223cb2f1ecd",
   "metadata": {},
   "source": [
    "Rule :\n",
    "    \n",
    "accept if absolute value of the T-score < critical value t\n",
    "\n",
    "Reject if the absolute value of the T-score > critical value t"
   ]
  },
  {
   "cell_type": "markdown",
   "id": "f389d6e8-256e-42bd-a100-78116beeb552",
   "metadata": {},
   "source": [
    "In conclusion, statistically we cannot say that the e mail open rate of our competitors is higher than 40%"
   ]
  },
  {
   "cell_type": "markdown",
   "id": "88256316-b0b5-4d87-9c9d-80ae9d16fc4a",
   "metadata": {},
   "source": [
    "P-value is the second measurement we saw and is 0.304\n",
    "P-value = 0.304 > 0.05 (significance level), => we accept the null hypothesis"
   ]
  },
  {
   "cell_type": "markdown",
   "id": "14045284-9dde-4007-8068-892ab092bc71",
   "metadata": {},
   "source": [
    "Decision Rule:\n",
    "    \n",
    "Accept: if p-value > alpha \n",
    "\n",
    "Reject: if p-value < alpha"
   ]
  },
  {
   "cell_type": "markdown",
   "id": "84a8aeff-a42a-4426-bfee-e365e5bc2769",
   "metadata": {},
   "source": [
    "Lets do a quick check: if the \n",
    "\n",
    "P-value = 0.304 > 0.01 => we accept the null hypothesis"
   ]
  },
  {
   "cell_type": "markdown",
   "id": "e0f92b77-3ec6-4b36-9f42-fe33c3a2e5b3",
   "metadata": {},
   "source": [
    "This is an important observation we have not noted before, if we cannot reject a testa at 0.05 significant level, we cannot reject it at small levels either ."
   ]
  },
  {
   "cell_type": "markdown",
   "id": "22f5ecea-f155-43dc-b8ed-89287b0e41f3",
   "metadata": {},
   "source": [
    "### Test For the mean. Dependent samples"
   ]
  },
  {
   "cell_type": "markdown",
   "id": "92cc8330-41a1-4a75-8439-6750cb1ce87f",
   "metadata": {},
   "source": [
    "The dependent samples t-test is used to compare the sample means from two related groups. This means that the scores for both groups being compared come from the same people. The purpose of this test is to determine if there is a change from one measurement (group) to the other."
   ]
  },
  {
   "cell_type": "markdown",
   "id": "ba8b7a7c-e97d-4e6e-810e-1c5e83a66f5a",
   "metadata": {},
   "source": [
    "Two samples are dependent(or consist of matched pairs) if the members of one sample can be used to determine the members of the other sample. Tricks: The words like dependent, repeated, before and after, matched pairs, paired and so on are hints for dependent samples.\n",
    "\n",
    "Examples : weight loss and blood test"
   ]
  },
  {
   "cell_type": "markdown",
   "id": "50e599ff-26d5-42df-8190-717d2598f897",
   "metadata": {},
   "source": [
    "The sample is drawn from weight loss data or concentration of nutrient data, but the same subject and same person before and after."
   ]
  },
  {
   "cell_type": "markdown",
   "id": "f644b1de-2d72-454c-b230-694bf2ec7518",
   "metadata": {},
   "source": [
    "Remeber the example of the magnesiun level, the sample was done on 10 persons and confident interval was calculated\n",
    "\n",
    "But now we want to come to a conclusion on the effectiveness of the drug"
   ]
  },
  {
   "cell_type": "markdown",
   "id": "dd53f205-766e-45e2-be65-611786d09007",
   "metadata": {},
   "source": [
    "Lets state the null hypothesis , population mean before is equal or greater than population mean after\n",
    "\n",
    "H0 :μB ⩾ μA\n",
    "\n",
    "Alternative hypothesis , population mean before  lower than population mean after.\n",
    "\n",
    "H1 :μB < μA"
   ]
  },
  {
   "cell_type": "markdown",
   "id": "1815657f-824f-477e-b4df-70747907e6d6",
   "metadata": {},
   "source": [
    "We want to know if the magnesium level are higher.\n",
    "\n",
    "We constuct the null and alternative hypothesis in such a way that we are aiming to reject the null hypothesis.\n",
    "We expect the level to be higher so in the null hypothesis we state them to be lower or equal.\n",
    "We expect the level of magnesium to be increasing,so this the Alternative hypothesis as we are aiming to reject the null."
   ]
  },
  {
   "cell_type": "markdown",
   "id": "cbf506cd-07a6-4731-a883-498d804982b9",
   "metadata": {},
   "source": [
    "H0 :μB ⩾ μA this is equal to mui before minus mui after is equal to 0\n",
    "H0 : μB - μA ⩾ 0 or positive\n",
    "we can substitute this with capital D0, to stands for the hypothesized population mean difference.\n",
    "we are using D0 for simplicity."
   ]
  },
  {
   "cell_type": "markdown",
   "id": "d43f5337-7f54-4538-bc23-6f80628616ca",
   "metadata": {},
   "source": [
    "H0 = D0 ⩾ 0\n",
    "\n",
    "H1 = D0 < 0"
   ]
  },
  {
   "cell_type": "markdown",
   "id": "737abe44-af26-4a0e-8d75-5917c9113dd6",
   "metadata": {},
   "source": [
    "Dataset \n",
    "\n",
    " sample mean = -0.33\n",
    "    \n",
    "    sample std = 0.45\n",
    "    \n",
    "    std .error = 0.14\n",
    "    \n",
    "    T-score = -2.29\n",
    "    \n",
    "    P-value = 0.024"
   ]
  },
  {
   "cell_type": "markdown",
   "id": "07c3ffb5-156f-4fba-abc8-786c0b442e69",
   "metadata": {},
   "source": [
    "The statistics to use is the T-statistics\n",
    "\n",
    "1.We have a small sample\n",
    "\n",
    "2.We assume normal distribution\n",
    "\n",
    "3.Variance unknown"
   ]
  },
  {
   "cell_type": "markdown",
   "id": "999c5994-0b50-44b6-8e13-860bf4fc796d",
   "metadata": {},
   "source": [
    "Formula\n",
    "\n",
    "t-score = the following expression\n",
    "\n",
    "T = d bar -μ0 / standard error\n",
    "\n",
    "-0.33 - 0 /0.14  = -2.29"
   ]
  },
  {
   "cell_type": "markdown",
   "id": "890e5872-14f9-470f-9d33-76c39dca631b",
   "metadata": {},
   "source": [
    "Since ,we dont want to choose a level of significance, lets solve this problem with the p=value.\n",
    "\n",
    "In order to find the p=value of tis one -sided test, we will go to the table and see that it is between (0.01 and 0.025). \n",
    "\n",
    "As we mentioned earlier using software is much easier, we got 0.024\n",
    "p-value = 0.024"
   ]
  },
  {
   "cell_type": "markdown",
   "id": "76deb57c-5857-4016-8e40-d0f4d0e05fcd",
   "metadata": {},
   "source": [
    "Decision Rule:\n",
    "    \n",
    "Accept: if p-value > alpha \n",
    "\n",
    "Reject: if p-value < alpha"
   ]
  },
  {
   "cell_type": "markdown",
   "id": "f9b36311-7727-491c-b6d0-25d92cc6f6d0",
   "metadata": {},
   "source": [
    "5% significance ,p-value 0.024 < 0.05. =>  we reject the null hypothesis"
   ]
  },
  {
   "cell_type": "markdown",
   "id": "97e0e223-722c-4471-b9dc-f57f590f5f5a",
   "metadata": {},
   "source": [
    "if the level of significance is 1%\n",
    "\n",
    "0.024 > 0.01 => we accept the null hypotheis because the P-value is higher"
   ]
  },
  {
   "cell_type": "markdown",
   "id": "df93e909-8ab4-4219-8356-3057986ad57d",
   "metadata": {},
   "source": [
    "the lowest significance level at which we can reject the null hypothesis is 0.024\n",
    "\n",
    "This is exactly the p-value"
   ]
  },
  {
   "cell_type": "markdown",
   "id": "2a6bc5be-d7c6-4be1-98aa-294f5e85da55",
   "metadata": {},
   "source": [
    "What does this tell us, it is up to the researcher to choose the level of significance"
   ]
  },
  {
   "cell_type": "markdown",
   "id": "d060fed2-350b-49e1-bc3d-df51937ee4ec",
   "metadata": {},
   "source": [
    "In the case of the magnesium pill\n",
    "1. we wxpect thatthe researcher must be very cautious as he would want to know if this is an effective pill that will actually help people.\n",
    "\n",
    "2.If we cannot say that the pill works at 1% significant level perhaps it is better to take it back to the laboratory because medicine entails more precise test.\n",
    "\n",
    "3.An alternative will be to test again and increase the sample size for better result.\n",
    "A sample of 100 people will improve the test result significantly."
   ]
  },
  {
   "cell_type": "markdown",
   "id": "ed588079-5da8-4710-96dd-5089f80f60fc",
   "metadata": {
    "tags": []
   },
   "source": [
    "### Test For the mean. Independent samples( part 1)"
   ]
  },
  {
   "cell_type": "markdown",
   "id": "5a181bf1-7c39-46e1-8fd1-e1df3024c555",
   "metadata": {},
   "source": [
    "#### Independent samples with known variance"
   ]
  },
  {
   "cell_type": "markdown",
   "id": "85da9167-4b9b-447e-a5f0-e2da43e61752",
   "metadata": {},
   "source": [
    "Independent samples are samples that are selected randomly so that its observations do not depend on the values other observations. Many statistical analyses are based on the assumption that samples are independent. Others are designed to assess samples that are not independent."
   ]
  },
  {
   "cell_type": "markdown",
   "id": "917af9ac-b120-4729-b97a-16cecd285e45",
   "metadata": {},
   "source": [
    "Example : \n",
    "    \n",
    "Test for average grade of students from  two different departments in the UK university.\n",
    "\n",
    "In the UK grades are represented in percentages\n",
    "\n",
    "The two departments are Engineering and Management.\n",
    "\n",
    "we were told by the deam that engineering is a tougher discipline and people tende to get lower grades.\n",
    "\n",
    "He believes that on average management students out perform the Engineering students by 4%.\n",
    "\n",
    "Now it is our job to verify if that is the case."
   ]
  },
  {
   "cell_type": "markdown",
   "id": "02ca458e-3a28-4643-9f0d-d2d76957ef77",
   "metadata": {},
   "source": [
    "Hypothesis Testing (two -sided test)\n",
    "\n",
    "The null hypothesis states that the difference between Engineering and Management is -4%\n",
    "\n",
    "H0 :μE - μM = -4%\n",
    "\n",
    "Observe that we can also put mangement first before engineering and get a positive difference. either way works\n",
    "\n",
    "H0 :μM - μE = 4%\n",
    "\n",
    "The Alternative hypothesis,\n",
    "\n",
    "The population mean difference is difference than 4%\n",
    "\n",
    "H1 :μE - μM ≠  -4%"
   ]
  },
  {
   "cell_type": "markdown",
   "id": "b2a4e983-95ac-41b3-9e2b-829d0808bde9",
   "metadata": {},
   "source": [
    "Our researh Question is not to find the difference but to check if it is exactly 4%"
   ]
  },
  {
   "cell_type": "raw",
   "id": "150e3b60-c03b-4bb9-9352-7c9c567fe541",
   "metadata": {},
   "source": [
    "Table that summarizes the data\n",
    "\n",
    "                      Engineering   Management    difference\n",
    "\n",
    "Size                    100              70          ?\n",
    "\n",
    "mean                    58%             65%          -7.00%\n",
    "\n",
    "population.std           10%             6%             1.23%\n",
    "\n",
    "Hypothesis diff.        -4%\n",
    "\n",
    "z-score                 -2.44\n",
    "\n",
    "p-value                  0.015"
   ]
  },
  {
   "cell_type": "markdown",
   "id": "c9aeeb24-4191-4ca3-984e-1014a2620a19",
   "metadata": {},
   "source": [
    "If you remember when the population is known for independent samples, the standard error of the difference is equal to the square root of sum of variance of engineering,divided by sample size and a variance of managent.\n",
    "Again divided by its sample size."
   ]
  },
  {
   "cell_type": "markdown",
   "id": "605cb835-8024-4f9b-b535-2d98860765bf",
   "metadata": {},
   "source": [
    "Standard error formula for calculating known variance\n",
    "\n",
    "√𝜎2e / ne  +  𝜎2m / nm "
   ]
  },
  {
   "cell_type": "markdown",
   "id": "f77ab143-0a42-456f-88eb-b1138be90d61",
   "metadata": {},
   "source": [
    "we have. \n",
    "\n",
    "big samples and known variances ,\n",
    "\n",
    "hence, we can use the Z -sttistics"
   ]
  },
  {
   "cell_type": "markdown",
   "id": "b4bc3b09-8f72-4cd4-8cfa-0845e9ff91db",
   "metadata": {},
   "source": [
    "Note:\n",
    "Small samples \n",
    "Unknown variances \n",
    "use T-statistics "
   ]
  },
  {
   "cell_type": "markdown",
   "id": "6871fb34-ede1-4eae-9bd5-882b3125a451",
   "metadata": {},
   "source": [
    "when we have\n",
    "\n",
    "Large samples and Unknown varaince .\n",
    "\n",
    "Is up to the researcher to decide ,but is ok to use z-statistics as well."
   ]
  },
  {
   "cell_type": "raw",
   "id": "61628581-9221-4ba6-8e48-c27784dbfb51",
   "metadata": {},
   "source": [
    "Formula for the test statistics \n",
    "\n",
    "Z = X̅ - μ0 /  √𝜎2e / ne  +  𝜎2m / nm  = (-7%) - (-4%) / 1.23%  = -2.44"
   ]
  },
  {
   "cell_type": "markdown",
   "id": "c3b3689c-a123-470a-a12d-b69833dd4089",
   "metadata": {},
   "source": [
    "Sample difference mean X̅  \n",
    "\n",
    "minus hypothesized difference mean  μ0\n",
    "\n",
    "divided by the sandard error  √𝜎2e / ne  +  𝜎2m / nm"
   ]
  },
  {
   "cell_type": "markdown",
   "id": "87cedda5-432c-4cdc-9b97-840f3f616723",
   "metadata": {},
   "source": [
    "Calculate the P-value , remember you can always obtain it using a software.\n",
    "\n",
    "The p-value of the two -sided test is 0.015"
   ]
  },
  {
   "cell_type": "markdown",
   "id": "a814162d-dd6e-4f24-9294-17c25275a29c",
   "metadata": {},
   "source": [
    "0.015 < 0.05  \n",
    "\n",
    "at 5% significance, which is common for such a study , the p-value of 0.015 is lower than 0.05, \n",
    "\n",
    "Hence, we reject the null hypothesis."
   ]
  },
  {
   "cell_type": "markdown",
   "id": "35633b9a-36c3-4a11-af3a-3d367b6fbdd1",
   "metadata": {},
   "source": [
    "There is enough statistical evidence that the difference of the two mean is not 4%"
   ]
  },
  {
   "cell_type": "markdown",
   "id": "59802891-3dda-4bd5-9080-459f3febe86b",
   "metadata": {},
   "source": [
    "What if you want to know if the difference is higher or lower than 4% ?\n",
    "\n",
    "The sign of the test statistics can give you that information.\n",
    "\n",
    "The sign of the test statistics shows if the mean is lower or higher than the hypothesized value.\n",
    "\n",
    "A minus sign(-) of the test statistics means that it is smaller,\n",
    "\n",
    "If you are verse engineer in standardization process, you will findout that True value is lower than hypothesized value.\n",
    "\n",
    "In this case ,tis translate to the fact that the true mean is likely to be lower than -4 (z = -2.44), this means that possible values are -5%\n",
    "-6% ....etc"
   ]
  },
  {
   "cell_type": "markdown",
   "id": "347c16d1-3d12-4e59-9329-01eca9767c6e",
   "metadata": {
    "tags": []
   },
   "source": [
    "### Test For the mean. Independent samples ( part 2)"
   ]
  },
  {
   "cell_type": "markdown",
   "id": "8a9ff029-122d-4d0c-8082-642d8463c8f6",
   "metadata": {},
   "source": [
    "#### Independent samples Unknown variances"
   ]
  },
  {
   "cell_type": "markdown",
   "id": "46e8f02d-bf8e-470e-91b0-88b3401e3a09",
   "metadata": {},
   "source": [
    "Independent variances on known variances assumed to be equal."
   ]
  },
  {
   "cell_type": "markdown",
   "id": "ec1fa6d7-33de-4cd7-bfaa-ac0945dfadb4",
   "metadata": {},
   "source": [
    "Lets take a look at the example we used at the confident interval section.\n",
    "\n",
    "You were trying to see if Apples in New york are as expensive as the ones in los Angeles.\n",
    "You went to 10 glossery shops in New york and your friend Paul who lives in LA helped you to check out 8 glossory shops in LA.\n",
    "\n",
    "You got all the prices and put them in a table, you dont know what the population variance of apple price is but you assumed it should be thesame for NY and LA."
   ]
  },
  {
   "cell_type": "markdown",
   "id": "e0bdbb6f-0c96-48c5-91fb-0ccd0994c387",
   "metadata": {},
   "source": [
    "Hypothesis Testing \n",
    "\n",
    "Mui in Ny = Mui in LA or mui in Ny - mui in LA = 0\n",
    "\n",
    "H0 :μNY - μLA = 0\n",
    "\n",
    "Alternative hypothesis \n",
    "\n",
    "mui in new york minus mui in LA differs from zero\n",
    "\n",
    "H1 :μNY - μLA ≠  0"
   ]
  },
  {
   "cell_type": "raw",
   "id": "b0943fed-6eec-4bd1-9e46-a5fec6093fd7",
   "metadata": {},
   "source": [
    "Dataset \n",
    "N.Y apples          L.A apples\n",
    "\n",
    "$ 3.80              $ 3.02 \n",
    "$ 3.76              $ 3.22\n",
    "$ 3.87              $ 3.24                                           NY       LA\n",
    "$ 3.99              $ 3.02                          Mean            $3.94   $3.25\n",
    "$ 4.02              $ 3.06                         Standard dev.   $0.18    $0.27\n",
    "$ 4.25              $ 3.15                          sample size      10      8\n",
    "$ 4.13              $ 3.81                          pooled variance = 0.05\n",
    "$ 3.98              $ 3.44                          pooled std = 0.11\n",
    "$ 3.99                                              T-score = 6.65\n",
    "$ 3.62                                              p-value = 0.000"
   ]
  },
  {
   "cell_type": "markdown",
   "id": "46db1ad5-de84-48a5-944d-0f8ce5ec8826",
   "metadata": {},
   "source": [
    "What can we do when the variance is unknown but assumed to be equal ?\n",
    "\n",
    "Earlier we used the pulls variance formula"
   ]
  },
  {
   "cell_type": "markdown",
   "id": "0122b29c-c98c-40b2-a7a2-de0fbdd4825b",
   "metadata": {},
   "source": [
    "Pooled variance formula\n",
    "\n",
    "S^2p  = (nx- 1) S2x + (ny -1) Sy^2  /  nx + ny -2  \n",
    "\n",
    "=  (10-1) 0.0324 + (8 -1)0.0729     /    10 + 8  -2      = 0.05\n",
    "\n",
    "S^2P  = 0.05 (pooled variance)"
   ]
  },
  {
   "cell_type": "markdown",
   "id": "00184ca4-eca4-4613-b0c1-432cd9696534",
   "metadata": {},
   "source": [
    "we need to find the standard error of the differnce of means\n",
    "\n",
    "formula :"
   ]
  },
  {
   "cell_type": "markdown",
   "id": "ba5159e5-7c5b-4bc3-aece-b945a6a9352a",
   "metadata": {},
   "source": [
    "√S^2p /nx  +  S^2p /ny    \n",
    "\n",
    "=   √ 0.05 /10 + 0.05 / 8 = 0.11"
   ]
  },
  {
   "cell_type": "markdown",
   "id": "a2415d96-a50c-49f5-b590-c02173d9ecc5",
   "metadata": {},
   "source": [
    "Note , that testing is about understanding while computation is routine"
   ]
  },
  {
   "cell_type": "markdown",
   "id": "88500ca4-e5da-4a61-97c6-62ad75a64177",
   "metadata": {},
   "source": [
    "Now lets start testing \n",
    "\n",
    "T- statistics\n",
    "\n",
    "small samples \n",
    "\n",
    "variance unknown\n",
    "\n",
    "Degree of freedom = combined sample size minus the number of variable = (10 + 8) - 2 = 16"
   ]
  },
  {
   "cell_type": "markdown",
   "id": "9de7b3c7-cfd1-4b9c-bc0f-a3e5abdef07e",
   "metadata": {},
   "source": [
    "Formula for calculating the T-statistic\n",
    "\n",
    "T = d bar -  μ0  / str.err\n",
    "\n",
    "= 0.69 - 0  / 0.11 \n",
    "\n",
    "= 6.53"
   ]
  },
  {
   "cell_type": "markdown",
   "id": "c5e446c1-fc09-4726-8ca9-945e17f39fab",
   "metadata": {},
   "source": [
    "Do we need to compare it ?\n",
    "\n",
    "This is by far the most extreme test statistics we have ever seen.\n",
    "\n",
    "For common test the rule of thumb is to reject the null hypothesis when the T-score is bigger than 2\n",
    "\n",
    "Generally for Z-score and T-score a value higher than 4 is extremely significant"
   ]
  },
  {
   "cell_type": "markdown",
   "id": "c2507811-b605-4d9c-8e17-edcb3277d874",
   "metadata": {},
   "source": [
    "lets see the two sides of P-value\n",
    "\n",
    "The p-value of this test is lower than 0.000 \n",
    "\n",
    "it is somewhere around 0.000001"
   ]
  },
  {
   "cell_type": "markdown",
   "id": "1fe0efc8-6d7b-42fc-9ea8-dbaaf7532de6",
   "metadata": {},
   "source": [
    "In our lesson we said that researchers are always liiking for 3 zeros after the dot, it means that the test is extrmely significant and the probability of making a type 1 error is virtually zero."
   ]
  },
  {
   "cell_type": "markdown",
   "id": "2e565ad2-22d2-4c1d-b148-aadce040ca1a",
   "metadata": {},
   "source": [
    "we reject the null hypothesis at all common and many uncommon levels of significance. "
   ]
  },
  {
   "cell_type": "markdown",
   "id": "cec6fad6-49b3-437c-bee1-30d8d521639a",
   "metadata": {},
   "source": [
    "There is a strong statistical evidence that price of apple in NY differs from price of apple in LA\n",
    "\n",
    "but such an extreme result may also mean that the hypothesis is pointless or poorly designed\n",
    "\n",
    "From a mean value of 3.94 and 3.25 and with such small and close std deviation of 0.18 to 0.27\n",
    "\n",
    "We can easily say that the prices are different \n",
    "\n",
    "No testing needed ."
   ]
  },
  {
   "cell_type": "markdown",
   "id": "3a692303-599d-4b68-918c-6f3c2880dbaa",
   "metadata": {},
   "source": [
    "A much more better question would have been ,is the price of apple in New York 20% higher than that in LA ?\n",
    "\n",
    "Home work"
   ]
  },
  {
   "cell_type": "markdown",
   "id": "8d643d2d-c6c8-41cc-8296-e4a71c6ce81e",
   "metadata": {
    "tags": []
   },
   "source": [
    "### Hypothesis Testing Tutorials - Data science online Training"
   ]
  },
  {
   "cell_type": "markdown",
   "id": "94c153ef-3325-46ac-8b65-94b1a40a56db",
   "metadata": {},
   "source": [
    "Hypothesis test gives a way of using samples to test whether or not statistical clames are likely to be true or not.\n",
    "So whtever claims that has been made whether it is correct or not can be tested using hypothesis  testing."
   ]
  },
  {
   "cell_type": "markdown",
   "id": "09e4b32d-9718-4505-be7f-42bb3610d115",
   "metadata": {},
   "source": [
    "Examples of hypothesis test\n",
    "\n",
    ". Two hypothesis in competition:\n",
    "- H0 : The Null hypothesis,usually the most conservetive\n",
    "\n",
    "-H1 or HA: The ALTERNATIVE hypothesis, the one we are interested in.\n",
    "\n",
    "Examples of NULL Hypothesis:\n",
    "- The coin is fair\n",
    "- The new drug is no better (or worse than the placebo\n",
    "\n",
    ".Examples of ALTERNATIVE hypothesis:\n",
    "- The coin is biased (either towards head or tail)\n",
    "\n",
    "-The coin is biased towards heads\n",
    "- The coin has a probability 0.6 of landing on tails\n",
    "-The drug is better than the placebo"
   ]
  },
  {
   "cell_type": "markdown",
   "id": "d84768cd-7884-4130-9c1a-3b22413f70e2",
   "metadata": {},
   "source": [
    "#### Problems on hypothesis testing"
   ]
  },
  {
   "cell_type": "markdown",
   "id": "1039914f-5155-4725-af7e-6acf6487ce09",
   "metadata": {},
   "source": [
    ". A school principal claims that the students from her school have an average score  of 7 out of 10 in a English proficiency test.\n",
    "\n",
    ". You doubt that claim and takes a random  sample of 40 students and you find score of 5,5 /10, with a sample standard deviation of 1. Can you reject the principal's claim ?"
   ]
  },
  {
   "cell_type": "markdown",
   "id": "a530a3dc-79a3-474e-ae91-1644df05998d",
   "metadata": {},
   "source": [
    "Step  1 : Decide  on the hypothesis.\n",
    "\n",
    "Average score on the test is 7/10.\n",
    "This is called Null hypothesis and is represented by H0.\n",
    "\n",
    "In this case , \n",
    "H0 : μ = 0.7\n",
    "\n",
    "If the Null Hypothesis is rejected based on evidence, an alternative\n",
    "Hypothesis ,H1. needs to be accepted . we always start with the    assumption that Null hypothesis is true.\n",
    "\n",
    "In this case. \n",
    "H1 : μ < 0.7"
   ]
  },
  {
   "cell_type": "markdown",
   "id": "9bb03297-1535-4dea-b6ff-13b9c9ef9c96",
   "metadata": {},
   "source": [
    "Step 2 : Choose your Statistic\n",
    "\n",
    "Sample size = 40\n",
    "\n",
    "Normal distribution is a good approximation.\n",
    "\n",
    "std Err = s/√n = 1.0 /√40 = 0.158\n",
    "\n",
    "( std .err = std divided by sample size)\n",
    "\n",
    "X ~ N (0.7, 0.158^2) = N(0.7, 0.025)\n",
    "\n",
    "Z = X̅ - μ / 𝜎 /√n = 0.55 - 0.7 / 0.158 =  -0.94\n",
    "\n",
    "(Use Z score formula to check the z -score"
   ]
  },
  {
   "cell_type": "markdown",
   "id": "b4d9174d-0329-48e2-9d0e-b3624d8a509e",
   "metadata": {},
   "source": [
    "Step 3:Specify the significance level.\n",
    "\n",
    "First, we must decide on the Significance level,Alpha,\n",
    "It is a measure of how unlikely you want the results of the sample to be before you reject the null hypothesis, H0"
   ]
  },
  {
   "cell_type": "markdown",
   "id": "12f94573-d7d1-4879-b60b-a7a9585bd25e",
   "metadata": {},
   "source": [
    "Step 4: Determine the critical region"
   ]
  },
  {
   "cell_type": "markdown",
   "id": "872c255c-c133-4bb8-b191-44a6247bead1",
   "metadata": {},
   "source": [
    "If X represents the sample mean score ,the critical region is  defined as P(X < c) <  alpha = 5%. ( 5% is the critical region.)\n",
    "\n",
    "Recall that in a 95CI there is a 5% chance that the sample will not contain the population mean.\n",
    "Hence, if the sample falls in the critical region the Null hypothesis, then  0.7 which is the  mean score is rejected.\n",
    "\n",
    "That is the reason 5% or 0.05 is called the significance level\n",
    "In a 99% CI, 0.01 is the Significance Level"
   ]
  },
  {
   "cell_type": "markdown",
   "id": "982cb3a0-cb5d-459a-aeac-0c68874fefa8",
   "metadata": {},
   "source": [
    "At 99% your support is just one person, if it is 95%, your citical region will be 5 oersons, if it is 90% ,your critical region will be 10 persons."
   ]
  },
  {
   "cell_type": "markdown",
   "id": "33af7b7c-5271-4f6a-bdd8-9088ad0b554d",
   "metadata": {},
   "source": [
    "Step 5 : Find the P-value (propability value)"
   ]
  },
  {
   "cell_type": "markdown",
   "id": "44dd638f-ae9f-429b-a0ad-ab0f70b28c5f",
   "metadata": {},
   "source": [
    "P-value is the probability of getting a value up to and including the one in the sample in the direction of the critical region."
   ]
  },
  {
   "cell_type": "markdown",
   "id": "f05eab76-d8d2-43b8-93d1-2870994641ee",
   "metadata": {},
   "source": [
    "It is a way of taking the sample and working out whether the result falls on the critical region of the hypothesis test."
   ]
  },
  {
   "cell_type": "markdown",
   "id": "68c9a687-c271-4dba-a65c-371e02400e4f",
   "metadata": {},
   "source": [
    "Essentially, this is the value used to determine whether to accept or reject the null hypothesis"
   ]
  },
  {
   "cell_type": "markdown",
   "id": "3609c863-f815-476c-972e-c12d4f73c57b",
   "metadata": {},
   "source": [
    "In our sample, we found a mean score of 5.5 / 10.This means our P-value is P (X ⩽ 0.55), where X is the distribution of the mean scores in the sample."
   ]
  },
  {
   "cell_type": "markdown",
   "id": "5aadd8ac-20eb-4c62-ad03-c45ba3811ebc",
   "metadata": {},
   "source": [
    "If P(X ⩽ 0.55)< 0.05 (signicance level) it indicates that 0.05 is inside the critical region and hence, H0 can be rejected."
   ]
  },
  {
   "cell_type": "raw",
   "id": "12b10937-0fc0-4287-9db1-2a1d1f2dff6b",
   "metadata": {},
   "source": [
    "Given that Z = -0.94, P(X ⩽ 0.55) = 0.171"
   ]
  },
  {
   "cell_type": "raw",
   "id": "119c5dd6-eabf-42f7-b141-55674811211e",
   "metadata": {},
   "source": [
    "so there is a 17.1% of finding a mean score of 5.5 / 10 or less"
   ]
  },
  {
   "cell_type": "markdown",
   "id": "82b6be88-e46c-4e99-9ba1-03d8aa91834a",
   "metadata": {},
   "source": [
    "Step 6 : Is the sample result in the Critical region"
   ]
  },
  {
   "cell_type": "markdown",
   "id": "92f00dab-e0bf-45c6-a17f-9ea6bba6f1de",
   "metadata": {},
   "source": [
    "Step 7 : Make your Decision"
   ]
  },
  {
   "cell_type": "markdown",
   "id": "79135ff3-d2c1-4031-b019-13d01a1a2f90",
   "metadata": {},
   "source": [
    "There isn't suficient evidence to reject the null hypothesis so the claim of the principal is accepted."
   ]
  },
  {
   "cell_type": "markdown",
   "id": "debb048c-0d0b-43b5-a4e7-23594d179043",
   "metadata": {},
   "source": [
    "Would your conclusion be different if the same average score of 5.5/10 was found in a sample size of 400 ?"
   ]
  },
  {
   "cell_type": "markdown",
   "id": "981dc2d2-9692-41da-888b-6f3fcbc7cf2a",
   "metadata": {},
   "source": [
    "H0 :  μ = 0.7\n",
    "\n",
    "H1:  μ < 0.7"
   ]
  },
  {
   "cell_type": "markdown",
   "id": "cf77e186-3323-430b-bd31-795ff22f8333",
   "metadata": {},
   "source": [
    "What is the test statistics?\n",
    "\n",
    "Z = X̅ - μ / 𝜎 /√n = 0.55 -0.7 / 1/ √400  = -3\n",
    "\n",
    "P-value = P (Z <-3) = 0.00135 "
   ]
  },
  {
   "cell_type": "markdown",
   "id": "17317c20-dd39-49d7-b969-76a761aa594e",
   "metadata": {},
   "source": [
    "What is your Decision ?\n",
    "\n",
    "Since the P-value (0.00135) is less than the significance level of 0.05, the null hypothesis can be rejected."
   ]
  },
  {
   "cell_type": "markdown",
   "id": "de7f3e1d-ee11-4660-977f-a4d41d34cb97",
   "metadata": {},
   "source": [
    "Attention check"
   ]
  },
  {
   "cell_type": "markdown",
   "id": "2133cff2-5f71-455f-a205-d0fb0bd2e786",
   "metadata": {},
   "source": [
    "In hypothesis testing , Do you assume the Null hypothesis to be True or false/\n",
    "\n",
    "True\n",
    "\n",
    "\n",
    "If there is sufficient evidence against the null hypothesis, do you accept it or reject it ?\n",
    "\n",
    "Reject"
   ]
  },
  {
   "cell_type": "markdown",
   "id": "bc7a4a1f-9361-4c4f-866b-9665d10d6673",
   "metadata": {},
   "source": [
    "### Introduction to Hypothesis Testing in Python"
   ]
  },
  {
   "cell_type": "markdown",
   "id": "4a70828b-338d-47b2-8638-281c11222197",
   "metadata": {},
   "source": [
    "Hypothesis Testing "
   ]
  },
  {
   "cell_type": "markdown",
   "id": "fe5b7d79-9497-4a8f-83ff-6f06d8fd0163",
   "metadata": {},
   "source": [
    "Hypothesis Testing is  acritical tool in determining what the data of a parameter could be.\n",
    "\n",
    "We know that the basis for our testing has two attributes:\n",
    "\n",
    "Null hypothesis: H0\n",
    "\n",
    "Alterative Hypothesis: h1 or Ha\n",
    "\n",
    "The test we have discussed are as follows:\n",
    "\n",
    ". One Population Proportion\n",
    ". Difference in Population Proportions\n",
    ". One Population Mean\n",
    ". Difference in Population Mean"
   ]
  },
  {
   "cell_type": "markdown",
   "id": "56bb58dd-63d1-4a65-9225-300b5fee2b55",
   "metadata": {},
   "source": [
    "We will be looking at some functios that are extremely useful when calculating a t-statistic and p-value for a hypothesis test."
   ]
  },
  {
   "cell_type": "markdown",
   "id": "1a8d64d1-f844-4acb-a1eb-2063f682ea72",
   "metadata": {},
   "source": [
    "Lets review the following ways to calculate a test statistic for the tests listed above."
   ]
  },
  {
   "cell_type": "markdown",
   "id": "b28e21e5-52dd-4018-9ce7-c15f78a1c92b",
   "metadata": {},
   "source": [
    "The equation is :\n",
    "    \n",
    "Best Estimate - Hypothesized Estimate / Standard Error of Estimate   "
   ]
  },
  {
   "cell_type": "markdown",
   "id": "fb2db902-f087-474e-bd81-14ae24ae142f",
   "metadata": {},
   "source": [
    "We will use the examples from lectures above and use python function to streamline our tests."
   ]
  },
  {
   "cell_type": "code",
   "execution_count": null,
   "id": "7bd183a7-2137-48e6-bec6-be82b3b2b632",
   "metadata": {},
   "outputs": [],
   "source": [
    "#Import Necessary libraries\n",
    "\n",
    "import statsmodels.api as sm\n",
    "import numpy as np\n",
    "import pandas as pd"
   ]
  },
  {
   "cell_type": "markdown",
   "id": "5df8ab0f-d02f-4b59-9796-a6412ead68c3",
   "metadata": {},
   "source": [
    "One Population Proportion "
   ]
  },
  {
   "cell_type": "markdown",
   "id": "e6014ae7-0f8a-44be-9077-31231526a8ba",
   "metadata": {},
   "source": [
    "Research Question"
   ]
  },
  {
   "cell_type": "markdown",
   "id": "886b2426-f0a8-4225-94f3-a33e330a90fc",
   "metadata": {},
   "source": [
    "In previous years 525 of parents  believed that electronics and social media was the cause of their teenager's lack of sleep. Do more parents today believe that their teenager's lack of sleep is caused due to electronics and social media ?"
   ]
  },
  {
   "cell_type": "markdown",
   "id": "2ed3c9ab-85db-4609-8ddb-20dd4cdaccdf",
   "metadata": {},
   "source": [
    "Population : Parents with a teenager(age 13 - 18)\n",
    "Parameter of Interest: P\n",
    "Null Hypothesis : p = 0.52\n",
    "Alternative Hypothesis : p > 0.52\n",
    "\n",
    "1018\n",
    "\n",
    "56% believe that thier teenager's lack of slee is caused due to electronics and social media."
   ]
  },
  {
   "cell_type": "code",
   "execution_count": 5,
   "id": "098ac481-ccda-4fdb-aa66-424076796369",
   "metadata": {},
   "outputs": [
    {
     "data": {
      "text/plain": [
       "(2.571067795759113, 0.010138547731721065)"
      ]
     },
     "execution_count": 5,
     "metadata": {},
     "output_type": "execute_result"
    }
   ],
   "source": [
    "# Lets create our variables\n",
    "\n",
    "n = 1018\n",
    "pnull = .52\n",
    "phat = .56\n",
    "sm.stats.proportions_ztest(phat * n, n, pnull)"
   ]
  },
  {
   "cell_type": "markdown",
   "id": "9678a335-ccbd-4e0d-9b40-85e84243d876",
   "metadata": {},
   "source": [
    "#### Difference in Population Proportions"
   ]
  },
  {
   "cell_type": "markdown",
   "id": "3137edf3-136c-4c35-a3ed-9f545ad3167a",
   "metadata": {},
   "source": [
    "Research Question "
   ]
  },
  {
   "cell_type": "markdown",
   "id": "171a8f11-32c2-40c3-a040-94f6d29ae45a",
   "metadata": {},
   "source": [
    "Is there a significance difference between the population proportions of parents of black children and parents of Hispanic children who report that their child has had some swimming lessons?"
   ]
  },
  {
   "cell_type": "markdown",
   "id": "434a70bf-63d0-4a59-a3ac-023880265e95",
   "metadata": {},
   "source": [
    "Populations: All parents of black age 6-18 nd all parents of Hispanic children age 6-18.\n",
    "Parameter of Interest: p1-p2, where p1= black and p2 = hispanic\n",
    "Null Hypothesis : p1 - p2 = 0\n",
    "Alternative Hypothesis: p1 - p2 ≠  = 0"
   ]
  },
  {
   "cell_type": "markdown",
   "id": "7295feb2-55c5-454a-a559-c89a34bb4dec",
   "metadata": {},
   "source": [
    "247 Parents of Black children  36.8% of parents report that their child has had some swimming lessons.\n",
    "\n",
    "308 Parents of Hispanic Children 38.9% of parents report that their child has had some swimming lessons."
   ]
  },
  {
   "cell_type": "code",
   "execution_count": 10,
   "id": "0e12095d-38e0-49b9-831f-b4809e06c76b",
   "metadata": {},
   "outputs": [
    {
     "data": {
      "text/plain": [
       "(-0.25436672875343647, 0.799306808658605, 553.0)"
      ]
     },
     "execution_count": 10,
     "metadata": {},
     "output_type": "execute_result"
    }
   ],
   "source": [
    "n1 = 247\n",
    "p1 = .37 #(approx)\n",
    "\n",
    "n2 = 308 \n",
    "p2 = .39 #(approx)\n",
    "\n",
    "population1 = np.random.binomial(1, p1, n1)\n",
    "population2 = np.random.binomial(1, p2, n2)\n",
    "\n",
    "population1[:5]\n",
    "\n",
    "# we can use our stats lib to put in our populations\n",
    "# and calculate the proportions\n",
    "\n",
    "sm.stats.ttest_ind(population1, population2)"
   ]
  },
  {
   "cell_type": "code",
   "execution_count": null,
   "id": "8b1845ef-d332-4fe0-9010-8dd90f36b893",
   "metadata": {},
   "outputs": [],
   "source": [
    "# From the result above ,our test statistics is -0.254 ad our P-value is 0.7993\n",
    "# This does not give us alot of indications on how things are, our p-value is greater than the test statistics so we will accept the null hypothesis"
   ]
  },
  {
   "cell_type": "code",
   "execution_count": null,
   "id": "cb17abaf-5746-43ca-b71d-e7bf1bab2b41",
   "metadata": {},
   "outputs": [],
   "source": [
    "# from the result we can see from the first 5 parents in pop1 only two children had swimming lessons previously."
   ]
  },
  {
   "cell_type": "code",
   "execution_count": 9,
   "id": "c3d9828c-5e35-4442-bd7c-111f29e97993",
   "metadata": {},
   "outputs": [
    {
     "data": {
      "text/plain": [
       "array([1, 0, 0, 1, 0])"
      ]
     },
     "execution_count": 9,
     "metadata": {},
     "output_type": "execute_result"
    }
   ],
   "source": [
    "population2[:5]"
   ]
  },
  {
   "cell_type": "code",
   "execution_count": null,
   "id": "cab007a4-b606-45c7-985a-77a886b44249",
   "metadata": {},
   "outputs": [],
   "source": [
    "# we also have 2 children from pop2 that had swimming lesson but from two diff .location"
   ]
  },
  {
   "cell_type": "code",
   "execution_count": null,
   "id": "3e94bfa3-f74d-4256-b38c-f2a630cd38dc",
   "metadata": {},
   "outputs": [],
   "source": [
    " #we can create this two population ie parents of black children and parents of Hispanic children.\n",
    "# using numpy random variable from a binomial distribution\n",
    "# we will use the 0-1 to signify the yes/ no options, then the population propotion(p1) and size n1)\n",
    "# we repeat same process for population 2"
   ]
  },
  {
   "cell_type": "markdown",
   "id": "23820151-1f2b-4c27-80c2-cf0f61a1bb16",
   "metadata": {},
   "source": [
    "#### One Population Mean"
   ]
  },
  {
   "cell_type": "markdown",
   "id": "1cfad668-9d9b-4546-881a-73950992c3a5",
   "metadata": {},
   "source": [
    "Research Question"
   ]
  },
  {
   "cell_type": "markdown",
   "id": "7a173a74-bf41-427a-9cdc-261e713f3490",
   "metadata": {},
   "source": [
    "Is the average cartwheel distance (in inches) for adults more than 80 inches?"
   ]
  },
  {
   "cell_type": "code",
   "execution_count": null,
   "id": "2bfb6dab-1744-41e3-98a3-cef67dcd248c",
   "metadata": {},
   "outputs": [],
   "source": [
    "Population: All adults\n",
    "Parameter of Interest: μ, population mean cartwheel distance. Null Hypothesis : μ = 80, Alternative hypothesis: μ > 80\n",
    "\n",
    "25 Adults \n",
    "μ = 82.46 # null v is equal to 80\n",
    "𝜎 = 15.06 \n",
    "# alternative μ  is greater than *80"
   ]
  },
  {
   "cell_type": "code",
   "execution_count": 13,
   "id": "05ca2ecb-fff7-42cd-b828-e8faf128b75b",
   "metadata": {},
   "outputs": [],
   "source": [
    "df = pd.read_csv(\"C:\\\\Users\\\\user\\\\Downloads\\\\Cartwheeldata.csv\")"
   ]
  },
  {
   "cell_type": "code",
   "execution_count": 14,
   "id": "65096e25-e2d1-46f6-bc69-0b78ca35ccbe",
   "metadata": {},
   "outputs": [
    {
     "data": {
      "text/html": [
       "<div>\n",
       "<style scoped>\n",
       "    .dataframe tbody tr th:only-of-type {\n",
       "        vertical-align: middle;\n",
       "    }\n",
       "\n",
       "    .dataframe tbody tr th {\n",
       "        vertical-align: top;\n",
       "    }\n",
       "\n",
       "    .dataframe thead th {\n",
       "        text-align: right;\n",
       "    }\n",
       "</style>\n",
       "<table border=\"1\" class=\"dataframe\">\n",
       "  <thead>\n",
       "    <tr style=\"text-align: right;\">\n",
       "      <th></th>\n",
       "      <th>ID</th>\n",
       "      <th>Age</th>\n",
       "      <th>Gender</th>\n",
       "      <th>GenderGroup</th>\n",
       "      <th>Glasses</th>\n",
       "      <th>GlassesGroup</th>\n",
       "      <th>Height</th>\n",
       "      <th>Wingspan</th>\n",
       "      <th>CWDistance</th>\n",
       "      <th>Complete</th>\n",
       "      <th>CompleteGroup</th>\n",
       "      <th>Score</th>\n",
       "    </tr>\n",
       "  </thead>\n",
       "  <tbody>\n",
       "    <tr>\n",
       "      <th>0</th>\n",
       "      <td>1</td>\n",
       "      <td>56</td>\n",
       "      <td>F</td>\n",
       "      <td>1</td>\n",
       "      <td>Y</td>\n",
       "      <td>1</td>\n",
       "      <td>62.0</td>\n",
       "      <td>61.0</td>\n",
       "      <td>79</td>\n",
       "      <td>Y</td>\n",
       "      <td>1</td>\n",
       "      <td>7</td>\n",
       "    </tr>\n",
       "    <tr>\n",
       "      <th>1</th>\n",
       "      <td>2</td>\n",
       "      <td>26</td>\n",
       "      <td>F</td>\n",
       "      <td>1</td>\n",
       "      <td>Y</td>\n",
       "      <td>1</td>\n",
       "      <td>62.0</td>\n",
       "      <td>60.0</td>\n",
       "      <td>70</td>\n",
       "      <td>Y</td>\n",
       "      <td>1</td>\n",
       "      <td>8</td>\n",
       "    </tr>\n",
       "    <tr>\n",
       "      <th>2</th>\n",
       "      <td>3</td>\n",
       "      <td>33</td>\n",
       "      <td>F</td>\n",
       "      <td>1</td>\n",
       "      <td>Y</td>\n",
       "      <td>1</td>\n",
       "      <td>66.0</td>\n",
       "      <td>64.0</td>\n",
       "      <td>85</td>\n",
       "      <td>Y</td>\n",
       "      <td>1</td>\n",
       "      <td>7</td>\n",
       "    </tr>\n",
       "    <tr>\n",
       "      <th>3</th>\n",
       "      <td>4</td>\n",
       "      <td>39</td>\n",
       "      <td>F</td>\n",
       "      <td>1</td>\n",
       "      <td>N</td>\n",
       "      <td>0</td>\n",
       "      <td>64.0</td>\n",
       "      <td>63.0</td>\n",
       "      <td>87</td>\n",
       "      <td>Y</td>\n",
       "      <td>1</td>\n",
       "      <td>10</td>\n",
       "    </tr>\n",
       "    <tr>\n",
       "      <th>4</th>\n",
       "      <td>5</td>\n",
       "      <td>27</td>\n",
       "      <td>M</td>\n",
       "      <td>2</td>\n",
       "      <td>N</td>\n",
       "      <td>0</td>\n",
       "      <td>73.0</td>\n",
       "      <td>75.0</td>\n",
       "      <td>72</td>\n",
       "      <td>N</td>\n",
       "      <td>0</td>\n",
       "      <td>4</td>\n",
       "    </tr>\n",
       "  </tbody>\n",
       "</table>\n",
       "</div>"
      ],
      "text/plain": [
       "   ID  Age Gender  GenderGroup Glasses  GlassesGroup  Height  Wingspan  \\\n",
       "0   1   56      F            1       Y             1    62.0      61.0   \n",
       "1   2   26      F            1       Y             1    62.0      60.0   \n",
       "2   3   33      F            1       Y             1    66.0      64.0   \n",
       "3   4   39      F            1       N             0    64.0      63.0   \n",
       "4   5   27      M            2       N             0    73.0      75.0   \n",
       "\n",
       "   CWDistance Complete  CompleteGroup  Score  \n",
       "0          79        Y              1      7  \n",
       "1          70        Y              1      8  \n",
       "2          85        Y              1      7  \n",
       "3          87        Y              1     10  \n",
       "4          72        N              0      4  "
      ]
     },
     "execution_count": 14,
     "metadata": {},
     "output_type": "execute_result"
    }
   ],
   "source": [
    "df.head()"
   ]
  },
  {
   "cell_type": "code",
   "execution_count": 15,
   "id": "4b42d858-b7e6-474a-8bfb-005fc1efae5f",
   "metadata": {},
   "outputs": [
    {
     "data": {
      "text/plain": [
       "(25, 82.48, 15.058552387264855)"
      ]
     },
     "execution_count": 15,
     "metadata": {},
     "output_type": "execute_result"
    }
   ],
   "source": [
    "n = len(df)\n",
    "mean = df[\"CWDistance\"].mean()\n",
    "sd = df[\"CWDistance\"].std()\n",
    "(n, mean, sd)"
   ]
  },
  {
   "cell_type": "code",
   "execution_count": null,
   "id": "4d4e9739-ab27-4cc1-8dd1-e990b9f07cf9",
   "metadata": {},
   "outputs": [],
   "source": [
    "#  There are 3 ways we can analyze our test,For two -sided test you can use not equal to, less than  and for one sided test we use greater than"
   ]
  },
  {
   "cell_type": "code",
   "execution_count": null,
   "id": "fe53a34a-37f7-4c62-bb31-f6b08ac934a1",
   "metadata": {},
   "outputs": [],
   "source": [
    "# Specify the type of test you want to do in your code"
   ]
  },
  {
   "cell_type": "code",
   "execution_count": 17,
   "id": "36ab9cc6-a285-4c11-96ca-36fb12ff4220",
   "metadata": {},
   "outputs": [
    {
     "data": {
      "text/plain": [
       "(0.8234523266982029, 0.20512540845395266)"
      ]
     },
     "execution_count": 17,
     "metadata": {},
     "output_type": "execute_result"
    }
   ],
   "source": [
    "sm.stats.ztest(df[\"CWDistance\"], value = 80, alternative = \"larger\") "
   ]
  },
  {
   "cell_type": "code",
   "execution_count": null,
   "id": "11f81e2c-39d9-4b0c-9865-3c33037d13a7",
   "metadata": {},
   "outputs": [],
   "source": [
    "# our p=value is high so we cannot reject the hypothesis"
   ]
  },
  {
   "cell_type": "code",
   "execution_count": null,
   "id": "907a46fb-a0ff-49ae-ab20-5e239d2aaa54",
   "metadata": {},
   "outputs": [],
   "source": [
    "# you use larger to representt the alternative"
   ]
  },
  {
   "cell_type": "markdown",
   "id": "de850fb3-fc25-4e20-8010-beb046e2bf7f",
   "metadata": {},
   "source": [
    "#### Difference in Population Means "
   ]
  },
  {
   "cell_type": "markdown",
   "id": "951888b9-21af-44db-b39c-ef5eb7e6e20a",
   "metadata": {},
   "source": [
    "Research Question"
   ]
  },
  {
   "cell_type": "markdown",
   "id": "0ea978ba-c78a-43ec-97f9-a0928d44211f",
   "metadata": {},
   "source": [
    "Considering adults in the NHANES data, do males have a significantly higher mean Body Mas Index than females?  "
   ]
  },
  {
   "cell_type": "markdown",
   "id": "11489e76-b1fb-4e02-94fc-0df2b7f229bc",
   "metadata": {},
   "source": [
    "Population: Adults in the NHANES data.\n",
    "Parameter of Interest:μ1 - μ2, Body mass Index.\n",
    "Null Hypothesis: μ1 = μ2\n",
    "Alternative Hypothesis : μ1 ≠ μ2"
   ]
  },
  {
   "cell_type": "markdown",
   "id": "9d97ae1b-b8ae-4e6b-9512-66f1de3625de",
   "metadata": {},
   "source": [
    "2976 Females μ1 = 29.94\n",
    "\n",
    "𝜎1 = 7.75"
   ]
  },
  {
   "cell_type": "markdown",
   "id": "57e8091d-81ab-4e2d-95d9-f3a085e68210",
   "metadata": {},
   "source": [
    "2759 Male Adults\n",
    "\n",
    "μ2 = 28.78\n",
    "\n",
    "𝜎2 = 6.25"
   ]
  },
  {
   "cell_type": "markdown",
   "id": "8926ff1e-ac89-4a4c-b27e-775afd611122",
   "metadata": {},
   "source": [
    "μ1 = μ2 = 1.16 ( ave. diff. of the two data set)"
   ]
  },
  {
   "cell_type": "code",
   "execution_count": 5,
   "id": "7c752a28-dca9-4adc-832f-d1ebee942ee6",
   "metadata": {},
   "outputs": [],
   "source": [
    "#url = \"https://raw.githubusercontent.com//kshedden//statswpy//master//NHANES//merged//nhanes_2015_2016\""
   ]
  },
  {
   "cell_type": "code",
   "execution_count": 9,
   "id": "44015cbe-ebd3-42af-a7ce-9daf9049c6be",
   "metadata": {},
   "outputs": [],
   "source": [
    "da = pd.read_csv(\"C:\\\\Users\\\\user\\\\Downloads\\\\nhanes_2015_2016.csv\")"
   ]
  },
  {
   "cell_type": "code",
   "execution_count": 10,
   "id": "5f879287-3ca4-455e-8f79-ac8094de326e",
   "metadata": {},
   "outputs": [
    {
     "data": {
      "text/html": [
       "<div>\n",
       "<style scoped>\n",
       "    .dataframe tbody tr th:only-of-type {\n",
       "        vertical-align: middle;\n",
       "    }\n",
       "\n",
       "    .dataframe tbody tr th {\n",
       "        vertical-align: top;\n",
       "    }\n",
       "\n",
       "    .dataframe thead th {\n",
       "        text-align: right;\n",
       "    }\n",
       "</style>\n",
       "<table border=\"1\" class=\"dataframe\">\n",
       "  <thead>\n",
       "    <tr style=\"text-align: right;\">\n",
       "      <th></th>\n",
       "      <th>SEQN</th>\n",
       "      <th>ALQ101</th>\n",
       "      <th>ALQ110</th>\n",
       "      <th>ALQ130</th>\n",
       "      <th>SMQ020</th>\n",
       "      <th>RIAGENDR</th>\n",
       "      <th>RIDAGEYR</th>\n",
       "      <th>RIDRETH1</th>\n",
       "      <th>DMDCITZN</th>\n",
       "      <th>DMDEDUC2</th>\n",
       "      <th>...</th>\n",
       "      <th>BPXSY2</th>\n",
       "      <th>BPXDI2</th>\n",
       "      <th>BMXWT</th>\n",
       "      <th>BMXHT</th>\n",
       "      <th>BMXBMI</th>\n",
       "      <th>BMXLEG</th>\n",
       "      <th>BMXARML</th>\n",
       "      <th>BMXARMC</th>\n",
       "      <th>BMXWAIST</th>\n",
       "      <th>HIQ210</th>\n",
       "    </tr>\n",
       "  </thead>\n",
       "  <tbody>\n",
       "    <tr>\n",
       "      <th>0</th>\n",
       "      <td>83732</td>\n",
       "      <td>1.0</td>\n",
       "      <td>NaN</td>\n",
       "      <td>1.0</td>\n",
       "      <td>1</td>\n",
       "      <td>1</td>\n",
       "      <td>62</td>\n",
       "      <td>3</td>\n",
       "      <td>1.0</td>\n",
       "      <td>5.0</td>\n",
       "      <td>...</td>\n",
       "      <td>124.0</td>\n",
       "      <td>64.0</td>\n",
       "      <td>94.8</td>\n",
       "      <td>184.5</td>\n",
       "      <td>27.8</td>\n",
       "      <td>43.3</td>\n",
       "      <td>43.6</td>\n",
       "      <td>35.9</td>\n",
       "      <td>101.1</td>\n",
       "      <td>2.0</td>\n",
       "    </tr>\n",
       "    <tr>\n",
       "      <th>1</th>\n",
       "      <td>83733</td>\n",
       "      <td>1.0</td>\n",
       "      <td>NaN</td>\n",
       "      <td>6.0</td>\n",
       "      <td>1</td>\n",
       "      <td>1</td>\n",
       "      <td>53</td>\n",
       "      <td>3</td>\n",
       "      <td>2.0</td>\n",
       "      <td>3.0</td>\n",
       "      <td>...</td>\n",
       "      <td>140.0</td>\n",
       "      <td>88.0</td>\n",
       "      <td>90.4</td>\n",
       "      <td>171.4</td>\n",
       "      <td>30.8</td>\n",
       "      <td>38.0</td>\n",
       "      <td>40.0</td>\n",
       "      <td>33.2</td>\n",
       "      <td>107.9</td>\n",
       "      <td>NaN</td>\n",
       "    </tr>\n",
       "    <tr>\n",
       "      <th>2</th>\n",
       "      <td>83734</td>\n",
       "      <td>1.0</td>\n",
       "      <td>NaN</td>\n",
       "      <td>NaN</td>\n",
       "      <td>1</td>\n",
       "      <td>1</td>\n",
       "      <td>78</td>\n",
       "      <td>3</td>\n",
       "      <td>1.0</td>\n",
       "      <td>3.0</td>\n",
       "      <td>...</td>\n",
       "      <td>132.0</td>\n",
       "      <td>44.0</td>\n",
       "      <td>83.4</td>\n",
       "      <td>170.1</td>\n",
       "      <td>28.8</td>\n",
       "      <td>35.6</td>\n",
       "      <td>37.0</td>\n",
       "      <td>31.0</td>\n",
       "      <td>116.5</td>\n",
       "      <td>2.0</td>\n",
       "    </tr>\n",
       "    <tr>\n",
       "      <th>3</th>\n",
       "      <td>83735</td>\n",
       "      <td>2.0</td>\n",
       "      <td>1.0</td>\n",
       "      <td>1.0</td>\n",
       "      <td>2</td>\n",
       "      <td>2</td>\n",
       "      <td>56</td>\n",
       "      <td>3</td>\n",
       "      <td>1.0</td>\n",
       "      <td>5.0</td>\n",
       "      <td>...</td>\n",
       "      <td>134.0</td>\n",
       "      <td>68.0</td>\n",
       "      <td>109.8</td>\n",
       "      <td>160.9</td>\n",
       "      <td>42.4</td>\n",
       "      <td>38.5</td>\n",
       "      <td>37.7</td>\n",
       "      <td>38.3</td>\n",
       "      <td>110.1</td>\n",
       "      <td>2.0</td>\n",
       "    </tr>\n",
       "    <tr>\n",
       "      <th>4</th>\n",
       "      <td>83736</td>\n",
       "      <td>2.0</td>\n",
       "      <td>1.0</td>\n",
       "      <td>1.0</td>\n",
       "      <td>2</td>\n",
       "      <td>2</td>\n",
       "      <td>42</td>\n",
       "      <td>4</td>\n",
       "      <td>1.0</td>\n",
       "      <td>4.0</td>\n",
       "      <td>...</td>\n",
       "      <td>114.0</td>\n",
       "      <td>54.0</td>\n",
       "      <td>55.2</td>\n",
       "      <td>164.9</td>\n",
       "      <td>20.3</td>\n",
       "      <td>37.4</td>\n",
       "      <td>36.0</td>\n",
       "      <td>27.2</td>\n",
       "      <td>80.4</td>\n",
       "      <td>2.0</td>\n",
       "    </tr>\n",
       "  </tbody>\n",
       "</table>\n",
       "<p>5 rows × 28 columns</p>\n",
       "</div>"
      ],
      "text/plain": [
       "    SEQN  ALQ101  ALQ110  ALQ130  SMQ020  RIAGENDR  RIDAGEYR  RIDRETH1  \\\n",
       "0  83732     1.0     NaN     1.0       1         1        62         3   \n",
       "1  83733     1.0     NaN     6.0       1         1        53         3   \n",
       "2  83734     1.0     NaN     NaN       1         1        78         3   \n",
       "3  83735     2.0     1.0     1.0       2         2        56         3   \n",
       "4  83736     2.0     1.0     1.0       2         2        42         4   \n",
       "\n",
       "   DMDCITZN  DMDEDUC2  ...  BPXSY2  BPXDI2  BMXWT  BMXHT  BMXBMI  BMXLEG  \\\n",
       "0       1.0       5.0  ...   124.0    64.0   94.8  184.5    27.8    43.3   \n",
       "1       2.0       3.0  ...   140.0    88.0   90.4  171.4    30.8    38.0   \n",
       "2       1.0       3.0  ...   132.0    44.0   83.4  170.1    28.8    35.6   \n",
       "3       1.0       5.0  ...   134.0    68.0  109.8  160.9    42.4    38.5   \n",
       "4       1.0       4.0  ...   114.0    54.0   55.2  164.9    20.3    37.4   \n",
       "\n",
       "   BMXARML  BMXARMC  BMXWAIST  HIQ210  \n",
       "0     43.6     35.9     101.1     2.0  \n",
       "1     40.0     33.2     107.9     NaN  \n",
       "2     37.0     31.0     116.5     2.0  \n",
       "3     37.7     38.3     110.1     2.0  \n",
       "4     36.0     27.2      80.4     2.0  \n",
       "\n",
       "[5 rows x 28 columns]"
      ]
     },
     "execution_count": 10,
     "metadata": {},
     "output_type": "execute_result"
    }
   ],
   "source": [
    "#da = pd.read_csv(url)\n",
    "da.head()"
   ]
  },
  {
   "cell_type": "code",
   "execution_count": 14,
   "id": "2f50a046-f728-40c1-a0d2-c0aff1d2f393",
   "metadata": {},
   "outputs": [],
   "source": [
    "females = da[da[\"RIAGENDR\"] == 2]\n",
    "male = da[da[\"RIAGENDR\"] == 1]"
   ]
  },
  {
   "cell_type": "code",
   "execution_count": 15,
   "id": "380245fd-3ca6-4b59-86ce-a967527cdebd",
   "metadata": {},
   "outputs": [
    {
     "data": {
      "text/html": [
       "<div>\n",
       "<style scoped>\n",
       "    .dataframe tbody tr th:only-of-type {\n",
       "        vertical-align: middle;\n",
       "    }\n",
       "\n",
       "    .dataframe tbody tr th {\n",
       "        vertical-align: top;\n",
       "    }\n",
       "\n",
       "    .dataframe thead th {\n",
       "        text-align: right;\n",
       "    }\n",
       "</style>\n",
       "<table border=\"1\" class=\"dataframe\">\n",
       "  <thead>\n",
       "    <tr style=\"text-align: right;\">\n",
       "      <th></th>\n",
       "      <th>SEQN</th>\n",
       "      <th>ALQ101</th>\n",
       "      <th>ALQ110</th>\n",
       "      <th>ALQ130</th>\n",
       "      <th>SMQ020</th>\n",
       "      <th>RIAGENDR</th>\n",
       "      <th>RIDAGEYR</th>\n",
       "      <th>RIDRETH1</th>\n",
       "      <th>DMDCITZN</th>\n",
       "      <th>DMDEDUC2</th>\n",
       "      <th>...</th>\n",
       "      <th>BPXSY2</th>\n",
       "      <th>BPXDI2</th>\n",
       "      <th>BMXWT</th>\n",
       "      <th>BMXHT</th>\n",
       "      <th>BMXBMI</th>\n",
       "      <th>BMXLEG</th>\n",
       "      <th>BMXARML</th>\n",
       "      <th>BMXARMC</th>\n",
       "      <th>BMXWAIST</th>\n",
       "      <th>HIQ210</th>\n",
       "    </tr>\n",
       "  </thead>\n",
       "  <tbody>\n",
       "    <tr>\n",
       "      <th>3</th>\n",
       "      <td>83735</td>\n",
       "      <td>2.0</td>\n",
       "      <td>1.0</td>\n",
       "      <td>1.0</td>\n",
       "      <td>2</td>\n",
       "      <td>2</td>\n",
       "      <td>56</td>\n",
       "      <td>3</td>\n",
       "      <td>1.0</td>\n",
       "      <td>5.0</td>\n",
       "      <td>...</td>\n",
       "      <td>134.0</td>\n",
       "      <td>68.0</td>\n",
       "      <td>109.8</td>\n",
       "      <td>160.9</td>\n",
       "      <td>42.4</td>\n",
       "      <td>38.5</td>\n",
       "      <td>37.7</td>\n",
       "      <td>38.3</td>\n",
       "      <td>110.1</td>\n",
       "      <td>2.0</td>\n",
       "    </tr>\n",
       "    <tr>\n",
       "      <th>4</th>\n",
       "      <td>83736</td>\n",
       "      <td>2.0</td>\n",
       "      <td>1.0</td>\n",
       "      <td>1.0</td>\n",
       "      <td>2</td>\n",
       "      <td>2</td>\n",
       "      <td>42</td>\n",
       "      <td>4</td>\n",
       "      <td>1.0</td>\n",
       "      <td>4.0</td>\n",
       "      <td>...</td>\n",
       "      <td>114.0</td>\n",
       "      <td>54.0</td>\n",
       "      <td>55.2</td>\n",
       "      <td>164.9</td>\n",
       "      <td>20.3</td>\n",
       "      <td>37.4</td>\n",
       "      <td>36.0</td>\n",
       "      <td>27.2</td>\n",
       "      <td>80.4</td>\n",
       "      <td>2.0</td>\n",
       "    </tr>\n",
       "    <tr>\n",
       "      <th>5</th>\n",
       "      <td>83737</td>\n",
       "      <td>2.0</td>\n",
       "      <td>2.0</td>\n",
       "      <td>NaN</td>\n",
       "      <td>2</td>\n",
       "      <td>2</td>\n",
       "      <td>72</td>\n",
       "      <td>1</td>\n",
       "      <td>2.0</td>\n",
       "      <td>2.0</td>\n",
       "      <td>...</td>\n",
       "      <td>122.0</td>\n",
       "      <td>58.0</td>\n",
       "      <td>64.4</td>\n",
       "      <td>150.0</td>\n",
       "      <td>28.6</td>\n",
       "      <td>34.4</td>\n",
       "      <td>33.5</td>\n",
       "      <td>31.4</td>\n",
       "      <td>92.9</td>\n",
       "      <td>NaN</td>\n",
       "    </tr>\n",
       "    <tr>\n",
       "      <th>7</th>\n",
       "      <td>83742</td>\n",
       "      <td>1.0</td>\n",
       "      <td>NaN</td>\n",
       "      <td>1.0</td>\n",
       "      <td>2</td>\n",
       "      <td>2</td>\n",
       "      <td>32</td>\n",
       "      <td>1</td>\n",
       "      <td>2.0</td>\n",
       "      <td>4.0</td>\n",
       "      <td>...</td>\n",
       "      <td>114.0</td>\n",
       "      <td>70.0</td>\n",
       "      <td>64.5</td>\n",
       "      <td>151.3</td>\n",
       "      <td>28.2</td>\n",
       "      <td>34.1</td>\n",
       "      <td>33.1</td>\n",
       "      <td>31.5</td>\n",
       "      <td>93.3</td>\n",
       "      <td>2.0</td>\n",
       "    </tr>\n",
       "    <tr>\n",
       "      <th>12</th>\n",
       "      <td>83752</td>\n",
       "      <td>1.0</td>\n",
       "      <td>NaN</td>\n",
       "      <td>2.0</td>\n",
       "      <td>1</td>\n",
       "      <td>2</td>\n",
       "      <td>30</td>\n",
       "      <td>2</td>\n",
       "      <td>1.0</td>\n",
       "      <td>4.0</td>\n",
       "      <td>...</td>\n",
       "      <td>104.0</td>\n",
       "      <td>50.0</td>\n",
       "      <td>71.2</td>\n",
       "      <td>163.6</td>\n",
       "      <td>26.6</td>\n",
       "      <td>37.3</td>\n",
       "      <td>35.7</td>\n",
       "      <td>31.0</td>\n",
       "      <td>90.7</td>\n",
       "      <td>2.0</td>\n",
       "    </tr>\n",
       "  </tbody>\n",
       "</table>\n",
       "<p>5 rows × 28 columns</p>\n",
       "</div>"
      ],
      "text/plain": [
       "     SEQN  ALQ101  ALQ110  ALQ130  SMQ020  RIAGENDR  RIDAGEYR  RIDRETH1  \\\n",
       "3   83735     2.0     1.0     1.0       2         2        56         3   \n",
       "4   83736     2.0     1.0     1.0       2         2        42         4   \n",
       "5   83737     2.0     2.0     NaN       2         2        72         1   \n",
       "7   83742     1.0     NaN     1.0       2         2        32         1   \n",
       "12  83752     1.0     NaN     2.0       1         2        30         2   \n",
       "\n",
       "    DMDCITZN  DMDEDUC2  ...  BPXSY2  BPXDI2  BMXWT  BMXHT  BMXBMI  BMXLEG  \\\n",
       "3        1.0       5.0  ...   134.0    68.0  109.8  160.9    42.4    38.5   \n",
       "4        1.0       4.0  ...   114.0    54.0   55.2  164.9    20.3    37.4   \n",
       "5        2.0       2.0  ...   122.0    58.0   64.4  150.0    28.6    34.4   \n",
       "7        2.0       4.0  ...   114.0    70.0   64.5  151.3    28.2    34.1   \n",
       "12       1.0       4.0  ...   104.0    50.0   71.2  163.6    26.6    37.3   \n",
       "\n",
       "    BMXARML  BMXARMC  BMXWAIST  HIQ210  \n",
       "3      37.7     38.3     110.1     2.0  \n",
       "4      36.0     27.2      80.4     2.0  \n",
       "5      33.5     31.4      92.9     NaN  \n",
       "7      33.1     31.5      93.3     2.0  \n",
       "12     35.7     31.0      90.7     2.0  \n",
       "\n",
       "[5 rows x 28 columns]"
      ]
     },
     "execution_count": 15,
     "metadata": {},
     "output_type": "execute_result"
    }
   ],
   "source": [
    "females.head()"
   ]
  },
  {
   "cell_type": "code",
   "execution_count": 16,
   "id": "03d10850-3cdc-43cc-84ee-a18f8c4b26e7",
   "metadata": {},
   "outputs": [
    {
     "data": {
      "text/html": [
       "<div>\n",
       "<style scoped>\n",
       "    .dataframe tbody tr th:only-of-type {\n",
       "        vertical-align: middle;\n",
       "    }\n",
       "\n",
       "    .dataframe tbody tr th {\n",
       "        vertical-align: top;\n",
       "    }\n",
       "\n",
       "    .dataframe thead th {\n",
       "        text-align: right;\n",
       "    }\n",
       "</style>\n",
       "<table border=\"1\" class=\"dataframe\">\n",
       "  <thead>\n",
       "    <tr style=\"text-align: right;\">\n",
       "      <th></th>\n",
       "      <th>SEQN</th>\n",
       "      <th>ALQ101</th>\n",
       "      <th>ALQ110</th>\n",
       "      <th>ALQ130</th>\n",
       "      <th>SMQ020</th>\n",
       "      <th>RIAGENDR</th>\n",
       "      <th>RIDAGEYR</th>\n",
       "      <th>RIDRETH1</th>\n",
       "      <th>DMDCITZN</th>\n",
       "      <th>DMDEDUC2</th>\n",
       "      <th>...</th>\n",
       "      <th>BPXSY2</th>\n",
       "      <th>BPXDI2</th>\n",
       "      <th>BMXWT</th>\n",
       "      <th>BMXHT</th>\n",
       "      <th>BMXBMI</th>\n",
       "      <th>BMXLEG</th>\n",
       "      <th>BMXARML</th>\n",
       "      <th>BMXARMC</th>\n",
       "      <th>BMXWAIST</th>\n",
       "      <th>HIQ210</th>\n",
       "    </tr>\n",
       "  </thead>\n",
       "  <tbody>\n",
       "    <tr>\n",
       "      <th>0</th>\n",
       "      <td>83732</td>\n",
       "      <td>1.0</td>\n",
       "      <td>NaN</td>\n",
       "      <td>1.0</td>\n",
       "      <td>1</td>\n",
       "      <td>1</td>\n",
       "      <td>62</td>\n",
       "      <td>3</td>\n",
       "      <td>1.0</td>\n",
       "      <td>5.0</td>\n",
       "      <td>...</td>\n",
       "      <td>124.0</td>\n",
       "      <td>64.0</td>\n",
       "      <td>94.8</td>\n",
       "      <td>184.5</td>\n",
       "      <td>27.8</td>\n",
       "      <td>43.3</td>\n",
       "      <td>43.6</td>\n",
       "      <td>35.9</td>\n",
       "      <td>101.1</td>\n",
       "      <td>2.0</td>\n",
       "    </tr>\n",
       "    <tr>\n",
       "      <th>1</th>\n",
       "      <td>83733</td>\n",
       "      <td>1.0</td>\n",
       "      <td>NaN</td>\n",
       "      <td>6.0</td>\n",
       "      <td>1</td>\n",
       "      <td>1</td>\n",
       "      <td>53</td>\n",
       "      <td>3</td>\n",
       "      <td>2.0</td>\n",
       "      <td>3.0</td>\n",
       "      <td>...</td>\n",
       "      <td>140.0</td>\n",
       "      <td>88.0</td>\n",
       "      <td>90.4</td>\n",
       "      <td>171.4</td>\n",
       "      <td>30.8</td>\n",
       "      <td>38.0</td>\n",
       "      <td>40.0</td>\n",
       "      <td>33.2</td>\n",
       "      <td>107.9</td>\n",
       "      <td>NaN</td>\n",
       "    </tr>\n",
       "    <tr>\n",
       "      <th>2</th>\n",
       "      <td>83734</td>\n",
       "      <td>1.0</td>\n",
       "      <td>NaN</td>\n",
       "      <td>NaN</td>\n",
       "      <td>1</td>\n",
       "      <td>1</td>\n",
       "      <td>78</td>\n",
       "      <td>3</td>\n",
       "      <td>1.0</td>\n",
       "      <td>3.0</td>\n",
       "      <td>...</td>\n",
       "      <td>132.0</td>\n",
       "      <td>44.0</td>\n",
       "      <td>83.4</td>\n",
       "      <td>170.1</td>\n",
       "      <td>28.8</td>\n",
       "      <td>35.6</td>\n",
       "      <td>37.0</td>\n",
       "      <td>31.0</td>\n",
       "      <td>116.5</td>\n",
       "      <td>2.0</td>\n",
       "    </tr>\n",
       "    <tr>\n",
       "      <th>6</th>\n",
       "      <td>83741</td>\n",
       "      <td>1.0</td>\n",
       "      <td>NaN</td>\n",
       "      <td>8.0</td>\n",
       "      <td>1</td>\n",
       "      <td>1</td>\n",
       "      <td>22</td>\n",
       "      <td>4</td>\n",
       "      <td>1.0</td>\n",
       "      <td>4.0</td>\n",
       "      <td>...</td>\n",
       "      <td>112.0</td>\n",
       "      <td>74.0</td>\n",
       "      <td>76.6</td>\n",
       "      <td>165.4</td>\n",
       "      <td>28.0</td>\n",
       "      <td>38.8</td>\n",
       "      <td>38.0</td>\n",
       "      <td>34.0</td>\n",
       "      <td>86.6</td>\n",
       "      <td>NaN</td>\n",
       "    </tr>\n",
       "    <tr>\n",
       "      <th>8</th>\n",
       "      <td>83743</td>\n",
       "      <td>NaN</td>\n",
       "      <td>NaN</td>\n",
       "      <td>NaN</td>\n",
       "      <td>2</td>\n",
       "      <td>1</td>\n",
       "      <td>18</td>\n",
       "      <td>5</td>\n",
       "      <td>1.0</td>\n",
       "      <td>NaN</td>\n",
       "      <td>...</td>\n",
       "      <td>NaN</td>\n",
       "      <td>NaN</td>\n",
       "      <td>72.4</td>\n",
       "      <td>166.1</td>\n",
       "      <td>26.2</td>\n",
       "      <td>NaN</td>\n",
       "      <td>NaN</td>\n",
       "      <td>NaN</td>\n",
       "      <td>NaN</td>\n",
       "      <td>2.0</td>\n",
       "    </tr>\n",
       "  </tbody>\n",
       "</table>\n",
       "<p>5 rows × 28 columns</p>\n",
       "</div>"
      ],
      "text/plain": [
       "    SEQN  ALQ101  ALQ110  ALQ130  SMQ020  RIAGENDR  RIDAGEYR  RIDRETH1  \\\n",
       "0  83732     1.0     NaN     1.0       1         1        62         3   \n",
       "1  83733     1.0     NaN     6.0       1         1        53         3   \n",
       "2  83734     1.0     NaN     NaN       1         1        78         3   \n",
       "6  83741     1.0     NaN     8.0       1         1        22         4   \n",
       "8  83743     NaN     NaN     NaN       2         1        18         5   \n",
       "\n",
       "   DMDCITZN  DMDEDUC2  ...  BPXSY2  BPXDI2  BMXWT  BMXHT  BMXBMI  BMXLEG  \\\n",
       "0       1.0       5.0  ...   124.0    64.0   94.8  184.5    27.8    43.3   \n",
       "1       2.0       3.0  ...   140.0    88.0   90.4  171.4    30.8    38.0   \n",
       "2       1.0       3.0  ...   132.0    44.0   83.4  170.1    28.8    35.6   \n",
       "6       1.0       4.0  ...   112.0    74.0   76.6  165.4    28.0    38.8   \n",
       "8       1.0       NaN  ...     NaN     NaN   72.4  166.1    26.2     NaN   \n",
       "\n",
       "   BMXARML  BMXARMC  BMXWAIST  HIQ210  \n",
       "0     43.6     35.9     101.1     2.0  \n",
       "1     40.0     33.2     107.9     NaN  \n",
       "2     37.0     31.0     116.5     2.0  \n",
       "6     38.0     34.0      86.6     NaN  \n",
       "8      NaN      NaN       NaN     2.0  \n",
       "\n",
       "[5 rows x 28 columns]"
      ]
     },
     "execution_count": 16,
     "metadata": {},
     "output_type": "execute_result"
    }
   ],
   "source": [
    "male.head()"
   ]
  },
  {
   "cell_type": "code",
   "execution_count": 17,
   "id": "83d6e814-ce80-47c9-9084-d0d3ec3072e7",
   "metadata": {},
   "outputs": [
    {
     "data": {
      "text/plain": [
       "(2976, 29.939945652173996, 7.75331880954568)"
      ]
     },
     "execution_count": 17,
     "metadata": {},
     "output_type": "execute_result"
    }
   ],
   "source": [
    "n1 = len(females)\n",
    "mu1 = females[\"BMXBMI\"].mean()\n",
    "sd1 = females[\"BMXBMI\"].std()\n",
    "              \n",
    "(n1, mu1, sd1)"
   ]
  },
  {
   "cell_type": "code",
   "execution_count": 18,
   "id": "7572cdf9-29fe-4f69-ab74-836af02e18d4",
   "metadata": {},
   "outputs": [
    {
     "data": {
      "text/plain": [
       "(2976, 28.778072111846985, 6.252567616801485)"
      ]
     },
     "execution_count": 18,
     "metadata": {},
     "output_type": "execute_result"
    }
   ],
   "source": [
    "n2 = len(females)\n",
    "mu2 = male[\"BMXBMI\"].mean()\n",
    "sd2 = male[\"BMXBMI\"].std()\n",
    "              \n",
    "(n2, mu2, sd2)"
   ]
  },
  {
   "cell_type": "code",
   "execution_count": 19,
   "id": "42e1fd6f-415d-4e56-bdd9-0d50ded1f76b",
   "metadata": {},
   "outputs": [
    {
     "data": {
      "text/plain": [
       "(6.1755933531383205, 6.591544431126401e-10)"
      ]
     },
     "execution_count": 19,
     "metadata": {},
     "output_type": "execute_result"
    }
   ],
   "source": [
    "sm.stats.ztest(females[\"BMXBMI\"].dropna(), male[\"BMXBMI\"].dropna())"
   ]
  },
  {
   "cell_type": "code",
   "execution_count": null,
   "id": "02bb5be3-f92d-4520-814a-960a48052331",
   "metadata": {},
   "outputs": [],
   "source": [
    "# our p-value is small so we reject the null hypothesis "
   ]
  },
  {
   "cell_type": "markdown",
   "id": "b7fb16fc-42cd-4ef1-aa3d-728b2fa195a0",
   "metadata": {},
   "source": [
    "#### Walk-through - Hypothesis Testing with NHANES"
   ]
  },
  {
   "cell_type": "markdown",
   "id": "e736a541-1cc2-4e60-a743-22a04e1962be",
   "metadata": {},
   "source": [
    "#### Hypothsis Testing"
   ]
  },
  {
   "cell_type": "markdown",
   "id": "2ac8828f-c5ee-47f0-975c-eb4403b3d079",
   "metadata": {},
   "source": [
    "We will be demonstrating formal hpothesis testing using NHANES data.\n",
    "\n",
    "It is important to note that the NHANES data are a \"Complex Survey\". The data are not an independent and representative sample from the target population. Proper analysis of complex survey data should make use of additional information about how the data were collected. \n",
    "\n",
    "Since complex survey analysis is a somewhat specialized topic, we ignore this aspect of the data here, and analyze the NHANES data as if it were an independent and identically distributed sample from a population."
   ]
  },
  {
   "cell_type": "code",
   "execution_count": 2,
   "id": "4f7eb0a8-c735-40a3-b656-1c6ca81ff248",
   "metadata": {},
   "outputs": [],
   "source": [
    "# import Necessary libraries.\n",
    "import pandas as pd\n",
    "import numpy as np\n",
    "import matplotlib\n",
    "matplotlib.use('Agg') # workaround,there may be a better.\n",
    "import seaborn as sns\n",
    "%matplotlib inline\n",
    "import matplotlib.pyplot as plt\n",
    "import statsmodels.api as sm\n",
    "import scipy.stats.distributions as dist\n"
   ]
  },
  {
   "cell_type": "code",
   "execution_count": null,
   "id": "5f403488-f3ec-4e37-a43c-c330ecc6a982",
   "metadata": {},
   "outputs": [],
   "source": [
    "# We read in our data and replace our values accordingly"
   ]
  },
  {
   "cell_type": "markdown",
   "id": "4cc0d75d-18e3-4a15-aac3-5bd572bbf277",
   "metadata": {},
   "source": [
    "Below we read the data and convert some of the integer codes to text values"
   ]
  },
  {
   "cell_type": "code",
   "execution_count": 3,
   "id": "16fcb49f-003e-4e15-ac79-ca312a8996cd",
   "metadata": {},
   "outputs": [],
   "source": [
    "#url = \"https://raw.githubusercontent.com//UMstataspy//UMStatsPy//master//NHANES//merged//nhanes_2015_2016\n",
    "#da = pd.read_csv(url)\n",
    "\n",
    "da = pd.read_csv(\"C:\\\\Users\\\\user\\\\Downloads\\\\nhanes_2015_2016.csv\")\n",
    "\n",
    "da[\"SMQ020x\"] = da.SMQ020.replace({1: \"Yes\", 2: \"No\", 7: np.nan, 9: np.nan}) \n",
    "# np.nan represents\n",
    "da[\"RIAGENDRx\"] = da.RIAGENDR.replace({1: \"Male\", 2: \"Female\"})\n",
    "da[\"DMDCITZNx\"] = da.DMDCITZN.replace({1: \"Yes\", 2: \"No\", 7: np.nan, 9: np.nan}) "
   ]
  },
  {
   "cell_type": "code",
   "execution_count": null,
   "id": "82e0cf46-aacc-448b-b387-2b701939fe39",
   "metadata": {},
   "outputs": [],
   "source": [
    "#pd.read_csv(\"C:\\\\Users\\\\user\\\\Downloads\\\\nhanes_2015_2016.csv\")"
   ]
  },
  {
   "cell_type": "markdown",
   "id": "592c2cd7-17e9-4082-86d4-9596a9651c39",
   "metadata": {},
   "source": [
    "#### Hypothesis tests for one proportions"
   ]
  },
  {
   "cell_type": "markdown",
   "id": "58cd1894-85ae-4e01-b6e2-122038d63d04",
   "metadata": {},
   "source": [
    "The most basic hypothesis test may be the one-sample test for a proportion. The test is used if we have specified a particuar value as the null value for the proportion, and we wish to assess if the data are compatible with the true parameter value being equal to this specified value. \n",
    "\n",
    "One-sample tests are not used very often in practice, because it is not very common that we have a specified fixed value to use for comparison.\n",
    "\n",
    "For illustration,imagine that the rate of lifetime smoking in another country was known to be 40% , and we wished to assess whether the rate of lifetime smoking in the US were different from 40% . \n",
    "\n",
    "In the following notebook cell,we carry out the (two-sided) one-sample test that the population proportion of smokers is 0.4%.and obtain a p-value of 0.43 .\n",
    "\n",
    "This indicates that the NHANES  data are compatible wit the proportion of (ever) smokers in the US being 40%."
   ]
  },
  {
   "cell_type": "code",
   "execution_count": 4,
   "id": "5dcc27ca-7fcd-4530-bf49-45bcac6719ad",
   "metadata": {},
   "outputs": [
    {
     "name": "stdout",
     "output_type": "stream",
     "text": [
      "0.7823563854332805 0.4340051581348052\n"
     ]
    }
   ],
   "source": [
    "x = da.SMQ020x.dropna() == \"Yes\"\n",
    "p = x.mean()\n",
    "se = np.sqrt(0.4 * 0.6 / len(x))\n",
    "test_stat = (p - 0.4) / se\n",
    "pvalue = 2 * dist.norm.cdf(-np.abs(test_stat))\n",
    "print(test_stat, pvalue)"
   ]
  },
  {
   "cell_type": "markdown",
   "id": "d725aa42-042c-41d5-b651-469d0e954a5a",
   "metadata": {},
   "source": [
    "The following cell carries out the same test as perfomed above using the Statsmodels library.\n",
    "\n",
    "The results in the first(default) case below are slightly different from the results obtained above because Statsmodels by default uses the sample proportion instead pf the null proportion when computing the standard error.\n",
    "\n",
    "This distinction is rarely consequential, but we can specify that the null proportion should be used to calculate the standard error, and the results agree exactly with what we calculated above. \n",
    "\n",
    "The first two lines below carry out tests using the normal approximation to the sampling distribution of the test statistic,and the third line below carries uses the exact binomial sampling distribution.\n",
    "\n",
    "We can see here that the p-values are nearly identical in all three cases.\n",
    "\n",
    "This is expected when the sample size is large,and the proportion is not close to either 0 or 1."
   ]
  },
  {
   "cell_type": "code",
   "execution_count": 5,
   "id": "adc902ab-e2bf-4cee-b80c-5c5cc8a7547b",
   "metadata": {},
   "outputs": [
    {
     "name": "stdout",
     "output_type": "stream",
     "text": [
      "(0.7807518954896244, 0.43494843171868214)\n",
      "(0.7823563854332805, 0.4340051581348052)\n",
      "0.4340360854410036\n"
     ]
    },
    {
     "name": "stderr",
     "output_type": "stream",
     "text": [
      "C:\\Users\\user\\anaconda3\\lib\\site-packages\\scipy\\stats\\_discrete_distns.py:67: RuntimeWarning: divide by zero encountered in _binom_pdf\n",
      "  return _boost._binom_pdf(x, n, p)\n"
     ]
    }
   ],
   "source": [
    "print(sm.stats.proportions_ztest(x.sum(), len(x), 0.4))  # Normal approximation with estimated\n",
    "print(sm.stats.proportions_ztest(x.sum(), len(x), 0.4,prop_var=0.4 ))  # Normal approximation with estimated\n",
    "print(sm.stats.binom_test(x.sum(), len(x), 0.4)) # Exact binomial p-value"
   ]
  },
  {
   "cell_type": "markdown",
   "id": "261e2375-6a5c-43e2-ac88-3156a3af10e2",
   "metadata": {},
   "source": [
    "#### Hypothesis Tests for two proportions"
   ]
  },
  {
   "cell_type": "markdown",
   "id": "dd56e76b-ecc4-48d7-928f-ae58e918e61c",
   "metadata": {},
   "source": [
    "Comparative tests tend to be used much more frequentl than tests comparing one population to a fixed value.\n",
    "\n",
    "A two -sample test of proportions is used to assess whether the proportion of individuals with some trait differs between two sub-populations.\n",
    "\n",
    "For example, we can compare the smoking rates between females and males. \n",
    "\n",
    "Since, smoking rates vary strongly with age,we do this in the sub-population of people between 20 and 25 years of age. In the cell below, we carry out this test without using any libraries,implementing all the test procedues covered elsewhere in the course using Python code.\n",
    "\n",
    "we find that the smoking rate for men is around 10 percentage points greater than the smoking rate for females,and this difference is statistically significant (the p-value is around 0.01)."
   ]
  },
  {
   "cell_type": "code",
   "execution_count": 6,
   "id": "67f06e27-3a50-4019-8b24-a53e0dafefe8",
   "metadata": {},
   "outputs": [
    {
     "name": "stdout",
     "output_type": "stream",
     "text": [
      "              Smoke     N\n",
      "RIAGENDRx                \n",
      "Female     0.322814  2630\n",
      "Male       0.548467  2414\n",
      "-16.167014441553363 8.617440368398432e-59\n"
     ]
    }
   ],
   "source": [
    "dx = da[[\"SMQ020x\",\"RIDAGEYR\" , \"RIAGENDRx\"]].dropna() # Drop missing values\n",
    "dx = dx.loc[(dx.RIDAGEYR >= 20) & (dx.RIDAGEYR >= 25), :] # Restrict to people between 20 and 25\n",
    "\n",
    "# summarize the data by calculating the proportion of yes response and the sample size \n",
    "p = dx.groupby(\"RIAGENDRx\")[\"SMQ020x\"].agg([lambda z: np.mean(z==\"Yes\"), \"size\"])\n",
    "p.columns = [\"Smoke\", \"N\"]\n",
    "print(p)\n",
    "\n",
    "#The pooled rate of yes responses and the standard error of the estimated difference of proportion\n",
    "p_comb = (dx.SMQ020x == \"Yes\").mean()\n",
    "va = p_comb * (1-p_comb)\n",
    "se = np.sqrt(va * (1 /p.N.Female + 1 / p.N.Male))\n",
    "\n",
    "# calculate the test statistic and its p-value\n",
    "test_stat = (p.Smoke.Female - p.Smoke.Male) / se\n",
    "pvalue = 2*dist.norm.cdf(-np.abs(test_stat))\n",
    "print(test_stat, pvalue)"
   ]
  },
  {
   "cell_type": "code",
   "execution_count": null,
   "id": "9611946b-3462-4b1e-a515-2a8275153d22",
   "metadata": {},
   "outputs": [],
   "source": [
    "# The test statistic and pvalue is small so we can reject our null hypothesis and  say that the proportion of female and male smokers is actually different."
   ]
  },
  {
   "cell_type": "markdown",
   "id": "d4c5f20f-9b34-4dd8-9c95-9e78ceca0e65",
   "metadata": {},
   "source": [
    "Essentially thesame test as above can be conducted by converting the \"Yes\"/\"No\" responses to numbers (Yes=1. No=0) and conductu=ing a two-sample, t-test as below:"
   ]
  },
  {
   "cell_type": "code",
   "execution_count": 7,
   "id": "6aabd799-a464-41cb-bbee-b0c1d826db64",
   "metadata": {},
   "outputs": [
    {
     "data": {
      "text/plain": [
       "(-16.599612959190377, 2.724359397201527e-60, 5042.0)"
      ]
     },
     "execution_count": 7,
     "metadata": {},
     "output_type": "execute_result"
    }
   ],
   "source": [
    "dx_females = dx.loc[dx.RIAGENDRx==\"Female\", \"SMQ020x\"].replace({\"Yes\": 1, \"No\": 0})\n",
    "dx_males = dx.loc[dx.RIAGENDRx==\"Male\", \"SMQ020x\"].replace({\"Yes\": 1, \"No\": 0})\n",
    "sm.stats.ttest_ind(dx_females, dx_males) #prints test statistic, p-value, degrees of freedom                                       "
   ]
  },
  {
   "cell_type": "markdown",
   "id": "198ab1b1-83a5-45e3-ab8e-76547970bd3a",
   "metadata": {},
   "source": [
    "#### Hypothesis tests comparing means"
   ]
  },
  {
   "cell_type": "markdown",
   "id": "5bc3e08c-b225-4f72-836a-caaf6e886461",
   "metadata": {},
   "source": [
    "Tests of means are similar in many ways to tests of proportions. Just as with proportions, for comparing means there are one and two-sample tests, z-tests and t-tests and t-tests, and one-sided and two-sided tests. As with tests of proportions, one-sample tests of means are not very ccommon, but we illustrate a one sample test in the cell below .We compare systolic blood pressure to the\n",
    "fixed value 120(which is the lower threshhold for \"pre-hypertension\"), and find that the mean is significantly diiferent from 120(the point estimate of the mean is 126)."
   ]
  },
  {
   "cell_type": "code",
   "execution_count": 8,
   "id": "d7a284d3-02bb-47db-8dff-5768d6a865ea",
   "metadata": {},
   "outputs": [
    {
     "name": "stdout",
     "output_type": "stream",
     "text": [
      "125.86698337292161\n"
     ]
    },
    {
     "data": {
      "text/plain": [
       "(7.469764137102597, 8.033869113167905e-14)"
      ]
     },
     "execution_count": 8,
     "metadata": {},
     "output_type": "execute_result"
    }
   ],
   "source": [
    "dx = da[[\"BPXSY1\", \"RIDAGEYR\", \"RIAGENDRx\" ]].dropna()\n",
    "dx = dx.loc[(dx.RIDAGEYR >= 40) & (dx.RIDAGEYR <= 50) & (dx.RIAGENDRx == \"Male\"), :]\n",
    "print(dx.BPXSY1.mean())   # prints mean blood pressure\n",
    "sm.stats.ztest(dx.BPXSY1, value=120) # prints test statistic, p-value            "
   ]
  },
  {
   "cell_type": "code",
   "execution_count": null,
   "id": "01d250d8-6191-47b7-bd79-dc6b89d179bf",
   "metadata": {},
   "outputs": [],
   "source": [
    "# we reject the null hpothesis and say that 120 is not the true mean"
   ]
  },
  {
   "cell_type": "markdown",
   "id": "46bf2cfa-617d-4789-9282-5f4c97b97a07",
   "metadata": {},
   "source": [
    "In the cell below, we carry out a formal test of the null hypothesis that the mean blood pressure for women between the ages of 50 and 60 is equal to the mean blood pressure of men between the ages of 50 and 60.\n",
    "\n",
    "The result indicates that while the mean systolic pressure for men is slightly greater than that for women(129 mm/Hg versus 128mm/Hg), this difference is not statistcally significant.\n",
    "\n",
    "There are a number of different variants on the two-sample t-test.Two often -encountered variants are the t-tests carried out using thr t-distribution, and the t-test carried out using the normal approximation to the reference distribution  of the test statistic, often called a z-test. \n",
    "\n",
    "Below we display results from both these testing approaches .When the sample size is large , the difference between the t-test and the z-test is very small."
   ]
  },
  {
   "cell_type": "code",
   "execution_count": 9,
   "id": "d298e9c0-d6e7-4535-b85a-ecf617dab5e1",
   "metadata": {},
   "outputs": [
    {
     "name": "stdout",
     "output_type": "stream",
     "text": [
      "127.92561983471074 129.23829787234044\n",
      "(-1.105435895556249, 0.2689707570859362)\n",
      "(-1.105435895556249, 0.26925004137768577, 952.0)\n"
     ]
    }
   ],
   "source": [
    "dx = da[[\"BPXSY1\", \"RIDAGEYR\", \"RIAGENDRx\"]].dropna()\n",
    "dx = dx.loc[(dx.RIDAGEYR >= 50) & (dx.RIDAGEYR <= 60) , :]\n",
    "bpx_female = dx.loc[dx.RIAGENDRx ==\"Female\",\"BPXSY1\"] \n",
    "bpx_male = dx.loc[dx.RIAGENDRx ==\"Male\",\"BPXSY1\"]            \n",
    "print(bpx_female.mean(), bpx_male.mean()) # prints female mean, male mean   \n",
    "print(sm.stats.ztest(bpx_female, bpx_male)) # prints test statistic, p-value\n",
    "print(sm.stats.ttest_ind(bpx_female, bpx_male)) # prints test statistic, p-value, degrees of freedom"
   ]
  },
  {
   "cell_type": "code",
   "execution_count": null,
   "id": "b4b68c38-6a61-4b6f-93a4-f65dc6568ffc",
   "metadata": {},
   "outputs": [],
   "source": [
    "# We cannot reject the test hypothesis that this two population have different blood pressure mean."
   ]
  },
  {
   "cell_type": "markdown",
   "id": "befa4f58-dbb9-4604-a7b8-50a78126c5f8",
   "metadata": {},
   "source": [
    "Another important aspect of two -sample mean testing is \"heteroscedasticity\", meaning the variances with the two groups being may be different. While the goal of the test is to compare the means, the variances play an important role in calibrating the statisics(decicing how big the mean difference needs to be to be declared statistically significant). In the NHANES data, we see that there are moderate differences between the amount of variation in BMI for females and for males,looking within 10-years age bands. In every age bands females having greater variation than males"
   ]
  },
  {
   "cell_type": "code",
   "execution_count": 10,
   "id": "9cfb34c2-d7f7-4808-94ba-865afaecabaa",
   "metadata": {},
   "outputs": [
    {
     "data": {
      "text/html": [
       "<div>\n",
       "<style scoped>\n",
       "    .dataframe tbody tr th:only-of-type {\n",
       "        vertical-align: middle;\n",
       "    }\n",
       "\n",
       "    .dataframe tbody tr th {\n",
       "        vertical-align: top;\n",
       "    }\n",
       "\n",
       "    .dataframe thead th {\n",
       "        text-align: right;\n",
       "    }\n",
       "</style>\n",
       "<table border=\"1\" class=\"dataframe\">\n",
       "  <thead>\n",
       "    <tr style=\"text-align: right;\">\n",
       "      <th>RIAGENDRx</th>\n",
       "      <th>Female</th>\n",
       "      <th>Male</th>\n",
       "    </tr>\n",
       "    <tr>\n",
       "      <th>agegrp</th>\n",
       "      <th></th>\n",
       "      <th></th>\n",
       "    </tr>\n",
       "  </thead>\n",
       "  <tbody>\n",
       "    <tr>\n",
       "      <th>(18, 30]</th>\n",
       "      <td>7.745893</td>\n",
       "      <td>6.649440</td>\n",
       "    </tr>\n",
       "    <tr>\n",
       "      <th>(30, 40]</th>\n",
       "      <td>8.315608</td>\n",
       "      <td>6.622412</td>\n",
       "    </tr>\n",
       "    <tr>\n",
       "      <th>(40, 50]</th>\n",
       "      <td>8.076195</td>\n",
       "      <td>6.407076</td>\n",
       "    </tr>\n",
       "    <tr>\n",
       "      <th>(50, 60]</th>\n",
       "      <td>7.575848</td>\n",
       "      <td>5.914373</td>\n",
       "    </tr>\n",
       "    <tr>\n",
       "      <th>(60, 70]</th>\n",
       "      <td>7.604514</td>\n",
       "      <td>5.933307</td>\n",
       "    </tr>\n",
       "    <tr>\n",
       "      <th>(70, 80]</th>\n",
       "      <td>6.284968</td>\n",
       "      <td>4.974855</td>\n",
       "    </tr>\n",
       "  </tbody>\n",
       "</table>\n",
       "</div>"
      ],
      "text/plain": [
       "RIAGENDRx    Female      Male\n",
       "agegrp                       \n",
       "(18, 30]   7.745893  6.649440\n",
       "(30, 40]   8.315608  6.622412\n",
       "(40, 50]   8.076195  6.407076\n",
       "(50, 60]   7.575848  5.914373\n",
       "(60, 70]   7.604514  5.933307\n",
       "(70, 80]   6.284968  4.974855"
      ]
     },
     "execution_count": 10,
     "metadata": {},
     "output_type": "execute_result"
    }
   ],
   "source": [
    "dx = da[[\"BMXBMI\", \"RIDAGEYR\", \"RIAGENDRx\"]].dropna()\n",
    "da[\"agegrp\"] = pd.cut(da.RIDAGEYR, [18, 30, 40, 50, 60, 70, 80])\n",
    "da.groupby([\"agegrp\",  \"RIAGENDRx\"])[\"BMXBMI\"].agg(np.std).unstack()"
   ]
  },
  {
   "cell_type": "markdown",
   "id": "afc34adb-8219-4a37-a0bd-f6ecdcaa9e17",
   "metadata": {},
   "source": [
    "The standard error of the mean difference (e.g. mean female blood pressure minus male blood pressure) can be estimated in atleast two different ways .In the statsmodels library, these approaches are referred to as the \"pooled\" and the \"unequal\" approach to estimating the variance. If the variances are equal(ie, there is no \"heteroscedasticity),then there should be little difference between the two approaches.\n",
    "\n",
    "Even in t,he presence of moderate heteroscedasticity,as we have here we can see that the results for the two methods are quite similar . Below we have a loop tha considers each 10-years band and assesses the evidence for a difference in the mean BMIfor women and for men.\n",
    "The result printed in each row or output are the  test -statistic and the p-value."
   ]
  },
  {
   "cell_type": "code",
   "execution_count": 51,
   "id": "1ef268ce-d5f8-4f47-bfd8-dc2ba6fcb71b",
   "metadata": {},
   "outputs": [
    {
     "name": "stdout",
     "output_type": "stream",
     "text": [
      "(18, 30]\n",
      "pooled:  (1.7026932933643306, 0.08862548061449803)\n",
      "unequal:  (1.7174610823927183, 0.08589495934713169)\n",
      "\n",
      "(30, 40]\n",
      "pooled:  (1.4378280405644919, 0.15048285114648174)\n",
      "unequal:  (1.4437869620833497, 0.1487989105789246)\n",
      "\n",
      "(40, 50]\n",
      "pooled:  (2.8933761158070186, 0.003811246059501354)\n",
      "unequal:  (2.9678691663536725, 0.0029987194174035366)\n",
      "\n",
      "(50, 60]\n",
      "pooled:  (3.362108779981383, 0.0007734964571391287)\n",
      "unequal:  (3.3754943901739387, 0.0007368319423226156)\n",
      "\n",
      "(60, 70]\n",
      "pooled:  (3.617240144243268, 0.00029776102103194453)\n",
      "unequal:  (3.628483094544553, 0.00028509141471492935)\n",
      "\n",
      "(70, 80]\n",
      "pooled:  (2.926729252512241, 0.003425469414486057)\n",
      "unequal:  (2.9377798867692064, 0.0033057163315194853)\n",
      "\n"
     ]
    }
   ],
   "source": [
    "for k, v in da.groupby(\"agegrp\"):\n",
    "    bmi_female = v.loc[v.RIAGENDRx==\"Female\",\"BMXBMI\"].dropna()\n",
    "    bmi_female = sm.stats.DescrStatsW(bmi_female)\n",
    "    bmi_male = v.loc[v.RIAGENDRx==\"Male\",\"BMXBMI\"].dropna()\n",
    "    bmi_male = sm.stats.DescrStatsW(bmi_male)\n",
    "    print(k)\n",
    "    print(\"pooled: \", sm.stats.CompareMeans(bmi_female, bmi_male).ztest_ind(usevar='pooled'))\n",
    "    print(\"unequal: \", sm.stats.CompareMeans(bmi_female, bmi_male).ztest_ind(usevar='unequal'))\n",
    "    print()        "
   ]
  },
  {
   "cell_type": "markdown",
   "id": "c002fee5-14b5-49e6-8038-ba3f4a7f2a83",
   "metadata": {},
   "source": [
    "#### Paired tests"
   ]
  },
  {
   "cell_type": "markdown",
   "id": "ab21703d-8898-46b3-b7fe-feddca05e51b",
   "metadata": {},
   "source": [
    "A common situation in applied research is to measure the same quantity multiple times on each unit of analysis.For example,in NHANES,systolic blood pressure is measured at least two times (sometimes there is athird measurement) on each subject.\n",
    "\n",
    "Although the measurements are repeated ,theree is no guarantee that the mean is the same each time ie . the mean blood pressuer may be slightly lower on the second measurement compared to the first since people are bit more are bit more nervous the first time they are measured.\n",
    "\n",
    "A paired test is a modified form of mean test that can be used when we are comparing two repeated measurement on the same unit.\n",
    "\n",
    "A paired t-test for means is equivalent to taking the difference between the first and the second measurement and using a one-sample test to compare the mean of these differences to zero.\n",
    "\n",
    "Below we see that in the entire NHANES sample, the first measurement of systolic blood pressure is on average of 0.67 mm/Hg greater than the second measurement.\n",
    "\n",
    "While this differnce is not large ,it is strongly statistically significant.that is , there is strong evidence that the mean values for the first and second blood pressure measurement differ."
   ]
  },
  {
   "cell_type": "code",
   "execution_count": 6,
   "id": "0dec6e80-f437-4aa0-a65c-9b2c498d6cb9",
   "metadata": {},
   "outputs": [
    {
     "name": "stdout",
     "output_type": "stream",
     "text": [
      "0.6749860309182343\n"
     ]
    },
    {
     "data": {
      "text/plain": [
       "(9.800634425497911, 1.1188070930963587e-22)"
      ]
     },
     "execution_count": 6,
     "metadata": {},
     "output_type": "execute_result"
    }
   ],
   "source": [
    "dx = da[[\"BPXSY1\", \"BPXSY2\" ]].dropna()\n",
    "db = dx.BPXSY1 - dx.BPXSY2\n",
    "print(db.mean())\n",
    "sm.stats.ztest(db)"
   ]
  },
  {
   "cell_type": "markdown",
   "id": "e93717fd-38e4-4ddd-bed7-06c66adb3178",
   "metadata": {},
   "source": [
    "To probe this effect further,we can divide the populatiom into 10 yers wide age bands and also stratify by gender hen carry out the paired t-test within each of the resulting 12 strata.\n",
    "\n",
    "We see that thesecond systolic blood pressure measurement is always lower on average than the first . The difference is larger for older people and for males. The difference is ststistically significant for females over 30 ,and for males over 60."
   ]
  },
  {
   "cell_type": "markdown",
   "id": "d668ed00-40cb-4c67-9c5f-fe003c77bb18",
   "metadata": {},
   "source": [
    "Conducting many hypothesis testing and \"cherry picking\" the interesting results is usually a bad practice.Here we are doing such \"multiple testing \" for illustration, and acknoledge that the strongest differences may be over stated.\n",
    "\n",
    "Nevertheless,there is a clear and consistent trend with age -- older people .There is also a difference between the genders ,with older having a stronger difference between the first and the second blood presure measurements than older women. The gender difference for younger people is less clear."
   ]
  },
  {
   "cell_type": "code",
   "execution_count": 13,
   "id": "377964ca-71f6-4e6d-af91-6c53321cf630",
   "metadata": {},
   "outputs": [
    {
     "name": "stdout",
     "output_type": "stream",
     "text": [
      "('Female', Interval(18, 30, closed='right')) 110.76625659050967 569 (259.45278521092877, 0.0)\n",
      "('Female', Interval(30, 40, closed='right')) 113.59624413145539 426 (186.6423701866901, 0.0)\n",
      "('Female', Interval(40, 50, closed='right')) 120.81023454157783 469 (172.15358709200243, 0.0)\n",
      "('Female', Interval(50, 60, closed='right')) 127.54157303370786 445 (149.74556907021355, 0.0)\n",
      "('Female', Interval(60, 70, closed='right')) 131.81313131313132 396 (143.9309419547339, 0.0)\n",
      "('Female', Interval(70, 80, closed='right')) 139.24615384615385 390 (131.30229840120563, 0.0)\n",
      "('Male', Interval(18, 30, closed='right')) 118.53125 512 (253.50246034201086, 0.0)\n",
      "('Male', Interval(30, 40, closed='right')) 121.2824074074074 432 (185.36304233936247, 0.0)\n",
      "('Male', Interval(40, 50, closed='right')) 126.08421052631579 380 (148.2952814375017, 0.0)\n",
      "('Male', Interval(50, 60, closed='right')) 128.96728971962617 428 (142.69522139459818, 0.0)\n",
      "('Male', Interval(60, 70, closed='right')) 132.58111380145277 413 (144.5317662793383, 0.0)\n",
      "('Male', Interval(70, 80, closed='right')) 134.67539267015707 382 (130.36826216587923, 0.0)\n"
     ]
    }
   ],
   "source": [
    "dx = da[[\"RIAGENDRx\",\"BPXSY1\", \"BPXSY2\",\"RIDAGEYR\" ]].dropna()\n",
    "dx[\"agegrp\"] = pd.cut(dx.RIDAGEYR, [18, 30, 40, 50, 60, 70, 80])\n",
    "for k, g in dx.groupby([\"RIAGENDRx\",\"agegrp\"]):\n",
    "    db = g.BPXSY1 = g.BPXSY2\n",
    "    #print stratum definition, mean difference, sample size, test statistic, p-value\n",
    "    print(k, db.mean(), db.size, sm.stats.ztest(db.values, value=0))"
   ]
  },
  {
   "cell_type": "markdown",
   "id": "e72bce10-2fb3-4be3-b9f3-5abb97226848",
   "metadata": {},
   "source": [
    "#### Power and sample size for hypothesis tests"
   ]
  },
  {
   "cell_type": "markdown",
   "id": "1babc936-0c45-40cf-881b-7f43e12bbde8",
   "metadata": {},
   "source": [
    "Like nearly any analysis with data , hypothesis tests will yield more sensitive and confident results when there are larger amounts of data. Here we stillstudy the relationship between the sample size(amount of data), and the behaviour of a hypothesis test.\n",
    "\n",
    "For illustration,we will use the paired t-test for assessing whether the first and second systolic blood pressure measurement have different means,restricting to people between 50 and 60 years of age."
   ]
  },
  {
   "cell_type": "markdown",
   "id": "c7062a24-64ff-4749-a267-a6e023ab1ddd",
   "metadata": {},
   "source": [
    "The situaion below randomly subsamples sets of 100,200,400 and 800 people from the 50 -60 yeras old subset of NHANES, and conducts a paired z-test on each subsamples. this process is reapeted 500 times for each sample size.\n",
    "\n",
    "we report the fraction of these  500 trials where the P-value was smaller than 0.05 . A hihger fraction of trials were p<0.05 implies that it is easier to detect a differnce between the first and second blood pressure measurements. We see that this proportion (called\"Statistical power\") is only around 0.2 when the samples size is 100 ,and grows to essentialy 100% when thw sample size is 800.\n",
    "\n",
    "Note that all of these subsamples are drawn from the same parent population , so there is no change from subsample to subsample in terms of whether the means are truly different. The only thing that changes is our evidence that the difference is real. when the sample size is small, we rarely amass such evidence."
   ]
  },
  {
   "cell_type": "code",
   "execution_count": 14,
   "id": "874a38d1-2c9c-49ee-b210-0e9a617083c7",
   "metadata": {},
   "outputs": [
    {
     "name": "stdout",
     "output_type": "stream",
     "text": [
      "0.206\n",
      "0.398\n",
      "0.628\n",
      "0.998\n"
     ]
    }
   ],
   "source": [
    "all_p = []\n",
    "dy = dx.loc[(dx.RIDAGEYR >= 50) & (dx.RIDAGEYR <= 60), :]\n",
    "for n in 100, 200, 400, 800:\n",
    "    pv = []\n",
    "    for i in range(500):\n",
    "        dz = dy.sample(n)\n",
    "        db = dz.BPXSY1 - dz.BPXSY2\n",
    "        _, p  = sm.stats.ztest(db.values, value=0)\n",
    "        pv.append(p)\n",
    "    pv = np.asarray(pv)\n",
    "    all_p.append(pv)\n",
    "    print((pv <= 0.05).mean())      "
   ]
  },
  {
   "cell_type": "markdown",
   "id": "b19ed0aa-3ff2-47f0-ae43-4bd27d4c4df3",
   "metadata": {},
   "source": [
    "In simulation code ,we saved all the p-value to the array named all_p so we can consider them further here. The histogram below shows the distribution of p-value for 500 subsamples of data of size 100. We see that there are more smaller p-value than larger ones, but not to a dramatic degree. Some of the p-value are almost 1, indicating that the subsample mean difference were almost zero in those cases."
   ]
  },
  {
   "cell_type": "code",
   "execution_count": 15,
   "id": "ad4c4353-a103-403f-9de3-5b98da6bb6d7",
   "metadata": {},
   "outputs": [
    {
     "name": "stderr",
     "output_type": "stream",
     "text": [
      "C:\\Users\\user\\anaconda3\\lib\\site-packages\\seaborn\\distributions.py:2619: FutureWarning: `distplot` is a deprecated function and will be removed in a future version. Please adapt your code to use either `displot` (a figure-level function with similar flexibility) or `histplot` (an axes-level function for histograms).\n",
      "  warnings.warn(msg, FutureWarning)\n"
     ]
    },
    {
     "data": {
      "text/plain": [
       "<AxesSubplot:ylabel='Density'>"
      ]
     },
     "execution_count": 15,
     "metadata": {},
     "output_type": "execute_result"
    },
    {
     "data": {
      "image/png": "[encoded data removed]",
      "text/plain": [
       "<Figure size 432x288 with 1 Axes>"
      ]
     },
     "metadata": {
      "needs_background": "light"
     },
     "output_type": "display_data"
    }
   ],
   "source": [
    "sns.distplot(all_p[0])"
   ]
  },
  {
   "cell_type": "markdown",
   "id": "80e10d0d-874a-41bf-87e8-f6b0b053dbfe",
   "metadata": {},
   "source": [
    "Next we inspect the distribution of p-values for subsamples of size 400. We see that th p-values are much more concentrated close to zero compared to when we had only 100 data points . if we obtain a sample of size 400 from this population , we have around a 70% chance of obtaining a p-value smaller than 0.05 , and very unlikely to obtain a p-value greater than 0.4"
   ]
  },
  {
   "cell_type": "code",
   "execution_count": 16,
   "id": "0a64d4d2-3a6c-433b-aed2-9c515b2daa90",
   "metadata": {},
   "outputs": [
    {
     "data": {
      "text/plain": [
       "<seaborn.axisgrid.FacetGrid at 0x1e68ce2b7c0>"
      ]
     },
     "execution_count": 16,
     "metadata": {},
     "output_type": "execute_result"
    },
    {
     "data": {
      "image/png": "[encoded data removed]",
      "text/plain": [
       "<Figure size 360x360 with 1 Axes>"
      ]
     },
     "metadata": {
      "needs_background": "light"
     },
     "output_type": "display_data"
    }
   ],
   "source": [
    "sns.displot(all_p[2])"
   ]
  },
  {
   "cell_type": "code",
   "execution_count": null,
   "id": "fbbaa3dd-8b23-4255-88dd-6b50087bf3dd",
   "metadata": {},
   "outputs": [],
   "source": []
  }
 ],
 "metadata": {
  "kernelspec": {
   "display_name": "Python 3 (ipykernel)",
   "language": "python",
   "name": "python3"
  },
  "language_info": {
   "codemirror_mode": {
    "name": "ipython",
    "version": 3
   },
   "file_extension": ".py",
   "mimetype": "text/x-python",
   "name": "python",
   "nbconvert_exporter": "python",
   "pygments_lexer": "ipython3",
   "version": "3.9.7"
  }
 },
 "nbformat": 4,
 "nbformat_minor": 5
}
