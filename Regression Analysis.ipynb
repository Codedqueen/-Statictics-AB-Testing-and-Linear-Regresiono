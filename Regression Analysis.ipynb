{
 "cells": [
  {
   "cell_type": "code",
   "execution_count": null,
   "id": "afba286e-860f-41e5-a3cd-3be7c1f07c8e",
   "metadata": {},
   "outputs": [],
   "source": [
    "### Week 8 Day 4 - Regression Analysis"
   ]
  },
  {
   "cell_type": "markdown",
   "id": "b8439da0-0d6b-4794-906e-ce3ce5db3e08",
   "metadata": {},
   "source": [
    "#### Introduction to machine learning in Python"
   ]
  },
  {
   "cell_type": "markdown",
   "id": "9a0b32e5-39ae-4666-b1a9-60be441324ca",
   "metadata": {},
   "source": [
    "Regression analysis is one of the most common method of prediction. It is used when ever we have a causal relationship between variables"
   ]
  },
  {
   "cell_type": "markdown",
   "id": "675a619d-1c42-4de0-b994-7ac4e52f62df",
   "metadata": {},
   "source": [
    "A great deal of predictive modelling in practice is done through regression analysis.\n",
    "\n",
    "It becomes extremely powerful when complemented by techniques like factor analysis. You can truely find many academic papers based on it.\n",
    "\n",
    "Moreover, fundamentals of regression analysis are used in supervised machine learning\n",
    "\n",
    "We can see how regression are ammassed for data analysis"
   ]
  },
  {
   "cell_type": "markdown",
   "id": "ef487032-af13-4dfd-bd0d-860a739155b8",
   "metadata": {},
   "source": [
    "The general point is the following :\n",
    " \n",
    " Among other factors the amount of money you spend depends on the amount of money you earn.\n",
    "    \n",
    " In thesame way the amount of time devoted to this course is affected by the amount  of motivation to learn additional statistical methods ."
   ]
  },
  {
   "cell_type": "markdown",
   "id": "79870e5e-97cd-46d5-9259-f9070ca9a3fd",
   "metadata": {},
   "source": [
    "You can quantify this relationship and many others using regression analysis.\n",
    "\n",
    "We will use our typical step by step approach .\n",
    "\n",
    "We will start with \n",
    "\n",
    "1. Simple linear regression model\n",
    "\n",
    "2. Multiple  linear regression model\n",
    "\n",
    "3. How to build a regression\n",
    "\n",
    "4. How to interprete it.\n",
    "\n",
    "5. How to compare differrnt models"
   ]
  },
  {
   "cell_type": "markdown",
   "id": "cf4835f5-a3fb-494a-8a1c-e72aab79f06e",
   "metadata": {},
   "source": [
    "We will develop a deeper understanding of the fundamentals as we interconnect it with the knowledge we have acquired so far."
   ]
  },
  {
   "cell_type": "markdown",
   "id": "19936e60-c005-456f-9349-60bf0995f941",
   "metadata": {},
   "source": [
    "After this session we will go into more advanced linear regression and machine learning deppending on what we want to major on ."
   ]
  },
  {
   "cell_type": "markdown",
   "id": "ec9f61de-c6a1-41e2-92d2-cf600b36a476",
   "metadata": {},
   "source": [
    "### Course Notes : Regression Analysis"
   ]
  },
  {
   "cell_type": "markdown",
   "id": "0f2cffe1-b1ce-4488-86ca-94be3d829f49",
   "metadata": {},
   "source": [
    "#### What is linear regression?"
   ]
  },
  {
   "cell_type": "markdown",
   "id": "ce032ec3-5162-484b-9828-843613cac9e6",
   "metadata": {},
   "source": [
    "Regression analysis is one of the most widely used methods for prediction. Linear regression is probably the most\n",
    "fundamental machine learning method out there and a starting point for the advanced analytical learning path of\n",
    "every aspiring data scientist.\n",
    "\n",
    "A linear regression is a linear approximation of a causal relationship between two or more variables.\n",
    "Regression models are highly valuable, as they are one of the most common ways to make inferences and\n",
    "predictions.\n",
    "\n",
    "Apart from this, regression analysis is also employed to determine and assess factors that affect a\n",
    "certain outcome in a meaningful way.\n",
    "\n",
    "As many other statistical techniques, regression models help us make predictions about the population based on\n",
    "sample data"
   ]
  },
  {
   "cell_type": "markdown",
   "id": "97d7fa97-186d-46da-8822-58af2e941374",
   "metadata": {},
   "source": [
    "Get sample Data =>  Design a Model =>   Make predictions about the whole population"
   ]
  },
  {
   "cell_type": "markdown",
   "id": "10b2b7ca-f326-400f-9a53-bf5b783a57b5",
   "metadata": {},
   "source": [
    "Linear regression model"
   ]
  },
  {
   "cell_type": "markdown",
   "id": "858803ca-709e-433b-b354-af9d03c31952",
   "metadata": {},
   "source": [
    "Y1 = β0 + β1Xi + Σi\n",
    "\n",
    "\n",
    "Y1 = Dependent Variable\n",
    "\n",
    "β0 = Slope \n",
    "\n",
    "Σi = Error\n",
    "\n",
    "β0  = Constant\n",
    "\n",
    "Xi = Independent variable\n",
    "\n",
    "Note : When we refer to the population models, we use Greek letters"
   ]
  },
  {
   "cell_type": "markdown",
   "id": "985047a5-85c5-4f0b-98b5-5d799e651b80",
   "metadata": {},
   "source": [
    "Linear regression equation"
   ]
  },
  {
   "cell_type": "markdown",
   "id": "f1df4750-98d9-406b-8944-a13ba682c40e",
   "metadata": {},
   "source": [
    "ŷ = b0 + b1 *Xi\n",
    "\n",
    "ŷ = Estimated(predicted) value\n",
    "\n",
    "b1 = Coefficient \n",
    "\n",
    "b0 = constant (Estimate)\n",
    "\n",
    "Xi = Sample data for Independent variable"
   ]
  },
  {
   "cell_type": "markdown",
   "id": "f33552e1-d55f-4782-a044-af0f85a1a820",
   "metadata": {},
   "source": [
    "As many other statistical techiniques, regression models help us make predictions about the population based on sample data"
   ]
  },
  {
   "cell_type": "markdown",
   "id": "7ab71bd4-321e-40d2-9fce-15eb2cbb1a7d",
   "metadata": {},
   "source": [
    "#### Geometrical representation of linear regression"
   ]
  },
  {
   "cell_type": "markdown",
   "id": "9ab7c1da-8618-4da1-93d0-3d1137d95d07",
   "metadata": {},
   "source": [
    "ŷ1 = b0 + b1Xi"
   ]
  },
  {
   "cell_type": "markdown",
   "id": "382d7df4-a485-41f8-9392-d5ca13d3e492",
   "metadata": {},
   "source": [
    "### Correlation  vs Regression"
   ]
  },
  {
   "cell_type": "markdown",
   "id": "aa39a491-c39d-4d39-b1f9-41bcee1ea8df",
   "metadata": {},
   "source": [
    "Relationship between correlation analysis and Regression analysis.\n",
    "\n",
    "\n",
    "There is a single expression that sums it up nicely,\"Correlation does not imply causation\"\n",
    "\n",
    "\n",
    "   \n",
    "Correlation:                        \n",
    "\n",
    ">1.Relationship:\n",
    "Correlation measures the degree of relationship between  two varibles.               \n",
    "                        \n",
    "                             \n",
    ">2. Movement together:       \n",
    "Correlation does not          \n",
    "capture causality but the      \n",
    "degree of inter relation        \n",
    "between the two variable.\n",
    "\n",
    ">3. A property of                  \n",
    " correlation is that the          \n",
    " correlation between  x,y is same as y,x             \n",
    " p(x,y) = P(y,x).This you          \n",
    " can easily see from the          \n",
    " formula which is symmetrical.   \n",
    "                                  \n",
    "                                  \n",
    "                                  \n",
    " >4. Its graphical representation has single point .                 \n"
   ]
  },
  {
   "cell_type": "markdown",
   "id": "9ed3fcc0-43b0-4521-82d1-a7549ce0f626",
   "metadata": {},
   "source": [
    "Regression analysis                         \n",
    "\n",
    ">1. Relationship:\n",
    " Regression measures how one variable affects\n",
    " another or what changes it causes to  the other.\n",
    "                            \n",
    "                             \n",
    ">2. Regression is based on \n",
    " causality.It shows no degree of connection\n",
    " but cause and effect.\n",
    "\n",
    "\n",
    ">3. Regression of y on x and x on y yeilds different results ,for example predicting income based on education  makes sence but the opposite does not.\n",
    "\n",
    "                                  \n",
    ">4. Graphically ,regression has best steady lines that goes through the data point and minimizes the distance between them.\n",
    " "
   ]
  },
  {
   "cell_type": "markdown",
   "id": "0fe975f4-1582-4b4a-86e3-6fc777d9e731",
   "metadata": {},
   "source": [
    "### Geometrical repreentation of the linear Regression Model."
   ]
  },
  {
   "cell_type": "markdown",
   "id": "561748c3-609f-4fd5-b98d-df67127e1250",
   "metadata": {},
   "source": [
    "Linear regression model .Geometrical representation"
   ]
  },
  {
   "cell_type": "markdown",
   "id": "cc5f036c-a2fa-4679-824e-8d38c55633eb",
   "metadata": {},
   "source": [
    " ŷ = b0 + b1Xi (linear regression equation)"
   ]
  },
  {
   "cell_type": "markdown",
   "id": "a344d3a7-fa7f-40ab-829f-3dd0d6998993",
   "metadata": {},
   "source": [
    "You have probably heard about the regression line,when we plot the data points on an x,y plane , the regression line is the best fitting line through the data points."
   ]
  },
  {
   "cell_type": "markdown",
   "id": "2000b1e9-b3c9-4689-b548-59fd6722914b",
   "metadata": {},
   "source": [
    "For example ,we plot the lines of a graph based on the regression equation. the points scattered in the graph are the observwed values (x)\n",
    "\n",
    "b0 as we said earlier is a constant and it is the intersect of the regression line with the y-axis.\n",
    "\n",
    "b1 is the slope of the regression line, it shows how much y changes for each unit change of x.\n",
    "\n",
    "The distance between the observed values and the regression line is the estimator of the error term \"absolom\". Its point estimate is called \"Residual\"\n",
    "\n",
    "Now if you draw a pepedincular from an observed point to the regression line, the intercept between that pepedincular and the regression line is a point to a y value equal to a yhat.\n",
    "\n",
    "as we said earlie, given an x, yhat is the value predicted by the regression line.\n",
    "\n"
   ]
  },
  {
   "cell_type": "code",
   "execution_count": null,
   "id": "3a1396a2-7e93-417a-bd5a-b398280eba56",
   "metadata": {},
   "outputs": [],
   "source": [
    "Letter\tUppercase\tLowercase\n",
    "Alpha\tΑ\tα\n",
    "Beta\tΒ\tβ\n",
    "Gamma\tΓ\tγ\n",
    "Delta\tΔ\tδ\n",
    "20 more rows"
   ]
  },
  {
   "cell_type": "markdown",
   "id": "c38f1802-4d19-4530-86fc-676bf804f947",
   "metadata": {},
   "source": [
    "OLS assumptions\n",
    "Y=β0\n",
    "+β1X1\n",
    "+…+βkXk+ε 𝜎𝑋𝜀 = 0 : ∀ 𝑥, 𝜀 𝜀 ~ 𝑁(0, 𝜎\n",
    "2\n",
    ") 𝜎𝜀𝑖\n",
    "𝜀𝑗\n",
    "= 0 : ∀ 𝑖 ≠ 𝑗\n",
    "Linearity No endogeneity Normality and\n",
    "homoscedasticity\n",
    "No autocorrelation No multicollinearity\n",
    "𝜌𝑥𝑖\n",
    "𝑥𝑗\n",
    "≉ 1 : ∀ 𝑖,𝑗; 𝑖 ≠ 𝑗\n",
    "The specified model\n",
    "must represent a linear\n",
    "relationship\n",
    "The independent\n",
    "variables shouldn’t be\n",
    "correlated with the\n",
    "error term.\n",
    "The variance of the\n",
    "errors should be\n",
    "consistent across\n",
    "observations.\n",
    "No identifiable\n",
    "relationship should exist\n",
    "between the values of\n",
    "the error term.\n",
    "No predictor variable\n",
    "should be perfectly (or\n",
    "almost perfectly) explained\n",
    "by the other predictors.\n",
    "OLS (ordinary least squares) is one of the most common methods for estimating the linear regression equation. However,\n",
    "its simplicity implies that it cannot be always used. Therefore, all OLS regression assumptions should be met before we can\n",
    "rely on this method of estimation."
   ]
  },
  {
   "cell_type": "markdown",
   "id": "6b0fd57a-96aa-4d08-aae5-c3e7a1c2130b",
   "metadata": {},
   "source": [
    "#### Other methods for finding the regression line"
   ]
  },
  {
   "cell_type": "markdown",
   "id": "a235710d-1df5-4e30-9f97-8fed9fb60a09",
   "metadata": {},
   "source": [
    "Generalized least squares (GLS)\n",
    "\n",
    "Maximum likelihood estimation (MLE)\n",
    "\n",
    "Bayesian regression\n",
    "\n",
    "Kernel regression\n",
    "\n",
    "Gaussian progress regression\n",
    "\n",
    "OLS (ordinary least squares) is just the beginning.\n",
    "\n",
    "OLS is the simplest, although often sufficient method to estimate the\n",
    "regression line. \n",
    "\n",
    "In fact, there are more complex methods that are more appropriate for certain datasets and problems."
   ]
  },
  {
   "cell_type": "markdown",
   "id": "3985112f-a78b-4e14-8d3b-564c4260cbe6",
   "metadata": {},
   "source": [
    "### First regression in Python- Datascience"
   ]
  },
  {
   "cell_type": "markdown",
   "id": "6c9b4b7b-9485-4616-ac10-85a06faf0aa3",
   "metadata": {},
   "source": [
    "#### Simple linear Regression"
   ]
  },
  {
   "cell_type": "markdown",
   "id": "1c582e65-9787-4120-8fb1-ef908dc2c5cf",
   "metadata": {},
   "source": [
    "##### import the relevant libraries"
   ]
  },
  {
   "cell_type": "code",
   "execution_count": null,
   "id": "6a51c167-de89-4ec7-8c0f-84ef9f594ac6",
   "metadata": {},
   "outputs": [],
   "source": [
    "import numpy as np\n",
    "import pandas as pd\n",
    "import matplotlib.pyplot as plt\n",
    "import statsmodels.api as sm # used for running regressions"
   ]
  },
  {
   "cell_type": "markdown",
   "id": "bf1098cd-6ce7-4598-880a-df48cf75a6e9",
   "metadata": {},
   "source": [
    "load the data"
   ]
  },
  {
   "cell_type": "code",
   "execution_count": null,
   "id": "85c9d6dc-605c-4f0d-9bd2-798d27644a15",
   "metadata": {},
   "outputs": [],
   "source": [
    "data = pd.read_csv(\"C:\\\\Users\\\\user\\\\Downloads\\\\1.01.+Simple+linear+regression.csv\")"
   ]
  },
  {
   "cell_type": "code",
   "execution_count": null,
   "id": "44225de6-af89-4233-b9cf-9251aba9cfad",
   "metadata": {},
   "outputs": [
    {
     "data": {
      "text/html": [
       "<div>\n",
       "<style scoped>\n",
       "    .dataframe tbody tr th:only-of-type {\n",
       "        vertical-align: middle;\n",
       "    }\n",
       "\n",
       "    .dataframe tbody tr th {\n",
       "        vertical-align: top;\n",
       "    }\n",
       "\n",
       "    .dataframe thead th {\n",
       "        text-align: right;\n",
       "    }\n",
       "</style>\n",
       "<table border=\"1\" class=\"dataframe\">\n",
       "  <thead>\n",
       "    <tr style=\"text-align: right;\">\n",
       "      <th></th>\n",
       "      <th>SAT</th>\n",
       "      <th>GPA</th>\n",
       "    </tr>\n",
       "  </thead>\n",
       "  <tbody>\n",
       "    <tr>\n",
       "      <th>0</th>\n",
       "      <td>1714</td>\n",
       "      <td>2.40</td>\n",
       "    </tr>\n",
       "    <tr>\n",
       "      <th>1</th>\n",
       "      <td>1664</td>\n",
       "      <td>2.52</td>\n",
       "    </tr>\n",
       "    <tr>\n",
       "      <th>2</th>\n",
       "      <td>1760</td>\n",
       "      <td>2.54</td>\n",
       "    </tr>\n",
       "    <tr>\n",
       "      <th>3</th>\n",
       "      <td>1685</td>\n",
       "      <td>2.74</td>\n",
       "    </tr>\n",
       "    <tr>\n",
       "      <th>4</th>\n",
       "      <td>1693</td>\n",
       "      <td>2.83</td>\n",
       "    </tr>\n",
       "    <tr>\n",
       "      <th>...</th>\n",
       "      <td>...</td>\n",
       "      <td>...</td>\n",
       "    </tr>\n",
       "    <tr>\n",
       "      <th>79</th>\n",
       "      <td>1936</td>\n",
       "      <td>3.71</td>\n",
       "    </tr>\n",
       "    <tr>\n",
       "      <th>80</th>\n",
       "      <td>1810</td>\n",
       "      <td>3.71</td>\n",
       "    </tr>\n",
       "    <tr>\n",
       "      <th>81</th>\n",
       "      <td>1987</td>\n",
       "      <td>3.73</td>\n",
       "    </tr>\n",
       "    <tr>\n",
       "      <th>82</th>\n",
       "      <td>1962</td>\n",
       "      <td>3.76</td>\n",
       "    </tr>\n",
       "    <tr>\n",
       "      <th>83</th>\n",
       "      <td>2050</td>\n",
       "      <td>3.81</td>\n",
       "    </tr>\n",
       "  </tbody>\n",
       "</table>\n",
       "<p>84 rows × 2 columns</p>\n",
       "</div>"
      ],
      "text/plain": [
       "     SAT   GPA\n",
       "0   1714  2.40\n",
       "1   1664  2.52\n",
       "2   1760  2.54\n",
       "3   1685  2.74\n",
       "4   1693  2.83\n",
       "..   ...   ...\n",
       "79  1936  3.71\n",
       "80  1810  3.71\n",
       "81  1987  3.73\n",
       "82  1962  3.76\n",
       "83  2050  3.81\n",
       "\n",
       "[84 rows x 2 columns]"
      ]
     },
     "execution_count": 4,
     "metadata": {},
     "output_type": "execute_result"
    }
   ],
   "source": [
    "data"
   ]
  },
  {
   "cell_type": "markdown",
   "id": "59aeb0a2-bf6f-4e08-ae29-d949254d6fd9",
   "metadata": {},
   "source": [
    "Create your first regression"
   ]
  },
  {
   "cell_type": "code",
   "execution_count": null,
   "id": "58624b0e-84b5-4c4a-bf6b-4a3dabe70c8d",
   "metadata": {},
   "outputs": [
    {
     "data": {
      "text/html": [
       "<div>\n",
       "<style scoped>\n",
       "    .dataframe tbody tr th:only-of-type {\n",
       "        vertical-align: middle;\n",
       "    }\n",
       "\n",
       "    .dataframe tbody tr th {\n",
       "        vertical-align: top;\n",
       "    }\n",
       "\n",
       "    .dataframe thead th {\n",
       "        text-align: right;\n",
       "    }\n",
       "</style>\n",
       "<table border=\"1\" class=\"dataframe\">\n",
       "  <thead>\n",
       "    <tr style=\"text-align: right;\">\n",
       "      <th></th>\n",
       "      <th>SAT</th>\n",
       "      <th>GPA</th>\n",
       "    </tr>\n",
       "  </thead>\n",
       "  <tbody>\n",
       "    <tr>\n",
       "      <th>count</th>\n",
       "      <td>84.000000</td>\n",
       "      <td>84.000000</td>\n",
       "    </tr>\n",
       "    <tr>\n",
       "      <th>mean</th>\n",
       "      <td>1845.273810</td>\n",
       "      <td>3.330238</td>\n",
       "    </tr>\n",
       "    <tr>\n",
       "      <th>std</th>\n",
       "      <td>104.530661</td>\n",
       "      <td>0.271617</td>\n",
       "    </tr>\n",
       "    <tr>\n",
       "      <th>min</th>\n",
       "      <td>1634.000000</td>\n",
       "      <td>2.400000</td>\n",
       "    </tr>\n",
       "    <tr>\n",
       "      <th>25%</th>\n",
       "      <td>1772.000000</td>\n",
       "      <td>3.190000</td>\n",
       "    </tr>\n",
       "    <tr>\n",
       "      <th>50%</th>\n",
       "      <td>1846.000000</td>\n",
       "      <td>3.380000</td>\n",
       "    </tr>\n",
       "    <tr>\n",
       "      <th>75%</th>\n",
       "      <td>1934.000000</td>\n",
       "      <td>3.502500</td>\n",
       "    </tr>\n",
       "    <tr>\n",
       "      <th>max</th>\n",
       "      <td>2050.000000</td>\n",
       "      <td>3.810000</td>\n",
       "    </tr>\n",
       "  </tbody>\n",
       "</table>\n",
       "</div>"
      ],
      "text/plain": [
       "               SAT        GPA\n",
       "count    84.000000  84.000000\n",
       "mean   1845.273810   3.330238\n",
       "std     104.530661   0.271617\n",
       "min    1634.000000   2.400000\n",
       "25%    1772.000000   3.190000\n",
       "50%    1846.000000   3.380000\n",
       "75%    1934.000000   3.502500\n",
       "max    2050.000000   3.810000"
      ]
     },
     "execution_count": 5,
     "metadata": {},
     "output_type": "execute_result"
    }
   ],
   "source": [
    "data.describe() "
   ]
  },
  {
   "cell_type": "markdown",
   "id": "54c88df2-9b02-4305-9454-77d798d57e1b",
   "metadata": {},
   "source": [
    "data.describe() :This is a pandas method used to get the most useful Statistics for each column in the data frame.\n",
    "\n",
    "We have the number of observations, mean, std and so on."
   ]
  },
  {
   "cell_type": "markdown",
   "id": "6a4ec18c-5483-4c85-ae9e-76903163f5d4",
   "metadata": {},
   "source": [
    "Lets explore the problem\n",
    "\n",
    "We have a sample of 84 students who have studied in college, their total SAT scores includes critical reading ,mathematics and writing.\n",
    "\n",
    "While the GPA is the grade point average they had at graduation from university.\n",
    "\n",
    "We will create a linear regression which predicts GPA of a student based on their SAT score obtained."
   ]
  },
  {
   "cell_type": "markdown",
   "id": "d2b2554d-e7be-47fd-86ab-d33ba74d90c3",
   "metadata": {},
   "source": [
    "Steps \n",
    "\n",
    "sit the Sat\n",
    "\n",
    "Get a Score \n",
    "\n",
    "Apply for college\n",
    "\n",
    "Attend college next 4 years and graduate receiving many grades forming your GPA."
   ]
  },
  {
   "cell_type": "markdown",
   "id": "62a71c8d-0678-40b6-ba79-ba7df9c1de6f",
   "metadata": {},
   "source": [
    "Each time you create a regression ,it should be meaningful.\n",
    "\n",
    "> Why would i predict GPA with SAT ?\n",
    "\n",
    "1. The SAT is considered one of the best estimators of intellectual capacity and capability.\n",
    "On average, if you did well on your SAT, You will do well in college and at the work place.\n",
    "\n",
    "2. Almost all college across the USA are using the SAT as a proxy for admission.\n",
    "\n",
    "3. The SAT stood the test of time and established itsel as the leading exam for college admission.\n",
    "\n",
    "It is asfe to say that our regression makes sense."
   ]
  },
  {
   "cell_type": "markdown",
   "id": "6ef76564-cae3-4e16-9a94-cddc6203be8f",
   "metadata": {},
   "source": [
    "Create your first regression"
   ]
  },
  {
   "cell_type": "markdown",
   "id": "4452ac9c-b51b-4b33-a691-91b3025161f6",
   "metadata": {},
   "source": [
    "Define the dependent and independent variables"
   ]
  },
  {
   "cell_type": "markdown",
   "id": "26764efa-feb1-4b6a-add0-fb10e26b1498",
   "metadata": {},
   "source": [
    "The equation is ŷ = b0 + b1X1"
   ]
  },
  {
   "cell_type": "markdown",
   "id": "b74cca09-21b1-4082-b7e3-240178ad4710",
   "metadata": {},
   "source": [
    "Our dependent variable is GPA, hence , we will create a variable called Y which will contain GPA.\n",
    "\n",
    "Just a reminder, the pandas syntax is quite simple, all you have to do is to write the name of the data frame, in theis case data and then add insqare bracket, the relevant column namecolumn name in this case GPA"
   ]
  },
  {
   "cell_type": "code",
   "execution_count": null,
   "id": "ceb7a6ba-ff8a-4ef8-8071-ffe463c5f7b4",
   "metadata": {},
   "outputs": [],
   "source": [
    "y = data['GPA']"
   ]
  },
  {
   "cell_type": "markdown",
   "id": "f51fbdda-2108-4f74-8c1a-155d071c8401",
   "metadata": {},
   "source": [
    "Similarly ,our independent variable is SAT and we will load it in a variable x1 = data in bracket SAT"
   ]
  },
  {
   "cell_type": "code",
   "execution_count": null,
   "id": "e7b06339-abcb-4d30-8c8c-ba37bf6a6b35",
   "metadata": {},
   "outputs": [],
   "source": [
    "x1 = data['SAT']"
   ]
  },
  {
   "cell_type": "markdown",
   "id": "52a0f4b0-635d-4f9a-ba21-555bfbc49a27",
   "metadata": {},
   "source": [
    "Explore the data"
   ]
  },
  {
   "cell_type": "markdown",
   "id": "5496156d-ab32-446e-8353-ee17fc0eec0c",
   "metadata": {},
   "source": [
    "It is always good to plot your data in other to understand it and see if there is a relationship to be found.\n",
    "\n",
    "We will use come conventional matplotlib code"
   ]
  },
  {
   "cell_type": "code",
   "execution_count": null,
   "id": "16ff7b47-8d77-4d4e-b7a2-7026d8d1f969",
   "metadata": {},
   "outputs": [
    {
     "data": {
      "image/png": "[encoded data removed]",
      "text/plain": [
       "<Figure size 432x288 with 1 Axes>"
      ]
     },
     "metadata": {
      "needs_background": "light"
     },
     "output_type": "display_data"
    }
   ],
   "source": [
    "plt.scatter(x1,y)\n",
    "plt.xlabel('SAT',fontsize=20)\n",
    "plt.ylabel('GPA',fontsize=20)\n",
    "plt.show()"
   ]
  },
  {
   "cell_type": "markdown",
   "id": "7bea9399-0586-4a6d-8951-e8d914c83198",
   "metadata": {},
   "source": [
    "Each point on the graph represents a different student, for example we have a student that scored 1900 on Sat and graduated with 3.4 GPA.\n",
    "\n",
    "Observing all data point, we can see that there is a strong relationship between SAT and GPA.\n",
    "\n",
    "In general, the higher the SAT of a student , the higher the GPA."
   ]
  },
  {
   "cell_type": "markdown",
   "id": "78968fc0-01cd-4864-9ded-916d41831121",
   "metadata": {},
   "source": [
    "Regression itself"
   ]
  },
  {
   "cell_type": "markdown",
   "id": "d0153ace-3212-4080-b1e9-3bb2f3e09eea",
   "metadata": {},
   "source": [
    "We need to create a new variable, lets call it x,we have our x1 but we dont have an x0.\n",
    "\n",
    "Infact, in the regression equation there is no explicit x0, the co efficient b0 is alone, and this can be represented as b0 * 1.\n",
    "\n",
    "So if there was an x0, it will always be 1.\n",
    "It is really practical for computational purposes to incorperate this notion into the equation.\n",
    "\n",
    "And that is how we estimate the intercept b0\n",
    "\n",
    "In terms of code, statsmodels uses the method add constant"
   ]
  },
  {
   "cell_type": "markdown",
   "id": "d7131427-468c-4ea2-911c-5389b361870d",
   "metadata": {},
   "source": [
    "Lets declare a new variable.\n",
    "\n",
    "Lets also create a new variable named result which will contain the output of the ordinary least square regression or (ols)\n",
    "\n",
    "As an arguement we will add the variable y, and the newly defined variable x,and at the end we will need the fit method, which is a method that will apply a specific estimation technique to obtain a fit of the model.\n",
    "\n",
    "That itself is enough to perform the regression.\n",
    "\n",
    "In an case, result.summary will display the regression result and organise them into 3 tables."
   ]
  },
  {
   "cell_type": "code",
   "execution_count": null,
   "id": "a22e5456-2bbe-4e10-9d93-b88bdc711a14",
   "metadata": {},
   "outputs": [],
   "source": [
    "# ŷ= b0 + b1X1"
   ]
  },
  {
   "cell_type": "code",
   "execution_count": null,
   "id": "1e264d90-280a-493d-908f-576b855e0b7d",
   "metadata": {},
   "outputs": [
    {
     "name": "stderr",
     "output_type": "stream",
     "text": [
      "C:\\Users\\user\\anaconda3\\lib\\site-packages\\statsmodels\\tsa\\tsatools.py:142: FutureWarning: In a future version of pandas all arguments of concat except for the argument 'objs' will be keyword-only\n",
      "  x = pd.concat(x[::order], 1)\n"
     ]
    },
    {
     "data": {
      "text/html": [
       "<table class=\"simpletable\">\n",
       "<caption>OLS Regression Results</caption>\n",
       "<tr>\n",
       "  <th>Dep. Variable:</th>           <td>GPA</td>       <th>  R-squared:         </th> <td>   0.406</td>\n",
       "</tr>\n",
       "<tr>\n",
       "  <th>Model:</th>                   <td>OLS</td>       <th>  Adj. R-squared:    </th> <td>   0.399</td>\n",
       "</tr>\n",
       "<tr>\n",
       "  <th>Method:</th>             <td>Least Squares</td>  <th>  F-statistic:       </th> <td>   56.05</td>\n",
       "</tr>\n",
       "<tr>\n",
       "  <th>Date:</th>             <td>Wed, 30 Nov 2022</td> <th>  Prob (F-statistic):</th> <td>7.20e-11</td>\n",
       "</tr>\n",
       "<tr>\n",
       "  <th>Time:</th>                 <td>12:34:56</td>     <th>  Log-Likelihood:    </th> <td>  12.672</td>\n",
       "</tr>\n",
       "<tr>\n",
       "  <th>No. Observations:</th>      <td>    84</td>      <th>  AIC:               </th> <td>  -21.34</td>\n",
       "</tr>\n",
       "<tr>\n",
       "  <th>Df Residuals:</th>          <td>    82</td>      <th>  BIC:               </th> <td>  -16.48</td>\n",
       "</tr>\n",
       "<tr>\n",
       "  <th>Df Model:</th>              <td>     1</td>      <th>                     </th>     <td> </td>   \n",
       "</tr>\n",
       "<tr>\n",
       "  <th>Covariance Type:</th>      <td>nonrobust</td>    <th>                     </th>     <td> </td>   \n",
       "</tr>\n",
       "</table>\n",
       "<table class=\"simpletable\">\n",
       "<tr>\n",
       "    <td></td>       <th>coef</th>     <th>std err</th>      <th>t</th>      <th>P>|t|</th>  <th>[0.025</th>    <th>0.975]</th>  \n",
       "</tr>\n",
       "<tr>\n",
       "  <th>const</th> <td>    0.2750</td> <td>    0.409</td> <td>    0.673</td> <td> 0.503</td> <td>   -0.538</td> <td>    1.088</td>\n",
       "</tr>\n",
       "<tr>\n",
       "  <th>SAT</th>   <td>    0.0017</td> <td>    0.000</td> <td>    7.487</td> <td> 0.000</td> <td>    0.001</td> <td>    0.002</td>\n",
       "</tr>\n",
       "</table>\n",
       "<table class=\"simpletable\">\n",
       "<tr>\n",
       "  <th>Omnibus:</th>       <td>12.839</td> <th>  Durbin-Watson:     </th> <td>   0.950</td>\n",
       "</tr>\n",
       "<tr>\n",
       "  <th>Prob(Omnibus):</th> <td> 0.002</td> <th>  Jarque-Bera (JB):  </th> <td>  16.155</td>\n",
       "</tr>\n",
       "<tr>\n",
       "  <th>Skew:</th>          <td>-0.722</td> <th>  Prob(JB):          </th> <td>0.000310</td>\n",
       "</tr>\n",
       "<tr>\n",
       "  <th>Kurtosis:</th>      <td> 4.590</td> <th>  Cond. No.          </th> <td>3.29e+04</td>\n",
       "</tr>\n",
       "</table><br/><br/>Notes:<br/>[1] Standard Errors assume that the covariance matrix of the errors is correctly specified.<br/>[2] The condition number is large, 3.29e+04. This might indicate that there are<br/>strong multicollinearity or other numerical problems."
      ],
      "text/plain": [
       "<class 'statsmodels.iolib.summary.Summary'>\n",
       "\"\"\"\n",
       "                            OLS Regression Results                            \n",
       "==============================================================================\n",
       "Dep. Variable:                    GPA   R-squared:                       0.406\n",
       "Model:                            OLS   Adj. R-squared:                  0.399\n",
       "Method:                 Least Squares   F-statistic:                     56.05\n",
       "Date:                Wed, 30 Nov 2022   Prob (F-statistic):           7.20e-11\n",
       "Time:                        12:34:56   Log-Likelihood:                 12.672\n",
       "No. Observations:                  84   AIC:                            -21.34\n",
       "Df Residuals:                      82   BIC:                            -16.48\n",
       "Df Model:                           1                                         \n",
       "Covariance Type:            nonrobust                                         \n",
       "==============================================================================\n",
       "                 coef    std err          t      P>|t|      [0.025      0.975]\n",
       "------------------------------------------------------------------------------\n",
       "const          0.2750      0.409      0.673      0.503      -0.538       1.088\n",
       "SAT            0.0017      0.000      7.487      0.000       0.001       0.002\n",
       "==============================================================================\n",
       "Omnibus:                       12.839   Durbin-Watson:                   0.950\n",
       "Prob(Omnibus):                  0.002   Jarque-Bera (JB):               16.155\n",
       "Skew:                          -0.722   Prob(JB):                     0.000310\n",
       "Kurtosis:                       4.590   Cond. No.                     3.29e+04\n",
       "==============================================================================\n",
       "\n",
       "Notes:\n",
       "[1] Standard Errors assume that the covariance matrix of the errors is correctly specified.\n",
       "[2] The condition number is large, 3.29e+04. This might indicate that there are\n",
       "strong multicollinearity or other numerical problems.\n",
       "\"\"\""
      ]
     },
     "execution_count": 14,
     "metadata": {},
     "output_type": "execute_result"
    }
   ],
   "source": [
    "x = sm.add_constant(x1)\n",
    "results = sm.OLS(y,x).fit()\n",
    "results.summary()"
   ]
  },
  {
   "cell_type": "markdown",
   "id": "271d9fd5-f9ad-4639-8752-1592af537ccd",
   "metadata": {},
   "source": [
    "Lets plot he regression line on thesame scattere plot"
   ]
  },
  {
   "cell_type": "code",
   "execution_count": null,
   "id": "b3947fa0-67d4-408e-8967-8a98cbc7e541",
   "metadata": {},
   "outputs": [
    {
     "data": {
      "image/png": "[encoded data removed]",
      "text/plain": [
       "<Figure size 432x288 with 1 Axes>"
      ]
     },
     "metadata": {
      "needs_background": "light"
     },
     "output_type": "display_data"
    }
   ],
   "source": [
    "plt.scatter(x1,y)\n",
    "yhat = 0.0017*x1 + 0.275\n",
    "fig = plt.plot(x1,yhat, lw=4, c='orange', label ='regression line')\n",
    "plt.xlabel('SAT', fontsize = 20)\n",
    "plt.ylabel('GPA', fontsize = 20)\n",
    "plt.show()"
   ]
  },
  {
   "cell_type": "markdown",
   "id": "c5a5a15d-5bd8-4d56-86e2-1e6ea68a5c83",
   "metadata": {},
   "source": [
    "Above is the best splitting line or the line which is closest to all observations simultaneously."
   ]
  },
  {
   "cell_type": "markdown",
   "id": "551d6284-ab48-46ee-803a-013cc70c3d14",
   "metadata": {},
   "source": [
    "Exercise"
   ]
  },
  {
   "cell_type": "markdown",
   "id": "0432a31b-a58a-437a-b233-9b7b813fb4b7",
   "metadata": {},
   "source": [
    "Simple linear regression exercise.ipynb"
   ]
  },
  {
   "cell_type": "code",
   "execution_count": 16,
   "id": "1b0eb3f3-006d-437f-8cf8-5786ad5166b5",
   "metadata": {},
   "outputs": [],
   "source": [
    "estate = pd.read_csv(\"C:\\\\Users\\\\user\\\\Downloads\\\\real_estate_price_size.csv\")"
   ]
  },
  {
   "cell_type": "code",
   "execution_count": 17,
   "id": "a0e8a818-7d35-4cad-a533-628a5e82d4a5",
   "metadata": {},
   "outputs": [
    {
     "data": {
      "text/html": [
       "<div>\n",
       "<style scoped>\n",
       "    .dataframe tbody tr th:only-of-type {\n",
       "        vertical-align: middle;\n",
       "    }\n",
       "\n",
       "    .dataframe tbody tr th {\n",
       "        vertical-align: top;\n",
       "    }\n",
       "\n",
       "    .dataframe thead th {\n",
       "        text-align: right;\n",
       "    }\n",
       "</style>\n",
       "<table border=\"1\" class=\"dataframe\">\n",
       "  <thead>\n",
       "    <tr style=\"text-align: right;\">\n",
       "      <th></th>\n",
       "      <th>price</th>\n",
       "      <th>size</th>\n",
       "    </tr>\n",
       "  </thead>\n",
       "  <tbody>\n",
       "    <tr>\n",
       "      <th>0</th>\n",
       "      <td>234314.144</td>\n",
       "      <td>643.09</td>\n",
       "    </tr>\n",
       "    <tr>\n",
       "      <th>1</th>\n",
       "      <td>228581.528</td>\n",
       "      <td>656.22</td>\n",
       "    </tr>\n",
       "    <tr>\n",
       "      <th>2</th>\n",
       "      <td>281626.336</td>\n",
       "      <td>487.29</td>\n",
       "    </tr>\n",
       "    <tr>\n",
       "      <th>3</th>\n",
       "      <td>401255.608</td>\n",
       "      <td>1504.75</td>\n",
       "    </tr>\n",
       "    <tr>\n",
       "      <th>4</th>\n",
       "      <td>458674.256</td>\n",
       "      <td>1275.46</td>\n",
       "    </tr>\n",
       "    <tr>\n",
       "      <th>...</th>\n",
       "      <td>...</td>\n",
       "      <td>...</td>\n",
       "    </tr>\n",
       "    <tr>\n",
       "      <th>95</th>\n",
       "      <td>252460.400</td>\n",
       "      <td>549.80</td>\n",
       "    </tr>\n",
       "    <tr>\n",
       "      <th>96</th>\n",
       "      <td>310522.592</td>\n",
       "      <td>1037.44</td>\n",
       "    </tr>\n",
       "    <tr>\n",
       "      <th>97</th>\n",
       "      <td>383635.568</td>\n",
       "      <td>1504.75</td>\n",
       "    </tr>\n",
       "    <tr>\n",
       "      <th>98</th>\n",
       "      <td>225145.248</td>\n",
       "      <td>648.29</td>\n",
       "    </tr>\n",
       "    <tr>\n",
       "      <th>99</th>\n",
       "      <td>274922.856</td>\n",
       "      <td>705.29</td>\n",
       "    </tr>\n",
       "  </tbody>\n",
       "</table>\n",
       "<p>100 rows × 2 columns</p>\n",
       "</div>"
      ],
      "text/plain": [
       "         price     size\n",
       "0   234314.144   643.09\n",
       "1   228581.528   656.22\n",
       "2   281626.336   487.29\n",
       "3   401255.608  1504.75\n",
       "4   458674.256  1275.46\n",
       "..         ...      ...\n",
       "95  252460.400   549.80\n",
       "96  310522.592  1037.44\n",
       "97  383635.568  1504.75\n",
       "98  225145.248   648.29\n",
       "99  274922.856   705.29\n",
       "\n",
       "[100 rows x 2 columns]"
      ]
     },
     "execution_count": 17,
     "metadata": {},
     "output_type": "execute_result"
    }
   ],
   "source": [
    "estate"
   ]
  },
  {
   "cell_type": "markdown",
   "id": "a000f6ce-3e89-479e-a5d2-73c4e2cb5c30",
   "metadata": {},
   "source": [
    "### using Seaborn for graphs"
   ]
  },
  {
   "cell_type": "markdown",
   "id": "07ff792b-b5c4-4272-9295-f9c901e134b7",
   "metadata": {},
   "source": [
    "Saeborn is a pakage built on top of matplotlib however it is considerable prettier if we can use that word for a graph.\n",
    "\n",
    "In the past, simply importing seaborn will automatically override matplotlib, but after an update in 2017 this is no longer the case."
   ]
  },
  {
   "cell_type": "markdown",
   "id": "c41068be-ee43-4fee-ac2b-81ee70598456",
   "metadata": {},
   "source": [
    "In  order to take advantage of seaborn beauty, we need to import it."
   ]
  },
  {
   "cell_type": "code",
   "execution_count": 1,
   "id": "19ea08d6-5fa0-4944-9b61-28c0c52fcc7f",
   "metadata": {},
   "outputs": [],
   "source": [
    "import numpy as np\n",
    "import pandas as pd\n",
    "import matplotlib.pyplot as plt\n",
    "import statsmodels.api as sm # used for running regressions\n",
    "import seaborn as sns\n",
    "sns.set() # This method over rides the sytle and the graphics of all matplotlib graphs"
   ]
  },
  {
   "cell_type": "code",
   "execution_count": 4,
   "id": "a738811b-0cc7-4206-a792-04fd22f2fa45",
   "metadata": {},
   "outputs": [],
   "source": [
    "data = pd.read_csv(\"C:\\\\Users\\\\user\\\\Downloads\\\\1.01.+Simple+linear+regression.csv\")"
   ]
  },
  {
   "cell_type": "code",
   "execution_count": 5,
   "id": "6ab0c5c7-5fee-4711-8610-ceb5791e2dcf",
   "metadata": {},
   "outputs": [
    {
     "data": {
      "text/html": [
       "<div>\n",
       "<style scoped>\n",
       "    .dataframe tbody tr th:only-of-type {\n",
       "        vertical-align: middle;\n",
       "    }\n",
       "\n",
       "    .dataframe tbody tr th {\n",
       "        vertical-align: top;\n",
       "    }\n",
       "\n",
       "    .dataframe thead th {\n",
       "        text-align: right;\n",
       "    }\n",
       "</style>\n",
       "<table border=\"1\" class=\"dataframe\">\n",
       "  <thead>\n",
       "    <tr style=\"text-align: right;\">\n",
       "      <th></th>\n",
       "      <th>SAT</th>\n",
       "      <th>GPA</th>\n",
       "    </tr>\n",
       "  </thead>\n",
       "  <tbody>\n",
       "    <tr>\n",
       "      <th>0</th>\n",
       "      <td>1714</td>\n",
       "      <td>2.40</td>\n",
       "    </tr>\n",
       "    <tr>\n",
       "      <th>1</th>\n",
       "      <td>1664</td>\n",
       "      <td>2.52</td>\n",
       "    </tr>\n",
       "    <tr>\n",
       "      <th>2</th>\n",
       "      <td>1760</td>\n",
       "      <td>2.54</td>\n",
       "    </tr>\n",
       "    <tr>\n",
       "      <th>3</th>\n",
       "      <td>1685</td>\n",
       "      <td>2.74</td>\n",
       "    </tr>\n",
       "    <tr>\n",
       "      <th>4</th>\n",
       "      <td>1693</td>\n",
       "      <td>2.83</td>\n",
       "    </tr>\n",
       "    <tr>\n",
       "      <th>...</th>\n",
       "      <td>...</td>\n",
       "      <td>...</td>\n",
       "    </tr>\n",
       "    <tr>\n",
       "      <th>79</th>\n",
       "      <td>1936</td>\n",
       "      <td>3.71</td>\n",
       "    </tr>\n",
       "    <tr>\n",
       "      <th>80</th>\n",
       "      <td>1810</td>\n",
       "      <td>3.71</td>\n",
       "    </tr>\n",
       "    <tr>\n",
       "      <th>81</th>\n",
       "      <td>1987</td>\n",
       "      <td>3.73</td>\n",
       "    </tr>\n",
       "    <tr>\n",
       "      <th>82</th>\n",
       "      <td>1962</td>\n",
       "      <td>3.76</td>\n",
       "    </tr>\n",
       "    <tr>\n",
       "      <th>83</th>\n",
       "      <td>2050</td>\n",
       "      <td>3.81</td>\n",
       "    </tr>\n",
       "  </tbody>\n",
       "</table>\n",
       "<p>84 rows × 2 columns</p>\n",
       "</div>"
      ],
      "text/plain": [
       "     SAT   GPA\n",
       "0   1714  2.40\n",
       "1   1664  2.52\n",
       "2   1760  2.54\n",
       "3   1685  2.74\n",
       "4   1693  2.83\n",
       "..   ...   ...\n",
       "79  1936  3.71\n",
       "80  1810  3.71\n",
       "81  1987  3.73\n",
       "82  1962  3.76\n",
       "83  2050  3.81\n",
       "\n",
       "[84 rows x 2 columns]"
      ]
     },
     "execution_count": 5,
     "metadata": {},
     "output_type": "execute_result"
    }
   ],
   "source": [
    "data"
   ]
  },
  {
   "cell_type": "code",
   "execution_count": 6,
   "id": "81efdd63-7e85-4b1a-ac2e-82b34b4b702a",
   "metadata": {},
   "outputs": [],
   "source": [
    "y = data['GPA']\n",
    "x1 = data['SAT']"
   ]
  },
  {
   "cell_type": "code",
   "execution_count": 7,
   "id": "49c63375-f37c-443a-8d95-ba9d977ed8b6",
   "metadata": {},
   "outputs": [
    {
     "data": {
      "image/png": "[encoded data removed]",
      "text/plain": [
       "<Figure size 432x288 with 1 Axes>"
      ]
     },
     "metadata": {},
     "output_type": "display_data"
    }
   ],
   "source": [
    "plt.scatter(x1,y)\n",
    "plt.xlabel('SAT',fontsize=20)\n",
    "plt.ylabel('GPA',fontsize=20)\n",
    "plt.show()"
   ]
  },
  {
   "cell_type": "markdown",
   "id": "f7c0d06e-0d54-4b16-8305-d3b4d2329af2",
   "metadata": {},
   "source": [
    " ŷ = b0 + b1Xi"
   ]
  },
  {
   "cell_type": "code",
   "execution_count": 8,
   "id": "07db77ee-875c-4cff-85de-c7c3eabbc326",
   "metadata": {},
   "outputs": [
    {
     "name": "stderr",
     "output_type": "stream",
     "text": [
      "C:\\Users\\user\\anaconda3\\lib\\site-packages\\statsmodels\\tsa\\tsatools.py:142: FutureWarning: In a future version of pandas all arguments of concat except for the argument 'objs' will be keyword-only\n",
      "  x = pd.concat(x[::order], 1)\n"
     ]
    },
    {
     "data": {
      "text/html": [
       "<table class=\"simpletable\">\n",
       "<caption>OLS Regression Results</caption>\n",
       "<tr>\n",
       "  <th>Dep. Variable:</th>           <td>GPA</td>       <th>  R-squared:         </th> <td>   0.406</td>\n",
       "</tr>\n",
       "<tr>\n",
       "  <th>Model:</th>                   <td>OLS</td>       <th>  Adj. R-squared:    </th> <td>   0.399</td>\n",
       "</tr>\n",
       "<tr>\n",
       "  <th>Method:</th>             <td>Least Squares</td>  <th>  F-statistic:       </th> <td>   56.05</td>\n",
       "</tr>\n",
       "<tr>\n",
       "  <th>Date:</th>             <td>Thu, 01 Dec 2022</td> <th>  Prob (F-statistic):</th> <td>7.20e-11</td>\n",
       "</tr>\n",
       "<tr>\n",
       "  <th>Time:</th>                 <td>02:58:30</td>     <th>  Log-Likelihood:    </th> <td>  12.672</td>\n",
       "</tr>\n",
       "<tr>\n",
       "  <th>No. Observations:</th>      <td>    84</td>      <th>  AIC:               </th> <td>  -21.34</td>\n",
       "</tr>\n",
       "<tr>\n",
       "  <th>Df Residuals:</th>          <td>    82</td>      <th>  BIC:               </th> <td>  -16.48</td>\n",
       "</tr>\n",
       "<tr>\n",
       "  <th>Df Model:</th>              <td>     1</td>      <th>                     </th>     <td> </td>   \n",
       "</tr>\n",
       "<tr>\n",
       "  <th>Covariance Type:</th>      <td>nonrobust</td>    <th>                     </th>     <td> </td>   \n",
       "</tr>\n",
       "</table>\n",
       "<table class=\"simpletable\">\n",
       "<tr>\n",
       "    <td></td>       <th>coef</th>     <th>std err</th>      <th>t</th>      <th>P>|t|</th>  <th>[0.025</th>    <th>0.975]</th>  \n",
       "</tr>\n",
       "<tr>\n",
       "  <th>const</th> <td>    0.2750</td> <td>    0.409</td> <td>    0.673</td> <td> 0.503</td> <td>   -0.538</td> <td>    1.088</td>\n",
       "</tr>\n",
       "<tr>\n",
       "  <th>SAT</th>   <td>    0.0017</td> <td>    0.000</td> <td>    7.487</td> <td> 0.000</td> <td>    0.001</td> <td>    0.002</td>\n",
       "</tr>\n",
       "</table>\n",
       "<table class=\"simpletable\">\n",
       "<tr>\n",
       "  <th>Omnibus:</th>       <td>12.839</td> <th>  Durbin-Watson:     </th> <td>   0.950</td>\n",
       "</tr>\n",
       "<tr>\n",
       "  <th>Prob(Omnibus):</th> <td> 0.002</td> <th>  Jarque-Bera (JB):  </th> <td>  16.155</td>\n",
       "</tr>\n",
       "<tr>\n",
       "  <th>Skew:</th>          <td>-0.722</td> <th>  Prob(JB):          </th> <td>0.000310</td>\n",
       "</tr>\n",
       "<tr>\n",
       "  <th>Kurtosis:</th>      <td> 4.590</td> <th>  Cond. No.          </th> <td>3.29e+04</td>\n",
       "</tr>\n",
       "</table><br/><br/>Notes:<br/>[1] Standard Errors assume that the covariance matrix of the errors is correctly specified.<br/>[2] The condition number is large, 3.29e+04. This might indicate that there are<br/>strong multicollinearity or other numerical problems."
      ],
      "text/plain": [
       "<class 'statsmodels.iolib.summary.Summary'>\n",
       "\"\"\"\n",
       "                            OLS Regression Results                            \n",
       "==============================================================================\n",
       "Dep. Variable:                    GPA   R-squared:                       0.406\n",
       "Model:                            OLS   Adj. R-squared:                  0.399\n",
       "Method:                 Least Squares   F-statistic:                     56.05\n",
       "Date:                Thu, 01 Dec 2022   Prob (F-statistic):           7.20e-11\n",
       "Time:                        02:58:30   Log-Likelihood:                 12.672\n",
       "No. Observations:                  84   AIC:                            -21.34\n",
       "Df Residuals:                      82   BIC:                            -16.48\n",
       "Df Model:                           1                                         \n",
       "Covariance Type:            nonrobust                                         \n",
       "==============================================================================\n",
       "                 coef    std err          t      P>|t|      [0.025      0.975]\n",
       "------------------------------------------------------------------------------\n",
       "const          0.2750      0.409      0.673      0.503      -0.538       1.088\n",
       "SAT            0.0017      0.000      7.487      0.000       0.001       0.002\n",
       "==============================================================================\n",
       "Omnibus:                       12.839   Durbin-Watson:                   0.950\n",
       "Prob(Omnibus):                  0.002   Jarque-Bera (JB):               16.155\n",
       "Skew:                          -0.722   Prob(JB):                     0.000310\n",
       "Kurtosis:                       4.590   Cond. No.                     3.29e+04\n",
       "==============================================================================\n",
       "\n",
       "Notes:\n",
       "[1] Standard Errors assume that the covariance matrix of the errors is correctly specified.\n",
       "[2] The condition number is large, 3.29e+04. This might indicate that there are\n",
       "strong multicollinearity or other numerical problems.\n",
       "\"\"\""
      ]
     },
     "execution_count": 8,
     "metadata": {},
     "output_type": "execute_result"
    }
   ],
   "source": [
    "x = sm.add_constant(x1)\n",
    "results = sm.OLS(y,x).fit()\n",
    "results.summary()"
   ]
  },
  {
   "cell_type": "code",
   "execution_count": 9,
   "id": "dc0b4058-54e8-4630-af98-3c95718594f7",
   "metadata": {},
   "outputs": [
    {
     "data": {
      "image/png": "[encoded data removed]",
      "text/plain": [
       "<Figure size 432x288 with 1 Axes>"
      ]
     },
     "metadata": {},
     "output_type": "display_data"
    }
   ],
   "source": [
    "plt.scatter(x1,y)\n",
    "yhat = 0.0017*x1 + 0.275\n",
    "fig = plt.plot(x1,yhat, lw=4, c='orange', label ='regression line')\n",
    "plt.xlabel('SAT', fontsize = 20)\n",
    "plt.ylabel('GPA', fontsize = 20)\n",
    "plt.show()"
   ]
  },
  {
   "cell_type": "markdown",
   "id": "9ec94e4c-8cac-4a4b-810b-d5d998713146",
   "metadata": {},
   "source": [
    "### How to interprete the regression table"
   ]
  },
  {
   "cell_type": "markdown",
   "id": "077bc936-5c6a-494a-ac2b-f8f1bdcf7d16",
   "metadata": {},
   "source": [
    "All the graph we have seen so far are nice and easy to understand but when you perform a regression analysis you will find something different than a scatter plot with thre regression line.\n",
    "\n",
    "The graph is a visual representation and what we really want is the equation of the model and a measure of its significant and to a power.\n",
    "\n",
    "This is why the regression summary consists of a piu- table instead of a graph"
   ]
  },
  {
   "cell_type": "markdown",
   "id": "20ec05f5-014a-42c3-b8ac-9b4fd10918b8",
   "metadata": {},
   "source": [
    "We will concentrate on how to read and undersatnd these tables.\n",
    "\n",
    "Typically, when using stats models, we have 3 main tables\n",
    "\n",
    ">A model summary \n",
    "\n",
    ">A co efficient table \n",
    "\n",
    "> An some additonal text"
   ]
  },
  {
   "cell_type": "markdown",
   "id": "db51fe79-96b8-4907-8797-8dc7b7923cf8",
   "metadata": {},
   "source": [
    "These tables contains alot of information but we will focus on the most important."
   ]
  },
  {
   "cell_type": "markdown",
   "id": "28ce33de-2496-4dfe-9809-9abe16382bb2",
   "metadata": {},
   "source": [
    "1. Coefficient table : we can see the coefficient of the intercept or the constant as they named it here. \n",
    "\n",
    "Those terms are used inter changeably, it is 0.2750 which means b0 is (0.275)and looking below we noticed that the other coefficient is 0.0017 is our b1.\n",
    "\n",
    "These are the only two numbers we need to define a regresion equation.\n",
    "\n",
    "Therefore, yhat will be as listed below:"
   ]
  },
  {
   "cell_type": "markdown",
   "id": "82a01c52-1f93-427a-ab00-25b85cf6ea72",
   "metadata": {},
   "source": [
    " ŷ = b0 + b1Xi\n",
    "    \n",
    "    b0 = 0.275\n",
    "    \n",
    "    b1 = 0.0017 \n",
    "    \n",
    "so  ȳ = 0.275 + 0.0017 * xi"
   ]
  },
  {
   "cell_type": "markdown",
   "id": "6cbbe0ea-4e03-48f2-9e57-08ebb7d66223",
   "metadata": {},
   "source": [
    "GPA = 0.275 + 0.0017 * SAT score"
   ]
  },
  {
   "cell_type": "markdown",
   "id": "df3f315c-f9c7-4771-a76c-e2769796e107",
   "metadata": {},
   "source": [
    "The above is how we obtain a regresssion equation."
   ]
  },
  {
   "cell_type": "markdown",
   "id": "27230bd5-4054-46d0-af12-7ccc8e1426e4",
   "metadata": {},
   "source": [
    "Lets take a step back and look at the code were we plotted the regression line.\n",
    "\n",
    "We have plotted a scatter plot of SAT and GPA\n",
    "\n",
    "We have created a variable called (yhat)\n",
    "\n",
    "ŷ= 0.275 + 0.0017 * xi\n",
    "\n",
    "or SAT + 0.275\n",
    "\n",
    "This is the regression line\n",
    "\n",
    "The predicted variable based on the data"
   ]
  },
  {
   "cell_type": "markdown",
   "id": "dd991f00-e60d-41c3-99b1-9f7bd46fbed8",
   "metadata": {},
   "source": [
    "Next,we plot the line using the plot method, naturally, \n",
    "\n",
    "we pick the coefficient from the coefficient table"
   ]
  },
  {
   "cell_type": "markdown",
   "id": "99f96f20-a711-47a8-9589-6e9aac0f2768",
   "metadata": {},
   "source": [
    "How useful is that prediction, well knowing that a person scored 1700 in SAT, we can subtitute in the equation and obtain the following:"
   ]
  },
  {
   "cell_type": "markdown",
   "id": "991d9da2-3151-430e-bc10-c5167c1ebaf4",
   "metadata": {},
   "source": [
    "GPA = 0.275 + 0.0017 * SAT score\n",
    "\n",
    "3.165   = 0.275 + 0.0017 * 1700\n",
    "\n",
    "The expected GPA for this student according to our model\n",
    "\n",
    "is 3.125."
   ]
  },
  {
   "cell_type": "markdown",
   "id": "c6ac0fc8-1a31-44f4-aee8-049973bd9639",
   "metadata": {},
   "source": [
    "This is the predictive power of linear regression in a nutshell."
   ]
  },
  {
   "cell_type": "markdown",
   "id": "c9b1f4d7-76b2-43f9-83c9-8d85ccc9b9ac",
   "metadata": {},
   "source": [
    "Lets look at other cells in the table.\n",
    "\n",
    "Standard Error : This shows the accuracy of prediction for each variable in the table.\n",
    "\n",
    "The lower the standard error the better the estimate."
   ]
  },
  {
   "cell_type": "markdown",
   "id": "54a806ae-981b-4a2d-bcfb-3fe98d40a6cd",
   "metadata": {},
   "source": [
    "T-statistics and its p-value\n",
    "\n",
    "The null hypothesis of this test is \n",
    "H0 : β = 0\n",
    "\n",
    "in other words, is the coefficient equal to zero"
   ]
  },
  {
   "cell_type": "markdown",
   "id": "c60b3c03-19b4-4811-a83f-5697211dbcde",
   "metadata": {},
   "source": [
    "If the coefficient is equal to zero then the line crosses the y -axis at the origin."
   ]
  },
  {
   "cell_type": "code",
   "execution_count": 10,
   "id": "38b1105c-6c2f-43eb-b777-ba7ef9c42426",
   "metadata": {},
   "outputs": [
    {
     "data": {
      "image/png": "[encoded data removed]",
      "text/plain": [
       "<Figure size 432x288 with 1 Axes>"
      ]
     },
     "metadata": {},
     "output_type": "display_data"
    }
   ],
   "source": [
    "plt.scatter(x1,y)\n",
    "yhat = 0.0017*x1 + 0\n",
    "fig = plt.plot(x1,yhat, lw=4, c='green', label ='regression line')\n",
    "plt.xlabel('SAT', fontsize = 20)\n",
    "plt.ylabel('GPA', fontsize = 20)\n",
    "plt.xlim(0)\n",
    "plt.ylim(0)\n",
    "plt.show()"
   ]
  },
  {
   "cell_type": "code",
   "execution_count": null,
   "id": "8f3d3612-6d91-427b-988b-301bc0d632f8",
   "metadata": {},
   "outputs": [],
   "source": [
    "# If b1 = 0,then 0*x will always be 0 for any x"
   ]
  },
  {
   "cell_type": "code",
   "execution_count": null,
   "id": "11557967-718d-4c3b-a37d-278ebcff63f4",
   "metadata": {},
   "outputs": [],
   "source": [
    "# If b0 = 0, then yhat(ŷ) = b0"
   ]
  },
  {
   "cell_type": "code",
   "execution_count": 12,
   "id": "28dc8709-671e-4e84-aa74-63a173144070",
   "metadata": {},
   "outputs": [
    {
     "data": {
      "image/png": "[encoded data removed]",
      "text/plain": [
       "<Figure size 432x288 with 1 Axes>"
      ]
     },
     "metadata": {},
     "output_type": "display_data"
    }
   ],
   "source": [
    "plt.scatter(x1,y)\n",
    "yhat = 0*x1 + 0.275\n",
    "fig = plt.plot(x1,yhat, lw=4, c='red', label ='regression line')\n",
    "plt.xlabel('SAT', fontsize = 20)\n",
    "plt.ylabel('GPA', fontsize = 20)\n",
    "plt.show()"
   ]
  },
  {
   "cell_type": "markdown",
   "id": "15701383-2623-4ab3-a400-8bb5a400604b",
   "metadata": {},
   "source": [
    "This variable will not be considered for the model.\n",
    "\n",
    "Graphically,that will mean that the regression line is horizontal.\n",
    "\n",
    "Always going through the intercept value."
   ]
  },
  {
   "cell_type": "markdown",
   "id": "c15a7eba-d201-4fe9-9d08-027fab5e8e8e",
   "metadata": {},
   "source": [
    "Lets para phrase this variable.\n",
    "\n",
    "The questions we may have to ask\n",
    "\n",
    "Is this a useful variable?\n",
    "\n",
    "Does it help us explain the variability we have in this case?"
   ]
  },
  {
   "cell_type": "markdown",
   "id": "b8fa10ad-69ed-47ff-90a0-c976b71eb9c6",
   "metadata": {},
   "source": [
    "The anwser we nee is contained in the p-value column.\n",
    "\n",
    "As we know, the p-value below 0.05 means that the variable is significant.\n",
    "\n",
    "Therefore , the coefficient is most probably different from zero.\n",
    "morepver, we are longing to see those three zeros.\n",
    "\n",
    "What does this mean for our example?\n",
    "\n",
    "It simply tells us that that SAT score is a significant variable when predicting the college GPA.\n",
    "\n",
    "What you may notice is that the intersect p-value is not zero.\n",
    "\n",
    "Doe it matter that much?\n",
    "Do we have enough statistical evidence that the intersect differs from zero?\n",
    "\n",
    "Graphically , that will meqn that the intersect passes through the origin of the graph.\n",
    "\n",
    "usually, this is not essential,as it is causal relationship of the axis we are interested in."
   ]
  },
  {
   "cell_type": "code",
   "execution_count": 13,
   "id": "ae937b1c-1390-4ac3-a7f9-79f7ec573036",
   "metadata": {},
   "outputs": [
    {
     "data": {
      "image/png": "[encoded data removed]",
      "text/plain": [
       "<Figure size 432x288 with 1 Axes>"
      ]
     },
     "metadata": {},
     "output_type": "display_data"
    }
   ],
   "source": [
    "plt.scatter(x1,y)\n",
    "yhat = 0.0017*x1 + 0\n",
    "fig = plt.plot(x1,yhat, lw=4, c='green', label ='regression line')\n",
    "plt.xlabel('SAT', fontsize = 20)\n",
    "plt.ylabel('GPA', fontsize = 20)\n",
    "plt.xlim(0)\n",
    "plt.ylim(0)\n",
    "plt.show()"
   ]
  },
  {
   "cell_type": "markdown",
   "id": "b44c2e7d-e065-4051-be99-54f6fc8a575b",
   "metadata": {
    "tags": []
   },
   "source": [
    "### Decomposition of variability "
   ]
  },
  {
   "cell_type": "markdown",
   "id": "bf62dcf9-6493-4db1-bb70-955d55f35d65",
   "metadata": {},
   "source": [
    "The determinant of a good regression"
   ]
  },
  {
   "cell_type": "markdown",
   "id": "3c99b979-e6e3-4e99-851b-135e7f37f33a",
   "metadata": {},
   "source": [
    "We will be basing this lecture on the ANOVA frame work.\n",
    "\n",
    "Definition of 3 major related terms:\n",
    "    \n",
    "1. Sum of square total\n",
    "\n",
    "2. Sum of squares regression\n",
    "\n",
    "3. Sum of squares error"
   ]
  },
  {
   "cell_type": "markdown",
   "id": "39cd7e23-83fc-4637-a2de-62d9d5df8950",
   "metadata": {},
   "source": [
    "Sum of squares total(SST)\n",
    "\n",
    "This is the square differences between the observed dependent variable and its mean"
   ]
  },
  {
   "cell_type": "markdown",
   "id": "6b5ce6aa-fe1e-4c61-abc5-90c6b96060f5",
   "metadata": {},
   "source": [
    "It is the dispersion of the observed variable around the mean.\n",
    "\n",
    "It is much like the variance we saw in the discriptive statistics,\n",
    "\n",
    "It is  a measure of the total variability of the data set."
   ]
  },
  {
   "cell_type": "markdown",
   "id": "746a363c-8d41-4a7f-bac8-4e4caceb5c20",
   "metadata": {},
   "source": [
    "Σi=1^n (yi-ȳ)2\n",
    "\n",
    "SST = sum of squares total\n",
    "\n",
    "n = number of observations\n",
    "\n",
    "yi = value in a sample\n",
    "ȳ = mean value of a sample\n"
   ]
  },
  {
   "cell_type": "code",
   "execution_count": null,
   "id": "598e6461-87ca-4795-9fef-e50e9cc74995",
   "metadata": {},
   "outputs": [],
   "source": [
    "# ȳ = b0 + b1X1"
   ]
  },
  {
   "cell_type": "markdown",
   "id": "86cb4946-da32-402f-ae33-b1dfbb8c134b",
   "metadata": {},
   "source": [
    "Sum of squares regression (SSR)\n"
   ]
  },
  {
   "cell_type": "markdown",
   "id": "fbc91ddc-8a7f-4404-9e74-55da2dab5635",
   "metadata": {},
   "source": [
    "IT is the sum of the differences between the prdictive value and the mean of the dependent variable.\n",
    "\n",
    "It is a measure that describes how well your line fits the data .\n",
    "\n",
    "if this value is equal to the sum of squares total,it means your regression model captures all the observed variability and it is perfect."
   ]
  },
  {
   "cell_type": "raw",
   "id": "de80c178-1198-4686-ac2f-8a80a9085cb9",
   "metadata": {},
   "source": [
    "Σi=1^n (ȳi-ȳ)2"
   ]
  },
  {
   "cell_type": "markdown",
   "id": "21c87025-0a04-4b79-a165-271d981e6d15",
   "metadata": {},
   "source": [
    "Another common notation is \n",
    "\n",
    "Explained sum of squares(ESS) "
   ]
  },
  {
   "cell_type": "markdown",
   "id": "984c71e1-eddb-4113-b7ac-69e1280dcabf",
   "metadata": {},
   "source": [
    "Sum of Error (SSE)"
   ]
  },
  {
   "cell_type": "markdown",
   "id": "1fd367b1-06e8-4754-a90f-d676aa28746e",
   "metadata": {},
   "source": [
    "The error is the difference between the observed value and the predictive value.\n",
    "\n",
    "We usually want to minimize the error\n",
    "\n",
    "The smaller the error the better the estimation power of the regression"
   ]
  },
  {
   "cell_type": "markdown",
   "id": "d41d4d83-31c6-4998-a625-43df3fdef8a6",
   "metadata": {},
   "source": [
    "Σi=1^n  ei^2"
   ]
  },
  {
   "cell_type": "markdown",
   "id": "bec84c6b-dc07-4fcb-83ae-b4285b560979",
   "metadata": {},
   "source": [
    "It is also known as Residual sum of squares (RSS)\n",
    "\n",
    "Residual here means remaining or unexplained.\n",
    "it becomes really confusing when i tell you ,that some people denote it as SSR.\n",
    "\n",
    "which makes it unclear whether we are talking about he sum of squares due to regression(SSR)  or sum of squares residuals(SSR)\n",
    "\n",
    "In any case , from prioe experience, neither of this is universally adopted so the confusion remains and we have to live with it.\n",
    "\n",
    "For record purposes the 3 notations are \n",
    "\n",
    "SST or TSS\n",
    "\n",
    "SSR or  ESS\n",
    "\n",
    "SSE or RSS\n",
    "\n",
    "There is a conflict on the abbreviation but not about the concept and the application."
   ]
  },
  {
   "cell_type": "markdown",
   "id": "15e1870b-54fb-4dc6-a60d-33808f2899b2",
   "metadata": {},
   "source": [
    "What is the connection among these three?\n",
    "\n",
    "Mathematically, SST = SSR + SSE\n",
    "\n",
    "\n",
    "Σi=1^n (yi-ȳ)2 = Σi=1^n (ŷi-ȳ)2 + Σi=1^n ei^2\n",
    "\n",
    "This means \n",
    "Total variabilty of the dataset =\n",
    "\n",
    "explained variability of the regression line + \n",
    "\n",
    "Unexplained variability( known as error)"
   ]
  },
  {
   "cell_type": "markdown",
   "id": "e731a2f2-3056-4fc2-b051-d11d026bd706",
   "metadata": {},
   "source": [
    "Given a constant total variability a lower error will cause a better regression.\n",
    "\n",
    "Conversely , a higher error will cause a less powerful regression."
   ]
  },
  {
   "cell_type": "markdown",
   "id": "63de5cef-435b-4d4e-84d9-d79f0449ad85",
   "metadata": {},
   "source": [
    "Please always remember this no matter the notation"
   ]
  },
  {
   "cell_type": "markdown",
   "id": "b0f06d08-9f1d-4c8e-9ea4-3e438ea9b039",
   "metadata": {},
   "source": [
    "### What is the OLS"
   ]
  },
  {
   "cell_type": "markdown",
   "id": "4b18b8cc-fcbc-43b8-88d5-1768dddb0072",
   "metadata": {},
   "source": [
    "We will be using the first table to define OLS.\n",
    "\n",
    "We have the dependent variable (the variable we are trying to predict).\n",
    "\n",
    "Obviously is the GPA,\n",
    "Especially from the begnning,It is good to double check if we coded the regresion properly through the cell.\n",
    "\n",
    "Next we have the model, which is OLS,(ordinary least squares).\n",
    "\n",
    "The method is closely related,(least Squares).\n",
    "\n",
    "In this case ,there are no difference but later we will see discripances.\n",
    "\n",
    "So what is the OLS?\n",
    "\n",
    "OLS or Ordinary least squares is the most common method to etimate the linear regression equation.\n",
    "\n",
    "Least squares stand s for minimun squares error or SSE"
   ]
  },
  {
   "cell_type": "markdown",
   "id": "b230860a-741d-4884-afbb-cec5eec6ac8e",
   "metadata": {},
   "source": [
    "You may recall that a lower error results in a better explanatory power of the regression model."
   ]
  },
  {
   "cell_type": "markdown",
   "id": "c28c4506-246b-4eb0-a23b-ed00cdfa37e6",
   "metadata": {},
   "source": [
    "This method aims to find a line which minimizes the sum of the squared errors ."
   ]
  },
  {
   "cell_type": "markdown",
   "id": "81a55df6-12ea-4de0-962d-2a4edda86284",
   "metadata": {},
   "source": [
    "Graphically , it is the one closest to all points simultaneously.\n",
    "\n",
    "OlS is the one with the smalest error"
   ]
  },
  {
   "cell_type": "markdown",
   "id": "ab1804e6-a76c-4737-a216-ede5c365cd4a",
   "metadata": {},
   "source": [
    "The expression used to do this is the formula below."
   ]
  },
  {
   "cell_type": "markdown",
   "id": "268a6207-a7d2-42c5-b167-02abedbbb1d4",
   "metadata": {},
   "source": [
    "How is this formula applied?\n",
    "\n",
    "This is a minimization problem that uses calculus and linear algebra to determine the slope and the intersect of the line."
   ]
  },
  {
   "cell_type": "markdown",
   "id": "37af8c55-347c-4f34-9663-271a82af506f",
   "metadata": {},
   "source": [
    "After you punch in the numbers, you will find out that \n",
    "\n",
    "the intersect is b0 and the slope is b1"
   ]
  },
  {
   "cell_type": "markdown",
   "id": "d3a3cfb3-f8fc-4e18-bd28-9bdf5ff68f28",
   "metadata": {},
   "source": [
    "Knowing the coefficient,see below the regression equation."
   ]
  },
  {
   "cell_type": "markdown",
   "id": "e298c9e6-01fe-4e14-b0d7-318eefae3cb7",
   "metadata": {},
   "source": [
    "min Σi=1^n ei^2\n",
    "\n",
    "S(b) is the OLS estimator of β for a simple liner regression\n",
    "\n",
    "s(b) = Σi=1^n (y1 - xiT b)2 = (y-Xb)1 (y-Xb)"
   ]
  },
  {
   "cell_type": "markdown",
   "id": "7c374ad6-24f0-49bd-9edb-0f27fd8f4da4",
   "metadata": {},
   "source": [
    "We can try minimizing the square sum of errors on \n",
    "\n",
    "paper but with dataset comprizing thousands of values, \n",
    "\n",
    "this is almost impossible."
   ]
  },
  {
   "cell_type": "markdown",
   "id": "1279e97e-ff3f-480c-a566-7485f87b12cc",
   "metadata": {},
   "source": [
    "Nowadays, regression analysis is performed through software.\n",
    "\n",
    "Beginnng to intermidiate statisticians prefers \n",
    "\n",
    "EXCEL,SPSS, SaS and STATA for calculation."
   ]
  },
  {
   "cell_type": "markdown",
   "id": "6957e90e-90d1-427d-bd30-5c28250d6672",
   "metadata": {},
   "source": [
    "Data scientist however favours programming language \n",
    "\n",
    "like OR and Python as they offer limitles capabilities and unmatched speed.\n",
    "\n",
    "And that is what we are aiming for here."
   ]
  },
  {
   "cell_type": "markdown",
   "id": "c78fcf72-b2d7-40ab-a65d-f7be9b601bc0",
   "metadata": {},
   "source": [
    "Moreso, there are other methods for determining the regression line. \n",
    "\n",
    "They are preferred in different context.\n",
    "Examples are :\n",
    "\n",
    ">Generalized least squares\n",
    "\n",
    "> Maximum likelihood estimation\n",
    "\n",
    "> Bayesian regression\n",
    "\n",
    "> Kernel regression\n",
    "\n",
    "> gaussian process regression"
   ]
  },
  {
   "cell_type": "markdown",
   "id": "11894bbf-f675-4a90-81fd-d0a509b1aa06",
   "metadata": {},
   "source": [
    "However, the least squares method is simple,yet powerful enough for many if not most linear problems shence we will stick with it for now."
   ]
  },
  {
   "cell_type": "markdown",
   "id": "cbd73f97-74a3-4e99-aab6-996ac9bce341",
   "metadata": {},
   "source": [
    "### R- squared "
   ]
  },
  {
   "cell_type": "markdown",
   "id": "1ac8b891-6835-4947-9984-0d704d5fcc09",
   "metadata": {},
   "source": [
    "Total variability(SST)  is divided into two:\n",
    "   \n",
    "> 1. Explained (SSR) \n",
    "\n",
    "> 2. Unexplained (SSE)\n",
    "\n",
    "We also noted that the smaller the regression error the better the regression."
   ]
  },
  {
   "cell_type": "markdown",
   "id": "ff8b81c7-817d-43c9-b2dc-adb9947d2456",
   "metadata": {},
   "source": [
    "Since this is statistics ,there must be one widely used measure that describes how powerful regreesion is."
   ]
  },
  {
   "cell_type": "markdown",
   "id": "5e71249f-0b08-4bc5-8a9c-81b070920225",
   "metadata": {},
   "source": [
    "The R2 is an intuitive and pratical tool when in the right hand.\n",
    "\n",
    "It is equal to ssr /sst"
   ]
  },
  {
   "cell_type": "markdown",
   "id": "bbab28e9-a153-4152-a55f-b4d414f95a74",
   "metadata": {},
   "source": [
    "R squared  =  SSR (vaiability explained by the regreesion) / SST ( Total variability of the dataset).\n",
    "\n",
    "So what does it mean?\n",
    "It is a relative of measure that takes values ranging from zero to one.\n",
    "\n",
    "And R2 of 0 means that your regression line explains none of the variability of the data.\n",
    "\n",
    "And R2 of 1 means your model explains the entire variability of the data.\n",
    "\n",
    "Unfotunately ,regressions explaining the entire variability are rare.\n",
    "\n",
    "What you will usually observe are values ranging from 0.2 to 0.9"
   ]
  },
  {
   "cell_type": "markdown",
   "id": "0f7b08e0-0401-4bf5-aafb-384bf6793134",
   "metadata": {},
   "source": [
    "The immediate question to ask is , what is a good R-squared ?\n",
    "\n",
    "When do i know for sure that my regression is good enough?\n",
    "\n",
    "There is no rule of thumb or definite answer to that."
   ]
  },
  {
   "cell_type": "markdown",
   "id": "6fa5b0c0-0f7d-454c-935d-ce7132f1f8fc",
   "metadata": {},
   "source": [
    "In fields such as physics and chemistry, scientist are usually looking for regression with R-squared between 0.7 - 0.99"
   ]
  },
  {
   "cell_type": "markdown",
   "id": "b3870125-3871-471a-8d0e-075e60ef846e",
   "metadata": {},
   "source": [
    "However , in social sciences such as Economics, finance and psychology, an R-squared of 0.2 or 20% or the variability explained by the model could be fantastic."
   ]
  },
  {
   "cell_type": "markdown",
   "id": "ae680223-42b4-4b84-bad3-5812110c1c15",
   "metadata": {},
   "source": [
    "It depends on the complexity of the topic and how many variables are believed to be in play.\n",
    "\n",
    "Think about income for example ,it may depend on your household income,parents and spouse,Education, Tenure, Country you are living in, languages you speak,account for less than 50% of the variability of income.\n",
    "\n",
    "Your salary is a very complex and you may know that."
   ]
  },
  {
   "cell_type": "markdown",
   "id": "d03881c5-eb41-4611-b828-34230ba8c861",
   "metadata": {},
   "source": [
    "Lets look at the SAT/GPA example\n",
    "\n",
    "College GPA = 0.275 + 0.0017 * SAT\n",
    "\n",
    "We said that SAT is one of the determinant of intellectual capability\n",
    "\n",
    "Our R2 has a regression of 0.406\n",
    "\n",
    "In other words .SAT scores explained 41% of the variability of college grades for our sample.\n",
    "\n",
    "An R-square of 41% is neither good nor bad.\n",
    "\n",
    "But since it is far away from 99% we may conclude we are missing so many important information"
   ]
  },
  {
   "cell_type": "markdown",
   "id": "24c35812-4827-47a5-accb-bae52cbdfb17",
   "metadata": {},
   "source": [
    "Other determinants needs to be considered. Variables such as gender ,income, marital status could helps us understand the full picture a little better."
   ]
  },
  {
   "cell_type": "markdown",
   "id": "daccff7a-0a4d-4a66-b25a-446561086c93",
   "metadata": {},
   "source": [
    "RED ALERT!\n",
    "\n",
    "Dont jump into conclusion, before agreeing that a factor is significant, you should try to understand Why!\n",
    "\n",
    "Now lets quickly justify the claim,\n",
    "\n",
    "First, women are more likely to out perform men in high school but then in higher education more men are into academia.\n",
    "\n",
    "There are many biases in place here, with out elling if womwn or men are better, scientific research shows that there exists gender gap in education.\n",
    "\n",
    "Gender is an important input for any regression on the topic\n"
   ]
  },
  {
   "cell_type": "markdown",
   "id": "cf056f49-d2d5-419a-80cb-b3b762dd6cc6",
   "metadata": {},
   "source": [
    "The second factor is income \n",
    "\n",
    "If your household income is low, you are more likely to get a part time job. You will have less time for studying and probably get lower grade"
   ]
  },
  {
   "cell_type": "markdown",
   "id": "b4b4e46a-1e3e-4144-bda2-218a8668d151",
   "metadata": {},
   "source": [
    "If you get married and have a child ,you will definitely have a lower attendance.\n",
    "Contrary to what most students think when in college, attendance is a significant factor for your GPA.\n",
    "\n",
    "You may think your time is better spent when skipping a lecture , but your GPA will be effected."
   ]
  },
  {
   "cell_type": "markdown",
   "id": "eaf2ab50-bf94-4092-b21d-aace8c44cb0e",
   "metadata": {},
   "source": [
    "The r-squared measures the oodness of fit of your model.\n",
    "\n",
    "The more factor you include in your regression , the higher the R-squared.\n",
    "\n",
    "Hence ,should we include income ,gender etc in our regression?\n",
    "\n",
    "If it is in line with our research and the inclusion results in a better model we should do that.\n"
   ]
  },
  {
   "cell_type": "markdown",
   "id": "d15d5152-7b0a-4e3c-8d20-637914d53650",
   "metadata": {},
   "source": [
    "### Multiple linear regression Theory"
   ]
  },
  {
   "cell_type": "markdown",
   "id": "acb72660-cb6f-4164-a551-b66dc90a574b",
   "metadata": {},
   "source": [
    "In real life a person's income is dependent on so many factors ,like Household income, education, Tenure , Country you are living in,languages you speak.\n",
    "\n",
    "House price does not depend solely on the size but also on location and year of contruction.\n",
    "\n",
    "College GPA cannot be predicted solely by a student's SAT score but also by the high school GPA, income ,gender and so on.\n",
    "\n",
    "College GPA = 0.275 + 0.0017 * SAT"
   ]
  },
  {
   "cell_type": "markdown",
   "id": "df4cb1a8-4b4d-4ff5-8e31-62b1490eab79",
   "metadata": {},
   "source": [
    "If we want to make good models ,we need to make multiple regression in order to address the higher complexity of problems.\n",
    "\n",
    "The more variables you have , the more factors you are considering in a model\n",
    "In the real world, things depends on 2,3 or even 10 or 20 factors."
   ]
  },
  {
   "cell_type": "markdown",
   "id": "529bbaf2-6c80-4fc7-95f5-d7744527476f",
   "metadata": {},
   "source": [
    "PUPULATION MULTIPLE REGRESSION MODEL\n",
    "\n",
    "\n",
    "Y = β0 + β1x1 + β2x2 + ... + βkxK + Σ"
   ]
  },
  {
   "cell_type": "markdown",
   "id": "95a632a2-e471-4668-9de9-d4ca46420cad",
   "metadata": {},
   "source": [
    "It is similar to a simple regression\n",
    "\n",
    "Y = β0 + β1x1 + Σ\n",
    "\n",
    "but the main difference is thst there are a bunch of independent variables not just one\n",
    "\n",
    "What we are interested in is the multiple regression equation.\n",
    "\n",
    "ŷ = b0 + b1x1 + b2x2 + ... + bkxk"
   ]
  },
  {
   "cell_type": "markdown",
   "id": "2f24a41a-c0a1-409a-914e-c423ef45d76e",
   "metadata": {},
   "source": [
    "We want to plug in numbers and predict outcomes\n",
    "\n",
    "ŷ  - infered value\n",
    "\n",
    "b0 - intecept\n",
    "\n",
    "x1 + x2 + ... + xk  - independent variables\n",
    " \n",
    " b1 +  ... + bkxk - corresponding coefficient\n",
    " \n",
    " "
   ]
  },
  {
   "cell_type": "code",
   "execution_count": null,
   "id": "ff9c078a-e3b4-473b-8be8-765599af8559",
   "metadata": {},
   "outputs": [],
   "source": []
  },
  {
   "cell_type": "markdown",
   "id": "6725bc31-ebae-4663-b0c1-b78042a83b62",
   "metadata": {},
   "source": [
    "Finally, multiple regression is not about the best fitting line anymore, actually it stopped being two dimensional.\n",
    "\n",
    "When we have over 3 dimension, there is no visual way to represent the data.\n",
    "\n",
    "hence ,it it is not about the line , what is it about."
   ]
  },
  {
   "cell_type": "markdown",
   "id": "7144c9e0-a579-4b48-8ec0-f9c46ada573c",
   "metadata": {},
   "source": [
    "IT IS ABOUT THE BEST FITTING MODEL"
   ]
  },
  {
   "cell_type": "markdown",
   "id": "98c44a9c-1df2-4b2d-a50f-bfc97821e248",
   "metadata": {},
   "source": [
    "As we saw from the OLS what we want is the least sum of squared errors."
   ]
  },
  {
   "cell_type": "markdown",
   "id": "f9afbe8b-582c-4f15-b2cd-8e334ea66947",
   "metadata": {},
   "source": [
    "HOW TO DECREASE THE MODELS ERROR?\n",
    "\n",
    "By increasing the eexplanatory power of the model.\n",
    "\n",
    "SSE and SSR are like communicating vessels, each time we lower one ,the other goes higher.\n",
    "\n",
    "With each additional variable we increase the explanatory power by zero or more than zero.\n",
    "\n",
    "We cannot lower it. More variables usually equal a better fitting model."
   ]
  },
  {
   "cell_type": "markdown",
   "id": "92d5f8af-3a3d-459f-849a-4ad4bc65931d",
   "metadata": {},
   "source": [
    "### Adjusted R-square Theory"
   ]
  },
  {
   "cell_type": "markdown",
   "id": "853ef94d-fb1f-4cc0-8576-f8d6ff8165b0",
   "metadata": {},
   "source": [
    "R2 is a very widely used measure of explanatory power.\n",
    "The new version is called the adjusted R2.\n",
    "A statistician will always take a look at it when performing regression analysis."
   ]
  },
  {
   "cell_type": "markdown",
   "id": "f78c8c44-0334-477f-8bf9-e82b7c4ec885",
   "metadata": {},
   "source": [
    "What are R-sqaured adjusted for ?\n",
    "\n",
    ">1. The R-sqaured measures how much of the total variability is explained in our model.\n",
    "\n",
    ">2. Multiple regressions are always better than simple ones, as with each additional variables you add,the explanatory power may only increase or stay the same considering the number of variables."
   ]
  },
  {
   "cell_type": "markdown",
   "id": "5885b520-fb84-4e1e-bef5-f048b59c9433",
   "metadata": {},
   "source": [
    "The Adjusted R-squared is always smaller than the R-squared as it penalizes execessive use of variables"
   ]
  },
  {
   "cell_type": "markdown",
   "id": "5a767509-7f2a-4909-bdba-589fc7f59dc5",
   "metadata": {},
   "source": [
    "Lets create our first multiple regression to explain this point."
   ]
  },
  {
   "cell_type": "markdown",
   "id": "b8580dff-eed0-4380-a212-a4ed07d5cc09",
   "metadata": {},
   "source": [
    "Import the relevant libraries"
   ]
  },
  {
   "cell_type": "code",
   "execution_count": 1,
   "id": "12b3ccce-403d-4336-be97-f7367a7463c2",
   "metadata": {},
   "outputs": [],
   "source": [
    "import numpy as np\n",
    "import pandas as pd\n",
    "import matplotlib.pyplot as plt\n",
    "import statsmodels.api as sm\n",
    "import seaborn \n",
    "seaborn.set()"
   ]
  },
  {
   "cell_type": "markdown",
   "id": "4712004a-6692-405d-bd26-b2d9acd9eafa",
   "metadata": {},
   "source": [
    "Load the data"
   ]
  },
  {
   "cell_type": "code",
   "execution_count": 4,
   "id": "51603a68-d31c-4f10-9db4-acbe5e0b4cf9",
   "metadata": {},
   "outputs": [],
   "source": [
    "data = pd.read_csv(\"C:\\\\Users\\\\user\\\\Desktop\\\\python files - Copy\\\\1.02. Multiple linear regression.csv\")"
   ]
  },
  {
   "cell_type": "code",
   "execution_count": 5,
   "id": "a05ae13d-d88f-4d9c-a09a-0933fa3449e6",
   "metadata": {},
   "outputs": [
    {
     "data": {
      "text/html": [
       "<div>\n",
       "<style scoped>\n",
       "    .dataframe tbody tr th:only-of-type {\n",
       "        vertical-align: middle;\n",
       "    }\n",
       "\n",
       "    .dataframe tbody tr th {\n",
       "        vertical-align: top;\n",
       "    }\n",
       "\n",
       "    .dataframe thead th {\n",
       "        text-align: right;\n",
       "    }\n",
       "</style>\n",
       "<table border=\"1\" class=\"dataframe\">\n",
       "  <thead>\n",
       "    <tr style=\"text-align: right;\">\n",
       "      <th></th>\n",
       "      <th>SAT</th>\n",
       "      <th>Rand 1,2,3</th>\n",
       "      <th>GPA</th>\n",
       "    </tr>\n",
       "  </thead>\n",
       "  <tbody>\n",
       "    <tr>\n",
       "      <th>0</th>\n",
       "      <td>1714</td>\n",
       "      <td>1</td>\n",
       "      <td>2.40</td>\n",
       "    </tr>\n",
       "    <tr>\n",
       "      <th>1</th>\n",
       "      <td>1664</td>\n",
       "      <td>3</td>\n",
       "      <td>2.52</td>\n",
       "    </tr>\n",
       "    <tr>\n",
       "      <th>2</th>\n",
       "      <td>1760</td>\n",
       "      <td>3</td>\n",
       "      <td>2.54</td>\n",
       "    </tr>\n",
       "    <tr>\n",
       "      <th>3</th>\n",
       "      <td>1685</td>\n",
       "      <td>3</td>\n",
       "      <td>2.74</td>\n",
       "    </tr>\n",
       "    <tr>\n",
       "      <th>4</th>\n",
       "      <td>1693</td>\n",
       "      <td>2</td>\n",
       "      <td>2.83</td>\n",
       "    </tr>\n",
       "    <tr>\n",
       "      <th>...</th>\n",
       "      <td>...</td>\n",
       "      <td>...</td>\n",
       "      <td>...</td>\n",
       "    </tr>\n",
       "    <tr>\n",
       "      <th>79</th>\n",
       "      <td>1936</td>\n",
       "      <td>3</td>\n",
       "      <td>3.71</td>\n",
       "    </tr>\n",
       "    <tr>\n",
       "      <th>80</th>\n",
       "      <td>1810</td>\n",
       "      <td>1</td>\n",
       "      <td>3.71</td>\n",
       "    </tr>\n",
       "    <tr>\n",
       "      <th>81</th>\n",
       "      <td>1987</td>\n",
       "      <td>3</td>\n",
       "      <td>3.73</td>\n",
       "    </tr>\n",
       "    <tr>\n",
       "      <th>82</th>\n",
       "      <td>1962</td>\n",
       "      <td>1</td>\n",
       "      <td>3.76</td>\n",
       "    </tr>\n",
       "    <tr>\n",
       "      <th>83</th>\n",
       "      <td>2050</td>\n",
       "      <td>2</td>\n",
       "      <td>3.81</td>\n",
       "    </tr>\n",
       "  </tbody>\n",
       "</table>\n",
       "<p>84 rows × 3 columns</p>\n",
       "</div>"
      ],
      "text/plain": [
       "     SAT  Rand 1,2,3   GPA\n",
       "0   1714           1  2.40\n",
       "1   1664           3  2.52\n",
       "2   1760           3  2.54\n",
       "3   1685           3  2.74\n",
       "4   1693           2  2.83\n",
       "..   ...         ...   ...\n",
       "79  1936           3  3.71\n",
       "80  1810           1  3.71\n",
       "81  1987           3  3.73\n",
       "82  1962           1  3.76\n",
       "83  2050           2  3.81\n",
       "\n",
       "[84 rows x 3 columns]"
      ]
     },
     "execution_count": 5,
     "metadata": {},
     "output_type": "execute_result"
    }
   ],
   "source": [
    "data"
   ]
  },
  {
   "cell_type": "markdown",
   "id": "9c0f24dc-e123-451b-b0f6-f6030ca9713b",
   "metadata": {},
   "source": [
    "We are 100% sure that this variable cannot produce college GPA.\n",
    "\n",
    "Hence, this is our new model,\n",
    "GPA = b0 + b1SAT + b2Rand1,2,3\n",
    "\n",
    "college GPA is eqaul to b1 times SAT score plus b2 times the random variable."
   ]
  },
  {
   "cell_type": "code",
   "execution_count": 6,
   "id": "01a90c46-940d-4322-97ae-a72a0d90ed19",
   "metadata": {},
   "outputs": [
    {
     "data": {
      "text/html": [
       "<div>\n",
       "<style scoped>\n",
       "    .dataframe tbody tr th:only-of-type {\n",
       "        vertical-align: middle;\n",
       "    }\n",
       "\n",
       "    .dataframe tbody tr th {\n",
       "        vertical-align: top;\n",
       "    }\n",
       "\n",
       "    .dataframe thead th {\n",
       "        text-align: right;\n",
       "    }\n",
       "</style>\n",
       "<table border=\"1\" class=\"dataframe\">\n",
       "  <thead>\n",
       "    <tr style=\"text-align: right;\">\n",
       "      <th></th>\n",
       "      <th>SAT</th>\n",
       "      <th>Rand 1,2,3</th>\n",
       "      <th>GPA</th>\n",
       "    </tr>\n",
       "  </thead>\n",
       "  <tbody>\n",
       "    <tr>\n",
       "      <th>count</th>\n",
       "      <td>84.000000</td>\n",
       "      <td>84.000000</td>\n",
       "      <td>84.000000</td>\n",
       "    </tr>\n",
       "    <tr>\n",
       "      <th>mean</th>\n",
       "      <td>1845.273810</td>\n",
       "      <td>2.059524</td>\n",
       "      <td>3.330238</td>\n",
       "    </tr>\n",
       "    <tr>\n",
       "      <th>std</th>\n",
       "      <td>104.530661</td>\n",
       "      <td>0.855192</td>\n",
       "      <td>0.271617</td>\n",
       "    </tr>\n",
       "    <tr>\n",
       "      <th>min</th>\n",
       "      <td>1634.000000</td>\n",
       "      <td>1.000000</td>\n",
       "      <td>2.400000</td>\n",
       "    </tr>\n",
       "    <tr>\n",
       "      <th>25%</th>\n",
       "      <td>1772.000000</td>\n",
       "      <td>1.000000</td>\n",
       "      <td>3.190000</td>\n",
       "    </tr>\n",
       "    <tr>\n",
       "      <th>50%</th>\n",
       "      <td>1846.000000</td>\n",
       "      <td>2.000000</td>\n",
       "      <td>3.380000</td>\n",
       "    </tr>\n",
       "    <tr>\n",
       "      <th>75%</th>\n",
       "      <td>1934.000000</td>\n",
       "      <td>3.000000</td>\n",
       "      <td>3.502500</td>\n",
       "    </tr>\n",
       "    <tr>\n",
       "      <th>max</th>\n",
       "      <td>2050.000000</td>\n",
       "      <td>3.000000</td>\n",
       "      <td>3.810000</td>\n",
       "    </tr>\n",
       "  </tbody>\n",
       "</table>\n",
       "</div>"
      ],
      "text/plain": [
       "               SAT  Rand 1,2,3        GPA\n",
       "count    84.000000   84.000000  84.000000\n",
       "mean   1845.273810    2.059524   3.330238\n",
       "std     104.530661    0.855192   0.271617\n",
       "min    1634.000000    1.000000   2.400000\n",
       "25%    1772.000000    1.000000   3.190000\n",
       "50%    1846.000000    2.000000   3.380000\n",
       "75%    1934.000000    3.000000   3.502500\n",
       "max    2050.000000    3.000000   3.810000"
      ]
     },
     "execution_count": 6,
     "metadata": {},
     "output_type": "execute_result"
    }
   ],
   "source": [
    "data.describe()"
   ]
  },
  {
   "cell_type": "markdown",
   "id": "d8fc7dd5-4c7b-42f0-893e-00f03a4852fc",
   "metadata": {},
   "source": [
    "Create your first multiple regression"
   ]
  },
  {
   "cell_type": "markdown",
   "id": "23b92dfe-2f81-4334-93b0-5b78e12c003a",
   "metadata": {},
   "source": [
    "For the regreesion y is still GPA, but this time we have two explanatory variable, SAT and Rand1,2,3.\n",
    "\n",
    "What we can do is to create x1 as a DataFrame containing both series.\n",
    "\n",
    "The rest remains unchanged."
   ]
  },
  {
   "cell_type": "code",
   "execution_count": 14,
   "id": "e953d1ca-1bbb-4f8f-82d4-017f8c432d78",
   "metadata": {},
   "outputs": [],
   "source": [
    "y = data  ['GPA']\n",
    "x1 = data [['SAT','Rand 1,2,3']]"
   ]
  },
  {
   "cell_type": "code",
   "execution_count": 15,
   "id": "d5b4c267-aa86-4373-8b39-6f6927ba2782",
   "metadata": {},
   "outputs": [
    {
     "name": "stderr",
     "output_type": "stream",
     "text": [
      "C:\\Users\\user\\anaconda3\\lib\\site-packages\\statsmodels\\tsa\\tsatools.py:142: FutureWarning: In a future version of pandas all arguments of concat except for the argument 'objs' will be keyword-only\n",
      "  x = pd.concat(x[::order], 1)\n"
     ]
    }
   ],
   "source": [
    "x = sm.add_constant(x1)\n",
    "results = sm.OLS(y,x).fit()"
   ]
  },
  {
   "cell_type": "code",
   "execution_count": 16,
   "id": "3e9d5aa0-030e-42c4-b899-1b671027e361",
   "metadata": {},
   "outputs": [
    {
     "data": {
      "text/html": [
       "<table class=\"simpletable\">\n",
       "<caption>OLS Regression Results</caption>\n",
       "<tr>\n",
       "  <th>Dep. Variable:</th>           <td>GPA</td>       <th>  R-squared:         </th> <td>   0.407</td>\n",
       "</tr>\n",
       "<tr>\n",
       "  <th>Model:</th>                   <td>OLS</td>       <th>  Adj. R-squared:    </th> <td>   0.392</td>\n",
       "</tr>\n",
       "<tr>\n",
       "  <th>Method:</th>             <td>Least Squares</td>  <th>  F-statistic:       </th> <td>   27.76</td>\n",
       "</tr>\n",
       "<tr>\n",
       "  <th>Date:</th>             <td>Tue, 06 Dec 2022</td> <th>  Prob (F-statistic):</th> <td>6.58e-10</td>\n",
       "</tr>\n",
       "<tr>\n",
       "  <th>Time:</th>                 <td>10:30:53</td>     <th>  Log-Likelihood:    </th> <td>  12.720</td>\n",
       "</tr>\n",
       "<tr>\n",
       "  <th>No. Observations:</th>      <td>    84</td>      <th>  AIC:               </th> <td>  -19.44</td>\n",
       "</tr>\n",
       "<tr>\n",
       "  <th>Df Residuals:</th>          <td>    81</td>      <th>  BIC:               </th> <td>  -12.15</td>\n",
       "</tr>\n",
       "<tr>\n",
       "  <th>Df Model:</th>              <td>     2</td>      <th>                     </th>     <td> </td>   \n",
       "</tr>\n",
       "<tr>\n",
       "  <th>Covariance Type:</th>      <td>nonrobust</td>    <th>                     </th>     <td> </td>   \n",
       "</tr>\n",
       "</table>\n",
       "<table class=\"simpletable\">\n",
       "<tr>\n",
       "       <td></td>         <th>coef</th>     <th>std err</th>      <th>t</th>      <th>P>|t|</th>  <th>[0.025</th>    <th>0.975]</th>  \n",
       "</tr>\n",
       "<tr>\n",
       "  <th>const</th>      <td>    0.2960</td> <td>    0.417</td> <td>    0.710</td> <td> 0.480</td> <td>   -0.533</td> <td>    1.125</td>\n",
       "</tr>\n",
       "<tr>\n",
       "  <th>SAT</th>        <td>    0.0017</td> <td>    0.000</td> <td>    7.432</td> <td> 0.000</td> <td>    0.001</td> <td>    0.002</td>\n",
       "</tr>\n",
       "<tr>\n",
       "  <th>Rand 1,2,3</th> <td>   -0.0083</td> <td>    0.027</td> <td>   -0.304</td> <td> 0.762</td> <td>   -0.062</td> <td>    0.046</td>\n",
       "</tr>\n",
       "</table>\n",
       "<table class=\"simpletable\">\n",
       "<tr>\n",
       "  <th>Omnibus:</th>       <td>12.992</td> <th>  Durbin-Watson:     </th> <td>   0.948</td>\n",
       "</tr>\n",
       "<tr>\n",
       "  <th>Prob(Omnibus):</th> <td> 0.002</td> <th>  Jarque-Bera (JB):  </th> <td>  16.364</td>\n",
       "</tr>\n",
       "<tr>\n",
       "  <th>Skew:</th>          <td>-0.731</td> <th>  Prob(JB):          </th> <td>0.000280</td>\n",
       "</tr>\n",
       "<tr>\n",
       "  <th>Kurtosis:</th>      <td> 4.594</td> <th>  Cond. No.          </th> <td>3.33e+04</td>\n",
       "</tr>\n",
       "</table><br/><br/>Notes:<br/>[1] Standard Errors assume that the covariance matrix of the errors is correctly specified.<br/>[2] The condition number is large, 3.33e+04. This might indicate that there are<br/>strong multicollinearity or other numerical problems."
      ],
      "text/plain": [
       "<class 'statsmodels.iolib.summary.Summary'>\n",
       "\"\"\"\n",
       "                            OLS Regression Results                            \n",
       "==============================================================================\n",
       "Dep. Variable:                    GPA   R-squared:                       0.407\n",
       "Model:                            OLS   Adj. R-squared:                  0.392\n",
       "Method:                 Least Squares   F-statistic:                     27.76\n",
       "Date:                Tue, 06 Dec 2022   Prob (F-statistic):           6.58e-10\n",
       "Time:                        10:30:53   Log-Likelihood:                 12.720\n",
       "No. Observations:                  84   AIC:                            -19.44\n",
       "Df Residuals:                      81   BIC:                            -12.15\n",
       "Df Model:                           2                                         \n",
       "Covariance Type:            nonrobust                                         \n",
       "==============================================================================\n",
       "                 coef    std err          t      P>|t|      [0.025      0.975]\n",
       "------------------------------------------------------------------------------\n",
       "const          0.2960      0.417      0.710      0.480      -0.533       1.125\n",
       "SAT            0.0017      0.000      7.432      0.000       0.001       0.002\n",
       "Rand 1,2,3    -0.0083      0.027     -0.304      0.762      -0.062       0.046\n",
       "==============================================================================\n",
       "Omnibus:                       12.992   Durbin-Watson:                   0.948\n",
       "Prob(Omnibus):                  0.002   Jarque-Bera (JB):               16.364\n",
       "Skew:                          -0.731   Prob(JB):                     0.000280\n",
       "Kurtosis:                       4.594   Cond. No.                     3.33e+04\n",
       "==============================================================================\n",
       "\n",
       "Notes:\n",
       "[1] Standard Errors assume that the covariance matrix of the errors is correctly specified.\n",
       "[2] The condition number is large, 3.33e+04. This might indicate that there are\n",
       "strong multicollinearity or other numerical problems.\n",
       "\"\"\""
      ]
     },
     "execution_count": 16,
     "metadata": {},
     "output_type": "execute_result"
    }
   ],
   "source": [
    "results.summary()"
   ]
  },
  {
   "cell_type": "markdown",
   "id": "3df057b4-d7d3-4999-b208-fb48f85b885c",
   "metadata": {},
   "source": [
    "The above code gives us a newly created regression table"
   ]
  },
  {
   "cell_type": "markdown",
   "id": "3fb0d0c9-0206-404d-b334-223f6c67b20b",
   "metadata": {},
   "source": [
    "The new R-squared is 0.407 ,it means we have increased the explanatory power of the model.\n",
    "\n",
    "But this enthusiasm is dapended by the Adjusted R-squared of 0.392.\n",
    "\n",
    "we were penalized for adding an additional variable that had no strong explanatory power.\n",
    "\n",
    "we had added information but has lost value.\n",
    "\n",
    "The point is you should cherry pick your data as to exclude useless information."
   ]
  },
  {
   "cell_type": "markdown",
   "id": "83248bd6-289a-4704-b658-2bc073f0961d",
   "metadata": {},
   "source": [
    "However, one can assume that regression analysis is smarter than that.\n",
    "\n",
    "Adding an inpractical variable should be pointed out by the model in some way."
   ]
  },
  {
   "cell_type": "markdown",
   "id": "d0fcd8dd-5708-4d3d-8930-04c2ff570b93",
   "metadata": {},
   "source": [
    "Lets take a look at the coefficient table, we have determined the coefficient for the randon 1,2,3 variable, but its p-value is 0.762\n",
    "\n",
    "Remember the null hypothesis of the test:\n",
    "H0 :  β = 0\n",
    "\n",
    "We cannot reject the null hypothesis at the 76% significance level.\n",
    "\n",
    "This is an incredible high p-value\n",
    "\n",
    "For a coefficient to be statistically significant, we want a p-value of less tha 0.05 \n",
    "\n",
    "Our conclusion is that the variable random 1, 2, 3 not only worsens the explanatory power of the model reflected by a lower adjusted R-sqaured but also insignificant.\n",
    "\n",
    "Therefore, it should be dropped all together.\n",
    "\n",
    "Dropping useless variables is important.\n",
    "\n",
    "You can see the original model  change from\n",
    "\n"
   ]
  },
  {
   "cell_type": "markdown",
   "id": "03e0075c-08c3-44c0-987a-3633ee88dad1",
   "metadata": {},
   "source": [
    " ŷ  = 0.275 + 0.0017x1    to \n",
    " \n",
    " ŷ  = 0.296 + 0.0017x1 - 0.0083x2"
   ]
  },
  {
   "cell_type": "markdown",
   "id": "df9f6d98-99dc-43e5-a150-313fe65934ad",
   "metadata": {},
   "source": [
    "The choice of  3rd variable affected the intercept.\n",
    "\n",
    "When ever you have one variable that is ruining the model,\n",
    "You should not use he model all together, because  the bias is this variable is reflected into the coefficient of the other variables.\n",
    "\n",
    "The correct approach is to remove it from the regression and run a new one omitting the problematic predictor.\n",
    "\n",
    "There is one more consideration concerning the removal of a variable from a model.\n",
    "\n",
    "We can add 100 different varibles to a model and probably the predictive power of the model will be outstanding.\n",
    "\n",
    "However, this stategy makes regression analysis futile.\n",
    "\n",
    "You are trying to use a few of independent variables that approximately predict the result.\n",
    "\n",
    "The trade off is complex but simplicity is better rewarded than higher explanatory power.\n",
    "\n",
    "Finally, the adjusted R-squared is the basis for comparing regression models.\n",
    "\n",
    "BASICS FOR COMPARING MODELS\n",
    "\n",
    "Once again ,it only makes sense to compare two models considering\n",
    "\n",
    ">1. Thesame dependent variable(y)\n",
    "\n",
    ">2. Same dataset\n",
    "\n",
    "If we compare two models that are about two different dependent variables, we will be making an apple to oranges comparising.\n",
    "\n",
    "If we use different dataset ,it is an apple to dinosaur problem."
   ]
  },
  {
   "cell_type": "markdown",
   "id": "eacadb7c-eaa7-47bc-9dae-79b117db936a",
   "metadata": {},
   "source": [
    "Adjusted R-squared is a step in the right direction but should not be the only measure trusted.\n",
    "\n",
    "Caution is advised and logic and deligent are mandatory."
   ]
  },
  {
   "cell_type": "markdown",
   "id": "48302a33-1c6a-41be-9f4f-c706c979c76b",
   "metadata": {},
   "source": [
    "### F-test"
   ]
  },
  {
   "cell_type": "markdown",
   "id": "a743e8a8-40fd-4e37-8fc2-e188e3411632",
   "metadata": {},
   "source": [
    "F_Statistic\n",
    "\n",
    "Much like the z-statistic that follows a normal distribution and the t-statistic that follows a student's t distribution.\n",
    "\n",
    "the F-statistic follows an F distribution and it is used for test.\n",
    "\n",
    "The t is used for the overall significance of the model.\n",
    "\n",
    "The F-test\n",
    "\n",
    "H0: β1 = β2 = ... = βk = 0\n",
    "( The null hypotesis is, all the datas are  equal to zero simultaneously )\n",
    "\n",
    "H1 : atleast one data β1 =/ 0\n",
    "\n",
    "(The alternative hypothesis is atleast one data differs from 0)\n",
    "\n",
    "What is the interpretation?\n",
    "(If all datas are zero non of the independent variables matter)\n",
    "Therefore , our model have no merit.\n"
   ]
  },
  {
   "cell_type": "markdown",
   "id": "01068983-72d2-42e4-b380-821baab4f59e",
   "metadata": {},
   "source": [
    "let's see the regression summary from the SAT/GPA lecture.\n",
    "\n",
    "The f-statistic is 56.05\n",
    "The cell below is its p-value,the number is really low and it is virtually 0.000.\n",
    "\n",
    "We say the overall model is significant.\n",
    "The f-test is important for regression as it gives us some important insight.\n",
    "\n",
    "Let's look at the table for the model where we added the rand1,2,3 variable that had nothing to do with anything.\n",
    "\n",
    "The f-statistic is 27.7 and the p-value is 0.000\n",
    "\n",
    "you can see the f-statistics is lower.\n",
    "The model is still significant but lesser.\n",
    "The lower the f-statistic, the closer to a non significant model"
   ]
  },
  {
   "cell_type": "markdown",
   "id": "c60d76e7-f5c8-4eb2-a9b7-ed6c6c319846",
   "metadata": {},
   "source": [
    "The f-statistic is another tol that allows us to compare models.\n",
    "\n",
    "Always remember to look for the 3 ,zeros after the dot."
   ]
  },
  {
   "cell_type": "markdown",
   "id": "2df02755-ebc4-42b1-9959-d307a797b050",
   "metadata": {},
   "source": [
    "### OLS assumptions"
   ]
  },
  {
   "cell_type": "markdown",
   "id": "2526027e-c208-498e-b69a-140ac81c8b76",
   "metadata": {},
   "source": [
    "Regression Assumption is divided into Five different parts .\n"
   ]
  },
  {
   "cell_type": "markdown",
   "id": "6f93ce5f-5b7c-45f2-b7ec-cc4b89aa598a",
   "metadata": {},
   "source": [
    ">1. Linearity : \n",
    "\n",
    "There are other types of regression with more sophisticated models but linear regresion is the simplest one and it assumes linearity.\n",
    "\n",
    "Each independent variable is multiplied by a coefficient and summed up to predict the value.\n",
    "\n",
    "Y = β0 + β1x1 + β2x2 + ... + βkxK + Σ\n",
    "    "
   ]
  },
  {
   "cell_type": "markdown",
   "id": "6deaa5ef-fd35-4861-b7c5-cec54edd8873",
   "metadata": {},
   "source": [
    ">2. No Endogeneity of regressors:\n",
    "\n",
    " Mathematically, it is expressed as the co-variance \n",
    "    \n",
    " of the error, and the axis is zero for any error or x.\n",
    "    \n",
    "   𝜎x𝜀 = o : ∀ x,𝜀 "
   ]
  },
  {
   "cell_type": "markdown",
   "id": "5a20459b-af8a-4334-87b8-b458792210ce",
   "metadata": {},
   "source": [
    ">3. Normality and homoscedasticity of the error term:\n",
    "\n",
    "Normality means that the error term is normally distributed.\n",
    "\n",
    " 𝜀 ~ N(o : 0, 𝜎2 ) \n",
    " The expected value of the error is zero as we expect to have no error on average.\n",
    " \n",
    " Homoscedasticity in plain english means constant variance."
   ]
  },
  {
   "cell_type": "markdown",
   "id": "273b9fa2-1d98-42f0-988c-e139a2e90a59",
   "metadata": {},
   "source": [
    ">4. No autocorrelation: \n",
    "   Mathematically the co-variance of any two error term is 0.\n",
    "   This is the assumption that will stop you from using a linear regression in your analysis.\n",
    "   \n",
    "    𝜎𝜀𝑖𝜀𝑗 = 0 : ∀ 𝑖 ≠ 𝑗"
   ]
  },
  {
   "cell_type": "markdown",
   "id": "eb97654d-d7d4-41a3-9a58-345937e1bb23",
   "metadata": {},
   "source": [
    ">5. No multicollinearity:\n",
    "    \n",
    "    Multicollinearity is observed wgen two or more variables have a high correlation between each other.\n",
    "    \n",
    " pxixj ≠ 1 : ∀ 𝑖,j; i≠ 𝑗"
   ]
  },
  {
   "cell_type": "markdown",
   "id": "0720b11b-8bfb-4e79-9b2d-5ef7a4c56361",
   "metadata": {},
   "source": [
    "Assumptions:\n",
    "    \n",
    "At your work place the biggest mistake you can make is to perform a regression that violates one of these assumptions!    "
   ]
  },
  {
   "cell_type": "markdown",
   "id": "82a79699-ccad-4d97-b49d-509b72121a8b",
   "metadata": {},
   "source": [
    "### A1 Linearity"
   ]
  },
  {
   "cell_type": "markdown",
   "id": "8a5cb58c-c92d-4f30-8240-49e5ebde2888",
   "metadata": {},
   "source": [
    "A linear regression is the simplest non - trivial relationship.\n",
    "\n",
    "Linear regresion is under surprvised learing and it is used for predictions\n",
    "\n",
    "It is called linear because the equation is linear.\n",
    "\n",
    "Y = β0 + β1x1 + β2x2 + ... + βkxK + Σ\n",
    "\n",
    "each independent vsariable is multiplied by a  coefficient and summed up to predict the value of the dependent variable.\n",
    "\n",
    "How can you verify if the relationship between two variables is linear?\n",
    "\n",
    "The easiest way is to choose an independent variable x1 and plot it against the dependent y on a scatter plot.\n",
    "\n",
    "If the data points forms a pattern that loks like a straight line, then a linear regression model is suitable."
   ]
  },
  {
   "cell_type": "markdown",
   "id": "731fe55a-2e85-42f8-b58e-84a1f177624f",
   "metadata": {},
   "source": [
    "Lets see a case where the assumption is violated.\n",
    "\n",
    "After plotting another variable x2 against y on a scatter plot, we see that there is no straight line that fits the data well.\n",
    "\n",
    "Actually a curve line will be a very good fit.\n",
    "Using a linear regression will not be appropriate.\n",
    "\n",
    "Linearity seems restrictive but there are easy fixes for it.\n",
    "\n",
    "i. You can run a non-linear regression \n",
    "\n",
    "or \n",
    "Transform your relationship\n",
    "\n",
    "We have two transformations that help with that,\n",
    "\n",
    "ii.Exponential transformation\n",
    "\n",
    "iii. lOg arithmetic transformation\n",
    "\n",
    "The quadratic equation we saw can easily be transformed into a straight line with the appropriate methods.\n",
    "\n",
    "The take away is,if the relationship is non linear we should not use the data before transforming it approriately."
   ]
  },
  {
   "cell_type": "markdown",
   "id": "539a32e2-77e6-4331-a759-771d0871ae6e",
   "metadata": {},
   "source": [
    "### A2 No endogeneity of regreessors"
   ]
  },
  {
   "cell_type": "markdown",
   "id": "c9cb3082-afb3-41c6-a4b1-e9b70a8183ad",
   "metadata": {},
   "source": [
    "This refers to the probabation of a link between the independent variables and the errors, \n",
    "Mathematically expressed in the following way\n",
    "\n",
    "𝜎x𝜀 = o : ∀ x,𝜀\n",
    "\n",
    "In this case ,the error is the difference betwwen the observed values and the predicted values and is correlated with our independent values.\n",
    "\n",
    "This is a problem referred to as omitted variable bias.\n",
    "\n",
    "Omitted variable bias is introduced to the model, when you forget to include a relevant variable.\n",
    "\n",
    "As each independt variable explains why, they move together and are somewhat correlated.\n",
    "(y is explained ,somewhat correlated by xs)\n",
    "\n",
    "Similarly, y is also expliained by the  omitted varaible so they are also correlated.\n",
    "\n",
    "(y is explained somewhat correlated by omitted x)"
   ]
  },
  {
   "cell_type": "markdown",
   "id": "b01c2d5b-ad08-43bf-a5f6-01201b971d2f",
   "metadata": {},
   "source": [
    "Chances are the omitted variable is also correlated with atleast one independent x, however ,you forgot to include it as a regressor.\n",
    "Everything that you dont explain with your model goes into the air.\n",
    "\n",
    "Hence, the error becomes correlated with everything else\n",
    "(x and x^ are somewhat correlated)"
   ]
  },
  {
   "cell_type": "markdown",
   "id": "d8b13113-8de6-422a-8513-7e1f909410a0",
   "metadata": {},
   "source": [
    "Here is an example, \n",
    "\n",
    "Imagine you are trying to predict the price of an appartment building in london, based on its size.\n",
    "\n",
    "price = ≠ (size)\n",
    "This is a regid model that will have high explanatory power.\n",
    "\n",
    "From our example, it seems as if ,the smaller the size of the houses the higher the price.\n",
    "\n",
    "ŷ = 11342786  -  132100x1\n",
    "\n",
    "This is extremely counter intuitive,\n",
    "\n",
    "we look for remedies, and it seems that the co-variance of the independent variables of the error term is not zero.\n",
    "\n",
    "𝜎x𝜀 ≠ 0\n",
    "\n",
    "We are missing something crucial"
   ]
  },
  {
   "cell_type": "markdown",
   "id": "d8ba5ca6-42b2-4866-b067-8a5a609c80fa",
   "metadata": {},
   "source": [
    "Omitted variable bias is hard to fix\n",
    "\n",
    "Think of all the things you may have missed that lead to this poor result.\n",
    "\n",
    "We have only one variable ,ŷ  = b0 + b1x1\n",
    "\n",
    "but when your model is exhausive with 10 variables or more you may feel disheartened.\n",
    "\n",
    "\n",
    "ŷ = b0 + b1x1 + b2x2 + b3x3 .... b10x10"
   ]
  },
  {
   "cell_type": "markdown",
   "id": "acd6f620-a959-4829-b15f-99c8b26bdf7b",
   "metadata": {},
   "source": [
    "Critical thinking time.\n",
    "\n",
    "Where did we draw the sample from?\n",
    "\n",
    "Can we get a better sample?\n",
    "\n",
    "Why is bigger real estate cheaper?"
   ]
  },
  {
   "cell_type": "markdown",
   "id": "963043a6-619f-4a92-bda0-00270983e51a",
   "metadata": {},
   "source": [
    "The sample comprises of apartment building in central london and is large\n",
    "\n",
    "So the problem is not with the sample.\n",
    "\n",
    "What is about smaller size that is making it so expensive?\n",
    "\n",
    "Where are the small houses?\n",
    "\n",
    "There is rarely construction of new apartment building in central london.\n",
    "\n",
    "Then you realised that the city of london was in the sample.\n",
    "\n",
    "the place where most buildings are sky scrappers with some of the most valuable real estate in the world.\n",
    "\n",
    "We ommitted the exact location as a variable, in almost any other city, this will not be a factor."
   ]
  },
  {
   "cell_type": "markdown",
   "id": "0ec92808-c8cd-4281-b0ae-034533e70a10",
   "metadata": {},
   "source": [
    "But in our paticular example the million dollar swede in the city of london turn things around."
   ]
  },
  {
   "cell_type": "markdown",
   "id": "b50bcec7-d988-4a9a-8ce8-11fe9dc85ae3",
   "metadata": {},
   "source": [
    "After we included the variable that measures tha the property is in london city, everything falls into place."
   ]
  },
  {
   "cell_type": "markdown",
   "id": "e88a4a0c-8837-4275-8364-6a69a35a1898",
   "metadata": {},
   "source": [
    "ŷ = 520365 + 78210xsize + 7126579xcity\n",
    "\n",
    "size is with a positive sign once again.\n",
    "\n",
    "1 if it is in city \n",
    "\n",
    "0 if it is outof the city\n",
    "\n",
    "Larger properties are more expensive and vice versa"
   ]
  },
  {
   "cell_type": "markdown",
   "id": "9b2728fa-9f70-4732-83e1-26f14c038f02",
   "metadata": {},
   "source": [
    "Important Remark:\n",
    "    \n",
    "The incorrect exclusion of a variable like in this case ,leads to biasd and counterintuitive estimates that are toxic to your regression analysis\n",
    "\n",
    "An incorrect inclussion of a variable as we saw in our adjusted R-squared lecture leads to inefficient estimate which dont bias the regression and you can immediately drop them.\n",
    "\n",
    "So when in doubt ,just include the varaiable and try your luck."
   ]
  },
  {
   "cell_type": "markdown",
   "id": "afe53fbb-0ca5-447e-88c9-c7e4e51d7b20",
   "metadata": {},
   "source": [
    "The bottom line is that omitted variable bias is a pain in the neck."
   ]
  },
  {
   "cell_type": "markdown",
   "id": "9b3680b9-8918-4010-87f1-ff379b8b062a",
   "metadata": {},
   "source": [
    "It is always different\n",
    "\n",
    "Always sneaky\n",
    "\n",
    "and only experienced and advanced knowledge on the subject can help.\n",
    "\n",
    "Always check for it and if you cant think of anything, \n",
    "\n",
    "Dont hesitate to ask a collegue for a hand if you can't figure it out!"
   ]
  },
  {
   "cell_type": "markdown",
   "id": "cd90f236-7a45-49ed-b550-3e991c9d83cc",
   "metadata": {},
   "source": [
    "### A3 Normality and Homescedacity"
   ]
  },
  {
   "cell_type": "markdown",
   "id": "752b631e-52e6-4dc6-b586-8df316981a51",
   "metadata": {},
   "source": [
    "𝜀 ~ N(o : 0, 𝜎2 "
   ]
  },
  {
   "cell_type": "markdown",
   "id": "adbbdd15-1c42-4a3e-ac5e-ccbb8c8a2678",
   "metadata": {},
   "source": [
    "This comprises of :\n",
    "\n",
    ">1. Normality\n",
    "\n",
    ">2. Zero mean\n",
    "\n",
    ">3. homoscedasticity of the error term"
   ]
  },
  {
   "cell_type": "markdown",
   "id": "794de7cd-06ce-41a3-87fe-43fbec8973ef",
   "metadata": {},
   "source": [
    ">1. Normality : We assume the error term is normally distributed.\n",
    "Normal distribution is not required for creating the distribution but for making inferences.\n",
    "\n",
    "Remember all regression tables are full of T-statistic and F- statistic.\n",
    "\n",
    "well these things work because we assume normality of the error term.\n",
    "\n",
    "(t-test and f-test work because we have assumed normality of the error term)\n",
    "\n",
    "What should we do if the error term is not normally distributed.\n",
    "\n",
    "The central limit theorem comes into play.\n",
    "For large samples the central limit theorem applies for the error terms too.\n",
    "\n",
    "Therefore , we can consider normality as a given for us."
   ]
  },
  {
   "cell_type": "markdown",
   "id": "4bc6aeb3-400f-47f5-9f20-404603feb443",
   "metadata": {},
   "source": [
    ">2. Zero mean\n",
    "\n",
    "If the mean is not expected to be zero, then the line is not the best fitting one.\n",
    "\n",
    "However,having an intercept solves that problem.\n",
    "\n",
    "So in real life , it is unusual to violate this part of the assumption."
   ]
  },
  {
   "cell_type": "markdown",
   "id": "ce7fd867-c2eb-486f-b54f-badd6e7741f4",
   "metadata": {},
   "source": [
    ">3. homoscedasticity of the error term:\n",
    "H0 have equal variance!\n",
    "\n",
    "This means to have equal variance, hence , the error term should have equal variance one with the others.\n",
    "\n",
    "𝜎2 𝜀1 = 𝜎2𝜀2 = ...= 𝜎2𝜀k = 𝜎2  \n",
    "\n",
    "What if there was a pattern in the variance?\n",
    "\n",
    "An example of a dataset were errors have a different variance looks like the diagram in the note book,\n",
    "\n",
    "Heteroscedastic dataset\n",
    "\n",
    "Starting close to the regression line and going further away, this would imply that for smaller value of independent and dependent variables we would have a better prediction than for bigger values.\n",
    "\n",
    "And we really dont like this uncertainties"
   ]
  },
  {
   "cell_type": "markdown",
   "id": "d0e5b08a-7840-42c5-988e-b8c5724dda78",
   "metadata": {},
   "source": [
    "Lets see a real life example\n",
    "\n",
    "Most examples related to income are homoscsdastic with varing variance.\n",
    "\n",
    "If a person is poor ,he or she spends a constant amount of money on food, entertainment, cloths etc.\n",
    "\n",
    "The wealthier an individual is,the higher the viariability of his expenditure.\n",
    "\n",
    "For example, a poor person may be forced to eat egg and potatoes everyday, both meals costs a similar amount of money.(low variability)\n",
    "\n",
    "A wealthy person however may go to an expensive resturant, where food is served with expensive champaigne one day and stay home and boil eggs the next day.\n",
    "\n",
    "The viariability of his spending habit is tremendous.(High variability)\n",
    "\n",
    "therefore ,we expect hemoscedasticity."
   ]
  },
  {
   "cell_type": "markdown",
   "id": "af72bbee-216d-4379-bdf3-f3c70b64ca43",
   "metadata": {},
   "source": [
    "PREVENTION\n",
    "\n",
    "Is there a way to circonvent hemoscedasticity?\n",
    "\n",
    ". First,check for ommitted variable bias.(OVB).\n",
    "\n",
    ". Look for outliers and try to remove them\n",
    "\n",
    ". Log transformation (statistician's bestfriend)\n",
    "\n",
    "Naturally, Log stands for logrithm\n",
    "\n",
    "\n",
    "\n",
    "1. Take the log of the variable\n",
    "\n",
    "For each observation independent variable calculate its natural log.\n",
    "\n",
    "2. Perform the regression\n",
    "Create a regression between the log of y and the independent axis.\n",
    "\n",
    "Conversely ,you can take the independent x that is causing you trouble and do thesame."
   ]
  },
  {
   "cell_type": "code",
   "execution_count": null,
   "id": "4b6be632-5d8a-4bce-8d12-3042f29a579c",
   "metadata": {},
   "outputs": [],
   "source": [
    "Lets see an example"
   ]
  },
  {
   "cell_type": "code",
   "execution_count": 17,
   "id": "99f7434f-2c7f-4e8a-9aec-0052fcfb20b4",
   "metadata": {},
   "outputs": [],
   "source": [
    "import numpy as np\n",
    "import pandas as pd\n",
    "import matplotlib.pyplot as plt\n",
    "import seaborn as sns\n",
    "sns.set()"
   ]
  },
  {
   "cell_type": "code",
   "execution_count": null,
   "id": "518fdde3-b9ca-446d-a913-49a8a0e7ee29",
   "metadata": {},
   "outputs": [],
   "source": [
    "data = pd.read_csv(\"\")"
   ]
  },
  {
   "cell_type": "code",
   "execution_count": null,
   "id": "cb9d5404-1b46-4641-a6e0-9cca7657f16c",
   "metadata": {},
   "outputs": [],
   "source": [
    "data['log_x'] = np.log(data['x'])\n",
    "data['log_y'] = np.log(data['y'])"
   ]
  },
  {
   "cell_type": "code",
   "execution_count": null,
   "id": "a3d64267-fced-4e49-a088-ddca132fa77c",
   "metadata": {},
   "outputs": [],
   "source": [
    "plt.scatter(data['x'],data['y'])\n",
    "plt.xlabel('x')\n",
    "plt.ylabel('y')\n"
   ]
  },
  {
   "cell_type": "code",
   "execution_count": null,
   "id": "b7fa5f42-9d4b-46f6-a761-919eaf8a7fb6",
   "metadata": {},
   "outputs": [],
   "source": [
    "plt.scatter(data['log_x'],data['y'])\n",
    "plt.xlabel('x')\n",
    "plt.ylabel('y')"
   ]
  },
  {
   "cell_type": "markdown",
   "id": "6b0edb35-8756-4654-9c1b-136a79362538",
   "metadata": {},
   "source": [
    "Above is a scatter plot that represents high level of homoscedaticity.\n",
    "\n",
    "On the left hand side of the chat, the varaice of the error is small while on the right hand side it is high."
   ]
  },
  {
   "cell_type": "markdown",
   "id": "a317fffb-6069-48b9-a784-743d8ef420df",
   "metadata": {},
   "source": [
    "Here is the model,\n",
    "\n",
    "ŷ = b0 + b1x1 \n",
    "\n",
    "As X increases by 1 unit, Y increases by b1 units"
   ]
  },
  {
   "cell_type": "markdown",
   "id": "00bfa998-8b77-42e1-86b1-41e25ac4eaa1",
   "metadata": {},
   "source": [
    "Lets transform the X variable to a new variable called log of x and plug the data"
   ]
  },
  {
   "cell_type": "code",
   "execution_count": null,
   "id": "91af35a3-5e7d-4436-bb6e-98173eaecd97",
   "metadata": {},
   "outputs": [],
   "source": [
    "data['log_x'] = np.log(data['x'])\n",
    "data['log_y'] = np.log(data['y'])"
   ]
  },
  {
   "cell_type": "code",
   "execution_count": null,
   "id": "9cf91dce-5d4f-4662-924d-5a78d83652fa",
   "metadata": {},
   "outputs": [],
   "source": [
    "plt.scatter(data['x'],data['y'])\n",
    "plt.xlabel('log_x')\n",
    "plt.ylabel('Y')\n"
   ]
  },
  {
   "cell_type": "code",
   "execution_count": null,
   "id": "80e98e15-ad27-4166-83de-34662d9d35f9",
   "metadata": {},
   "outputs": [],
   "source": [
    "I DID NOT OBSERVE THE CHANGE !!!!!"
   ]
  },
  {
   "cell_type": "markdown",
   "id": "1ceca6d8-4ea1-409a-bf04-7d25ecd1ae30",
   "metadata": {},
   "source": [
    "This is the new result, changing the scale of x, will reduce the width of the graph.\n",
    "\n",
    "You can see how the points came closer from left to right."
   ]
  },
  {
   "cell_type": "markdown",
   "id": "8d6aa29a-afe7-4220-9668-97225e5217ef",
   "metadata": {},
   "source": [
    "The new model is called the Semi-log model\n",
    "\n",
    "ŷ = b0 + b1x1(logx1)"
   ]
  },
  {
   "cell_type": "markdown",
   "id": "b9b64624-ada7-403f-91fa-64e4da05be99",
   "metadata": {},
   "source": [
    "What if we transform the Y scale instead?\n",
    "\n",
    "Analogically to what happened previously, we will expect the heigth of the graph to be reduced.\n",
    "\n",
    "The result below looks like a good linear regression material.\n",
    "\n",
    "The homoscedascity we observed earlier is almost gone,\n",
    "\n",
    "This new moel is also called semi-log model.\n",
    "log ŷ = b0 + b1x1\n",
    "Its meaning is , as x increases by 1 unit, Y increases by b1 percent.\n",
    "\n",
    "This is a very common transformation"
   ]
  },
  {
   "cell_type": "code",
   "execution_count": null,
   "id": "ab506e88-c132-4917-b6fe-022d3663c95d",
   "metadata": {},
   "outputs": [],
   "source": [
    "plt.scatter(data['x'],data['log_y'])\n",
    "plt.xlabel('x')\n",
    "plt.ylabel('log y')"
   ]
  },
  {
   "cell_type": "markdown",
   "id": "d01967bd-95c4-4d2b-974b-293489e0bf6a",
   "metadata": {},
   "source": [
    "Sometimes, we want or need to change both scales to log, the result is a log log model.\n",
    "\n",
    "It shrinks the graph in height ending width.\n",
    "\n",
    "This is the result\n",
    "Log-log model\n",
    "log ŷ = b0 + b1(logx1)\n",
    "\n",
    "The improvement is noticeable but not game changing.\n",
    "\n",
    "However, we may be sure the assumption is not violated.\n",
    "\n",
    "The interpretation is , for each percentage point change in x, y changes by b1 percentage point.\n",
    "\n",
    "( As X increase by 1 percent ,Y increases by b1 percent).\n",
    "\n",
    "If you have done economics, you will know that this relationship is called elastiity"
   ]
  },
  {
   "cell_type": "code",
   "execution_count": null,
   "id": "0fa05471-90ab-433c-83ce-8dd3cbcb8715",
   "metadata": {},
   "outputs": [],
   "source": [
    "plt.scatter(data['log_x'],data['log_y'])\n",
    "plt.xlabel('log x')\n",
    "plt.ylabel('log y')"
   ]
  },
  {
   "cell_type": "markdown",
   "id": "613cb88f-1c31-438b-a4e7-323ab6321a26",
   "metadata": {},
   "source": [
    "### A4 No Autocorrelation"
   ]
  },
  {
   "cell_type": "markdown",
   "id": "cc013cc6-9a59-4f31-b978-2ce757ef65ad",
   "metadata": {},
   "source": [
    "The Penalt med assumption is the No auto correlation assumption.\n",
    "\n",
    "You cannot relax this assumption\n",
    "\n",
    "It is also known as no serial correlation.\n",
    "It cannot be blast.\n",
    "\n",
    "Mathematically .it looks like this\n",
    "\n",
    " 𝜎𝜀i𝜀j = 0 : ∀ 𝑖 ≠ 𝑗\n",
    " \n",
    "Errors are assumed to be uncorrelated.\n",
    "\n",
    "Where can we observe serial correlation between errors.\n",
    "\n",
    "It is highly unlikely to find it in data taken at one moment of time .\n",
    "\n",
    "Non as cross-sectional data (check out example)\n",
    "\n",
    "However , it is very common in time series data.\n",
    "\n",
    "Think about stock prices, everyday you have a new quote for thesame stock\n",
    ". (change everyday)\n",
    "\n",
    ".The new number you see have thesame underlying assets.\n",
    "\n",
    "Ideally you want them to be random or predicted by macro factors such as  GDP, tax rate , political events etc.\n",
    "\n",
    "Unfortunately ,it is common in under developed marets to see patterns in the stock prices.\n",
    "\n",
    "There is a well known phenomenom called \n",
    "\"The Day-of-The-Week-Effect\"\n",
    "\n",
    "it consists of disproportionately,high returns on fridays, low returns on mondays.\n",
    "\n",
    "There is no concensus on the true nature of the day of the week affect.\n",
    "\n",
    "One possible explanation proposed by noble prize winner \"Martin Miller\" is that investors dont have the time to read all the news during the week, so they do it over the weekend.\n",
    "\n",
    "The first day to respond to negative informations is on mondays( sell on mnday)\n",
    "\n",
    "Then during the week the advisers givers the new positive information and they start buying on thursdays and fridays. "
   ]
  },
  {
   "cell_type": "markdown",
   "id": "9ab5e405-0cd8-45e1-84a5-33e7c8a4074d",
   "metadata": {},
   "source": [
    "Another distinguished financer  Kenneth French , who sugeested firms delays bad news for the weekend.(it's weekend .Time to tell you that our firm is having difficulties)\n",
    "\n",
    "So market reacts on mondays.\n",
    "\n",
    "What ever the reason there is correlation of the errors when building regression about stock prices.\n",
    "\n",
    "The first observation, the 5th ,the 11th and every 5th onwards will be mondays.\n",
    "5th,10th and so on will be fridays.\n",
    "\n",
    "Errors on mondays will be biased downwards .\n",
    "Errors on fridays will be biased upwards.\n",
    "\n",
    "The mathematics of the linear regression does not consider this.\n",
    "\n",
    "It assumes errors should be randomly spread around the regression line."
   ]
  },
  {
   "cell_type": "markdown",
   "id": "26ba5de3-6572-46ca-9ce3-2d78d5df63ce",
   "metadata": {},
   "source": [
    "How does one detect Autocorrelation?\n",
    "\n",
    ". A coomon way is to plot all the residuals on a graph and look for the patterns.\n",
    "\n",
    "If you can find any , you are safe.\n",
    "\n",
    "If there are no patterns to be seen => no autocorrelation."
   ]
  },
  {
   "cell_type": "markdown",
   "id": "baa820bf-d109-4633-a6a8-ea49dd2f871c",
   "metadata": {},
   "source": [
    "Another is the Durbin-Watson syntax :\n",
    "\n",
    "we have it in the summary for the table provided by stats models.\n",
    "\n",
    "Generally,its values falls between 0 and 4\n",
    "\n",
    "2 => no autocorrelation\n",
    "\n",
    "Values below one(<1 ) and above three(>3 ) are cause for alarm."
   ]
  },
  {
   "cell_type": "markdown",
   "id": "b8ae0e46-ac9e-46aa-9b5f-6bf13c496e9a",
   "metadata": {},
   "source": [
    "REMEDY:\n",
    " \n",
    "THERE IS NO REMEDY\n",
    "you cannot relax this assumption\n",
    "\n",
    "The only thing you can do is to avoid using linear regression model in such a setting.\n",
    "\n",
    "(When in the presence of autocorrelation avoid the linear regression model)"
   ]
  },
  {
   "cell_type": "markdown",
   "id": "32645431-a749-4b0a-9193-3625a29b1d88",
   "metadata": {},
   "source": [
    "ALTERNATIVES:\n",
    "\n",
    "There are other types of regression that deals with time series data.\n",
    "\n",
    "It is possible to use :\n",
    "\n",
    ". Another Autoregressive model\n",
    "\n",
    ". A moving average model\n",
    "\n",
    ". An Autoregressive moving average model\n",
    "\n",
    ". Autoregressive integrated moving average model.\n",
    "\n",
    "You can make your choice from any of these but dont use the linear regression model when the error terms are autocorrelated."
   ]
  },
  {
   "cell_type": "markdown",
   "id": "c8989c94-a6c2-4fa7-bca7-04362a112c01",
   "metadata": {},
   "source": [
    "### A5 No Multicollinearity"
   ]
  },
  {
   "cell_type": "markdown",
   "id": "7dc80550-9266-45ce-b14c-4d82cb1bf2cd",
   "metadata": {},
   "source": [
    "\n",
    "No Multicollinearity:\n",
    "\n",
    "This is observed when two or more variables have a high correlation.\n",
    "\n",
    "It is mathematically represented as follows:\n",
    "\n",
    "pxixj ~~ 1 : ∀ 𝑖, j ≠ 𝑗\n",
    "\n",
    "Lets examplify this point with an equation\n",
    "\n",
    "a = 2 + 5 * b\n",
    "\n",
    "a and b are two variables with exact linear combination.\n",
    "\n",
    "a can be represented using b and b can be represented using a.\n",
    "b = a - 2 / 5\n",
    "\n",
    "In a model containing a and b, we will have perfect multicollinearity.\n",
    "\n",
    "Pab = 1 (perfect multicollinearity).\n",
    "\n",
    "This imposes a big problem to our model as the coefficient will be wrongly estimated.\n",
    "\n",
    "The reasoning is that if a can be represented using b , there is no point using both ,we can just keep one of them."
   ]
  },
  {
   "cell_type": "markdown",
   "id": "9889a0d4-4f3b-44c0-8f86-39d71b1edb10",
   "metadata": {},
   "source": [
    "Another example will be c and d with a correlation of 90%.\n",
    "\n",
    "Pcd= 0.9 imperfect multicollinearity\n",
    "\n",
    "If we have a regression model using c and d we will also have multicollinearity but not perfect.\n",
    "\n",
    "Here the assumption is still violated and poses a problem to our model\n",
    "\n",
    "Rational: if c you can be ALMOST represented using d, there is no point in using both."
   ]
  },
  {
   "cell_type": "markdown",
   "id": "09cb1521-e46c-4d2d-bc9e-7df1fa7ca9c1",
   "metadata": {},
   "source": [
    "Usually real life examples are helpful.\n",
    "\n",
    "Lets look at this,\n",
    "\n",
    "There are two bars in the neighbourhood, Bonkers and shakespeare.\n",
    "\n",
    "Problem: \n",
    "we want to predict the market share of bunkers in different settings.\n",
    "\n",
    "Most people in the neihbourhood drinks only beers in the bars.\n",
    "\n",
    "A good approximation will be a model with 3 variables.\n",
    "\n",
    "Market share = F(P1/2pint B' P pint B, Ppints)\n",
    "\n",
    "(the price of half of pint of beer at bunkers,the price of a pint of beer at bunkers and the price of a pint of beer at shakespeare.\n",
    "\n",
    "If one violates the prices ,people will easily switch bars.\n",
    "\n",
    "So the price in one bar is the predictor of the market share of the other bar.\n",
    "\n",
    "1/2 a pint of bear at bunkers cost 1 $\n",
    "\n",
    "1/2pint beer = $1.00(old) => $0.90 (new) \n",
    "\n",
    "1 pint of beer cost $1.90 (old) => $1.70 (new)\n",
    " \n",
    "Bunkers tries to get its market shares by cutting its price to $0.90cents.\n",
    "\n",
    "\n",
    "Bonkers management lowers the price of a pint of beer to a $ 1.70.\n",
    "\n",
    "Next thing to do is to run a regression between this two variables."
   ]
  },
  {
   "cell_type": "raw",
   "id": "76898cdc-af36-4846-9d28-4184ce93fdbc",
   "metadata": {},
   "source": [
    "Cooefficients(b) Standard Error t Stat P-value.\n",
    "\n",
    "Intercept                       0.127\n",
    "\n",
    "price 1/2pint B                 0.741\n",
    "\n",
    "Price pint B                    0.082\n",
    "Price pint S                    0.000"
   ]
  },
  {
   "cell_type": "markdown",
   "id": "4b2d1131-203a-4ecb-9ed9-91d67d55c028",
   "metadata": {},
   "source": [
    "The P value for a pint of bear at Bunkers (0.741) and half a pint at bunkers 0.082) shows that they are insignificant.\n",
    "\n",
    "This is because the other line logic behind our model is so rigid."
   ]
  },
  {
   "cell_type": "markdown",
   "id": "8231512a-ba75-4311-96ce-20f990af6326",
   "metadata": {},
   "source": [
    "No multicollinearity is an assumption of the calculation behind the regression.\n",
    "\n",
    "The price of half a pint and a full price at bunker definitely moves together.\n",
    "\n",
    "Pp1/2 pint B' Ppint b ~~ 1\n",
    "\n",
    "This messed up the whole calculation of the computer and it provided us with wrong estimate and wrong p-values."
   ]
  },
  {
   "cell_type": "markdown",
   "id": "362b3a0c-7544-4a4a-88eb-d3caa891f060",
   "metadata": {},
   "source": [
    "How do we fix it ?"
   ]
  },
  {
   "cell_type": "markdown",
   "id": "ba78fb42-c2b1-456c-9fc4-d554dbc3c589",
   "metadata": {},
   "source": [
    "There are 3 types of fixes:\n",
    "    \n",
    "1. Drop one of the two variables \n",
    "\n",
    "2.Transform them into one variable(e.g. average price)\n",
    "\n",
    "3.Keep them both:\n",
    "If you are supper confident in your skills, you can keep them both why treating them with extreme caution.\n",
    "\n",
    "The correct approach depends on the research at hand."
   ]
  },
  {
   "cell_type": "markdown",
   "id": "77914bc1-d530-4b73-a428-f58f6de7e17b",
   "metadata": {},
   "source": [
    "Multicollinearity is a big problem but it is also the easiest to notice."
   ]
  },
  {
   "cell_type": "markdown",
   "id": "3b742aff-1aea-40fc-b1ac-4e5e21858e1c",
   "metadata": {},
   "source": [
    "Prevention"
   ]
  },
  {
   "cell_type": "markdown",
   "id": "8c5bea2d-7f11-40ca-a6b1-59e3b92f209f",
   "metadata": {},
   "source": [
    "Before creating the regression, find the correlation between each two pairs of independent variables.\n",
    "\n",
    "Then you will know if a multicollinearity problem may arise."
   ]
  },
  {
   "cell_type": "markdown",
   "id": "d18663e4-21fa-4c9f-93eb-3df8d55f6cce",
   "metadata": {},
   "source": [
    "pxixj for ∀ 𝑖, j; i ≠ 𝑗\n"
   ]
  },
  {
   "cell_type": "markdown",
   "id": "a84e9519-5b6b-4392-b0be-1a4f1e978d38",
   "metadata": {},
   "source": [
    "### Dealing with categorical data - Dummy Variables"
   ]
  },
  {
   "cell_type": "markdown",
   "id": "c687c03d-a860-4cdf-b986-ba51ed5875c3",
   "metadata": {},
   "source": [
    "A duumy variable is an imitation that stands as a substitute.\n",
    "In regression analysis,a dummy is a variable that is used to regroup categorical data into a regression model.\n",
    "\n",
    "We imitate the categories into numbers(yes =1. No = 0)\n",
    "\n",
    "So far we have used only numerical data like SAT score and GPA and Random 1,2,3 from the adjusted R-squared lesson."
   ]
  },
  {
   "cell_type": "markdown",
   "id": "37d948de-68a7-4fab-9c46-5840d8bbeba7",
   "metadata": {},
   "source": [
    "We will be looking at categorical variables like Gender ,Season and Brand.\n",
    "\n",
    "We will be learning how to include it into a regreesion we are workong with."
   ]
  },
  {
   "cell_type": "markdown",
   "id": "0b43cda4-f059-4fb4-96fe-a745cd5f9b72",
   "metadata": {},
   "source": [
    "For instance, looking at our SAT => GPA example that we all know very well.\n",
    "\n",
    "Generally,another good suitable regressor of a GPA is Attendance\n",
    "\n",
    "Here is a dataset that includes a variable that measures if a student attended more than 75% of the university lectures.\n",
    "\n",
    "This is categorical data, so we cannot simply put it into regression "
   ]
  },
  {
   "cell_type": "markdown",
   "id": "6e954e9f-7850-432d-9285-969e8f434ea7",
   "metadata": {},
   "source": [
    "Our approach here will be to go through the process of using a dummy and explain it later on"
   ]
  },
  {
   "cell_type": "code",
   "execution_count": 1,
   "id": "ca937d01-32f9-4950-b26a-748db13c56c8",
   "metadata": {},
   "outputs": [],
   "source": [
    "import numpy as np\n",
    "import pandas as pd\n",
    "import statsmodels.api as sm\n",
    "import matplotlib.pyplot as plt\n",
    "import seaborn as sns\n",
    "sns.set()"
   ]
  },
  {
   "cell_type": "code",
   "execution_count": null,
   "id": "8aa433e2-ec8d-4c65-a053-375035cce1da",
   "metadata": {},
   "outputs": [],
   "source": [
    "# data = pd.read_csv(\"C:\\\\Users\\\\user\\\\Downloads\\\\real_estate_price_size.csv\")"
   ]
  },
  {
   "cell_type": "code",
   "execution_count": 2,
   "id": "8ba9b591-d724-4694-aaeb-7c6fc7d74919",
   "metadata": {},
   "outputs": [],
   "source": [
    "raw_data = pd.read_csv(\"C:\\\\Users\\\\user\\\\Downloads\\\\1.03.+Dummies.csv\")"
   ]
  },
  {
   "cell_type": "code",
   "execution_count": 19,
   "id": "256a963e-e65a-4ded-8c16-e13fe3071988",
   "metadata": {},
   "outputs": [
    {
     "data": {
      "text/html": [
       "<div>\n",
       "<style scoped>\n",
       "    .dataframe tbody tr th:only-of-type {\n",
       "        vertical-align: middle;\n",
       "    }\n",
       "\n",
       "    .dataframe tbody tr th {\n",
       "        vertical-align: top;\n",
       "    }\n",
       "\n",
       "    .dataframe thead th {\n",
       "        text-align: right;\n",
       "    }\n",
       "</style>\n",
       "<table border=\"1\" class=\"dataframe\">\n",
       "  <thead>\n",
       "    <tr style=\"text-align: right;\">\n",
       "      <th></th>\n",
       "      <th>SAT</th>\n",
       "      <th>GPA</th>\n",
       "      <th>Attendance</th>\n",
       "    </tr>\n",
       "  </thead>\n",
       "  <tbody>\n",
       "    <tr>\n",
       "      <th>0</th>\n",
       "      <td>1714</td>\n",
       "      <td>2.40</td>\n",
       "      <td>No</td>\n",
       "    </tr>\n",
       "    <tr>\n",
       "      <th>1</th>\n",
       "      <td>1664</td>\n",
       "      <td>2.52</td>\n",
       "      <td>No</td>\n",
       "    </tr>\n",
       "    <tr>\n",
       "      <th>2</th>\n",
       "      <td>1760</td>\n",
       "      <td>2.54</td>\n",
       "      <td>No</td>\n",
       "    </tr>\n",
       "    <tr>\n",
       "      <th>3</th>\n",
       "      <td>1685</td>\n",
       "      <td>2.74</td>\n",
       "      <td>No</td>\n",
       "    </tr>\n",
       "    <tr>\n",
       "      <th>4</th>\n",
       "      <td>1693</td>\n",
       "      <td>2.83</td>\n",
       "      <td>No</td>\n",
       "    </tr>\n",
       "    <tr>\n",
       "      <th>...</th>\n",
       "      <td>...</td>\n",
       "      <td>...</td>\n",
       "      <td>...</td>\n",
       "    </tr>\n",
       "    <tr>\n",
       "      <th>79</th>\n",
       "      <td>1936</td>\n",
       "      <td>3.71</td>\n",
       "      <td>Yes</td>\n",
       "    </tr>\n",
       "    <tr>\n",
       "      <th>80</th>\n",
       "      <td>1810</td>\n",
       "      <td>3.71</td>\n",
       "      <td>Yes</td>\n",
       "    </tr>\n",
       "    <tr>\n",
       "      <th>81</th>\n",
       "      <td>1987</td>\n",
       "      <td>3.73</td>\n",
       "      <td>No</td>\n",
       "    </tr>\n",
       "    <tr>\n",
       "      <th>82</th>\n",
       "      <td>1962</td>\n",
       "      <td>3.76</td>\n",
       "      <td>Yes</td>\n",
       "    </tr>\n",
       "    <tr>\n",
       "      <th>83</th>\n",
       "      <td>2050</td>\n",
       "      <td>3.81</td>\n",
       "      <td>Yes</td>\n",
       "    </tr>\n",
       "  </tbody>\n",
       "</table>\n",
       "<p>84 rows × 3 columns</p>\n",
       "</div>"
      ],
      "text/plain": [
       "     SAT   GPA Attendance\n",
       "0   1714  2.40         No\n",
       "1   1664  2.52         No\n",
       "2   1760  2.54         No\n",
       "3   1685  2.74         No\n",
       "4   1693  2.83         No\n",
       "..   ...   ...        ...\n",
       "79  1936  3.71        Yes\n",
       "80  1810  3.71        Yes\n",
       "81  1987  3.73         No\n",
       "82  1962  3.76        Yes\n",
       "83  2050  3.81        Yes\n",
       "\n",
       "[84 rows x 3 columns]"
      ]
     },
     "execution_count": 19,
     "metadata": {},
     "output_type": "execute_result"
    }
   ],
   "source": [
    "raw_data"
   ]
  },
  {
   "cell_type": "markdown",
   "id": "93a78b01-b947-4cf2-a5b9-ded4b193c59d",
   "metadata": {},
   "source": [
    " This contains attendance to show if a student attended more than 75% with two possibilities, \"yes\" and \"No\"\n",
    " \n",
    "what we will usually do in such cases is to mark the yes and no values with ones and zeros.\n",
    "\n",
    "In this way if the student attended more than 75% of the lessons the number will be equal to one. (Yes = 1) otherwise it will be a zero (No = 0)\n",
    "\n",
    "Hence, we have trannsformed our yes and no questions into zeros and ones.\n",
    "\n",
    "That's what the dummy names stands for, we are immitating the categories with numbers.\n",
    "\n",
    "In pandas that is done quite intuitively"
   ]
  },
  {
   "cell_type": "markdown",
   "id": "8189b561-95a5-444b-9b6b-3bbaf930a2d6",
   "metadata": {},
   "source": [
    "Lets create a new variable,and overright the series in a DataFrame"
   ]
  },
  {
   "cell_type": "code",
   "execution_count": 3,
   "id": "ba21809b-be16-4bc3-bc26-07fe5e227c81",
   "metadata": {},
   "outputs": [],
   "source": [
    "data = raw_data.copy() # ceate a new variable"
   ]
  },
  {
   "cell_type": "code",
   "execution_count": 4,
   "id": "7d393c0a-5888-4354-88bc-1878f0eeb715",
   "metadata": {},
   "outputs": [],
   "source": [
    "data['Attendance'] = data['Attendance'].map({'yes':1,'No':0})  \n",
    "#overite the series attendance in a DataFrame, Specify the enteries to be mapped in a new value\n",
    "# Let yes be mapped to 1 and No be mapped to 0)"
   ]
  },
  {
   "cell_type": "code",
   "execution_count": 5,
   "id": "9f3eb1c0-97b5-41c9-9a12-3839c865e852",
   "metadata": {},
   "outputs": [
    {
     "data": {
      "text/html": [
       "<div>\n",
       "<style scoped>\n",
       "    .dataframe tbody tr th:only-of-type {\n",
       "        vertical-align: middle;\n",
       "    }\n",
       "\n",
       "    .dataframe tbody tr th {\n",
       "        vertical-align: top;\n",
       "    }\n",
       "\n",
       "    .dataframe thead th {\n",
       "        text-align: right;\n",
       "    }\n",
       "</style>\n",
       "<table border=\"1\" class=\"dataframe\">\n",
       "  <thead>\n",
       "    <tr style=\"text-align: right;\">\n",
       "      <th></th>\n",
       "      <th>SAT</th>\n",
       "      <th>GPA</th>\n",
       "      <th>Attendance</th>\n",
       "    </tr>\n",
       "  </thead>\n",
       "  <tbody>\n",
       "    <tr>\n",
       "      <th>0</th>\n",
       "      <td>1714</td>\n",
       "      <td>2.40</td>\n",
       "      <td>0.0</td>\n",
       "    </tr>\n",
       "    <tr>\n",
       "      <th>1</th>\n",
       "      <td>1664</td>\n",
       "      <td>2.52</td>\n",
       "      <td>0.0</td>\n",
       "    </tr>\n",
       "    <tr>\n",
       "      <th>2</th>\n",
       "      <td>1760</td>\n",
       "      <td>2.54</td>\n",
       "      <td>0.0</td>\n",
       "    </tr>\n",
       "    <tr>\n",
       "      <th>3</th>\n",
       "      <td>1685</td>\n",
       "      <td>2.74</td>\n",
       "      <td>0.0</td>\n",
       "    </tr>\n",
       "    <tr>\n",
       "      <th>4</th>\n",
       "      <td>1693</td>\n",
       "      <td>2.83</td>\n",
       "      <td>0.0</td>\n",
       "    </tr>\n",
       "    <tr>\n",
       "      <th>...</th>\n",
       "      <td>...</td>\n",
       "      <td>...</td>\n",
       "      <td>...</td>\n",
       "    </tr>\n",
       "    <tr>\n",
       "      <th>79</th>\n",
       "      <td>1936</td>\n",
       "      <td>3.71</td>\n",
       "      <td>NaN</td>\n",
       "    </tr>\n",
       "    <tr>\n",
       "      <th>80</th>\n",
       "      <td>1810</td>\n",
       "      <td>3.71</td>\n",
       "      <td>NaN</td>\n",
       "    </tr>\n",
       "    <tr>\n",
       "      <th>81</th>\n",
       "      <td>1987</td>\n",
       "      <td>3.73</td>\n",
       "      <td>0.0</td>\n",
       "    </tr>\n",
       "    <tr>\n",
       "      <th>82</th>\n",
       "      <td>1962</td>\n",
       "      <td>3.76</td>\n",
       "      <td>NaN</td>\n",
       "    </tr>\n",
       "    <tr>\n",
       "      <th>83</th>\n",
       "      <td>2050</td>\n",
       "      <td>3.81</td>\n",
       "      <td>NaN</td>\n",
       "    </tr>\n",
       "  </tbody>\n",
       "</table>\n",
       "<p>84 rows × 3 columns</p>\n",
       "</div>"
      ],
      "text/plain": [
       "     SAT   GPA  Attendance\n",
       "0   1714  2.40         0.0\n",
       "1   1664  2.52         0.0\n",
       "2   1760  2.54         0.0\n",
       "3   1685  2.74         0.0\n",
       "4   1693  2.83         0.0\n",
       "..   ...   ...         ...\n",
       "79  1936  3.71         NaN\n",
       "80  1810  3.71         NaN\n",
       "81  1987  3.73         0.0\n",
       "82  1962  3.76         NaN\n",
       "83  2050  3.81         NaN\n",
       "\n",
       "[84 rows x 3 columns]"
      ]
     },
     "execution_count": 5,
     "metadata": {},
     "output_type": "execute_result"
    }
   ],
   "source": [
    "data"
   ]
  },
  {
   "cell_type": "markdown",
   "id": "3c0a1319-9fd7-4233-9393-68ea3ce53687",
   "metadata": {},
   "source": [
    "We have successfully created a dummy variable.\n",
    "\n",
    "The categorical data in the series was replaced or marked numerical"
   ]
  },
  {
   "cell_type": "code",
   "execution_count": 24,
   "id": "16cd07ec-6fa3-4c24-a59d-ce3c84222cab",
   "metadata": {},
   "outputs": [
    {
     "data": {
      "text/html": [
       "<div>\n",
       "<style scoped>\n",
       "    .dataframe tbody tr th:only-of-type {\n",
       "        vertical-align: middle;\n",
       "    }\n",
       "\n",
       "    .dataframe tbody tr th {\n",
       "        vertical-align: top;\n",
       "    }\n",
       "\n",
       "    .dataframe thead th {\n",
       "        text-align: right;\n",
       "    }\n",
       "</style>\n",
       "<table border=\"1\" class=\"dataframe\">\n",
       "  <thead>\n",
       "    <tr style=\"text-align: right;\">\n",
       "      <th></th>\n",
       "      <th>SAT</th>\n",
       "      <th>GPA</th>\n",
       "      <th>Attendance</th>\n",
       "    </tr>\n",
       "  </thead>\n",
       "  <tbody>\n",
       "    <tr>\n",
       "      <th>count</th>\n",
       "      <td>84.000000</td>\n",
       "      <td>84.000000</td>\n",
       "      <td>45.0</td>\n",
       "    </tr>\n",
       "    <tr>\n",
       "      <th>mean</th>\n",
       "      <td>1845.273810</td>\n",
       "      <td>3.330238</td>\n",
       "      <td>0.0</td>\n",
       "    </tr>\n",
       "    <tr>\n",
       "      <th>std</th>\n",
       "      <td>104.530661</td>\n",
       "      <td>0.271617</td>\n",
       "      <td>0.0</td>\n",
       "    </tr>\n",
       "    <tr>\n",
       "      <th>min</th>\n",
       "      <td>1634.000000</td>\n",
       "      <td>2.400000</td>\n",
       "      <td>0.0</td>\n",
       "    </tr>\n",
       "    <tr>\n",
       "      <th>25%</th>\n",
       "      <td>1772.000000</td>\n",
       "      <td>3.190000</td>\n",
       "      <td>0.0</td>\n",
       "    </tr>\n",
       "    <tr>\n",
       "      <th>50%</th>\n",
       "      <td>1846.000000</td>\n",
       "      <td>3.380000</td>\n",
       "      <td>0.0</td>\n",
       "    </tr>\n",
       "    <tr>\n",
       "      <th>75%</th>\n",
       "      <td>1934.000000</td>\n",
       "      <td>3.502500</td>\n",
       "      <td>0.0</td>\n",
       "    </tr>\n",
       "    <tr>\n",
       "      <th>max</th>\n",
       "      <td>2050.000000</td>\n",
       "      <td>3.810000</td>\n",
       "      <td>0.0</td>\n",
       "    </tr>\n",
       "  </tbody>\n",
       "</table>\n",
       "</div>"
      ],
      "text/plain": [
       "               SAT        GPA  Attendance\n",
       "count    84.000000  84.000000        45.0\n",
       "mean   1845.273810   3.330238         0.0\n",
       "std     104.530661   0.271617         0.0\n",
       "min    1634.000000   2.400000         0.0\n",
       "25%    1772.000000   3.190000         0.0\n",
       "50%    1846.000000   3.380000         0.0\n",
       "75%    1934.000000   3.502500         0.0\n",
       "max    2050.000000   3.810000         0.0"
      ]
     },
     "execution_count": 24,
     "metadata": {},
     "output_type": "execute_result"
    }
   ],
   "source": [
    "#descriptive statictics\n",
    "data.describe()"
   ]
  },
  {
   "cell_type": "markdown",
   "id": "035d4f9a-356e-4872-b3aa-d0d3a9c2c2a7",
   "metadata": {},
   "source": [
    "Observe that the mean of attendace for more than 75% is 0.46.\n",
    "\n",
    "The fact that the mean is less than 5 gives us the information that there are more zeros than ones.\n",
    "\n",
    "Since the two outcomes are zeros and ones, it implies that 46% of the students have attended more than 75% of the lessons."
   ]
  },
  {
   "cell_type": "markdown",
   "id": "0775c636-0fbd-411c-bbd2-0fe21f61a105",
   "metadata": {},
   "source": [
    "Now we can create a regression that explains GPA taking into consideration both SAT scores and Attendance."
   ]
  },
  {
   "cell_type": "markdown",
   "id": "b63c55df-6a2b-46df-82e8-cdbc13ceb6ff",
   "metadata": {},
   "source": [
    "#### Regression"
   ]
  },
  {
   "cell_type": "code",
   "execution_count": 25,
   "id": "d7429e7f-266c-4753-b593-be30cb5b5db3",
   "metadata": {},
   "outputs": [],
   "source": [
    "y = data['GPA']\n",
    "x1 = data[['SAT', 'Attendance']]"
   ]
  },
  {
   "cell_type": "markdown",
   "id": "e08e0d39-8515-4e2f-8a90-051846528b9c",
   "metadata": {},
   "source": [
    "We must use the stat model method for adding a constant,then we can fit the regression and get the summary and the result is the following:"
   ]
  },
  {
   "cell_type": "code",
   "execution_count": 26,
   "id": "7b140622-4380-4fde-a649-21486c1c017d",
   "metadata": {},
   "outputs": [],
   "source": [
    "# x = sm.add_constant(x1)\n",
    "# results = sm.OLS(y,x),fit()\n",
    "# results.summary()"
   ]
  },
  {
   "cell_type": "markdown",
   "id": "a6f42070-d2c6-484f-ac31-fa860cbd3786",
   "metadata": {},
   "source": [
    "Our overall model is significant\n",
    "F-statistic : 62.70\n",
    "\n",
    "prob(F-statistic): 219e-15\n",
    "\n",
    "The P>|t| is significant: 0.000 SAT\n",
    "\n",
    "0.000 Attendance\n",
    "\n",
    "The adjusted R-squared of this model is\n",
    "\n",
    "0.555 which is a great improvement from\n",
    "\n",
    "what we got initially without attendance.\n",
    "\n",
    "The adjusted R-squaredwithout Attendance \n",
    "\n",
    "was 0.399"
   ]
  },
  {
   "cell_type": "markdown",
   "id": "24427b65-7604-4b2c-b695-32a0c461e271",
   "metadata": {},
   "source": [
    "The original model without the dummy variable was :\n",
    "\n",
    "GPA = 0.275 + 0.0017 * SAT score of a student\n",
    "\n",
    "The model including the dummy variable is :\n",
    "GPA = 0.6439 + 0.0014 * SAT + 0.2226 * Dummy\n",
    "\n",
    "We said that the dummy is 0 or 1 so actually we can represent this equation with two others.\n",
    "\n",
    "\n",
    "If the student did not attend , the dummy will be 0,\n",
    "GPA = 0.6439 + 0.0014 * SAT + 0.2226 * 0\n",
    "\n",
    "which gives you,\n",
    "\n",
    "GPA =  0.6439 + 0.0014 * SAT "
   ]
  },
  {
   "cell_type": "markdown",
   "id": "45561d6b-8655-43dc-8a9a-2be9f7007d93",
   "metadata": {},
   "source": [
    "If the student attended the dummy will be 1 ,so the model becomes:\n",
    "\n",
    "GPA = 0.6439 + 0.0014 * SAT + 0.2226 * 1\n",
    "\n",
    "whic gives you,\n",
    "\n",
    "GPA = 0.6439 + 0.0014 * SAT + 0.2226 \n",
    "\n"
   ]
  },
  {
   "cell_type": "markdown",
   "id": "aec36863-52bd-478c-b3f9-ee5f4c35ea52",
   "metadata": {},
   "source": [
    "Let's add the intercept and the dummy together\n",
    "\n",
    "GPA = 0.6439(intercept) + 0.2226( Dummy) = 0.8665\n",
    "\n",
    "GPA = 0.8665 + 0.0014 * SAT"
   ]
  },
  {
   "cell_type": "markdown",
   "id": "edb40936-8cf7-4522-812e-59f4a30f8f53",
   "metadata": {},
   "source": [
    "Let's plot the data\n",
    "\n",
    "\n",
    "Attended (dummy =1)\n",
    "\n",
    "GPA = 0.8665 + 0.0014 * SAT\n",
    "\n",
    "\n",
    "Did not attend (dummy = 0)\n",
    "\n",
    "GPA = 0.6439 + 0.0014 * SAT"
   ]
  },
  {
   "cell_type": "code",
   "execution_count": 6,
   "id": "7cac0fb7-b44f-4f13-b5a8-4742af59c674",
   "metadata": {},
   "outputs": [
    {
     "ename": "NameError",
     "evalue": "name 'x1' is not defined",
     "output_type": "error",
     "traceback": [
      "\u001b[1;31m---------------------------------------------------------------------------\u001b[0m",
      "\u001b[1;31mNameError\u001b[0m                                 Traceback (most recent call last)",
      "\u001b[1;32m~\\AppData\\Local\\Temp/ipykernel_11560/190152159.py\u001b[0m in \u001b[0;36m<module>\u001b[1;34m\u001b[0m\n\u001b[1;32m----> 1\u001b[1;33m \u001b[0mx\u001b[0m \u001b[1;33m=\u001b[0m \u001b[0msm\u001b[0m\u001b[1;33m.\u001b[0m\u001b[0madd_constant\u001b[0m\u001b[1;33m(\u001b[0m\u001b[0mx1\u001b[0m\u001b[1;33m)\u001b[0m\u001b[1;33m\u001b[0m\u001b[1;33m\u001b[0m\u001b[0m\n\u001b[0m\u001b[0;32m      2\u001b[0m \u001b[0mresults\u001b[0m \u001b[1;33m=\u001b[0m \u001b[0msm\u001b[0m\u001b[1;33m.\u001b[0m\u001b[0mOLS\u001b[0m\u001b[1;33m(\u001b[0m\u001b[0my\u001b[0m\u001b[1;33m,\u001b[0m\u001b[0mx\u001b[0m\u001b[1;33m)\u001b[0m\u001b[1;33m.\u001b[0m\u001b[0mfit\u001b[0m\u001b[1;33m(\u001b[0m\u001b[1;33m)\u001b[0m\u001b[1;33m\u001b[0m\u001b[1;33m\u001b[0m\u001b[0m\n\u001b[0;32m      3\u001b[0m \u001b[0mresults\u001b[0m\u001b[1;33m.\u001b[0m\u001b[0msummary\u001b[0m\u001b[1;33m(\u001b[0m\u001b[1;33m)\u001b[0m\u001b[1;33m\u001b[0m\u001b[1;33m\u001b[0m\u001b[0m\n",
      "\u001b[1;31mNameError\u001b[0m: name 'x1' is not defined"
     ]
    }
   ],
   "source": [
    "x = sm.add_constant(x1)\n",
    "results = sm.OLS(y,x).fit()\n",
    "results.summary()"
   ]
  },
  {
   "cell_type": "markdown",
   "id": "6b60a68f-4fde-4874-b629-64e39afc1a84",
   "metadata": {},
   "source": [
    "AAAAATTTTTTENTION mY OUTCOME IS 0? WWHHYYY!!1"
   ]
  },
  {
   "cell_type": "markdown",
   "id": "ca83e7fd-f8a2-4e89-bcd8-22ae1bac2f90",
   "metadata": {},
   "source": [
    "We will plot the data using two equations  (yhat_no and yhat_yes.\n",
    "\n",
    "they will represent the equations for yes GPA = 0.8665 + 0.0014 * SAT \n",
    "\n",
    "and no \n",
    "GPA = 0.6439 + 0.0014 * SAT"
   ]
  },
  {
   "cell_type": "markdown",
   "id": "e87fd57d-68f4-4524-b6c8-b39532219403",
   "metadata": {},
   "source": [
    "We can as well parametarise these equation but there is no need for such a simple example.\n",
    "\n",
    "What we observe are two equations that have thesame slope but diffent intercept\n",
    "\n",
    "The students who attended are spread along the upper line, \n",
    "on average there GPA is 0.2226 higher than the GPA of students who did not attend.\n",
    "\n",
    "We can also think about this as two seperate regression"
   ]
  },
  {
   "cell_type": "markdown",
   "id": "c756ee3a-c7ab-47d0-9fa9-7253e8f8d87c",
   "metadata": {},
   "source": [
    "Lets colour the points as follows The sudents who atended class have the 'red line' \n",
    "\n",
    "and the ones that did not attend have the 'green line '\n",
    "\n",
    "with this you can clearly see the difference"
   ]
  },
  {
   "cell_type": "code",
   "execution_count": 9,
   "id": "5f42d2b4-ea1f-4ece-8037-3fd84a25db61",
   "metadata": {},
   "outputs": [
    {
     "ename": "NameError",
     "evalue": "name 'data' is not defined",
     "output_type": "error",
     "traceback": [
      "\u001b[1;31m---------------------------------------------------------------------------\u001b[0m",
      "\u001b[1;31mNameError\u001b[0m                                 Traceback (most recent call last)",
      "\u001b[1;32m~\\AppData\\Local\\Temp/ipykernel_11236/622633466.py\u001b[0m in \u001b[0;36m<module>\u001b[1;34m\u001b[0m\n\u001b[1;32m----> 1\u001b[1;33m \u001b[0mplt\u001b[0m\u001b[1;33m.\u001b[0m\u001b[0mscatter\u001b[0m\u001b[1;33m(\u001b[0m\u001b[0mdata\u001b[0m\u001b[1;33m[\u001b[0m\u001b[1;34m'SAT'\u001b[0m\u001b[1;33m]\u001b[0m\u001b[1;33m,\u001b[0m\u001b[0my\u001b[0m\u001b[1;33m)\u001b[0m\u001b[1;33m\u001b[0m\u001b[1;33m\u001b[0m\u001b[0m\n\u001b[0m\u001b[0;32m      2\u001b[0m \u001b[0myhat_no\u001b[0m \u001b[1;33m=\u001b[0m \u001b[1;36m0.6439\u001b[0m \u001b[1;33m+\u001b[0m \u001b[1;36m0.0014\u001b[0m\u001b[1;33m*\u001b[0m\u001b[0mdata\u001b[0m\u001b[1;33m[\u001b[0m\u001b[1;34m'SAT'\u001b[0m\u001b[1;33m]\u001b[0m\u001b[1;33m\u001b[0m\u001b[1;33m\u001b[0m\u001b[0m\n\u001b[0;32m      3\u001b[0m \u001b[0myhat_yes\u001b[0m \u001b[1;33m=\u001b[0m \u001b[1;36m0.8665\u001b[0m \u001b[1;33m+\u001b[0m \u001b[1;36m0.0014\u001b[0m\u001b[1;33m*\u001b[0m\u001b[0mdata\u001b[0m\u001b[1;33m[\u001b[0m\u001b[1;34m'SAT'\u001b[0m\u001b[1;33m]\u001b[0m\u001b[1;33m\u001b[0m\u001b[1;33m\u001b[0m\u001b[0m\n\u001b[0;32m      4\u001b[0m \u001b[0mfig\u001b[0m \u001b[1;33m=\u001b[0m \u001b[0mplt\u001b[0m\u001b[1;33m.\u001b[0m\u001b[0mplot\u001b[0m\u001b[1;33m(\u001b[0m\u001b[0mdata\u001b[0m\u001b[1;33m[\u001b[0m\u001b[1;34m'SAT'\u001b[0m\u001b[1;33m]\u001b[0m\u001b[1;33m,\u001b[0m\u001b[0myhat_no\u001b[0m\u001b[1;33m,\u001b[0m \u001b[0mlw\u001b[0m\u001b[1;33m=\u001b[0m\u001b[1;36m2\u001b[0m\u001b[1;33m,\u001b[0m \u001b[0mc\u001b[0m\u001b[1;33m=\u001b[0m\u001b[1;34m'#006837'\u001b[0m\u001b[1;33m)\u001b[0m\u001b[1;33m\u001b[0m\u001b[1;33m\u001b[0m\u001b[0m\n\u001b[0;32m      5\u001b[0m \u001b[0mfig\u001b[0m \u001b[1;33m=\u001b[0m \u001b[0mplt\u001b[0m\u001b[1;33m.\u001b[0m\u001b[0mplot\u001b[0m\u001b[1;33m(\u001b[0m\u001b[0mdata\u001b[0m\u001b[1;33m[\u001b[0m\u001b[1;34m'SAT'\u001b[0m\u001b[1;33m]\u001b[0m\u001b[1;33m,\u001b[0m\u001b[0myhat_yes\u001b[0m\u001b[1;33m,\u001b[0m \u001b[0mlw\u001b[0m\u001b[1;33m=\u001b[0m\u001b[1;36m2\u001b[0m\u001b[1;33m,\u001b[0m \u001b[0mc\u001b[0m\u001b[1;33m=\u001b[0m\u001b[1;34m'#a50026'\u001b[0m\u001b[1;33m)\u001b[0m\u001b[1;33m\u001b[0m\u001b[1;33m\u001b[0m\u001b[0m\n",
      "\u001b[1;31mNameError\u001b[0m: name 'data' is not defined"
     ]
    }
   ],
   "source": [
    "plt.scatter(data['SAT'],y)\n",
    "yhat_no = 0.6439 + 0.0014*data['SAT']\n",
    "yhat_yes = 0.8665 + 0.0014*data['SAT']\n",
    "fig = plt.plot(data['SAT'],yhat_no, lw=2, c='#006837')\n",
    "fig = plt.plot(data['SAT'],yhat_yes, lw=2, c='#a50026')\n",
    "plt.xlabel('SAT', fontsize =20)\n",
    "plt.ylabel('GPA', fontsize = 20)\n",
    "plt.show()"
   ]
  },
  {
   "cell_type": "markdown",
   "id": "c67a822a-bdcb-4de0-be7d-0d65f4ef8c73",
   "metadata": {},
   "source": [
    "We can also think about this as two seperate regression."
   ]
  },
  {
   "cell_type": "markdown",
   "id": "a4528d2a-43a4-4d5c-9abe-80483d7c5e1b",
   "metadata": {},
   "source": [
    "Lets colour the points as follows:\n",
    "\n",
    "The sudents who atended class have the 'red line' and the ones that did not attend have the 'green line '\n",
    "\n",
    "with this you can clearly see the difference."
   ]
  },
  {
   "cell_type": "code",
   "execution_count": null,
   "id": "8d1ed61c-a89b-4664-abf2-1d9b24d812d4",
   "metadata": {},
   "outputs": [],
   "source": [
    "plt.scatter(data['SAT'],y,c=data['Attendance'],cmap='Rdy1Gn_r')\n",
    "yhat_no = 0.6439 + 0.0014*data['SAT']\n",
    "yhat_yes = 0.8665 + 0.0014*data['SAT']\n",
    "fig = plt.plot(data['SAT'],yhat_no, lw=2, c='#006837')\n",
    "fig = plt.plot(data['SAT'],yhat_yes, lw=2, c='#a50026')\n",
    "plt.xlabel('SAT', fontsize =20)\n",
    "plt.ylabel('GPA', fontsize = 20)\n",
    "plt.show()"
   ]
  },
  {
   "cell_type": "markdown",
   "id": "5077bc8a-c902-4797-b845-4683151e0992",
   "metadata": {},
   "source": [
    "Finally we will put the original regression line on the graph,it is deeper and goes somewhere between the two lines of the dummy.\n",
    "\n",
    "GPA = 0.8665 + 0.0014 * SAT\n",
    "\n",
    "GPA = 0.6439 + 0.0014 * SAT\n",
    "\n",
    "GPA = 0.275 + 0.0017 * SAT"
   ]
  },
  {
   "cell_type": "markdown",
   "id": "4d477bb5-6a4b-4e9d-8ad1-48b0ed4f3265",
   "metadata": {},
   "source": [
    "To use this model for prediction purposes we need two pieces of information.\n",
    "\n",
    "1. SAT score and \n",
    "\n",
    "2. whether a person attended more than 75% of the lectures"
   ]
  },
  {
   "cell_type": "code",
   "execution_count": 10,
   "id": "09372cb5-709e-4599-bb0a-086cb5f2900b",
   "metadata": {},
   "outputs": [
    {
     "ename": "SyntaxError",
     "evalue": "positional argument follows keyword argument (Temp/ipykernel_11236/1090482376.py, line 7)",
     "output_type": "error",
     "traceback": [
      "\u001b[1;36m  File \u001b[1;32m\"C:\\Users\\user\\AppData\\Local\\Temp/ipykernel_11236/1090482376.py\"\u001b[1;36m, line \u001b[1;32m7\u001b[0m\n\u001b[1;33m    fig = plt.plot(data['SAT'],yhat_yes, lw=3, c='#4C72B0','label ='regression line')\u001b[0m\n\u001b[1;37m                                                                    ^\u001b[0m\n\u001b[1;31mSyntaxError\u001b[0m\u001b[1;31m:\u001b[0m positional argument follows keyword argument\n"
     ]
    }
   ],
   "source": [
    "plt.scatter(data['SAT'],y,c=data['Attendance'],cmap='Rdy1Gn_r')\n",
    "yhat_no = 0.6439 + 0.0014*data['SAT']\n",
    "yhat_yes = 0.8665 + 0.0014*data['SAT']\n",
    "yhat = 0.0017*data['SAT'] + 0.275\n",
    "fig = plt.plot(data['SAT'],yhat_no, lw=2, c='#006837', label ='regression line1')\n",
    "fig = plt.plot(data['SAT'],yhat_yes, lw=2, c='#a50026',label ='regression line2')\n",
    "fig = plt.plot(data['SAT'],yhat_yes, lw=3, c='#4C72B0','label ='regression line')\n",
    "plt.xlabel('SAT', fontsize =20)\n",
    "plt.ylabel('GPA', fontsize = 20)\n",
    "plt.show()"
   ]
  },
  {
   "cell_type": "code",
   "execution_count": null,
   "id": "be888b1d-3815-4471-83a4-c5649c0091e2",
   "metadata": {},
   "outputs": [],
   "source": [
    "data = pd.read_csv(\"C:\\\\Users\\\\user\\\\Downloads\\\\real_estate_price_size.csv\")"
   ]
  },
  {
   "cell_type": "markdown",
   "id": "9172a0a2-222d-462b-b995-0af03542c44c",
   "metadata": {},
   "source": [
    "### Making predictions with the linear regression"
   ]
  },
  {
   "cell_type": "markdown",
   "id": "5027f192-0ad3-4595-840c-6ab857f91de7",
   "metadata": {
    "tags": []
   },
   "source": [
    "#### Making predictions with the standardized coefficients(weights)"
   ]
  },
  {
   "cell_type": "markdown",
   "id": "1abeb6a4-a4dd-49f4-9ae5-b8829c41b578",
   "metadata": {},
   "source": [
    "Imagine you got some new data. for simplicity lets  create a DataFrame with two observations.\n",
    "\n",
    "One is a student who got 1700 on the SAT and was assigned the number 2 randomly.\n",
    "\n",
    "The other  is a student who got 1800 on the SAT and was assigned 1 randomly.\n",
    "\n",
    "It is crucial that our new data DatFrame is arranged in the same exact way as our input data x."
   ]
  },
  {
   "cell_type": "markdown",
   "id": "7f225a0e-31de-43d8-9158-924d56667c35",
   "metadata": {},
   "source": [
    "We can now proceed to predicting the new values.\n",
    "\n",
    "We can simply call the predict method on the regression and then specify the new input as an arguement.\n",
    "\n",
    "So reg_predict(new _data)\n",
    "\n",
    "The result that we get is quite confusing\n",
    "295.3997 and 312,5882 and this is not even a valid GPA.\n",
    "\n",
    "This happened because our regression model was trained on standadized input (x_scaled), it expects value that are of thesame magnitude as the ones used in the training process.\n",
    "\n",
    "We exp;ained that the new DataFrame should be arranged in same way as the input x, we can add that it must also be standardized in thesame.\n",
    "\n",
    "With thesame mean and standard deviation.\n",
    "\n",
    "But we already have that stored in the scaler object , lets use the same methodology the,\n",
    "\n",
    "new_data_scaled = scaler.transform(new_data)"
   ]
  },
  {
   "cell_type": "code",
   "execution_count": null,
   "id": "dad3f7fe-a714-456a-ae8b-2f7d0010f417",
   "metadata": {},
   "outputs": [],
   "source": []
  },
  {
   "cell_type": "code",
   "execution_count": 12,
   "id": "3569bea7-20ef-4770-8869-74cb8ce5fa3e",
   "metadata": {},
   "outputs": [],
   "source": [
    "new_data = pd.DataFrame(data=[[1700,2],[1800,1]],columns=['SAT','Rand1,2,3'])"
   ]
  },
  {
   "cell_type": "code",
   "execution_count": 13,
   "id": "99b58e23-4fec-43e4-b2f5-383bb0dede02",
   "metadata": {},
   "outputs": [
    {
     "data": {
      "text/html": [
       "<div>\n",
       "<style scoped>\n",
       "    .dataframe tbody tr th:only-of-type {\n",
       "        vertical-align: middle;\n",
       "    }\n",
       "\n",
       "    .dataframe tbody tr th {\n",
       "        vertical-align: top;\n",
       "    }\n",
       "\n",
       "    .dataframe thead th {\n",
       "        text-align: right;\n",
       "    }\n",
       "</style>\n",
       "<table border=\"1\" class=\"dataframe\">\n",
       "  <thead>\n",
       "    <tr style=\"text-align: right;\">\n",
       "      <th></th>\n",
       "      <th>SAT</th>\n",
       "      <th>Rand1,2,3</th>\n",
       "    </tr>\n",
       "  </thead>\n",
       "  <tbody>\n",
       "    <tr>\n",
       "      <th>0</th>\n",
       "      <td>1700</td>\n",
       "      <td>2</td>\n",
       "    </tr>\n",
       "    <tr>\n",
       "      <th>1</th>\n",
       "      <td>1800</td>\n",
       "      <td>1</td>\n",
       "    </tr>\n",
       "  </tbody>\n",
       "</table>\n",
       "</div>"
      ],
      "text/plain": [
       "    SAT  Rand1,2,3\n",
       "0  1700          2\n",
       "1  1800          1"
      ]
     },
     "execution_count": 13,
     "metadata": {},
     "output_type": "execute_result"
    }
   ],
   "source": [
    "new_data"
   ]
  },
  {
   "cell_type": "code",
   "execution_count": 28,
   "id": "58a8e5a7-9387-48c8-bfec-f2914b5e90e2",
   "metadata": {},
   "outputs": [
    {
     "ename": "NameError",
     "evalue": "name 'reg' is not defined",
     "output_type": "error",
     "traceback": [
      "\u001b[1;31m---------------------------------------------------------------------------\u001b[0m",
      "\u001b[1;31mNameError\u001b[0m                                 Traceback (most recent call last)",
      "\u001b[1;32m~\\AppData\\Local\\Temp/ipykernel_11236/4030582207.py\u001b[0m in \u001b[0;36m<module>\u001b[1;34m\u001b[0m\n\u001b[1;32m----> 1\u001b[1;33m \u001b[0mreg\u001b[0m\u001b[1;33m.\u001b[0m\u001b[0mpredict\u001b[0m\u001b[1;33m(\u001b[0m\u001b[0mnew_data\u001b[0m\u001b[1;33m)\u001b[0m\u001b[1;33m\u001b[0m\u001b[1;33m\u001b[0m\u001b[0m\n\u001b[0m",
      "\u001b[1;31mNameError\u001b[0m: name 'reg' is not defined"
     ]
    }
   ],
   "source": [
    "reg.predict(new_data)"
   ]
  },
  {
   "cell_type": "code",
   "execution_count": null,
   "id": "a0151567-46dd-4940-9539-d088bcef768c",
   "metadata": {},
   "outputs": [],
   "source": [
    "The new DataFrame must be arranged in thesame way and must be"
   ]
  },
  {
   "cell_type": "code",
   "execution_count": 32,
   "id": "d3fcb1ea-b12c-4f42-97a5-8cff2b7b4c5b",
   "metadata": {},
   "outputs": [
    {
     "ename": "NameError",
     "evalue": "name 'scaler' is not defined",
     "output_type": "error",
     "traceback": [
      "\u001b[1;31m---------------------------------------------------------------------------\u001b[0m",
      "\u001b[1;31mNameError\u001b[0m                                 Traceback (most recent call last)",
      "\u001b[1;32m~\\AppData\\Local\\Temp/ipykernel_11236/3183917125.py\u001b[0m in \u001b[0;36m<module>\u001b[1;34m\u001b[0m\n\u001b[1;32m----> 1\u001b[1;33m \u001b[0mnew_data_scaled\u001b[0m \u001b[1;33m=\u001b[0m \u001b[0mscaler\u001b[0m\u001b[1;33m.\u001b[0m\u001b[0mtransform\u001b[0m\u001b[1;33m(\u001b[0m\u001b[0mnew_data\u001b[0m\u001b[1;33m)\u001b[0m\u001b[1;33m\u001b[0m\u001b[1;33m\u001b[0m\u001b[0m\n\u001b[0m\u001b[0;32m      2\u001b[0m \u001b[1;33m\u001b[0m\u001b[0m\n\u001b[0;32m      3\u001b[0m \u001b[0mnew_data_scaled\u001b[0m\u001b[1;33m\u001b[0m\u001b[1;33m\u001b[0m\u001b[0m\n",
      "\u001b[1;31mNameError\u001b[0m: name 'scaler' is not defined"
     ]
    }
   ],
   "source": [
    "new_data_scaled = scaler.transform(new_data)\n",
    "\n",
    "new_data_scaled"
   ]
  },
  {
   "cell_type": "markdown",
   "id": "db27fb20-66d0-42c4-9b03-43e343a5a08e",
   "metadata": {},
   "source": [
    "The outcome is an nd array which consists of standardized data.\n",
    "\n",
    "This looks like the input we trained the model with"
   ]
  },
  {
   "cell_type": "code",
   "execution_count": 33,
   "id": "fe8151a3-5c0a-4efa-af37-d1a07f98a178",
   "metadata": {},
   "outputs": [
    {
     "ename": "NameError",
     "evalue": "name 'reg' is not defined",
     "output_type": "error",
     "traceback": [
      "\u001b[1;31m---------------------------------------------------------------------------\u001b[0m",
      "\u001b[1;31mNameError\u001b[0m                                 Traceback (most recent call last)",
      "\u001b[1;32m~\\AppData\\Local\\Temp/ipykernel_11236/2698792851.py\u001b[0m in \u001b[0;36m<module>\u001b[1;34m\u001b[0m\n\u001b[1;32m----> 1\u001b[1;33m \u001b[0mreg\u001b[0m\u001b[1;33m.\u001b[0m\u001b[0mpredict\u001b[0m\u001b[1;33m(\u001b[0m\u001b[0mnew_data_scaled\u001b[0m\u001b[1;33m)\u001b[0m\u001b[1;33m\u001b[0m\u001b[1;33m\u001b[0m\u001b[0m\n\u001b[0m",
      "\u001b[1;31mNameError\u001b[0m: name 'reg' is not defined"
     ]
    }
   ],
   "source": [
    "reg.predict(new_data_scaled)"
   ]
  },
  {
   "cell_type": "markdown",
   "id": "81e5aaa3-117e-418b-81aa-66541a68a32c",
   "metadata": {},
   "source": [
    "Using the well known method predict, we can find what the predictions are when we feed the new data scale of the array.\n",
    "\n",
    "The result is of the magnitude we anticipated.\n",
    "\n",
    "Our first student is predicted to have a GPA of 3.09 while the second is 3.36"
   ]
  },
  {
   "cell_type": "markdown",
   "id": "24c7bb52-81e1-4692-91d1-20f53d108e67",
   "metadata": {
    "tags": []
   },
   "source": [
    "#### What if we removed the 'Random 1,2,3' variable?"
   ]
  },
  {
   "cell_type": "markdown",
   "id": "d42a5018-8a2e-4598-9a20-4eaa60383dac",
   "metadata": {},
   "source": [
    "First,we must create a new regression, \n",
    "let's call it reg_simple ,since it is a simple linear regression\n",
    "\n",
    "Second, we must declare the input, let's create a new variable called x_simple which will contain all observations from x_scale from last lecture but only referring to the SAT column or column 0.\n",
    "\n",
    "If you remember sklearn will return an error if the input are not in matrix form , so let's make it a matrix with the reshape method.\n",
    "\n",
    "Next we fix the regression with input x_simple matrix and output and out put y.\n",
    "\n",
    "Once the regression is fitted ,we can proceed to preicting a new data."
   ]
  },
  {
   "cell_type": "code",
   "execution_count": null,
   "id": "a9ae66e4-90ac-4ecb-9bcc-753febac55f2",
   "metadata": {},
   "outputs": [],
   "source": [
    "reg_simple = LinearRegression()\n",
    "x-simple_matrix = x-scaled[:,0].reshape(-1,1)\n",
    "reg_simple.fit(x_simple_matrix,y)"
   ]
  },
  {
   "cell_type": "markdown",
   "id": "8b4176e1-b8f5-4646-8c2c-9f32d9630a13",
   "metadata": {},
   "source": [
    "We predict a new data,reg_simple  with arguement only the first column of the scale new data.\n",
    "\n",
    "It is crucial we only feed the SAT score because this regression was trained only on it.\n",
    "\n",
    "Moreover, once again it must be re-shaped for the code to execute properly."
   ]
  },
  {
   "cell_type": "code",
   "execution_count": null,
   "id": "b08e18bf-47bc-4d31-a572-04feedd8f2dc",
   "metadata": {},
   "outputs": [],
   "source": [
    "reg_simple.predict(new_data_scaled[:,0].reshape(-1,1))"
   ]
  },
  {
   "cell_type": "markdown",
   "id": "2c4fe554-5072-4f1a-a5c0-9a93d5ce1bb1",
   "metadata": {},
   "source": [
    "Lets compare the result with what we got from our multiple linear regression,\n",
    "\n",
    "The predicted GPA is slightly different but if we round up to 2 digit after the dot , we get the exact same result. (3.09 ,3.26)\n",
    "\n",
    "These findings shows us why the developers of sklearn have decided that p-values are not needed.\n",
    "\n",
    "When we apply feaure scaling ,it often does not affect the final result if we keep a real value in significant features.\n",
    "\n",
    "The weight will be so close to zero and they will barely influnce the prediction."
   ]
  },
  {
   "cell_type": "code",
   "execution_count": null,
   "id": "7eed5c35-3a4d-445d-82f3-e72e192b48c7",
   "metadata": {},
   "outputs": [],
   "source": []
  }
 ],
 "metadata": {
  "kernelspec": {
   "display_name": "Python 3 (ipykernel)",
   "language": "python",
   "name": "python3"
  },
  "language_info": {
   "codemirror_mode": {
    "name": "ipython",
    "version": 3
   },
   "file_extension": ".py",
   "mimetype": "text/x-python",
   "name": "python",
   "nbconvert_exporter": "python",
   "pygments_lexer": "ipython3",
   "version": "3.9.7"
  },
  "toc-autonumbering": true,
  "toc-showcode": false,
  "toc-showtags": true
 },
 "nbformat": 4,
 "nbformat_minor": 5
}
