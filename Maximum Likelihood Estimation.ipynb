{
 "cells": [
  {
   "cell_type": "markdown",
   "id": "aee93cf1-ba70-4ba7-b65c-a14807bf1ff3",
   "metadata": {},
   "source": [
    "### Week 10 : Day 1 - Maximum Likelihood Estimation"
   ]
  },
  {
   "cell_type": "markdown",
   "id": "8b00b9ac-9636-4d86-9ed2-40e263b1a3aa",
   "metadata": {
    "tags": []
   },
   "source": [
    "In statistics, maximum likelihood estimation (MLE) is a method of estimating the parameters of an assumed probability distribution, given some observed data. This is achieved by maximizing a likelihood function so that, under the assumed statistical model, the observed data is most probable. The point in the parameter space that maximizes the likelihood function is called the maximum likelihood estimate.[1] The logic of maximum likelihood is both intuitive and flexible, and as such the method has become a dominant means of statistical inference.[2][3][4]\n",
    "\n",
    "If the likelihood function is differentiable, the derivative test for finding maxima can be applied. In some cases, the first-order conditions of the likelihood function can be solved analytically; for instance, the ordinary least squares estimator for a linear regression model maximizes the likelihood when all observed outcomes are assumed to have normal distributions with the same variance.[5]\n",
    "\n",
    "From the perspective of Bayesian inference, MLE is generally equivalent to maximum a posteriori (MAP) estimation with uniform prior distributions (or a normal prior distribution with a standard deviation of infinity). In frequentist inference, MLE is a special case of an extremum estimator, with the objective function being the likelihood."
   ]
  },
  {
   "cell_type": "markdown",
   "id": "8347b28f-8e9a-4c18-ba5f-f844f052311a",
   "metadata": {},
   "source": [
    "In simple terms it is a way of finding the best fit for your data.\n",
    "\n",
    "Finding the highest maximum prediction"
   ]
  },
  {
   "cell_type": "markdown",
   "id": "cc69e04d-58a3-49f7-8e1f-bdf823e093c5",
   "metadata": {
    "tags": []
   },
   "source": [
    "Introduction\n",
    "\n",
    "In this post I’ll explain what the maximum likelihood method for\n",
    "\n",
    "parameter estimation is and go through a simple example to\n",
    "\n",
    "demonstrate the method. Some of the content requires knowledge\n",
    "\n",
    "of fundamental probability concepts such as the definition of joint\n",
    "\n",
    "probability and independence of events. I’ve written a blog post\n",
    "\n",
    "with these prerequisites so feel free to read this if you think you\n",
    "\n",
    "need a refresher."
   ]
  },
  {
   "cell_type": "markdown",
   "id": "8fc4aeb3-342b-4f98-a5ef-2c41d444ed10",
   "metadata": {
    "tags": []
   },
   "source": [
    "What are parameters?\n",
    "\n",
    "Often in machine learning we use a model to describe the process\n",
    "that results in the data that are observed.\n",
    "\n",
    "For example, we may use\n",
    "a random forest model to classify whether customers may cancel a\n",
    "\n",
    "\n",
    "subscription from a service (known as churn modelling) or we may\n",
    "\n",
    "use a linear model to predict the revenue that will be generated for\n",
    "\n",
    "a company depending on how much they may spend on\n",
    "advertising (this would be an example of linear \n",
    "\n",
    "regression). Each model contains its own set of parameters that ultimately defines\n",
    "\n",
    "what the model looks like."
   ]
  },
  {
   "cell_type": "markdown",
   "id": "95faed79-214a-4b65-b8ba-8bb09c51e48a",
   "metadata": {
    "tags": []
   },
   "source": [
    "For a linear model we can write this as y = mx + c. In this\n",
    "\n",
    "example x could represent the advertising spend and y might be\n",
    "\n",
    "the revenue generated. m and c are parameters for this model. "
   ]
  },
  {
   "cell_type": "markdown",
   "id": "d99b22b0-af67-4c0c-adff-a723efbdb26c",
   "metadata": {
    "tags": []
   },
   "source": [
    "Different values for these parameters will give different lines (see\n",
    "figure below\n",
    "\n",
    "\n",
    "\n",
    "Three linear models with different parameter values.\n",
    "\n",
    "\n",
    "\n",
    "So parameters define a blueprint for the model. It is only when\n",
    "\n",
    "specific values are chosen for the parameters that we get an\n",
    "\n",
    "instantiation for the model that describes a given phenomenon.\n",
    "\n",
    "\n",
    "Intuitive explanation of maximum likelihood\n",
    "estimation\n",
    "\n",
    "\n",
    "Maximum likelihood estimation is a method that determines\n",
    "\n",
    "values for the parameters of a model. The parameter values are "
   ]
  },
  {
   "cell_type": "markdown",
   "id": "ea6d4e43-2560-4b03-b679-e57e016b8dde",
   "metadata": {
    "tags": []
   },
   "source": [
    "found such that they maximise the likelihood that the process\n",
    "\n",
    "described by the model produced the data that were actually\n",
    "observed.\n",
    "\n",
    "The above definition may still sound a little cryptic so let’s go\n",
    "\n",
    "through an example to help understand this.\n",
    "Let’s suppose we have observed 10 data points from some process.\n",
    "\n",
    "For example, each data point could represent the length of time in"
   ]
  },
  {
   "cell_type": "markdown",
   "id": "0219d6ca-3001-4702-847c-860e1aef6e15",
   "metadata": {
    "tags": []
   },
   "source": [
    "seconds that it takes a student to answer a specific exam question.\n",
    "\n",
    "These 10 data points are shown in the figure below"
   ]
  },
  {
   "cell_type": "markdown",
   "id": "31ac3719-eb21-4f12-9a59-f5858f3832f2",
   "metadata": {
    "tags": []
   },
   "source": [
    "The 10 (hypothetical) data points that we have observed"
   ]
  },
  {
   "cell_type": "markdown",
   "id": "2e2d3430-1a70-4031-bbf7-143b86c3c0cc",
   "metadata": {
    "tags": []
   },
   "source": [
    "We first have to decide which model we think best describes the\n",
    "\n",
    "process of generating the data. This part is very important. \n",
    "\n",
    "At the\n",
    "very least, we should have a good idea about which model to use.\n",
    "\n",
    "This usually comes from having some domain expertise but we\n",
    "wont discuss this here.\n",
    "\n",
    "For these data we’ll assume that the data generation process can"
   ]
  },
  {
   "cell_type": "markdown",
   "id": "5e6c7c6f-9957-47d8-952c-0311d3529839",
   "metadata": {
    "tags": []
   },
   "source": [
    "be adequately described by a Gaussian (normal) distribution.\n",
    "\n",
    "Visual inspection of the figure above suggests that a Gaussian\n",
    "distribution is plausible because most of the 10 points are\n",
    "clustered in the middle with few points scattered to the left and the\n",
    "right. (Making this sort of decision on the fly with only 10 data\n",
    "points is ill-advised but given that I generated these data points\n",
    "we’ll go with it).\n",
    "\n",
    "Recall that the Gaussian distribution has 2 parameters. The mean,\n",
    "μ, and the standard deviation, σ. \n",
    "\n",
    "Different values of these\n",
    "parameters result in different curves (just like with the straight\n",
    "lines above). We want to know which curve was most likely\n",
    "\n",
    "\n",
    "responsible for creating the data points that we observed? "
   ]
  },
  {
   "cell_type": "markdown",
   "id": "81ed7c9b-1b27-4ab2-8e19-68412bf494aa",
   "metadata": {
    "tags": []
   },
   "source": [
    "figure below). Maximum likelihood estimation is a method that\n",
    "\n",
    "will find the values of μ and σ that result in the curve that best fits\n",
    "the data"
   ]
  },
  {
   "cell_type": "markdown",
   "id": "09dad666-cd21-47d9-bf14-ab9677dbaf86",
   "metadata": {
    "tags": []
   },
   "source": [
    "The 10 data points and possible Gaussian \n",
    "\n",
    "distributions from which the data were drawn. f1 is\n",
    "normally distributed with mean 10 and variance 2.25 (variance is equal to the square of the\n",
    "\n",
    "standard deviation), this is also denoted f1 ∼ N (10, 2.25). f2 ∼ N (10, 9), f3 ∼ N (10, 0.25) and\n",
    "f4 ∼ N (8, 2.25). The goal of maximum likelihood is \n",
    "\n",
    "to find the parameter values that give the\n",
    "distribution that maximise the probability of \n",
    "\n",
    "observing the data"
   ]
  },
  {
   "cell_type": "markdown",
   "id": "9793a0d2-e0b1-499f-8b78-3b33bac65879",
   "metadata": {
    "tags": []
   },
   "source": [
    "The true distribution from which the data were generated was f1 ~\n",
    "\n",
    "N(10, 2.25), which is the blue curve in the figure above"
   ]
  },
  {
   "cell_type": "markdown",
   "id": "02ca8ace-f2c8-468e-ad82-0d863606e67a",
   "metadata": {
    "tags": []
   },
   "source": [
    "Calculating the Maximum Likelihood Estimates\n",
    "\n",
    "\n",
    "Now that we have an intuitive understanding of what maximum\n",
    "likelihood estimation is we can move on to learning how to\n",
    "\n",
    "calculate the parameter values. The values that we find are called\n",
    "the maximum likelihood estimates (MLE)"
   ]
  },
  {
   "cell_type": "markdown",
   "id": "5874a065-f391-4faa-b3bd-f9a16b2a5423",
   "metadata": {
    "tags": []
   },
   "source": [
    "Again we’ll demonstrate this with an example.\n",
    "\n",
    "Suppose we have\n",
    "three data points this time and we assume that they have been\n",
    "\n",
    "generated from a process that is adequately described by a\n",
    "\n",
    "Gaussian distribution. These points are 9, 9.5 and 11. How do we\n",
    "\n",
    "calculate the maximum likelihood estimates of the parameter\n",
    "\n",
    "values of the Gaussian distribution μ and σ?\n",
    "\n",
    "What we want to calculate is the total probability of observing all\n",
    "\n",
    "of the data, i.e. the joint probability distribution of all observed\n",
    "\n",
    "data points. To do this we would need to calculate some\n",
    "\n",
    "conditional probabilities, which can get very difficult. So it is here\n",
    "\n",
    "that we’ll make our first assumption. The assumption is that each\n",
    "\n",
    "data point is generated independently of the others.\n",
    "\n",
    "This\n",
    "assumption makes the maths much easier. \n",
    "\n",
    "If the events (i.e. the\n",
    "process that generates the data) are independent, then the total"
   ]
  },
  {
   "cell_type": "markdown",
   "id": "45a83bf9-25cb-4373-9b4a-141cb5a58214",
   "metadata": {
    "tags": []
   },
   "source": [
    "probability of observing all of data is the product of observing each\n",
    "\n",
    "data point individually (i.e. the product of the marginal\n",
    "probabilities).\n",
    "\n",
    "The probability density of observing a single data point x, that is\n",
    "\n",
    "generated from a Gaussian distribution is given by"
   ]
  },
  {
   "cell_type": "markdown",
   "id": "df727cee-a75b-486c-a50d-cf083c6f5f90",
   "metadata": {},
   "source": [
    "P(x;μ, σ) = 1 /σ √2π exp ( - (x -μ )2 / 2σ2"
   ]
  },
  {
   "cell_type": "code",
   "execution_count": 1,
   "id": "47c20689-a69b-487f-bbff-28b1de7416b0",
   "metadata": {},
   "outputs": [],
   "source": [
    "#E(X)=μ=∑xP(x)."
   ]
  },
  {
   "cell_type": "markdown",
   "id": "2195d66f-ec55-405f-a833-bbd5ef31df03",
   "metadata": {},
   "source": [
    "The semi colon used in the notation P(x; μ, σ) is there to\n",
    "\n",
    "emphasise that the symbols that appear after it are parameters of\n",
    "\n",
    "the probability distribution. So it shouldn’t be confused with a\n",
    "\n",
    "conditional probability (which is typically represented with a\n",
    "\n",
    "vertical line e.g. P(A| B)).\n",
    "\n",
    "In our example the total (joint) probability density of observing\n",
    "\n",
    "the three data points is given by:"
   ]
  },
  {
   "cell_type": "markdown",
   "id": "4527b7a0-79bc-43a0-bd82-a3e75b53188f",
   "metadata": {},
   "source": [
    "P(9, 9.5,11: μ, σ) =\n",
    "\n",
    "1 / σ √2π exp(- (9 -  μ)2 /2σ^2) x  1 / σ√2π exp(9.5 -  μ)2 /2σ^2) \n",
    "\n",
    "x   1 / σ √2π exp((11- μ)2 / 2σ^2)\n",
    "                                  "
   ]
  },
  {
   "cell_type": "markdown",
   "id": "7409d83f-ae0b-48cf-aa6e-c17e971b4b02",
   "metadata": {},
   "source": [
    "We just have to figure out the values of μ and σ that results in\n",
    "giving the maximum value of the above expression.\n",
    "\n",
    "If you’ve covered calculus in your maths classes then you’ll\n",
    "probably be aware that there is a technique that can help us find\n",
    "\n",
    "maxima (and minima) of functions. It’s called differentiation. \n",
    "\n",
    "All\n",
    "we have to do is find the derivative of the function, set the\n",
    "\n",
    "derivative function to zero and then rearrange the equation to\n",
    "\n",
    "make the parameter of interest the subject of the equation.\n",
    "\n",
    "And\n",
    "voilà, we’ll have our MLE values for our parameters.\n",
    "\n",
    "I’ll go\n",
    "through these steps now but I’ll assume that the reader knows how\n",
    "\n",
    "to perform differentiation on common functions. If you would like\n",
    "\n",
    "a more detailed explanation then just let me know in the\n",
    "comments."
   ]
  },
  {
   "cell_type": "markdown",
   "id": "a9eaba1c-7dcd-435d-a6d8-893a8b8614eb",
   "metadata": {},
   "source": [
    "What is differentiation in maths?\n",
    "\n",
    "Differentiation is a method used to compute the rate of change of a function f(x) with respect to its input x . This rate of change is known as the derivative of f with respect to x ."
   ]
  },
  {
   "cell_type": "markdown",
   "id": "4d639fbe-af4f-41ee-b2b5-0582f3cb6ea4",
   "metadata": {},
   "source": [
    "##### The log likelihood"
   ]
  },
  {
   "cell_type": "markdown",
   "id": "d5f070f0-4f7f-4159-a24e-83da827a0d67",
   "metadata": {},
   "source": [
    "\n",
    "The above expression for the total probability is actually quite a\n",
    "\n",
    "pain to differentiate, so it is almost always simplified by taking the\n",
    "\n",
    "natural logarithm of the expression. This is absolutely fine because\n",
    "\n",
    "the natural logarithm is a monotonically increasing function. \n",
    "\n",
    "This\n",
    "means that if the value on the x-axis increases, the value on the yaxis \n",
    "\n",
    "also increases (see figure below). This is important because it\n",
    "\n",
    "ensures that the maximum value of the log of the probability\n",
    "\n",
    "occurs at the same point as the original probability function.\n",
    "\n",
    "Therefore we can work with the simpler log-likelihood instead of "
   ]
  },
  {
   "cell_type": "markdown",
   "id": "00f5380a-2efa-4b42-b97c-2ea8d04147dc",
   "metadata": {},
   "source": [
    "the original likelihood."
   ]
  },
  {
   "cell_type": "markdown",
   "id": "e6ad98ee-b524-442b-8579-ebbd1f361ae5",
   "metadata": {},
   "source": [
    "Monotonic behaviour of the original function, y = x on the left and the (natural) logarithm\n",
    "\n",
    "function y = ln(x). These functions are both monotonic because as you go from left to right on\n",
    "\n",
    "the x-axis the y value always increases."
   ]
  },
  {
   "cell_type": "markdown",
   "id": "628a3bd2-1e89-4f02-9b0f-edb0f514ac09",
   "metadata": {},
   "source": [
    "Example of a non-monotonic function because as you go from left to right on the graph the value\n",
    "\n",
    "of f(x) goes up, then goes down and then goes back up again.\n",
    "\n",
    "Taking logs of the original expression gives us"
   ]
  },
  {
   "cell_type": "markdown",
   "id": "84731789-9716-41af-8c69-ad39451783b4",
   "metadata": {},
   "source": [
    "In P(x;μ, σ) =   In\n",
    "\n",
    "(1 / σ √2π ) -  (9 - μ)2 /2σ^2  \n",
    "\n",
    "+ In  (1 / σ√2π )- (9.5 - μ)2 /2σ^2)\n",
    "\n",
    "+  In  (1 / σ √2π) - (11- μ)2 / 2σ^2)"
   ]
  },
  {
   "cell_type": "markdown",
   "id": "f0776179-3f08-4ec7-b66a-f78d3b168333",
   "metadata": {},
   "source": [
    "This expression can be simplified again using the laws of\n",
    "\n",
    "logarithms to obtain:"
   ]
  },
  {
   "cell_type": "markdown",
   "id": "d433071b-9fe4-4a59-a57b-665794c45941",
   "metadata": {},
   "source": [
    "In P(x;μ, σ) = -3In (σ) - 3/2 In (2π ) - 1/2σ^2\n",
    "\n",
    "[ (9 - μ)2  + (9.5 - μ)2\n",
    "\n",
    " + (11- μ)2 ]"
   ]
  },
  {
   "cell_type": "markdown",
   "id": "074b5916-6528-4597-9ef4-dbf4afba8c34",
   "metadata": {},
   "source": [
    "This expression can be differentiated to find the maximum. \n",
    "\n",
    "In this\n",
    "example we’ll find the MLE of the mean, μ. \n",
    "\n",
    "To do this we take the\n",
    "partial derivative of the function with respect to μ, giving"
   ]
  },
  {
   "cell_type": "markdown",
   "id": "d0b54356-83d4-4104-bfe7-f2d365f89226",
   "metadata": {},
   "source": [
    "a In P(x;μ, σ) / a ;μ  = 1/ σ2 [9 + 11 - 3μ]."
   ]
  },
  {
   "cell_type": "markdown",
   "id": "20c47833-0a96-4ed3-ba92-5a04a6322e10",
   "metadata": {},
   "source": [
    "Finally, setting the left hand side of the equation to zero and then\n",
    "\n",
    "rearranging for μ gives:"
   ]
  },
  {
   "cell_type": "markdown",
   "id": "637009cd-1be4-4bfa-8b58-c0608e1752ec",
   "metadata": {},
   "source": [
    "μ = 9 + 9.5 + 11  / 3   = 9.833"
   ]
  },
  {
   "cell_type": "markdown",
   "id": "8dd30a76-0e62-43f8-813e-97c84046b75d",
   "metadata": {},
   "source": [
    "And there we have our maximum likelihood estimate for μ. \n",
    "\n",
    "We can\n",
    "\n",
    "do the same thing with σ too but I’ll leave that as an exercise for\n",
    "\n",
    "the keen reader.\n"
   ]
  },
  {
   "cell_type": "markdown",
   "id": "0161bdef-da04-4a95-9c73-b1f8972ac293",
   "metadata": {},
   "source": [
    "#### Concluding remarks\n",
    "\n",
    "\n",
    "Can maximum likelihood estimation always be solved in an\n",
    "exact manner?\n",
    "\n",
    "No is the short answer. It’s more likely that in a real world\n",
    "\n",
    "scenario the derivative of the log-likelihood function is still\n",
    "\n",
    "analytically intractable (i.e. it’s way too hard/impossible to\n",
    "\n",
    "differentiate the function by hand). Therefore, iterative methods\n",
    "\n",
    "like Expectation-Maximization algorithms are used to find "
   ]
  },
  {
   "cell_type": "markdown",
   "id": "6a04fb7d-73db-4f8d-ad9c-876153a35f3e",
   "metadata": {},
   "source": [
    "numerical solutions for the parameter estimates. The overall idea\n",
    "is still the same though.\n",
    "\n",
    "So why maximum likelihood and not maximum probability?\n",
    "\n",
    "Well this is just statisticians being pedantic (but for good reason).\n",
    "\n",
    "Most people tend to use probability and likelihood\n",
    "\n",
    "interchangeably but statisticians and probability theorists\n",
    "\n",
    "distinguish between the two. The reason for the confusion is best\n",
    "\n",
    "highlighted by looking at the equation."
   ]
  },
  {
   "cell_type": "markdown",
   "id": "12a9f2af-43de-4903-a3a5-d1ba75d2d836",
   "metadata": {},
   "source": [
    "L(μ, σ; data) = P(data;(μ, σ)"
   ]
  },
  {
   "cell_type": "markdown",
   "id": "73bd3d74-0308-4391-b025-12aad1ee3a27",
   "metadata": {},
   "source": [
    "These expressions are equal! So what does this mean?\n",
    "\n",
    "Let’s first\n",
    "define P(data; μ, σ)? It means “the probability density of\n",
    "observing the data with model parameters μ and σ”.\n",
    "\n",
    "It’s worth\n",
    "noting that we can generalise this to any number of parameters\n",
    "and any distribution.\n",
    "\n",
    "On the other hand L(μ, σ; data) means “the likelihood of the\n",
    "parameters μ and σ taking certain values given that we’ve\n",
    "observed a bunch of data.”\n",
    "\n",
    "The equation above says that the probability density of the data\n",
    "\n",
    "given the parameters is equal to the likelihood of the parameters\n",
    "\n",
    "given the data. But despite these two things being equal, the\n",
    "\n",
    "likelihood and the probability density are fundamentally asking"
   ]
  },
  {
   "cell_type": "markdown",
   "id": "3d52a8da-bb57-43d8-add0-3fb81bd7aaf1",
   "metadata": {},
   "source": [
    "different questions — one is asking about the data and the other is\n",
    "\n",
    "asking about the parameter values. This is why the method is\n",
    "\n",
    "called maximum likelihood and not maximum probability.\n",
    "\n",
    "When is least squares minimisation the same as maximum\n",
    "likelihood estimation?\n",
    "\n",
    "Least squares minimisation is another common method for\n",
    "\n",
    "estimating parameter values for a model in machine learning. \n",
    "\n",
    "It\n",
    "turns out that when the model is assumed to be Gaussian as in the\n",
    "examples above, \n",
    "\n",
    "the MLE estimates are equivalent to the least\n",
    "squares method. For a more in-depth mathematical derivation\n",
    "check out these slides.\n",
    "\n",
    "Intuitively we can interpret the connection between the two\n",
    "methods by understanding their objectives.\n",
    "\n",
    "For least squares\n",
    "parameter estimation we want to find the line that minimises the\n",
    "\n",
    "total squared distance between the data points and the regression\n",
    "line (see the figure below). In maximum likelihood estimation \n",
    "we\n",
    "want to maximise the total probability of the data. \n",
    "\n",
    "When a\n",
    "Gaussian distribution is assumed, the maximum probability is\n",
    "\n",
    "found when the data points get closer to the mean value. Since the\n",
    "\n",
    "Gaussian distribution is symmetric, this is equivalent to\n",
    "\n",
    "minimising the distance between the data points and the mean\n",
    "value"
   ]
  },
  {
   "cell_type": "markdown",
   "id": "8cd82c14-5034-45d2-94f3-e84df269aefa",
   "metadata": {},
   "source": [
    "Regression line showing data points with random Gaussian noise"
   ]
  },
  {
   "cell_type": "markdown",
   "id": "4a1d4c7f-fc3b-41b6-97e8-0cf0edc7f8f7",
   "metadata": {},
   "source": [
    "Check graph in the slides"
   ]
  },
  {
   "cell_type": "markdown",
   "id": "6f1522ae-e2ed-4d9d-be1a-c6612f592b78",
   "metadata": {},
   "source": [
    "### Maximum likelihood Estimation with Simple Example and Python"
   ]
  },
  {
   "cell_type": "markdown",
   "id": "b9892a19-51ac-4e6b-bb69-5f3db6cbc8f4",
   "metadata": {},
   "source": [
    "Maximum likelihood estimate is used to calculate the best way of fitting mathemathical model to some data"
   ]
  },
  {
   "cell_type": "markdown",
   "id": "01db9900-8ee9-49cc-a843-27faa85af708",
   "metadata": {},
   "source": [
    "Example:\n",
    "    \n",
    "Suppose we have  a data \n",
    "\n",
    "i. Normal   ( you want to find μ, 6)\n",
    "\n",
    "ii. Poison\n",
    "\n",
    "ii. Binommial"
   ]
  },
  {
   "cell_type": "markdown",
   "id": "354cf19a-9393-49ba-91e3-d9fc2bbee695",
   "metadata": {},
   "source": [
    "Suppose you are interested in th average heights of college going students in a state.\n",
    "\n",
    "You have a sample of some number(sample height) of the state but not the entire populations"
   ]
  },
  {
   "cell_type": "markdown",
   "id": "1771e8c9-821b-4fc2-a954-ccb25b2b29f6",
   "metadata": {},
   "source": [
    "And report their heights."
   ]
  },
  {
   "cell_type": "markdown",
   "id": "b15a0d3f-49c2-4e1a-bc3e-d03b57299529",
   "metadata": {},
   "source": [
    "Furthermore, you are willing to assume that heights are normally distributed with some unknown mean and variance."
   ]
  },
  {
   "cell_type": "markdown",
   "id": "4d7ee792-fddd-45b8-80d8-7cb73fe757ce",
   "metadata": {},
   "source": [
    "The sample mean is then maximum likelihood estimator of the population mean.\n",
    "\n",
    "For a fixed set of data and underlying probability model, maximum \n",
    "\n",
    "likelihood picks the valuee of the model parameters that make the data \n",
    "\n",
    "more likely than any other values of the parameter would make them."
   ]
  },
  {
   "cell_type": "markdown",
   "id": "981b9b4a-da9b-4256-bd4a-c8a8bc8caabf",
   "metadata": {},
   "source": [
    "Given a statistical model (e.g, normal distribution) for the data , it \n",
    "\n",
    "is necessary to estimate the population parameter of the model"
   ]
  },
  {
   "cell_type": "markdown",
   "id": "02fc7f04-459f-4026-a2c6-f255279ca94e",
   "metadata": {},
   "source": [
    "Suppose we have a normal distribution,and we have the mean and the satndard deviation\n",
    "\n",
    "It is a point estimation approach to estimate the population pararmeter."
   ]
  },
  {
   "cell_type": "markdown",
   "id": "cc20affc-ba15-44db-950a-a5aee8f0dfc8",
   "metadata": {},
   "source": [
    "So we have to use this fomula: \n",
    "    \n",
    "Likelihood(y | 0)  =\n",
    "\n",
    "L(x|0) =  n / π i=1 1/ √ 2 π 6 e -(xi-μ )2/26^2\n",
    "                    \n",
    "Theta is the model parameter mu and sigma"
   ]
  },
  {
   "cell_type": "markdown",
   "id": "109806d0-b3f0-40ff-a45d-4b0c3d571c9f",
   "metadata": {},
   "source": [
    "Now , if you take log in both sides ,you will have\n",
    "\n",
    "log L((x|0) = m Σ i=1 (2i-μ)2 / 2 6^2 -\n",
    "      \n",
    "      0.5m log2 π -mlog 6"
   ]
  },
  {
   "cell_type": "markdown",
   "id": "f0c67442-04d8-444e-b746-c861ecff4b96",
   "metadata": {},
   "source": [
    "We would like to estimate mu and sigma for the given data."
   ]
  },
  {
   "cell_type": "markdown",
   "id": "be55207f-eff8-4a22-b83d-ff2964d0a295",
   "metadata": {},
   "source": [
    "x  \" μ,Σ \""
   ]
  },
  {
   "cell_type": "markdown",
   "id": "7202c983-09b7-4a4f-b8f8-4bed7c35aaf0",
   "metadata": {},
   "source": [
    "We choose the different set of values  of the parameters mu and sigma that maximize the equation"
   ]
  },
  {
   "cell_type": "markdown",
   "id": "06131a1e-790f-4fc3-9acb-9501fa873d62",
   "metadata": {},
   "source": [
    "We select various set of mu and sigma and check the set of mu and sigma this value matches with."
   ]
  },
  {
   "cell_type": "markdown",
   "id": "be424501-b2f1-4b25-a714-d67b3de5f396",
   "metadata": {},
   "source": [
    "With the help of available data, xiΣ x \n",
    "                                i=1,2,..,m\n",
    "    \n",
    "We calculate x in log in given thema ie,\n",
    "Log l(x|0)\n",
    "\n",
    "For the set of mu  and sigma k ie \n",
    "   μk, Σk"
   ]
  },
  {
   "cell_type": "markdown",
   "id": "80fe4760-0c03-4357-a1ff-5ec2f5e3058e",
   "metadata": {},
   "source": [
    "k  E m \n",
    "\n",
    "for which log likelihood each given data is the maximum"
   ]
  },
  {
   "cell_type": "markdown",
   "id": "340abe26-8bf5-4420-8a5b-1da2fc5416ec",
   "metadata": {},
   "source": [
    "For each maximum ,all the maximum likelihood is tuition for the population parameter.(mu and sigma)"
   ]
  },
  {
   "cell_type": "markdown",
   "id": "4f13b5b6-f305-49d3-8a80-253246945bd9",
   "metadata": {},
   "source": [
    "We have these sample data taken from a population data"
   ]
  },
  {
   "cell_type": "markdown",
   "id": "994b60d8-044a-4810-ab2a-da6a3a520065",
   "metadata": {},
   "source": [
    "sample data\n",
    "x \n",
    "\n",
    "x1\n",
    "\n",
    "x2\n",
    "\n",
    "x3\n",
    ".\n",
    "\n",
    ".\n",
    "\n",
    ".\n",
    "\n",
    "xm"
   ]
  },
  {
   "cell_type": "markdown",
   "id": "f4b1981f-32de-4357-ba4c-26cbfc146244",
   "metadata": {},
   "source": [
    "Lets assume it is a normal distribution.\n",
    "\n",
    "From the sample data , we want to calculate the population mean( μ) for the given x values"
   ]
  },
  {
   "cell_type": "markdown",
   "id": "9143b42f-a353-4913-987b-169d575ae245",
   "metadata": {},
   "source": [
    "In this case ,it will be\n",
    "\n",
    "\n",
    "μ1,  Σ1\n",
    "\n",
    "μ2,  Σ2\n",
    "\n",
    "μ3,  Σ3\n",
    "\n",
    ".\n",
    "\n",
    ".\n",
    "\n",
    ".\n",
    "μm,  Σm"
   ]
  },
  {
   "cell_type": "markdown",
   "id": "6d1fb236-6614-46d6-b562-e584dc291685",
   "metadata": {},
   "source": [
    "Suppose for .\n",
    "\n",
    "μk,  Σk = Log l(x|0)  is maximum value\n"
   ]
  },
  {
   "cell_type": "markdown",
   "id": "f5e9d136-e6c4-43c7-a7a3-30b7bb152468",
   "metadata": {},
   "source": [
    "Then select this as the population factor\n",
    "\n",
    "μk,  Σk "
   ]
  },
  {
   "cell_type": "markdown",
   "id": "b4126696-98b1-4c30-9fbf-804cbab7ad47",
   "metadata": {},
   "source": [
    "In statistics, σ represents the standard deviation of population or probability distribution (where mu or μ is used for the mean)."
   ]
  },
  {
   "cell_type": "markdown",
   "id": "3d872004-3e4e-4b55-a541-8f0b7ff7ad7d",
   "metadata": {},
   "source": [
    "Lets take a simple example\n",
    "\n",
    "Let x - 1, 2, 3, 4, 5\n",
    "\n",
    "suppose we want to calculate what will be mu and sigma "
   ]
  },
  {
   "cell_type": "raw",
   "id": "f13040be-260e-44ad-a618-d294e173383b",
   "metadata": {},
   "source": [
    "Sigma     mu        Log l(x|0)\n",
    "\n",
    "1          1         - 16.995\n",
    "\n",
    "2          2         -5.376\n",
    "\n",
    "2          3         -4.751( ma)\n",
    "\n",
    "3          2          -5.214\n",
    "\n",
    "3          3          -4.937\n",
    "\n"
   ]
  },
  {
   "cell_type": "markdown",
   "id": "5f6bb15d-a547-4e9b-90bd-0c50cde04147",
   "metadata": {},
   "source": [
    "The maximum value is -4.731'\n",
    "\n",
    "We can assume that fort the given dataset, the\n",
    "population parameter will be \n",
    "\n",
    "mu = 3\n",
    "\n",
    "sigma = 2"
   ]
  },
  {
   "cell_type": "markdown",
   "id": "e73ef386-b2be-4cbd-afbf-5b32674a46b7",
   "metadata": {},
   "source": [
    "##### Maximum likelihood estimation"
   ]
  },
  {
   "cell_type": "code",
   "execution_count": 2,
   "id": "27bfc1ac-2739-404a-9133-5adb4cdebefc",
   "metadata": {},
   "outputs": [],
   "source": [
    "import numpy as np\n",
    "import math"
   ]
  },
  {
   "cell_type": "markdown",
   "id": "60095aa8-6564-43de-a7cf-e0d453020454",
   "metadata": {},
   "source": [
    "###### sample data"
   ]
  },
  {
   "cell_type": "code",
   "execution_count": 3,
   "id": "d8dafd37-987e-4943-b9d6-3e962b862ba8",
   "metadata": {},
   "outputs": [],
   "source": [
    "x = np.array([[ 1, 2, 3, 4, 5]]) \n"
   ]
  },
  {
   "cell_type": "code",
   "execution_count": 4,
   "id": "934a54fd-881d-44ec-9d9e-b851ebb1baa4",
   "metadata": {},
   "outputs": [],
   "source": [
    "n = np.shape(x)[1]"
   ]
  },
  {
   "cell_type": "code",
   "execution_count": 5,
   "id": "967dcbb7-54a5-4bdc-b651-b9fb7f697483",
   "metadata": {},
   "outputs": [
    {
     "name": "stdout",
     "output_type": "stream",
     "text": [
      "The sample data: \n",
      " [[1 2 3 4 5]]\n",
      "The number of data present in x is:  5\n"
     ]
    }
   ],
   "source": [
    "print(\"The sample data: \\n\", x)\n",
    "print(\"The number of data present in x is: \", n)"
   ]
  },
  {
   "cell_type": "code",
   "execution_count": 6,
   "id": "6a044ba0-f95a-4c2f-9ed6-9f6760c19722",
   "metadata": {},
   "outputs": [],
   "source": [
    "mu = np.array([[ 1, 2, 3, 2, 3]])    # combinaton of mu and sigma values)\n",
    "sigma = np.array([[ 1, 2, 2, 3, 3]])"
   ]
  },
  {
   "cell_type": "code",
   "execution_count": 7,
   "id": "2669be3f-0dc2-42c9-93a3-b4e0dadb4454",
   "metadata": {},
   "outputs": [
    {
     "name": "stdout",
     "output_type": "stream",
     "text": [
      "\n",
      "The mean is:  [[1 2 3 2 3]]\n",
      "The st. dev is:  [[1 2 2 3 3]]\n"
     ]
    }
   ],
   "source": [
    "print(\"\\nThe mean is: \" ,mu)\n",
    "print(\"The st. dev is: \",sigma)"
   ]
  },
  {
   "cell_type": "code",
   "execution_count": 8,
   "id": "7a60f8c7-cdc4-4958-8b2f-af792604c9d4",
   "metadata": {},
   "outputs": [
    {
     "name": "stdout",
     "output_type": "stream",
     "text": [
      "mu sigma logL\n"
     ]
    },
    {
     "ename": "TypeError",
     "evalue": "'numpy.ufunc' object is not subscriptable",
     "output_type": "error",
     "traceback": [
      "\u001b[1;31m---------------------------------------------------------------------------\u001b[0m",
      "\u001b[1;31mTypeError\u001b[0m                                 Traceback (most recent call last)",
      "\u001b[1;32m~\\AppData\\Local\\Temp/ipykernel_14048/562794921.py\u001b[0m in \u001b[0;36m<module>\u001b[1;34m\u001b[0m\n\u001b[0;32m      1\u001b[0m \u001b[0mprint\u001b[0m\u001b[1;33m(\u001b[0m\u001b[1;34m\"mu sigma logL\"\u001b[0m\u001b[1;33m)\u001b[0m  \u001b[1;31m#For each and every set we calculate the log\u001b[0m\u001b[1;33m\u001b[0m\u001b[1;33m\u001b[0m\u001b[0m\n\u001b[0;32m      2\u001b[0m \u001b[1;32mfor\u001b[0m \u001b[0mi\u001b[0m \u001b[1;32min\u001b[0m \u001b[0mrange\u001b[0m\u001b[1;33m(\u001b[0m\u001b[1;36m5\u001b[0m\u001b[1;33m)\u001b[0m\u001b[1;33m:\u001b[0m\u001b[1;33m\u001b[0m\u001b[1;33m\u001b[0m\u001b[0m\n\u001b[1;32m----> 3\u001b[1;33m     \u001b[0mlogL\u001b[0m \u001b[1;33m=\u001b[0m \u001b[0mnp\u001b[0m\u001b[1;33m.\u001b[0m\u001b[0msum\u001b[0m\u001b[1;33m(\u001b[0m\u001b[0mnp\u001b[0m\u001b[1;33m.\u001b[0m\u001b[0msquare\u001b[0m\u001b[1;33m(\u001b[0m\u001b[0mx\u001b[0m \u001b[1;33m-\u001b[0m \u001b[0mmu\u001b[0m\u001b[1;33m[\u001b[0m\u001b[1;36m0\u001b[0m\u001b[1;33m,\u001b[0m\u001b[0mi\u001b[0m\u001b[1;33m]\u001b[0m\u001b[1;33m/\u001b[0m\u001b[1;33m(\u001b[0m\u001b[1;36m2\u001b[0m\u001b[1;33m*\u001b[0m\u001b[0mnp\u001b[0m\u001b[1;33m.\u001b[0m\u001b[0msquare\u001b[0m\u001b[1;33m[\u001b[0m\u001b[1;36m0\u001b[0m\u001b[1;33m,\u001b[0m\u001b[0mi\u001b[0m\u001b[1;33m]\u001b[0m\u001b[1;33m)\u001b[0m\u001b[1;33m)\u001b[0m\u001b[1;33m)\u001b[0m \u001b[1;33m-\u001b[0m \u001b[1;33m(\u001b[0m\u001b[1;36m0.5\u001b[0m\u001b[1;33m*\u001b[0m\u001b[0mn\u001b[0m\u001b[1;33m*\u001b[0m\u001b[0mnp\u001b[0m\u001b[1;33m.\u001b[0m\u001b[0mlog10\u001b[0m\u001b[1;33m(\u001b[0m\u001b[1;36m2\u001b[0m\u001b[1;33m*\u001b[0m\u001b[0mmath\u001b[0m\u001b[1;33m.\u001b[0m\u001b[0mpi\u001b[0m\u001b[1;33m)\u001b[0m\u001b[1;33m)\u001b[0m \u001b[1;33m-\u001b[0m \u001b[0mn\u001b[0m\u001b[1;33m*\u001b[0m\u001b[0mnp\u001b[0m\u001b[1;33m.\u001b[0m\u001b[0mlog10\u001b[0m\u001b[1;33m(\u001b[0m\u001b[0msigma\u001b[0m\u001b[1;33m[\u001b[0m\u001b[1;36m0\u001b[0m\u001b[1;33m,\u001b[0m\u001b[0mi\u001b[0m\u001b[1;33m]\u001b[0m\u001b[1;33m)\u001b[0m\u001b[1;31m#summation\u001b[0m\u001b[1;33m\u001b[0m\u001b[1;33m\u001b[0m\u001b[0m\n\u001b[0m\u001b[0;32m      4\u001b[0m     \u001b[0mprint\u001b[0m\u001b[1;33m(\u001b[0m\u001b[0mmu\u001b[0m\u001b[1;33m[\u001b[0m\u001b[1;36m0\u001b[0m\u001b[1;33m,\u001b[0m\u001b[0mi\u001b[0m\u001b[1;33m]\u001b[0m\u001b[1;33m,\u001b[0m \u001b[0msigma\u001b[0m\u001b[1;33m[\u001b[0m\u001b[1;36m0\u001b[0m\u001b[1;33m,\u001b[0m\u001b[0mi\u001b[0m\u001b[1;33m]\u001b[0m\u001b[1;33m,\u001b[0m \u001b[0mnp\u001b[0m\u001b[1;33m.\u001b[0m\u001b[0mround\u001b[0m\u001b[1;33m(\u001b[0m\u001b[0mlogL\u001b[0m\u001b[1;33m,\u001b[0m\u001b[1;36m3\u001b[0m\u001b[1;33m)\u001b[0m\u001b[1;33m)\u001b[0m\u001b[1;33m\u001b[0m\u001b[1;33m\u001b[0m\u001b[0m\n",
      "\u001b[1;31mTypeError\u001b[0m: 'numpy.ufunc' object is not subscriptable"
     ]
    }
   ],
   "source": [
    "print(\"mu sigma logL\")  #For each and every set we calculate the log\n",
    "for i in range(5):\n",
    "    logL = np.sum(np.square(x - mu[0,i]/(2*np.square[0,i]))) - (0.5*n*np.log10(2*math.pi)) - n*np.log10(sigma[0,i])#summation\n",
    "    print(mu[0,i], sigma[0,i], np.round(logL,3))"
   ]
  },
  {
   "cell_type": "code",
   "execution_count": null,
   "id": "b7979ff6-4b15-46e9-a68a-168596d2f340",
   "metadata": {},
   "outputs": [],
   "source": [
    "I DIDNT UNDERSTAND THIS !!!!111111"
   ]
  },
  {
   "cell_type": "code",
   "execution_count": null,
   "id": "32a539b5-e4b8-49b3-942f-2b863f9c8ef1",
   "metadata": {},
   "outputs": [],
   "source": []
  },
  {
   "cell_type": "code",
   "execution_count": null,
   "id": "f4f8d407-3e82-4b5e-a43f-47445ca3dcdf",
   "metadata": {},
   "outputs": [],
   "source": [
    "QUIZ "
   ]
  },
  {
   "cell_type": "markdown",
   "id": "37a4c96f-2e32-46ab-b642-f292ca7ae708",
   "metadata": {},
   "source": [
    "N0 .1 \n",
    "Maximum Likelihood Estimation______ is a method that determines values for the parameters of a model.\n",
    "\n",
    "\n",
    "ans.\n",
    "\n",
    "Maximum likelihood estimation - \n",
    "\n",
    "Maximum_likelihood_...\n",
    "\n",
    "In statistics, maximum likelihood estimation (MLE) \n",
    "\n",
    "is a method of estimating the parameters of an \n",
    "\n",
    "assumed probability distribution, given some \n",
    "observed data ...\n",
    "\n",
    "‎Maximum a posteriori estimation · ‎Extremum estimator · ‎Parameter space"
   ]
  },
  {
   "cell_type": "markdown",
   "id": "6e17875c-5057-441a-a50a-b8fa51b84457",
   "metadata": {},
   "source": [
    "N0.2 \n",
    " When using a normal distribution, maximum \n",
    "\n",
    "likelihood estimation will find the values of ____  and _____ that result in the curve that best fits the data."
   ]
  },
  {
   "cell_type": "markdown",
   "id": "fe4c0ada-fff7-4dc0-b0dd-95edbabc3e1b",
   "metadata": {},
   "source": [
    "Ans.\n",
    "\n",
    "Maximum likelihood estimation is a method that will \n",
    "\n",
    "find the values of μ and σ that result in the curve that best fits the data."
   ]
  },
  {
   "cell_type": "markdown",
   "id": "3f34a6d7-7125-4063-bc4b-3245bc94fa75",
   "metadata": {},
   "source": [
    "N0 3. What type of type parameters are being \n",
    "estimated using the maximum likelihood estimation?"
   ]
  },
  {
   "cell_type": "markdown",
   "id": "acdcb411-f9d4-423e-91ba-bd42cf258917",
   "metadata": {},
   "source": [
    "\n",
    "Ans.\n",
    "Parameters that maximize the likelihood that a model is accurate.\n",
    "\n",
    "\n",
    "In statistics, maximum likelihood estimation (MLE) is a method of estimating the parameters of an \n",
    "\n",
    "assumed probability distribution, given some \n",
    "\n",
    "observed data. This is achieved by maximizing a \n",
    "\n",
    "likelihood function so that, under the assumed \n",
    "\n",
    "statistical model, the observed data is most probable."
   ]
  },
  {
   "cell_type": "markdown",
   "id": "844e7107-bb04-4039-b677-7dfcebe66adf",
   "metadata": {},
   "source": [
    "Q.N04. \n",
    "\n",
    "What is the goal of maximum likelihood estimation  ____________\n",
    "\n",
    "\n",
    "ans. \n",
    "\n",
    "The goal of maximum likelihood is to find the parameter values that give the distribution that maximise the probability of observing the data.3 Jan "
   ]
  },
  {
   "cell_type": "markdown",
   "id": "0f88e564-2f28-4a72-b4fc-8017629a46f3",
   "metadata": {},
   "source": [
    " Q N0 5. E stands for \n",
    "    \n",
    "    ans\n",
    "    Maximum Likelihood Estimates\n"
   ]
  },
  {
   "cell_type": "markdown",
   "id": "71021af2-bcf3-40a9-b992-7420545bfc54",
   "metadata": {},
   "source": [
    "### Introduction to Optimization Cost Function Part 1 "
   ]
  },
  {
   "cell_type": "markdown",
   "id": "67c31951-8eb5-47f7-ac07-88c5e574f617",
   "metadata": {},
   "source": [
    "Optimal cost function means looking for the least error in your model."
   ]
  },
  {
   "cell_type": "markdown",
   "id": "30f594f0-7ba6-4ab3-9735-cb5020c89c61",
   "metadata": {},
   "source": [
    "In this post I’ll use a simple linear regression model to explain\n",
    "\n",
    "two machine learning (ML) fundamentals; (1) cost functions\n",
    "\n",
    "and; (2) gradient descent. The linear regression isn’t the most\n",
    "\n",
    "powerful model in the ML tool kit, but due to its familiarity and\n",
    "\n",
    "interpretability, it is still in widespread use in research and\n",
    "\n",
    "industry. Simply, linear regression is used to estimate linear\n",
    "\n",
    "relationships between continuous or/and categorical data and a\n",
    "\n",
    "continuous output variable — you can see an example of this in a\n"
   ]
  },
  {
   "cell_type": "markdown",
   "id": "9dbe2d38-277f-4c32-8466-b0ff5ff17e97",
   "metadata": {},
   "source": [
    "previous post of\n",
    "mine https://conorsdatablog.wordpress.com/2017/09/02/aquick-and-tidy-data-analysis/.\n",
    "\n",
    "As I go through this post, I’ll use X and y to refer to variables.\n",
    "If\n",
    "you prefer something more concrete (as I often do),\n",
    "\n",
    "you can\n",
    "imagine that y is sales, X is advertising spend and we want to\n",
    "\n",
    "estimate how advertising spend impacts sales. Visually,\n",
    "\n",
    "I’ll show\n",
    "how a linear ear regression learns the best line \n",
    "\n",
    "to fit through this data:"
   ]
  },
  {
   "cell_type": "markdown",
   "id": "aa4f9818-e142-457c-9ae5-17edc8359d84",
   "metadata": {},
   "source": [
    "#### What does the machine learn?"
   ]
  },
  {
   "cell_type": "markdown",
   "id": "de0afa69-6b9b-4c1c-aecb-acfc3a87fbfa",
   "metadata": {},
   "source": [
    "One question that people often have when getting started in ML is:\n",
    "\n",
    "“What does the machine (i.e. the statistical model)\n",
    "actually learn?”\n",
    "\n",
    "This will vary from model to model, but in simple\n",
    "terms the model\n",
    "\n",
    "learns a function f such that f(X) maps to y.\n",
    "Put differently,\n",
    "\n",
    "the\n",
    "model learns how to take X (i.e. features, or                            \n",
    "more traditionally,\n",
    "\n",
    "independent variable(s)) in order to predict y (the target, response\n"
   ]
  },
  {
   "cell_type": "markdown",
   "id": "0e4552e8-fbec-44bb-8148-33b703e88c4f",
   "metadata": {},
   "source": [
    "or more traditionally the dependent variable).\n",
    "\n",
    "In the case of the simple linear regression \n",
    "\n",
    "(y ~ b0 + b1\n",
    "\n",
    "* X where X is one column/variable) the model “learns” \n",
    "\n",
    "(read:\n",
    "estimates) two parameters;"
   ]
  },
  {
   "cell_type": "markdown",
   "id": "d979900f-56b3-4a14-a1ab-5a025dc8d6fe",
   "metadata": {},
   "source": [
    "• b0: the bias (or more traditionally the intercept);\n",
    "\n",
    "and,\n",
    "• b1: the slope\n",
    "\n",
    "The bias is the level of y when X is 0 \n",
    "\n",
    "(i.e. the value of sales when\n",
    "advertising spend is 0)\n",
    "\n",
    "and the slope is the rate of predicted\n",
    "\n",
    "increase or decrease in y for each unit increase \n",
    "\n",
    "in X (i.e. how much\n",
    "\n",
    "do sales increase per pound spent on advertising).\n",
    "Both parameters are scalars (single values)."
   ]
  },
  {
   "cell_type": "markdown",
   "id": "bed1a66f-3931-4ead-8193-8d90cd36b4b3",
   "metadata": {},
   "source": [
    "Once the model learns these parameters they can be used to\n",
    "\n",
    "compute estimated values of y given new values of X.\n",
    "\n",
    "In other\n",
    "words, you can use these learned parameters to predict values\n",
    "\n",
    "of y when you don’t know what y is — hey presto, \n",
    "\n",
    "a predictive\n",
    "model!"
   ]
  },
  {
   "cell_type": "markdown",
   "id": "f6d92db9-4a64-4c02-95c0-91970f437acf",
   "metadata": {},
   "source": [
    "#### Learning parameters: Cost functions"
   ]
  },
  {
   "cell_type": "markdown",
   "id": "6570c31b-f95c-40fa-b53e-36ccb9479751",
   "metadata": {},
   "source": [
    "There are several ways to learn the parameters of a LR model, \n",
    "\n",
    "I\n",
    "will focus on the approach that best illustrates statistical learning;\n",
    "\n",
    "minimising a cost function."
   ]
  },
  {
   "cell_type": "markdown",
   "id": "87bd6b32-e624-4241-bd0b-3d7a5585503c",
   "metadata": {},
   "source": [
    "Remember that in ML, the focus is on learning from data.\n",
    "\n",
    "This\n",
    "is perhaps better illustrated using a simple analogy.\n",
    "\n",
    "As children we\n",
    "typically learn what is “right” or “good” behaviour by being told\n",
    "\n",
    "NOT to do things or being punished for having done something we shouldn’t. \n",
    "\n",
    "For example, you can imagine a four year-old sitting by\n",
    "\n",
    "a fire to keep warm, but not knowing the danger of fire,\n",
    "\n",
    "she puts\n",
    "her finger into it and gets burned. \n",
    "\n",
    "The next time she sits by the\n",
    "fire, \n",
    "\n",
    "she doesn’t get burned, but she sits too close, gets too hot and\n",
    "\n",
    "has to move away.\n",
    "\n",
    "The third time she sits by the fire she finds the\n",
    "\n",
    "distance that keeps her warm without exposing her to any danger.\n",
    "\n",
    "In other words, through experience and feedback (getting burned,\n",
    "\n",
    "then getting too hot) the kid learns the optimal distance to sit from\n",
    "\n",
    "the fire.\n",
    "\n",
    "The heat from the fire in this example acts as a \n",
    "\n",
    "cost function — it helps the learner to correct / change\n",
    "behaviour to minimize mistakes."
   ]
  },
  {
   "cell_type": "markdown",
   "id": "9571a173-e30a-42ae-8829-c47ba8f284f4",
   "metadata": {},
   "source": [
    "In ML, cost functions are used to estimate how badly models are\n",
    "performing. \n",
    "\n",
    "Put simply, a cost function is a measure of how\n",
    "wrong the model is in terms of its ability to estimate the\n",
    "\n",
    "relationship between X and y. \n",
    "\n",
    "This is typically expressed as a\n",
    "difference or distance between the predicted value and the actual\n",
    "value.\n",
    "\n",
    "The cost function (you may also see this referred to\n",
    "as loss or error.)\n",
    "\n",
    "can be estimated by iteratively running the model\n",
    "\n",
    "to compare estimated predictions against\n",
    "\n",
    "“ground truth” — the\n",
    "known values of y"
   ]
  },
  {
   "cell_type": "markdown",
   "id": "0d094f9e-58e8-4727-888b-fe2363a2cc24",
   "metadata": {},
   "source": [
    "The objective of a ML model, therefore, is to find parameters,\n",
    "\n",
    "weights or a structure that minimises the cost function."
   ]
  },
  {
   "cell_type": "markdown",
   "id": "feb81386-2e0b-468e-86c9-ddf8aa9c074a",
   "metadata": {},
   "source": [
    "#### Minimizing the cost function: Gradient descent"
   ]
  },
  {
   "cell_type": "markdown",
   "id": "3a7a1eea-d804-412c-b147-8853f0a23876",
   "metadata": {},
   "source": [
    "Now that we know that models learn by minimizing a cost\n",
    "function,\n",
    "\n",
    "you may naturally wonder how the cost function is\n",
    "minimized — enter gradient descent. \n",
    "\n",
    "Gradient descent is an\n",
    "\n",
    "efficient optimization algorithm that attempts to\n",
    "\n",
    "find a local or\n",
    "global minima of a function.\n",
    "\n",
    "Gradient descent enables a model to learn the gradient\n",
    "\n",
    "or direction that the model should take in order to reduce errors\n",
    "\n",
    "(differences between actual y and predicted y). \n",
    "\n",
    "Direction in the\n",
    "\n",
    "simple linear regression example refers to how the model\n"
   ]
  },
  {
   "cell_type": "markdown",
   "id": "a2ad5271-9467-4288-b82b-a62c799e19fd",
   "metadata": {},
   "source": [
    "parameters b0 and b1 should be tweaked or \n",
    "\n",
    "corrected to further\n",
    "\n",
    "reduce the cost function. \n",
    "\n",
    "As the model iterates,\n",
    "\n",
    "it gradually\n",
    "converges towards a minimum where further tweaks to the\n",
    "\n",
    "parameters produce little or zero changes in the\n",
    "\n",
    "loss — also\n",
    "referred to as convergence"
   ]
  },
  {
   "cell_type": "markdown",
   "id": "60160dd6-aa78-432d-b0b9-69384e74f182",
   "metadata": {},
   "source": [
    "At this point the model has optimized the weights such that\n",
    "\n",
    "they minimize the cost function. This process is integral\n",
    "(no\n",
    "calculus pun intended!) to the ML process, because\n",
    "\n",
    "it greatly\n",
    "expedites the learning process — you can think of\n",
    "\n",
    "it as a means of\n",
    "receiving corrective feedback on how to improve \n",
    "\n",
    "upon your\n",
    "previous performance. \n",
    "\n",
    "The alternative to the gradient descent\n",
    "\n",
    "process would be brute forcing a potentially \n",
    "\n",
    "infinite combination\n",
    "\n",
    "of parameters until the set that minimizes the cost are identified.\n",
    "\n",
    "For obvious reasons this isn’t really feasible. \n",
    "\n",
    "Gradient descent,\n",
    "therefore, enables the learning process to make \n",
    "\n",
    "corrective updates\n",
    "\n",
    "to the learned estimates that move the model \n",
    "\n",
    "toward an optimal combination of parameters."
   ]
  },
  {
   "cell_type": "markdown",
   "id": "9f8aa76d-b974-46ce-9d87-4a5cba5380e9",
   "metadata": {},
   "source": [
    "### \n",
    "Observing learning in a linear regression\n",
    "model\n"
   ]
  },
  {
   "cell_type": "markdown",
   "id": "df7471d6-0955-4249-aeff-0d28a6398bc3",
   "metadata": {},
   "source": [
    "To observe learning in a linear regression, I will set the parameters\n",
    "\n",
    "b0 and b1 and will use a model to learn these \n",
    "\n",
    "parameters from the\n",
    "data. \n",
    "\n",
    "In other words, we know the ground truth of the relationship\n",
    "\n",
    "between X and y and can observe the model learning this\n",
    "\n",
    "relationship through iterative correction of the parameters in\n",
    "\n",
    "response to a cost (note: the code below is written in R)."
   ]
  },
  {
   "cell_type": "markdown",
   "id": "9067d972-d9b0-4f32-996a-d47504621ae7",
   "metadata": {},
   "source": [
    "Here I define the bias and slope (equal to 4 and 3.5 respectively).\n",
    "I\n",
    "also add a column of ones to X (for the purposes of enabling\n",
    "\n",
    "matrix multiplication).\n",
    "\n",
    "I also add some Gaussian noise to y to\n",
    "\n",
    "mask the true parameters — i.e. create errors that\n",
    "\n",
    "are purely\n",
    "random.\n",
    "\n",
    "Now we have a dataframe with two\n",
    "\n",
    "variables, X and y, that appear to have a positive linear trend\n",
    "\n",
    "(as X increases values of y increase)"
   ]
  },
  {
   "cell_type": "markdown",
   "id": "5b206ebc-88c9-4400-8c80-706fa12b80a0",
   "metadata": {},
   "source": [
    "Next I define the learning rate — this controls the size of the steps\n",
    "\n",
    "taken by each gradient. \n",
    "\n",
    "If this is too big, the model might miss the\n",
    "local minimum of the function.\n",
    "\n",
    "If it too small, the model will take a\n",
    "long time to converge (copy the code and try this out for yourself!).\n",
    "\n",
    "Theta stores the parameters b0 and b1, which are initialized with\n",
    "\n",
    "random values (I have set these these both to 20, which is suitably\n",
    "\n",
    "far away from the true parameters). The n_iterations value\n",
    "\n",
    "controls how many times the model will iterate and update values.\n",
    "\n",
    "That is, how many times the model will make predictions,\n",
    "\n",
    "calculate the cost and gradients and update the weights. \n",
    "\n",
    "Finally, I\n",
    "create some placeholders to catch the values of \n",
    "\n",
    "b0, b1 and the\n",
    "mean squared error (MSE) upon each iteration of the model "
   ]
  },
  {
   "cell_type": "markdown",
   "id": "a20d180d-8034-4e8f-8e56-6024a3873458",
   "metadata": {},
   "source": [
    "(creating these placeholders avoids iteratively growing a vector,\n",
    "\n",
    "which is very inefficient in R).\n",
    "\n",
    "The MSE in this case is the cost function. \n",
    "\n",
    "It is simply\n",
    "the mean of the squared differences between predicted y\n",
    "\n",
    "and actual y (i.e. the residuals)\n",
    "\n",
    "Now, we run the loop. On each iteration the model wil"
   ]
  },
  {
   "cell_type": "markdown",
   "id": "40aa7812-7e75-49bc-aab1-7b1d71178231",
   "metadata": {},
   "source": [
    "predict y given the values in theta, calculate the residuals, and\n",
    "\n",
    "then apply gradient descent to estimate corrective gradients,\n",
    "\n",
    "then\n",
    "will update the values of theta using these gradients — this process\n",
    "\n",
    "is repeated 100 times.\n",
    "\n",
    "When the loop is finished, I create a\n",
    "dataframe to store the learned parameters and loss per iteration.\n",
    "\n",
    "When the iterations have completed we can plot the lines than the\n",
    "model estimated."
   ]
  },
  {
   "cell_type": "markdown",
   "id": "98d1e3ef-0373-4641-abda-0268515f1e6e",
   "metadata": {},
   "source": [
    "Check Graph on note book"
   ]
  },
  {
   "cell_type": "markdown",
   "id": "4f525d64-8568-4983-96cc-543384ec6cb6",
   "metadata": {},
   "source": [
    "The first thing to notice is the thick red line. \n",
    "\n",
    "This is the line\n",
    "estimated from the initial values of b0 and b1. \n",
    "\n",
    "You can see that\n",
    "this doesn’t fit the data points well at all and \n",
    "\n",
    "because of this it is\n",
    "has the highest error (MSE).\n",
    "\n",
    "However, you can see the lines\n",
    "gradually moving toward the data points until a line of best fit \n",
    "(the\n",
    "thick blue line)\n",
    "\n",
    "is identified.\n",
    "\n",
    "In other words, upon each iteration\n",
    "\n",
    "the model has learned better values for b0 and b1 \n",
    "\n",
    "until it finds the\n",
    "values that minimize the cost function. \n",
    "\n",
    "The final values that the\n",
    "\n",
    "model learns for b0 and b1 are 3.96 and 3.51 \n",
    "\n",
    "respectively — so very\n",
    "\n",
    "close the parameters 4 and 3.5 that we set!"
   ]
  },
  {
   "cell_type": "markdown",
   "id": "cec6453e-cde1-49ec-b8f1-d16113506f5a",
   "metadata": {},
   "source": [
    "Voilla! Our machine! it has learned!!\n",
    "\n",
    "We can also visualize the decrease in the SSE across iterations of\n",
    "\n",
    "the model.\n",
    "\n",
    "This takes a steep decline in the early iterations before\n",
    "converging and stabilizing"
   ]
  },
  {
   "cell_type": "markdown",
   "id": "a9b69b06-4f22-481f-be34-ff20b3bde8b3",
   "metadata": {},
   "source": [
    "Please Check note for diagram"
   ]
  },
  {
   "cell_type": "markdown",
   "id": "668e774f-8dfc-4735-9d52-7be4477996a0",
   "metadata": {},
   "source": [
    "We can now use the learned values of b0 and b1 \n",
    "\n",
    "stored in theta to\n",
    "\n",
    "predict values y for new values of X."
   ]
  },
  {
   "cell_type": "markdown",
   "id": "3976de43-82d3-47a6-97f7-9f914492ad76",
   "metadata": {},
   "source": [
    "#### Summary "
   ]
  },
  {
   "cell_type": "markdown",
   "id": "431c8d86-b105-40d1-ad5a-227a1bea973a",
   "metadata": {},
   "source": [
    "This post presents a very simple way of understanding machine\n",
    "\n",
    "learning. \n",
    "\n",
    "It goes without saying that there is a lot more to ML, \n",
    "\n",
    "but\n",
    "gaining an initial intuition for the fundamentals of what is going\n",
    "\n",
    "on “underneath the hood” can go a long way toward improving\n",
    "your understanding of more complex models."
   ]
  },
  {
   "cell_type": "markdown",
   "id": "84121bbd-6a5f-415a-bd91-fc8f72c84401",
   "metadata": {},
   "source": [
    "#### Introduction to Optimization Cost Function Part 2 "
   ]
  },
  {
   "cell_type": "markdown",
   "id": "cd98c96b-1159-4692-ac13-d313c91dd553",
   "metadata": {},
   "source": [
    "In my previous post I outlined how machine learning works by\n",
    "\n",
    "demonstrating the central role that cost functions and gradient\n",
    "\n",
    "descent play in the learning process. This post builds on these\n",
    "\n",
    "concepts by exploring how neural networks and deep learning\n",
    "work.\n",
    "\n",
    "This post is light on explanation and heavy on code. \n",
    "\n",
    "The\n",
    "reason for this is that I cannot think of any way to elucidate the\n",
    "\n",
    "internal workings of a neural network more clearly that the\n",
    "\n",
    "incredible videos put together by three blue one brown — see the\n",
    "\n",
    "full playlist here.\n",
    "\n",
    "These videos show how neural networks can be fed raw data —\n",
    "\n",
    "such as images of digits — and can output labels for these images\n",
    "\n",
    "with amazing accuracy. The videos highlight the underlying\n",
    "\n",
    "mathematics of neural networks in a very accessible way, meaning\n",
    "\n",
    "even those without a heavy math background can begin to\n",
    "\n",
    "understand what goes on underneath the hood in deep learning."
   ]
  },
  {
   "cell_type": "markdown",
   "id": "b514bdfb-0277-41d2-b4f2-b015ebf641eb",
   "metadata": {},
   "source": [
    "Check note for diagram"
   ]
  },
  {
   "cell_type": "markdown",
   "id": "5b04e542-de57-425e-98b8-6b92b505dc9d",
   "metadata": {},
   "source": [
    "This post is intended as a “code-along” supplement to these videos\n",
    "\n",
    "(full Tensorflow and Keras scripts are available at the end of the\n",
    "post). \n",
    "\n",
    "The purpose is to demonstrate how a neural network can be\n",
    "\n",
    "defined and executed in Tensorflow such that it \n",
    "\n",
    "can identify digits\n",
    "such as those shown above.\n"
   ]
  },
  {
   "cell_type": "markdown",
   "id": "d74dad7e-b69f-4e20-a342-98bb8621c37a",
   "metadata": {},
   "source": [
    "This post is intended as a “code-along” supplement to these videos\n",
    "\n",
    "(full Tensorflow and Keras scripts are available at the end of the\n",
    "post).\n",
    "\n",
    "The purpose is to demonstrate how a neural network can be\n",
    "\n",
    "defined and executed in Tensorflow such that it \n",
    "\n",
    "can identify digits\n",
    "such as those shown above."
   ]
  },
  {
   "cell_type": "markdown",
   "id": "2b9ba32a-44e6-4ea1-b0d1-1f2478c056e5",
   "metadata": {},
   "source": [
    "In the first step we define the architecture of our network.\n",
    "\n",
    "We will\n",
    "create a four layer network comprised of one input layer, \n",
    "\n",
    "two\n",
    "hidden layers and one output layer. Note how the output from one\n",
    "\n",
    "layer is the input to the next. This model is quite simple as far as\n",
    "\n",
    "neural nets go, it is comprised of dense or fully , it requires\n",
    "\n",
    "you (yes you!) to explicitly define the architecture of the NN. \n",
    "\n",
    "In\n",
    "doing so you’ll gain a better understanding of how these networks\n",
    "work"
   ]
  },
  {
   "cell_type": "markdown",
   "id": "16fe7473-1a4b-4b6b-ac5b-49c93ff209cc",
   "metadata": {},
   "source": [
    "#### Neural Networks"
   ]
  },
  {
   "cell_type": "markdown",
   "id": "33f2a2ee-b2ac-44fd-a122-8044412e4fff",
   "metadata": {},
   "source": [
    "Neural networks are mathematical and computational\n",
    "\n",
    "abstractions of biological processes that take \n",
    "\n",
    "place in the brain.\n",
    "\n",
    "Specifically, they loosely mimic the “firing” of interconnected\n",
    "\n",
    "neutrons in response to stimuli — such as new incoming\n",
    "information. \n",
    "\n",
    "I don’t find biological analogies particularly helpful"
   ]
  },
  {
   "cell_type": "markdown",
   "id": "1c48887c-ea9c-4076-b0bb-7035e8a32e4b",
   "metadata": {},
   "source": [
    "for understanding neural networks, so I won’t \n",
    "\n",
    "continue down this path."
   ]
  },
  {
   "cell_type": "markdown",
   "id": "fc12fd1a-cc9d-4515-8778-5a3a3e973da0",
   "metadata": {},
   "source": [
    "Neural networks work by computing weighted summations of\n",
    "\n",
    "input vectors that are then passed through non-linear activation\n",
    "\n",
    "functions, thereby creating a mapping from input to output via a\n",
    "\n",
    "non-linear transformation layer. The weights (represented by\n",
    "\n",
    "neutrons) in the transformation, or hidden, layer are iteratively\n",
    "\n",
    "adjusted such that they come to represent \n",
    "\n",
    "relationships in the data that map inputs to outputs."
   ]
  },
  {
   "cell_type": "markdown",
   "id": "d2f0ba9a-c5ce-499a-a57b-a060c78aa154",
   "metadata": {},
   "source": [
    "#### Defining Layers and activations"
   ]
  },
  {
   "cell_type": "markdown",
   "id": "88523379-ed79-4275-92ba-85281bf41cdf",
   "metadata": {},
   "source": [
    "In the first step we define the architecture of our network.\n",
    "\n",
    "We will\n",
    "create a four layer network comprised of one input layer, \n",
    "\n",
    "two\n",
    "hidden layers and one output layer. Note how the output from one\n",
    "\n",
    "layer is the input to the next. \n",
    "\n",
    "This model is quite simple as far as\n",
    "neural nets go, \n",
    "\n",
    "it is comprised of dense or fully  connected layers,\n",
    "but is still quite powerful."
   ]
  },
  {
   "cell_type": "markdown",
   "id": "857d7619-a59c-4151-a54b-021159f2f987",
   "metadata": {},
   "source": [
    "The input layer — also sometimes referred to as the visible\n",
    "\n",
    "layer — is the layer of the model that represents the data in its\n",
    "raw form.\n",
    "\n",
    "For example, for the digit classification task the visible\n",
    "\n",
    "layer is represented by numbers corresponding to pixel values."
   ]
  },
  {
   "cell_type": "markdown",
   "id": "e32a5da1-aeac-4fb6-9de4-01cd3c844f04",
   "metadata": {},
   "source": [
    "In TensorFlow (all code is below) we need to create a placeholder\n",
    "\n",
    "variable to represent this input data, we will also create a\n",
    "\n",
    "placeholder variable for the correct label corresponding to each\n",
    "input.\n",
    "\n",
    "This effectively sets up the training data — the X values\n",
    "\n",
    "and y labels we will use to train the neural network.\n"
   ]
  },
  {
   "cell_type": "markdown",
   "id": "2bb8335c-a6f6-4a53-933f-0d643538c6a7",
   "metadata": {},
   "source": [
    "The hidden layer(s) enable the neural network to create new\n",
    "\n",
    "representations of the input data that the model uses to learn\n",
    "\n",
    "complex and abstract relationships between the data and the\n",
    "labels.\n",
    "\n",
    "Each hidden layer is comprised of neurons, each\n",
    "representing a scalar value. \n",
    "\n",
    "This scalar value is used to compute a\n",
    "\n",
    "weighted sum of the input plus a bias\n",
    "\n",
    "(essentially y1 ~ wX + b) — creating a linear \n",
    "\n",
    "(or more specifically an affine) transformation."
   ]
  },
  {
   "cell_type": "markdown",
   "id": "b642a622-a617-487a-8c5a-c41b7d956192",
   "metadata": {},
   "source": [
    "In Tensorflow you have to explicitly define the variables for the\n",
    "\n",
    "weights and bias that comprise this layer. We do so by wrapping\n",
    "\n",
    "them in the tf.Variable function — these are wrapped\n",
    "\n",
    "as variables because the parameters will update as the model "
   ]
  },
  {
   "cell_type": "markdown",
   "id": "e18c49ac-87be-4555-9957-c424f950f0a1",
   "metadata": {},
   "source": [
    "learns the weights and bias that best represent relationships in the\n",
    "\n",
    "data. We instantiate the weights with random values with very low\n",
    "\n",
    "variance, and fill the bias variable with zeros. We then define the\n",
    "\n",
    "matrix multiplication that takes place in the layer.\n",
    "\n",
    "This transformation is then passed through an activation function,\n",
    "\n",
    "(here I am using ReLU or rectified linear units) to make make the\n",
    "\n",
    "output of the linear transformation non-linear. This allows the\n",
    "\n",
    "neural net to model complex non-linear relationships between\n",
    "\n",
    "input and output — check out Siraj Raval’s excellent video"
   ]
  },
  {
   "cell_type": "markdown",
   "id": "fecf47cb-8a16-461f-9ab9-e35ae97799c7",
   "metadata": {},
   "source": [
    "explainer on activation functions here"
   ]
  },
  {
   "cell_type": "markdown",
   "id": "df05f8a4-5a33-4c40-96ca-343bfdb3c149",
   "metadata": {},
   "source": [
    "The output layer is the final layer in the model and, in this case,\n",
    "\n",
    "is size ten, one node for each label. We apply a softmax\n",
    "\n",
    "activation to this layer so that it outputs values\n",
    "\n",
    "between 0 and 1\n",
    "\n",
    "across the final layer nodes — representing \n",
    "\n",
    "probabilities across the\n",
    "labels"
   ]
  },
  {
   "cell_type": "markdown",
   "id": "cd70b10c-f739-453d-bcb2-5f4ee1c99acd",
   "metadata": {},
   "source": [
    "#### Cost function and optimisation\n"
   ]
  },
  {
   "cell_type": "markdown",
   "id": "c80363c2-65e5-4714-961d-8f8880e817a2",
   "metadata": {},
   "source": [
    "Now that the neural net architecture is defined, we set the cost\n",
    "\n",
    "function and optimiser. For this task I use categorical cross\n",
    "\n",
    "entropy. \n",
    "\n",
    "I also define an accuracy measure that can be used to\n",
    "evaluate the model’s performance.\n",
    "\n",
    "Finally, I set the optimiser as\n",
    "\n",
    "stochastic gradient descent and call its minimise method once it is\n",
    "instantiated"
   ]
  },
  {
   "cell_type": "markdown",
   "id": "21052225-7c40-4b46-8843-ab816345e563",
   "metadata": {},
   "source": [
    "Finally, the model can be run — here 1000 iterations are run.\n",
    "\n",
    "On\n",
    "each iteration a mini-batch of the data is fed to the model, \n",
    "\n",
    "it makes\n",
    "predictions, computes the loss and through backpropogation,\n",
    "\n",
    "updates the weights and repeats the process."
   ]
  },
  {
   "cell_type": "markdown",
   "id": "941eb62e-263b-4248-bc89-562f0fa55760",
   "metadata": {},
   "source": [
    "**from three blue one brown’s “But, what is a neural network?”\n",
    "video**"
   ]
  },
  {
   "cell_type": "markdown",
   "id": "425724b1-a80e-408b-8481-b22c254cdcc8",
   "metadata": {},
   "source": [
    "This simple(ish) model gets to around 95.5% accuracy on the\n",
    "\n",
    "test set, which isn’t too bad, but could be a lot better.\n",
    "\n",
    "In the plots\n",
    "below you can see the accuracy and cost for each iteration of the\n",
    "model,\n",
    "\n",
    "one thing that clearly stands out is the discrepancy\n",
    "\n",
    "between the performance on the train set and performance on the\n",
    "test set."
   ]
  },
  {
   "cell_type": "markdown",
   "id": "330da247-078f-4f27-9b2a-a63a600ae9fc",
   "metadata": {},
   "source": [
    "This is indicative of overfitting — that is, the model is learning\n",
    "\n",
    "the training data to\n",
    "\n",
    "o well, which is limiting its generalisability.\n",
    "\n",
    "We can handle overfitting using regularisation methods,\n",
    "\n",
    "which will be the subject of my next post."
   ]
  },
  {
   "cell_type": "markdown",
   "id": "9cad716d-afff-4a86-a315-21df5f43c70b",
   "metadata": {
    "tags": []
   },
   "source": [
    "#### Cost Function Practical Explanation"
   ]
  },
  {
   "cell_type": "markdown",
   "id": "1b85c95a-a22c-455e-9695-f1706088609e",
   "metadata": {},
   "source": [
    "#### Cost function"
   ]
  },
  {
   "cell_type": "markdown",
   "id": "937ccb40-9620-453e-bfac-319a38f76cd8",
   "metadata": {},
   "source": [
    "Neural network can be represented by two parameters:\n",
    "\n",
    "i. Slope\n",
    "\n",
    "ii. Intercept\n",
    "\n",
    "Once we have a line , we can always calculate the\n",
    "\n",
    "erors which this line will have from the underlying data point.\n",
    "\n",
    "The idea is to find the line that gives us the \n",
    "\n",
    "least error and it ends up being an  uptimization problem."
   ]
  },
  {
   "cell_type": "markdown",
   "id": "f6063a21-2151-4324-81b8-202fae6db4de",
   "metadata": {},
   "source": [
    "We will be looking at exercise where we can see \n",
    "\n",
    "the error for various values of bete and b and\n",
    "\n",
    "then the question is how do we find the  optimum \n",
    "\n",
    "values of these two parameters."
   ]
  },
  {
   "cell_type": "markdown",
   "id": "c7653669-506f-47f9-9d4a-99940e71adfd",
   "metadata": {},
   "source": [
    "In this video we will see how to calculate error \n",
    "\n",
    "of various lines and then how to refine the optimum line."
   ]
  },
  {
   "cell_type": "markdown",
   "id": "0b96b57c-bf82-43df-a457-59c59d66fd92",
   "metadata": {},
   "source": [
    "##### Import the necessary library"
   ]
  },
  {
   "cell_type": "code",
   "execution_count": 9,
   "id": "b92fe76e-e6c2-4f43-a29c-0528913ba047",
   "metadata": {},
   "outputs": [],
   "source": [
    "import matplotlib.pyplot as plt\n",
    "import pandas as pd\n",
    "import numpy as np\n",
    "from sklearn.metrics import mean_squared_error as mse"
   ]
  },
  {
   "cell_type": "markdown",
   "id": "c75ce8dc-2eb8-4bb5-bd5e-29d0c7975422",
   "metadata": {
    "tags": []
   },
   "source": [
    "##### Creating sample Data"
   ]
  },
  {
   "cell_type": "markdown",
   "id": "151bb365-a181-4ed2-8ac4-f3c3516a5e86",
   "metadata": {},
   "source": [
    "Create a Dataset for experience and salary and put it in form of list"
   ]
  },
  {
   "cell_type": "code",
   "execution_count": 10,
   "id": "b224b99a-21a8-4009-a67c-1a9edf8f8378",
   "metadata": {},
   "outputs": [
    {
     "data": {
      "text/html": [
       "<div>\n",
       "<style scoped>\n",
       "    .dataframe tbody tr th:only-of-type {\n",
       "        vertical-align: middle;\n",
       "    }\n",
       "\n",
       "    .dataframe tbody tr th {\n",
       "        vertical-align: top;\n",
       "    }\n",
       "\n",
       "    .dataframe thead th {\n",
       "        text-align: right;\n",
       "    }\n",
       "</style>\n",
       "<table border=\"1\" class=\"dataframe\">\n",
       "  <thead>\n",
       "    <tr style=\"text-align: right;\">\n",
       "      <th></th>\n",
       "      <th>salary</th>\n",
       "      <th>experience</th>\n",
       "    </tr>\n",
       "  </thead>\n",
       "  <tbody>\n",
       "    <tr>\n",
       "      <th>0</th>\n",
       "      <td>1.7</td>\n",
       "      <td>1.2</td>\n",
       "    </tr>\n",
       "    <tr>\n",
       "      <th>1</th>\n",
       "      <td>2.4</td>\n",
       "      <td>1.5</td>\n",
       "    </tr>\n",
       "    <tr>\n",
       "      <th>2</th>\n",
       "      <td>2.3</td>\n",
       "      <td>1.9</td>\n",
       "    </tr>\n",
       "    <tr>\n",
       "      <th>3</th>\n",
       "      <td>3.1</td>\n",
       "      <td>2.2</td>\n",
       "    </tr>\n",
       "    <tr>\n",
       "      <th>4</th>\n",
       "      <td>3.7</td>\n",
       "      <td>2.4</td>\n",
       "    </tr>\n",
       "  </tbody>\n",
       "</table>\n",
       "</div>"
      ],
      "text/plain": [
       "   salary  experience\n",
       "0     1.7         1.2\n",
       "1     2.4         1.5\n",
       "2     2.3         1.9\n",
       "3     3.1         2.2\n",
       "4     3.7         2.4"
      ]
     },
     "execution_count": 10,
     "metadata": {},
     "output_type": "execute_result"
    }
   ],
   "source": [
    "experience = [1.2,1.5,1.9,2.2,2.4,2.5,2.8,3.1,3.3,3.7,4.2,4.4]\n",
    "salary = [1.7,2.4,2.3,3.1,3.7,4.2,4.4,6.1,5.4,5.7,6.4,6.2]\n",
    "\n",
    "data = pd.DataFrame({\n",
    "    \"salary\" : salary,\n",
    "    \"experience\"  : experience\n",
    "})\n",
    "data.head()\n"
   ]
  },
  {
   "cell_type": "markdown",
   "id": "67408630-439a-4dff-8857-e66a48ca6f07",
   "metadata": {},
   "source": [
    "### Plotting the data"
   ]
  },
  {
   "cell_type": "markdown",
   "id": "fdddbbf8-1cec-40f7-b838-1bc1bc109bb1",
   "metadata": {},
   "source": [
    "Lets explore the data by exploring the relationship.\n",
    "\n",
    "You can see linear relationship between experience and salary"
   ]
  },
  {
   "cell_type": "code",
   "execution_count": 11,
   "id": "e339f440-fdaf-4fed-84e5-13714213befd",
   "metadata": {},
   "outputs": [
    {
     "data": {
      "text/plain": [
       "<matplotlib.legend.Legend at 0x2065e0287c0>"
      ]
     },
     "execution_count": 11,
     "metadata": {},
     "output_type": "execute_result"
    },
    {
     "data": {
      "image/png": "[encoded data removed]",
      "text/plain": [
       "<Figure size 432x288 with 1 Axes>"
      ]
     },
     "metadata": {
      "needs_background": "light"
     },
     "output_type": "display_data"
    }
   ],
   "source": [
    "plt.scatter(data.experience, data.salary, color = 'red', label = 'data points')\n",
    "plt.xlim(1,4,5)\n",
    "plt.ylim(1,7)\n",
    "plt.xlabel('experoence')\n",
    "plt.ylabel('salary')\n",
    "plt.legend()"
   ]
  },
  {
   "cell_type": "markdown",
   "id": "0ff264c9-a0b5-411b-af82-9f987e56e192",
   "metadata": {},
   "source": [
    "##### Starting  the line plot using small values of parameter"
   ]
  },
  {
   "cell_type": "code",
   "execution_count": 12,
   "id": "5a526179-2e58-4302-8fca-eb57856c70c4",
   "metadata": {},
   "outputs": [
    {
     "data": {
      "image/png": "[encoded data removed]",
      "text/plain": [
       "<Figure size 432x288 with 1 Axes>"
      ]
     },
     "metadata": {
      "needs_background": "light"
     },
     "output_type": "display_data"
    }
   ],
   "source": [
    "#We will start by making lines for different values of Beta 0.1,0.8,1.5\n",
    "beta = 0.9\n",
    "# keeping intercept constant\n",
    "b = 1.0\n",
    "\n",
    "# to store predicted points\n",
    "line1 = []\n",
    "\n",
    "# generating predictions for every data point\n",
    "for i in range(len(data)):\n",
    "    line1.append(data.experience[i]*beta + b)\n",
    "    \n",
    "    #plotting the line\n",
    "plt.scatter(data.experience, data.salary, color = 'red')\n",
    "plt.plot(data.experience, line1, color = 'black', label = 'line')\n",
    "plt.xlim(1,4,5)\n",
    "plt.ylim(1,7)\n",
    "plt.xlabel('Experoence')\n",
    "plt.ylabel('Salary')\n",
    "plt.legend()\n",
    "MSE = mse(data.experience, line1)\n",
    "plt.title(\"Beta value \"+str(beta)+\" with MSE \"+ str(MSE))\n",
    "MSE = mse(data.experience, line1)          "
   ]
  },
  {
   "cell_type": "markdown",
   "id": "b2a96445-7575-4b3c-8219-33fd90cd5c2f",
   "metadata": {},
   "source": [
    "FRom the graph , the slope of the line is very less, hence will try out the highest low.\n",
    "\n",
    "Now less uss beta = 1.5 and re-run the cell again."
   ]
  },
  {
   "cell_type": "code",
   "execution_count": 13,
   "id": "1b9727e4-ea9a-4ee6-85aa-11190e97a613",
   "metadata": {},
   "outputs": [
    {
     "data": {
      "image/png": "[encoded data removed]",
      "text/plain": [
       "<Figure size 432x288 with 1 Axes>"
      ]
     },
     "metadata": {
      "needs_background": "light"
     },
     "output_type": "display_data"
    }
   ],
   "source": [
    "#We will start by making lines for different values of Beta 0.1,0.8,1.5\n",
    "beta = 1.5\n",
    "# keeping intercept constant\n",
    "b = 1.0\n",
    "\n",
    "# to store predicted points\n",
    "line1 = []\n",
    "\n",
    "# generating predictions for every data point\n",
    "for i in range(len(data)):\n",
    "    line1.append(data.experience[i]*beta + b)\n",
    "    \n",
    "    #plotting the line\n",
    "plt.scatter(data.experience, data.salary, color = 'red')\n",
    "plt.plot(data.experience, line1, color = 'black', label = 'line')\n",
    "plt.xlim(1,4,5)\n",
    "plt.ylim(1,7)\n",
    "plt.xlabel('Experience')\n",
    "plt.ylabel('Salary')\n",
    "plt.legend()\n",
    "MSE = mse(data.experience, line1)\n",
    "plt.title(\"Beta value \"+str(beta)+\" with MSE \"+ str(MSE))\n",
    "MSE = mse(data.experience, line1)          "
   ]
  },
  {
   "cell_type": "markdown",
   "id": "ee5b12ca-72db-43a3-8a1b-955fcff7a86b",
   "metadata": {},
   "source": [
    "Here, we have a better slope but is more than what we want.\n",
    "\n",
    "So the right value might be somewhere in between so lets try 0.8"
   ]
  },
  {
   "cell_type": "code",
   "execution_count": 14,
   "id": "d0c7ac1b-ebc8-4134-b59f-2a8e71ae4566",
   "metadata": {},
   "outputs": [
    {
     "data": {
      "image/png": "[encoded data removed]",
      "text/plain": [
       "<Figure size 432x288 with 1 Axes>"
      ]
     },
     "metadata": {
      "needs_background": "light"
     },
     "output_type": "display_data"
    }
   ],
   "source": [
    "#We will start by making lines for different values of Beta 0.1,0.8,1.5\n",
    "beta = 0.8\n",
    "# keeping intercept constant\n",
    "b = 1.0\n",
    "\n",
    "# to store predicted points\n",
    "line1 = []\n",
    "\n",
    "# generating predictions for every data point\n",
    "for i in range(len(data)):\n",
    "    line1.append(data.experience[i]*beta + b)\n",
    "    \n",
    "    #plotting the line\n",
    "plt.scatter(data.experience, data.salary, color = 'red')\n",
    "plt.plot(data.experience, line1, color = 'black', label = 'line')\n",
    "plt.xlim(1,4,5)\n",
    "plt.ylim(1,7)\n",
    "plt.xlabel('Experoence')\n",
    "plt.ylabel('Salary')\n",
    "plt.legend()\n",
    "MSE = mse(data.experience, line1)\n",
    "plt.title(\"Beta value \"+str(beta)+\" with MSE \"+ str(MSE))\n",
    "MSE = mse(data.experience, line1)          "
   ]
  },
  {
   "cell_type": "markdown",
   "id": "2aa47fa4-18a7-42d6-8185-838769f9f29f",
   "metadata": {},
   "source": [
    "We can observe that the mse ,mean squared error has come down."
   ]
  },
  {
   "cell_type": "markdown",
   "id": "4ec2215d-fcf2-4e17-aa61-5829b32e1441",
   "metadata": {},
   "source": [
    "##### Compputing Cost over a range of values of Beta"
   ]
  },
  {
   "cell_type": "markdown",
   "id": "d545abb0-74cf-4450-adb0-6d5dbc0f3144",
   "metadata": {},
   "source": [
    "We can try this for various values of beta \n",
    "\n",
    "and see what is the relationship between beta\n",
    "and mean suared error for the face value of b.\n",
    "\n",
    "So we are not changing b."
   ]
  },
  {
   "cell_type": "markdown",
   "id": "98142eb6-4474-4c18-b9d5-0a773508d509",
   "metadata": {},
   "source": [
    "So lets a create a function  def Error.\n",
    "\n",
    "What this error variable does is that for a \n",
    "\n",
    "given value of beta ,it will give us the mean squared error for these data point"
   ]
  },
  {
   "cell_type": "markdown",
   "id": "92f4ef72-2d69-41aa-b94b-b0c87fcfc7cc",
   "metadata": {},
   "source": [
    "b is fixed for us , hence we will be trying \n",
    "\n",
    "different values of beta between 0 to 1.5\n",
    "\n",
    "with increament of 100 which is equal to 0.01.\n",
    "\n",
    "Hence, the first value will be 0, followed by 0.01, 0,02, 0,03 and so on \n",
    "\n",
    "lets append everything\n",
    "\n",
    "Then convert all to a DataFrame"
   ]
  },
  {
   "cell_type": "code",
   "execution_count": 15,
   "id": "b51d2a99-b174-4c24-8a23-30d7415a0e31",
   "metadata": {},
   "outputs": [],
   "source": [
    "#function to calculate error\n",
    "\n",
    "def Error(Beta, data):\n",
    "    # b os constant\n",
    "    b = 1.0\n",
    "    \n",
    "    salary = []\n",
    "    experience = data.experience\n",
    "    \n",
    "    # Loop to calculate predict salary variables\n",
    "      \n",
    "    for i in range(len(data.experience)):    \n",
    "        tmp = data.experience[i] * Beta + b \n",
    "        salary.append(tmp)\n",
    "    MSE = mse(experience, salary)\n",
    "    return MSE"
   ]
  },
  {
   "cell_type": "code",
   "execution_count": 16,
   "id": "bd0e4413-3899-48eb-b7db-4217b2c04c83",
   "metadata": {},
   "outputs": [],
   "source": [
    "# Range of slopes from 0 to 1.5 with increment of 0.01\n",
    "slope = [i/100 for i in range(0,150)]\n",
    "Cost = []\n",
    "for i in slope:\n",
    "    cost = Error( Beta = i, data = data)\n",
    "    Cost.append(cost)\n"
   ]
  },
  {
   "cell_type": "code",
   "execution_count": 17,
   "id": "1c0d4b46-dab3-4bac-96ae-24a98a5e660a",
   "metadata": {},
   "outputs": [
    {
     "data": {
      "text/html": [
       "<div>\n",
       "<style scoped>\n",
       "    .dataframe tbody tr th:only-of-type {\n",
       "        vertical-align: middle;\n",
       "    }\n",
       "\n",
       "    .dataframe tbody tr th {\n",
       "        vertical-align: top;\n",
       "    }\n",
       "\n",
       "    .dataframe thead th {\n",
       "        text-align: right;\n",
       "    }\n",
       "</style>\n",
       "<table border=\"1\" class=\"dataframe\">\n",
       "  <thead>\n",
       "    <tr style=\"text-align: right;\">\n",
       "      <th></th>\n",
       "      <th>Beta</th>\n",
       "      <th>Cost</th>\n",
       "    </tr>\n",
       "  </thead>\n",
       "  <tbody>\n",
       "    <tr>\n",
       "      <th>0</th>\n",
       "      <td>0.00</td>\n",
       "      <td>5.775793</td>\n",
       "    </tr>\n",
       "    <tr>\n",
       "      <th>1</th>\n",
       "      <td>0.01</td>\n",
       "      <td>5.775793</td>\n",
       "    </tr>\n",
       "    <tr>\n",
       "      <th>2</th>\n",
       "      <td>0.02</td>\n",
       "      <td>5.775793</td>\n",
       "    </tr>\n",
       "    <tr>\n",
       "      <th>3</th>\n",
       "      <td>0.03</td>\n",
       "      <td>5.775793</td>\n",
       "    </tr>\n",
       "    <tr>\n",
       "      <th>4</th>\n",
       "      <td>0.04</td>\n",
       "      <td>5.775793</td>\n",
       "    </tr>\n",
       "  </tbody>\n",
       "</table>\n",
       "</div>"
      ],
      "text/plain": [
       "   Beta      Cost\n",
       "0  0.00  5.775793\n",
       "1  0.01  5.775793\n",
       "2  0.02  5.775793\n",
       "3  0.03  5.775793\n",
       "4  0.04  5.775793"
      ]
     },
     "execution_count": 17,
     "metadata": {},
     "output_type": "execute_result"
    }
   ],
   "source": [
    "# Arrange in DataFrame\n",
    "cost_table = pd.DataFrame({\n",
    "    'Beta' : slope,\n",
    "    'Cost' : cost\n",
    "})\n",
    "cost_table.head()"
   ]
  },
  {
   "cell_type": "markdown",
   "id": "3f4af892-c40a-41d3-b783-edea714c22f6",
   "metadata": {},
   "source": [
    "I DONT KNOW WHY I HAVE THESAME VALUES !!!!!!???"
   ]
  },
  {
   "cell_type": "markdown",
   "id": "ab692da9-ad72-405e-bf8d-9640cd4bc5dd",
   "metadata": {},
   "source": [
    "The DataFrame gives us the output of beta and cost"
   ]
  },
  {
   "cell_type": "markdown",
   "id": "21d82780-c4b0-4823-b2e5-c2bf4d9f7e8b",
   "metadata": {},
   "source": [
    "#### Visualisng cost with respect to Beta"
   ]
  },
  {
   "cell_type": "markdown",
   "id": "2db3f644-2254-47f9-8aff-e6b8adf71eb8",
   "metadata": {},
   "source": [
    "We will visualise it by plotting it and we will get the plot below\n",
    "\n",
    "From the graph, the value at zero is 3.72\n",
    "\n",
    "This is the starting values, it goes down \n",
    "\n",
    "with increasing value of Beta gets to the minimum and starts increasing"
   ]
  },
  {
   "cell_type": "markdown",
   "id": "d1bed1ff-1a81-4d87-82c2-cdcee98ade53",
   "metadata": {},
   "source": [
    "The question is ,giving that we have this relationship, what are the values of Beta and\n",
    "\n",
    "y for which we can find out this particular location where are cost is minimum"
   ]
  },
  {
   "cell_type": "code",
   "execution_count": 18,
   "id": "450e5b80-9325-490c-970c-dbd050b51780",
   "metadata": {},
   "outputs": [
    {
     "data": {
      "text/plain": [
       "<matplotlib.legend.Legend at 0x2065e98fe50>"
      ]
     },
     "execution_count": 18,
     "metadata": {},
     "output_type": "execute_result"
    },
    {
     "data": {
      "image/png": "[encoded data removed]",
      "text/plain": [
       "<Figure size 432x288 with 1 Axes>"
      ]
     },
     "metadata": {
      "needs_background": "light"
     },
     "output_type": "display_data"
    }
   ],
   "source": [
    "# plotting the cost values corresponding to every value of Beta\n",
    "\n",
    "plt.plot(cost_table.Beta, cost_table.Cost, color = 'blue', label = 'Cost function Curve')\n",
    "plt.xlabel('Value of Beta')\n",
    "plt.ylabel('Cost')\n",
    "plt.legend()          "
   ]
  },
  {
   "cell_type": "markdown",
   "id": "d11f547a-b182-412e-9e35-ba63afc1b3b3",
   "metadata": {},
   "source": [
    "We assumed b to be 0.1 but we want to change to b as well as Beta.\n",
    "\n",
    "We will use gradiant technique to find the minimum value"
   ]
  },
  {
   "cell_type": "markdown",
   "id": "878fa595-277c-409c-8169-8a5b342f9cf3",
   "metadata": {},
   "source": [
    "QUIZ"
   ]
  },
  {
   "cell_type": "markdown",
   "id": "7b7bfe61-928b-4118-9608-bc99824c7a91",
   "metadata": {},
   "source": [
    "Q. N0.1 .\n",
    ".Cost function(J) of Linear Regression is the _Root mean square______ value between predicted y value (predicted) and true y value (y)?"
   ]
  },
  {
   "cell_type": "markdown",
   "id": "c79cc150-0b4c-423a-a078-77efb0198f0b",
   "metadata": {},
   "source": [
    "Ans.\n",
    "\n",
    "\n",
    "\n",
    "For the Linear regression model, the cost function will be the minimum of the Root Mean Squared Error of the model, obtained by subtracting the predicted values from actual values. The cost function will be the minimum of these error values."
   ]
  },
  {
   "cell_type": "markdown",
   "id": "7808c596-8ce1-4832-95e3-b99bdad4514b",
   "metadata": {},
   "source": [
    "N0.2. \n",
    "\n",
    "_________ is used to find local minima of the cost function?"
   ]
  },
  {
   "cell_type": "markdown",
   "id": "4471b18f-9a4c-4fac-b776-7e6fd06a451d",
   "metadata": {},
   "source": [
    "ans.\n",
    "\n",
    "Gradient descent is an efficient optimization algorithm that attempts to find a local or global minimum of the cost function."
   ]
  },
  {
   "cell_type": "markdown",
   "id": "ca1fd266-42cd-43da-a042-f1e9c172eaf3",
   "metadata": {},
   "source": [
    "3.\n",
    "\n",
    "Advantages of the ReLU functions are? (Choose all that apply)"
   ]
  },
  {
   "cell_type": "markdown",
   "id": "608853e7-e35e-4932-94da-c97e33bcbfbc",
   "metadata": {},
   "source": [
    "Ans \n",
    "\n",
    "ReLUs are much simpler computationally\n",
    "\n",
    "Reduced likelihood of the gradient to vanish\n",
    "\n",
    "The gradient is constant for z > 0\n"
   ]
  },
  {
   "cell_type": "markdown",
   "id": "fb3241a9-a8e2-464a-8ba4-d0914c945529",
   "metadata": {},
   "source": [
    "ans.\n",
    "advantage of ReLU Function:\n",
    "\n",
    "It doesn't allow for the activation of all of the neurons at the same time. \n",
    "\n",
    "i.e., if any input is negative, ReLU converts it to zero and doesn't allow the neuron to get activated.\n",
    "\n",
    "This means that only a few neurons are activated, making the network easy for computation."
   ]
  },
  {
   "cell_type": "markdown",
   "id": "b19c4424-2991-4256-89bf-feaecba849b2",
   "metadata": {},
   "source": [
    "If the ReLU function is used for activation in a neural network in place of a sigmoid \n",
    "\n",
    "function, the value of the partial derivative of the loss function will be having values of\n",
    "\n",
    "0 or 1 which prevents the gradient from vanishing. \n",
    "\n",
    "The use of ReLU function thus prevents the gradient from vanishing."
   ]
  },
  {
   "cell_type": "markdown",
   "id": "c5c3ee0f-0781-4c65-8c0a-967907a41cf4",
   "metadata": {},
   "source": [
    "Understanding the Derivative of Relu.\n",
    "\n",
    "As you may have noticed, relu(z) is \n",
    "\n",
    "differentiable in all of its domain except \n",
    "\n",
    "when z=0. In other words, the left and right\n",
    "\n",
    "derivatives at z=0 exist BUT are not equal \n",
    "\n",
    "(i.e., at z=0, relu(z) is not differentiable)."
   ]
  },
  {
   "cell_type": "markdown",
   "id": "386891f0-f2f6-45cb-a261-497800d5fdc5",
   "metadata": {},
   "source": [
    "194\n",
    "\n",
    "\n",
    "Two additional major benefits of ReLUs are sparsity and a reduced likelihood of vanishing gradient.\n",
    "\n",
    "But first recall the definition of a ReLU is\n",
    "\n",
    "h=max(0,a)\n",
    "\n",
    " where a=Wx+b\n",
    ".\n",
    "\n",
    "One major benefit is the reduced likelihood of the gradient to vanish. This arises when a>0\n",
    "\n",
    ". In this regime the gradient has a constant value. In contrast, the gradient of sigmoids\n",
    "\n",
    "\n",
    "becomes increasingly small as the absolute value of x increases. The constant gradient of ReLUs results in faster learning.\n",
    "\n",
    "The other benefit of ReLUs is sparsity. Sparsity arises when a≤0\n",
    "\n",
    ". The more such units that exist in a layer the more sparse the resulting representation. Sigmoids on the other hand are always likely\n",
    "\n",
    "to generate some non-zero value resulting in dense representations. Sparse representations seem to be more beneficial than dense representations.\n",
    "\n"
   ]
  },
  {
   "cell_type": "markdown",
   "id": "3c8274ae-3e06-4e20-9b96-7e4d42fff9a3",
   "metadata": {},
   "source": [
    "4.\n",
    "\n",
    "Maxout?"
   ]
  },
  {
   "cell_type": "markdown",
   "id": "c16e2d68-ff01-4886-b69a-f5f60bad61a7",
   "metadata": {},
   "source": [
    "Ans.\n",
    "\n",
    "has as special cases ReLU and Leaky ReLU\n",
    "\n",
    "\n",
    "Maxout is another attempt to solve the dead neuron problem in ReLU. It takes the form . From this form, we can see that both ReLU and leaky ReLU are just special cases of this form, that is, for ReLU, it's .\n",
    "\n",
    "\n",
    "has as special cases ReLU and Leaky ReLU\n",
    "\n",
    "requires less parameters to be learned\n",
    "\n",
    "can approximate any convex function"
   ]
  },
  {
   "cell_type": "markdown",
   "id": "62611f2f-5c12-4cfb-b7c7-63607ac72499",
   "metadata": {},
   "source": [
    "5.\n",
    "What is activation function?"
   ]
  },
  {
   "cell_type": "markdown",
   "id": "64d868fc-5d22-492e-9946-58f115496c89",
   "metadata": {},
   "source": [
    "ans.\n",
    "\n",
    "\n",
    "function used to enable Neural Network to solve non-linear problems\n",
    "\n",
    "In artificial neural networks, the activation function of a node defines the output of that node given an input or set of inputs."
   ]
  },
  {
   "cell_type": "markdown",
   "id": "2807d191-ebeb-4630-aa00-19705d2cde5d",
   "metadata": {},
   "source": [
    "### Week 10 day 2: Pipeline Building"
   ]
  },
  {
   "cell_type": "markdown",
   "id": "705d943a-a625-47dd-9088-ea354940a845",
   "metadata": {},
   "source": [
    "#### Introduction from machine learning pipeline."
   ]
  },
  {
   "cell_type": "markdown",
   "id": "473402fb-0ca4-45d8-b497-041b87788673",
   "metadata": {},
   "source": [
    "A machine learning pipeline is used to help automate machine\n",
    "\n",
    "learning workflows. They operate by enabling a sequence of data\n",
    "\n",
    "to be transformed and correlated together in a model that can be\n",
    "\n",
    "tested and evaluated to achieve an outcome, whether positive or\n",
    "negative.\n",
    "\n",
    "Machine learning (ML) pipelines consist of several steps to train a\n",
    "\n",
    "model. Machine learning pipelines are iterative as every step is\n",
    "\n",
    "repeated to continuously improve the accuracy of the model and\n",
    "\n",
    "achieve a successful algorithm. To build better machine learning\n",
    "\n",
    "models, and get the most value from them, accessible, scalable and\n",
    "\n",
    "durable storage solutions are imperative, paving the way for onpremises object storage.\n",
    "\n",
    "Now-a-days Data has become a modern-day currency.\n",
    "Tremendous value and intelligence is being extracted from large,\n",
    "\n",
    "captured datasets (Big data) that has led to actionable insights\n",
    "\n",
    "through today’s world. It’s not just about storing data any longer,\n",
    "\n",
    "but capturing, preserving, accessing and transforming it to take\n",
    "\n",
    "advantage of its possibilities and the value it can deliver.\n",
    "\n",
    "1. The main objective of having a proper pipeline for any ML\n",
    "\n",
    "model is to exercise control over it. A well-organised\n",
    "\n",
    "pipeline makes the implementation more flexible. It is like\n",
    "\n",
    "having an exploded view of a computer where you can\n",
    "\n",
    "pick the faulty pieces and replace it- in our case, replacing\n",
    "\n",
    "a chunk of code.\n",
    "\n",
    "2. The term ML model refers to the model that is created by\n",
    "the training process.\n",
    "\n",
    "3. The learning algorithm finds patterns in the training data\n",
    "\n",
    "that map the input data attributes to the target (the\n",
    "answer to be predicted), and it outputs an ML model that\n",
    "\n",
    "captures these patterns.\n",
    "\n",
    "4. A model can have many dependencies and to store all the\n",
    "\n",
    "components to make sure all features available both\n",
    "\n",
    "offline and online for deployment, all the information is\n",
    "\n",
    "stored in a central repository.\n",
    "\n",
    "5. A pipeline consists of a sequence of components which are\n",
    "\n",
    "a compilation of computations. Data is sent through these\n",
    "\n",
    "components and is manipulated with the help of\n",
    "computation.\n",
    "\n",
    "Pipelines are not one-way flows. They are cyclic in nature and\n",
    "\n",
    "enables iteration to improve the scores of the machine learning\n",
    "\n",
    "algorithms and make the model scalable.\n",
    "\n",
    "Many of today’s ML models are ‘trained’ neural networks capable\n",
    "\n",
    "of executing a specific task or providing insights derived from\n",
    "\n",
    "‘what happened’ to ‘what  t will likely to happen’ (predictive"
   ]
  },
  {
   "cell_type": "markdown",
   "id": "c6dd8743-e074-4de2-988f-d13909568d80",
   "metadata": {},
   "source": [
    "analysis).\n",
    "\n",
    "These models are complex and are never completed, but\n",
    "\n",
    "rather, through the repetition of mathematical or computational\n",
    "\n",
    "procedures, are applied to the previous result and improved upon\n",
    "\n",
    "each time to get closer approximations to ‘solving the problem’.\n",
    "\n",
    "Data scientists want more captured data to provide the fuel to\n",
    "\n",
    "train the ML models.\n",
    "The goal for ML is simple: “ Make faster and better\n",
    "\n",
    "predictions”\n",
    "\n",
    "Challenges Associated with ML Pipelines\n",
    "\n",
    "A typical machine learning pipeline would consist of the following\n",
    "processes:\n"
   ]
  },
  {
   "cell_type": "markdown",
   "id": "5e49d3a9-4931-4566-bd0e-95bb3e4aef2b",
   "metadata": {},
   "source": [
    "• Data collection\n",
    "\n",
    "• Data cleaning\n",
    "\n",
    "• Feature extraction (labelling and dimensionality\n",
    "reduction)\n",
    "\n",
    "• Model validation\n",
    "\n",
    "• Visualisation"
   ]
  },
  {
   "cell_type": "markdown",
   "id": "40b33982-b20b-4da2-80a6-bce6962d2855",
   "metadata": {},
   "source": [
    "Please refer to diagram on the note book"
   ]
  },
  {
   "cell_type": "code",
   "execution_count": null,
   "id": "d1d4e7c4-6895-4c9c-bed9-33250136e4ce",
   "metadata": {},
   "outputs": [],
   "source": []
  },
  {
   "cell_type": "markdown",
   "id": "7ebae9a5-43d4-41be-a67e-8e6657242637",
   "metadata": {},
   "source": [
    "GOGLE image ?"
   ]
  },
  {
   "cell_type": "markdown",
   "id": "06de6c4d-e41b-4e3b-8b53-0be5d7cdea37",
   "metadata": {},
   "source": [
    "Data collection and cleaning are the primary tasks of any machine\n",
    "learning engineer who wants to make meaning out of data.\n",
    "\n",
    "But\n",
    "getting data and especially getting the right data is an uphill task\n",
    "in itself.\n",
    "\n",
    "Data quality and its accessibility are two main challenges one will\n",
    "come across in the initial stages of building a pipeline.\n"
   ]
  },
  {
   "cell_type": "markdown",
   "id": "5d9973ad-b531-4416-a760-0fa3606cc07c",
   "metadata": {},
   "source": [
    "The captured data should be pulled and put together and the\n",
    "\n",
    "benefits of collection should outweigh the costs of collection and\n",
    "analysis.\n",
    "\n",
    "For this purpose, a data lake is recommended for every\n",
    "organisation.\n",
    "\n",
    "A data lake is a centralised repository that allows the\n",
    "\n",
    "user to store both structured and unstructured data at any scale. \n",
    "\n",
    "It\n",
    "also enables ad-hoc analysis by applying schemas to read, not\n",
    "write. \n",
    "\n",
    "In this way, the user can apply multiple analytics and\n",
    "processing frameworks to the same data.\n",
    "\n",
    "Since every case has its own bargain for the amount of data,\n",
    "\n",
    "usually in an unsupervised setting, things can go out of hand if the\n",
    "\n",
    "quantity of data available for training is less."
   ]
  },
  {
   "cell_type": "markdown",
   "id": "d5ebcb38-5058-4e0a-90ae-470ea28d36a3",
   "metadata": {},
   "source": [
    "##### Use Cases"
   ]
  },
  {
   "cell_type": "markdown",
   "id": "60d02b28-939a-4015-afe7-4fdc68e3ca57",
   "metadata": {},
   "source": [
    "A machine learning model’s life cycle needs to be more adaptable\n",
    "\n",
    "to model tuning and monitoring. With new data coming in\n",
    "\n",
    "frequently, there can be significant changes in the outcomes.\n",
    "\n",
    "Currently, improvements are being made to the existing neural\n",
    "\n",
    "networks to make them run even when the data is vague and when\n",
    "there is a lack of labelled training data."
   ]
  },
  {
   "cell_type": "markdown",
   "id": "2474fd2a-6ee8-4d63-a9ba-144cc409da09",
   "metadata": {},
   "source": [
    "#### A simple Python Pipeline"
   ]
  },
  {
   "cell_type": "markdown",
   "id": "64dbe16a-31f7-4e64-8f1a-f917b596de79",
   "metadata": {},
   "source": [
    "This snippet shows the objects and calls needed to create and run\n",
    "a basic pipeline:"
   ]
  },
  {
   "cell_type": "code",
   "execution_count": 19,
   "id": "a044e39f-43c1-4e23-ba90-3d62e5dd6993",
   "metadata": {},
   "outputs": [],
   "source": [
    "#ws = Workspace.from_config()\n",
    "#blob_store = DataFrame(ws. \"Workspaceblobstore\")\n",
    "# compute_target = ws.compute_targets[\"STANDARD_NC6\"]\n",
    "# experiment = Experiment(ws, 'MyExperiment')\n",
    "\n",
    "\n",
    "# inputs_data = DataReference(\n",
    "    # datastore=Datastore(ws, blob_store),\n",
    "    # data_reference_name=\"test_data\",\n",
    "    # path_on_datastore=\"20newsgroups/20news.pk1\")\n",
    "\n",
    "# output_data = PipelineData(\n",
    "    # \"output_data\",\n",
    "    # datastore=blob_store,\n",
    "    # output_name=\"output_data1\")\n",
    "\n",
    " # Steps  = [ PythonScriptstep(\n",
    "    # script_name=\"train.py\",\n",
    "    # arguements=[\"==input\", input_data, \"--output', output_data],\n",
    "    # inputs=[input_data],\n",
    "    # outputs=[output_data],\n",
    "    # compute_target=compute_target,\n",
    "    # Source_directory=\"myfolder\"\n",
    " # )]\n",
    "     \n",
    " # pipeline = pipeline(workspace=ws, steps=steps)\n",
    "     \n",
    " # pipeline_run =  experiment.submit(pipeline) \n",
    "# pipeline_run.wait_for_completion()"
   ]
  },
  {
   "cell_type": "markdown",
   "id": "3661aed8-59fe-4a18-ac91-a9e7250b8c39",
   "metadata": {},
   "source": [
    "Image by Shashanka Manyam"
   ]
  },
  {
   "cell_type": "markdown",
   "id": "f7bf0546-cfb9-485a-9aa6-618bc8cddd72",
   "metadata": {},
   "source": [
    "The snippet starts with common Azure Machine Learning objects,\n",
    "\n",
    "a workspace, a Datastore, a Compute_Target and an Experiment.\n",
    "\n",
    "Then, the code creates the objects to\n",
    "hold input_data and output_data. \n",
    "\n",
    "The array steps holds a single\n",
    "element, a PythonScriptStep that will use the data objects and run\n",
    "\n",
    "on the Compute_Target. Then, the code instantiates\n",
    "the Pipeline object itself, passing in the workspace and steps array.\n",
    "\n",
    "The call to experiment.submit(pipeline) begins the Azure ML\n",
    "\n",
    "pipeline run.\n",
    "\n",
    "The call to wait_for_completion() blocks until the\n",
    "pipeline is finished.\n"
   ]
  },
  {
   "cell_type": "markdown",
   "id": "cdfb120c-495c-456a-a64b-708b938c7f8a",
   "metadata": {},
   "source": [
    "Until a project gets large or near to deployment, your pipelines\n",
    "\n",
    "should be coarser rather than fine-grained. If you think of your ML\n",
    "\n",
    "project as involving stages and a pipeline as providing a complete\n",
    "\n",
    "workflow to move you through a particular stage, you’re on the\n",
    "right path."
   ]
  },
  {
   "cell_type": "markdown",
   "id": "593e4eb8-2364-4150-ac22-ff82b9151f96",
   "metadata": {},
   "source": [
    "So happy tinkering!!\n",
    "\n",
    "\n",
    "References:\n",
    "    \n",
    "    \n",
    "https://docs.microsoft.com/en-us/azure/machinelearning/service/concept-ml-pipelines"
   ]
  },
  {
   "cell_type": "markdown",
   "id": "397c1469-1eb2-470f-b601-1e92f6750f49",
   "metadata": {},
   "source": [
    "#### An Introduction to Scikit-Learn: Machine Learning in Python"
   ]
  },
  {
   "cell_type": "markdown",
   "id": "626f8a33-b22b-4282-bb14-1e45bca060a2",
   "metadata": {},
   "source": [
    "#### What is scikit-learn?"
   ]
  },
  {
   "cell_type": "markdown",
   "id": "52faaa74-74e1-4f30-b097-c1951f264a01",
   "metadata": {},
   "source": [
    ". Scikit-learn is an efficient tool for data mining and data analysis.\n",
    "\n",
    ". It is built on Numpy,scipy and matplotlib\n",
    "\n",
    ". It is an open source,commercially usable- BSD (botnany soft ware distribution)license.\n",
    "\n",
    "It has very few restrictions as to what you can do with it.\n",
    "\n",
    ". Another beautiful advantage is that you dont have to pay for it as a licensed site."
   ]
  },
  {
   "cell_type": "markdown",
   "id": "59b8d084-4f25-4a88-b67e-6158fc35d923",
   "metadata": {},
   "source": [
    "##### What we can achieve using scikit=learn"
   ]
  },
  {
   "cell_type": "markdown",
   "id": "e324d8b8-b4c5-4a81-a115-c48bae6c987a",
   "metadata": {},
   "source": [
    "> Classification : Identify which category an object belongs to.\n",
    "\n",
    "Application: Span detection.\n",
    "Is it a span or not a span ,yes /No\n",
    "In banking ,it a good loan or a bad loan.\n",
    "\n",
    "> Regression : Predicting an attribute associated with an object.\n",
    "\n",
    "Application: Stock prices prediction \n",
    "\n",
    "What is going to be the next value if stock price today is sold for $23.5 cents for share.\n",
    "\n",
    "what do you think it is going to sell for tmor, the next day and the next day."
   ]
  },
  {
   "cell_type": "markdown",
   "id": "d6c84ca3-bfc2-49d5-8fab-66626ddae58d",
   "metadata": {},
   "source": [
    "> Clustering : Automatic grouping of similar objects into sets.\n",
    "\n",
    "Application : Customer segmentation"
   ]
  },
  {
   "cell_type": "markdown",
   "id": "a8a6c92b-d8f6-4bb1-97b7-a624c667d077",
   "metadata": {},
   "source": [
    "> Model Selection :  Comparing validating and choosing Parameters and models.\n",
    "\n",
    "Application: Improves moddel accuracy via parameter tuning. \n",
    "So as to get the best out of it."
   ]
  },
  {
   "cell_type": "markdown",
   "id": "6611f02b-54f7-4833-94bd-c73f62acfc8c",
   "metadata": {},
   "source": [
    "> Dimentionality Reduction : Reducing the number of random variables to consider.\n",
    "\n",
    "Application : To increase model efficiency\n",
    "\n",
    "Eg If you have a 1000s of datas coming in , a thousands of features, some will be duplicated.\n",
    "\n",
    "Some you can combine to form a new column by \n",
    "\n",
    "reducing all those different features into \n",
    "\n",
    "smaller amount you can increase the efficiency of\n",
    "\n",
    "your model,it can process faster and in some cases less bias.\n",
    "\n",
    "If you weigh it on same feature, you can be \n",
    "\n",
    "biased over and over again it will be biased to that feature.\n",
    "\n"
   ]
  },
  {
   "cell_type": "markdown",
   "id": "4d91eed1-30d2-4ea0-ab47-d1540f26e83e",
   "metadata": {},
   "source": [
    "> Pre-processing : Feature extraction and normalization.\n",
    "\n",
    "Applcation: Transferring input date such as text for use with machine learning algorithms."
   ]
  },
  {
   "cell_type": "code",
   "execution_count": 20,
   "id": "a60bba28-1fe9-4e8e-bd36-4b9825fcb0c2",
   "metadata": {},
   "outputs": [],
   "source": [
    "# Importing required packages.\n",
    "import pandas as pd\n",
    "import seaborn as sns\n",
    "import matplotlib.pyplot as plt\n",
    "from sklearn.ensemble import RandomForestClassifier\n",
    "from sklearn.svm import SVC\n",
    "from sklearn import svm\n",
    "from sklearn.neural_network import MLPClassifier\n",
    "#from sklearn.neural_network import SGDClassifier\n",
    "from sklearn.metrics import confusion_matrix, classification_report\n",
    "from sklearn.preprocessing import StandardScaler, LabelEncoder\n",
    "from sklearn.model_selection import train_test_split\n",
    "%matplotlib inline"
   ]
  },
  {
   "cell_type": "code",
   "execution_count": 21,
   "id": "e2e54df3-cdef-4eb1-9d53-b13f14e86793",
   "metadata": {},
   "outputs": [
    {
     "data": {
      "text/html": [
       "<div>\n",
       "<style scoped>\n",
       "    .dataframe tbody tr th:only-of-type {\n",
       "        vertical-align: middle;\n",
       "    }\n",
       "\n",
       "    .dataframe tbody tr th {\n",
       "        vertical-align: top;\n",
       "    }\n",
       "\n",
       "    .dataframe thead th {\n",
       "        text-align: right;\n",
       "    }\n",
       "</style>\n",
       "<table border=\"1\" class=\"dataframe\">\n",
       "  <thead>\n",
       "    <tr style=\"text-align: right;\">\n",
       "      <th></th>\n",
       "      <th>fixed acidity</th>\n",
       "      <th>volatile acidity</th>\n",
       "      <th>citric acid</th>\n",
       "      <th>residual sugar</th>\n",
       "      <th>chlorides</th>\n",
       "      <th>free sulfur dioxide</th>\n",
       "      <th>total sulfur dioxide</th>\n",
       "      <th>density</th>\n",
       "      <th>pH</th>\n",
       "      <th>sulphates</th>\n",
       "      <th>alcohol</th>\n",
       "      <th>quality</th>\n",
       "    </tr>\n",
       "  </thead>\n",
       "  <tbody>\n",
       "    <tr>\n",
       "      <th>0</th>\n",
       "      <td>7.4</td>\n",
       "      <td>0.700</td>\n",
       "      <td>0.00</td>\n",
       "      <td>1.9</td>\n",
       "      <td>0.076</td>\n",
       "      <td>11.0</td>\n",
       "      <td>34.0</td>\n",
       "      <td>0.99780</td>\n",
       "      <td>3.51</td>\n",
       "      <td>0.56</td>\n",
       "      <td>9.4</td>\n",
       "      <td>5</td>\n",
       "    </tr>\n",
       "    <tr>\n",
       "      <th>1</th>\n",
       "      <td>7.8</td>\n",
       "      <td>0.880</td>\n",
       "      <td>0.00</td>\n",
       "      <td>2.6</td>\n",
       "      <td>0.098</td>\n",
       "      <td>25.0</td>\n",
       "      <td>67.0</td>\n",
       "      <td>0.99680</td>\n",
       "      <td>3.20</td>\n",
       "      <td>0.68</td>\n",
       "      <td>9.8</td>\n",
       "      <td>5</td>\n",
       "    </tr>\n",
       "    <tr>\n",
       "      <th>2</th>\n",
       "      <td>7.8</td>\n",
       "      <td>0.760</td>\n",
       "      <td>0.04</td>\n",
       "      <td>2.3</td>\n",
       "      <td>0.092</td>\n",
       "      <td>15.0</td>\n",
       "      <td>54.0</td>\n",
       "      <td>0.99700</td>\n",
       "      <td>3.26</td>\n",
       "      <td>0.65</td>\n",
       "      <td>9.8</td>\n",
       "      <td>5</td>\n",
       "    </tr>\n",
       "    <tr>\n",
       "      <th>3</th>\n",
       "      <td>11.2</td>\n",
       "      <td>0.280</td>\n",
       "      <td>0.56</td>\n",
       "      <td>1.9</td>\n",
       "      <td>0.075</td>\n",
       "      <td>17.0</td>\n",
       "      <td>60.0</td>\n",
       "      <td>0.99800</td>\n",
       "      <td>3.16</td>\n",
       "      <td>0.58</td>\n",
       "      <td>9.8</td>\n",
       "      <td>6</td>\n",
       "    </tr>\n",
       "    <tr>\n",
       "      <th>4</th>\n",
       "      <td>7.4</td>\n",
       "      <td>0.700</td>\n",
       "      <td>0.00</td>\n",
       "      <td>1.9</td>\n",
       "      <td>0.076</td>\n",
       "      <td>11.0</td>\n",
       "      <td>34.0</td>\n",
       "      <td>0.99780</td>\n",
       "      <td>3.51</td>\n",
       "      <td>0.56</td>\n",
       "      <td>9.4</td>\n",
       "      <td>5</td>\n",
       "    </tr>\n",
       "    <tr>\n",
       "      <th>...</th>\n",
       "      <td>...</td>\n",
       "      <td>...</td>\n",
       "      <td>...</td>\n",
       "      <td>...</td>\n",
       "      <td>...</td>\n",
       "      <td>...</td>\n",
       "      <td>...</td>\n",
       "      <td>...</td>\n",
       "      <td>...</td>\n",
       "      <td>...</td>\n",
       "      <td>...</td>\n",
       "      <td>...</td>\n",
       "    </tr>\n",
       "    <tr>\n",
       "      <th>1594</th>\n",
       "      <td>6.2</td>\n",
       "      <td>0.600</td>\n",
       "      <td>0.08</td>\n",
       "      <td>2.0</td>\n",
       "      <td>0.090</td>\n",
       "      <td>32.0</td>\n",
       "      <td>44.0</td>\n",
       "      <td>0.99490</td>\n",
       "      <td>3.45</td>\n",
       "      <td>0.58</td>\n",
       "      <td>10.5</td>\n",
       "      <td>5</td>\n",
       "    </tr>\n",
       "    <tr>\n",
       "      <th>1595</th>\n",
       "      <td>5.9</td>\n",
       "      <td>0.550</td>\n",
       "      <td>0.10</td>\n",
       "      <td>2.2</td>\n",
       "      <td>0.062</td>\n",
       "      <td>39.0</td>\n",
       "      <td>51.0</td>\n",
       "      <td>0.99512</td>\n",
       "      <td>3.52</td>\n",
       "      <td>0.76</td>\n",
       "      <td>11.2</td>\n",
       "      <td>6</td>\n",
       "    </tr>\n",
       "    <tr>\n",
       "      <th>1596</th>\n",
       "      <td>6.3</td>\n",
       "      <td>0.510</td>\n",
       "      <td>0.13</td>\n",
       "      <td>2.3</td>\n",
       "      <td>0.076</td>\n",
       "      <td>29.0</td>\n",
       "      <td>40.0</td>\n",
       "      <td>0.99574</td>\n",
       "      <td>3.42</td>\n",
       "      <td>0.75</td>\n",
       "      <td>11.0</td>\n",
       "      <td>6</td>\n",
       "    </tr>\n",
       "    <tr>\n",
       "      <th>1597</th>\n",
       "      <td>5.9</td>\n",
       "      <td>0.645</td>\n",
       "      <td>0.12</td>\n",
       "      <td>2.0</td>\n",
       "      <td>0.075</td>\n",
       "      <td>32.0</td>\n",
       "      <td>44.0</td>\n",
       "      <td>0.99547</td>\n",
       "      <td>3.57</td>\n",
       "      <td>0.71</td>\n",
       "      <td>10.2</td>\n",
       "      <td>5</td>\n",
       "    </tr>\n",
       "    <tr>\n",
       "      <th>1598</th>\n",
       "      <td>6.0</td>\n",
       "      <td>0.310</td>\n",
       "      <td>0.47</td>\n",
       "      <td>3.6</td>\n",
       "      <td>0.067</td>\n",
       "      <td>18.0</td>\n",
       "      <td>42.0</td>\n",
       "      <td>0.99549</td>\n",
       "      <td>3.39</td>\n",
       "      <td>0.66</td>\n",
       "      <td>11.0</td>\n",
       "      <td>6</td>\n",
       "    </tr>\n",
       "  </tbody>\n",
       "</table>\n",
       "<p>1599 rows × 12 columns</p>\n",
       "</div>"
      ],
      "text/plain": [
       "      fixed acidity  volatile acidity  citric acid  residual sugar  chlorides  \\\n",
       "0               7.4             0.700         0.00             1.9      0.076   \n",
       "1               7.8             0.880         0.00             2.6      0.098   \n",
       "2               7.8             0.760         0.04             2.3      0.092   \n",
       "3              11.2             0.280         0.56             1.9      0.075   \n",
       "4               7.4             0.700         0.00             1.9      0.076   \n",
       "...             ...               ...          ...             ...        ...   \n",
       "1594            6.2             0.600         0.08             2.0      0.090   \n",
       "1595            5.9             0.550         0.10             2.2      0.062   \n",
       "1596            6.3             0.510         0.13             2.3      0.076   \n",
       "1597            5.9             0.645         0.12             2.0      0.075   \n",
       "1598            6.0             0.310         0.47             3.6      0.067   \n",
       "\n",
       "      free sulfur dioxide  total sulfur dioxide  density    pH  sulphates  \\\n",
       "0                    11.0                  34.0  0.99780  3.51       0.56   \n",
       "1                    25.0                  67.0  0.99680  3.20       0.68   \n",
       "2                    15.0                  54.0  0.99700  3.26       0.65   \n",
       "3                    17.0                  60.0  0.99800  3.16       0.58   \n",
       "4                    11.0                  34.0  0.99780  3.51       0.56   \n",
       "...                   ...                   ...      ...   ...        ...   \n",
       "1594                 32.0                  44.0  0.99490  3.45       0.58   \n",
       "1595                 39.0                  51.0  0.99512  3.52       0.76   \n",
       "1596                 29.0                  40.0  0.99574  3.42       0.75   \n",
       "1597                 32.0                  44.0  0.99547  3.57       0.71   \n",
       "1598                 18.0                  42.0  0.99549  3.39       0.66   \n",
       "\n",
       "      alcohol  quality  \n",
       "0         9.4        5  \n",
       "1         9.8        5  \n",
       "2         9.8        5  \n",
       "3         9.8        6  \n",
       "4         9.4        5  \n",
       "...       ...      ...  \n",
       "1594     10.5        5  \n",
       "1595     11.2        6  \n",
       "1596     11.0        6  \n",
       "1597     10.2        5  \n",
       "1598     11.0        6  \n",
       "\n",
       "[1599 rows x 12 columns]"
      ]
     },
     "execution_count": 21,
     "metadata": {},
     "output_type": "execute_result"
    }
   ],
   "source": [
    "#Load the dataset\n",
    "wine = pd.read_csv(\"C:\\\\Users\\\\user\\\\Downloads\\\\winequality-red (2).csv\",sep=';')\n",
    "wine"
   ]
  },
  {
   "cell_type": "code",
   "execution_count": 22,
   "id": "9ddeb40a-76f7-4b0d-8873-5adc28028d99",
   "metadata": {},
   "outputs": [
    {
     "data": {
      "text/html": [
       "<div>\n",
       "<style scoped>\n",
       "    .dataframe tbody tr th:only-of-type {\n",
       "        vertical-align: middle;\n",
       "    }\n",
       "\n",
       "    .dataframe tbody tr th {\n",
       "        vertical-align: top;\n",
       "    }\n",
       "\n",
       "    .dataframe thead th {\n",
       "        text-align: right;\n",
       "    }\n",
       "</style>\n",
       "<table border=\"1\" class=\"dataframe\">\n",
       "  <thead>\n",
       "    <tr style=\"text-align: right;\">\n",
       "      <th></th>\n",
       "      <th>fixed acidity</th>\n",
       "      <th>volatile acidity</th>\n",
       "      <th>citric acid</th>\n",
       "      <th>residual sugar</th>\n",
       "      <th>chlorides</th>\n",
       "      <th>free sulfur dioxide</th>\n",
       "      <th>total sulfur dioxide</th>\n",
       "      <th>density</th>\n",
       "      <th>pH</th>\n",
       "      <th>sulphates</th>\n",
       "      <th>alcohol</th>\n",
       "      <th>quality</th>\n",
       "    </tr>\n",
       "  </thead>\n",
       "  <tbody>\n",
       "    <tr>\n",
       "      <th>0</th>\n",
       "      <td>7.4</td>\n",
       "      <td>0.70</td>\n",
       "      <td>0.00</td>\n",
       "      <td>1.9</td>\n",
       "      <td>0.076</td>\n",
       "      <td>11.0</td>\n",
       "      <td>34.0</td>\n",
       "      <td>0.9978</td>\n",
       "      <td>3.51</td>\n",
       "      <td>0.56</td>\n",
       "      <td>9.4</td>\n",
       "      <td>5</td>\n",
       "    </tr>\n",
       "    <tr>\n",
       "      <th>1</th>\n",
       "      <td>7.8</td>\n",
       "      <td>0.88</td>\n",
       "      <td>0.00</td>\n",
       "      <td>2.6</td>\n",
       "      <td>0.098</td>\n",
       "      <td>25.0</td>\n",
       "      <td>67.0</td>\n",
       "      <td>0.9968</td>\n",
       "      <td>3.20</td>\n",
       "      <td>0.68</td>\n",
       "      <td>9.8</td>\n",
       "      <td>5</td>\n",
       "    </tr>\n",
       "    <tr>\n",
       "      <th>2</th>\n",
       "      <td>7.8</td>\n",
       "      <td>0.76</td>\n",
       "      <td>0.04</td>\n",
       "      <td>2.3</td>\n",
       "      <td>0.092</td>\n",
       "      <td>15.0</td>\n",
       "      <td>54.0</td>\n",
       "      <td>0.9970</td>\n",
       "      <td>3.26</td>\n",
       "      <td>0.65</td>\n",
       "      <td>9.8</td>\n",
       "      <td>5</td>\n",
       "    </tr>\n",
       "    <tr>\n",
       "      <th>3</th>\n",
       "      <td>11.2</td>\n",
       "      <td>0.28</td>\n",
       "      <td>0.56</td>\n",
       "      <td>1.9</td>\n",
       "      <td>0.075</td>\n",
       "      <td>17.0</td>\n",
       "      <td>60.0</td>\n",
       "      <td>0.9980</td>\n",
       "      <td>3.16</td>\n",
       "      <td>0.58</td>\n",
       "      <td>9.8</td>\n",
       "      <td>6</td>\n",
       "    </tr>\n",
       "    <tr>\n",
       "      <th>4</th>\n",
       "      <td>7.4</td>\n",
       "      <td>0.70</td>\n",
       "      <td>0.00</td>\n",
       "      <td>1.9</td>\n",
       "      <td>0.076</td>\n",
       "      <td>11.0</td>\n",
       "      <td>34.0</td>\n",
       "      <td>0.9978</td>\n",
       "      <td>3.51</td>\n",
       "      <td>0.56</td>\n",
       "      <td>9.4</td>\n",
       "      <td>5</td>\n",
       "    </tr>\n",
       "  </tbody>\n",
       "</table>\n",
       "</div>"
      ],
      "text/plain": [
       "   fixed acidity  volatile acidity  citric acid  residual sugar  chlorides  \\\n",
       "0            7.4              0.70         0.00             1.9      0.076   \n",
       "1            7.8              0.88         0.00             2.6      0.098   \n",
       "2            7.8              0.76         0.04             2.3      0.092   \n",
       "3           11.2              0.28         0.56             1.9      0.075   \n",
       "4            7.4              0.70         0.00             1.9      0.076   \n",
       "\n",
       "   free sulfur dioxide  total sulfur dioxide  density    pH  sulphates  \\\n",
       "0                 11.0                  34.0   0.9978  3.51       0.56   \n",
       "1                 25.0                  67.0   0.9968  3.20       0.68   \n",
       "2                 15.0                  54.0   0.9970  3.26       0.65   \n",
       "3                 17.0                  60.0   0.9980  3.16       0.58   \n",
       "4                 11.0                  34.0   0.9978  3.51       0.56   \n",
       "\n",
       "   alcohol  quality  \n",
       "0      9.4        5  \n",
       "1      9.8        5  \n",
       "2      9.8        5  \n",
       "3      9.8        6  \n",
       "4      9.4        5  "
      ]
     },
     "execution_count": 22,
     "metadata": {},
     "output_type": "execute_result"
    }
   ],
   "source": [
    "wine.head()"
   ]
  },
  {
   "cell_type": "markdown",
   "id": "9e4c2f58-f9d9-498b-b9ab-161b29accec9",
   "metadata": {},
   "source": [
    "We will be working on 12 features"
   ]
  },
  {
   "cell_type": "markdown",
   "id": "679f21df-0ebe-4c1f-b584-01cd9db1b947",
   "metadata": {},
   "source": [
    "Because we are pandas dataframw we can do \n",
    "wine.info() to get infor on the data we are working with"
   ]
  },
  {
   "cell_type": "code",
   "execution_count": 23,
   "id": "4a3b65ad-6c80-4cde-9787-7d206566a0cf",
   "metadata": {},
   "outputs": [
    {
     "name": "stdout",
     "output_type": "stream",
     "text": [
      "<class 'pandas.core.frame.DataFrame'>\n",
      "RangeIndex: 1599 entries, 0 to 1598\n",
      "Data columns (total 12 columns):\n",
      " #   Column                Non-Null Count  Dtype  \n",
      "---  ------                --------------  -----  \n",
      " 0   fixed acidity         1599 non-null   float64\n",
      " 1   volatile acidity      1599 non-null   float64\n",
      " 2   citric acid           1599 non-null   float64\n",
      " 3   residual sugar        1599 non-null   float64\n",
      " 4   chlorides             1599 non-null   float64\n",
      " 5   free sulfur dioxide   1599 non-null   float64\n",
      " 6   total sulfur dioxide  1599 non-null   float64\n",
      " 7   density               1599 non-null   float64\n",
      " 8   pH                    1599 non-null   float64\n",
      " 9   sulphates             1599 non-null   float64\n",
      " 10  alcohol               1599 non-null   float64\n",
      " 11  quality               1599 non-null   int64  \n",
      "dtypes: float64(11), int64(1)\n",
      "memory usage: 150.0 KB\n"
     ]
    }
   ],
   "source": [
    "#Get infor .on data you are working with\n",
    "\n",
    "wine.info()"
   ]
  },
  {
   "cell_type": "markdown",
   "id": "fcca3e4b-8f04-49b6-b667-c28ebafc8c2e",
   "metadata": {},
   "source": [
    "The non-null value can trip us off in pre-processing, ways to deal with non-null\n",
    "\n",
    "i. if you have enough data you may just delete your non-null or fill the information in with the average or the most common values."
   ]
  },
  {
   "cell_type": "code",
   "execution_count": 24,
   "id": "0b9e1080-a3fc-4ff1-80ff-91dd5ac5efa9",
   "metadata": {},
   "outputs": [
    {
     "data": {
      "text/plain": [
       "fixed acidity           0\n",
       "volatile acidity        0\n",
       "citric acid             0\n",
       "residual sugar          0\n",
       "chlorides               0\n",
       "free sulfur dioxide     0\n",
       "total sulfur dioxide    0\n",
       "density                 0\n",
       "pH                      0\n",
       "sulphates               0\n",
       "alcohol                 0\n",
       "quality                 0\n",
       "dtype: int64"
      ]
     },
     "execution_count": 24,
     "metadata": {},
     "output_type": "execute_result"
    }
   ],
   "source": [
    "#This gives us a summation of how many null values in each one\n",
    "wine.isnull().sum()"
   ]
  },
  {
   "cell_type": "markdown",
   "id": "bc7ebc0b-4e4d-48c4-a710-1b96792f9ef5",
   "metadata": {},
   "source": [
    "If you have 90% of null values you may need to look for a different way to deal with it"
   ]
  },
  {
   "cell_type": "code",
   "execution_count": 25,
   "id": "ef7bed57-7969-437d-b4fb-72a886047f60",
   "metadata": {},
   "outputs": [
    {
     "data": {
      "text/plain": [
       "['bad', 'good']\n",
       "Categories (2, object): ['bad' < 'good']"
      ]
     },
     "execution_count": 25,
     "metadata": {},
     "output_type": "execute_result"
    }
   ],
   "source": [
    "#We will need to do pre-processing of the data\n",
    "bins=(2, 6.5, 8)\n",
    "group_names = ['bad', 'good']\n",
    "wine['quality'] = pd.cut(wine['quality'], bins, labels = group_names)\n",
    "wine['quality'].unique()"
   ]
  },
  {
   "cell_type": "code",
   "execution_count": null,
   "id": "81c3c7b9-235f-49c1-a1f9-3dacc9113377",
   "metadata": {},
   "outputs": [],
   "source": []
  },
  {
   "cell_type": "code",
   "execution_count": 26,
   "id": "3f4629d4-91ca-4e76-8bda-204c42c0cf47",
   "metadata": {},
   "outputs": [],
   "source": [
    "label_quality = LabelEncoder()"
   ]
  },
  {
   "cell_type": "code",
   "execution_count": 27,
   "id": "1ada22fd-59e8-4603-9ebe-7488bc45f839",
   "metadata": {},
   "outputs": [],
   "source": [
    "wine['quality'] = label_quality.fit_transform(wine['quality'])"
   ]
  },
  {
   "cell_type": "code",
   "execution_count": 28,
   "id": "5b4c3a57-a0f9-49a4-83c8-ff11482ad6e0",
   "metadata": {},
   "outputs": [
    {
     "data": {
      "text/html": [
       "<div>\n",
       "<style scoped>\n",
       "    .dataframe tbody tr th:only-of-type {\n",
       "        vertical-align: middle;\n",
       "    }\n",
       "\n",
       "    .dataframe tbody tr th {\n",
       "        vertical-align: top;\n",
       "    }\n",
       "\n",
       "    .dataframe thead th {\n",
       "        text-align: right;\n",
       "    }\n",
       "</style>\n",
       "<table border=\"1\" class=\"dataframe\">\n",
       "  <thead>\n",
       "    <tr style=\"text-align: right;\">\n",
       "      <th></th>\n",
       "      <th>fixed acidity</th>\n",
       "      <th>volatile acidity</th>\n",
       "      <th>citric acid</th>\n",
       "      <th>residual sugar</th>\n",
       "      <th>chlorides</th>\n",
       "      <th>free sulfur dioxide</th>\n",
       "      <th>total sulfur dioxide</th>\n",
       "      <th>density</th>\n",
       "      <th>pH</th>\n",
       "      <th>sulphates</th>\n",
       "      <th>alcohol</th>\n",
       "      <th>quality</th>\n",
       "    </tr>\n",
       "  </thead>\n",
       "  <tbody>\n",
       "    <tr>\n",
       "      <th>0</th>\n",
       "      <td>7.4</td>\n",
       "      <td>0.70</td>\n",
       "      <td>0.00</td>\n",
       "      <td>1.9</td>\n",
       "      <td>0.076</td>\n",
       "      <td>11.0</td>\n",
       "      <td>34.0</td>\n",
       "      <td>0.9978</td>\n",
       "      <td>3.51</td>\n",
       "      <td>0.56</td>\n",
       "      <td>9.4</td>\n",
       "      <td>0</td>\n",
       "    </tr>\n",
       "    <tr>\n",
       "      <th>1</th>\n",
       "      <td>7.8</td>\n",
       "      <td>0.88</td>\n",
       "      <td>0.00</td>\n",
       "      <td>2.6</td>\n",
       "      <td>0.098</td>\n",
       "      <td>25.0</td>\n",
       "      <td>67.0</td>\n",
       "      <td>0.9968</td>\n",
       "      <td>3.20</td>\n",
       "      <td>0.68</td>\n",
       "      <td>9.8</td>\n",
       "      <td>0</td>\n",
       "    </tr>\n",
       "    <tr>\n",
       "      <th>2</th>\n",
       "      <td>7.8</td>\n",
       "      <td>0.76</td>\n",
       "      <td>0.04</td>\n",
       "      <td>2.3</td>\n",
       "      <td>0.092</td>\n",
       "      <td>15.0</td>\n",
       "      <td>54.0</td>\n",
       "      <td>0.9970</td>\n",
       "      <td>3.26</td>\n",
       "      <td>0.65</td>\n",
       "      <td>9.8</td>\n",
       "      <td>0</td>\n",
       "    </tr>\n",
       "    <tr>\n",
       "      <th>3</th>\n",
       "      <td>11.2</td>\n",
       "      <td>0.28</td>\n",
       "      <td>0.56</td>\n",
       "      <td>1.9</td>\n",
       "      <td>0.075</td>\n",
       "      <td>17.0</td>\n",
       "      <td>60.0</td>\n",
       "      <td>0.9980</td>\n",
       "      <td>3.16</td>\n",
       "      <td>0.58</td>\n",
       "      <td>9.8</td>\n",
       "      <td>0</td>\n",
       "    </tr>\n",
       "    <tr>\n",
       "      <th>4</th>\n",
       "      <td>7.4</td>\n",
       "      <td>0.70</td>\n",
       "      <td>0.00</td>\n",
       "      <td>1.9</td>\n",
       "      <td>0.076</td>\n",
       "      <td>11.0</td>\n",
       "      <td>34.0</td>\n",
       "      <td>0.9978</td>\n",
       "      <td>3.51</td>\n",
       "      <td>0.56</td>\n",
       "      <td>9.4</td>\n",
       "      <td>0</td>\n",
       "    </tr>\n",
       "    <tr>\n",
       "      <th>5</th>\n",
       "      <td>7.4</td>\n",
       "      <td>0.66</td>\n",
       "      <td>0.00</td>\n",
       "      <td>1.8</td>\n",
       "      <td>0.075</td>\n",
       "      <td>13.0</td>\n",
       "      <td>40.0</td>\n",
       "      <td>0.9978</td>\n",
       "      <td>3.51</td>\n",
       "      <td>0.56</td>\n",
       "      <td>9.4</td>\n",
       "      <td>0</td>\n",
       "    </tr>\n",
       "    <tr>\n",
       "      <th>6</th>\n",
       "      <td>7.9</td>\n",
       "      <td>0.60</td>\n",
       "      <td>0.06</td>\n",
       "      <td>1.6</td>\n",
       "      <td>0.069</td>\n",
       "      <td>15.0</td>\n",
       "      <td>59.0</td>\n",
       "      <td>0.9964</td>\n",
       "      <td>3.30</td>\n",
       "      <td>0.46</td>\n",
       "      <td>9.4</td>\n",
       "      <td>0</td>\n",
       "    </tr>\n",
       "    <tr>\n",
       "      <th>7</th>\n",
       "      <td>7.3</td>\n",
       "      <td>0.65</td>\n",
       "      <td>0.00</td>\n",
       "      <td>1.2</td>\n",
       "      <td>0.065</td>\n",
       "      <td>15.0</td>\n",
       "      <td>21.0</td>\n",
       "      <td>0.9946</td>\n",
       "      <td>3.39</td>\n",
       "      <td>0.47</td>\n",
       "      <td>10.0</td>\n",
       "      <td>1</td>\n",
       "    </tr>\n",
       "    <tr>\n",
       "      <th>8</th>\n",
       "      <td>7.8</td>\n",
       "      <td>0.58</td>\n",
       "      <td>0.02</td>\n",
       "      <td>2.0</td>\n",
       "      <td>0.073</td>\n",
       "      <td>9.0</td>\n",
       "      <td>18.0</td>\n",
       "      <td>0.9968</td>\n",
       "      <td>3.36</td>\n",
       "      <td>0.57</td>\n",
       "      <td>9.5</td>\n",
       "      <td>1</td>\n",
       "    </tr>\n",
       "    <tr>\n",
       "      <th>9</th>\n",
       "      <td>7.5</td>\n",
       "      <td>0.50</td>\n",
       "      <td>0.36</td>\n",
       "      <td>6.1</td>\n",
       "      <td>0.071</td>\n",
       "      <td>17.0</td>\n",
       "      <td>102.0</td>\n",
       "      <td>0.9978</td>\n",
       "      <td>3.35</td>\n",
       "      <td>0.80</td>\n",
       "      <td>10.5</td>\n",
       "      <td>0</td>\n",
       "    </tr>\n",
       "  </tbody>\n",
       "</table>\n",
       "</div>"
      ],
      "text/plain": [
       "   fixed acidity  volatile acidity  citric acid  residual sugar  chlorides  \\\n",
       "0            7.4              0.70         0.00             1.9      0.076   \n",
       "1            7.8              0.88         0.00             2.6      0.098   \n",
       "2            7.8              0.76         0.04             2.3      0.092   \n",
       "3           11.2              0.28         0.56             1.9      0.075   \n",
       "4            7.4              0.70         0.00             1.9      0.076   \n",
       "5            7.4              0.66         0.00             1.8      0.075   \n",
       "6            7.9              0.60         0.06             1.6      0.069   \n",
       "7            7.3              0.65         0.00             1.2      0.065   \n",
       "8            7.8              0.58         0.02             2.0      0.073   \n",
       "9            7.5              0.50         0.36             6.1      0.071   \n",
       "\n",
       "   free sulfur dioxide  total sulfur dioxide  density    pH  sulphates  \\\n",
       "0                 11.0                  34.0   0.9978  3.51       0.56   \n",
       "1                 25.0                  67.0   0.9968  3.20       0.68   \n",
       "2                 15.0                  54.0   0.9970  3.26       0.65   \n",
       "3                 17.0                  60.0   0.9980  3.16       0.58   \n",
       "4                 11.0                  34.0   0.9978  3.51       0.56   \n",
       "5                 13.0                  40.0   0.9978  3.51       0.56   \n",
       "6                 15.0                  59.0   0.9964  3.30       0.46   \n",
       "7                 15.0                  21.0   0.9946  3.39       0.47   \n",
       "8                  9.0                  18.0   0.9968  3.36       0.57   \n",
       "9                 17.0                 102.0   0.9978  3.35       0.80   \n",
       "\n",
       "   alcohol  quality  \n",
       "0      9.4        0  \n",
       "1      9.8        0  \n",
       "2      9.8        0  \n",
       "3      9.8        0  \n",
       "4      9.4        0  \n",
       "5      9.4        0  \n",
       "6      9.4        0  \n",
       "7     10.0        1  \n",
       "8      9.5        1  \n",
       "9     10.5        0  "
      ]
     },
     "execution_count": 28,
     "metadata": {},
     "output_type": "execute_result"
    }
   ],
   "source": [
    "wine.head(10)"
   ]
  },
  {
   "cell_type": "code",
   "execution_count": 29,
   "id": "8719e375-c38c-419f-866f-f667701ef658",
   "metadata": {},
   "outputs": [
    {
     "data": {
      "text/plain": [
       "0    1382\n",
       "1     217\n",
       "Name: quality, dtype: int64"
      ]
     },
     "execution_count": 29,
     "metadata": {},
     "output_type": "execute_result"
    }
   ],
   "source": [
    "#To find out the no of wines with high quality\n",
    "wine['quality'].value_counts()"
   ]
  },
  {
   "cell_type": "markdown",
   "id": "1d8856d4-4e24-4d76-a5c1-04f9673af643",
   "metadata": {},
   "source": [
    "From here we can see that the number of wine with high quality is 217 , the rest is poor quality"
   ]
  },
  {
   "cell_type": "code",
   "execution_count": 30,
   "id": "8af0f6af-4328-4a95-93a2-1e0acda90673",
   "metadata": {},
   "outputs": [
    {
     "name": "stderr",
     "output_type": "stream",
     "text": [
      "C:\\Users\\user\\anaconda3\\lib\\site-packages\\seaborn\\_decorators.py:36: FutureWarning: Pass the following variable as a keyword arg: x. From version 0.12, the only valid positional argument will be `data`, and passing other arguments without an explicit keyword will result in an error or misinterpretation.\n",
      "  warnings.warn(\n"
     ]
    },
    {
     "data": {
      "text/plain": [
       "<AxesSubplot:xlabel='quality', ylabel='count'>"
      ]
     },
     "execution_count": 30,
     "metadata": {},
     "output_type": "execute_result"
    },
    {
     "data": {
      "image/png": "[encoded data removed]",
      "text/plain": [
       "<Figure size 432x288 with 1 Axes>"
      ]
     },
     "metadata": {
      "needs_background": "light"
     },
     "output_type": "display_data"
    }
   ],
   "source": [
    "sns.countplot(wine['quality'])"
   ]
  },
  {
   "cell_type": "markdown",
   "id": "5c7bba10-c8a3-43b9-b79b-f6d7bdf85c94",
   "metadata": {},
   "source": [
    "Blue represents low quality wine, brown reps high qualty wine"
   ]
  },
  {
   "cell_type": "code",
   "execution_count": 31,
   "id": "57527526-0b3f-4b1c-a2f7-49deb42e77ba",
   "metadata": {},
   "outputs": [],
   "source": [
    "#Now seperate the dataset as reponse variable and feature variables\n",
    "X= wine.drop('quality', axis = 1)\n",
    "y = wine['quality']"
   ]
  },
  {
   "cell_type": "markdown",
   "id": "4291376f-f5c4-407e-8126-0ab0f7659d6a",
   "metadata": {},
   "source": [
    "To know how good our model is , we use train-test-split"
   ]
  },
  {
   "cell_type": "code",
   "execution_count": 32,
   "id": "9b225a98-520c-4177-9a45-9402b9ba3116",
   "metadata": {},
   "outputs": [],
   "source": [
    "X_train,X_test, y_train, y_test, = train_test_split(X, y, test_size = 0.2, random_state = 42)"
   ]
  },
  {
   "cell_type": "code",
   "execution_count": 33,
   "id": "6b22a5ab-10b7-494b-9214-b36abe317d3b",
   "metadata": {},
   "outputs": [],
   "source": [
    "#Applying Standard scaling to get optimized result\n",
    "\n",
    "sc = StandardScaler()\n",
    "X_train = sc.fit_transform(X_train)\n",
    "X_test = sc.transform(X_test)"
   ]
  },
  {
   "cell_type": "markdown",
   "id": "ac1c5823-c791-4e87-9565-99fd57151d1a",
   "metadata": {},
   "source": [
    "Random forests has a variety of applications, such as recommendation engines, image \n",
    "\n",
    "classification and feature selection.\n",
    "\n",
    "It can be used to classify loyal loan applicants, identify fraudulent activity and predict diseases.\n",
    "\n",
    "It lies at the base of the Boruta algorithm, which selects important features in a dataset."
   ]
  },
  {
   "cell_type": "markdown",
   "id": "c0e18b6a-60b8-4f4d-bf15-c14b34f057ef",
   "metadata": {},
   "source": [
    "Random Forest Classifier is a neural network"
   ]
  },
  {
   "cell_type": "markdown",
   "id": "799024e7-e7ba-44d4-a3e9-68a5b22f2e40",
   "metadata": {},
   "source": [
    "Note,\n",
    "\n",
    "in sklearn we use fit, transform and predict and these are the 3 line of codes to build our random forest classifier."
   ]
  },
  {
   "cell_type": "code",
   "execution_count": 34,
   "id": "f71b9072-f752-431e-8b01-4a6cd748aad9",
   "metadata": {},
   "outputs": [],
   "source": [
    "rfc = RandomForestClassifier(n_estimators=200)\n",
    "rfc.fit(X_train,y_train)\n",
    "pred_rfc = rfc.predict(X_test)"
   ]
  },
  {
   "cell_type": "code",
   "execution_count": 35,
   "id": "fc971de0-e332-49cd-b096-cb0a22cfd74d",
   "metadata": {},
   "outputs": [
    {
     "data": {
      "text/plain": [
       "array([0, 0, 0, 0, 0, 0, 0, 0, 0, 0, 1, 0, 0, 0, 0, 0, 0, 0, 1, 0])"
      ]
     },
     "execution_count": 35,
     "metadata": {},
     "output_type": "execute_result"
    }
   ],
   "source": [
    "pred_rfc[:20] #the first 20 variables"
   ]
  },
  {
   "cell_type": "markdown",
   "id": "c459e7de-3e48-44e6-89f2-734855efd0c5",
   "metadata": {},
   "source": [
    "From our result, three are good quality the rest are bad quality."
   ]
  },
  {
   "cell_type": "code",
   "execution_count": 36,
   "id": "54699a33-f257-471b-aa89-9f06be3599c6",
   "metadata": {
    "tags": []
   },
   "outputs": [
    {
     "data": {
      "text/plain": [
       "array([[-3.61859850e-01,  1.64286407e-01, -9.85152962e-01,\n",
       "        -3.86510130e-02,  5.18158057e-01, -1.81975648e-01,\n",
       "        -1.99566462e-02,  1.75731759e-01, -4.65392578e-01,\n",
       "        -1.34389336e-04, -7.77452782e-01],\n",
       "       [-3.03840702e-01, -1.70525408e-01, -5.24491803e-01,\n",
       "        -6.65728970e-01, -1.30756387e-01,  4.97010797e-01,\n",
       "         1.68066777e+00, -4.17191190e-01,  5.08915214e-01,\n",
       "        -1.03143815e+00, -8.72484283e-01],\n",
       "       [ 1.37871461e+00,  7.78108067e-01, -2.68568937e-01,\n",
       "         1.00699644e-01,  3.76208022e-01,  1.09018543e-01,\n",
       "        -3.84376165e-01,  1.95450060e+00, -2.05577167e-01,\n",
       "         1.83329452e+00, -4.92358280e-01],\n",
       "       [ 1.02293339e-01, -3.93733284e-01,  1.92092221e-01,\n",
       "        -2.12839335e-01, -2.11870693e-01,  1.56398950e+00,\n",
       "         3.44462872e-01,  6.60850535e-01,  1.19192097e-01,\n",
       "        -6.87670232e-01, -5.87389780e-01],\n",
       "       [-9.42051337e-01, -3.93733284e-01, -1.66199791e-01,\n",
       "        -5.96053642e-01, -2.32149269e-01,  2.06016607e-01,\n",
       "        -3.84376165e-01, -1.06401623e+00,  5.08915214e-01,\n",
       "        -3.43902311e-01,  1.72862226e-01],\n",
       "       [-6.51955593e-01, -6.72743130e-01,  1.40907648e-01,\n",
       "        -3.17352327e-01, -1.10477811e-01,  1.85498369e+00,\n",
       "         7.69618977e-01,  1.21829672e-01,  8.33684478e-01,\n",
       "        -8.02259539e-01, -9.67515783e-01],\n",
       "       [-3.61859850e-01,  5.26824689e-02, -6.38306444e-02,\n",
       "        -4.56702985e-01,  1.11936473e-02,  6.91006925e-01,\n",
       "         3.04724097e+00, -2.23143680e-01, -3.35484872e-01,\n",
       "        -4.01196964e-01, -6.82421281e-01],\n",
       "       [-7.67993891e-01,  1.39192973e+00, -9.85152962e-01,\n",
       "        -3.87027656e-01,  9.23079528e-02, -5.69967902e-01,\n",
       "        -8.39900563e-01, -6.32799535e-01,  5.73869067e-01,\n",
       "        -1.08873281e+00, -3.97326779e-01],\n",
       "       [-7.17641072e-02, -7.84347068e-01,  5.50384234e-01,\n",
       "        -7.35404299e-01, -6.17442220e-01, -5.69967902e-01,\n",
       "        -5.36217631e-01, -3.09387018e-01, -3.35484872e-01,\n",
       "         4.58222839e-01, -5.87389780e-01],\n",
       "       [-1.46422367e+00,  4.43296253e-01, -8.31599242e-01,\n",
       "        -5.26378313e-01, -4.55213609e-01,  2.06016607e-01,\n",
       "        -5.66585924e-01, -1.04784560e+00,  1.54817686e+00,\n",
       "        -1.34389336e-04,  4.57956728e-01],\n",
       "       [ 1.26267631e+00, -1.14723438e-01,  1.88118314e+00,\n",
       "        -1.08326342e-01,  3.76208022e-01, -9.57960157e-01,\n",
       "        -9.61373736e-01,  2.83535931e-01, -1.43970037e+00,\n",
       "        -1.34389336e-04,  1.31324023e+00],\n",
       "       [-9.42051337e-01,  1.28032579e+00, -1.29226040e+00,\n",
       "        -5.26378313e-01, -2.11870693e-01, -9.57960157e-01,\n",
       "        -1.05247862e+00, -4.17191190e-01,  1.54817686e+00,\n",
       "        -1.72018350e-01, -4.44842529e-01],\n",
       "       [-9.42051337e-01, -2.82129346e-01, -9.85152962e-01,\n",
       "        -3.17352327e-01, -4.95770762e-01,  2.06016607e-01,\n",
       "        -3.84376165e-01, -6.75921204e-01,  1.19192097e-01,\n",
       "        -1.14723696e-01, -6.82421281e-01],\n",
       "       [-7.67993891e-01,  1.64286407e-01, -7.29230096e-01,\n",
       "        -6.65728970e-01, -2.32149269e-01,  8.85003052e-01,\n",
       "        -1.41429819e-01, -2.60875140e-01,  1.84145950e-01,\n",
       "        -4.01196964e-01, -1.15757878e+00],\n",
       "       [-3.03840702e-01, -1.06335691e+00,  4.99199661e-01,\n",
       "        -3.87027656e-01, -1.30756387e-01,  7.88004988e-01,\n",
       "         3.44462872e-01, -2.01582845e-01,  1.84145950e-01,\n",
       "        -4.01196964e-01, -9.67515783e-01],\n",
       "       [ 3.34369933e-01, -1.39816873e+00,  9.08676246e-01,\n",
       "        -5.96053642e-01, -4.34935033e-01, -8.60962093e-01,\n",
       "        -1.05247862e+00, -1.74318251e+00, -4.00438725e-01,\n",
       "        -6.30375579e-01,  1.78839774e+00],\n",
       "       [-9.42051337e-01,  8.06009052e-01, -1.03633753e+00,\n",
       "        -1.08326342e-01,  1.11936473e-02,  1.09018543e-01,\n",
       "         1.07330191e+00, -5.24995363e-01,  2.49099803e-01,\n",
       "        -6.87670232e-01, -3.02295278e-01],\n",
       "       [ 1.03059972e+00, -5.61139191e-01,  6.52753380e-01,\n",
       "         3.10243156e-02,  7.20293764e-02, -2.78973711e-01,\n",
       "         1.62253113e-01,  8.44117628e-01, -5.95300283e-01,\n",
       "        -1.14723696e-01, -3.97326779e-01],\n",
       "       [ 6.24465676e-01, -1.28656479e+00,  1.47170655e+00,\n",
       "         1.70374973e-01, -1.71313540e-01, -9.57960157e-01,\n",
       "        -9.00637149e-01, -2.01582845e-01, -1.04997725e+00,\n",
       "         1.48952660e+00,  1.21820873e+00],\n",
       "       [ 4.42741900e-02,  1.19662284e+00, -8.31599242e-01,\n",
       "        -4.56702985e-01,  3.14722237e-02,  1.20204793e-02,\n",
       "         4.96304338e-01, -1.47680759e-01, -7.90161842e-01,\n",
       "         9.16580068e-01, -7.77452782e-01]])"
      ]
     },
     "execution_count": 36,
     "metadata": {},
     "output_type": "execute_result"
    }
   ],
   "source": [
    "X_test[:20]"
   ]
  },
  {
   "cell_type": "markdown",
   "id": "ad1a5e36-498e-4cf7-b6b7-ef8c745ab9cc",
   "metadata": {},
   "source": [
    "Steps\n",
    "\n",
    "i.we create our training variable\n",
    "\n",
    "ii. fit our model\n",
    "\n",
    "iii. then predict"
   ]
  },
  {
   "cell_type": "markdown",
   "id": "9e3721ca-8bef-407c-8aa0-30b7aca549af",
   "metadata": {},
   "source": [
    "We use it to find out how well our model performs."
   ]
  },
  {
   "cell_type": "code",
   "execution_count": 37,
   "id": "ec575a4b-e862-4981-8b31-0cf430a8e823",
   "metadata": {},
   "outputs": [
    {
     "name": "stdout",
     "output_type": "stream",
     "text": [
      "              precision    recall  f1-score   support\n",
      "\n",
      "           0       0.92      0.97      0.94       273\n",
      "           1       0.74      0.53      0.62        47\n",
      "\n",
      "    accuracy                           0.90       320\n",
      "   macro avg       0.83      0.75      0.78       320\n",
      "weighted avg       0.90      0.90      0.90       320\n",
      "\n"
     ]
    }
   ],
   "source": [
    "#Lets seee how well our model performed\n",
    "print(classification_report(y_test, pred_rfc))"
   ]
  },
  {
   "cell_type": "markdown",
   "id": "fe497fd7-7681-49de-9c8c-572c225c1ced",
   "metadata": {},
   "source": [
    "Pipe line building is a concept in machine learning that helps to create a process flow.It helps you to write a good code and much shorter code, that  humans will understand."
   ]
  },
  {
   "cell_type": "code",
   "execution_count": 38,
   "id": "f540b4f2-b33b-4c15-b4cf-76ff9a69f9fb",
   "metadata": {},
   "outputs": [
    {
     "ename": "SyntaxError",
     "evalue": "invalid syntax (Temp/ipykernel_14048/2640427143.py, line 1)",
     "output_type": "error",
     "traceback": [
      "\u001b[1;36m  File \u001b[1;32m\"C:\\Users\\user\\AppData\\Local\\Temp/ipykernel_14048/2640427143.py\"\u001b[1;36m, line \u001b[1;32m1\u001b[0m\n\u001b[1;33m    I DDONT UNDERSTAND THIS EXPLANATION !!!\u001b[0m\n\u001b[1;37m      ^\u001b[0m\n\u001b[1;31mSyntaxError\u001b[0m\u001b[1;31m:\u001b[0m invalid syntax\n"
     ]
    }
   ],
   "source": [
    "I DDONT UNDERSTAND THIS EXPLANATION !!!"
   ]
  },
  {
   "cell_type": "markdown",
   "id": "6a715bab-95b6-45c0-8092-9607e8b0ed35",
   "metadata": {},
   "source": [
    "Our classification report shows how good our model is "
   ]
  },
  {
   "cell_type": "markdown",
   "id": "5e453fa3-b862-44cd-8b0e-4be516c46564",
   "metadata": {},
   "source": [
    "#### SVM Classifier"
   ]
  },
  {
   "cell_type": "markdown",
   "id": "b088e801-f5c6-405c-b3b6-ae1b7c6b7346",
   "metadata": {},
   "source": [
    "SVMs are used in applications like handwriting recognition, intrusion detection, face detection, email classification, gene classification, and in web pages.\n",
    "\n",
    "This is one of the reasons we use SVMs in machine learning. It can handle both classification and regression on linear and non-linear data."
   ]
  },
  {
   "cell_type": "markdown",
   "id": "4af0c26d-3554-41bf-8866-0d983af1472a",
   "metadata": {},
   "source": [
    "It works better with small numbers"
   ]
  },
  {
   "cell_type": "code",
   "execution_count": null,
   "id": "2bf79d3b-8c50-4156-a189-b10d1ba5fa67",
   "metadata": {},
   "outputs": [],
   "source": [
    "clf=svm.SVC()\n",
    "clf.fit(X_train, y_train)\n",
    "pred_clf = clf.predict(X_test)"
   ]
  },
  {
   "cell_type": "code",
   "execution_count": null,
   "id": "a77fb42c-7784-46fc-8b68-f01f6e0ea655",
   "metadata": {},
   "outputs": [],
   "source": [
    "#Let's se how our model performed\n",
    "print(classification_report(y_test, pred_clf))\n",
    "print(confusion_matrix(y_test, pred_clf))"
   ]
  },
  {
   "cell_type": "markdown",
   "id": "bb43eddd-6d56-4516-874b-b004b1415a60",
   "metadata": {},
   "source": [
    "#### Neural Network"
   ]
  },
  {
   "cell_type": "markdown",
   "id": "bfad78d1-cadf-4ab1-8b27-c209ef81ee6b",
   "metadata": {},
   "source": [
    "It is very god with big data e.g stocks"
   ]
  },
  {
   "cell_type": "markdown",
   "id": "d4d73d5d-b445-4f54-ba24-6372f490d12f",
   "metadata": {},
   "source": [
    "A neural network is a method in artificial intelligence that teaches computers to process data in a way that is inspired by the human brain.\n",
    "\n",
    "It is a type of machine learning process, called deep learning, that uses interconnected nodes or neurons in a layered structure that resembles the human brain."
   ]
  },
  {
   "cell_type": "code",
   "execution_count": null,
   "id": "568a12bd-fe05-48a8-8648-6f31e552e6c8",
   "metadata": {},
   "outputs": [],
   "source": [
    "mlpc=MLPClassifier(hidden_layer_sizes=(11,11,11),max_iter=500)\n",
    "mlpc.fit(X_train, y_train)\n",
    "pred_mlpc = mlpc.predict(X_test)"
   ]
  },
  {
   "cell_type": "code",
   "execution_count": null,
   "id": "f969ca81-9df6-43c8-8c9a-9962b91a6de4",
   "metadata": {},
   "outputs": [],
   "source": [
    "#Let's see how our model performed \n",
    "print(classification_report(y_test, pred_mlpc))\n",
    "print(confusion_matrix(y_test, pred_mlpc))"
   ]
  },
  {
   "cell_type": "code",
   "execution_count": null,
   "id": "96db826b-829f-4edf-ba4c-7e0dd25083d0",
   "metadata": {},
   "outputs": [],
   "source": [
    "from sklearn.metrics import accuracy_score\n",
    "cm = accuracy_score(y_test, pred_rfc)\n",
    "cm"
   ]
  },
  {
   "cell_type": "code",
   "execution_count": null,
   "id": "1f9496cb-4ded-4235-b636-c64854da6c69",
   "metadata": {},
   "outputs": [],
   "source": [
    "wine.head(10)"
   ]
  },
  {
   "cell_type": "code",
   "execution_count": null,
   "id": "f565a60c-12d6-4a9e-a2e2-7f97e1a04435",
   "metadata": {},
   "outputs": [],
   "source": [
    "#We use random numbers to test new wine\n",
    "\n",
    "Xnew = [[7.3,0.58, 0.00, 2.0, 0.065, 15.0, 21.0, 0.9946, 3.36, 0.47, 10.0]]\n",
    "Xnew = sc.transform(Xnew)\n",
    "ynew = rfc.predict(Xnew)\n",
    "ynew"
   ]
  },
  {
   "cell_type": "markdown",
   "id": "9e9b928b-e688-4e86-9f7a-60f65010599f",
   "metadata": {},
   "source": [
    "from the result, it shows that it is a bad wine."
   ]
  },
  {
   "cell_type": "markdown",
   "id": "5f73c87d-472f-47b8-8d32-81cd856298cd",
   "metadata": {},
   "source": [
    "### Scikit Learn Tutorial 4 – Building a Pipeline"
   ]
  },
  {
   "cell_type": "markdown",
   "id": "97dd0599-40f9-4cb4-9e7b-4ab17a39f3c1",
   "metadata": {},
   "source": [
    "A typical pipeline consists of  a pre-processing step that transforms or inputs the data and the final predictor that predicts target values.\n",
    "\n",
    "Transformers and estimators(predictors) can be combine together into a single unifying object called a pipeline.\n",
    "\n",
    "Pipeline is combining diferent transformers and estimators or to make machine learning work close.\n",
    "\n",
    "This is because it sequentially applies a list of transformers and the final estimator."
   ]
  },
  {
   "cell_type": "markdown",
   "id": "57d3bbc4-8b06-495c-b5f3-a1f66f61a9b2",
   "metadata": {},
   "source": [
    "##### Import the necessary libraries"
   ]
  },
  {
   "cell_type": "code",
   "execution_count": null,
   "id": "ca93f717-8f0f-4abf-a9e8-c0782c0cd571",
   "metadata": {},
   "outputs": [],
   "source": [
    "from sklearn.datasets import load_iris\n",
    "from sklearn.preprocessing import MinMaxScaler\n",
    "from sklearn.linear_model import LogisticRegression\n",
    "from sklearn.model_selection import train_test_split\n",
    "from sklearn.pipeline import Pipeline\n",
    "iris=load_iris()\n",
    "X_train,X_test,y_train,y_test=train_test_split(iris.data,iris.\n",
    "target,test_size=0.2,random_state=42)\n",
    "pipe_Ir=Pipeline([('minmax', MinMaxScaler()) ,('Ir', LogisticRegression())])\n",
    "pipe_Ir.fit(X_train,y_train)\n",
    "                  "
   ]
  },
  {
   "cell_type": "code",
   "execution_count": null,
   "id": "94697bd6-8203-4454-8b90-870bc498cab7",
   "metadata": {},
   "outputs": [],
   "source": [
    "score=pipe_Ir.score(X_test,y_test)\n",
    "score"
   ]
  },
  {
   "cell_type": "markdown",
   "id": "7048b16e-fc6c-4bc0-b7eb-444e8166d198",
   "metadata": {},
   "source": [
    "Our sample is 90% accurate in guessing the unknown example it has not seen before."
   ]
  },
  {
   "cell_type": "markdown",
   "id": "e05dd76b-1576-47b2-b0cd-e9c3a32319a7",
   "metadata": {},
   "source": [
    "We have created a simple pipeline using the MinMaxScaler and applying the simple linearLogisticRegression for classifying"
   ]
  },
  {
   "cell_type": "markdown",
   "id": "da19a83a-4f96-4eab-af5d-c190be41e3c0",
   "metadata": {},
   "source": [
    "#### MinMaxScaler"
   ]
  },
  {
   "cell_type": "markdown",
   "id": "1df3a1b4-ccc4-4739-880b-d9fc8c7a8c90",
   "metadata": {},
   "source": [
    "MinMaxScaler. \n",
    "\n",
    "MinMaxScaler subtracts the minimum value in the feature and then divides by the range. \n",
    "\n",
    "The range is the difference between the original maximum and original minimum. \n",
    "\n",
    "MinMaxScaler preserves the shape of the original distribution. It doesn't meaningfully change the information embedded in the original data."
   ]
  },
  {
   "cell_type": "markdown",
   "id": "5075635a-646e-46b2-9b28-947d693e0685",
   "metadata": {},
   "source": [
    "The transformation is given by:\n",
    "    \n",
    " X_std = (X-X_min)/(X.max-X.max\n",
    "                    \n",
    " X_scaled= X_std*(max-min)+min"
   ]
  },
  {
   "cell_type": "markdown",
   "id": "622e928a-78ad-4147-8446-e33208215e98",
   "metadata": {},
   "source": [
    "Now-a-days Data has become a modern-day currency. Tremendous value and intelligence is being extracted from large, captured datasets (Big data) that has led to actionable insights through today’s world.\n",
    "\n",
    "It’s not just about storing data any longer, but capturing, preserving, accessing and transforming it to take advantage of its possibilities and the value it can deliver.\n",
    "\n",
    "The main objective of having a proper pipeline for any ML model is to exercise control over it. A well-organised pipeline makes the implementation more flexible. It is like having an exploded view of a computer where you can pick the faulty pieces and replace it- in our case, replacing a chunk of code.\n",
    "\n",
    "The term ML model refers to the model that is created by the training process.\n",
    "The learning algorithm finds patterns in the training data that map the input data attributes to the target (the answer to be predicted), and it outputs an ML model that captures these patterns.\n",
    "\n",
    "A model can have many dependencies and to store all the components to make sure all features available both offline and online for deployment, all the information is stored in a central repository.\n",
    "\n",
    "A pipeline consists of a sequence of components which are a compilation of computations. Data is sent through these components and is manipulated with the help of computation.\n",
    "Pipelines are not one-way flows. They are cyclic in nature and enables iteration to improve the scores of the machine learning algorithms and make the model scalable.\n",
    "\n",
    "Many of today’s ML models are ‘trained’ neural networks capable of executing a specific task or providing insights derived from ‘what happened’ to ‘what will likely to happen’ (predictive analysis).\n",
    "\n",
    "These models are complex and are never completed, but rather, through the repetition of mathematical or computational procedures, are applied to the previous result and improved upon each time to get closer approximations to ‘solving the problem’. Data scientists want more captured data to provide the fuel to train the ML models.\n",
    "\n",
    "The goal for ML is simple: “ Make faster and better predictions”\n",
    "\n",
    "Challenges Associated with ML Pipelines\n",
    "A typical machine learning pipeline would consist of the following processes:\n",
    "\n",
    "Data collection\n",
    "\n",
    "Data cleaning\n",
    "\n",
    "Feature extraction (labelling and dimensionality reduction)\n",
    "\n",
    "Model validation\n",
    "\n",
    "Visualisation\n"
   ]
  },
  {
   "cell_type": "markdown",
   "id": "7b0f8828-f768-41c0-98bc-58ce3dd7eeb3",
   "metadata": {},
   "source": [
    "QUIZ "
   ]
  },
  {
   "cell_type": "markdown",
   "id": "c34ebb3e-1d5e-4275-a43c-998718861a0a",
   "metadata": {},
   "source": [
    "1. ————————– is used to help automate machine learning workflows?"
   ]
  },
  {
   "cell_type": "markdown",
   "id": "2e6093be-c3a8-40bc-a531-5e991d57aead",
   "metadata": {},
   "source": [
    "Ans\n",
    "Pipeline\n",
    "\n",
    "Pipelines in machine learning are an infrastructural medium for the entire ML workflow. Pipelines help automate the overall MLOps workflow, from data gathering, EDA, data augmentation, to model building and deployment."
   ]
  },
  {
   "cell_type": "markdown",
   "id": "7076d913-a784-44b9-8b92-00142dd11944",
   "metadata": {},
   "source": [
    "2. The main objective of having a proper pipeline of anyExercising Full Control machine learning model is ________________?\n"
   ]
  },
  {
   "cell_type": "markdown",
   "id": "bf832f68-3b04-4808-ad63-f4251dfd2fb1",
   "metadata": {},
   "source": [
    "Ans.\n",
    "Exercising Full Control\n",
    "\n",
    "The Pipeline Approach Allows Machine Learning to Scale\n",
    "Ultimately, the purpose of a pipeline is to allow you to increase the iteration cycle with the added confidence that codifying the process gives and to scale how many models you can realistically maintain in production."
   ]
  },
  {
   "cell_type": "markdown",
   "id": "d57741c3-240e-44c7-8240-c03d51d6f86f",
   "metadata": {},
   "source": [
    "3. A model can have many dependencies and to store all the components to make sure all features available both offline and online deployment, all the information is stored in a _______________________?"
   ]
  },
  {
   "cell_type": "markdown",
   "id": "aad5419b-28d5-4b6e-b194-c06628645868",
   "metadata": {},
   "source": [
    "Ans.Centralised Repository"
   ]
  },
  {
   "cell_type": "markdown",
   "id": "6860f21e-e8b7-459d-8737-fc0b74029248",
   "metadata": {},
   "source": [
    "4.  Pipeline are one-way flows."
   ]
  },
  {
   "cell_type": "markdown",
   "id": "e6f4d9f2-f134-4fe3-94a4-5e67a628eec0",
   "metadata": {},
   "source": [
    "ans.\n",
    "false\n",
    "\n",
    "Most pipelines only flow in one direction, usually from an oil or gas source to a market hub."
   ]
  },
  {
   "cell_type": "markdown",
   "id": "45e61668-677b-4f31-bec1-835e4a1f3fe0",
   "metadata": {},
   "source": [
    "5.  Which of these is not a process of machine learning pipeline?"
   ]
  },
  {
   "cell_type": "markdown",
   "id": "fdfd169c-17ba-4603-b3a3-59aeff51f1e3",
   "metadata": {},
   "source": [
    "Ans. Documentation"
   ]
  },
  {
   "cell_type": "markdown",
   "id": "0ebc09f0-be37-4476-9646-37e22b17d01e",
   "metadata": {},
   "source": [
    "Challenges Associated with ML Pipelines A typical machine learning pipeline would consist of the following processes:\n",
    "\n",
    "Data collection\n",
    "\n",
    "Data cleaning\n",
    "\n",
    "Feature extraction (labelling and dimensionality reduction)\n",
    "\n",
    "Model validation\n",
    "\n",
    "Visualisation"
   ]
  },
  {
   "cell_type": "markdown",
   "id": "50a2fb05-1d5b-4435-b6a0-51a703a04403",
   "metadata": {},
   "source": [
    "6. One of these is a process of machine learning pipeline?"
   ]
  },
  {
   "cell_type": "markdown",
   "id": "cebcfd10-c75a-4085-8cf0-ede203708eb0",
   "metadata": {},
   "source": [
    "ans. Model Validation"
   ]
  },
  {
   "cell_type": "markdown",
   "id": "0e0a2225-1440-4658-bd4e-430b37f69972",
   "metadata": {},
   "source": [
    "7. ________________ and _________________ are two main challenges of building a pipeline at an early stage?"
   ]
  },
  {
   "cell_type": "markdown",
   "id": "be40629b-a17d-4110-884f-b85c810b9990",
   "metadata": {},
   "source": [
    "ans.\n",
    "Error Checking and Model Validation\n",
    "\n",
    "But getting data and especially getting the right data is an uphill task in itself. Data quality and its accessibility are two main challenges one will come across in the initial stages of building a pipeline."
   ]
  },
  {
   "cell_type": "markdown",
   "id": "4d750002-02a6-4b9b-8676-4fae5bdcf22f",
   "metadata": {},
   "source": [
    "8. _________  is building a model that is capable of making predictions."
   ]
  },
  {
   "cell_type": "markdown",
   "id": "df1b0337-1f2a-4e02-9320-92a5704b60be",
   "metadata": {},
   "source": [
    "ans.\n",
    "Predictive models\n",
    "\n",
    "Predictive modeling is the general concept of building a model that is capable of making predictions. Typically, such a model includes a machine learning algorithm that learns certain properties from a training dataset in order to make those predictions."
   ]
  },
  {
   "cell_type": "markdown",
   "id": "35e3c2a0-4c5f-4d7d-b488-70d802eeb81c",
   "metadata": {},
   "source": [
    "9. After training the ML model, we see how accurately it predicts the answer/responds by _____________. For example – does it cry when I say something mean to it?"
   ]
  },
  {
   "cell_type": "markdown",
   "id": "ec6fa204-71bf-46eb-afc8-089dcde558e7",
   "metadata": {},
   "source": [
    "ans testing"
   ]
  },
  {
   "cell_type": "markdown",
   "id": "c1d2cf95-e1cd-4872-8522-1ce3ebc316fd",
   "metadata": {},
   "source": [
    "Training and Testing Data\n",
    "\n",
    "\n",
    "Machine learning uses algorithms to learn from data. They find patterns, develop understanding, make decisions, and evaluate those decisions. \n",
    "\n",
    "In machine learning, datasets are split into two subsets: training data and testing data. And it's important to know the difference between training and testing data.\n",
    "\n",
    "The first subset is known as the training data — it’s a portion of our actual dataset that is fed into the machine learning model to discover and learn patterns. In this way, it trains our model. \n",
    "\n",
    "The other subset is known as the testing data. Once your machine learning model is built, i.e. trained, you need unseen data to test your model. This data is called testing data, and you can use it to evaluate the performance and progress of your algorithms’ training and adjust or optimize it for improved results. \n",
    "\n",
    "Trained enough, an algorithm will essentially memorize all of the inputs and outputs in a training dataset — this becomes a problem when it needs to consider data from other sources, such as real-world customers.\n",
    "\n",
    "In data science, it’s typical to see your data split into 80% for training and 20% for testing.\n",
    "\n",
    "The process of building a machine learning model is comprised of three steps: \n",
    "\n",
    "Feed - Feeding a model with training data\n",
    "Define - The model learns patterns from the data \n",
    "Test - Finally, the trained model is tested with previously unseen data, i.e. test data.\n",
    "Model Performance in Obviously AI\n",
    "Let’s take a look at a report generated in Obviously AI. We used a sample dataset for employee attrition on our platform. \n",
    "\n",
    "The Overview tab, pictured above, shows us our report.\n",
    "\n",
    "Model performance in Obviously AI\n",
    "If we navigate to the advanced graphs tab, pictured below, we seethe graphical analysis of the performance of the classification model on the test data. This section helps Obviously AI users to quickly visualize model performance and decision making. Remember: machine learning models are trained on 80% of data and model performance is evaluated on the other 20% of the data. This is the information we’ll be working with in the advanced graphs section.\n",
    "\n",
    "Here, we see three types of visualizations:\n",
    "\n",
    "A decision tree\n",
    "A confusion matrix\n",
    "A bar chart depicting the Actual vs. Predicted values\n",
    "\n",
    "\n",
    "The advanced graphs section in obviously AI shows model performance of the report"
   ]
  },
  {
   "cell_type": "markdown",
   "id": "5319eba9-6d7f-4723-b033-729b5feb397d",
   "metadata": {},
   "source": [
    "10. An ML model needs _________ to generate data to learn from?"
   ]
  },
  {
   "cell_type": "markdown",
   "id": "24b64888-04f6-445b-b732-c7b38eb61f8d",
   "metadata": {},
   "source": [
    "Answer :Training"
   ]
  },
  {
   "cell_type": "markdown",
   "id": "e24d0452-35cb-47f9-8f53-ef78973044f8",
   "metadata": {},
   "source": [
    "Supervised machine learning models require labeled datasets which have been prepared by a data scientist. The training dataset will therefore include input and labeled output data. The model then learns the relationship between input and output data."
   ]
  },
  {
   "cell_type": "markdown",
   "id": "bd08615b-ebf9-40b0-90bc-f10b734b2c29",
   "metadata": {},
   "source": [
    "### Week 10: Day 3 – Hyperparameter Tuning "
   ]
  },
  {
   "cell_type": "markdown",
   "id": "c9db3081-83e7-499b-9188-787ebfa417cc",
   "metadata": {},
   "source": [
    "### Introduction to Hyperparameter Tuning"
   ]
  },
  {
   "cell_type": "markdown",
   "id": "19bdec03-34e8-435b-b93a-037f485ed83b",
   "metadata": {},
   "source": [
    "\n",
    "Data Science is made of mainly two parts. Data analytics and machine\n",
    "learning modeling. Although Data Science has a much wider scope, the\n",
    "above-mentioned components are core elements for any Data Science\n",
    "project. Let me quickly go through the difference between data analytics and\n",
    "machine learning.\n",
    "For any Data Science project, having historical data is a key essence. This\n",
    "data might not be in the format that makes sense, or we might need to\n",
    "process the data to get insights from the same. To achieve insights, the below\n",
    "process is important.\n",
    "\n",
    "1. Data Analytics – Historical data has a lot to say, so to hear what it\n",
    "has in store for us, we need to analyze it thoroughly. We can get\n",
    "insights into how variables are related to each other, which variable\n",
    "adds what value to the data, do we have any missing value, do we"
   ]
  },
  {
   "cell_type": "markdown",
   "id": "bc4f098c-7f40-4f70-8b94-d45e55c25b96",
   "metadata": {},
   "source": [
    "have any extreme (outlier) values, etc. Data description, data\n",
    "pre-processing, data munching, data cleaning, and exploratory data\n",
    "analysis all come under one umbrella, i.e., Data Analytics.\n",
    "\n",
    "2. Machine Learning– Post doing data analytics, these insights should\n",
    "be used in the most sought-after way to predict the future values.\n",
    "How to do that? To answer this, we have machine learning models.\n",
    "When a machine learns on its own based on data patterns from\n",
    "historical data, we get an output which is known as a machine\n",
    "learning model. In a broad category, machine learning models are\n",
    "classified into two categories, Classification, and Regression."
   ]
  },
  {
   "cell_type": "markdown",
   "id": "cae3487a-082f-4ec6-b166-0295d1b2243e",
   "metadata": {},
   "source": [
    "There is a list of different machine learning models. They all are different in\n",
    "some way or the other, but what makes them different is nothing but input\n",
    "parameters for the model. These input parameters are named as\n",
    "Hyperparameters.\n",
    "\n",
    "These hyperparameters will define the architecture of the\n",
    "model, and the best part about these is that you get a choice to select these\n",
    "for your model. Of course, you must select from a specific list of\n",
    "hyperparameters for a given model as it varies from model to model.\n",
    "Often, we are not aware of optimal values for hyperparameters which would\n",
    "generate the best model output. So, what we tell the model is to explore and\n",
    "select the optimal model architecture automatically. This selection procedure\n",
    "for hyperparameter is known as Hyperparameter Tuning.\n",
    "Now, the question arises why we need this? How would this help in my model?"
   ]
  },
  {
   "cell_type": "markdown",
   "id": "88441908-0af5-49f2-bc0c-1278b84f604d",
   "metadata": {},
   "source": [
    " What will happen if we skip this step? The list is endless. So, here we\n",
    "would discuss what questions this hyperparameter tuning will answer for us,\n",
    "and then all the above questions will automatically get answered.\n",
    "\n",
    "● What should be the value for the maximum depth of the Decision\n",
    "Tree?\n",
    "\n",
    "● How many trees should I select in a Random Forest model?\n",
    "\n",
    "● Should use a single layer or multiple layer Neural Network, if multiple\n",
    "layers then how many layers should be there?\n",
    "\n",
    "● How many neurons should I include in the Neural Network?\n",
    "\n",
    "● What should be the minimum sample split value for Decision Tree?\n",
    "\n",
    "● What value should I select for the minimum sample leaf for my\n",
    "Decision Tree?\n",
    "\n",
    "● How many iterations should I select for Neural Network?"
   ]
  },
  {
   "cell_type": "markdown",
   "id": "79ec46c6-4b28-49d9-8540-3beee213bc53",
   "metadata": {},
   "source": [
    "● What should be the value of the learning rate for gradient descent?\n",
    "\n",
    "● Which solver method is best suited for my Neural Network?\n",
    "\n",
    "● What is the K in K-nearest Neighbors?\n",
    "\n",
    "● What should be the value for C and sigma in Support Vector\n",
    "Machine?\n",
    "\n",
    "Above mentioned are just a few questions which could be answered by\n",
    "hyperparameter tuning.\n",
    "\n",
    "Each model has its own sets of parameters that need\n",
    "to be tuned to get optimal output. For every model, our goal is to minimize the\n",
    "error or say to have predictions as close as possible to actual values. "
   ]
  },
  {
   "cell_type": "markdown",
   "id": "9f6c2878-edcc-4639-bdb3-9b9a1c8126ca",
   "metadata": {},
   "source": [
    "This is\n",
    "one of the cores or say the major objective of hyperparameter tuning.\n",
    "\n",
    "This can be particularly important when comparing how different machine\n",
    "learning models are performing on a dataset. Would it be justified to compare\n",
    "a Random Forest model with hyperparameters against an SVM model which\n",
    "is not optimized in terms of hyperparameter?\n",
    "In this article, I would be explaining following approaches to Hyperparameter\n",
    "tuning:\n",
    "\n",
    "● Manual Search\n",
    "● Random Search\n",
    "● Grid Search\n",
    "\n",
    "\n",
    "Manual Search\n",
    "While using manual search, we select some hyperparameters for a model\n",
    "based on our gut feeling and experience. Based on these parameters, th"
   ]
  },
  {
   "cell_type": "markdown",
   "id": "e21a8c44-5b24-4784-838c-945b389431db",
   "metadata": {},
   "source": [
    "\n",
    "#### Manual Search"
   ]
  },
  {
   "cell_type": "markdown",
   "id": "6188ce59-24dd-4dc6-8c89-167a9f1eadab",
   "metadata": {},
   "source": [
    "While using manual search, we select some hyperparameters for a model\n",
    "based on our gut feeling and experience. Based on these parameters, the model is trained, and model performance measures are checked.\n",
    "\n",
    "This\n",
    "process is repeated with another set of values for the same hyperparameters\n",
    "until optimal accuracy is received, or the model has attained optimal error.\n",
    "This might not be of much help as human judgment is biased, and here\n",
    "human experience is playing a significant role.\n"
   ]
  },
  {
   "cell_type": "markdown",
   "id": "73ae206b-28dc-48f2-9b80-a9904a1e671c",
   "metadata": {},
   "source": [
    "#### Random Search"
   ]
  },
  {
   "cell_type": "markdown",
   "id": "330e1201-3c2e-42f4-8eed-b0ccb1c77bc1",
   "metadata": {},
   "source": [
    "Though manual search is an iterative process, each time a specific value is\n",
    "given for hyperparameters to acquire optimal model performance measures, it\n",
    "is an exhaustive approach. Instead of doing multiple rounds of this process, it\n",
    "would be better to give multiple values for all the hyperparameters in one go\n",
    "to the model and let the model decide which one best suits. \n",
    "\n",
    "Those who are\n",
    "aware of hyperparameter tuning might say that I am talking about grid search,\n",
    "but no, this is slightly different. Out of the values mentioned, the model\n",
    "randomly makes combinations of its own and tries to fit the dataset and test\n",
    "the accuracy.\n",
    "\n",
    "Here, chances are there to miss on a few combinations which\n",
    "could have been optimal ones. Although, random search consumes quite less\n",
    "amount of time and most of the time it gives optimal solutions as well. So, in\n",
    "that case, it is a win-win situation.\n"
   ]
  },
  {
   "cell_type": "markdown",
   "id": "457458e8-a68b-4690-b356-6569d537d685",
   "metadata": {},
   "source": [
    "#### Grid Search"
   ]
  },
  {
   "cell_type": "markdown",
   "id": "f236cc49-cfd1-4b76-aea9-ddb4d291bd6d",
   "metadata": {},
   "source": [
    "As mentioned above, in a random search, grid search also uses the same\n",
    "methodology but with a difference. In this method, each combination of\n",
    "hyperparameter value is tried. This makes the process time consuming, or in\n",
    "short, inefficient. Say we have given 20 different hyperparameter values for 4\n",
    "different hyperparameters. Then there would be 160,000 trials for a model.\n",
    "This sounds a big number and assumes how much time it would consume for\n",
    "a large dataset. Along with this, cross-validation is also added to the grid\n",
    "search, which increases this trial number to 1,600,000 (if 10-fold\n",
    "cross-validation is used)"
   ]
  },
  {
   "cell_type": "markdown",
   "id": "e869374f-9a5b-4cdc-88b2-c37328efcf94",
   "metadata": {},
   "source": [
    "This method is quite an expensive method in terms of computation power and\n",
    "time, but this is the most efficient method as there is the least possibility of\n",
    "missing out on an optimal solution for a model.\n",
    "Let’s quickly understand the concept of cross-validation also as it is preferred\n",
    "to use it while doing grid search or random search for hyperparameter tuning."
   ]
  },
  {
   "cell_type": "markdown",
   "id": "b10f8abb-1f60-4ccc-8372-2197897a46d3",
   "metadata": {},
   "source": [
    "#### Cross Validation"
   ]
  },
  {
   "cell_type": "markdown",
   "id": "69106704-5cb8-4baf-85af-2804e03ca807",
   "metadata": {},
   "source": [
    "While creating any machine learning models, we generally divide the dataset\n",
    "into train sets and test sets. The train set is used to make machines learn the\n",
    "pattern and create a model for future prediction. The test dataset is used to\n",
    "test model performance such that it considers this data as unseen data. When\n",
    "we use cross-validation, even the train set is divided into N partitions to make\n",
    "sure that our model is not overfitting.\n",
    "\n",
    "K-fold is the most commonly used cross-validation technique. Here training\n",
    "data is divided into K partitions and then the model is iteratively trained on the\n",
    "k-1 partition and test it with the leftover partition. Once having trained K time,"
   ]
  },
  {
   "cell_type": "markdown",
   "id": "3a57deb1-8619-46cb-8641-c5537ecb2e0e",
   "metadata": {},
   "source": [
    "the model, we then average the training results obtained from each iteration to\n",
    "obtain overall model performance resu"
   ]
  },
  {
   "cell_type": "markdown",
   "id": "f2263557-9b30-4f98-980f-9e599a04ec6e",
   "metadata": {},
   "source": [
    "Below are hyperparameters listed for few of machine learning models:\n",
    "\n",
    "● Decision Tree\n",
    "\n",
    "● max_features = max number of features considered for splitting a\n",
    "node\n",
    "\n",
    "● max_depth = max number of levels in each decision tree\n",
    "\n",
    "● min_samples_split = min number of data points placed in a node\n",
    "before the node is split\n",
    "\n",
    "● min_samples_leaf = min number of data points allowed in a leaf node\n",
    "\n",
    "● Random Forest\n",
    "\n",
    "● n_estimators = number of trees in the forest\n",
    "\n",
    "● max_features = max number of features considered for splitting a node"
   ]
  },
  {
   "cell_type": "markdown",
   "id": "3dad4728-861b-4b20-b605-7e09f03e778f",
   "metadata": {},
   "source": [
    "● max_depth = max number of levels in each decision tree\n",
    "\n",
    "● min_samples_split = min number of data points placed in a node\n",
    "before the node is split\n",
    "\n",
    "● min_samples_leaf = min number of data points allowed in a leaf node\n",
    "\n",
    "● bootstrap = method for sampling data points (with or without\n",
    "replacement)\n",
    "\n",
    "● Artificial Neural Network\n",
    "\n",
    "● Hidden_layer_sizes = Number of neurons\n",
    "\n",
    "● max_iter = max iterations required\n",
    "\n",
    "● solver = solver method required for gradient descent\n",
    "\n",
    "● tol = learning rate for minimization loss\n"
   ]
  },
  {
   "cell_type": "markdown",
   "id": "44707b21-9ce7-47f0-819b-039acb078d42",
   "metadata": {},
   "source": [
    "#### Conclusion"
   ]
  },
  {
   "cell_type": "markdown",
   "id": "80ec728d-9841-4fb7-8333-4544a1d96159",
   "metadata": {},
   "source": [
    "Here, we explored three methods for hyperparameter tuning. While this is an\n",
    "important step in modeling, it is by no means the only way to improve\n",
    "performance"
   ]
  },
  {
   "cell_type": "markdown",
   "id": "fcabd226-3b09-4401-a287-51f50ec8cd93",
   "metadata": {},
   "source": [
    "### Hyperparameter Tuning Machine Learning "
   ]
  },
  {
   "cell_type": "markdown",
   "id": "746bb82c-80b2-4a7d-83df-392bef26b27f",
   "metadata": {},
   "source": [
    "Hyperparameter tuning is an essential part of controlling the behavior of a machine learning model. If we don’t correctly tune our hyperparameters, our estimated model parameters produce suboptimal results, as they don’t minimize the loss function. \n",
    "\n",
    "This means our model makes more errors. In practice, key indicators like the accuracy or the confusion matrix will be worse."
   ]
  },
  {
   "cell_type": "markdown",
   "id": "c9c44dc9-248d-47d6-a2b4-1bdb39d09602",
   "metadata": {},
   "source": [
    "#### Basis of Hyper parameter Tuning"
   ]
  },
  {
   "cell_type": "markdown",
   "id": "d1419f39-6d05-4569-9072-697f0e409582",
   "metadata": {},
   "source": [
    "In simple terms it allows us to choose the correct parameter and get the best accuracy score for our model\n",
    "\n",
    "Hyper parameter tuning is used to build the hyper parameter of a model to increase its accuracy.\n",
    "\n",
    "Using the support vector machine as an example,\n",
    "When you are training a support vector machine you need to set alot of parameters as this parameters will determine how your machine learning model will get trained or how long it will get trained and how it will begin with any training session and how the training session will go and how long it will go on. \n",
    "\n",
    "You can get more information on sklearn library for support vector machine . google search (sklearn.svm.SVC)"
   ]
  },
  {
   "cell_type": "code",
   "execution_count": 39,
   "id": "f038e864-2fc5-4ddf-8b6e-d77f083232c0",
   "metadata": {},
   "outputs": [
    {
     "ename": "SyntaxError",
     "evalue": "invalid syntax (Temp/ipykernel_14048/2908251396.py, line 1)",
     "output_type": "error",
     "traceback": [
      "\u001b[1;36m  File \u001b[1;32m\"C:\\Users\\user\\AppData\\Local\\Temp/ipykernel_14048/2908251396.py\"\u001b[1;36m, line \u001b[1;32m1\u001b[0m\n\u001b[1;33m    Here are some default parameters:\u001b[0m\n\u001b[1;37m         ^\u001b[0m\n\u001b[1;31mSyntaxError\u001b[0m\u001b[1;31m:\u001b[0m invalid syntax\n"
     ]
    }
   ],
   "source": [
    "Here are some default parameters:\n",
    "\n",
    "   # lass sklearn.svm.SVC(*, C=1.0, kernel='rbf',\n",
    "#degree=3, gamma='scale', coef0=0.0, shrinking=True, \n",
    "#probability=False, tol=0.001, cache_size=200, \n",
    "#class_weight=None, verbose=False, max_iter=-1,\n",
    "#decision_function_shape='ovr', break_ties=False,\n",
    "#random_state=None)[so"
   ]
  },
  {
   "cell_type": "markdown",
   "id": "b9d4fc90-b00b-4368-b591-ab1432b32985",
   "metadata": {},
   "source": [
    "You can see alot of parameters. \n",
    "these parameters will  help you understand how your model works.\n",
    "\n",
    "it also takes care of how your model will be. the interactions and how it will train itself to figure out the classification problems.\n",
    "\n",
    "For instance,if you have a dataset and you want to use it to  classify your algorithm or train it on a classification problem, if you dont set any parameters, these default parameters can help you train your model\n",
    "\n",
    "It might not give you the best accuracy but it will give you the acuracy set by the default parameter.\n",
    "\n",
    "You can also change the parameters to diffent values to see how it affects your model using the hyper parameter tuning."
   ]
  },
  {
   "cell_type": "markdown",
   "id": "8db8504d-312f-4c87-b29d-aff82fc06e1b",
   "metadata": {},
   "source": [
    "For instance, if you have trained model with the default parameters and you change it and you get the best result in the accuracy score ,it means that that model is better than the previous one and you need to pick it."
   ]
  },
  {
   "cell_type": "markdown",
   "id": "1f6c1ed8-a635-415c-82b1-6f8dea111282",
   "metadata": {},
   "source": [
    "Most of these parameters have so many options hence how to identify the one for a particular training  and how to go about choosing it may be a problem.\n",
    "\n",
    "Since machine learning is based on Statistic, probability and calcius there is no vehicle to detemine the one to choose.\n",
    "\n",
    "If you want to earn how to choose one, you need to try alot of combinations.\n",
    "\n",
    "This is were hyper parameter tuning comes into play.\n",
    "\n",
    "In hyper parameter tuning we take a list of the possible options for  the hyper parameter tuning we have chosen.\n",
    "\n",
    "We choose alot of combinations in those hyper parameters then we pick the ones that will give us the best result.\n",
    "\n",
    "You need to pick alot of parameters for experimentation"
   ]
  },
  {
   "cell_type": "markdown",
   "id": "31ecde1f-578f-4263-aeae-fbcd2321950f",
   "metadata": {},
   "source": [
    "#### Types of hyper parameter tuning"
   ]
  },
  {
   "cell_type": "markdown",
   "id": "75064314-9cc9-45b2-927b-d34dcc7b8465",
   "metadata": {},
   "source": [
    "Two types of hyperparameter Tuning we can use in choosing our parameters  are :\n",
    "\n",
    ">. Grid search Algorithm\n",
    "\n",
    ">. Random Search Algorithm"
   ]
  },
  {
   "cell_type": "markdown",
   "id": "15673faa-c448-42a3-b09f-ec3b58a7f500",
   "metadata": {},
   "source": [
    " Grid search Algorithm\n",
    "\n",
    "What is Grid Search? Grid search is essentially an optimization algorithm which lets you select the best parameters for your optimization problem from a list of parameter options that you provide, hence automating the 'trial-and-error' method"
   ]
  },
  {
   "cell_type": "markdown",
   "id": "ac16c9c6-9f8e-42c5-a6a2-a62518ea8b78",
   "metadata": {},
   "source": [
    "Random Search Algorithm\n",
    "\n",
    "\n",
    "A random search algorithm refers to an algorithm that uses some kind of randomness or probability (typically in the form of a pseudo-random number generator) in the defi- nition of the method, and in the literature, may be called a Monte Carlo method or a stochastic algorithm.\n",
    "\n",
    ". You use it when you have limited resource\n",
    "\n",
    ". It may not give you the best result\n",
    "\n",
    ". It is also used in very large samples"
   ]
  },
  {
   "cell_type": "markdown",
   "id": "a408bebf-d3d3-4ff8-952f-9577df41ceb6",
   "metadata": {},
   "source": [
    "#### Support vector machine "
   ]
  },
  {
   "cell_type": "markdown",
   "id": "c89d2cd5-f8b5-40e6-935f-49b2f30f6869",
   "metadata": {},
   "source": [
    "How to use hyper parameter tuning to get the best accuracy on a support vector machine model"
   ]
  },
  {
   "cell_type": "markdown",
   "id": "bbc162bd-1abd-48f6-8d85-62223a4021d2",
   "metadata": {},
   "source": [
    "Import necessary libraries"
   ]
  },
  {
   "cell_type": "code",
   "execution_count": 40,
   "id": "ffc7e17e-2d63-49d9-b8f5-294d71d28625",
   "metadata": {},
   "outputs": [],
   "source": [
    "import pandas as pd\n",
    "from sklearn.svm import SVC\n",
    "from sklearn.model_selection import train_test_split, GridSearchCV, RandomizedSearchCV\n",
    "from sklearn.metrics import accuracy_score\n",
    "from sklearn.preprocessing import StandardScaler"
   ]
  },
  {
   "cell_type": "code",
   "execution_count": 41,
   "id": "74f3bb50-af24-4b21-ae0b-55f9320a35e2",
   "metadata": {},
   "outputs": [],
   "source": [
    "dataset = pd.read_csv(\"C:\\\\Users\\\\user\\Downloads\\\\Social_Network_Ads.csv\")"
   ]
  },
  {
   "cell_type": "code",
   "execution_count": 42,
   "id": "5f20d7a4-09fe-44d7-88b2-fad839be4d8d",
   "metadata": {},
   "outputs": [
    {
     "data": {
      "text/html": [
       "<div>\n",
       "<style scoped>\n",
       "    .dataframe tbody tr th:only-of-type {\n",
       "        vertical-align: middle;\n",
       "    }\n",
       "\n",
       "    .dataframe tbody tr th {\n",
       "        vertical-align: top;\n",
       "    }\n",
       "\n",
       "    .dataframe thead th {\n",
       "        text-align: right;\n",
       "    }\n",
       "</style>\n",
       "<table border=\"1\" class=\"dataframe\">\n",
       "  <thead>\n",
       "    <tr style=\"text-align: right;\">\n",
       "      <th></th>\n",
       "      <th>User ID</th>\n",
       "      <th>Gender</th>\n",
       "      <th>Age</th>\n",
       "      <th>EstimatedSalary</th>\n",
       "      <th>Purchased</th>\n",
       "    </tr>\n",
       "  </thead>\n",
       "  <tbody>\n",
       "    <tr>\n",
       "      <th>0</th>\n",
       "      <td>15624510</td>\n",
       "      <td>Male</td>\n",
       "      <td>19</td>\n",
       "      <td>19000</td>\n",
       "      <td>0</td>\n",
       "    </tr>\n",
       "    <tr>\n",
       "      <th>1</th>\n",
       "      <td>15810944</td>\n",
       "      <td>Male</td>\n",
       "      <td>35</td>\n",
       "      <td>20000</td>\n",
       "      <td>0</td>\n",
       "    </tr>\n",
       "    <tr>\n",
       "      <th>2</th>\n",
       "      <td>15668575</td>\n",
       "      <td>Female</td>\n",
       "      <td>26</td>\n",
       "      <td>43000</td>\n",
       "      <td>0</td>\n",
       "    </tr>\n",
       "    <tr>\n",
       "      <th>3</th>\n",
       "      <td>15603246</td>\n",
       "      <td>Female</td>\n",
       "      <td>27</td>\n",
       "      <td>57000</td>\n",
       "      <td>0</td>\n",
       "    </tr>\n",
       "    <tr>\n",
       "      <th>4</th>\n",
       "      <td>15804002</td>\n",
       "      <td>Male</td>\n",
       "      <td>19</td>\n",
       "      <td>76000</td>\n",
       "      <td>0</td>\n",
       "    </tr>\n",
       "  </tbody>\n",
       "</table>\n",
       "</div>"
      ],
      "text/plain": [
       "    User ID  Gender  Age  EstimatedSalary  Purchased\n",
       "0  15624510    Male   19            19000          0\n",
       "1  15810944    Male   35            20000          0\n",
       "2  15668575  Female   26            43000          0\n",
       "3  15603246  Female   27            57000          0\n",
       "4  15804002    Male   19            76000          0"
      ]
     },
     "execution_count": 42,
     "metadata": {},
     "output_type": "execute_result"
    }
   ],
   "source": [
    "dataset.head()"
   ]
  },
  {
   "cell_type": "code",
   "execution_count": 43,
   "id": "a867d468-de96-4f2d-8423-6d46e6811361",
   "metadata": {},
   "outputs": [],
   "source": [
    "# dataset.info()"
   ]
  },
  {
   "cell_type": "markdown",
   "id": "e28239fa-5736-4bc2-84e8-e793e16f4ee4",
   "metadata": {},
   "source": [
    "On the classification problem, we will be looking at the age and EstimatedSalary.\n",
    "\n",
    "lets split the data into x and y columns\n",
    "x is the data we have existing and \n",
    "y is the dta we are tring to predict\n",
    "\n",
    "We will extract the age and estimatedsalary from the dataset we just loaded.\n",
    "for x we wil use iloc ,which helps you to locate your data\n",
    "We want just age and estimated salary  so we will use iloc[:2], in pandas the counting starts from zero which is the first index, which are in columns [2,3]\n",
    "\n",
    "y is the  column we are trying to predict ,which is the purchase column which is at the 4th column [:4]"
   ]
  },
  {
   "cell_type": "code",
   "execution_count": 44,
   "id": "dbd3d65c-64fe-49ac-804b-6be43520ff61",
   "metadata": {},
   "outputs": [],
   "source": [
    "x = dataset.iloc[:, [2, 3]]\n",
    "y = dataset.iloc[:,4]"
   ]
  },
  {
   "cell_type": "code",
   "execution_count": 45,
   "id": "1d0c4b37-7d36-47f6-8676-54b8140b1879",
   "metadata": {},
   "outputs": [
    {
     "data": {
      "text/html": [
       "<div>\n",
       "<style scoped>\n",
       "    .dataframe tbody tr th:only-of-type {\n",
       "        vertical-align: middle;\n",
       "    }\n",
       "\n",
       "    .dataframe tbody tr th {\n",
       "        vertical-align: top;\n",
       "    }\n",
       "\n",
       "    .dataframe thead th {\n",
       "        text-align: right;\n",
       "    }\n",
       "</style>\n",
       "<table border=\"1\" class=\"dataframe\">\n",
       "  <thead>\n",
       "    <tr style=\"text-align: right;\">\n",
       "      <th></th>\n",
       "      <th>Age</th>\n",
       "      <th>EstimatedSalary</th>\n",
       "    </tr>\n",
       "  </thead>\n",
       "  <tbody>\n",
       "    <tr>\n",
       "      <th>0</th>\n",
       "      <td>19</td>\n",
       "      <td>19000</td>\n",
       "    </tr>\n",
       "    <tr>\n",
       "      <th>1</th>\n",
       "      <td>35</td>\n",
       "      <td>20000</td>\n",
       "    </tr>\n",
       "    <tr>\n",
       "      <th>2</th>\n",
       "      <td>26</td>\n",
       "      <td>43000</td>\n",
       "    </tr>\n",
       "    <tr>\n",
       "      <th>3</th>\n",
       "      <td>27</td>\n",
       "      <td>57000</td>\n",
       "    </tr>\n",
       "    <tr>\n",
       "      <th>4</th>\n",
       "      <td>19</td>\n",
       "      <td>76000</td>\n",
       "    </tr>\n",
       "    <tr>\n",
       "      <th>...</th>\n",
       "      <td>...</td>\n",
       "      <td>...</td>\n",
       "    </tr>\n",
       "    <tr>\n",
       "      <th>395</th>\n",
       "      <td>46</td>\n",
       "      <td>41000</td>\n",
       "    </tr>\n",
       "    <tr>\n",
       "      <th>396</th>\n",
       "      <td>51</td>\n",
       "      <td>23000</td>\n",
       "    </tr>\n",
       "    <tr>\n",
       "      <th>397</th>\n",
       "      <td>50</td>\n",
       "      <td>20000</td>\n",
       "    </tr>\n",
       "    <tr>\n",
       "      <th>398</th>\n",
       "      <td>36</td>\n",
       "      <td>33000</td>\n",
       "    </tr>\n",
       "    <tr>\n",
       "      <th>399</th>\n",
       "      <td>49</td>\n",
       "      <td>36000</td>\n",
       "    </tr>\n",
       "  </tbody>\n",
       "</table>\n",
       "<p>400 rows × 2 columns</p>\n",
       "</div>"
      ],
      "text/plain": [
       "     Age  EstimatedSalary\n",
       "0     19            19000\n",
       "1     35            20000\n",
       "2     26            43000\n",
       "3     27            57000\n",
       "4     19            76000\n",
       "..   ...              ...\n",
       "395   46            41000\n",
       "396   51            23000\n",
       "397   50            20000\n",
       "398   36            33000\n",
       "399   49            36000\n",
       "\n",
       "[400 rows x 2 columns]"
      ]
     },
     "execution_count": 45,
     "metadata": {},
     "output_type": "execute_result"
    }
   ],
   "source": [
    "x"
   ]
  },
  {
   "cell_type": "code",
   "execution_count": 46,
   "id": "f1ec3410-d513-4531-b28a-806abe0a813f",
   "metadata": {},
   "outputs": [
    {
     "data": {
      "text/plain": [
       "0      0\n",
       "1      0\n",
       "2      0\n",
       "3      0\n",
       "4      0\n",
       "      ..\n",
       "395    1\n",
       "396    1\n",
       "397    1\n",
       "398    0\n",
       "399    1\n",
       "Name: Purchased, Length: 400, dtype: int64"
      ]
     },
     "execution_count": 46,
     "metadata": {},
     "output_type": "execute_result"
    }
   ],
   "source": [
    "y"
   ]
  },
  {
   "cell_type": "markdown",
   "id": "ced7500c-b44a-4a95-8a4c-b76c106cbe0e",
   "metadata": {},
   "source": [
    "Next,we need to train the classification model, \n",
    "To achieve that we have already split the dataset into x and y and we will use the train test split split and pass in the x,y columns and specify the testing size (0.25)\n",
    "\n",
    "You can check the size of the dataset using  x_train.shape and x_test.shape and do same for y_train and y_test"
   ]
  },
  {
   "cell_type": "code",
   "execution_count": 47,
   "id": "33f2d016-a8bc-48fb-8181-7add1b39d2cf",
   "metadata": {},
   "outputs": [],
   "source": [
    "x_train,x_test,y_train, y_test = train_test_split(x,y, test_size=.25)"
   ]
  },
  {
   "cell_type": "code",
   "execution_count": 48,
   "id": "e77c3709-5253-41f4-8940-046a9c8f2056",
   "metadata": {},
   "outputs": [],
   "source": [
    "#x_train.shape"
   ]
  },
  {
   "cell_type": "code",
   "execution_count": 49,
   "id": "deb97df6-061c-40ae-b8a8-e9ad48f2210e",
   "metadata": {},
   "outputs": [],
   "source": [
    "#x_test.shape"
   ]
  },
  {
   "cell_type": "markdown",
   "id": "a964d3f1-3193-4921-a48f-ef5e3b3acb0c",
   "metadata": {},
   "source": [
    "Now we will train our model using the SVC algorithm\n",
    "\n",
    "first  use the cif and the default method cif = SVC()\n",
    "then fit our data by passing in the training parameters both x and y train"
   ]
  },
  {
   "cell_type": "code",
   "execution_count": 50,
   "id": "41754d52-2b8c-403f-801b-2259e56b9ce2",
   "metadata": {},
   "outputs": [],
   "source": [
    "clf = SVC()"
   ]
  },
  {
   "cell_type": "code",
   "execution_count": 51,
   "id": "c14f99b9-0db3-4e7f-aff4-3749e5b242f0",
   "metadata": {},
   "outputs": [
    {
     "data": {
      "text/plain": [
       "SVC()"
      ]
     },
     "execution_count": 51,
     "metadata": {},
     "output_type": "execute_result"
    }
   ],
   "source": [
    "clf.fit(x_train, y_train)"
   ]
  },
  {
   "cell_type": "markdown",
   "id": "5c608f77-e357-479c-bea0-9db09e48402f",
   "metadata": {},
   "source": [
    "MY RESULT IS DIFFERENT !!!!!"
   ]
  },
  {
   "cell_type": "markdown",
   "id": "1ab3ca9d-2ebb-4a45-8def-72eb78f4cf2b",
   "metadata": {},
   "source": [
    "Let's take a look at how our model is performing.\n",
    "\n",
    "Since the predictions are made ,we need to find out if the predictions are right or wrong\n",
    "we use sklearn.metrics to predict and import accuracy"
   ]
  },
  {
   "cell_type": "code",
   "execution_count": 52,
   "id": "3c152061-f6f4-44f6-992b-2bb4366d867f",
   "metadata": {},
   "outputs": [],
   "source": [
    "#y_pred = clf.predict(x_test)"
   ]
  },
  {
   "cell_type": "code",
   "execution_count": 53,
   "id": "081892e3-9b7e-4573-a7ff-86bcb592d842",
   "metadata": {},
   "outputs": [],
   "source": [
    "#accuracy_score(y_test, y_pred)"
   ]
  },
  {
   "cell_type": "markdown",
   "id": "e1b16027-28c9-4a54-b007-45a65a2466ec",
   "metadata": {},
   "source": [
    "The score is on the average but we can get something better using the Hyper parameter tuning"
   ]
  },
  {
   "cell_type": "markdown",
   "id": "1d344627-d174-4ed6-b473-f03a773df533",
   "metadata": {},
   "source": [
    "First , lets create a grid of all the possble values using a dictionary.\n",
    "\n",
    "we will create an array of all the possible values in a list using dictionary\n",
    "\n",
    "lets choose 1, 10 100 ,1000, remember to take a look at the sklearn.SVC to know the prameters to choose from"
   ]
  },
  {
   "cell_type": "code",
   "execution_count": 54,
   "id": "aaeb48d4-23e7-48be-bbae-0bde1a435764",
   "metadata": {},
   "outputs": [],
   "source": [
    "grid = {\n",
    "    'C': [1, 10, 100, 1000],\n",
    "    'kernel': ['rbf', 'linear'],\n",
    "    'gamma': [0.1,0.2,0.3,0.4,0.5,0.6,0.7,0.8,0.9]\n",
    "}"
   ]
  },
  {
   "cell_type": "code",
   "execution_count": null,
   "id": "8bbb9a10-2737-4d96-a886-1e7c0b0dd699",
   "metadata": {},
   "outputs": [],
   "source": []
  },
  {
   "cell_type": "code",
   "execution_count": 55,
   "id": "ebbec03b-e54f-4197-bdf4-9898a2a9ce43",
   "metadata": {},
   "outputs": [],
   "source": [
    "#grid_search_cv = GridSearchCV(SVC(), param_grid=grid, scoring='accuracy')"
   ]
  },
  {
   "cell_type": "markdown",
   "id": "8612ea74-bf93-4c4f-9891-086d17030e28",
   "metadata": {},
   "source": [
    "The gridsearch wil be the classifier we want to use\n",
    "We cannot use the clf again because it has already been trained.\n",
    "\n",
    "Hence, we need to pass in a fresh classifier\n",
    "\n",
    "(param_grid-grid, then we need to score it  scoring = 'accuracy' you can also use other parameter like R-sqauerd score, though it is concerned in reducing the error and you use it in regresors. \n",
    "\n",
    "Regressors are not concerned with the accuracy but on the error produced by our model .\n",
    "\n",
    "Problem with grid search is that it takes alot of time.\n",
    "\n",
    "If it takes a lot of time to run. you may have to rescale your data to make it smaller."
   ]
  },
  {
   "cell_type": "code",
   "execution_count": 56,
   "id": "86376eab-28cd-4a01-8f40-d0acec355632",
   "metadata": {},
   "outputs": [
    {
     "ename": "SyntaxError",
     "evalue": "invalid syntax (Temp/ipykernel_14048/3058328295.py, line 1)",
     "output_type": "error",
     "traceback": [
      "\u001b[1;36m  File \u001b[1;32m\"C:\\Users\\user\\AppData\\Local\\Temp/ipykernel_14048/3058328295.py\"\u001b[1;36m, line \u001b[1;32m1\u001b[0m\n\u001b[1;33m    Feature scaling is used to bring your variable to comparable scale\u001b[0m\n\u001b[1;37m            ^\u001b[0m\n\u001b[1;31mSyntaxError\u001b[0m\u001b[1;31m:\u001b[0m invalid syntax\n"
     ]
    }
   ],
   "source": [
    "Feature scaling is used to bring your variable to comparable scale"
   ]
  },
  {
   "cell_type": "markdown",
   "id": "95565f31-4f93-4092-9c74-30623c8fec96",
   "metadata": {},
   "source": [
    "After creating it, we need to fit it and pass the x and y train data "
   ]
  },
  {
   "cell_type": "code",
   "execution_count": 57,
   "id": "40bc0e10-2e8d-4488-bfa0-83b8f6943dbc",
   "metadata": {},
   "outputs": [],
   "source": [
    "#grid_search_cv.fit(x_train, y_train)"
   ]
  },
  {
   "cell_type": "markdown",
   "id": "5f37a917-9fb3-474b-9f8d-eee758d747b0",
   "metadata": {},
   "source": [
    "The code is taking alot of time to run and this is one of the problems of grid sarch, it takes a lot of time ,especialyy when the dataset is large\n",
    "\n",
    "Hencem we will recsale the data using sklearn preprocesing function"
   ]
  },
  {
   "cell_type": "code",
   "execution_count": 58,
   "id": "3f06e307-9b74-45cb-9ff0-dc6982d15d09",
   "metadata": {},
   "outputs": [],
   "source": [
    "scaler = StandardScaler()\n",
    "x_train_scaled = scaler.fit_transform(x_train)\n",
    "x_test_scaled = scaler.transform(x_test)"
   ]
  },
  {
   "cell_type": "code",
   "execution_count": 59,
   "id": "b415c884-2d46-445e-93df-88c2176e5755",
   "metadata": {},
   "outputs": [],
   "source": [
    "y_pred = clf.predict(x_test_scaled)"
   ]
  },
  {
   "cell_type": "code",
   "execution_count": 60,
   "id": "88891939-75cb-42f4-a8fb-59c8eeb731ae",
   "metadata": {},
   "outputs": [
    {
     "data": {
      "text/plain": [
       "0.6"
      ]
     },
     "execution_count": 60,
     "metadata": {},
     "output_type": "execute_result"
    }
   ],
   "source": [
    "accuracy_score(y_test, y_pred)"
   ]
  },
  {
   "cell_type": "markdown",
   "id": "dae1a3c3-21c5-4123-a0f4-d9a48295ea8f",
   "metadata": {},
   "source": [
    "Scaling increases the algorithm performance\n",
    "\n",
    "Our result is low.\n",
    "shitf + tab is used to check functions of different parameters"
   ]
  },
  {
   "cell_type": "markdown",
   "id": "79a693fa-0f56-4352-8ee8-094e71e958d9",
   "metadata": {},
   "source": [
    "If your result you may need to scale it using n_job "
   ]
  },
  {
   "cell_type": "code",
   "execution_count": 61,
   "id": "fceeb7e1-e735-4132-a042-371e70bfde3c",
   "metadata": {},
   "outputs": [],
   "source": [
    "grid_search_cv = GridSearchCV(SVC(), param_grid=grid, scoring='accuracy', n_jobs=-1)"
   ]
  },
  {
   "cell_type": "code",
   "execution_count": 62,
   "id": "37ffefcc-e718-4a64-8077-691b3d2679b5",
   "metadata": {},
   "outputs": [
    {
     "data": {
      "text/plain": [
       "GridSearchCV(estimator=SVC(), n_jobs=-1,\n",
       "             param_grid={'C': [1, 10, 100, 1000],\n",
       "                         'gamma': [0.1, 0.2, 0.3, 0.4, 0.5, 0.6, 0.7, 0.8, 0.9],\n",
       "                         'kernel': ['rbf', 'linear']},\n",
       "             scoring='accuracy')"
      ]
     },
     "execution_count": 62,
     "metadata": {},
     "output_type": "execute_result"
    }
   ],
   "source": [
    "grid_search_cv.fit(x_train_scaled, y_train)"
   ]
  },
  {
   "cell_type": "code",
   "execution_count": 63,
   "id": "6dd40e18-d330-4575-9d3d-2d617033bae3",
   "metadata": {},
   "outputs": [
    {
     "data": {
      "text/plain": [
       "0.9266666666666665"
      ]
     },
     "execution_count": 63,
     "metadata": {},
     "output_type": "execute_result"
    }
   ],
   "source": [
    "grid_search_cv.best_score_"
   ]
  },
  {
   "cell_type": "markdown",
   "id": "1eca2bf8-3019-48f4-962c-6b57b39c35f9",
   "metadata": {},
   "source": [
    "Our scoore is high, note if you train it multiply times , you will get different results."
   ]
  },
  {
   "cell_type": "markdown",
   "id": "95a1d4ff-e765-470d-a662-e9c5da28205f",
   "metadata": {},
   "source": [
    "To search for the parameters used .you can use the best params property"
   ]
  },
  {
   "cell_type": "code",
   "execution_count": 64,
   "id": "b240f753-df7d-4049-853e-e5a03c4f96e2",
   "metadata": {},
   "outputs": [
    {
     "data": {
      "text/plain": [
       "{'C': 1, 'gamma': 0.5, 'kernel': 'rbf'}"
      ]
     },
     "execution_count": 64,
     "metadata": {},
     "output_type": "execute_result"
    }
   ],
   "source": [
    "grid_search_cv.best_params_"
   ]
  },
  {
   "cell_type": "markdown",
   "id": "bb4e31e5-141a-4263-984f-5284e9e57925",
   "metadata": {},
   "source": [
    "We can see that we are getting close to what we already have.\n",
    "\n",
    "If you want to use the random search algorithm , you will have to import it, just include RandomizedSearchCV after the place tou imported GridSearchCV then re-run it"
   ]
  },
  {
   "cell_type": "markdown",
   "id": "5376b989-db4a-4777-89ae-a134f79a2ef8",
   "metadata": {},
   "source": [
    "We will bbe using the same variables , "
   ]
  },
  {
   "cell_type": "code",
   "execution_count": 65,
   "id": "f79d613c-c619-4fa3-8af4-767529748c8a",
   "metadata": {},
   "outputs": [],
   "source": [
    "rdm_search_cv = RandomizedSearchCV(SVC(), param_distributions=grid, n_jobs=-1)"
   ]
  },
  {
   "cell_type": "code",
   "execution_count": 66,
   "id": "75905a05-bf34-4d27-9ef4-9a218baa409d",
   "metadata": {},
   "outputs": [
    {
     "data": {
      "text/plain": [
       "RandomizedSearchCV(estimator=SVC(), n_jobs=-1,\n",
       "                   param_distributions={'C': [1, 10, 100, 1000],\n",
       "                                        'gamma': [0.1, 0.2, 0.3, 0.4, 0.5, 0.6,\n",
       "                                                  0.7, 0.8, 0.9],\n",
       "                                        'kernel': ['rbf', 'linear']})"
      ]
     },
     "execution_count": 66,
     "metadata": {},
     "output_type": "execute_result"
    }
   ],
   "source": [
    "rdm_search_cv.fit(x_train_scaled, y_train)"
   ]
  },
  {
   "cell_type": "code",
   "execution_count": 67,
   "id": "b4fabeb6-50ef-44a2-923b-e10759d20bef",
   "metadata": {},
   "outputs": [
    {
     "data": {
      "text/plain": [
       "0.9266666666666665"
      ]
     },
     "execution_count": 67,
     "metadata": {},
     "output_type": "execute_result"
    }
   ],
   "source": [
    "rdm_search_cv.best_score_"
   ]
  },
  {
   "cell_type": "code",
   "execution_count": 68,
   "id": "1d0cb8a2-5fd4-4c6a-963e-2ea2fcc0ea58",
   "metadata": {},
   "outputs": [
    {
     "data": {
      "text/plain": [
       "{'kernel': 'rbf', 'gamma': 0.3, 'C': 10}"
      ]
     },
     "execution_count": 68,
     "metadata": {},
     "output_type": "execute_result"
    }
   ],
   "source": [
    "rdm_search_cv.best_params_"
   ]
  },
  {
   "cell_type": "markdown",
   "id": "555e4b40-ac98-4201-afa2-fc5847fc71b9",
   "metadata": {},
   "source": [
    "Note, that the scaling model helps you to get the right answer.\n",
    "Make sure that when you are scaling it, that parameters you got from other source ,in the future you will need to scale the data again.\n",
    "\n",
    "\n",
    "If you use unscaled data in your production evnironment, it will give you incorrect result.\n",
    "\n",
    "Because you will be using the wrong data and you will be getting wrong answers."
   ]
  },
  {
   "cell_type": "markdown",
   "id": "a53b6d73-1fae-4322-913c-cbe6c428f03f",
   "metadata": {},
   "source": [
    "Lets re-run the data again , and see what we get. note it will give you another result.\n",
    "\n",
    "Sale your data, preprocess it and make sure you are using the correct tools for the correct work.\n",
    "\n",
    "\n",
    "For big data use randomized searchCv and for small data use GridSearchCV."
   ]
  },
  {
   "cell_type": "markdown",
   "id": "8e029d9a-b571-4d1a-afe4-1a626df6d5c1",
   "metadata": {},
   "source": [
    "#### QUIZ Hyperparameter Tuning: "
   ]
  },
  {
   "cell_type": "markdown",
   "id": "1d67865b-81aa-44bd-b724-fc2fa4c202d6",
   "metadata": {},
   "source": [
    "1. If searching among a large number of hyperparameters, you should try values in a grid rather than random values, so that you can carry out the search more systematically and not rely on chance. This statement is _______________?\n",
    "\n",
    "FALSE"
   ]
  },
  {
   "cell_type": "markdown",
   "id": "087d77bb-4db0-4213-bc5b-2efeb4f932e1",
   "metadata": {},
   "source": [
    "Note: Try random values, don't do grid search. Because you don't know which hyperparamerters are more important than others.\n",
    "\n",
    "And to take an extreme example, let's say that hyperparameter two was that value epsilon that you have in the denominator of the Adam algorithm. So your choice of alpha matters a lot and your choice of epsilon hardly matters."
   ]
  },
  {
   "cell_type": "markdown",
   "id": "49127c26-560f-4b97-b28f-354ca70e2beb",
   "metadata": {},
   "source": [
    "2. Every hyperparameter, if set poorly, can have a huge negative impact on training, and so all hyperparameters are about equally important to tune well. This statement is ____FALSE_______________?"
   ]
  },
  {
   "cell_type": "markdown",
   "id": "d5c948f7-b872-4a35-b156-35da3025e39c",
   "metadata": {},
   "source": [
    "Ans: We've seen in lecture that some hyperparameters, such as the learning rate, are more critical than others.\n",
    "\n"
   ]
  },
  {
   "cell_type": "markdown",
   "id": "ebb5379e-9fb2-4259-b3d7-41462c621793",
   "metadata": {},
   "source": [
    "3. During hyperparameter search, whether you try to babysit one model (“Panda” strategy) or train a lot of models in parallel (“Caviar”) is largely determined by:"
   ]
  },
  {
   "cell_type": "markdown",
   "id": "3177e56c-546b-43c1-88f9-5a29a8a7c1a9",
   "metadata": {},
   "source": [
    "Ans\"  The amount of computational power you can access"
   ]
  },
  {
   "cell_type": "markdown",
   "id": "1cb4f23f-2be9-400f-a018-4963580260f6",
   "metadata": {},
   "source": [
    "4. Finding good hyperparameter values is very time-consuming. So typically you should do it once at the start of the project, and try to find very good hyperparameters so that you don’t ever have to revisit tuning them again. This statement is _FALSE________"
   ]
  },
  {
   "cell_type": "markdown",
   "id": "98d4844b-de0f-43bb-a374-b21f885835c6",
   "metadata": {},
   "source": [
    "Ans: Note: Minor changes in your model could potentially need you to find good hyperparameters again from scratch."
   ]
  },
  {
   "cell_type": "markdown",
   "id": "dfa6f267-af43-4f49-a49f-530dbe98ee8c",
   "metadata": {},
   "source": [
    "5. Model Tuning is the process of maximizing a model’s performance by changing its _Hyperparameters_________?"
   ]
  },
  {
   "cell_type": "markdown",
   "id": "81dbe443-3262-4bf1-b160-8a2a3fee1287",
   "metadata": {},
   "source": [
    "Model tuning provides optimized values for hyperparameters, which maximize your model's predictive accuracy.\n",
    "\n",
    "\n",
    "Model tuning is the experimental process of finding the optimal values of hyperparameters to maximize model performance. Hyperparameters are the set of variables whose values cannot be estimated by the model from the training data. These values control the training process."
   ]
  },
  {
   "cell_type": "markdown",
   "id": "a4a904df-356d-4000-adfa-4dc0daffd7e4",
   "metadata": {},
   "source": [
    "6. Write down one mean for model tuning :"
   ]
  },
  {
   "cell_type": "markdown",
   "id": "56defc20-06f4-41c7-a459-bd5d2c7091a6",
   "metadata": {},
   "source": [
    "Ans. Cross Validation"
   ]
  },
  {
   "cell_type": "markdown",
   "id": "2de84415-36f5-4183-ab87-7e316b89e4f7",
   "metadata": {},
   "source": [
    "7. Hyperparameters are :  Arbitrarily set and adjusted"
   ]
  },
  {
   "cell_type": "markdown",
   "id": "269d8621-137f-437a-91c7-c2c5a6f02736",
   "metadata": {},
   "source": [
    "Hyperparameters refer to the parameters that the model cannot learn and need to be provided before training. Hyperparameter tuning basically refers to tweaking the parameters of the model, which is basically a lengthy process."
   ]
  },
  {
   "cell_type": "markdown",
   "id": "e36691c4-97f6-4eb8-a722-a1603b94ae4f",
   "metadata": {},
   "source": [
    "Hyperparameters = are all the parameters which can be arbitrarily set by the user before starting training (eg. number of estimators in Random Forest). Model parameters = are instead learned during the model training (eg. weights in Neural Networks, Linear Regression)."
   ]
  },
  {
   "cell_type": "markdown",
   "id": "ffbc90b0-c7cd-4ec6-bde3-52648b4633bf",
   "metadata": {},
   "source": [
    "8. Optimization method that allow us to test a range of hyperparameters and to compare performances in order to deduce the best setting. This statement applies to ___Grid Search__________"
   ]
  },
  {
   "cell_type": "markdown",
   "id": "091199b6-45b9-4968-9650-718a5138a1c1",
   "metadata": {},
   "source": [
    "Grid search is a tuning technique that attempts to compute the optimum values of hyperparameters. It is an exhaustive search that is performed on a the specific parameter values of a model. The model is also known as an estimator."
   ]
  },
  {
   "cell_type": "markdown",
   "id": "456f4ee1-339d-45b6-a89e-7dc0fd294e89",
   "metadata": {},
   "source": [
    "9. Hyperparameter tuning can be used to answer which of these questions? (Choose all that apply)"
   ]
  },
  {
   "cell_type": "markdown",
   "id": "badd2556-533b-47ea-a480-bc3bc19d1ccd",
   "metadata": {},
   "source": [
    "Answer: \n",
    "How many neurons should I include in the Neural Network?\n",
    "\n",
    "What value should I select for the minimum sample leaf for my Decision Tree?\n",
    "\n",
    "What should be the value of the learning rate for gradient descent?"
   ]
  },
  {
   "cell_type": "markdown",
   "id": "e2cff479-8be8-4443-8342-9dc673f5193c",
   "metadata": {},
   "source": [
    "Hyperparameter tuning takes advantage of the processing infrastructure of Google Cloud to test different hyperparameter configurations when training your model. It can give you optimized values for hyperparameters, which maximizes your model's predictive accuracy."
   ]
  },
  {
   "cell_type": "markdown",
   "id": "142a606c-f9cf-43f5-bd86-eabe47197fc7",
   "metadata": {},
   "source": [
    "10. One of the core objectives of hyperparameter tuning is ____Accurate prediction____________?"
   ]
  },
  {
   "cell_type": "markdown",
   "id": "beee2e07-c200-40fd-90e7-f48ed6205a75",
   "metadata": {},
   "source": [
    "### Week 10: Day 3 – Grid Search "
   ]
  },
  {
   "cell_type": "markdown",
   "id": "26fe6dd2-cb58-47a2-bd94-1aa01f2e1780",
   "metadata": {},
   "source": [
    "#### Introduction to Grid Search lecture notes"
   ]
  },
  {
   "cell_type": "markdown",
   "id": "00f53593-99fe-4eb9-8170-3778b8ce97bc",
   "metadata": {},
   "source": [
    "#### Machine Learning in short"
   ]
  },
  {
   "cell_type": "markdown",
   "id": "86e59774-c66e-4f44-9675-0f14da0ec60a",
   "metadata": {},
   "source": [
    "The goal of supervised Machine Learning is to build a prediction\n",
    "function based on historical data. This data has independent\n",
    "(explanatory) variables and a target variable (the variable that you\n",
    "want to predict).\n",
    "\n",
    "Once a predictive model has been built, we measure its error on a\n",
    "separate testing data set. We do this using KPIs that allow\n",
    "quantifying the error of the model, for example, the Mean Square\n",
    "Error in a regression context (quantitative target variable) or the\n",
    "Accuracy in a classification context (categorical target variable).\n",
    "\n",
    "The model with the smallest error is generally selected as the best\n",
    "model. Then we use this model to predict the values of the target\n",
    "variable by inputting the explanatory variables.\n",
    "\n",
    "In this article, I will deep-dive into GridSearch.\n",
    "\n",
    "Machine Learning’s Two Types of Optimization\n",
    "GridSearch is a tool that is used for hyperparameter tuning.\n",
    "\n",
    "As\n",
    "stated before, Machine Learning in practice comes down to\n",
    "comparing different models to each other and trying to find the best working model."
   ]
  },
  {
   "cell_type": "markdown",
   "id": "8b406ec2-4c52-4f3c-9909-2dc81f1a5cd7",
   "metadata": {},
   "source": [
    "Apart from selecting the right data set, there are generally two\n",
    "aspects of optimizing a predictive model:\n",
    "\n",
    "1. Optimize the choice of the best model\n",
    "2. Optimize a model’s fit using hyperparameters\n",
    "tuning\n",
    "\n",
    "Let’s now look into those to have an explanation for the need for\n",
    "GridSearch.\n",
    "\n",
    "Part 1. Optimize the choice of the best model\n",
    "\n",
    "In some datasets, there may exist a simple linear relationship that\n",
    "can predict a target variable from the explanatory variables. In\n",
    "other datasets, these relationships may be more complex or highly\n",
    "nonlinear.\n",
    "\n",
    "At the same time, many models exist. This ranges from simple\n",
    "models like the Linear Regression, up to very complex models like\n",
    "Deep Neural Networks.\n"
   ]
  },
  {
   "cell_type": "markdown",
   "id": "ea266501-0863-412c-89ce-e4a37e0b97be",
   "metadata": {},
   "source": [
    "It is key to use a model that is appropriate for our data.\n",
    "\n",
    "For example, if we use a Linear Regression on a very complex task,\n",
    "the model will not be performant. But if we use a Deep Neural\n",
    "Network on a very simple task, this will also not be performant!"
   ]
  },
  {
   "cell_type": "markdown",
   "id": "7cccfec2-f3e2-495b-990e-ab49c17b5669",
   "metadata": {},
   "source": [
    "To find a well-fitting Machine Learning model, the solution is to\n",
    "split data into train and test data, then fit many models on the\n",
    "training data and test each of them on the test data. The model\n",
    "that has the smallest error on the test data will be kept."
   ]
  },
  {
   "cell_type": "markdown",
   "id": "c08371bc-7bfc-4ec5-8d82-629467fba86c",
   "metadata": {},
   "source": [
    "A screenshot from Scikit Learn’s list of supervised models shows that there are a lot of models to\n",
    "try out!\n",
    "\n",
    "Part 2. Optimize a model’s fit using hyperparameters tuning"
   ]
  },
  {
   "cell_type": "markdown",
   "id": "18b13319-8e42-448d-8cf6-e1616815d599",
   "metadata": {},
   "source": [
    "After choosing one well-performing model (or a few), the second\n",
    "thing to optimize is the hyperparameters of a model.\n",
    "\n",
    "Hyperparameters are like a configuration of the training phase of\n",
    "the model. They influence what a model can or cannot learn.\n",
    "\n",
    "Tuning hyperparameters can, therefore, lower the error on the test\n",
    "data set even more.\n",
    "\n",
    "The way of estimating is different for each model, and thus each\n",
    "model has its own hyperparameters to optimize."
   ]
  },
  {
   "cell_type": "markdown",
   "id": "66fffb9d-24ee-442b-b1e1-5fdd5a63fba4",
   "metadata": {},
   "source": [
    "input right up"
   ]
  },
  {
   "cell_type": "code",
   "execution_count": null,
   "id": "83782d92-961e-4bcf-ade5-17e752cf7186",
   "metadata": {},
   "outputs": [],
   "source": []
  },
  {
   "cell_type": "code",
   "execution_count": null,
   "id": "32675056-b6c3-4ce5-a015-beb9c41b0f43",
   "metadata": {},
   "outputs": [],
   "source": []
  },
  {
   "cell_type": "markdown",
   "id": "c43f7804-f96c-45e7-8c32-dcda41097b51",
   "metadata": {},
   "source": [
    "One way to do a thorough search for the best hyperparameters is\n",
    "to use a tool called GridSearch."
   ]
  },
  {
   "cell_type": "markdown",
   "id": "8f6d274f-327f-4cad-932e-a395d95d5909",
   "metadata": {},
   "source": [
    "\n",
    "#### What is GridSearch?"
   ]
  },
  {
   "cell_type": "markdown",
   "id": "7d566500-214d-44ba-abfe-6a073d3c0662",
   "metadata": {},
   "source": [
    "GridSearch is an optimization tool that we use when tuning\n",
    "hyperparameters. We define the grid of parameters that we want\n",
    "to search through, and we select the best combination of\n",
    "parameters for our data.\n",
    "\n",
    "The “Search” in GridSearch\n",
    "\n",
    "The hypothesis is that there is a specific combination of values of\n",
    "the different hyperparameters that will minimize the error of our\n",
    "predictive model. Our goal using GridSearch is to find this specific\n",
    "combination of parameters.\n",
    "\n",
    "The “Grid” in GridSearch\n",
    "\n",
    "GridSearch’s idea for finding this best parameter combination is is\n",
    "simple: just test each parameter combination possible and select\n",
    "the best one!\n",
    "\n",
    "Not really each combination possible though, since for a\n",
    "continuous scale there would be infinitely many combinations to\n",
    "test.\n",
    "\n",
    "The solution for this is to define a Grid. This Grid defines for\n",
    "each hyperparameter, which values should be tested."
   ]
  },
  {
   "cell_type": "markdown",
   "id": "f74d1eb0-3dd5-4120-ab1b-005901bf2b81",
   "metadata": {},
   "source": [
    "input diagram"
   ]
  },
  {
   "cell_type": "code",
   "execution_count": null,
   "id": "db869dd4-7898-4cea-a8f4-8eee835bf5a5",
   "metadata": {},
   "outputs": [],
   "source": []
  },
  {
   "cell_type": "code",
   "execution_count": null,
   "id": "33d56b2f-f849-487b-844f-a80296b13453",
   "metadata": {},
   "outputs": [],
   "source": []
  },
  {
   "cell_type": "markdown",
   "id": "c203ba7c-1dee-40aa-9a50-bac75efc9572",
   "metadata": {},
   "source": [
    "A schematic overview of GridSearch on two hyperparameters Alpha and Beta (graphics by\n",
    "author)"
   ]
  },
  {
   "cell_type": "markdown",
   "id": "9e993155-4ba7-4a2f-b1f8-ee20b071aed7",
   "metadata": {},
   "source": [
    "\n",
    "\n",
    "\n",
    "\n",
    "\n",
    "\n",
    "\n",
    "\n",
    "\n",
    "\n",
    "\n",
    "\n",
    "\n",
    "\n",
    "\n",
    "\n",
    "\n",
    "\n",
    "\n",
    "\n",
    "\n",
    "\n",
    "\n",
    "\n",
    "In an example case where two hyperparameters — Alpha and\n",
    "Beta— are tuned:\n",
    "\n",
    "we could give both of them the values [0.1, 0.01,\n",
    "0.001, 0.0001] resulting in the following “Grid” of values. \n",
    "\n",
    "At each\n",
    "crossing point, our GridSearch will fit the model to see what the\n",
    "error at this point is.\n",
    "\n",
    "And after checking all the grid points, we know which parameter\n",
    "combination is best for our prediction.\n",
    "The “Cross-Validation” in GridSearch\n",
    "At this point, only one thing remains to be added: the CrossValidation Error."
   ]
  },
  {
   "cell_type": "markdown",
   "id": "747d30d6-4c83-4b95-b6b0-ab307a476ace",
   "metadata": {},
   "source": [
    "When testing the performance of a model with each combination\n",
    "of hyperparameters, there could be a risk of overfitting. This\n",
    "means that just by pure chance, only the training data set\n",
    "corresponded well to this particular hyperparameter combination!\n",
    "The performance on new, real-life data, could be much worse!\n",
    "To get a more reliable estimate of the performances of a\n",
    "hyperparameter combination, we take the Cross Validation Error."
   ]
  },
  {
   "cell_type": "markdown",
   "id": "e4479ca9-dc25-4abb-8654-46f10b3fcd20",
   "metadata": {},
   "source": [
    "\n",
    "\n",
    "\n",
    "\n",
    "\n",
    "\n",
    "\n",
    "A schematic overview of Cross-Validation (graphics by author)\n",
    "In Cross-Validation, the data is split in multiple parts. For\n",
    "example 5 parts. Then the model is fit 5 times while leaving out\n",
    "one-fifth of the data. This one-fifth left-out data is used to measure\n",
    "the performances.\n",
    "For one combination of hyperparameter values, the average of the\n",
    "5 errors constitutes the cross-validation error. This makes the\n",
    "selection of the final combination more reliable"
   ]
  },
  {
   "cell_type": "markdown",
   "id": "40451cb0-978f-4f00-a2c0-348cb4bf4006",
   "metadata": {},
   "source": [
    "#### What makes GridSearch so important?"
   ]
  },
  {
   "cell_type": "markdown",
   "id": "0a78eec0-1407-49a6-808b-566538550fcd",
   "metadata": {},
   "source": [
    "GridSearch allows us to find the best model given a data set very\n",
    "easily. It actually makes the Machine Learning part of the Data\n",
    "Scientists role much easier by automating the search.\n",
    "\n",
    "On the Machine Learning side, some things that still remain to be\n",
    "done is deciding on the right way to measure error, deciding on\n",
    "which models to try out and which hyperparameters to test for.\n",
    "And the most important part, the work on data preparation, is also\n",
    "left for the data scientist.\n",
    "\n",
    "Thanks to the GridSearch approach, the Data Scientist can focus\n",
    "on the data wrangling work, while automating repetitive tasks of\n",
    "model comparison. This makes the work more interesting and\n",
    "allows the Data Scientist to add value where he’s most needed:\n",
    "working with data.\n",
    "\n",
    "A number of alternatives for GridSearch exist, including Random\n",
    "Search, Bayesian Optimization, Genetic Algorithms, and more. I\n",
    "will write an article about those soon, so don’t hesitate to stay\n",
    "tuned. Thanks for reading!"
   ]
  },
  {
   "cell_type": "markdown",
   "id": "972fcbcc-cc3e-4894-bafd-9897327d29fa",
   "metadata": {},
   "source": [
    "#### Grid Search "
   ]
  },
  {
   "cell_type": "markdown",
   "id": "65d61af0-d14c-4113-a4e3-4022f36cd81c",
   "metadata": {},
   "source": [
    "Grid search allows us to scan through multiple free parameters with few lines of code.\n",
    "\n",
    "Parameteres like the term alpha are not part of the fitting process.\n",
    "\n",
    "In the last section, the term alpha in Ridge regression is called a hyperparameter.\n",
    "\n",
    "Scikit learn have a means of automatically itirating over these parameters using cross -validation called Grid search."
   ]
  },
  {
   "cell_type": "markdown",
   "id": "23a9f3b0-5704-43ff-97ae-c11c8931903e",
   "metadata": {},
   "source": [
    "Grid search takes the model or object we would like to train and different values of the hyperparameters and it then calculate the mean squared error or R=Squared for various hyperparameter values.\n",
    "\n",
    "Allowing you to choose the best values,\n",
    "\n",
    "The small circles in the diagram represents different hyperparameters"
   ]
  },
  {
   "cell_type": "markdown",
   "id": "b6a79b6c-c194-4853-bea7-37f75056a0d0",
   "metadata": {},
   "source": [
    "We start off with one value for hyper parameters and train the model.\n",
    "\n",
    "We use different hyperparameters to train the model.\n",
    "we continue the process until we have exhausted the different free parameters."
   ]
  },
  {
   "cell_type": "raw",
   "id": "646e9ddc-10a9-46e6-8832-cf17bff17176",
   "metadata": {},
   "source": [
    "Hyperparameter  Grid Search     Model   1   Error\n",
    "                                    \n",
    "                                 Model  2   Error\n",
    "                                    \n",
    "                                 Model  3   Error"
   ]
  },
  {
   "cell_type": "markdown",
   "id": "e3be4b88-ac0b-4d7f-8df2-6bfc2e6e9a5a",
   "metadata": {},
   "source": [
    "You select the hyper parameter that minimizes the error.\n",
    "\n",
    "Split our dataset into 3 parts,\n",
    "\n",
    "> training set\n",
    "\n",
    "> Validation set \n",
    "\n",
    "> Test set\n"
   ]
  },
  {
   "cell_type": "markdown",
   "id": "69ff7d85-029c-470d-b9b0-4d329cc96146",
   "metadata": {},
   "source": [
    "Train the model for different hyper parameters\n",
    "\n",
    "We use the R=Squared or mean squared error for each model\n",
    "\n",
    "We select the hyperparameter that minimizes the mean square error or maximizes the R-squared on the validation set.\n",
    "\n",
    "We finally test our model performance on the test data.\n"
   ]
  },
  {
   "cell_type": "markdown",
   "id": "e6659432-93d0-4082-a374-bcbdd440d1f1",
   "metadata": {},
   "source": [
    "The scikit learn web page \n",
    "\n",
    "sklearn.linear_model.Ridge\n",
    "\n",
    "The attribute of an object are also called parameters.\n",
    "\n",
    "We will not make the distiction even though some of the options are not hyperparameters per say.\n",
    "\n",
    "In this model, we will focus on the hyper parameter 'alpha' and the normalization parameter.\n",
    "\n",
    "The value of your grid search is a python list that contains a python dictionary.\n",
    "\n",
    "The key is the name of the free parameter.\n",
    "the value of the dictionary is the different values of the free parameter.\n",
    "\n",
    "This can be viewed as a table with the various free parameter values \n",
    "\n",
    "\n",
    "Alpha  1  10   100   1000\n",
    "\n",
    "We also have the object or model"
   ]
  },
  {
   "cell_type": "code",
   "execution_count": 62,
   "id": "fb76f936-33d6-4dcd-b867-b87cc606f1b9",
   "metadata": {},
   "outputs": [],
   "source": [
    "parameters = [{'alpha' : [1, 10, 100, 1000]}]"
   ]
  },
  {
   "cell_type": "markdown",
   "id": "48f28900-b829-42c0-b72b-1c2182b618da",
   "metadata": {},
   "source": [
    "The grid Search  takes on the scoring method, in this case R- sqaured the number of folds , the model or object Rigde() and the free parameter values\n",
    "\n",
    "Some of the outputs includes the different scores for different free parameter value, in tis case the R=squared along with the free parameter values that have the best score."
   ]
  },
  {
   "cell_type": "markdown",
   "id": "6ec578bd-8750-4abd-bd0c-22ab277dff4d",
   "metadata": {},
   "source": [
    "First we import the libraries we need including grid searchCV \n",
    "\n",
    "The dictionary of parameter values \n",
    "\n",
    "We create a Ridge regression object or model\n",
    "\n",
    "We then create a GridSearchCv object, the inputs are te ridge regression object\n",
    "\n",
    "The parameter values are the number of falls\n",
    "\n",
    "We will use R=Squared , this is the default scoring method.\n",
    "\n",
    "We fit the object\n",
    "\n",
    "we can find the best value for the free parameters using the attributes best estimator\n",
    "\n",
    "We can also get information like the mean score on the validation data using the attributes cv result\n"
   ]
  },
  {
   "cell_type": "code",
   "execution_count": 3,
   "id": "556d8834-f146-458e-893f-2cfc6dc3d483",
   "metadata": {},
   "outputs": [
    {
     "ename": "NameError",
     "evalue": "name 'X_data' is not defined",
     "output_type": "error",
     "traceback": [
      "\u001b[1;31m---------------------------------------------------------------------------\u001b[0m",
      "\u001b[1;31mNameError\u001b[0m                                 Traceback (most recent call last)",
      "\u001b[1;32m~\\AppData\\Local\\Temp/ipykernel_1468/2518442110.py\u001b[0m in \u001b[0;36m<module>\u001b[1;34m\u001b[0m\n\u001b[0;32m      8\u001b[0m \u001b[0mGrid1\u001b[0m \u001b[1;33m=\u001b[0m \u001b[0mGridSearchCV\u001b[0m\u001b[1;33m(\u001b[0m\u001b[0mRR\u001b[0m\u001b[1;33m,\u001b[0m\u001b[0mparameters1\u001b[0m\u001b[1;33m,\u001b[0m\u001b[0mcv\u001b[0m\u001b[1;33m=\u001b[0m\u001b[1;36m4\u001b[0m\u001b[1;33m)\u001b[0m\u001b[1;33m\u001b[0m\u001b[1;33m\u001b[0m\u001b[0m\n\u001b[0;32m      9\u001b[0m \u001b[1;33m\u001b[0m\u001b[0m\n\u001b[1;32m---> 10\u001b[1;33m \u001b[0mGrid1\u001b[0m\u001b[1;33m.\u001b[0m\u001b[0mfit\u001b[0m\u001b[1;33m(\u001b[0m\u001b[0mX_data\u001b[0m\u001b[1;33m[\u001b[0m\u001b[1;33m[\u001b[0m\u001b[1;34m'horsepower'\u001b[0m\u001b[1;33m,\u001b[0m\u001b[1;34m'curb-weight'\u001b[0m\u001b[1;33m,\u001b[0m\u001b[1;34m'engine-size'\u001b[0m\u001b[1;33m,\u001b[0m\u001b[1;34m'highway-mpg'\u001b[0m\u001b[1;33m]\u001b[0m\u001b[1;33m]\u001b[0m\u001b[1;33m,\u001b[0m\u001b[0my_data\u001b[0m\u001b[1;33m)\u001b[0m\u001b[1;33m\u001b[0m\u001b[1;33m\u001b[0m\u001b[0m\n\u001b[0m\u001b[0;32m     11\u001b[0m \u001b[1;33m\u001b[0m\u001b[0m\n\u001b[0;32m     12\u001b[0m \u001b[0mGrid1\u001b[0m\u001b[1;33m.\u001b[0m\u001b[0mbest_estimator_\u001b[0m\u001b[1;33m\u001b[0m\u001b[1;33m\u001b[0m\u001b[0m\n",
      "\u001b[1;31mNameError\u001b[0m: name 'X_data' is not defined"
     ]
    }
   ],
   "source": [
    "from sklearn.linear_model import Ridge\n",
    "from sklearn.model_selection import GridSearchCV\n",
    "\n",
    "parameters1= [{'alpha':[0.001,0.1,1,10,100,1000,10000,100000,1000000]}]\n",
    "\n",
    "RR=Ridge()\n",
    "\n",
    "Grid1 = GridSearchCV(RR,parameters1,cv=4)\n",
    "\n",
    "Grid1.fit(X_data[['horsepower','curb-weight','engine-size','highway-mpg']],y_data)\n",
    "\n",
    "Grid1.best_estimator_\n",
    "\n",
    "scores = Grid1.cv_results_\n",
    "scores['mean_test_score']"
   ]
  },
  {
   "cell_type": "code",
   "execution_count": null,
   "id": "77e6ac6d-5899-4582-a98e-ea36ea239748",
   "metadata": {},
   "outputs": [],
   "source": []
  },
  {
   "cell_type": "markdown",
   "id": "0f74ce1e-da89-40b0-9999-0c02c2aaf2e2",
   "metadata": {},
   "source": [
    "\n",
    "\n",
    "\n",
    "\n",
    "\n",
    "\n",
    "\n",
    "\n",
    "\n",
    "\n",
    "\n",
    "\n",
    "\n",
    "\n",
    "\n",
    "\n",
    "\n",
    "\n",
    "\n",
    "\n",
    "\n",
    "\n",
    "One of the advantages of grid search is how quickly you can test multiple parameters.\n",
    "\n",
    "For example, retrogression have the option to normalize the data.\n",
    "\n",
    "To see how to standardize, check module 4\n",
    "\n",
    "The term alpha is the first element in a dictionary, the second element is the normalized option\n",
    "\n",
    "The key is the name of the parameter. the value is the different options in this case because we can either normalize the data or not, the values are True or Fales respectively."
   ]
  },
  {
   "cell_type": "markdown",
   "id": "33db6106-3884-48f9-8fca-dcd8da52e9b1",
   "metadata": {},
   "source": [
    "The dictionary is a table or grid that contains two different values"
   ]
  },
  {
   "cell_type": "code",
   "execution_count": null,
   "id": "ad2f80f6-a9bc-4a8d-9331-98ea6ad34dc9",
   "metadata": {},
   "outputs": [],
   "source": [
    "parameters = [{'alpha' : [1, 10, 100, 1000,'normalize': [True, False}]"
   ]
  },
  {
   "cell_type": "raw",
   "id": "c1d57919-46b0-4159-bce4-34d871b7282a",
   "metadata": {},
   "source": [
    "Alpha       1      10         100        1000\n",
    "\n",
    "Normalize   True   True      True         True\n",
    "   \n",
    "             False  False     False        False"
   ]
  },
  {
   "cell_type": "markdown",
   "id": "14d5c936-43e9-4d3a-8804-db94ebbdaa99",
   "metadata": {},
   "source": [
    "As before , we need the ridge() regression object or model.\n",
    "\n",
    "The procedure is similar except we hve a table or grid of different paramater values\n",
    "\n",
    "The output is the score of all the different combination parameter values "
   ]
  },
  {
   "cell_type": "raw",
   "id": "1d7b91d5-4901-465a-8b6d-0aab01c48c19",
   "metadata": {},
   "source": [
    "Alpha       1      10         100        1000\n",
    "\n",
    "True       0.69     0.32      0.17        0.17\n",
    "\n",
    "False      0.67      0.66     0,66        0.64"
   ]
  },
  {
   "cell_type": "markdown",
   "id": "01f6eb8d-def1-40d7-be42-427411daa483",
   "metadata": {},
   "source": [
    "The code is also similar.\n",
    "\n",
    "The dictionary also contains thesame free parameters\n",
    "\n",
    "We can find the best values for the free parameters\n",
    "\n",
    "The resulting scores is thesame free parameters that is scored in the dictionary\n",
    "\n",
    "We can print out the scores for the different free parameter values"
   ]
  },
  {
   "cell_type": "code",
   "execution_count": null,
   "id": "063e8072-edb4-4ab2-a1a2-55606e299ab1",
   "metadata": {},
   "outputs": [],
   "source": [
    "from sklearn.linear_model import Ridge\n",
    "from sklearn.model_selection import GridSearchCV\n",
    "\n",
    "parameters1= [{'alpha':[0.001,0.1,1,10,100,1000,10000,100000,1000000]}]\n",
    "\n",
    "RR=Ridge()\n",
    "\n",
    "Grid1 = GridSearchCV(RR,parameters1,cv=4)\n",
    "\n",
    "Grid1.fit(x_data[['horsepower','curb-weight','engine-size','highway-mpg']],y_data)\n",
    "\n",
    "Grid1.best_estimator_\n",
    "\n",
    "scores = Grid1.cv_results_\n",
    "\n",
    "scores = Grid1.cv_results_\n",
    "\n",
    "\n",
    "for param.mean_val, mean_test inzip(scores['params'],scores['mean_test_score'],scores['mean_train_score']):\n",
    "         \n",
    "        print(param,\"R^2 on test data:\", mean_val,\"R^2 on trian data:\",mean_test)\n",
    "    "
   ]
  },
  {
   "cell_type": "markdown",
   "id": "0ef82d07-d48b-4e87-9e9d-8f1db9507c3c",
   "metadata": {},
   "source": [
    "#### Machine Learning Session – Grid Search "
   ]
  },
  {
   "cell_type": "markdown",
   "id": "64e025d7-3612-4e16-91b0-dcf6e2727ef7",
   "metadata": {},
   "source": [
    "### Topics:"
   ]
  },
  {
   "cell_type": "markdown",
   "id": "c9f1b5c0-de7b-4de6-a2fe-397cbd772fb9",
   "metadata": {},
   "source": [
    "> Train_test_split to find model perfomance\n",
    "\n",
    "> K fold cross Validation\n",
    "\n",
    "> GridSearchCV for hyperparameter tuning\n",
    "\n",
    "> RandomizedSearchCV\n",
    "\n",
    "> Choosing best model\n",
    "\n",
    ">  Exercise"
   ]
  },
  {
   "cell_type": "markdown",
   "id": "5665d291-2b1c-4c42-aafd-736266574507",
   "metadata": {},
   "source": [
    "We will be discussing how to choose the best model for a given machine learning problem and how to do hyperparameter tuning.\n",
    "\n",
    "Above is the list of topics we will cover in this session"
   ]
  },
  {
   "cell_type": "markdown",
   "id": "ac991fb3-3cc6-4a2f-bc1f-4e9ba326d477",
   "metadata": {},
   "source": [
    "#### sklearn iris flower dataset"
   ]
  },
  {
   "cell_type": "markdown",
   "id": "10e6d0fa-4c32-48a2-aebc-582a08f89bd1",
   "metadata": {},
   "source": [
    "For instance if you want to classify irish flower dataset.\n",
    "\n",
    "Based on the petal and sepal length ,you are trying to predict what type of flower it is."
   ]
  },
  {
   "cell_type": "markdown",
   "id": "0355f71e-32b3-40f3-b0eb-e82a8380129f",
   "metadata": {},
   "source": [
    "#### Model selection"
   ]
  },
  {
   "cell_type": "markdown",
   "id": "f27dcba0-d228-4486-b4ce-79a355438a1d",
   "metadata": {},
   "source": [
    "The first question that arises is , Which model should i use.\n",
    "\n",
    "There are so many models to choose from\n",
    "\n",
    "\n",
    "> Random Forest\n",
    "\n",
    "> SVM\n",
    "\n",
    "> Decision Tree\n",
    "\n",
    "> Logistic Regression\n",
    "\n",
    "> Naive Bayes\n",
    "\n",
    "among others"
   ]
  },
  {
   "cell_type": "markdown",
   "id": "56291306-8f68-4d15-9679-7c5f5c223369",
   "metadata": {},
   "source": [
    "Lets say you figured out that the model to use is SVM\n",
    "\n",
    "The problem doesnt end there. you now have hyperparameters, \n",
    "\n",
    "what kind of gamma , C and kernel should i be using .(These are parameters in sklearn.svm.SVC dictionary)\n",
    "\n",
    "There are so many values to choose from\n",
    "\n",
    "The process of choosing the optimiun parameter is called hypertuning."
   ]
  },
  {
   "cell_type": "code",
   "execution_count": null,
   "id": "62b66782-8e51-4ab4-8923-be1ba0a07f66",
   "metadata": {},
   "outputs": [],
   "source": [
    "#model = svm.SVC(kernel='rbf',C=30,gamma='auto')"
   ]
  },
  {
   "cell_type": "raw",
   "id": "ad10ac78-3d6f-4612-93b9-2bf5631e3443",
   "metadata": {},
   "source": [
    "Parameter                         Values\n",
    "\n",
    "Kernel                         'rbf','linear, 'poly'\n",
    "\n",
    "C                                 integer\n",
    "\n",
    "Gamma                              float"
   ]
  },
  {
   "cell_type": "markdown",
   "id": "6e7c6ffe-26b7-44e8-b0a9-e288e0685654",
   "metadata": {},
   "source": [
    "#### Load the necessary libraries"
   ]
  },
  {
   "cell_type": "code",
   "execution_count": 153,
   "id": "b1ba6670-2923-4e76-a783-f8caa42e7042",
   "metadata": {},
   "outputs": [],
   "source": [
    "from sklearn import svm, datasets\n",
    "iris = datasets.load_iris()"
   ]
  },
  {
   "cell_type": "code",
   "execution_count": 154,
   "id": "32812489-f2e0-4b6d-b16e-2e253179b785",
   "metadata": {},
   "outputs": [
    {
     "data": {
      "text/html": [
       "<div>\n",
       "<style scoped>\n",
       "    .dataframe tbody tr th:only-of-type {\n",
       "        vertical-align: middle;\n",
       "    }\n",
       "\n",
       "    .dataframe tbody tr th {\n",
       "        vertical-align: top;\n",
       "    }\n",
       "\n",
       "    .dataframe thead th {\n",
       "        text-align: right;\n",
       "    }\n",
       "</style>\n",
       "<table border=\"1\" class=\"dataframe\">\n",
       "  <thead>\n",
       "    <tr style=\"text-align: right;\">\n",
       "      <th></th>\n",
       "      <th>sepal length (cm)</th>\n",
       "      <th>sepal width (cm)</th>\n",
       "      <th>petal length (cm)</th>\n",
       "      <th>petal width (cm)</th>\n",
       "      <th>flower</th>\n",
       "    </tr>\n",
       "  </thead>\n",
       "  <tbody>\n",
       "    <tr>\n",
       "      <th>47</th>\n",
       "      <td>4.6</td>\n",
       "      <td>3.2</td>\n",
       "      <td>1.4</td>\n",
       "      <td>0.2</td>\n",
       "      <td>setosa</td>\n",
       "    </tr>\n",
       "    <tr>\n",
       "      <th>48</th>\n",
       "      <td>5.3</td>\n",
       "      <td>3.7</td>\n",
       "      <td>1.5</td>\n",
       "      <td>0.2</td>\n",
       "      <td>setosa</td>\n",
       "    </tr>\n",
       "    <tr>\n",
       "      <th>49</th>\n",
       "      <td>5.0</td>\n",
       "      <td>3.3</td>\n",
       "      <td>1.4</td>\n",
       "      <td>0.2</td>\n",
       "      <td>setosa</td>\n",
       "    </tr>\n",
       "    <tr>\n",
       "      <th>50</th>\n",
       "      <td>7.0</td>\n",
       "      <td>3.2</td>\n",
       "      <td>4.7</td>\n",
       "      <td>1.4</td>\n",
       "      <td>versicolor</td>\n",
       "    </tr>\n",
       "    <tr>\n",
       "      <th>51</th>\n",
       "      <td>6.4</td>\n",
       "      <td>3.2</td>\n",
       "      <td>4.5</td>\n",
       "      <td>1.5</td>\n",
       "      <td>versicolor</td>\n",
       "    </tr>\n",
       "  </tbody>\n",
       "</table>\n",
       "</div>"
      ],
      "text/plain": [
       "    sepal length (cm)  sepal width (cm)  petal length (cm)  petal width (cm)  \\\n",
       "47                4.6               3.2                1.4               0.2   \n",
       "48                5.3               3.7                1.5               0.2   \n",
       "49                5.0               3.3                1.4               0.2   \n",
       "50                7.0               3.2                4.7               1.4   \n",
       "51                6.4               3.2                4.5               1.5   \n",
       "\n",
       "        flower  \n",
       "47      setosa  \n",
       "48      setosa  \n",
       "49      setosa  \n",
       "50  versicolor  \n",
       "51  versicolor  "
      ]
     },
     "execution_count": 154,
     "metadata": {},
     "output_type": "execute_result"
    }
   ],
   "source": [
    "import pandas as pd\n",
    "df = pd.DataFrame(iris.data,columns=iris.feature_names)\n",
    "df['flower'] = iris.target\n",
    "df['flower'] = df['flower'].apply(lambda x: iris.target_names[x])\n",
    "df[47:52]            "
   ]
  },
  {
   "cell_type": "markdown",
   "id": "06200201-129a-4606-9729-f30346bfd62b",
   "metadata": {},
   "source": [
    "The traditional approach we can use to solve this problem is train_test_split method to split our dataset into training and test 70/30 partition."
   ]
  },
  {
   "cell_type": "code",
   "execution_count": 231,
   "id": "c60e9930-48bf-4525-8de2-ad7d7254d311",
   "metadata": {},
   "outputs": [],
   "source": [
    "from sklearn.model_selection import train_test_split\n",
    "X_train, X_test, y_train, y_test = train_test_split(iris.data, iris.target, test_size=0.3) "
   ]
  },
  {
   "cell_type": "code",
   "execution_count": null,
   "id": "cd8a9057-675a-432f-93f4-b975a947118d",
   "metadata": {},
   "outputs": [],
   "source": []
  },
  {
   "cell_type": "markdown",
   "id": "3cfd6e85-63ab-4656-a93f-b57f1fc9f954",
   "metadata": {},
   "source": [
    "First ,lets try SVM model\n",
    "\n",
    "we will look at how to do hyperparameter tuning\n",
    "\n",
    "How to choose the model"
   ]
  },
  {
   "cell_type": "code",
   "execution_count": 232,
   "id": "570f7580-b324-41c3-bf86-9a076d45bffa",
   "metadata": {},
   "outputs": [
    {
     "data": {
      "text/plain": [
       "0.9111111111111111"
      ]
     },
     "execution_count": 232,
     "metadata": {},
     "output_type": "execute_result"
    }
   ],
   "source": [
    "model = svm.SVC(kernel='rbf',C=30,gamma='auto')\n",
    "model.fit(X_train,y_train)\n",
    "model.score(X_test,y_test)"
   ]
  },
  {
   "cell_type": "markdown",
   "id": "1c875a8a-96e3-4ab3-8411-3f43990aa4c1",
   "metadata": {},
   "source": [
    "When using the SVM model, you can\n",
    "\n",
    "> train the model\n",
    "\n",
    "> Calculate the score\n",
    "\n",
    "You can randomly initialize the parameters as you may not know the best parameter, so you just introduce some values.\n",
    "\n",
    "Based on your train and test set, the score might vary as you run it over and over again, to control that we use the k-fold cross validation"
   ]
  },
  {
   "cell_type": "markdown",
   "id": "0f28b43d-b706-41e4-8d29-800e29db6d68",
   "metadata": {},
   "source": [
    "What we do in k-fold cross validation is to divide data samples into n -number of folds.\n",
    "\n",
    "For example, lets say we are using 5 folds .\n",
    "\n",
    "You will take itiration in each fold, one fortest set and the remaining for training set and we find the score for that itiration\n",
    "\n",
    "We take this individual scores from each itirations and we make an average.\n",
    "\n",
    "This appraoch works very well because you are going through all the samples.\n",
    "\n",
    "We have a method called cross_val_score which can tell you the score of each itiration"
   ]
  },
  {
   "cell_type": "raw",
   "id": "4ea9c8e1-dcc0-403d-b3d8-09b060c1c1d5",
   "metadata": {},
   "source": [
    "K- fold cross validation\n",
    "\n",
    "\n",
    "100         20 <= test    train           train\n",
    "samples   <->(A) train    test <->(A)    train\n",
    "      score1      train    train  Score2  train  \n",
    "                  train    train    |      train\n",
    "                  train    train    |     train\n",
    "                  train    train          test   <->(A)\n",
    "                                     |          score 5\n",
    "                  \n",
    "                                     Average\n",
    "                                     \n",
    "                                     Average Score"
   ]
  },
  {
   "cell_type": "markdown",
   "id": "e89951fb-de3e-4e88-a8d2-8b2f53e43797",
   "metadata": {},
   "source": [
    "So we will use it for 5 folds"
   ]
  },
  {
   "cell_type": "code",
   "execution_count": 233,
   "id": "fe6bce70-bf32-4c5f-a3b2-b763a84289d1",
   "metadata": {},
   "outputs": [],
   "source": [
    "from sklearn.model_selection import cross_val_score"
   ]
  },
  {
   "cell_type": "code",
   "execution_count": 234,
   "id": "7f48f3ad-315a-42ea-a07e-b4d1ca719aea",
   "metadata": {},
   "outputs": [
    {
     "ename": "SyntaxError",
     "evalue": "EOL while scanning string literal (Temp/ipykernel_14048/4244179162.py, line 2)",
     "output_type": "error",
     "traceback": [
      "\u001b[1;36m  File \u001b[1;32m\"C:\\Users\\user\\AppData\\Local\\Temp/ipykernel_14048/4244179162.py\"\u001b[1;36m, line \u001b[1;32m2\u001b[0m\n\u001b[1;33m    auto'),iris.data,iris.target, cv=5)\u001b[0m\n\u001b[1;37m                                       ^\u001b[0m\n\u001b[1;31mSyntaxError\u001b[0m\u001b[1;31m:\u001b[0m EOL while scanning string literal\n"
     ]
    }
   ],
   "source": [
    "cross_val_score(svm.SVC(kernel='linear',C=10,gamma=\n",
    "                        auto'),iris.data,iris.target, cv=5)"
   ]
  },
  {
   "cell_type": "code",
   "execution_count": 159,
   "id": "946c36ba-7df4-4e7b-a9b5-e050288343ec",
   "metadata": {},
   "outputs": [
    {
     "ename": "SyntaxError",
     "evalue": "EOL while scanning string literal (Temp/ipykernel_14048/3607461267.py, line 2)",
     "output_type": "error",
     "traceback": [
      "\u001b[1;36m  File \u001b[1;32m\"C:\\Users\\user\\AppData\\Local\\Temp/ipykernel_14048/3607461267.py\"\u001b[1;36m, line \u001b[1;32m2\u001b[0m\n\u001b[1;33m    auto'),iris.data,iris.target, cv=5)\u001b[0m\n\u001b[1;37m                                       ^\u001b[0m\n\u001b[1;31mSyntaxError\u001b[0m\u001b[1;31m:\u001b[0m EOL while scanning string literal\n"
     ]
    }
   ],
   "source": [
    "cross_val_score(svm.SVC(kernel='rbf',C=10,gamma=\n",
    "                        auto'),iris.data,iris.target, cv=5)"
   ]
  },
  {
   "cell_type": "code",
   "execution_count": 67,
   "id": "f6859b03-0f9b-4cd4-bdb4-8407698b6f61",
   "metadata": {},
   "outputs": [
    {
     "ename": "SyntaxError",
     "evalue": "EOL while scanning string literal (Temp/ipykernel_13948/852955682.py, line 2)",
     "output_type": "error",
     "traceback": [
      "\u001b[1;36m  File \u001b[1;32m\"C:\\Users\\user\\AppData\\Local\\Temp/ipykernel_13948/852955682.py\"\u001b[1;36m, line \u001b[1;32m2\u001b[0m\n\u001b[1;33m    auto'),iris.data,iris.target, cv=5)\u001b[0m\n\u001b[1;37m                                       ^\u001b[0m\n\u001b[1;31mSyntaxError\u001b[0m\u001b[1;31m:\u001b[0m EOL while scanning string literal\n"
     ]
    }
   ],
   "source": [
    "cross_val_score(svm.SVC(kernel='rbfr',C=20,gamma=\n",
    "                        auto'),iris.data,iris.target, cv=5)"
   ]
  },
  {
   "cell_type": "markdown",
   "id": "baa298a4-66e7-4a61-a72c-268e37765142",
   "metadata": {},
   "source": [
    "The challenge with this method is that it is too manual, it will take a lot of time . note, your C can be equal to 100, you ccan change to what value you want to test your model with.\n",
    "\n",
    "you can change your kernel to linear or rbf"
   ]
  },
  {
   "cell_type": "markdown",
   "id": "ea5c7aad-0b5b-486c-b19c-0b4297b5dfa9",
   "metadata": {},
   "source": [
    "From the result you can see 5 differnt values , youcan add up and take the average score and based on that ,you can determine the optimal value for these parameters."
   ]
  },
  {
   "cell_type": "markdown",
   "id": "3703dcd6-e130-456c-95a1-015e54622561",
   "metadata": {},
   "source": [
    "Another approach you can take is to run a fore loop\n",
    "\n",
    "Hence, we will be doing thesame thing using a fore loop"
   ]
  },
  {
   "cell_type": "code",
   "execution_count": 68,
   "id": "047aebe8-c118-4d94-a240-6f6adefb0f1d",
   "metadata": {},
   "outputs": [
    {
     "data": {
      "text/plain": [
       "array([0.96666667, 1.        , 0.9       , 0.96666667, 1.        ])"
      ]
     },
     "execution_count": 68,
     "metadata": {},
     "output_type": "execute_result"
    }
   ],
   "source": [
    "cross_val_score(svm.SVC(kernel='rbf',C=20,gamma='auto'),iris.data, iris.target, cv=5)"
   ]
  },
  {
   "cell_type": "code",
   "execution_count": 69,
   "id": "c30a7bec-6de7-4eee-8c52-60256c967195",
   "metadata": {},
   "outputs": [
    {
     "data": {
      "text/plain": [
       "{'rbf-1': 0.9800000000000001,\n",
       " 'rbf-10': 0.9800000000000001,\n",
       " 'rbf-20': 0.9666666666666668,\n",
       " 'linear-1': 0.9800000000000001,\n",
       " 'linear-10': 0.9733333333333334,\n",
       " 'linear-20': 0.9666666666666666}"
      ]
     },
     "execution_count": 69,
     "metadata": {},
     "output_type": "execute_result"
    }
   ],
   "source": [
    "import numpy as np\n",
    "kernels = ['rbf', 'linear']\n",
    "C = [1,10,20]\n",
    "avg_scores = {}\n",
    "for kval in kernels:\n",
    "    for cval in C:\n",
    "        cv_scores =  cross_val_score(svm.SVC(kernel=kval,C=cval,gamma='auto'),iris.data, iris.target, cv=5)\n",
    "        avg_scores[kval + '-' + str(cval)] = np.average(cv_scores)\n",
    "avg_scores"
   ]
  },
  {
   "cell_type": "markdown",
   "id": "81cccac2-44c1-499c-acf1-d79c97cf4bab",
   "metadata": {},
   "source": [
    "With this you can find out the optimal score using the hyper parameter tuning\n",
    "\n",
    "From our result, we can see that linear 1 : 0.9800000001 is the best  score to use"
   ]
  },
  {
   "cell_type": "markdown",
   "id": "0e0770aa-7fef-4fd4-bb46-9f74b8af6e53",
   "metadata": {},
   "source": [
    "This approach also have some issues.\n",
    "\n",
    "For example , if i have 4 prameters  for example, it means i have to run like 4 loops which will be too many iterations and it is not convenient"
   ]
  },
  {
   "cell_type": "markdown",
   "id": "fb17d796-cfd6-4527-a5ca-83bddb2e2b5d",
   "metadata": {},
   "source": [
    "sklearn provides an api called GridSearchCV which will do the exact same thing with a single line of code"
   ]
  },
  {
   "cell_type": "markdown",
   "id": "c4fd355d-5d4a-47bb-9023-2492f8b93339",
   "metadata": {},
   "source": [
    "Steps \n",
    "\n",
    "Import gridsearchcv from sklearn model\n",
    "\n",
    "Define your classifier\n",
    "It will be the gridsearchcv where the first thing will be your model. gamma='auto' note instead of auto you can also input the parameters, then your parameter grid, but in parametergrid you will say i want the value of C to be [1,10.20] ie the different values you want to try.\n",
    "\n",
    "then the second parameter is kernel and you want the value of your kernel to be linearaand rbf\n",
    "\n",
    "We have other parameters in grid searchcv ,for example how many parameters you want to run\n",
    "\n",
    "Grid searchcv also uses cross validation, the only differnce is that we are making the whole block of code convenient by writng it in one line of code\n"
   ]
  },
  {
   "cell_type": "code",
   "execution_count": 222,
   "id": "91336c8d-cac7-44eb-8498-288e47a78171",
   "metadata": {
    "tags": []
   },
   "outputs": [
    {
     "data": {
      "text/plain": [
       "{'mean_fit_time': array([0.00179467, 0.00151062, 0.00179696, 0.00119648, 0.00159526,\n",
       "        0.00119677]),\n",
       " 'std_fit_time': array([0.00039892, 0.00044656, 0.00040056, 0.00039919, 0.00048803,\n",
       "        0.00074625]),\n",
       " 'mean_score_time': array([0.00079842, 0.00078692, 0.00099483, 0.00039997, 0.00079832,\n",
       "        0.00079794]),\n",
       " 'std_score_time': array([3.99216812e-04, 3.93965954e-04, 3.94249470e-06, 4.89863277e-04,\n",
       "        7.46633331e-04, 3.98969921e-04]),\n",
       " 'param_C': masked_array(data=[1, 1, 10, 10, 20, 20],\n",
       "              mask=[False, False, False, False, False, False],\n",
       "        fill_value='?',\n",
       "             dtype=object),\n",
       " 'param_kernel': masked_array(data=['rbf', 'linear', 'rbf', 'linear', 'rbf', 'linear'],\n",
       "              mask=[False, False, False, False, False, False],\n",
       "        fill_value='?',\n",
       "             dtype=object),\n",
       " 'params': [{'C': 1, 'kernel': 'rbf'},\n",
       "  {'C': 1, 'kernel': 'linear'},\n",
       "  {'C': 10, 'kernel': 'rbf'},\n",
       "  {'C': 10, 'kernel': 'linear'},\n",
       "  {'C': 20, 'kernel': 'rbf'},\n",
       "  {'C': 20, 'kernel': 'linear'}],\n",
       " 'split0_test_score': array([0.96666667, 0.96666667, 0.96666667, 1.        , 0.96666667,\n",
       "        1.        ]),\n",
       " 'split1_test_score': array([1., 1., 1., 1., 1., 1.]),\n",
       " 'split2_test_score': array([0.96666667, 0.96666667, 0.96666667, 0.9       , 0.9       ,\n",
       "        0.9       ]),\n",
       " 'split3_test_score': array([0.96666667, 0.96666667, 0.96666667, 0.96666667, 0.96666667,\n",
       "        0.93333333]),\n",
       " 'split4_test_score': array([1., 1., 1., 1., 1., 1.]),\n",
       " 'mean_test_score': array([0.98      , 0.98      , 0.98      , 0.97333333, 0.96666667,\n",
       "        0.96666667]),\n",
       " 'std_test_score': array([0.01632993, 0.01632993, 0.01632993, 0.03887301, 0.03651484,\n",
       "        0.0421637 ]),\n",
       " 'rank_test_score': array([1, 1, 1, 4, 5, 6])}"
      ]
     },
     "execution_count": 222,
     "metadata": {},
     "output_type": "execute_result"
    }
   ],
   "source": [
    "from sklearn.model_selection import GridSearchCV\n",
    "\n",
    "clf = GridSearchCV(svm.SVC(gamma='auto'), {\n",
    "    'C': [1,10,20],\n",
    "    'kernel': ['rbf', 'linear']\n",
    "}, cv=5, return_train_score=False) # to return parameter we dont need\n",
    "\n",
    "clf.fit(iris.data,iris.target) #loop in your data\n",
    "clf.cv_results_ # To get cross validation result"
   ]
  },
  {
   "cell_type": "markdown",
   "id": "746954d6-8788-41fa-bd97-61ed3c3945ed",
   "metadata": {},
   "source": [
    "cv results are not easy to view but luckily sklearn provides a way to download these results into a dataframe.\n",
    "\n",
    "you can check it out on sklearn documentation\n",
    "\n",
    "Next, create a pandas dataframe and supply cv result as an input, we will get the table below, showing the C parameter values ,kernel values and scores from each individual split. we also have mean test score.\n",
    "\n",
    "Some of the scores may not be useful so we are going to trim it down.\n",
    "\n",
    "So we look at parameter values and mean score"
   ]
  },
  {
   "cell_type": "code",
   "execution_count": 223,
   "id": "fb580eac-4bef-438e-b28d-e42a8b276f9d",
   "metadata": {},
   "outputs": [
    {
     "data": {
      "text/html": [
       "<div>\n",
       "<style scoped>\n",
       "    .dataframe tbody tr th:only-of-type {\n",
       "        vertical-align: middle;\n",
       "    }\n",
       "\n",
       "    .dataframe tbody tr th {\n",
       "        vertical-align: top;\n",
       "    }\n",
       "\n",
       "    .dataframe thead th {\n",
       "        text-align: right;\n",
       "    }\n",
       "</style>\n",
       "<table border=\"1\" class=\"dataframe\">\n",
       "  <thead>\n",
       "    <tr style=\"text-align: right;\">\n",
       "      <th></th>\n",
       "      <th>mean_fit_time</th>\n",
       "      <th>std_fit_time</th>\n",
       "      <th>mean_score_time</th>\n",
       "      <th>std_score_time</th>\n",
       "      <th>param_C</th>\n",
       "      <th>param_kernel</th>\n",
       "      <th>params</th>\n",
       "      <th>split0_test_score</th>\n",
       "      <th>split1_test_score</th>\n",
       "      <th>split2_test_score</th>\n",
       "      <th>split3_test_score</th>\n",
       "      <th>split4_test_score</th>\n",
       "      <th>mean_test_score</th>\n",
       "      <th>std_test_score</th>\n",
       "      <th>rank_test_score</th>\n",
       "    </tr>\n",
       "  </thead>\n",
       "  <tbody>\n",
       "    <tr>\n",
       "      <th>0</th>\n",
       "      <td>0.001795</td>\n",
       "      <td>0.000399</td>\n",
       "      <td>0.000798</td>\n",
       "      <td>0.000399</td>\n",
       "      <td>1</td>\n",
       "      <td>rbf</td>\n",
       "      <td>{'C': 1, 'kernel': 'rbf'}</td>\n",
       "      <td>0.966667</td>\n",
       "      <td>1.0</td>\n",
       "      <td>0.966667</td>\n",
       "      <td>0.966667</td>\n",
       "      <td>1.0</td>\n",
       "      <td>0.980000</td>\n",
       "      <td>0.016330</td>\n",
       "      <td>1</td>\n",
       "    </tr>\n",
       "    <tr>\n",
       "      <th>1</th>\n",
       "      <td>0.001511</td>\n",
       "      <td>0.000447</td>\n",
       "      <td>0.000787</td>\n",
       "      <td>0.000394</td>\n",
       "      <td>1</td>\n",
       "      <td>linear</td>\n",
       "      <td>{'C': 1, 'kernel': 'linear'}</td>\n",
       "      <td>0.966667</td>\n",
       "      <td>1.0</td>\n",
       "      <td>0.966667</td>\n",
       "      <td>0.966667</td>\n",
       "      <td>1.0</td>\n",
       "      <td>0.980000</td>\n",
       "      <td>0.016330</td>\n",
       "      <td>1</td>\n",
       "    </tr>\n",
       "    <tr>\n",
       "      <th>2</th>\n",
       "      <td>0.001797</td>\n",
       "      <td>0.000401</td>\n",
       "      <td>0.000995</td>\n",
       "      <td>0.000004</td>\n",
       "      <td>10</td>\n",
       "      <td>rbf</td>\n",
       "      <td>{'C': 10, 'kernel': 'rbf'}</td>\n",
       "      <td>0.966667</td>\n",
       "      <td>1.0</td>\n",
       "      <td>0.966667</td>\n",
       "      <td>0.966667</td>\n",
       "      <td>1.0</td>\n",
       "      <td>0.980000</td>\n",
       "      <td>0.016330</td>\n",
       "      <td>1</td>\n",
       "    </tr>\n",
       "    <tr>\n",
       "      <th>3</th>\n",
       "      <td>0.001196</td>\n",
       "      <td>0.000399</td>\n",
       "      <td>0.000400</td>\n",
       "      <td>0.000490</td>\n",
       "      <td>10</td>\n",
       "      <td>linear</td>\n",
       "      <td>{'C': 10, 'kernel': 'linear'}</td>\n",
       "      <td>1.000000</td>\n",
       "      <td>1.0</td>\n",
       "      <td>0.900000</td>\n",
       "      <td>0.966667</td>\n",
       "      <td>1.0</td>\n",
       "      <td>0.973333</td>\n",
       "      <td>0.038873</td>\n",
       "      <td>4</td>\n",
       "    </tr>\n",
       "    <tr>\n",
       "      <th>4</th>\n",
       "      <td>0.001595</td>\n",
       "      <td>0.000488</td>\n",
       "      <td>0.000798</td>\n",
       "      <td>0.000747</td>\n",
       "      <td>20</td>\n",
       "      <td>rbf</td>\n",
       "      <td>{'C': 20, 'kernel': 'rbf'}</td>\n",
       "      <td>0.966667</td>\n",
       "      <td>1.0</td>\n",
       "      <td>0.900000</td>\n",
       "      <td>0.966667</td>\n",
       "      <td>1.0</td>\n",
       "      <td>0.966667</td>\n",
       "      <td>0.036515</td>\n",
       "      <td>5</td>\n",
       "    </tr>\n",
       "    <tr>\n",
       "      <th>5</th>\n",
       "      <td>0.001197</td>\n",
       "      <td>0.000746</td>\n",
       "      <td>0.000798</td>\n",
       "      <td>0.000399</td>\n",
       "      <td>20</td>\n",
       "      <td>linear</td>\n",
       "      <td>{'C': 20, 'kernel': 'linear'}</td>\n",
       "      <td>1.000000</td>\n",
       "      <td>1.0</td>\n",
       "      <td>0.900000</td>\n",
       "      <td>0.933333</td>\n",
       "      <td>1.0</td>\n",
       "      <td>0.966667</td>\n",
       "      <td>0.042164</td>\n",
       "      <td>6</td>\n",
       "    </tr>\n",
       "  </tbody>\n",
       "</table>\n",
       "</div>"
      ],
      "text/plain": [
       "   mean_fit_time  std_fit_time  mean_score_time  std_score_time param_C  \\\n",
       "0       0.001795      0.000399         0.000798        0.000399       1   \n",
       "1       0.001511      0.000447         0.000787        0.000394       1   \n",
       "2       0.001797      0.000401         0.000995        0.000004      10   \n",
       "3       0.001196      0.000399         0.000400        0.000490      10   \n",
       "4       0.001595      0.000488         0.000798        0.000747      20   \n",
       "5       0.001197      0.000746         0.000798        0.000399      20   \n",
       "\n",
       "  param_kernel                         params  split0_test_score  \\\n",
       "0          rbf      {'C': 1, 'kernel': 'rbf'}           0.966667   \n",
       "1       linear   {'C': 1, 'kernel': 'linear'}           0.966667   \n",
       "2          rbf     {'C': 10, 'kernel': 'rbf'}           0.966667   \n",
       "3       linear  {'C': 10, 'kernel': 'linear'}           1.000000   \n",
       "4          rbf     {'C': 20, 'kernel': 'rbf'}           0.966667   \n",
       "5       linear  {'C': 20, 'kernel': 'linear'}           1.000000   \n",
       "\n",
       "   split1_test_score  split2_test_score  split3_test_score  split4_test_score  \\\n",
       "0                1.0           0.966667           0.966667                1.0   \n",
       "1                1.0           0.966667           0.966667                1.0   \n",
       "2                1.0           0.966667           0.966667                1.0   \n",
       "3                1.0           0.900000           0.966667                1.0   \n",
       "4                1.0           0.900000           0.966667                1.0   \n",
       "5                1.0           0.900000           0.933333                1.0   \n",
       "\n",
       "   mean_test_score  std_test_score  rank_test_score  \n",
       "0         0.980000        0.016330                1  \n",
       "1         0.980000        0.016330                1  \n",
       "2         0.980000        0.016330                1  \n",
       "3         0.973333        0.038873                4  \n",
       "4         0.966667        0.036515                5  \n",
       "5         0.966667        0.042164                6  "
      ]
     },
     "execution_count": 223,
     "metadata": {},
     "output_type": "execute_result"
    }
   ],
   "source": [
    "df = pd.DataFrame(clf.cv_results_) \n",
    "df"
   ]
  },
  {
   "cell_type": "code",
   "execution_count": 230,
   "id": "13291db2-282b-4f6d-8cba-87586bdd2390",
   "metadata": {},
   "outputs": [
    {
     "data": {
      "text/html": [
       "<div>\n",
       "<style scoped>\n",
       "    .dataframe tbody tr th:only-of-type {\n",
       "        vertical-align: middle;\n",
       "    }\n",
       "\n",
       "    .dataframe tbody tr th {\n",
       "        vertical-align: top;\n",
       "    }\n",
       "\n",
       "    .dataframe thead th {\n",
       "        text-align: right;\n",
       "    }\n",
       "</style>\n",
       "<table border=\"1\" class=\"dataframe\">\n",
       "  <thead>\n",
       "    <tr style=\"text-align: right;\">\n",
       "      <th></th>\n",
       "      <th>param_C</th>\n",
       "      <th>param_kernel</th>\n",
       "      <th>mean_test_score</th>\n",
       "    </tr>\n",
       "  </thead>\n",
       "  <tbody>\n",
       "    <tr>\n",
       "      <th>0</th>\n",
       "      <td>1</td>\n",
       "      <td>rbf</td>\n",
       "      <td>0.980000</td>\n",
       "    </tr>\n",
       "    <tr>\n",
       "      <th>1</th>\n",
       "      <td>1</td>\n",
       "      <td>linear</td>\n",
       "      <td>0.980000</td>\n",
       "    </tr>\n",
       "    <tr>\n",
       "      <th>2</th>\n",
       "      <td>10</td>\n",
       "      <td>rbf</td>\n",
       "      <td>0.980000</td>\n",
       "    </tr>\n",
       "    <tr>\n",
       "      <th>3</th>\n",
       "      <td>10</td>\n",
       "      <td>linear</td>\n",
       "      <td>0.973333</td>\n",
       "    </tr>\n",
       "    <tr>\n",
       "      <th>4</th>\n",
       "      <td>20</td>\n",
       "      <td>rbf</td>\n",
       "      <td>0.966667</td>\n",
       "    </tr>\n",
       "    <tr>\n",
       "      <th>5</th>\n",
       "      <td>20</td>\n",
       "      <td>linear</td>\n",
       "      <td>0.966667</td>\n",
       "    </tr>\n",
       "  </tbody>\n",
       "</table>\n",
       "</div>"
      ],
      "text/plain": [
       "  param_C param_kernel  mean_test_score\n",
       "0       1          rbf         0.980000\n",
       "1       1       linear         0.980000\n",
       "2      10          rbf         0.980000\n",
       "3      10       linear         0.973333\n",
       "4      20          rbf         0.966667\n",
       "5      20       linear         0.966667"
      ]
     },
     "execution_count": 230,
     "metadata": {},
     "output_type": "execute_result"
    }
   ],
   "source": [
    "df[['param_C','param_kernel','mean_test_score']]"
   ]
  },
  {
   "cell_type": "markdown",
   "id": "6a011eeb-82b9-420e-9566-0081caa04d6e",
   "metadata": {},
   "source": [
    "After trimming it down we can see clearly  the parameter values of C ,kernel values and mean test score.\n",
    "\n",
    "Bassed on this we can supply the first 3 values into my parameter to get the best performance.\n",
    "If ypi remember we have done the hyper tuning of these parameters.\n",
    "\n",
    "You can have many parameters , all you have to do is supply them in parameter grid and the gridsearchcv will do the pemutation and combination of each of these parameters using clf cross validation and it will show you all the result in the pandas dataframe as we have above."
   ]
  },
  {
   "cell_type": "markdown",
   "id": "bea7f20f-5296-4f40-bbb0-1b7b47c11458",
   "metadata": {},
   "source": [
    "We can also do dir on myclassifier and it will show you other properties this object have"
   ]
  },
  {
   "cell_type": "code",
   "execution_count": 73,
   "id": "d0ee4e9d-9dcd-4c22-b965-da9e30475e40",
   "metadata": {
    "collapsed": true,
    "jupyter": {
     "outputs_hidden": true
    },
    "tags": []
   },
   "outputs": [
    {
     "data": {
      "text/plain": [
       "['__abstractmethods__',\n",
       " '__class__',\n",
       " '__delattr__',\n",
       " '__dict__',\n",
       " '__dir__',\n",
       " '__doc__',\n",
       " '__eq__',\n",
       " '__format__',\n",
       " '__ge__',\n",
       " '__getattribute__',\n",
       " '__getstate__',\n",
       " '__gt__',\n",
       " '__hash__',\n",
       " '__init__',\n",
       " '__init_subclass__',\n",
       " '__le__',\n",
       " '__lt__',\n",
       " '__module__',\n",
       " '__ne__',\n",
       " '__new__',\n",
       " '__reduce__',\n",
       " '__reduce_ex__',\n",
       " '__repr__',\n",
       " '__setattr__',\n",
       " '__setstate__',\n",
       " '__sizeof__',\n",
       " '__str__',\n",
       " '__subclasshook__',\n",
       " '__weakref__',\n",
       " '_abc_impl',\n",
       " '_check_is_fitted',\n",
       " '_check_n_features',\n",
       " '_check_refit_for_multimetric',\n",
       " '_estimator_type',\n",
       " '_format_results',\n",
       " '_get_param_names',\n",
       " '_get_tags',\n",
       " '_more_tags',\n",
       " '_pairwise',\n",
       " '_repr_html_',\n",
       " '_repr_html_inner',\n",
       " '_repr_mimebundle_',\n",
       " '_required_parameters',\n",
       " '_run_search',\n",
       " '_validate_data',\n",
       " 'best_estimator_',\n",
       " 'best_index_',\n",
       " 'best_params_',\n",
       " 'best_score_',\n",
       " 'classes_',\n",
       " 'cv',\n",
       " 'cv_results_',\n",
       " 'decision_function',\n",
       " 'error_score',\n",
       " 'estimator',\n",
       " 'fit',\n",
       " 'get_params',\n",
       " 'inverse_transform',\n",
       " 'multimetric_',\n",
       " 'n_features_in_',\n",
       " 'n_jobs',\n",
       " 'n_splits_',\n",
       " 'param_grid',\n",
       " 'pre_dispatch',\n",
       " 'predict',\n",
       " 'predict_log_proba',\n",
       " 'predict_proba',\n",
       " 'refit',\n",
       " 'refit_time_',\n",
       " 'return_train_score',\n",
       " 'score',\n",
       " 'score_samples',\n",
       " 'scorer_',\n",
       " 'scoring',\n",
       " 'set_params',\n",
       " 'transform',\n",
       " 'verbose']"
      ]
     },
     "execution_count": 73,
     "metadata": {},
     "output_type": "execute_result"
    }
   ],
   "source": [
    "dir(clf)"
   ]
  },
  {
   "cell_type": "code",
   "execution_count": null,
   "id": "c7774029-c083-46de-8759-804145d0b48d",
   "metadata": {
    "collapsed": true,
    "jupyter": {
     "outputs_hidden": true
    },
    "tags": []
   },
   "outputs": [],
   "source": []
  },
  {
   "cell_type": "markdown",
   "id": "173a8c12-54e3-4d71-bc47-d599e474712a",
   "metadata": {},
   "source": [
    "We have parameters like best score , but estimator.\n",
    "\n",
    "Lets check out best score "
   ]
  },
  {
   "cell_type": "code",
   "execution_count": 225,
   "id": "bac26a03-9bba-4330-a2e9-9dd6158ff640",
   "metadata": {},
   "outputs": [
    {
     "data": {
      "text/plain": [
       "0.9800000000000001"
      ]
     },
     "execution_count": 225,
     "metadata": {},
     "output_type": "execute_result"
    }
   ],
   "source": [
    "clf.best_score_"
   ]
  },
  {
   "cell_type": "markdown",
   "id": "ee4cbb6d-d693-41e5-9d99-0d9fa2c820af",
   "metadata": {},
   "source": [
    "We have 0.98 as the best score"
   ]
  },
  {
   "cell_type": "markdown",
   "id": "d87c833e-fe0d-4012-8169-a23d51a212d4",
   "metadata": {},
   "source": [
    "To find out the best parameters. we will do clf.best_params\n",
    "In this case ,we have multiple parameters that gives you optimal performance but you acn see the points and this code helps you to get it.\n",
    "\n",
    "These are the parameters you aree going to use for your model.\n",
    "\n",
    "One issue that can happen with the gridsearchcv is the computation cost.\n",
    "Our datasey in this lecture is very limited but when you have millions of data points into your dataset and the parametres ,you have so many values.\n",
    "\n",
    "Right now  the  C values are 1 -10 , what if we have 1-50 , the computation cost will go very high and  this will literally try the compution amd combination  for every value in each of this parameters."
   ]
  },
  {
   "cell_type": "code",
   "execution_count": 226,
   "id": "ab2dcffb-fd60-4ecf-9f14-402d5610eaf7",
   "metadata": {},
   "outputs": [
    {
     "data": {
      "text/plain": [
       "{'C': 1, 'kernel': 'rbf'}"
      ]
     },
     "execution_count": 226,
     "metadata": {},
     "output_type": "execute_result"
    }
   ],
   "source": [
    "clf.best_params_"
   ]
  },
  {
   "cell_type": "markdown",
   "id": "04464339-5285-4b99-8600-017fceb684f4",
   "metadata": {},
   "source": [
    "#### RandomizedSerachCV"
   ]
  },
  {
   "cell_type": "markdown",
   "id": "66de7440-718a-44d3-b249-a72e266e9ca6",
   "metadata": {},
   "source": [
    "To tackle thi scomputation problem, sklearn came up with another class called Randomized search cv.\n",
    "\n",
    "This will not try every single combination and pemutation of parameters.\n",
    "\n",
    "But it will try random combination of these parameter values.\n",
    "\n",
    "You can choose wha those iterations can be"
   ]
  },
  {
   "cell_type": "markdown",
   "id": "ee5a3a81-a7c3-4b9a-bc5c-15fc97e89087",
   "metadata": {},
   "source": [
    "First import randomizedsearchcv class form the sklearn model selection\n",
    "\n",
    "they look same as gridsearchcv\n",
    "\n",
    "Then supply the parameter grade kernel, rdf linear, \n",
    "then cv=5 for cross validation\n",
    "\n",
    "The most important parameter here is n-iteration\n",
    "n_iter\n",
    " we want to try only 2 combinations\n",
    " \n",
    " In the first example , we tried a total of 6 ie 0 -5\n",
    " \n",
    "In randomized it will try only 2 combination then we will call fit method and download the result into dataframe."
   ]
  },
  {
   "cell_type": "code",
   "execution_count": 227,
   "id": "0aede749-12c4-4c4f-8ab1-1c621220dbfd",
   "metadata": {},
   "outputs": [
    {
     "data": {
      "text/html": [
       "<div>\n",
       "<style scoped>\n",
       "    .dataframe tbody tr th:only-of-type {\n",
       "        vertical-align: middle;\n",
       "    }\n",
       "\n",
       "    .dataframe tbody tr th {\n",
       "        vertical-align: top;\n",
       "    }\n",
       "\n",
       "    .dataframe thead th {\n",
       "        text-align: right;\n",
       "    }\n",
       "</style>\n",
       "<table border=\"1\" class=\"dataframe\">\n",
       "  <thead>\n",
       "    <tr style=\"text-align: right;\">\n",
       "      <th></th>\n",
       "      <th>param_C</th>\n",
       "      <th>param_kernel</th>\n",
       "      <th>mean_test_score</th>\n",
       "    </tr>\n",
       "  </thead>\n",
       "  <tbody>\n",
       "    <tr>\n",
       "      <th>0</th>\n",
       "      <td>10</td>\n",
       "      <td>rbf</td>\n",
       "      <td>0.980000</td>\n",
       "    </tr>\n",
       "    <tr>\n",
       "      <th>1</th>\n",
       "      <td>20</td>\n",
       "      <td>rbf</td>\n",
       "      <td>0.966667</td>\n",
       "    </tr>\n",
       "  </tbody>\n",
       "</table>\n",
       "</div>"
      ],
      "text/plain": [
       "  param_C param_kernel  mean_test_score\n",
       "0      10          rbf         0.980000\n",
       "1      20          rbf         0.966667"
      ]
     },
     "execution_count": 227,
     "metadata": {},
     "output_type": "execute_result"
    }
   ],
   "source": [
    "from sklearn.model_selection import RandomizedSearchCV\n",
    "rs = RandomizedSearchCV(svm.SVC(gamma='auto'), {\n",
    "    'C': [1,10,20],\n",
    "    'kernel': ['rbf', 'linear']  \n",
    "}, \n",
    "cv=5, \n",
    "return_train_score=False, \n",
    "n_iter=2\n",
    ")\n",
    "rs.fit(iris.data, iris.target)\n",
    "pd.DataFrame(rs.cv_results_)[['param_C', 'param_kernel', 'mean_test_score']]"
   ]
  },
  {
   "cell_type": "markdown",
   "id": "d6a8d405-a2a6-40a0-b464-0c77adf71b26",
   "metadata": {},
   "source": [
    "Fro the result we can see that it randomly ties C value to b e1 and 10 and and kernel value to be linear and rbf.\n",
    "\n",
    "I i run it again , the value changes the value of c to be 20 and 10\n",
    "\n",
    "\n",
    "This way it just randomly ties the values of c and kernel and it gives you the best score.\n",
    "\n",
    "This works well in practical life becaues if you dont have too much computation power.\n",
    "\n",
    "you just want to try random values of parameter and go with whatever comes out to be the best,"
   ]
  },
  {
   "cell_type": "markdown",
   "id": "476bbaf7-fd0c-4ca6-b4e7-556e67937447",
   "metadata": {
    "tags": []
   },
   "source": [
    "#### How to choose the best model for a given problem"
   ]
  },
  {
   "cell_type": "markdown",
   "id": "cf4ad243-6c3b-480e-99b9-a3d403c41012",
   "metadata": {},
   "source": [
    "For our irih data set .\n",
    "\n",
    "We will be trying this two classifiers:\n",
    "\n",
    "svm RandomForest\n",
    "and logisticRegression\n",
    "\n",
    "and we will figure out the one that gives the best performance\n",
    "\n",
    "Steps:\n",
    "\n",
    "You need to define your pararmeter grid\n",
    "\n",
    "We define them using simple python dictionary\n",
    "\n",
    "we are using the 3 values of random forest to be 1,5,10\n",
    "\n",
    "n_estimator is an arguement in random forest classifier\n",
    "\n",
    "Similarly the value C is an arguement/parameter in LogisticRegressionClassifier\n",
    "\n",
    "after initializing the dictionary\n",
    "\n",
    "Write a simple fore loop\n",
    "\n",
    "The fore loop is just going through the dictionary values and for each of the value ,it will use Grid SearchCV\n",
    "\n",
    "In gridsearch cv , the first arguement is the classifier , which is your model.\n",
    "\n",
    "Hence, we will try each of this classifier one by one with the corresponding parameter grid that are specified in this dictionary"
   ]
  },
  {
   "cell_type": "code",
   "execution_count": 228,
   "id": "a2696d66-0d10-4154-a313-34cb71e5435a",
   "metadata": {},
   "outputs": [],
   "source": [
    "from sklearn import svm\n",
    "from sklearn.ensemble import RandomForestClassifier\n",
    "from sklearn.linear_model import LogisticRegression"
   ]
  },
  {
   "cell_type": "code",
   "execution_count": 229,
   "id": "dbe95b48-fd92-4672-8ce7-fcf79c3420b7",
   "metadata": {},
   "outputs": [],
   "source": [
    "model_params = {\n",
    "    'svm' : {\n",
    "        'model': svm.SVC(gamma='auto'),\n",
    "        'params' : {\n",
    "            'C': [1,10,20],\n",
    "            'kernel': ['rbf', 'linear']\n",
    "        }\n",
    "    },\n",
    "    'random_forest': {\n",
    "        'model': RandomForestClassifier(),\n",
    "        'params' : {\n",
    "            'n_estimators': [1,5,10]\n",
    "        }\n",
    "    },\n",
    "    'logistic_regression' : {\n",
    "        'model': LogisticRegression(solver='liblinear',multi_class='auto'),\n",
    "        'params' : {\n",
    "            'C': [1,5,10]\n",
    "        }\n",
    "    }   \n",
    "}   \n",
    "    "
   ]
  },
  {
   "cell_type": "markdown",
   "id": "b4570c36-008a-43a2-b13b-dae83f8bc162",
   "metadata": {},
   "source": [
    "After initializing the dictionary, we write a simple fore-loop as seen below.\n",
    "\n",
    "The fore loop goes through the dictionary values and for each of the values it uses grid search cv\n",
    "\n",
    "For the gridsearch cv the first arguement is the classifier which is the model, \n",
    "\n",
    "It tries each of this model one by one with the corressponding pararmeter(svm, Randomizedsearchcv and LogisticRegression)\n",
    "\n",
    "Then append the scores and do the scores list \n",
    "then run the code"
   ]
  },
  {
   "cell_type": "code",
   "execution_count": null,
   "id": "68ea1e37-cf6e-4899-8064-2b03ea066bf7",
   "metadata": {},
   "outputs": [
    {
     "ename": "NameError",
     "evalue": "name 'iris' is not defined",
     "output_type": "error",
     "traceback": [
      "\u001b[1;31m---------------------------------------------------------------------------\u001b[0m",
      "\u001b[1;31mNameError\u001b[0m                                 Traceback (most recent call last)",
      "\u001b[1;32m~\\AppData\\Local\\Temp/ipykernel_1468/147577478.py\u001b[0m in \u001b[0;36m<module>\u001b[1;34m\u001b[0m\n\u001b[0;32m      3\u001b[0m \u001b[1;32mfor\u001b[0m \u001b[0mmodel_name\u001b[0m\u001b[1;33m,\u001b[0m \u001b[0mmp\u001b[0m \u001b[1;32min\u001b[0m \u001b[0mmodel_params\u001b[0m\u001b[1;33m.\u001b[0m\u001b[0mitems\u001b[0m\u001b[1;33m(\u001b[0m\u001b[1;33m)\u001b[0m\u001b[1;33m:\u001b[0m\u001b[1;33m\u001b[0m\u001b[1;33m\u001b[0m\u001b[0m\n\u001b[0;32m      4\u001b[0m     \u001b[0mclf\u001b[0m \u001b[1;33m=\u001b[0m \u001b[0mGridSearchCV\u001b[0m\u001b[1;33m(\u001b[0m\u001b[0mmp\u001b[0m\u001b[1;33m[\u001b[0m\u001b[1;34m'model'\u001b[0m\u001b[1;33m]\u001b[0m\u001b[1;33m,\u001b[0m \u001b[0mmp\u001b[0m\u001b[1;33m[\u001b[0m\u001b[1;34m'params'\u001b[0m\u001b[1;33m]\u001b[0m\u001b[1;33m,\u001b[0m \u001b[0mcv\u001b[0m\u001b[1;33m=\u001b[0m\u001b[1;36m5\u001b[0m\u001b[1;33m,\u001b[0m \u001b[0mreturn_train_score\u001b[0m\u001b[1;33m=\u001b[0m\u001b[1;32mFalse\u001b[0m\u001b[1;33m)\u001b[0m\u001b[1;33m\u001b[0m\u001b[1;33m\u001b[0m\u001b[0m\n\u001b[1;32m----> 5\u001b[1;33m     \u001b[0mclf\u001b[0m\u001b[1;33m.\u001b[0m\u001b[0mfit\u001b[0m\u001b[1;33m(\u001b[0m\u001b[0miris\u001b[0m\u001b[1;33m.\u001b[0m\u001b[0mdata\u001b[0m\u001b[1;33m,\u001b[0m \u001b[0miris\u001b[0m\u001b[1;33m.\u001b[0m\u001b[0mtarget\u001b[0m\u001b[1;33m)\u001b[0m\u001b[1;33m\u001b[0m\u001b[1;33m\u001b[0m\u001b[0m\n\u001b[0m\u001b[0;32m      6\u001b[0m     scores.append({  #append the score\n\u001b[0;32m      7\u001b[0m         \u001b[1;34m'model'\u001b[0m\u001b[1;33m:\u001b[0m \u001b[0mmodel_name\u001b[0m\u001b[1;33m,\u001b[0m\u001b[1;33m\u001b[0m\u001b[1;33m\u001b[0m\u001b[0m\n",
      "\u001b[1;31mNameError\u001b[0m: name 'iris' is not defined"
     ]
    }
   ],
   "source": [
    "scores = []\n",
    "\n",
    "for model_name, mp in model_params.items():\n",
    "    clf = GridSearchCV(mp['model'], mp['params'], cv=5, return_train_score=False)\n",
    "    clf.fit(iris.data, iris.target)\n",
    "    scores.append({  #append the score\n",
    "        'model': model_name,\n",
    "        'best_score': clf.best_score_,\n",
    "        'best_params': clf.best_params_\n",
    "    })"
   ]
  },
  {
   "cell_type": "markdown",
   "id": "dec22d53-5546-4f8e-8e89-d74aad368419",
   "metadata": {},
   "source": [
    "Then we will need to convert these results into pandas DataFrame.\n",
    "\n",
    "This gives us a nice table view which gives us the result below."
   ]
  },
  {
   "cell_type": "code",
   "execution_count": null,
   "id": "e563f442-97f2-43be-9064-17692f0f719c",
   "metadata": {},
   "outputs": [
    {
     "ename": "SyntaxError",
     "evalue": "invalid syntax (Temp/ipykernel_1468/3887793821.py, line 1)",
     "output_type": "error",
     "traceback": [
      "\u001b[1;36m  File \u001b[1;32m\"C:\\Users\\user\\AppData\\Local\\Temp/ipykernel_1468/3887793821.py\"\u001b[1;36m, line \u001b[1;32m1\u001b[0m\n\u001b[1;33m    svm model gives us 98, random_forest 96 and logistic_regression 96.7 a little more than 96\u001b[0m\n\u001b[1;37m        ^\u001b[0m\n\u001b[1;31mSyntaxError\u001b[0m\u001b[1;31m:\u001b[0m invalid syntax\n"
     ]
    }
   ],
   "source": [
    "svm model gives us 98, random_forest 96 and logistic_regression 96.7 a little more than 96"
   ]
  },
  {
   "cell_type": "code",
   "execution_count": null,
   "id": "521cff3e-87d7-4ac5-83cd-ae5b503fe42d",
   "metadata": {},
   "outputs": [
    {
     "ename": "NameError",
     "evalue": "name 'pd' is not defined",
     "output_type": "error",
     "traceback": [
      "\u001b[1;31m---------------------------------------------------------------------------\u001b[0m",
      "\u001b[1;31mNameError\u001b[0m                                 Traceback (most recent call last)",
      "\u001b[1;32m~\\AppData\\Local\\Temp/ipykernel_1468/3819949467.py\u001b[0m in \u001b[0;36m<module>\u001b[1;34m\u001b[0m\n\u001b[1;32m----> 1\u001b[1;33m \u001b[0mdf\u001b[0m \u001b[1;33m=\u001b[0m \u001b[0mpd\u001b[0m\u001b[1;33m.\u001b[0m\u001b[0mDataFrame\u001b[0m\u001b[1;33m(\u001b[0m\u001b[0mscores\u001b[0m\u001b[1;33m,\u001b[0m\u001b[0mcolumns\u001b[0m\u001b[1;33m=\u001b[0m\u001b[1;33m[\u001b[0m\u001b[1;34m'model'\u001b[0m\u001b[1;33m,\u001b[0m\u001b[1;34m'best_score'\u001b[0m\u001b[1;33m,\u001b[0m\u001b[1;34m'best_params'\u001b[0m\u001b[1;33m]\u001b[0m\u001b[1;33m)\u001b[0m\u001b[1;33m\u001b[0m\u001b[1;33m\u001b[0m\u001b[0m\n\u001b[0m\u001b[0;32m      2\u001b[0m \u001b[0mdf\u001b[0m\u001b[1;33m\u001b[0m\u001b[1;33m\u001b[0m\u001b[0m\n",
      "\u001b[1;31mNameError\u001b[0m: name 'pd' is not defined"
     ]
    }
   ],
   "source": [
    "df = pd.DataFrame(scores,columns=['model','best_score','best_params'])\n",
    "df"
   ]
  },
  {
   "cell_type": "markdown",
   "id": "3974b4e1-acd5-447d-a682-d925f0b00662",
   "metadata": {},
   "source": [
    "From the result above, we conclude that the best model to use for the iris dataset problem is svm \n",
    "it wil give 98%  with all the parameters on the table.\n",
    "\n",
    "Hence, we didnt just do hyperparameter tuning ,we also selected the best model.\n",
    "\n",
    "We use 3 models for the demonstration but you can decide to use up to hundred models.\n",
    "\n",
    "This is more likemtrial and  error approach but in practical life, this is used to find out the best model and the best parameters."
   ]
  },
  {
   "cell_type": "markdown",
   "id": "4f42d333-31c4-4422-a7bf-24e5e4dd19c1",
   "metadata": {},
   "source": [
    "\n",
    "\n",
    "Exercise:\n",
    "\n",
    "Machine Learning finding Optimal Model and \n",
    "\n",
    "Hyperparameters"
   ]
  },
  {
   "cell_type": "markdown",
   "id": "e1648161-e511-4e6b-8c54-0c33bfc3b148",
   "metadata": {},
   "source": [
    "Using sklearn hands return digit set\n",
    "Classifer the digits using the listed classifers\n",
    "Find the best parameter for it"
   ]
  },
  {
   "cell_type": "markdown",
   "id": "197709d5-e19d-4b1e-a45e-b63d8f4af1d4",
   "metadata": {},
   "source": [
    "For digits dataset in sklearn dataset,please try following classifiers and find out the one that gives best performance. Also find the optimal parameters for that classifier."
   ]
  },
  {
   "cell_type": "code",
   "execution_count": 69,
   "id": "3b5034f4-e5fa-49fc-9a03-57fe4f47e94b",
   "metadata": {},
   "outputs": [],
   "source": [
    "from sklearn  import svm\n",
    "from sklearn.ensemble import RandomForestClassifier\n",
    "from sklearn.linear_model import LogisticRegression\n",
    "from sklearn.naive_bayes import GaussianNB\n",
    "from sklearn.tree import DecisionTreeClassifier"
   ]
  },
  {
   "cell_type": "markdown",
   "id": "569b76ad-997a-4828-9b70-15042e01d505",
   "metadata": {},
   "source": [
    "#### Exercise solution"
   ]
  },
  {
   "cell_type": "code",
   "execution_count": null,
   "id": "98c6428b-566e-4b4b-b403-372619a8563b",
   "metadata": {},
   "outputs": [],
   "source": []
  },
  {
   "cell_type": "code",
   "execution_count": null,
   "id": "0c9459d4-fb5e-4199-92b0-9433fd68b829",
   "metadata": {},
   "outputs": [],
   "source": []
  },
  {
   "cell_type": "markdown",
   "id": "6a48e535-a930-47a1-a4cb-bba4eeebedc9",
   "metadata": {},
   "source": [
    "#### Grid Search: Quiz"
   ]
  },
  {
   "cell_type": "markdown",
   "id": "335a984f-99d8-4fcb-8296-305a2789e73f",
   "metadata": {},
   "source": [
    "1. Grid Search’s idea for finding this best parameter combination is simple __________?"
   ]
  },
  {
   "cell_type": "markdown",
   "id": "6608a49c-79f0-4766-8927-9f524e41bb93",
   "metadata": {},
   "source": [
    "ans:\n",
    "\n",
    "Just test each parameter combination possible and select the best one\n",
    "\n",
    "Grid-search is used to find the optimal hyperparameters of a model which results in the most ‘accurate’ predictions."
   ]
  },
  {
   "cell_type": "markdown",
   "id": "14f2ef21-2cce-42f4-b5d1-578e063b6f48",
   "metadata": {},
   "source": [
    "2. In Cross-Validation, data is split in __________ parts? Multiple"
   ]
  },
  {
   "cell_type": "markdown",
   "id": "21b06879-0933-41a6-9b34-77b3376fb27e",
   "metadata": {},
   "source": [
    "Divide the dataset into two parts: the training set and the test set. Usually, 80% of the dataset goes to the training set and 20% to the test set but you may choose any splitting that suits you better. Train the model on the training set."
   ]
  },
  {
   "cell_type": "markdown",
   "id": "4d4c1045-aa9b-451e-97ec-9355c50ded54",
   "metadata": {},
   "source": [
    "3. Grid search has a vital role in Data Science because ________________ ?"
   ]
  },
  {
   "cell_type": "markdown",
   "id": "0ebbbd0a-1210-4aaf-b401-cfce3814fe86",
   "metadata": {},
   "source": [
    "ans.\n",
    "It makes easier to automate a search"
   ]
  },
  {
   "cell_type": "markdown",
   "id": "834b57ad-10e5-4daf-95a2-ad117c824e4d",
   "metadata": {},
   "source": [
    "4. What is the most reliable way to estimate the performances of a hyperparameter combination ________________?"
   ]
  },
  {
   "cell_type": "markdown",
   "id": "86189b4b-000c-4cda-905b-e60009a6b8f6",
   "metadata": {},
   "source": [
    "ans.\n",
    "Cross Validation Error"
   ]
  },
  {
   "cell_type": "markdown",
   "id": "41dcd2ca-1219-408b-8e98-63c2d7344502",
   "metadata": {},
   "source": [
    "5. The goal of using Grid Search is to find _______________?"
   ]
  },
  {
   "cell_type": "markdown",
   "id": "dd229b11-ec6b-43bc-9fb0-a80b71b4d129",
   "metadata": {},
   "source": [
    "ans.\n",
    "Specific combination of parameters"
   ]
  },
  {
   "cell_type": "markdown",
   "id": "7ba9844f-884f-4983-8675-5afe1c693697",
   "metadata": {},
   "source": [
    "### Week 10: Day 4 – Scikit-Learn"
   ]
  },
  {
   "cell_type": "markdown",
   "id": "f99d368b-5c33-4fae-9531-1f41295bd3aa",
   "metadata": {},
   "source": [
    "#### Topics"
   ]
  },
  {
   "cell_type": "markdown",
   "id": "e9a4c47d-bd29-45e5-9977-2df4cc9ec5e0",
   "metadata": {},
   "source": [
    "> Machine learning Overview\n",
    "\n",
    "> Introduction To Scikit-learn\n",
    "\n",
    "> Installation of scikit learn\n",
    "\n",
    "> Regression & Classification\n",
    "\n",
    "> Demo"
   ]
  },
  {
   "cell_type": "markdown",
   "id": "eee2f093-863e-46ff-93b3-3360f85466af",
   "metadata": {},
   "source": [
    "#### What is machine learning?"
   ]
  },
  {
   "cell_type": "markdown",
   "id": "ca9a8862-82e9-46c0-8c46-2fc5ab86228f",
   "metadata": {},
   "source": [
    "It is a type of Artificial Intelligence that allows software applications to learn from the data and become more accurate in predicting outcomes without human intervention.\n",
    "\n",
    "It also helps you to predict outcomes as well."
   ]
  },
  {
   "cell_type": "markdown",
   "id": "9baefc21-cf65-4cce-a77d-2c1f7494f452",
   "metadata": {},
   "source": [
    "How to :\n",
    "    \n",
    "    > Train Data\n",
    "    \n",
    "    > Learn Algorithm\n",
    "    \n",
    "    > Build Model\n",
    "    \n",
    "    > Perform\n",
    "    \n",
    "    > Feedback\n",
    "    \n",
    "    "
   ]
  },
  {
   "cell_type": "markdown",
   "id": "72491dc9-d38d-4e1b-a995-866cba19f2eb",
   "metadata": {},
   "source": [
    "You take the feed back to the learn algorithm againa and again until you geta good result."
   ]
  },
  {
   "cell_type": "markdown",
   "id": "e34e50fb-f296-4a3d-beae-921392f3db32",
   "metadata": {},
   "source": [
    "Example online shopping\n",
    "\n",
    "It helps to predict the product a user should buy.\n",
    "It helpds to predict input and output.\n",
    "\n",
    "In machine learning , system adjusts itself to the reality and behaves accordingly.\n",
    "\n",
    "It learns from the job, which means you have programmed it once and every time it encounters a problem it should not be programmed again.\n",
    "\n",
    "It changes according to the new  scenarios discovered.\n",
    "\n"
   ]
  },
  {
   "cell_type": "markdown",
   "id": "991c936c-9065-4ee3-b2e4-3cc4351f09b8",
   "metadata": {},
   "source": [
    "#### How can we achieve this ?"
   ]
  },
  {
   "cell_type": "markdown",
   "id": "ee2d605f-f9a8-4fa0-84dc-f245f2d261b7",
   "metadata": {},
   "source": [
    "You provide the scenarios \n",
    "\n",
    "Provide it with the best instances \n",
    "\n",
    "Feed in the values\n",
    "\n",
    "Based on those past experiences it comes up with a new solution.\n",
    "\n",
    "Machine learning helps us to predict factors in a dataset and creates models over them.\n",
    "\n",
    "Later on it adjusts the model or we can say that it  has the accuracy of the model and predicts the actions based on the new dataset.\n",
    "\n",
    "It is used in medical analysis, weather forecasting and stock price predictions"
   ]
  },
  {
   "cell_type": "markdown",
   "id": "28ec803c-3c9f-4a7a-85f5-73964349f44b",
   "metadata": {},
   "source": [
    "Whether the system is learning on its own or  dictative patterns so that it can take action whenever it is introduced to a new dataset"
   ]
  },
  {
   "cell_type": "markdown",
   "id": "3bdbe007-d6bd-42f6-b1ac-1c00f24568b1",
   "metadata": {},
   "source": [
    "#### Types of machine learning"
   ]
  },
  {
   "cell_type": "raw",
   "id": "5b5b79a4-523a-4405-83e7-63ac423a6649",
   "metadata": {},
   "source": [
    "> Supervised learning:  \n",
    "    \n",
    "This is a process of the algorithm learning from the training data set. It  a feature that supervises the learning process. This learning stops whenever it hacs reached an acceptable level of performance,\n",
    "\n",
    "Here we use a mapping function for the input and output variable and using algorithm to check that action.\n",
    "\n",
    "It is also known as predictive modelling which helps us to model predictions using some data.\n",
    "Some of the algorithms are linear regression \n",
    "logistic regression.\n",
    "\n",
    "We also have Decision 3, randonforest,classifiers etc\n",
    "\n",
    "\n",
    "\n",
    "\n",
    "> Unsupervised learning: \n",
    "\n",
    "This is a process where a model is trained using an information which is not labelled.\n",
    "\n",
    "There is no detail, no one to watch the process\n",
    "The process can be used to cluster the input data on classes on the basis of the statistical properties.\n",
    "\n",
    "You can group the object based on the information you have ,describing the object based on  the relationship between them.\n",
    "\n",
    "Some of the algorithm includes skin classitng etc\n",
    "\n",
    "\n",
    "\n",
    "> Reinforcement\n",
    "\n",
    "Reinforcement learning is learning by interacting with a space or an environment.\n",
    "\n",
    "Here a point is chosen for each action\n",
    "It learns from the consequences of its actions rathher than being thought excessively.\n",
    "\n",
    "It selects its actions on the bases of past experiences and makes  a new choice\n",
    "\n",
    "\n",
    "YET TO FINISH NEED MY DAUGTHER TO HELP ME WITH THE ACCENT!!!\n"
   ]
  },
  {
   "cell_type": "markdown",
   "id": "7a2e2138-00cb-48e8-b699-ba0f65abad39",
   "metadata": {},
   "source": [
    "#### Introduction To Scikit-learn"
   ]
  },
  {
   "cell_type": "markdown",
   "id": "a2a3bebb-283f-4501-af21-c21d068bd33a",
   "metadata": {},
   "source": [
    "This is a library that is used to perform machine learning in python.\n",
    "\n",
    "\n",
    "> Open source library which is licenced under BSD\n",
    "\n",
    "> Build on Numpy, Scipy & Matplotlib\n",
    "\n",
    "> Many tuning Parameters\n",
    "\n",
    "> Documentation & Support\n",
    "\n"
   ]
  },
  {
   "cell_type": "markdown",
   "id": "b7af8a6a-095c-4025-91c3-0fee64a4deda",
   "metadata": {},
   "source": [
    "Go to google type in scikit learn and see all the content."
   ]
  },
  {
   "cell_type": "markdown",
   "id": "32ed7979-9908-4e62-a1f5-4abc7989f3a3",
   "metadata": {},
   "source": [
    "Installation of scikit learn\n",
    "\n",
    "Commands:\n",
    "\n",
    "\n",
    "pip install scikit-learn  ( on the command line)\n",
    "\n",
    "conda install scikit_learn if you are using anacando distribution\n",
    "\n",
    "\n",
    "check out \n",
    "from sklearn.family import Model\n",
    "\n",
    "example\n",
    "\n",
    "if you want to import a linear regression \n",
    "\n",
    "You need to just type in\n",
    "\n",
    "from sklearn.linear_model import LinearRegression"
   ]
  },
  {
   "cell_type": "markdown",
   "id": "f4c53b70-f8e7-446f-ab23-9cfff5bb619b",
   "metadata": {},
   "source": [
    "You can also lok up the documentation"
   ]
  },
  {
   "cell_type": "markdown",
   "id": "fcf966ce-5c40-4087-9ff6-15486560b86b",
   "metadata": {},
   "source": [
    "#### Regression & Classification"
   ]
  },
  {
   "cell_type": "markdown",
   "id": "d17eff35-a702-4a64-ba61-8c082c33a796",
   "metadata": {},
   "source": [
    "Regression \n",
    "\n",
    "This is the prediction of  a numeric value and often takes input as a continuous value"
   ]
  },
  {
   "cell_type": "markdown",
   "id": "3dd0abf4-e3d0-4379-877e-9e448b0e695d",
   "metadata": {},
   "source": [
    "Classification\n",
    "\n",
    "Classification is the problem identifying to which set of categories a new observation belongs\n",
    "\n",
    "@   ->   Classifier -> SPAM\n",
    "                    ->  Mail"
   ]
  },
  {
   "cell_type": "raw",
   "id": "04b5efe4-f784-45ae-8eaa-f8a5cdc4eedb",
   "metadata": {},
   "source": [
    "Example . you have an e mail and you need to clasify it into maila nd spam\n",
    "\n",
    "@   ->   Classifier -> SPAM\n",
    "\n",
    "                    ->  Mail"
   ]
  },
  {
   "cell_type": "markdown",
   "id": "a7686566-999c-4ab9-af44-8b447083f7ed",
   "metadata": {},
   "source": [
    "The goal of classification is to define boundaries into categries  of data.\n",
    "\n",
    "Boundaries decision have been framed to allow you to differentiate between classes of data and classifier any new value.\n",
    "\n",
    "You can go ahead pick your data\n",
    "build your model and classify them as well"
   ]
  },
  {
   "cell_type": "markdown",
   "id": "1dc7d654-2c02-4e40-ae5e-ce3aac9e67fe",
   "metadata": {},
   "source": [
    "Clustering is used in medicals to predict whether a patient is sick or not , it is also used in astrological mission,,,,a set of ...into diferent categories."
   ]
  },
  {
   "cell_type": "markdown",
   "id": "d60ce4c6-0a20-4aea-abca-a78a59af6805",
   "metadata": {},
   "source": [
    "You can use it in machine vision.... making to specify faces, when you use a camera it can identify the faces presenting"
   ]
  },
  {
   "cell_type": "markdown",
   "id": "a21de33f-6462-4151-95e6-2b47f1afe9c8",
   "metadata": {},
   "source": [
    "We will be Implementing both classification and regression techiniques.\n",
    "\n",
    "But first,lets explore the datast w are going to use"
   ]
  },
  {
   "cell_type": "markdown",
   "id": "1cf9c4ca-0bd1-49ec-a504-070c15d84810",
   "metadata": {},
   "source": [
    "#### Dataset"
   ]
  },
  {
   "cell_type": "markdown",
   "id": "caab8380-021e-4b65-a1cf-3706c3f05321",
   "metadata": {},
   "source": [
    "We will be using the iris dataset \n",
    "\n",
    "> This is because the iris dataset consists of 50 samples from 3 species of iris- Iris Setosa, Virginica and Versicolor,\n",
    "\n",
    "> It has four features that were measured from each sample: Length and the width of the sepals and petals, in centimeters."
   ]
  },
  {
   "cell_type": "markdown",
   "id": "4dca26ec-c18f-4cdf-8b1d-7b0b4820c62a",
   "metadata": {},
   "source": [
    "#### Classification"
   ]
  },
  {
   "cell_type": "markdown",
   "id": "e9ea0b75-4eae-40f0-bf72-66146c222f32",
   "metadata": {},
   "source": [
    "Algorithms \n",
    "\n",
    "We have different types of Algorithm\n",
    "\n",
    "             >  Decision Tree\n",
    "    \n",
    "             >  Random Forest\n",
    "        \n",
    "             >  Native Bayes Classifier\n",
    "            \n",
    "             >  Support Vector Machine"
   ]
  },
  {
   "cell_type": "markdown",
   "id": "df11cb18-b540-436a-8371-4b62886c8810",
   "metadata": {},
   "source": [
    "#### Support Vector Machine (SVM)"
   ]
  },
  {
   "cell_type": "markdown",
   "id": "660579ee-938a-4e44-b246-4bf457364ebb",
   "metadata": {},
   "source": [
    "> SVM is a supervised machine learning algorithm which can be used for both classification or regression challenges.\n",
    "\n",
    "In general it is used in classification problems.\n",
    "\n",
    "> It tries to define a hyperplane which can split the  data in the most optimal way."
   ]
  },
  {
   "cell_type": "markdown",
   "id": "112df94a-3df6-4ee4-9b7b-d0ba6064f62c",
   "metadata": {},
   "source": [
    "It defines a hyperplane which is able to segregate data into different categories"
   ]
  },
  {
   "cell_type": "markdown",
   "id": "a648da8e-140f-474b-911e-3aee4866edc6",
   "metadata": {},
   "source": [
    "It is considered as one of the most efficient algorithm in machine learning."
   ]
  },
  {
   "cell_type": "markdown",
   "id": "c83a8ec5-9f39-420b-8075-641a2ffd731b",
   "metadata": {},
   "source": [
    "A hyperplane is just a generalization of a plane.\n",
    "\n",
    "If you talk about a one dimension, a hyper plane is called a point\n",
    "It segregates  your data points into different categories."
   ]
  },
  {
   "cell_type": "markdown",
   "id": "43ef19b6-2758-4e85-be90-c0b60d9631dd",
   "metadata": {
    "tags": []
   },
   "source": [
    "#### SVM Use-Case"
   ]
  },
  {
   "cell_type": "markdown",
   "id": "b76e035f-a548-48d9-975e-6d6f63966f35",
   "metadata": {},
   "source": [
    "We will be looking at the SVM classification of the iris dataset."
   ]
  },
  {
   "cell_type": "markdown",
   "id": "3241d83e-a018-4f77-962b-f075cb46b408",
   "metadata": {},
   "source": [
    "#### Problem Statement"
   ]
  },
  {
   "cell_type": "markdown",
   "id": "dda67ae0-1ccb-4ed1-a8a6-fba5ea538270",
   "metadata": {},
   "source": [
    "Use SVM on the iris dataset and we will create a model which can classify the flowers based on their features. "
   ]
  },
  {
   "cell_type": "markdown",
   "id": "fa30f141-8cf4-4d1a-8fce-8a626854bf57",
   "metadata": {},
   "source": [
    "#### SVM Classifier"
   ]
  },
  {
   "cell_type": "code",
   "execution_count": 236,
   "id": "eefc3268-0c29-44de-a439-f355c1cbc3a3",
   "metadata": {},
   "outputs": [],
   "source": [
    "# filterering warnings\n",
    "import warnings\n",
    "warnings.filterwarnings(\"ignore\")"
   ]
  },
  {
   "cell_type": "markdown",
   "id": "5c6bab2d-1feb-4a6d-8f48-85a0f5e94164",
   "metadata": {},
   "source": [
    "##### Import necessary libraries"
   ]
  },
  {
   "cell_type": "code",
   "execution_count": 237,
   "id": "fa219593-d377-4ed1-bd17-80b789a7051b",
   "metadata": {},
   "outputs": [],
   "source": [
    "from sklearn import svm\n",
    "from sklearn import datasets"
   ]
  },
  {
   "cell_type": "code",
   "execution_count": 238,
   "id": "1b781290-e95b-4b90-8592-9776f82a328c",
   "metadata": {},
   "outputs": [],
   "source": [
    "iris= datasets.load_iris()"
   ]
  },
  {
   "cell_type": "code",
   "execution_count": 239,
   "id": "57851586-e8dc-423d-9716-c479893438a0",
   "metadata": {},
   "outputs": [
    {
     "data": {
      "text/plain": [
       "sklearn.utils.Bunch"
      ]
     },
     "execution_count": 239,
     "metadata": {},
     "output_type": "execute_result"
    }
   ],
   "source": [
    "type(iris)"
   ]
  },
  {
   "cell_type": "code",
   "execution_count": 240,
   "id": "e034caea-9964-4847-936a-4044e3bd26b0",
   "metadata": {
    "collapsed": true,
    "jupyter": {
     "outputs_hidden": true
    },
    "tags": []
   },
   "outputs": [
    {
     "data": {
      "text/plain": [
       "array([[5.1, 3.5, 1.4, 0.2],\n",
       "       [4.9, 3. , 1.4, 0.2],\n",
       "       [4.7, 3.2, 1.3, 0.2],\n",
       "       [4.6, 3.1, 1.5, 0.2],\n",
       "       [5. , 3.6, 1.4, 0.2],\n",
       "       [5.4, 3.9, 1.7, 0.4],\n",
       "       [4.6, 3.4, 1.4, 0.3],\n",
       "       [5. , 3.4, 1.5, 0.2],\n",
       "       [4.4, 2.9, 1.4, 0.2],\n",
       "       [4.9, 3.1, 1.5, 0.1],\n",
       "       [5.4, 3.7, 1.5, 0.2],\n",
       "       [4.8, 3.4, 1.6, 0.2],\n",
       "       [4.8, 3. , 1.4, 0.1],\n",
       "       [4.3, 3. , 1.1, 0.1],\n",
       "       [5.8, 4. , 1.2, 0.2],\n",
       "       [5.7, 4.4, 1.5, 0.4],\n",
       "       [5.4, 3.9, 1.3, 0.4],\n",
       "       [5.1, 3.5, 1.4, 0.3],\n",
       "       [5.7, 3.8, 1.7, 0.3],\n",
       "       [5.1, 3.8, 1.5, 0.3],\n",
       "       [5.4, 3.4, 1.7, 0.2],\n",
       "       [5.1, 3.7, 1.5, 0.4],\n",
       "       [4.6, 3.6, 1. , 0.2],\n",
       "       [5.1, 3.3, 1.7, 0.5],\n",
       "       [4.8, 3.4, 1.9, 0.2],\n",
       "       [5. , 3. , 1.6, 0.2],\n",
       "       [5. , 3.4, 1.6, 0.4],\n",
       "       [5.2, 3.5, 1.5, 0.2],\n",
       "       [5.2, 3.4, 1.4, 0.2],\n",
       "       [4.7, 3.2, 1.6, 0.2],\n",
       "       [4.8, 3.1, 1.6, 0.2],\n",
       "       [5.4, 3.4, 1.5, 0.4],\n",
       "       [5.2, 4.1, 1.5, 0.1],\n",
       "       [5.5, 4.2, 1.4, 0.2],\n",
       "       [4.9, 3.1, 1.5, 0.2],\n",
       "       [5. , 3.2, 1.2, 0.2],\n",
       "       [5.5, 3.5, 1.3, 0.2],\n",
       "       [4.9, 3.6, 1.4, 0.1],\n",
       "       [4.4, 3. , 1.3, 0.2],\n",
       "       [5.1, 3.4, 1.5, 0.2],\n",
       "       [5. , 3.5, 1.3, 0.3],\n",
       "       [4.5, 2.3, 1.3, 0.3],\n",
       "       [4.4, 3.2, 1.3, 0.2],\n",
       "       [5. , 3.5, 1.6, 0.6],\n",
       "       [5.1, 3.8, 1.9, 0.4],\n",
       "       [4.8, 3. , 1.4, 0.3],\n",
       "       [5.1, 3.8, 1.6, 0.2],\n",
       "       [4.6, 3.2, 1.4, 0.2],\n",
       "       [5.3, 3.7, 1.5, 0.2],\n",
       "       [5. , 3.3, 1.4, 0.2],\n",
       "       [7. , 3.2, 4.7, 1.4],\n",
       "       [6.4, 3.2, 4.5, 1.5],\n",
       "       [6.9, 3.1, 4.9, 1.5],\n",
       "       [5.5, 2.3, 4. , 1.3],\n",
       "       [6.5, 2.8, 4.6, 1.5],\n",
       "       [5.7, 2.8, 4.5, 1.3],\n",
       "       [6.3, 3.3, 4.7, 1.6],\n",
       "       [4.9, 2.4, 3.3, 1. ],\n",
       "       [6.6, 2.9, 4.6, 1.3],\n",
       "       [5.2, 2.7, 3.9, 1.4],\n",
       "       [5. , 2. , 3.5, 1. ],\n",
       "       [5.9, 3. , 4.2, 1.5],\n",
       "       [6. , 2.2, 4. , 1. ],\n",
       "       [6.1, 2.9, 4.7, 1.4],\n",
       "       [5.6, 2.9, 3.6, 1.3],\n",
       "       [6.7, 3.1, 4.4, 1.4],\n",
       "       [5.6, 3. , 4.5, 1.5],\n",
       "       [5.8, 2.7, 4.1, 1. ],\n",
       "       [6.2, 2.2, 4.5, 1.5],\n",
       "       [5.6, 2.5, 3.9, 1.1],\n",
       "       [5.9, 3.2, 4.8, 1.8],\n",
       "       [6.1, 2.8, 4. , 1.3],\n",
       "       [6.3, 2.5, 4.9, 1.5],\n",
       "       [6.1, 2.8, 4.7, 1.2],\n",
       "       [6.4, 2.9, 4.3, 1.3],\n",
       "       [6.6, 3. , 4.4, 1.4],\n",
       "       [6.8, 2.8, 4.8, 1.4],\n",
       "       [6.7, 3. , 5. , 1.7],\n",
       "       [6. , 2.9, 4.5, 1.5],\n",
       "       [5.7, 2.6, 3.5, 1. ],\n",
       "       [5.5, 2.4, 3.8, 1.1],\n",
       "       [5.5, 2.4, 3.7, 1. ],\n",
       "       [5.8, 2.7, 3.9, 1.2],\n",
       "       [6. , 2.7, 5.1, 1.6],\n",
       "       [5.4, 3. , 4.5, 1.5],\n",
       "       [6. , 3.4, 4.5, 1.6],\n",
       "       [6.7, 3.1, 4.7, 1.5],\n",
       "       [6.3, 2.3, 4.4, 1.3],\n",
       "       [5.6, 3. , 4.1, 1.3],\n",
       "       [5.5, 2.5, 4. , 1.3],\n",
       "       [5.5, 2.6, 4.4, 1.2],\n",
       "       [6.1, 3. , 4.6, 1.4],\n",
       "       [5.8, 2.6, 4. , 1.2],\n",
       "       [5. , 2.3, 3.3, 1. ],\n",
       "       [5.6, 2.7, 4.2, 1.3],\n",
       "       [5.7, 3. , 4.2, 1.2],\n",
       "       [5.7, 2.9, 4.2, 1.3],\n",
       "       [6.2, 2.9, 4.3, 1.3],\n",
       "       [5.1, 2.5, 3. , 1.1],\n",
       "       [5.7, 2.8, 4.1, 1.3],\n",
       "       [6.3, 3.3, 6. , 2.5],\n",
       "       [5.8, 2.7, 5.1, 1.9],\n",
       "       [7.1, 3. , 5.9, 2.1],\n",
       "       [6.3, 2.9, 5.6, 1.8],\n",
       "       [6.5, 3. , 5.8, 2.2],\n",
       "       [7.6, 3. , 6.6, 2.1],\n",
       "       [4.9, 2.5, 4.5, 1.7],\n",
       "       [7.3, 2.9, 6.3, 1.8],\n",
       "       [6.7, 2.5, 5.8, 1.8],\n",
       "       [7.2, 3.6, 6.1, 2.5],\n",
       "       [6.5, 3.2, 5.1, 2. ],\n",
       "       [6.4, 2.7, 5.3, 1.9],\n",
       "       [6.8, 3. , 5.5, 2.1],\n",
       "       [5.7, 2.5, 5. , 2. ],\n",
       "       [5.8, 2.8, 5.1, 2.4],\n",
       "       [6.4, 3.2, 5.3, 2.3],\n",
       "       [6.5, 3. , 5.5, 1.8],\n",
       "       [7.7, 3.8, 6.7, 2.2],\n",
       "       [7.7, 2.6, 6.9, 2.3],\n",
       "       [6. , 2.2, 5. , 1.5],\n",
       "       [6.9, 3.2, 5.7, 2.3],\n",
       "       [5.6, 2.8, 4.9, 2. ],\n",
       "       [7.7, 2.8, 6.7, 2. ],\n",
       "       [6.3, 2.7, 4.9, 1.8],\n",
       "       [6.7, 3.3, 5.7, 2.1],\n",
       "       [7.2, 3.2, 6. , 1.8],\n",
       "       [6.2, 2.8, 4.8, 1.8],\n",
       "       [6.1, 3. , 4.9, 1.8],\n",
       "       [6.4, 2.8, 5.6, 2.1],\n",
       "       [7.2, 3. , 5.8, 1.6],\n",
       "       [7.4, 2.8, 6.1, 1.9],\n",
       "       [7.9, 3.8, 6.4, 2. ],\n",
       "       [6.4, 2.8, 5.6, 2.2],\n",
       "       [6.3, 2.8, 5.1, 1.5],\n",
       "       [6.1, 2.6, 5.6, 1.4],\n",
       "       [7.7, 3. , 6.1, 2.3],\n",
       "       [6.3, 3.4, 5.6, 2.4],\n",
       "       [6.4, 3.1, 5.5, 1.8],\n",
       "       [6. , 3. , 4.8, 1.8],\n",
       "       [6.9, 3.1, 5.4, 2.1],\n",
       "       [6.7, 3.1, 5.6, 2.4],\n",
       "       [6.9, 3.1, 5.1, 2.3],\n",
       "       [5.8, 2.7, 5.1, 1.9],\n",
       "       [6.8, 3.2, 5.9, 2.3],\n",
       "       [6.7, 3.3, 5.7, 2.5],\n",
       "       [6.7, 3. , 5.2, 2.3],\n",
       "       [6.3, 2.5, 5. , 1.9],\n",
       "       [6.5, 3. , 5.2, 2. ],\n",
       "       [6.2, 3.4, 5.4, 2.3],\n",
       "       [5.9, 3. , 5.1, 1.8]])"
      ]
     },
     "execution_count": 240,
     "metadata": {},
     "output_type": "execute_result"
    }
   ],
   "source": [
    "iris.data # showing specification of flowers"
   ]
  },
  {
   "cell_type": "code",
   "execution_count": 241,
   "id": "2e1b51a8-3ac8-49bd-b6bc-b724dc4973fd",
   "metadata": {},
   "outputs": [
    {
     "data": {
      "text/plain": [
       "['sepal length (cm)',\n",
       " 'sepal width (cm)',\n",
       " 'petal length (cm)',\n",
       " 'petal width (cm)']"
      ]
     },
     "execution_count": 241,
     "metadata": {},
     "output_type": "execute_result"
    }
   ],
   "source": [
    "iris.feature_names # to know the names of the features"
   ]
  },
  {
   "cell_type": "code",
   "execution_count": 242,
   "id": "468d0488-1055-4926-9cc8-923bcb25e417",
   "metadata": {
    "tags": []
   },
   "outputs": [
    {
     "data": {
      "text/plain": [
       "array([0, 0, 0, 0, 0, 0, 0, 0, 0, 0, 0, 0, 0, 0, 0, 0, 0, 0, 0, 0, 0, 0,\n",
       "       0, 0, 0, 0, 0, 0, 0, 0, 0, 0, 0, 0, 0, 0, 0, 0, 0, 0, 0, 0, 0, 0,\n",
       "       0, 0, 0, 0, 0, 0, 1, 1, 1, 1, 1, 1, 1, 1, 1, 1, 1, 1, 1, 1, 1, 1,\n",
       "       1, 1, 1, 1, 1, 1, 1, 1, 1, 1, 1, 1, 1, 1, 1, 1, 1, 1, 1, 1, 1, 1,\n",
       "       1, 1, 1, 1, 1, 1, 1, 1, 1, 1, 1, 1, 2, 2, 2, 2, 2, 2, 2, 2, 2, 2,\n",
       "       2, 2, 2, 2, 2, 2, 2, 2, 2, 2, 2, 2, 2, 2, 2, 2, 2, 2, 2, 2, 2, 2,\n",
       "       2, 2, 2, 2, 2, 2, 2, 2, 2, 2, 2, 2, 2, 2, 2, 2, 2, 2])"
      ]
     },
     "execution_count": 242,
     "metadata": {},
     "output_type": "execute_result"
    }
   ],
   "source": [
    "iris.target "
   ]
  },
  {
   "cell_type": "markdown",
   "id": "82260222-8df8-4712-b21c-ea7d7550c71e",
   "metadata": {},
   "source": [
    "To target is what we are going to predict, we have 0,1,2 .\n",
    "\n",
    "o represents setosa\n",
    "1 stands for versicolor\n",
    "2 stands for virginica"
   ]
  },
  {
   "cell_type": "code",
   "execution_count": 174,
   "id": "f222ccdf-c33c-4c43-8309-bbd54de764f1",
   "metadata": {},
   "outputs": [
    {
     "data": {
      "text/plain": [
       "array(['setosa', 'versicolor', 'virginica'], dtype='<U10')"
      ]
     },
     "execution_count": 174,
     "metadata": {},
     "output_type": "execute_result"
    }
   ],
   "source": [
    "iris.target_names"
   ]
  },
  {
   "cell_type": "raw",
   "id": "7181c60d-8b43-4ea5-9be0-84dd373cd7de",
   "metadata": {},
   "source": [
    "Next thing to do is to create an ...array for storing our dependent and independent variable"
   ]
  },
  {
   "cell_type": "code",
   "execution_count": 243,
   "id": "07286a80-f9e6-4e3b-bb1f-71f8e4340299",
   "metadata": {},
   "outputs": [],
   "source": [
    "x= iris.data[:,2] #dependent variable"
   ]
  },
  {
   "cell_type": "code",
   "execution_count": 244,
   "id": "85271a01-4064-4f50-be35-399a4461c008",
   "metadata": {},
   "outputs": [],
   "source": [
    "y= iris.target  # Independent variable\n",
    "                #Target the specie we need to create"
   ]
  },
  {
   "cell_type": "raw",
   "id": "dd0c1a9b-9af4-45f2-a2a0-5eb230377ef2",
   "metadata": {},
   "source": [
    "The dataset attribute is stored in the independent variable y,\n",
    "\n",
    "We need to specify it , ie is it verginca,setosa or versicolor\n",
    "\n",
    "then we need to  split the data into two. Training and test using the train test split,\n",
    "from sklearn.cross_validation import train_test_split\n",
    " \n",
    "Note it has been replaced with \n",
    "\n",
    "from sklearn.model_selection import train_test_split\n",
    "\n",
    "Then  define your model \n",
    "model = svm.SVC.kernel='linear')\n",
    "\n",
    "kernel is used to fit your model\n",
    "the main function of kernel is to take low dimensional imput space and transform it to high dimensional input space.\n",
    "\n",
    "then fit your model and passs in your parameters (X,y train)\n"
   ]
  },
  {
   "cell_type": "code",
   "execution_count": 245,
   "id": "4666934e-3e03-4fdf-b108-3677ca0978ec",
   "metadata": {},
   "outputs": [],
   "source": [
    "from sklearn.model_selection import train_test_split\n"
   ]
  },
  {
   "cell_type": "code",
   "execution_count": 246,
   "id": "c1e5a8dd-e1a7-41e0-88d1-348934b4bce2",
   "metadata": {},
   "outputs": [
    {
     "ename": "ValueError",
     "evalue": "Found input variables with inconsistent numbers of samples: [16, 150]",
     "output_type": "error",
     "traceback": [
      "\u001b[1;31m---------------------------------------------------------------------------\u001b[0m",
      "\u001b[1;31mValueError\u001b[0m                                Traceback (most recent call last)",
      "\u001b[1;32m~\\AppData\\Local\\Temp/ipykernel_14048/3654747213.py\u001b[0m in \u001b[0;36m<module>\u001b[1;34m\u001b[0m\n\u001b[1;32m----> 1\u001b[1;33m \u001b[0mX_train\u001b[0m\u001b[1;33m,\u001b[0m \u001b[0mX_test\u001b[0m\u001b[1;33m,\u001b[0m \u001b[0my_train\u001b[0m\u001b[1;33m,\u001b[0m \u001b[0my_test\u001b[0m\u001b[1;33m=\u001b[0m \u001b[0mtrain_test_split\u001b[0m\u001b[1;33m(\u001b[0m\u001b[0mX\u001b[0m\u001b[1;33m,\u001b[0m\u001b[0my\u001b[0m\u001b[1;33m,\u001b[0m \u001b[0mtest_size\u001b[0m\u001b[1;33m=\u001b[0m\u001b[1;36m0.2\u001b[0m\u001b[1;33m,\u001b[0m \u001b[0mrandom_state\u001b[0m\u001b[1;33m=\u001b[0m\u001b[1;36m4\u001b[0m\u001b[1;33m)\u001b[0m\u001b[1;33m\u001b[0m\u001b[1;33m\u001b[0m\u001b[0m\n\u001b[0m",
      "\u001b[1;32m~\\anaconda3\\lib\\site-packages\\sklearn\\model_selection\\_split.py\u001b[0m in \u001b[0;36mtrain_test_split\u001b[1;34m(test_size, train_size, random_state, shuffle, stratify, *arrays)\u001b[0m\n\u001b[0;32m   2170\u001b[0m         \u001b[1;32mraise\u001b[0m \u001b[0mValueError\u001b[0m\u001b[1;33m(\u001b[0m\u001b[1;34m\"At least one array required as input\"\u001b[0m\u001b[1;33m)\u001b[0m\u001b[1;33m\u001b[0m\u001b[1;33m\u001b[0m\u001b[0m\n\u001b[0;32m   2171\u001b[0m \u001b[1;33m\u001b[0m\u001b[0m\n\u001b[1;32m-> 2172\u001b[1;33m     \u001b[0marrays\u001b[0m \u001b[1;33m=\u001b[0m \u001b[0mindexable\u001b[0m\u001b[1;33m(\u001b[0m\u001b[1;33m*\u001b[0m\u001b[0marrays\u001b[0m\u001b[1;33m)\u001b[0m\u001b[1;33m\u001b[0m\u001b[1;33m\u001b[0m\u001b[0m\n\u001b[0m\u001b[0;32m   2173\u001b[0m \u001b[1;33m\u001b[0m\u001b[0m\n\u001b[0;32m   2174\u001b[0m     \u001b[0mn_samples\u001b[0m \u001b[1;33m=\u001b[0m \u001b[0m_num_samples\u001b[0m\u001b[1;33m(\u001b[0m\u001b[0marrays\u001b[0m\u001b[1;33m[\u001b[0m\u001b[1;36m0\u001b[0m\u001b[1;33m]\u001b[0m\u001b[1;33m)\u001b[0m\u001b[1;33m\u001b[0m\u001b[1;33m\u001b[0m\u001b[0m\n",
      "\u001b[1;32m~\\anaconda3\\lib\\site-packages\\sklearn\\utils\\validation.py\u001b[0m in \u001b[0;36mindexable\u001b[1;34m(*iterables)\u001b[0m\n\u001b[0;32m    354\u001b[0m     \"\"\"\n\u001b[0;32m    355\u001b[0m     \u001b[0mresult\u001b[0m \u001b[1;33m=\u001b[0m \u001b[1;33m[\u001b[0m\u001b[0m_make_indexable\u001b[0m\u001b[1;33m(\u001b[0m\u001b[0mX\u001b[0m\u001b[1;33m)\u001b[0m \u001b[1;32mfor\u001b[0m \u001b[0mX\u001b[0m \u001b[1;32min\u001b[0m \u001b[0miterables\u001b[0m\u001b[1;33m]\u001b[0m\u001b[1;33m\u001b[0m\u001b[1;33m\u001b[0m\u001b[0m\n\u001b[1;32m--> 356\u001b[1;33m     \u001b[0mcheck_consistent_length\u001b[0m\u001b[1;33m(\u001b[0m\u001b[1;33m*\u001b[0m\u001b[0mresult\u001b[0m\u001b[1;33m)\u001b[0m\u001b[1;33m\u001b[0m\u001b[1;33m\u001b[0m\u001b[0m\n\u001b[0m\u001b[0;32m    357\u001b[0m     \u001b[1;32mreturn\u001b[0m \u001b[0mresult\u001b[0m\u001b[1;33m\u001b[0m\u001b[1;33m\u001b[0m\u001b[0m\n\u001b[0;32m    358\u001b[0m \u001b[1;33m\u001b[0m\u001b[0m\n",
      "\u001b[1;32m~\\anaconda3\\lib\\site-packages\\sklearn\\utils\\validation.py\u001b[0m in \u001b[0;36mcheck_consistent_length\u001b[1;34m(*arrays)\u001b[0m\n\u001b[0;32m    317\u001b[0m     \u001b[0muniques\u001b[0m \u001b[1;33m=\u001b[0m \u001b[0mnp\u001b[0m\u001b[1;33m.\u001b[0m\u001b[0munique\u001b[0m\u001b[1;33m(\u001b[0m\u001b[0mlengths\u001b[0m\u001b[1;33m)\u001b[0m\u001b[1;33m\u001b[0m\u001b[1;33m\u001b[0m\u001b[0m\n\u001b[0;32m    318\u001b[0m     \u001b[1;32mif\u001b[0m \u001b[0mlen\u001b[0m\u001b[1;33m(\u001b[0m\u001b[0muniques\u001b[0m\u001b[1;33m)\u001b[0m \u001b[1;33m>\u001b[0m \u001b[1;36m1\u001b[0m\u001b[1;33m:\u001b[0m\u001b[1;33m\u001b[0m\u001b[1;33m\u001b[0m\u001b[0m\n\u001b[1;32m--> 319\u001b[1;33m         raise ValueError(\"Found input variables with inconsistent numbers of\"\n\u001b[0m\u001b[0;32m    320\u001b[0m                          \" samples: %r\" % [int(l) for l in lengths])\n\u001b[0;32m    321\u001b[0m \u001b[1;33m\u001b[0m\u001b[0m\n",
      "\u001b[1;31mValueError\u001b[0m: Found input variables with inconsistent numbers of samples: [16, 150]"
     ]
    }
   ],
   "source": [
    "X_train, X_test, y_train, y_test= train_test_split(X,y, test_size=0.2, random_state=4)"
   ]
  },
  {
   "cell_type": "markdown",
   "id": "8d944583-5640-4a83-ad6e-81c15c5489cf",
   "metadata": {},
   "source": [
    "Random state helps you to get the number you already set for your code each time you run it\n",
    "\n",
    "\n",
    "C and gamma  hyper paramters and are used to train the most optimal support vector machine especially the rdf kernel.\n",
    "\n",
    "C is a regularization parameter. it helps you to achieve low training error .\n",
    "\n",
    "when C is large regularization will be small and system is close to over fitting."
   ]
  },
  {
   "cell_type": "code",
   "execution_count": 187,
   "id": "23928d6a-087c-4a37-b967-edfb6df074af",
   "metadata": {},
   "outputs": [],
   "source": [
    "X_train_mod = X_train.reshape(-1,1) #convert to one dimension"
   ]
  },
  {
   "cell_type": "code",
   "execution_count": 181,
   "id": "88678b1c-d7cd-4575-b176-a3357752317f",
   "metadata": {},
   "outputs": [],
   "source": [
    "X_test_mod = X_test.reshape(-1,1)"
   ]
  },
  {
   "cell_type": "code",
   "execution_count": 182,
   "id": "68f1f470-1a85-4648-bda7-d3aa32b9f388",
   "metadata": {},
   "outputs": [],
   "source": [
    "y_train_mod = y_train.reshape(-1,1)"
   ]
  },
  {
   "cell_type": "code",
   "execution_count": 183,
   "id": "63f9b4e1-2ee9-49d0-973f-f65ef79951a3",
   "metadata": {},
   "outputs": [],
   "source": [
    "y_test_mod = y_test.reshape(-1,1)"
   ]
  },
  {
   "cell_type": "markdown",
   "id": "eec1f36d-463a-424a-88d1-6a7146efd5c2",
   "metadata": {},
   "source": [
    "Convert your model into one dimension and use the SVM model to call it"
   ]
  },
  {
   "cell_type": "code",
   "execution_count": 184,
   "id": "5c031f54-2510-4150-bed7-9e515d9a2713",
   "metadata": {},
   "outputs": [],
   "source": [
    "model= svm.SVC(kernel='linear')"
   ]
  },
  {
   "cell_type": "code",
   "execution_count": 185,
   "id": "709db49c-99b6-446f-b25e-e12fb70ba479",
   "metadata": {},
   "outputs": [
    {
     "name": "stderr",
     "output_type": "stream",
     "text": [
      "C:\\Users\\user\\anaconda3\\lib\\site-packages\\sklearn\\utils\\validation.py:63: DataConversionWarning: A column-vector y was passed when a 1d array was expected. Please change the shape of y to (n_samples, ), for example using ravel().\n",
      "  return f(*args, **kwargs)\n"
     ]
    },
    {
     "ename": "ValueError",
     "evalue": "Found input variables with inconsistent numbers of samples: [480, 120]",
     "output_type": "error",
     "traceback": [
      "\u001b[1;31m---------------------------------------------------------------------------\u001b[0m",
      "\u001b[1;31mValueError\u001b[0m                                Traceback (most recent call last)",
      "\u001b[1;32m~\\AppData\\Local\\Temp/ipykernel_14048/3547345390.py\u001b[0m in \u001b[0;36m<module>\u001b[1;34m\u001b[0m\n\u001b[1;32m----> 1\u001b[1;33m \u001b[0mmodel\u001b[0m\u001b[1;33m.\u001b[0m\u001b[0mfit\u001b[0m\u001b[1;33m(\u001b[0m\u001b[0mX_train_mod\u001b[0m\u001b[1;33m,\u001b[0m \u001b[0my_train_mod\u001b[0m\u001b[1;33m)\u001b[0m\u001b[1;33m\u001b[0m\u001b[1;33m\u001b[0m\u001b[0m\n\u001b[0m",
      "\u001b[1;32m~\\anaconda3\\lib\\site-packages\\sklearn\\svm\\_base.py\u001b[0m in \u001b[0;36mfit\u001b[1;34m(self, X, y, sample_weight)\u001b[0m\n\u001b[0;32m    167\u001b[0m             \u001b[0mcheck_consistent_length\u001b[0m\u001b[1;33m(\u001b[0m\u001b[0mX\u001b[0m\u001b[1;33m,\u001b[0m \u001b[0my\u001b[0m\u001b[1;33m)\u001b[0m\u001b[1;33m\u001b[0m\u001b[1;33m\u001b[0m\u001b[0m\n\u001b[0;32m    168\u001b[0m         \u001b[1;32melse\u001b[0m\u001b[1;33m:\u001b[0m\u001b[1;33m\u001b[0m\u001b[1;33m\u001b[0m\u001b[0m\n\u001b[1;32m--> 169\u001b[1;33m             X, y = self._validate_data(X, y, dtype=np.float64,\n\u001b[0m\u001b[0;32m    170\u001b[0m                                        \u001b[0morder\u001b[0m\u001b[1;33m=\u001b[0m\u001b[1;34m'C'\u001b[0m\u001b[1;33m,\u001b[0m \u001b[0maccept_sparse\u001b[0m\u001b[1;33m=\u001b[0m\u001b[1;34m'csr'\u001b[0m\u001b[1;33m,\u001b[0m\u001b[1;33m\u001b[0m\u001b[1;33m\u001b[0m\u001b[0m\n\u001b[0;32m    171\u001b[0m                                        accept_large_sparse=False)\n",
      "\u001b[1;32m~\\anaconda3\\lib\\site-packages\\sklearn\\base.py\u001b[0m in \u001b[0;36m_validate_data\u001b[1;34m(self, X, y, reset, validate_separately, **check_params)\u001b[0m\n\u001b[0;32m    431\u001b[0m                 \u001b[0my\u001b[0m \u001b[1;33m=\u001b[0m \u001b[0mcheck_array\u001b[0m\u001b[1;33m(\u001b[0m\u001b[0my\u001b[0m\u001b[1;33m,\u001b[0m \u001b[1;33m**\u001b[0m\u001b[0mcheck_y_params\u001b[0m\u001b[1;33m)\u001b[0m\u001b[1;33m\u001b[0m\u001b[1;33m\u001b[0m\u001b[0m\n\u001b[0;32m    432\u001b[0m             \u001b[1;32melse\u001b[0m\u001b[1;33m:\u001b[0m\u001b[1;33m\u001b[0m\u001b[1;33m\u001b[0m\u001b[0m\n\u001b[1;32m--> 433\u001b[1;33m                 \u001b[0mX\u001b[0m\u001b[1;33m,\u001b[0m \u001b[0my\u001b[0m \u001b[1;33m=\u001b[0m \u001b[0mcheck_X_y\u001b[0m\u001b[1;33m(\u001b[0m\u001b[0mX\u001b[0m\u001b[1;33m,\u001b[0m \u001b[0my\u001b[0m\u001b[1;33m,\u001b[0m \u001b[1;33m**\u001b[0m\u001b[0mcheck_params\u001b[0m\u001b[1;33m)\u001b[0m\u001b[1;33m\u001b[0m\u001b[1;33m\u001b[0m\u001b[0m\n\u001b[0m\u001b[0;32m    434\u001b[0m             \u001b[0mout\u001b[0m \u001b[1;33m=\u001b[0m \u001b[0mX\u001b[0m\u001b[1;33m,\u001b[0m \u001b[0my\u001b[0m\u001b[1;33m\u001b[0m\u001b[1;33m\u001b[0m\u001b[0m\n\u001b[0;32m    435\u001b[0m \u001b[1;33m\u001b[0m\u001b[0m\n",
      "\u001b[1;32m~\\anaconda3\\lib\\site-packages\\sklearn\\utils\\validation.py\u001b[0m in \u001b[0;36minner_f\u001b[1;34m(*args, **kwargs)\u001b[0m\n\u001b[0;32m     61\u001b[0m             \u001b[0mextra_args\u001b[0m \u001b[1;33m=\u001b[0m \u001b[0mlen\u001b[0m\u001b[1;33m(\u001b[0m\u001b[0margs\u001b[0m\u001b[1;33m)\u001b[0m \u001b[1;33m-\u001b[0m \u001b[0mlen\u001b[0m\u001b[1;33m(\u001b[0m\u001b[0mall_args\u001b[0m\u001b[1;33m)\u001b[0m\u001b[1;33m\u001b[0m\u001b[1;33m\u001b[0m\u001b[0m\n\u001b[0;32m     62\u001b[0m             \u001b[1;32mif\u001b[0m \u001b[0mextra_args\u001b[0m \u001b[1;33m<=\u001b[0m \u001b[1;36m0\u001b[0m\u001b[1;33m:\u001b[0m\u001b[1;33m\u001b[0m\u001b[1;33m\u001b[0m\u001b[0m\n\u001b[1;32m---> 63\u001b[1;33m                 \u001b[1;32mreturn\u001b[0m \u001b[0mf\u001b[0m\u001b[1;33m(\u001b[0m\u001b[1;33m*\u001b[0m\u001b[0margs\u001b[0m\u001b[1;33m,\u001b[0m \u001b[1;33m**\u001b[0m\u001b[0mkwargs\u001b[0m\u001b[1;33m)\u001b[0m\u001b[1;33m\u001b[0m\u001b[1;33m\u001b[0m\u001b[0m\n\u001b[0m\u001b[0;32m     64\u001b[0m \u001b[1;33m\u001b[0m\u001b[0m\n\u001b[0;32m     65\u001b[0m             \u001b[1;31m# extra_args > 0\u001b[0m\u001b[1;33m\u001b[0m\u001b[1;33m\u001b[0m\u001b[0m\n",
      "\u001b[1;32m~\\anaconda3\\lib\\site-packages\\sklearn\\utils\\validation.py\u001b[0m in \u001b[0;36mcheck_X_y\u001b[1;34m(X, y, accept_sparse, accept_large_sparse, dtype, order, copy, force_all_finite, ensure_2d, allow_nd, multi_output, ensure_min_samples, ensure_min_features, y_numeric, estimator)\u001b[0m\n\u001b[0;32m    886\u001b[0m         \u001b[0my\u001b[0m \u001b[1;33m=\u001b[0m \u001b[0my\u001b[0m\u001b[1;33m.\u001b[0m\u001b[0mastype\u001b[0m\u001b[1;33m(\u001b[0m\u001b[0mnp\u001b[0m\u001b[1;33m.\u001b[0m\u001b[0mfloat64\u001b[0m\u001b[1;33m)\u001b[0m\u001b[1;33m\u001b[0m\u001b[1;33m\u001b[0m\u001b[0m\n\u001b[0;32m    887\u001b[0m \u001b[1;33m\u001b[0m\u001b[0m\n\u001b[1;32m--> 888\u001b[1;33m     \u001b[0mcheck_consistent_length\u001b[0m\u001b[1;33m(\u001b[0m\u001b[0mX\u001b[0m\u001b[1;33m,\u001b[0m \u001b[0my\u001b[0m\u001b[1;33m)\u001b[0m\u001b[1;33m\u001b[0m\u001b[1;33m\u001b[0m\u001b[0m\n\u001b[0m\u001b[0;32m    889\u001b[0m \u001b[1;33m\u001b[0m\u001b[0m\n\u001b[0;32m    890\u001b[0m     \u001b[1;32mreturn\u001b[0m \u001b[0mX\u001b[0m\u001b[1;33m,\u001b[0m \u001b[0my\u001b[0m\u001b[1;33m\u001b[0m\u001b[1;33m\u001b[0m\u001b[0m\n",
      "\u001b[1;32m~\\anaconda3\\lib\\site-packages\\sklearn\\utils\\validation.py\u001b[0m in \u001b[0;36mcheck_consistent_length\u001b[1;34m(*arrays)\u001b[0m\n\u001b[0;32m    317\u001b[0m     \u001b[0muniques\u001b[0m \u001b[1;33m=\u001b[0m \u001b[0mnp\u001b[0m\u001b[1;33m.\u001b[0m\u001b[0munique\u001b[0m\u001b[1;33m(\u001b[0m\u001b[0mlengths\u001b[0m\u001b[1;33m)\u001b[0m\u001b[1;33m\u001b[0m\u001b[1;33m\u001b[0m\u001b[0m\n\u001b[0;32m    318\u001b[0m     \u001b[1;32mif\u001b[0m \u001b[0mlen\u001b[0m\u001b[1;33m(\u001b[0m\u001b[0muniques\u001b[0m\u001b[1;33m)\u001b[0m \u001b[1;33m>\u001b[0m \u001b[1;36m1\u001b[0m\u001b[1;33m:\u001b[0m\u001b[1;33m\u001b[0m\u001b[1;33m\u001b[0m\u001b[0m\n\u001b[1;32m--> 319\u001b[1;33m         raise ValueError(\"Found input variables with inconsistent numbers of\"\n\u001b[0m\u001b[0;32m    320\u001b[0m                          \" samples: %r\" % [int(l) for l in lengths])\n\u001b[0;32m    321\u001b[0m \u001b[1;33m\u001b[0m\u001b[0m\n",
      "\u001b[1;31mValueError\u001b[0m: Found input variables with inconsistent numbers of samples: [480, 120]"
     ]
    }
   ],
   "source": [
    "model.fit(X_train_mod, y_train_mod)"
   ]
  },
  {
   "cell_type": "code",
   "execution_count": 186,
   "id": "a71c6123-f9c2-4391-bcd2-82a0bf7fd179",
   "metadata": {},
   "outputs": [
    {
     "ename": "NotFittedError",
     "evalue": "This SVC instance is not fitted yet. Call 'fit' with appropriate arguments before using this estimator.",
     "output_type": "error",
     "traceback": [
      "\u001b[1;31m---------------------------------------------------------------------------\u001b[0m",
      "\u001b[1;31mNotFittedError\u001b[0m                            Traceback (most recent call last)",
      "\u001b[1;32m~\\AppData\\Local\\Temp/ipykernel_14048/1870987666.py\u001b[0m in \u001b[0;36m<module>\u001b[1;34m\u001b[0m\n\u001b[1;32m----> 1\u001b[1;33m \u001b[0my_pred_mod\u001b[0m \u001b[1;33m=\u001b[0m \u001b[0mmodel\u001b[0m\u001b[1;33m.\u001b[0m\u001b[0mpredict\u001b[0m\u001b[1;33m(\u001b[0m\u001b[0mX_test_mod\u001b[0m\u001b[1;33m)\u001b[0m\u001b[1;33m\u001b[0m\u001b[1;33m\u001b[0m\u001b[0m\n\u001b[0m",
      "\u001b[1;32m~\\anaconda3\\lib\\site-packages\\sklearn\\svm\\_base.py\u001b[0m in \u001b[0;36mpredict\u001b[1;34m(self, X)\u001b[0m\n\u001b[0;32m    612\u001b[0m             \u001b[0mClass\u001b[0m \u001b[0mlabels\u001b[0m \u001b[1;32mfor\u001b[0m \u001b[0msamples\u001b[0m \u001b[1;32min\u001b[0m \u001b[0mX\u001b[0m\u001b[1;33m.\u001b[0m\u001b[1;33m\u001b[0m\u001b[1;33m\u001b[0m\u001b[0m\n\u001b[0;32m    613\u001b[0m         \"\"\"\n\u001b[1;32m--> 614\u001b[1;33m         \u001b[0mcheck_is_fitted\u001b[0m\u001b[1;33m(\u001b[0m\u001b[0mself\u001b[0m\u001b[1;33m)\u001b[0m\u001b[1;33m\u001b[0m\u001b[1;33m\u001b[0m\u001b[0m\n\u001b[0m\u001b[0;32m    615\u001b[0m         \u001b[1;32mif\u001b[0m \u001b[0mself\u001b[0m\u001b[1;33m.\u001b[0m\u001b[0mbreak_ties\u001b[0m \u001b[1;32mand\u001b[0m \u001b[0mself\u001b[0m\u001b[1;33m.\u001b[0m\u001b[0mdecision_function_shape\u001b[0m \u001b[1;33m==\u001b[0m \u001b[1;34m'ovo'\u001b[0m\u001b[1;33m:\u001b[0m\u001b[1;33m\u001b[0m\u001b[1;33m\u001b[0m\u001b[0m\n\u001b[0;32m    616\u001b[0m             raise ValueError(\"break_ties must be False when \"\n",
      "\u001b[1;32m~\\anaconda3\\lib\\site-packages\\sklearn\\utils\\validation.py\u001b[0m in \u001b[0;36minner_f\u001b[1;34m(*args, **kwargs)\u001b[0m\n\u001b[0;32m     61\u001b[0m             \u001b[0mextra_args\u001b[0m \u001b[1;33m=\u001b[0m \u001b[0mlen\u001b[0m\u001b[1;33m(\u001b[0m\u001b[0margs\u001b[0m\u001b[1;33m)\u001b[0m \u001b[1;33m-\u001b[0m \u001b[0mlen\u001b[0m\u001b[1;33m(\u001b[0m\u001b[0mall_args\u001b[0m\u001b[1;33m)\u001b[0m\u001b[1;33m\u001b[0m\u001b[1;33m\u001b[0m\u001b[0m\n\u001b[0;32m     62\u001b[0m             \u001b[1;32mif\u001b[0m \u001b[0mextra_args\u001b[0m \u001b[1;33m<=\u001b[0m \u001b[1;36m0\u001b[0m\u001b[1;33m:\u001b[0m\u001b[1;33m\u001b[0m\u001b[1;33m\u001b[0m\u001b[0m\n\u001b[1;32m---> 63\u001b[1;33m                 \u001b[1;32mreturn\u001b[0m \u001b[0mf\u001b[0m\u001b[1;33m(\u001b[0m\u001b[1;33m*\u001b[0m\u001b[0margs\u001b[0m\u001b[1;33m,\u001b[0m \u001b[1;33m**\u001b[0m\u001b[0mkwargs\u001b[0m\u001b[1;33m)\u001b[0m\u001b[1;33m\u001b[0m\u001b[1;33m\u001b[0m\u001b[0m\n\u001b[0m\u001b[0;32m     64\u001b[0m \u001b[1;33m\u001b[0m\u001b[0m\n\u001b[0;32m     65\u001b[0m             \u001b[1;31m# extra_args > 0\u001b[0m\u001b[1;33m\u001b[0m\u001b[1;33m\u001b[0m\u001b[0m\n",
      "\u001b[1;32m~\\anaconda3\\lib\\site-packages\\sklearn\\utils\\validation.py\u001b[0m in \u001b[0;36mcheck_is_fitted\u001b[1;34m(estimator, attributes, msg, all_or_any)\u001b[0m\n\u001b[0;32m   1096\u001b[0m \u001b[1;33m\u001b[0m\u001b[0m\n\u001b[0;32m   1097\u001b[0m     \u001b[1;32mif\u001b[0m \u001b[1;32mnot\u001b[0m \u001b[0mattrs\u001b[0m\u001b[1;33m:\u001b[0m\u001b[1;33m\u001b[0m\u001b[1;33m\u001b[0m\u001b[0m\n\u001b[1;32m-> 1098\u001b[1;33m         \u001b[1;32mraise\u001b[0m \u001b[0mNotFittedError\u001b[0m\u001b[1;33m(\u001b[0m\u001b[0mmsg\u001b[0m \u001b[1;33m%\u001b[0m \u001b[1;33m{\u001b[0m\u001b[1;34m'name'\u001b[0m\u001b[1;33m:\u001b[0m \u001b[0mtype\u001b[0m\u001b[1;33m(\u001b[0m\u001b[0mestimator\u001b[0m\u001b[1;33m)\u001b[0m\u001b[1;33m.\u001b[0m\u001b[0m__name__\u001b[0m\u001b[1;33m}\u001b[0m\u001b[1;33m)\u001b[0m\u001b[1;33m\u001b[0m\u001b[1;33m\u001b[0m\u001b[0m\n\u001b[0m\u001b[0;32m   1099\u001b[0m \u001b[1;33m\u001b[0m\u001b[0m\n\u001b[0;32m   1100\u001b[0m \u001b[1;33m\u001b[0m\u001b[0m\n",
      "\u001b[1;31mNotFittedError\u001b[0m: This SVC instance is not fitted yet. Call 'fit' with appropriate arguments before using this estimator."
     ]
    }
   ],
   "source": [
    "y_pred_mod = model.predict(X_test_mod)"
   ]
  },
  {
   "cell_type": "code",
   "execution_count": 188,
   "id": "93d600ee-8c14-4e31-8cd3-9e49782bfe4a",
   "metadata": {},
   "outputs": [],
   "source": [
    "from sklearn.metrics import accuracy_score"
   ]
  },
  {
   "cell_type": "code",
   "execution_count": 189,
   "id": "65a4e034-35bc-4f60-a173-0a7d05b3f9e7",
   "metadata": {},
   "outputs": [
    {
     "ename": "NameError",
     "evalue": "name 'y_pred_mod' is not defined",
     "output_type": "error",
     "traceback": [
      "\u001b[1;31m---------------------------------------------------------------------------\u001b[0m",
      "\u001b[1;31mNameError\u001b[0m                                 Traceback (most recent call last)",
      "\u001b[1;32m~\\AppData\\Local\\Temp/ipykernel_14048/703928792.py\u001b[0m in \u001b[0;36m<module>\u001b[1;34m\u001b[0m\n\u001b[1;32m----> 1\u001b[1;33m \u001b[0mprint\u001b[0m\u001b[1;33m(\u001b[0m\u001b[0maccuracy_score\u001b[0m\u001b[1;33m(\u001b[0m\u001b[0my_test_mod\u001b[0m\u001b[1;33m,\u001b[0m\u001b[0my_pred_mod\u001b[0m\u001b[1;33m)\u001b[0m\u001b[1;33m)\u001b[0m\u001b[1;33m\u001b[0m\u001b[1;33m\u001b[0m\u001b[0m\n\u001b[0m",
      "\u001b[1;31mNameError\u001b[0m: name 'y_pred_mod' is not defined"
     ]
    }
   ],
   "source": [
    "print(accuracy_score(y_test_mod,y_pred_mod))"
   ]
  },
  {
   "cell_type": "markdown",
   "id": "7b69464f-625d-4dfa-96d4-4a45f506611a",
   "metadata": {},
   "source": [
    "####  Knn / K_nearest neighbours"
   ]
  },
  {
   "cell_type": "markdown",
   "id": "84978dc2-c17d-4355-a1f9-010b3e793c51",
   "metadata": {},
   "source": [
    " The k-nearest neighbors algorithm, also known as KNN or k-NN, is a non-parametric, supervised learning classifier, which uses proximity to make classifications or predictions about the grouping of an individual data point."
   ]
  },
  {
   "cell_type": "markdown",
   "id": "dee2042b-748f-43a8-bfb0-fad875437701",
   "metadata": {},
   "source": [
    "It is made up from data given to it. It means that there is little training involved."
   ]
  },
  {
   "cell_type": "markdown",
   "id": "a0474192-e7a9-48c5-8dc3-93b092e65220",
   "metadata": {},
   "source": [
    "K-Nearest Neighbour is one of the simplest Machine Learning algorithms based on Supervised Learning technique.\n",
    "K-NN algorithm assumes the similarity between the new case/data and available cases and put the new case into the category that is most similar to the available categories.\n",
    "K-NN algorithm stores all the available data and classifies a new data point based on the similarity. This means when new data appears then it can be easily classified into a well suite category by using K- NN algorithm.\n",
    "K-NN algorithm can be used for Regression as well as for Classification but mostly it is used for the Classification problems.\n",
    "K-NN is a non-parametric algorithm, which means it does not make any assumption on underlying data.\n",
    "It is also called a lazy learner algorithm because it does not learn from the training set immediately instead it stores the dataset and at the time of classification, it performs an action on the dataset.\n",
    "KNN algorithm at the training phase just stores the dataset and when it gets new data, then it classifies that data into a category that is much similar to the new data.\n",
    "Example: Suppose, we have an image of a creature that looks similar to cat and dog, but we want to know either it is a cat or dog. So for this identification, we can use the KNN algorithm, as it works on a similarity measure. Our KNN model will find the similar features of the new data set to the cats and dogs images and based on the most similar features it will put it in either cat or dog category.\n",
    "K-Nearest Neighbor(KNN) Algorithm for Machine Learning\n",
    "Why do we need a K-NN Algorithm?\n",
    "Suppose there are two categories, i.e., Category A and Category B, and we have a new data point x1, so this data point will lie in which of these categories. To solve this type of problem, we need a K-NN algorithm. With the help of K-NN, we can easily identify the category or class of a particular dataset. Consider the below diagram:\n",
    "\n",
    "K-Nearest Neighbor(KNN) Algorithm for Machine Learning\n",
    "How does K-NN work?\n",
    "The K-NN working can be explained on the basis of the below algorithm:\n",
    "\n",
    "Step-1: Select the number K of the neighbors\n",
    "Step-2: Calculate the Euclidean distance of K number of neighbors\n",
    "Step-3: Take the K nearest neighbors as per the calculated Euclidean distance.\n",
    "Step-4: Among these k neighbors, count the number of the data points in each category.\n",
    "Step-5: Assign the new data points to that category for which the number of the neighbor is maximum.\n",
    "Step-6: Our model is ready.\n",
    "Suppose we have a new data point and we need to put it in the required category. Consider the below image:\n",
    "\n",
    "K-Nearest Neighbor(KNN) Algorithm for Machine Learning\n",
    "Firstly, we will choose the number of neighbors, so we will choose the k=5.\n",
    "Next, we will calculate the Euclidean distance between the data points. The Euclidean distance is the distance between two points, which we have already studied in geometry. It can be calculated as:\n",
    "K-Nearest Neighbor(KNN) Algorithm for Machine Learning\n",
    "By calculating the Euclidean distance we got the nearest neighbors, as three nearest neighbors in category A and two nearest neighbors in category B. Consider the below image:\n",
    "K-Nearest Neighbor(KNN) Algorithm for Machine Learning\n",
    "As we can see the 3 nearest neighbors are from category A, hence this new data point must belong to category A.\n",
    "How to select the value of K in the K-NN Algorithm?\n",
    "Below are some points to remember while selecting the value of K in the K-NN algorithm:\n",
    "\n",
    "There is no particular way to determine the best value for \"K\", so we need to try some values to find the best out of them. The most preferred value for K is 5.\n",
    "A very low value for K such as K=1 or K=2, can be noisy and lead to the effects of outliers in the model.\n",
    "Large values for K are good, but it may find some difficulties.\n",
    "Advantages of KNN Algorithm:\n",
    "It is simple to implement.\n",
    "It is robust to the noisy training data\n",
    "It can be more effective if the training data is large.\n",
    "Disadvantages of KNN Algorithm:\n",
    "Always needs to determine the value of K which may be complex some time.\n",
    "The computation cost is high because of calculating the distance between the data points for all the training samples.\n",
    "Python implementation of the KNN algorithm\n",
    "To do the Python implementation of the K-NN algorithm, we will use the same problem and dataset which we have used in Logistic Regression. But here we will improve the performance of the model. Below is the problem description:\n",
    "\n",
    "Problem for K-NN Algorithm: There is a Car manufacturer company that has manufactured a new SUV car. The company wants to give the ads to the users who are interested in buying that SUV. So for this problem, we have a dataset that contains multiple user's information through the social network. The dataset contains lots of information but the Estimated Salary and Age we will consider for the independent variable and the Purchased variable is for the dependent variable. Below is the dataset:\n",
    "\n",
    "\n",
    "\n"
   ]
  },
  {
   "cell_type": "code",
   "execution_count": 190,
   "id": "9f0ccac3-64a1-47e5-b7ef-6db8485ad089",
   "metadata": {},
   "outputs": [],
   "source": [
    "from sklearn.datasets import load_iris\n",
    "iris= load_iris()"
   ]
  },
  {
   "cell_type": "code",
   "execution_count": 192,
   "id": "c0ddd01c-e2b9-4beb-b709-7028ba729c19",
   "metadata": {},
   "outputs": [],
   "source": [
    "X= iris.data\n",
    "y= iris.target"
   ]
  },
  {
   "cell_type": "code",
   "execution_count": 193,
   "id": "80bbea76-2884-463d-8c22-876ebb176a0e",
   "metadata": {},
   "outputs": [
    {
     "data": {
      "text/plain": [
       "(150, 4)"
      ]
     },
     "execution_count": 193,
     "metadata": {},
     "output_type": "execute_result"
    }
   ],
   "source": [
    "X.shape"
   ]
  },
  {
   "cell_type": "code",
   "execution_count": 194,
   "id": "e4d7365a-056b-42c4-b6be-6c58e5e18362",
   "metadata": {},
   "outputs": [
    {
     "data": {
      "text/plain": [
       "(150,)"
      ]
     },
     "execution_count": 194,
     "metadata": {},
     "output_type": "execute_result"
    }
   ],
   "source": [
    "y.shape"
   ]
  },
  {
   "cell_type": "code",
   "execution_count": 195,
   "id": "20b4f0d1-ba98-44ed-9c77-f87a8d3e7599",
   "metadata": {},
   "outputs": [],
   "source": [
    "from sklearn.neighbors import KNeighborsClassifier"
   ]
  },
  {
   "cell_type": "code",
   "execution_count": 196,
   "id": "edfaacd2-7065-407e-827d-866fedc26dbc",
   "metadata": {},
   "outputs": [
    {
     "data": {
      "text/plain": [
       "KNeighborsClassifier(n_neighbors=1)"
      ]
     },
     "execution_count": 196,
     "metadata": {},
     "output_type": "execute_result"
    }
   ],
   "source": [
    "knn = KNeighborsClassifier(n_neighbors=1)\n",
    "knn"
   ]
  },
  {
   "cell_type": "code",
   "execution_count": 86,
   "id": "302c24c1-5001-413b-9ea7-56bc7237860e",
   "metadata": {},
   "outputs": [
    {
     "ename": "SyntaxError",
     "evalue": "invalid syntax (Temp/ipykernel_14048/3788490818.py, line 1)",
     "output_type": "error",
     "traceback": [
      "\u001b[1;36m  File \u001b[1;32m\"C:\\Users\\user\\AppData\\Local\\Temp/ipykernel_14048/3788490818.py\"\u001b[1;36m, line \u001b[1;32m1\u001b[0m\n\u001b[1;33m    MY RESULT HERE IS DIFFERENT!!!!\u001b[0m\n\u001b[1;37m       ^\u001b[0m\n\u001b[1;31mSyntaxError\u001b[0m\u001b[1;31m:\u001b[0m invalid syntax\n"
     ]
    }
   ],
   "source": [
    "MY RESULT HERE IS DIFFERENT!!!!"
   ]
  },
  {
   "cell_type": "code",
   "execution_count": 197,
   "id": "1eeda614-67fe-4592-b0e5-6e365fe3d571",
   "metadata": {},
   "outputs": [
    {
     "data": {
      "text/plain": [
       "KNeighborsClassifier(n_neighbors=1)"
      ]
     },
     "execution_count": 197,
     "metadata": {},
     "output_type": "execute_result"
    }
   ],
   "source": [
    "knn.fit(X,y)"
   ]
  },
  {
   "cell_type": "code",
   "execution_count": null,
   "id": "0c760f12-b66a-4a07-8c2c-fd7b87fabc11",
   "metadata": {},
   "outputs": [],
   "source": []
  },
  {
   "cell_type": "code",
   "execution_count": 88,
   "id": "142c3687-2c56-4eb9-964b-bc778afe7547",
   "metadata": {},
   "outputs": [],
   "source": [
    "# Predict your data , using new observations pass in your dummy values"
   ]
  },
  {
   "cell_type": "code",
   "execution_count": 198,
   "id": "3005488f-8f1f-4822-a44e-b59048216a8b",
   "metadata": {},
   "outputs": [
    {
     "ename": "ValueError",
     "evalue": "Expected 2D array, got 1D array instead:\narray=[ 4  5 62].\nReshape your data either using array.reshape(-1, 1) if your data has a single feature or array.reshape(1, -1) if it contains a single sample.",
     "output_type": "error",
     "traceback": [
      "\u001b[1;31m---------------------------------------------------------------------------\u001b[0m",
      "\u001b[1;31mValueError\u001b[0m                                Traceback (most recent call last)",
      "\u001b[1;32m~\\AppData\\Local\\Temp/ipykernel_14048/2825483375.py\u001b[0m in \u001b[0;36m<module>\u001b[1;34m\u001b[0m\n\u001b[1;32m----> 1\u001b[1;33m \u001b[0mknn\u001b[0m\u001b[1;33m.\u001b[0m\u001b[0mpredict\u001b[0m\u001b[1;33m(\u001b[0m\u001b[1;33m[\u001b[0m\u001b[1;36m4\u001b[0m\u001b[1;33m,\u001b[0m\u001b[1;36m5\u001b[0m\u001b[1;33m,\u001b[0m\u001b[1;36m62\u001b[0m\u001b[1;33m]\u001b[0m\u001b[1;33m)\u001b[0m\u001b[1;33m\u001b[0m\u001b[1;33m\u001b[0m\u001b[0m\n\u001b[0m",
      "\u001b[1;32m~\\anaconda3\\lib\\site-packages\\sklearn\\neighbors\\_classification.py\u001b[0m in \u001b[0;36mpredict\u001b[1;34m(self, X)\u001b[0m\n\u001b[0;32m    193\u001b[0m             \u001b[0mClass\u001b[0m \u001b[0mlabels\u001b[0m \u001b[1;32mfor\u001b[0m \u001b[0meach\u001b[0m \u001b[0mdata\u001b[0m \u001b[0msample\u001b[0m\u001b[1;33m.\u001b[0m\u001b[1;33m\u001b[0m\u001b[1;33m\u001b[0m\u001b[0m\n\u001b[0;32m    194\u001b[0m         \"\"\"\n\u001b[1;32m--> 195\u001b[1;33m         \u001b[0mX\u001b[0m \u001b[1;33m=\u001b[0m \u001b[0mcheck_array\u001b[0m\u001b[1;33m(\u001b[0m\u001b[0mX\u001b[0m\u001b[1;33m,\u001b[0m \u001b[0maccept_sparse\u001b[0m\u001b[1;33m=\u001b[0m\u001b[1;34m'csr'\u001b[0m\u001b[1;33m)\u001b[0m\u001b[1;33m\u001b[0m\u001b[1;33m\u001b[0m\u001b[0m\n\u001b[0m\u001b[0;32m    196\u001b[0m \u001b[1;33m\u001b[0m\u001b[0m\n\u001b[0;32m    197\u001b[0m         \u001b[0mneigh_dist\u001b[0m\u001b[1;33m,\u001b[0m \u001b[0mneigh_ind\u001b[0m \u001b[1;33m=\u001b[0m \u001b[0mself\u001b[0m\u001b[1;33m.\u001b[0m\u001b[0mkneighbors\u001b[0m\u001b[1;33m(\u001b[0m\u001b[0mX\u001b[0m\u001b[1;33m)\u001b[0m\u001b[1;33m\u001b[0m\u001b[1;33m\u001b[0m\u001b[0m\n",
      "\u001b[1;32m~\\anaconda3\\lib\\site-packages\\sklearn\\utils\\validation.py\u001b[0m in \u001b[0;36minner_f\u001b[1;34m(*args, **kwargs)\u001b[0m\n\u001b[0;32m     61\u001b[0m             \u001b[0mextra_args\u001b[0m \u001b[1;33m=\u001b[0m \u001b[0mlen\u001b[0m\u001b[1;33m(\u001b[0m\u001b[0margs\u001b[0m\u001b[1;33m)\u001b[0m \u001b[1;33m-\u001b[0m \u001b[0mlen\u001b[0m\u001b[1;33m(\u001b[0m\u001b[0mall_args\u001b[0m\u001b[1;33m)\u001b[0m\u001b[1;33m\u001b[0m\u001b[1;33m\u001b[0m\u001b[0m\n\u001b[0;32m     62\u001b[0m             \u001b[1;32mif\u001b[0m \u001b[0mextra_args\u001b[0m \u001b[1;33m<=\u001b[0m \u001b[1;36m0\u001b[0m\u001b[1;33m:\u001b[0m\u001b[1;33m\u001b[0m\u001b[1;33m\u001b[0m\u001b[0m\n\u001b[1;32m---> 63\u001b[1;33m                 \u001b[1;32mreturn\u001b[0m \u001b[0mf\u001b[0m\u001b[1;33m(\u001b[0m\u001b[1;33m*\u001b[0m\u001b[0margs\u001b[0m\u001b[1;33m,\u001b[0m \u001b[1;33m**\u001b[0m\u001b[0mkwargs\u001b[0m\u001b[1;33m)\u001b[0m\u001b[1;33m\u001b[0m\u001b[1;33m\u001b[0m\u001b[0m\n\u001b[0m\u001b[0;32m     64\u001b[0m \u001b[1;33m\u001b[0m\u001b[0m\n\u001b[0;32m     65\u001b[0m             \u001b[1;31m# extra_args > 0\u001b[0m\u001b[1;33m\u001b[0m\u001b[1;33m\u001b[0m\u001b[0m\n",
      "\u001b[1;32m~\\anaconda3\\lib\\site-packages\\sklearn\\utils\\validation.py\u001b[0m in \u001b[0;36mcheck_array\u001b[1;34m(array, accept_sparse, accept_large_sparse, dtype, order, copy, force_all_finite, ensure_2d, allow_nd, ensure_min_samples, ensure_min_features, estimator)\u001b[0m\n\u001b[0;32m    692\u001b[0m             \u001b[1;31m# If input is 1D raise error\u001b[0m\u001b[1;33m\u001b[0m\u001b[1;33m\u001b[0m\u001b[0m\n\u001b[0;32m    693\u001b[0m             \u001b[1;32mif\u001b[0m \u001b[0marray\u001b[0m\u001b[1;33m.\u001b[0m\u001b[0mndim\u001b[0m \u001b[1;33m==\u001b[0m \u001b[1;36m1\u001b[0m\u001b[1;33m:\u001b[0m\u001b[1;33m\u001b[0m\u001b[1;33m\u001b[0m\u001b[0m\n\u001b[1;32m--> 694\u001b[1;33m                 raise ValueError(\n\u001b[0m\u001b[0;32m    695\u001b[0m                     \u001b[1;34m\"Expected 2D array, got 1D array instead:\\narray={}.\\n\"\u001b[0m\u001b[1;33m\u001b[0m\u001b[1;33m\u001b[0m\u001b[0m\n\u001b[0;32m    696\u001b[0m                     \u001b[1;34m\"Reshape your data either using array.reshape(-1, 1) if \"\u001b[0m\u001b[1;33m\u001b[0m\u001b[1;33m\u001b[0m\u001b[0m\n",
      "\u001b[1;31mValueError\u001b[0m: Expected 2D array, got 1D array instead:\narray=[ 4  5 62].\nReshape your data either using array.reshape(-1, 1) if your data has a single feature or array.reshape(1, -1) if it contains a single sample."
     ]
    }
   ],
   "source": [
    "knn.predict([4,5,62])"
   ]
  },
  {
   "cell_type": "markdown",
   "id": "d81c1c90-1b88-477d-b180-102266cd83c5",
   "metadata": {},
   "source": [
    "you will encounter an error , 'Reshape your data either using array.reshape (-,1) if you have a single data sample'\n",
    "so what we do in this case is to import numpy as np and put our data in an array then use .shape to call it"
   ]
  },
  {
   "cell_type": "code",
   "execution_count": 199,
   "id": "c9e5fb8f-0fd3-4ff1-8f60-d5b2edc76cca",
   "metadata": {},
   "outputs": [
    {
     "data": {
      "text/plain": [
       "(4,)"
      ]
     },
     "execution_count": 199,
     "metadata": {},
     "output_type": "execute_result"
    }
   ],
   "source": [
    "import numpy as np\n",
    "a = np.array([4,5,6,2])\n",
    "a.shape"
   ]
  },
  {
   "cell_type": "code",
   "execution_count": 200,
   "id": "e16fee6f-15d7-471f-a479-fa6be6cf6fb3",
   "metadata": {},
   "outputs": [
    {
     "data": {
      "text/plain": [
       "array([2])"
      ]
     },
     "execution_count": 200,
     "metadata": {},
     "output_type": "execute_result"
    }
   ],
   "source": [
    "knn.predict([a]) # "
   ]
  },
  {
   "cell_type": "markdown",
   "id": "2270aebb-96b2-4271-9c93-8f3d43ebd941",
   "metadata": {},
   "source": [
    "We are getting an array that represents a true value 2, here scikit learn does not know what 2 represents but we know that  2 represents the iris verginica "
   ]
  },
  {
   "cell_type": "markdown",
   "id": "21628488-47df-4d44-a364-8003c2086800",
   "metadata": {},
   "source": [
    "Implementing logistic regression on thesame model"
   ]
  },
  {
   "cell_type": "code",
   "execution_count": 201,
   "id": "24ab404a-e796-4245-93c2-c078ba77e07a",
   "metadata": {},
   "outputs": [],
   "source": [
    "from sklearn.linear_model import LogisticRegression"
   ]
  },
  {
   "cell_type": "code",
   "execution_count": 202,
   "id": "82ae404c-8686-497a-b3e5-d2a8714727e9",
   "metadata": {},
   "outputs": [
    {
     "ename": "ValueError",
     "evalue": "Expected 2D array, got 1D array instead:\narray=[1.4 1.4 1.3 1.5 1.4 1.7 1.4 1.5 1.4 1.5 1.5 1.6 1.4 1.1 1.2 1.5 1.3 1.4\n 1.7 1.5 1.7 1.5 1.  1.7 1.9 1.6 1.6 1.5 1.4 1.6 1.6 1.5 1.5 1.4 1.5 1.2\n 1.3 1.4 1.3 1.5 1.3 1.3 1.3 1.6 1.9 1.4 1.6 1.4 1.5 1.4 4.7 4.5 4.9 4.\n 4.6 4.5 4.7 3.3 4.6 3.9 3.5 4.2 4.  4.7 3.6 4.4 4.5 4.1 4.5 3.9 4.8 4.\n 4.9 4.7 4.3 4.4 4.8 5.  4.5 3.5 3.8 3.7 3.9 5.1 4.5 4.5 4.7 4.4 4.1 4.\n 4.4 4.6 4.  3.3 4.2 4.2 4.2 4.3 3.  4.1 6.  5.1 5.9 5.6 5.8 6.6 4.5 6.3\n 5.8 6.1 5.1 5.3 5.5 5.  5.1 5.3 5.5 6.7 6.9 5.  5.7 4.9 6.7 4.9 5.7 6.\n 4.8 4.9 5.6 5.8 6.1 6.4 5.6 5.1 5.6 6.1 5.6 5.5 4.8 5.4 5.6 5.1 5.1 5.9\n 5.7 5.2 5.  5.2 5.4 5.1].\nReshape your data either using array.reshape(-1, 1) if your data has a single feature or array.reshape(1, -1) if it contains a single sample.",
     "output_type": "error",
     "traceback": [
      "\u001b[1;31m---------------------------------------------------------------------------\u001b[0m",
      "\u001b[1;31mValueError\u001b[0m                                Traceback (most recent call last)",
      "\u001b[1;32m~\\AppData\\Local\\Temp/ipykernel_14048/865874984.py\u001b[0m in \u001b[0;36m<module>\u001b[1;34m\u001b[0m\n\u001b[0;32m      1\u001b[0m \u001b[0mlogReg\u001b[0m\u001b[1;33m=\u001b[0m\u001b[0mLogisticRegression\u001b[0m\u001b[1;33m(\u001b[0m\u001b[1;33m)\u001b[0m\u001b[1;33m\u001b[0m\u001b[1;33m\u001b[0m\u001b[0m\n\u001b[0;32m      2\u001b[0m \u001b[1;33m\u001b[0m\u001b[0m\n\u001b[1;32m----> 3\u001b[1;33m logreg.fit(x,y\n\u001b[0m\u001b[0;32m      4\u001b[0m            )\n",
      "\u001b[1;32m~\\anaconda3\\lib\\site-packages\\sklearn\\linear_model\\_logistic.py\u001b[0m in \u001b[0;36mfit\u001b[1;34m(self, X, y, sample_weight)\u001b[0m\n\u001b[0;32m   1342\u001b[0m             \u001b[0m_dtype\u001b[0m \u001b[1;33m=\u001b[0m \u001b[1;33m[\u001b[0m\u001b[0mnp\u001b[0m\u001b[1;33m.\u001b[0m\u001b[0mfloat64\u001b[0m\u001b[1;33m,\u001b[0m \u001b[0mnp\u001b[0m\u001b[1;33m.\u001b[0m\u001b[0mfloat32\u001b[0m\u001b[1;33m]\u001b[0m\u001b[1;33m\u001b[0m\u001b[1;33m\u001b[0m\u001b[0m\n\u001b[0;32m   1343\u001b[0m \u001b[1;33m\u001b[0m\u001b[0m\n\u001b[1;32m-> 1344\u001b[1;33m         X, y = self._validate_data(X, y, accept_sparse='csr', dtype=_dtype,\n\u001b[0m\u001b[0;32m   1345\u001b[0m                                    \u001b[0morder\u001b[0m\u001b[1;33m=\u001b[0m\u001b[1;34m\"C\"\u001b[0m\u001b[1;33m,\u001b[0m\u001b[1;33m\u001b[0m\u001b[1;33m\u001b[0m\u001b[0m\n\u001b[0;32m   1346\u001b[0m                                    accept_large_sparse=solver != 'liblinear')\n",
      "\u001b[1;32m~\\anaconda3\\lib\\site-packages\\sklearn\\base.py\u001b[0m in \u001b[0;36m_validate_data\u001b[1;34m(self, X, y, reset, validate_separately, **check_params)\u001b[0m\n\u001b[0;32m    431\u001b[0m                 \u001b[0my\u001b[0m \u001b[1;33m=\u001b[0m \u001b[0mcheck_array\u001b[0m\u001b[1;33m(\u001b[0m\u001b[0my\u001b[0m\u001b[1;33m,\u001b[0m \u001b[1;33m**\u001b[0m\u001b[0mcheck_y_params\u001b[0m\u001b[1;33m)\u001b[0m\u001b[1;33m\u001b[0m\u001b[1;33m\u001b[0m\u001b[0m\n\u001b[0;32m    432\u001b[0m             \u001b[1;32melse\u001b[0m\u001b[1;33m:\u001b[0m\u001b[1;33m\u001b[0m\u001b[1;33m\u001b[0m\u001b[0m\n\u001b[1;32m--> 433\u001b[1;33m                 \u001b[0mX\u001b[0m\u001b[1;33m,\u001b[0m \u001b[0my\u001b[0m \u001b[1;33m=\u001b[0m \u001b[0mcheck_X_y\u001b[0m\u001b[1;33m(\u001b[0m\u001b[0mX\u001b[0m\u001b[1;33m,\u001b[0m \u001b[0my\u001b[0m\u001b[1;33m,\u001b[0m \u001b[1;33m**\u001b[0m\u001b[0mcheck_params\u001b[0m\u001b[1;33m)\u001b[0m\u001b[1;33m\u001b[0m\u001b[1;33m\u001b[0m\u001b[0m\n\u001b[0m\u001b[0;32m    434\u001b[0m             \u001b[0mout\u001b[0m \u001b[1;33m=\u001b[0m \u001b[0mX\u001b[0m\u001b[1;33m,\u001b[0m \u001b[0my\u001b[0m\u001b[1;33m\u001b[0m\u001b[1;33m\u001b[0m\u001b[0m\n\u001b[0;32m    435\u001b[0m \u001b[1;33m\u001b[0m\u001b[0m\n",
      "\u001b[1;32m~\\anaconda3\\lib\\site-packages\\sklearn\\utils\\validation.py\u001b[0m in \u001b[0;36minner_f\u001b[1;34m(*args, **kwargs)\u001b[0m\n\u001b[0;32m     61\u001b[0m             \u001b[0mextra_args\u001b[0m \u001b[1;33m=\u001b[0m \u001b[0mlen\u001b[0m\u001b[1;33m(\u001b[0m\u001b[0margs\u001b[0m\u001b[1;33m)\u001b[0m \u001b[1;33m-\u001b[0m \u001b[0mlen\u001b[0m\u001b[1;33m(\u001b[0m\u001b[0mall_args\u001b[0m\u001b[1;33m)\u001b[0m\u001b[1;33m\u001b[0m\u001b[1;33m\u001b[0m\u001b[0m\n\u001b[0;32m     62\u001b[0m             \u001b[1;32mif\u001b[0m \u001b[0mextra_args\u001b[0m \u001b[1;33m<=\u001b[0m \u001b[1;36m0\u001b[0m\u001b[1;33m:\u001b[0m\u001b[1;33m\u001b[0m\u001b[1;33m\u001b[0m\u001b[0m\n\u001b[1;32m---> 63\u001b[1;33m                 \u001b[1;32mreturn\u001b[0m \u001b[0mf\u001b[0m\u001b[1;33m(\u001b[0m\u001b[1;33m*\u001b[0m\u001b[0margs\u001b[0m\u001b[1;33m,\u001b[0m \u001b[1;33m**\u001b[0m\u001b[0mkwargs\u001b[0m\u001b[1;33m)\u001b[0m\u001b[1;33m\u001b[0m\u001b[1;33m\u001b[0m\u001b[0m\n\u001b[0m\u001b[0;32m     64\u001b[0m \u001b[1;33m\u001b[0m\u001b[0m\n\u001b[0;32m     65\u001b[0m             \u001b[1;31m# extra_args > 0\u001b[0m\u001b[1;33m\u001b[0m\u001b[1;33m\u001b[0m\u001b[0m\n",
      "\u001b[1;32m~\\anaconda3\\lib\\site-packages\\sklearn\\utils\\validation.py\u001b[0m in \u001b[0;36mcheck_X_y\u001b[1;34m(X, y, accept_sparse, accept_large_sparse, dtype, order, copy, force_all_finite, ensure_2d, allow_nd, multi_output, ensure_min_samples, ensure_min_features, y_numeric, estimator)\u001b[0m\n\u001b[0;32m    869\u001b[0m         \u001b[1;32mraise\u001b[0m \u001b[0mValueError\u001b[0m\u001b[1;33m(\u001b[0m\u001b[1;34m\"y cannot be None\"\u001b[0m\u001b[1;33m)\u001b[0m\u001b[1;33m\u001b[0m\u001b[1;33m\u001b[0m\u001b[0m\n\u001b[0;32m    870\u001b[0m \u001b[1;33m\u001b[0m\u001b[0m\n\u001b[1;32m--> 871\u001b[1;33m     X = check_array(X, accept_sparse=accept_sparse,\n\u001b[0m\u001b[0;32m    872\u001b[0m                     \u001b[0maccept_large_sparse\u001b[0m\u001b[1;33m=\u001b[0m\u001b[0maccept_large_sparse\u001b[0m\u001b[1;33m,\u001b[0m\u001b[1;33m\u001b[0m\u001b[1;33m\u001b[0m\u001b[0m\n\u001b[0;32m    873\u001b[0m                     \u001b[0mdtype\u001b[0m\u001b[1;33m=\u001b[0m\u001b[0mdtype\u001b[0m\u001b[1;33m,\u001b[0m \u001b[0morder\u001b[0m\u001b[1;33m=\u001b[0m\u001b[0morder\u001b[0m\u001b[1;33m,\u001b[0m \u001b[0mcopy\u001b[0m\u001b[1;33m=\u001b[0m\u001b[0mcopy\u001b[0m\u001b[1;33m,\u001b[0m\u001b[1;33m\u001b[0m\u001b[1;33m\u001b[0m\u001b[0m\n",
      "\u001b[1;32m~\\anaconda3\\lib\\site-packages\\sklearn\\utils\\validation.py\u001b[0m in \u001b[0;36minner_f\u001b[1;34m(*args, **kwargs)\u001b[0m\n\u001b[0;32m     61\u001b[0m             \u001b[0mextra_args\u001b[0m \u001b[1;33m=\u001b[0m \u001b[0mlen\u001b[0m\u001b[1;33m(\u001b[0m\u001b[0margs\u001b[0m\u001b[1;33m)\u001b[0m \u001b[1;33m-\u001b[0m \u001b[0mlen\u001b[0m\u001b[1;33m(\u001b[0m\u001b[0mall_args\u001b[0m\u001b[1;33m)\u001b[0m\u001b[1;33m\u001b[0m\u001b[1;33m\u001b[0m\u001b[0m\n\u001b[0;32m     62\u001b[0m             \u001b[1;32mif\u001b[0m \u001b[0mextra_args\u001b[0m \u001b[1;33m<=\u001b[0m \u001b[1;36m0\u001b[0m\u001b[1;33m:\u001b[0m\u001b[1;33m\u001b[0m\u001b[1;33m\u001b[0m\u001b[0m\n\u001b[1;32m---> 63\u001b[1;33m                 \u001b[1;32mreturn\u001b[0m \u001b[0mf\u001b[0m\u001b[1;33m(\u001b[0m\u001b[1;33m*\u001b[0m\u001b[0margs\u001b[0m\u001b[1;33m,\u001b[0m \u001b[1;33m**\u001b[0m\u001b[0mkwargs\u001b[0m\u001b[1;33m)\u001b[0m\u001b[1;33m\u001b[0m\u001b[1;33m\u001b[0m\u001b[0m\n\u001b[0m\u001b[0;32m     64\u001b[0m \u001b[1;33m\u001b[0m\u001b[0m\n\u001b[0;32m     65\u001b[0m             \u001b[1;31m# extra_args > 0\u001b[0m\u001b[1;33m\u001b[0m\u001b[1;33m\u001b[0m\u001b[0m\n",
      "\u001b[1;32m~\\anaconda3\\lib\\site-packages\\sklearn\\utils\\validation.py\u001b[0m in \u001b[0;36mcheck_array\u001b[1;34m(array, accept_sparse, accept_large_sparse, dtype, order, copy, force_all_finite, ensure_2d, allow_nd, ensure_min_samples, ensure_min_features, estimator)\u001b[0m\n\u001b[0;32m    692\u001b[0m             \u001b[1;31m# If input is 1D raise error\u001b[0m\u001b[1;33m\u001b[0m\u001b[1;33m\u001b[0m\u001b[0m\n\u001b[0;32m    693\u001b[0m             \u001b[1;32mif\u001b[0m \u001b[0marray\u001b[0m\u001b[1;33m.\u001b[0m\u001b[0mndim\u001b[0m \u001b[1;33m==\u001b[0m \u001b[1;36m1\u001b[0m\u001b[1;33m:\u001b[0m\u001b[1;33m\u001b[0m\u001b[1;33m\u001b[0m\u001b[0m\n\u001b[1;32m--> 694\u001b[1;33m                 raise ValueError(\n\u001b[0m\u001b[0;32m    695\u001b[0m                     \u001b[1;34m\"Expected 2D array, got 1D array instead:\\narray={}.\\n\"\u001b[0m\u001b[1;33m\u001b[0m\u001b[1;33m\u001b[0m\u001b[0m\n\u001b[0;32m    696\u001b[0m                     \u001b[1;34m\"Reshape your data either using array.reshape(-1, 1) if \"\u001b[0m\u001b[1;33m\u001b[0m\u001b[1;33m\u001b[0m\u001b[0m\n",
      "\u001b[1;31mValueError\u001b[0m: Expected 2D array, got 1D array instead:\narray=[1.4 1.4 1.3 1.5 1.4 1.7 1.4 1.5 1.4 1.5 1.5 1.6 1.4 1.1 1.2 1.5 1.3 1.4\n 1.7 1.5 1.7 1.5 1.  1.7 1.9 1.6 1.6 1.5 1.4 1.6 1.6 1.5 1.5 1.4 1.5 1.2\n 1.3 1.4 1.3 1.5 1.3 1.3 1.3 1.6 1.9 1.4 1.6 1.4 1.5 1.4 4.7 4.5 4.9 4.\n 4.6 4.5 4.7 3.3 4.6 3.9 3.5 4.2 4.  4.7 3.6 4.4 4.5 4.1 4.5 3.9 4.8 4.\n 4.9 4.7 4.3 4.4 4.8 5.  4.5 3.5 3.8 3.7 3.9 5.1 4.5 4.5 4.7 4.4 4.1 4.\n 4.4 4.6 4.  3.3 4.2 4.2 4.2 4.3 3.  4.1 6.  5.1 5.9 5.6 5.8 6.6 4.5 6.3\n 5.8 6.1 5.1 5.3 5.5 5.  5.1 5.3 5.5 6.7 6.9 5.  5.7 4.9 6.7 4.9 5.7 6.\n 4.8 4.9 5.6 5.8 6.1 6.4 5.6 5.1 5.6 6.1 5.6 5.5 4.8 5.4 5.6 5.1 5.1 5.9\n 5.7 5.2 5.  5.2 5.4 5.1].\nReshape your data either using array.reshape(-1, 1) if your data has a single feature or array.reshape(1, -1) if it contains a single sample."
     ]
    }
   ],
   "source": [
    "logReg=LogisticRegression()\n",
    "\n",
    "logreg.fit(x,y\n",
    "           )"
   ]
  },
  {
   "cell_type": "markdown",
   "id": "c387ed7d-01ed-46bf-a799-37f3db1acd22",
   "metadata": {},
   "source": [
    "Type in the logreg.predict function and run the code"
   ]
  },
  {
   "cell_type": "code",
   "execution_count": 203,
   "id": "42457114-f31a-4508-9469-bab2facf1c22",
   "metadata": {},
   "outputs": [
    {
     "ename": "ValueError",
     "evalue": "X has 4 features per sample; expecting 1",
     "output_type": "error",
     "traceback": [
      "\u001b[1;31m---------------------------------------------------------------------------\u001b[0m",
      "\u001b[1;31mValueError\u001b[0m                                Traceback (most recent call last)",
      "\u001b[1;32m~\\AppData\\Local\\Temp/ipykernel_14048/1600873771.py\u001b[0m in \u001b[0;36m<module>\u001b[1;34m\u001b[0m\n\u001b[1;32m----> 1\u001b[1;33m \u001b[0mlogreg\u001b[0m\u001b[1;33m.\u001b[0m\u001b[0mpredict\u001b[0m\u001b[1;33m(\u001b[0m\u001b[1;33m[\u001b[0m\u001b[0ma\u001b[0m\u001b[1;33m]\u001b[0m\u001b[1;33m)\u001b[0m\u001b[1;33m\u001b[0m\u001b[1;33m\u001b[0m\u001b[0m\n\u001b[0m",
      "\u001b[1;32m~\\anaconda3\\lib\\site-packages\\sklearn\\linear_model\\_base.py\u001b[0m in \u001b[0;36mpredict\u001b[1;34m(self, X)\u001b[0m\n\u001b[0;32m    307\u001b[0m             \u001b[0mPredicted\u001b[0m \u001b[1;32mclass\u001b[0m \u001b[0mlabel\u001b[0m \u001b[0mper\u001b[0m \u001b[0msample\u001b[0m\u001b[1;33m.\u001b[0m\u001b[1;33m\u001b[0m\u001b[1;33m\u001b[0m\u001b[0m\n\u001b[0;32m    308\u001b[0m         \"\"\"\n\u001b[1;32m--> 309\u001b[1;33m         \u001b[0mscores\u001b[0m \u001b[1;33m=\u001b[0m \u001b[0mself\u001b[0m\u001b[1;33m.\u001b[0m\u001b[0mdecision_function\u001b[0m\u001b[1;33m(\u001b[0m\u001b[0mX\u001b[0m\u001b[1;33m)\u001b[0m\u001b[1;33m\u001b[0m\u001b[1;33m\u001b[0m\u001b[0m\n\u001b[0m\u001b[0;32m    310\u001b[0m         \u001b[1;32mif\u001b[0m \u001b[0mlen\u001b[0m\u001b[1;33m(\u001b[0m\u001b[0mscores\u001b[0m\u001b[1;33m.\u001b[0m\u001b[0mshape\u001b[0m\u001b[1;33m)\u001b[0m \u001b[1;33m==\u001b[0m \u001b[1;36m1\u001b[0m\u001b[1;33m:\u001b[0m\u001b[1;33m\u001b[0m\u001b[1;33m\u001b[0m\u001b[0m\n\u001b[0;32m    311\u001b[0m             \u001b[0mindices\u001b[0m \u001b[1;33m=\u001b[0m \u001b[1;33m(\u001b[0m\u001b[0mscores\u001b[0m \u001b[1;33m>\u001b[0m \u001b[1;36m0\u001b[0m\u001b[1;33m)\u001b[0m\u001b[1;33m.\u001b[0m\u001b[0mastype\u001b[0m\u001b[1;33m(\u001b[0m\u001b[0mint\u001b[0m\u001b[1;33m)\u001b[0m\u001b[1;33m\u001b[0m\u001b[1;33m\u001b[0m\u001b[0m\n",
      "\u001b[1;32m~\\anaconda3\\lib\\site-packages\\sklearn\\linear_model\\_base.py\u001b[0m in \u001b[0;36mdecision_function\u001b[1;34m(self, X)\u001b[0m\n\u001b[0;32m    286\u001b[0m         \u001b[0mn_features\u001b[0m \u001b[1;33m=\u001b[0m \u001b[0mself\u001b[0m\u001b[1;33m.\u001b[0m\u001b[0mcoef_\u001b[0m\u001b[1;33m.\u001b[0m\u001b[0mshape\u001b[0m\u001b[1;33m[\u001b[0m\u001b[1;36m1\u001b[0m\u001b[1;33m]\u001b[0m\u001b[1;33m\u001b[0m\u001b[1;33m\u001b[0m\u001b[0m\n\u001b[0;32m    287\u001b[0m         \u001b[1;32mif\u001b[0m \u001b[0mX\u001b[0m\u001b[1;33m.\u001b[0m\u001b[0mshape\u001b[0m\u001b[1;33m[\u001b[0m\u001b[1;36m1\u001b[0m\u001b[1;33m]\u001b[0m \u001b[1;33m!=\u001b[0m \u001b[0mn_features\u001b[0m\u001b[1;33m:\u001b[0m\u001b[1;33m\u001b[0m\u001b[1;33m\u001b[0m\u001b[0m\n\u001b[1;32m--> 288\u001b[1;33m             raise ValueError(\"X has %d features per sample; expecting %d\"\n\u001b[0m\u001b[0;32m    289\u001b[0m                              % (X.shape[1], n_features))\n\u001b[0;32m    290\u001b[0m \u001b[1;33m\u001b[0m\u001b[0m\n",
      "\u001b[1;31mValueError\u001b[0m: X has 4 features per sample; expecting 1"
     ]
    }
   ],
   "source": [
    "logreg.predict([a])"
   ]
  },
  {
   "cell_type": "markdown",
   "id": "f9e1b936-c6ed-4808-987c-4e26336066ce",
   "metadata": {
    "tags": []
   },
   "source": [
    "### Implementing Commonly Used Machine Learning Algorithms using Scikit Learn"
   ]
  },
  {
   "cell_type": "markdown",
   "id": "07860c44-4ad3-4dd2-b260-ddb865966b07",
   "metadata": {
    "tags": []
   },
   "source": [
    "#### Basic Skills Required"
   ]
  },
  {
   "cell_type": "markdown",
   "id": "850ceed5-2e52-4d3d-b48b-3de78796b9f7",
   "metadata": {},
   "source": [
    ".  Understand Machine Learning with a Use case\n",
    "\n",
    "    . Checkout Programming Knowledge Intro to ML video\n",
    "    \n",
    "    .  Read multiple blogs explaining Machine Learning Online\n",
    " \n",
    ".  Basic Python Programming skills\n",
    "   \n",
    "    . Checkout Programming Knowledge Python Tutorial videos\n",
    "    \n",
    "    . Follow python tutorials/blog posts online\n",
    "    \n",
    ". Basic Mathematicsl Skills  \n",
    "\n",
    "     . Linear Algebra basics\n",
    "      \n",
    "     . Probability basics"
   ]
  },
  {
   "cell_type": "markdown",
   "id": "b32fc37e-2c42-46cb-99f3-c553513ed47c",
   "metadata": {},
   "source": [
    "#### Academic Machine Learning"
   ]
  },
  {
   "cell_type": "markdown",
   "id": "fc191915-339e-496b-9454-18e6de9df22d",
   "metadata": {},
   "source": [
    ">Produce novel research ,Building Ml tools from scratch,Understanding Underlying concepts\n",
    "\n",
    ". Strong Mathematical Fundamentals\n",
    "  . Algebra\n",
    "     \n",
    "     . Linear algebra,logarithms, matrices and matrix multiplication,etc.\n",
    "     \n",
    "     .Calculus\n",
    "     \n",
    "        . Concept of derivative, Gradients, Chain Rule, etc.\n",
    "        \n",
    "        . Statistics\n",
    "        \n",
    "        . Mean,median,mode, outliers, ability to read histogram, Conditional Probability etec.\n",
    "        \n",
    "        . Intermediate Python Programming skills\n",
    "          \n",
    "            . List comprehensive,lambda functions, third party libraries etc\n",
    "            \n",
    "            . Strong Computer Science Fundamentals\n",
    "            \n",
    "                . Data Structures and Algorithms, etc."
   ]
  },
  {
   "cell_type": "markdown",
   "id": "f8232b3f-bcb1-4355-967d-a75385256e13",
   "metadata": {},
   "source": [
    "#### Industrial Machine learning"
   ]
  },
  {
   "cell_type": "markdown",
   "id": "fae2d9c4-855f-4aba-927c-6a5c85c6ca16",
   "metadata": {},
   "source": [
    ">If you want to work in company ,industry or be a soft ware engineer with the machine learning specialization.\n",
    "\n",
    ">If you want to create new products, business value and applying existing , 'off the shelf\"  tools to solve business problems .\n",
    "\n",
    ". Intermidiate/Advance Python Programming\n",
    "    . List comprehensions ,lambda functions, third party libraries ,etc.\n",
    "    \n",
    " . Strong Computer Science Fundamentals \n",
    "     \n",
    "     . Data Structures and Algorithms,etc.\n",
    "     (what the data is, what the data is trying to represents and how it works)\n",
    "     \n",
    "   .  [IMP]Data Analysis\n",
    "      \n",
    "      . Proficiency with frameworks and  tools such as pandas, matplotlib, seaborn ,etc . \n",
    "      \n",
    " . Linux Skills\n",
    " \n",
    "     . working on the command line, how to work on the terminal, how to use it beneficailly and ability to write most of the simple codes on the terminal.\n",
    "     \n",
    "     .You can also try academic machine learning tools or vise versa"
   ]
  },
  {
   "cell_type": "markdown",
   "id": "c7eab86f-3524-4731-a5b9-4b22a250b352",
   "metadata": {},
   "source": [
    "### Resources"
   ]
  },
  {
   "cell_type": "markdown",
   "id": "2d885527-b531-4526-b169-043438ff8b03",
   "metadata": {},
   "source": [
    ". Maths\n",
    "   . Linear Algebra - link\n",
    "    \n",
    "    .  Probability and Statistics - Link\n",
    "    \n",
    "    .Calculus- Link and Link\n",
    "\n",
    ". Computer Science Fundamentals\n",
    "\n",
    "     . Algorithms - link\n",
    "    \n",
    ". Data Analysis\n",
    "    \n",
    "    . Link and link\n",
    " "
   ]
  },
  {
   "cell_type": "markdown",
   "id": "6955ec8f-18ae-4df4-92a4-3f520aac2ae7",
   "metadata": {},
   "source": [
    "## Linear Regression\n",
    "\n",
    "####  Rounak Vyas\n",
    "####    https://rounakvyas.me\n",
    "####    Programing Knowledge"
   ]
  },
  {
   "cell_type": "markdown",
   "id": "f2dfc7f9-daac-4164-8f7d-73b9dc16cd3e",
   "metadata": {},
   "source": [
    "#### Agenda "
   ]
  },
  {
   "cell_type": "markdown",
   "id": "4a9623df-8f46-463d-b55e-f9cff0a402a4",
   "metadata": {},
   "source": [
    ". What is linear regression\n",
    "\n",
    ". The Intuition behind the algorithm\n",
    "\n",
    ". Understanding all the element of it"
   ]
  },
  {
   "cell_type": "markdown",
   "id": "f2c074cb-9cd0-4656-987e-a287eec971ce",
   "metadata": {},
   "source": [
    "#### Overview"
   ]
  },
  {
   "cell_type": "markdown",
   "id": "c3e9a523-a44e-449b-b2ce-3adbe208b835",
   "metadata": {},
   "source": [
    ". It is one of the most basic Machine Learning algorithm and eay to implement\n",
    "\n",
    ". It is a common process used in many applications of statistics in the real world"
   ]
  },
  {
   "cell_type": "markdown",
   "id": "ed5b480d-0049-4d3e-b08e-585b1bf689a8",
   "metadata": {},
   "source": [
    "#### What is Linear Regression ?"
   ]
  },
  {
   "cell_type": "markdown",
   "id": "23367383-abbe-4888-be53-e71d29e5bca0",
   "metadata": {},
   "source": [
    "Linear regression is used for finding linear rekationship between target and one or more predictors.\n",
    "\n",
    "The idea behind linear regression is to fit the observations of two variables into a linear relationship between them.\n",
    "\n",
    "In simple terms , the task is to draw the line that is best fitting or closest to the point with the x y co ordination and observations of the two variables which are expected to depend linearly on each other.\n",
    "\n",
    "In more simpler terms, given two variables x,y , the model can prodict the values of y given future observations of x.\n",
    "\n",
    "This idea is used to predict variables in countless situations.\n",
    "\n",
    "Example , the outcome of political elections the behaviour of the stock market or the performance of a professional athelete."
   ]
  },
  {
   "cell_type": "markdown",
   "id": "69224d6d-30f9-4f11-af1b-2694514fe2a8",
   "metadata": {},
   "source": [
    "There are two types of linear regression- \n",
    "\n",
    "> Simple and \n",
    "\n",
    "> Multiple\n"
   ]
  },
  {
   "cell_type": "markdown",
   "id": "3ee65801-9370-440d-85b9-4c013c6ba37b",
   "metadata": {},
   "source": [
    "#### Simple linear regression"
   ]
  },
  {
   "cell_type": "markdown",
   "id": "adb4deb6-51f4-45c9-bc2f-24562d423966",
   "metadata": {},
   "source": [
    "In simple linear regression, you look at drawing the line to find the best fit for your model, this line can be modelled based on the linear equation shown below.\n",
    "\n",
    "\n",
    "y = a_0 + a_1 * x               linear equation"
   ]
  },
  {
   "cell_type": "markdown",
   "id": "57dc4979-c6f0-4c7d-a2bb-7cf062fd18b3",
   "metadata": {},
   "source": [
    "Here x and y are the variable which should be avaialable in the dataset.\n",
    "\n",
    "\n",
    "The motive of the linear regression algorithm is to find the best value for  a_0 and a_1 which we call the parameters"
   ]
  },
  {
   "cell_type": "markdown",
   "id": "110a264c-7057-4c85-99c1-f55cc2e5cb2a",
   "metadata": {},
   "source": [
    "#### Two important concept"
   ]
  },
  {
   "cell_type": "markdown",
   "id": "dcd3d403-ef58-4243-8b06-9dee431eb206",
   "metadata": {},
   "source": [
    "There are two important concept you must know before undersatnding linear regression.\n",
    "\n",
    "1. Cost Function\n",
    "\n",
    "2. Gradient descent\n"
   ]
  },
  {
   "cell_type": "markdown",
   "id": "68aa952b-d133-46f6-ade5-58c1d898ed8f",
   "metadata": {},
   "source": [
    "####  Cost function"
   ]
  },
  {
   "cell_type": "raw",
   "id": "7bff3f27-1c0a-45c2-8a87-56bb16cde2b5",
   "metadata": {},
   "source": [
    "The cost function helps us to figure out the best possible values for a_0 and a_1 which would provide the best fit line for the data points.\n",
    "\n",
    "The differnce between the created values and the grand truth measures  ........\n",
    "\n",
    "\n",
    "....Get the difference, sum up all data points and divide that value by the total number of data points\n",
    "\n",
    "This provides the average squared error over all the data point.\n",
    "\n",
    "This cost function is also known as the mean Sqaured error.\n",
    "By 'cost' we mean\n",
    "The cost of  incorrectly predicting the datapoint by how far the line is far from the point."
   ]
  },
  {
   "cell_type": "markdown",
   "id": "fd480fa0-7409-4b0a-8b9e-f7e92a86f303",
   "metadata": {},
   "source": [
    "Mathematically , we find the mean distance  between all the poins and we want to minimize that dustance so that the line fits the data positively.\n"
   ]
  },
  {
   "cell_type": "markdown",
   "id": "eb21ab76-4e22-4837-8587-a055ce94f65d",
   "metadata": {},
   "source": [
    " minimize 1/n ∑^n i=1(predi - yi)^2\n",
    "\n",
    "j = 1/n ∑^n i=1(predi - yi)^2\n"
   ]
  },
  {
   "cell_type": "markdown",
   "id": "78c16c16-c9f6-4e6c-8f0b-821c66b8c865",
   "metadata": {},
   "source": [
    "#(X)=μ=∑xP(x).α"
   ]
  },
  {
   "cell_type": "markdown",
   "id": "f7797b14-21e8-4221-b7c6-573fb7709af5",
   "metadata": {},
   "source": [
    "#### Gradient Descent"
   ]
  },
  {
   "cell_type": "markdown",
   "id": "2ae1498e-a295-43e4-bf3d-902518cff05d",
   "metadata": {},
   "source": [
    "The next important function to know is gradient descent.\n",
    "\n",
    "To minimize the cost function, we use the technique Gradient descent.\n",
    "\n",
    "Gradient descent is a method of updating a_0 and a_1 to reduce the cost function(Mean Square error).\n",
    "\n",
    "Gradient descent helps us to change the value\n"
   ]
  },
  {
   "cell_type": "markdown",
   "id": "ea83c9fa-6624-4091-ac7f-1a9ff96cc4b3",
   "metadata": {},
   "source": [
    "To update a0 and a1 we take gradient from cost function to find these gradients we take possion derivators with respect to a0 and a1."
   ]
  },
  {
   "cell_type": "markdown",
   "id": "620b6fd4-9a35-4529-b827-e1162f78e108",
   "metadata": {},
   "source": [
    "a0 = a0 - α 2/n ∑^n i=1(predi - yi)\n",
    "\n",
    "a1 = a1 - α 2/n ∑^n i=1(predi - yi) . xi"
   ]
  },
  {
   "cell_type": "markdown",
   "id": "c4c8e790-0249-4c16-b3a3-09c4e4665b53",
   "metadata": {},
   "source": [
    "To understand how poisson derivators work, you will require some calculus but if you dont have no problems, you can take it as it is\n",
    "\n",
    "The poisson derivators are the gradients are used to update the values of a0 and a1\n",
    " \n",
    " α is the learning rate, it is the hyper parameter that you must specify"
   ]
  },
  {
   "cell_type": "markdown",
   "id": "8c64a607-5257-48e8-93e6-29b6a2e047b0",
   "metadata": {},
   "source": [
    "Gradient Descent\n",
    "\n",
    "A small learning rate can get you closer to the minimal but takes more time to reach the minimal\n",
    "\n",
    "A big learning rate converges sooner but ......\n",
    "\n",
    "\n",
    "This can be seen on the diagram \n",
    "\n",
    "pls refer to note book"
   ]
  },
  {
   "cell_type": "markdown",
   "id": "e540b1b1-eb1d-4383-9e91-0a56be9a881f",
   "metadata": {
    "tags": []
   },
   "source": [
    "#### Implementation"
   ]
  },
  {
   "cell_type": "markdown",
   "id": "9766b7de-b531-4c53-8ff9-03e46b5cadde",
   "metadata": {},
   "source": [
    "To implement the algorithm , we have two choices , we can either use the scikit learn library to import the linear regression model and use it directly or we can write our own regression model based on the equations above."
   ]
  },
  {
   "cell_type": "markdown",
   "id": "248d61ac-626d-40f5-9db3-8a6c58d2ccb9",
   "metadata": {},
   "source": [
    "The entire code can be viewed via this link\n",
    "\n",
    "Machine-Learning-Algorithm/Linear Regression/using-scikit_learn/\n",
    "\n",
    "\n",
    "itsron717/Machine-learning -Algorithm"
   ]
  },
  {
   "cell_type": "markdown",
   "id": "3e5525c2-c57c-4043-b302-0b6dc8248c79",
   "metadata": {},
   "source": [
    "#### Import required librabries"
   ]
  },
  {
   "cell_type": "markdown",
   "id": "97c698b4-fa10-403c-9d03-234c7bdad688",
   "metadata": {},
   "source": [
    "We will be using the jupiter note book but you can also implement thus in a single python file as well.\n",
    "\n",
    "Import pandas library to manipulate the dataset\n",
    "import matplotlib to visualize our data and the results\n",
    "\n",
    "We need the linear regression model from the scikit learn  which is the main dependent"
   ]
  },
  {
   "cell_type": "code",
   "execution_count": 204,
   "id": "f20f6647-9d55-4fd6-b48c-c2369a5217f7",
   "metadata": {},
   "outputs": [],
   "source": [
    "import pandas as pd \n",
    "import matplotlib.pyplot as plt\n",
    "from sklearn.linear_model import LinearRegression"
   ]
  },
  {
   "cell_type": "markdown",
   "id": "510bf2d8-7844-4214-b8b0-77c910e80a64",
   "metadata": {},
   "source": [
    "#### Read the data"
   ]
  },
  {
   "cell_type": "code",
   "execution_count": 205,
   "id": "0b34665c-bb80-4861-a28b-c611ae7877a4",
   "metadata": {},
   "outputs": [
    {
     "data": {
      "text/html": [
       "<div>\n",
       "<style scoped>\n",
       "    .dataframe tbody tr th:only-of-type {\n",
       "        vertical-align: middle;\n",
       "    }\n",
       "\n",
       "    .dataframe tbody tr th {\n",
       "        vertical-align: top;\n",
       "    }\n",
       "\n",
       "    .dataframe thead th {\n",
       "        text-align: right;\n",
       "    }\n",
       "</style>\n",
       "<table border=\"1\" class=\"dataframe\">\n",
       "  <thead>\n",
       "    <tr style=\"text-align: right;\">\n",
       "      <th></th>\n",
       "      <th>Unnamed: 0</th>\n",
       "      <th>TV</th>\n",
       "      <th>Radio</th>\n",
       "      <th>Newspaper</th>\n",
       "      <th>Sales</th>\n",
       "    </tr>\n",
       "  </thead>\n",
       "  <tbody>\n",
       "    <tr>\n",
       "      <th>0</th>\n",
       "      <td>1</td>\n",
       "      <td>230.1</td>\n",
       "      <td>37.8</td>\n",
       "      <td>69.2</td>\n",
       "      <td>22.1</td>\n",
       "    </tr>\n",
       "    <tr>\n",
       "      <th>1</th>\n",
       "      <td>2</td>\n",
       "      <td>44.5</td>\n",
       "      <td>39.3</td>\n",
       "      <td>45.1</td>\n",
       "      <td>10.4</td>\n",
       "    </tr>\n",
       "    <tr>\n",
       "      <th>2</th>\n",
       "      <td>3</td>\n",
       "      <td>17.2</td>\n",
       "      <td>45.9</td>\n",
       "      <td>69.3</td>\n",
       "      <td>9.3</td>\n",
       "    </tr>\n",
       "    <tr>\n",
       "      <th>3</th>\n",
       "      <td>4</td>\n",
       "      <td>151.5</td>\n",
       "      <td>41.3</td>\n",
       "      <td>58.5</td>\n",
       "      <td>18.5</td>\n",
       "    </tr>\n",
       "    <tr>\n",
       "      <th>4</th>\n",
       "      <td>5</td>\n",
       "      <td>180.8</td>\n",
       "      <td>10.8</td>\n",
       "      <td>58.4</td>\n",
       "      <td>12.9</td>\n",
       "    </tr>\n",
       "    <tr>\n",
       "      <th>...</th>\n",
       "      <td>...</td>\n",
       "      <td>...</td>\n",
       "      <td>...</td>\n",
       "      <td>...</td>\n",
       "      <td>...</td>\n",
       "    </tr>\n",
       "    <tr>\n",
       "      <th>195</th>\n",
       "      <td>196</td>\n",
       "      <td>38.2</td>\n",
       "      <td>3.7</td>\n",
       "      <td>13.8</td>\n",
       "      <td>7.6</td>\n",
       "    </tr>\n",
       "    <tr>\n",
       "      <th>196</th>\n",
       "      <td>197</td>\n",
       "      <td>94.2</td>\n",
       "      <td>4.9</td>\n",
       "      <td>8.1</td>\n",
       "      <td>9.7</td>\n",
       "    </tr>\n",
       "    <tr>\n",
       "      <th>197</th>\n",
       "      <td>198</td>\n",
       "      <td>177.0</td>\n",
       "      <td>9.3</td>\n",
       "      <td>6.4</td>\n",
       "      <td>12.8</td>\n",
       "    </tr>\n",
       "    <tr>\n",
       "      <th>198</th>\n",
       "      <td>199</td>\n",
       "      <td>283.6</td>\n",
       "      <td>42.0</td>\n",
       "      <td>66.2</td>\n",
       "      <td>25.5</td>\n",
       "    </tr>\n",
       "    <tr>\n",
       "      <th>199</th>\n",
       "      <td>200</td>\n",
       "      <td>232.1</td>\n",
       "      <td>8.6</td>\n",
       "      <td>8.7</td>\n",
       "      <td>13.4</td>\n",
       "    </tr>\n",
       "  </tbody>\n",
       "</table>\n",
       "<p>200 rows × 5 columns</p>\n",
       "</div>"
      ],
      "text/plain": [
       "     Unnamed: 0     TV  Radio  Newspaper  Sales\n",
       "0             1  230.1   37.8       69.2   22.1\n",
       "1             2   44.5   39.3       45.1   10.4\n",
       "2             3   17.2   45.9       69.3    9.3\n",
       "3             4  151.5   41.3       58.5   18.5\n",
       "4             5  180.8   10.8       58.4   12.9\n",
       "..          ...    ...    ...        ...    ...\n",
       "195         196   38.2    3.7       13.8    7.6\n",
       "196         197   94.2    4.9        8.1    9.7\n",
       "197         198  177.0    9.3        6.4   12.8\n",
       "198         199  283.6   42.0       66.2   25.5\n",
       "199         200  232.1    8.6        8.7   13.4\n",
       "\n",
       "[200 rows x 5 columns]"
      ]
     },
     "execution_count": 205,
     "metadata": {},
     "output_type": "execute_result"
    }
   ],
   "source": [
    "data = pd.read_csv(\"C:\\\\Users\\\\user\\\\Downloads\\\\Advertising.csv\")\n",
    "data"
   ]
  },
  {
   "cell_type": "markdown",
   "id": "bc45970b-c436-46bc-b981-1068f690e3d1",
   "metadata": {},
   "source": [
    "###### To see what the column looks like we use data.head"
   ]
  },
  {
   "cell_type": "code",
   "execution_count": 100,
   "id": "f60b4ebc-3cc2-405d-90f7-dcd0c61bd06e",
   "metadata": {},
   "outputs": [
    {
     "data": {
      "text/html": [
       "<div>\n",
       "<style scoped>\n",
       "    .dataframe tbody tr th:only-of-type {\n",
       "        vertical-align: middle;\n",
       "    }\n",
       "\n",
       "    .dataframe tbody tr th {\n",
       "        vertical-align: top;\n",
       "    }\n",
       "\n",
       "    .dataframe thead th {\n",
       "        text-align: right;\n",
       "    }\n",
       "</style>\n",
       "<table border=\"1\" class=\"dataframe\">\n",
       "  <thead>\n",
       "    <tr style=\"text-align: right;\">\n",
       "      <th></th>\n",
       "      <th>Unnamed: 0</th>\n",
       "      <th>TV</th>\n",
       "      <th>Radio</th>\n",
       "      <th>Newspaper</th>\n",
       "      <th>Sales</th>\n",
       "    </tr>\n",
       "  </thead>\n",
       "  <tbody>\n",
       "    <tr>\n",
       "      <th>0</th>\n",
       "      <td>1</td>\n",
       "      <td>230.1</td>\n",
       "      <td>37.8</td>\n",
       "      <td>69.2</td>\n",
       "      <td>22.1</td>\n",
       "    </tr>\n",
       "    <tr>\n",
       "      <th>1</th>\n",
       "      <td>2</td>\n",
       "      <td>44.5</td>\n",
       "      <td>39.3</td>\n",
       "      <td>45.1</td>\n",
       "      <td>10.4</td>\n",
       "    </tr>\n",
       "    <tr>\n",
       "      <th>2</th>\n",
       "      <td>3</td>\n",
       "      <td>17.2</td>\n",
       "      <td>45.9</td>\n",
       "      <td>69.3</td>\n",
       "      <td>9.3</td>\n",
       "    </tr>\n",
       "    <tr>\n",
       "      <th>3</th>\n",
       "      <td>4</td>\n",
       "      <td>151.5</td>\n",
       "      <td>41.3</td>\n",
       "      <td>58.5</td>\n",
       "      <td>18.5</td>\n",
       "    </tr>\n",
       "    <tr>\n",
       "      <th>4</th>\n",
       "      <td>5</td>\n",
       "      <td>180.8</td>\n",
       "      <td>10.8</td>\n",
       "      <td>58.4</td>\n",
       "      <td>12.9</td>\n",
       "    </tr>\n",
       "  </tbody>\n",
       "</table>\n",
       "</div>"
      ],
      "text/plain": [
       "   Unnamed: 0     TV  Radio  Newspaper  Sales\n",
       "0           1  230.1   37.8       69.2   22.1\n",
       "1           2   44.5   39.3       45.1   10.4\n",
       "2           3   17.2   45.9       69.3    9.3\n",
       "3           4  151.5   41.3       58.5   18.5\n",
       "4           5  180.8   10.8       58.4   12.9"
      ]
     },
     "execution_count": 100,
     "metadata": {},
     "output_type": "execute_result"
    }
   ],
   "source": [
    "data.head()"
   ]
  },
  {
   "cell_type": "markdown",
   "id": "4bccb2f9-9267-4cbb-b4d3-0cde9cec9ee8",
   "metadata": {},
   "source": [
    "We need to clean our data\n",
    "\n",
    "If you observe we have unnamed column 0, so we need to remove it.  Remove redundant column , remember axis = 1 refers to column (vertical)"
   ]
  },
  {
   "cell_type": "markdown",
   "id": "d9bb074a-0197-47ab-bc89-7e6a7a6352f3",
   "metadata": {},
   "source": [
    "Difference between a column and row. The key difference between columns and rows is that a column arranges data vertically from top to bottom, while a row arranges data horizontally from left to right. Rows and columns are different based on how they align data."
   ]
  },
  {
   "cell_type": "code",
   "execution_count": 206,
   "id": "eb9e34d4-2c3b-4c61-9d3f-017c94d73943",
   "metadata": {},
   "outputs": [
    {
     "data": {
      "text/html": [
       "<div>\n",
       "<style scoped>\n",
       "    .dataframe tbody tr th:only-of-type {\n",
       "        vertical-align: middle;\n",
       "    }\n",
       "\n",
       "    .dataframe tbody tr th {\n",
       "        vertical-align: top;\n",
       "    }\n",
       "\n",
       "    .dataframe thead th {\n",
       "        text-align: right;\n",
       "    }\n",
       "</style>\n",
       "<table border=\"1\" class=\"dataframe\">\n",
       "  <thead>\n",
       "    <tr style=\"text-align: right;\">\n",
       "      <th></th>\n",
       "      <th>TV</th>\n",
       "      <th>Radio</th>\n",
       "      <th>Newspaper</th>\n",
       "      <th>Sales</th>\n",
       "    </tr>\n",
       "  </thead>\n",
       "  <tbody>\n",
       "    <tr>\n",
       "      <th>0</th>\n",
       "      <td>230.1</td>\n",
       "      <td>37.8</td>\n",
       "      <td>69.2</td>\n",
       "      <td>22.1</td>\n",
       "    </tr>\n",
       "    <tr>\n",
       "      <th>1</th>\n",
       "      <td>44.5</td>\n",
       "      <td>39.3</td>\n",
       "      <td>45.1</td>\n",
       "      <td>10.4</td>\n",
       "    </tr>\n",
       "    <tr>\n",
       "      <th>2</th>\n",
       "      <td>17.2</td>\n",
       "      <td>45.9</td>\n",
       "      <td>69.3</td>\n",
       "      <td>9.3</td>\n",
       "    </tr>\n",
       "    <tr>\n",
       "      <th>3</th>\n",
       "      <td>151.5</td>\n",
       "      <td>41.3</td>\n",
       "      <td>58.5</td>\n",
       "      <td>18.5</td>\n",
       "    </tr>\n",
       "    <tr>\n",
       "      <th>4</th>\n",
       "      <td>180.8</td>\n",
       "      <td>10.8</td>\n",
       "      <td>58.4</td>\n",
       "      <td>12.9</td>\n",
       "    </tr>\n",
       "    <tr>\n",
       "      <th>...</th>\n",
       "      <td>...</td>\n",
       "      <td>...</td>\n",
       "      <td>...</td>\n",
       "      <td>...</td>\n",
       "    </tr>\n",
       "    <tr>\n",
       "      <th>195</th>\n",
       "      <td>38.2</td>\n",
       "      <td>3.7</td>\n",
       "      <td>13.8</td>\n",
       "      <td>7.6</td>\n",
       "    </tr>\n",
       "    <tr>\n",
       "      <th>196</th>\n",
       "      <td>94.2</td>\n",
       "      <td>4.9</td>\n",
       "      <td>8.1</td>\n",
       "      <td>9.7</td>\n",
       "    </tr>\n",
       "    <tr>\n",
       "      <th>197</th>\n",
       "      <td>177.0</td>\n",
       "      <td>9.3</td>\n",
       "      <td>6.4</td>\n",
       "      <td>12.8</td>\n",
       "    </tr>\n",
       "    <tr>\n",
       "      <th>198</th>\n",
       "      <td>283.6</td>\n",
       "      <td>42.0</td>\n",
       "      <td>66.2</td>\n",
       "      <td>25.5</td>\n",
       "    </tr>\n",
       "    <tr>\n",
       "      <th>199</th>\n",
       "      <td>232.1</td>\n",
       "      <td>8.6</td>\n",
       "      <td>8.7</td>\n",
       "      <td>13.4</td>\n",
       "    </tr>\n",
       "  </tbody>\n",
       "</table>\n",
       "<p>200 rows × 4 columns</p>\n",
       "</div>"
      ],
      "text/plain": [
       "        TV  Radio  Newspaper  Sales\n",
       "0    230.1   37.8       69.2   22.1\n",
       "1     44.5   39.3       45.1   10.4\n",
       "2     17.2   45.9       69.3    9.3\n",
       "3    151.5   41.3       58.5   18.5\n",
       "4    180.8   10.8       58.4   12.9\n",
       "..     ...    ...        ...    ...\n",
       "195   38.2    3.7       13.8    7.6\n",
       "196   94.2    4.9        8.1    9.7\n",
       "197  177.0    9.3        6.4   12.8\n",
       "198  283.6   42.0       66.2   25.5\n",
       "199  232.1    8.6        8.7   13.4\n",
       "\n",
       "[200 rows x 4 columns]"
      ]
     },
     "execution_count": 206,
     "metadata": {},
     "output_type": "execute_result"
    }
   ],
   "source": [
    "data.drop(['Unnamed: 0'], axis =1)"
   ]
  },
  {
   "cell_type": "markdown",
   "id": "f9b778f8-d64b-46bc-a7bc-586e5bbac913",
   "metadata": {},
   "source": [
    "For simple linear regression we will be considering the effect of TV and sales"
   ]
  },
  {
   "cell_type": "markdown",
   "id": "61f04bba-5c41-42fa-a88c-a43bc1329917",
   "metadata": {},
   "source": [
    "##### Visualize the data  (Tv Ads on Sales)"
   ]
  },
  {
   "cell_type": "markdown",
   "id": "1feda37b-5d3e-43f9-8860-c96b8ba0f44a",
   "metadata": {},
   "source": [
    "We will be using the matplotlib a popular python library to make a scatter plot."
   ]
  },
  {
   "cell_type": "code",
   "execution_count": 207,
   "id": "ddf8b840-f4e2-44fb-9005-a7141f06c78e",
   "metadata": {},
   "outputs": [
    {
     "data": {
      "text/plain": [
       "<matplotlib.collections.PathCollection at 0x20660cd1370>"
      ]
     },
     "execution_count": 207,
     "metadata": {},
     "output_type": "execute_result"
    },
    {
     "data": {
      "image/png": "[encoded data removed]",
      "text/plain": [
       "<Figure size 1152x576 with 1 Axes>"
      ]
     },
     "metadata": {
      "needs_background": "light"
     },
     "output_type": "display_data"
    }
   ],
   "source": [
    "plt.figure(figsize=(16, 8))\n",
    "plt.scatter(data['TV'], data['Sales'], c='black')"
   ]
  },
  {
   "cell_type": "markdown",
   "id": "6ed80e02-60c0-4a83-bad1-fcb1037c3d41",
   "metadata": {},
   "source": [
    "From the graph we can see that there is a clear relationship between amount spent on Tv Ad and sales."
   ]
  },
  {
   "cell_type": "markdown",
   "id": "66b975ea-0307-4682-b598-3e1876bd08c0",
   "metadata": {},
   "source": [
    "##### Generate linear Appreciation of this data"
   ]
  },
  {
   "cell_type": "markdown",
   "id": "766ade77-2797-4db8-9160-5964c60b2520",
   "metadata": {},
   "source": [
    "First we convert these variables into vectors using the reshape function and store them into 2 variables. \n",
    "(TV sales and Sales)\n",
    "\n",
    "Then we use the fix functin of the linear regression function to fix the lines of x and y\n",
    "Then call the fit function of x and y"
   ]
  },
  {
   "cell_type": "code",
   "execution_count": 247,
   "id": "389b51f9-a19e-4bf3-9acf-a2bc186ad95a",
   "metadata": {},
   "outputs": [
    {
     "data": {
      "text/plain": [
       "LinearRegression()"
      ]
     },
     "execution_count": 247,
     "metadata": {},
     "output_type": "execute_result"
    }
   ],
   "source": [
    "X = data['TV'].values.reshape(-1, 1)\n",
    "Y = data['Sales'].values.reshape(-1, 1)\n",
    "\n",
    "reg = LinearRegression()\n",
    "reg.fit(X,Y)"
   ]
  },
  {
   "cell_type": "markdown",
   "id": "7934321e-cd1e-4cb5-aac2-6e6e320d3a7d",
   "metadata": {},
   "source": [
    "##### Visualise the Best Fit Line"
   ]
  },
  {
   "cell_type": "markdown",
   "id": "fa214d2b-04c6-4edc-bf1c-6d9b9a5a40ae",
   "metadata": {},
   "source": [
    "Lets visualize it using the scatter plot again\n",
    "\n",
    "First, we predict all the values on the x dataset then we use these predictions to make a line on the scatter plot.\n",
    "\n",
    "the dots  will be in black and the line will be in blue.\n",
    "\n",
    "the xlabel will be money spent on TV ads and y label will be sales."
   ]
  },
  {
   "cell_type": "code",
   "execution_count": 248,
   "id": "e21b796b-5b88-4738-bff4-fea7cae25d9b",
   "metadata": {},
   "outputs": [
    {
     "data": {
      "image/png": "[encoded data removed]",
      "text/plain": [
       "<Figure size 1152x576 with 1 Axes>"
      ]
     },
     "metadata": {
      "needs_background": "light"
     },
     "output_type": "display_data"
    }
   ],
   "source": [
    "predictions = reg.predict(X)\n",
    "plt.figure(figsize=(16, 8))\n",
    "plt.scatter(\n",
    "    data['TV'],\n",
    "    data['Sales'],\n",
    "    c='black'\n",
    ")\n",
    "plt.plot(\n",
    "     data['TV'],\n",
    "     predictions,\n",
    "     c='blue',\n",
    "     linewidth=2\n",
    ") \n",
    "plt.xlabel(\"Money spent on TV ads  ($)\")\n",
    "plt.ylabel(\"Sales ($)\")\n",
    "plt.show()"
   ]
  },
  {
   "cell_type": "markdown",
   "id": "e8de3946-a175-41e5-9877-8eb894be96a3",
   "metadata": {},
   "source": [
    "From the graph it seems that a simple linear regression model can explain explain the general impact of amount spent on TV ads and sales.\n",
    "\n",
    "This is how we implement linear regression model using the scikit learn library."
   ]
  },
  {
   "cell_type": "markdown",
   "id": "3eefacb3-5b93-4b58-8835-23e05145d237",
   "metadata": {},
   "source": [
    "### Logistic Regression"
   ]
  },
  {
   "cell_type": "markdown",
   "id": "6501b39d-2fcc-4f6f-810c-d4958761732e",
   "metadata": {},
   "source": [
    "#### Overview"
   ]
  },
  {
   "cell_type": "markdown",
   "id": "707e6360-b46e-44ab-a438-bcca3d39da5a",
   "metadata": {},
   "source": [
    ". Classification techniques are are an essential part of machine learning and data mining applications.\n",
    "\n",
    "Aproximately 70% of problems in data science are classification problems.\n",
    "\n",
    "There are alot of classification problem that are available but Logistic regression is common and it is a useful regression method for solving the binary classification problem. \n",
    "\n",
    ".Logistic Regression can be used for various classification problems such as spam detection, Diabetics prediction, forecasting,wether the user will purchase or not, click on a given ad link or not etc"
   ]
  },
  {
   "cell_type": "markdown",
   "id": "7e2aca84-df1a-4768-a22f-4d2cf67d3a5a",
   "metadata": {},
   "source": [
    "#### What is logistic Regression ?"
   ]
  },
  {
   "cell_type": "markdown",
   "id": "100b6fa0-21d9-42ac-a7de-70326e90ec4d",
   "metadata": {},
   "source": [
    "Logistic regression is one of the most simple and commonly used Machine learning  algorithms for two-class classification.It is a statistical method to predict binary classes. \n",
    "\n",
    "It's basic fundamental concept is also used in deep learning.\n",
    "\n",
    "It is a special case of linear regression and its target variable is categorical in nature.\n",
    "\n",
    "It uses a log of odds as a dependent variable.\n",
    "\n",
    "It predicts the probability of binary  even utilizing logistic function."
   ]
  },
  {
   "cell_type": "markdown",
   "id": "121c3baf-fc88-43eb-95fe-992c1ff2c688",
   "metadata": {},
   "source": [
    " We need to catagorize the data into different categories, and our job is to define the line that does it. "
   ]
  },
  {
   "cell_type": "markdown",
   "id": "531bce66-1a8c-40ea-80d1-750331003363",
   "metadata": {},
   "source": [
    "#### Why is it called Logistic regression ?"
   ]
  },
  {
   "cell_type": "markdown",
   "id": "295e6b0a-bfb8-4165-a7b9-16554dd908be",
   "metadata": {},
   "source": [
    "This is due to classification mechanism\n",
    "\n",
    "Contrary to popular belief, Logistic regression IS a regresion model\n",
    "\n",
    "The model build a regression model to predict the probability that the given data entry belongs to the category number as 1.\n",
    "\n",
    "Just like Linear regression assumes that the data follows a linear function, Logistic regression models the data using the 'Sigmoid function'"
   ]
  },
  {
   "cell_type": "markdown",
   "id": "e3cf4ab9-8f24-4534-8f43-ca8c3f350963",
   "metadata": {},
   "source": [
    "Linear regression gives you a continuous output but logistic regression ,logistic regression provides a conscious ... output\n",
    "\n",
    "An example of a continuous output is .....\n",
    "\n",
    "An example of discrete output is predicting that a patient have cancer or not or predicting if a customer will click on an ad or not."
   ]
  },
  {
   "cell_type": "markdown",
   "id": "c56a83f2-540f-4545-be4b-29a4a01afb0c",
   "metadata": {},
   "source": [
    "#### Applying sigmod function to the linear regression equation"
   ]
  },
  {
   "cell_type": "code",
   "execution_count": null,
   "id": "80750589-04ef-4a7c-bb5b-977d4545bfcc",
   "metadata": {},
   "outputs": [],
   "source": []
  },
  {
   "cell_type": "markdown",
   "id": "6aa127db-1e43-4d7c-a0ad-22784da06b2c",
   "metadata": {},
   "source": [
    "y = β0 + β1X1 +  β2X2 +.... + βnXn  linear Reg.Eq.\n",
    "\n",
    "P = 1/1 + e^-y        Sigmoid function\n",
    "\n",
    "P = 1/1 + e^-(β0 + β1X1 +  β2X2 +.... + βnXn ) \n",
    "\n",
    "Applying sigmoid to linear reg"
   ]
  },
  {
   "cell_type": "markdown",
   "id": "22275899-483d-4ac9-9a10-0d1c6031a3d2",
   "metadata": {},
   "source": [
    "#### Sigmoid Function"
   ]
  },
  {
   "cell_type": "markdown",
   "id": "10865f06-777b-43ae-8893-2c9f2f67ef03",
   "metadata": {},
   "source": [
    "The sigmoid  function, also called logistic function gives an 'S' shaped curve that can take any real-valued number and map it into a value between 0 and 1. "
   ]
  },
  {
   "cell_type": "markdown",
   "id": "6a017b76-4b6b-4e77-9492-226cb04538bc",
   "metadata": {},
   "source": [
    "f(x) = 1 / 1 + e ^ -(x)"
   ]
  },
  {
   "cell_type": "markdown",
   "id": "8f51ce17-0832-49cf-9326-fe8aa76adfa3",
   "metadata": {},
   "source": [
    "If the curve goes to positive infinity, y predicted will be 1,\n",
    "if the curve does to negative infinity, y predicted will becone zero.\n",
    "\n",
    "If the output of the sigmoid function is more than 0.5 we can classify the outcome as yes or one and if it is less than 0.5 , we can clasify it as zero or No"
   ]
  },
  {
   "cell_type": "markdown",
   "id": "38e9400d-7aa7-4f59-8a13-bfd518965896",
   "metadata": {},
   "source": [
    "For example ,if the output is 0.75 , we can say that there is a 75% chance that a patient will suffer from cancer"
   ]
  },
  {
   "cell_type": "markdown",
   "id": "1ca00405-b0b5-4e13-aea5-8d78e104a905",
   "metadata": {},
   "source": [
    "#### Cost Function"
   ]
  },
  {
   "cell_type": "markdown",
   "id": "cb3bb870-afc6-47cb-8e5d-77977b1d7173",
   "metadata": {},
   "source": [
    "Just like we need a cost function for linear regression , we need one as well for logistic regression as well , which has to be used to obtain the best fit line.\n",
    "\n",
    "The cost function used in linear regression won't work here. if you try to use the linear regression cost function to generate j(0) in a logistic regresion problem you would end up with a non-convex function a weirdly-shaped graph with no easy to find minimum global point. \n",
    "\n",
    "Hence, we have a differnt cost function for linear regression"
   ]
  },
  {
   "cell_type": "markdown",
   "id": "f7543406-b8ef-4452-896a-896e3363d1f2",
   "metadata": {},
   "source": [
    "h(x1) = g(β^Tx1) = 1 / 1 + e^β^Txi\n",
    "\n",
    "Cost(h0(x),y)= { -log(h0(x))\n",
    "\n",
    "if y = 1   \n",
    "                -log(1-h0(x)) if y = 0\n",
    "                \n",
    "  J(β) =  Σ^n i=1 - y1log(h(x1)) -\n",
    "  \n",
    "  (1 - yi)log(1 - h(xi))  \n",
    "  \n",
    "  (final cost function)        "
   ]
  },
  {
   "cell_type": "markdown",
   "id": "7e7fab12-8240-4c90-a5f2-4ae9f9d31c15",
   "metadata": {},
   "source": [
    "#### Gradient Descent"
   ]
  },
  {
   "cell_type": "markdown",
   "id": "420e156d-16ac-47ed-88e2-82519818e93c",
   "metadata": {},
   "source": [
    "Gradient descent is a method of updating hyperparameters (beta) to reduce the cost function.\n",
    "\n",
    " In other words to minimize the cost function by running the gradent descent algorithm.\n",
    "\n",
    "The procedure is identical with what we did for linear regression.\n",
    "\n",
    "To minimise the cost function ,we have to run the gradient descent function on each parameter and that is how gradient descent works."
   ]
  },
  {
   "cell_type": "markdown",
   "id": "ec60924f-3e64-4cf1-a7f7-f87fcc5994a2",
   "metadata": {},
   "source": [
    "Repeat{\n",
    "    \n",
    "    βj : = βj - α ∑^n i=1 (h(xi) - yi)xij\n",
    "    \n",
    "    (Simultaneously updata all βj )\n",
    "}"
   ]
  },
  {
   "cell_type": "markdown",
   "id": "ccee7b96-4349-4ad7-813d-c66ee4aadf1c",
   "metadata": {},
   "source": [
    "In the end we get the best parameter that can work with the hypothesis function to predict to whether a data point belongs to one class or the other."
   ]
  },
  {
   "cell_type": "markdown",
   "id": "a5678a2f-654e-479c-a059-c61d4856e23c",
   "metadata": {},
   "source": [
    "#### Implementation"
   ]
  },
  {
   "cell_type": "markdown",
   "id": "2f630a8f-dd73-476f-8fa8-475ac9392068",
   "metadata": {},
   "source": [
    "We have two choices, we have either use the scikit learn library to import logistic regression model and use it directly or we can write our own model based on the equations above."
   ]
  },
  {
   "cell_type": "markdown",
   "id": "c347e9d8-8ad3-41e2-b26d-ffa988997405",
   "metadata": {},
   "source": [
    "Logistic regression is among the most commonly known code  machine learning algorithm out there.\n",
    "\n",
    "It has many applications in businesses one of which is the pricing optimization.\n",
    "\n",
    "\n",
    "We will be learning  how to code logistic regression in python using the scikit learn library to solve a big pricing problem"
   ]
  },
  {
   "cell_type": "markdown",
   "id": "d8eb5aa3-dc8c-4a32-9fda-0593de1de7fa",
   "metadata": {},
   "source": [
    "#### Recap"
   ]
  },
  {
   "cell_type": "markdown",
   "id": "e28cf862-cbf3-43ae-b519-fcd86cc87a88",
   "metadata": {},
   "source": [
    "Logistic regression is a linear model that aims to explain the relationshipp between a dependent binary variable and one or more independent variables.\n",
    "\n",
    "The output of logistic regression is a number between 0 and 1 ,which you can think of as being the probability that a given class is true or not.\n",
    "\n",
    "The output is between 0 and 1 because the output is transformed by a function which usually the sigmoid function.\n",
    "\n",
    "We will be doing the implementation with a very simple example.\n",
    "\n",
    "We will be implementing a very basic logistic regression model using scikit learn without a trained test split on the data set and with mimimum data visualization."
   ]
  },
  {
   "cell_type": "markdown",
   "id": "8dd39708-e420-462c-bbb8-f17f23526e4f",
   "metadata": {},
   "source": [
    "Import all the dependencies"
   ]
  },
  {
   "cell_type": "code",
   "execution_count": 249,
   "id": "8d2c5499-fbfd-431b-a5d0-45f11c00933f",
   "metadata": {},
   "outputs": [],
   "source": [
    "import matplotlib.pyplot as plt\n",
    "import numpy as np\n",
    "from sklearn.linear_model import LogisticRegression"
   ]
  },
  {
   "cell_type": "markdown",
   "id": "4fe11668-0917-462b-a678-2095bbe6e8f2",
   "metadata": {},
   "source": [
    "Define dataset"
   ]
  },
  {
   "cell_type": "markdown",
   "id": "ceb2ebdd-235d-4d72-92b7-4d4dd78f9015",
   "metadata": {},
   "source": [
    "we have defined our own datatset"
   ]
  },
  {
   "cell_type": "code",
   "execution_count": 250,
   "id": "97671a6b-3d5c-4b7c-afb1-126e237e554e",
   "metadata": {},
   "outputs": [],
   "source": [
    "x = np.array([100,120,150,170,200,200,202,203,205,210,215,250,270,300,305,310])\n",
    "y = np.array([1,1,1,1,1,1,1,0,1,0,0,0,0,0,0,0])"
   ]
  },
  {
   "cell_type": "markdown",
   "id": "8d0d8e23-fa3e-44d8-9c65-633bace289ef",
   "metadata": {},
   "source": [
    "Plot the data"
   ]
  },
  {
   "cell_type": "markdown",
   "id": "a43445d1-560c-48d0-86de-5787ce6e675f",
   "metadata": {},
   "source": [
    "We need to visualize the data using matplotlib to gain a better understanding of what the input will be ....."
   ]
  },
  {
   "cell_type": "code",
   "execution_count": 251,
   "id": "716e9823-8f75-4763-9185-38055ad03887",
   "metadata": {},
   "outputs": [
    {
     "data": {
      "text/plain": [
       "<matplotlib.collections.PathCollection at 0x2066126b7f0>"
      ]
     },
     "execution_count": 251,
     "metadata": {},
     "output_type": "execute_result"
    },
    {
     "data": {
      "image/png": "[encoded data removed]",
      "text/plain": [
       "<Figure size 432x288 with 1 Axes>"
      ]
     },
     "metadata": {
      "needs_background": "light"
     },
     "output_type": "display_data"
    }
   ],
   "source": [
    "plt.scatter(x,y)"
   ]
  },
  {
   "cell_type": "markdown",
   "id": "3027eb82-6dd6-4fc3-9e15-ca7e474a1c38",
   "metadata": {},
   "source": [
    "Lets add title to our graph"
   ]
  },
  {
   "cell_type": "code",
   "execution_count": 252,
   "id": "c66e0725-ea63-4441-8b44-dcbcd149d57f",
   "metadata": {},
   "outputs": [
    {
     "data": {
      "text/plain": [
       "Text(0, 0.5, 'Staus (1:Won, 0:lost)')"
      ]
     },
     "execution_count": 252,
     "metadata": {},
     "output_type": "execute_result"
    },
    {
     "data": {
      "image/png": "[encoded data removed]",
      "text/plain": [
       "<Figure size 432x288 with 1 Axes>"
      ]
     },
     "metadata": {
      "needs_background": "light"
     },
     "output_type": "display_data"
    }
   ],
   "source": [
    "plt.scatter(x,y)\n",
    "plt.title(\"Pricing Bids\")\n",
    "plt.xlabel(\"Price\")\n",
    "plt.ylabel(\"Staus (1:Won, 0:lost)\")"
   ]
  },
  {
   "cell_type": "markdown",
   "id": "3d86714c-b6b9-4b02-8d41-255d3f012bf1",
   "metadata": {},
   "source": [
    "From the graph each point above represents a bid that we have particpated in.\n",
    "\n",
    "On the x axis , you can see the price that was offered and on the y axis you can see if you won the bid or not.\n",
    "\n",
    "Our goal is to use logistic regression to come up with a model that generates the probability of loosing or winning the bid into a particular place."
   ]
  },
  {
   "cell_type": "markdown",
   "id": "8257d4e9-8401-4f7f-acd6-13c6af5ad689",
   "metadata": {},
   "source": [
    "In python logistic regression is made simple thanks to those scikit learn model.\n",
    "Here we will be using logistic regression by the sk-learn linear model.\n"
   ]
  },
  {
   "cell_type": "markdown",
   "id": "157966d7-f8af-426b-a50c-c4f80681730a",
   "metadata": {},
   "source": [
    "Initialize and run the model"
   ]
  },
  {
   "cell_type": "markdown",
   "id": "20ad320a-72cf-40c0-8220-6d89838a9c94",
   "metadata": {},
   "source": [
    "Variable name logreg\n",
    "\n",
    "regularization strength C = 1.0.\n",
    "\n",
    "solver=\"1bfgs\"  this is an optimization strength\n",
    "\n",
    "\n",
    "for multi_class=\"ovr\"\n",
    "we specify all we have  because we are solving a binary class problem"
   ]
  },
  {
   "cell_type": "code",
   "execution_count": 253,
   "id": "8ff77026-e217-4f90-b1f8-473f8e25d366",
   "metadata": {},
   "outputs": [
    {
     "data": {
      "text/plain": [
       "LogisticRegression(multi_class='ovr')"
      ]
     },
     "execution_count": 253,
     "metadata": {},
     "output_type": "execute_result"
    }
   ],
   "source": [
    "logreg = LogisticRegression(C=1.0, solver=\"lbfgs\", multi_class=\"ovr\")\n",
    "X = x.reshape(-1, 1)\n",
    "logreg.fit(X,y)"
   ]
  },
  {
   "cell_type": "code",
   "execution_count": 111,
   "id": "dcf14b8a-d29a-4ff5-9006-5dccc75ec215",
   "metadata": {},
   "outputs": [
    {
     "ename": "AttributeError",
     "evalue": "'LogisticRegression' object has no attribute 'params'",
     "output_type": "error",
     "traceback": [
      "\u001b[1;31m---------------------------------------------------------------------------\u001b[0m",
      "\u001b[1;31mAttributeError\u001b[0m                            Traceback (most recent call last)",
      "\u001b[1;32m~\\AppData\\Local\\Temp/ipykernel_14048/971455063.py\u001b[0m in \u001b[0;36m<module>\u001b[1;34m\u001b[0m\n\u001b[1;32m----> 1\u001b[1;33m \u001b[0mlogreg\u001b[0m\u001b[1;33m.\u001b[0m\u001b[0mparams\u001b[0m\u001b[1;33m(\u001b[0m\u001b[0mx\u001b[0m\u001b[1;33m,\u001b[0m\u001b[0my\u001b[0m\u001b[1;33m)\u001b[0m\u001b[1;33m\u001b[0m\u001b[1;33m\u001b[0m\u001b[0m\n\u001b[0m",
      "\u001b[1;31mAttributeError\u001b[0m: 'LogisticRegression' object has no attribute 'params'"
     ]
    }
   ],
   "source": [
    "logreg.params(x,y)"
   ]
  },
  {
   "cell_type": "code",
   "execution_count": null,
   "id": "2f75671c-1f64-4487-8b7d-bf0079d053d2",
   "metadata": {},
   "outputs": [],
   "source": []
  },
  {
   "cell_type": "markdown",
   "id": "7fde2557-8141-4558-9e87-3f6342c6125a",
   "metadata": {},
   "source": [
    "The next step is to fit the logistic regression model by running the fit function....\n",
    "\n",
    "Before we do that, we will transform our x array into a 2D array as required by the sk-learn model.\n",
    "\n",
    "This is beacues we only have one feature which is the price.\n",
    "\n",
    "If we have more than one feature, our array will already be 2D and there will not be a need to transform our x array.\n",
    "\n",
    "So we eill use the resgape function to rehape our model \n",
    "then fit our model with logreg.fit (x,) to fit your model"
   ]
  },
  {
   "cell_type": "markdown",
   "id": "3cd16c8c-5635-4c09-8f41-f06d9770b147",
   "metadata": {
    "tags": []
   },
   "source": [
    "#### Predict values"
   ]
  },
  {
   "cell_type": "markdown",
   "id": "7d66d3fc-5b83-44bc-9bc8-30da23d920a5",
   "metadata": {},
   "source": [
    "If we want to run the prediction on a specific price , we can also do that,\n",
    "\n",
    "Lets say we want to find out if we lost or not when the price was 110,\n",
    "\n",
    "we should be winning when is 110  but if the price is around 275 we should be loosing the bid."
   ]
  },
  {
   "cell_type": "code",
   "execution_count": 216,
   "id": "3d6ba427-87c9-44a2-b0fc-fb69cacfeb04",
   "metadata": {},
   "outputs": [
    {
     "name": "stdout",
     "output_type": "stream",
     "text": [
      "[1]\n"
     ]
    }
   ],
   "source": [
    "print(logreg.predict([[110]]))"
   ]
  },
  {
   "cell_type": "code",
   "execution_count": 217,
   "id": "01997a44-608d-4965-9cee-da1e7fa8ea3a",
   "metadata": {},
   "outputs": [
    {
     "name": "stdout",
     "output_type": "stream",
     "text": [
      "[0]\n"
     ]
    }
   ],
   "source": [
    "print(logreg.predict([[275]]))"
   ]
  },
  {
   "cell_type": "markdown",
   "id": "b2f8f50b-e4ba-475a-948d-7cd65341d6a7",
   "metadata": {},
   "source": [
    "### Support Vector Machine (SVM)"
   ]
  },
  {
   "cell_type": "markdown",
   "id": "5c0d05b0-48b6-4610-9dad-03930292295a",
   "metadata": {},
   "source": [
    "Support vector machine is on of the most popular and talked about machine learning algorithms\n",
    "\n",
    "They were extremely popular during the 1990\"s and continued to be a useful ..... method for high performing algorithm."
   ]
  },
  {
   "cell_type": "markdown",
   "id": "fd603b71-6dc0-4c72-90ca-2f8c18064e0e",
   "metadata": {},
   "source": [
    "### Overview"
   ]
  },
  {
   "cell_type": "markdown",
   "id": "b829b1bf-27ef-404e-a945-9d7305658db2",
   "metadata": {},
   "source": [
    ". Support vector Machine (SVM) is a supervised machine learning algorithm which can be used for classification challenges.\n",
    "\n",
    ". In addition to performing liner classification, SVMs can efficiently perform a non-linear Classification."
   ]
  },
  {
   "cell_type": "markdown",
   "id": "2966c92c-c960-43ca-9cf6-601768b90ddd",
   "metadata": {},
   "source": [
    "#### What are SVMs?"
   ]
  },
  {
   "cell_type": "markdown",
   "id": "f00b97b9-2c04-495b-9e0e-d3a815d7e325",
   "metadata": {},
   "source": [
    "A Support Vector Machine (SVM) is a discriminative classifiier formally defined by a seperating hyperplane. In order words ,given labelled training data(supervised learning ), the algorithm outputs an optinal hyperplane which categorizes new examples."
   ]
  },
  {
   "cell_type": "markdown",
   "id": "594f2864-4288-46a6-814f-afb357fa4286",
   "metadata": {},
   "source": [
    "#### Layman Terms"
   ]
  },
  {
   "cell_type": "markdown",
   "id": "6a5fa046-5481-4ca7-ab38-d920d50258d9",
   "metadata": {},
   "source": [
    "An SVM model is a representation of the examples of the seperate categories are divided by a clear gap that is as wide as possible."
   ]
  },
  {
   "cell_type": "markdown",
   "id": "5a642f7d-6135-4579-95c3-60bc5a2a29df",
   "metadata": {},
   "source": [
    "#### What are SVMs?"
   ]
  },
  {
   "cell_type": "markdown",
   "id": "0dbec5c0-7be6-4de2-a1b2-f1ecdbe50fa2",
   "metadata": {},
   "source": [
    ". 1D Data- Support Vector Clasifier is a point.\n",
    "\n",
    ". 2D Data - Support Vector Classifier is a line\n",
    "\n",
    ". 3D Data - Support Vector Classifier is a plane\n",
    "\n",
    ". 4D Data or more -nSupport Vector Classifier is a hyperplane"
   ]
  },
  {
   "cell_type": "markdown",
   "id": "e84bfcb7-4511-4c31-9914-a2c05c9949ae",
   "metadata": {
    "tags": []
   },
   "source": [
    "#### Hyperplane "
   ]
  },
  {
   "cell_type": "markdown",
   "id": "8775a69f-0fb3-45db-88bf-2567df8c6b47",
   "metadata": {},
   "source": [
    "A hyperplane in an n-dimensional Euclidean space is a flat ,n-1 dimensional subset of that space that divides the space into two disconnected parts.\n",
    "\n",
    "A line is a hyperplane or even a 2D plane for a 2D data is a hyperplane."
   ]
  },
  {
   "cell_type": "markdown",
   "id": "b1a5cdeb-f120-4fcb-bdd0-86312fa94de4",
   "metadata": {},
   "source": [
    "#### Kernels"
   ]
  },
  {
   "cell_type": "markdown",
   "id": "50a777ef-d016-4f1d-90a5-6ee0841623d7",
   "metadata": {},
   "source": [
    "SVM algorithms uses a set of mathematical functions that will define .....\n",
    "\n",
    "Sometimes it is not possible to find a hyperplane or a linear decision boundary for some classification problems.If we project the data into a  higher dimension from from the original space. we may get a hyperplane in the projected dimension that helps to classify the data.\n",
    "\n",
    "\n",
    "#### Kernels\n",
    "\n",
    "Kernels helps to find a hyperplane in a higher dimensional space without increasing the computational cost much . Usually , the computational cost will increase,if the dimension of the data increases."
   ]
  },
  {
   "cell_type": "markdown",
   "id": "eca13fae-d180-4c99-9b4c-16d2f24c94bc",
   "metadata": {},
   "source": [
    "#### How a SVM Model Learns"
   ]
  },
  {
   "cell_type": "markdown",
   "id": "b53276ee-7266-45d4-b269-6bc64db0f2e0",
   "metadata": {},
   "source": [
    "The SVM model needs to be solved using an  optimization proceduere.\n",
    "\n",
    "You can use a numerical optimization procedure to search for the coefficients of the hyperplane.\n",
    "\n",
    "The most popular method for fitting SVM is the  'SMO'the sequential minimal Optimization method that is very effficient.\n",
    "\n",
    "It breaks problems into sub problems that can be solved analytically by calculating  rather than numerically by searching or optimizing ."
   ]
  },
  {
   "cell_type": "markdown",
   "id": "e9a0a98e-fbee-48e5-b6be-60b416e645a8",
   "metadata": {},
   "source": [
    "#### Implementation"
   ]
  },
  {
   "cell_type": "markdown",
   "id": "23da5167-a685-462b-9a51-dd407b00dc12",
   "metadata": {},
   "source": [
    "We will be implementing the SVM (Support Vector Machine.\n",
    "\n",
    "We have two choices .  We can either use the scikit learn library to import the SVM model and use it directly or we can write our own model from scratch "
   ]
  },
  {
   "cell_type": "markdown",
   "id": "b5a7a2b4-2a18-4af7-8db1-1a60a062c52b",
   "metadata": {},
   "source": [
    "A SVM is a type of supervised machine learning classification algorithm. it was used initially in the 1960's and later refined in the 1990's.\n",
    "\n",
    "However, it is only now that they are becoming extremely popular owing to the ability to achieve brilliant result.\n",
    "\n",
    "They are implemented in a unique way when compared with other machine learning algorithms.\n",
    "\n",
    "We will be implementing SVM with the help of scikit-learn library."
   ]
  },
  {
   "cell_type": "markdown",
   "id": "25661870-e5bc-4a34-95d9-5891a0a9b4f4",
   "metadata": {},
   "source": [
    "For the implementation our task is to predict whether a bank's currency note is autentic or not based on four attributes of the note.\n",
    "\n",
    "They are as folows :\n",
    "\n",
    "The skewness of the performed image\n",
    "\n",
    "The variance of the image \n",
    "\n",
    "The Entropy of the image\n",
    "\n",
    "The Curtosis of the image\n",
    "\n",
    "This is a binary classification problem and we will use SVM algorithm to solve this problem."
   ]
  },
  {
   "cell_type": "markdown",
   "id": "b452b41e-0447-4dd5-813c-162138d5c2db",
   "metadata": {},
   "source": [
    "linear regression gives you continous output but logistic gives you discrete output"
   ]
  },
  {
   "cell_type": "markdown",
   "id": "01a92355-9a8d-4ffc-a455-142077258ce6",
   "metadata": {},
   "source": [
    "In Mathematics, a variable can be classified into two types, namely: discrete or continuous. If a variable can take on two or more distinct real values so that it can also take all real values between them (even values that are randomly close together). In this case, the variable is continuous in the given interval. If a variable will take a non-infinitesimal break on each side of it, and it does not contain any values, then it is discrete around that value. In some instances, a variable will hold discrete values in some areas of the number line and continuous in others areas.."
   ]
  },
  {
   "cell_type": "markdown",
   "id": "b4887a19-6fec-4f93-a654-c5da47f152d6",
   "metadata": {},
   "source": [
    "##### Import all the dependemcies"
   ]
  },
  {
   "cell_type": "code",
   "execution_count": 254,
   "id": "b3a1a281-da9f-469d-b7e0-271b9076c58c",
   "metadata": {},
   "outputs": [],
   "source": [
    "import pandas as pd\n",
    "import numpy as np\n",
    "import matplotlib.pyplot as plt\n",
    "from sklearn.model_selection import train_test_split\n",
    "from sklearn.svm import SVC\n",
    "from sklearn.metrics import classification_report\n"
   ]
  },
  {
   "cell_type": "markdown",
   "id": "35e52ba7-42b4-4d72-8f45-9223bb0d7d3f",
   "metadata": {},
   "source": [
    "We will use sklearn.metrices classification report to evaluate our data"
   ]
  },
  {
   "cell_type": "code",
   "execution_count": 257,
   "id": "84c3c949-9832-4191-8966-303aac11aabb",
   "metadata": {},
   "outputs": [
    {
     "data": {
      "text/html": [
       "<div>\n",
       "<style scoped>\n",
       "    .dataframe tbody tr th:only-of-type {\n",
       "        vertical-align: middle;\n",
       "    }\n",
       "\n",
       "    .dataframe tbody tr th {\n",
       "        vertical-align: top;\n",
       "    }\n",
       "\n",
       "    .dataframe thead th {\n",
       "        text-align: right;\n",
       "    }\n",
       "</style>\n",
       "<table border=\"1\" class=\"dataframe\">\n",
       "  <thead>\n",
       "    <tr style=\"text-align: right;\">\n",
       "      <th></th>\n",
       "      <th>Variance</th>\n",
       "      <th>Skewness</th>\n",
       "      <th>Curtosis</th>\n",
       "      <th>Entropy</th>\n",
       "      <th>Class</th>\n",
       "    </tr>\n",
       "  </thead>\n",
       "  <tbody>\n",
       "    <tr>\n",
       "      <th>0</th>\n",
       "      <td>3.62160</td>\n",
       "      <td>8.66610</td>\n",
       "      <td>-2.8073</td>\n",
       "      <td>-0.44699</td>\n",
       "      <td>0</td>\n",
       "    </tr>\n",
       "    <tr>\n",
       "      <th>1</th>\n",
       "      <td>4.54590</td>\n",
       "      <td>8.16740</td>\n",
       "      <td>-2.4586</td>\n",
       "      <td>-1.46210</td>\n",
       "      <td>0</td>\n",
       "    </tr>\n",
       "    <tr>\n",
       "      <th>2</th>\n",
       "      <td>3.86600</td>\n",
       "      <td>-2.63830</td>\n",
       "      <td>1.9242</td>\n",
       "      <td>0.10645</td>\n",
       "      <td>0</td>\n",
       "    </tr>\n",
       "    <tr>\n",
       "      <th>3</th>\n",
       "      <td>3.45660</td>\n",
       "      <td>9.52280</td>\n",
       "      <td>-4.0112</td>\n",
       "      <td>-3.59440</td>\n",
       "      <td>0</td>\n",
       "    </tr>\n",
       "    <tr>\n",
       "      <th>4</th>\n",
       "      <td>0.32924</td>\n",
       "      <td>-4.45520</td>\n",
       "      <td>4.5718</td>\n",
       "      <td>-0.98880</td>\n",
       "      <td>0</td>\n",
       "    </tr>\n",
       "    <tr>\n",
       "      <th>...</th>\n",
       "      <td>...</td>\n",
       "      <td>...</td>\n",
       "      <td>...</td>\n",
       "      <td>...</td>\n",
       "      <td>...</td>\n",
       "    </tr>\n",
       "    <tr>\n",
       "      <th>1367</th>\n",
       "      <td>0.40614</td>\n",
       "      <td>1.34920</td>\n",
       "      <td>-1.4501</td>\n",
       "      <td>-0.55949</td>\n",
       "      <td>1</td>\n",
       "    </tr>\n",
       "    <tr>\n",
       "      <th>1368</th>\n",
       "      <td>-1.38870</td>\n",
       "      <td>-4.87730</td>\n",
       "      <td>6.4774</td>\n",
       "      <td>0.34179</td>\n",
       "      <td>1</td>\n",
       "    </tr>\n",
       "    <tr>\n",
       "      <th>1369</th>\n",
       "      <td>-3.75030</td>\n",
       "      <td>-13.45860</td>\n",
       "      <td>17.5932</td>\n",
       "      <td>-2.77710</td>\n",
       "      <td>1</td>\n",
       "    </tr>\n",
       "    <tr>\n",
       "      <th>1370</th>\n",
       "      <td>-3.56370</td>\n",
       "      <td>-8.38270</td>\n",
       "      <td>12.3930</td>\n",
       "      <td>-1.28230</td>\n",
       "      <td>1</td>\n",
       "    </tr>\n",
       "    <tr>\n",
       "      <th>1371</th>\n",
       "      <td>-2.54190</td>\n",
       "      <td>-0.65804</td>\n",
       "      <td>2.6842</td>\n",
       "      <td>1.19520</td>\n",
       "      <td>1</td>\n",
       "    </tr>\n",
       "  </tbody>\n",
       "</table>\n",
       "<p>1372 rows × 5 columns</p>\n",
       "</div>"
      ],
      "text/plain": [
       "      Variance  Skewness  Curtosis  Entropy  Class\n",
       "0      3.62160   8.66610   -2.8073 -0.44699      0\n",
       "1      4.54590   8.16740   -2.4586 -1.46210      0\n",
       "2      3.86600  -2.63830    1.9242  0.10645      0\n",
       "3      3.45660   9.52280   -4.0112 -3.59440      0\n",
       "4      0.32924  -4.45520    4.5718 -0.98880      0\n",
       "...        ...       ...       ...      ...    ...\n",
       "1367   0.40614   1.34920   -1.4501 -0.55949      1\n",
       "1368  -1.38870  -4.87730    6.4774  0.34179      1\n",
       "1369  -3.75030 -13.45860   17.5932 -2.77710      1\n",
       "1370  -3.56370  -8.38270   12.3930 -1.28230      1\n",
       "1371  -2.54190  -0.65804    2.6842  1.19520      1\n",
       "\n",
       "[1372 rows x 5 columns]"
      ]
     },
     "execution_count": 257,
     "metadata": {},
     "output_type": "execute_result"
    }
   ],
   "source": [
    "bankdata = pd.read_csv(\"C:\\\\Users\\\\user\\\\Downloads\\\\bill_authentication.Csv\")\n",
    "bankdata"
   ]
  },
  {
   "cell_type": "markdown",
   "id": "a662fcad-d8fc-444c-ab69-2d700afbcfdc",
   "metadata": {},
   "source": [
    "##### Exploratory Data Analysis"
   ]
  },
  {
   "cell_type": "markdown",
   "id": "56f1ea01-aa53-467e-83be-3aab8c6248c7",
   "metadata": {},
   "source": [
    "We will need to check the dimension of the data,and see the first euros.\n",
    "\n",
    "To see the rows and columns of the data we will use the following command ."
   ]
  },
  {
   "cell_type": "code",
   "execution_count": 258,
   "id": "00854952-adc6-460a-9ecf-0fa35cb61c97",
   "metadata": {},
   "outputs": [
    {
     "data": {
      "text/plain": [
       "(1372, 5)"
      ]
     },
     "execution_count": 258,
     "metadata": {},
     "output_type": "execute_result"
    }
   ],
   "source": [
    "bankdata.shape"
   ]
  },
  {
   "cell_type": "markdown",
   "id": "25d3f3c1-8285-4eb2-a93c-263f30a61cc4",
   "metadata": {},
   "source": [
    "The output gives us (1372, 5), this means that our dataset have 1372 rows and 5 columns."
   ]
  },
  {
   "cell_type": "markdown",
   "id": "af467336-5c22-482d-8160-238db52d11f0",
   "metadata": {},
   "source": [
    "Lets look at the first 5 rows using the head command"
   ]
  },
  {
   "cell_type": "code",
   "execution_count": 259,
   "id": "6140c32e-a153-48f9-8844-e4af7472fcf7",
   "metadata": {},
   "outputs": [
    {
     "data": {
      "text/plain": [
       "<bound method NDFrame.head of       Variance  Skewness  Curtosis  Entropy  Class\n",
       "0      3.62160   8.66610   -2.8073 -0.44699      0\n",
       "1      4.54590   8.16740   -2.4586 -1.46210      0\n",
       "2      3.86600  -2.63830    1.9242  0.10645      0\n",
       "3      3.45660   9.52280   -4.0112 -3.59440      0\n",
       "4      0.32924  -4.45520    4.5718 -0.98880      0\n",
       "...        ...       ...       ...      ...    ...\n",
       "1367   0.40614   1.34920   -1.4501 -0.55949      1\n",
       "1368  -1.38870  -4.87730    6.4774  0.34179      1\n",
       "1369  -3.75030 -13.45860   17.5932 -2.77710      1\n",
       "1370  -3.56370  -8.38270   12.3930 -1.28230      1\n",
       "1371  -2.54190  -0.65804    2.6842  1.19520      1\n",
       "\n",
       "[1372 rows x 5 columns]>"
      ]
     },
     "execution_count": 259,
     "metadata": {},
     "output_type": "execute_result"
    }
   ],
   "source": [
    "bankdata.head"
   ]
  },
  {
   "cell_type": "markdown",
   "id": "62d68e62-276c-4844-92cb-47b60430dce5",
   "metadata": {},
   "source": [
    "Here, we can see the first row of the dataset and that the dataset is numeric, the label is numeric ie class 1 or 0"
   ]
  },
  {
   "cell_type": "markdown",
   "id": "0f07191e-e0a1-4690-b827-18fcfe040afa",
   "metadata": {},
   "source": [
    "##### Data Preprocessing"
   ]
  },
  {
   "cell_type": "markdown",
   "id": "15faf529-53e7-4d48-8f64-24aaf82e0d43",
   "metadata": {},
   "source": [
    "We will need to preprocess the data before training the model"
   ]
  },
  {
   "cell_type": "markdown",
   "id": "c5e9f013-2046-4948-a0c0-6869e4540959",
   "metadata": {},
   "source": [
    "First, we need to divide the data into attributes and labels\n",
    "\n",
    "Second. we divide the data into Training and Testing set\n",
    "\n",
    "Using the code below."
   ]
  },
  {
   "cell_type": "code",
   "execution_count": 260,
   "id": "3cc0a430-c297-452e-89b6-1a7f0cbdb98e",
   "metadata": {},
   "outputs": [],
   "source": [
    "X = bankdata.drop('Class', axis=1)\n",
    "y = bankdata['Class']\n",
    "\n",
    "\n",
    "X_train, X_test, y_train, y_test = train_test_split(X, y, test_size=0.20)"
   ]
  },
  {
   "cell_type": "markdown",
   "id": "8cf56086-8ccd-4451-8b5d-5d6bb6f819cc",
   "metadata": {},
   "source": [
    "In the first line of the discription of the cell, all the column of the bankdataframe are being stored in x except the class column which is the label column.\n",
    "\n",
    "The drop method drops this column\n",
    "\n",
    "The second line, only the class column is being scored in the y variable and at this point, x variable contains attribute while y variable contains corresponding labels.\n",
    "\n",
    "Once the dataset is divided into attributes and labels.\n",
    "\n",
    "Final preprocessing step is to divide the dta into training and test.\n",
    "\n",
    "Luckily, the model selection library of the scikit learn library contains train test split method that allows us to seamlessly divide the data into training and test"
   ]
  },
  {
   "cell_type": "markdown",
   "id": "dc4dcfc4-a975-4ee5-a120-5236f4e3b394",
   "metadata": {},
   "source": [
    "#### Training the algorithm"
   ]
  },
  {
   "cell_type": "markdown",
   "id": "015c5248-ede3-422a-87f1-e3798740cd5e",
   "metadata": {},
   "source": [
    "After dividing our data into training and test, is now time to train our SCM on the training data.\n",
    "\n",
    "Scikit learn contains SCM library which contains building classes for diffrent SCM algorithms.\n",
    "\n",
    "Since, we are going to perform a clasification task, we will use the support vector classifier class which will return an SVC on the scikit learn SCM library.\n",
    "\n",
    "This class takes one parameter which is the kernel type\n",
    "\n",
    "In the case of a simple SCM we simply set this parameter as linear as simple SCM can only classify linearly discribable data.\n",
    "\n",
    "Now, lets call up the data\n",
    "\n",
    "The fit method or svc class is called trained  algorithm on the training data which is passed as a parameter to fit the model using the fit method."
   ]
  },
  {
   "cell_type": "code",
   "execution_count": 263,
   "id": "c22e108f-458d-42d0-8f29-3a80b3ad5960",
   "metadata": {},
   "outputs": [
    {
     "data": {
      "text/plain": [
       "SVC(kernel='linear')"
      ]
     },
     "execution_count": 263,
     "metadata": {},
     "output_type": "execute_result"
    }
   ],
   "source": [
    "svcclassifier = SVC(kernel='linear')\n",
    "svcclassifier.fit(X_train, y_train)"
   ]
  },
  {
   "cell_type": "code",
   "execution_count": 264,
   "id": "1a452353-e125-4dbe-8376-c36f05405332",
   "metadata": {},
   "outputs": [
    {
     "ename": "AttributeError",
     "evalue": "'function' object has no attribute 'params'",
     "output_type": "error",
     "traceback": [
      "\u001b[1;31m---------------------------------------------------------------------------\u001b[0m",
      "\u001b[1;31mAttributeError\u001b[0m                            Traceback (most recent call last)",
      "\u001b[1;32m~\\AppData\\Local\\Temp/ipykernel_14048/2441890177.py\u001b[0m in \u001b[0;36m<module>\u001b[1;34m\u001b[0m\n\u001b[1;32m----> 1\u001b[1;33m \u001b[0msvcclassifier\u001b[0m\u001b[1;33m.\u001b[0m\u001b[0mfit\u001b[0m\u001b[1;33m.\u001b[0m\u001b[0mparams\u001b[0m\u001b[1;33m(\u001b[0m\u001b[0mX_train\u001b[0m\u001b[1;33m,\u001b[0m \u001b[0my_train\u001b[0m\u001b[1;33m)\u001b[0m\u001b[1;33m\u001b[0m\u001b[1;33m\u001b[0m\u001b[0m\n\u001b[0m",
      "\u001b[1;31mAttributeError\u001b[0m: 'function' object has no attribute 'params'"
     ]
    }
   ],
   "source": [
    "svcclassifier.fit.params(X_train, y_train)"
   ]
  },
  {
   "cell_type": "markdown",
   "id": "92a1cfa6-72f0-451a-a2d6-abb4ce243c56",
   "metadata": {},
   "source": [
    "#### Predicting Classess"
   ]
  },
  {
   "cell_type": "markdown",
   "id": "6f4db966-0ca4-470a-94fc-3abc98010c9d",
   "metadata": {},
   "source": [
    "To make predictions, the predict method of svc class is used.\n",
    "\n",
    "We can see that  algorithm have been run on the X-_tset data and all the  predictions have taken the y_pred variable and we can see the prediction of each of the rows for x_test"
   ]
  },
  {
   "cell_type": "code",
   "execution_count": 121,
   "id": "7c5f9bad-78de-46a5-aa87-f246a74d2396",
   "metadata": {},
   "outputs": [
    {
     "name": "stdout",
     "output_type": "stream",
     "text": [
      "[1 0 1 0 0 1 1 1 1 1 0 1 0 0 0 0 0 0 0 0 0 0 0 0 0 0 0 0 0 1 0 0 0 1 1 1 0\n",
      " 1 1 1 0 1 0 0 1 0 0 0 0 1 1 1 1 0 0 1 0 0 0 0 0 0 0 0 0 0 1 1 0 0 1 0 0 1\n",
      " 1 1 0 0 0 1 1 0 0 1 1 1 0 1 1 1 0 1 1 1 0 1 0 0 0 0 0 0 0 0 0 0 1 0 0 0 1\n",
      " 1 0 1 0 1 0 0 1 0 0 0 0 1 0 1 0 0 1 0 1 0 1 0 0 1 0 1 0 1 0 1 0 0 0 0 0 1\n",
      " 1 1 1 0 1 1 1 0 0 0 0 1 0 1 0 0 0 0 1 1 0 0 1 0 0 1 1 1 1 0 0 0 0 0 0 0 0\n",
      " 0 0 1 0 1 0 1 1 0 0 1 1 0 0 1 0 1 0 0 1 0 1 1 0 0 1 1 0 0 1 1 0 0 1 0 0 0\n",
      " 1 0 0 1 1 0 1 0 0 0 0 0 0 0 0 0 1 0 0 0 1 0 1 0 1 1 0 1 1 0 1 1 1 0 0 1 0\n",
      " 1 0 0 1 1 1 1 0 1 1 1 1 0 0 0 0]\n"
     ]
    }
   ],
   "source": [
    "y_pred = svcclassifier.predict(X_test)\n",
    "print(y_pred)"
   ]
  },
  {
   "cell_type": "markdown",
   "id": "76963c41-69f5-4176-880a-5cedfa04a974",
   "metadata": {},
   "source": [
    "#### Evaluate the model"
   ]
  },
  {
   "cell_type": "markdown",
   "id": "02693861-646d-46ef-9125-a2fc1eb4767e",
   "metadata": {},
   "source": [
    "To evaluate the algorithm, confusion matrix,Precision,Recall and F1score measures are the most commonly used matrix.\n",
    "\n",
    "Scikit learn matirx library contains the classification report which can be used to find the value for these methods.\n",
    "\n",
    "Now lets print the classification report"
   ]
  },
  {
   "cell_type": "code",
   "execution_count": 122,
   "id": "5023f569-f347-4d83-a01b-1a357540cdae",
   "metadata": {},
   "outputs": [
    {
     "name": "stdout",
     "output_type": "stream",
     "text": [
      "              precision    recall  f1-score   support\n",
      "\n",
      "           0       1.00      0.99      1.00       165\n",
      "           1       0.99      1.00      1.00       110\n",
      "\n",
      "    accuracy                           1.00       275\n",
      "   macro avg       1.00      1.00      1.00       275\n",
      "weighted avg       1.00      1.00      1.00       275\n",
      "\n"
     ]
    }
   ],
   "source": [
    "print(classification_report(y_test, y_pred))"
   ]
  },
  {
   "cell_type": "markdown",
   "id": "b0114379-0c60-474e-9f5b-1016137c25d6",
   "metadata": {},
   "source": [
    "From the above report, the most  important matric which we can see is the output of the accuracy of our algorithm which is0.99 ie 99%.\n",
    "\n",
    "This is a very basic implementattion of svm using the scikit-learn library.\n",
    "\n",
    "Now we can go ahead and implement the algorithm on different dataset."
   ]
  },
  {
   "cell_type": "markdown",
   "id": "3ef9f1cc-1bbe-4924-94be-86e5fb483a24",
   "metadata": {},
   "source": [
    "### Random Forest"
   ]
  },
  {
   "cell_type": "markdown",
   "id": "4a9247ae-efdf-4869-8cdc-020103d5cc3b",
   "metadata": {},
   "source": [
    "A big part of machine learning is classification.\n",
    "\n",
    "We want to know the class an observation belongs to.\n",
    "\n",
    "The ability to precisely classify observations is extremely valueable for various business obligations for example predicting whether a particular user is buying a product or not, whether a loan has to be given to a person or not."
   ]
  },
  {
   "cell_type": "markdown",
   "id": "e4b9b560-1079-4457-a55b-3c0a5db5662c",
   "metadata": {},
   "source": [
    "#### Overview"
   ]
  },
  {
   "cell_type": "markdown",
   "id": "e14286eb-31d0-4509-8016-2a53b51e8918",
   "metadata": {},
   "source": [
    ". Random forest is a flexible, easy to use machine learning algorithm that produces even without hyper-parameter tuning, a great result most of the time.\n",
    "\n",
    "\n",
    ". It is also one of the most used algorithms, because of its simplicity and diversity(it can be used for both classification and regression tasks)\n"
   ]
  },
  {
   "cell_type": "markdown",
   "id": "159d44db-fdd7-4a37-ba12-f899c54dc140",
   "metadata": {},
   "source": [
    "#### Prerequisite"
   ]
  },
  {
   "cell_type": "markdown",
   "id": "ee0ce3ed-0639-4f6e-8e45-89a867e4a321",
   "metadata": {},
   "source": [
    "Before learning random forest, one must understand how 'Decision Trees' work.\n",
    "\n",
    ". A decision tree is a non-parametric supervised learning algorithm, which is utilized for both classification and regression tasks. It has a hierarchical, tree structure, which consists of a root node, branches, internal nodes and leaf nodes."
   ]
  },
  {
   "cell_type": "markdown",
   "id": "ec20e88c-2551-4e12-aa75-f58712c933dc",
   "metadata": {},
   "source": [
    "#### What are Random forest?"
   ]
  },
  {
   "cell_type": "raw",
   "id": "b2e60ce4-f8dc-4e50-b842-fb1738699fe9",
   "metadata": {},
   "source": [
    "Random forest is a supervised learning algorithm. The \"forest\" it builds,is an ensample of decision trees, usually trained with the 'bagging\" method. The general idea of the bagging method is that a combination of learning models increases the overall result."
   ]
  },
  {
   "cell_type": "markdown",
   "id": "0767e80f-e269-4ce0-908d-2c6561667ab1",
   "metadata": {},
   "source": [
    "#### Layman Terms"
   ]
  },
  {
   "cell_type": "markdown",
   "id": "1cb878ea-76b7-4029-afe3-53dd6cdcf8ab",
   "metadata": {},
   "source": [
    "Put simply: random forest builds multiple decision trees and merges them together to get a more accurate and stable prediction.\n",
    "\n",
    "Each individual tress in the random forest speaks of a class prediction and the class with the most worth becomes our models prediction\n",
    "\n",
    "In the figure , six decision tree predicts 1s and  and three predicts 0s, hence, the final prediction of the classifier is 1."
   ]
  },
  {
   "cell_type": "markdown",
   "id": "275c998f-3fb9-4706-aa0d-108f6af6938a",
   "metadata": {},
   "source": [
    "#### Fundamental Concept"
   ]
  },
  {
   "cell_type": "markdown",
   "id": "8c474a20-c8b4-484c-a8b0-51c2c538c637",
   "metadata": {},
   "source": [
    "The fundamental concept behind random forest is a simple but powerful one-the wisdom of crowds.\n",
    "\n",
    "A large number of relatively uncorrekated models (trees) operating as a committee will outperform any of the individual constituent models for individual decision trees.\n",
    "\n",
    "This is the most fundamental concept in random forest.\n",
    "The low correlation between models is the key.\n",
    "\n",
    "The reason for this wonderful effect is that the tree ...connects each other from the individual error.\n",
    "\n",
    "While some tress may be wrong many other tress may be right. So as a group of trees are able to move in the correct direction."
   ]
  },
  {
   "cell_type": "markdown",
   "id": "a9c502b3-1182-4e1d-bcf3-1fbf34c3b9f1",
   "metadata": {},
   "source": [
    "#### How it works"
   ]
  },
  {
   "cell_type": "markdown",
   "id": "00df1420-36fc-44cb-91aa-00459113e75d",
   "metadata": {},
   "source": [
    "First, create a bootstrapped dataset by randomly selecting samples from the original dataset,*We can pick same sample more than once*\n",
    "\n",
    "\n",
    "Then, create a decision tree using the booststrapped dataset, but only use a random subset of columns in each step.\n",
    "\n",
    "\n",
    "Now, go back to step 1 and repeat\n",
    "\n",
    "This reults in a wide variaty of trees.\n",
    "\n",
    "The variety is what makes Random Forests more effective than individual decision trees."
   ]
  },
  {
   "cell_type": "markdown",
   "id": "875b0f60-f73b-43da-9c40-ff302179bd10",
   "metadata": {},
   "source": [
    "#### How do we measure or ensure that the trees diversify each other?"
   ]
  },
  {
   "cell_type": "raw",
   "id": "42cc4d6a-de78-4e6a-9833-6eb72286bee1",
   "metadata": {},
   "source": [
    "Bagging (Bootstrap Agregation) \n",
    "\n",
    "Bootstrapping the dat and using the agregate to make a decision is known as bagging.\n",
    "\n",
    "Random forest takes advantage of this by allowing each individual tree to randomly sample from a dataset placement resulting in different trees.\n",
    "\n",
    "- Decisions trees are very sensitive to the data they are trained on - small changes to the training set can result in significantly different tree structures."
   ]
  },
  {
   "cell_type": "markdown",
   "id": "88fae703-d147-44f9-a56a-ec6019fa5b01",
   "metadata": {},
   "source": [
    "Feature Randomness : Each tree in a random forest can pick only from a random subset of features.\n",
    "\n",
    "In the numpy decision tree when it is time to split a node, it considers every possible feature and that produces this operation between the observation in the left node and those in thr right node.\n",
    "\n",
    "In contrast, each tree in a random forest can pick only from a random subset of features, this causes even more variation among the trees in the model and ultimately results in lower correlation across the trees and more diversifications"
   ]
  },
  {
   "cell_type": "markdown",
   "id": "0a2fe734-16b5-4c86-99fe-225a63762d8b",
   "metadata": {},
   "source": [
    "Since, we are selecting random features in multi -decision trees , they ensure that this will diversify all the decision trees when combined together."
   ]
  },
  {
   "cell_type": "markdown",
   "id": "1943d350-677f-4353-bab4-59e8951800a1",
   "metadata": {},
   "source": [
    "#### Implementation"
   ]
  },
  {
   "cell_type": "markdown",
   "id": "e5644eab-39de-4e2d-84f1-90551df7eb44",
   "metadata": {},
   "source": [
    "We have two choices , we can either use the scikit learn library to import the random forest model and use it directly or we can write our own model from scratch."
   ]
  },
  {
   "cell_type": "markdown",
   "id": "15c5c581-e585-4375-8d62-6fa82404618d",
   "metadata": {},
   "source": [
    "We will be implementing random forest using the scikit learn model."
   ]
  },
  {
   "cell_type": "markdown",
   "id": "816f534b-c370-4940-82d1-4b95e00a98b2",
   "metadata": {},
   "source": [
    "For the implementation our task is to predict whether a bank's currency note is autentic or not based on four attributes of the note.\n",
    "\n",
    "They are as follows :\n",
    "\n",
    "The skewness of the... performed image\n",
    "\n",
    "The variance of the image\n",
    "\n",
    "The Entropy of the image\n",
    "\n",
    "The Curtosis of the image\n",
    "\n",
    "This is a binary classification problem and we will use a random classifier to solve this problem."
   ]
  },
  {
   "cell_type": "markdown",
   "id": "1397ebc6-d002-4aa1-9eee-54ace77671d5",
   "metadata": {},
   "source": [
    "#### Import the necessary dependencies."
   ]
  },
  {
   "cell_type": "markdown",
   "id": "bec23ef9-80bb-4a6b-b2bf-1b5439dbe578",
   "metadata": {},
   "source": [
    "For the scope of this lecture, we will import each library as the need arises"
   ]
  },
  {
   "cell_type": "code",
   "execution_count": 123,
   "id": "1fc720a4-9967-49d0-812e-e94a0c961bcd",
   "metadata": {},
   "outputs": [],
   "source": [
    "import pandas as pd\n",
    "import numpy as np"
   ]
  },
  {
   "cell_type": "raw",
   "id": "58058e77-c589-4a74-be6d-f206e31c47a1",
   "metadata": {},
   "source": [
    "Next we import the dataset"
   ]
  },
  {
   "cell_type": "code",
   "execution_count": 124,
   "id": "c8f11603-e7c6-42cc-a00f-dc4ab66ee0c1",
   "metadata": {},
   "outputs": [],
   "source": [
    "dataset = pd.read_csv(\"C:\\\\Users\\\\user\\\\Downloads\\\\bill_authentication.Csv\")\n"
   ]
  },
  {
   "cell_type": "markdown",
   "id": "12875823-18a9-4350-a18c-656fcc720f92",
   "metadata": {},
   "source": [
    "Lets get a high level view of the dataset using the command below"
   ]
  },
  {
   "cell_type": "code",
   "execution_count": 125,
   "id": "4658eab6-7e6b-4632-a30e-cb86daadfb97",
   "metadata": {},
   "outputs": [
    {
     "data": {
      "text/html": [
       "<div>\n",
       "<style scoped>\n",
       "    .dataframe tbody tr th:only-of-type {\n",
       "        vertical-align: middle;\n",
       "    }\n",
       "\n",
       "    .dataframe tbody tr th {\n",
       "        vertical-align: top;\n",
       "    }\n",
       "\n",
       "    .dataframe thead th {\n",
       "        text-align: right;\n",
       "    }\n",
       "</style>\n",
       "<table border=\"1\" class=\"dataframe\">\n",
       "  <thead>\n",
       "    <tr style=\"text-align: right;\">\n",
       "      <th></th>\n",
       "      <th>Variance</th>\n",
       "      <th>Skewness</th>\n",
       "      <th>Curtosis</th>\n",
       "      <th>Entropy</th>\n",
       "      <th>Class</th>\n",
       "    </tr>\n",
       "  </thead>\n",
       "  <tbody>\n",
       "    <tr>\n",
       "      <th>0</th>\n",
       "      <td>3.62160</td>\n",
       "      <td>8.6661</td>\n",
       "      <td>-2.8073</td>\n",
       "      <td>-0.44699</td>\n",
       "      <td>0</td>\n",
       "    </tr>\n",
       "    <tr>\n",
       "      <th>1</th>\n",
       "      <td>4.54590</td>\n",
       "      <td>8.1674</td>\n",
       "      <td>-2.4586</td>\n",
       "      <td>-1.46210</td>\n",
       "      <td>0</td>\n",
       "    </tr>\n",
       "    <tr>\n",
       "      <th>2</th>\n",
       "      <td>3.86600</td>\n",
       "      <td>-2.6383</td>\n",
       "      <td>1.9242</td>\n",
       "      <td>0.10645</td>\n",
       "      <td>0</td>\n",
       "    </tr>\n",
       "    <tr>\n",
       "      <th>3</th>\n",
       "      <td>3.45660</td>\n",
       "      <td>9.5228</td>\n",
       "      <td>-4.0112</td>\n",
       "      <td>-3.59440</td>\n",
       "      <td>0</td>\n",
       "    </tr>\n",
       "    <tr>\n",
       "      <th>4</th>\n",
       "      <td>0.32924</td>\n",
       "      <td>-4.4552</td>\n",
       "      <td>4.5718</td>\n",
       "      <td>-0.98880</td>\n",
       "      <td>0</td>\n",
       "    </tr>\n",
       "  </tbody>\n",
       "</table>\n",
       "</div>"
      ],
      "text/plain": [
       "   Variance  Skewness  Curtosis  Entropy  Class\n",
       "0   3.62160    8.6661   -2.8073 -0.44699      0\n",
       "1   4.54590    8.1674   -2.4586 -1.46210      0\n",
       "2   3.86600   -2.6383    1.9242  0.10645      0\n",
       "3   3.45660    9.5228   -4.0112 -3.59440      0\n",
       "4   0.32924   -4.4552    4.5718 -0.98880      0"
      ]
     },
     "execution_count": 125,
     "metadata": {},
     "output_type": "execute_result"
    }
   ],
   "source": [
    "dataset.head()"
   ]
  },
  {
   "cell_type": "markdown",
   "id": "bba9a8e0-e453-4d42-b083-d34f3d655d3a",
   "metadata": {},
   "source": [
    "If you observe the values in the dataset are not well scaled ,\n",
    "\n",
    "so we will need to scale the data before training it.\n",
    "\n",
    "Declare the dataset into x and y variables ,which are attributes and the labels"
   ]
  },
  {
   "cell_type": "code",
   "execution_count": 126,
   "id": "09a3d1a1-4482-475a-a564-c68ab8c68573",
   "metadata": {},
   "outputs": [],
   "source": [
    "X = dataset.iloc[:,0:4].values\n",
    "y = dataset.iloc[:,4].values"
   ]
  },
  {
   "cell_type": "markdown",
   "id": "2fc48b52-403f-4d51-9510-501831cf22fa",
   "metadata": {},
   "source": [
    "for x we need all the values(0:4)\n",
    "for y we just need the last index (:, 4) \n",
    "as this follows zero indexing , for x ,we just need  the first 3 coluns 0 - 3, which is variance , skewness and Entropy variables  and class in the y variable."
   ]
  },
  {
   "cell_type": "markdown",
   "id": "cc007285-f778-461a-b9fc-b155f67714da",
   "metadata": {},
   "source": [
    "After this we have to divide the dataset into Training and Test split using the train test split model from sk-learn,"
   ]
  },
  {
   "cell_type": "code",
   "execution_count": 127,
   "id": "84429e27-5376-4d3a-91e6-33bb25177c08",
   "metadata": {},
   "outputs": [],
   "source": [
    "from sklearn.model_selection import train_test_split"
   ]
  },
  {
   "cell_type": "code",
   "execution_count": 128,
   "id": "7a76ae49-c282-42c2-99c7-3336ce6dac1f",
   "metadata": {},
   "outputs": [],
   "source": [
    "X_train, X_test, y_train, y_test = train_test_split (X, y, test_size=0.20, random_state=0)"
   ]
  },
  {
   "cell_type": "markdown",
   "id": "c9acb65f-e244-4ffc-a8e4-b3ee0499c1f3",
   "metadata": {},
   "source": [
    "We dont need a random state so = 0"
   ]
  },
  {
   "cell_type": "markdown",
   "id": "1814cf07-adc9-4398-bb44-c233517b138b",
   "metadata": {},
   "source": [
    "Lets apply some feature scaling on our data so that the data can be really scaled before we actually train it.\n",
    "\n",
    "We need Standard scaler from the prepocesing model of sklearn"
   ]
  },
  {
   "cell_type": "code",
   "execution_count": 129,
   "id": "1c88f899-3d54-4f9d-9749-66cfc7ed8700",
   "metadata": {},
   "outputs": [],
   "source": [
    "from sklearn.preprocessing import StandardScaler\n"
   ]
  },
  {
   "cell_type": "code",
   "execution_count": 130,
   "id": "e5301083-cbbf-4417-8d0d-91a29b7fc732",
   "metadata": {},
   "outputs": [],
   "source": [
    "sc = StandardScaler()\n",
    "X_train = sc.fit_transform(X_train)\n",
    "X_test = sc.fit_transform(X_test)"
   ]
  },
  {
   "cell_type": "markdown",
   "id": "5f86f47c-ad46-4d64-86b9-1a5b1d2c173f",
   "metadata": {},
   "source": [
    "After scaling, we can now use the random forest to solve the classification problem using the random forest classifier from the sklearn ensemble model."
   ]
  },
  {
   "cell_type": "code",
   "execution_count": 131,
   "id": "0ad1a8d7-b8e4-4540-967f-0b8852ca9cb0",
   "metadata": {},
   "outputs": [],
   "source": [
    "from sklearn.ensemble import RandomForestClassifier"
   ]
  },
  {
   "cell_type": "raw",
   "id": "1bda12b0-ac24-4b33-b889-d320595c83f5",
   "metadata": {},
   "source": [
    "Lets make the class ready\n",
    "with the code below classifier = RandomForestclassifier\n",
    "then we need the n_estimators, we can use 20 as our estimator  and a random state of 0\n",
    "\n",
    "Then we fit our classifier with the .fit option\n",
    "\n",
    "then save our predictions"
   ]
  },
  {
   "cell_type": "code",
   "execution_count": 132,
   "id": "cf415090-82db-49d9-a963-dae12d50593f",
   "metadata": {},
   "outputs": [],
   "source": [
    "classifier = RandomForestClassifier(n_estimators=20, random_state=0)\n",
    "classifier.fit(X_train, y_train)\n",
    "y_pred = classifier.predict(X_test)"
   ]
  },
  {
   "cell_type": "markdown",
   "id": "7cc511bf-fda9-40c9-8d9f-936b3212e92d",
   "metadata": {},
   "source": [
    "The RandomForestclassifier takes the n_estimators as a parameter.\n",
    "\n",
    "The parameter defines the number of tree we have in a random forest and we are using 20 trees here."
   ]
  },
  {
   "cell_type": "markdown",
   "id": "0a0aab38-670b-4390-b5cb-acec663b1059",
   "metadata": {},
   "source": [
    "So for classification problems, the matric used to evaluate algorithm are accuracy, confusion matrix,Recall,precision  and flscore values.\n",
    "\n",
    "Luckily, the scikit learn  library provides all these matrix"
   ]
  },
  {
   "cell_type": "markdown",
   "id": "e0b7ee5b-9bd6-4400-b245-47b02cc53532",
   "metadata": {},
   "source": [
    "We will be using these matrix to see how good our model performs.\n",
    "Form sklearn import classifiation report,confusion matrix,accuracy\n",
    "Then print confusion matrix,(y_test,y_pred)\n",
    "print classification-report(y_test,y_pred\n",
    "then ,lastly, the accuracy_score"
   ]
  },
  {
   "cell_type": "code",
   "execution_count": 133,
   "id": "f30be325-dddf-48f3-be6c-f05e545652db",
   "metadata": {},
   "outputs": [],
   "source": [
    "from sklearn.metrics import classification_report, confusion_matrix, accuracy_score"
   ]
  },
  {
   "cell_type": "code",
   "execution_count": 134,
   "id": "779390b0-d1e3-4301-a0fa-b32d1a110d8f",
   "metadata": {},
   "outputs": [
    {
     "name": "stdout",
     "output_type": "stream",
     "text": [
      "[[153   4]\n",
      " [  0 118]]\n",
      "              precision    recall  f1-score   support\n",
      "\n",
      "           0       1.00      0.97      0.99       157\n",
      "           1       0.97      1.00      0.98       118\n",
      "\n",
      "    accuracy                           0.99       275\n",
      "   macro avg       0.98      0.99      0.99       275\n",
      "weighted avg       0.99      0.99      0.99       275\n",
      "\n",
      "0.9854545454545455\n"
     ]
    }
   ],
   "source": [
    "print(confusion_matrix(y_test, y_pred))\n",
    "print(classification_report(y_test,y_pred))\n",
    "print(accuracy_score(y_test, y_pred))"
   ]
  },
  {
   "cell_type": "markdown",
   "id": "1f402f66-365f-4370-835c-57b4b0d92aeb",
   "metadata": {},
   "source": [
    "From our result, our accuracy is 0.98 ie 98%, this is good enough.\n",
    "\n",
    "This a very simple implemation of random forest using minimum data.\n",
    "\n",
    "It is adviseable to practice more on real life datasets as it will help you understand how this works."
   ]
  },
  {
   "cell_type": "markdown",
   "id": "e221574d-94ce-4eb1-b177-1d7d130d668e",
   "metadata": {},
   "source": [
    "K-NN is for classifcation and k-means clustering is for clustering"
   ]
  },
  {
   "cell_type": "markdown",
   "id": "c24ff6ee-351b-4d3b-a8f9-79e84528108a",
   "metadata": {},
   "source": [
    "### K- Means Clustering"
   ]
  },
  {
   "cell_type": "markdown",
   "id": "09bfc5b4-319d-4735-a6f7-c6b47f2bf52a",
   "metadata": {},
   "source": [
    "#### Overview"
   ]
  },
  {
   "cell_type": "markdown",
   "id": "d7b56ec3-6a4b-49bc-b837-28d6edbaab02",
   "metadata": {},
   "source": [
    ". K-means clustering is one of the simplest and popular Unsupervised machine learning algorithms.\n",
    "\n",
    ". There are a plethora of real-world applications of K-Means Clustering.\n",
    "\n",
    ". The implememntation of K-Means is easy when compared to algorithms like SVMs etc"
   ]
  },
  {
   "cell_type": "markdown",
   "id": "2ffaaf2e-6b4e-4e86-9c55-dd56c6c75c71",
   "metadata": {},
   "source": [
    "#### What is clustering?"
   ]
  },
  {
   "cell_type": "markdown",
   "id": "eb9ba5ee-5282-41cd-b82a-542e9468520e",
   "metadata": {},
   "source": [
    "Clustering is the process of dividing the entire data into groups (also known as clusters) based on the patterns in the data."
   ]
  },
  {
   "cell_type": "markdown",
   "id": "b57f2967-c77b-4ba8-ab82-d053207a998e",
   "metadata": {},
   "source": [
    "Lets consider an example"
   ]
  },
  {
   "cell_type": "raw",
   "id": "4d3cc6cd-3a8c-4178-9691-d820cf8cc7bf",
   "metadata": {},
   "source": [
    "A bank wants to build an office for its customers , currently they look at  the details of each customer and information decides which offer should be given to which customer\n",
    "\n",
    "The banks have many customers and it does nit make sense looking at the details of each customer before making a decision because it will take alot of time to do so. \n",
    "\n",
    "Sowhat can the bank do?\n",
    "\n",
    "one option is to segment thes customers into different groups.\n",
    "\n",
    "For example the bank's group oof customers baased on incomes.\n",
    "\n",
    "The groups shown below are known as clusters and rge process of creating these groups is known as clusterring.\n",
    "\n",
    "i, High income\n",
    "\n",
    "ii. Average income\n",
    "\n",
    "iii. Low income\n"
   ]
  },
  {
   "cell_type": "markdown",
   "id": "dc968482-8327-46dd-b0ae-a297e4acda6a",
   "metadata": {},
   "source": [
    "#### Unsupervised learning?"
   ]
  },
  {
   "cell_type": "markdown",
   "id": "fc48f892-427d-4a92-9b3f-3b546e34d224",
   "metadata": {},
   "source": [
    "Unsupervised learning is a type of machine learning algorithm used to draw inferences from datasets consisting of input data without labelled responses."
   ]
  },
  {
   "cell_type": "markdown",
   "id": "ae386d8a-5a9c-4d8f-ab20-0818e40daf58",
   "metadata": {},
   "source": [
    "IN supervised learning , when we have a target variable to predict based on a given set of predictors or independent variables, such problems are called supervised learning problems.\n",
    "\n",
    "They are usually yes /no which we usually translate to integers so that pyhton can understand it.\n",
    "\n",
    "For example finding out if a loan will be approved or not."
   ]
  },
  {
   "cell_type": "markdown",
   "id": "a4dc8539-c8f1-4d8a-929c-1c7f61d2a9e2",
   "metadata": {},
   "source": [
    "In clustering, we do not have a target to predict.\n",
    "\n",
    "We look at the data and then to club similar observations and from diferent groups.\n",
    "\n",
    "Hence, it is an unsurpervised learning problem."
   ]
  },
  {
   "cell_type": "markdown",
   "id": "c9403070-7951-4573-9499-aa44fdb203e5",
   "metadata": {},
   "source": [
    "#### Applications of Clustering "
   ]
  },
  {
   "cell_type": "markdown",
   "id": "8507a23c-398f-4823-8adf-1996f9c89a28",
   "metadata": {},
   "source": [
    ". We Will be looking at how this helps us in the real world.\n",
    "\n",
    ". Customer Segmentation\n",
    "\n",
    "Example the bank discussed above clustering based on their income.\n",
    "\n",
    ". Document Clustering : \n",
    "\n",
    "Here you have multiple documents and you need to plot similar documents together, clustering helps us group these documents together and similar documents into thesame clusters.\n",
    "\n",
    ". Image Segmentation:\n",
    "\n",
    "Here we try to plug similar pixcels in the image together.We can apply clustering to create this clusters having similar pixcels in thesame group.\n",
    "\n",
    ". Recommendation Engines:\n",
    "Lets say you  want to watch some songs or recommend some to your friends.\n",
    "\n",
    "You can use clustering to find similar songs and finally recommend those songs to the person."
   ]
  },
  {
   "cell_type": "markdown",
   "id": "4dafd550-9efc-4326-8407-d7ed89644af9",
   "metadata": {},
   "source": [
    "#### K- Means Clustering"
   ]
  },
  {
   "cell_type": "markdown",
   "id": "5b9bd9dc-6922-4e3e-ad1f-82e82d513358",
   "metadata": {},
   "source": [
    "Our aim here is to minimize the distance between the points within a cluster.\n",
    "\n",
    "There is an algorithm that tries to minimize the distance of the points in a cluster with their centroid - the k-means clustering technique."
   ]
  },
  {
   "cell_type": "markdown",
   "id": "efa62e7b-26e0-4855-9e58-4b9dee209f23",
   "metadata": {},
   "source": [
    "#### Main objective "
   ]
  },
  {
   "cell_type": "markdown",
   "id": "f37680e1-0aad-480d-ac48-4b905b3f3241",
   "metadata": {},
   "source": [
    "The main objective of the K-Means algorithm is to minimize the sum of distances between the points and their respective cluster centroid."
   ]
  },
  {
   "cell_type": "markdown",
   "id": "e37678f7-3cde-4508-96a3-80a732986c0b",
   "metadata": {},
   "source": [
    "#### How it works"
   ]
  },
  {
   "cell_type": "markdown",
   "id": "50b6cb04-17dc-45ed-beae-2ff88220b071",
   "metadata": {},
   "source": [
    "Lets say we have eight points and we want to apply K-means clustering to create clusters.\n",
    "\n",
    ".  .        .     .\n",
    ".  ,     .    ."
   ]
  },
  {
   "cell_type": "markdown",
   "id": "5d37b073-6fef-4d22-8350-a0a20123a376",
   "metadata": {},
   "source": [
    "> Step 1  - Choose the number of clusters K\n",
    "\n",
    ">Step 2 - Selct K random points from the data as centroids \n",
    "ie we randomly select the centroid for each cluster.\n",
    "\n",
    "> Step 3: Assign all the points to the closest cluster centroid.\n",
    "\n",
    "Ie the points closer to the red point are assigned to the red cluster and the points closer to the green point are assigned to the green cluster.\n",
    "\n",
    "\n",
    "Step 4: Recompute the centoids of newly formed clusters.\n",
    "\n",
    "Once we have assigned all the points , we wil now recompute the newly formed centoids.\n",
    "\n",
    "Steps 5 : Repeat step 3 and 4\n",
    "\n",
    ". .  Red colours         .  .\n",
    ". .                    .  .    green                                    colors"
   ]
  },
  {
   "cell_type": "markdown",
   "id": "883dc210-fdb3-425c-8318-5b5e71f6e7f5",
   "metadata": {},
   "source": [
    "#### When to stop K-means clustering?"
   ]
  },
  {
   "cell_type": "markdown",
   "id": "9e258381-4cd7-4f66-8672-0f90ae7aa1ec",
   "metadata": {},
   "source": [
    "Essentially there are three ways to stop K-means clustering.\n",
    "\n",
    ". Centroids of newly formed clusters do not chande. It means it has an end and we can actually cluster our data.\n",
    "\n",
    ". Points remain in the same cluster which means there may be other possible way to improve our clustering algorithm.\n",
    "\n",
    ". Maximum number of iterations are reached.\n",
    "\n",
    "So you can focus on the first two...."
   ]
  },
  {
   "cell_type": "markdown",
   "id": "58994911-cc19-489c-8881-4d07e716cc83",
   "metadata": {},
   "source": [
    "#### Implementation"
   ]
  },
  {
   "cell_type": "markdown",
   "id": "4c1c4aa1-0321-4466-a6c7-b2989b9a4790",
   "metadata": {},
   "source": [
    "We have two choices , we can either use the scikit learn library to import the random forest model and use it directly or we can write our own model from scratch."
   ]
  },
  {
   "cell_type": "markdown",
   "id": "f23d3a02-dbfa-4f3f-b13e-974008d099fd",
   "metadata": {},
   "source": [
    "Writing our own model from scratch is very easy"
   ]
  },
  {
   "cell_type": "markdown",
   "id": "e8b13a2c-f17d-474b-9d74-35ca61e22cc5",
   "metadata": {},
   "source": [
    "We will use scikit lern library to implement gaming."
   ]
  },
  {
   "cell_type": "markdown",
   "id": "c9f2343a-f0a3-44bc-ba0f-d547c947a96c",
   "metadata": {},
   "source": [
    "#### Import the libraries"
   ]
  },
  {
   "cell_type": "code",
   "execution_count": 265,
   "id": "4d1660b8-d90d-4857-aaae-a7cba2c6d0ad",
   "metadata": {},
   "outputs": [],
   "source": [
    "import matplotlib.pyplot as plt\n",
    "import numpy as np\n",
    "from sklearn.cluster import KMeans"
   ]
  },
  {
   "cell_type": "markdown",
   "id": "b5240f20-d93c-40d7-afd3-e887b14d5d27",
   "metadata": {},
   "source": [
    "#### Prepare the Data"
   ]
  },
  {
   "cell_type": "code",
   "execution_count": 266,
   "id": "7644f646-c234-4bc0-96f4-6fa2cabe7033",
   "metadata": {},
   "outputs": [],
   "source": [
    "X = np.array([[5,3],\n",
    "    [10,15],\n",
    "    [15,12], \n",
    "    [24,10],\n",
    "    [30,45], \n",
    "    [85,70], \n",
    "    [71,80], \n",
    "    [60,78], \n",
    "    [55,52],\n",
    "    [80,91], ])        \n",
    "                                          "
   ]
  },
  {
   "cell_type": "markdown",
   "id": "c6f793a0-6644-48fa-a3e1-faec811f46fd",
   "metadata": {},
   "source": [
    "#### Visualize the data"
   ]
  },
  {
   "cell_type": "markdown",
   "id": "90f8b370-6b36-47de-b1fe-3e03d7c82efe",
   "metadata": {},
   "source": [
    "To visualize the data,simply plot all the values of the first array against all the values of the second array"
   ]
  },
  {
   "cell_type": "code",
   "execution_count": 267,
   "id": "6b16bafd-24ba-46bd-a4c1-fe892fe5c761",
   "metadata": {},
   "outputs": [
    {
     "data": {
      "text/plain": [
       "<matplotlib.collections.PathCollection at 0x20661347550>"
      ]
     },
     "execution_count": 267,
     "metadata": {},
     "output_type": "execute_result"
    },
    {
     "data": {
      "image/png": "[encoded data removed]",
      "text/plain": [
       "<Figure size 432x288 with 1 Axes>"
      ]
     },
     "metadata": {
      "needs_background": "light"
     },
     "output_type": "display_data"
    }
   ],
   "source": [
    "plt.scatter(X[:,0], X[:, 1], label='True Position')"
   ]
  },
  {
   "cell_type": "markdown",
   "id": "95b594fd-9b7c-4031-884c-a49ec191daf7",
   "metadata": {},
   "source": [
    "#### Create Clusters"
   ]
  },
  {
   "cell_type": "markdown",
   "id": "0ea97e6a-07d3-4d18-852e-62d97d82d0d8",
   "metadata": {},
   "source": [
    "We have to form two clusters of the above data points.\n",
    "We can make one cluster of 5 points on the buton left and one cluster of 5 points on the top right.\n",
    "So you crete the KMeans cluster and fit it as shown below"
   ]
  },
  {
   "cell_type": "markdown",
   "id": "bae9cbb5-afb3-453d-bd31-d8c9ef810f21",
   "metadata": {},
   "source": [
    "We create a kmeans object and pass it hrough a number of clusters"
   ]
  },
  {
   "cell_type": "code",
   "execution_count": 268,
   "id": "ef54040a-925e-4557-8b9c-1da3b18ab8f7",
   "metadata": {},
   "outputs": [
    {
     "data": {
      "text/plain": [
       "KMeans(n_clusters=2)"
      ]
     },
     "execution_count": 268,
     "metadata": {},
     "output_type": "execute_result"
    }
   ],
   "source": [
    "kmeans = KMeans(n_clusters=2)\n",
    "kmeans.fit(X)"
   ]
  },
  {
   "cell_type": "code",
   "execution_count": 139,
   "id": "b66bebb0-a65b-4dc6-b986-e99d8e64a71c",
   "metadata": {},
   "outputs": [
    {
     "ename": "SyntaxError",
     "evalue": "invalid syntax (Temp/ipykernel_14048/2856798490.py, line 1)",
     "output_type": "error",
     "traceback": [
      "\u001b[1;36m  File \u001b[1;32m\"C:\\Users\\user\\AppData\\Local\\Temp/ipykernel_14048/2856798490.py\"\u001b[1;36m, line \u001b[1;32m1\u001b[0m\n\u001b[1;33m    MY RESULT DOES NOT SHOW EVERYTHING  IN THE VIDEO !!!!\u001b[0m\n\u001b[1;37m       ^\u001b[0m\n\u001b[1;31mSyntaxError\u001b[0m\u001b[1;31m:\u001b[0m invalid syntax\n"
     ]
    }
   ],
   "source": [
    "MY RESULT DOES NOT SHOW EVERYTHING  IN THE VIDEO !!!!"
   ]
  },
  {
   "cell_type": "markdown",
   "id": "b4dcfcfb-a0fe-4f2f-bf88-374b0419732c",
   "metadata": {
    "tags": []
   },
   "source": [
    "#### Explore the data"
   ]
  },
  {
   "cell_type": "markdown",
   "id": "740e2090-a6f6-4eb9-a809-0392ca9624aa",
   "metadata": {},
   "source": [
    "We have to call the fit method Kmeans and pass the data we want to cluster, which is the X data we created earlier. lets see the central values created.\n",
    "\n",
    "We can see that it is a 2D array\n",
    "\n",
    "To see the labels of data point, lets execute the following "
   ]
  },
  {
   "cell_type": "code",
   "execution_count": 269,
   "id": "36b03bb8-05d8-4934-90fd-7883cf5ab822",
   "metadata": {},
   "outputs": [
    {
     "name": "stdout",
     "output_type": "stream",
     "text": [
      "[[70.2 74.2]\n",
      " [16.8 17. ]]\n",
      "[1 1 1 1 1 0 0 0 0 0]\n"
     ]
    }
   ],
   "source": [
    "print(kmeans.cluster_centers_)\n",
    "\n",
    "print(kmeans.labels_)"
   ]
  },
  {
   "cell_type": "markdown",
   "id": "4c39520f-a2fc-4f09-928c-bd75a67ccb02",
   "metadata": {},
   "source": [
    "We have cluster 0 and cluster 1. It point by point.\n",
    "The output is a one dimensional array of 10 elements corresponding to the cluster assigned to our 10 data points.\n",
    "\n",
    "Here, the first five points have been clustered together and the last 5 points have been clustered.\n",
    "\n",
    "0  and 1 are used to represent the cluster ids and have no mathematical difference towards each other.\n",
    "\n",
    "If there were three clusters , the third cluster would have been represented by division 2 ..."
   ]
  },
  {
   "cell_type": "markdown",
   "id": "76bfdc4c-6e02-4670-9857-f5b244483066",
   "metadata": {},
   "source": [
    "#### Visualize K-means with two Clusters"
   ]
  },
  {
   "cell_type": "markdown",
   "id": "29f354a4-c465-4342-8b4e-a2dd9392bbab",
   "metadata": {},
   "source": [
    "Lets plot the data points again and visualize how the data has been clustered.\n",
    "\n",
    "This time we will plot the data along with the assigned label so as to distinguish between the clusters."
   ]
  },
  {
   "cell_type": "code",
   "execution_count": 270,
   "id": "27cea92c-2ccc-45d5-ab8a-475a58381242",
   "metadata": {},
   "outputs": [
    {
     "data": {
      "text/plain": [
       "<matplotlib.collections.PathCollection at 0x206613b1190>"
      ]
     },
     "execution_count": 270,
     "metadata": {},
     "output_type": "execute_result"
    },
    {
     "data": {
      "image/png": "[encoded data removed]",
      "text/plain": [
       "<Figure size 432x288 with 1 Axes>"
      ]
     },
     "metadata": {
      "needs_background": "light"
     },
     "output_type": "display_data"
    }
   ],
   "source": [
    "plt.scatter(X[:, 0], X[:, 1], c=kmeans.labels_, cmap='rainbow')"
   ]
  },
  {
   "cell_type": "markdown",
   "id": "7e7452b0-194b-4470-8bcf-4aa10d7b9dc1",
   "metadata": {},
   "source": [
    "We are passing kmeans label as the value for c parameters that corresponds to the labels.The c-map pararmeter is passed for choosing the differnt data for diferent data points."
   ]
  },
  {
   "cell_type": "code",
   "execution_count": 142,
   "id": "9c0d9a81-15ea-4021-900e-6e049aa3d973",
   "metadata": {},
   "outputs": [
    {
     "ename": "SyntaxError",
     "evalue": "invalid syntax (Temp/ipykernel_14048/2161239472.py, line 1)",
     "output_type": "error",
     "traceback": [
      "\u001b[1;36m  File \u001b[1;32m\"C:\\Users\\user\\AppData\\Local\\Temp/ipykernel_14048/2161239472.py\"\u001b[1;36m, line \u001b[1;32m1\u001b[0m\n\u001b[1;33m    GRAPH SCATTER PLOT POSITION DIFFENT FROM VIDEO!!!\u001b[0m\n\u001b[1;37m          ^\u001b[0m\n\u001b[1;31mSyntaxError\u001b[0m\u001b[1;31m:\u001b[0m invalid syntax\n"
     ]
    }
   ],
   "source": [
    "GRAPH SCATTER PLOT POSITION DIFFENT FROM VIDEO!!!"
   ]
  },
  {
   "cell_type": "code",
   "execution_count": null,
   "id": "63bb7940-369b-45ce-bd81-f5a524a10d6e",
   "metadata": {},
   "outputs": [],
   "source": []
  },
  {
   "cell_type": "markdown",
   "id": "77d82116-89a7-408a-b893-12cfd12ccd40",
   "metadata": {},
   "source": [
    "#### Try with 3 Clusters"
   ]
  },
  {
   "cell_type": "code",
   "execution_count": null,
   "id": "fdbe4720-66db-4849-9a2f-f94781fbfda4",
   "metadata": {},
   "outputs": [],
   "source": [
    "kmeans = KMeans(n_clusters=3)\n",
    "kmeans.fit(X)\n",
    "plt.scatter(X[:,0], X[:, 1], c=kmeans.labels_, cmap='rainbow')"
   ]
  },
  {
   "cell_type": "markdown",
   "id": "87f0ff4e-50cd-4115-bd47-53cb0186cd86",
   "metadata": {},
   "source": [
    "#### Visualize with the clusters"
   ]
  },
  {
   "cell_type": "markdown",
   "id": "bf6fceec-045b-4ec8-83f7-a489c0a7ed86",
   "metadata": {},
   "source": [
    "Lets plot along with the central co ordinate of each cluster to see how the central position affects clustering.\n",
    "\n",
    "We always use scatter plot in kmeans plot because it is easier to see."
   ]
  },
  {
   "cell_type": "code",
   "execution_count": 143,
   "id": "44fe6d47-1048-444e-b74f-a06b66d81820",
   "metadata": {},
   "outputs": [
    {
     "data": {
      "text/plain": [
       "<matplotlib.collections.PathCollection at 0x206605a6af0>"
      ]
     },
     "execution_count": 143,
     "metadata": {},
     "output_type": "execute_result"
    },
    {
     "data": {
      "image/png": "[encoded data removed]",
      "text/plain": [
       "<Figure size 432x288 with 1 Axes>"
      ]
     },
     "metadata": {
      "needs_background": "light"
     },
     "output_type": "display_data"
    }
   ],
   "source": [
    "plt.scatter(X[:,0], X[:, 1], c=kmeans.labels_, cmap='rainbow')\n",
    "plt.scatter(kmeans.cluster_centers_[:,0], kmeans.cluster_centers_[:,1], color='black')"
   ]
  },
  {
   "cell_type": "markdown",
   "id": "e40960fd-7111-4984-914c-deb1ddf1406b",
   "metadata": {},
   "source": [
    "In the case of 3 clusters the two points in the middle as displayed with red and one displayed with black between the two reds.\n",
    "\n",
    "As compared to buttom left and top right.\n",
    "\n",
    "However , if there were two clusters, they wouldnt have ben a centroid in the center, hence the red points would have been clustered together with the button left or top right."
   ]
  },
  {
   "cell_type": "markdown",
   "id": "2d66f451-24e2-4938-90df-8cb840bb4bb8",
   "metadata": {},
   "source": [
    "#### Overview \n",
    "\n",
    ". The K-nearest neighbors (KNN) algorithm is  a simple ,easy - to - implement supervised machine learning algorithm that can be used to solve both classification and regression problems.\n",
    "\n",
    ". A supervised machine learning algorithm is one that relies on labelled input data to learn a function that produces an appropriate output when given new unlabelled data."
   ]
  },
  {
   "cell_type": "markdown",
   "id": "ef36a6bc-dd21-4c10-aa12-e8d3670095ee",
   "metadata": {},
   "source": [
    "#### K-Nearset Neighbors"
   ]
  },
  {
   "cell_type": "markdown",
   "id": "99b71cdb-44b5-492d-8c77-cc189d521f9f",
   "metadata": {},
   "source": [
    "The KNN aldorithm assumes that similar things exists in close proximity . In otherwords, similar things are near to each other.\n",
    "\n",
    "In other words, birds of thesame feathers fluck together."
   ]
  },
  {
   "cell_type": "markdown",
   "id": "f5134c8a-4f73-427d-8a5b-da0026516e68",
   "metadata": {},
   "source": [
    "#### K-Nearest Neighbors"
   ]
  },
  {
   "cell_type": "markdown",
   "id": "6e619cc2-aad3-4832-8327-92747152e61f",
   "metadata": {},
   "source": [
    "KNN captures the idea of similarity(Sometimes called distance, proximity, or closeness) with some mathematics we might have learned in our childhood - calculating the distance between points on a graph."
   ]
  },
  {
   "cell_type": "markdown",
   "id": "52489a79-5cee-487a-acff-3b8e741c459d",
   "metadata": {},
   "source": [
    "There are many ways to calculate distance and one way might be preferable depending on the problem you are trying to solve.\n",
    "\n",
    "We are going to use a gridan distance which is a popular and familiar choice"
   ]
  },
  {
   "cell_type": "markdown",
   "id": "77ec2bdf-2112-4901-bde4-eb5bbe6d7f37",
   "metadata": {},
   "source": [
    "#### K-NN Algorithm"
   ]
  },
  {
   "cell_type": "markdown",
   "id": "91adf848-9dee-4d82-9788-fd7742e529d6",
   "metadata": {},
   "source": [
    ". Load the data.\n",
    "\n",
    ". Initialse K to your chosen number of neighbors.\n",
    "\n",
    ". For each example in data.\n",
    "\n",
    "    . Calculate the distance between the query example and current example from the data\n",
    "    \n",
    "    Note the distance here is the Euclaen distance\n",
    "    \n",
    "     .Add the distance and the index of the example to an ordered collection.\n",
    "     \n",
    ".  Sort the ordered collection of distances and indices from smallest to largest (in ascending order) by the distances.\n",
    "\n",
    ". Pick the first K enteries from the sorted collection.\n",
    "\n",
    ". Get the labels of the selected K enteries.\n",
    "     \n",
    "     \n",
    "Now if you want to find the mean , that is a regression problem   and if you want to find the mode , it is a classification problem \n",
    "     "
   ]
  },
  {
   "cell_type": "markdown",
   "id": "5afeafb5-68a0-4ac8-bb5b-9a2725f7e3e2",
   "metadata": {},
   "source": [
    "#### Choosing the right value for K"
   ]
  },
  {
   "cell_type": "markdown",
   "id": "3a4647cc-5bac-483e-8230-a6fc94d2fbe9",
   "metadata": {},
   "source": [
    "To select the K that's right for your data,we run the KNN algorithm several times with different values of K and choose the K that reduces the number of errors we encounter while maintaining the algorithm's ability to accurately make predictions when it's given data it hasn't seen before."
   ]
  },
  {
   "cell_type": "markdown",
   "id": "6ca0aa67-2e19-4622-8fbc-0f2db2e1a103",
   "metadata": {},
   "source": [
    "#### Advantages "
   ]
  },
  {
   "cell_type": "markdown",
   "id": "87298539-333a-4d52-b118-2dc2a7abeaa1",
   "metadata": {},
   "source": [
    ". The algorithm is simple and easy to implement.\n",
    "\n",
    ". There's no need to build a model, tune several parameters, or make additional assumptions.\n",
    "\n",
    ". The algorithm is versatile. It can be used for classification. regression and search(asw e will see in the next section)"
   ]
  },
  {
   "cell_type": "markdown",
   "id": "6ea32fd0-a8c0-4d2a-ab60-aa4d0e1e290b",
   "metadata": {},
   "source": [
    "#### Disadvantages "
   ]
  },
  {
   "cell_type": "markdown",
   "id": "1c4c64b2-0d5c-4a30-9828-2b084300084e",
   "metadata": {},
   "source": [
    ". The algorithm gets significantly slower as the number of examples and/or preictors/independent variables increas."
   ]
  },
  {
   "cell_type": "markdown",
   "id": "32fd9221-db91-44a1-b657-680a58bb48f5",
   "metadata": {},
   "source": [
    "#### Applications of K-NN"
   ]
  },
  {
   "cell_type": "markdown",
   "id": "899366e9-0e91-4530-a5e8-088e0466ce99",
   "metadata": {},
   "source": [
    "KNN can be useful in solving problems that have solutions that depend on identifying similar objects.\n",
    "An example of this is using the KNN algorithm in recommender systems, an application of KNN-search"
   ]
  },
  {
   "cell_type": "markdown",
   "id": "828ce23a-d536-41db-9f1f-eb958e5d9dfb",
   "metadata": {},
   "source": [
    "#### Application of K-NN"
   ]
  },
  {
   "cell_type": "markdown",
   "id": "a3fb4694-f4a4-455e-9c26-4c4fbb6bd92a",
   "metadata": {},
   "source": [
    "At scale, this would look like recommending products on Amazon, articles on Medium, movies on Neflix, or videos on youTube , Although, we can be certain they all use more efficient means of making recommendations due to the enormous volume of data they process."
   ]
  },
  {
   "cell_type": "markdown",
   "id": "8693de6f-8545-420a-b5f6-b2be95123747",
   "metadata": {},
   "source": [
    "#### Implementation"
   ]
  },
  {
   "cell_type": "markdown",
   "id": "10685f47-f032-47d3-8803-024da8c8e133",
   "metadata": {},
   "source": [
    "We have two choices , we can either use the scikit learn library to import the k-nn model and use it directly or we can write our own model from scratch"
   ]
  },
  {
   "cell_type": "markdown",
   "id": "85d00e8f-8644-4898-8f88-7b87294f7431",
   "metadata": {},
   "source": [
    "K-NN is a type of supervised learning algorthm, It is extremely easy to implement in most basic form yet perform most complex classification tasks.\n",
    "It is a non parametric learning algorithm which means that it does not assume anything about genderadiator.\n",
    "\n",
    "This is an extremely useful feature as most of the real world data does not really follow any theoritical assumptions  for example data linear skelebility... or uniform distribution."
   ]
  },
  {
   "cell_type": "markdown",
   "id": "21fe9710-2887-4cf6-bff2-4086758e2111",
   "metadata": {},
   "source": [
    "We will be using the famour iris data set for our K-NN example.\n",
    "\n",
    "It consists of four attributes  \n",
    "\n",
    "i. Sepal length\n",
    "\n",
    "ii. sepal width\n",
    "\n",
    "iii petal length\n",
    "\n",
    "1v. Petal width"
   ]
  },
  {
   "cell_type": "markdown",
   "id": "aed99c49-a7e7-41e7-b59e-c8f104640270",
   "metadata": {},
   "source": [
    "Task: We are to predict the class to which this class belong to"
   ]
  },
  {
   "cell_type": "code",
   "execution_count": 144,
   "id": "4b2d0fe6-f416-44a4-9861-e76a9a4f4421",
   "metadata": {},
   "outputs": [
    {
     "ename": "SyntaxError",
     "evalue": "invalid syntax (Temp/ipykernel_14048/2268138598.py, line 1)",
     "output_type": "error",
     "traceback": [
      "\u001b[1;36m  File \u001b[1;32m\"C:\\Users\\user\\AppData\\Local\\Temp/ipykernel_14048/2268138598.py\"\u001b[1;36m, line \u001b[1;32m1\u001b[0m\n\u001b[1;33m    We have three classes in the dataset\u001b[0m\n\u001b[1;37m       ^\u001b[0m\n\u001b[1;31mSyntaxError\u001b[0m\u001b[1;31m:\u001b[0m invalid syntax\n"
     ]
    }
   ],
   "source": [
    "We have three classes in the dataset\n",
    "\n",
    "i. Iris Satosa\n",
    "\n",
    "ii.iris Vescicla...\n",
    "\n",
    "iii. irish verginica"
   ]
  },
  {
   "cell_type": "code",
   "execution_count": 145,
   "id": "ffa90668-9320-4c7e-b15a-46b53bc92d86",
   "metadata": {},
   "outputs": [],
   "source": [
    "#### import the necessary libraries"
   ]
  },
  {
   "cell_type": "code",
   "execution_count": 146,
   "id": "f341b3a3-7d06-4a24-b723-2211e99291ba",
   "metadata": {},
   "outputs": [],
   "source": [
    "import numpy as np\n",
    "import matplotlib.pyplot as plt\n",
    "import pandas as pd"
   ]
  },
  {
   "cell_type": "markdown",
   "id": "5aedbe51-378f-44e0-bcaf-740c031a163e",
   "metadata": {},
   "source": [
    "We have the url from which we can access the data.\n",
    "we will now convert it to dataframe"
   ]
  },
  {
   "cell_type": "code",
   "execution_count": 147,
   "id": "feea9925-025a-4b1b-b056-2c24469e497e",
   "metadata": {},
   "outputs": [],
   "source": [
    "url = \"https://archive.ics.uci.edu/ml/machine-learning-databases/iris/iris.data\"\n",
    "\n",
    "#Assign column names to the dataset\n",
    "names = ['sepal=length', 'sepal=width', 'petal-length', 'petal-width', 'Class']\n",
    "\n",
    "# Read dataset io pandas dataframe\n",
    "dataset = pd.read_csv(url, names=names)"
   ]
  },
  {
   "cell_type": "code",
   "execution_count": 271,
   "id": "2e46c274-268f-4923-844f-23e33d054827",
   "metadata": {},
   "outputs": [
    {
     "data": {
      "text/html": [
       "<div>\n",
       "<style scoped>\n",
       "    .dataframe tbody tr th:only-of-type {\n",
       "        vertical-align: middle;\n",
       "    }\n",
       "\n",
       "    .dataframe tbody tr th {\n",
       "        vertical-align: top;\n",
       "    }\n",
       "\n",
       "    .dataframe thead th {\n",
       "        text-align: right;\n",
       "    }\n",
       "</style>\n",
       "<table border=\"1\" class=\"dataframe\">\n",
       "  <thead>\n",
       "    <tr style=\"text-align: right;\">\n",
       "      <th></th>\n",
       "      <th>sepal=length</th>\n",
       "      <th>sepal=width</th>\n",
       "      <th>petal-length</th>\n",
       "      <th>petal-width</th>\n",
       "      <th>Class</th>\n",
       "    </tr>\n",
       "  </thead>\n",
       "  <tbody>\n",
       "    <tr>\n",
       "      <th>0</th>\n",
       "      <td>5.1</td>\n",
       "      <td>3.5</td>\n",
       "      <td>1.4</td>\n",
       "      <td>0.2</td>\n",
       "      <td>Iris-setosa</td>\n",
       "    </tr>\n",
       "    <tr>\n",
       "      <th>1</th>\n",
       "      <td>4.9</td>\n",
       "      <td>3.0</td>\n",
       "      <td>1.4</td>\n",
       "      <td>0.2</td>\n",
       "      <td>Iris-setosa</td>\n",
       "    </tr>\n",
       "    <tr>\n",
       "      <th>2</th>\n",
       "      <td>4.7</td>\n",
       "      <td>3.2</td>\n",
       "      <td>1.3</td>\n",
       "      <td>0.2</td>\n",
       "      <td>Iris-setosa</td>\n",
       "    </tr>\n",
       "    <tr>\n",
       "      <th>3</th>\n",
       "      <td>4.6</td>\n",
       "      <td>3.1</td>\n",
       "      <td>1.5</td>\n",
       "      <td>0.2</td>\n",
       "      <td>Iris-setosa</td>\n",
       "    </tr>\n",
       "    <tr>\n",
       "      <th>4</th>\n",
       "      <td>5.0</td>\n",
       "      <td>3.6</td>\n",
       "      <td>1.4</td>\n",
       "      <td>0.2</td>\n",
       "      <td>Iris-setosa</td>\n",
       "    </tr>\n",
       "  </tbody>\n",
       "</table>\n",
       "</div>"
      ],
      "text/plain": [
       "   sepal=length  sepal=width  petal-length  petal-width        Class\n",
       "0           5.1          3.5           1.4          0.2  Iris-setosa\n",
       "1           4.9          3.0           1.4          0.2  Iris-setosa\n",
       "2           4.7          3.2           1.3          0.2  Iris-setosa\n",
       "3           4.6          3.1           1.5          0.2  Iris-setosa\n",
       "4           5.0          3.6           1.4          0.2  Iris-setosa"
      ]
     },
     "execution_count": 271,
     "metadata": {},
     "output_type": "execute_result"
    }
   ],
   "source": [
    "dataset.head()"
   ]
  },
  {
   "cell_type": "code",
   "execution_count": 149,
   "id": "c2603737-ac9f-4e8f-ad22-c82040437649",
   "metadata": {},
   "outputs": [],
   "source": [
    "#Split the datset into attribute and lebels\n",
    "X = dataset.iloc[:, :-1].values\n",
    "y = dataset.iloc[:, 4].values"
   ]
  },
  {
   "cell_type": "markdown",
   "id": "e051dfce-9c0b-4c4a-b9aa-e50371a8e4dd",
   "metadata": {},
   "source": [
    "The x variable habours the first 4 columns while the y independent variables habours the class which is the last column"
   ]
  },
  {
   "cell_type": "code",
   "execution_count": 150,
   "id": "1dc27b92-722c-44e7-9848-1c6b86a2b49b",
   "metadata": {},
   "outputs": [],
   "source": [
    "# create train -test-split\n",
    "from sklearn.model_selection import train_test_split\n",
    "X_train, X_test, y_trian, y_test = train_test_split(X,y , test_size=0.2)"
   ]
  },
  {
   "cell_type": "markdown",
   "id": "d031a11d-b128-4ab9-b759-2cc32f29d08f",
   "metadata": {},
   "source": [
    "We need to scale the features so that all of them can be uniformly evaluated\n",
    "We will have 120 records on train and 30 records on test"
   ]
  },
  {
   "cell_type": "code",
   "execution_count": 151,
   "id": "35089c64-ebdf-4d9b-9033-1f26bb4bf676",
   "metadata": {},
   "outputs": [],
   "source": [
    "from sklearn.preprocessing import StandardScaler\n",
    "scaler = StandardScaler()\n",
    "scaler.fit(X_train)\n",
    "X_train = scaler.transform(X_train)\n",
    "X_test = scaler.transform(X_test)"
   ]
  },
  {
   "cell_type": "code",
   "execution_count": 152,
   "id": "d4226b87-1fae-4cde-9d28-409fcec3e34f",
   "metadata": {},
   "outputs": [
    {
     "ename": "ValueError",
     "evalue": "Found input variables with inconsistent numbers of samples: [120, 1097]",
     "output_type": "error",
     "traceback": [
      "\u001b[1;31m---------------------------------------------------------------------------\u001b[0m",
      "\u001b[1;31mValueError\u001b[0m                                Traceback (most recent call last)",
      "\u001b[1;32m~\\AppData\\Local\\Temp/ipykernel_14048/4131756489.py\u001b[0m in \u001b[0;36m<module>\u001b[1;34m\u001b[0m\n\u001b[0;32m      1\u001b[0m \u001b[1;32mfrom\u001b[0m \u001b[0msklearn\u001b[0m\u001b[1;33m.\u001b[0m\u001b[0mneighbors\u001b[0m \u001b[1;32mimport\u001b[0m \u001b[0mKNeighborsClassifier\u001b[0m\u001b[1;33m\u001b[0m\u001b[1;33m\u001b[0m\u001b[0m\n\u001b[0;32m      2\u001b[0m \u001b[0mclassifier\u001b[0m \u001b[1;33m=\u001b[0m \u001b[0mKNeighborsClassifier\u001b[0m\u001b[1;33m(\u001b[0m\u001b[0mn_neighbors\u001b[0m\u001b[1;33m=\u001b[0m\u001b[1;36m5\u001b[0m\u001b[1;33m)\u001b[0m\u001b[1;33m\u001b[0m\u001b[1;33m\u001b[0m\u001b[0m\n\u001b[1;32m----> 3\u001b[1;33m \u001b[0mclassifier\u001b[0m\u001b[1;33m.\u001b[0m\u001b[0mfit\u001b[0m\u001b[1;33m(\u001b[0m\u001b[0mX_train\u001b[0m\u001b[1;33m,\u001b[0m \u001b[0my_train\u001b[0m\u001b[1;33m)\u001b[0m\u001b[1;33m\u001b[0m\u001b[1;33m\u001b[0m\u001b[0m\n\u001b[0m",
      "\u001b[1;32m~\\anaconda3\\lib\\site-packages\\sklearn\\neighbors\\_classification.py\u001b[0m in \u001b[0;36mfit\u001b[1;34m(self, X, y)\u001b[0m\n\u001b[0;32m    177\u001b[0m             \u001b[0mThe\u001b[0m \u001b[0mfitted\u001b[0m \u001b[0mk\u001b[0m\u001b[1;33m-\u001b[0m\u001b[0mnearest\u001b[0m \u001b[0mneighbors\u001b[0m \u001b[0mclassifier\u001b[0m\u001b[1;33m.\u001b[0m\u001b[1;33m\u001b[0m\u001b[1;33m\u001b[0m\u001b[0m\n\u001b[0;32m    178\u001b[0m         \"\"\"\n\u001b[1;32m--> 179\u001b[1;33m         \u001b[1;32mreturn\u001b[0m \u001b[0mself\u001b[0m\u001b[1;33m.\u001b[0m\u001b[0m_fit\u001b[0m\u001b[1;33m(\u001b[0m\u001b[0mX\u001b[0m\u001b[1;33m,\u001b[0m \u001b[0my\u001b[0m\u001b[1;33m)\u001b[0m\u001b[1;33m\u001b[0m\u001b[1;33m\u001b[0m\u001b[0m\n\u001b[0m\u001b[0;32m    180\u001b[0m \u001b[1;33m\u001b[0m\u001b[0m\n\u001b[0;32m    181\u001b[0m     \u001b[1;32mdef\u001b[0m \u001b[0mpredict\u001b[0m\u001b[1;33m(\u001b[0m\u001b[0mself\u001b[0m\u001b[1;33m,\u001b[0m \u001b[0mX\u001b[0m\u001b[1;33m)\u001b[0m\u001b[1;33m:\u001b[0m\u001b[1;33m\u001b[0m\u001b[1;33m\u001b[0m\u001b[0m\n",
      "\u001b[1;32m~\\anaconda3\\lib\\site-packages\\sklearn\\neighbors\\_base.py\u001b[0m in \u001b[0;36m_fit\u001b[1;34m(self, X, y)\u001b[0m\n\u001b[0;32m    361\u001b[0m         \u001b[1;32mif\u001b[0m \u001b[0mself\u001b[0m\u001b[1;33m.\u001b[0m\u001b[0m_get_tags\u001b[0m\u001b[1;33m(\u001b[0m\u001b[1;33m)\u001b[0m\u001b[1;33m[\u001b[0m\u001b[1;34m\"requires_y\"\u001b[0m\u001b[1;33m]\u001b[0m\u001b[1;33m:\u001b[0m\u001b[1;33m\u001b[0m\u001b[1;33m\u001b[0m\u001b[0m\n\u001b[0;32m    362\u001b[0m             \u001b[1;32mif\u001b[0m \u001b[1;32mnot\u001b[0m \u001b[0misinstance\u001b[0m\u001b[1;33m(\u001b[0m\u001b[0mX\u001b[0m\u001b[1;33m,\u001b[0m \u001b[1;33m(\u001b[0m\u001b[0mKDTree\u001b[0m\u001b[1;33m,\u001b[0m \u001b[0mBallTree\u001b[0m\u001b[1;33m,\u001b[0m \u001b[0mNeighborsBase\u001b[0m\u001b[1;33m)\u001b[0m\u001b[1;33m)\u001b[0m\u001b[1;33m:\u001b[0m\u001b[1;33m\u001b[0m\u001b[1;33m\u001b[0m\u001b[0m\n\u001b[1;32m--> 363\u001b[1;33m                 X, y = self._validate_data(X, y, accept_sparse=\"csr\",\n\u001b[0m\u001b[0;32m    364\u001b[0m                                            multi_output=True)\n\u001b[0;32m    365\u001b[0m \u001b[1;33m\u001b[0m\u001b[0m\n",
      "\u001b[1;32m~\\anaconda3\\lib\\site-packages\\sklearn\\base.py\u001b[0m in \u001b[0;36m_validate_data\u001b[1;34m(self, X, y, reset, validate_separately, **check_params)\u001b[0m\n\u001b[0;32m    431\u001b[0m                 \u001b[0my\u001b[0m \u001b[1;33m=\u001b[0m \u001b[0mcheck_array\u001b[0m\u001b[1;33m(\u001b[0m\u001b[0my\u001b[0m\u001b[1;33m,\u001b[0m \u001b[1;33m**\u001b[0m\u001b[0mcheck_y_params\u001b[0m\u001b[1;33m)\u001b[0m\u001b[1;33m\u001b[0m\u001b[1;33m\u001b[0m\u001b[0m\n\u001b[0;32m    432\u001b[0m             \u001b[1;32melse\u001b[0m\u001b[1;33m:\u001b[0m\u001b[1;33m\u001b[0m\u001b[1;33m\u001b[0m\u001b[0m\n\u001b[1;32m--> 433\u001b[1;33m                 \u001b[0mX\u001b[0m\u001b[1;33m,\u001b[0m \u001b[0my\u001b[0m \u001b[1;33m=\u001b[0m \u001b[0mcheck_X_y\u001b[0m\u001b[1;33m(\u001b[0m\u001b[0mX\u001b[0m\u001b[1;33m,\u001b[0m \u001b[0my\u001b[0m\u001b[1;33m,\u001b[0m \u001b[1;33m**\u001b[0m\u001b[0mcheck_params\u001b[0m\u001b[1;33m)\u001b[0m\u001b[1;33m\u001b[0m\u001b[1;33m\u001b[0m\u001b[0m\n\u001b[0m\u001b[0;32m    434\u001b[0m             \u001b[0mout\u001b[0m \u001b[1;33m=\u001b[0m \u001b[0mX\u001b[0m\u001b[1;33m,\u001b[0m \u001b[0my\u001b[0m\u001b[1;33m\u001b[0m\u001b[1;33m\u001b[0m\u001b[0m\n\u001b[0;32m    435\u001b[0m \u001b[1;33m\u001b[0m\u001b[0m\n",
      "\u001b[1;32m~\\anaconda3\\lib\\site-packages\\sklearn\\utils\\validation.py\u001b[0m in \u001b[0;36minner_f\u001b[1;34m(*args, **kwargs)\u001b[0m\n\u001b[0;32m     61\u001b[0m             \u001b[0mextra_args\u001b[0m \u001b[1;33m=\u001b[0m \u001b[0mlen\u001b[0m\u001b[1;33m(\u001b[0m\u001b[0margs\u001b[0m\u001b[1;33m)\u001b[0m \u001b[1;33m-\u001b[0m \u001b[0mlen\u001b[0m\u001b[1;33m(\u001b[0m\u001b[0mall_args\u001b[0m\u001b[1;33m)\u001b[0m\u001b[1;33m\u001b[0m\u001b[1;33m\u001b[0m\u001b[0m\n\u001b[0;32m     62\u001b[0m             \u001b[1;32mif\u001b[0m \u001b[0mextra_args\u001b[0m \u001b[1;33m<=\u001b[0m \u001b[1;36m0\u001b[0m\u001b[1;33m:\u001b[0m\u001b[1;33m\u001b[0m\u001b[1;33m\u001b[0m\u001b[0m\n\u001b[1;32m---> 63\u001b[1;33m                 \u001b[1;32mreturn\u001b[0m \u001b[0mf\u001b[0m\u001b[1;33m(\u001b[0m\u001b[1;33m*\u001b[0m\u001b[0margs\u001b[0m\u001b[1;33m,\u001b[0m \u001b[1;33m**\u001b[0m\u001b[0mkwargs\u001b[0m\u001b[1;33m)\u001b[0m\u001b[1;33m\u001b[0m\u001b[1;33m\u001b[0m\u001b[0m\n\u001b[0m\u001b[0;32m     64\u001b[0m \u001b[1;33m\u001b[0m\u001b[0m\n\u001b[0;32m     65\u001b[0m             \u001b[1;31m# extra_args > 0\u001b[0m\u001b[1;33m\u001b[0m\u001b[1;33m\u001b[0m\u001b[0m\n",
      "\u001b[1;32m~\\anaconda3\\lib\\site-packages\\sklearn\\utils\\validation.py\u001b[0m in \u001b[0;36mcheck_X_y\u001b[1;34m(X, y, accept_sparse, accept_large_sparse, dtype, order, copy, force_all_finite, ensure_2d, allow_nd, multi_output, ensure_min_samples, ensure_min_features, y_numeric, estimator)\u001b[0m\n\u001b[0;32m    886\u001b[0m         \u001b[0my\u001b[0m \u001b[1;33m=\u001b[0m \u001b[0my\u001b[0m\u001b[1;33m.\u001b[0m\u001b[0mastype\u001b[0m\u001b[1;33m(\u001b[0m\u001b[0mnp\u001b[0m\u001b[1;33m.\u001b[0m\u001b[0mfloat64\u001b[0m\u001b[1;33m)\u001b[0m\u001b[1;33m\u001b[0m\u001b[1;33m\u001b[0m\u001b[0m\n\u001b[0;32m    887\u001b[0m \u001b[1;33m\u001b[0m\u001b[0m\n\u001b[1;32m--> 888\u001b[1;33m     \u001b[0mcheck_consistent_length\u001b[0m\u001b[1;33m(\u001b[0m\u001b[0mX\u001b[0m\u001b[1;33m,\u001b[0m \u001b[0my\u001b[0m\u001b[1;33m)\u001b[0m\u001b[1;33m\u001b[0m\u001b[1;33m\u001b[0m\u001b[0m\n\u001b[0m\u001b[0;32m    889\u001b[0m \u001b[1;33m\u001b[0m\u001b[0m\n\u001b[0;32m    890\u001b[0m     \u001b[1;32mreturn\u001b[0m \u001b[0mX\u001b[0m\u001b[1;33m,\u001b[0m \u001b[0my\u001b[0m\u001b[1;33m\u001b[0m\u001b[1;33m\u001b[0m\u001b[0m\n",
      "\u001b[1;32m~\\anaconda3\\lib\\site-packages\\sklearn\\utils\\validation.py\u001b[0m in \u001b[0;36mcheck_consistent_length\u001b[1;34m(*arrays)\u001b[0m\n\u001b[0;32m    317\u001b[0m     \u001b[0muniques\u001b[0m \u001b[1;33m=\u001b[0m \u001b[0mnp\u001b[0m\u001b[1;33m.\u001b[0m\u001b[0munique\u001b[0m\u001b[1;33m(\u001b[0m\u001b[0mlengths\u001b[0m\u001b[1;33m)\u001b[0m\u001b[1;33m\u001b[0m\u001b[1;33m\u001b[0m\u001b[0m\n\u001b[0;32m    318\u001b[0m     \u001b[1;32mif\u001b[0m \u001b[0mlen\u001b[0m\u001b[1;33m(\u001b[0m\u001b[0muniques\u001b[0m\u001b[1;33m)\u001b[0m \u001b[1;33m>\u001b[0m \u001b[1;36m1\u001b[0m\u001b[1;33m:\u001b[0m\u001b[1;33m\u001b[0m\u001b[1;33m\u001b[0m\u001b[0m\n\u001b[1;32m--> 319\u001b[1;33m         raise ValueError(\"Found input variables with inconsistent numbers of\"\n\u001b[0m\u001b[0;32m    320\u001b[0m                          \" samples: %r\" % [int(l) for l in lengths])\n\u001b[0;32m    321\u001b[0m \u001b[1;33m\u001b[0m\u001b[0m\n",
      "\u001b[1;31mValueError\u001b[0m: Found input variables with inconsistent numbers of samples: [120, 1097]"
     ]
    }
   ],
   "source": [
    "from sklearn.neighbors import KNeighborsClassifier\n",
    "classifier = KNeighborsClassifier(n_neighbors=5)\n",
    "classifier.fit(X_train, y_train)"
   ]
  },
  {
   "cell_type": "markdown",
   "id": "f0ef39fb-e062-417b-8f55-0e8c22c49168",
   "metadata": {},
   "source": [
    "The final step is to make variation on our test data"
   ]
  },
  {
   "cell_type": "code",
   "execution_count": null,
   "id": "53ca4cad-bfcd-419d-a602-c2913d8775ed",
   "metadata": {},
   "outputs": [],
   "source": [
    "y_pred = classifier.predict(X_test)"
   ]
  },
  {
   "cell_type": "markdown",
   "id": "0d5ce8cd-fcce-475a-85a4-4031619bac6a",
   "metadata": {},
   "source": [
    "Now lets evaluate our algorithm. we will use confusion matrix from the sklearn metrics model"
   ]
  },
  {
   "cell_type": "code",
   "execution_count": null,
   "id": "d2f35281-b6b8-470d-8b9d-94a407eb8c7b",
   "metadata": {},
   "outputs": [],
   "source": [
    "from sklearn.metrics import classification_report, confusion_matrix\n",
    "print(classification_report(y_test,y_pred))\n",
    "print(confusion_matrix(y_test, y_pred))\n"
   ]
  },
  {
   "cell_type": "markdown",
   "id": "d7bc9dcd-d32a-45b2-b19c-b394fa4e4d3f",
   "metadata": {},
   "source": [
    "Scikit-Learn: Quiz"
   ]
  },
  {
   "cell_type": "markdown",
   "id": "c083bfcc-42fc-4d73-954e-44c67dbce89e",
   "metadata": {},
   "source": [
    "1. Scikit-learn is considered to be one of the libraries in python programming.\n",
    "\n",
    "\n",
    "True"
   ]
  },
  {
   "cell_type": "markdown",
   "id": "b12f2db2-8d7a-4b97-b074-46b28ea0d29b",
   "metadata": {},
   "source": [
    "cikit-learn is an open source data analysis library, and the gold standard for Machine Learning (ML) in the Python ecosystem. Key concepts and features include: Algorithmic decision-making methods, including: Classification: identifying and categorizing data based on patterns.5 Aug 2022"
   ]
  },
  {
   "cell_type": "markdown",
   "id": "ad1df289-2808-4c6b-ab9e-471711fb612d",
   "metadata": {},
   "source": [
    "2. What does Scikit-learn feature? (Choose all that apply)"
   ]
  },
  {
   "cell_type": "markdown",
   "id": "c7f583ce-ee8e-4562-b5fa-cc1ada188042",
   "metadata": {},
   "source": [
    "classification\n",
    "Regression\n",
    "clustering"
   ]
  },
  {
   "cell_type": "markdown",
   "id": "22472bcc-0cdd-4dbf-a9eb-52489eb68b21",
   "metadata": {},
   "source": [
    "3. Scikit-learn can’t work with other libraries like NumPy and SciPy."
   ]
  },
  {
   "cell_type": "markdown",
   "id": "8973e250-ecf5-4df0-9bcf-f719646826b8",
   "metadata": {},
   "source": [
    "false"
   ]
  },
  {
   "cell_type": "markdown",
   "id": "120cd068-2917-48bb-a484-634aafadaae5",
   "metadata": {},
   "source": [
    "4. What is meant by Parsing CSV files with pandas library?"
   ]
  },
  {
   "cell_type": "markdown",
   "id": "c3666787-0fe7-4479-88ed-87be8f26c269",
   "metadata": {},
   "source": [
    "It is basic process of loading data from a CSV file into pandas DataFrame"
   ]
  },
  {
   "cell_type": "markdown",
   "id": "fa254741-0089-417a-8b21-00859207ff08",
   "metadata": {},
   "source": [
    "5. Who uses Scikit-learn? (Choose all that apply)"
   ]
  },
  {
   "cell_type": "markdown",
   "id": "6fdad841-d8ab-44cf-b98b-f43b9cdc19ae",
   "metadata": {},
   "source": [
    "Website makers\n",
    "\n",
    "Software engineers\n",
    "\n",
    "App Developers"
   ]
  },
  {
   "cell_type": "markdown",
   "id": "4cf0169f-5257-4eae-8cba-91e3af34b33a",
   "metadata": {},
   "source": [
    "#### Gradient Descent Step by Step"
   ]
  },
  {
   "cell_type": "markdown",
   "id": "46c574b4-d31a-441c-b0b5-7fa8c8dfac2f",
   "metadata": {},
   "source": [
    "Gradient descent is decent at estimating parameters and StatQuest!"
   ]
  },
  {
   "cell_type": "markdown",
   "id": "1e85667d-d864-4a2b-bf79-b287f0aed91f",
   "metadata": {},
   "source": [
    "Note: this StatQuest assumes you already understand the basics of least squares and linearRegression .So if you re not already down with that ,check out the Quest..\n",
    "\n",
    "Fitting a line to Data...\n",
    "\n",
    "aka Linear Regression\n",
    "\n",
    "aka least Squares\n",
    "\n",
    "\n",
    "In statistics,machine learning and other Data Science fields, we optimize a lot of stuff."
   ]
  },
  {
   "cell_type": "markdown",
   "id": "e98990f7-9334-41be-b5d1-726257543b81",
   "metadata": {},
   "source": [
    "When we fit a line with linear regression , we optimize the intercept and the slope\n",
    "\n",
    "Height = intercept + slope * Weight"
   ]
  },
  {
   "cell_type": "markdown",
   "id": "329f403c-ad2e-4572-b350-5c6de20387ce",
   "metadata": {},
   "source": [
    "When we use logistic regression, we optimize a squiggle.\n",
    "\n",
    "A Squiggle is a short line that curls and loops in an irregular way.\n",
    "\n",
    "\"some prescriptions are a series of meaningless squiggles\"\n",
    "\n",
    "A Squiggle is a software tool that automatically generates interactive web-based two-dimensional graphical representations of raw DNA sequences.\n"
   ]
  },
  {
   "cell_type": "markdown",
   "id": "b2eabaf0-6736-4142-8692-600e59b6d8f3",
   "metadata": {},
   "source": [
    "When we use t_SNE , we optimize clusters.\n",
    "\n",
    "These are just a few examples of the stuff we optimize , there are tons more.\n",
    "\n",
    "The cool thing is that Gradient Descent optimize all these things and much more"
   ]
  },
  {
   "cell_type": "markdown",
   "id": "9c33156c-5a67-4d5a-ae69-402e9a071fb6",
   "metadata": {},
   "source": [
    "So if we learn how to optimize this line using Gradient Descent"
   ]
  },
  {
   "cell_type": "markdown",
   "id": "85caa887-d8d1-4912-90e7-8756f503d4b3",
   "metadata": {},
   "source": [
    "Then we have learnt the strategy that optimizes this squiggle and these clusters.\n",
    "\n",
    "and many more of the optimization problems we have in statistics, machine learning and Data Science."
   ]
  },
  {
   "cell_type": "markdown",
   "id": "090a26c3-d42d-45c2-97a4-fed970ae0377",
   "metadata": {},
   "source": [
    "#### What is optimization?\n",
    "\n",
    "he action of making the best or most effective use of a situation or resource.\n",
    "\"companies interested in the optimization of the business\"\n",
    "\n",
    "Machine learning optimisation is the process of iteratively improving the accuracy of a machine learning model, lowering the degree of error. Machine learning models learn to generalise and make predictions about new live data based on insight learned from training data."
   ]
  },
  {
   "cell_type": "markdown",
   "id": "28581b4d-9d42-41b4-af22-7267aa9e752c",
   "metadata": {},
   "source": [
    "Lets start with a simple dataset\n",
    "\n",
    "on the x-axis we have weight and on the y-axis we have height.\n",
    "\n",
    "If we fit a line to the data and someone tells us that they weigh 1.5 \n",
    "\n",
    "We can use the line to predict that they will be 1.9 tall!"
   ]
  },
  {
   "cell_type": "markdown",
   "id": "76085ba8-ab4d-4003-8c3b-0c6b6dd9fad4",
   "metadata": {},
   "source": [
    "So lets' learn how Gradient Descent can fit a line to to data by finding the optimal values for the intercept and the slope\n",
    "\n",
    "Predicted Height = Intercept + slope * weight"
   ]
  },
  {
   "cell_type": "markdown",
   "id": "268856ee-caa0-4508-bdc3-7cbc91f42d18",
   "metadata": {},
   "source": [
    "We will start by using the gradient descent to find the Intercept \n",
    "Then once we understand how Gradient Descent works , we 'll use it to solve for the Intercept and the Slope."
   ]
  },
  {
   "cell_type": "markdown",
   "id": "34436924-86a7-4479-b6cc-1cb9417fddc3",
   "metadata": {},
   "source": [
    "For now lets just plug in the least squares estimate for the Slope.0.64"
   ]
  },
  {
   "cell_type": "markdown",
   "id": "cee258cf-5ec5-49a6-822b-87e1cb78a053",
   "metadata": {},
   "source": [
    "Then we will use Gradient Descent to find the optimal value for the Intercept."
   ]
  },
  {
   "cell_type": "markdown",
   "id": "9066d5a3-a38b-4f84-9e52-38c291e8e0fc",
   "metadata": {},
   "source": [
    "The first thing we do is pick a random value for the intercept.\n",
    "\n",
    "This is just an initial gues that gives Gradient Descent something to improve upon .\n",
    "\n",
    "In this case we will use 0 .\n",
    "but ant number will do.\n",
    "\n",
    "And this gives us the equation for this line.\n",
    "\n",
    "Predicted Height = Intercept (0)+ slope(0.64) * weight\n",
    "\n",
    "In this example, we will evaluate how well this line fits the data with the Sum of the Squared Residuals.\n",
    "\n",
    "Note: In machine learning lingo, the sum of the squared Residuals is a type of Loss Function.\n",
    "\n",
    "We will learn more about loss function later."
   ]
  },
  {
   "cell_type": "markdown",
   "id": "9ecf13da-0449-41f3-9ebc-fc05c447faf8",
   "metadata": {},
   "source": [
    " We will start by calculating this residual \n",
    "    \n",
    "This data point represents a person with Weight 0.5 and height 1.4\n",
    "\n",
    "We get the predicted height, the point on the line by plugging Weight = 0.5 into the equation for the line.\n",
    "\n",
    "\n",
    "Predicted Height = 0 + 0.64 * 0.5 = 0.32\n",
    "\n",
    "\n",
    "and the Predicted Height is 0.32"
   ]
  },
  {
   "cell_type": "markdown",
   "id": "5902ec37-b0d1-45e3-b05b-9ef36d447448",
   "metadata": {},
   "source": [
    "The residual is the differnce between the observed height and the Predicted Height.\n",
    "\n",
    "Residual = Observed Height - Predicted Height \n",
    "\n",
    "Residual = 1.4 - 0.32 = 1.1\n",
    "\n",
    "So we calculate the difference between 1.4 (the Observed Height) and 0.32 (The Predicted Height)\n",
    "\n",
    "This gives us 1.1 for the residual."
   ]
  },
  {
   "cell_type": "markdown",
   "id": "3775c8b9-e644-4ebd-9954-f9e700169f84",
   "metadata": {},
   "source": [
    "Sum of squared residuals = \n",
    "\n",
    "1.1^2 (for the first residual + 0.4^2(the second residual) + 1.3^2 (third residual) \n",
    "\n",
    "= 3.1\n",
    "\n",
    "sum of squared residuals = 1.1^2 + 0.4^2 + 1.3^2 = 3.1\n",
    "\n",
    "We will keep track of the sum of the squared residuals up here."
   ]
  },
  {
   "cell_type": "markdown",
   "id": "9e03e5c5-b91e-4a14-b83c-be205cb40cf5",
   "metadata": {},
   "source": [
    "Just for fun, we can plot that value on a graph.\n",
    "\n",
    "The graph has the sum of squared residual on the y-axis and different values for the intercept on the x-axis\n",
    "\n",
    "The red point on the graph represents the sum of the squared residuals when the intercept = 0\n",
    "\n",
    "Howevre ,when the intercepts equals 0.25 then we would get another point on the graph\n",
    "\n",
    "and if the intercept = 0.5 ,them we will notice that as the intercept changes the point changes.\n",
    "\n",
    "For increasing values of the intercept , we get these points,\n",
    "\n",
    "\n",
    "Of the points that we calculted for the graph , this one has the lowest sum of squared Residuals. ( point seen in the graph)\n",
    "\n",
    "But is that the best we can do?\n",
    "\n",
    "What if the best values for the intercept is somewhere between the assumed lowest sum of squared residual as can be seen in the graph.\n",
    "\n",
    "A slow and painful method for finding the minimal sum of the Squared Residuals is to plug and chug  a bunch more values for the Intercept/\n",
    "\n",
    "Dont despair! Gradient Descent is way more efficient.!"
   ]
  },
  {
   "cell_type": "markdown",
   "id": "8913fc18-8ed7-4d39-95aa-04654dc1b8c5",
   "metadata": {},
   "source": [
    "Gradeent Descent only does a few calculation far from the optimal solution and increases the number of calculations closer to the optimal value.\n",
    "\n",
    "In other words , Gradient Descent identifies the optimal value by taking big steps when it is far away and baby steps when it is close.\n",
    "\n",
    "Lets get back to using Gradient Descent to finf the optimal value for the intercept starting from a random value . In this case , the random value was 0.\n",
    "\n",
    "When we calculated the Sum of squared Residuals, the first Residual was the difference between the Observed Height which was 1.4 and the Predited height which \n",
    "came from the equation for this line \n",
    "\n",
    "\n",
    "Sum of squared residuals=(1.4- 0.64'predicted height'* 'weight' 0.5)2\n",
    "\n",
    "Predicted Height = intercept + 0.64 * weight\n",
    "\n",
    "So we will replace predicted height with the equation for the line.\n",
    "\n",
    "since the individual weighs 0.5 we will replace weight with 0.5\n",
    "\n",
    "so for this individual, we can see the observed height and predicted height from the graph.\n",
    "\n",
    "Note , we can now plug in any value for the intercept and get a new Predicted Height."
   ]
  },
  {
   "cell_type": "markdown",
   "id": "bd7db966-4705-46cb-8a82-2705899bb977",
   "metadata": {},
   "source": [
    "Now lets focus on the second datapoint\n",
    "\n",
    "just like before, the residual is the difference between thr observed height which is 1.9 and the predicted height which comes from th equation for the line and since this individual weighs 2.3 we replace weight with 2.3"
   ]
  },
  {
   "cell_type": "markdown",
   "id": "21be42de-1ac3-4016-a0e5-e3f29bfe8824",
   "metadata": {},
   "source": [
    "Sum of squared residuals = 1.4 - \n",
    "\n",
    "(intercept + 0.64 *0.5))2 + (1.9 - \n",
    "\n",
    "(intercept + 0.64 * 2.3 \"weight\"))2 + (3.2\n",
    "\n",
    "= (intercept + 0.64 +2.9))2\n",
    "\n",
    "\n"
   ]
  },
  {
   "cell_type": "markdown",
   "id": "0a91647e-5e6a-425c-aaf0-6049804f0152",
   "metadata": {},
   "source": [
    "Now let's focus on the last person\n",
    "\n",
    "Again, the residual is the difference between the Observed Height which is 3.2 and the predicted height which comes from the equation from the line and since this person weighs 2.9 we will replace weiht with 2.9\n",
    "\n",
    "Now we can easily plug in any value for the intercept and get the sum of the Squared Residuals"
   ]
  },
  {
   "cell_type": "markdown",
   "id": "ae6658d4-28c7-4f71-b568-c7fd6c88e31b",
   "metadata": {},
   "source": [
    "Thus, we now have an equation for this curve and we can take the derivative of the this function and determine the slpoe at any value for the intercept.\n",
    "\n",
    "So lets take the derivative of the sum of the Squared Residuals with respect to the intercept."
   ]
  },
  {
   "cell_type": "markdown",
   "id": "0511b802-860c-4587-bedf-4846018f81e9",
   "metadata": {},
   "source": [
    "Sum of squared residuals = (1.4- (intercept + 0.64 * 0.5))2\n",
    "\n",
    "                           + (1.9-(intercept + 0.64 * 2.3))2\n",
    "    \n",
    "                           + (3.2 =(intercept + 0.64 * 2.9))2"
   ]
  },
  {
   "cell_type": "markdown",
   "id": "db8b7bbf-f48c-4a3b-bcff-c3239f02561e",
   "metadata": {},
   "source": [
    "the derivative of the sum of the squared residuals with respect to the intercept  is equal to the derivative of the first part.plus the derivative of the second part plus the derivative of the third part.\n",
    "\n",
    "\n",
    "d / d intercept Sum of squared residuals = \n",
    "\n",
    "d / d intercept (1.4- (intercept + 0.64 * 0.5))2\n",
    "\n",
    "+ d / d intercept (1.9- (intercept + 0.64 *2.3))2\n",
    "\n",
    "+ d / d intercept (3.2- (intercept + 0.64 * 2.9))2"
   ]
  },
  {
   "cell_type": "markdown",
   "id": "8ac27deb-fd5b-46fd-b86c-ece9de4133fa",
   "metadata": {},
   "source": [
    "lets start by taking the derivative of the first part"
   ]
  },
  {
   "cell_type": "markdown",
   "id": "1079e85d-edc3-4c35-83a8-9858ee999164",
   "metadata": {},
   "source": [
    "d / d intercept (1.4- (intercept + 0.64 * 0.5))2 = "
   ]
  },
  {
   "cell_type": "markdown",
   "id": "889494ea-cc43-4d87-b3a3-be33513c96de",
   "metadata": {},
   "source": [
    "first we move the derivative of the first part up to have room to work,"
   ]
  },
  {
   "cell_type": "markdown",
   "id": "cd5606bf-c809-43a9-bcaa-05ad2f75364a",
   "metadata": {},
   "source": [
    "To take the derivative of this , we need to apply  \" The chain Rule\""
   ]
  },
  {
   "cell_type": "markdown",
   "id": "563a5021-b771-418c-aa75-0704cd2692b0",
   "metadata": {},
   "source": [
    "We start by moving the square to the front and multiply that by the derivative of the stuff inside the parantheses."
   ]
  },
  {
   "cell_type": "markdown",
   "id": "7709f020-6183-414d-8392-57bc19509b7d",
   "metadata": {},
   "source": [
    "d / d intercept (1.4- (intercept + 0.64 * 0.5))2 =\n",
    "\n",
    "= 2(1.4- (intercept + 0.64 * 0.5) *-1\n",
    "\n",
    "\n",
    "d / d intercept 1.4 -(intercept + 0.64 *0.5)\n",
    "\n",
    "d/ d intercept  + (-)intercept =-1\n",
    "\n",
    "\n",
    "after removing the part we dont need , we will  simply by multiplying 2 by -1\n",
    "\n",
    "= 2(1.4- (intercept + 0.64 * 0.5) *-1 \n",
    "\n",
    "= -2(1.4- (intercept + 0.64 * 0.5))\n",
    "         \n",
    "and this |   is the derivative of the first part\n",
    "\n",
    "\n",
    "d / d intercept Sum of squared residuals =\n",
    "\n",
    "d / d intercept (1.4 - (intercept + 0.64 * 0.5))2\n",
    "\n",
    "\n",
    "So we plug it in\n",
    "\n",
    "d / d intercept Sum of squared residuals \n",
    "\n",
    "= -2(1.4 -(intercept + 0.64 * 0.5))\n"
   ]
  },
  {
   "cell_type": "markdown",
   "id": "efefc0ff-46b1-4a05-8b26-790b8f786fd7",
   "metadata": {},
   "source": [
    "Now we need to take the derivative of the next two parts."
   ]
  },
  {
   "cell_type": "markdown",
   "id": "234844a3-c806-44f2-b7f8-57c94dac1916",
   "metadata": {},
   "source": [
    "d / d intercept Sum of squared residuals  =\n",
    "\n",
    "+ d / d intercept (1.9-(intercept + 0.64 * 2.3))2\n",
    "\n",
    "\n",
    " + d / d intercept (3.2-(intercept + 0.64 * 2.9))2"
   ]
  },
  {
   "cell_type": "markdown",
   "id": "985531a9-2eec-421c-a88f-f10ce46099aa",
   "metadata": {},
   "source": [
    "Exercise \n",
    "\n",
    "Find the derivatives of 2 and 3 "
   ]
  },
  {
   "cell_type": "markdown",
   "id": "531edc3b-4997-4cd4-b8a2-dbc4a9967082",
   "metadata": {},
   "source": [
    "d / d intercept Sum of squared residuals  = \n",
    "\n",
    "-2 (1.4-(intercept + 0.64 * 0.5)\n",
    "\n",
    "2(1.9-(intercept + 0.64 * 2.3))\n",
    "\n",
    "+ -2(3.2-(intercept +0.64 * 2.9)  = -5.7"
   ]
  },
  {
   "cell_type": "markdown",
   "id": "ec0a27ed-6ba1-4f74-a54b-e3f0de4f2d08",
   "metadata": {},
   "source": [
    "Lets move the derivative up here so that it's not taking up half of the screen"
   ]
  },
  {
   "cell_type": "markdown",
   "id": "fa10ba1c-e4ad-4a87-bb9f-a0075110f2b1",
   "metadata": {},
   "source": [
    "Now that we have the derivative, Gradient Descent will use it to find where the Sum of Squared Residuals is lowest.\n",
    "\n",
    "\n",
    "Note, if we were using least Squares to solve for the optimal value for the intercept , we would simply find where the slope of the curve = 0\n",
    "\n",
    "In constrast,Gradient Descent finds the minimum value by taking steps from an initial guess until it reaches the best value.\n",
    "\n",
    "This makes Gradient Descent very useful when it is not possible to solve for where the derivatives = 0, and this is why Gradient Descent can be used in so many different situations.\n",
    "\n",
    "Remember, we started by setting the Intercept to a random number in this case, that was 0. so we plot 0 into the derivatives and we got -5.7, so when the intercept = 0 the slope of the curve = -5.7"
   ]
  },
  {
   "cell_type": "markdown",
   "id": "323cd930-a3e4-4c19-b133-5f2a38b46cbe",
   "metadata": {},
   "source": [
    "Note, the closer we get to the optimal value for the intercept , the closer the slope of the curve gets to 0, this means that when the slope of the curve is close to 0, then we should take baby steps, because we are close to the optimal value, and when the slope is  far from 0 , then we should take big steps . because we are far from the optimal value.\n",
    "\n",
    "However, if we take a super huge step, then we would increase the Sum of Squared Residual!\n",
    "So the size of the step should be related to the slope, since it tells us if we should take a baby step or a big step, but we need to make  sure the big step is not too big."
   ]
  },
  {
   "cell_type": "markdown",
   "id": "318831d9-45ec-4b3e-8a26-f1b5b5116d58",
   "metadata": {},
   "source": [
    "Gradient Descent determines the Stp size by multiplying the slope by  a small munber called 'The Learning Rate' we will take more on learning rate later."
   ]
  },
  {
   "cell_type": "markdown",
   "id": "d467a229-7bf5-4729-9ad9-c65209cef11f",
   "metadata": {},
   "source": [
    "Step size = -5.7 * 0.1 = -0.57"
   ]
  },
  {
   "cell_type": "markdown",
   "id": "6bafd6cf-b186-4ed1-9d43-4a75169caefe",
   "metadata": {},
   "source": [
    "When the intercept = 0, the Step = -0.57"
   ]
  },
  {
   "cell_type": "markdown",
   "id": "cd8e8a61-bef6-4a31-931d-490aaa88dd92",
   "metadata": {},
   "source": [
    "New intercept = <- With the step size , we can                        calculate a New Intercept."
   ]
  },
  {
   "cell_type": "markdown",
   "id": "0ab28816-8670-40fb-9bbf-867118ca64a3",
   "metadata": {},
   "source": [
    "The New intercept is the old intercept minus the step size\n",
    "New intercept = old intercept - step size\n",
    "\n",
    "we then plug in the numbers\n",
    "\n",
    "\n",
    "New intercept = 0 -(-0.57)= 0.57"
   ]
  },
  {
   "cell_type": "markdown",
   "id": "cb859ece-5c45-4a4c-9686-3f6a987967f0",
   "metadata": {},
   "source": [
    "Step size = -5.7 * 0.1"
   ]
  },
  {
   "cell_type": "markdown",
   "id": "6e9cd114-04aa-4150-bacd-567f369b570e",
   "metadata": {},
   "source": [
    "In one big step, we moved much closer to the optimal value for the intercept.\n",
    "\n",
    "Going back to the original data and the original line with the iintercept = 0.\n",
    "\n",
    "We can see how much the residuals shrink when the intercept = 0.57,\n",
    "\n",
    "Now lets take another step closer to the optimal value for the intercept.\n",
    "\n",
    "To take another step ,we go back to the derivative and plug in the New Intercept (0.57) and that tells us that the slope of the curve is -2.3"
   ]
  },
  {
   "cell_type": "markdown",
   "id": "cacdc970-abad-40b8-9bdd-e0bfe6f272fc",
   "metadata": {},
   "source": [
    "d / d intercept Sum of squared residuals  = \n",
    "\n",
    "-2 (1.4-(\"intercept\" 0.57 + 0.64 * 0.5)\n",
    "    \n",
    "2(1.9-(\"intercept\" 0.57 + 0.64 * 2.3))\n",
    "    \n",
    "+ -2(3.2-(\"intercept\" 0.57 +0.64 * 2.9)  = -2.3"
   ]
  },
  {
   "cell_type": "markdown",
   "id": "2be951ad-cdc1-4edc-ac27-85c7bc22a73f",
   "metadata": {},
   "source": [
    "Step Size = Slope * learning Rate\n",
    "\n",
    "Step Size = -2.3 *0.1 = - 0.23"
   ]
  },
  {
   "cell_type": "markdown",
   "id": "57098e04-3202-4a81-9217-dc0127b15438",
   "metadata": {},
   "source": [
    "Now let's calculate the Step size by plugging in -2.3 for the slope and 0.1 for the Learning Rate.ultimately, the step size is -0.23 amd the new intercept = 0.8"
   ]
  },
  {
   "cell_type": "markdown",
   "id": "dd309456-9b1a-4d6a-ba18-7df47567ae3b",
   "metadata": {},
   "source": [
    "New Intercept = 0.57 * (-0.23) - (-0.23) = 0.8"
   ]
  },
  {
   "cell_type": "markdown",
   "id": "f52948fe-554a-41b5-8f8d-876802c7b441",
   "metadata": {},
   "source": [
    "Now we can compare the residuals when the Intercept is = 0.57 to when the intercept = 0.8\n",
    "\n",
    "Overall, the sum of squared residuals is getting smaller.\n",
    "\n",
    "Notice, that the first step was relatively large compared to the second step.\n",
    "\n",
    "Now let's calculate the derivate at the New Intercept(0.8) and we get -0.9"
   ]
  },
  {
   "cell_type": "markdown",
   "id": "9a1e64f0-1e69-4515-9fc1-135436e788b2",
   "metadata": {},
   "source": [
    "d / d intercept Sum of squared residuals  = \n",
    "\n",
    "-2 (1.4-(\"intercept\" 0.8 + 0.64 * 0.5)\n",
    "    \n",
    "2(1.9-(\"intercept\" 0.8 + 0.64 * 2.3))\n",
    "    \n",
    "+ -2(3.2-(\"intercept\" 0.8+0.64 * 2.9)  = -0.9"
   ]
  },
  {
   "cell_type": "markdown",
   "id": "4f5d2e1e-2073-4e01-af46-e8d3994570b3",
   "metadata": {},
   "source": [
    "Step Size = Slope * Learning Rate\n",
    "           \n",
    "           = -0.9 * 0.1 = -0.09\n"
   ]
  },
  {
   "cell_type": "markdown",
   "id": "9dddb5e2-db74-4377-9738-5a27bf7ab71a",
   "metadata": {},
   "source": [
    "The step size  = -0.09  and the new intercept = 0.89"
   ]
  },
  {
   "cell_type": "markdown",
   "id": "efba71c0-0556-466e-96c5-0b95472b096c",
   "metadata": {},
   "source": [
    "New Intercept = 0.8 - (-0.09) = 0.89"
   ]
  },
  {
   "cell_type": "markdown",
   "id": "eab044ee-4a3d-4871-b171-5eb13e9cdf21",
   "metadata": {},
   "source": [
    "Now we increase the intercept from 0.8 to 0.89\n",
    "\n",
    "then we take another step and the New intercept = 0.92\n",
    "\n",
    "Then we take another step and the new intercept = 0.94\n",
    "\n",
    "And then we take another step and the new intercept = 0.95\n",
    "\n",
    "Notice how each step gets smaller and smaller the closer we get to the bottom of the curve.\n",
    "\n",
    "After 6 steps , the Gradient Descent estimate for the Intercept is 0.95.\n",
    "\n",
    "Note, The Least Squares estimate for the intercept is also 0.95.\n",
    "\n",
    "So we know that Gradient Descent has done its job, but without comparing its solution to a gold standard, how does Gradient Descent know to stop taking steps?\n",
    "\n",
    "Gradient Descent stops when the steps size is very close to 0.\n",
    "\n",
    "Note . step Size - Slope * Learning Rate"
   ]
  },
  {
   "cell_type": "markdown",
   "id": "a00c3a83-240a-4850-b9ba-3843d95e2ad2",
   "metadata": {},
   "source": [
    "The step size will be very close to - when the Slope is very close to 0.\n",
    "\n",
    "Inpractice, the Minimum Step Size = 0.001 or smaller.\n",
    "\n",
    "So if the slope = 0.009 then we will plig in 0.009 for the Slope and 0.1 for the Learning Rate and get 0.0009 ,which is smaller than 0,001, so Gradient Descent would stop."
   ]
  },
  {
   "cell_type": "markdown",
   "id": "2254405e-b19e-46ed-915f-925801423372",
   "metadata": {},
   "source": [
    "Step Size - 'Slope' 0.009 * 'Learning Rate'0.1 = 0.0009"
   ]
  },
  {
   "cell_type": "markdown",
   "id": "c2424854-3742-4a2c-a469-f80c1747b174",
   "metadata": {},
   "source": [
    "That said, Gradient Descent also includes a limit on the number of steps it will take before giving up.\n",
    "\n",
    "In practice, the Maximum Number of Steps = 1,000 or greater.\n",
    "So even if the steps size is karge, if there have been more than the Maximum Number of Steps  Gradient Descent will stop."
   ]
  },
  {
   "cell_type": "markdown",
   "id": "15afbdc6-8c8c-4035-9bae-63e1b3356c7c",
   "metadata": {},
   "source": [
    "#### REVIEW"
   ]
  },
  {
   "cell_type": "markdown",
   "id": "b6c12b16-3685-496d-9f92-71a620fcc991",
   "metadata": {},
   "source": [
    "Lets review what we have learnt so far:\n",
    "The firts thing we did is to decide to use the sum of the Squared Residuals as the loss Function to evaluate how well a line fits the data    "
   ]
  },
  {
   "cell_type": "markdown",
   "id": "84c42ff2-4dad-46db-a05b-bd286066b244",
   "metadata": {},
   "source": [
    "FORMULA : sum of sqaured residuals = (1.4-"
   ]
  },
  {
   "cell_type": "markdown",
   "id": "287afa02-c37a-4e63-a4bb-351a6a30cbf1",
   "metadata": {},
   "source": [
    "Then we took the derivatives of the sum of the squared residuals in other words , we took the derivatives of the Loss Function"
   ]
  },
  {
   "cell_type": "markdown",
   "id": "18079c8c-c761-4df1-b192-d47c13496da9",
   "metadata": {},
   "source": [
    "FORMULA : d / d intercept Sum of Squared Residuals =  -2(1.4-(intercept + 0.64 * 0.5)"
   ]
  },
  {
   "cell_type": "markdown",
   "id": "95ca5bc1-343a-4e14-9cbc-5fec580ac113",
   "metadata": {},
   "source": [
    "Then we picked a random value for the Intercept, in this case we set the Intercept = 0"
   ]
  },
  {
   "cell_type": "markdown",
   "id": "532ec3e4-1242-4c94-a06c-311a18cb0c2d",
   "metadata": {},
   "source": [
    "d/d intercept Sum of squared residuals = \n",
    "-2(1.4-(intercept + 0.64 * 0.5)"
   ]
  },
  {
   "cell_type": "markdown",
   "id": "bdf7c337-993c-4d26-9cd3-b02e7401815c",
   "metadata": {},
   "source": [
    "then we calculated the derivative when the Intercept = 0"
   ]
  },
  {
   "cell_type": "markdown",
   "id": "6697847b-9c6c-4d95-b0cc-2aadbb552086",
   "metadata": {},
   "source": [
    "Plugged that slpoe into the Step Size calculation"
   ]
  },
  {
   "cell_type": "markdown",
   "id": "0c6ec6e2-d470-40ad-87cd-dc48e5c3643b",
   "metadata": {},
   "source": [
    "Step Size = Slope * Learning rate"
   ]
  },
  {
   "cell_type": "markdown",
   "id": "64c901ab-1446-4081-8850-a0fa34710b31",
   "metadata": {},
   "source": [
    "Then calculated the New Intercept , the difference between the Old Inetrcept and the Step Size"
   ]
  },
  {
   "cell_type": "markdown",
   "id": "3bb415ff-5cd7-4268-a2c5-b5909a18c24f",
   "metadata": {},
   "source": [
    "New Intercept = Old Intercept - Step size"
   ]
  },
  {
   "cell_type": "markdown",
   "id": "f5483316-9271-4432-8203-cfa978e4b2f0",
   "metadata": {},
   "source": [
    "Lastly, we plugged the New Intercept into the derivative  and repeated everything until Step Size was close to 0"
   ]
  },
  {
   "cell_type": "markdown",
   "id": "209c64ac-c970-41aa-a7fc-6667fe4aee8f",
   "metadata": {},
   "source": [
    "d/d intercept Sum of squared residuals = \n",
    "\n",
    "-2(1.4-(intercept + 0.64 * 0.5)"
   ]
  },
  {
   "cell_type": "markdown",
   "id": "0eab154a-d7c3-4d77-ac2e-c5f46a4994d6",
   "metadata": {},
   "source": [
    "Now that we understand how Gradient Descent can estimate the Intercept, lets talk about how to estimate the Intercept and the Slope\n",
    "\n",
    "Just like before ,we will use the Sum of the Squared Residuals as the Loss Function"
   ]
  },
  {
   "cell_type": "markdown",
   "id": "c33dbf3c-cd45-4cbe-8a85-cfb5e82a305e",
   "metadata": {},
   "source": [
    "Predicted Height = intercept + 0.64 * Weight"
   ]
  },
  {
   "cell_type": "markdown",
   "id": "5ca64663-a9d8-4b77-919a-00fa032233d1",
   "metadata": {},
   "source": [
    "This is a 3-D graph of the Loss Function for different Values for the Intercept and the slope"
   ]
  },
  {
   "cell_type": "markdown",
   "id": "4cd1c0e5-f7c8-46bd-9d7c-0de059b86bd5",
   "metadata": {},
   "source": [
    "we have the axis for the sum of squared residuals\n",
    "We have the axis that represents different values for the Slope.\n",
    "\n",
    "We have the axis that represents different values for the Intercept."
   ]
  },
  {
   "cell_type": "markdown",
   "id": "a0ec3933-4722-4002-a446-6e2573e370a3",
   "metadata": {},
   "source": [
    "We want to find the values for the intercept and slpoe that give us the minimum Sum of the Squared Residuals."
   ]
  },
  {
   "cell_type": "markdown",
   "id": "d818eb3f-2bd4-4aec-a887-11fe7d9c6a73",
   "metadata": {},
   "source": [
    "d / d intercept Sum of squared residuals  = \n",
    "\n",
    "-2 (1.4-(\"intercept\" 0.8 + 0.64 * 0.5)\n",
    "    \n",
    "2(1.9-(\"intercept\" 0.8 + 0.64 * 2.3))\n",
    "    \n",
    "+ -2(3.2-(\"intercept\" 0.8+0.64 * 2.9)  = -0.9"
   ]
  },
  {
   "cell_type": "markdown",
   "id": "6afdeab3-8c22-4271-bf98-89d2c9ff0b96",
   "metadata": {},
   "source": [
    "So, just like before , we need to take the derivative of this function and just like before , we take the derivative with respect to the Intercept."
   ]
  },
  {
   "cell_type": "markdown",
   "id": "d73fec50-0d77-4588-9d67-3cb451b1b71c",
   "metadata": {},
   "source": [
    "d / d intercept Sum of squared residuals  ="
   ]
  },
  {
   "cell_type": "markdown",
   "id": "5eb87d8c-f297-48f7-a094-02406c85ed09",
   "metadata": {},
   "source": [
    "but unlike before, we 'll also take the derivative with respect to the Slope!\n",
    "\n",
    "We will start by taking the derivative with respect to the intercept"
   ]
  },
  {
   "cell_type": "markdown",
   "id": "2a69b616-ece2-4598-a8e9-bbc0c3692022",
   "metadata": {},
   "source": [
    "Just like before,we take the derivative of each part and just like before ,we ll use  The Chain Rule and move the square to the front"
   ]
  },
  {
   "cell_type": "markdown",
   "id": "5d7952fe-a5ea-4582-9cd3-1d414c74403b",
   "metadata": {},
   "source": [
    "d / d intercept Sum of squared residuals  =\n",
    "\n",
    "+ d / d intercept (1.9 -(intersept + slope *2.3))2  "
   ]
  },
  {
   "cell_type": "markdown",
   "id": "ed5ca5cb-11e7-47ed-96a0-06fb03483cd3",
   "metadata": {},
   "source": [
    "d / d intercept Sum of squared residuals  =\n",
    "\n",
    "+ d / d intercept (1.4 -(intersept + slope *0.5))2  "
   ]
  },
  {
   "cell_type": "markdown",
   "id": "2900ca5a-3304-4266-afab-29324884e0a0",
   "metadata": {},
   "source": [
    "We will use The Chain Rule and move the square to the front and multiply that by the derivative of the stuff inside the parentheses."
   ]
  },
  {
   "cell_type": "markdown",
   "id": "a961b099-6aec-4141-bc7b-b826df71b0af",
   "metadata": {},
   "source": [
    "d / d intercept (1.4 -(intercept + slope * 0.5))2 =\n",
    "\n",
    "2(1.4- (intercept + slope * 0.5))* -1\n",
    "\n",
    "= -2(1.4-(intercept +slope * 0.5))\n",
    "\n",
    "We simplify by multiplying 2 by -1"
   ]
  },
  {
   "cell_type": "markdown",
   "id": "0457c4b7-994a-40fc-95a0-5f879fff6d2a",
   "metadata": {},
   "source": [
    "Since, we are taking the derivative with respect to the Intercept,we treat the Slope like a constant and the derivative of the a constant is 0, so we end up with -1 just like before."
   ]
  },
  {
   "cell_type": "markdown",
   "id": "5e4f2cc6-166a-407a-a6f8-c5895c48b105",
   "metadata": {},
   "source": [
    "d / d intercept (1.4 -(intercept + slope * 0.5)\n",
    "                 \n",
    "d / d intercept (1.4 +(-1)intercept + slope * 0.5)\n",
    "\n",
    "= -1               "
   ]
  },
  {
   "cell_type": "markdown",
   "id": "15baa17d-9375-4eb7-beed-a870768445b8",
   "metadata": {},
   "source": [
    "Then we simplify by multiplying 2 by -1"
   ]
  },
  {
   "cell_type": "markdown",
   "id": "1d9a3b85-1667-449c-b01b-03a4e05cd1f3",
   "metadata": {},
   "source": [
    "d / d intercept (1.4 -(intercept + slope * 0.5))2 =\n",
    "\n",
    "2(1.4- (intercept + slope * 0.5))* -1\n",
    "\n",
    "= -2(1.4-(intercept +slope * 0.5))\n",
    "\n",
    "We simplify by multiplying 2 by -1"
   ]
  },
  {
   "cell_type": "markdown",
   "id": "1be25c19-a9d8-488c-bbd9-794671715fec",
   "metadata": {},
   "source": [
    "This gives the derivative of the first part ,so we plug it in"
   ]
  },
  {
   "cell_type": "markdown",
   "id": "59996294-dcdd-40a6-8ba3-4aac68948406",
   "metadata": {},
   "source": [
    "d / d intercept Sum of Squared Residuals = \n",
    "d / d intercep(1.4 -(intercept + slope * 0.5))2 ="
   ]
  },
  {
   "cell_type": "markdown",
   "id": "24444401-7195-4a66-8158-9913708faddd",
   "metadata": {},
   "source": [
    "Likewise, we replace these terms with their derivatives"
   ]
  },
  {
   "cell_type": "markdown",
   "id": "4990b6c6-291a-466d-91ed-b28e60c5658d",
   "metadata": {},
   "source": [
    "d / d intercept Sum of Squared Residuals = \n",
    "\n",
    "d / d intercept(1.9 -(intercept + slope * 2.3))2 ="
   ]
  },
  {
   "cell_type": "markdown",
   "id": "f8881535-f89a-40e1-9fc2-f02bd09ec762",
   "metadata": {},
   "source": [
    "and this whole thing is the derivative of the Sum of the Squared Residual with respect to the Intercept"
   ]
  },
  {
   "cell_type": "markdown",
   "id": "ca6abad6-eabc-4239-9f93-a0c85a0d8633",
   "metadata": {},
   "source": [
    "d / d intercept Sum of Squared Residuals = \n",
    "\n",
    "-2(1.4 -(intercept + slope * 0.5))2\n",
    "\n",
    "-2(1.9 -(intercept + slope * 2.3))2 \n",
    "\n",
    "-2(3.2 -(intercept + slope * 2.9))2 "
   ]
  },
  {
   "cell_type": "markdown",
   "id": "aff2a20e-667a-46a7-9f89-ee7bbc3711d2",
   "metadata": {},
   "source": [
    "Now lets take the derivatives of the Sum of the Suqared Residuals with respect to the Slope.\n",
    "\n",
    "d / d intercept Sum of Squared Residuals"
   ]
  },
  {
   "cell_type": "markdown",
   "id": "0469c216-f765-457f-81e8-728a49a2e86e",
   "metadata": {},
   "source": [
    "Just like before ,we take the derivatives of each part"
   ]
  },
  {
   "cell_type": "markdown",
   "id": "54060c89-191d-45f1-8a49-2e5f412cbc81",
   "metadata": {},
   "source": [
    "d / d intercept Sum of Squared Residuals =\n",
    "\n",
    "- d / d sope (1.9-(intercept + slope * 2.3))2 "
   ]
  },
  {
   "cell_type": "markdown",
   "id": "8a4c9a62-19d1-4e56-a475-f85f6979773e",
   "metadata": {},
   "source": [
    "we take the derivative of each part"
   ]
  },
  {
   "cell_type": "markdown",
   "id": "ca7c81bc-0c7c-4ac7-898d-ab4af43e3ae7",
   "metadata": {},
   "source": [
    "Sum of Squared Residuals = + (3.2 - (intercept + slope * 2.9))2"
   ]
  },
  {
   "cell_type": "markdown",
   "id": "cb51693a-3070-4016-a01f-0f73c76f6827",
   "metadata": {},
   "source": [
    "d / d intercept Sum of Squared Residuals =\n",
    "\n",
    " d / d slope (1.4-(intercept + slope * 0.5)2 "
   ]
  },
  {
   "cell_type": "markdown",
   "id": "00afc58d-ef9d-419c-b665-f8c83f1c1ac0",
   "metadata": {},
   "source": [
    "\n",
    "d / d slope (1.4-(intercept + slope * 0.5))2 = \n",
    "2(1.4- intercept + slope * 0.5))"
   ]
  },
  {
   "cell_type": "markdown",
   "id": "d9cb7015-b370-460e-bdfb-d88da8e28017",
   "metadata": {},
   "source": [
    "and just like before ,we will use the chain rule to move the square to the front and multiply that by the derivative of the stuff inside the parebtheses."
   ]
  },
  {
   "cell_type": "markdown",
   "id": "56dced59-c99f-4b59-abb4-0ee8314a96a5",
   "metadata": {},
   "source": [
    "d / d slope (1.4-(intercept + slope * 0.5)\n",
    "             \n",
    " d / d slope 1.4 + (-1)intercept - slope * 0.5  = -0.5         "
   ]
  },
  {
   "cell_type": "markdown",
   "id": "2c1d05e2-77b9-49d8-b2f6-2195d25631dc",
   "metadata": {},
   "source": [
    "Since we are taking the derivatives with respect to the Slope ,we will treat the Intercept like a constant,and the derivative of a constant is 0, so we end up with -0.5"
   ]
  },
  {
   "cell_type": "markdown",
   "id": "242d014e-2032-4d9e-a939-88c6ad1e6dbf",
   "metadata": {},
   "source": [
    "Then we simplify by moving the -0.5 to the front"
   ]
  },
  {
   "cell_type": "markdown",
   "id": "edca95ab-633d-442e-9466-17b8d292cce3",
   "metadata": {},
   "source": [
    "d / d slope (1.4-(intercept + slope * 0.5))2 = \n",
    "2(1.4- (intercept + slope * 0.5))"
   ]
  },
  {
   "cell_type": "markdown",
   "id": "9b4714c2-bc3f-4a88-8785-107b4a576c67",
   "metadata": {},
   "source": [
    "Note: i left the 0.5 in bold instead of multiplying it by 2 to remind us that 0.5 is the weight for the first sample."
   ]
  },
  {
   "cell_type": "markdown",
   "id": "7ae9f63f-c3cb-4fdf-a314-9d71cd998165",
   "metadata": {},
   "source": [
    "and  -2 * 0.5(1.4-(intercept + slope *0.5))"
   ]
  },
  {
   "cell_type": "markdown",
   "id": "5dbc9e24-f2a8-47de-aea5-b75a945f34f9",
   "metadata": {},
   "source": [
    "is the derivative of the first part"
   ]
  },
  {
   "cell_type": "markdown",
   "id": "eeea720e-0e08-4e8f-b3c7-3b604ab73d65",
   "metadata": {},
   "source": [
    "d / d slope Sum of Squared Residuals = \n",
    "d / d slope(1.4-(intercept + slope * 0.5))2  "
   ]
  },
  {
   "cell_type": "markdown",
   "id": "a4ebedd6-1821-407c-9874-3354dad65e8e",
   "metadata": {},
   "source": [
    "so we piug it in"
   ]
  },
  {
   "cell_type": "markdown",
   "id": "7687c91c-f1ff-4706-b672-a41a126c2815",
   "metadata": {},
   "source": [
    "d / d slope Sum of Squared Residuals = \n",
    "-2*0.5(1.4-(intercept + slope * 0.5)) "
   ]
  },
  {
   "cell_type": "markdown",
   "id": "93df926d-c76f-4088-9230-4663d15dc6c5",
   "metadata": {},
   "source": [
    "likewise, we replace these terms with their derivatives"
   ]
  },
  {
   "cell_type": "markdown",
   "id": "e1a60ddd-1cac-4d30-b531-2a4f28364328",
   "metadata": {},
   "source": [
    "d / d slope Sum of Squared Residuals =\n",
    "\n",
    "+ -2 * 2.3(1.9-(intercept + slope * 2.3))2 \n",
    "\n",
    " + -2 * 2.9(3.2-(intercept + slope * 2.9))2 "
   ]
  },
  {
   "cell_type": "markdown",
   "id": "804e0e82-f116-4937-9295-49f99247b749",
   "metadata": {},
   "source": [
    "Again,2.3 and 2.9 are in bold to remind us that they are the weights of the second and third samples."
   ]
  },
  {
   "cell_type": "markdown",
   "id": "24933b2e-9d76-4cb6-8b76-b064320df5f5",
   "metadata": {},
   "source": [
    "Here is the derivative of the sum of squared residuals with respect to the Intercept"
   ]
  },
  {
   "cell_type": "markdown",
   "id": "64dd0bfb-c521-4be5-8f77-49706964c2b1",
   "metadata": {},
   "source": [
    "d / d slope Sum of Squared Residuals =\n",
    "\n",
    "-2(1.4-(intercept + slope * 0.5) \n",
    "\n",
    " + +-2(1.9-(intercept + slope * 2.3)\n",
    "\n",
    " + +-2(3.2-(intercept + slope * 2.9)"
   ]
  },
  {
   "cell_type": "markdown",
   "id": "1a30ea14-705a-4ea3-9eb7-e411b7ae2ba5",
   "metadata": {},
   "source": [
    "and here is the derivative with respect to the slope"
   ]
  },
  {
   "cell_type": "markdown",
   "id": "a9a98924-4f45-42c8-bba0-ab3aa06c3502",
   "metadata": {},
   "source": [
    "d / d Slope intercept Sum of Squared Residuals = \n",
    "\n",
    "-2 *0.5(1.4 -(intercept + slope * 0.5))\n",
    "\n",
    "  +-2*2.9(3.2 -(intercept + slope * 2.9))2 \n",
    "\n",
    "  +-2 2.3((1.9-(intercept + slope * 2.3))2 "
   ]
  },
  {
   "cell_type": "markdown",
   "id": "b3f5a0c1-f9f1-4b7f-8a7e-2e840af4bdeb",
   "metadata": {},
   "source": [
    "Note, when you have two or more derivatives of the same functiom, they are called a Gradient"
   ]
  },
  {
   "cell_type": "markdown",
   "id": "816a4ea8-b7c2-499f-8985-ecf26f528ba3",
   "metadata": {},
   "source": [
    "We will use this Gradient Descent to descend to lowest point in the Loss Function. which in this case is the sum of the Squared Residuals.\n",
    "\n",
    "thus , this is why the algorithm is called Gradient Descent!"
   ]
  },
  {
   "cell_type": "markdown",
   "id": "cd70b29a-296d-49bb-a8c4-718a04445735",
   "metadata": {},
   "source": [
    "Just like before, we will start by picking a random number for the Intercept in this case we ll set the Intercept = 0\n",
    "\n",
    "and we pick a random number for the slope . In this case we ll set the slope = 1.\n",
    "\n",
    "Thus, this line with intercept = 0 and Slope = 1 is where we will start.\n",
    "\n",
    "Now lets plug in 0 for the Intercept and 1 for the Slope"
   ]
  },
  {
   "cell_type": "markdown",
   "id": "8063a7c9-c24f-4eb1-8c63-0f88a581e64b",
   "metadata": {},
   "source": [
    "d / d slope Sum of Squared Residuals =\n",
    "\n",
    "-2(1.4-(0 + 1 * 0.5)\n",
    "\n",
    "+-2(1.9-(0 + 1 * 2.3)\n",
    "\n",
    "+-2(3.2-(0 + 1* 2.9) = -1.6\n",
    "    \n",
    "  Step Size(intercept) = Slope(-1.6) * Learning Rate(0.01)  "
   ]
  },
  {
   "cell_type": "markdown",
   "id": "66c1faec-7622-4393-bd32-4d0e80cdedf8",
   "metadata": {},
   "source": [
    "d / d Slope  Sum of Squared Residuals =\n",
    "\n",
    "-2 *0.5(1.4 -(0 + 1 * 0.5))\n",
    "\n",
    "+-2*2.9(3.2 -(0 + 1 * 2.9))2\n",
    "\n",
    "+-2 2.3((1.9-(0 + 1 * 2.3))2 = -0.8\n",
    "        \n",
    "  Step Size(slpoe) = Slope (-0.8) * Learning Rate(0.01)        "
   ]
  },
  {
   "cell_type": "markdown",
   "id": "d594acd1-e345-45b4-816d-3db88539160f",
   "metadata": {},
   "source": [
    "And this gives us two slopes"
   ]
  },
  {
   "cell_type": "markdown",
   "id": "7dac205a-57d0-44ab-a67b-b7f3ee9ca734",
   "metadata": {},
   "source": [
    "Now we plug in the Slopes into the Step Size formulas and multiply by the learning rate,which this time we set at 0.01"
   ]
  },
  {
   "cell_type": "markdown",
   "id": "51be55a5-09b9-48f8-9c54-a389299171d0",
   "metadata": {},
   "source": [
    "NOTE: The larger learning Rate that we used in the first example doesn't work this time .Even after a bunch of steps .\n",
    "Gradient Descent dosen't arrive at the correct answer. This means that Gradient Descent can be very sensitive to the Learning Rate,\n",
    "\n",
    "The good news is that in practice , a reasonable Learning rate can be determined automatically by starting large and getting smaller with each step.\n",
    "\n",
    "So in theory, you shoundn't have to worry too much about the Learning Rate."
   ]
  },
  {
   "cell_type": "markdown",
   "id": "cf759efa-975e-4531-a3e5-3975fa484185",
   "metadata": {},
   "source": [
    "Step size (intercept ) = -1.6 * 0.01 = -0.016\n",
    "\n",
    "Step size (slope) = -0.8 * 0.01 = -0.008"
   ]
  },
  {
   "cell_type": "markdown",
   "id": "86408012-2ab1-4404-a451-e52f5d5a5009",
   "metadata": {},
   "source": [
    "Anyways , we do the math and get two Step sizes"
   ]
  },
  {
   "cell_type": "markdown",
   "id": "68be3203-4217-471a-9a95-2fb18c6fd10d",
   "metadata": {},
   "source": [
    "Now , we calculate the New Intercept and the New Slope by plugging in the Old Intercept and the Old slope and the step sizes\n",
    "\n",
    "\n",
    "New Slope = Old Slope - Step Size\n",
    "\n",
    "\n",
    "New Slope = 1- (-0.008) = 1.008"
   ]
  },
  {
   "cell_type": "markdown",
   "id": "dd35b579-8963-453a-bb23-8b942198fb24",
   "metadata": {},
   "source": [
    "And we end up with a New Intercept and a New Slope"
   ]
  },
  {
   "cell_type": "markdown",
   "id": "989026fb-15b6-4023-9a02-5a57a4ec3506",
   "metadata": {},
   "source": [
    "this is the line we started with (Slope = 1 and Intercept - 0)\n",
    "\n",
    "And this is the new line (with Slope = 1.008 and Intercept = 0.016) after the first step."
   ]
  },
  {
   "cell_type": "markdown",
   "id": "200d3387-6b9d-4ff7-9f47-24c81f5c29c1",
   "metadata": {},
   "source": [
    "Now we just repeat what we did until all the Steps Sizes are very Small or we reach the Maximum Number of Steps"
   ]
  },
  {
   "cell_type": "markdown",
   "id": "343906ca-bfc8-47c8-9c5c-d5da579fa467",
   "metadata": {},
   "source": [
    "This is the best fitting line , with intercept = 0.95 and Slope = 0.64, the same values we get from Least Squares."
   ]
  },
  {
   "cell_type": "markdown",
   "id": "75e716dc-4256-4cb1-acaf-aa4131c984e4",
   "metadata": {},
   "source": [
    "we now know how Gradient Descent optimize two parameters, the Slope and Intercept.\n",
    "\n",
    "If we had more parameters , that we'd just take more derivatives and everything else stays the same."
   ]
  },
  {
   "cell_type": "markdown",
   "id": "83a7cd8a-19af-47ab-997c-845b3a086d71",
   "metadata": {},
   "source": [
    "NOTE: The sum of Squared Residuals is just one type of Loss function.\n",
    "\n",
    "However, there are tons of other Loss Functions that work with otther types of data.\n",
    "\n",
    "Regardless of which Loss function you use, Gradient Descent works the same way."
   ]
  },
  {
   "cell_type": "markdown",
   "id": "481aa868-fa91-4f06-990a-3bcf3df32cd7",
   "metadata": {},
   "source": [
    "Step 1: Take the derivative of the Loss Function for each parameter in it. in fancy machine learning lingo, take the Gradient of the loss Function.\n",
    "\n",
    "Step 2: Pick random values for the parameters\n",
    "\n",
    "Step 3 : plug the parameter values into the derivatives (The Gradient)\n",
    "\n",
    "Step 4: Calculate the Step Sizes: Step Size = Slope * Learning Rate.\n",
    "\n",
    "Step 5 : Calculate the New Parameters :\n",
    "\n",
    "New parameter = Old Parameter - step Size\n",
    "\n",
    "Now go back to step 3 and repeat until Step size is very small , or you reach the Maximum Number of Steps"
   ]
  },
  {
   "cell_type": "markdown",
   "id": "0a2c69a4-aa03-4576-9857-3c572caa099e",
   "metadata": {},
   "source": [
    "One last thing before we 're done \n",
    "\n",
    "In our example , we only had three data points , so the math didn.t take very long  but when you have millions of data points ,it can take a long time.\n",
    "\n",
    "So there is a thing called Stochastic Gradient Descent that uses a randomly selected subset of the data of every step rather than the ful dataset.\n",
    "\n",
    "This reduces the time spent calculating the dervatives of the Loss Function"
   ]
  },
  {
   "cell_type": "markdown",
   "id": "3b236bd9-3d56-413a-b949-6c802ed643e2",
   "metadata": {},
   "source": [
    "Stochastic Gradient Descent sounds fancy , but it's no big deal."
   ]
  },
  {
   "cell_type": "markdown",
   "id": "e132c7ed-0958-485c-93ad-261438927470",
   "metadata": {},
   "source": [
    "Gradient Descent: Quiz"
   ]
  },
  {
   "cell_type": "markdown",
   "id": "0326fd14-dfa0-4e20-aa61-0d9a89a910e2",
   "metadata": {},
   "source": [
    "1. Gradient Descent is an optimisation problem. True"
   ]
  },
  {
   "cell_type": "markdown",
   "id": "5a1da0db-496f-4d02-8768-e191f1920180",
   "metadata": {},
   "source": [
    "Gradient descent is an optimization algorithm which is commonly-used to train machine learning models and neural networks. Training data helps these models learn over time, and the cost function within gradient descent specifically acts as a barometer, gauging its accuracy with each iteration of parameter updates."
   ]
  },
  {
   "cell_type": "markdown",
   "id": "6ae2748d-2ca7-4f61-81c8-68532d694b06",
   "metadata": {},
   "source": [
    "2. Gradient Descent can only be used for Regression Problems. false"
   ]
  },
  {
   "cell_type": "markdown",
   "id": "cb95a24d-a305-4f7e-8e5e-2b7f58536e91",
   "metadata": {},
   "source": [
    "3. Learning rate is an hyper parameter in Gradient Descent used to update the parameters in the optimisation problem."
   ]
  },
  {
   "cell_type": "code",
   "execution_count": null,
   "id": "081ca038-4da3-473e-9357-8550c26f90ed",
   "metadata": {},
   "outputs": [],
   "source": [
    "ANS: true"
   ]
  },
  {
   "cell_type": "markdown",
   "id": "7efbad17-aab1-43b4-99ab-08d0f257954c",
   "metadata": {},
   "source": [
    "Deep learning neural networks are trained using the stochastic gradient descent optimization algorithm. The learning rate is a hyperparameter that controls how much to change the model in response to the estimated error each time the model weights are updated."
   ]
  },
  {
   "cell_type": "markdown",
   "id": "4636eb33-01c5-4393-a224-cafdf7aed07f",
   "metadata": {},
   "source": [
    "4. Which of the following is not the a variant of Gradient Descent. "
   ]
  },
  {
   "cell_type": "markdown",
   "id": "bd009eda-685a-45d7-9520-fab7827788c5",
   "metadata": {},
   "source": [
    "There are three types of gradient descent learning algorithms: batch gradient descent, stochastic gradient descent and mini-batch gradient descent."
   ]
  },
  {
   "cell_type": "markdown",
   "id": "53f9df8f-b084-428e-b7d4-de8f8fbf49c0",
   "metadata": {},
   "source": [
    "5. Gradient Descent is a supervised Machine Learning Technique ?  Yes"
   ]
  },
  {
   "cell_type": "code",
   "execution_count": null,
   "id": "568a1fe5-4d2c-4b47-ad1d-e4ab2ca9e3bd",
   "metadata": {},
   "outputs": [],
   "source": []
  }
 ],
 "metadata": {
  "kernelspec": {
   "display_name": "Python 3 (ipykernel)",
   "language": "python",
   "name": "python3"
  },
  "language_info": {
   "codemirror_mode": {
    "name": "ipython",
    "version": 3
   },
   "file_extension": ".py",
   "mimetype": "text/x-python",
   "name": "python",
   "nbconvert_exporter": "python",
   "pygments_lexer": "ipython3",
   "version": "3.9.7"
  }
 },
 "nbformat": 4,
 "nbformat_minor": 5
}
