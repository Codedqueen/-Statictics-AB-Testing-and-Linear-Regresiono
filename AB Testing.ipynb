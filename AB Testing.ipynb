{
 "cells": [
  {
   "cell_type": "markdown",
   "id": "aad28a7a-dc0f-4444-b898-7e7bd75792be",
   "metadata": {},
   "source": [
    "## Week 8: Day 3 - AB Testing "
   ]
  },
  {
   "cell_type": "markdown",
   "id": "d7ce291e-4d07-4bc3-a93e-95e440fca25e",
   "metadata": {},
   "source": [
    "### On line Experiment on AB Testing"
   ]
  },
  {
   "cell_type": "markdown",
   "id": "aa8929f1-4d48-4734-91aa-683eabc4a48a",
   "metadata": {},
   "source": [
    "Agenda"
   ]
  },
  {
   "cell_type": "markdown",
   "id": "131fcc1d-e53f-427f-99a0-cf535a3f97cd",
   "metadata": {},
   "source": [
    "Introductuon"
   ]
  },
  {
   "cell_type": "markdown",
   "id": "94f95f1d-0f79-481c-ac6e-305623391b5d",
   "metadata": {},
   "source": [
    ". What is AB testing\n",
    "\n",
    ". Some interesting A/B tests\n",
    "\n",
    ". Fundamentals\n",
    "\n",
    ". Terminology\n",
    "\n",
    ". Hypothesis testing \n",
    "\n",
    ". Metrics for A/B testing\n",
    "\n",
    ". Steps in Experimentation"
   ]
  },
  {
   "cell_type": "markdown",
   "id": "ddaf89d0-5f46-4e2e-a843-a442d0c680e0",
   "metadata": {},
   "source": [
    "What is A/B Testing ?"
   ]
  },
  {
   "cell_type": "markdown",
   "id": "2cc68d37-fa24-45f2-b0f6-d8d8ec399cc2",
   "metadata": {},
   "source": [
    "A/B testing, also known as split testing, refers to a randomized experimentation process wherein two or more versions of a variable (web page, page element, etc.) are shown to different segments of website visitors at the same time to determine which version leaves the maximum impact and drives business metrics."
   ]
  },
  {
   "cell_type": "markdown",
   "id": "5541f2d9-a678-4c4d-b8cf-039ad1f90546",
   "metadata": {},
   "source": [
    "Essentially, A/B testing eliminates all the guesswork out of website optimization and enables experience optimizers to make data-backed decisions. In A/B testing, A refers to ‘control’ or the original testing variable. Whereas B refers to ‘variation’ or a new version of the original testing variable. \n",
    "\n",
    "The version that moves your business metric(s) in the positive direction is known as the ‘winner.’ Implementing the changes of this winning variation on your tested page(s) / element(s) can help optimize your website and increase business ROI. \n",
    "\n",
    "The metrics for conversion are unique to each website. For instance, in the case of eCommerce, it may be the sale of the products. Meanwhile, for B2B, it may be the generation of qualified leads. \n",
    "\n",
    "A/B testing is one of the components of the overarching process of Conversion Rate Optimization (CRO), using which you can gather both qualitative and quantitative user insights. You can further use this collected data to understand user behavior, engagement rate, pain points, and even satisfaction with website features, including new features, revamped page sections, etc. If you’re not A/B testing your website, you’re surely losing out on a lot of potential business revenue.\n",
    "\n",
    "Create your first A/B test and optimize your website today"
   ]
  },
  {
   "cell_type": "markdown",
   "id": "e9ab1900-96f9-4229-b6d0-2085ec8ca78e",
   "metadata": {},
   "source": [
    "A/B testing has its background on clinical Trials, it was picked up by markerters and now is basically online experimentation.\n",
    "\n",
    "Big businessess are experimenting all time\n",
    "Case                                      Control\n",
    "\n",
    ". Try out a new product treatment,     The old product or     or intervention.                     the typical treatment\n",
    "\n",
    ". Randomly selected study group        Randomly selected                                                control group.\n",
    "\n",
    ". Keep all other factors constant       Keep all other                                               factors constant"
   ]
  },
  {
   "cell_type": "markdown",
   "id": "5ec05c92-e5ba-4152-9614-65d9aa574502",
   "metadata": {},
   "source": [
    "Example :\n",
    ". Would changing the color of the icon give me:\n",
    ". Higher CTR\n",
    "\n",
    ". Lower bounce rate \n",
    "\n",
    ". Higher revenue per user  "
   ]
  },
  {
   "cell_type": "markdown",
   "id": "fd690699-175f-4c8f-8468-f08e3fb110c4",
   "metadata": {},
   "source": [
    "Obama 2012 Campaign is a good example of A/B testing .\n",
    "Maximize sign-ups and donations"
   ]
  },
  {
   "cell_type": "markdown",
   "id": "c2343eb6-9b13-460a-ab12-7083e03ab83b",
   "metadata": {},
   "source": [
    "You can use A/B testing on Newslettes and Emails"
   ]
  },
  {
   "cell_type": "markdown",
   "id": "084eb28c-ed83-464f-8b8b-7c43ddd50911",
   "metadata": {},
   "source": [
    "Why is A/B testing better ?\n",
    "\n",
    "You can do one thing at a time or various things at same time.\n",
    "(Run tests on many things)"
   ]
  },
  {
   "cell_type": "markdown",
   "id": "84b01203-0182-4dd2-b4e4-0df5ea24888d",
   "metadata": {},
   "source": [
    "Run tests on many things :\n",
    "\n",
    "> Subject lines A, B\n",
    "\n",
    "> From names\n",
    "\n",
    "> Send dates\n",
    "\n",
    "> Send time"
   ]
  },
  {
   "cell_type": "markdown",
   "id": "2c41824b-c12e-433c-b940-8df28a459a79",
   "metadata": {},
   "source": [
    "Test Call-to-action Button\n",
    "\n",
    "You can create two versions of it \n",
    "\n",
    "Get Started Now! (green)       Version A   \n",
    "\n",
    "\n",
    "Get Started Now!(red)           Version B\n",
    "                        "
   ]
  },
  {
   "cell_type": "markdown",
   "id": "358f6578-0927-4b93-b834-f827469ff608",
   "metadata": {},
   "source": [
    "Version A is expected to work better than Version B\n",
    "We look at the button that will increase the number of clicks.\n",
    "\n",
    "After the A/B testing we found out that Version B works better but our intuition says Version A.\n",
    "\n",
    "Hence, without A/B testing our intuition may fail us."
   ]
  },
  {
   "cell_type": "markdown",
   "id": "1c4ed60e-2ab1-428e-9319-2f030f874ed7",
   "metadata": {},
   "source": [
    "Testing the Navigation Bar\n",
    "\n",
    "Formstack                            Formstack\n",
    "Why Use Us                          Why Use Us\n",
    " Version A                          Version B"
   ]
  },
  {
   "cell_type": "markdown",
   "id": "534275b5-201e-4bf3-ad98-bc7325af5394",
   "metadata": {},
   "source": [
    "Which experience increased click by 47.7%\n",
    "\n",
    "Version B"
   ]
  },
  {
   "cell_type": "markdown",
   "id": "5bbd6438-ce50-49fa-a085-3ac798e5ba31",
   "metadata": {},
   "source": [
    "Fundamentals of A/B testing"
   ]
  },
  {
   "cell_type": "markdown",
   "id": "e7bc5699-84b6-4dc6-91d3-0d53a5631494",
   "metadata": {},
   "source": [
    "Why We use A/B testing "
   ]
  },
  {
   "cell_type": "markdown",
   "id": "7bfb952d-2ef0-4099-bd84-18534eed7af2",
   "metadata": {},
   "source": [
    "Problem\n",
    "\n",
    "> User are complex and our intuition is often wrong\n",
    "\n",
    "> Rolling out a feature to all the users at the same time is risky"
   ]
  },
  {
   "cell_type": "markdown",
   "id": "dd29a2d2-dda7-46e2-8d58-b79ef0d6cccb",
   "metadata": {},
   "source": [
    "A/B testing purpose\n",
    "\n",
    "> Know what the users want subconsciously or otherwise.\n",
    "> Helps us to fail fast and move on"
   ]
  },
  {
   "cell_type": "markdown",
   "id": "9dd16b8a-6210-4a70-bad0-2a13b5edf1b3",
   "metadata": {},
   "source": [
    "Impact is always expected to be positive but outcome is often humbling"
   ]
  },
  {
   "cell_type": "markdown",
   "id": "0513e5c2-3afd-415f-99ae-bba23b6ecdc0",
   "metadata": {},
   "source": [
    "Multi -Variate Testing\n",
    "\n",
    "When we have limited resources aand also instead of using a binary option of same feature we can use variations and this could be the right approach in some situation"
   ]
  },
  {
   "cell_type": "markdown",
   "id": "b1422739-6b84-4d5a-aa46-ccce8ef8d6b3",
   "metadata": {},
   "source": [
    "A/B Testing vs Multivariate Testing "
   ]
  },
  {
   "cell_type": "raw",
   "id": "38409a2b-b802-4660-96dd-2010d816d09e",
   "metadata": {},
   "source": [
    "                  A/B testing         Multivariate Testing              \n",
    "    \n",
    "    \n",
    "Common use         Compare two            Several minor                       very different          variations are \n",
    "                  design with each         up for debate\n",
    "                  other.                   > Two colors of\n",
    "                                           button with three\n",
    "                                        different headlines\n",
    "                                        \n",
    "                                        \n",
    "                                        Also called full\n",
    "                                        factorial testing\n",
    "                  \n",
    "                  \n",
    "        \n",
    "            \n",
    "            \n",
    "Advantages \n",
    "\n",
    "             > Simple in design            Alot of                                                   different                                                  combinations                                                 tried  at once.\n",
    "             > Small sample size\n",
    "               may be ok\n",
    "                      \n",
    "\n",
    "\n",
    "Limitations \n",
    "             Trying only one alternative     > Bigger Sample\n",
    "                                                  size\n",
    "                                             >Complex\n",
    "                                             >Need better \n",
    "                                             understanding\n",
    "                                             of interactions"
   ]
  },
  {
   "cell_type": "markdown",
   "id": "3e029829-1e6e-468f-b206-05028e2b18d6",
   "metadata": {},
   "source": [
    "For experimentation how much of the sample do we need to really prove the point(sample size)?\n",
    "\n",
    "It depends on alot of factors:\n",
    "\n",
    "The business impact \n",
    "The kind of services you want to render"
   ]
  },
  {
   "cell_type": "markdown",
   "id": "9a348fcd-cb07-4d1b-a6a9-fa117ab1ccf8",
   "metadata": {},
   "source": [
    "With Multivariate testing we may not know the interactions"
   ]
  },
  {
   "cell_type": "markdown",
   "id": "90b26ab8-a789-48d3-aae6-23146124f9ad",
   "metadata": {},
   "source": [
    "Metrics Used For A/B Testing"
   ]
  },
  {
   "cell_type": "markdown",
   "id": "a5e51fbe-ddc6-41a0-9196-4ec1b5dd4a2f",
   "metadata": {},
   "source": [
    "Control and Treatment\n",
    "\n",
    "Control \n",
    "\n",
    "Default experience ,the way things are now.\n",
    "\n",
    "Example: Current look and feel of your\n",
    "\n",
    "'Buy Now' button\n",
    "\n",
    "Buy Now\n",
    "\n",
    "Treatment \n",
    "\n",
    "The change we want to make\n",
    "\n",
    "Example: Change the button from green to blue"
   ]
  },
  {
   "cell_type": "raw",
   "id": "97a4cb22-176f-4de0-870d-c96fb42d300b",
   "metadata": {},
   "source": [
    "                   Illustration\n",
    "\n",
    "           Clinical Research Participants\n",
    "                   (100 people)\n",
    "    \n",
    "          Random placement into each group \n",
    "                 (like a coin toss)\n",
    "        \n",
    "        \n",
    "    Experimental Group                      Control Group \n",
    "     (50 people)                             (50 people)\n",
    "  Receive and medication                  Receive a standard        treatment with                      known effects.\n",
    "     or therepy .                        "
   ]
  },
  {
   "cell_type": "markdown",
   "id": "548b2ea4-4bc8-4990-a42d-6e75744a0f35",
   "metadata": {},
   "source": [
    "Out of 100 people randomly select 50 0f them to be on our green button and another 50 on our red button"
   ]
  },
  {
   "cell_type": "markdown",
   "id": "e872c577-3cdb-41cc-a0b7-d8c3c06f15a9",
   "metadata": {},
   "source": [
    "> Search engines\n",
    "\n",
    "Matrix used in onlin experiment\n",
    "\n",
    "Queries/UU, Session length, Sessions/UU, page views, Bounce rate\n",
    "\n",
    "Online Retailers\n",
    "\n",
    "We Conversion rate ,revenue/UU,avg Cart Value and so on\n",
    "\n",
    "Onse we have decided on the business question we are addressing, we need to find out the best matrix to focus on.\n",
    "(It helps us to find out the best matrix to use)\n",
    "\n",
    "For instance if you are going to use 50 or 80 A/B testing, you would need to focus on something that really matters to your business.\n",
    "Such as Session links ,page views.\n",
    "\n",
    "We need to find what is really driving the revenue and what is driving the life cart of the business."
   ]
  },
  {
   "cell_type": "markdown",
   "id": "ed9b6dbd-0360-431c-b097-695b33492ef2",
   "metadata": {},
   "source": [
    "Other Websites\n",
    "\n",
    "CTR,Signup for newsletter"
   ]
  },
  {
   "cell_type": "markdown",
   "id": "44e85488-9f2b-4924-aced-74706c0a7194",
   "metadata": {},
   "source": [
    "Some of these matrix are primary and some others are secondary.\n",
    "\n",
    "It is important to focus on the most important things that matters to your work."
   ]
  },
  {
   "cell_type": "markdown",
   "id": "3983328f-2f51-4ace-b4d8-0c72ed41f91b",
   "metadata": {},
   "source": [
    "Each Business is different.\n",
    "\n",
    "You may need like 200 to 300 of your customers to look at."
   ]
  },
  {
   "cell_type": "markdown",
   "id": "370e2a90-54a1-4d02-a19f-527e2a6c5e60",
   "metadata": {},
   "source": [
    "Null vs Alternative Hypothesis(H0)"
   ]
  },
  {
   "cell_type": "markdown",
   "id": "8b1b40dc-b10d-4ffb-9c0c-c8fe6ee1d446",
   "metadata": {},
   "source": [
    ". Control and treatment are similar (in terms of the parameter we are estimating)"
   ]
  },
  {
   "cell_type": "markdown",
   "id": "8f885aff-9b2c-4514-a91b-0e3adbca0ed3",
   "metadata": {},
   "source": [
    "Alternative Hypothesis(Ha)\n",
    "\n",
    ".Treatment is different from control"
   ]
  },
  {
   "cell_type": "markdown",
   "id": "6da061e6-8276-4956-a885-8ce7f561b760",
   "metadata": {},
   "source": [
    "             Null vs Alternative Hypothesis\n",
    "              \n",
    "   Buy Now (green button)     Buy Now (blue button)\n",
    "           Control                   Treatment"
   ]
  },
  {
   "cell_type": "markdown",
   "id": "4ff3c859-63b8-4ad5-bab6-ee59b4b70451",
   "metadata": {},
   "source": [
    "Null Hypothesis(H0)\n",
    "\n",
    ".Green and blue buttons have thesame CTR\n",
    "\n",
    ".Alternative Hypothesis(Ha)\n",
    "\n",
    ".Each button has a different CTR"
   ]
  },
  {
   "cell_type": "markdown",
   "id": "3fd9a425-f37b-4499-a031-76d6cafbd62d",
   "metadata": {},
   "source": [
    "Type 1 and Type 11 Error\n",
    "\n",
    "Type 1 Error: \n",
    "The probability of falsely rejecting null hypothesis     "
   ]
  },
  {
   "cell_type": "markdown",
   "id": "5f61933b-d6a6-4e00-9b22-5bce4ab1098b",
   "metadata": {},
   "source": [
    "Type 11 error:\n",
    "The propability of falsely acceptiong null hypoyhesis"
   ]
  },
  {
   "cell_type": "markdown",
   "id": "3dfa7356-bfbf-416e-855c-596c1056c16d",
   "metadata": {},
   "source": [
    "You can avoid this type of error by re-testing, you re -run the sample, re-review it"
   ]
  },
  {
   "cell_type": "markdown",
   "id": "a38f65f4-1933-4438-98a1-289505c344de",
   "metadata": {},
   "source": [
    "CAN YOU TELL ME IN SIMPLE WORDS"
   ]
  },
  {
   "cell_type": "markdown",
   "id": "3645dadd-a655-4e74-a302-bf04fae4242a",
   "metadata": {},
   "source": [
    "The Cook and smoke Detector.\n",
    ". Null Hypothesis (H0): There is no fire\n",
    ">Alternative Hypothesis(Ha): There is fire\n",
    "\n",
    ". Type 1 Error: there is no fire but Smoke detector goes off.\n",
    "\n",
    "The cook removes the alarm to remove Type 1 errors.\n",
    "\n",
    "This increases the chance of Type 11 Error (ie , a fire without an alarm)"
   ]
  },
  {
   "cell_type": "markdown",
   "id": "79ce88d0-5dbf-4e3d-8f0e-1b683c1ca633",
   "metadata": {},
   "source": [
    "Null hypothesis (H0): there is no wolf\n",
    "\n",
    "Alternative Hypothesis(Ha): There is a Wolf"
   ]
  },
  {
   "cell_type": "markdown",
   "id": "2ef66a7e-b7b2-49c9-8020-fb93c1525221",
   "metadata": {},
   "source": [
    "Type 1 Error: Villagers believe the boy when there is no wolf.\n",
    "\n",
    "Type 11 Error: Villagers do not believe the boy when the wolf is really there."
   ]
  },
  {
   "cell_type": "markdown",
   "id": "0808cb90-bbc3-40e9-9678-0b80c192305e",
   "metadata": {},
   "source": [
    "Adding  Mathematical Riguor."
   ]
  },
  {
   "cell_type": "markdown",
   "id": "085a484e-173e-494e-9ba9-329fb2ebea7e",
   "metadata": {},
   "source": [
    "Confidence Interval"
   ]
  },
  {
   "cell_type": "markdown",
   "id": "f9b1ce8a-8fc3-4ac4-ac60-e943aa964e57",
   "metadata": {},
   "source": [
    "Problem : On a 5-point scale, a product has an average rating of 4.32 and a standard deviation of 0.845 based on 62 ratings. What is the 95% confidence interval?"
   ]
  },
  {
   "cell_type": "raw",
   "id": "ca99da1a-c6d3-4b0f-be43-e73dafc0de2b",
   "metadata": {},
   "source": [
    "95%  Confidence interval =  X̅ ± 2.0 σ / √ n "
   ]
  },
  {
   "cell_type": "markdown",
   "id": "b25886e6-025c-456d-b66e-0ee7a1d95e0c",
   "metadata": {},
   "source": [
    "Mean X̅  = 4.32\n",
    "\n",
    "Standard deviation  σ = 0.845\n",
    "Standard error (SE) =  σ / √ n = 0.845 / √ n  =\n",
    "0.845 / √ 62   = 0.11\n",
    "\n",
    "Margin of error is 2.0 x 0.11 = 0.22\n",
    "\n",
    "The confidence interval is: \n",
    "4.32 - 0.22 = 4.10\n",
    "4.32 + 0.22 = 4.54                    intuition - We are 95%                                       confident that the                                           average review for all                                       customers is between                                          4.10 and 4.54."
   ]
  },
  {
   "cell_type": "markdown",
   "id": "8c2715d2-43b2-4673-8ce1-7be7f605a5e9",
   "metadata": {},
   "source": [
    "Confidence Interval Intuition "
   ]
  },
  {
   "cell_type": "markdown",
   "id": "a0cbab59-e3bb-4eb7-9ace-2428c8cae0bc",
   "metadata": {},
   "source": [
    "Let's say we know for sure that the average product review for all customers is 4.4.\n",
    "\n",
    "This is known as the population mean and is denoted by μ\n",
    "\n",
    "Additionally, we decide to take 20 random samples of customer reviews from the popolation (ie, all reviews)\n",
    "\n",
    "\n",
    "If we calculate the 95% confidence interval for all 20 samples we know that typically 19 of them will contain μ\n",
    "\n",
    "μ = 4.4"
   ]
  },
  {
   "cell_type": "markdown",
   "id": "0852dfd6-f162-4cc1-a54a-33330932e9d4",
   "metadata": {},
   "source": [
    "This means there is a 1/20 chance that we may get a tpye 1 error or type 11 error."
   ]
  },
  {
   "cell_type": "markdown",
   "id": "80008018-b3d1-4061-8ed9-7611cc92f808",
   "metadata": {},
   "source": [
    "More examples on Calculating Confidence Interval"
   ]
  },
  {
   "cell_type": "markdown",
   "id": "65c9db6b-01c1-49c1-b675-87ba1f834988",
   "metadata": {},
   "source": [
    "With less confidence we will experience more uncertainties."
   ]
  },
  {
   "cell_type": "markdown",
   "id": "c62d65c6-c2a4-4c19-8371-8c2f7591e74f",
   "metadata": {},
   "source": [
    "We focus on things we can control. we think on what cost more and what cost less.\n",
    "\n",
    "It should also be hierachical ."
   ]
  },
  {
   "cell_type": "markdown",
   "id": "2e4fdc72-460c-42b0-898e-0bf36979f9c6",
   "metadata": {},
   "source": [
    "Range of plausible values of parameter being estimated(e.g, the mean) given the sample data"
   ]
  },
  {
   "cell_type": "markdown",
   "id": "77067616-94d3-4bca-8bfb-4317543e63e8",
   "metadata": {},
   "source": [
    "Example.\n",
    "\n",
    "Taking a lool at tommorows weather\n",
    "The hight temperature will be between 40 below zero and 200 above\n",
    "\n",
    "This Guy's never wrong"
   ]
  },
  {
   "cell_type": "markdown",
   "id": "63b718cf-a424-4ce0-86ef-b16978a29421",
   "metadata": {},
   "source": [
    "A/A Test"
   ]
  },
  {
   "cell_type": "markdown",
   "id": "95ce5e45-912e-4b34-9af3-8339513c8aad",
   "metadata": {},
   "source": [
    ". Comparing the identical experience on different random sets of users.\n",
    "\n",
    ". Used for validation of set  up \n",
    "\n",
    "Buy Now (green button)                Buy Now (green button)\n",
    "Control                                  Treatment"
   ]
  },
  {
   "cell_type": "markdown",
   "id": "d651850c-3756-428a-977e-68ff19430fd2",
   "metadata": {},
   "source": [
    "You try on the gren button again and check to see if there is any variation remaining for validation."
   ]
  },
  {
   "cell_type": "markdown",
   "id": "2d2f7f97-b996-449f-80ff-d4e93fa6e1f9",
   "metadata": {},
   "source": [
    "Steps in Experimentation"
   ]
  },
  {
   "cell_type": "markdown",
   "id": "054b6c64-78ef-412e-9f51-f6e83f08fe0f",
   "metadata": {},
   "source": [
    "Steps 1\n",
    "\n",
    "Planning \n",
    "\n",
    ".Choose factors, levels, sample size(how long to run)\n",
    "\n",
    ". What business question to answer  \n",
    "\n",
    ". matrics and expected outcome \n",
    "\n",
    "Step 2\n",
    "\n",
    ". Coded and Logging \n",
    "\n",
    ". Setup of test and  instrumentation\n",
    "\n",
    "Step 3\n",
    "\n",
    "A/A Test\n",
    "\n",
    ".To make sure the setup is correct .\n",
    " \n",
    "Step 4\n",
    "\n",
    "Make a Decision \n",
    "\n",
    ".To ship or not to ship\n",
    "\n",
    "Steps 5\n",
    "\n",
    "Analysis and interpresention\n",
    "\n",
    ". Some times this can bean art.\n",
    "\n",
    ". Newness affect\n",
    "\n",
    ". Seasonality, segments etc\n",
    "\n",
    "Step 6\n",
    "\n",
    "A/B and/or multivariate test."
   ]
  },
  {
   "cell_type": "markdown",
   "id": "991f5162-4943-4ba2-9ba1-aa56ff82bfbd",
   "metadata": {},
   "source": [
    "Categories of Metrics"
   ]
  },
  {
   "cell_type": "raw",
   "id": "bac35b35-3afb-4fbc-8ffc-b31a62980238",
   "metadata": {},
   "source": [
    "               Short-term     Medium-term         long-term\n",
    "    \n",
    "    \n",
    "Examples       >CTR           >PVs/user/day       Days with                                                   least one                                                    visit:\n",
    "\n",
    "                >pvs         >CTR/user/day     > Total time                                                   on site \n",
    "                \n",
    "              >Bounce Rate   Avg.session      >Repeat visit/                                length            user                         \n",
    "What is      Immediate or   Engagement over\n",
    "measured?     or almost.    hours up to a day      Loyalty                immediate\n",
    "             impact                                    "
   ]
  },
  {
   "cell_type": "markdown",
   "id": "8903fabc-47ba-4cec-bd95-074d5213ba00",
   "metadata": {},
   "source": [
    "A/B Testing Tools"
   ]
  },
  {
   "cell_type": "markdown",
   "id": "858f1cdc-9cb4-4611-b11c-ad921fa7f5b5",
   "metadata": {},
   "source": [
    "i. Google Analytics\n",
    "\n",
    "ii. Optimizely\n",
    "\n",
    "iii. unbounce\n",
    "\n",
    "iv. Visual Website Optimizer\n",
    "\n",
    "v. Kissmetrics\n",
    "\n",
    "vi. Adobe Target \n",
    "\n",
    "v. Tasty"
   ]
  },
  {
   "cell_type": "markdown",
   "id": "e5f97c12-fbd9-4bda-ad1a-1b3026f30845",
   "metadata": {},
   "source": [
    "### Peeking at AB Testing - Why it matters and what to do about it"
   ]
  },
  {
   "cell_type": "markdown",
   "id": "cad1109d-dc31-456d-a8e8-9fc8f6367883",
   "metadata": {},
   "source": [
    "A/B Testing"
   ]
  },
  {
   "cell_type": "markdown",
   "id": "3e3bcdb4-0760-4f75-86d7-36c798a172a7",
   "metadata": {},
   "source": [
    "- We have to invent new things all the time , so A/B Testing is a new name for, \n",
    "-Randomized controlled trials used by technology companies, web applications, etc \n",
    "\n",
    "Randomized controlled files are gold standard experimentation.\n",
    "\n",
    "The basic idea is that you have two versions of something  you want to compare and the way you compare them is by taking the subject population and in this case the users of your website and subjecting half of them to one of the variations and half to the other variation. \n",
    "\n",
    "And you randomize and send half of your users here and the other half to the other side.\n",
    "Then ask yourself questions like ,which one have a higher conversion rate\n",
    "\n",
    "For example you want to compare using a black binal button as against a red binal button\n",
    "\n",
    "\n",
    "A/B testing simply put is the process of running experiment \n",
    "and the only reason that phrase matters is because that is the phrase used in the tech. industry\n",
    "\n",
    "- Typically use case:\n",
    "Comparing versions of a web page.\n",
    "\n",
    "> Eg : Which has a higher conversion rate?"
   ]
  },
  {
   "cell_type": "markdown",
   "id": "2bcdb394-dcc6-4694-87bd-620ee910af8e",
   "metadata": {},
   "source": [
    "Running A/B testing in the tech. industry changes the way we think about randomizing experiment."
   ]
  },
  {
   "cell_type": "markdown",
   "id": "43e6e048-0b2d-431d-ba34-77c793a5fa25",
   "metadata": {},
   "source": [
    "A/B test is used for everything, they are used to test algorithms,pricing algorithms, designs,logistics especially to find out how companies handles delivery"
   ]
  },
  {
   "cell_type": "markdown",
   "id": "96b7430e-a29b-4a3c-882a-c11a964f5da0",
   "metadata": {},
   "source": [
    "#### Origin of A/B Testing"
   ]
  },
  {
   "cell_type": "markdown",
   "id": "fe799d91-8607-41a2-90c8-42a87ad2fd82",
   "metadata": {},
   "source": [
    "A/B testing 100 years ago: crop yields"
   ]
  },
  {
   "cell_type": "markdown",
   "id": "90ec1ddf-bdc1-492a-b257-15e4ee1cf74a",
   "metadata": {},
   "source": [
    "Most of the statistics that are displayed in A/B testing actually rely on things we have done 100 years ago"
   ]
  },
  {
   "cell_type": "markdown",
   "id": "6b4a655e-03d4-41fb-82f3-2c033aabf7f6",
   "metadata": {},
   "source": [
    "Farmer Ron(Run Fisher) is the founder of the way we think about experimental design.\n",
    "\n",
    "He wants to test two fertilizers.\n",
    "He applies fixed sample size testing\n",
    "\n",
    "Here they applied fixed sample size testing\n",
    "\n",
    "1. Choose how many plots to use (sample size) to compare these sample sizes.\n",
    "\n",
    "Obviously the more plots you use ,the more likely you are to get an honest assessment on whether one is better than the other.(hiher sample size will be better.\n",
    "\n",
    "2. Wait for a crop cycle, then collect your data at the end\n",
    "You will use one fertilizer on one subset of the plot and another fertilizer on another subset of the plot and waiit until the end to see what you will get.\n",
    "\n",
    "The ey part: the way you analyze the data is by running the following literally hypothesis test which is hypotesized.\n",
    "\n",
    "What would have happened if there is no difference between the two fertilizers?\n",
    "\n",
    "I have a collection of plot of lands where i used one fertilizer and the other plot  i used another fertilizer.\n",
    "The first question i willask myself is, what if there is really no difference between the two fertilizers.\n",
    "What do i think will happen in that case.\n",
    "\n",
    "ence, the reason for runnung the hypothesis is to find out if my persetion is wrong.\n",
    "\n",
    "The second question i will ask is this: How unlikely is it ,if there really was no difference that i will see what i got in my experiment.\n",
    "\n",
    "3. Asks: What are the chances i could see these results if there was no difference?\n",
    "\n",
    "This is Ron's p-value for false positive probability"
   ]
  },
  {
   "cell_type": "markdown",
   "id": "521a261d-6865-4865-af1b-faf5127b8406",
   "metadata": {},
   "source": [
    "4. If p-value < 5% , his results are significant"
   ]
  },
  {
   "cell_type": "markdown",
   "id": "5a622a5d-9897-430f-b159-779bb841973f",
   "metadata": {},
   "source": [
    "This approach optimally trades off false positives, and detection of true positives."
   ]
  },
  {
   "cell_type": "markdown",
   "id": "ba987b07-7383-472e-8fee-a161fc761de3",
   "metadata": {},
   "source": [
    "This method optimal despite the simple user interface and this is the reason it has lasted for over 100 years.it helps you to diffrentiate between false positive and false negative.\n",
    "\n",
    "It also have a nice organisational benefits in companies.\n",
    "This is because in companies ,you have many diffent people processing thesame dashboard of result."
   ]
  },
  {
   "cell_type": "markdown",
   "id": "61144fe2-2dfe-4946-9a41-b84479dda031",
   "metadata": {},
   "source": [
    "One nice thing about this is that a single number of the p-value summarizes the experiment.\n",
    "and each person can bring there desired risk tolerance level to the table(ie the false positive probability) and cut the p-value off and draw their own inferences"
   ]
  },
  {
   "cell_type": "markdown",
   "id": "8e54ebc3-1793-4240-bdf9-177fe3d32d0a",
   "metadata": {},
   "source": [
    "Another nice aspect of this is that you 'got  a portable discription of the experiment that can be shared among many people and have different desired false positive probability that they actually care about. e.g managers versus data scientist."
   ]
  },
  {
   "cell_type": "markdown",
   "id": "99cb4000-729c-4191-ab37-e0b05b279918",
   "metadata": {},
   "source": [
    "#### A/B testing today vs. 100 years ago"
   ]
  },
  {
   "cell_type": "markdown",
   "id": "8bb82f16-937b-4649-bf8d-76a467985a6f",
   "metadata": {},
   "source": [
    "In 1916:\n",
    "\n",
    ". Data was expensive and slow.\n",
    "\n",
    ". Practitioners were trained statistics."
   ]
  },
  {
   "cell_type": "markdown",
   "id": "a5e8eea2-60c0-4def-8fe9-f6fada161f94",
   "metadata": {},
   "source": [
    "This means during that time most persons that uses A/B testing are statisticial scientist.\n",
    "\n",
    "They understood were the p-value came from and they understood how to process it and how to think about it as we discussed previously."
   ]
  },
  {
   "cell_type": "markdown",
   "id": "f429e144-a0d9-4d2b-9ac0-8870a70970c7",
   "metadata": {},
   "source": [
    "In 2016:\n",
    "We met a very different environment as far as experimentation is concerned.\n",
    "\n",
    ". Data is cheap and real-time.\n",
    "\n",
    "Data can be processed, visualized and presented to the user in real time.\n",
    "\n",
    ". Everybody is practisioner!\n",
    "Now people can look at this from anywhere in the world and use it for their own benefit unlike before it need to be a trained statistician that can take a look at it."
   ]
  },
  {
   "cell_type": "markdown",
   "id": "fb80658a-10b4-45ea-9cce-3c3b13af2e11",
   "metadata": {},
   "source": [
    "#### A/B testing today"
   ]
  },
  {
   "cell_type": "markdown",
   "id": "406014d2-9ba3-4b52-adc8-f5b3cf8c8bc1",
   "metadata": {},
   "source": [
    "Now what are the consequencies of this shift ?\n",
    "(How are you differnt from farmer Ron)\n",
    "\n",
    ". Time is money!\n",
    "\n",
    "if you are a data scientist ,then time is money. You want results as quiclkly as possible.\n",
    "Is a trade off for you.\n",
    "The question now for you is , how long do you have to wait to get statistical difference or to get the test done.\n",
    "\n",
    ". So you continuously monitor the results dashboard.\n",
    ". And you rely on the dashboard to tell you when your results are significant. you get a dashboard on that is constantly monitoring your result for you."
   ]
  },
  {
   "cell_type": "markdown",
   "id": "4bf88442-e628-4d7e-8a41-93afe63b5e11",
   "metadata": {},
   "source": [
    "This is called adaptive sample size testing:"
   ]
  },
  {
   "cell_type": "markdown",
   "id": "0e4aae91-8b98-4379-9ca2-9810b0a8fbe2",
   "metadata": {},
   "source": [
    "You adjust the test length in real-time,based on the data coming in.\n",
    "\n",
    "You need to look at the data to decide how long the experiment could be and not just what the text tells you to do.\n",
    "\n",
    "You are doing this because you want your result as quickly as possible."
   ]
  },
  {
   "cell_type": "markdown",
   "id": "023362cf-c8b9-4aae-ab7b-b498a37c8deb",
   "metadata": {},
   "source": [
    "what Farmer Ron was doing was fixed sample size testing, a crucial feature is that Farmer Ron commited to the sample size that he was going to use in advance."
   ]
  },
  {
   "cell_type": "markdown",
   "id": "a21321d3-194e-45cc-95f7-cbd5ca571d9e",
   "metadata": {
    "tags": []
   },
   "source": [
    "#### Sample results dashboard:"
   ]
  },
  {
   "cell_type": "raw",
   "id": "635f85dc-7350-43fe-adf9-10779c22ee0c",
   "metadata": {},
   "source": [
    "OVERVIEW\n",
    "Performance Summary       Variation      Visitors   Views\n",
    "\n",
    "UNIQUE VISITORS            Original          19,942\n",
    "79,797                                        25.0%                             \n",
    "\n",
    "\n",
    "DAYS RUNNING              Variation#1          19,899\n",
    "                                                25.0%\n",
    "  131                        \n",
    "                                                                                        Variation#2        19,989\n",
    "Started April 9, 2014                            25.1%\n",
    "\n",
    "How long should i run my test?\n",
    "                                 Variation#3      19,967\n",
    "                                                  24.9%"
   ]
  },
  {
   "cell_type": "markdown",
   "id": "33cb7f51-639c-408c-b165-7fe7d5920d05",
   "metadata": {},
   "source": [
    "The method that we use dont change the key features of the dashboard, we can only change the numbers that are in the dashboard.\n",
    "\n",
    "\n",
    "The biggest numbers in the dashboard are how long thetest have been running.\n",
    "\n",
    "You use the load to compare against the web page. Each variation gets compared back to the control\n",
    "We have what we call a control metrix.\n",
    "\n",
    "Each of this variation gets analyzed by the control matrix ,and each lets us know if the later is better or worse than the original.\n",
    "The green and red are the platforms signalling participant significant to you.\n",
    "\n",
    "What peope are looking for is to wait as little as possible to be able to get these things to  green and red answers they want."
   ]
  },
  {
   "cell_type": "markdown",
   "id": "0b1b70f8-1c97-4fb1-8212-fa67c5073c68",
   "metadata": {},
   "source": [
    "The question you need to ask before you run the experiment is how long does your test need to run and this should be on the result page and not on the project design page."
   ]
  },
  {
   "cell_type": "markdown",
   "id": "2c96a931-e027-4080-96ad-977935e5b8a8",
   "metadata": {},
   "source": [
    "#### A Thought Experiment"
   ]
  },
  {
   "cell_type": "markdown",
   "id": "2b03fb3f-0e71-4f87-80be-25ddb1cb4270",
   "metadata": {},
   "source": [
    "Suppose 100 different individuals run A/A tests .\n",
    "Each waits for a significant results , ie , p-value < 5%\n",
    "(up to a maximum of 10,000 visitors).\n",
    "\n",
    "How many find a significant and stop early?\n",
    "\n",
    "The experiment you will be running will be A/A test, ie both variations are thesame.\n",
    "\n",
    "You will wait until the p-value is less than 5%."
   ]
  },
  {
   "cell_type": "markdown",
   "id": "0c765e54-0c5f-4343-9e52-f6bafbf9cb75",
   "metadata": {},
   "source": [
    "The experiment you are running is intersting, they are not actual A/B test rather they are A/A test, where both of the variation are actually thesame thing.\n",
    "\n",
    "For example both buttons may be black or red etc "
   ]
  },
  {
   "cell_type": "markdown",
   "id": "a627bbce-efbe-476b-be21-39d239e7481b",
   "metadata": {},
   "source": [
    "Note, that the p-value is been cut off at 5% which is the false positive probability"
   ]
  },
  {
   "cell_type": "markdown",
   "id": "05393ff5-2587-4d3b-8fec-a29503307472",
   "metadata": {},
   "source": [
    "If we follow the correct statistical procedure , what do we expect to happen ?.\n",
    "\n",
    "If we use  a false positive threshold of 5%,"
   ]
  },
  {
   "cell_type": "markdown",
   "id": "0abb35ca-e2cf-4650-925b-af6d43dc30c5",
   "metadata": {},
   "source": [
    "Any time we say that there is a diference in an A/A test  is a false positive because there is actually no difference."
   ]
  },
  {
   "cell_type": "markdown",
   "id": "2af9a428-9228-49b9-96e9-00c3da1ddd8f",
   "metadata": {},
   "source": [
    "So how many of these can we declare a difference in ?It should be probably about 5.\n",
    "\n",
    "The question now is How many find a significant result and stop early?"
   ]
  },
  {
   "cell_type": "markdown",
   "id": "93c12b93-926e-4dce-8ee2-ed849e72e8b3",
   "metadata": {},
   "source": [
    "Answer : over half of the population"
   ]
  },
  {
   "cell_type": "markdown",
   "id": "c267f787-8ea1-42f2-8beb-24b10faa5217",
   "metadata": {},
   "source": [
    "In A/B testing , 'peeking' can dramatically inflate false positives.\n",
    "Ie making decision on the basis of what you see.\n",
    "\n",
    "Peeking can dramatically affect false positive."
   ]
  },
  {
   "cell_type": "markdown",
   "id": "9aa502be-9f29-4140-bb57-6eecaf301240",
   "metadata": {},
   "source": [
    "False positives : How bad can it be "
   ]
  },
  {
   "cell_type": "markdown",
   "id": "7a860163-9837-4790-af82-753cc2c709bd",
   "metadata": {},
   "source": [
    "Suppose significance is declared once the p-value is lees than a cutoff alpha, then:\n",
    "\n",
    "we have three differnt cuttoff from our observations:\n",
    "Apha\n",
    "0.01\n",
    "\n",
    "0.05\n",
    "\n",
    "0.10\n",
    "\n",
    " from the graph we notice that about 60% of them will end up with early stopping"
   ]
  },
  {
   "cell_type": "markdown",
   "id": "5d2a3714-30f8-4763-8c4b-61eaa23fa43d",
   "metadata": {},
   "source": [
    "#### What went wrong ?"
   ]
  },
  {
   "cell_type": "markdown",
   "id": "76f36477-7c4b-4a73-b498-31c026f2b561",
   "metadata": {},
   "source": [
    "A Sample run of an A/A test"
   ]
  },
  {
   "cell_type": "markdown",
   "id": "0ab61b58-a08e-4d76-bdd2-aa543ce142c8",
   "metadata": {},
   "source": [
    "A graph of 1-p-value"
   ]
  },
  {
   "cell_type": "markdown",
   "id": "20582b6e-af38-4e2e-bb89-ad4c8223da3e",
   "metadata": {},
   "source": [
    "Some intuitions on why this happened as it is not obvious"
   ]
  },
  {
   "cell_type": "markdown",
   "id": "ef0b5994-62db-4fcc-96cf-2ca8296b129c",
   "metadata": {},
   "source": [
    "Here we are looking at the 5% false positive probability set, which may be at the terminal point based on our assumption, hence we hve no idea, what goes on in the middle.\n",
    "\n",
    "We may run the test for a sample population of 100 but wait to take down the outcome each time it crossess the red line"
   ]
  },
  {
   "cell_type": "markdown",
   "id": "3f850da3-9ab0-4f1e-afaa-262cca01d200",
   "metadata": {},
   "source": [
    "Ailthough only 5% of them will cross the red line ,if we had waited to the ending terminal point. infact, we will have 60 of them above the red line at this point in time.\n",
    "\n",
    "The basic problem is favourable selection of the sample size on the basis of what it is doing before it hits the terminal point."
   ]
  },
  {
   "cell_type": "markdown",
   "id": "aa6c51ab-12b9-4c96-bacd-dc34eb5fc310",
   "metadata": {},
   "source": [
    "Why A/A testing is interesting ?"
   ]
  },
  {
   "cell_type": "markdown",
   "id": "2f2e2147-e2eb-4aa4-b53e-fab6806fc0f3",
   "metadata": {},
   "source": [
    "Why optimizing data on A/a testing, customers will run A/A test as a way to check the bad ones.\n",
    "\n",
    "so basically, lets say you signed up for an A/B testing service , ie something that will help you run an experiment. \n",
    "\n",
    "Such experiment is one that you have the anticipation that the result will be thesame as the two things are thesame."
   ]
  },
  {
   "cell_type": "markdown",
   "id": "494cf2eb-b41c-408e-a793-ff3cd626e14b",
   "metadata": {},
   "source": [
    "So whe you run the experiment and the two things are thesame, and you get significant result,what you do is to call the customer support team.\n",
    "\n",
    "You tell them that you ran an experiment and the two things are thesame, so i want to know what went wrong?\n",
    "\n",
    "One answer to this is that the customer is wrong, this is because the customer was given the right statistics but she used them incorrectly but that may sound rude, so you rather will tell the person that you will look into it.\n"
   ]
  },
  {
   "cell_type": "markdown",
   "id": "5e6b0902-5657-4dec-ba61-829eef97c3ca",
   "metadata": {},
   "source": [
    "The key point is that if you wait long enough there is a high chance of receiving inconclusive result looking \"significant aong the way\""
   ]
  },
  {
   "cell_type": "markdown",
   "id": "be6658fa-d8c1-40ee-aa45-bba169654397",
   "metadata": {},
   "source": [
    "#### Irreconcillable difference"
   ]
  },
  {
   "cell_type": "markdown",
   "id": "1764df03-d24a-450d-8bfa-1a99ec3a1fa8",
   "metadata": {},
   "source": [
    "What should the user like?"
   ]
  },
  {
   "cell_type": "markdown",
   "id": "7e16d81f-ffdf-49bb-b6e3-ffe71f99f4e0",
   "metadata": {},
   "source": [
    ". She chooses when to stop adaptively (to trade off test length against the detection of true positive).\n",
    "\n",
    ". At that time if the p-value is small enough, the result is declared significant"
   ]
  },
  {
   "cell_type": "markdown",
   "id": "141bd662-b7e1-463a-800c-db6f08b6cbee",
   "metadata": {},
   "source": [
    "Fixed Sample testing is really nice.\n",
    "It optimally balances false positives and true positives,but it is not adaptive.\n",
    "\n",
    "But adaptive testing can massively inflat false positives if you use thesame p-values."
   ]
  },
  {
   "cell_type": "markdown",
   "id": "acad2495-ba1f-4b79-b6e9-ecbadbbb101e",
   "metadata": {},
   "source": [
    "What to do"
   ]
  },
  {
   "cell_type": "markdown",
   "id": "f7f45a53-9aa0-4995-8b62-2fa55235b769",
   "metadata": {},
   "source": [
    "Two Views"
   ]
  },
  {
   "cell_type": "markdown",
   "id": "0b302eb3-354e-4dd3-9b8a-52bd5c1c24ff",
   "metadata": {},
   "source": [
    "The \"RTFM approach:\n",
    "\n",
    "\"Why dont users just apply fixed-horizon stats properly?\"\n",
    "\n",
    "It helps you to confidently say that our model is right and the right step is to fix the user.\n",
    "\n",
    "Our approach:\n",
    "\n",
    "\"Users are right: they have good reasons to be adaptive\"\n",
    "\n",
    "The questin here is can we allow them to be adaptive and still give reasonable control or inference.\n",
    "\n",
    "We are actually commited to this as a constraint, them we design a procedure that does a good job to that constraint."
   ]
  },
  {
   "cell_type": "markdown",
   "id": "6d52fa39-9d68-4fdb-94c9-452da6483024",
   "metadata": {},
   "source": [
    "Reconciliation "
   ]
  },
  {
   "cell_type": "markdown",
   "id": "1efdf8a8-2bf5-4a79-8b31-dde7ad651e43",
   "metadata": {},
   "source": [
    "The approach change the p-value!\n",
    "\n",
    ". We allow users to continuously monitor the test.\n",
    "\n",
    ". Report an always valid p-value: no matter how the user chooses yo stop the test, no more than 5% false positive probability.\n",
    "\n",
    "\n",
    "We provide:\n",
    "\n",
    ". a near - opyimal balance between test length and detection of true positives.\n",
    "\n",
    ". While controlling false positives \n",
    "\n",
    ". and allowing the user to be adaptive."
   ]
  },
  {
   "cell_type": "markdown",
   "id": "ab3ae4e7-122d-4b56-871d-ab4d710bbc72",
   "metadata": {},
   "source": [
    "Example : Imagine you are given a collection of values that has\n",
    "\n",
    "x0,x1, x2, x3, x4......xn\n",
    "\n",
    "with a mean value\n",
    "~ Normal(m, 1)\n",
    "\n",
    "Use tthe values to find the mean\n",
    "is  abit intuitive, here if we get the sample average we can use it to figure out the mean."
   ]
  },
  {
   "cell_type": "markdown",
   "id": "99a9690e-19aa-4dee-b86a-8ec5cec2f841",
   "metadata": {},
   "source": [
    "From the graph visualize the part that detects the sample mean.\n",
    "\n",
    "We need to figure out if n is different from 0 or not, if n is not different from zero but i declared it to be different from zero  that is actually a false positive.\n",
    "\n",
    "But if n is not differnt from zero but i declared it to be different from zero, that is a false negative"
   ]
  },
  {
   "cell_type": "markdown",
   "id": "b1c40dd3-3a69-4c08-9c26-fff9cd200696",
   "metadata": {},
   "source": [
    "Hence ,i am guaranteed to cross if the truth is differnent from zero and i can control how frequent the cross is"
   ]
  },
  {
   "cell_type": "markdown",
   "id": "364587f8-e571-4705-978c-41b236dd3774",
   "metadata": {},
   "source": [
    "Example:\n",
    "    \n",
    "1. The User has a desired false positive probability target  alpha\n",
    "\n",
    "2. Rule : Stop the first time sample mean crosses constant , \n",
    "\n",
    "√ log n /n\n",
    "\n",
    "Can guarantee or ,if \"constant\" is chosen right\n",
    "\n",
    "3. If the truth is different from zero , this rule is guaranteed to detect it eventually."
   ]
  },
  {
   "cell_type": "markdown",
   "id": "81b64969-3eb0-4efe-9510-3e8706f4e98d",
   "metadata": {},
   "source": [
    "If the truth is different from zero ,i am guaranteed to cross, and i can control how frequent i cross if it is equal to zero."
   ]
  },
  {
   "cell_type": "markdown",
   "id": "3a2f59a6-859a-4989-b03a-65fdcd0c76dd",
   "metadata": {},
   "source": [
    "find we need to find out how to get p-value in questions like this.\n",
    "\n",
    "The first thing to do is to give the time a name for eg.\n",
    "\n",
    "Tα\n",
    "\n",
    "we need to find out the first time the boundary gets crossed"
   ]
  },
  {
   "cell_type": "markdown",
   "id": "ac11e7a9-0797-474b-8cad-4107a7650a8e",
   "metadata": {},
   "source": [
    "The p-value at any given end is the lowest to α, such that Tα must be current"
   ]
  },
  {
   "cell_type": "markdown",
   "id": "ae888035-ba15-48d3-8b25-8c4f018cf060",
   "metadata": {},
   "source": [
    "The p-value(@ time n) is the smallest α such that tα ≤ n\n",
    "\n",
    "This has two nice properties\n",
    "\n",
    "1.Imagine someone stops the first time p-value false below α, What does that amount to,stoping the first time  p-value stops below α is stopping at Tα by definition.\n",
    "\n",
    "Like we said Tα is chosen so that we guarantee false positve probability α.\n",
    "\n",
    " It means controlling aditional fluctuations, we first work out the range of the fluctuations, then we set Tα up to mae sure that we control them\n",
    " \n",
    " If the user stops the first time it crosses α , it is exactly thesame as controlling the fluctuations correctly.\n",
    " \n",
    "2. No matter when the user chooses to stop in an adaptive way,thier false positive probability  will be bonded by α."
   ]
  },
  {
   "cell_type": "markdown",
   "id": "49dbf0f4-6062-431e-981e-3e31b1e941d1",
   "metadata": {},
   "source": [
    "Methodology : \n",
    "\n",
    "The procedure or test that we use is called the nature s\n",
    "    \n",
    "The p-value that we use is called the \"Nature sequencial probability test. \n",
    "\n",
    "it has been around for a long time. Farmer Ron developed some foundation of it.\n",
    "\n",
    "The statistics we used is called Tα that we construct."
   ]
  },
  {
   "cell_type": "markdown",
   "id": "e8096a8c-030f-4b18-ac1d-08185e69ab20",
   "metadata": {},
   "source": [
    "Tα is the first time you cross the two solid black lines.\n",
    "For each α you get one of the pairs of black line and the more consevative you are the further out  the black lines go.\n",
    "\n",
    "if it gets smaller the black lines go out more.If the α gets smaller, the Tα gets longer, it takes you longer to get one of those black lines.\n",
    "\n",
    "Note ,α is your false positive (the 5%)"
   ]
  },
  {
   "cell_type": "markdown",
   "id": "d6ca60cd-496f-419c-8eb3-c8ee8c0bdec0",
   "metadata": {},
   "source": [
    "The test looks good because it is giving you two things.\n",
    "\n",
    "1. False positive probabilities\n",
    "\n",
    "2. Detection eventually.\n",
    "\n",
    "But one problem is that though it might give you detection eventually , what if it takes forever to get that?"
   ]
  },
  {
   "cell_type": "markdown",
   "id": "845057c8-3203-48ae-a913-3c7e0a64c87d",
   "metadata": {},
   "source": [
    "### No free lunch?"
   ]
  },
  {
   "cell_type": "markdown",
   "id": "de7666cb-215c-411a-8b38-f2d49dc3856c",
   "metadata": {},
   "source": [
    "What do we give up in return for continuous monitoring?\n",
    "\n",
    "> If the effect size is known in advance, should only be better!\n",
    "you need to continue monitoring\n",
    "\n",
    "> In practice, we dont know the effect size in advance.\n",
    "\n",
    "The test we designed does not assume knowledge of the effect size.\n",
    "\n",
    "We compare our test to a fixed horizon test, using data from Optimizely.\n"
   ]
  },
  {
   "cell_type": "markdown",
   "id": "e61fef1d-ab40-40ca-9534-8ae6498f5ac3",
   "metadata": {},
   "source": [
    "### Run length on optimizely"
   ]
  },
  {
   "cell_type": "markdown",
   "id": "8819ec12-035f-442b-881b-5d83751273a7",
   "metadata": {},
   "source": [
    "Our results show robustness to not knowing the effect size"
   ]
  },
  {
   "cell_type": "markdown",
   "id": "993464a7-44d2-4b79-894c-770f9a0b4206",
   "metadata": {},
   "source": [
    "There are 4 tiers , bronze, gold ,silver and platinum\n",
    "we have 4 graph showing the number of customers we will have from the experiment carried out.\n",
    "\n",
    "What you want to do is paying for the number of visitors coming through optimizely that they will use for months.\n",
    "\n",
    "we ploted a ratio showing how long our test takes, against how long the fixed price and test takes.\n",
    "\n",
    "For what ?\n",
    "\n",
    "1.We used a sample size calculator to determine the sample size under the following assumption that i know what the effect size is.\n",
    "\n",
    "2. That i have a particular false positive probability am trying to hit \n",
    "\n",
    "3. And also a particular false negative am trying to hit.\n",
    "Once i fix those 3 things that determines the sample size and the fixed price and test i need to be able to meet those constraints."
   ]
  },
  {
   "cell_type": "markdown",
   "id": "b9ddf8c5-cee7-4791-88d4-60329a8e9c88",
   "metadata": {},
   "source": [
    "The first thing we do, we talk about 10,000 historical experiment from optimizely that has run long enough so that you can treat the final efect as the true effect size.\n",
    "\n",
    "we use that in a sample size calculator to work out how long you will run a fixed price and test.ie the denominator. the numarator is that we use our testing procedure on top of thesame data and ask when did you stop, when is the first time the p-value will cross the cut off"
   ]
  },
  {
   "cell_type": "markdown",
   "id": "4fe650e0-e5aa-4e0a-aa0d-c704b322bba3",
   "metadata": {},
   "source": [
    "From the graph we have the solid black lines,shows 3x inflation, it looks like you know in advane what the actual effect will be."
   ]
  },
  {
   "cell_type": "markdown",
   "id": "a35aaafe-0e89-4b29-b679-128bf07e433b",
   "metadata": {
    "tags": []
   },
   "source": [
    "#### Run lengths: interpretation"
   ]
  },
  {
   "cell_type": "markdown",
   "id": "bf957f5d-595f-4552-b40f-f8a2ffc05906",
   "metadata": {},
   "source": [
    "Our results show robustness to not knowing the effect size.\n",
    "\n",
    "Intuition:\n",
    "\n",
    "> Detecting an effect size  ^(dot) takes a run length proportional to 1/ ^2 (one over dot)\n",
    "\n",
    "> So the penalty for guessing wrong about  alpha is very high.\n",
    "\n",
    "> An MDE that is 2x too small => runs length that is 4x too long."
   ]
  },
  {
   "cell_type": "code",
   "execution_count": null,
   "id": "3b059240-4254-4b16-9e01-64a44030f67d",
   "metadata": {},
   "outputs": [],
   "source": []
  },
  {
   "cell_type": "markdown",
   "id": "72d82f62-bd51-4bce-b4a1-2a236574a74f",
   "metadata": {},
   "source": [
    "#### Experimentation in the internet age"
   ]
  },
  {
   "cell_type": "markdown",
   "id": "a8c76e44-f73c-49f0-b4b3-2608a568625a",
   "metadata": {},
   "source": [
    "Rapid innovation in \n",
    "\n",
    "Information & communication technology has democratized the scientific method.\n",
    "\n",
    "Our goal: \"adapt \" statististical methodology to fit what the user is tring to do.\n",
    "\n",
    "Additional results:\n",
    "\n",
    "> Always valid confidence intervals\n",
    "> Optimality properties of the tests we use."
   ]
  },
  {
   "cell_type": "code",
   "execution_count": null,
   "id": "9bfb9f02-65c6-4d41-ab90-06cd68cd8d76",
   "metadata": {},
   "outputs": [],
   "source": []
  },
  {
   "cell_type": "markdown",
   "id": "af53435b-7834-4058-a474-1a1dd0e64163",
   "metadata": {},
   "source": [
    "### Required Reading on AB Testing"
   ]
  },
  {
   "cell_type": "markdown",
   "id": "ad2224d7-2a44-4cf8-9a2e-7af395e10598",
   "metadata": {},
   "source": [
    "A/B Testing "
   ]
  },
  {
   "cell_type": "markdown",
   "id": "4b3b10c2-fc55-4941-904d-3f5b59170cf4",
   "metadata": {},
   "source": [
    "An A/B test is an experiment with two groups to establish which of two treatments, products, procedures, or the like is superior. Often one of the two treatments is the standard existing treatment, or no treatment. \n",
    "\n",
    "If a standard (or no) treatment is used, it is called the control. A typical hypothesis is that treatment is better than control. KEY TERMS FOR A/B TESTING Treatment Something (drug, price, web headline) to which a subject is exposed. Treatment group A group of subjects exposed to a specific treatment. better than control."
   ]
  },
  {
   "cell_type": "markdown",
   "id": "430d51c8-ebbc-4bbf-9a02-4f4504b4edcb",
   "metadata": {},
   "source": [
    "#### KEY TERMS FOR A/B TESTING "
   ]
  },
  {
   "cell_type": "markdown",
   "id": "c7a08992-d1c9-44da-bbe2-c32b0eb12394",
   "metadata": {},
   "source": [
    "Treatment\n",
    "Something (drug, price, web headline) to which a subject is exposed.\n",
    "\n",
    "Treatment group\n",
    "A group of subjects exposed to a specific treatment. \n",
    "\n",
    "Control group\n",
    "A group of subjects exposed to no (or standard) treatment.\n",
    "\n",
    "Randomization \n",
    "The process of randomly assigning subjects to treatments.\n",
    "\n",
    "Subjects \n",
    "The items (web visitors, patients, etc.) that are exposed to treatment\n",
    "\n",
    "Test statistic\n",
    "The metric used to measure the effect of the treatment."
   ]
  },
  {
   "cell_type": "markdown",
   "id": "61d5ee90-9787-45f5-86c6-df73e224a110",
   "metadata": {},
   "source": [
    "The metric used to measure the effect of the treatment. \n",
    "\n",
    "A/B tests are common in web design and marketing, since results are so readily measured. Some examples of A/B testing include: \n",
    "\n",
    ".Testing two soil treatments to determine which produces better seed germination \n",
    "\n",
    ".Testing two therapies to determine which suppresses cancer more effectively. \n",
    "\n",
    ".Testing two prices to determine which yields more net profit. \n",
    "\n",
    ".Testing two web headlines to determine which produces more clicks. (Figure 3-2)\n",
    "\n",
    ".Testing two web ads to determine which generates more conversions"
   ]
  },
  {
   "cell_type": "markdown",
   "id": "9628ae2f-d471-4208-80a9-aacea3a24801",
   "metadata": {},
   "source": [
    "Figure 3-2. Marketers continually test one web presentation against another.\n",
    "\n",
    "A proper A/B test has subjects that can be assigned to one treatment or another. The subject might be a person, a plant seed, a web visitor; the key is that the subject is exposed to the treatment.\n",
    "\n",
    "Ideally, subjects are randomized (assigned randomly) to treatments. In this way, you know that any difference between the treatment groups is due to one of two things:"
   ]
  },
  {
   "cell_type": "markdown",
   "id": "8d5bf66d-4bb9-48b0-9f76-0a166156a3a5",
   "metadata": {},
   "source": [
    "The effect of the different treatments Luck of the draw in which subjects are assigned to which treatments (i.e., the random assignment may have resulted in the naturally better-performing subjects being concentrated in A or B)\n"
   ]
  },
  {
   "cell_type": "markdown",
   "id": "0711377f-c0cc-43c3-a09a-f5a981d8ef85",
   "metadata": {},
   "source": [
    "You also need to pay attention to the test statistic or metric you use to compare group A to group B. Perhaps the most common metric in data science is a binary variable: click or no-click, buy or don’t buy, fraud or no fraud, and so on."
   ]
  },
  {
   "cell_type": "markdown",
   "id": "192d4ea8-d3eb-4eb9-a0c0-04c61aa1a487",
   "metadata": {},
   "source": [
    "Those results would be summed up in a 2×2 table. Table 3-1 is a 2×2 table for an actual.\n",
    "\n",
    "The effect of the different treatments Luck of the draw in which subjects are assigned to which treatments (i.e., the random assignment may have resulted in the naturally better-performing subjects being concentrated in A or B)"
   ]
  },
  {
   "cell_type": "markdown",
   "id": "02cdb398-30d7-4ad4-9273-086ac2c34af2",
   "metadata": {},
   "source": [
    "You also need to pay attention to the test statistic or metric you use to compare group A to group B. Perhaps the most common metric in data science is a binary variable: click or no-click, buy or don’t buy, fraud or no fraud, and so on. Those results would be summed up in a 2×2 table. Table 3-1 is a 2×2 table for an actual price test."
   ]
  },
  {
   "cell_type": "markdown",
   "id": "ed15fda5-c03b-468d-966d-66217fb7fbd1",
   "metadata": {},
   "source": [
    "Table 3-1. 2×2 table for\n",
    "\n",
    "ecommerce experiment\n",
    "\n",
    "results\n",
    "\n",
    "Outcome Price A Price B\n",
    "\n",
    "Conversion 200 182\n",
    "\n",
    "No conversion 23,539 22,406"
   ]
  },
  {
   "cell_type": "markdown",
   "id": "9c03dad8-831d-4998-a729-ab738e674a9c",
   "metadata": {},
   "source": [
    "If the metric is a continuous variable (purchase amount, profit, etc.), or a count (e.g., days in hospital, pages visited) the result might be displayed differently. \n",
    "\n",
    "If one were interested not in conversion, but in revenue per page view, the results of the price test in Table 3-1 might look like this in typical default software output: Revenue/page-view with price A: mean = 3.87, SD = 51.10 Revenue/page-view with price B: mean = 4.11, SD = 62.98 “SD” refers to the standard deviation of the values within each group."
   ]
  },
  {
   "cell_type": "markdown",
   "id": "b3bf5f41-0464-4151-93ec-d407f49266ad",
   "metadata": {},
   "source": [
    "WARNING"
   ]
  },
  {
   "cell_type": "markdown",
   "id": "177f4246-d582-47a4-a6e9-5920e188508c",
   "metadata": {},
   "source": [
    "Just because statistical software — including R — generates output by default does not mean that all the output is useful or relevant. \n",
    "\n",
    "You can see that the preceding standard deviations are not that useful; on their face they suggest that numerous values might be negative, when negative revenue is not feasible.\n",
    "\n",
    "This data consists of a smallset of relatively high values (page views with)"
   ]
  },
  {
   "cell_type": "markdown",
   "id": "510ad6e7-4ee7-41e5-88fd-2d67dd9015c9",
   "metadata": {},
   "source": [
    "Why Have a Control Group?"
   ]
  },
  {
   "cell_type": "markdown",
   "id": "6a7afe95-3d48-47a1-b50c-1d9cf64e5791",
   "metadata": {},
   "source": [
    "Why not skip the control group and just run an experiment applying the treatment of interest to only one group, and compare the outcome to prior experience? Without a control group, there is no assurance that “other things are equal” and that any difference is really due to the treatment (or to chance). When you have a control group, it is subject to the same conditions (except for the treatment of interest) as the treatment group. If you simply make a comparison to “baseline” or prior experience, other factors, besides the treatment, might differ."
   ]
  },
  {
   "cell_type": "markdown",
   "id": "0fcf0049-53ef-47fc-9991-98daaa8e3596",
   "metadata": {},
   "source": [
    "BLINDING IN STUDIES"
   ]
  },
  {
   "cell_type": "markdown",
   "id": "8921a204-9cac-4ffa-b7a2-7a1b81a0f853",
   "metadata": {},
   "source": [
    "A blind study is one in which the subjects are unaware of whether they are getting treatment A or treatment B. Awareness of receiving a particular treatment can affect response. \n",
    "\n",
    "A double blind study is one in which the investigators and facilitators (e.g., doctors and nurses in a medical study) are unaware which subjects are getting which treatment. \n",
    "\n",
    "Blinding is not possible when the nature of the treatment is transparent — for example, cognitive therapy from a computer versus a psychologist. The use of A/B testing in data science is typically in a web context."
   ]
  },
  {
   "cell_type": "markdown",
   "id": "5ba45137-4013-4b10-9e8d-babc25ebf263",
   "metadata": {},
   "source": [
    "Treatments might be the design of a web page, the price of a product, the wording of a headline, or some other item. Some thought is required to preserve the principles of randomization.\n",
    "\n",
    "Typically the subject in the experiment is the web visitor, and the outcomes we are interested in measuring are clicks, purchases, visit duration, number of pages visited, whether a particular page is visited, and the like. \n",
    "\n",
    "\n",
    "In a standard A/B experiment, you need to decide on one metric ahead of time. Multiple behavior metrics might be collected and be of interest, but if the experiment is expected to lead to a decision between treatment A and treatment B, a single metric, or test statistic, needs to be established beforehand. Selecting a test statistic after the experiment is conducted opens the door to researcher bias."
   ]
  },
  {
   "cell_type": "markdown",
   "id": "092d37c0-11bf-4ea0-8e6f-1c7f5e7e0bda",
   "metadata": {},
   "source": [
    "Why Just A/B? Why Not C, D…?\n"
   ]
  },
  {
   "cell_type": "markdown",
   "id": "41809f73-a088-445f-b876-e46f0c6589ff",
   "metadata": {},
   "source": [
    "A/B tests are popular in the marketing and ecommerce worlds, but are far from the only type of statistical experiment. Additional treatments can be included. Subjects might have repeated measurements taken. Pharmaceutical trials where subjects are scarce, expensive, and acquired over time are sometimes designed with multiple opportunities to stop the experiment and reach a conclusion. Traditional statistical experimental designs focus on answering a static question about the efficacy of specified treatments. Data scientists are less interested in the question:\n"
   ]
  },
  {
   "cell_type": "markdown",
   "id": "a23ca31e-bf7f-4ad5-b8d4-cfecd4460a2b",
   "metadata": {},
   "source": [
    "Is the difference between price A and price B statistically significant?\n",
    "\n",
    "than in the question:\n",
    "\n",
    "Which, out of multiple possible prices, is best?\n",
    "\n",
    "For this, a relatively new type of experimental design is used: the multi-arm\n",
    "\n",
    "bandit (see “Multi-Arm Bandit Algorithm”)"
   ]
  },
  {
   "cell_type": "markdown",
   "id": "52ef1bf5-12be-431b-966e-39a612326139",
   "metadata": {},
   "source": [
    "GETTING PERMISSION"
   ]
  },
  {
   "cell_type": "markdown",
   "id": "c0b39647-1943-41b9-a85c-208cc2367eb8",
   "metadata": {},
   "source": [
    "In scientific and medical research involving human subjects, it is typically necessary to get their permission, as well as obtain the approval of an institutional review board. Experiments in business that are done as a part of ongoing operations almost never do this. \n",
    "\n",
    "In most cases (e.g., pricing experiments, or experiments about which headline to show or which offer should be made), this practice is widely accepted. Facebook, however, ran afoul of this general acceptance in 2014 when it experimented with the emotional tone in users’ newsfeeds. Facebook used sentiment analysis to classify newsfeed posts as positive or negative, then altered the positive/negative balance in what it showed users. \n",
    "\n",
    "Some randomly selected users experienced more positive posts, while others experienced more negative posts. Facebook found that the users who experienced a more positive newsfeed were more likely to post positively themselves, and vice versa. The magnitude of the effect was small, however, and Facebook faced much criticism for conducting the experiment without users’ knowledge.\n",
    "\n",
    "\n",
    "Some users speculated that Facebook might have pushed some extremely depressed users over the edge, if they got the negative version of their feed."
   ]
  },
  {
   "cell_type": "markdown",
   "id": "a6928d87-6b42-4f9a-b105-a543befe8807",
   "metadata": {},
   "source": [
    "KEY IDEAS"
   ]
  },
  {
   "cell_type": "markdown",
   "id": "8c307a38-a2c3-4066-8559-469327cb2dac",
   "metadata": {},
   "source": [
    "Subjects are assigned to two (or more) groups that are treated exactly alike, except that the treatment under study differs from one to another. Ideally, subjects are assigned randomly to the groups."
   ]
  },
  {
   "cell_type": "markdown",
   "id": "86d3fece-c363-4628-8bcc-db9223d4d3e7",
   "metadata": {},
   "source": [
    "For Further Reading"
   ]
  },
  {
   "cell_type": "markdown",
   "id": "1f47ba08-887a-4cba-b3a4-6687595ac4b5",
   "metadata": {},
   "source": [
    "Two-group comparisons (A/B tests) are a staple of traditional statistics, and just about any introductory statistics text will have extensive coverage of design principles and inference procedures. \n",
    "\n",
    "For a discussion that places A/B tests in more of a data science context and uses resampling, see Introductory Statistics and Analytics: A Resampling Perspective by Peter Bruce (Wiley, 2014). For web testing, the logistical aspects of testing can be just as challenging as the statistical ones. \n",
    "\n",
    "A good place to start is the Google Analytics help section on Experiments. Beware advice found in the ubiquitous guides to A/B testing that you see on the web, such as these words in one such guide: “Wait for about 1,000 total visitors and make sure you run the test for a week.” Such general rules of thumb are not statistically meaningful; see “Power and Sample Size” for more detail"
   ]
  },
  {
   "cell_type": "markdown",
   "id": "24c90412-be31-4181-a254-c9a7329d0dc3",
   "metadata": {},
   "source": [
    "What is the difference between two sample t test and paired t-test?\n",
    "Two-sample t-test is used when the data of two samples are statistically independent, while the paired t-test is used when data is in the form of match paitrs"
   ]
  },
  {
   "cell_type": "markdown",
   "id": "94eb6abc-9a93-4f0d-bd64-7ebcf3689285",
   "metadata": {},
   "source": [
    "When would you use a paired sample t-test?\n",
    "Image result\n",
    "A paired t-test is used when we are interested in the difference between two variables for the same subject. Often the two variables are separated by time. For example, in the Dixon and Massey data set we have cholesterol levels in 1952 and cholesterol levels in 1962 for each subject."
   ]
  },
  {
   "cell_type": "markdown",
   "id": "88283d88-b072-4108-96bb-3260f1de42fb",
   "metadata": {},
   "source": [
    "The paired sample t-test, sometimes called the dependent sample t-test, is a statistical procedure used to determine whether the mean difference between two sets of observations is zero. In a paired sample t-test, each subject or entity is measured twice, resulting in pairs of observations. Common applications of the paired sample t-test include case-control studies or repeated-measures designs. Suppose you are interested in evaluating the effectiveness of a company training program. One approach you might consider would be to measure the performance of a sample of employees before and after completing the program, and analyze the differences using a paired sample t-test."
   ]
  },
  {
   "cell_type": "markdown",
   "id": "4787dcdb-e789-434c-9483-d02274bf9d8e",
   "metadata": {},
   "source": [
    "The unpaired two-samples t-test is used to compare the mean of two independent groups. For example, suppose that we have measured the weight of 100 individuals: 50 women (group A) and 50 men (group B). We want to know if the mean weight of women (mA) is significantly different from that of men (mB)."
   ]
  },
  {
   "cell_type": "code",
   "execution_count": null,
   "id": "ad6296d6-34ec-4779-98ef-c97bfb5bad4e",
   "metadata": {},
   "outputs": [],
   "source": []
  }
 ],
 "metadata": {
  "kernelspec": {
   "display_name": "Python 3 (ipykernel)",
   "language": "python",
   "name": "python3"
  },
  "language_info": {
   "codemirror_mode": {
    "name": "ipython",
    "version": 3
   },
   "file_extension": ".py",
   "mimetype": "text/x-python",
   "name": "python",
   "nbconvert_exporter": "python",
   "pygments_lexer": "ipython3",
   "version": "3.9.7"
  }
 },
 "nbformat": 4,
 "nbformat_minor": 5
}
