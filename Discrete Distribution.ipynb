{
 "cells": [
  {
   "cell_type": "markdown",
   "id": "3b295cdc-915f-48b5-8bc6-b41acb60cd63",
   "metadata": {},
   "source": [
    "## Discrete Distributions"
   ]
  },
  {
   "cell_type": "markdown",
   "id": "9d4ad422-6171-4c71-977c-ca98d8b5a8ee",
   "metadata": {},
   "source": [
    "### An Overview of Distributions"
   ]
  },
  {
   "cell_type": "markdown",
   "id": "0b078f58-2750-4b82-9741-515cda53dfcc",
   "metadata": {},
   "source": [
    "Distribution\n",
    "\n",
    "This shows the possible values a variable can take and how frequently they occur.\n",
    "\n",
    "Important Notation\n",
    "uppercase Y - This represents the actual outcome of an event\n",
    "Lowercase y - Represents one of the possible outcomes\n",
    "\n",
    "One way to denote the likelihood of reaching a particular outcome y is \n",
    "P(Y=y) (P of y)\n",
    "We can also express it as P of y : P(Y)\n",
    "For example, uppercase Y could represent the number of red marble we draw out of a bag.\n",
    "and lowercase y could be a specific number like 3 or 5 ie y = 3 or 5\n",
    "Then we express the probability of getting 5 red marbles as  P(Y = 5)  or P(5)\n",
    "Since P(y) expresses each distinct outcome, we call it the probability function\n",
    "\n",
    "Probability distribution or probability frequency distribution measures the likelihood of an outcome, depending on how often it is featured in the sample space\n",
    "Recall we constructed the probability frequncy distribution of an event in the introductory section of the course.\n",
    "\n",
    "We recorded the frequency for each unique value and divided it by the total number of elements in the sample space.\n",
    "Usually that is the way we construct these probabilities, when we have a finite number of possible outcomes.\n",
    "If we have an infinite number of possibilities, then recording the frequency for each one becomes impossible because there are infinitely many of them.\n",
    "\n",
    "For instance, imagine you are a Data Scientist and wants to analyze the time it takes for your code to run.\n",
    "Any single compilation could take anywhere from a few milliseconds to several days, often the result will be between a few milliseconds to a few minutes.\n",
    "If we record time in seconds,we loose precision which is something to be avoided.\n",
    "To do so we need to use the smallest possible measurement of time.\n",
    "Since evrey milisecond(ms) micro ( μs))  or nanosecond(ns) could be spilt in half for greater accuracy.\n",
    "Note that no such thing as the smalest possible measurement of time exists."
   ]
  },
  {
   "cell_type": "markdown",
   "id": "7d049e93-3179-4147-b680-966659954742",
   "metadata": {},
   "source": [
    "Key Definitions\n",
    "Regardless of whether we have a finite or infinite number of possibilities, we define Distribution using only two characteristics\n",
    "i. Mean\n",
    "ii. Variance\n",
    "\n",
    "The mean of a distribution is its avarage value.\n",
    "Variance is how spread out the data is or Variance is a measure of how data points differ from the mean.\n",
    "We measure the spread by how far away from the mean all the values are.\n",
    "The more dispersed the data is,the higher its variance will be.\n",
    "We denote the mean with the greek letter miu ( μ)\n",
    "and Variance with sigma square (σ2)"
   ]
  },
  {
   "cell_type": "markdown",
   "id": "37a6165f-4daf-496a-86ef-b927fed9b85f",
   "metadata": {},
   "source": [
    "When analyzing distribution it is important to understand what kind of data we are dealing with:\n",
    "i. Population Data\n",
    "ii. Sample data\n",
    "Population data is the formal way of referring to all the Data\n",
    "Sample data is just a part of it."
   ]
  },
  {
   "cell_type": "markdown",
   "id": "fd5f3138-a9b3-4ef5-a1ad-612924b7924d",
   "metadata": {},
   "source": [
    "For example, if an employer surveys an entire department about how they travel to work, the data will represent the population of the department.\n",
    "However, this same data will just be a sample of the employees in the whole company.\n",
    "Something to remember when using sample data is that we adopt different notations for the mean and variance,\n",
    "we denote sample mean as x̄, (X bar)\n",
    "Sample Variance as  s2, one flop of variance is that it is measured in squared units\n",
    "For example, if you are measuring time in seconds, the Variance will be measured in second squared,\n",
    "usually there is no direct interpretation of that value.\n",
    "\n",
    "To make further sense of variance, we introduce the third characteristics of the Distribution called Standard Deviation."
   ]
  },
  {
   "cell_type": "markdown",
   "id": "af885914-bb3d-4c89-9876-0ebf199da71d",
   "metadata": {},
   "source": [
    "Standard Deviation is simply the positive square root of variance ,\n",
    "The standard deviation of a random variable, sample, statistical population, data set, or probability distribution is the square root of its variance. It is.denoted as √σ2\n",
    "We denote it as sigma (σ) when dealing with population and as S when dealing with a sample.\n",
    "Unlike Variance, Standard Deviation is measured in thesame Units as the mean, but we can directly inteprete it and is often prefarable."
   ]
  },
  {
   "cell_type": "markdown",
   "id": "3a264e06-f6fd-4025-a364-8f4a5159bb31",
   "metadata": {},
   "source": [
    "One idea which we will use alot is that any value between miu-sigma (μ-σ),(μ+σ)miu +sigmafalls within one standard deviation away from the mean (graphically representd in the notebook)\n",
    "The more congested the middle of the distribution the more data falls within that interval.\n",
    "\n",
    "The less data falls within the interval the more dispersed the data is .\n",
    "\n",
    "It is important to know that a constant relationship exists between the mean and variance for any distribution.\n",
    "\n",
    "By definition, the variance = the expected value of the squared difference from the mean for any value.\n",
    "we denote this as sigma squared equals the expected value of y minus miu squared\n",
    " σ 2 = E(Y − μ)2) = E(Y2))-μ2) after some simplification.\n",
    " \n",
    " Finally ,if we are dealing with a specific distribution we can find a much more precise formula."
   ]
  },
  {
   "cell_type": "markdown",
   "id": "6a22f41f-e6b6-44cc-a0ff-65e5b87e1a46",
   "metadata": {},
   "source": [
    "### Types of probabbility Distribution"
   ]
  },
  {
   "cell_type": "markdown",
   "id": "ac73acd9-9bf6-486e-ac0c-070a1f3d3357",
   "metadata": {},
   "source": [
    "i. Discrete Distribution : These are distributions with a finite number of outcomes e.g Rolling a dice,and picking a card .\n",
    "ii.Continuous Distribution: These are distributions that have infinitely many outcomes e.g recording time and distance in track and field.\n",
    "We will be examing the characteristics of some of the most common distributions anfd for each one we will focus on the most important aspect of it or when it is used."
   ]
  },
  {
   "cell_type": "markdown",
   "id": "c3f77d53-8d4b-4961-b877-140b7e460f9d",
   "metadata": {},
   "source": [
    "Notations used when defining distributions\n",
    "we start of by writing down the variable name(X), \n",
    "followed by the tilda sign(~)\n",
    "Capital letter(N) depicting the type of distribution\n",
    "Some characteristics of the dataset in parenthesis ( μ,σ2), the characteristics are usually mean and variance but they may vary depending on the type of distribution"
   ]
  },
  {
   "cell_type": "markdown",
   "id": "a8527e57-604e-495c-82b3-b67f77e181d4",
   "metadata": {},
   "source": [
    "#### Discrete Distribution"
   ]
  },
  {
   "cell_type": "markdown",
   "id": "a3e20591-7f31-4f94-bd07-0d67c06eab6e",
   "metadata": {},
   "source": [
    "A discrete distribution is a statistical distribution that shows the probabilities of outcomes with finite value or many distinct outcomes. "
   ]
  },
  {
   "cell_type": "markdown",
   "id": "876e0bac-f498-494f-8c17-830f066d68c5",
   "metadata": {},
   "source": [
    "As a result we can express a discrete Distribution with either a table (Y , P(Y) , a graph or a formula P(Y) = 1 /y!e.\n",
    "\n",
    "To do so we have to ensure that every unique outcome have a probability assigned to it."
   ]
  },
  {
   "cell_type": "raw",
   "id": "554b822c-b1c5-4a30-a068-63c806fbefaa",
   "metadata": {},
   "source": [
    "Imagine you are playing DAX,each unique outcome have some probability assigned to it based on how big its associated interval is.\n",
    "Since we have finitely many possible outcome, we are dealing with a discrete distribution."
   ]
  },
  {
   "cell_type": "raw",
   "id": "898d9b79-8fdf-49f5-9ba1-75746882e948",
   "metadata": {},
   "source": [
    "P(1) = x\n",
    "P(2) = X2\n",
    ".......\n",
    "P(60) = X60   \n",
    "These are finitely many possibe outcome"
   ]
  },
  {
   "cell_type": "markdown",
   "id": "bd091669-e3be-44b5-9d87-eb0ab181533d",
   "metadata": {},
   "source": [
    "In probability we are often more interested in a likelihood of an interval than any individual value.\n",
    "With discrete distribution we can simply add up the probabilities for all the values within that range."
   ]
  },
  {
   "cell_type": "markdown",
   "id": "622efee6-ecf1-42b6-bcde-592caf01b9a3",
   "metadata": {},
   "source": [
    "Recall the example where we drew a card 20 times, supposing we want to know the probability of drawing 3 spades or fewer, we will first calculate the probability of getting P(0). P(1), P(2) or P(3) spadesm then add them up to find the probability of drawing 3 spades or fewer. P(Y ≤ 3)"
   ]
  },
  {
   "cell_type": "code",
   "execution_count": null,
   "id": "dfb0e286-93f9-4a3f-8e3c-1f50677bab25",
   "metadata": {},
   "outputs": [],
   "source": [
    "≤ "
   ]
  },
  {
   "cell_type": "markdown",
   "id": "241ee8d6-06ea-4690-a9d2-49a645020acf",
   "metadata": {},
   "source": [
    "One perculiarity of discrete events is that the probability of  \n",
    "P(Y ≤ y) = P{Y < (y + 1)}\n",
    "\n",
    "In our last example, it means getting 3 spades or fewer is same as getting fewer than 4 spades.\n",
    "ie P(spade  ≤  3) = P(spade < 4)"
   ]
  },
  {
   "cell_type": "markdown",
   "id": "24e5aad9-af56-4aef-8053-878fb44c210a",
   "metadata": {},
   "source": [
    "#### Uniform Distribution."
   ]
  },
  {
   "cell_type": "markdown",
   "id": "3d3dc52d-e7e2-44c8-8916-d85cbebbb0bc",
   "metadata": {},
   "source": [
    "Uniform Distribution.\n",
    "This deals with events tht are equally likely.\n",
    "We use the letter U to define th uniform distribution followed by the range of values in the dataset.\n",
    "\n",
    "U(a,b), hence, we read the value as variable X follows a discrete uniform distribution ranging from 3 to 7.\n",
    "X ~ U(3,7)."
   ]
  },
  {
   "cell_type": "markdown",
   "id": "392970f6-cd0a-4bac-bf38-b2b1d4178759",
   "metadata": {},
   "source": [
    "Events which follows uniform distributoin are once were all outcome have equal probability. \n",
    "One of such events is rolling a 6=sided standard dice, when we roll a 6- sided dice we have equal chance of geting any value from 1 - 6. P(a) = P(b)\n",
    "P(1) = P(2) = P(3) = P(4) = P(5) = P(6) \n",
    "\n",
    "The graph of this probability will have 6 equally tall bars ,all reaching up to 1/6"
   ]
  },
  {
   "cell_type": "markdown",
   "id": "23605090-f182-4a94-bde4-7816a6e1b265",
   "metadata": {},
   "source": [
    "many events like gambling provides such acts where each individual outcome is eqaully likely. "
   ]
  },
  {
   "cell_type": "markdown",
   "id": "6fad5459-e56a-4bf1-aab2-dd00af98f300",
   "metadata": {},
   "source": [
    "Many every day event follows the uniform distribution. If your friend offers you 3 identical chocolate box, the probabilities assigned to you choosing one of them , still follows the Uniform distribution."
   ]
  },
  {
   "cell_type": "markdown",
   "id": "f4bf4b61-836b-411f-88bb-ba4facc0b29e",
   "metadata": {},
   "source": [
    "One big draw back with the uniform distribution is that the expected value provides us with no relevant information because al outcomes have the same probabilities.\n",
    " The expected value which is 3.5 have no predictive power.\n",
    " E(3) = 3.5"
   ]
  },
  {
   "cell_type": "markdown",
   "id": "8c530bcb-aa0c-4b5a-a02a-a6b93c8dd452",
   "metadata": {},
   "source": [
    "We can still plot the formula from earlier and geta mean (μ) of 3.5 and variance of σ = 105 / 36. \n",
    "These values are completetely uninterpreteable\n",
    "and there is no real intuition behind what they mean."
   ]
  },
  {
   "cell_type": "markdown",
   "id": "d9c36d4d-790d-42ae-b818-ca2b94cb53d9",
   "metadata": {},
   "source": [
    "The main take away is that when an event is following the uniform distribution,  X~U(a,b)\n",
    "each outcome is equally likely therefore both the mean and the variance are uninterpreteable.\n",
    "And posess no predictive power whatsoever."
   ]
  },
  {
   "cell_type": "markdown",
   "id": "bb01d64a-9f70-4fd6-b6a1-44b6b548b5a0",
   "metadata": {},
   "source": [
    "Sadly, the uniform distribution is not the only distribution for which we cannot conduct useful predictive intervals"
   ]
  },
  {
   "cell_type": "markdown",
   "id": "7b09bb22-2e15-4de0-aff8-aae508c615b5",
   "metadata": {},
   "source": [
    "In drawing a card from a deck of cards or flipping a coin, both events shows outcome where events are equally likely, such outcomes are called 'Equiprobable' and this type of event follows a Uniform Distribution.\n",
    "X ~ U(3)"
   ]
  },
  {
   "cell_type": "markdown",
   "id": "5ae54c40-8619-4ed2-b4da-3fae78371959",
   "metadata": {},
   "source": [
    "#### Bernoulli Distribution"
   ]
  },
  {
   "cell_type": "markdown",
   "id": "fc924f21-546d-4015-820e-1920348346bd",
   "metadata": {},
   "source": [
    "The Bernoulli distribution is a special case of the binomial distribution where a single trial is conducted (so n would be 1 for such a binomial distribution).\n",
    "\n",
    "We use Bern to define a Bernoulli distribution followed by the probability of our preferred outcome in parenthesis . ie Bern(P), hence we the following statement as variable X follows a bernoulli distribution with the probability of success equal to P.\n",
    "Bern(P)\n",
    "X ~ Bern(P)\n",
    "\n",
    "Types of events that follows a Bernoulli Distribution\n",
    " \n",
    "Events with only Two possible outcomes are called Bernoulli Distribution , \n",
    "example Yes or No, \n",
    "a single Quiz true or false\n",
    "a coin flip or deciding whether to vote for the Republican or Democratic party in thUS election\n",
    "Regardless of whether  one outcome is more likely to occur,,any event with two outcomes can be transformed into a Bernoulli event.\n",
    "We simply assign one of them to be true or false.\n",
    "\n",
    "Usually when dealing with a Benoilli distribution we either have the probabilities of one of the events occuring P is known or have past data indicating some experimental probability.\n",
    "\n",
    "In either case , the graph of a benoulli distribution is simple, it consists of two bars . one for each of the possible outcome, one bar will rise up to ite associated probability of P and the other one will only reach 1-p.\n",
    "\n",
    "\n",
    "For a benoulli distribution, we often have to assign which outcome is 0 and which outcome is 1.\n",
    "after that we can calculate the sexpected value bearing in mind how we assign this 0 nd 1, our expected value will eithe be equal to p or 1-p\n",
    "\n",
    "E(X) = 1 -P\n",
    "\n",
    "Conventionally,We usually denote the higher probabibilty  with P and a lower one with 1-p, furthermore we also assign the value of 1 to the event with the probability equal to p , (p = 1, 1 - p >0 )\n",
    "\n",
    "That way the expected values expresses the likelihood of the favoured event.\n",
    "E(X) = 1. P = . (1 -P) = P"
   ]
  },
  {
   "cell_type": "markdown",
   "id": "fd1de1c8-7fde-41fe-9c41-1fc796700398",
   "metadata": {},
   "source": [
    "Since we only have one trial and a favoured event, we expect that outcome to occur.\n",
    "By plugging P and 1-P into the variance formula, we find the variance of benoulli event always equals p(1-P), this is true regardless of what the expected value is"
   ]
  },
  {
   "cell_type": "code",
   "execution_count": null,
   "id": "201fa8b9-e3a9-4ca5-a138-ff5f79b6b05e",
   "metadata": {},
   "outputs": [],
   "source": [
    "σ2 = (Xo - μ)2 . P(X0) + (X1 - μ )2 .P(X1) =\n",
    "(0 -P). (1-P) + (1-p)2 .p =\n",
    "= P(1-p)"
   ]
  },
  {
   "cell_type": "markdown",
   "id": "d429fda0-e3f9-46a6-8912-586dfed2cb7a",
   "metadata": {},
   "source": [
    "Example, imagine we are required to elect a captain for our college sport team, the team consists of 7 Native students and 3 international Students.we assign the captain being Native to be True and the Captain being International to be False, Since the outcome can now only be true or false, we have a bernoulli distribution.\n",
    "\n",
    "If we carry out a similar experiment several times in a row, we are dealing with a Binomial distribution"
   ]
  },
  {
   "cell_type": "markdown",
   "id": "8cc9770b-49b1-4745-95c0-5bde9608a988",
   "metadata": {},
   "source": [
    "Once again we can calculate the variance and standard deviation using the formulas we defined earlier but they bring us little value\n",
    "\n",
    "σ2 = P(1-p) Varince\n",
    "\n",
    "σ = √P(1-p)"
   ]
  },
  {
   "cell_type": "markdown",
   "id": "c91a2275-192c-4cc3-a1c5-a158485e71d9",
   "metadata": {},
   "source": [
    "For example, consider flipping an unfair coin, this coin is called unfair because its weight is spread disproportionately and it got tails 60% of the time.\n",
    "we assign the outcome of tail to be one and p(tail) = 0.6. therfore the expected value will be P or 0.6. if we plug in this result into the variance formula, we will get a variance of  0.6 x 0.4 = 0.24"
   ]
  },
  {
   "cell_type": "code",
   "execution_count": null,
   "id": "aa0cfed1-ad25-415d-9454-19d8bedcf94e",
   "metadata": {},
   "outputs": [],
   "source": [
    "Tail = 1\n",
    "Head = 0\n",
    "P(Tail) = 0.6\n",
    "E(x) = p - 0.6\n",
    "plug in to variance formula\n",
    "σ2 = P(1-p)  \n",
    "  = 0.6 X 0.4 = 0.24"
   ]
  },
  {
   "cell_type": "code",
   "execution_count": null,
   "id": "0a98660a-167d-4f33-926c-23a91995efc1",
   "metadata": {},
   "outputs": [],
   "source": [
    " A BIT CONFUSED HERE, WHY WAS 1 NOT USED IN THE CALCULATION ???????/"
   ]
  },
  {
   "cell_type": "markdown",
   "id": "59c0e737-6427-4014-80c4-e6927d3793c1",
   "metadata": {},
   "source": [
    "#### Binomial Distribution"
   ]
  },
  {
   "cell_type": "code",
   "execution_count": null,
   "id": "38b4c6a6-5212-48c1-b833-475b3772f976",
   "metadata": {},
   "outputs": [],
   "source": [
    "They are a sequence of identical Bernolli events."
   ]
  },
  {
   "cell_type": "markdown",
   "id": "b69a2a47-4f08-4ce3-8339-e165f1295fb2",
   "metadata": {},
   "source": [
    "Notation for Binomial Event we use the letter B to express a binomial distributon followed by the number of trials and the probability of success in each one\n",
    "B(n,p)\n",
    "Therefore,we read the following statement as variable x followed by a binomial distribution with 10 trials and a likelihood of 0.6 to succeed on each individual trial"
   ]
  },
  {
   "cell_type": "markdown",
   "id": "feb13518-5299-4a7b-a74b-610a760e05d8",
   "metadata": {},
   "source": [
    "Aditionally we can express a binomial distribution as a Benoulli distribution with a single trial\n",
    "Bern(P) = B(1,p)\n",
    "\n",
    "Guessing one queston is a bernoulli event.\n",
    "But guessing the entire quiz is a Binomial event."
   ]
  },
  {
   "cell_type": "markdown",
   "id": "17f844eb-dc34-4215-b5d0-f2c59c3a7d03",
   "metadata": {},
   "source": [
    "Bernoulli vs Binomial Distribution"
   ]
  },
  {
   "cell_type": "markdown",
   "id": "b6d63cf3-28a5-4bac-a3df-23b918c41f00",
   "metadata": {},
   "source": [
    "Going back to the Quiz example we just mentioned ,the expected value for the Benoulli distribution suggests which outcome we expect for a single trial'\n",
    "E(Bernoulli event) - suugests which outcome for a single trial,\n",
    "E(Binomial event) - suggests the number of times we expect to get a specific outcome\n",
    "The Graph of a Binomial Distribution represents the likelihood of attaining our desired outcome a specific number of times, if we run n- trials our graph will represent n + 1 many bars, one for each unique value from 0 - n,\n",
    "For instance,  we can be fliping the unfair coin we had from the last lecture, if we toss it twice we need bars for the 3 different outcomes.\n",
    "0, 1 or 2 tails"
   ]
  },
  {
   "cell_type": "markdown",
   "id": "0a322196-3344-4cfc-95ad-959065853975",
   "metadata": {},
   "source": [
    "If we wish to find the associated likelihood of getting a given outcome a precise number of times over the cause of n- trials, we need to introduce the probability function of the binomial distribution . P(Y).\n",
    "\n",
    "Note that, each individual trial is a benoulli trial, so we express the probability of getting our desired outcome.\n",
    "P(desired outcome)  \n",
    "and the likelihood of the other one as 1-p\n",
    "P(alternative outcome) = 1-p\n",
    "\n",
    "In other to get our desired outcome exactly\n",
    "y (many times) / n- trials\n",
    "\n",
    "we also need to get the alternative outcome .\n",
    "n - y (many times)\n",
    "if we dont account for this we will be estimating the likelihood of getting our desired outcome atleast y-many times"
   ]
  },
  {
   "cell_type": "markdown",
   "id": "458fab20-0ac0-4943-b00b-482ef230d1e2",
   "metadata": {},
   "source": [
    "Additionally,more than one way to reach our desired outcomes may exist.\n",
    "to account for this we need to account for the number of senario, where y out of the n many outcome would be favourable.(Y^n) but these are actually the combinations we already know.\n",
    "(Y^n) = (C^ny). "
   ]
  },
  {
   "cell_type": "markdown",
   "id": "2e92b4d2-fb85-4633-99e5-fa97ae9d2892",
   "metadata": {},
   "source": [
    "Probability Function"
   ]
  },
  {
   "cell_type": "markdown",
   "id": "829b0120-cc33-4e2b-9307-77e838fbe766",
   "metadata": {},
   "source": [
    "For instance, if we reach to find out ways in which 4 out of the 6 trials will be successful, is same as picking 4 elemnts out of the sample space of 6 .\n",
    "C^6/4\n",
    "These are actually part of the combination we already know. Here you can see that combinatories is an fundamental part of probability.\n",
    "We need to find the number of combinations in which Y out of the n outcomes will be favourable. (C^n/y )"
   ]
  },
  {
   "cell_type": "code",
   "execution_count": null,
   "id": "9b5e441a-d185-45fa-bd3f-db4c0e59d01e",
   "metadata": {},
   "outputs": [],
   "source": [
    "C^n/y ,There are 3 different ways that can tell us exactly twice in 3 co-influence,\n",
    "C ^3/2 = 3x2x1/2x1 = 3"
   ]
  },
  {
   "cell_type": "markdown",
   "id": "5df9f7ae-c4b3-44e0-b54d-97e25383344e",
   "metadata": {},
   "source": [
    "Therefore, the probability function for P(Y) of a Binomial distribution is the product of combinations of picking y many elements out of n times (y^n) into the power of y (P^y).(1 - p )^ n-y\n",
    "\n",
    "P(Y) = (y^n). P^y. (!-p)^n-y"
   ]
  },
  {
   "cell_type": "markdown",
   "id": "6b180f02-e27f-4411-89f8-e3e8f83e3624",
   "metadata": {},
   "source": [
    "Let's look at the GENERAL MOTORS example, \n",
    "Imagine you bought a single stock of General Motors, historically you know there is a 60% chance price will go up on a given day and a 40 percent chance that it will drop.\n",
    "P(stock) = 60% = 0.6\n",
    "P(stock) = 40% = 0.4\n",
    "But the price going up would mean that the opening price is lower than the closing price, with the probability distribution function,you can clculate the stock price going up 3 timec in 5 working days in a week.\n",
    "If we wish to use the probability distribution formula, we need to plug in \n",
    "3 for y, \n",
    "5 for n and\n",
    "0.6 for P"
   ]
  },
  {
   "cell_type": "raw",
   "id": "edb712bc-bb6b-4109-b0af-3d0a0ec6adcd",
   "metadata": {},
   "source": [
    "P(Y) = (y^n). P^y. (1-p)^n-y\n",
    "10 x 0.216 x 0.16 =\n",
    "= C 5^3 x 0.6^3 x 0.4^2 n!/n!-p! 5!/3-5!\n",
    "10 x 0.216 x 0.16 =\n",
    "= 0.3456 ~ 34.56% chance"
   ]
  },
  {
   "cell_type": "code",
   "execution_count": 1,
   "id": "088481d4-7859-478f-9b52-d76e7692be74",
   "metadata": {},
   "outputs": [
    {
     "data": {
      "text/plain": [
       "0.21599999999999997"
      ]
     },
     "execution_count": 1,
     "metadata": {},
     "output_type": "execute_result"
    }
   ],
   "source": [
    "0.6**3"
   ]
  },
  {
   "cell_type": "markdown",
   "id": "14caaee9-f8b8-4f01-8833-9118e6311853",
   "metadata": {},
   "source": [
    "AFter plugging in we get number of different combination of pluging in 3 elements out of 5, (C 5^3) multiplied by 0.6 to the power of 3 multiplied by 0.4 to the power of 2, wg=hich is equivalent to 10 times 0.216 times 0.16 or 0.3456\n",
    "This means we have exactly 34.56% chance of getting exactly 3 times increase over the cause of a work week"
   ]
  },
  {
   "cell_type": "markdown",
   "id": "c0ea6dce-5997-46ad-a6c1-10e1a1543b86",
   "metadata": {},
   "source": [
    "The big advantage of recognizing the distribution is that you can simply use this formula and plug in the information you already have"
   ]
  },
  {
   "cell_type": "markdown",
   "id": "3b6edb08-9bfb-4c0b-ab2a-880d65e995b9",
   "metadata": {},
   "source": [
    "Expected values"
   ]
  },
  {
   "cell_type": "markdown",
   "id": "e5695366-eaba-48a3-a75f-8ce05d9e2411",
   "metadata": {},
   "source": [
    "This is equal to the sum of all values in the sample space multiplied by their respective probabilities.\n",
    "E(X) = X0 . P (x0) + X1 . P(X1)+ ... Xn .P(Xn)"
   ]
  },
  {
   "cell_type": "markdown",
   "id": "4dc15995-4d30-4043-9c9f-22a0d4d1f3f3",
   "metadata": {},
   "source": [
    "The expected value formula for a Binomial event equals the probability of success for a given value multiplied by the number of trials we carry out"
   ]
  },
  {
   "cell_type": "raw",
   "id": "b32b3ee2-f38f-493c-a9e1-69611026c5b2",
   "metadata": {},
   "source": [
    "Y ~ B(n,P)\n",
    "E(Y) = n .P (Formula for calculating the expected values for categorical variables."
   ]
  },
  {
   "cell_type": "markdown",
   "id": "b0dc2124-9f66-4cd6-b3f9-65f928a25ea6",
   "metadata": {},
   "source": [
    "Variance and Standard Deviation"
   ]
  },
  {
   "cell_type": "markdown",
   "id": "7bea63c7-bd5a-4994-ac46-1982fe1934ab",
   "metadata": {},
   "source": [
    "Finally we can calculate the variance by applying the short formala , variance of Y  equals to the expected value of y squared minus the expected value of Y -Squared. "
   ]
  },
  {
   "cell_type": "code",
   "execution_count": null,
   "id": "934788ba-50c3-4481-a0da-488f36ebd8de",
   "metadata": {},
   "outputs": [],
   "source": [
    " σ 2 = E(Y^2) - E(Y)^2"
   ]
  },
  {
   "cell_type": "code",
   "execution_count": null,
   "id": "4c226fdc-6457-4e85-b001-4a458cf2d6d5",
   "metadata": {},
   "outputs": [],
   "source": [
    "after some simplification we have "
   ]
  },
  {
   "cell_type": "code",
   "execution_count": null,
   "id": "0916fe04-6f80-473f-b11c-6f56b7859919",
   "metadata": {},
   "outputs": [],
   "source": [
    " = n.P. (1-p)"
   ]
  },
  {
   "cell_type": "code",
   "execution_count": null,
   "id": "c9afd2e4-4c5e-4644-92d1-2f3504f015e1",
   "metadata": {},
   "outputs": [],
   "source": [
    "If we plug in the values from our stock market example, this gives us a variance of 5 x 0.6 x 0.4  or 1.2"
   ]
  },
  {
   "cell_type": "code",
   "execution_count": null,
   "id": "25e410da-d463-43d4-acfa-8dc4b10600eb",
   "metadata": {},
   "outputs": [],
   "source": [
    " n.P. (1-p) = 5 x 0.6 x 0.4  = 1.2"
   ]
  },
  {
   "cell_type": "code",
   "execution_count": null,
   "id": "58127e83-596e-450c-b29a-9a9b377224ef",
   "metadata": {},
   "outputs": [],
   "source": [
    "This gives us a standard deviation ( σ ) of exactly 1.1"
   ]
  },
  {
   "cell_type": "code",
   "execution_count": null,
   "id": "6218147f-9664-40d7-88a5-31b30a299194",
   "metadata": {},
   "outputs": [],
   "source": [
    "Knowing the variance and standard deviation allows us to  make more accurate future forcast"
   ]
  },
  {
   "cell_type": "code",
   "execution_count": 2,
   "id": "6804ef1a-10f1-4ac1-b75f-76d778ee3414",
   "metadata": {},
   "outputs": [
    {
     "data": {
      "text/plain": [
       "1.0954451150103321"
      ]
     },
     "execution_count": 2,
     "metadata": {},
     "output_type": "execute_result"
    }
   ],
   "source": [
    "1.2**0.5 ( how to calculate standard deviation) ** means raise to power"
   ]
  },
  {
   "cell_type": "markdown",
   "id": "9e3f36f3-e19d-42b7-85b1-625ec9788ede",
   "metadata": {},
   "source": [
    "To further explain the difference between the two types of events.\n",
    "\n",
    "You went to class and your profesor gave the class a surprise pop quiz, which you were not prepared for. Luckily for you the quiz consists of 10 True or False Questions.In this case ,guessing a simple true and false question."
   ]
  },
  {
   "cell_type": "markdown",
   "id": "f2ebd9f6-452a-4602-b792-64901a612f36",
   "metadata": {},
   "source": [
    "A frequency distribution of the possible number of successful outcomes in a given number of trials in each of which there is the same probability of success.\n",
    "\n",
    "Just like the Bernoulli distribution, the outcomes for each Iterations are two but we have many iterations.\n",
    "\n",
    "For example we could be flipping the coin we mentioned earlier 3times and try to calculate the probability of getting head twice P(H X 2)"
   ]
  },
  {
   "cell_type": "markdown",
   "id": "cc161076-fa38-43a2-b592-28165770e1c3",
   "metadata": {},
   "source": [
    "### Poisson Distribution"
   ]
  },
  {
   "cell_type": "markdown",
   "id": "6690b2ff-8921-40d2-8395-c4c6463fe24b",
   "metadata": {},
   "source": [
    "A Poisson distribution is a statistical distribution showing the likely number of times that an event will occur within a specified period of time.\n",
    "\n",
    "It deals with the frequency with which an event occurs in a specific interval."
   ]
  },
  {
   "cell_type": "markdown",
   "id": "11759762-5e50-4baf-9b01-aaf693c5d5de",
   "metadata": {},
   "source": [
    "We denote a poisson distribution with the letter PO and a single value parameter lambda (λ)\n",
    "Poλ\n",
    "We read the statement below as variable Y follows a poisson distribution with lamda equals to 4\n",
    "Y ~ Po(4)"
   ]
  },
  {
   "cell_type": "markdown",
   "id": "5f0761be-d227-4a39-9f9f-9bd030b99724",
   "metadata": {},
   "source": [
    "Instead of the probability of an event, the poisson distribution requires knowing how often it occurs for a specific period or distance"
   ]
  },
  {
   "cell_type": "markdown",
   "id": "c6279c4a-cad8-4dd4-a6e6-fa38eda6403c",
   "metadata": {},
   "source": [
    "For example a firefly might light up 3 times in 10secs on average\n",
    "We should use a poisson distribution if we want to determine the likelihood of lighting up 8 times in 20 secs.\n",
    "\n",
    "Y ~ Po(3)"
   ]
  },
  {
   "cell_type": "markdown",
   "id": "ea5ea1fe-a70a-4949-8263-dae6bd871402",
   "metadata": {},
   "source": [
    "The graph of the poisson distribution ,plots the number of instances the event occurs in a standard intervalof time and the probability for each one.\n",
    "\n",
    "Thus our graph will always start from 0 since no event can happen at negative amount of times."
   ]
  },
  {
   "cell_type": "markdown",
   "id": "399df0ed-0847-4793-a38e-25c05ed528dd",
   "metadata": {},
   "source": [
    "However there is no count to the amount of time it could occur over the time interval."
   ]
  },
  {
   "cell_type": "markdown",
   "id": "4d3e232d-8739-4707-95f7-cd7d72d62aa3",
   "metadata": {},
   "source": [
    "EXAMPLE:\n",
    "\n",
    "Imagine you created an online course on probability, usually your students ask you about 4 questions per day but yesterday they asked 7 ,surprised by the sudden spike in interest by your students , you wonder how likely it was that they should ask about 7 questions.\n",
    "P(y=7)=?\n",
    "\n",
    "The average number of questions you anticipate is 4 so,lambda equals to 4 \n",
    "λ = 4\n",
    "the time interval is one entire work day and the singular instance you are interested in is 7, hence\n",
    "Y = 7"
   ]
  },
  {
   "cell_type": "markdown",
   "id": "5f9375bd-9d8d-48a9-8b10-2c0bb6c7e54e",
   "metadata": {},
   "source": [
    "To answer ths kind of question we need to explore the probability function for this ytpe of distribution.\n",
    "Po(4)\n",
    "\n",
    "It is important to note that the poisson distribution formula is widely different than any other we have gone over so far.\n",
    "Hence ,we should expect the probability distribution formula to also be different"
   ]
  },
  {
   "cell_type": "markdown",
   "id": "5fa0e75d-ed08-4f79-981f-16d2fc3a1ed0",
   "metadata": {},
   "source": [
    "P(Y) = λ^y e^-λ  / y!\n",
    "(P of Y equals λ lambda to the power of y ,times the euler,s number to the power of negative lambda over y facorial\n",
    "\n",
    "e = Eulers number(Napier,s constant), it is a fixed value aprox. equals to 2.72\n",
    "e~~ 2.72\n",
    "We commonly observe it in physics ,mathematics and nature\n",
    "But for the purpose of this example , we only need to note down the value.\n",
    "\n",
    "A number to the power of negative n is the same thing as dividing 1 by that number to the power of n , hence e raise to power lambda is the same as one over e raise to power lambda.\n",
    "\n",
    "X^n = 1 / X^n   \n",
    "= eλ = 1 / eλ \n"
   ]
  },
  {
   "cell_type": "code",
   "execution_count": null,
   "id": "94c64cf4-6fa5-4c53-9500-4c96c0772f24",
   "metadata": {},
   "outputs": [],
   "source": [
    "Now back to the example,\n",
    "\n",
    "P(Y) = λ^y e^-λ  / y!\n",
    "y =7\n",
    "λ = 4\n",
    "e = 2.72\n",
    "\n",
    "P(7) = 4^7 2.72^-4 /7!   = 16384 x 0.0183 / 5042 ~ 0.06"
   ]
  },
  {
   "cell_type": "code",
   "execution_count": 1,
   "id": "2c989161-8578-41d3-89eb-ebdd2ffdbdae",
   "metadata": {},
   "outputs": [
    {
     "data": {
      "text/plain": [
       "16384"
      ]
     },
     "execution_count": 1,
     "metadata": {},
     "output_type": "execute_result"
    }
   ],
   "source": [
    "4 ** 7 "
   ]
  },
  {
   "cell_type": "code",
   "execution_count": 2,
   "id": "373a1516-74a7-4c5b-9ea9-8b15549ab376",
   "metadata": {},
   "outputs": [
    {
     "data": {
      "text/plain": [
       "0.018269404176793853"
      ]
     },
     "execution_count": 2,
     "metadata": {},
     "output_type": "execute_result"
    }
   ],
   "source": [
    "2.72 ** -4"
   ]
  },
  {
   "cell_type": "code",
   "execution_count": null,
   "id": "ce8ccd9b-b7fa-470c-a2d3-6415c76b16eb",
   "metadata": {},
   "outputs": [],
   "source": [
    "7! = 7 x 6 x 5 x 4 x 3 x 2 x 1 = 5040"
   ]
  },
  {
   "cell_type": "code",
   "execution_count": 3,
   "id": "0566f584-41b3-45c7-83b0-b96c0490ba73",
   "metadata": {},
   "outputs": [
    {
     "data": {
      "text/plain": [
       "299.8272"
      ]
     },
     "execution_count": 3,
     "metadata": {},
     "output_type": "execute_result"
    }
   ],
   "source": [
    "16384 * 0.0183"
   ]
  },
  {
   "cell_type": "code",
   "execution_count": null,
   "id": "90a70231-f6cf-4647-bab7-08e5fb651f43",
   "metadata": {},
   "outputs": [],
   "source": [
    "0.06 = 6% \n",
    "Hence, there was only a 6% chance of receiving exactly 7 questions"
   ]
  },
  {
   "cell_type": "markdown",
   "id": "b1bbd0ff-b1ea-4f8e-82c1-9bac47a5a807",
   "metadata": {},
   "source": [
    "Expected Values "
   ]
  },
  {
   "cell_type": "markdown",
   "id": "d2e96742-e761-4ec9-824a-f94ba95662cd",
   "metadata": {},
   "source": [
    "Now that we know the probability function, we can then calculate the expected value.\n",
    "P(Y) = E(y)\n",
    "\n",
    "By definition the expected value of y equals the sum of all the products in a distinct value in a sample space and its probabilities.\n",
    "\n",
    "E(Y) = y0 . P (y0) + Y1 . P(y1)+ ... yn .P(yn)\n",
    "\n",
    "By plugging in, we wil get this complicated expression\n",
    "\n",
    "E(Y) = Y0 λ^yo e-λ /yo!  + Y1 λ^y1  e^-λ / y1! + ... = \n",
    "\n",
    "The expected value is simply lambda λ ."
   ]
  },
  {
   "cell_type": "markdown",
   "id": "f14966f3-cd54-4051-bdc5-1dbca01b1329",
   "metadata": {},
   "source": [
    "similarly, by applying the formula we already know ,the variance also ends up to be equal to lambda.\n",
    "'σ2 = (Xo - μ)2 . P(X0) + (X1 - μ )2 .P(X1) =\n",
    "σ2 = (Yo - μ)2  + (y1 - μ )2 + ..... =  λ"
   ]
  },
  {
   "cell_type": "markdown",
   "id": "08256f75-8218-4a4e-a80c-4b65a01c23ff",
   "metadata": {},
   "source": [
    "Both the mean and the variance equal to lambda servers as another example of Elegant Statistics these distribution possess and why we can take advantage of them. \n",
    "μ = σ2 =  λ"
   ]
  },
  {
   "cell_type": "markdown",
   "id": "c1bbf255-e624-4554-b455-ea46f9f8708d",
   "metadata": {},
   "source": [
    "if we wish to compute the probability of the interval of a poisson distribution, we will take the same step we usually do  for  discrete distribution.\n",
    "\n",
    "we find the joint probabilities for all individual elements within it."
   ]
  },
  {
   "cell_type": "markdown",
   "id": "1538429a-d5e6-4ea0-b5f1-1775808f9c80",
   "metadata": {},
   "source": [
    "In the Poisson distribution formula, lambda (λ) is the mean number of events within a given interval of time or space. For example, λ = 0.748 floods per year.\n",
    "\n",
    "We use it when we want to test how unusual an event frequency is for a given interval.\n",
    "For example. image we know that lois brown James average 35 points during the regular season, we want to know how likely is that he will score 12 points in the first Quarter of his next game.\n",
    "\n",
    "Since the freqeuncy changes so should our expectations for the outcome.\n",
    "Using the Poisson distribution we able to determine the chance of lois Brown scoring exactly 12 points P(12) for the specified interval."
   ]
  },
  {
   "cell_type": "markdown",
   "id": "764f4054-8a85-4f81-899f-60d2612f4ed6",
   "metadata": {},
   "source": [
    "### Continuous Distribution"
   ]
  },
  {
   "cell_type": "markdown",
   "id": "a58ef871-661a-4570-9adc-6714ec3071d0",
   "metadata": {},
   "source": [
    "Any event that have consistently many infinite outcomes are called Continuous distribution.\n",
    "They differ versly from discrete distribution\n",
    "in continuous distribution, there sample space is infinite\n",
    "Hence, we cannot record the frequency of each distinct value as such we can no longer represent this distribution on a table.\n",
    "What we can do is represent them with a graph.precisely the graph of the probability density function or PDF for short.\n",
    "we denote it as F(y) where y is an element of the sample space.\n",
    "As the name suggests, the function depicts the associated probability for every possible value \"y\"."
   ]
  },
  {
   "cell_type": "markdown",
   "id": "00cc2894-613b-412f-bd27-29022b6cac1d",
   "metadata": {},
   "source": [
    "Since ,it expresses probability, the value it associates with an element of the sample space will be greater than or equal to zero.\n",
    "\n",
    "The graph for continuous distribution slightly resemble the one for discrete distribution, however there are more elements in the sample space, so there are more bars on the graph, furthermore ,the more bars the nearer each one must be.\n",
    "This results in a smooth curve that goes along the top of these bars, we call it the probability distribution curve(PDC) since it shows the likelihod of each outcome"
   ]
  },
  {
   "cell_type": "markdown",
   "id": "bc7b403b-67e4-4bad-9102-58e774231f91",
   "metadata": {},
   "source": [
    "DIFFEENCES BETWEEN DISTINCT AND CONTINUOUS DISTRIBUTION"
   ]
  },
  {
   "cell_type": "markdown",
   "id": "0d1644dc-2146-438d-854e-c6167eb95917",
   "metadata": {},
   "source": [
    "Imagine we use the favoured overall formula to calculate probabilities for such variables"
   ]
  },
  {
   "cell_type": "code",
   "execution_count": null,
   "id": "80d05299-a041-4e26-8128-0cfefadcfcfa",
   "metadata": {},
   "outputs": [],
   "source": [
    "P(y) = favourable  / Sample space  = 1/ infinite"
   ]
  },
  {
   "cell_type": "markdown",
   "id": "fd971a35-c6bf-4e53-bbe6-7622f3d51968",
   "metadata": {},
   "source": [
    "Since the sample space is infinite the likelihood of each individual one would be extremely small.\n",
    "         \n",
    "If we assume the numerator stays constant,algebra dictates that the greater the denomitor becomes the closer the fraction is to zero\n",
    "for reference ,1/3 is closer to 0 than 1/2 and a 1/4 is closer to 0 than either of them."
   ]
  },
  {
   "cell_type": "raw",
   "id": "966f26ce-fd40-4002-a7db-4268e924b46a",
   "metadata": {},
   "source": [
    "Since  the denominator of the favoured overall formula will be so big,It is commonly accepted that such probability will be extremely insignificant."
   ]
  },
  {
   "cell_type": "code",
   "execution_count": null,
   "id": "cca85fa5-6c75-4656-a2c0-3d27fb4857ec",
   "metadata": {},
   "outputs": [],
   "source": [
    "Infact, we assume their likelihood of occuring to be 0\n",
    "P(y) = 1 / infinite = 0"
   ]
  },
  {
   "cell_type": "markdown",
   "id": "b261839f-ed27-439d-83dd-f04fe1f35e12",
   "metadata": {},
   "source": [
    "It is accepted that the probability for any individual value from a continuous distribution is equal to zero.\n",
    "P(X) = 0"
   ]
  },
  {
   "cell_type": "markdown",
   "id": "ee994d68-5175-45a5-9f0a-4dc8e3edffae",
   "metadata": {},
   "source": [
    "This assumption is crucial in understanding  why the likelihood of an event being strictly greater than X is equal to the likelihood of the event being greater than or equal to X for some value x within the sample space"
   ]
  },
  {
   "cell_type": "code",
   "execution_count": null,
   "id": "efe1774c-1d69-421f-a7e1-661f9a6d5883",
   "metadata": {},
   "outputs": [],
   "source": [
    "P(X) = 0\n",
    "P(x>X) = P(x≥X)"
   ]
  },
  {
   "cell_type": "markdown",
   "id": "bf769876-1ae8-4062-a7b8-e34f1d7ddf2d",
   "metadata": {},
   "source": [
    "For Example\n",
    "The probability of a college student running a mile in under 6 mins, is same as them running it for atmost 6mins"
   ]
  },
  {
   "cell_type": "raw",
   "id": "eb4938b2-a9fa-4c04-b458-973f5c78fab8",
   "metadata": {},
   "source": [
    "P(x<6min) = P(x≤6min)\n",
    "P(x=6) = 0"
   ]
  },
  {
   "cell_type": "markdown",
   "id": "96dcbd26-4e15-41a5-9c68-da0f130d12ff",
   "metadata": {},
   "source": [
    "That is because we considered the likelihood of them finishing in exactly 6mins to be 0"
   ]
  },
  {
   "cell_type": "code",
   "execution_count": null,
   "id": "a3681b6a-c7c7-4b33-b4f1-d6ed8b0538bd",
   "metadata": {},
   "outputs": [],
   "source": [
    "Cumulative Distribution Function (CDF)"
   ]
  },
  {
   "cell_type": "markdown",
   "id": "a59a5dfa-24b7-49c2-96db-dbcdedd720d9",
   "metadata": {},
   "source": [
    "A function whose value is the probability that a corresponding continuous random variable has a value less than or equal to the argument of the function."
   ]
  },
  {
   "cell_type": "markdown",
   "id": "c8f0118e-af62-4ee0-a029-50df559cb391",
   "metadata": {},
   "source": [
    "Since it is cumulative ,it encompasses every thing up to a certain value"
   ]
  },
  {
   "cell_type": "markdown",
   "id": "90c3c8f4-d76e-42ab-9b9a-1aad41358a72",
   "metadata": {},
   "source": [
    "We denote the CDF as F(y) for any continuous random variable Y, as the name suggests it represeents the probability of the random variable being lower than or equal to a specific value."
   ]
  },
  {
   "cell_type": "code",
   "execution_count": null,
   "id": "345f8ce6-4742-4857-932e-f3f5af2a9791",
   "metadata": {},
   "outputs": [],
   "source": [
    "F(y) = P(Y≤y) "
   ]
  },
  {
   "cell_type": "markdown",
   "id": "25aa808e-8c12-47db-8043-b456c042b602",
   "metadata": {},
   "source": [
    "Since,no value will be lower than or eqqual to negative infinity, the CDF value for negative infinity will equal 0"
   ]
  },
  {
   "cell_type": "code",
   "execution_count": null,
   "id": "8212b30f-5eef-4023-835f-c2495b89e3a4",
   "metadata": {},
   "outputs": [],
   "source": [
    "F(– ∞) = 0"
   ]
  },
  {
   "cell_type": "markdown",
   "id": "4ffa0efe-64c6-450a-bbd5-01b1bee19c8f",
   "metadata": {},
   "source": [
    "Similarly, since any value will be lower than positive infinity,we will get a 1 if we plot + ∞ in the distribution function"
   ]
  },
  {
   "cell_type": "code",
   "execution_count": null,
   "id": "b07bfb2f-a726-4c58-9dc5-18adddcadc78",
   "metadata": {},
   "outputs": [],
   "source": [
    "F(∞)= 1"
   ]
  },
  {
   "cell_type": "markdown",
   "id": "028cf28f-cc94-44c9-bfcb-51a3819c5612",
   "metadata": {},
   "source": [
    "Discrete Distribution "
   ]
  },
  {
   "cell_type": "markdown",
   "id": "5fb6a7c3-b9b1-428f-954e-9c16a676f8b7",
   "metadata": {},
   "source": [
    "They also have CDFs but they are used far less frequently.\n",
    "\n",
    "This is because we can always add up the PDF values associated with the individual probabilities we are interested in."
   ]
  },
  {
   "cell_type": "markdown",
   "id": "aecc7e0f-7476-46bb-8841-b64244c1dbe0",
   "metadata": {},
   "source": [
    "The CDF is very useful when we want to estimate the probability of some intervals.\n",
    "\n",
    "Graphically, the area under the density curve represents the chance of getting a value within that interval, we find this area by computting the integral of the density curve over the interval from a to b"
   ]
  },
  {
   "cell_type": "code",
   "execution_count": null,
   "id": "f9a6c125-a49f-491c-b406-dbb174d36744",
   "metadata": {},
   "outputs": [],
   "source": [
    "P(b>x>a)How to calculate integral\n",
    "∫b^a p(x)dx"
   ]
  },
  {
   "cell_type": "markdown",
   "id": "075c2a61-dcd1-45fa-9541-e65c52463cd8",
   "metadata": {},
   "source": [
    "For more information on how to calculate integrals ,you can use some free online software like wolframalpha.com"
   ]
  },
  {
   "cell_type": "markdown",
   "id": "c8278ff5-5047-4ae4-bc4d-4241e9a55132",
   "metadata": {},
   "source": [
    "If you understand probability correctly determining and calculating its integrals should feel very intuitive"
   ]
  },
  {
   "cell_type": "code",
   "execution_count": null,
   "id": "0708d79b-d46e-45a8-aaa6-abef932d710d",
   "metadata": {},
   "outputs": [],
   "source": [
    "CDF Vs PDF"
   ]
  },
  {
   "cell_type": "markdown",
   "id": "a21578de-f466-4cbc-a201-e59be2d54301",
   "metadata": {},
   "source": [
    "CDF is the probability of the interval from negative infinity to Y (-∞ ;Y), for those who know calculus ,this suggests thst the CDF for specific value Y is equal to the integral of the density function over the interval from -∞ to Y"
   ]
  },
  {
   "cell_type": "code",
   "execution_count": null,
   "id": "7b1b5026-4821-4f05-81a0-7ae85a01af38",
   "metadata": {},
   "outputs": [],
   "source": [
    "probablity of interval  = ∫-∞^y p(y)dy"
   ]
  },
  {
   "cell_type": "markdown",
   "id": "cc2aa23c-226a-4159-a60a-222a5703fb2e",
   "metadata": {},
   "source": [
    "This gives us a way to obtain the CDf from the PDF"
   ]
  },
  {
   "cell_type": "markdown",
   "id": "099c42de-44c5-4b33-ba53-1401e1638015",
   "metadata": {},
   "source": [
    "The opposite of intergration is derivation\n",
    "So to obtain a PDF from a CDF , we will have to find its first derivative.\n",
    "\n",
    "In more technical terms, the Pdf for any element of the sample space y equals the first derivative of the cds with respect to Y."
   ]
  },
  {
   "cell_type": "code",
   "execution_count": null,
   "id": "f7a750b3-ab27-4085-9b11-d7f4a3ea0618",
   "metadata": {},
   "outputs": [],
   "source": [
    "PDF    ...integral ... CDF   ∫-∞^y p(y)dy = Fy"
   ]
  },
  {
   "cell_type": "code",
   "execution_count": null,
   "id": "1c6826f3-d882-4c82-b27a-665683a591e0",
   "metadata": {},
   "outputs": [],
   "source": [
    "PDF    ...Derivatives ..CDF  p(y) = Fy d /dy"
   ]
  },
  {
   "cell_type": "markdown",
   "id": "d4829e10-6335-430e-b464-118fc0123a54",
   "metadata": {},
   "source": [
    "Often times when dealing with continuous variables we are only given there probability density (PDF).\n",
    "To understand how its graph looks like, we should be able to compute the expected value E(y) = ? and variance , Var(y) = ? for any PDf."
   ]
  },
  {
   "cell_type": "code",
   "execution_count": null,
   "id": "91c90b2b-600b-4d18-92d0-3d8bd9519e05",
   "metadata": {},
   "outputs": [],
   "source": [
    "Lets look at the expected values E(y), \n",
    "the probability of each individual element y is equal to zero, P(y)= 0\n",
    "Hence , we cannot apply the summation formula we use for discrete outcomes."
   ]
  },
  {
   "cell_type": "markdown",
   "id": "83f519f0-938b-4892-9275-9a95e43a8fa7",
   "metadata": {},
   "source": [
    "When dealing with continuous distribution,the expected value is an integral\n",
    "E(y) = integral, most specifically ,it is an integral of the product of any element y and its associated pdf value, over the integral from negative infinity to positive infinity "
   ]
  },
  {
   "cell_type": "code",
   "execution_count": null,
   "id": "aedef7cc-4651-4beb-9e5a-57c2e1ff7662",
   "metadata": {},
   "outputs": [],
   "source": [
    "E(y) =  ∫-∞^∞ yp(y)dy "
   ]
  },
  {
   "cell_type": "code",
   "execution_count": null,
   "id": "003bf834-4b0a-4efc-8236-e97b57258aa2",
   "metadata": {},
   "outputs": [],
   "source": [
    "Variance (y)"
   ]
  },
  {
   "cell_type": "markdown",
   "id": "1cf47e22-c4e1-48c3-947a-f3d6da808ccc",
   "metadata": {},
   "source": [
    "We will still apply thesame variance formula we used earlier,for discrete distributions"
   ]
  },
  {
   "cell_type": "code",
   "execution_count": null,
   "id": "78558032-eeb3-4e45-b0cc-379252dca6cc",
   "metadata": {},
   "outputs": [],
   "source": [
    "Var(y) = E(y^2) - E(y)^2"
   ]
  },
  {
   "cell_type": "markdown",
   "id": "a06e7966-a68b-4517-b671-603773aa2a1f",
   "metadata": {},
   "source": [
    "This is a probability distribution in which the random variable X can take on any value.\n",
    "One thing to remember, since we are dealing with continuous outcomes,the probability distribution would be a curve as opposed to unconnected individual bars."
   ]
  },
  {
   "cell_type": "markdown",
   "id": "900b2396-eb30-4f06-be78-d29b7b9b570b",
   "metadata": {},
   "source": [
    "There are various types of Continuous Distribution\n",
    "\n",
    "i. Normal Distribution\n",
    "\n",
    "ii.Chi-squared Distribution\n",
    "\n",
    "iii. Exponential Distribution\n",
    "\n",
    "iv. Logistic Distribution"
   ]
  },
  {
   "cell_type": "markdown",
   "id": "9702206a-29e5-4f7a-b2fa-9743775589e0",
   "metadata": {},
   "source": [
    "### Normal Distributions"
   ]
  },
  {
   "cell_type": "markdown",
   "id": "ad62e00c-4152-4e1d-95b0-71790315e84e",
   "metadata": {},
   "source": [
    "We define a Normal Distribution using a capital letter N followed by the mean and variance of the distribution."
   ]
  },
  {
   "cell_type": "markdown",
   "id": "8e57af41-01e8-4ba1-bc21-0d6dd93dd4d5",
   "metadata": {},
   "source": [
    "N(μ ,σ2)"
   ]
  },
  {
   "cell_type": "markdown",
   "id": "25642a5f-48bc-4ba7-ba5d-6f9520751da3",
   "metadata": {},
   "source": [
    "We read the following notation as variable x follows a normal distribution with mean ( μ ) and variance sigma squared (σ2)"
   ]
  },
  {
   "cell_type": "markdown",
   "id": "5bf5a1fc-5ece-4703-b9d8-c2ea13ca5a30",
   "metadata": {},
   "source": [
    "X ~ N(μ,σ2)"
   ]
  },
  {
   "cell_type": "markdown",
   "id": "81ae54e3-73d6-409a-8bab-9b62ede14a2e",
   "metadata": {},
   "source": [
    "When dealing with actual data we usually know the actual numerical data for  μ and variance sigma squared (σ2)"
   ]
  },
  {
   "cell_type": "markdown",
   "id": "cca0772d-5400-4276-8ba0-d53fcddc72b8",
   "metadata": {},
   "source": [
    "The normal distribution frequency appears in nature as well as in life in various shapes and forms.\n",
    "\n",
    "For example, the size of a fully grown male lion follows a normal distribution, many records shows thata lion weighs between 150kg - 250kg or \n",
    "(330-550 bls)Pounds\n",
    "\n",
    "Thereexists specimens that falls outside of these range, however lions that weighs less than 150kg or more than 250 kg,tends to be the exceptions rather than the rule.\n",
    "\n",
    "Such individuals serves as outliers in our set and the more data we gather the lower part of the data they represent."
   ]
  },
  {
   "cell_type": "markdown",
   "id": "7d661bac-2e12-441f-8737-c5ebf16a4104",
   "metadata": {},
   "source": [
    "Distinct Characterics of a Normal Distribution"
   ]
  },
  {
   "cell_type": "markdown",
   "id": "53d3bf63-1e3c-4884-9384-1aa8c04e2f81",
   "metadata": {},
   "source": [
    "i. The graph of a normal distribution is bell- shaped, therefore the majority of the data iscentred around the mean,thus values farther away from the mean are less likely to occour\n",
    "\n",
    "ii.The graph of normal distribution is symmetric with recards to the mean. this suggests values equally far away in opposing directions will still be equally likely"
   ]
  },
  {
   "cell_type": "markdown",
   "id": "f696c040-4e93-4682-8aea-1fdc34b7b5f9",
   "metadata": {},
   "source": [
    "From the lon example, if the mean is 400 pounds ,symmetry suggests tha a lion is equally likely to weigh 350 pounds or 450 pounds.\n",
    "Since both have 50 pounds away from the mean"
   ]
  },
  {
   "cell_type": "markdown",
   "id": "45912d05-a812-487e-b64e-f184e391f414",
   "metadata": {},
   "source": [
    "Expected value of normal distribution "
   ]
  },
  {
   "cell_type": "markdown",
   "id": "631af345-7034-4a79-8d84-c243646ef2ec",
   "metadata": {},
   "source": [
    "The expected value of normal distribution equals its mean."
   ]
  },
  {
   "cell_type": "markdown",
   "id": "ed350035-3283-483f-b40b-53504197edb3",
   "metadata": {},
   "source": [
    "E(x) = μ"
   ]
  },
  {
   "cell_type": "markdown",
   "id": "35eb89fc-d655-4444-8e61-d5a42aaab892",
   "metadata": {},
   "source": [
    "variance of a normal distribution"
   ]
  },
  {
   "cell_type": "markdown",
   "id": "ab24c8a6-4a29-4330-8286-d93f7d34e075",
   "metadata": {},
   "source": [
    "The variance of a normal distribution is usually given when we define the distribution and even when it is not given we can deduce it from the expected value."
   ]
  },
  {
   "cell_type": "markdown",
   "id": "7805f639-1aea-439e-b5bf-08d86fd3f9da",
   "metadata": {},
   "source": [
    "Var(x) = σ2"
   ]
  },
  {
   "cell_type": "markdown",
   "id": "8c7bcc98-c406-403b-8492-aae148e58a41",
   "metadata": {},
   "source": [
    "Formula used to deduce the variance from the expected value.\n",
    "The variance of a variable is equal to the expected value of the squared variable minus the  squared Expected value of the variable."
   ]
  },
  {
   "cell_type": "markdown",
   "id": "81f76c5f-ef2b-493f-b645-0d550ef23761",
   "metadata": {},
   "source": [
    "Var(x) = E(x2) - E(x)2"
   ]
  },
  {
   "cell_type": "markdown",
   "id": "0399755d-31d1-4bcc-9e6d-d06464eecd14",
   "metadata": {},
   "source": [
    "Another peculiarity of the normal distribution is the 68.95, 99.7 law"
   ]
  },
  {
   "cell_type": "markdown",
   "id": "043f2418-40fc-4bce-8cbb-984fdd935b08",
   "metadata": {},
   "source": [
    "This law suggests that  for any normally distributed event,68% of all outcomes falls within one standard deviation away from the mean.\n",
    "95% falls within 2 standard deviations and 99.7 falls within 3 standard deviations"
   ]
  },
  {
   "cell_type": "markdown",
   "id": "d58e7ce3-1c12-4609-932c-ffb86c836b77",
   "metadata": {},
   "source": [
    "Outliers are extremely rare in normal distribution"
   ]
  },
  {
   "cell_type": "markdown",
   "id": "2a6784ad-e947-4947-81c1-a5169b82db90",
   "metadata": {},
   "source": [
    "It also suggests how much we know of our data if we only have the set that is normally distributed (Elegant Statistics)"
   ]
  },
  {
   "cell_type": "markdown",
   "id": "f2fa01c1-b45d-454c-a2aa-8cc84386cd26",
   "metadata": {},
   "source": [
    "In a normal distribution, data is symmetrically distributed with no skew. When plotted on a graph, the data follows a bell shape.\n",
    "Normal distribution, also known as the Gaussian distribution, is a probability distribution that is symmetric about the mean. \n",
    "\n",
    "The outcomes of many events in nature closely represents this distribution. Hence the name normal.\n",
    "For instance ,according to numerous reports through out the last two decades, the weight of an adult male polar bear is usually 500kg. however, there has been record of individual pieces weighing between 350kg - 700kg. Exteme values like 350kg  and 700kg are called outliers and do not feature very frequently in normal distributions.\n",
    "\n",
    "Sometimes we have limited Data for events that resemble a normal distribution in those cases we us the Students's T- Distribution, it serves as a small sample approximation for a normal distribution.\n",
    "moreso, the Student's T accommodate extreme values significantly better.\n",
    "Graphically it is represented by the curves having Fatter tails and overall, this results in a larger number of values located far away from the mean so the curve will probably look more like a student's T distribution than normal Distribution"
   ]
  },
  {
   "cell_type": "markdown",
   "id": "51389fc7-f16d-4ee1-8d23-6063ac4107bd",
   "metadata": {},
   "source": [
    "Imagine looking at a recorded weight of the last 10 sightings across Alaska and Canada\n",
    "the lower number of elements will make the occurance of any extreme value represent a much bigger part of the population than it should."
   ]
  },
  {
   "cell_type": "markdown",
   "id": "4c7796b2-9d28-4552-b27e-1c285a14c683",
   "metadata": {
    "tags": []
   },
   "source": [
    "#### Standardizing Normal Distribution"
   ]
  },
  {
   "cell_type": "markdown",
   "id": "29358813-63bd-4c57-99aa-84004406d801",
   "metadata": {},
   "source": [
    "To understand what standadizing is , we need to understand what a transformation is,\n",
    "A Transformation is a way in which we can alter every element of a distribution to get a new distribution with similar characteristics.\n",
    "\n",
    "For normal distribution, (X ~ N(μ,σ2))we can use multiplication, addition, subtraction or division without changing the type of distribution.\n",
    "\n",
    "For instance, if we add a constant to every element of a normal distribution,(X ~ N(μ1,σ1^2).\n",
    "Then the new distribution will still be normal,\n",
    "X+3 ~ N(μ2,σ2^2)"
   ]
  },
  {
   "cell_type": "markdown",
   "id": "40e61611-a697-4d6f-8dd9-ef5b9cf006d7",
   "metadata": {},
   "source": [
    "Let's discuss the full algebraic function and see how each one of them affects the graph.\n",
    "if we add a function like 3 to the entire distribution, then we simply need to move the graph, three places to the right."
   ]
  },
  {
   "cell_type": "code",
   "execution_count": null,
   "id": "c4d6a5ce-32bb-4206-81cd-c2f56c8e404e",
   "metadata": {},
   "outputs": [],
   "source": [
    "y = f(x) \n",
    "y = f(x+3)"
   ]
  },
  {
   "cell_type": "markdown",
   "id": "3cfdb966-8699-4e94-8e78-8994c63c9143",
   "metadata": {},
   "source": [
    "Similarly if we substract a number from every element,we wil simply move our graph to the left to get the new one."
   ]
  },
  {
   "cell_type": "code",
   "execution_count": null,
   "id": "a75dcab6-3d6a-4bd9-ad2f-40ed7c5ed6b6",
   "metadata": {},
   "outputs": [],
   "source": [
    "y = f(x-3)"
   ]
  },
  {
   "cell_type": "code",
   "execution_count": null,
   "id": "e6ea4fc5-88d9-4918-8bbe-cc219399bbf1",
   "metadata": {},
   "outputs": [],
   "source": [
    "If we multiply the function by a constant, it will shrink that many times"
   ]
  },
  {
   "cell_type": "code",
   "execution_count": null,
   "id": "df76b5ba-ecc9-4be4-8471-eca88a70f6bf",
   "metadata": {},
   "outputs": [],
   "source": [
    "y = f(x.c)"
   ]
  },
  {
   "cell_type": "code",
   "execution_count": null,
   "id": "2cdbcb7e-dc30-4780-b26d-34107be1fadb",
   "metadata": {},
   "outputs": [],
   "source": [
    "And if we divide every element by a number, the graph expands"
   ]
  },
  {
   "cell_type": "code",
   "execution_count": null,
   "id": "9ecacaa8-6a88-413c-b6be-72abf5df0bd8",
   "metadata": {},
   "outputs": [],
   "source": [
    "y = f(x/c)"
   ]
  },
  {
   "cell_type": "code",
   "execution_count": null,
   "id": "33f13ede-bda1-4cc8-96fc-005d2cda8700",
   "metadata": {},
   "outputs": [],
   "source": [
    "However, if we multiply or divide by a number between 0 and 1"
   ]
  },
  {
   "cell_type": "code",
   "execution_count": null,
   "id": "a13b85d6-9996-43c7-a4eb-b1175101af77",
   "metadata": {},
   "outputs": [],
   "source": [
    "If 1 > c > 0"
   ]
  },
  {
   "cell_type": "code",
   "execution_count": null,
   "id": "daeb0691-9fbf-4b60-9d9b-ca17459efd2b",
   "metadata": {},
   "outputs": [],
   "source": [
    "The opposing effect will occur"
   ]
  },
  {
   "cell_type": "markdown",
   "id": "ef5f1860-ac72-4574-95cc-cfb7834bf3e3",
   "metadata": {},
   "source": [
    "For example ,dividing by a half is same as multiplying by 2, so the graph will shrink even though we are dividing."
   ]
  },
  {
   "cell_type": "code",
   "execution_count": null,
   "id": "f281d971-4401-4d1d-8516-3fdb93b644f4",
   "metadata": {},
   "outputs": [],
   "source": [
    "x/1/2 = 2"
   ]
  },
  {
   "cell_type": "code",
   "execution_count": null,
   "id": "ac615f25-9350-4b31-b53d-2c839f69c887",
   "metadata": {},
   "outputs": [],
   "source": [
    "Standardizing"
   ]
  },
  {
   "cell_type": "markdown",
   "id": "3d8509e1-14d9-4103-a1a0-b73e023c6d82",
   "metadata": {},
   "source": [
    "This is a special kind of transformation in which we make the expected value equal to zero and the variance equal to one."
   ]
  },
  {
   "cell_type": "markdown",
   "id": "10da5e69-190e-4fe2-a72f-6662a1ae5cdf",
   "metadata": {},
   "source": [
    "E(X)=0"
   ]
  },
  {
   "cell_type": "code",
   "execution_count": null,
   "id": "2b02771f-4748-40c9-8066-4bf5b6d2e544",
   "metadata": {},
   "outputs": [],
   "source": [
    "Var(X) = 1"
   ]
  },
  {
   "cell_type": "markdown",
   "id": "72dfed79-d0a4-4b89-a1ce-b6305bef8431",
   "metadata": {},
   "source": [
    "The distribution we get after standardizing any normal distribution is called a \"Standard Normal Distribution\""
   ]
  },
  {
   "cell_type": "markdown",
   "id": "b987dd47-341f-4b35-b624-7e31838acab2",
   "metadata": {},
   "source": [
    "In addition to the 65, 95 and 99.7% rule, a table exists which summarizes the most commonly used values for the CDF table of a standard normal distribution.\n",
    "\n",
    "This table is known as the standard normal distribution table or the (Z-score table)."
   ]
  },
  {
   "cell_type": "markdown",
   "id": "0c69312d-e99b-4344-95bb-2328449cc901",
   "metadata": {},
   "source": [
    "How do we standardize ?"
   ]
  },
  {
   "cell_type": "markdown",
   "id": "bf8ac78c-e750-4671-aca2-632d4a31c675",
   "metadata": {},
   "source": [
    "If we wish to move the graph to the left or to the right until its mean is equal to zero.\n",
    "\n",
    "The way we will do that is by substracting the mean from every element."
   ]
  },
  {
   "cell_type": "code",
   "execution_count": null,
   "id": "ed16999b-7374-4bd9-8cfc-4ce7755bea73",
   "metadata": {},
   "outputs": [],
   "source": [
    "μ = 0\n",
    "y = f(x -μ)"
   ]
  },
  {
   "cell_type": "markdown",
   "id": "59055dce-8cc9-4bf3-a100-6bda96482d4e",
   "metadata": {},
   "source": [
    "after this, to make sure that the standardization is complete we need to make the standard deviation 1. (σ = 1)"
   ]
  },
  {
   "cell_type": "markdown",
   "id": "ef46b770-d73f-456a-921b-f758fd4e757e",
   "metadata": {},
   "source": [
    "To do so, we will have to divide every element of the newly obtained distribution by th value of the standard deviation."
   ]
  },
  {
   "cell_type": "code",
   "execution_count": null,
   "id": "da5850fc-9932-4bde-a94c-672cc908c212",
   "metadata": {},
   "outputs": [],
   "source": [
    "y = f(x- μ / σ)"
   ]
  },
  {
   "cell_type": "code",
   "execution_count": null,
   "id": "b88e94ee-3f73-44b8-a922-b4ae742e7eeb",
   "metadata": {},
   "outputs": [],
   "source": [
    "Notation"
   ]
  },
  {
   "cell_type": "markdown",
   "id": "2e351336-6354-4988-9de6-1eb08e7e4f62",
   "metadata": {},
   "source": [
    "If we denote the standard Normal distribution with Z ~ N(0,1), then for any normally distributed variable Y, Z equals to y-mean /sigma\n",
    "as can be seen below."
   ]
  },
  {
   "cell_type": "code",
   "execution_count": null,
   "id": "aa487cd0-736f-4740-802c-607f5f66549f",
   "metadata": {},
   "outputs": [],
   "source": [
    "Z ~ N(0,1)  = Z = y-μ / σ)\n",
    "Y~ N(μ , σ2)"
   ]
  },
  {
   "cell_type": "code",
   "execution_count": null,
   "id": "48e75775-a8d7-4e64-89d6-32ee7c4c5546",
   "metadata": {},
   "outputs": [],
   "source": [
    "This equation expresses the Transformation we use when standardizing."
   ]
  },
  {
   "cell_type": "code",
   "execution_count": null,
   "id": "f68d53f9-ff7b-4efd-a38f-e2a521981b54",
   "metadata": {},
   "outputs": [],
   "source": [
    "From normal to standard normal"
   ]
  },
  {
   "cell_type": "markdown",
   "id": "3f8f96f2-021b-4afc-a4a9-0980b2f46ab0",
   "metadata": {},
   "source": [
    "Applying a single Transformation for any normal distribution will result in a standard normal disribution, which is convenient."
   ]
  },
  {
   "cell_type": "code",
   "execution_count": null,
   "id": "fc5fd56b-6d5e-4d88-b293-121d076110b1",
   "metadata": {},
   "outputs": [],
   "source": [
    "Z = y -μ / σ)   -    Y -   Z"
   ]
  },
  {
   "cell_type": "markdown",
   "id": "7142ccb3-768c-41de-8efe-0f61c6d20477",
   "metadata": {},
   "source": [
    "Essentially ,every element of the non standardized distribution is represented in a new distribution by the number of standard deviation it is away from the mean."
   ]
  },
  {
   "cell_type": "markdown",
   "id": "cc1875f5-e76b-45d5-b6d8-eadef53c2a21",
   "metadata": {},
   "source": [
    "For instance, if a value Y is 2.3 standard deviation away form the mean, its equivalent value Z will be equal to to 2.3"
   ]
  },
  {
   "cell_type": "markdown",
   "id": "48505efb-47e5-4695-8822-a24bfa1a827f",
   "metadata": {},
   "source": [
    " Y =μ /2.3 σ) - Z=2.3"
   ]
  },
  {
   "cell_type": "markdown",
   "id": "8d71a03f-088c-4877-a59f-2ebe81796aa2",
   "metadata": {},
   "source": [
    "Standardizing is incredibly useful when we have a Normal Distribution.\n",
    "However, we cannot always anticipate that data is spread out that way."
   ]
  },
  {
   "cell_type": "markdown",
   "id": "be8ba8b5-825a-41b3-ac0f-080a35e9023e",
   "metadata": {},
   "source": [
    "A crucial fact to remember about normal Distribution , is tha it requires alot of data.\n",
    "\n",
    "If our samples are limited we run a risk of outliers drastically afecting our analysis."
   ]
  },
  {
   "cell_type": "markdown",
   "id": "9a9c3ddd-b7ce-476c-b2d4-8dd5c65fff59",
   "metadata": {},
   "source": [
    "in cases we we have less than 30 enteries , we usually avoid assuming a normal distribution."
   ]
  },
  {
   "cell_type": "markdown",
   "id": "702b6d7a-3e08-4328-b8b4-e29f22a17415",
   "metadata": {},
   "source": [
    "#### Student's T Distribution"
   ]
  },
  {
   "cell_type": "markdown",
   "id": "fcca6216-507a-4cbe-bf49-4fca7f323ecf",
   "metadata": {},
   "source": [
    "Students T Distribution is a small sample size approximation of a Normal Distribution"
   ]
  },
  {
   "cell_type": "code",
   "execution_count": null,
   "id": "e596a237-63b8-498e-8646-348e1100d68c",
   "metadata": {},
   "outputs": [],
   "source": [
    "instances where you will assume a normal distributiona students T distribution"
   ]
  },
  {
   "cell_type": "code",
   "execution_count": null,
   "id": "69bd0f8a-6566-4818-ab0f-552db9543ff7",
   "metadata": {},
   "outputs": [],
   "source": [
    "Certain statistics + sufficient data = Normal Distribution\n",
    "\n",
    "Certain statistics + insufficient data = Students T distribution"
   ]
  },
  {
   "cell_type": "markdown",
   "id": "f9804269-ffea-4341-a9e2-a2a9908afe33",
   "metadata": {},
   "source": [
    "We use a lower case letter t, to denote a students T distribution followed by a single parameter in parentesis called students's T distribution.\n",
    "we read this statement as variable Y follows a Students T distribution with 3 degrees of freedom"
   ]
  },
  {
   "cell_type": "code",
   "execution_count": null,
   "id": "f3cba62c-4356-411f-892c-b80786b57894",
   "metadata": {},
   "outputs": [],
   "source": [
    "t(k)\n",
    "\n",
    "Y~ t(3)"
   ]
  },
  {
   "cell_type": "code",
   "execution_count": null,
   "id": "fe9be36e-f524-4623-9fb2-aa36d8df0850",
   "metadata": {},
   "outputs": [],
   "source": [
    "Normal Vs Students T -Distribution"
   ]
  },
  {
   "cell_type": "markdown",
   "id": "b2b8fd08-9170-4587-8e0a-24c2c9376abc",
   "metadata": {},
   "source": [
    "For instance , the average lap time for the entire season of the Formula 1 race follows a normal distribution\n",
    "\n",
    "But the lap time for the first lap of the monicle GP  3 will follow a students t -distribution"
   ]
  },
  {
   "cell_type": "markdown",
   "id": "4279431b-f486-48b8-8f9b-b879107099d2",
   "metadata": {},
   "source": [
    "The graph of the students T-Distribution is also bell -shaped and symmetric\n",
    "However , it has fatter tails to accommodate the occurance of values far away from the mean"
   ]
  },
  {
   "cell_type": "markdown",
   "id": "de16d8b2-5845-40e1-8095-b80cf28e59dc",
   "metadata": {},
   "source": [
    "That is because if such a value features in our limited data, it will be representing a bigger part of our total "
   ]
  },
  {
   "cell_type": "markdown",
   "id": "adc2fbd3-886b-40fc-bd1b-8459d6006d77",
   "metadata": {},
   "source": [
    "Another key difference between the Students T-distribution and the normal Distribution is that apart from the Mean and Variance, we must also define the degree of freedom(K) for the distribution."
   ]
  },
  {
   "cell_type": "markdown",
   "id": "270ea4c6-4a68-47fe-af9f-ab978255e66a",
   "metadata": {},
   "source": [
    "As long as we have atleast 2 degrees of freedom,(If K>2), the expected value of the T distribution is the mean,(E(Y) = μ "
   ]
  },
  {
   "cell_type": "markdown",
   "id": "52849ba2-d270-40c7-945d-a05595dd53fe",
   "metadata": {},
   "source": [
    "Further more, thevariance of the distribution is equal to the variance of the sample multiplied by the number of degrees of freedom over degrees of freedom minus 2."
   ]
  },
  {
   "cell_type": "code",
   "execution_count": null,
   "id": "66c47a1b-fd82-4fb5-8516-2c1bc7117c43",
   "metadata": {},
   "outputs": [],
   "source": [
    "var(y) = S^2.K /K-2"
   ]
  },
  {
   "cell_type": "markdown",
   "id": "d3a0f9ca-26fc-4e43-88a0-dacbd47567bd",
   "metadata": {},
   "source": [
    "Overall, the students T- Distribution is usually used when conducting statistical analysis."
   ]
  },
  {
   "cell_type": "markdown",
   "id": "80253985-e6bf-4e4e-8f53-f8847ed0a778",
   "metadata": {},
   "source": [
    "It places a major role when we want to do hypothesis testing with limited data"
   ]
  },
  {
   "cell_type": "markdown",
   "id": "a6811a95-f325-4934-8a2a-e3bfe258306f",
   "metadata": {},
   "source": [
    "Since we also have a table summarizing the most important value of its CDF( T-table)."
   ]
  },
  {
   "cell_type": "markdown",
   "id": "317ebd0b-6f63-4ad5-a1d8-6629725ba2d7",
   "metadata": {},
   "source": [
    "#### Chi-Squared Distribution"
   ]
  },
  {
   "cell_type": "markdown",
   "id": "6f7b54ed-37e0-4b1e-b1a9-afbf28aa50d7",
   "metadata": {},
   "source": [
    "Chi-Squared Distribution"
   ]
  },
  {
   "cell_type": "markdown",
   "id": "eabab08b-2340-4100-8e2f-8f632e608435",
   "metadata": {},
   "source": [
    "The chi-square distribution is a continuous distribution that is specified by the degrees of freedom and the noncentrality parameter. The distribution is positively skewed, but skewness decreases with more degrees of freedom."
   ]
  },
  {
   "cell_type": "markdown",
   "id": "3d4d06f7-0e5f-4ea1-beb1-431d6fdc4bb6",
   "metadata": {},
   "source": [
    "The chi-square ( ) distribution is obtained from the values of the ratio of the sample variance and population variance multiplied by the degrees of freedom."
   ]
  },
  {
   "cell_type": "markdown",
   "id": "09d61913-cdb3-47eb-a016-8932ff655924",
   "metadata": {},
   "source": [
    "It is the first Asymmetric continuous distribution we are dealing with as it only consists of non- negative value.\n",
    "Graphically it means that the chi-square distribution always starts with zero on the left depending on the avearage and maximum values within the set, the curve of the Chi - Squared graph is typically skewed to the left.\n",
    "Unlike the previous Student's T distributuin, the Chi -Squared does not often mirror real life events.\n",
    "It is often used in Hypothesis Testing to help determine goodness of fit"
   ]
  },
  {
   "cell_type": "markdown",
   "id": "9530ce6a-f0ec-4fa9-8a6c-8bc4a6466bc5",
   "metadata": {},
   "source": [
    "We denote the Chi -squared distribution as the capital greek letter (X2) followed by a parameter( K), within the degrees of freedom"
   ]
  },
  {
   "cell_type": "markdown",
   "id": "95f7f1fd-7106-4c38-8abc-91734d8a48cf",
   "metadata": {},
   "source": [
    "We read the following as variable Y follows a chi -Squared distribution with 3 degrees of freedom."
   ]
  },
  {
   "cell_type": "code",
   "execution_count": null,
   "id": "972301eb-be68-4333-9fd8-6466cc724b01",
   "metadata": {},
   "outputs": [],
   "source": [
    "X^2(K)\n",
    "\n",
    "interpreted as\n",
    "\n",
    "Y ~ X^2(3)"
   ]
  },
  {
   "cell_type": "markdown",
   "id": "9ae33a32-e269-41f3-8130-41fba708cd2d",
   "metadata": {},
   "source": [
    "Application"
   ]
  },
  {
   "cell_type": "code",
   "execution_count": null,
   "id": "1c979c5c-940f-478b-a194-8705c21cc749",
   "metadata": {},
   "outputs": [],
   "source": [
    "Very few events in real life follow such a distribution"
   ]
  },
  {
   "cell_type": "markdown",
   "id": "15e5e139-2087-4e28-8fc2-3fe2144f5c70",
   "metadata": {},
   "source": [
    "Chi -Squared is mostly featured in:\n",
    "\n",
    "i.Statistical Analysis\n",
    "\n",
    "ii. Hypothesis Testing\n",
    "\n",
    "iii.Computing Confidence Intervals\n",
    "\n",
    "iV. Goodness of Fit : majorly found when doing the goodness of fit of categorical values."
   ]
  },
  {
   "cell_type": "code",
   "execution_count": null,
   "id": "1fa30328-fe6d-4893-92e2-dbd0fdf4c138",
   "metadata": {},
   "outputs": [],
   "source": [
    "Graph of the Chi -Squared Distribution"
   ]
  },
  {
   "cell_type": "markdown",
   "id": "6727c1ce-777a-49a1-95f8-87f40fc03bdb",
   "metadata": {},
   "source": [
    "i.The graph is Asymmetric.\n",
    "\n",
    "ii.It is highly skewed to the left.\n",
    "\n",
    "iii.The values depicted from the x- axis starts from 0 rather than a negative number."
   ]
  },
  {
   "cell_type": "markdown",
   "id": "2499827c-77ab-472e-887f-0b404b9a0548",
   "metadata": {},
   "source": [
    "This shows us yet another transformation, elevating the students T distribution to the second power gives us the chi squared and vice versa."
   ]
  },
  {
   "cell_type": "code",
   "execution_count": null,
   "id": "f3648203-5570-4e3e-996d-0cafa33f18de",
   "metadata": {},
   "outputs": [],
   "source": [
    "Y~t(K)\n",
    "\n",
    "Y^2 ~ X^2(K)"
   ]
  },
  {
   "cell_type": "code",
   "execution_count": null,
   "id": "94ccd3dd-b70d-43da-94c0-f2dbc5fded34",
   "metadata": {},
   "outputs": [],
   "source": [
    "Finding the square root of the chi squared distribution gives us the students T"
   ]
  },
  {
   "cell_type": "code",
   "execution_count": null,
   "id": "a1f67742-0cc9-4c1d-8aba-90973b0c1100",
   "metadata": {},
   "outputs": [],
   "source": [
    "X~X^2(K)\n",
    "\n",
    "√X ~ t(K)"
   ]
  },
  {
   "cell_type": "code",
   "execution_count": null,
   "id": "204110d8-7daf-4698-95c8-34fe81b74c54",
   "metadata": {},
   "outputs": [],
   "source": [
    "Convenience feature of the Chi-Squared distribution"
   ]
  },
  {
   "cell_type": "markdown",
   "id": "5a2a023d-961c-4390-a711-38d8c1594266",
   "metadata": {},
   "source": [
    "It contains a table of known values: just like the Normal or Students T distribution."
   ]
  },
  {
   "cell_type": "markdown",
   "id": "587b6cac-14f6-4747-adf9-7540edd20230",
   "metadata": {},
   "source": [
    "The Expected Value E(X) of any chi-squared distribution is equal to its associated degrees of freedom.(K) E(X) = K"
   ]
  },
  {
   "cell_type": "code",
   "execution_count": null,
   "id": "4ffc8897-6697-48cb-9791-09435d7963d1",
   "metadata": {},
   "outputs": [],
   "source": [
    "Its variance is twice its degree of freedom\n",
    "Var(X) = 2K"
   ]
  },
  {
   "cell_type": "markdown",
   "id": "e9095c4f-2eee-4beb-b894-d0c55799a6cd",
   "metadata": {
    "tags": []
   },
   "source": [
    "#### Exponential Distribution"
   ]
  },
  {
   "cell_type": "markdown",
   "id": "09d8feef-ff8a-4a39-85b0-8f96bfd2e0e0",
   "metadata": {},
   "source": [
    "The exponential distribution is one of the widely used continuous distributions. It is often used to model the time elapsed between events.\n",
    "EX2: =∫∞0x2λe−λxdx"
   ]
  },
  {
   "cell_type": "markdown",
   "id": "b7f2bc03-9109-440c-a488-52aff5cd8c10",
   "metadata": {},
   "source": [
    "The exponential distribution is a continuous distribution that is commonly used to measure the expected time for an event to occur.\n",
    "It is also called the negative exponential distribution and is a probability distribution that describes time between events in a Poisson distribuion."
   ]
  },
  {
   "cell_type": "markdown",
   "id": "abea43cd-2eca-415d-a809-9a7c1ddfdbec",
   "metadata": {},
   "source": [
    "They are usually present when we are dealing with events that are rapidly changing early on.\n",
    "Example is how on line news headlines use to generate hits, they get most of their clicks when te story is still fresh,the more time passes the more irrelevant it becomes and interest dies off."
   ]
  },
  {
   "cell_type": "markdown",
   "id": "b75d2554-94b8-4a2d-90c3-d13fea66329a",
   "metadata": {},
   "source": [
    "Exponential distribution is described with the abbreviaion EXP(λ)\n",
    "\n",
    "We read the above statement as variable X follows an exponential distribution with the scale of a half.\n",
    "\n",
    "X ~ EXP(1/2)"
   ]
  },
  {
   "cell_type": "markdown",
   "id": "2bf68992-eb7a-4e56-a0ea-f3aa6a12ef10",
   "metadata": {},
   "source": [
    "Variables that most closely follow an exponential distribution are once  that the probabilities initially decreases and eventually plateauing."
   ]
  },
  {
   "cell_type": "markdown",
   "id": "ab390462-3a12-4bab-a3e9-a6b8870abfd1",
   "metadata": {},
   "source": [
    "Example is the number of views for a youtube plug, there is a great intreset upon release so it starts off with many viewers per day ,after most subscibers have got to see the video, the view count slows down \n",
    "\n",
    "Even though the aggregate amount of viewers keeps increasing\n",
    "The number of new ones keep diminishing\n",
    "As time goes on, the video either becomes outdated or the other produces new content, hence viewership focus shifts away.\n",
    "\n",
    "Therefore it is more likely for a rondom viewing to have occured close to the videos initial release than in any of the following periods."
   ]
  },
  {
   "cell_type": "markdown",
   "id": "cda58d66-75aa-4ab1-bbb3-004a9e6ad403",
   "metadata": {},
   "source": [
    "Graphically the PDF of such a function will start off very high and shortly decrease\n",
    "Within the first few time frames . the curve somehow resembles a bomarang with each handle rounding up with x and y axis"
   ]
  },
  {
   "cell_type": "markdown",
   "id": "65f34e73-9c95-4a05-9cb3-5a7a0744c98e",
   "metadata": {},
   "source": [
    "We know what the PDF will look like but what about the CDF,in a weird way, the CDf will also resemble a bomarang,however this will only shift it 90 degrees to the right."
   ]
  },
  {
   "cell_type": "markdown",
   "id": "13c11518-c385-4de5-8ed6-e6d95ed253ee",
   "metadata": {},
   "source": [
    "As you know the cumulative distribution eventually produces 1,so that will be the value where it plateus"
   ]
  },
  {
   "cell_type": "markdown",
   "id": "b98b56ac-61a9-4f4c-a2ab-875f4dd9e10a",
   "metadata": {},
   "source": [
    "To define exponential distribution, we equire a Rate parameter denoted by the greek letter  λ ."
   ]
  },
  {
   "cell_type": "markdown",
   "id": "11db4318-ecf7-4ec8-92fc-747f7b373293",
   "metadata": {},
   "source": [
    "Rate parameter -  λ\n",
    "\n",
    "This parameter determines how far the CDF/PDF curve reaches the point of plateauing and how spread out the graph is."
   ]
  },
  {
   "cell_type": "code",
   "execution_count": null,
   "id": "e27ee588-f3db-42e1-b48c-c02f1567f73f",
   "metadata": {},
   "outputs": [],
   "source": [
    "Expected Value E(X) and Variance Var(Y)"
   ]
  },
  {
   "cell_type": "code",
   "execution_count": null,
   "id": "f4e405a0-26c2-4800-9c96-46de6a7c0e90",
   "metadata": {},
   "outputs": [],
   "source": [
    "The expected value is \n",
    "E(Y) = 1/ λ"
   ]
  },
  {
   "cell_type": "markdown",
   "id": "d4434424-825a-4951-9788-337da73e377b",
   "metadata": {},
   "source": [
    "The variance is \n",
    "Var(Y) = 1 λ^2  (1 over lambda squared)"
   ]
  },
  {
   "cell_type": "markdown",
   "id": "88fd1bf7-9790-47cc-a816-04a04b6c8bce",
   "metadata": {},
   "source": [
    "In detailed analysis, we end up using exponential distribution quite often.\n",
    "\n",
    "However, unlike the Normal(N) or Chi-squared distribution(X2), we do not have a table for known variables for it.\n",
    "That is why sometimes we decide to tranform it"
   ]
  },
  {
   "cell_type": "markdown",
   "id": "14830d19-331a-4de3-8bc3-4c2100de8b8e",
   "metadata": {},
   "source": [
    "Generally ,we can take the natural algorithm of every set of an exponential distribution and get a Normal Distribution."
   ]
  },
  {
   "cell_type": "code",
   "execution_count": null,
   "id": "5ad1837c-14ae-4f07-9ed1-483db1e1408d",
   "metadata": {},
   "outputs": [],
   "source": [
    "Y ~ Exp( λ)\n",
    "               = X ~ N(μ,σ2) Normal distribution\n",
    "X = In (Y)."
   ]
  },
  {
   "cell_type": "code",
   "execution_count": null,
   "id": "1a87c2b5-49a5-4f6b-99ae-55e71990f099",
   "metadata": {},
   "outputs": [],
   "source": [
    "In statistics,we can use this new transformed data to run linear regressions."
   ]
  },
  {
   "cell_type": "code",
   "execution_count": null,
   "id": "02f4b155-7f50-401a-967c-7e3011ad7d54",
   "metadata": {},
   "outputs": [],
   "source": [
    "This is one of the most common transformations"
   ]
  },
  {
   "cell_type": "markdown",
   "id": "fbf8e304-a2e5-4b8e-aad8-1fa7d14f8b3b",
   "metadata": {},
   "source": [
    "#### Logistic Distribution"
   ]
  },
  {
   "cell_type": "markdown",
   "id": "c4a9df98-5030-4d43-b7c0-04632d9393e4",
   "metadata": {},
   "source": [
    "Logistic Distribution"
   ]
  },
  {
   "cell_type": "markdown",
   "id": "81fc1a9e-4e36-4468-baec-3f3edd25aaa4",
   "metadata": {},
   "source": [
    "The logistic distribution is a continous probability distribution. It has two parameters - location and scale.it is the limiting distribution of the average of largest and smallest values of random samples of size n"
   ]
  },
  {
   "cell_type": "markdown",
   "id": "a897753a-e4e9-4acb-b97e-6ffa91e9d47f",
   "metadata": {},
   "source": [
    "The logistic distribution is used for various growth models, and is used in a certain type of regression, known appropriately as logistic regression .\n"
   ]
  },
  {
   "cell_type": "markdown",
   "id": "844507b4-77d5-43af-bec8-973f2f27bc59",
   "metadata": {},
   "source": [
    "This is often found useful in forecast analysis and also useful in determing a cut-off point for a successful outcome."
   ]
  },
  {
   "cell_type": "markdown",
   "id": "85e35af3-48f8-46f3-afd5-930392b2cb12",
   "metadata": {},
   "source": [
    "We denote it with the entire word Logistic and its parameters , mean and scale parameters (S), we also refer the mean parameter as the location and we also use the term interchangeably."
   ]
  },
  {
   "cell_type": "markdown",
   "id": "e73980bb-4cd5-494f-bb1f-a65d99d09dd4",
   "metadata": {},
   "source": [
    "We read the statement below as variable Y follows a logistic distribution with location 6 and a scale of 3"
   ]
  },
  {
   "cell_type": "code",
   "execution_count": null,
   "id": "d2c373da-f43f-4a91-b57e-37c602542e60",
   "metadata": {},
   "outputs": [],
   "source": [
    "Logistic(μ,S)\n",
    "interpreted as \n",
    "Y ~ Logistic (6,3)"
   ]
  },
  {
   "cell_type": "code",
   "execution_count": null,
   "id": "25a909ad-1d42-4f6e-907e-39ac834a5abf",
   "metadata": {},
   "outputs": [],
   "source": [
    "Application"
   ]
  },
  {
   "cell_type": "markdown",
   "id": "bb9d4bd4-55d4-4ffe-b086-dd7c0155a8eb",
   "metadata": {},
   "source": [
    "we often encounter logistic distribution when we try to determine how continuous variable input can affect the probability of a binary outcome,\n",
    "\n",
    "This approach is commonly found in forcasting competitive sports events where there exists two clear outcomes: victory or defeat"
   ]
  },
  {
   "cell_type": "markdown",
   "id": "de6fc671-b4fe-46f7-9410-6190c3667a88",
   "metadata": {},
   "source": [
    "For instance, we can analyze the average speed  a tennis player served plays a crucial role in the outcome of the match"
   ]
  },
  {
   "cell_type": "markdown",
   "id": "b45f7602-9b0c-47ee-acf5-f220e98207ab",
   "metadata": {},
   "source": [
    "Expectation dictates that sending the ball with higher velocity,leaves the opponent with a shorter period to respond.\n",
    "\n",
    "This usually results in a better hit which could lead to a point or the server."
   ]
  },
  {
   "cell_type": "markdown",
   "id": "abd72e5f-7233-49de-948a-4ebcf61683ca",
   "metadata": {},
   "source": [
    "In reality, to reach a higher speed , tennis players often gives up some control over the shot, hence are less accurate. "
   ]
  },
  {
   "cell_type": "markdown",
   "id": "c5fc5ead-d791-4b1f-b7eb-1e552758ba22",
   "metadata": {},
   "source": [
    "Therefore, we cannot assume that there is a linear relationship between point conversion and server's speed."
   ]
  },
  {
   "cell_type": "markdown",
   "id": "dc7c661f-495f-4425-8b7d-aa17be151b11",
   "metadata": {},
   "source": [
    "Theory suggets there exists some optimal speed which enables the server to still be accurate enough."
   ]
  },
  {
   "cell_type": "code",
   "execution_count": null,
   "id": "10506254-7f7a-4155-a782-9d9395bca204",
   "metadata": {},
   "outputs": [],
   "source": [
    "Most of the shots we convert into points will likely have similar velocities."
   ]
  },
  {
   "cell_type": "markdown",
   "id": "c3586180-d4d3-4971-8d66-a0701d00a0b1",
   "metadata": {},
   "source": [
    "As Tennis players go further away from optimal speed , their shots either becomes too slow and easy to handle or too inaccurate."
   ]
  },
  {
   "cell_type": "markdown",
   "id": "8cb0be86-fab9-4a24-b080-7435eca973e3",
   "metadata": {},
   "source": [
    "This suggests that the graph of the PdF of the Logistic distribution will look similarly to the normal distribution."
   ]
  },
  {
   "cell_type": "markdown",
   "id": "8a2bd858-fd7c-414e-ba9b-22e9e90fe25b",
   "metadata": {},
   "source": [
    "For instance, looking at a competitive E -sports like DOTA-2.\n",
    "How much of an in-game advantage is neccessary to predict victory.\n",
    "Just like other types of forecasting,\n",
    "Our prediction will never reach true certainty"
   ]
  },
  {
   "cell_type": "code",
   "execution_count": null,
   "id": "6760898f-c2d5-465a-a14b-dbc2b79c5e18",
   "metadata": {},
   "outputs": [],
   "source": [
    "Actually the graph of the Logistic Distribution is defined by two key features;\n",
    "i. Its mean\n",
    "ii. Its scale parameter"
   ]
  },
  {
   "cell_type": "markdown",
   "id": "cb2f20cf-1523-4ebc-beca-532a0b4b2bcc",
   "metadata": {},
   "source": [
    "The mean dictates the center of the graph and the scale paremeter shows how spread out the graph will be."
   ]
  },
  {
   "cell_type": "code",
   "execution_count": null,
   "id": "273f6e69-833f-459a-a4ba-d82fbfd13015",
   "metadata": {},
   "outputs": [],
   "source": [
    "In the Tennis example, the mean will represent the optimal speed.\n",
    "\n",
    "the scale will determine how lenient we can be with the hit"
   ]
  },
  {
   "cell_type": "markdown",
   "id": "e54f7071-9168-46ac-b4dd-6a53efd33d4f",
   "metadata": {},
   "source": [
    "to elaborate ,some Tennis players players can hit a great serve further away from the optimal speed than others"
   ]
  },
  {
   "cell_type": "markdown",
   "id": "b0723476-cd72-4486-81db-35dfe42e5e14",
   "metadata": {},
   "source": [
    "Serena williams gets a fantastic servs even if the ball moves faster or slower than it optimally should.\n",
    "\n",
    "Therefore, she is going to have a more spreed out PDF than some of her opponents."
   ]
  },
  {
   "cell_type": "code",
   "execution_count": null,
   "id": "b9837ee0-eab4-447d-9ed6-2573fba12fb4",
   "metadata": {},
   "outputs": [],
   "source": [
    "Cumulative Distribution Function (CDF)"
   ]
  },
  {
   "cell_type": "markdown",
   "id": "64c0a1d9-b6b6-4953-8a39-83b588544f2d",
   "metadata": {},
   "source": [
    "This is a curve that starts off slow and it picks up rather quickly before plateueing around the won line.\n",
    "\n",
    "This is because once we reach values near the mean the probability of concerting the points drastically goes up.\n",
    "\n",
    "Once again, the scale will dictate the shape of the graph, in this case the smaller the scale the later the graph tries to pick up but the quicker it reaches values close to 1."
   ]
  },
  {
   "cell_type": "markdown",
   "id": "743d2f17-9412-4a0f-ac41-0842e6d383c8",
   "metadata": {},
   "source": [
    "Expected Values and Variance"
   ]
  },
  {
   "cell_type": "markdown",
   "id": "c1f3bd25-cc8b-4e99-9962-d6e667d67f48",
   "metadata": {},
   "source": [
    "You can use expected values (E(Y) = μ to estimate the variance Var(Y) = ? of the distribution.\n",
    "\n",
    "To avoid confusing mathematical expression, you only need to know that it is equal to the square of the scale times pi squared over 3."
   ]
  },
  {
   "cell_type": "code",
   "execution_count": null,
   "id": "269fd117-3d2c-4562-b201-3d7d22fe6e46",
   "metadata": {},
   "outputs": [],
   "source": [
    "(E(Y) = μ "
   ]
  },
  {
   "cell_type": "code",
   "execution_count": null,
   "id": "69bebf09-d19d-4d87-85f7-554ca996e2e8",
   "metadata": {},
   "outputs": [],
   "source": [
    "( Var(Y) = S^2 π^2 /3"
   ]
  },
  {
   "cell_type": "markdown",
   "id": "15984b01-8c06-4094-801f-86201d549f32",
   "metadata": {},
   "source": [
    "#### Practical Examples - Distributions "
   ]
  },
  {
   "cell_type": "markdown",
   "id": "bdfd4c8b-2def-4c2d-945f-5f64f00235bb",
   "metadata": {},
   "source": [
    "We wlll be discussing several senarios where understanding where a dataset is distributed is truly beneficial.\n",
    "We will look at diferent data samples that follows Normal, student's T and a poisson distribution."
   ]
  },
  {
   "cell_type": "markdown",
   "id": "401f2523-3a73-41b0-83ef-cd8fb16df3f7",
   "metadata": {},
   "source": [
    "Furthermore,we will analyze instances of Exponential and Binomial data to help us appreciate the elegant statistics these distribution posses."
   ]
  },
  {
   "cell_type": "markdown",
   "id": "392dd5e8-c225-401c-a0bb-c2bc03999a71",
   "metadata": {},
   "source": [
    "Imagine you are working as a head project management manager for one of the renowned companies in the world's video game.(EA games) .\n",
    "\n",
    "The various responsibilities includes supervising the development and release of 2018 edition of the soccer game titled,'FIFA 19'.\n",
    "\n",
    "Above all else, you need to ensure that the game is well rounded and provides a genuinely and enjoyeable experience for all the customers.\n",
    "\n",
    "The game have competitive professional scenes so it needs to be balanced. \n",
    "By balance we mean that no team or individual should invariably be a preffered option,regardless of the opposition.\n",
    "\n",
    "Hence, we expect to have equal number of good players and poor players in the game."
   ]
  },
  {
   "cell_type": "markdown",
   "id": "e130239e-84a8-44cc-9762-11b04243c8f1",
   "metadata": {},
   "source": [
    "Lets see if that is the case,\n",
    "We are provided with access to a dataset containing the start for each individual player for FIFA 19 .\n",
    "\n",
    "You can use microsoft excel to open the FIFA 19 file accompanying this lecture."
   ]
  },
  {
   "cell_type": "markdown",
   "id": "8db180af-ff2d-48bd-9854-96af08dde384",
   "metadata": {},
   "source": [
    "We have the \"OVER ALL\" column,it represents the quality of a player in their natural position on a scale of 1 :100\n",
    "\n",
    "This value is a sort of weighted average of the many individual starts each player has.\n",
    "It is important to note the the difference of attributes varies with different positions on the field."
   ]
  },
  {
   "cell_type": "markdown",
   "id": "8edc8ec8-278c-4d34-97b0-af96759910dc",
   "metadata": {},
   "source": [
    "for instance, accerelation and top speed are more important to a winner than tackling, howevr ,the inverse is true for centre parts , thus we alter the weight for each start based on the position of the player"
   ]
  },
  {
   "cell_type": "markdown",
   "id": "8350ddf1-19e5-44fc-9eb9-2caa3dea6284",
   "metadata": {},
   "source": [
    "Therefore, we do not have a single formula that calculates the overall evaluation.\n",
    "\n",
    "to gain idea on how well the over all values are, we can construct a histogram and set the bin size to 1, we do so by selecting the \"over all\" column, then clicking on insert , then insert statistics chart, and selecting Histogram."
   ]
  },
  {
   "cell_type": "markdown",
   "id": "5c1bf5ae-7940-4c17-8b85-08bb5f5070f9",
   "metadata": {},
   "source": [
    "To adjust the size of the bin, right click on the x -axis of the graph and press 'Format Axis\" and set \"bin Width to 1"
   ]
  },
  {
   "cell_type": "markdown",
   "id": "88708912-d820-4b79-b7a9-888bfafb9434",
   "metadata": {},
   "source": [
    "The graph is bell shaped and resembles a normal distribution.\n",
    "But we are dealing with Discrete values , so how can the graph be a normal distribution?\n",
    "\n",
    "Although that may be true,\"Continuous variables can take Discrete values but not vice versa."
   ]
  },
  {
   "cell_type": "markdown",
   "id": "6e834a5d-3fad-4c32-a53b-beb6d1ce675e",
   "metadata": {},
   "source": [
    "Furthermore , since we are dealing with rounded averages, we are inclined to believe that the \"Over all\" values is not entireley discrete  but rather an \"approximation\" ( A discrete approximation of a weighted average)"
   ]
  },
  {
   "cell_type": "markdown",
   "id": "afa4291d-eccf-47ec-ba1e-986ac206397b",
   "metadata": {},
   "source": [
    "If we take a closer look at the graph, we will notice its thin tails, this suggests a smaller number of \"Outliers\"\n",
    "\n",
    "This reflects real life quite accurately since very few professional prayers are exceptionally good or bad at every single aspect of the sport.\n",
    "\n",
    "Besides, even the least skilled soccer professional players are far superior to the average person.\n",
    "\n",
    "This explains why the lowest \"over-all\" value starts at around 50 rather than 0."
   ]
  },
  {
   "cell_type": "code",
   "execution_count": null,
   "id": "d89ce5d4-b49f-4f30-a8fb-6901ebf29443",
   "metadata": {},
   "outputs": [],
   "source": [
    "The start should reflect the performance of players in the real world.\n",
    "\n",
    "Normal distribution is the most frequently observed in nature and it is rather logical that the data resembles this Distribution."
   ]
  },
  {
   "cell_type": "markdown",
   "id": "9ad2b043-9158-49af-8cf0-022fdee188d1",
   "metadata": {},
   "source": [
    "Moreover, the bell shep graph with thin tails further spports this idea.\n",
    "\n",
    "since the main characteristics of a normal distribution is Symmetry, the over all values are symmetrically distributed, hence , we can say we consider the games balanced and acceptaeable for a competiitve play"
   ]
  },
  {
   "cell_type": "code",
   "execution_count": null,
   "id": "b8626bb4-d84a-479a-9105-348abc150963",
   "metadata": {},
   "outputs": [],
   "source": [
    "It is also worth noting that the players within the single team or division share similar starts\n",
    "\n",
    "This skews the data a certain way and explains why we cannot expect the value to follow a normal distribution"
   ]
  },
  {
   "cell_type": "markdown",
   "id": "b0d4f00f-d09d-4f01-bfaf-e7253e1ec7f7",
   "metadata": {},
   "source": [
    "If we wih to further test the balance of the \"Over All\" starts, we can examine small samples of random players.\n",
    "\n",
    "For instance, we can construct an histogram of the first 30 players in the dataset based on their ID number"
   ]
  },
  {
   "cell_type": "markdown",
   "id": "e88efbe0-b037-4d1f-9a75-ecee2053c357",
   "metadata": {},
   "source": [
    "Since our data is limited we need to adjust the size of the bins , otherwise it will only be possible for each value to occur only once or twice.\n",
    "This will result in many bins of ones or two and make the histogram redundant(1)\n",
    "If we adjust the bin to (3) it will see that the histogram graph slightly resembles a normal distribution, we will also notice the fatter tails"
   ]
  },
  {
   "cell_type": "markdown",
   "id": "2fb68390-b8f5-428a-b6e5-16fcaa8976dc",
   "metadata": {},
   "source": [
    "Since the number of observation is limited, we can safely consider this sample follows a student's T Distribution"
   ]
  },
  {
   "cell_type": "markdown",
   "id": "bbd9b28e-22bb-438b-bc4e-1c90b284d1e0",
   "metadata": {},
   "source": [
    "Recall that the student's T distribution is also Symmetric, so we are confident that even the small sample we are examing confirms our goals of a balance game."
   ]
  },
  {
   "cell_type": "markdown",
   "id": "d54f6f4b-63b7-4adc-8c84-04b392c47190",
   "metadata": {},
   "source": [
    "Lets explore how a single start is distributed among the players in the game.\n",
    "Lets look at the \"Shot Power\" column,\n",
    "If we construct the histogram and set the bin size to 1, we will see a distribution with 2 ps, it resmbles two graphs placed side by side.\n",
    "\n",
    "The way we interprete this is having two distinct type of players, one with a mean aroun 21 and another one with a mean around 65.\n",
    "\n",
    "The reason behind this is the presence of goal keepers in the game.\n",
    "The starting point for them are completely different from the start essential for out field players.\n",
    "\n",
    "Does it only make sense that they will have distinctly lower values for many of the non goal keepers specific starts.\n",
    "\n",
    "If we examine a goal keeping trade like \"GKDiving\",(Goal Keeper diving) we will be able to see the division into type more clearly.\n",
    "\n",
    "We have completely two different clusters, the lower values represents how out field players will perform in goal and the higher value represents the actual Goal Keepers peformance."
   ]
  },
  {
   "cell_type": "markdown",
   "id": "eadc150f-6df4-44e7-9bb8-d2a3eda19326",
   "metadata": {},
   "source": [
    "If we only examine the goalees we wil see the values are normally distributed once again.\n",
    "So the game is indeed balanced."
   ]
  },
  {
   "cell_type": "markdown",
   "id": "da853ec8-b01a-4905-b122-a22f07258739",
   "metadata": {},
   "source": [
    "Another aspect which makes the game more enjoyeable is \"creating  a sence of realism\".\n",
    "For instance the young profesional soccer players out numbers the old ones"
   ]
  },
  {
   "cell_type": "markdown",
   "id": "d5bc3460-caad-416e-a63f-2798fd4856dd",
   "metadata": {},
   "source": [
    "Reasons why the young professional players are more than the old \n",
    "\n",
    "i.Bad Injuries : A significant number of soccer young players suffer bad injuries which significantly slows down their progress or even halt it altogether.\n",
    "\n",
    "ii. Some  are forced to retire while other had to quit after spending too much time at the field.\n",
    "\n",
    "iii.Go to University : Young players who are not given the opportunity to play ,often decide to go to university and pursue a carrier in soccer."
   ]
  },
  {
   "cell_type": "markdown",
   "id": "39412352-281c-4f17-81a6-0b7fd4ed05d2",
   "metadata": {},
   "source": [
    "All these factors leads to a tuition will often results in having fewer layers above the age of 35 that plays below the age of 20."
   ]
  },
  {
   "cell_type": "markdown",
   "id": "6113e646-c33e-4dd6-828c-e5dbebb998e9",
   "metadata": {},
   "source": [
    "To make sure the game captures this aspect of the sport, check  out the age column\n",
    "Once again we can construct a histogram and set the bin to 1,\n",
    "Note, we have already demonstrated how to do this with the \"Over All\" column, hence , we will follow the same steps.\n",
    "\n",
    "By setting the bin to 1 every age get represented by a seperate bar in the graph. \n",
    "\n",
    "Age is a discrete variable representing the age of each player,age have a minimum value of 16 since the game only consists of first team players who have signed a professional contract.\n",
    "\n",
    "Thus,you can consider 16 as a starting point for any player who have signed a professional contract.\n",
    "\n",
    "You may view it like sort of an origin for poisson distribution then each bar on the graph will showcase the likelihood of a certain player within the data to be of specific age.\n",
    "\n",
    "Since a poisson didtribution is skewed, the younger players ouy numbered the older ones.\n",
    "\n",
    "As we mentioned before that is also true in real life."
   ]
  },
  {
   "cell_type": "markdown",
   "id": "7bb51b29-8e31-495f-9056-f009f4d90f0d",
   "metadata": {},
   "source": [
    "Therefore, this creates an additional layer of realism in the game and should make it more enjoyeable for the customers."
   ]
  },
  {
   "cell_type": "markdown",
   "id": "066aaa4e-16c8-4a59-89ef-86b68c10b1c4",
   "metadata": {},
   "source": [
    "Remember that as a head Project manager of the game, you have the following responsibility.\n",
    "\n",
    "1.Development of the game: it has to be balanced and Realistic.\n",
    "\n",
    "2.Supervise the official realease: Most of the most important aspect is social media marketing.\n"
   ]
  },
  {
   "cell_type": "markdown",
   "id": "6228045e-989b-4401-b5d8-a68f0caacb5e",
   "metadata": {},
   "source": [
    "Imagine your main competitor is trying to expand their customer base by uploading free video previews for new games each monday prior to their launch.\n",
    "\n",
    "A month ago you assigned one of the intens to keep track of the progress their views.\n",
    "\n",
    "You can find a record of the viewship values in the daily use at selfile accompanying this lecture.\n",
    "\n",
    "Is important to download and open the file before we proceed"
   ]
  },
  {
   "cell_type": "code",
   "execution_count": null,
   "id": "e817391a-bbe9-41ad-bc35-5c59774062d5",
   "metadata": {},
   "outputs": [],
   "source": [
    "the excel file contains a inngle shhet titiled views, which comprises of two columns.\n",
    "They are as follows:\n",
    "\n",
    "i.Days after realese : when the values were recorded (column A)\n",
    "\n",
    "2. Daily views: it shows the number of views since the last check (column B)\n",
    "\n",
    "To get a better understanding of the data, you would want to see how viewership changes over time.\n",
    "\n",
    "In other to do so,you decided to graph the dataset.\n",
    "\n",
    "The easiest way to do this is by making columns A and B and clicking on Insert.\n",
    "\n",
    "The next step is going to charts and selecting a scatter plot."
   ]
  },
  {
   "cell_type": "markdown",
   "id": "99bc6a66-b65b-4c75-82d8-86624f66441a",
   "metadata": {},
   "source": [
    "Since most of the views ocured within the first few days, the graph starts off at a very high point and dropds down rather quickly.\n",
    "\n",
    "we can see that daily views started around 100,000 and falls to about 20,000 within a week.\n",
    "\n",
    "Once the new video is realeasd and uploaded viewership drops to around 10,000 per day and gradually decreases as it loses relevancy.\n",
    "\n",
    "By the time a second video is realeased around the 14th day the video gets barely a few thousands per day.\n",
    "\n",
    "This kind of behaviour resembles an exponential distribution.\n",
    "\n",
    "To check how accurate our assumption is we can select the chart element button on, and slect the \"trendline\"\n",
    "\n",
    "If we do not specify the type of relationship we expect, excel is going to assume a linear one and create a straight trendline."
   ]
  },
  {
   "cell_type": "markdown",
   "id": "f2a858e5-9e51-4aee-a12e-cf9e3a5ff478",
   "metadata": {},
   "source": [
    "since this distribution resembles an exponential one,we pick an exponential trendline instead.\n",
    "\n",
    "The curve of the trendline fits the data points accurately.\n",
    "\n",
    "If we assume that the views follows such a distribution, then the trend line will represent the PDF for a view occuring on a specific day."
   ]
  },
  {
   "cell_type": "markdown",
   "id": "88771846-a3a1-42cf-bbc1-cf81ce50008e",
   "metadata": {},
   "source": [
    "To test whether views really follow an exponential distribution,we should look at the CDF graph as well. \n",
    "\n",
    "We can graph the first and third column, since total views represents the cumulative of number of views up ot a given period of time.\n",
    "\n",
    "It shows the aggregated number of views the video got.\n",
    "Let's create another scattered plot following thesame steps as last time"
   ]
  },
  {
   "cell_type": "markdown",
   "id": "c4ef83b8-326b-41e2-a447-198663d0b470",
   "metadata": {},
   "source": [
    "We can notice that the curve goes up at a decreasing rate before eventually plateuing.\n",
    "\n",
    "This also matches our expectation of the CDF of an exponential distribution.\n",
    "\n",
    "Now that we knnow that viewership fluctuates each day, we can states that each video looses relevancy rather quickly."
   ]
  },
  {
   "cell_type": "markdown",
   "id": "2ba453af-7942-49f5-bb85-7ab3c7b6f759",
   "metadata": {},
   "source": [
    "This means that such a capaign is only beneficial in the short term.\n",
    "\n",
    "Therefore you advised your marketing team to only release similar videos during last month before launch the game.\n",
    "\n",
    "That way all the videos will generate enough attention to make the game feel immense wihthout loosing customer interest in the process."
   ]
  },
  {
   "cell_type": "markdown",
   "id": "67a685c9-6ea7-46cd-ad81-66b57a79915a",
   "metadata": {},
   "source": [
    "In addition to competitive analysis ,you need to conduct some customer analysis as well.\n",
    "\n",
    "Yo certainly care whether your clients can afford to spend more on in-game purchases.\n",
    "\n",
    "Hence, you sent out a survey question\n",
    "one of the survey questions is whether  the client is a premium member of the official fan club of any team in the game."
   ]
  },
  {
   "cell_type": "markdown",
   "id": "8240ca40-a173-49bb-a271-a2ab1e3d96cb",
   "metadata": {},
   "source": [
    "Since these fans are more than voted and financially capable, you need to find out if there are any other feature you will use to target this group.\n",
    "\n",
    "You decide to examine a small sample of the data which contains the age of the customer according to their year of sports account and whether they are a premium member.\n",
    "\n",
    "This data is stored in the customers membership excel file accompaning this lecture."
   ]
  },
  {
   "cell_type": "markdown",
   "id": "f98e1554-19d4-4ab3-8011-c895b598421a",
   "metadata": {},
   "source": [
    "After opening the file we see two columns, \"Costomer Age\"( A )and \"Membership Status\" (B)\n",
    "\n",
    "A with numeric values and B with ones and zero"
   ]
  },
  {
   "cell_type": "markdown",
   "id": "b0f7af8b-636b-4178-a31e-62bdd1c7e6ec",
   "metadata": {},
   "source": [
    "The second column shows whether they are a member or not, If the customer is also a member of the fan club we put 1 in the second column but if they are not we right down a zero(0)"
   ]
  },
  {
   "cell_type": "markdown",
   "id": "e6f1a8ce-2092-4e3f-8e5d-57fed166977c",
   "metadata": {},
   "source": [
    "Now if we construct a scattered plot ,we will see that most people underthe age of 34 have a membership, while most people over the age of 34 do.\n",
    "\n",
    "There are exceptions to this rule which is normal when we are dealing with real world data."
   ]
  },
  {
   "cell_type": "markdown",
   "id": "aab72f50-f1ba-4216-979f-d509bb3abee1",
   "metadata": {},
   "source": [
    "The data looks like it follows a logistic distribution since the likelihood of having a membership slightly rises after nearing a specific value.\n",
    "\n",
    "In this case, we can think of 34 as the location of the distribution.\n",
    "\n",
    "This leads us to believe that 34 is the approximate age at which customers have already reached financial stability and can afford higher membership fees."
   ]
  },
  {
   "cell_type": "markdown",
   "id": "481475cf-6d89-4d93-8935-797f859fd26b",
   "metadata": {},
   "source": [
    "This insights suggests that we should target customers above the age of 34 since they are more likely to spend more."
   ]
  },
  {
   "cell_type": "markdown",
   "id": "67e8fa77-3ebf-43a3-9ccd-45f52d9c88ac",
   "metadata": {},
   "source": [
    "One way to use this information is to realease more expensive legend FIFA ultimate team cards for players who has retired in the past twenty years."
   ]
  }
 ],
 "metadata": {
  "kernelspec": {
   "display_name": "Python 3 (ipykernel)",
   "language": "python",
   "name": "python3"
  },
  "language_info": {
   "codemirror_mode": {
    "name": "ipython",
    "version": 3
   },
   "file_extension": ".py",
   "mimetype": "text/x-python",
   "name": "python",
   "nbconvert_exporter": "python",
   "pygments_lexer": "ipython3",
   "version": "3.9.7"
  }
 },
 "nbformat": 4,
 "nbformat_minor": 5
}
