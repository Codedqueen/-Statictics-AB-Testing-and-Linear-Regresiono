{
 "cells": [
  {
   "cell_type": "markdown",
   "id": "f92d8d92-c509-4028-b05a-5e2fde0cf2ce",
   "metadata": {},
   "source": [
    "### BAYESIAN INFERENCE"
   ]
  },
  {
   "cell_type": "markdown",
   "id": "d85fd697-f0e8-4662-a0d5-e78dc24d5e04",
   "metadata": {},
   "source": [
    "### Sets and Events"
   ]
  },
  {
   "cell_type": "markdown",
   "id": "f1ddab00-6f53-4c3a-9d70-971352eaf8e7",
   "metadata": {},
   "source": [
    "A set is a collection of objects. Sets are usually denoted by a letter and the objects (or elements) belonging to a set are usually listed within curly brackets. Note that a set is an unordered collection of objects, i.e. the order in which the elements of a set are listed does not matter."
   ]
  },
  {
   "cell_type": "markdown",
   "id": "509d109f-88bb-45bc-a975-b56758f76fa1",
   "metadata": {},
   "source": [
    "We will be learning how to describe events and the ways in which they relate to one another.\n",
    "We will be introducing some new concepts.\n",
    "\n",
    "Every event have a set of outcome that satisfies it.These are the favourable outcomes.for example, the event could be even, and the set of value will be 2, 4, 6 ,8 .... and other even numbers, however values of a set dont always have to be numerical.\n",
    "\n",
    "For insatnce, an event can be being a member of the European Union, values like Germany and France will be a part of the set and values like USA and Japan will not.\n",
    "Conventions denotes that we use upper case letters to denote these sets and lower case letters to express individual elements."
   ]
  },
  {
   "cell_type": "markdown",
   "id": "ff1a02e7-26b0-48ef-817c-fc413ec50204",
   "metadata": {},
   "source": [
    "In the numerical example given earlier,upper case X will express even numbers and lower -case x will be a single value of that set (8).\n",
    "Note that any set can be either empty or have value in it.\n",
    "If it does not contain any value it is called an empty set or a Null set and it is denoted by the symbol of a crossed out zero.(∅)."
   ]
  },
  {
   "cell_type": "markdown",
   "id": "271d03db-ab44-44dd-9a7a-a3712fcc011f",
   "metadata": {},
   "source": [
    "Non - empty sets\n",
    "\n",
    "Non -empty sets can be finite or infinite depending on the number of elements they have.\n",
    "When working with them, we often wants to explain if an element is part of a set. the symbol we use to denote that is the ∈ symbol"
   ]
  },
  {
   "cell_type": "markdown",
   "id": "d4f42a55-b55b-4afa-9fd8-75ca1df5a4dd",
   "metadata": {},
   "source": [
    "In mathematics, an element (or member) of a set is any one of the distinct objects that belong to that set.( ∈  )"
   ]
  },
  {
   "cell_type": "raw",
   "id": "0fbbfde9-2628-4bbe-970d-e4b030508155",
   "metadata": {},
   "source": [
    "X                    ∈                     A\n",
    "Elements      is in element of            Set"
   ]
  },
  {
   "cell_type": "markdown",
   "id": "91f1d453-dd21-418a-8884-b73e0c4d8936",
   "metadata": {},
   "source": [
    "The above means that X is in A ie x is in the element of the set A\n",
    "If we want to say that set A has the element X , all we need do is to change the other  and flip the symbol 180 degrees as can be seen below."
   ]
  },
  {
   "cell_type": "code",
   "execution_count": null,
   "id": "726c67c5-c1f5-4b03-86f6-14ab828cc396",
   "metadata": {},
   "outputs": [],
   "source": [
    "The expression below reads as A contains X ie (A ∈  X)"
   ]
  },
  {
   "cell_type": "raw",
   "id": "ab1b82e8-25a0-4cc4-8f43-6f74e2f97b85",
   "metadata": {},
   "source": [
    "A                  ∈                    X\n",
    "Sets      is in element of            Element"
   ]
  },
  {
   "cell_type": "markdown",
   "id": "aa92062b-5830-4628-8c80-629faacbbba9",
   "metadata": {},
   "source": [
    "The two ways to express thesame thing makes it redundant but it may prove useful to you in the future,"
   ]
  },
  {
   "cell_type": "markdown",
   "id": "3b5c6541-8112-4a12-a0b4-ebab2f616fd7",
   "metadata": {},
   "source": [
    "So you want to say that x is not in the union of all members of L? x ∉ ⋃Λ∈LΛ. This is equivalent to asserting that there is no set in L ...\n"
   ]
  },
  {
   "cell_type": "markdown",
   "id": "e3297327-ae11-4fba-b05e-7e97c7dd8240",
   "metadata": {},
   "source": [
    "How to show that an element is not contained in a set. we can use thesame notation but simply cross out the ∉ (symbol with a single diagonal line )"
   ]
  },
  {
   "cell_type": "code",
   "execution_count": null,
   "id": "23252910-da3b-43f9-9917-54820ca3f0a8",
   "metadata": {},
   "outputs": [],
   "source": [
    "The statement will now mean X is not in A and A does not contain X\n",
    "X ∉ A  or A ∉ X"
   ]
  },
  {
   "cell_type": "markdown",
   "id": "2eb9a422-f944-4022-af30-491953d8275f",
   "metadata": {},
   "source": [
    "Multiple elements\n",
    "\n",
    "In mathematics, a multiset (or bag, or mset) is a modification of the concept of a set that, unlike a set, allows for multiple instances for each of its elements. The number of instances given for each element is called the multiplicity of that element in the multiset"
   ]
  },
  {
   "cell_type": "markdown",
   "id": "656899e6-d7fe-4eb9-8a91-6b7157430048",
   "metadata": {},
   "source": [
    "In other situations we will need to make generalize statements about multiple elements within a set, to do so we will use the symbol of capital A turned upside down, this means  for all /any.\n",
    "For instance, if we want to make a statement concerning the entirety of a given set, we simply write, For all x in A (for all X/A) ( note mathemathecal representation alrady in a note book for reference purpose."
   ]
  },
  {
   "cell_type": "markdown",
   "id": "98547205-94aa-4dea-b2d9-7bd985a52b64",
   "metadata": {},
   "source": [
    "Another important symbol is the semi- colon, we often encounter the semi colon after using the for all/any sign, the semi colon : reads as such that it is very useful when we want to make a statement about a specific group of elements within a set."
   ]
  },
  {
   "cell_type": "markdown",
   "id": "70aab263-d675-4d65-a995-c49b7fc3a42d",
   "metadata": {},
   "source": [
    "For example, if you want to state something that contains the even numbers in a set, we can write for all X in A such that X is even.( note mathematicall representation on the notebook)"
   ]
  },
  {
   "cell_type": "markdown",
   "id": "f0247189-024d-477a-b6d9-4ff9c335b2fc",
   "metadata": {},
   "source": [
    "The final fundamental term we must introduce is subset\n",
    "Definition : A subset is a set that is fully contained in another set\n",
    "If every element of A is also an element of B, then A is a subset of B\n",
    "denoted with A subset B but not all element of B are part of A \n",
    "Mathematically represented  A ⊆ B \n",
    "symbol ⊆ to mean “is a subset of“;  "
   ]
  },
  {
   "cell_type": "markdown",
   "id": "31314846-4ded-4ae8-9ecf-bf11fecc738d",
   "metadata": {},
   "source": [
    "REMEMBER : Every set contais atleast two subsets, a set and a Null set"
   ]
  },
  {
   "cell_type": "markdown",
   "id": "c8eb26f9-260b-4946-848d-7889bd01317f",
   "metadata": {},
   "source": [
    "### Different ways events can interact"
   ]
  },
  {
   "cell_type": "markdown",
   "id": "37e32278-b08c-450f-b554-8ecfb397015c",
   "metadata": {},
   "source": [
    "#### Multiple events"
   ]
  },
  {
   "cell_type": "markdown",
   "id": "5d38723e-2bd8-4ba1-bc43-5a529b3aaef0",
   "metadata": {},
   "source": [
    "We will focusing on visual aids and graphs to help us understand the concept of sets and events."
   ]
  },
  {
   "cell_type": "markdown",
   "id": "cbf1b746-caee-4677-9d88-041840d27c26",
   "metadata": {},
   "source": [
    "Take events A and B for example, we expressed the set of values that satisfies each of them as circles, one for A and another for B, any element that is a part of either set will be represented by a point in either circle.\n",
    "since we can have additional events, the more events we have the more circles we draw"
   ]
  },
  {
   "cell_type": "markdown",
   "id": "e2087d52-de4d-42aa-8a90-8837fc673dba",
   "metadata": {},
   "source": [
    "Let's focus on A & B for now,the two circles can either not touch at all, intersect or one can completely overlap the other, we will explore each of these scenarios"
   ]
  },
  {
   "cell_type": "markdown",
   "id": "a9da7365-9ac3-4ed2-be9a-a2d775d2838e",
   "metadata": {},
   "source": [
    "If the two circles never touch, then the 2 events can never happen simultaneously.\n",
    "Esseentially, Event A occurring guarantees that Event B will not occur and vice visa.\n",
    "Example,using a card . getting a heart and getting a diamond are two diferent events,if we get a heart we cant get a diamond and if we get diamond we cant get a heart since each card has exactly one suit."
   ]
  },
  {
   "cell_type": "markdown",
   "id": "dcee2c37-fa94-4744-8565-7f33c0068ae5",
   "metadata": {},
   "source": [
    "Intersecting :\n",
    "\n",
    "If the tow circles intersects ,it means that the two of events can occur at the same time .  \n",
    "Imagine we draw a card from a standard deck playing card, if A is drawing  a diamond and B is drawing a Queen, the area they intercept wil be represented solely by the queen of diamonds, the remaining areas in A will represent all of the diamonds whereas the areas of B outside of  that will represent all of the queen."
   ]
  },
  {
   "cell_type": "markdown",
   "id": "0f94e2fb-285d-4727-aa13-3b73f448f1fd",
   "metadata": {},
   "source": [
    "Subsets :\n",
    "This happens when one circle completely overlaps the other, this means that one of then will only ever occurs if the other one does as well.\n",
    "For instance, event A could be drawing a red card and event B could be drawing a diamond, the circle of B is completely contained inside of A.\n",
    "\n",
    "So we can only ever get a diamond if we get a red card, notice that if the card we drew is black, it cannot be a diamond.\n",
    "If event A does not ocur, then neither does event B\n",
    "\n",
    "However, because we can draw a heart, it is possible to get a red card that is not a diamond, therefore event B not occuring does not guarantee event a not occuring"
   ]
  },
  {
   "cell_type": "markdown",
   "id": "c7473812-90d2-4718-b6c7-ca75bc1a1df3",
   "metadata": {},
   "source": [
    "CONCLUSION:\n",
    "\n",
    "If an outcome is not part of a Set, it cannot be part of any of its Subsets.\n",
    "\n",
    "An outcome not being part of Some Subset does Not Exclude it from the Entirety of the greater Set.\n",
    "\n",
    "We can have two, three, four or multiple events and the relationship between each two will always be represented by one of the three ways we just went over"
   ]
  },
  {
   "cell_type": "markdown",
   "id": "c05afcfa-a87a-4ed3-8336-954f02351758",
   "metadata": {
    "tags": []
   },
   "source": [
    "### The Intersection of two Sets"
   ]
  },
  {
   "cell_type": "markdown",
   "id": "ce840ba1-b4bf-48ea-ba7d-58ddd88cab04",
   "metadata": {},
   "source": [
    "INTERSECTIONS\n",
    "\n",
    "Definition:\n",
    "For any two events A and B, we define the intersection of A and B to consist of all outcomes that are both in A and in B. That is, the intersection will occur if both A and B occur. We denote the intersection of A and B by A ∩ B.    "
   ]
  },
  {
   "cell_type": "markdown",
   "id": "d98c9c27-c0d4-4c97-9ffc-0702b974c77b",
   "metadata": {},
   "source": [
    "when we want A and B to happen at the same time,we are talking about their intersection.\n",
    "Graphically, the intersection is exactly as the name suggest, the area where these events intersect.\n",
    "They consists of all the outcomes that are favourable for both event A and Event B simultaneously, denoted as A ∩ B ( A intersect B)."
   ]
  },
  {
   "cell_type": "markdown",
   "id": "383cb310-b881-4665-a233-b25b0f7658fb",
   "metadata": {},
   "source": [
    "Lets look at the previous example and see how the intersect changes\n",
    "The intersection of all Hearts and all Diamonds is the empty set, the empty set has no element so there are no outcomes which satisfies both event simultaneously.\n",
    "We will write this as A n B = 0 , (A intersect B equals empty set)"
   ]
  },
  {
   "cell_type": "markdown",
   "id": "35230f01-7c95-494f-b4b9-769504932533",
   "metadata": {},
   "source": [
    "Lets consider a different circle from the same lecture, the intersection of all Diamonds and all Queens is represented by the Queen of Diamonds.\n",
    "Red card is the only one tha satisfies being a Queen and being a Diamond at the same time so nohing else is included in the intersection.\n",
    "A n B = Queen Diamond"
   ]
  },
  {
   "cell_type": "markdown",
   "id": "7091475b-1b12-4306-a39d-e53ce4c376cd",
   "metadata": {},
   "source": [
    "In the example of Red card and Diamonds ,the intersection of the two will simply be all Diamonds.\n",
    "This is because any  diamond is simultaneously Red and  Diamond.\n",
    "Represented in this format. A n B = B ( Red intersect Diamond equals Diamond)"
   ]
  },
  {
   "cell_type": "markdown",
   "id": "e10412e3-1214-460b-9271-367b840b9336",
   "metadata": {},
   "source": [
    "We use intersections only when we want to denote instances where both events A and B happen simultaneously"
   ]
  },
  {
   "cell_type": "markdown",
   "id": "926779a8-c99e-4977-9671-5b12c790d096",
   "metadata": {},
   "source": [
    "### Union of Two Sets"
   ]
  },
  {
   "cell_type": "markdown",
   "id": "ac5cb9f9-c16b-4732-898e-bd97dbf28f77",
   "metadata": {},
   "source": [
    "Definition of Union :\n",
    "\n",
    "For any two events A and B, we define the new event A ∪ B, called the union of events A and B, to consist of all outcomes that are in A or in B or in both A and B. That is, the event A ∪ B will occur if either A or B occurs.\n",
    "Associative law: (E ∪ F)∪G = E ∪ (F ∪ G)\n",
    "Commutative law: E ∪ F = F ∪ E"
   ]
  },
  {
   "cell_type": "markdown",
   "id": "3c612514-bc14-4560-bdd2-8e0fb0efbaa3",
   "metadata": {},
   "source": [
    "A union of two can also be defined as a combination of all outcomes preferred for either A or B"
   ]
  },
  {
   "cell_type": "markdown",
   "id": "b6f86346-c172-4655-967f-b8a1efe127b0",
   "metadata": {},
   "source": [
    "If you think of different American states as seperate Sets then the citizens of each state will be their element. just like every testing is in America so is every element of an individual set also an element of the Union.\n",
    "We denote the union of two sets as  A ∪ B"
   ]
  },
  {
   "cell_type": "markdown",
   "id": "35182108-26b4-4769-9648-53065bc74bb2",
   "metadata": {},
   "source": [
    "Example:\n",
    "\n",
    "Let us examine what the union will be in three different cases.\n",
    "Case 1: Find out the union of two sets, if set A and B do not touch at all. in this case the result will be a null set  (∩ ∅)\n",
    "A n B = ∅\n",
    "Therefore ,their union will simply be their sum  \n",
    "A ∪ B = A + B\n",
    "Intuitively ,it makes sense because no element is in both Set simultaneously so we do not need to worry about double counting."
   ]
  },
  {
   "cell_type": "markdown",
   "id": "a2d04745-6ba0-4cd7-9cdb-07ea8e5d6b43",
   "metadata": {},
   "source": [
    "Now going back to the card example, the union of all hearts and diamonds will be all Red cards, no card can have multiple suits so we need not worry about counting a card twice.\n",
    "Hence. the number of red cards equals the union of cards which are either diamonds or hearts."
   ]
  },
  {
   "cell_type": "markdown",
   "id": "14851147-21cc-4318-bbb6-c6612f77dda2",
   "metadata": {},
   "source": [
    "Case 2 :  finf out union of set A and B if the set of A and B intersects each other :\n",
    "If the event intersects the area of the union is represented by the sum of the two sets minus their intersection.\n",
    "A ∪ B = A + B - A n B"
   ]
  },
  {
   "cell_type": "markdown",
   "id": "7ef296f0-28fc-4764-9959-6c595684b066",
   "metadata": {},
   "source": [
    "This is because if we simply add up the area of the two set we will simply be double - counting all the elements that are part of this intersection"
   ]
  },
  {
   "cell_type": "markdown",
   "id": "49281424-bf0b-4199-8130-f29274c26176",
   "metadata": {},
   "source": [
    "For instance, 5 people in the office have blond hair, 4 poeple have blue eyes and only Kate has both.\n",
    "Therefore, there are only 3 non blond people with blue eyes and 4 blond persons without blue eyes,\n",
    "Hence the union of blond and blue eyed colleague is the sum of people who have precisely one of the two features as well as kate who has both.\n",
    "mathematically represented thus :\n",
    "A ∪ B  =  A + B + C =  4 + 3 +1 = 8.\n",
    "8 empoyees satisfying atleast one of the conditions"
   ]
  },
  {
   "cell_type": "markdown",
   "id": "f8c1687d-f434-4626-bb67-def36199a96f",
   "metadata": {},
   "source": [
    "Alternatively, we can compute the union using the formulla we mentioned earlier.\n",
    " A ∪ B = A + B - A n B\n",
    " A ∪ B  = 5 + 4 - 1 = 8\n",
    " We have a total of 8 colleagues who posses atleast one of the two distinct features.\n",
    " Here, the minus 1 represents Kate who is the intersection and has both blond and blue eyes."
   ]
  },
  {
   "cell_type": "markdown",
   "id": "4283a124-e418-4f7c-9198-2a4b19a3f8ae",
   "metadata": {},
   "source": [
    "Union Intersection Relationship\n",
    "The Union of A and B qeauls the sum of the sets of A and B minus their intersection\n",
    "A ∪ B = A + B - A n B\n",
    "This is universally true, regardless of the relationship between A and B"
   ]
  },
  {
   "cell_type": "markdown",
   "id": "38de10d9-1ab4-4cfa-91fb-d2c2cd3d06d5",
   "metadata": {},
   "source": [
    "Case 3 what is the Union of the set if B is a subset of A?\n",
    "In this case, the Union will simply be the entire set A"
   ]
  },
  {
   "cell_type": "raw",
   "id": "88be7888-280e-4c97-b668-4144d0b970d3",
   "metadata": {},
   "source": [
    "Imagine if event A is being from the US and event B is being from California, if you talk about all the people who are either from california or the United State of America, you are simply talking about all the people from the USA,\n",
    "Remember, the intersection of this two sets is equal to the entire set B, so  the intersection of A and B  represents all the people from california. if we plug it into the formula above ,we will have the following statement.\n",
    "\n",
    "The union of all people from  California or the united states is the sum of all Californians and all Americans minus anybody born in the Golden state. After cancelling out all califonarians , we got exactly what we expect.\n",
    "\n",
    "The Union of people from either California or Americans equals the Entire population of  the United States of America."
   ]
  },
  {
   "cell_type": "code",
   "execution_count": null,
   "id": "252d67b6-86ab-45b8-90d3-605fa682b78e",
   "metadata": {},
   "outputs": [],
   "source": [
    "A n B  = B (All Californians)\n",
    "\n",
    "A ∪ B = A "
   ]
  },
  {
   "cell_type": "markdown",
   "id": "7015da34-f812-4879-abf7-dc9110da4acf",
   "metadata": {},
   "source": [
    "### Mutually Exclusive Sets"
   ]
  },
  {
   "cell_type": "markdown",
   "id": "43ef7503-1333-4bd4-a796-7acd460c461e",
   "metadata": {},
   "source": [
    "Definition:\n",
    "\n",
    "Two sets are known to be mutually exclusive when they have no common elements. Consider the set of all even positive integers, and the set of all odd positive integers: Set A = { 2 , 4 , 6 , 8 , 10 , 12 , 14 , 16. . . }"
   ]
  },
  {
   "cell_type": "markdown",
   "id": "f40632c1-1c0d-46c3-b477-4e0431f2b690",
   "metadata": {},
   "source": [
    "They are sets that are not allowed to have any overlapping elements.\n",
    "Graphically, their circles never intersect,\n",
    "Mutually exclusive sets have the empty sets at their intersection therefore, if the intersection of any number of set is the empty set then they must be mutually exclusive and vice versa."
   ]
  },
  {
   "cell_type": "markdown",
   "id": "e35a7cdf-b865-48a7-80c0-e48ba447714c",
   "metadata": {},
   "source": [
    "Union of mutually exclusive events\n",
    "\n",
    "There unions is usually the sum of all seperate individual set\n",
    "If A & b are mutually exclusive  =  A ∪ B = A + B"
   ]
  },
  {
   "cell_type": "markdown",
   "id": "6af73a3d-061a-4a61-8c9a-f1a67378c83d",
   "metadata": {},
   "source": [
    "Complements\n",
    "We mentioned earlier how events have complements, in a similar way sets have complement as well.\n",
    "Such complements consists of all values that are part of the sample space but not part of the set."
   ]
  },
  {
   "cell_type": "markdown",
   "id": "7a827e79-340c-454f-b47f-8f2697a66408",
   "metadata": {},
   "source": [
    "For instance, imagine a set consisting of all the odd numbers,it's complement will be the set of all even numbers"
   ]
  },
  {
   "cell_type": "markdown",
   "id": "cafe5eb8-88e7-4cfb-a762-26bb19509ec7",
   "metadata": {},
   "source": [
    "One thing to remember about complement is that they are ALWAYS all mutually exclusive\n",
    "However, not all mutually exclusive sets are complements."
   ]
  },
  {
   "cell_type": "markdown",
   "id": "568699ff-8469-4804-a4f1-24a36f9bde55",
   "metadata": {},
   "source": [
    "For instance,imagine  A is the set of all even numbers and B is the set of all numbers ending in 5.\n",
    "We know that any number ending in 5 is high, so this two Sets are definitely mutually exclusive\n",
    "However, the complement of all even is all odd ( A = even, A! = odd) and not just the one ending with 5\n",
    "(A!  not= to  B)\n",
    "for example a number like 13 will be complement of Set A but not the set B\n",
    "13  ∈ A! ( 13 is a complement of A)\n",
    "13 ∉  B"
   ]
  },
  {
   "cell_type": "raw",
   "id": "75ec3096-1874-4cef-b0a8-b93213f0998f",
   "metadata": {},
   "source": [
    "A = Even\n",
    "A! = All odds   =   A! =/ B = 13  ∈ A! (A! is not equal to B) \n",
    "                               13 ∉  B"
   ]
  },
  {
   "cell_type": "markdown",
   "id": "0fca870b-210a-4558-a9e4-f73427a16cb4",
   "metadata": {},
   "source": [
    "### Dependent and Independaent Events"
   ]
  },
  {
   "cell_type": "markdown",
   "id": "6690c1a0-e6de-4add-afe5-92047bb19e10",
   "metadata": {},
   "source": [
    "#### Independent Events"
   ]
  },
  {
   "cell_type": "markdown",
   "id": "36535fac-1545-4a20-8a20-2514e6a63634",
   "metadata": {},
   "source": [
    "They are the theorotical probabilities that remains unaffected by other events."
   ]
  },
  {
   "cell_type": "markdown",
   "id": "c9b3950d-6e0d-4cf8-a8c1-90e35f40a1c4",
   "metadata": {},
   "source": [
    "An example of theoritical probability is floping a coin, you always have a 50% chaince of getting tails regardless of the result obtained with the previous throw."
   ]
  },
  {
   "cell_type": "markdown",
   "id": "3ada5135-1896-433a-9725-aa9982d2c8c9",
   "metadata": {},
   "source": [
    "#### Dependent Events"
   ]
  },
  {
   "cell_type": "markdown",
   "id": "82e3a87c-d979-491f-8f0b-065f16b8cdfd",
   "metadata": {},
   "source": [
    "Probabitities of denpendent events varies as conditions change.\n",
    "\n",
    "For instance the probability of drawing a queen of spades,normally the answer is 1 /52, since we have exactly one favourabloutcome and 52 elements in the sample space, imagine we know that the card we drew was a spade,our chances of getting a queen of spade suddenly goes up since The new sample space containdns the 13 sample cards from the suit only ,since the new sample space containdns the 13 sample cards from the suit only."
   ]
  },
  {
   "cell_type": "raw",
   "id": "b915478b-11a7-4806-86a2-de901ac2b44f",
   "metadata": {},
   "source": [
    "P(Q of spade) = 1/ 52"
   ]
  },
  {
   "cell_type": "code",
   "execution_count": null,
   "id": "069ec34f-0f12-402b-a820-de8f3e32d257",
   "metadata": {},
   "outputs": [],
   "source": [
    "Therefore the probability becomes 1 /13"
   ]
  },
  {
   "cell_type": "raw",
   "id": "36b36a00-e08b-4c73-b4df-0b669b120a83",
   "metadata": {},
   "source": [
    "P(Q of spade) = 1/ 13"
   ]
  },
  {
   "cell_type": "markdown",
   "id": "e6df27a6-9b15-4d82-9a1c-2ff9aabe2db0",
   "metadata": {},
   "source": [
    "Imagine a different scenario, instead of spade we know our card is a Queen, so the sample space only consists of 4 cards.\n",
    "Therefore the probabbility of drawing a queen of space becomes 1/4"
   ]
  },
  {
   "cell_type": "raw",
   "id": "a53a268a-7881-4e89-a2eb-284d6cfd29d5",
   "metadata": {},
   "source": [
    "P(Q of spade) = 1/ 4"
   ]
  },
  {
   "cell_type": "markdown",
   "id": "42cdf2fd-66a3-4cd6-bb48-d81678f17912",
   "metadata": {},
   "source": [
    "With this example we can clearly see how the probability of an event changes depending on the information we have"
   ]
  },
  {
   "cell_type": "raw",
   "id": "5cda4fb4-80fc-4810-b04b-c760a44ee53c",
   "metadata": {},
   "source": [
    "Normally   -  P(Q of spade) = 1/ 52\n",
    "\n",
    "Example 1  - P(Q of spade) = 1/ 13\n",
    "\n",
    "Example 2  - P(Q of spade) = 1/ 4"
   ]
  },
  {
   "cell_type": "markdown",
   "id": "220d485f-b134-45bb-bdfb-7956ed6c5566",
   "metadata": {},
   "source": [
    "#### Notation"
   ]
  },
  {
   "cell_type": "markdown",
   "id": "84897f76-58ee-45a6-a1fc-0033632cfb3c",
   "metadata": {},
   "source": [
    "As usual , suppose we have 2 events, A and B to express the probability of getting an A supposing that B has occured,we use the following notations. P parenthesis A vertical line B parenthesis, we read this as \"A given B\""
   ]
  },
  {
   "cell_type": "raw",
   "id": "0bfab3d2-a819-4ada-963a-1a8ff3049b71",
   "metadata": {},
   "source": [
    "P(A|B)\n",
    "read as \" A given B\""
   ]
  },
  {
   "cell_type": "markdown",
   "id": "92a301d9-12f7-477b-9a89-09cbf6bcbe0e",
   "metadata": {},
   "source": [
    "Going back to our card example, \n",
    "event A is drawing the Queen of Spade\n",
    "event B is drawing a Spade\n",
    "Therefore, P(A|B) = 1/ 13 ie \"A given B\" will represent the probability of drawing the queen of spade if we know the card is a spade"
   ]
  },
  {
   "cell_type": "markdown",
   "id": "9de5f307-490c-4c4d-a358-55ad323efc14",
   "metadata": {},
   "source": [
    "Similarly if event C represents getting a Queen then \n",
    "P(A|C) ie \"A given C\" expresses the likelihood of getting the Queen of spades assumimg we drew a Queen\n",
    "P(A|C) = 1 /4"
   ]
  },
  {
   "cell_type": "code",
   "execution_count": null,
   "id": "4b4bd8fc-8fb4-4f29-927e-f7f719a52008",
   "metadata": {},
   "outputs": [],
   "source": [
    "P(A|C)\n",
    "We call this probablity conditional probability and we use it to differentiaite between dependent and independent events."
   ]
  },
  {
   "cell_type": "markdown",
   "id": "124c2b3f-9990-4211-a28c-9921ae1046d0",
   "metadata": {},
   "source": [
    "#### Conditional Probability"
   ]
  },
  {
   "cell_type": "raw",
   "id": "311bc499-a6b2-4f09-adf2-7bc117022333",
   "metadata": {},
   "source": [
    "This is the likelihood of an event occuring assumming a different one has already occured.\n",
    "How to compute and interprete conditional probabilities P(A|B)"
   ]
  },
  {
   "cell_type": "markdown",
   "id": "a0d1891b-5614-4afb-996e-4385b01c102f",
   "metadata": {},
   "source": [
    "From the previous example, A represents getting heads\n",
    "B represents getting heads (from previous flips)\n",
    "The probability of getting head now after getting head the last time is still 0.5, therfore P(A) = \"A given B\", this is quivalent to saying that the two of them are independent."
   ]
  },
  {
   "cell_type": "code",
   "execution_count": null,
   "id": "80b43bb0-83c7-46ec-bf99-615365fdb4d7",
   "metadata": {},
   "outputs": [],
   "source": [
    "P(A|B) = 0.5\n",
    " P(A) = P(A|B)"
   ]
  },
  {
   "cell_type": "markdown",
   "id": "002f8a59-6acc-4941-ba4e-ffe9cf128a12",
   "metadata": {},
   "source": [
    "Earlier in the course, we mentioned that if any two events are independent, the probability of thier intersection is the product of thier individual probabilities"
   ]
  },
  {
   "cell_type": "markdown",
   "id": "d700ea35-1744-4890-bb69-43cb478b893d",
   "metadata": {},
   "source": [
    "P( A n B = P(A) X P(B)"
   ]
  },
  {
   "cell_type": "code",
   "execution_count": null,
   "id": "de26a3b9-0d31-460b-84de-318489d73ba7",
   "metadata": {},
   "outputs": [],
   "source": [
    "Lets also examine the Queen of spade example from last lecture,where\n",
    "\n",
    "Normally A  -  P(Q of spade) = 1/ 52\n",
    "\n",
    "Example  B  - P(Q of spade) = 1/ 13\n",
    "\n",
    "Example  C  - P(Q of spade) = 1/ 4"
   ]
  },
  {
   "cell_type": "markdown",
   "id": "8b0e02a6-45f7-4f1b-81f5-7adbfa734b08",
   "metadata": {},
   "source": [
    "Normally the probability of drawing the queen of spade is 1/52 ie P(A)  = 1/52\n",
    "However ,it increases if we know is a spade, \n",
    "since P of \"A given B\" is 1/13  P(A|B)  = 1/13\n",
    "\n",
    "We can say that the two events  A and B are dependent."
   ]
  },
  {
   "cell_type": "markdown",
   "id": "62440181-d6bd-4118-9cb2-5f0644001e8f",
   "metadata": {},
   "source": [
    "Similarly, because the probability of drawing alters if we know is a Queen,\n",
    "P(A|B) alters P(A)\n",
    "We can say A and c are also dependent."
   ]
  },
  {
   "cell_type": "markdown",
   "id": "5d19a557-486c-43a1-bc71-d3c9745acc3c",
   "metadata": {},
   "source": [
    "Notation\n",
    "lets work on this observations with a formula,\n",
    "by definition the conditional probability of an Event A given an Event B equals the probability of the intercestion of A and B over the probability of the event occuring.This hold true if the probability of event B is greater than zero"
   ]
  },
  {
   "cell_type": "raw",
   "id": "6b9a6c79-f5aa-44e0-8c9a-e32da5428940",
   "metadata": {},
   "source": [
    "P(A|B) = P (A n B) / P(B)\n",
    "This holds true if \n",
    "P(B) > 0"
   ]
  },
  {
   "cell_type": "markdown",
   "id": "f027783a-8acd-4269-ab8b-97621df8b535",
   "metadata": {},
   "source": [
    "Lgically, if P(B) = 0, then event B would never occur\n",
    "thus A|B wll not be interpretable"
   ]
  },
  {
   "cell_type": "markdown",
   "id": "a277c0a0-ca97-4b60-a28a-eb118d87e4d1",
   "metadata": {},
   "source": [
    "lets look at conditional probability formula more closely,\n",
    "P(A|B) = P (A n B) / P(B)\n",
    "if we compare it with the favourable over all formula .\n",
    "P(A) = favourable / all\n",
    "we can see many similarities"
   ]
  },
  {
   "cell_type": "markdown",
   "id": "34166b7f-fee4-4a77-b961-15e994f72d5a",
   "metadata": {},
   "source": [
    "To satisfy conditional probabilities P(A|B), we need both events B and A to occur simultaneously, this suggests that the intersection of A and B P (A n B) will consists of all favourable outcome for this probability .\n",
    "Secondly , the conditional probability requires that event B occurs so the sample space will be all outcomes where event B is satisfied"
   ]
  },
  {
   "cell_type": "raw",
   "id": "d5526ee1-ed1d-4eb1-be3e-72655d2f711c",
   "metadata": {},
   "source": [
    "P(A|B) = P (A n B) / P(B)    ~~ P(A) = favourale /all"
   ]
  },
  {
   "cell_type": "code",
   "execution_count": null,
   "id": "2b158244-15e8-4ab6-85d3-90c65e3e01ac",
   "metadata": {},
   "outputs": [],
   "source": [
    "Once we know the intuition behind the formula we will then focus on the importance of conditional probabilities"
   ]
  },
  {
   "cell_type": "markdown",
   "id": "66d75634-a54d-4b4a-8ceb-eef8cc9af2cf",
   "metadata": {},
   "source": [
    "##### Importance of conditional probability"
   ]
  },
  {
   "cell_type": "markdown",
   "id": "89fc49de-4a40-4d06-a546-95086f81d4ee",
   "metadata": {},
   "source": [
    "The order in which we write the elements is crucial.\n",
    "(P\"A given B\" ) P(A|B) is definitely not the same as (P\"B given A\" )  P(B|A) even if the numerical values are equal"
   ]
  },
  {
   "cell_type": "markdown",
   "id": "1d8b96dc-5b76-489c-93e7-1fd12cbb9510",
   "metadata": {},
   "source": [
    "For instance, lets explore the characteristics of Hamilton college class of 2018, 5% of the stusents who got a degrre in Economics graduated with honours, at thesame time of all students who graduated with honours completed a concentrartion in Economics.\n",
    "This 2 statement might have thesame conditional probability (equal numerical) but they have completely different meanings."
   ]
  },
  {
   "cell_type": "raw",
   "id": "431968f8-9dc2-4ac0-8158-d9fc5a3bc9da",
   "metadata": {},
   "source": [
    "P(H|E) = 5%\n",
    "P(E|H) = 5%\n",
    "\n",
    "P(H|E) = 4/ 80 (4 graduates that majors in Economics that have distinction)\n",
    "\n",
    "P(E|H) = 4 /80 ( 4 out of 80 graduates with high scor completed a degree in Economics)"
   ]
  },
  {
   "cell_type": "markdown",
   "id": "a309272c-5a37-4d02-a6a0-11085bb50bf1",
   "metadata": {},
   "source": [
    "In particular, the 1st one suggests that only 4 of the 80 Economics majors graduated with distinction\n",
    "The second one suggests that 4 out of the 80 students who graduated with high grades completed a degree in Econmics"
   ]
  },
  {
   "cell_type": "markdown",
   "id": "84bee887-685e-4cb3-b022-8a516a992da6",
   "metadata": {
    "tags": []
   },
   "source": [
    "### Law of Total Probability"
   ]
  },
  {
   "cell_type": "markdown",
   "id": "40b413d5-3e5d-4754-90b7-d50c1f803c06",
   "metadata": {},
   "source": [
    "##### Conditiona probability in real life"
   ]
  },
  {
   "cell_type": "markdown",
   "id": "d823fc63-19e3-44df-9c83-d814ddba88f8",
   "metadata": {},
   "source": [
    "Many scientific papers relies on conducting experiments or surveys, they often Provides Summarized statistics we use to analyze and interprete how certain factors affect one another."
   ]
  },
  {
   "cell_type": "markdown",
   "id": "9718b14c-a588-4363-b54e-5905aa5973a4",
   "metadata": {},
   "source": [
    "illustration using the Vegeterian Survey\n",
    "\n",
    "Imagine you conducted a Survey where 100 men and women were asked if they eat meat, the result is summarized below"
   ]
  },
  {
   "cell_type": "raw",
   "id": "b3599697-c167-4643-83e4-a5a6821c8a3a",
   "metadata": {},
   "source": [
    "    GENDER            VEGETARIAN        NON VEGETERIAN         TOTAL\n",
    "                \n",
    "     Women              15                   32               47\n",
    "     \n",
    "     Men                29                   24               53\n",
    "     \n",
    "     Total              44                   56              100"
   ]
  },
  {
   "cell_type": "markdown",
   "id": "0d3cb842-2dcf-496c-9ea1-5f3b12878473",
   "metadata": {},
   "source": [
    "from the survey 15 out of the 47 women are vegeterian and 29 out of the 53 are non vegeterians\n",
    "If A represents being Vegeterian and B represents being a woman.then"
   ]
  },
  {
   "cell_type": "markdown",
   "id": "4dd23688-bb0c-4350-bb54-168baa2dea38",
   "metadata": {},
   "source": [
    "P(A|B) and P(B|A) represents different events"
   ]
  },
  {
   "cell_type": "raw",
   "id": "4ff5baa4-c843-42ab-86bb-d8d0915d688e",
   "metadata": {},
   "source": [
    "P(A|B) = 15 /47  \n",
    "the likelihood of a woman being a Vegeterian\n",
    "\n",
    "P(B|A) = 15 / 44\n",
    " the likelihood of a vegeterian being a woman"
   ]
  },
  {
   "cell_type": "raw",
   "id": "73bbc655-e499-4cfe-89e8-a1b495cbd074",
   "metadata": {},
   "source": [
    "since P(A|B) = 15 /47 < P(B|A) = 15 / 44\n",
    "sinc 15/44 is greater than 15 /47 ,"
   ]
  },
  {
   "cell_type": "markdown",
   "id": "ba043655-7f27-4bd0-843d-59eaa071a670",
   "metadata": {},
   "source": [
    "it is more likely for a vegeterian to be female, than for a woman not to eat meat. \n",
    "Hence, in probability theory ,things are never straight forward"
   ]
  },
  {
   "cell_type": "markdown",
   "id": "6bcf203d-eb8a-4214-8dd3-584c2a29f4ab",
   "metadata": {},
   "source": [
    "##### The law of total probability"
   ]
  },
  {
   "cell_type": "code",
   "execution_count": null,
   "id": "511bca98-95eb-4669-b6da-8fcedcd990a7",
   "metadata": {},
   "outputs": [],
   "source": [
    "Imagine A is the union of some finitely many events."
   ]
  },
  {
   "cell_type": "raw",
   "id": "c2c4df35-5f12-447d-b8e0-96c1ac7ce17a",
   "metadata": {},
   "source": [
    "A =  B1 ∪ B2 ∪  .......∪ Bn"
   ]
  },
  {
   "cell_type": "markdown",
   "id": "adc6619d-322d-48b0-b060-9e03028c2e57",
   "metadata": {},
   "source": [
    "This law dictates that the probability of A is the sum of all the conditional probability of A given some B multiplied by probability of the associated B"
   ]
  },
  {
   "cell_type": "raw",
   "id": "e9afb7c9-4b33-4649-a3df-ccb339158c12",
   "metadata": {},
   "source": [
    "P(A) = P(A|B1) X P(B1) + P(A|B2) X P(B2) ..."
   ]
  },
  {
   "cell_type": "markdown",
   "id": "94668f9b-fa71-4b06-90e9-d39ee516afcb",
   "metadata": {},
   "source": [
    "To clear this confusion, let us go back to the survey example.\n",
    "The probability of being a vegeterian equals the probability of being a vegeterian,given the person is male multiplied by the probability of being male and the probability of being a vegeterian given the person is female multiplied by the probability of being female,\n",
    "if we plug in the values from the table we will get the following values"
   ]
  },
  {
   "cell_type": "code",
   "execution_count": null,
   "id": "8769f07f-07a4-481e-bf34-3c43d20a79b6",
   "metadata": {},
   "outputs": [],
   "source": [
    "P(A) = P(A|B1) X P(B1) + P(A|B2) X P(B2) ..."
   ]
  },
  {
   "cell_type": "raw",
   "id": "bc01e8fd-da81-467f-899f-a54f938b3936",
   "metadata": {},
   "source": [
    "29 /53  X  53 /100 + 15 /47  X  47 / 100\n",
    " = 44 /100 or 0.44"
   ]
  },
  {
   "cell_type": "code",
   "execution_count": null,
   "id": "9a3389ed-3541-4760-b6a7-0096b2cfebb1",
   "metadata": {},
   "outputs": [],
   "source": [
    "Therefore,according to the survey their is a 44% chance of someone being a vegeterian\n",
    "From the table we can also see that the probability of being a vegeterian is also 0.44"
   ]
  },
  {
   "cell_type": "markdown",
   "id": "e0423055-3967-4e86-b55c-7c84af83b16e",
   "metadata": {},
   "source": [
    "### Addictive law"
   ]
  },
  {
   "cell_type": "markdown",
   "id": "aa6dfb2d-6fc6-450e-9cea-201201e8cdc2",
   "metadata": {},
   "source": [
    "Definition: \n",
    "The probability of the union of two sets is equal to the sum of individual probabbilities of each event,minus the probability of their intersection."
   ]
  },
  {
   "cell_type": "code",
   "execution_count": null,
   "id": "59b29b03-77ba-4237-9f54-224a0f86a53a",
   "metadata": {},
   "outputs": [],
   "source": [
    "P(A ∪ B) = P(A) + P(B) - P( A n B)"
   ]
  },
  {
   "cell_type": "markdown",
   "id": "670bac1c-e04f-40f4-9913-8e70be4eabb5",
   "metadata": {},
   "source": [
    "Looking at th survey from the last lecture, the union of women and vegeterians equals the sum of propabilities of being a woman and being a vegeterian minus the sum of probability of being a vegeterian woman. mathematically"
   ]
  },
  {
   "cell_type": "code",
   "execution_count": null,
   "id": "bb3954a8-728e-411e-a4ad-c7d9dddf9f98",
   "metadata": {},
   "outputs": [],
   "source": [
    "P(A ∪ B) =  P(A) + P(B) - P( A n B)\n",
    "=   0.47 +0.44 - 0.15 = 0.76"
   ]
  },
  {
   "cell_type": "markdown",
   "id": "33c3a251-d7d7-494f-a699-55fdf47f5ef7",
   "metadata": {},
   "source": [
    "This means that there is a 76% chance that a random person from the survey can either female, vegeterian or both"
   ]
  },
  {
   "cell_type": "markdown",
   "id": "0bc1cdbd-4443-40af-bf40-2fe563fd7a10",
   "metadata": {},
   "source": [
    "Another Example: \n",
    "Suppose 38% of our collegueas can profitiently use Tableau and  45% are experts in SQL,additionall 66% are good with atleast one of the two, what is the probability of someone being able to implement SQL and Tableau."
   ]
  },
  {
   "cell_type": "markdown",
   "id": "30d813a6-7d05-4d88-bbc8-87e51ed03caf",
   "metadata": {},
   "source": [
    "To answer this we can re-arrange the additive law to get the intersection ot tableau an SQL users equals the sum of Tableau and SQL users minus their union, pluging in the values given results in 38% + 45% - 66% =  17%."
   ]
  },
  {
   "cell_type": "raw",
   "id": "dff69301-363f-4926-a878-d511141a6482",
   "metadata": {},
   "source": [
    "Addictive law \n",
    "P(A ∪ B) = P(A) + P(B) - P( A n B)\n",
    "Re -arranged\n",
    "P( A n B) = P(A) + P(B) - P(A ∪ B\n",
    "                            \n",
    "plug -in figures\n",
    "38% + 45% -66% \n",
    "=   17%\n",
    "or 0.17"
   ]
  },
  {
   "cell_type": "markdown",
   "id": "0daaad5f-f0ef-4720-95dc-99b48cfc4fc5",
   "metadata": {},
   "source": [
    "Transforming this into a probability gives us a likelihood of 0.17 for someone in the office to be able to proficintly implement SQL and Tableau"
   ]
  },
  {
   "cell_type": "markdown",
   "id": "841ed214-249d-46d0-9dc3-285a4baf8e8a",
   "metadata": {},
   "source": [
    "### Multiplication Rule"
   ]
  },
  {
   "cell_type": "raw",
   "id": "596c6b26-cae7-4db1-a840-a3e6a2b5ee46",
   "metadata": {},
   "source": [
    "Before we go into this , lets take a look at the conditional probability formula; \n",
    "P(A|B) = P (A n B) / P(B) \n",
    "we can multiply both sides of the equation by P(B)\n",
    "P(A|B) X P(B) = P (A n B) X P(B)  / P(B) X P(B) \n",
    "this gives us the probability of the intersection of A and B\n",
    "P(A|B) X P(B) = P (A n B) this is what we call the multiplication rule"
   ]
  },
  {
   "cell_type": "markdown",
   "id": "b0ac13c2-db39-45ec-9070-f66cdd7fe104",
   "metadata": {},
   "source": [
    "##### MUltiplication rule formula"
   ]
  },
  {
   "cell_type": "code",
   "execution_count": null,
   "id": "31405e25-4b70-4722-b731-609a98838aa9",
   "metadata": {},
   "outputs": [],
   "source": [
    "P(A|B) X P(B) = P (A n B) "
   ]
  },
  {
   "cell_type": "markdown",
   "id": "6214fd24-8446-43db-8c70-26c1ba25d1b6",
   "metadata": {},
   "source": [
    "Let us look at a numerical example, suppose the probability of event B is 0.5 and the probability of event A given B is 0.8.\n",
    "\n",
    "This suggests that event B occurs 50% of the time and Event A also appaers in 80% of those 50% when B occured.\n",
    "So the likelihood of event A and B occuring simultaneously is 0.8 x 0.5 = 0.4"
   ]
  },
  {
   "cell_type": "raw",
   "id": "6377fba5-c9a4-452e-9847-7ccd8703e98e",
   "metadata": {},
   "source": [
    "P(B) = 0.5\n",
    "P(A|B) = 0.8 \n",
    "P (A n B) = 0.8 X 0.5  = 0.4"
   ]
  },
  {
   "cell_type": "markdown",
   "id": "e4a5177e-67ba-43e8-bde0-5fd4af34eaf5",
   "metadata": {},
   "source": [
    "EXAMPLE 2 \n",
    "Suppose we draw 2 cards from a standard deck of 52 playing card\n",
    "1. we draw one \n",
    "2. Shuffle the deck without returning the card\n",
    "3. Draw a second one\n",
    "What is the probability of drawing a spade on the second draw and not drawing a spade on the first draw?"
   ]
  },
  {
   "cell_type": "markdown",
   "id": "dd6a9378-a417-4b8a-9922-9e076899d78b",
   "metadata": {},
   "source": [
    "If we express this as a single conditional probability\n",
    "Event A will be drawing a spade on the second try.\n",
    "Event B not drawing a spade on the first try"
   ]
  },
  {
   "cell_type": "markdown",
   "id": "293c74ff-4a51-4c10-a3fa-a9f23897b6c6",
   "metadata": {},
   "source": [
    "We have 4 suits in a deck of card, hence the likelihood of drawing a specific suit is P(A) = 1/4 or 0.25"
   ]
  },
  {
   "cell_type": "markdown",
   "id": "66ffa52c-bb42-444d-83f2-5394505e0261",
   "metadata": {},
   "source": [
    "We have already discussed how to calculate the probabibilty of compliments B = (A!) ,so the probability of B will be P(B) = 1 - 0.25 = 0.75 "
   ]
  },
  {
   "cell_type": "markdown",
   "id": "88b888c6-7c20-4f7b-8723-8954af170dea",
   "metadata": {},
   "source": [
    "Be careful when extimating the probability of drawing a spade on the second term, there are only 51 cards left,so we must adjust the favourable over all formula to find the new likelihood.\n",
    "We did assume we did not draw a spade on the first go, so the favouarable outcome would still be the 13 spades left, however, we are one card short from having a complete deck (51), so the new sample space will be 51, hence the probability will be as follows :"
   ]
  },
  {
   "cell_type": "code",
   "execution_count": null,
   "id": "f990b1eb-25f2-46d0-affa-dcc5567e2257",
   "metadata": {},
   "outputs": [],
   "source": [
    "P(A|B)= favourable / all  = 13 / 51  ~ 0.255"
   ]
  },
  {
   "cell_type": "markdown",
   "id": "cdc2e5fe-f17f-45dc-8e5c-76899e9066b6",
   "metadata": {},
   "source": [
    "So far we have calculated the likelihood of not drawing a spade on the first throw  P(B) = 0.75\n",
    "and the likelihood of drawing a spade on the second go P(A|B) = 0.255, however we still have not answered the question we are interested in ,\n",
    "What is the probability of drawing a spade on the second draw and not drawing a spade on the first draw?"
   ]
  },
  {
   "cell_type": "code",
   "execution_count": null,
   "id": "49e1f108-e916-4bf6-9286-3df447abb41e",
   "metadata": {},
   "outputs": [],
   "source": [
    "To answer this question, we need to apply the multiplication rule"
   ]
  },
  {
   "cell_type": "markdown",
   "id": "1db6ea28-3772-48c1-9139-28967c3e09a3",
   "metadata": {},
   "source": [
    "P(A|B) X P(B) = P (A n B) , we plug in 0.255 for P(A n B) ie P of A given B and 0.75 for P(B) in the multiplication law formula to get a probability of 0.191 for the intersection of A and P"
   ]
  },
  {
   "cell_type": "raw",
   "id": "8acaa197-4c7c-4d13-a236-7ff6593098eb",
   "metadata": {},
   "source": [
    "P(A|B) X P(B) = P (A n B) = 0.255 X 0.75 = 0.191"
   ]
  },
  {
   "cell_type": "markdown",
   "id": "4ec32251-73c0-4039-b4d1-2c541635b534",
   "metadata": {},
   "source": [
    "So we have a probability of 0.191 of drawing a spade on the second turn assuming we did not draw one initially."
   ]
  },
  {
   "cell_type": "markdown",
   "id": "9e36bdb8-8d9f-496a-94da-c99a3dce1989",
   "metadata": {},
   "source": [
    "ASSIGNMENT :\n",
    "Find the probability of getting a spade on either the first turn or the second turn.\n",
    "You can solve it in two seperate ways, by using\n",
    "I. Addictive law\n",
    "II. Multiplication rule"
   ]
  },
  {
   "cell_type": "markdown",
   "id": "c9630443-aac9-4c64-8a7f-46bc08c64534",
   "metadata": {},
   "source": [
    "### Bayes Rule"
   ]
  },
  {
   "cell_type": "markdown",
   "id": "3112f0e0-71e1-4a0a-b0aa-6c602c9c11fb",
   "metadata": {},
   "source": [
    "This is one of the most important formulas in probability.\n",
    "It is also referred to as Bayes' Theorem or Bayes'law."
   ]
  },
  {
   "cell_type": "markdown",
   "id": "4e789a0c-cf4a-4b83-974e-88e08f434598",
   "metadata": {},
   "source": [
    "Bayes' Theorem states that the conditional probability of an event, based on the occurrence of another event, is equal to the likelihood of the second event occuring."
   ]
  },
  {
   "cell_type": "markdown",
   "id": "dd47504d-dc00-47c2-8f83-c721f0630db4",
   "metadata": {},
   "source": [
    "Bayes' Theorem allows you to update the predicted probabilities of an event by incorporating new information.\n",
    "\n",
    "Bayes' Theorem was named after 18th-century mathematician Thomas Bayes.\n",
    "\n",
    "It is often employed in finance in calculating or updating risk evaluation.\n",
    "\n",
    "The theorem has become a useful element in the implementation of machine learning.\n",
    "\n",
    "The theorem was unused for two centuries because of the high volume of calculation capacity required to execute its transactions."
   ]
  },
  {
   "cell_type": "markdown",
   "id": "d75a84b4-552e-4b71-91cf-9e6e251492ec",
   "metadata": {},
   "source": [
    "Understanding Bayes' Theorem\n",
    "Applications of Bayes' Theorem are widespread and not limited to the financial realm. For example, Bayes' theorem can be used to determine the accuracy of medical test results by taking into consideration how likely any given person is to have a disease and the general accuracy of the test. Bayes' theorem relies on incorporating prior probability distributions in order to generate posterior probabilities.\n",
    "\n",
    "Prior probability, in Bayesian statistical inference, is the probability of an event occurring before new data is collected. In other words, it represents the best rational assessment of the probability of a particular outcome based on current knowledge before an experiment is performed."
   ]
  },
  {
   "cell_type": "markdown",
   "id": "8063c747-4064-4dfd-ad21-c1381c31493a",
   "metadata": {},
   "source": [
    "Posterior probability is the revised probability of an event occurring after taking into consideration the new information. Posterior probability is calculated by updating the prior probability using Bayes' theorem. In statistical terms, the posterior probability is the probability of event A occurring given that event B has occurred."
   ]
  },
  {
   "cell_type": "raw",
   "id": "b885a764-5212-45f4-bfab-7efabb320ec6",
   "metadata": {},
   "source": [
    "P(A∣B)= \n",
    "P(B)\n",
    "P(A⋂B)\n",
    "​\n",
    " = \n",
    "P(B)\n",
    "P(A)⋅P(B∣A)\n",
    "​\n",
    " \n",
    "where:\n",
    "P(A)= The probability of A occurring\n",
    "P(B)= The probability of B occurring\n",
    "P(A∣B)=The probability of A given B\n",
    "P(B∣A)= The probability of B given A\n",
    "P(A⋂B))= The probability of both A and B occurring\n",
    "​"
   ]
  },
  {
   "cell_type": "markdown",
   "id": "05a5203d-edd2-44a7-b903-6bb99142fe05",
   "metadata": {},
   "source": [
    "Example , take 2 Events A and B,according to the conditional probability formula,the conditional probability of A given B (equals to the probabilty of their interception), P(A∣B)=\n",
    "P(A⋂B) / P(B) (over the probability of event B) "
   ]
  },
  {
   "cell_type": "markdown",
   "id": "5d95a782-cc2f-427b-8d12-6ae63ff8c837",
   "metadata": {},
   "source": [
    "conditional probability formula\n",
    "P(A∣B)=\n",
    "P(A⋂B) / P(B)\n",
    "\n",
    "Using the multiplication rule, we can transfrom the numerator of this fraction to get the probability of the intersection of A and B equals the conditional probability of getting B given A multiplied by the probability of getting A, therefore the conditonal probability of getting A given B is equal to the following fraction, the conditional probabilty of getting B given A times the probability of A divided by the probability of B, this equation is known as Bayes' Rule.\n",
    "P(A|B) X P(B) = P (A n B)    (multiplication rule)\n",
    "\n",
    "Bayes' Rule\n",
    "\n",
    "P(A|B) = P(B|A) X P(A) / P(B)"
   ]
  },
  {
   "cell_type": "markdown",
   "id": "7b154ff5-b3e7-4c0c-b989-e768ee0b56af",
   "metadata": {},
   "source": [
    "It is crucial because it allows us to find the relationship between the different conditional probabilities of two events."
   ]
  },
  {
   "cell_type": "markdown",
   "id": "25738d6c-207a-41c4-bbc9-fc07d9140a46",
   "metadata": {},
   "source": [
    "One of the prominent examples of using bayes' Rule is in medical Research when trying to find a Casual relationship between symtoms, knowing both conditional probabibilies between the two helps us to make more reasonabe arguements about which one causes the other"
   ]
  },
  {
   "cell_type": "markdown",
   "id": "aae66be2-6449-4775-be94-0110a2084fe1",
   "metadata": {},
   "source": [
    "For instance,there are certain correlation between patients with back pain and patients wearing glasses, most specifically 67% of patients with back pain wears glassess while only 41% of people with eye sight issues have back pains."
   ]
  },
  {
   "cell_type": "raw",
   "id": "1281ce5c-d5fc-4949-a48b-61aa894ecea0",
   "metadata": {},
   "source": [
    "p(V1|BP) = 67% >\n",
    "P(BP|V1) = 41%"
   ]
  },
  {
   "cell_type": "markdown",
   "id": "8a173262-a4b2-4e14-9c85-56fa7bcc2dca",
   "metadata": {},
   "source": [
    "This conditional probability suggests that it is much more likely for someone with back pain to wear glasses  than the other way round."
   ]
  },
  {
   "cell_type": "markdown",
   "id": "ad1b55ae-5064-49e3-b961-52c21f66861d",
   "metadata": {},
   "source": [
    "Even though we cannot find a direct casual link between the two, their exists some arguement to support such claims.For instance, most patience with back pain are either elderly or work a desk job where they are stationary for long periods. old age and a lot of time on desk top computer can have a deteriorating effect on a person,s eye sight,howevr ,many healthy and young individuals wear glassess from a young age."
   ]
  },
  {
   "cell_type": "code",
   "execution_count": null,
   "id": "2181ee95-00fa-487e-92bb-e4ba5a6c3c77",
   "metadata": {},
   "outputs": [],
   "source": [
    "In those case there are no other underlying factor that would suggest in coming back pains"
   ]
  },
  {
   "cell_type": "markdown",
   "id": "c3f8d8a9-29fb-4630-8b35-8cff292a9c0c",
   "metadata": {},
   "source": [
    "Similarly ,we can also apply Bayes' Theorem in bussiness\n",
    "For example, your boss want you to do research on what company,s are looking for in recent scholars graduate. Good academic perfomance or working experience.\n",
    "You go over the resume of the last 200 successful candidates who match the requiremants and got the job they applied for.\n",
    "\n",
    "Out of those candidates,45% have the relevant experience, \n",
    "P( EXP) = 45%, in addition 60% has good grades , further more we know that out of the 45% who has relevant experience,50% also performed well academically.\n",
    "To avoid any harsh decisions, we need to compute the conditional probabilities of a candidate to have relevant experience provided they have a high GPA"
   ]
  },
  {
   "cell_type": "markdown",
   "id": "aea87a88-1b5e-4840-8da1-607416d0e360",
   "metadata": {},
   "source": [
    "If we use base theorem,we get that the conditional probability of a candidate performing well academically to have relevant experience is 0.5 x 0.4 / 0.6 ~ 0.375.\n",
    "\n",
    "Since 0.5 is greater than 0.375 then it is more likely for experienced candidates to excel acacdemically than for a student with high grade to have the required working pedigre.\n",
    "\n",
    "Thus, candidates who have internships are more likely to also have a high GPA.Therefore , firms are much more likely to get their ideal candidate if they go for someone who hase experience rather than somebody who thrieved academically.\n",
    "Good thing online courses are completely different category"
   ]
  },
  {
   "cell_type": "markdown",
   "id": "b16269b0-7435-46b3-a01e-b470edcbf7d9",
   "metadata": {},
   "source": [
    "Mathematical representation"
   ]
  },
  {
   "cell_type": "raw",
   "id": "adc0c5a3-04d2-42eb-a83a-703691607310",
   "metadata": {},
   "source": [
    "P(EXP) = 45%\n",
    "P(A+)  = 65%\n",
    "P(A+|EXP) = 50%\n",
    "P(EXP|A+) = ?"
   ]
  },
  {
   "cell_type": "raw",
   "id": "aeca29df-6ec4-4cd9-a42b-565fd2bf5da5",
   "metadata": {},
   "source": [
    "P(EXP|A+) = P(A+|EXP)  x P(EXP) /  P(A+) \n",
    "\n",
    "P(EXP|A+) = 0.5 x 0.4 / 0.6 ~ 0.375.\n",
    "P(EXP|A+) = 0.375 < P(A+|EXP) = 0.5"
   ]
  },
  {
   "cell_type": "markdown",
   "id": "37e74d84-9062-48f5-a926-d3801ecf1c80",
   "metadata": {},
   "source": [
    "#### Applied Bayes' Theorem to independent events"
   ]
  },
  {
   "cell_type": "markdown",
   "id": "429f815c-9968-4fa5-ba82-250e1e8fdc69",
   "metadata": {},
   "source": [
    "Take this two events, the weather being sunny and your code not working, you can always try and blame it on the sun being too bright but deep down you know the weather has nothing to do with your code not compiling.\n",
    "\n",
    "Similarly, rain wind and snow are seldom affected by how well your algorithm performs.\n",
    "To be more specific, imagine you know the following\n",
    "the probabiliyt of your code working is  0.3\n",
    "P(CW) = 0.3\n",
    "the likelihood of it being sunny tommorrow is 0.4\n",
    "P(SUNNY) = 0.4\n",
    "since the two events are independent the probability of sunshine provided yur code works is also 0.4\n",
    "P(SUUNY|CW) = 0.4"
   ]
  },
  {
   "cell_type": "raw",
   "id": "2b0a0a8e-72d3-4db0-a100-0b77750e8567",
   "metadata": {},
   "source": [
    "If we plug these values into Bayes' Theorem\n",
    "P(A|B) = P(B|A) X P(A) / P(B)\n",
    "\n",
    "P(CW|SUNNY) = P(SUUNY|CW) x P(CW) / P(SUNNY)  \n",
    "P(CW|SUNNY) = 0.4 X 0.3 / 0.4   = 0.3"
   ]
  },
  {
   "cell_type": "markdown",
   "id": "760958e0-0b9d-44e4-bfb7-d39c2be0522e",
   "metadata": {},
   "source": [
    "This results aligns with our suspicion that your code performing as intended neither increase or decrease based on the weather"
   ]
  },
  {
   "cell_type": "markdown",
   "id": "cb851b87-aef7-40ee-968e-88b277583ea7",
   "metadata": {},
   "source": [
    "#### Practical Example - Bayesian Inference"
   ]
  },
  {
   "cell_type": "markdown",
   "id": "55967a9a-54b7-444e-8b10-9039620fcdcd",
   "metadata": {},
   "source": [
    "#### Real - world data"
   ]
  },
  {
   "cell_type": "markdown",
   "id": "deb89b6b-d513-449e-8d1e-fce0f5085311",
   "metadata": {},
   "source": [
    "We will be examing sudents population statistics of the Hamilton college during the 2017 -2018 academic year. \n",
    "We will apply Bayes' Law \n",
    "To determine whether the college is successful in diversifying its students population \n",
    "Since the college only provide a 4 years program, a representtion greter than 25% will represent a higher than average  value"
   ]
  },
  {
   "cell_type": "markdown",
   "id": "ed175be2-a05b-4f6e-9ed8-c81fafe7e060",
   "metadata": {},
   "source": [
    "To conduct our analysis ,we are going to examine the common data set for Hamilton college for the year 2017 -2018 acacdemic year.\n",
    "\n",
    "The common daset or CDS for short is a free public dataset of summarized statistics about the demography of the students attending a given college.\n",
    "A new dataset is released after the start of every new academic year.\n",
    "Thes sets are available for public use and can be assessed either through the college board website or through the specific college you are interested in "
   ]
  },
  {
   "cell_type": "markdown",
   "id": "e4120cb8-2e7b-4d10-940a-639b5244b839",
   "metadata": {},
   "source": [
    "We visited Hamilton college and tyed in cds into the search bar and from the result we choose the one for 2017/2018 academic year,\n",
    "Section A is titled general information and includes general information about the college, like contact informaton ,it is important in general but not relevant to what we want to achieve."
   ]
  },
  {
   "cell_type": "markdown",
   "id": "8f2ac7fb-160c-496d-ac0c-cd4767078271",
   "metadata": {},
   "source": [
    "The page we are interested in is Enrollment and  Persistence and it showcases enrollment in the college divided into different categories."
   ]
  },
  {
   "cell_type": "code",
   "execution_count": null,
   "id": "c5f63b4e-288a-4e51-bbc9-776af8b8e16a",
   "metadata": {},
   "outputs": [],
   "source": [
    "                      ENROLLMENT AND PERSISTENCE"
   ]
  },
  {
   "cell_type": "markdown",
   "id": "12a3cf31-853d-40e6-8264-5d4b0382a58b",
   "metadata": {},
   "source": [
    "Institutional Enrollment : Men and Women provide number of students for each of the following categories as of the institutions official reporting date or as of october,15th  2017.\n",
    "Note: Report students formerly designed as \"first professionals in the graduate calls\""
   ]
  },
  {
   "cell_type": "raw",
   "id": "93ac4822-c530-4463-8403-9138d93f5218",
   "metadata": {},
   "source": [
    " B1                                            FULL-TIME                    PART -TIME\n",
    "                                             MEN         WOMEN            MEN        WOMEN\n",
    "        UNDERGRADUATES\n",
    "        \n",
    "    Degrees seeking first time freshmen       217         263 \n",
    "    Other First Year Degree Seeking \n",
    "    All degree -seeking                       669         736\n",
    "    Total Degree                              886         999              0          0\n",
    "    All other Undergraduates enrolled in      0           1                2           9\n",
    "    in credit courses\n",
    "    Total Undergraduates                      886        1000              2            9\n",
    "    GRADUATES        \n",
    "    Degree Seeking First time\n",
    "    All other Degree seeking \n",
    "    All other graduates enrolled in credit\n",
    "    courses\n",
    "    TOTAL GRADUATES                               0           0              0           0\n",
    "    TOTAL UNDERGRADUATES                                                                 1897\n",
    "    TOTAL GRADUATES                                                                        0\n",
    "    GRAND TOTAL OF ALL STUDENTS                                                          1897"
   ]
  },
  {
   "cell_type": "markdown",
   "id": "3885ebc4-d0ca-4413-ba74-b72dc0caf94d",
   "metadata": {},
   "source": [
    "Analysis the table represents male and female undergraduates students of hamilton college\n",
    "The number 217 is part of the first column in the first row, the people included are simultaneously 'full time male degree seeking first time fresh men'.\n",
    "\n",
    "In a bayesian sence this 217 male students represents the intersection of the set denoted on the first row and the first column.\n",
    "Let's observe the total 'undergraduate row', it includes all degree seeking and al other students enrolled in credit courses. this means that the value '1000' we observed  in the 6th row on the second column is the union of all full time undergraduate women in the college. Since there are no graduate students '1000' is the union of all the full time women in the entire college.\n",
    "The union of all women both full time and part time will be 1000 plus 9 or 1009 . \n",
    "\n",
    "This is true because no student will be simultaneously part time and full time.\n",
    "A bayesian way of expressing this relationship will be to say that the set of part time and full time are mutually exclusive.Additionally we have 886 plus 2 or 888 male stusents atending the college. Below the table we are provided with a total number of all the students which is 1897.\n",
    "Since there are 1009 women and 888 men. they combine to complete the sample space."
   ]
  },
  {
   "cell_type": "markdown",
   "id": "79bb13c6-4d64-46d1-b767-11b13dc7c6a9",
   "metadata": {},
   "source": [
    "Furthermore , due to the nature of the survey nobody was allowed to mark any answer different from male or female so the two sets have no overlaping element and satisfying both conditions means that the two sets are compliments."
   ]
  },
  {
   "cell_type": "markdown",
   "id": "6da807b6-62a7-45a2-82a4-819a932e2c5a",
   "metadata": {},
   "source": [
    "ENROLLMENT BY RACIAL / ETHNIC CATEGORY : provide numbers of undergraduate students for each of the following categories as of the institutions, official full reporting date or as of october , 15 ,2017, includes international students only in th category \"Non residents aliens\", \"Complete the total Undergraduate column only if you cannot provide data for the first two columns.\n",
    "\n",
    "Report as your institution reports in IPEDS : Persons who are HISPANIC should be reported only on the Hispanic line ,not under any race, and persons who are non Hispanic multi - racial should be reported only under \"Two or more races\"."
   ]
  },
  {
   "cell_type": "raw",
   "id": "a55b228a-f3de-4400-9db0-e5942c4cae56",
   "metadata": {},
   "source": [
    "B2                           Degree Seeking          Degre Seeking              Total                                                                                              Undergraduate\n",
    "                            First-Time              Undergraduate \n",
    "                            First year              (First -Time First Year)   (both degree and                                                                                 non degree seeking)\n",
    "Non Resident Aliens             31                            121 \n",
    "\n",
    "Hispanic/Latino                 57                            167\n",
    "\n",
    "Black or African American       26                            80\n",
    "Non- Hispanic\n",
    "\n",
    "White ,non Hispanic                    284                          1200\n",
    "\n",
    "American Indian or Alaska        0                             1\n",
    "Native, non - Hispanic\n",
    "\n",
    "Asian, non- Hispanic             34                           135\n",
    "\n",
    "Native Hawaiian or other\n",
    "Pacificic Islander non-\n",
    "Hispanic                         0                            0\n",
    "\n",
    "Two or More Races non -\n",
    "Hispanic                         26                          74\n",
    "\n",
    "Race and/or ethnicity\n",
    "Unkonwn                          22                            107\n",
    "\n",
    "TOTAL                           480                           1885                0                                                             "
   ]
  },
  {
   "cell_type": "markdown",
   "id": "275f3c35-18c4-46ca-af7c-e1c0b8c52a79",
   "metadata": {},
   "source": [
    "we will be using Bayes law to determine whether students body is successfully deversifying its population therefore we need to use the table to determine whether the freshmen class is more diversified than the average for the specific ethnicity.\n",
    "To do so , we need to be able to accurately compute the appropriate size of each set you are interested in."
   ]
  },
  {
   "cell_type": "markdown",
   "id": "83c4b5c2-54f5-459f-834c-c18cc7dfd76c",
   "metadata": {},
   "source": [
    "Let Event A be for a degree Seeking First First year student and Event B be for \"Black American Non -Hispanic\" . For convenience, we are going to refer to elemnts of A as (First Years ) and Elements of B as (Black).\n",
    "\n",
    "Sice we have a total of 1897 students and 480 of them are first years, then the probability of being a first years = 480 / 1897 or 0.253"
   ]
  },
  {
   "cell_type": "raw",
   "id": "22bfc985-9746-421d-b631-e070067f9fd3",
   "metadata": {},
   "source": [
    "All students = 1897\n",
    "first years = 480\n",
    "P(A) =  480 / 1897  = 0.253"
   ]
  },
  {
   "cell_type": "markdown",
   "id": "4e56fae4-2c76-4d3d-962a-94d0a69a3eb1",
   "metadata": {},
   "source": [
    "This suggests that approximately 25.3% students body are freshmen."
   ]
  },
  {
   "cell_type": "markdown",
   "id": "3dcd4050-0627-4521-b81f-0d7a562b17f0",
   "metadata": {},
   "source": [
    "Similarly we can estimate the probability of a random student at the institution being an African American Non-Hispanic, this will equal 80/ 1897 or 0.042"
   ]
  },
  {
   "cell_type": "raw",
   "id": "08054f79-1974-4247-9912-1c1078c1b6d7",
   "metadata": {},
   "source": [
    "All students = 1897\n",
    "Black = 80\n",
    "P(B) =  80 / 1897  = 0.042 or close to 4.2%"
   ]
  },
  {
   "cell_type": "markdown",
   "id": "fd4f9b66-b0b6-4a31-aeac-e41e19351288",
   "metadata": {},
   "source": [
    "Now the intersection of A and B will represent all black first year students, going back to the table only 26 students represents both demographics.\n",
    "The probability of being a black first year student is 26 over 1897 or 0.014 which is close to 1.4%"
   ]
  },
  {
   "cell_type": "raw",
   "id": "147cf6eb-e0f2-4cb7-b6a2-221fb6902d5d",
   "metadata": {},
   "source": [
    "All students = 1897\n",
    "Black and first Year = 26\n",
    "P(AnB) = 26 /1897 = 0.014\n",
    "~  1.4%"
   ]
  },
  {
   "cell_type": "markdown",
   "id": "14fbca09-24fa-48db-be5d-46fb2500f2b1",
   "metadata": {},
   "source": [
    "We know the likelihood of a student being African - American and we know the chance of a random student being both black and a Freshman thus we can use the conditional probability to see that the likelihood of a black student (80) being in his first year of the college (26) is 26/80 or 0.325 ~ 32.5%.\n",
    "This value is significantly greater than the expected average of 0.25% so we can see a rising trend in the representation of minority in the students population."
   ]
  },
  {
   "cell_type": "raw",
   "id": "d768efe2-143f-4331-bff5-e93abb20466c",
   "metadata": {},
   "source": [
    "Black = 80\n",
    "Black and first year = 26\n",
    "P(A|B) = 26 / 80  = 0.325 ~ 32.5%"
   ]
  },
  {
   "cell_type": "markdown",
   "id": "cccdb45d-8845-48bd-a7ca-06324793ac10",
   "metadata": {},
   "source": [
    "The union of A and B (A U B) represents all students who are either 'First - Time First Years or Black\""
   ]
  },
  {
   "cell_type": "markdown",
   "id": "9e842ce0-303a-44a9-9d5c-d61e7413750a",
   "metadata": {},
   "source": [
    "We know that there are 480 first year students, 80 blacks and 26 first year black students, to find the number of students within the union of A  anf B we would pply the addictive law.\n",
    "\n",
    "Acording to the Addictive rule , we will have 480 plus 80 minus 26 which is equal to 534 students that are either freshmen or black."
   ]
  },
  {
   "cell_type": "raw",
   "id": "04889af9-4fcb-4e3f-9c71-41b85fab43a6",
   "metadata": {},
   "source": [
    "Using the Addictive law\n",
    "First year = 480\n",
    "Black = 80\n",
    "Black & First Year  = 26\n",
    "P(A U B)  = 480 + 80 - 26  = 534"
   ]
  },
  {
   "cell_type": "markdown",
   "id": "e945a686-f71e-405c-b86b-2982da4b250e",
   "metadata": {},
   "source": [
    "Once again we will find the probability of being part of the union by dividing the size of the union by the size of the sample space ie \n",
    "534 / 1897 = 0.281\n",
    "This indicates that 28.1% of the student's body is either a freshmen or identified as black."
   ]
  },
  {
   "cell_type": "markdown",
   "id": "e0e864d6-f0b6-452c-bfcd-4e4371720c22",
   "metadata": {},
   "source": [
    "Suppose C represents a set of all Hispanic Latino students, since Event B clearly said Non Hispanic, then the two must be mutually exclusive, hence the intersection of the two is the empty set but there union equals the sum of their element.\n",
    "Therefore according to the table ,there must be 167 plus 80 = 247 students identified as either African American or Latino"
   ]
  },
  {
   "cell_type": "markdown",
   "id": "3949263f-d47d-4ef9-9b27-539bb6a24068",
   "metadata": {},
   "source": [
    "B = African American, non-Hispanic\n",
    "C = Hispanic/Latino\n",
    "B and  C are mutually exclusive\n",
    "B n C = empty Set\n",
    "B U C = C + B =\n",
    "167 + 80 = 247 "
   ]
  },
  {
   "cell_type": "markdown",
   "id": "bf2dd5e7-f1a6-4ba8-934a-6e2685e9ec03",
   "metadata": {},
   "source": [
    "The probability of picking a random student and name  identifying as either one, is 247 /1897 = 0.13, this is equal to 13%, you can as well find out other once on your own."
   ]
  },
  {
   "cell_type": "raw",
   "id": "a4784a3f-ca5d-47b2-b9d3-09a2bbf5202f",
   "metadata": {},
   "source": [
    "P(BUC) = 247 / 1897 = 0.13 ~ 13%"
   ]
  },
  {
   "cell_type": "markdown",
   "id": "9c7b0b63-0aea-465e-a9d3-64bed6b8c85c",
   "metadata": {},
   "source": [
    "Lets examine some Conditional Probabilities.\n",
    "In table B2, the entire first column only represents values for first year students, therefore, any number we get would represent the size of the intersection of freshmen and another demographic.\n",
    "This is important when we wish to compute conditional probability,recall that the conditional probability formula states that the likelihood of an event occuring given that another event has already occured equals the likelihood of the intersection over the likelihood of the second event.\n"
   ]
  },
  {
   "cell_type": "markdown",
   "id": "aa44cef2-0b10-4ad4-b8b5-92b358710440",
   "metadata": {},
   "source": [
    "A more precise example will be the following , the likelihood of being black given that you are a Freshmen equals the probability of being a black freshmen over the likelihood of being a freshmen.\n",
    "\n",
    "We can also simplify this to "
   ]
  },
  {
   "cell_type": "code",
   "execution_count": null,
   "id": "3e783798-455c-47ff-9424-fcbbfa4af361",
   "metadata": {},
   "outputs": [],
   "source": [
    "A = First Years \n",
    "B = African American, non-Hispanic\n",
    "C = Hispanic/Latino\n",
    "Conditional Probability\n",
    "P(A|B) = P(A n B) / P(B)\n",
    "P(B|A) = P(A n B) / P(A)"
   ]
  },
  {
   "cell_type": "markdown",
   "id": "6e01c7f9-d039-4e5f-b64f-ba154f6caf2d",
   "metadata": {},
   "source": [
    "We can also simplify this to the size of the intersection over the size of the second set, in our example , this will mean .A n B / A = 26 / 480  = 0.054\n",
    "Therefore there is a roughly 5.4 % chance for any freshmen to be identified as black."
   ]
  },
  {
   "cell_type": "raw",
   "id": "54053afc-a639-4fad-a6d9-0e1ba0f737b1",
   "metadata": {},
   "source": [
    "A n B /A = 26 / 480 = 0.054 \n",
    "~ 5.4%"
   ]
  },
  {
   "cell_type": "markdown",
   "id": "ff18bb44-ba09-47ea-ad1f-36cea887c3aa",
   "metadata": {},
   "source": [
    "Similarly, we can compute the likelihood of a given student to be a Hispanic First Year, we can compute the likelihood of being a Latino given you are in your first year at college as well as the likelihood of being a freshmen and apply the multiplication rule."
   ]
  },
  {
   "cell_type": "markdown",
   "id": "df903cd4-53ce-404e-826c-141ea01f89fc",
   "metadata": {},
   "source": [
    "We start by examing event A and C , being  a First year and Being Latino.\n",
    "The likelihood of being Latino given you are a first year equals the number of Latino students who are first years over all first years.\n",
    "According to the table this is 57 /480 = 0.119 ~ 12% approximately."
   ]
  },
  {
   "cell_type": "markdown",
   "id": "1866f0ef-6a71-4215-81a6-1932a4c188a2",
   "metadata": {},
   "source": [
    "Using the Multiplication Rule (conditional probability)\n",
    " A - First Years \n",
    " C - Hispanic/Latino  \n",
    "Multiplication rule\n",
    "P(C|A)\n",
    "P(A)\n",
    "P(A n C) = P(A) P(C|A)\n",
    "\n",
    "P(C|A) = 57 /480 = 0.119  ~ 11.9%"
   ]
  },
  {
   "cell_type": "markdown",
   "id": "b70ba3c7-683d-4a5e-9878-8de0405a7195",
   "metadata": {},
   "source": [
    "Now that we have computed both probabilities, we can now plug the value into the multiplication rule.\n",
    "The probability of being a freshmen is 0.253 and the probability of being a Latino assuming you are a Freshmen is 0.119.\n",
    "By multiplying the two we get 0.03 ~ 3% likelihood of been a Latino first year."
   ]
  },
  {
   "cell_type": "code",
   "execution_count": null,
   "id": "1776500d-5196-4b72-93e1-1ee819dbcca1",
   "metadata": {},
   "outputs": [],
   "source": [
    "Multiplication rule\n",
    "P(A n C) = P(A) P(C|A)\n",
    "P(A n C = 0.253 X 0.119 = 0.03 ~ 3%"
   ]
  },
  {
   "cell_type": "markdown",
   "id": "24076b56-5c4a-4fcd-94c2-da98f2495a5e",
   "metadata": {},
   "source": [
    "What if we want to find out the likelihood of being a freshmen given that you are Hispanic ?\n",
    "We can calculate this using two different ways:\n",
    "1. Using the conditional probability formula like we did earlier\n",
    "2. Bayes' Law"
   ]
  },
  {
   "cell_type": "markdown",
   "id": "88282a89-4255-4f29-8bd0-6daf270ef79d",
   "metadata": {},
   "source": [
    "According to the theorem , the likelihood of being a freshmen assuming you are Hispanic equals the likelihood of being latino given you are a first year multiplied by the probability of being a freshmen over the probability of being Hispanic.\n",
    "Next we estimate the likelihood of being Hispanic which is 167 /1897 = 0.089 ~ 8.9 %"
   ]
  },
  {
   "cell_type": "markdown",
   "id": "88929858-6912-44d3-9793-ac10963a21bc",
   "metadata": {},
   "source": [
    "We have estimated all three of the required probability and they are respectively equal to 0.119 , 0.253 and 0.089 .\n",
    "Plugging these values into the Bayes' formula gives us 0.119 * 0.253 / 0.089 = 0.338 ~ 33.8%\n",
    "This means that there is a 33.8% chance of students who is a first year assumung they are Hispanic.\n",
    "Hence. we can say that a person is more likely to bein first year given they are Hispanic than to be Hispanic given they are Freshmen."
   ]
  },
  {
   "cell_type": "raw",
   "id": "97846ed7-b721-438b-9fa7-490a9567207f",
   "metadata": {},
   "source": [
    "Using Bayes' Law\n",
    "P(A|C) = P(C|A) P(A) /P(C)\n",
    " A - First Years \n",
    " C - Hispanic/Latino\n",
    " \n",
    "To find C which is likelihood of being Hispanic \n",
    "P(C) = total number of hispanic /latino / total sample space\n",
    "P(C) = 167 / 1897 =  0.089\n",
    "we will now plug in the values \n",
    "P(A|C) = (0.119) X 0.253 / 0.089\n",
    "= 0.338 ~ 33.8%\n",
    "P(A|C) > P(C|A)"
   ]
  },
  {
   "cell_type": "markdown",
   "id": "21b3ddec-62db-4348-a9f7-5a2d61aeaf7d",
   "metadata": {},
   "source": [
    "If we think about the faovoured over all formula, this makes sense because there are more Freshmen(480) than Hispanic students in the college(167), such characteristics are much common in small college in up state Newyork, so the insight does not surprise s."
   ]
  },
  {
   "cell_type": "markdown",
   "id": "7ff6538c-876a-4de2-8588-c7eb2139d62e",
   "metadata": {},
   "source": [
    "Phenominal work\n",
    "We examined several tables from the common dataset for hamilton College for the 2017/2018 academic year and our short analysis suggests that the college is improving its minority representation with the current Freshmen Class.\n",
    "However, further research will be required to account for tuition among the students population as well as moving to other colleges within the region.\n",
    "\n",
    "Even though the analysis may not be fully conclusive ,we make full use of our uderstanding of Bayesian notation to read some insight about the data.This shows how important Bayesian inference is in terms of anlytics and understanding the relationship between set and events can help us reach important conclusions."
   ]
  },
  {
   "cell_type": "markdown",
   "id": "332fde76-1e5e-4115-b9a2-3171941cabc4",
   "metadata": {},
   "source": [
    "HOMEWORK\n",
    "Explore  section C1,FIRST TIME,FIRST YEAR (FRESHMAN) ADMISSION\n",
    "compute what is the likelihood of a first time male student to be accepted based on Gender and determine whether being male or female have any affect on your chances of acceptance.\n",
    "\n",
    "Furthermore,determine whether first time frehman(women)where more likely to enroll the first time freshman (men)\n",
    "Clue : to find both of these you need to examine the tables in Part C1 of the CDS\n",
    "\n",
    "Additionally ,you can practice your understanding of probabilities by exploring the values in Table C2 and determine the likelihood of being offered a place in the wait list.\n",
    "\n",
    "Additionally, you can compute the chance of being admitted having accepted a place in the wait list and the likelihood of getting admitted given you were offered a place in the wait list."
   ]
  },
  {
   "cell_type": "markdown",
   "id": "d6dcacc8-d05e-4977-b5c0-a1e399a10e76",
   "metadata": {},
   "source": [
    "TABLE CI  FIRST-TIME ,FIRST-YEAR(FRESHMAN) ADMISSION"
   ]
  },
  {
   "cell_type": "markdown",
   "id": "7f02d05b-48f4-49b4-a285-ccaa37d778b5",
   "metadata": {},
   "source": [
    "C1     APPLICATIONS\n",
    "First-Time ,first-Year(freshman)mStudents: Provide the number of degree -Seeking First- Time, First-Year Students who applied .were admitted, and enrolled (full or - part -time) infall 2017,include rarly decision, early action and students who began studies during Summer in this Cohort.\n",
    "Applicants Should include only those students who fulfilled the requirements for consideration for admission (ie,who completed actionable applications) and who have been notified of one of the following actions: admission, non admission,placement on waiting list, or application withdrawn (by applicant or institution).\n",
    "\n",
    "Addimitted applicants should include wait-listed students who were subsequently offered admission."
   ]
  },
  {
   "cell_type": "raw",
   "id": "224deb5e-2a06-471b-81c4-83a55862288c",
   "metadata": {},
   "source": [
    "Total First -Time, First year (Freshman)Men who applied                         2590\n",
    "Total First -Time, First year (Freshman)Women who applied                       3088\n",
    "\n",
    "Total First -Time, First year (Freshman)Men who were admitted                   634\n",
    "Total First -Time, First year (Freshman)Women who were admitted                 741\n",
    "\n",
    "Total Full- Time,First -Time, First year (Freshman)Men who enrolled             217\n",
    "Total Part- Time,First -Time, First year (Freshman)Men who enrolled              0\n",
    "\n",
    "Total Full- Time,First -Time, First year (Freshman)Women who enrolled            263\n",
    "Total Part- Time,First -Time, First year (Freshman)Women who enrolled             0"
   ]
  },
  {
   "cell_type": "code",
   "execution_count": null,
   "id": "3ccea625-3800-45a4-bb94-7b4aeb225be4",
   "metadata": {},
   "outputs": [],
   "source": [
    "SOLUTION TO QUESTIONS ?????/"
   ]
  },
  {
   "cell_type": "markdown",
   "id": "2dbe862e-b99f-4630-bc03-b1631b6df383",
   "metadata": {},
   "source": [
    "C2  Freshman Wait-listed students (Students who met admission requirements but whose final admission was contigent on space availability."
   ]
  },
  {
   "cell_type": "markdown",
   "id": "a32d0438-b995-493d-a87a-86e5c01a48ef",
   "metadata": {},
   "source": [
    "C2                                                                               YES       NO\n",
    "Do you have a policy of placing students on waiting list?                         X\n",
    "\n",
    "If yes, please anwer the following questions below for fall 2017 admissions:\n",
    "\n",
    "Number of qualified applicants offered a place on waiting list                   1299\n",
    "\n",
    "Number accepting a place on the waiting list                                      629\n",
    "\n",
    "Number of wait listed students admitted                                            33"
   ]
  },
  {
   "cell_type": "raw",
   "id": "19e9985a-0e18-4627-a9a1-52fae948796a",
   "metadata": {},
   "source": [
    "C2                                                                              YES          NO\n",
    "Is your waiting list ranked ?\n",
    "If yes, do you release that information to Students?\n",
    "Do you release that information to schooltl Counselors ?"
   ]
  }
 ],
 "metadata": {
  "kernelspec": {
   "display_name": "Python 3 (ipykernel)",
   "language": "python",
   "name": "python3"
  },
  "language_info": {
   "codemirror_mode": {
    "name": "ipython",
    "version": 3
   },
   "file_extension": ".py",
   "mimetype": "text/x-python",
   "name": "python",
   "nbconvert_exporter": "python",
   "pygments_lexer": "ipython3",
   "version": "3.9.7"
  }
 },
 "nbformat": 4,
 "nbformat_minor": 5
}
